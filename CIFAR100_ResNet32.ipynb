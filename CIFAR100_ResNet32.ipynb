{
  "nbformat": 4,
  "nbformat_minor": 0,
  "metadata": {
    "colab": {
      "name": "CIFAR100_ResNet32.ipynb",
      "provenance": [],
      "authorship_tag": "ABX9TyPwytLD9CE+mlIJcdn0hMa8",
      "include_colab_link": true
    },
    "kernelspec": {
      "name": "python3",
      "display_name": "Python 3"
    },
    "language_info": {
      "name": "python"
    },
    "accelerator": "GPU",
    "widgets": {
      "application/vnd.jupyter.widget-state+json": {
        "d622404f62c646d1a68329b43d72fa4b": {
          "model_module": "@jupyter-widgets/controls",
          "model_name": "HBoxModel",
          "model_module_version": "1.5.0",
          "state": {
            "_dom_classes": [],
            "_model_module": "@jupyter-widgets/controls",
            "_model_module_version": "1.5.0",
            "_model_name": "HBoxModel",
            "_view_count": null,
            "_view_module": "@jupyter-widgets/controls",
            "_view_module_version": "1.5.0",
            "_view_name": "HBoxView",
            "box_style": "",
            "children": [
              "IPY_MODEL_5ed01e550ea84040af46b367b53dc770",
              "IPY_MODEL_ba8ff732893449b88f18b013637431e1",
              "IPY_MODEL_ca3a62944fee48f5a49b0796d88b022f"
            ],
            "layout": "IPY_MODEL_172bbb30c9e84ff79e8c5fa93c367d70"
          }
        },
        "5ed01e550ea84040af46b367b53dc770": {
          "model_module": "@jupyter-widgets/controls",
          "model_name": "HTMLModel",
          "model_module_version": "1.5.0",
          "state": {
            "_dom_classes": [],
            "_model_module": "@jupyter-widgets/controls",
            "_model_module_version": "1.5.0",
            "_model_name": "HTMLModel",
            "_view_count": null,
            "_view_module": "@jupyter-widgets/controls",
            "_view_module_version": "1.5.0",
            "_view_name": "HTMLView",
            "description": "",
            "description_tooltip": null,
            "layout": "IPY_MODEL_d3debfc582cb4410883115c5239e7371",
            "placeholder": "​",
            "style": "IPY_MODEL_4ddb8db81db442f8bb7a8fe218cdca70",
            "value": ""
          }
        },
        "ba8ff732893449b88f18b013637431e1": {
          "model_module": "@jupyter-widgets/controls",
          "model_name": "FloatProgressModel",
          "model_module_version": "1.5.0",
          "state": {
            "_dom_classes": [],
            "_model_module": "@jupyter-widgets/controls",
            "_model_module_version": "1.5.0",
            "_model_name": "FloatProgressModel",
            "_view_count": null,
            "_view_module": "@jupyter-widgets/controls",
            "_view_module_version": "1.5.0",
            "_view_name": "ProgressView",
            "bar_style": "success",
            "description": "",
            "description_tooltip": null,
            "layout": "IPY_MODEL_53d0f945adfe465490faf848eeb80bcd",
            "max": 169001437,
            "min": 0,
            "orientation": "horizontal",
            "style": "IPY_MODEL_8f8c1e7cda4444fdbc548bd9174ec204",
            "value": 169001437
          }
        },
        "ca3a62944fee48f5a49b0796d88b022f": {
          "model_module": "@jupyter-widgets/controls",
          "model_name": "HTMLModel",
          "model_module_version": "1.5.0",
          "state": {
            "_dom_classes": [],
            "_model_module": "@jupyter-widgets/controls",
            "_model_module_version": "1.5.0",
            "_model_name": "HTMLModel",
            "_view_count": null,
            "_view_module": "@jupyter-widgets/controls",
            "_view_module_version": "1.5.0",
            "_view_name": "HTMLView",
            "description": "",
            "description_tooltip": null,
            "layout": "IPY_MODEL_3cb92dd86feb41cca2518a182de875ed",
            "placeholder": "​",
            "style": "IPY_MODEL_8d2144e2388b4356a0bcf86f850878bb",
            "value": " 169001984/? [00:03&lt;00:00, 60825148.86it/s]"
          }
        },
        "172bbb30c9e84ff79e8c5fa93c367d70": {
          "model_module": "@jupyter-widgets/base",
          "model_name": "LayoutModel",
          "model_module_version": "1.2.0",
          "state": {
            "_model_module": "@jupyter-widgets/base",
            "_model_module_version": "1.2.0",
            "_model_name": "LayoutModel",
            "_view_count": null,
            "_view_module": "@jupyter-widgets/base",
            "_view_module_version": "1.2.0",
            "_view_name": "LayoutView",
            "align_content": null,
            "align_items": null,
            "align_self": null,
            "border": null,
            "bottom": null,
            "display": null,
            "flex": null,
            "flex_flow": null,
            "grid_area": null,
            "grid_auto_columns": null,
            "grid_auto_flow": null,
            "grid_auto_rows": null,
            "grid_column": null,
            "grid_gap": null,
            "grid_row": null,
            "grid_template_areas": null,
            "grid_template_columns": null,
            "grid_template_rows": null,
            "height": null,
            "justify_content": null,
            "justify_items": null,
            "left": null,
            "margin": null,
            "max_height": null,
            "max_width": null,
            "min_height": null,
            "min_width": null,
            "object_fit": null,
            "object_position": null,
            "order": null,
            "overflow": null,
            "overflow_x": null,
            "overflow_y": null,
            "padding": null,
            "right": null,
            "top": null,
            "visibility": null,
            "width": null
          }
        },
        "d3debfc582cb4410883115c5239e7371": {
          "model_module": "@jupyter-widgets/base",
          "model_name": "LayoutModel",
          "model_module_version": "1.2.0",
          "state": {
            "_model_module": "@jupyter-widgets/base",
            "_model_module_version": "1.2.0",
            "_model_name": "LayoutModel",
            "_view_count": null,
            "_view_module": "@jupyter-widgets/base",
            "_view_module_version": "1.2.0",
            "_view_name": "LayoutView",
            "align_content": null,
            "align_items": null,
            "align_self": null,
            "border": null,
            "bottom": null,
            "display": null,
            "flex": null,
            "flex_flow": null,
            "grid_area": null,
            "grid_auto_columns": null,
            "grid_auto_flow": null,
            "grid_auto_rows": null,
            "grid_column": null,
            "grid_gap": null,
            "grid_row": null,
            "grid_template_areas": null,
            "grid_template_columns": null,
            "grid_template_rows": null,
            "height": null,
            "justify_content": null,
            "justify_items": null,
            "left": null,
            "margin": null,
            "max_height": null,
            "max_width": null,
            "min_height": null,
            "min_width": null,
            "object_fit": null,
            "object_position": null,
            "order": null,
            "overflow": null,
            "overflow_x": null,
            "overflow_y": null,
            "padding": null,
            "right": null,
            "top": null,
            "visibility": null,
            "width": null
          }
        },
        "4ddb8db81db442f8bb7a8fe218cdca70": {
          "model_module": "@jupyter-widgets/controls",
          "model_name": "DescriptionStyleModel",
          "model_module_version": "1.5.0",
          "state": {
            "_model_module": "@jupyter-widgets/controls",
            "_model_module_version": "1.5.0",
            "_model_name": "DescriptionStyleModel",
            "_view_count": null,
            "_view_module": "@jupyter-widgets/base",
            "_view_module_version": "1.2.0",
            "_view_name": "StyleView",
            "description_width": ""
          }
        },
        "53d0f945adfe465490faf848eeb80bcd": {
          "model_module": "@jupyter-widgets/base",
          "model_name": "LayoutModel",
          "model_module_version": "1.2.0",
          "state": {
            "_model_module": "@jupyter-widgets/base",
            "_model_module_version": "1.2.0",
            "_model_name": "LayoutModel",
            "_view_count": null,
            "_view_module": "@jupyter-widgets/base",
            "_view_module_version": "1.2.0",
            "_view_name": "LayoutView",
            "align_content": null,
            "align_items": null,
            "align_self": null,
            "border": null,
            "bottom": null,
            "display": null,
            "flex": null,
            "flex_flow": null,
            "grid_area": null,
            "grid_auto_columns": null,
            "grid_auto_flow": null,
            "grid_auto_rows": null,
            "grid_column": null,
            "grid_gap": null,
            "grid_row": null,
            "grid_template_areas": null,
            "grid_template_columns": null,
            "grid_template_rows": null,
            "height": null,
            "justify_content": null,
            "justify_items": null,
            "left": null,
            "margin": null,
            "max_height": null,
            "max_width": null,
            "min_height": null,
            "min_width": null,
            "object_fit": null,
            "object_position": null,
            "order": null,
            "overflow": null,
            "overflow_x": null,
            "overflow_y": null,
            "padding": null,
            "right": null,
            "top": null,
            "visibility": null,
            "width": null
          }
        },
        "8f8c1e7cda4444fdbc548bd9174ec204": {
          "model_module": "@jupyter-widgets/controls",
          "model_name": "ProgressStyleModel",
          "model_module_version": "1.5.0",
          "state": {
            "_model_module": "@jupyter-widgets/controls",
            "_model_module_version": "1.5.0",
            "_model_name": "ProgressStyleModel",
            "_view_count": null,
            "_view_module": "@jupyter-widgets/base",
            "_view_module_version": "1.2.0",
            "_view_name": "StyleView",
            "bar_color": null,
            "description_width": ""
          }
        },
        "3cb92dd86feb41cca2518a182de875ed": {
          "model_module": "@jupyter-widgets/base",
          "model_name": "LayoutModel",
          "model_module_version": "1.2.0",
          "state": {
            "_model_module": "@jupyter-widgets/base",
            "_model_module_version": "1.2.0",
            "_model_name": "LayoutModel",
            "_view_count": null,
            "_view_module": "@jupyter-widgets/base",
            "_view_module_version": "1.2.0",
            "_view_name": "LayoutView",
            "align_content": null,
            "align_items": null,
            "align_self": null,
            "border": null,
            "bottom": null,
            "display": null,
            "flex": null,
            "flex_flow": null,
            "grid_area": null,
            "grid_auto_columns": null,
            "grid_auto_flow": null,
            "grid_auto_rows": null,
            "grid_column": null,
            "grid_gap": null,
            "grid_row": null,
            "grid_template_areas": null,
            "grid_template_columns": null,
            "grid_template_rows": null,
            "height": null,
            "justify_content": null,
            "justify_items": null,
            "left": null,
            "margin": null,
            "max_height": null,
            "max_width": null,
            "min_height": null,
            "min_width": null,
            "object_fit": null,
            "object_position": null,
            "order": null,
            "overflow": null,
            "overflow_x": null,
            "overflow_y": null,
            "padding": null,
            "right": null,
            "top": null,
            "visibility": null,
            "width": null
          }
        },
        "8d2144e2388b4356a0bcf86f850878bb": {
          "model_module": "@jupyter-widgets/controls",
          "model_name": "DescriptionStyleModel",
          "model_module_version": "1.5.0",
          "state": {
            "_model_module": "@jupyter-widgets/controls",
            "_model_module_version": "1.5.0",
            "_model_name": "DescriptionStyleModel",
            "_view_count": null,
            "_view_module": "@jupyter-widgets/base",
            "_view_module_version": "1.2.0",
            "_view_name": "StyleView",
            "description_width": ""
          }
        }
      }
    }
  },
  "cells": [
    {
      "cell_type": "markdown",
      "metadata": {
        "id": "view-in-github",
        "colab_type": "text"
      },
      "source": [
        "<a href=\"https://colab.research.google.com/github/MohebZandi/Comupter_Vision/blob/main/CIFAR100_ResNet32.ipynb\" target=\"_parent\"><img src=\"https://colab.research.google.com/assets/colab-badge.svg\" alt=\"Open In Colab\"/></a>"
      ]
    },
    {
      "cell_type": "code",
      "source": [
        "import torch\n",
        "import torchvision\n",
        "import torchvision.transforms as transforms"
      ],
      "metadata": {
        "id": "wDvIjXQE4xRR"
      },
      "execution_count": 2,
      "outputs": []
    },
    {
      "cell_type": "code",
      "source": [
        "# Write one custom transform: RandomHorizontalFlip\n",
        "\n",
        "from PIL import Image\n",
        "import random\n",
        "\n",
        "class RandomHorizontalFlip(object):\n",
        "    \"\"\"Horizontally flip the given PIL Image randomly with a given probability.\n",
        "    Args:\n",
        "        p (float): probability of the image being flipped. Default value is 0.5\n",
        "    \"\"\"\n",
        "\n",
        "    def __init__(self, p=0.5):\n",
        "        self.p = p\n",
        "    \n",
        "    def __call__(self, img):\n",
        "        \"\"\"\n",
        "        Args:\n",
        "            img (PIL Image): Image to be flipped.\n",
        "        Returns:\n",
        "            PIL Image: Randomly flipped image.\n",
        "        \"\"\"\n",
        "        if random.random() < self.p:\n",
        "            img = img.transpose(Image.FLIP_LEFT_RIGHT)\n",
        "\n",
        "        return img"
      ],
      "metadata": {
        "id": "BwE41ssU7gPI"
      },
      "execution_count": 3,
      "outputs": []
    },
    {
      "cell_type": "code",
      "source": [
        "batch_size = 256\n",
        "input_size=32\n",
        "\n",
        "data_transforms = {\n",
        "    'train': transforms.Compose([\n",
        "        RandomHorizontalFlip(0.5),\n",
        "        transforms.RandomCrop(32, 4),\n",
        "        transforms.ToTensor(),\n",
        "        transforms.Normalize([0.485, 0.456, 0.406], [0.229, 0.224, 0.225])\n",
        "    ]),\n",
        "    'test': transforms.Compose([\n",
        "        transforms.Resize(input_size),\n",
        "        transforms.CenterCrop(input_size),\n",
        "        transforms.ToTensor(),\n",
        "        transforms.Normalize([0.485, 0.456, 0.406], [0.229, 0.224, 0.225])\n",
        "    ]),\n",
        "}\n",
        "\n",
        "trainset = torchvision.datasets.CIFAR100(root='./data/CIFAR100', train=True,\n",
        "                                        download=True, transform=data_transforms[\"train\"])\n",
        "\n",
        "trainloader = torch.utils.data.DataLoader(trainset, batch_size=batch_size,\n",
        "                                          shuffle=True, num_workers=2)\n",
        "\n",
        "testset = torchvision.datasets.CIFAR100(root='./data/CIFAR100', train=False,\n",
        "                                       download=True, transform=data_transforms[\"test\"])\n",
        "\n",
        "testloader = torch.utils.data.DataLoader(testset, batch_size=batch_size,\n",
        "                                         shuffle=False, num_workers=2)\n",
        "\n",
        "classes = ('apples', 'aquarium fish', 'baby', 'bear', 'beaver', 'bed', 'bee', 'beetle', 'bicycle', 'bottles', \n",
        "           'bowls', 'boy', 'bridge', 'bus', 'butterfly', 'camel', 'cans', 'castle', 'caterpillar', 'cattle', 'chair', \n",
        "           'chimpanzee', 'clock', 'cloud', 'cockroach', 'computer keyboard', 'couch', 'crab', 'crocodile', \n",
        "           'cups', 'dinosaur', 'dolphin', 'elephant', 'flatfish', 'forest', 'fox', 'girl', 'hamster', 'house', \n",
        "           'kangaroo', 'lamp', 'lawn-mower', 'leopard', 'lion', 'lizard', 'lobster', 'man', 'maple', 'motorcycle', \n",
        "           'mountain', 'mouse', 'mushrooms', 'oak', 'oranges', 'orchids', 'otter', 'palm', 'pears', 'pickup truck', \n",
        "           'pine', 'plain', 'plates', 'poppies', 'porcupine', 'possum', 'rabbit', 'raccoon', 'ray', 'road', 'rocket', \n",
        "           'roses', 'sea', 'seal', 'shark', 'shrew', 'skunk', 'skyscraper', 'snail', 'snake', 'spider', 'squirrel', \n",
        "           'streetcar', 'sunflowers', 'sweet peppers', 'table', 'tank', 'telephone', 'television', 'tiger', 'tractor',\n",
        "           'train', 'trout', 'tulips', 'turtle', 'wardrobe', 'whale', 'willow', 'wolf', 'woman', 'worm')"
      ],
      "metadata": {
        "colab": {
          "base_uri": "https://localhost:8080/",
          "height": 103,
          "referenced_widgets": [
            "d622404f62c646d1a68329b43d72fa4b",
            "5ed01e550ea84040af46b367b53dc770",
            "ba8ff732893449b88f18b013637431e1",
            "ca3a62944fee48f5a49b0796d88b022f",
            "172bbb30c9e84ff79e8c5fa93c367d70",
            "d3debfc582cb4410883115c5239e7371",
            "4ddb8db81db442f8bb7a8fe218cdca70",
            "53d0f945adfe465490faf848eeb80bcd",
            "8f8c1e7cda4444fdbc548bd9174ec204",
            "3cb92dd86feb41cca2518a182de875ed",
            "8d2144e2388b4356a0bcf86f850878bb"
          ]
        },
        "id": "dStSFpYj7VvI",
        "outputId": "864c2760-30ce-4665-89eb-33494df3ce58"
      },
      "execution_count": 4,
      "outputs": [
        {
          "output_type": "stream",
          "name": "stdout",
          "text": [
            "Downloading https://www.cs.toronto.edu/~kriz/cifar-100-python.tar.gz to ./data/CIFAR100/cifar-100-python.tar.gz\n"
          ]
        },
        {
          "output_type": "display_data",
          "data": {
            "text/plain": [
              "  0%|          | 0/169001437 [00:00<?, ?it/s]"
            ],
            "application/vnd.jupyter.widget-view+json": {
              "version_major": 2,
              "version_minor": 0,
              "model_id": "d622404f62c646d1a68329b43d72fa4b"
            }
          },
          "metadata": {}
        },
        {
          "output_type": "stream",
          "name": "stdout",
          "text": [
            "Extracting ./data/CIFAR100/cifar-100-python.tar.gz to ./data/CIFAR100\n",
            "Files already downloaded and verified\n"
          ]
        }
      ]
    },
    {
      "cell_type": "code",
      "source": [
        "# let's visualize some examples\n",
        "import matplotlib.pyplot as plt\n",
        "import numpy as np"
      ],
      "metadata": {
        "id": "T2xuYnFm7bRD"
      },
      "execution_count": 5,
      "outputs": []
    },
    {
      "cell_type": "code",
      "source": [
        "def imshow(img):\n",
        "    img = img / 2 + 0.5     # unnormalize\n",
        "    npimg = img.numpy()\n",
        "    plt.imshow(np.transpose(npimg, (1, 2, 0)))\n",
        "    plt.show()"
      ],
      "metadata": {
        "id": "5l8sQa3C7lLw"
      },
      "execution_count": 6,
      "outputs": []
    },
    {
      "cell_type": "code",
      "source": [
        "# get some random training images\n",
        "dataiter = iter(testloader)\n",
        "images, labels = dataiter.next()\n",
        "\n",
        "print(len(trainloader))\n",
        "print(images.shape)\n",
        "print(labels.shape)\n",
        "print(labels)\n",
        "# show images\n",
        "imshow(torchvision.utils.make_grid(images))\n",
        "# print labels\n",
        "print(' '.join('%5s' % classes[labels[j]] for j in range(batch_size)))"
      ],
      "metadata": {
        "colab": {
          "base_uri": "https://localhost:8080/",
          "height": 652
        },
        "id": "qYvmc3Xv7nvV",
        "outputId": "a5400237-18e3-4e2b-ddd2-d2422568d24f"
      },
      "execution_count": 7,
      "outputs": [
        {
          "output_type": "stream",
          "name": "stderr",
          "text": [
            "Clipping input data to the valid range for imshow with RGB data ([0..1] for floats or [0..255] for integers).\n"
          ]
        },
        {
          "output_type": "stream",
          "name": "stdout",
          "text": [
            "196\n",
            "torch.Size([256, 3, 32, 32])\n",
            "torch.Size([256])\n",
            "tensor([49, 33, 72, 51, 71, 92, 15, 14, 23,  0, 71, 75, 81, 69, 40, 43, 92, 97,\n",
            "        70, 53, 70, 49, 75, 29, 21, 16, 39,  8,  8, 70, 20, 61, 41, 93, 56, 73,\n",
            "        58, 11, 25, 37, 63, 24, 49, 73, 56, 22, 41, 58, 75, 17,  4,  6,  9, 57,\n",
            "         2, 32, 71, 52, 42, 69, 77, 27, 15, 65,  7, 35, 43, 82, 63, 92, 66, 90,\n",
            "        67, 91, 32, 32, 82, 10, 77, 22, 71, 78, 54,  6, 29, 89, 78, 33, 11, 67,\n",
            "        22, 18, 27, 21, 13, 21, 50, 75, 37, 35, 26, 83, 47, 95, 43, 69, 76, 17,\n",
            "        57, 59, 25, 20, 27,  0,  9, 71,  8, 43, 57, 56, 85, 10, 19, 92, 33, 20,\n",
            "        21, 50, 70, 46, 11, 16,  1, 74, 33, 91, 60, 64, 52, 23,  4, 11, 52, 37,\n",
            "        24, 95, 25, 39, 51, 58, 58, 77, 18, 59, 45, 66, 58, 20, 24,  4, 36,  8,\n",
            "        87, 10, 30, 47, 54, 99, 51, 83,  9, 37,  4, 83, 95, 83, 32, 73, 18, 40,\n",
            "        39, 64, 22, 80, 28, 28, 40, 95, 98, 83, 12, 24, 45, 13, 94, 24, 58, 63,\n",
            "         7, 87,  6, 78, 68, 60,  6, 23, 44, 31, 80, 93, 73, 98, 49, 90, 97, 59,\n",
            "         2, 67, 16, 81, 94, 27, 76, 77, 12, 18,  0, 76, 79, 71, 89, 57, 47, 24,\n",
            "        65,  0, 32, 36, 82, 31, 23, 24, 34, 21, 11, 53, 80, 44,  4, 39, 91, 16,\n",
            "        36, 68, 50, 97])\n"
          ]
        },
        {
          "output_type": "display_data",
          "data": {
            "text/plain": [
              "<Figure size 432x288 with 1 Axes>"
            ],
            "image/png": "[encoded data removed]"
          },
          "metadata": {
            "needs_background": "light"
          }
        },
        {
          "output_type": "stream",
          "name": "stdout",
          "text": [
            "mountain flatfish  seal mushrooms   sea tulips camel butterfly cloud apples   sea skunk streetcar rocket  lamp  lion tulips  wolf roses oranges roses mountain skunk  cups chimpanzee  cans kangaroo bicycle bicycle roses chair plates lawn-mower turtle  palm shark pickup truck   boy computer keyboard hamster porcupine cockroach mountain shark  palm clock lawn-mower pickup truck skunk castle beaver   bee bottles pears  baby elephant   sea   oak leopard rocket snail  crab camel rabbit beetle   fox  lion sunflowers porcupine tulips raccoon train   ray trout elephant elephant sunflowers bowls snail clock   sea snake orchids   bee  cups tractor snake flatfish   boy   ray clock caterpillar  crab chimpanzee   bus chimpanzee mouse skunk hamster   fox couch sweet peppers maple whale  lion rocket skyscraper castle pears  pine computer keyboard chair  crab apples bottles   sea bicycle  lion pears  palm  tank bowls cattle tulips flatfish chair chimpanzee mouse roses   man   boy  cans aquarium fish shrew flatfish trout plain possum   oak cloud beaver   boy   oak hamster cockroach whale computer keyboard kangaroo mushrooms pickup truck pickup truck snail caterpillar  pine lobster raccoon pickup truck chair cockroach beaver  girl bicycle television bowls dinosaur maple orchids  worm mushrooms sweet peppers bottles hamster beaver sweet peppers whale sweet peppers elephant shark caterpillar  lamp kangaroo possum clock squirrel crocodile crocodile  lamp whale woman sweet peppers bridge cockroach lobster   bus wardrobe cockroach pickup truck porcupine beetle television   bee snake  road plain   bee cloud lizard dolphin squirrel turtle shark woman mountain train  wolf  pine  baby   ray  cans streetcar wardrobe  crab skyscraper snail bridge caterpillar apples skyscraper spider   sea tractor pears maple cockroach rabbit apples elephant  girl sunflowers dolphin cloud cockroach forest chimpanzee   boy oranges squirrel lizard beaver kangaroo trout  cans  girl  road mouse  wolf\n"
          ]
        }
      ]
    },
    {
      "cell_type": "code",
      "source": [
        "# if you want to train on GPU:\n",
        "device = torch.device(\"cuda:0\" if torch.cuda.is_available() else \"cpu\")\n",
        "\n",
        "print(device)"
      ],
      "metadata": {
        "colab": {
          "base_uri": "https://localhost:8080/"
        },
        "id": "tjXynnlG7qh_",
        "outputId": "edfd57c7-d20e-47be-d472-39a254646613"
      },
      "execution_count": 8,
      "outputs": [
        {
          "output_type": "stream",
          "name": "stdout",
          "text": [
            "cuda:0\n"
          ]
        }
      ]
    },
    {
      "cell_type": "code",
      "source": [
        "# Define CIFAR ResNet impementations from https://arxiv.org/abs/1512.03385\n",
        "import torch\n",
        "import torch.nn as nn\n",
        "import torch.nn.functional as F\n",
        "import torch.nn.init as init\n",
        "\n",
        "from torch.autograd import Variable\n",
        "\n",
        "def _weights_init(m):\n",
        "    classname = m.__class__.__name__\n",
        "    #print(classname)\n",
        "    if isinstance(m, nn.Linear) or isinstance(m, nn.Conv2d):\n",
        "        init.kaiming_normal_(m.weight)\n",
        "\n",
        "class LambdaLayer(nn.Module):\n",
        "    def __init__(self, lambd):\n",
        "        super(LambdaLayer, self).__init__()\n",
        "        self.lambd = lambd\n",
        "\n",
        "    def forward(self, x):\n",
        "        return self.lambd(x)\n",
        "\n",
        "\n",
        "class BasicBlock(nn.Module):\n",
        "    expansion = 1\n",
        "\n",
        "    def __init__(self, in_planes, planes, stride=1, option='A'):\n",
        "        super(BasicBlock, self).__init__()\n",
        "        self.conv1 = nn.Conv2d(in_planes, planes, kernel_size=3, stride=stride, padding=1, bias=False)\n",
        "        self.bn1 = nn.BatchNorm2d(planes)\n",
        "        self.conv2 = nn.Conv2d(planes, planes, kernel_size=3, stride=1, padding=1, bias=False)\n",
        "        self.bn2 = nn.BatchNorm2d(planes)\n",
        "\n",
        "        self.shortcut = nn.Sequential()\n",
        "        if stride != 1 or in_planes != planes:\n",
        "            if option == 'A':\n",
        "                \"\"\"\n",
        "                For CIFAR10 ResNet paper uses option A.\n",
        "                \"\"\"\n",
        "                self.shortcut = LambdaLayer(lambda x:\n",
        "                                            F.pad(x[:, :, ::2, ::2], (0, 0, 0, 0, planes//4, planes//4), \"constant\", 0))\n",
        "            elif option == 'B':\n",
        "                self.shortcut = nn.Sequential(\n",
        "                     nn.Conv2d(in_planes, self.expansion * planes, kernel_size=1, stride=stride, bias=False),\n",
        "                     nn.BatchNorm2d(self.expansion * planes)\n",
        "                )\n",
        "\n",
        "    def forward(self, x):\n",
        "        out = F.relu(self.bn1(self.conv1(x)))\n",
        "        out = self.bn2(self.conv2(out))\n",
        "        out += self.shortcut(x)\n",
        "        out = F.relu(out)\n",
        "        return out\n",
        "\n",
        "\n",
        "class ResNet(nn.Module):\n",
        "    def __init__(self, block, num_blocks, num_classes=100):\n",
        "        super(ResNet, self).__init__()\n",
        "        self.in_planes = 16\n",
        "\n",
        "        self.conv1 = nn.Conv2d(3, 16, kernel_size=3, stride=1, padding=1, bias=False)\n",
        "        self.bn1 = nn.BatchNorm2d(16)\n",
        "        self.layer1 = self._make_layer(block, 16, num_blocks[0], stride=1)\n",
        "        self.layer2 = self._make_layer(block, 32, num_blocks[1], stride=2)\n",
        "        self.layer3 = self._make_layer(block, 64, num_blocks[2], stride=2)\n",
        "        self.linear = nn.Linear(64, num_classes)\n",
        "\n",
        "        self.apply(_weights_init)\n",
        "\n",
        "    def _make_layer(self, block, planes, num_blocks, stride):\n",
        "        strides = [stride] + [1]*(num_blocks-1)\n",
        "        layers = []\n",
        "        for stride in strides:\n",
        "            layers.append(block(self.in_planes, planes, stride))\n",
        "            self.in_planes = planes * block.expansion\n",
        "\n",
        "        return nn.Sequential(*layers)\n",
        "\n",
        "    def forward(self, x):\n",
        "        out = F.relu(self.bn1(self.conv1(x)))\n",
        "        out = self.layer1(out)\n",
        "        out = self.layer2(out)\n",
        "        out = self.layer3(out)\n",
        "        out = F.avg_pool2d(out, out.size()[3])\n",
        "        out = out.view(out.size(0), -1)\n",
        "        out = self.linear(out)\n",
        "        return out\n",
        "\n",
        "\n",
        "def resnet20(num_classes=100):\n",
        "    return ResNet(BasicBlock, [3, 3, 3], num_classes=num_classes)\n",
        "\n",
        "\n",
        "def resnet32(num_classes=100):\n",
        "    return ResNet(BasicBlock, [5, 5, 5], num_classes=num_classes)\n",
        "\n",
        "\n",
        "def resnet44(num_classes=100):\n",
        "    return ResNet(BasicBlock, [7, 7, 7], num_classes=num_classes)\n",
        "\n",
        "\n",
        "def resnet56(num_classes=100):\n",
        "    return ResNet(BasicBlock, [9, 9, 9], num_classes=num_classes)\n",
        "\n",
        "\n",
        "def resnet110(num_classes=100):\n",
        "    return ResNet(BasicBlock, [18, 18, 18], num_classes=num_classes)\n",
        "\n",
        "\n",
        "def resnet1202(num_classes=100):\n",
        "    return ResNet(BasicBlock, [200, 200, 200], num_classes=num_classes)"
      ],
      "metadata": {
        "id": "MpcleWaO70Zo"
      },
      "execution_count": 9,
      "outputs": []
    },
    {
      "cell_type": "code",
      "source": [
        "learning_rate = 0.1\n",
        "weight_decay = 1e-4\n",
        "\n",
        "model = resnet32(num_classes=100)\n",
        "\n",
        "model.to(device)\n",
        "\n",
        "model.train()\n",
        "\n",
        "# base optimizer with following parameters:\n",
        "import torch.optim as optim\n",
        "\n",
        "criterion = nn.CrossEntropyLoss()\n",
        "optimizer = optim.SGD(model.parameters(), lr=learning_rate, momentum=0.9, weight_decay=weight_decay)\n",
        "\n",
        "lr_scheduler = torch.optim.lr_scheduler.MultiStepLR(\n",
        "    optimizer,\n",
        "    milestones=[100, 150],\n",
        "    last_epoch=-1)"
      ],
      "metadata": {
        "id": "7DCLLqhC8IAB"
      },
      "execution_count": 10,
      "outputs": []
    },
    {
      "cell_type": "code",
      "source": [
        "dataiter = iter(testloader)\n",
        "images, labels = dataiter.next()\n",
        "\n",
        "outputs = model(images.cuda())\n",
        "_, predicted = torch.max(outputs.data, 1)\n",
        "# print images\n",
        "imshow(torchvision.utils.make_grid(images))\n",
        "print('GroundTruth: ', ' '.join('%5s' % classes[labels[j]] for j in range(batch_size)))\n",
        "print('Predicted: ', ' '.join('%5s' % classes[predicted[j]]for j in range(batch_size)))"
      ],
      "metadata": {
        "colab": {
          "base_uri": "https://localhost:8080/",
          "height": 343
        },
        "id": "nouAJ6we7xWH",
        "outputId": "434c7fe1-ef4c-489a-b046-b765dab293f8"
      },
      "execution_count": 11,
      "outputs": [
        {
          "output_type": "stream",
          "name": "stderr",
          "text": [
            "Clipping input data to the valid range for imshow with RGB data ([0..1] for floats or [0..255] for integers).\n"
          ]
        },
        {
          "output_type": "display_data",
          "data": {
            "text/plain": [
              "<Figure size 432x288 with 1 Axes>"
            ],
            "image/png": "[encoded data removed]"
          },
          "metadata": {
            "needs_background": "light"
          }
        },
        {
          "output_type": "stream",
          "name": "stdout",
          "text": [
            "GroundTruth:  mountain flatfish  seal mushrooms   sea tulips camel butterfly cloud apples   sea skunk streetcar rocket  lamp  lion tulips  wolf roses oranges roses mountain skunk  cups chimpanzee  cans kangaroo bicycle bicycle roses chair plates lawn-mower turtle  palm shark pickup truck   boy computer keyboard hamster porcupine cockroach mountain shark  palm clock lawn-mower pickup truck skunk castle beaver   bee bottles pears  baby elephant   sea   oak leopard rocket snail  crab camel rabbit beetle   fox  lion sunflowers porcupine tulips raccoon train   ray trout elephant elephant sunflowers bowls snail clock   sea snake orchids   bee  cups tractor snake flatfish   boy   ray clock caterpillar  crab chimpanzee   bus chimpanzee mouse skunk hamster   fox couch sweet peppers maple whale  lion rocket skyscraper castle pears  pine computer keyboard chair  crab apples bottles   sea bicycle  lion pears  palm  tank bowls cattle tulips flatfish chair chimpanzee mouse roses   man   boy  cans aquarium fish shrew flatfish trout plain possum   oak cloud beaver   boy   oak hamster cockroach whale computer keyboard kangaroo mushrooms pickup truck pickup truck snail caterpillar  pine lobster raccoon pickup truck chair cockroach beaver  girl bicycle television bowls dinosaur maple orchids  worm mushrooms sweet peppers bottles hamster beaver sweet peppers whale sweet peppers elephant shark caterpillar  lamp kangaroo possum clock squirrel crocodile crocodile  lamp whale woman sweet peppers bridge cockroach lobster   bus wardrobe cockroach pickup truck porcupine beetle television   bee snake  road plain   bee cloud lizard dolphin squirrel turtle shark woman mountain train  wolf  pine  baby   ray  cans streetcar wardrobe  crab skyscraper snail bridge caterpillar apples skyscraper spider   sea tractor pears maple cockroach rabbit apples elephant  girl sunflowers dolphin cloud cockroach forest chimpanzee   boy oranges squirrel lizard beaver kangaroo trout  cans  girl  road mouse  wolf\n",
            "Predicted:  elephant television beaver beaver television beaver television plain beaver beaver beaver beaver beaver elephant beaver television beaver beaver beaver beaver beaver beaver beaver plain beaver beaver beaver beaver beaver beaver beaver beaver beaver beaver plain television beaver beaver beaver beaver beaver beaver beaver elephant beaver beaver beaver beaver beaver beaver plain beaver plain beaver beaver beaver elephant beaver beaver beaver plain television beaver television beaver beaver plain beaver television beaver beaver beaver beaver beaver beaver beaver beaver beaver beaver beaver beaver television elephant plain beaver beaver beaver beaver beaver television plain beaver beaver beaver beaver beaver beaver beaver beaver beaver beaver beaver beaver beaver beaver elephant beaver beaver beaver beaver beaver beaver beaver beaver beaver elephant beaver beaver beaver beaver beaver beaver beaver beaver beaver beaver beaver beaver beaver beaver beaver beaver beaver beaver plain beaver beaver plain beaver beaver beaver beaver beaver plain plain elephant beaver beaver television beaver beaver beaver plain beaver beaver plain beaver beaver television beaver beaver beaver plain beaver television beaver beaver beaver beaver beaver beaver beaver beaver beaver beaver beaver plain elephant beaver beaver plain beaver beaver beaver beaver beaver beaver elephant beaver beaver beaver beaver beaver beaver beaver elephant beaver television plain beaver beaver plain beaver beaver beaver television beaver beaver beaver television elephant beaver beaver beaver beaver television beaver elephant beaver beaver beaver elephant television plain beaver beaver beaver beaver plain beaver elephant beaver beaver beaver beaver beaver beaver beaver beaver plain television beaver beaver beaver beaver beaver television beaver beaver beaver television plain television beaver beaver beaver\n"
          ]
        }
      ]
    },
    {
      "cell_type": "code",
      "source": [
        "%%time\n",
        "\n",
        "num_epoch = 50\n",
        "save_dir = \"checkpoints/\"\n",
        "save_name = \"resnet32\"\n",
        "save_every = 5\n",
        "\n",
        "\n",
        "import os\n",
        "\n",
        "def create_dir(_dir):\n",
        "    \"\"\"\n",
        "    Creates given directory if it is not present.\n",
        "    \"\"\"\n",
        "    if not os.path.exists(_dir):\n",
        "        os.makedirs(_dir)\n",
        "\n",
        "def save_checkpoint(state, filename):\n",
        "    \"\"\"\n",
        "    Save the training model\n",
        "    \"\"\"\n",
        "    create_dir(os.path.dirname(filename))\n",
        "    torch.save(state, filename)\n",
        "    \n",
        "def train_one_epoch(trainloader, optimizer, criterion, model, epoch):\n",
        "    \"\"\"\n",
        "    Train model for one epoch\n",
        "    \"\"\"\n",
        "    running_loss = 0.0\n",
        "    for i, data in enumerate(trainloader, 0):\n",
        "        # get the inputs; data is a list of [inputs, labels]\n",
        "        inputs, labels = data[0].to(device), data[1].to(device)\n",
        "\n",
        "        # zero the parameter gradients\n",
        "        optimizer.zero_grad()\n",
        "\n",
        "        # forward + backward + optimize\n",
        "        outputs = model(inputs)\n",
        "        loss = criterion(outputs, labels)\n",
        "        loss.backward()\n",
        "        optimizer.step()\n",
        "\n",
        "        running_loss += loss.item()\n",
        "\n",
        "    # print statistics\n",
        "    print('[%d, %5d] loss: %.3f' %\n",
        "          (epoch+1, i+1, running_loss/len(trainloader)))\n",
        "    running_loss = 0.0\n",
        "\n",
        "# Training loop\n",
        "for epoch in range(num_epoch):  # loop over the dataset multiple times\n",
        "\n",
        "    # train\n",
        "    train_one_epoch(\n",
        "        trainloader=trainloader,\n",
        "        optimizer=optimizer,\n",
        "        criterion=criterion,\n",
        "        model=model,\n",
        "        epoch=epoch\n",
        "    )\n",
        "\n",
        "    # save checkpoint every save_every epochs\n",
        "    if epoch > 0 and epoch % save_every == 0:\n",
        "        save_checkpoint(\n",
        "            state={\n",
        "                'epoch': epoch + 1,\n",
        "                'state_dict': model.state_dict(),\n",
        "            },\n",
        "            filename=os.path.join(save_dir, save_name+'_checkpoint.th')\n",
        "        )\n",
        "    \n",
        "    lr_scheduler.step()\n",
        "    print('Epoch Number: %g'%(epoch+1))\n",
        "\n",
        "# save final model\n",
        "save_checkpoint(\n",
        "    state={\n",
        "        'state_dict': model.state_dict(),\n",
        "    },\n",
        "    filename=os.path.join(save_dir, save_name+'_final.th')\n",
        ")\n",
        "\n",
        "\n",
        "\n",
        "print('Finished Training')"
      ],
      "metadata": {
        "colab": {
          "base_uri": "https://localhost:8080/"
        },
        "id": "hcJ0XHF88CER",
        "outputId": "a5ed60ec-4821-451f-e288-cc0d606bc826"
      },
      "execution_count": 16,
      "outputs": [
        {
          "output_type": "stream",
          "name": "stdout",
          "text": [
            "[1,   196] loss: 2.573\n",
            "Epoch Number: 1\n",
            "[2,   196] loss: 2.367\n",
            "Epoch Number: 2\n",
            "[3,   196] loss: 2.203\n",
            "Epoch Number: 3\n",
            "[4,   196] loss: 2.048\n",
            "Epoch Number: 4\n",
            "[5,   196] loss: 1.942\n",
            "Epoch Number: 5\n",
            "[6,   196] loss: 1.842\n",
            "Epoch Number: 6\n",
            "[7,   196] loss: 1.757\n",
            "Epoch Number: 7\n",
            "[8,   196] loss: 1.700\n",
            "Epoch Number: 8\n",
            "[9,   196] loss: 1.622\n",
            "Epoch Number: 9\n",
            "[10,   196] loss: 1.560\n",
            "Epoch Number: 10\n",
            "[11,   196] loss: 1.515\n",
            "Epoch Number: 11\n",
            "[12,   196] loss: 1.466\n",
            "Epoch Number: 12\n",
            "[13,   196] loss: 1.431\n",
            "Epoch Number: 13\n",
            "[14,   196] loss: 1.380\n",
            "Epoch Number: 14\n",
            "[15,   196] loss: 1.353\n",
            "Epoch Number: 15\n",
            "[16,   196] loss: 1.324\n",
            "Epoch Number: 16\n",
            "[17,   196] loss: 1.292\n",
            "Epoch Number: 17\n",
            "[18,   196] loss: 1.262\n",
            "Epoch Number: 18\n",
            "[19,   196] loss: 1.245\n",
            "Epoch Number: 19\n",
            "[20,   196] loss: 1.217\n",
            "Epoch Number: 20\n",
            "[21,   196] loss: 1.195\n",
            "Epoch Number: 21\n",
            "[22,   196] loss: 1.161\n",
            "Epoch Number: 22\n",
            "[23,   196] loss: 1.154\n",
            "Epoch Number: 23\n",
            "[24,   196] loss: 1.130\n",
            "Epoch Number: 24\n",
            "[25,   196] loss: 1.117\n",
            "Epoch Number: 25\n",
            "[26,   196] loss: 1.099\n",
            "Epoch Number: 26\n",
            "[27,   196] loss: 1.077\n",
            "Epoch Number: 27\n",
            "[28,   196] loss: 1.060\n",
            "Epoch Number: 28\n",
            "[29,   196] loss: 1.053\n",
            "Epoch Number: 29\n",
            "[30,   196] loss: 1.029\n",
            "Epoch Number: 30\n",
            "[31,   196] loss: 1.023\n",
            "Epoch Number: 31\n",
            "[32,   196] loss: 1.014\n",
            "Epoch Number: 32\n",
            "[33,   196] loss: 0.992\n",
            "Epoch Number: 33\n",
            "[34,   196] loss: 0.983\n",
            "Epoch Number: 34\n",
            "[35,   196] loss: 0.977\n",
            "Epoch Number: 35\n",
            "[36,   196] loss: 0.956\n",
            "Epoch Number: 36\n",
            "[37,   196] loss: 0.950\n",
            "Epoch Number: 37\n",
            "[38,   196] loss: 0.934\n",
            "Epoch Number: 38\n",
            "[39,   196] loss: 0.930\n",
            "Epoch Number: 39\n",
            "[40,   196] loss: 0.918\n",
            "Epoch Number: 40\n",
            "[41,   196] loss: 0.910\n",
            "Epoch Number: 41\n",
            "[42,   196] loss: 0.898\n",
            "Epoch Number: 42\n",
            "[43,   196] loss: 0.888\n",
            "Epoch Number: 43\n",
            "[44,   196] loss: 0.880\n",
            "Epoch Number: 44\n",
            "[45,   196] loss: 0.883\n",
            "Epoch Number: 45\n",
            "[46,   196] loss: 0.861\n",
            "Epoch Number: 46\n",
            "[47,   196] loss: 0.862\n",
            "Epoch Number: 47\n",
            "[48,   196] loss: 0.854\n",
            "Epoch Number: 48\n",
            "[49,   196] loss: 0.851\n",
            "Epoch Number: 49\n",
            "[50,   196] loss: 0.845\n",
            "Epoch Number: 50\n",
            "Finished Training\n",
            "CPU times: user 42min 3s, sys: 22.9 s, total: 42min 26s\n",
            "Wall time: 43min 44s\n"
          ]
        }
      ]
    },
    {
      "cell_type": "code",
      "source": [
        "# test on all test data\n",
        "PATH=\"checkpoints/resnet32_final.th\"\n",
        "model.load_state_dict(torch.load(PATH)[\"state_dict\"])\n",
        "model.eval()\n",
        "correct = 0\n",
        "total = 0\n",
        "with torch.no_grad():\n",
        "    for data in testloader:\n",
        "        images, labels = data[0].to(device), data[1].to(device)\n",
        "        outputs = model(images)\n",
        "        _, predicted = torch.max(outputs.data, 1)\n",
        "        total += labels.size(0)\n",
        "        correct += (predicted == labels).sum().item()\n",
        "\n",
        "print(correct)\n",
        "print(total)\n",
        "print('Accuracy of the network on the 10000 test images: %d %%' % (100 * correct / total))"
      ],
      "metadata": {
        "colab": {
          "base_uri": "https://localhost:8080/"
        },
        "id": "9P0O980N8WkA",
        "outputId": "8c50499b-eece-47d7-d367-962aeb9f7a5c"
      },
      "execution_count": 17,
      "outputs": [
        {
          "output_type": "stream",
          "name": "stdout",
          "text": [
            "5940\n",
            "10000\n",
            "Accuracy of the network on the 10000 test images: 59 %\n"
          ]
        }
      ]
    },
    {
      "cell_type": "code",
      "source": [
        "from google.colab import drive\n",
        "drive.mount('/content/drive')"
      ],
      "metadata": {
        "colab": {
          "base_uri": "https://localhost:8080/"
        },
        "id": "8v-aIuzxCFfo",
        "outputId": "9d7112c0-c046-4243-d956-97870dc7ee35"
      },
      "execution_count": 18,
      "outputs": [
        {
          "output_type": "stream",
          "name": "stdout",
          "text": [
            "Mounted at /content/drive\n"
          ]
        }
      ]
    },
    {
      "cell_type": "code",
      "source": [
        "save_drive = \"/content/drive/MyDrive/Colab Notebooks\"\n",
        "save_name = \"resnet32\"\n",
        "\n",
        "save_checkpoint(\n",
        "    state={\n",
        "        'state_dict': model.state_dict(),\n",
        "    },\n",
        "    filename=os.path.join(save_drive, save_name+'_final.th'))"
      ],
      "metadata": {
        "id": "s0Cha496OGYP"
      },
      "execution_count": 20,
      "outputs": []
    },
    {
      "cell_type": "code",
      "source": [
        ""
      ],
      "metadata": {
        "id": "mKY6Q04KOllL"
      },
      "execution_count": null,
      "outputs": []
    }
  ]
}