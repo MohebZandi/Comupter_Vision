{
  "nbformat": 4,
  "nbformat_minor": 0,
  "metadata": {
    "colab": {
      "name": "Rewrite_CIFAR10_Autoencoders.ipynb",
      "provenance": [],
      "collapsed_sections": [],
      "authorship_tag": "ABX9TyNzHbWK8CGjSVJKvHHXkpGW",
      "include_colab_link": true
    },
    "kernelspec": {
      "name": "python3",
      "display_name": "Python 3"
    },
    "language_info": {
      "name": "python"
    },
    "widgets": {
      "application/vnd.jupyter.widget-state+json": {
        "139373689299441eacf319675b0fa23d": {
          "model_module": "@jupyter-widgets/controls",
          "model_name": "HBoxModel",
          "model_module_version": "1.5.0",
          "state": {
            "_view_name": "HBoxView",
            "_dom_classes": [],
            "_model_name": "HBoxModel",
            "_view_module": "@jupyter-widgets/controls",
            "_model_module_version": "1.5.0",
            "_view_count": null,
            "_view_module_version": "1.5.0",
            "box_style": "",
            "layout": "IPY_MODEL_0a1109248f024125b61cdf6b0d44fa2a",
            "_model_module": "@jupyter-widgets/controls",
            "children": [
              "IPY_MODEL_ec82e178118541688caac78e71a149a3",
              "IPY_MODEL_d455d921c27642118f4eb85528971232",
              "IPY_MODEL_f5237e8303c940feaf57e7b41f15534c"
            ]
          }
        },
        "0a1109248f024125b61cdf6b0d44fa2a": {
          "model_module": "@jupyter-widgets/base",
          "model_name": "LayoutModel",
          "model_module_version": "1.2.0",
          "state": {
            "_view_name": "LayoutView",
            "grid_template_rows": null,
            "right": null,
            "justify_content": null,
            "_view_module": "@jupyter-widgets/base",
            "overflow": null,
            "_model_module_version": "1.2.0",
            "_view_count": null,
            "flex_flow": null,
            "width": null,
            "min_width": null,
            "border": null,
            "align_items": null,
            "bottom": null,
            "_model_module": "@jupyter-widgets/base",
            "top": null,
            "grid_column": null,
            "overflow_y": null,
            "overflow_x": null,
            "grid_auto_flow": null,
            "grid_area": null,
            "grid_template_columns": null,
            "flex": null,
            "_model_name": "LayoutModel",
            "justify_items": null,
            "grid_row": null,
            "max_height": null,
            "align_content": null,
            "visibility": null,
            "align_self": null,
            "height": null,
            "min_height": null,
            "padding": null,
            "grid_auto_rows": null,
            "grid_gap": null,
            "max_width": null,
            "order": null,
            "_view_module_version": "1.2.0",
            "grid_template_areas": null,
            "object_position": null,
            "object_fit": null,
            "grid_auto_columns": null,
            "margin": null,
            "display": null,
            "left": null
          }
        },
        "ec82e178118541688caac78e71a149a3": {
          "model_module": "@jupyter-widgets/controls",
          "model_name": "HTMLModel",
          "model_module_version": "1.5.0",
          "state": {
            "_view_name": "HTMLView",
            "style": "IPY_MODEL_e35aae809c94477c8a825b59dd521dc8",
            "_dom_classes": [],
            "description": "",
            "_model_name": "HTMLModel",
            "placeholder": "​",
            "_view_module": "@jupyter-widgets/controls",
            "_model_module_version": "1.5.0",
            "value": "",
            "_view_count": null,
            "_view_module_version": "1.5.0",
            "description_tooltip": null,
            "_model_module": "@jupyter-widgets/controls",
            "layout": "IPY_MODEL_130b13fa645146c4b58238f8d12b82d3"
          }
        },
        "d455d921c27642118f4eb85528971232": {
          "model_module": "@jupyter-widgets/controls",
          "model_name": "FloatProgressModel",
          "model_module_version": "1.5.0",
          "state": {
            "_view_name": "ProgressView",
            "style": "IPY_MODEL_17a760e73a3343319177d42654eb4361",
            "_dom_classes": [],
            "description": "",
            "_model_name": "FloatProgressModel",
            "bar_style": "success",
            "max": 170498071,
            "_view_module": "@jupyter-widgets/controls",
            "_model_module_version": "1.5.0",
            "value": 170498071,
            "_view_count": null,
            "_view_module_version": "1.5.0",
            "orientation": "horizontal",
            "min": 0,
            "description_tooltip": null,
            "_model_module": "@jupyter-widgets/controls",
            "layout": "IPY_MODEL_7c5b3a461eb24620a50ff0494c2e9852"
          }
        },
        "f5237e8303c940feaf57e7b41f15534c": {
          "model_module": "@jupyter-widgets/controls",
          "model_name": "HTMLModel",
          "model_module_version": "1.5.0",
          "state": {
            "_view_name": "HTMLView",
            "style": "IPY_MODEL_021ffc2b73214f7f931c767c19623009",
            "_dom_classes": [],
            "description": "",
            "_model_name": "HTMLModel",
            "placeholder": "​",
            "_view_module": "@jupyter-widgets/controls",
            "_model_module_version": "1.5.0",
            "value": " 170499072/? [00:06&lt;00:00, 29263903.44it/s]",
            "_view_count": null,
            "_view_module_version": "1.5.0",
            "description_tooltip": null,
            "_model_module": "@jupyter-widgets/controls",
            "layout": "IPY_MODEL_4913de6f4df24400adc450e0554a337c"
          }
        },
        "e35aae809c94477c8a825b59dd521dc8": {
          "model_module": "@jupyter-widgets/controls",
          "model_name": "DescriptionStyleModel",
          "model_module_version": "1.5.0",
          "state": {
            "_view_name": "StyleView",
            "_model_name": "DescriptionStyleModel",
            "description_width": "",
            "_view_module": "@jupyter-widgets/base",
            "_model_module_version": "1.5.0",
            "_view_count": null,
            "_view_module_version": "1.2.0",
            "_model_module": "@jupyter-widgets/controls"
          }
        },
        "130b13fa645146c4b58238f8d12b82d3": {
          "model_module": "@jupyter-widgets/base",
          "model_name": "LayoutModel",
          "model_module_version": "1.2.0",
          "state": {
            "_view_name": "LayoutView",
            "grid_template_rows": null,
            "right": null,
            "justify_content": null,
            "_view_module": "@jupyter-widgets/base",
            "overflow": null,
            "_model_module_version": "1.2.0",
            "_view_count": null,
            "flex_flow": null,
            "width": null,
            "min_width": null,
            "border": null,
            "align_items": null,
            "bottom": null,
            "_model_module": "@jupyter-widgets/base",
            "top": null,
            "grid_column": null,
            "overflow_y": null,
            "overflow_x": null,
            "grid_auto_flow": null,
            "grid_area": null,
            "grid_template_columns": null,
            "flex": null,
            "_model_name": "LayoutModel",
            "justify_items": null,
            "grid_row": null,
            "max_height": null,
            "align_content": null,
            "visibility": null,
            "align_self": null,
            "height": null,
            "min_height": null,
            "padding": null,
            "grid_auto_rows": null,
            "grid_gap": null,
            "max_width": null,
            "order": null,
            "_view_module_version": "1.2.0",
            "grid_template_areas": null,
            "object_position": null,
            "object_fit": null,
            "grid_auto_columns": null,
            "margin": null,
            "display": null,
            "left": null
          }
        },
        "17a760e73a3343319177d42654eb4361": {
          "model_module": "@jupyter-widgets/controls",
          "model_name": "ProgressStyleModel",
          "model_module_version": "1.5.0",
          "state": {
            "_view_name": "StyleView",
            "_model_name": "ProgressStyleModel",
            "description_width": "",
            "_view_module": "@jupyter-widgets/base",
            "_model_module_version": "1.5.0",
            "_view_count": null,
            "_view_module_version": "1.2.0",
            "bar_color": null,
            "_model_module": "@jupyter-widgets/controls"
          }
        },
        "7c5b3a461eb24620a50ff0494c2e9852": {
          "model_module": "@jupyter-widgets/base",
          "model_name": "LayoutModel",
          "model_module_version": "1.2.0",
          "state": {
            "_view_name": "LayoutView",
            "grid_template_rows": null,
            "right": null,
            "justify_content": null,
            "_view_module": "@jupyter-widgets/base",
            "overflow": null,
            "_model_module_version": "1.2.0",
            "_view_count": null,
            "flex_flow": null,
            "width": null,
            "min_width": null,
            "border": null,
            "align_items": null,
            "bottom": null,
            "_model_module": "@jupyter-widgets/base",
            "top": null,
            "grid_column": null,
            "overflow_y": null,
            "overflow_x": null,
            "grid_auto_flow": null,
            "grid_area": null,
            "grid_template_columns": null,
            "flex": null,
            "_model_name": "LayoutModel",
            "justify_items": null,
            "grid_row": null,
            "max_height": null,
            "align_content": null,
            "visibility": null,
            "align_self": null,
            "height": null,
            "min_height": null,
            "padding": null,
            "grid_auto_rows": null,
            "grid_gap": null,
            "max_width": null,
            "order": null,
            "_view_module_version": "1.2.0",
            "grid_template_areas": null,
            "object_position": null,
            "object_fit": null,
            "grid_auto_columns": null,
            "margin": null,
            "display": null,
            "left": null
          }
        },
        "021ffc2b73214f7f931c767c19623009": {
          "model_module": "@jupyter-widgets/controls",
          "model_name": "DescriptionStyleModel",
          "model_module_version": "1.5.0",
          "state": {
            "_view_name": "StyleView",
            "_model_name": "DescriptionStyleModel",
            "description_width": "",
            "_view_module": "@jupyter-widgets/base",
            "_model_module_version": "1.5.0",
            "_view_count": null,
            "_view_module_version": "1.2.0",
            "_model_module": "@jupyter-widgets/controls"
          }
        },
        "4913de6f4df24400adc450e0554a337c": {
          "model_module": "@jupyter-widgets/base",
          "model_name": "LayoutModel",
          "model_module_version": "1.2.0",
          "state": {
            "_view_name": "LayoutView",
            "grid_template_rows": null,
            "right": null,
            "justify_content": null,
            "_view_module": "@jupyter-widgets/base",
            "overflow": null,
            "_model_module_version": "1.2.0",
            "_view_count": null,
            "flex_flow": null,
            "width": null,
            "min_width": null,
            "border": null,
            "align_items": null,
            "bottom": null,
            "_model_module": "@jupyter-widgets/base",
            "top": null,
            "grid_column": null,
            "overflow_y": null,
            "overflow_x": null,
            "grid_auto_flow": null,
            "grid_area": null,
            "grid_template_columns": null,
            "flex": null,
            "_model_name": "LayoutModel",
            "justify_items": null,
            "grid_row": null,
            "max_height": null,
            "align_content": null,
            "visibility": null,
            "align_self": null,
            "height": null,
            "min_height": null,
            "padding": null,
            "grid_auto_rows": null,
            "grid_gap": null,
            "max_width": null,
            "order": null,
            "_view_module_version": "1.2.0",
            "grid_template_areas": null,
            "object_position": null,
            "object_fit": null,
            "grid_auto_columns": null,
            "margin": null,
            "display": null,
            "left": null
          }
        }
      }
    },
    "accelerator": "GPU"
  },
  "cells": [
    {
      "cell_type": "markdown",
      "metadata": {
        "id": "view-in-github",
        "colab_type": "text"
      },
      "source": [
        "<a href=\"https://colab.research.google.com/github/MohebZandi/Comupter_Vision/blob/main/Rewrite_CIFAR10_Autoencoders.ipynb\" target=\"_parent\"><img src=\"https://colab.research.google.com/assets/colab-badge.svg\" alt=\"Open In Colab\"/></a>"
      ]
    },
    {
      "cell_type": "markdown",
      "source": [
        "## Rewriting the Autoencoders for CIFAR"
      ],
      "metadata": {
        "id": "CVj19R-8rHXn"
      }
    },
    {
      "cell_type": "code",
      "execution_count": 1,
      "metadata": {
        "id": "8XY85Q4Kp0--"
      },
      "outputs": [],
      "source": [
        "# imoport libraries\n",
        "import numpy as np\n",
        "import matplotlib.pyplot as plt\n",
        "from IPython import display\n",
        "display.set_matplotlib_formats('svg')\n",
        "\n",
        "import torch\n",
        "import torchvision\n",
        "import torchvision.transforms as T\n",
        "from torch.utils.data import DataLoader\n",
        "import torch.nn as nn\n",
        "import torch.nn.functional as F"
      ]
    },
    {
      "cell_type": "code",
      "source": [
        "# use GPU\n",
        "device = torch.device('cuda:0' if torch.cuda.is_available() else 'cpu')"
      ],
      "metadata": {
        "id": "lVSOqfeArudQ"
      },
      "execution_count": 2,
      "outputs": []
    },
    {
      "cell_type": "code",
      "source": [
        "# transformations\n",
        "Ts = T.Compose([T.ToTensor(),\n",
        "               T.Normalize([.5, .5, .5], [.5, .5, .5])\n",
        "                ])\n",
        "\n",
        "# importing data fom torchvision\n",
        "train_data = torchvision.datasets.CIFAR10(root= './data', train= True, download= True, transform=Ts)\n",
        "test_data = torchvision.datasets.CIFAR10(root= './data', train= False, download= True, transform=Ts)\n",
        "\n",
        "# Creating DataLoaders\n",
        "batchsize= 32\n",
        "trainloader = DataLoader(train_data, batch_size= 32, shuffle= True, drop_last= True)\n",
        "testloader = DataLoader(test_data, batch_size = 256)"
      ],
      "metadata": {
        "colab": {
          "base_uri": "https://localhost:8080/",
          "height": 124,
          "referenced_widgets": [
            "139373689299441eacf319675b0fa23d",
            "0a1109248f024125b61cdf6b0d44fa2a",
            "ec82e178118541688caac78e71a149a3",
            "d455d921c27642118f4eb85528971232",
            "f5237e8303c940feaf57e7b41f15534c",
            "e35aae809c94477c8a825b59dd521dc8",
            "130b13fa645146c4b58238f8d12b82d3",
            "17a760e73a3343319177d42654eb4361",
            "7c5b3a461eb24620a50ff0494c2e9852",
            "021ffc2b73214f7f931c767c19623009",
            "4913de6f4df24400adc450e0554a337c"
          ]
        },
        "id": "c-F71CYCsXbj",
        "outputId": "979cad87-7292-4b92-a5d6-4c46c8da3014"
      },
      "execution_count": 3,
      "outputs": [
        {
          "output_type": "stream",
          "name": "stdout",
          "text": [
            "Downloading https://www.cs.toronto.edu/~kriz/cifar-10-python.tar.gz to ./data/cifar-10-python.tar.gz\n"
          ]
        },
        {
          "output_type": "display_data",
          "data": {
            "application/vnd.jupyter.widget-view+json": {
              "model_id": "139373689299441eacf319675b0fa23d",
              "version_minor": 0,
              "version_major": 2
            },
            "text/plain": [
              "  0%|          | 0/170498071 [00:00<?, ?it/s]"
            ]
          },
          "metadata": {}
        },
        {
          "output_type": "stream",
          "name": "stdout",
          "text": [
            "Extracting ./data/cifar-10-python.tar.gz to ./data\n",
            "Files already downloaded and verified\n"
          ]
        }
      ]
    },
    {
      "cell_type": "code",
      "source": [
        "print(train_data.data.shape)\n",
        "print(test_data.data.shape)\n",
        "X0, y0 = next(iter(trainloader))\n",
        "print(X0.data.shape)\n",
        "print(y0.shape)\n",
        "\n",
        "print(torch.min(X0.data), torch.max(X0.data))"
      ],
      "metadata": {
        "colab": {
          "base_uri": "https://localhost:8080/"
        },
        "id": "ZymowfQZulMr",
        "outputId": "e703ba08-2e3d-4326-aad1-ce86c2df2e0b"
      },
      "execution_count": 5,
      "outputs": [
        {
          "output_type": "stream",
          "name": "stdout",
          "text": [
            "(50000, 32, 32, 3)\n",
            "(10000, 32, 32, 3)\n",
            "torch.Size([32, 3, 32, 32])\n",
            "torch.Size([32])\n",
            "tensor(-1.) tensor(1.)\n"
          ]
        }
      ]
    },
    {
      "cell_type": "code",
      "source": [
        "fig, axs = plt.subplots(3,4, figsize=(8,8))\n",
        "\n",
        "for (i,ax) in enumerate(axs.flatten()):\n",
        "    # extract that image (need to transpose it back to 32x32x3)\n",
        "    pic = X0.data[i].numpy().transpose((1,2,0))\n",
        "    pic = pic/2 + 0.5       # Undo Normalization\n",
        "\n",
        "    label = train_data.classes[y0[i]]\n",
        "\n",
        "    ax.imshow(pic)\n",
        "    ax.text(16, 0,label, ha= 'center', fontweight= 'bold', color = 'r', backgroundcolor = 'w')\n",
        "    ax.axis('off')\n",
        "plt.tight_layout()\n",
        "plt.show()"
      ],
      "metadata": {
        "colab": {
          "base_uri": "https://localhost:8080/",
          "height": 722
        },
        "id": "ExFh2zNuvl9t",
        "outputId": "acad1ad5-9d87-46c7-fac0-aafc1e78123a"
      },
      "execution_count": 6,
      "outputs": [
        {
          "output_type": "display_data",
          "data": {
            "text/plain": [
              "<Figure size 576x576 with 12 Axes>"
            ],
            "image/svg+xml": "<?xml version=\"1.0\" encoding=\"utf-8\" standalone=\"no\"?>\n<!DOCTYPE svg PUBLIC \"-//W3C//DTD SVG 1.1//EN\"\n  \"http://www.w3.org/Graphics/SVG/1.1/DTD/svg11.dtd\">\n<!-- Created with matplotlib (https://matplotlib.org/) -->\n<svg height=\"511.006903pt\" version=\"1.1\" viewBox=\"0 0 568.8 511.006903\" width=\"568.8pt\" xmlns=\"http://www.w3.org/2000/svg\" xmlns:xlink=\"http://www.w3.org/1999/xlink\">\n <defs>\n  <style type=\"text/css\">\n*{stroke-linecap:butt;stroke-linejoin:round;}\n  </style>\n </defs>\n <g id=\"figure_1\">\n  <g id=\"patch_1\">\n   <path d=\"M 0 511.006903 \nL 568.8 511.006903 \nL 568.8 0 \nL 0 0 \nz\n\" style=\"fill:none;\"/>\n  </g>\n  <g id=\"axes_1\">\n   <g clip-path=\"url(#pc188f41205)\">\n    <image height=\"131\" id=\"imagec23f096535\" transform=\"scale(1 -1)translate(0 -131)\" width=\"131\" x=\"7.2\" xlink:href=\"data:image/png;base64,\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\" y=\"-12.259375\"/>\n   </g>\n   <g id=\"text_1\">\n    <g id=\"patch_2\">\n     <path d=\"M 38.686719 20.878125 \nL 110.291406 20.878125 \nL 110.291406 3.2 \nL 38.686719 3.2 \nz\n\" style=\"fill:#ffffff;stroke:#ffffff;stroke-linejoin:miter;\"/>\n    </g>\n    <!-- automobile -->\n    <defs>\n     <path d=\"M 32.90625 24.609375 \nQ 27.4375 24.609375 24.671875 22.75 \nQ 21.921875 20.90625 21.921875 17.28125 \nQ 21.921875 13.96875 24.140625 12.078125 \nQ 26.375 10.203125 30.328125 10.203125 \nQ 35.25 10.203125 38.625 13.734375 \nQ 42 17.28125 42 22.609375 \nL 42 24.609375 \nz\nM 59.625 31.203125 \nL 59.625 0 \nL 42 0 \nL 42 8.109375 \nQ 38.484375 3.125 34.078125 0.84375 \nQ 29.6875 -1.421875 23.390625 -1.421875 \nQ 14.890625 -1.421875 9.59375 3.53125 \nQ 4.296875 8.5 4.296875 16.40625 \nQ 4.296875 26.03125 10.90625 30.515625 \nQ 17.53125 35.015625 31.6875 35.015625 \nL 42 35.015625 \nL 42 36.375 \nQ 42 40.53125 38.71875 42.453125 \nQ 35.453125 44.390625 28.515625 44.390625 \nQ 22.90625 44.390625 18.0625 43.265625 \nQ 13.234375 42.140625 9.078125 39.890625 \nL 9.078125 53.21875 \nQ 14.703125 54.59375 20.359375 55.296875 \nQ 26.03125 56 31.6875 56 \nQ 46.484375 56 53.046875 50.171875 \nQ 59.625 44.34375 59.625 31.203125 \nz\n\" id=\"DejaVuSans-Bold-97\"/>\n     <path d=\"M 7.8125 21.296875 \nL 7.8125 54.6875 \nL 25.390625 54.6875 \nL 25.390625 49.21875 \nQ 25.390625 44.78125 25.34375 38.0625 \nQ 25.296875 31.34375 25.296875 29.109375 \nQ 25.296875 22.515625 25.640625 19.609375 \nQ 25.984375 16.703125 26.8125 15.375 \nQ 27.875 13.671875 29.609375 12.734375 \nQ 31.34375 11.8125 33.59375 11.8125 \nQ 39.0625 11.8125 42.1875 16.015625 \nQ 45.3125 20.21875 45.3125 27.6875 \nL 45.3125 54.6875 \nL 62.796875 54.6875 \nL 62.796875 0 \nL 45.3125 0 \nL 45.3125 7.90625 \nQ 41.359375 3.125 36.9375 0.84375 \nQ 32.515625 -1.421875 27.203125 -1.421875 \nQ 17.71875 -1.421875 12.765625 4.390625 \nQ 7.8125 10.203125 7.8125 21.296875 \nz\n\" id=\"DejaVuSans-Bold-117\"/>\n     <path d=\"M 27.484375 70.21875 \nL 27.484375 54.6875 \nL 45.515625 54.6875 \nL 45.515625 42.1875 \nL 27.484375 42.1875 \nL 27.484375 19 \nQ 27.484375 15.1875 29 13.84375 \nQ 30.515625 12.5 35.015625 12.5 \nL 44 12.5 \nL 44 0 \nL 29 0 \nQ 18.65625 0 14.328125 4.3125 \nQ 10.015625 8.640625 10.015625 19 \nL 10.015625 42.1875 \nL 1.3125 42.1875 \nL 1.3125 54.6875 \nL 10.015625 54.6875 \nL 10.015625 70.21875 \nz\n\" id=\"DejaVuSans-Bold-116\"/>\n     <path d=\"M 34.421875 43.5 \nQ 28.609375 43.5 25.5625 39.328125 \nQ 22.515625 35.15625 22.515625 27.296875 \nQ 22.515625 19.4375 25.5625 15.25 \nQ 28.609375 11.078125 34.421875 11.078125 \nQ 40.140625 11.078125 43.15625 15.25 \nQ 46.1875 19.4375 46.1875 27.296875 \nQ 46.1875 35.15625 43.15625 39.328125 \nQ 40.140625 43.5 34.421875 43.5 \nz\nM 34.421875 56 \nQ 48.53125 56 56.46875 48.375 \nQ 64.40625 40.765625 64.40625 27.296875 \nQ 64.40625 13.8125 56.46875 6.1875 \nQ 48.53125 -1.421875 34.421875 -1.421875 \nQ 20.265625 -1.421875 12.28125 6.1875 \nQ 4.296875 13.8125 4.296875 27.296875 \nQ 4.296875 40.765625 12.28125 48.375 \nQ 20.265625 56 34.421875 56 \nz\n\" id=\"DejaVuSans-Bold-111\"/>\n     <path d=\"M 59.078125 45.609375 \nQ 62.40625 50.6875 66.96875 53.34375 \nQ 71.53125 56 77 56 \nQ 86.421875 56 91.359375 50.1875 \nQ 96.296875 44.390625 96.296875 33.296875 \nL 96.296875 0 \nL 78.71875 0 \nL 78.71875 28.515625 \nQ 78.765625 29.15625 78.78125 29.828125 \nQ 78.8125 30.515625 78.8125 31.78125 \nQ 78.8125 37.59375 77.09375 40.203125 \nQ 75.390625 42.828125 71.578125 42.828125 \nQ 66.609375 42.828125 63.890625 38.71875 \nQ 61.1875 34.625 61.078125 26.859375 \nL 61.078125 0 \nL 43.5 0 \nL 43.5 28.515625 \nQ 43.5 37.59375 41.9375 40.203125 \nQ 40.375 42.828125 36.375 42.828125 \nQ 31.34375 42.828125 28.609375 38.703125 \nQ 25.875 34.578125 25.875 26.90625 \nL 25.875 0 \nL 8.296875 0 \nL 8.296875 54.6875 \nL 25.875 54.6875 \nL 25.875 46.6875 \nQ 29.109375 51.3125 33.28125 53.65625 \nQ 37.453125 56 42.484375 56 \nQ 48.140625 56 52.484375 53.265625 \nQ 56.84375 50.53125 59.078125 45.609375 \nz\n\" id=\"DejaVuSans-Bold-109\"/>\n     <path d=\"M 37.5 11.28125 \nQ 43.109375 11.28125 46.0625 15.375 \nQ 49.03125 19.484375 49.03125 27.296875 \nQ 49.03125 35.109375 46.0625 39.203125 \nQ 43.109375 43.3125 37.5 43.3125 \nQ 31.890625 43.3125 28.875 39.1875 \nQ 25.875 35.0625 25.875 27.296875 \nQ 25.875 19.53125 28.875 15.40625 \nQ 31.890625 11.28125 37.5 11.28125 \nz\nM 25.875 46.6875 \nQ 29.5 51.46875 33.890625 53.734375 \nQ 38.28125 56 44 56 \nQ 54.109375 56 60.59375 47.96875 \nQ 67.09375 39.9375 67.09375 27.296875 \nQ 67.09375 14.65625 60.59375 6.609375 \nQ 54.109375 -1.421875 44 -1.421875 \nQ 38.28125 -1.421875 33.890625 0.84375 \nQ 29.5 3.125 25.875 7.90625 \nL 25.875 0 \nL 8.40625 0 \nL 8.40625 75.984375 \nL 25.875 75.984375 \nz\n\" id=\"DejaVuSans-Bold-98\"/>\n     <path d=\"M 8.40625 54.6875 \nL 25.875 54.6875 \nL 25.875 0 \nL 8.40625 0 \nz\nM 8.40625 75.984375 \nL 25.875 75.984375 \nL 25.875 61.71875 \nL 8.40625 61.71875 \nz\n\" id=\"DejaVuSans-Bold-105\"/>\n     <path d=\"M 8.40625 75.984375 \nL 25.875 75.984375 \nL 25.875 0 \nL 8.40625 0 \nz\n\" id=\"DejaVuSans-Bold-108\"/>\n     <path d=\"M 62.984375 27.484375 \nL 62.984375 22.515625 \nL 22.125 22.515625 \nQ 22.75 16.359375 26.5625 13.28125 \nQ 30.375 10.203125 37.203125 10.203125 \nQ 42.71875 10.203125 48.5 11.84375 \nQ 54.296875 13.484375 60.40625 16.796875 \nL 60.40625 3.328125 \nQ 54.203125 0.984375 48 -0.21875 \nQ 41.796875 -1.421875 35.59375 -1.421875 \nQ 20.75 -1.421875 12.515625 6.125 \nQ 4.296875 13.671875 4.296875 27.296875 \nQ 4.296875 40.671875 12.375 48.328125 \nQ 20.453125 56 34.625 56 \nQ 47.515625 56 55.25 48.234375 \nQ 62.984375 40.484375 62.984375 27.484375 \nz\nM 45.015625 33.296875 \nQ 45.015625 38.28125 42.109375 41.328125 \nQ 39.203125 44.390625 34.515625 44.390625 \nQ 29.4375 44.390625 26.265625 41.53125 \nQ 23.09375 38.671875 22.3125 33.296875 \nz\n\" id=\"DejaVuSans-Bold-101\"/>\n    </defs>\n    <g style=\"fill:#ff0000;\" transform=\"translate(42.686719 14.798437)scale(0.1 -0.1)\">\n     <use xlink:href=\"#DejaVuSans-Bold-97\"/>\n     <use x=\"67.480469\" xlink:href=\"#DejaVuSans-Bold-117\"/>\n     <use x=\"138.671875\" xlink:href=\"#DejaVuSans-Bold-116\"/>\n     <use x=\"186.474609\" xlink:href=\"#DejaVuSans-Bold-111\"/>\n     <use x=\"255.175781\" xlink:href=\"#DejaVuSans-Bold-109\"/>\n     <use x=\"359.375\" xlink:href=\"#DejaVuSans-Bold-111\"/>\n     <use x=\"428.076172\" xlink:href=\"#DejaVuSans-Bold-98\"/>\n     <use x=\"499.658203\" xlink:href=\"#DejaVuSans-Bold-105\"/>\n     <use x=\"533.935547\" xlink:href=\"#DejaVuSans-Bold-108\"/>\n     <use x=\"568.212891\" xlink:href=\"#DejaVuSans-Bold-101\"/>\n    </g>\n   </g>\n  </g>\n  <g id=\"axes_2\">\n   <g clip-path=\"url(#p29ccd7e127)\">\n    <image height=\"131\" id=\"image0a595ab0d2\" transform=\"scale(1 -1)translate(0 -131)\" width=\"131\" x=\"148.5\" xlink:href=\"data:image/png;base64,\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\" y=\"-12.259375\"/>\n   </g>\n   <g id=\"text_2\">\n    <g id=\"patch_3\">\n     <path d=\"M 201.196094 20.95625 \nL 230.382031 20.95625 \nL 230.382031 3.2 \nL 201.196094 3.2 \nz\n\" style=\"fill:#ffffff;stroke:#ffffff;stroke-linejoin:miter;\"/>\n    </g>\n    <!-- dog -->\n    <defs>\n     <path d=\"M 45.609375 46.6875 \nL 45.609375 75.984375 \nL 63.1875 75.984375 \nL 63.1875 0 \nL 45.609375 0 \nL 45.609375 7.90625 \nQ 42 3.078125 37.640625 0.828125 \nQ 33.296875 -1.421875 27.59375 -1.421875 \nQ 17.484375 -1.421875 10.984375 6.609375 \nQ 4.5 14.65625 4.5 27.296875 \nQ 4.5 39.9375 10.984375 47.96875 \nQ 17.484375 56 27.59375 56 \nQ 33.25 56 37.625 53.734375 \nQ 42 51.46875 45.609375 46.6875 \nz\nM 34.078125 11.28125 \nQ 39.703125 11.28125 42.65625 15.375 \nQ 45.609375 19.484375 45.609375 27.296875 \nQ 45.609375 35.109375 42.65625 39.203125 \nQ 39.703125 43.3125 34.078125 43.3125 \nQ 28.515625 43.3125 25.5625 39.203125 \nQ 22.609375 35.109375 22.609375 27.296875 \nQ 22.609375 19.484375 25.5625 15.375 \nQ 28.515625 11.28125 34.078125 11.28125 \nz\n\" id=\"DejaVuSans-Bold-100\"/>\n     <path d=\"M 45.609375 9.28125 \nQ 42 4.5 37.640625 2.25 \nQ 33.296875 0 27.59375 0 \nQ 17.578125 0 11.03125 7.875 \nQ 4.5 15.765625 4.5 27.984375 \nQ 4.5 40.234375 11.03125 48.0625 \nQ 17.578125 55.90625 27.59375 55.90625 \nQ 33.296875 55.90625 37.640625 53.65625 \nQ 42 51.421875 45.609375 46.578125 \nL 45.609375 54.6875 \nL 63.1875 54.6875 \nL 63.1875 5.515625 \nQ 63.1875 -7.671875 54.859375 -14.625 \nQ 46.53125 -21.578125 30.71875 -21.578125 \nQ 25.59375 -21.578125 20.796875 -20.796875 \nQ 16.015625 -20.015625 11.1875 -18.40625 \nL 11.1875 -4.78125 \nQ 15.765625 -7.421875 20.15625 -8.71875 \nQ 24.5625 -10.015625 29 -10.015625 \nQ 37.59375 -10.015625 41.59375 -6.25 \nQ 45.609375 -2.484375 45.609375 5.515625 \nz\nM 34.078125 43.3125 \nQ 28.65625 43.3125 25.625 39.296875 \nQ 22.609375 35.296875 22.609375 27.984375 \nQ 22.609375 20.453125 25.53125 16.578125 \nQ 28.46875 12.703125 34.078125 12.703125 \nQ 39.546875 12.703125 42.578125 16.703125 \nQ 45.609375 20.703125 45.609375 27.984375 \nQ 45.609375 35.296875 42.578125 39.296875 \nQ 39.546875 43.3125 34.078125 43.3125 \nz\n\" id=\"DejaVuSans-Bold-103\"/>\n    </defs>\n    <g style=\"fill:#ff0000;\" transform=\"translate(205.196094 14.798437)scale(0.1 -0.1)\">\n     <use xlink:href=\"#DejaVuSans-Bold-100\"/>\n     <use x=\"71.582031\" xlink:href=\"#DejaVuSans-Bold-111\"/>\n     <use x=\"140.283203\" xlink:href=\"#DejaVuSans-Bold-103\"/>\n    </g>\n   </g>\n  </g>\n  <g id=\"axes_3\">\n   <g clip-path=\"url(#p5e288a288f)\">\n    <image height=\"131\" id=\"imaged701603b00\" transform=\"scale(1 -1)translate(0 -131)\" width=\"131\" x=\"289.8\" xlink:href=\"data:image/png;base64,\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\" y=\"-12.259375\"/>\n   </g>\n   <g id=\"text_3\">\n    <g id=\"patch_4\">\n     <path d=\"M 342.496094 20.95625 \nL 371.682031 20.95625 \nL 371.682031 3.2 \nL 342.496094 3.2 \nz\n\" style=\"fill:#ffffff;stroke:#ffffff;stroke-linejoin:miter;\"/>\n    </g>\n    <!-- dog -->\n    <g style=\"fill:#ff0000;\" transform=\"translate(346.496094 14.798437)scale(0.1 -0.1)\">\n     <use xlink:href=\"#DejaVuSans-Bold-100\"/>\n     <use x=\"71.582031\" xlink:href=\"#DejaVuSans-Bold-111\"/>\n     <use x=\"140.283203\" xlink:href=\"#DejaVuSans-Bold-103\"/>\n    </g>\n   </g>\n  </g>\n  <g id=\"axes_4\">\n   <g clip-path=\"url(#p874efd32f3)\">\n    <image height=\"131\" id=\"image6268fff1be\" transform=\"scale(1 -1)translate(0 -131)\" width=\"131\" x=\"431.1\" xlink:href=\"data:image/png;base64,\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\" y=\"-12.259375\"/>\n   </g>\n   <g id=\"text_4\">\n    <g id=\"patch_5\">\n     <path d=\"M 483.051562 20.878125 \nL 513.726562 20.878125 \nL 513.726562 3.2 \nL 483.051562 3.2 \nz\n\" style=\"fill:#ffffff;stroke:#ffffff;stroke-linejoin:miter;\"/>\n    </g>\n    <!-- bird -->\n    <defs>\n     <path d=\"M 49.03125 39.796875 \nQ 46.734375 40.875 44.453125 41.375 \nQ 42.1875 41.890625 39.890625 41.890625 \nQ 33.15625 41.890625 29.515625 37.5625 \nQ 25.875 33.25 25.875 25.203125 \nL 25.875 0 \nL 8.40625 0 \nL 8.40625 54.6875 \nL 25.875 54.6875 \nL 25.875 45.703125 \nQ 29.25 51.078125 33.609375 53.53125 \nQ 37.984375 56 44.09375 56 \nQ 44.96875 56 45.984375 55.921875 \nQ 47.015625 55.859375 48.96875 55.609375 \nz\n\" id=\"DejaVuSans-Bold-114\"/>\n    </defs>\n    <g style=\"fill:#ff0000;\" transform=\"translate(487.051562 14.798437)scale(0.1 -0.1)\">\n     <use xlink:href=\"#DejaVuSans-Bold-98\"/>\n     <use x=\"71.582031\" xlink:href=\"#DejaVuSans-Bold-105\"/>\n     <use x=\"105.859375\" xlink:href=\"#DejaVuSans-Bold-114\"/>\n     <use x=\"155.175781\" xlink:href=\"#DejaVuSans-Bold-100\"/>\n    </g>\n   </g>\n  </g>\n  <g id=\"axes_5\">\n   <g clip-path=\"url(#p01a8649da7)\">\n    <image height=\"131\" id=\"image5b993f10be\" transform=\"scale(1 -1)translate(0 -131)\" width=\"131\" x=\"7.2\" xlink:href=\"data:image/png;base64,\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\" y=\"-192.533139\"/>\n   </g>\n   <g id=\"text_5\">\n    <g id=\"patch_6\">\n     <path d=\"M 61.760937 201.151889 \nL 87.217187 201.151889 \nL 87.217187 183.473764 \nL 61.760937 183.473764 \nz\n\" style=\"fill:#ffffff;stroke:#ffffff;stroke-linejoin:miter;\"/>\n    </g>\n    <!-- cat -->\n    <defs>\n     <path d=\"M 52.59375 52.984375 \nL 52.59375 38.71875 \nQ 49.03125 41.15625 45.4375 42.328125 \nQ 41.84375 43.5 37.984375 43.5 \nQ 30.671875 43.5 26.59375 39.234375 \nQ 22.515625 34.96875 22.515625 27.296875 \nQ 22.515625 19.625 26.59375 15.34375 \nQ 30.671875 11.078125 37.984375 11.078125 \nQ 42.09375 11.078125 45.78125 12.296875 \nQ 49.46875 13.53125 52.59375 15.921875 \nL 52.59375 1.609375 \nQ 48.484375 0.09375 44.265625 -0.65625 \nQ 40.046875 -1.421875 35.796875 -1.421875 \nQ 21 -1.421875 12.640625 6.171875 \nQ 4.296875 13.765625 4.296875 27.296875 \nQ 4.296875 40.828125 12.640625 48.40625 \nQ 21 56 35.796875 56 \nQ 40.09375 56 44.265625 55.25 \nQ 48.4375 54.5 52.59375 52.984375 \nz\n\" id=\"DejaVuSans-Bold-99\"/>\n    </defs>\n    <g style=\"fill:#ff0000;\" transform=\"translate(65.760937 195.072201)scale(0.1 -0.1)\">\n     <use xlink:href=\"#DejaVuSans-Bold-99\"/>\n     <use x=\"59.277344\" xlink:href=\"#DejaVuSans-Bold-97\"/>\n     <use x=\"126.757812\" xlink:href=\"#DejaVuSans-Bold-116\"/>\n    </g>\n   </g>\n  </g>\n  <g id=\"axes_6\">\n   <g clip-path=\"url(#p8e09573fe1)\">\n    <image height=\"131\" id=\"image4eac3b3291\" transform=\"scale(1 -1)translate(0 -131)\" width=\"131\" x=\"148.5\" xlink:href=\"data:image/png;base64,\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\" y=\"-192.533139\"/>\n   </g>\n   <g id=\"text_6\">\n    <g id=\"patch_7\">\n     <path d=\"M 198.961719 201.151889 \nL 232.616406 201.151889 \nL 232.616406 183.473764 \nL 198.961719 183.473764 \nz\n\" style=\"fill:#ffffff;stroke:#ffffff;stroke-linejoin:miter;\"/>\n    </g>\n    <!-- deer -->\n    <g style=\"fill:#ff0000;\" transform=\"translate(202.961719 195.072201)scale(0.1 -0.1)\">\n     <use xlink:href=\"#DejaVuSans-Bold-100\"/>\n     <use x=\"71.582031\" xlink:href=\"#DejaVuSans-Bold-101\"/>\n     <use x=\"139.404297\" xlink:href=\"#DejaVuSans-Bold-101\"/>\n     <use x=\"207.226562\" xlink:href=\"#DejaVuSans-Bold-114\"/>\n    </g>\n   </g>\n  </g>\n  <g id=\"axes_7\">\n   <g clip-path=\"url(#p0f14db4579)\">\n    <image height=\"131\" id=\"image991ba3f82d\" transform=\"scale(1 -1)translate(0 -131)\" width=\"131\" x=\"289.8\" xlink:href=\"data:image/png;base64,\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\" y=\"-192.533139\"/>\n   </g>\n   <g id=\"text_7\">\n    <g id=\"patch_8\">\n     <path d=\"M 329.917187 201.151889 \nL 384.260937 201.151889 \nL 384.260937 183.473764 \nL 329.917187 183.473764 \nz\n\" style=\"fill:#ffffff;stroke:#ffffff;stroke-linejoin:miter;\"/>\n    </g>\n    <!-- airplane -->\n    <defs>\n     <path d=\"M 25.875 7.90625 \nL 25.875 -20.796875 \nL 8.40625 -20.796875 \nL 8.40625 54.6875 \nL 25.875 54.6875 \nL 25.875 46.6875 \nQ 29.5 51.46875 33.890625 53.734375 \nQ 38.28125 56 44 56 \nQ 54.109375 56 60.59375 47.96875 \nQ 67.09375 39.9375 67.09375 27.296875 \nQ 67.09375 14.65625 60.59375 6.609375 \nQ 54.109375 -1.421875 44 -1.421875 \nQ 38.28125 -1.421875 33.890625 0.84375 \nQ 29.5 3.125 25.875 7.90625 \nz\nM 37.5 43.3125 \nQ 31.890625 43.3125 28.875 39.1875 \nQ 25.875 35.0625 25.875 27.296875 \nQ 25.875 19.53125 28.875 15.40625 \nQ 31.890625 11.28125 37.5 11.28125 \nQ 43.109375 11.28125 46.0625 15.375 \nQ 49.03125 19.484375 49.03125 27.296875 \nQ 49.03125 35.109375 46.0625 39.203125 \nQ 43.109375 43.3125 37.5 43.3125 \nz\n\" id=\"DejaVuSans-Bold-112\"/>\n     <path d=\"M 63.375 33.296875 \nL 63.375 0 \nL 45.796875 0 \nL 45.796875 5.421875 \nL 45.796875 25.484375 \nQ 45.796875 32.5625 45.484375 35.25 \nQ 45.171875 37.9375 44.390625 39.203125 \nQ 43.359375 40.921875 41.59375 41.875 \nQ 39.84375 42.828125 37.59375 42.828125 \nQ 32.125 42.828125 29 38.59375 \nQ 25.875 34.375 25.875 26.90625 \nL 25.875 0 \nL 8.40625 0 \nL 8.40625 54.6875 \nL 25.875 54.6875 \nL 25.875 46.6875 \nQ 29.828125 51.46875 34.265625 53.734375 \nQ 38.71875 56 44.09375 56 \nQ 53.5625 56 58.46875 50.1875 \nQ 63.375 44.390625 63.375 33.296875 \nz\n\" id=\"DejaVuSans-Bold-110\"/>\n    </defs>\n    <g style=\"fill:#ff0000;\" transform=\"translate(333.917187 195.072201)scale(0.1 -0.1)\">\n     <use xlink:href=\"#DejaVuSans-Bold-97\"/>\n     <use x=\"67.480469\" xlink:href=\"#DejaVuSans-Bold-105\"/>\n     <use x=\"101.757812\" xlink:href=\"#DejaVuSans-Bold-114\"/>\n     <use x=\"151.074219\" xlink:href=\"#DejaVuSans-Bold-112\"/>\n     <use x=\"222.65625\" xlink:href=\"#DejaVuSans-Bold-108\"/>\n     <use x=\"256.933594\" xlink:href=\"#DejaVuSans-Bold-97\"/>\n     <use x=\"324.414062\" xlink:href=\"#DejaVuSans-Bold-110\"/>\n     <use x=\"395.605469\" xlink:href=\"#DejaVuSans-Bold-101\"/>\n    </g>\n   </g>\n  </g>\n  <g id=\"axes_8\">\n   <g clip-path=\"url(#p84dcf7eb20)\">\n    <image height=\"131\" id=\"image747b0115f4\" transform=\"scale(1 -1)translate(0 -131)\" width=\"131\" x=\"431.1\" xlink:href=\"data:image/png;base64,\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\" y=\"-192.533139\"/>\n   </g>\n   <g id=\"text_8\">\n    <g id=\"patch_9\">\n     <path d=\"M 462.586719 201.151889 \nL 534.191406 201.151889 \nL 534.191406 183.473764 \nL 462.586719 183.473764 \nz\n\" style=\"fill:#ffffff;stroke:#ffffff;stroke-linejoin:miter;\"/>\n    </g>\n    <!-- automobile -->\n    <g style=\"fill:#ff0000;\" transform=\"translate(466.586719 195.072201)scale(0.1 -0.1)\">\n     <use xlink:href=\"#DejaVuSans-Bold-97\"/>\n     <use x=\"67.480469\" xlink:href=\"#DejaVuSans-Bold-117\"/>\n     <use x=\"138.671875\" xlink:href=\"#DejaVuSans-Bold-116\"/>\n     <use x=\"186.474609\" xlink:href=\"#DejaVuSans-Bold-111\"/>\n     <use x=\"255.175781\" xlink:href=\"#DejaVuSans-Bold-109\"/>\n     <use x=\"359.375\" xlink:href=\"#DejaVuSans-Bold-111\"/>\n     <use x=\"428.076172\" xlink:href=\"#DejaVuSans-Bold-98\"/>\n     <use x=\"499.658203\" xlink:href=\"#DejaVuSans-Bold-105\"/>\n     <use x=\"533.935547\" xlink:href=\"#DejaVuSans-Bold-108\"/>\n     <use x=\"568.212891\" xlink:href=\"#DejaVuSans-Bold-101\"/>\n    </g>\n   </g>\n  </g>\n  <g id=\"axes_9\">\n   <g clip-path=\"url(#pa30ac139ca)\">\n    <image height=\"131\" id=\"image5937648c67\" transform=\"scale(1 -1)translate(0 -131)\" width=\"131\" x=\"7.2\" xlink:href=\"data:image/png;base64,\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\" y=\"-372.806903\"/>\n   </g>\n   <g id=\"text_9\">\n    <g id=\"patch_10\">\n     <path d=\"M 55.785156 381.425653 \nL 93.192969 381.425653 \nL 93.192969 363.747528 \nL 55.785156 363.747528 \nz\n\" style=\"fill:#ffffff;stroke:#ffffff;stroke-linejoin:miter;\"/>\n    </g>\n    <!-- truck -->\n    <defs>\n     <path d=\"M 8.40625 75.984375 \nL 25.875 75.984375 \nL 25.875 34.625 \nL 46 54.6875 \nL 66.3125 54.6875 \nL 39.59375 29.59375 \nL 68.40625 0 \nL 47.21875 0 \nL 25.875 22.796875 \nL 25.875 0 \nL 8.40625 0 \nz\n\" id=\"DejaVuSans-Bold-107\"/>\n    </defs>\n    <g style=\"fill:#ff0000;\" transform=\"translate(59.785156 375.345965)scale(0.1 -0.1)\">\n     <use xlink:href=\"#DejaVuSans-Bold-116\"/>\n     <use x=\"47.802734\" xlink:href=\"#DejaVuSans-Bold-114\"/>\n     <use x=\"97.119141\" xlink:href=\"#DejaVuSans-Bold-117\"/>\n     <use x=\"168.310547\" xlink:href=\"#DejaVuSans-Bold-99\"/>\n     <use x=\"227.587891\" xlink:href=\"#DejaVuSans-Bold-107\"/>\n    </g>\n   </g>\n  </g>\n  <g id=\"axes_10\">\n   <g clip-path=\"url(#p205a96285a)\">\n    <image height=\"131\" id=\"image6d42276fd3\" transform=\"scale(1 -1)translate(0 -131)\" width=\"131\" x=\"148.5\" xlink:href=\"data:image/png;base64,\niVBORw0KGgoAAAANSUhEUgAAAIMAAACDCAYAAACunahmAAAABHNCSVQICAgIfAhkiAAAEbFJREFUeJztnVuPG1dyx6vJbt4vw+FcyJmRZjQjybIc2bIse+XsRvuwQADHGyDJR0he8rXykKcgCBYIEiCLYJHLGrvJxmt5betmyaO5aW68k81bk8xDgIP9Vdv5Aq7/W5HN7tM9NV3/U/U/dbzan/31Qn4PuVL5900pLlVhR4s57EUCP5ewH4rG2TfHsKedLg+Y9mGmChnYXsqDPR7x94VyCXYmKMDuN1s832wIO51OxMY8CJuwh4MODwgWyuYYZcrnJHN1vK+u6adop3gPklW2iHgpPqdinn+rcmkNdnfO4yN1zfhTMHxvYc5gcDBnMDj4YZfxdzgaw47mjIXZYhG2lwpgB5l87CKeCqfRmDE76fOAXJ7x8dbtN2HvbG/ArixV1AXTME9Pz2DPPcbzi04jNuZHv/sU9vDitTpCcSNvRNOLYC+mEx6vOEOywOeWzK7CzlYY/0VECpUV2JX8EuxckOM5RrzvRMDnZG8Gg4M5g8HBnMHg4Nev7OKDZpfz6eMzxtvsiLExoea28zljpYhIlKXP+SvkBNXyMuyH99+B/ZMP7sPeu3oNdn9AnjOYMzaeXrkJ+7ffnMM+G57Gxix75CF+cR92csTcxXxC7hUNL2FnU3wu+UIWdnWFPCiTJ2fwPT82xK0V8oi8yhssZcgZ1paYQ8pmOQZ7MxgczBkMDuYMBgd/OJ7igyDFuafM2jDDNnP20mXszGaZdxARWatwDj1P85j33/kB7IcP/4gnUHmKXz8+gn3S5pz/LOScvj3iPQ4SvMfLBWOniEiYIWcIVshDghF5zrBDrlVaIgeoVRi/9zb4/ds3yGuCiNws8y3/tldXyRmyCT6oUpa1iEqFOaJ8gWOyN4PBwZzB4GDOYHDwL1ReYTZReQRVh1+o77Me6wy1b8mh373LvEHzkr/JZxmfj84HsE9aHONRm7/vJshJTiiPkInSFuSUNIBX+z/MVPydRTPaKpcRCXnJTOk+xkPymAVvQYZNjmLu0d7YXI+NcXuDtYnlHLlQLsXcRFJpTxYL5j7szWBwMGcwOJgzGBz8lc0r+GDaZ3xORsz7JxRnuLt3Ffbtd9+LXeRSae9eNZknyHmc7571GW9fK/urc+Y2IiWhGCk9w3TG+D9V8TtQ/EBEJJ2kPVYSxqinntOItYjRpAf7ZMRcyOj4kGOYsv5ybbsGuz1QJENELjp8Dgnhc0xnqA3NqRySvm17MxgczBkMDuYMBgdzBoODP1Nq1Y0akxv3b12HXVYC2MSU/hROWQwREXl+QTIVZiiIOZ0xORINmMC5VOKVZkgyNo3+f6GnqDGKIqyFjGKHIrJQhC+z4DGzBJ/DOKKwZKxIb8ZnMWyqvn/1NUn13b1bsLdXSPRFRIpK8FJJ8dnnEiTuuuKX9Pl7ezMYHMwZDA7mDAYHP+xQDFotMdnx0wd3YdcqFGr+06+fw/7NUyZTRERaU3KAvlqY0x6xYDJURaBGn2LTmTDW+R59ejGgICedZLz2SUEkGZLTiIj4Q4p4xirBI0p84gvvYT5Ti2haHNPgkkLjFy++gP3LPO9xrfJRbIx36uQV5TS50iKpOILiPb6y7c1gcDBnMDiYMxgc/HGDBZbDOQPq0SVj3dEFlSPP1CKbMEERiIjIZKGCtJrv9lQ87TV5jslEFcsUxwjUmGctjimnFrkuhryHTksvqhVJKk4wHFJssgjJg7yQY5hPlFhlxMLWYkaeMk2z2vb5sy9hbzzdjI3x2hp/UyxQZDudqYYhSZV3UNzN3gwGB3MGg4M5g8HB//DeD/FBK2Ss+5t//S/YjR5z9uGY8TvSdQER6UY8JqVi+PiSC2GnaqFONkWlSVo125qefEP7nLmOtor/3pRCkelYKWhFRJSgVTzWIrL1HdgrN1nDaZ2zqdngUgmN9Rw/zUWxk4B1hpetuLjl2SWfQ6FEDpGr8G8R+rynYtoW3hq+A+YMBgdzBoODv3qV+e3GCefoX53THqk5/0LNZb1MvKmEqKZfox4bauVHjNk5xRF6ZyewBwePYc9a/F6m5D2R8Hy68UUuGec5GdVwM8iyeValusXjAx5fynOBSyFFTrCi9BBBiceHV7kQdzmvmpiJyJLiFa1D1bh0opql1nmO2ZzvAnszGBzMGQwO5gwGB//Rqwt8cB4yJzDzGZeCmP8w/k78eFPQhNITVCuqEZVatNp8/BXs8QH1gaIWC3uemrMXGStTSn+4qppybxXjY67l+Fk5R93mconPpax4TuEqdSHFHMdQVM21+n3mIVqimp3PVfN1ESk8Z/0i6pArXZap9Ry9TR5S2eAY7c1gcDBnMDiYMxgc/LGvmjypBl1eRHsxZ2xMBox92dm3NPhSc/a8aix6fMjaQutSLUpV+3JkcozXlQxzAPUNrv3YWVe2ao65lovnGYpCHlIMyI2yvnoOSseRVPkWL0sO0lF9xUO1TmNLrfwtq7qCiEh6SB6RUGNon1K3eaa4VmN7h7+PXcHwvYU5g8HBnMHg4BdKnJOHqrnlfKLq6Avd6Irf5+YqGIpI0KXer7H/hKcMVcMvtRFHesJz3lKx7sO3OH++8wabo9eXySnyap1F+4K5FhGRjlrX4Ct9Q0JoJ9VmI6ksechY/d+dnyrNhmpytrTGMQeJ+P+t3tQlU+Zz0/mUudKWHp0pbWnsCobvLcwZDA7mDAYHP4jNl3lAUm1AuuhROzAbqZaaenNOEblUWj2/z3PmE0wkrFdZ27+lGpG/tck1BDdUc8yVDINpoDYGUeFeElFcX6j/SxJJjnHu8blFSeYVhqqZaqPNtSG+ys/UVln7SKc4gmkU39QlofI304TKbaiG7cksOcNoak1BDd8BcwaDgzmDwcG/OGN/hv5QNa9sUP8fHTyCXVR1fy8Rz/N39vdhL2VZD1nfYr+id7bYA2JF5TJENdzsNKiHiC2DUA2zdT8HL572l2GfXGg24TmyZTZMb0e87y9ffM1rqrUiP3qXzdWLWcb7hdr4LZlSBRoRWaiizVhpO321hmWWVRvQR3xu9mYwOJgzGBzMGQwO5gwGBz+tmnxOO6rxRciEUWrK5Mm1ZS4m6Z6phRwiMpryszt3tmHfvXcHdqNL8vRvv3sKe97mIpxCikmm5VUmvlaWKIZZLfD7YiouyFmowlNSdZmPVJGoMSLJnahzlqoU1CQC1QBsxueuibgXxBcnzVWiy8+x6JjwmZS6aJB4T5TIx94MBgdzBoODOYPBwV+vUlQRjskJGkdMVGzWyBGWVZwaTNkwTETkwQ8+hP3+B9ytpqV2qH2pGn49Vzu7NV6wWKYX0aRU04riCpNYWzvkDKvL8eJaSS20LeeVQFZt47Jc4zW3t7hDz5pa0BKqxNlMJcbSeiFvjr8XEUnlWKCbJngfF6oJyqnwOT8659/K3gwGB3MGg4M5g8HBHypxSu+S8biodq/b3b0B++yQha7VGnePFxG5e587s4ULxtvBgvPllFo4u7l3DfZsyEU4oRLLeGqOP1bNMI/UZiSvGnFxS5DmmDI+OcPOCufo11Quo9Wk4LUgHNN8wSJTPk1OcL/OQlhtl1xNROSsSQ7w5BkXKC9nWIG7co/C4f/8/BVsezMYHMwZDA7mDAYH/0Itxhx2GX9vb+3ATgwpiJA5RZbXb5JTiIisrTG+dga8RqAaWXxxohuIMDau7rC2EanNQ3Z32FA7q5pxTH3m/Z+csNYhInLepog2VDzkh++9Bbu2RA7QmpGH/LbFez7o855qa8yFbBSYQ6gXmPcQEfn0OZuarO/yHA/eomjooEv+l3zK+7Y3g8HBnMHgYM5gcPDVPiCyXmXcWQookB2cqLxChTmBh3/4QewiD+7dht1sMifeCVWTbdUA8+f//j8ctOIc1WXmNrbr5Ci9LptWTNXGIA/2yDFERAae4gBqcfDDN3Zg//i62rh1RE7xWOUy/nufz/HgNXlS2mNuZDKO/9+Wirzv9/5gD3a9xHrHLx+xmerRCTddsTeDwcGcweBgzmBw8JdU46lEkfPZaYfagkVAMeAbN7jpxjvXGbdERBIhY/xGgfP8vTp5ys2r1AKshpwP/8s//Izfr3BOfvzZC9j1GptfrtU4/04vx7UC1+9wc9fxlHmBSpZk66zBMYZT1gXqasHLj+rUHhx65E3rKdZCol5cW1oucNzZtGoMHpHvbdfJMSp58hJ7MxgczBkMDuYMBgf/9gbj9YWKzwu1SfmqaiqxV2edfdKOb/51ZZsxPacWmXoJ8pBEn3kBX21a2lENudJq/cDJ8T5/r/QTozE5y1YQ12CUZozht9/kfTZCxuOnx9SBHB9QK9DrsX6yoTSSN5QOJE95hEymvJ6ISFWte5ioOtH5hLzjzT3Wjf7yT9Q6i9gVDN9bmDMYHMwZDA7+bp76hFSeHOE8yXhbyHBu2junNv/imNoEEZF332aTzrnH2BbNaKczjOk/+ehj2NVb78N+dcDG45/8/B85JrUOo7J7D3ZfSTRERP75Z38P++pf/QXs3ZusPdRVs/LeNXKCVpdj8HKM9wtfaSKztIdDvbm8SLPJ3MPBEz6HpE8utV7l//6DTfIUezMYHMwZDA7mDAYH/+MH3OT0oMYJ7i9Ut6xcmrWMQBjvtzep9xcR0b2pumpT06FqTpkr8Qc7Kzuw19+k/n/Q4hw+PGY/h3aHeYk//lOu/fz0N9z4S0Tks1+xkdmTzzlHz66wvhGppqFjlduYqU3TLjrMG0Rqc5G52gh9FMYbtKsUkDQv+VzTGY4pVyLfW1d/O3szGBzMGQwO5gwGB78acJKdvaJqFdd3YL86oHZvvc759Wotzhl6SrM4UJwhpTQVc6XLHCjeMlObouWzrG18/NOPYJ91qLnMq3WSXhDvClpTax23dt+A3R4x3oaRWrPaY17hTNVsTtQahmeq2frLATmDn4z3dCrnFX9TzU6X1EZs2RY5w+ay5RkM3wFzBoODOYPBwfvi4BhF74THODNUG6W/2mcPgEmf8+XqUrw2kfI5Ry7mOP8t51U/QrVphhfQZ9XeYeKpBtqdDuPz1w3G75cdahUqehdVEVnxGLOX1rm2oufrfAsHNVabrD0/pibjUO1y+uiUnOGzNjlIJh1v0F5I8b7zqldkLiD52i7yPt+/ynuyN4PBwZzB4GDOYHAwZzA4+DNVYBkoQihz+sv1W0y+9MZMvlyeUxgqInJwRPKkBawLIcFL5UmWUip50uyykUaU5PfnHZKvL444pnnAxSd//uMHsTFvlnnOw2Mm2w4veM50kgSytqWap1a5OOl8ROHxWoHE+7ZqAv56oHYJFJF2k89tMGYCMa+Ier+rhMgRbXszGBzMGQwO5gwGB3+kFpQulHv0VRw6OmPRp6t2dWtfshmmiMhCGP/G6iLHSuzZaqjG4W0mZJp9Jo1GwkLV4RnjcZDm99fqXFzyq8dsYiEikr9D0c+6aqBernBh0OEZxahaY7tc5eKjLVItWcqTqz0ocWHu3/7HJ7ExDkMuNqqpJmDVKrnRQImILvsUBdmbweBgzmBwMGcwOHi/eLKPADroMo6MZpyLtoacT0dKiRJ24pxhqMQsT084R1+o+Hs5Yow/V0LPudoxPqlcOpflnF2LZWorbCB2tRwvAlUD8optJdrJqsVEp695T3rOH6li2lQNqqGakJ51+Rx7w7gg9v51Nk5rqM1G+gU+mMenPOf+CY+3N4PBwZzB4GDOYHDwVWiThFokM1e7efZ6Svg5YI5gPo8LNy9CXuS1+k1ZNeEuldlEolomp1iMOCdPzXn+2hJ/v1BC0aSqI9zZoahXRCQacA6fmDCmL1fIS1Z32ETs9JT1mMGI95xWnGNnjYty/u4T5krqq/Ex1vLMRZzsv+Q1VQ1mOiYX82a8B3szGBzMGQwO5gwGB7834Pw1GVCM2goZ685VXeB8wCR7exBv8DVUDTIXZQox2wP6ZNhhLSKdYazLqu7nRaWPaI+YI8ioRTLJCTlHSzUMExG5ucXFRLpJSeCrndJnzH1c26zzePVc9c8PmnyufoLHf3l0EBtjW+UmJEkO8Lqn8jV9njNXJk+xN4PBwZzB4GDOYHD4X6sGnp/1C/feAAAAAElFTkSuQmCC\" y=\"-372.806903\"/>\n   </g>\n   <g id=\"text_10\">\n    <g id=\"patch_11\">\n     <path d=\"M 199.960937 381.425653 \nL 231.617187 381.425653 \nL 231.617187 363.747528 \nL 199.960937 363.747528 \nz\n\" style=\"fill:#ffffff;stroke:#ffffff;stroke-linejoin:miter;\"/>\n    </g>\n    <!-- ship -->\n    <defs>\n     <path d=\"M 51.125 52.984375 \nL 51.125 39.703125 \nQ 45.515625 42.046875 40.28125 43.21875 \nQ 35.0625 44.390625 30.421875 44.390625 \nQ 25.4375 44.390625 23.015625 43.140625 \nQ 20.609375 41.890625 20.609375 39.3125 \nQ 20.609375 37.203125 22.4375 36.078125 \nQ 24.265625 34.96875 29 34.421875 \nL 32.078125 33.984375 \nQ 45.515625 32.28125 50.140625 28.375 \nQ 54.78125 24.46875 54.78125 16.109375 \nQ 54.78125 7.375 48.328125 2.96875 \nQ 41.890625 -1.421875 29.109375 -1.421875 \nQ 23.6875 -1.421875 17.890625 -0.5625 \nQ 12.109375 0.296875 6 2 \nL 6 15.28125 \nQ 11.234375 12.75 16.71875 11.46875 \nQ 22.21875 10.203125 27.875 10.203125 \nQ 33.015625 10.203125 35.59375 11.609375 \nQ 38.1875 13.03125 38.1875 15.828125 \nQ 38.1875 18.171875 36.40625 19.3125 \nQ 34.625 20.453125 29.296875 21.09375 \nL 26.21875 21.484375 \nQ 14.546875 22.953125 9.859375 26.90625 \nQ 5.171875 30.859375 5.171875 38.921875 \nQ 5.171875 47.609375 11.125 51.796875 \nQ 17.09375 56 29.390625 56 \nQ 34.234375 56 39.546875 55.265625 \nQ 44.875 54.546875 51.125 52.984375 \nz\n\" id=\"DejaVuSans-Bold-115\"/>\n     <path d=\"M 63.375 33.296875 \nL 63.375 0 \nL 45.796875 0 \nL 45.796875 5.421875 \nL 45.796875 25.390625 \nQ 45.796875 32.5625 45.484375 35.25 \nQ 45.171875 37.9375 44.390625 39.203125 \nQ 43.359375 40.921875 41.59375 41.875 \nQ 39.84375 42.828125 37.59375 42.828125 \nQ 32.125 42.828125 29 38.59375 \nQ 25.875 34.375 25.875 26.90625 \nL 25.875 0 \nL 8.40625 0 \nL 8.40625 75.984375 \nL 25.875 75.984375 \nL 25.875 46.6875 \nQ 29.828125 51.46875 34.265625 53.734375 \nQ 38.71875 56 44.09375 56 \nQ 53.5625 56 58.46875 50.1875 \nQ 63.375 44.390625 63.375 33.296875 \nz\n\" id=\"DejaVuSans-Bold-104\"/>\n    </defs>\n    <g style=\"fill:#ff0000;\" transform=\"translate(203.960937 375.345965)scale(0.1 -0.1)\">\n     <use xlink:href=\"#DejaVuSans-Bold-115\"/>\n     <use x=\"59.521484\" xlink:href=\"#DejaVuSans-Bold-104\"/>\n     <use x=\"130.712891\" xlink:href=\"#DejaVuSans-Bold-105\"/>\n     <use x=\"164.990234\" xlink:href=\"#DejaVuSans-Bold-112\"/>\n    </g>\n   </g>\n  </g>\n  <g id=\"axes_11\">\n   <g clip-path=\"url(#p1d5a698b67)\">\n    <image height=\"131\" id=\"image58869e1325\" transform=\"scale(1 -1)translate(0 -131)\" width=\"131\" x=\"289.8\" xlink:href=\"data:image/png;base64,\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\" y=\"-372.806903\"/>\n   </g>\n   <g id=\"text_11\">\n    <g id=\"patch_12\">\n     <path d=\"M 342.496094 381.503778 \nL 371.682031 381.503778 \nL 371.682031 363.747528 \nL 342.496094 363.747528 \nz\n\" style=\"fill:#ffffff;stroke:#ffffff;stroke-linejoin:miter;\"/>\n    </g>\n    <!-- dog -->\n    <g style=\"fill:#ff0000;\" transform=\"translate(346.496094 375.345965)scale(0.1 -0.1)\">\n     <use xlink:href=\"#DejaVuSans-Bold-100\"/>\n     <use x=\"71.582031\" xlink:href=\"#DejaVuSans-Bold-111\"/>\n     <use x=\"140.283203\" xlink:href=\"#DejaVuSans-Bold-103\"/>\n    </g>\n   </g>\n  </g>\n  <g id=\"axes_12\">\n   <g clip-path=\"url(#p980f2e9410)\">\n    <image height=\"131\" id=\"imagec2814a8e21\" transform=\"scale(1 -1)translate(0 -131)\" width=\"131\" x=\"431.1\" xlink:href=\"data:image/png;base64,\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\" y=\"-372.806903\"/>\n   </g>\n   <g id=\"text_12\">\n    <g id=\"patch_13\">\n     <path d=\"M 482.560937 381.425653 \nL 514.217187 381.425653 \nL 514.217187 363.747528 \nL 482.560937 363.747528 \nz\n\" style=\"fill:#ffffff;stroke:#ffffff;stroke-linejoin:miter;\"/>\n    </g>\n    <!-- ship -->\n    <g style=\"fill:#ff0000;\" transform=\"translate(486.560937 375.345965)scale(0.1 -0.1)\">\n     <use xlink:href=\"#DejaVuSans-Bold-115\"/>\n     <use x=\"59.521484\" xlink:href=\"#DejaVuSans-Bold-104\"/>\n     <use x=\"130.712891\" xlink:href=\"#DejaVuSans-Bold-105\"/>\n     <use x=\"164.990234\" xlink:href=\"#DejaVuSans-Bold-112\"/>\n    </g>\n   </g>\n  </g>\n </g>\n <defs>\n  <clipPath id=\"pc188f41205\">\n   <rect height=\"130.5\" width=\"130.5\" x=\"7.2\" y=\"12.759375\"/>\n  </clipPath>\n  <clipPath id=\"p29ccd7e127\">\n   <rect height=\"130.5\" width=\"130.5\" x=\"148.5\" y=\"12.759375\"/>\n  </clipPath>\n  <clipPath id=\"p5e288a288f\">\n   <rect height=\"130.5\" width=\"130.5\" x=\"289.8\" y=\"12.759375\"/>\n  </clipPath>\n  <clipPath id=\"p874efd32f3\">\n   <rect height=\"130.5\" width=\"130.5\" x=\"431.1\" y=\"12.759375\"/>\n  </clipPath>\n  <clipPath id=\"p01a8649da7\">\n   <rect height=\"130.5\" width=\"130.5\" x=\"7.2\" y=\"193.033139\"/>\n  </clipPath>\n  <clipPath id=\"p8e09573fe1\">\n   <rect height=\"130.5\" width=\"130.5\" x=\"148.5\" y=\"193.033139\"/>\n  </clipPath>\n  <clipPath id=\"p0f14db4579\">\n   <rect height=\"130.5\" width=\"130.5\" x=\"289.8\" y=\"193.033139\"/>\n  </clipPath>\n  <clipPath id=\"p84dcf7eb20\">\n   <rect height=\"130.5\" width=\"130.5\" x=\"431.1\" y=\"193.033139\"/>\n  </clipPath>\n  <clipPath id=\"pa30ac139ca\">\n   <rect height=\"130.5\" width=\"130.5\" x=\"7.2\" y=\"373.306903\"/>\n  </clipPath>\n  <clipPath id=\"p205a96285a\">\n   <rect height=\"130.5\" width=\"130.5\" x=\"148.5\" y=\"373.306903\"/>\n  </clipPath>\n  <clipPath id=\"p1d5a698b67\">\n   <rect height=\"130.5\" width=\"130.5\" x=\"289.8\" y=\"373.306903\"/>\n  </clipPath>\n  <clipPath id=\"p980f2e9410\">\n   <rect height=\"130.5\" width=\"130.5\" x=\"431.1\" y=\"373.306903\"/>\n  </clipPath>\n </defs>\n</svg>\n"
          },
          "metadata": {
            "needs_background": "light"
          }
        }
      ]
    },
    {
      "cell_type": "code",
      "source": [
        "# Creating the NN Model\n",
        "\n",
        "def makeNet(printornot= False):\n",
        "\n",
        "    class AEnet(nn.Module):\n",
        "        def __init__(self, printornot):\n",
        "            super().__init__()\n",
        "\n",
        "            self.print = printornot\n",
        "\n",
        "            # encoding layer 1\n",
        "            self.encoder1 = nn.Conv2d(3, 16, kernel_size= 4, stride= 2, padding= 1)\n",
        "\n",
        "            # encoding layer 2\n",
        "            self.encoder2 = nn.Conv2d(16, 32, kernel_size= 4, stride= 2, padding= 1)\n",
        "\n",
        "            # encoding layer 3\n",
        "            self.encoder3 = nn.Conv2d(32, 64, kernel_size= 4, stride= 2, padding= 1)\n",
        "\n",
        "            # Decoder Layer 1\n",
        "            self.decoder1 = nn.ConvTranspose2d(64, 32, kernel_size= 4, stride= 2, padding=1)\n",
        "\n",
        "            # Decoder Layer 2\n",
        "            self.decoder2 = nn.ConvTranspose2d(32, 16, kernel_size= 4, stride= 2, padding=1)\n",
        "\n",
        "            # Decoder Layer 3\n",
        "            self.decoder3 = nn.ConvTranspose2d(16, 3, kernel_size= 4, stride= 2, padding=1)\n",
        "\n",
        "\n",
        "        # defining Forward function\n",
        "\n",
        "        def forward(self, x):\n",
        "            # Encoding forward\n",
        "            if self.print: print(list(x.shape))\n",
        "            x = F.leaky_relu(self.encoder1(x))\n",
        "            if self.print: print(list(x.shape))\n",
        "            x = F.leaky_relu(self.encoder2(x))\n",
        "            if self.print: print(list(x.shape))\n",
        "            x = F.leaky_relu(self.encoder3(x))\n",
        "\n",
        "            if self.print: print(list(x.shape))\n",
        "\n",
        "\n",
        "            # Decoding froward\n",
        "            if self.print: print(list(x.shape))\n",
        "            x = F.leaky_relu(self.decoder1(x))\n",
        "            x = F.leaky_relu(self.decoder2(x))\n",
        "            x = F.leaky_relu(self.decoder3(x))\n",
        "\n",
        "            if self.print: print(list(x.shape))\n",
        "\n",
        "            return x\n",
        "\n",
        "    # Deifining the main function output\n",
        "    net = AEnet(printornot)\n",
        "    lossfun = nn.MSELoss()\n",
        "    optimizer = torch.optim.Adam(net.parameters(), lr= 0.001, weight_decay= 0.00001)\n",
        "\n",
        "    return net, lossfun, optimizer "
      ],
      "metadata": {
        "id": "mYL8bYqJt1oO"
      },
      "execution_count": 12,
      "outputs": []
    },
    {
      "cell_type": "code",
      "source": [
        "\n",
        "# test the model with one batch\n",
        "X, y = iter(trainloader).next()\n",
        "\n",
        "print(X.data.shape)\n",
        "\n",
        "netae , lossfunction, optim = makeNet(printornot= True)\n",
        "yHat = netae(X)\n",
        "\n",
        "print(lossfunction(yHat, X))"
      ],
      "metadata": {
        "colab": {
          "base_uri": "https://localhost:8080/"
        },
        "id": "2JpjBycF0x64",
        "outputId": "73364825-e0e4-454b-f00a-ecac20a299b5"
      },
      "execution_count": 13,
      "outputs": [
        {
          "output_type": "stream",
          "name": "stdout",
          "text": [
            "torch.Size([32, 3, 32, 32])\n",
            "[32, 3, 32, 32]\n",
            "[32, 16, 16, 16]\n",
            "[32, 32, 8, 8]\n",
            "[32, 64, 4, 4]\n",
            "[32, 64, 4, 4]\n",
            "[32, 3, 32, 32]\n",
            "tensor(0.2985, grad_fn=<MseLossBackward0>)\n"
          ]
        }
      ]
    },
    {
      "cell_type": "code",
      "source": [
        "# Creating a function to train the model\n",
        "def trainmodel(net, lossfun, optimizer):\n",
        "\n",
        "    numberepochs = 3\n",
        "\n",
        "    net.to(device)\n",
        "\n",
        "    trainloss = torch.zeros(numberepochs)\n",
        "    testloss = torch.zeros(numberepochs)\n",
        "    print('Number of epochs: %s'%numberepochs)\n",
        "    print(' ')\n",
        "\n",
        "    for epoch in range(numberepochs):\n",
        "        \n",
        "        net.train()\n",
        "        batchloss = []\n",
        "\n",
        "        for X,y in trainloader:\n",
        "            X = X.to(device)\n",
        "            y = y.to(device)\n",
        "\n",
        "            yHat = net(X)\n",
        "            loss = lossfun(yHat, X)\n",
        "\n",
        "            # Back prop\n",
        "            optimizer.zero_grad()\n",
        "            loss.backward()\n",
        "            optimizer.step()\n",
        "\n",
        "            batchloss.append(loss.item())\n",
        "            # end of training in one epoch\n",
        "\n",
        "        print('Training Epoch Number: ', epoch +1)\n",
        "        trainloss[epoch] = np.mean(batchloss) \n",
        "\n",
        "        net.eval()\n",
        "        batchloss = []\n",
        "        \n",
        "        for X,y in testloader:\n",
        "            X = X.to(device)\n",
        "            y = y.to(device)\n",
        "\n",
        "            with torch.no_grad():\n",
        "                yHat = net(X)\n",
        "                loss = lossfun(yHat, X)\n",
        "            \n",
        "            batchloss.append(np.mean(loss.item()))\n",
        "            # end of testing in one epoch\n",
        "        testloss[epoch] = np.mean(batchloss)\n",
        "        print('Testing Epoch Number: ', epoch + 1)\n",
        "        print ('Test loss is: ', testloss[epoch])\n",
        "        print(' ')\n",
        "\n",
        "        # End of epoch loop\n",
        "    return trainloss, testloss\n"
      ],
      "metadata": {
        "id": "k1HPlYLt0_6k"
      },
      "execution_count": 28,
      "outputs": []
    },
    {
      "cell_type": "code",
      "source": [
        "%%time\n",
        "netAE , lossfunction, optimizer = makeNet(printornot= False)\n",
        "trainingloss , testingloss = trainmodel(netAE, lossfunction, optimizer)"
      ],
      "metadata": {
        "colab": {
          "base_uri": "https://localhost:8080/"
        },
        "id": "ojJ1YB12oRmo",
        "outputId": "c7c20540-a1f1-46de-edd6-f01471e0fc50"
      },
      "execution_count": 29,
      "outputs": [
        {
          "output_type": "stream",
          "name": "stdout",
          "text": [
            "Number of epochs: 3\n",
            " \n",
            "Training Epoch Number:  1\n",
            "Testing Epoch Number:  1\n",
            "Test loss is:  tensor(0.0311)\n",
            " \n",
            "Training Epoch Number:  2\n",
            "Testing Epoch Number:  2\n",
            "Test loss is:  tensor(0.0236)\n",
            " \n",
            "Training Epoch Number:  3\n",
            "Testing Epoch Number:  3\n",
            "Test loss is:  tensor(0.0206)\n",
            " \n",
            "CPU times: user 1min 23s, sys: 744 ms, total: 1min 24s\n",
            "Wall time: 1min 23s\n"
          ]
        }
      ]
    },
    {
      "cell_type": "code",
      "source": [
        "plt.plot(trainingloss, 's-', label= 'AE Train')\n",
        "plt.plot(testingloss, 'o-', label= 'AE Test')\n",
        "plt.xlabel('Epochs')\n",
        "plt.ylabel('Loss (MSE)')\n",
        "plt.title(' Model Loss (final value : %.4f'%testingloss[-1])\n",
        "plt.legend()\n",
        "plt.show()"
      ],
      "metadata": {
        "colab": {
          "base_uri": "https://localhost:8080/",
          "height": 391
        },
        "id": "Vsa-LhLqpF1y",
        "outputId": "01283b00-d9f8-4a38-f9d6-4e43cc146332"
      },
      "execution_count": 30,
      "outputs": [
        {
          "output_type": "display_data",
          "data": {
            "text/plain": [
              "<Figure size 432x288 with 1 Axes>"
            ],
            "image/svg+xml": "<?xml version=\"1.0\" encoding=\"utf-8\" standalone=\"no\"?>\n<!DOCTYPE svg PUBLIC \"-//W3C//DTD SVG 1.1//EN\"\n  \"http://www.w3.org/Graphics/SVG/1.1/DTD/svg11.dtd\">\n<!-- Created with matplotlib (https://matplotlib.org/) -->\n<svg height=\"277.314375pt\" version=\"1.1\" viewBox=\"0 0 398.50625 277.314375\" width=\"398.50625pt\" xmlns=\"http://www.w3.org/2000/svg\" xmlns:xlink=\"http://www.w3.org/1999/xlink\">\n <defs>\n  <style type=\"text/css\">\n*{stroke-linecap:butt;stroke-linejoin:round;}\n  </style>\n </defs>\n <g id=\"figure_1\">\n  <g id=\"patch_1\">\n   <path d=\"M 0 277.314375 \nL 398.50625 277.314375 \nL 398.50625 0 \nL 0 0 \nz\n\" style=\"fill:none;\"/>\n  </g>\n  <g id=\"axes_1\">\n   <g id=\"patch_2\">\n    <path d=\"M 56.50625 239.758125 \nL 391.30625 239.758125 \nL 391.30625 22.318125 \nL 56.50625 22.318125 \nz\n\" style=\"fill:#ffffff;\"/>\n   </g>\n   <g id=\"matplotlib.axis_1\">\n    <g id=\"xtick_1\">\n     <g id=\"line2d_1\">\n      <defs>\n       <path d=\"M 0 0 \nL 0 3.5 \n\" id=\"mc903c22ec1\" style=\"stroke:#000000;stroke-width:0.8;\"/>\n      </defs>\n      <g>\n       <use style=\"stroke:#000000;stroke-width:0.8;\" x=\"71.724432\" xlink:href=\"#mc903c22ec1\" y=\"239.758125\"/>\n      </g>\n     </g>\n     <g id=\"text_1\">\n      <!-- 0.00 -->\n      <defs>\n       <path d=\"M 31.78125 66.40625 \nQ 24.171875 66.40625 20.328125 58.90625 \nQ 16.5 51.421875 16.5 36.375 \nQ 16.5 21.390625 20.328125 13.890625 \nQ 24.171875 6.390625 31.78125 6.390625 \nQ 39.453125 6.390625 43.28125 13.890625 \nQ 47.125 21.390625 47.125 36.375 \nQ 47.125 51.421875 43.28125 58.90625 \nQ 39.453125 66.40625 31.78125 66.40625 \nz\nM 31.78125 74.21875 \nQ 44.046875 74.21875 50.515625 64.515625 \nQ 56.984375 54.828125 56.984375 36.375 \nQ 56.984375 17.96875 50.515625 8.265625 \nQ 44.046875 -1.421875 31.78125 -1.421875 \nQ 19.53125 -1.421875 13.0625 8.265625 \nQ 6.59375 17.96875 6.59375 36.375 \nQ 6.59375 54.828125 13.0625 64.515625 \nQ 19.53125 74.21875 31.78125 74.21875 \nz\n\" id=\"DejaVuSans-48\"/>\n       <path d=\"M 10.6875 12.40625 \nL 21 12.40625 \nL 21 0 \nL 10.6875 0 \nz\n\" id=\"DejaVuSans-46\"/>\n      </defs>\n      <g transform=\"translate(60.591619 254.356562)scale(0.1 -0.1)\">\n       <use xlink:href=\"#DejaVuSans-48\"/>\n       <use x=\"63.623047\" xlink:href=\"#DejaVuSans-46\"/>\n       <use x=\"95.410156\" xlink:href=\"#DejaVuSans-48\"/>\n       <use x=\"159.033203\" xlink:href=\"#DejaVuSans-48\"/>\n      </g>\n     </g>\n    </g>\n    <g id=\"xtick_2\">\n     <g id=\"line2d_2\">\n      <g>\n       <use style=\"stroke:#000000;stroke-width:0.8;\" x=\"109.769886\" xlink:href=\"#mc903c22ec1\" y=\"239.758125\"/>\n      </g>\n     </g>\n     <g id=\"text_2\">\n      <!-- 0.25 -->\n      <defs>\n       <path d=\"M 19.1875 8.296875 \nL 53.609375 8.296875 \nL 53.609375 0 \nL 7.328125 0 \nL 7.328125 8.296875 \nQ 12.9375 14.109375 22.625 23.890625 \nQ 32.328125 33.6875 34.8125 36.53125 \nQ 39.546875 41.84375 41.421875 45.53125 \nQ 43.3125 49.21875 43.3125 52.78125 \nQ 43.3125 58.59375 39.234375 62.25 \nQ 35.15625 65.921875 28.609375 65.921875 \nQ 23.96875 65.921875 18.8125 64.3125 \nQ 13.671875 62.703125 7.8125 59.421875 \nL 7.8125 69.390625 \nQ 13.765625 71.78125 18.9375 73 \nQ 24.125 74.21875 28.421875 74.21875 \nQ 39.75 74.21875 46.484375 68.546875 \nQ 53.21875 62.890625 53.21875 53.421875 \nQ 53.21875 48.921875 51.53125 44.890625 \nQ 49.859375 40.875 45.40625 35.40625 \nQ 44.1875 33.984375 37.640625 27.21875 \nQ 31.109375 20.453125 19.1875 8.296875 \nz\n\" id=\"DejaVuSans-50\"/>\n       <path d=\"M 10.796875 72.90625 \nL 49.515625 72.90625 \nL 49.515625 64.59375 \nL 19.828125 64.59375 \nL 19.828125 46.734375 \nQ 21.96875 47.46875 24.109375 47.828125 \nQ 26.265625 48.1875 28.421875 48.1875 \nQ 40.625 48.1875 47.75 41.5 \nQ 54.890625 34.8125 54.890625 23.390625 \nQ 54.890625 11.625 47.5625 5.09375 \nQ 40.234375 -1.421875 26.90625 -1.421875 \nQ 22.3125 -1.421875 17.546875 -0.640625 \nQ 12.796875 0.140625 7.71875 1.703125 \nL 7.71875 11.625 \nQ 12.109375 9.234375 16.796875 8.0625 \nQ 21.484375 6.890625 26.703125 6.890625 \nQ 35.15625 6.890625 40.078125 11.328125 \nQ 45.015625 15.765625 45.015625 23.390625 \nQ 45.015625 31 40.078125 35.4375 \nQ 35.15625 39.890625 26.703125 39.890625 \nQ 22.75 39.890625 18.8125 39.015625 \nQ 14.890625 38.140625 10.796875 36.28125 \nz\n\" id=\"DejaVuSans-53\"/>\n      </defs>\n      <g transform=\"translate(98.637074 254.356562)scale(0.1 -0.1)\">\n       <use xlink:href=\"#DejaVuSans-48\"/>\n       <use x=\"63.623047\" xlink:href=\"#DejaVuSans-46\"/>\n       <use x=\"95.410156\" xlink:href=\"#DejaVuSans-50\"/>\n       <use x=\"159.033203\" xlink:href=\"#DejaVuSans-53\"/>\n      </g>\n     </g>\n    </g>\n    <g id=\"xtick_3\">\n     <g id=\"line2d_3\">\n      <g>\n       <use style=\"stroke:#000000;stroke-width:0.8;\" x=\"147.815341\" xlink:href=\"#mc903c22ec1\" y=\"239.758125\"/>\n      </g>\n     </g>\n     <g id=\"text_3\">\n      <!-- 0.50 -->\n      <g transform=\"translate(136.682528 254.356562)scale(0.1 -0.1)\">\n       <use xlink:href=\"#DejaVuSans-48\"/>\n       <use x=\"63.623047\" xlink:href=\"#DejaVuSans-46\"/>\n       <use x=\"95.410156\" xlink:href=\"#DejaVuSans-53\"/>\n       <use x=\"159.033203\" xlink:href=\"#DejaVuSans-48\"/>\n      </g>\n     </g>\n    </g>\n    <g id=\"xtick_4\">\n     <g id=\"line2d_4\">\n      <g>\n       <use style=\"stroke:#000000;stroke-width:0.8;\" x=\"185.860795\" xlink:href=\"#mc903c22ec1\" y=\"239.758125\"/>\n      </g>\n     </g>\n     <g id=\"text_4\">\n      <!-- 0.75 -->\n      <defs>\n       <path d=\"M 8.203125 72.90625 \nL 55.078125 72.90625 \nL 55.078125 68.703125 \nL 28.609375 0 \nL 18.3125 0 \nL 43.21875 64.59375 \nL 8.203125 64.59375 \nz\n\" id=\"DejaVuSans-55\"/>\n      </defs>\n      <g transform=\"translate(174.727983 254.356562)scale(0.1 -0.1)\">\n       <use xlink:href=\"#DejaVuSans-48\"/>\n       <use x=\"63.623047\" xlink:href=\"#DejaVuSans-46\"/>\n       <use x=\"95.410156\" xlink:href=\"#DejaVuSans-55\"/>\n       <use x=\"159.033203\" xlink:href=\"#DejaVuSans-53\"/>\n      </g>\n     </g>\n    </g>\n    <g id=\"xtick_5\">\n     <g id=\"line2d_5\">\n      <g>\n       <use style=\"stroke:#000000;stroke-width:0.8;\" x=\"223.90625\" xlink:href=\"#mc903c22ec1\" y=\"239.758125\"/>\n      </g>\n     </g>\n     <g id=\"text_5\">\n      <!-- 1.00 -->\n      <defs>\n       <path d=\"M 12.40625 8.296875 \nL 28.515625 8.296875 \nL 28.515625 63.921875 \nL 10.984375 60.40625 \nL 10.984375 69.390625 \nL 28.421875 72.90625 \nL 38.28125 72.90625 \nL 38.28125 8.296875 \nL 54.390625 8.296875 \nL 54.390625 0 \nL 12.40625 0 \nz\n\" id=\"DejaVuSans-49\"/>\n      </defs>\n      <g transform=\"translate(212.773438 254.356562)scale(0.1 -0.1)\">\n       <use xlink:href=\"#DejaVuSans-49\"/>\n       <use x=\"63.623047\" xlink:href=\"#DejaVuSans-46\"/>\n       <use x=\"95.410156\" xlink:href=\"#DejaVuSans-48\"/>\n       <use x=\"159.033203\" xlink:href=\"#DejaVuSans-48\"/>\n      </g>\n     </g>\n    </g>\n    <g id=\"xtick_6\">\n     <g id=\"line2d_6\">\n      <g>\n       <use style=\"stroke:#000000;stroke-width:0.8;\" x=\"261.951705\" xlink:href=\"#mc903c22ec1\" y=\"239.758125\"/>\n      </g>\n     </g>\n     <g id=\"text_6\">\n      <!-- 1.25 -->\n      <g transform=\"translate(250.818892 254.356562)scale(0.1 -0.1)\">\n       <use xlink:href=\"#DejaVuSans-49\"/>\n       <use x=\"63.623047\" xlink:href=\"#DejaVuSans-46\"/>\n       <use x=\"95.410156\" xlink:href=\"#DejaVuSans-50\"/>\n       <use x=\"159.033203\" xlink:href=\"#DejaVuSans-53\"/>\n      </g>\n     </g>\n    </g>\n    <g id=\"xtick_7\">\n     <g id=\"line2d_7\">\n      <g>\n       <use style=\"stroke:#000000;stroke-width:0.8;\" x=\"299.997159\" xlink:href=\"#mc903c22ec1\" y=\"239.758125\"/>\n      </g>\n     </g>\n     <g id=\"text_7\">\n      <!-- 1.50 -->\n      <g transform=\"translate(288.864347 254.356562)scale(0.1 -0.1)\">\n       <use xlink:href=\"#DejaVuSans-49\"/>\n       <use x=\"63.623047\" xlink:href=\"#DejaVuSans-46\"/>\n       <use x=\"95.410156\" xlink:href=\"#DejaVuSans-53\"/>\n       <use x=\"159.033203\" xlink:href=\"#DejaVuSans-48\"/>\n      </g>\n     </g>\n    </g>\n    <g id=\"xtick_8\">\n     <g id=\"line2d_8\">\n      <g>\n       <use style=\"stroke:#000000;stroke-width:0.8;\" x=\"338.042614\" xlink:href=\"#mc903c22ec1\" y=\"239.758125\"/>\n      </g>\n     </g>\n     <g id=\"text_8\">\n      <!-- 1.75 -->\n      <g transform=\"translate(326.909801 254.356562)scale(0.1 -0.1)\">\n       <use xlink:href=\"#DejaVuSans-49\"/>\n       <use x=\"63.623047\" xlink:href=\"#DejaVuSans-46\"/>\n       <use x=\"95.410156\" xlink:href=\"#DejaVuSans-55\"/>\n       <use x=\"159.033203\" xlink:href=\"#DejaVuSans-53\"/>\n      </g>\n     </g>\n    </g>\n    <g id=\"xtick_9\">\n     <g id=\"line2d_9\">\n      <g>\n       <use style=\"stroke:#000000;stroke-width:0.8;\" x=\"376.088068\" xlink:href=\"#mc903c22ec1\" y=\"239.758125\"/>\n      </g>\n     </g>\n     <g id=\"text_9\">\n      <!-- 2.00 -->\n      <g transform=\"translate(364.955256 254.356562)scale(0.1 -0.1)\">\n       <use xlink:href=\"#DejaVuSans-50\"/>\n       <use x=\"63.623047\" xlink:href=\"#DejaVuSans-46\"/>\n       <use x=\"95.410156\" xlink:href=\"#DejaVuSans-48\"/>\n       <use x=\"159.033203\" xlink:href=\"#DejaVuSans-48\"/>\n      </g>\n     </g>\n    </g>\n    <g id=\"text_10\">\n     <!-- Epochs -->\n     <defs>\n      <path d=\"M 9.8125 72.90625 \nL 55.90625 72.90625 \nL 55.90625 64.59375 \nL 19.671875 64.59375 \nL 19.671875 43.015625 \nL 54.390625 43.015625 \nL 54.390625 34.71875 \nL 19.671875 34.71875 \nL 19.671875 8.296875 \nL 56.78125 8.296875 \nL 56.78125 0 \nL 9.8125 0 \nz\n\" id=\"DejaVuSans-69\"/>\n      <path d=\"M 18.109375 8.203125 \nL 18.109375 -20.796875 \nL 9.078125 -20.796875 \nL 9.078125 54.6875 \nL 18.109375 54.6875 \nL 18.109375 46.390625 \nQ 20.953125 51.265625 25.265625 53.625 \nQ 29.59375 56 35.59375 56 \nQ 45.5625 56 51.78125 48.09375 \nQ 58.015625 40.1875 58.015625 27.296875 \nQ 58.015625 14.40625 51.78125 6.484375 \nQ 45.5625 -1.421875 35.59375 -1.421875 \nQ 29.59375 -1.421875 25.265625 0.953125 \nQ 20.953125 3.328125 18.109375 8.203125 \nz\nM 48.6875 27.296875 \nQ 48.6875 37.203125 44.609375 42.84375 \nQ 40.53125 48.484375 33.40625 48.484375 \nQ 26.265625 48.484375 22.1875 42.84375 \nQ 18.109375 37.203125 18.109375 27.296875 \nQ 18.109375 17.390625 22.1875 11.75 \nQ 26.265625 6.109375 33.40625 6.109375 \nQ 40.53125 6.109375 44.609375 11.75 \nQ 48.6875 17.390625 48.6875 27.296875 \nz\n\" id=\"DejaVuSans-112\"/>\n      <path d=\"M 30.609375 48.390625 \nQ 23.390625 48.390625 19.1875 42.75 \nQ 14.984375 37.109375 14.984375 27.296875 \nQ 14.984375 17.484375 19.15625 11.84375 \nQ 23.34375 6.203125 30.609375 6.203125 \nQ 37.796875 6.203125 41.984375 11.859375 \nQ 46.1875 17.53125 46.1875 27.296875 \nQ 46.1875 37.015625 41.984375 42.703125 \nQ 37.796875 48.390625 30.609375 48.390625 \nz\nM 30.609375 56 \nQ 42.328125 56 49.015625 48.375 \nQ 55.71875 40.765625 55.71875 27.296875 \nQ 55.71875 13.875 49.015625 6.21875 \nQ 42.328125 -1.421875 30.609375 -1.421875 \nQ 18.84375 -1.421875 12.171875 6.21875 \nQ 5.515625 13.875 5.515625 27.296875 \nQ 5.515625 40.765625 12.171875 48.375 \nQ 18.84375 56 30.609375 56 \nz\n\" id=\"DejaVuSans-111\"/>\n      <path d=\"M 48.78125 52.59375 \nL 48.78125 44.1875 \nQ 44.96875 46.296875 41.140625 47.34375 \nQ 37.3125 48.390625 33.40625 48.390625 \nQ 24.65625 48.390625 19.8125 42.84375 \nQ 14.984375 37.3125 14.984375 27.296875 \nQ 14.984375 17.28125 19.8125 11.734375 \nQ 24.65625 6.203125 33.40625 6.203125 \nQ 37.3125 6.203125 41.140625 7.25 \nQ 44.96875 8.296875 48.78125 10.40625 \nL 48.78125 2.09375 \nQ 45.015625 0.34375 40.984375 -0.53125 \nQ 36.96875 -1.421875 32.421875 -1.421875 \nQ 20.0625 -1.421875 12.78125 6.34375 \nQ 5.515625 14.109375 5.515625 27.296875 \nQ 5.515625 40.671875 12.859375 48.328125 \nQ 20.21875 56 33.015625 56 \nQ 37.15625 56 41.109375 55.140625 \nQ 45.0625 54.296875 48.78125 52.59375 \nz\n\" id=\"DejaVuSans-99\"/>\n      <path d=\"M 54.890625 33.015625 \nL 54.890625 0 \nL 45.90625 0 \nL 45.90625 32.71875 \nQ 45.90625 40.484375 42.875 44.328125 \nQ 39.84375 48.1875 33.796875 48.1875 \nQ 26.515625 48.1875 22.3125 43.546875 \nQ 18.109375 38.921875 18.109375 30.90625 \nL 18.109375 0 \nL 9.078125 0 \nL 9.078125 75.984375 \nL 18.109375 75.984375 \nL 18.109375 46.1875 \nQ 21.34375 51.125 25.703125 53.5625 \nQ 30.078125 56 35.796875 56 \nQ 45.21875 56 50.046875 50.171875 \nQ 54.890625 44.34375 54.890625 33.015625 \nz\n\" id=\"DejaVuSans-104\"/>\n      <path d=\"M 44.28125 53.078125 \nL 44.28125 44.578125 \nQ 40.484375 46.53125 36.375 47.5 \nQ 32.28125 48.484375 27.875 48.484375 \nQ 21.1875 48.484375 17.84375 46.4375 \nQ 14.5 44.390625 14.5 40.28125 \nQ 14.5 37.15625 16.890625 35.375 \nQ 19.28125 33.59375 26.515625 31.984375 \nL 29.59375 31.296875 \nQ 39.15625 29.25 43.1875 25.515625 \nQ 47.21875 21.78125 47.21875 15.09375 \nQ 47.21875 7.46875 41.1875 3.015625 \nQ 35.15625 -1.421875 24.609375 -1.421875 \nQ 20.21875 -1.421875 15.453125 -0.5625 \nQ 10.6875 0.296875 5.421875 2 \nL 5.421875 11.28125 \nQ 10.40625 8.6875 15.234375 7.390625 \nQ 20.0625 6.109375 24.8125 6.109375 \nQ 31.15625 6.109375 34.5625 8.28125 \nQ 37.984375 10.453125 37.984375 14.40625 \nQ 37.984375 18.0625 35.515625 20.015625 \nQ 33.0625 21.96875 24.703125 23.78125 \nL 21.578125 24.515625 \nQ 13.234375 26.265625 9.515625 29.90625 \nQ 5.8125 33.546875 5.8125 39.890625 \nQ 5.8125 47.609375 11.28125 51.796875 \nQ 16.75 56 26.8125 56 \nQ 31.78125 56 36.171875 55.265625 \nQ 40.578125 54.546875 44.28125 53.078125 \nz\n\" id=\"DejaVuSans-115\"/>\n     </defs>\n     <g transform=\"translate(205.990625 268.034687)scale(0.1 -0.1)\">\n      <use xlink:href=\"#DejaVuSans-69\"/>\n      <use x=\"63.183594\" xlink:href=\"#DejaVuSans-112\"/>\n      <use x=\"126.660156\" xlink:href=\"#DejaVuSans-111\"/>\n      <use x=\"187.841797\" xlink:href=\"#DejaVuSans-99\"/>\n      <use x=\"242.822266\" xlink:href=\"#DejaVuSans-104\"/>\n      <use x=\"306.201172\" xlink:href=\"#DejaVuSans-115\"/>\n     </g>\n    </g>\n   </g>\n   <g id=\"matplotlib.axis_2\">\n    <g id=\"ytick_1\">\n     <g id=\"line2d_10\">\n      <defs>\n       <path d=\"M 0 0 \nL -3.5 0 \n\" id=\"m739d7d52f2\" style=\"stroke:#000000;stroke-width:0.8;\"/>\n      </defs>\n      <g>\n       <use style=\"stroke:#000000;stroke-width:0.8;\" x=\"56.50625\" xlink:href=\"#m739d7d52f2\" y=\"233.251671\"/>\n      </g>\n     </g>\n     <g id=\"text_11\">\n      <!-- 0.020 -->\n      <g transform=\"translate(20.878125 237.05089)scale(0.1 -0.1)\">\n       <use xlink:href=\"#DejaVuSans-48\"/>\n       <use x=\"63.623047\" xlink:href=\"#DejaVuSans-46\"/>\n       <use x=\"95.410156\" xlink:href=\"#DejaVuSans-48\"/>\n       <use x=\"159.033203\" xlink:href=\"#DejaVuSans-50\"/>\n       <use x=\"222.65625\" xlink:href=\"#DejaVuSans-48\"/>\n      </g>\n     </g>\n    </g>\n    <g id=\"ytick_2\">\n     <g id=\"line2d_11\">\n      <g>\n       <use style=\"stroke:#000000;stroke-width:0.8;\" x=\"56.50625\" xlink:href=\"#m739d7d52f2\" y=\"204.606423\"/>\n      </g>\n     </g>\n     <g id=\"text_12\">\n      <!-- 0.025 -->\n      <g transform=\"translate(20.878125 208.405642)scale(0.1 -0.1)\">\n       <use xlink:href=\"#DejaVuSans-48\"/>\n       <use x=\"63.623047\" xlink:href=\"#DejaVuSans-46\"/>\n       <use x=\"95.410156\" xlink:href=\"#DejaVuSans-48\"/>\n       <use x=\"159.033203\" xlink:href=\"#DejaVuSans-50\"/>\n       <use x=\"222.65625\" xlink:href=\"#DejaVuSans-53\"/>\n      </g>\n     </g>\n    </g>\n    <g id=\"ytick_3\">\n     <g id=\"line2d_12\">\n      <g>\n       <use style=\"stroke:#000000;stroke-width:0.8;\" x=\"56.50625\" xlink:href=\"#m739d7d52f2\" y=\"175.961175\"/>\n      </g>\n     </g>\n     <g id=\"text_13\">\n      <!-- 0.030 -->\n      <defs>\n       <path d=\"M 40.578125 39.3125 \nQ 47.65625 37.796875 51.625 33 \nQ 55.609375 28.21875 55.609375 21.1875 \nQ 55.609375 10.40625 48.1875 4.484375 \nQ 40.765625 -1.421875 27.09375 -1.421875 \nQ 22.515625 -1.421875 17.65625 -0.515625 \nQ 12.796875 0.390625 7.625 2.203125 \nL 7.625 11.71875 \nQ 11.71875 9.328125 16.59375 8.109375 \nQ 21.484375 6.890625 26.8125 6.890625 \nQ 36.078125 6.890625 40.9375 10.546875 \nQ 45.796875 14.203125 45.796875 21.1875 \nQ 45.796875 27.640625 41.28125 31.265625 \nQ 36.765625 34.90625 28.71875 34.90625 \nL 20.21875 34.90625 \nL 20.21875 43.015625 \nL 29.109375 43.015625 \nQ 36.375 43.015625 40.234375 45.921875 \nQ 44.09375 48.828125 44.09375 54.296875 \nQ 44.09375 59.90625 40.109375 62.90625 \nQ 36.140625 65.921875 28.71875 65.921875 \nQ 24.65625 65.921875 20.015625 65.03125 \nQ 15.375 64.15625 9.8125 62.3125 \nL 9.8125 71.09375 \nQ 15.4375 72.65625 20.34375 73.4375 \nQ 25.25 74.21875 29.59375 74.21875 \nQ 40.828125 74.21875 47.359375 69.109375 \nQ 53.90625 64.015625 53.90625 55.328125 \nQ 53.90625 49.265625 50.4375 45.09375 \nQ 46.96875 40.921875 40.578125 39.3125 \nz\n\" id=\"DejaVuSans-51\"/>\n      </defs>\n      <g transform=\"translate(20.878125 179.760394)scale(0.1 -0.1)\">\n       <use xlink:href=\"#DejaVuSans-48\"/>\n       <use x=\"63.623047\" xlink:href=\"#DejaVuSans-46\"/>\n       <use x=\"95.410156\" xlink:href=\"#DejaVuSans-48\"/>\n       <use x=\"159.033203\" xlink:href=\"#DejaVuSans-51\"/>\n       <use x=\"222.65625\" xlink:href=\"#DejaVuSans-48\"/>\n      </g>\n     </g>\n    </g>\n    <g id=\"ytick_4\">\n     <g id=\"line2d_13\">\n      <g>\n       <use style=\"stroke:#000000;stroke-width:0.8;\" x=\"56.50625\" xlink:href=\"#m739d7d52f2\" y=\"147.315927\"/>\n      </g>\n     </g>\n     <g id=\"text_14\">\n      <!-- 0.035 -->\n      <g transform=\"translate(20.878125 151.115146)scale(0.1 -0.1)\">\n       <use xlink:href=\"#DejaVuSans-48\"/>\n       <use x=\"63.623047\" xlink:href=\"#DejaVuSans-46\"/>\n       <use x=\"95.410156\" xlink:href=\"#DejaVuSans-48\"/>\n       <use x=\"159.033203\" xlink:href=\"#DejaVuSans-51\"/>\n       <use x=\"222.65625\" xlink:href=\"#DejaVuSans-53\"/>\n      </g>\n     </g>\n    </g>\n    <g id=\"ytick_5\">\n     <g id=\"line2d_14\">\n      <g>\n       <use style=\"stroke:#000000;stroke-width:0.8;\" x=\"56.50625\" xlink:href=\"#m739d7d52f2\" y=\"118.670679\"/>\n      </g>\n     </g>\n     <g id=\"text_15\">\n      <!-- 0.040 -->\n      <defs>\n       <path d=\"M 37.796875 64.3125 \nL 12.890625 25.390625 \nL 37.796875 25.390625 \nz\nM 35.203125 72.90625 \nL 47.609375 72.90625 \nL 47.609375 25.390625 \nL 58.015625 25.390625 \nL 58.015625 17.1875 \nL 47.609375 17.1875 \nL 47.609375 0 \nL 37.796875 0 \nL 37.796875 17.1875 \nL 4.890625 17.1875 \nL 4.890625 26.703125 \nz\n\" id=\"DejaVuSans-52\"/>\n      </defs>\n      <g transform=\"translate(20.878125 122.469898)scale(0.1 -0.1)\">\n       <use xlink:href=\"#DejaVuSans-48\"/>\n       <use x=\"63.623047\" xlink:href=\"#DejaVuSans-46\"/>\n       <use x=\"95.410156\" xlink:href=\"#DejaVuSans-48\"/>\n       <use x=\"159.033203\" xlink:href=\"#DejaVuSans-52\"/>\n       <use x=\"222.65625\" xlink:href=\"#DejaVuSans-48\"/>\n      </g>\n     </g>\n    </g>\n    <g id=\"ytick_6\">\n     <g id=\"line2d_15\">\n      <g>\n       <use style=\"stroke:#000000;stroke-width:0.8;\" x=\"56.50625\" xlink:href=\"#m739d7d52f2\" y=\"90.025431\"/>\n      </g>\n     </g>\n     <g id=\"text_16\">\n      <!-- 0.045 -->\n      <g transform=\"translate(20.878125 93.82465)scale(0.1 -0.1)\">\n       <use xlink:href=\"#DejaVuSans-48\"/>\n       <use x=\"63.623047\" xlink:href=\"#DejaVuSans-46\"/>\n       <use x=\"95.410156\" xlink:href=\"#DejaVuSans-48\"/>\n       <use x=\"159.033203\" xlink:href=\"#DejaVuSans-52\"/>\n       <use x=\"222.65625\" xlink:href=\"#DejaVuSans-53\"/>\n      </g>\n     </g>\n    </g>\n    <g id=\"ytick_7\">\n     <g id=\"line2d_16\">\n      <g>\n       <use style=\"stroke:#000000;stroke-width:0.8;\" x=\"56.50625\" xlink:href=\"#m739d7d52f2\" y=\"61.380183\"/>\n      </g>\n     </g>\n     <g id=\"text_17\">\n      <!-- 0.050 -->\n      <g transform=\"translate(20.878125 65.179402)scale(0.1 -0.1)\">\n       <use xlink:href=\"#DejaVuSans-48\"/>\n       <use x=\"63.623047\" xlink:href=\"#DejaVuSans-46\"/>\n       <use x=\"95.410156\" xlink:href=\"#DejaVuSans-48\"/>\n       <use x=\"159.033203\" xlink:href=\"#DejaVuSans-53\"/>\n       <use x=\"222.65625\" xlink:href=\"#DejaVuSans-48\"/>\n      </g>\n     </g>\n    </g>\n    <g id=\"ytick_8\">\n     <g id=\"line2d_17\">\n      <g>\n       <use style=\"stroke:#000000;stroke-width:0.8;\" x=\"56.50625\" xlink:href=\"#m739d7d52f2\" y=\"32.734935\"/>\n      </g>\n     </g>\n     <g id=\"text_18\">\n      <!-- 0.055 -->\n      <g transform=\"translate(20.878125 36.534154)scale(0.1 -0.1)\">\n       <use xlink:href=\"#DejaVuSans-48\"/>\n       <use x=\"63.623047\" xlink:href=\"#DejaVuSans-46\"/>\n       <use x=\"95.410156\" xlink:href=\"#DejaVuSans-48\"/>\n       <use x=\"159.033203\" xlink:href=\"#DejaVuSans-53\"/>\n       <use x=\"222.65625\" xlink:href=\"#DejaVuSans-53\"/>\n      </g>\n     </g>\n    </g>\n    <g id=\"text_19\">\n     <!-- Loss (MSE) -->\n     <defs>\n      <path d=\"M 9.8125 72.90625 \nL 19.671875 72.90625 \nL 19.671875 8.296875 \nL 55.171875 8.296875 \nL 55.171875 0 \nL 9.8125 0 \nz\n\" id=\"DejaVuSans-76\"/>\n      <path id=\"DejaVuSans-32\"/>\n      <path d=\"M 31 75.875 \nQ 24.46875 64.65625 21.28125 53.65625 \nQ 18.109375 42.671875 18.109375 31.390625 \nQ 18.109375 20.125 21.3125 9.0625 \nQ 24.515625 -2 31 -13.1875 \nL 23.1875 -13.1875 \nQ 15.875 -1.703125 12.234375 9.375 \nQ 8.59375 20.453125 8.59375 31.390625 \nQ 8.59375 42.28125 12.203125 53.3125 \nQ 15.828125 64.359375 23.1875 75.875 \nz\n\" id=\"DejaVuSans-40\"/>\n      <path d=\"M 9.8125 72.90625 \nL 24.515625 72.90625 \nL 43.109375 23.296875 \nL 61.8125 72.90625 \nL 76.515625 72.90625 \nL 76.515625 0 \nL 66.890625 0 \nL 66.890625 64.015625 \nL 48.09375 14.015625 \nL 38.1875 14.015625 \nL 19.390625 64.015625 \nL 19.390625 0 \nL 9.8125 0 \nz\n\" id=\"DejaVuSans-77\"/>\n      <path d=\"M 53.515625 70.515625 \nL 53.515625 60.890625 \nQ 47.90625 63.578125 42.921875 64.890625 \nQ 37.9375 66.21875 33.296875 66.21875 \nQ 25.25 66.21875 20.875 63.09375 \nQ 16.5 59.96875 16.5 54.203125 \nQ 16.5 49.359375 19.40625 46.890625 \nQ 22.3125 44.4375 30.421875 42.921875 \nL 36.375 41.703125 \nQ 47.40625 39.59375 52.65625 34.296875 \nQ 57.90625 29 57.90625 20.125 \nQ 57.90625 9.515625 50.796875 4.046875 \nQ 43.703125 -1.421875 29.984375 -1.421875 \nQ 24.8125 -1.421875 18.96875 -0.25 \nQ 13.140625 0.921875 6.890625 3.21875 \nL 6.890625 13.375 \nQ 12.890625 10.015625 18.65625 8.296875 \nQ 24.421875 6.59375 29.984375 6.59375 \nQ 38.421875 6.59375 43.015625 9.90625 \nQ 47.609375 13.234375 47.609375 19.390625 \nQ 47.609375 24.75 44.3125 27.78125 \nQ 41.015625 30.8125 33.5 32.328125 \nL 27.484375 33.5 \nQ 16.453125 35.6875 11.515625 40.375 \nQ 6.59375 45.0625 6.59375 53.421875 \nQ 6.59375 63.09375 13.40625 68.65625 \nQ 20.21875 74.21875 32.171875 74.21875 \nQ 37.3125 74.21875 42.625 73.28125 \nQ 47.953125 72.359375 53.515625 70.515625 \nz\n\" id=\"DejaVuSans-83\"/>\n      <path d=\"M 8.015625 75.875 \nL 15.828125 75.875 \nQ 23.140625 64.359375 26.78125 53.3125 \nQ 30.421875 42.28125 30.421875 31.390625 \nQ 30.421875 20.453125 26.78125 9.375 \nQ 23.140625 -1.703125 15.828125 -13.1875 \nL 8.015625 -13.1875 \nQ 14.5 -2 17.703125 9.0625 \nQ 20.90625 20.125 20.90625 31.390625 \nQ 20.90625 42.671875 17.703125 53.65625 \nQ 14.5 64.65625 8.015625 75.875 \nz\n\" id=\"DejaVuSans-41\"/>\n     </defs>\n     <g transform=\"translate(14.798437 158.143594)rotate(-90)scale(0.1 -0.1)\">\n      <use xlink:href=\"#DejaVuSans-76\"/>\n      <use x=\"53.962891\" xlink:href=\"#DejaVuSans-111\"/>\n      <use x=\"115.144531\" xlink:href=\"#DejaVuSans-115\"/>\n      <use x=\"167.244141\" xlink:href=\"#DejaVuSans-115\"/>\n      <use x=\"219.34375\" xlink:href=\"#DejaVuSans-32\"/>\n      <use x=\"251.130859\" xlink:href=\"#DejaVuSans-40\"/>\n      <use x=\"290.144531\" xlink:href=\"#DejaVuSans-77\"/>\n      <use x=\"376.423828\" xlink:href=\"#DejaVuSans-83\"/>\n      <use x=\"439.900391\" xlink:href=\"#DejaVuSans-69\"/>\n      <use x=\"503.083984\" xlink:href=\"#DejaVuSans-41\"/>\n     </g>\n    </g>\n   </g>\n   <g id=\"line2d_18\">\n    <path clip-path=\"url(#p519a6ab689)\" d=\"M 71.724432 32.201761 \nL 223.90625 196.770419 \nL 376.088068 223.014559 \n\" style=\"fill:none;stroke:#1f77b4;stroke-linecap:square;stroke-width:1.5;\"/>\n    <defs>\n     <path d=\"M -3 3 \nL 3 3 \nL 3 -3 \nL -3 -3 \nz\n\" id=\"m0499a26f70\" style=\"stroke:#1f77b4;stroke-linejoin:miter;\"/>\n    </defs>\n    <g clip-path=\"url(#p519a6ab689)\">\n     <use style=\"fill:#1f77b4;stroke:#1f77b4;stroke-linejoin:miter;\" x=\"71.724432\" xlink:href=\"#m0499a26f70\" y=\"32.201761\"/>\n     <use style=\"fill:#1f77b4;stroke:#1f77b4;stroke-linejoin:miter;\" x=\"223.90625\" xlink:href=\"#m0499a26f70\" y=\"196.770419\"/>\n     <use style=\"fill:#1f77b4;stroke:#1f77b4;stroke-linejoin:miter;\" x=\"376.088068\" xlink:href=\"#m0499a26f70\" y=\"223.014559\"/>\n    </g>\n   </g>\n   <g id=\"line2d_19\">\n    <path clip-path=\"url(#p519a6ab689)\" d=\"M 71.724432 169.644402 \nL 223.90625 212.701092 \nL 376.088068 229.874489 \n\" style=\"fill:none;stroke:#ff7f0e;stroke-linecap:square;stroke-width:1.5;\"/>\n    <defs>\n     <path d=\"M 0 3 \nC 0.795609 3 1.55874 2.683901 2.12132 2.12132 \nC 2.683901 1.55874 3 0.795609 3 0 \nC 3 -0.795609 2.683901 -1.55874 2.12132 -2.12132 \nC 1.55874 -2.683901 0.795609 -3 0 -3 \nC -0.795609 -3 -1.55874 -2.683901 -2.12132 -2.12132 \nC -2.683901 -1.55874 -3 -0.795609 -3 0 \nC -3 0.795609 -2.683901 1.55874 -2.12132 2.12132 \nC -1.55874 2.683901 -0.795609 3 0 3 \nz\n\" id=\"mfe79da055f\" style=\"stroke:#ff7f0e;\"/>\n    </defs>\n    <g clip-path=\"url(#p519a6ab689)\">\n     <use style=\"fill:#ff7f0e;stroke:#ff7f0e;\" x=\"71.724432\" xlink:href=\"#mfe79da055f\" y=\"169.644402\"/>\n     <use style=\"fill:#ff7f0e;stroke:#ff7f0e;\" x=\"223.90625\" xlink:href=\"#mfe79da055f\" y=\"212.701092\"/>\n     <use style=\"fill:#ff7f0e;stroke:#ff7f0e;\" x=\"376.088068\" xlink:href=\"#mfe79da055f\" y=\"229.874489\"/>\n    </g>\n   </g>\n   <g id=\"patch_3\">\n    <path d=\"M 56.50625 239.758125 \nL 56.50625 22.318125 \n\" style=\"fill:none;stroke:#000000;stroke-linecap:square;stroke-linejoin:miter;stroke-width:0.8;\"/>\n   </g>\n   <g id=\"patch_4\">\n    <path d=\"M 391.30625 239.758125 \nL 391.30625 22.318125 \n\" style=\"fill:none;stroke:#000000;stroke-linecap:square;stroke-linejoin:miter;stroke-width:0.8;\"/>\n   </g>\n   <g id=\"patch_5\">\n    <path d=\"M 56.50625 239.758125 \nL 391.30625 239.758125 \n\" style=\"fill:none;stroke:#000000;stroke-linecap:square;stroke-linejoin:miter;stroke-width:0.8;\"/>\n   </g>\n   <g id=\"patch_6\">\n    <path d=\"M 56.50625 22.318125 \nL 391.30625 22.318125 \n\" style=\"fill:none;stroke:#000000;stroke-linecap:square;stroke-linejoin:miter;stroke-width:0.8;\"/>\n   </g>\n   <g id=\"text_20\">\n    <!--  Model Loss (final value : 0.0206 -->\n    <defs>\n     <path d=\"M 45.40625 46.390625 \nL 45.40625 75.984375 \nL 54.390625 75.984375 \nL 54.390625 0 \nL 45.40625 0 \nL 45.40625 8.203125 \nQ 42.578125 3.328125 38.25 0.953125 \nQ 33.9375 -1.421875 27.875 -1.421875 \nQ 17.96875 -1.421875 11.734375 6.484375 \nQ 5.515625 14.40625 5.515625 27.296875 \nQ 5.515625 40.1875 11.734375 48.09375 \nQ 17.96875 56 27.875 56 \nQ 33.9375 56 38.25 53.625 \nQ 42.578125 51.265625 45.40625 46.390625 \nz\nM 14.796875 27.296875 \nQ 14.796875 17.390625 18.875 11.75 \nQ 22.953125 6.109375 30.078125 6.109375 \nQ 37.203125 6.109375 41.296875 11.75 \nQ 45.40625 17.390625 45.40625 27.296875 \nQ 45.40625 37.203125 41.296875 42.84375 \nQ 37.203125 48.484375 30.078125 48.484375 \nQ 22.953125 48.484375 18.875 42.84375 \nQ 14.796875 37.203125 14.796875 27.296875 \nz\n\" id=\"DejaVuSans-100\"/>\n     <path d=\"M 56.203125 29.59375 \nL 56.203125 25.203125 \nL 14.890625 25.203125 \nQ 15.484375 15.921875 20.484375 11.0625 \nQ 25.484375 6.203125 34.421875 6.203125 \nQ 39.59375 6.203125 44.453125 7.46875 \nQ 49.3125 8.734375 54.109375 11.28125 \nL 54.109375 2.78125 \nQ 49.265625 0.734375 44.1875 -0.34375 \nQ 39.109375 -1.421875 33.890625 -1.421875 \nQ 20.796875 -1.421875 13.15625 6.1875 \nQ 5.515625 13.8125 5.515625 26.8125 \nQ 5.515625 40.234375 12.765625 48.109375 \nQ 20.015625 56 32.328125 56 \nQ 43.359375 56 49.78125 48.890625 \nQ 56.203125 41.796875 56.203125 29.59375 \nz\nM 47.21875 32.234375 \nQ 47.125 39.59375 43.09375 43.984375 \nQ 39.0625 48.390625 32.421875 48.390625 \nQ 24.90625 48.390625 20.390625 44.140625 \nQ 15.875 39.890625 15.1875 32.171875 \nz\n\" id=\"DejaVuSans-101\"/>\n     <path d=\"M 9.421875 75.984375 \nL 18.40625 75.984375 \nL 18.40625 0 \nL 9.421875 0 \nz\n\" id=\"DejaVuSans-108\"/>\n     <path d=\"M 37.109375 75.984375 \nL 37.109375 68.5 \nL 28.515625 68.5 \nQ 23.6875 68.5 21.796875 66.546875 \nQ 19.921875 64.59375 19.921875 59.515625 \nL 19.921875 54.6875 \nL 34.71875 54.6875 \nL 34.71875 47.703125 \nL 19.921875 47.703125 \nL 19.921875 0 \nL 10.890625 0 \nL 10.890625 47.703125 \nL 2.296875 47.703125 \nL 2.296875 54.6875 \nL 10.890625 54.6875 \nL 10.890625 58.5 \nQ 10.890625 67.625 15.140625 71.796875 \nQ 19.390625 75.984375 28.609375 75.984375 \nz\n\" id=\"DejaVuSans-102\"/>\n     <path d=\"M 9.421875 54.6875 \nL 18.40625 54.6875 \nL 18.40625 0 \nL 9.421875 0 \nz\nM 9.421875 75.984375 \nL 18.40625 75.984375 \nL 18.40625 64.59375 \nL 9.421875 64.59375 \nz\n\" id=\"DejaVuSans-105\"/>\n     <path d=\"M 54.890625 33.015625 \nL 54.890625 0 \nL 45.90625 0 \nL 45.90625 32.71875 \nQ 45.90625 40.484375 42.875 44.328125 \nQ 39.84375 48.1875 33.796875 48.1875 \nQ 26.515625 48.1875 22.3125 43.546875 \nQ 18.109375 38.921875 18.109375 30.90625 \nL 18.109375 0 \nL 9.078125 0 \nL 9.078125 54.6875 \nL 18.109375 54.6875 \nL 18.109375 46.1875 \nQ 21.34375 51.125 25.703125 53.5625 \nQ 30.078125 56 35.796875 56 \nQ 45.21875 56 50.046875 50.171875 \nQ 54.890625 44.34375 54.890625 33.015625 \nz\n\" id=\"DejaVuSans-110\"/>\n     <path d=\"M 34.28125 27.484375 \nQ 23.390625 27.484375 19.1875 25 \nQ 14.984375 22.515625 14.984375 16.5 \nQ 14.984375 11.71875 18.140625 8.90625 \nQ 21.296875 6.109375 26.703125 6.109375 \nQ 34.1875 6.109375 38.703125 11.40625 \nQ 43.21875 16.703125 43.21875 25.484375 \nL 43.21875 27.484375 \nz\nM 52.203125 31.203125 \nL 52.203125 0 \nL 43.21875 0 \nL 43.21875 8.296875 \nQ 40.140625 3.328125 35.546875 0.953125 \nQ 30.953125 -1.421875 24.3125 -1.421875 \nQ 15.921875 -1.421875 10.953125 3.296875 \nQ 6 8.015625 6 15.921875 \nQ 6 25.140625 12.171875 29.828125 \nQ 18.359375 34.515625 30.609375 34.515625 \nL 43.21875 34.515625 \nL 43.21875 35.40625 \nQ 43.21875 41.609375 39.140625 45 \nQ 35.0625 48.390625 27.6875 48.390625 \nQ 23 48.390625 18.546875 47.265625 \nQ 14.109375 46.140625 10.015625 43.890625 \nL 10.015625 52.203125 \nQ 14.9375 54.109375 19.578125 55.046875 \nQ 24.21875 56 28.609375 56 \nQ 40.484375 56 46.34375 49.84375 \nQ 52.203125 43.703125 52.203125 31.203125 \nz\n\" id=\"DejaVuSans-97\"/>\n     <path d=\"M 2.984375 54.6875 \nL 12.5 54.6875 \nL 29.59375 8.796875 \nL 46.6875 54.6875 \nL 56.203125 54.6875 \nL 35.6875 0 \nL 23.484375 0 \nz\n\" id=\"DejaVuSans-118\"/>\n     <path d=\"M 8.5 21.578125 \nL 8.5 54.6875 \nL 17.484375 54.6875 \nL 17.484375 21.921875 \nQ 17.484375 14.15625 20.5 10.265625 \nQ 23.53125 6.390625 29.59375 6.390625 \nQ 36.859375 6.390625 41.078125 11.03125 \nQ 45.3125 15.671875 45.3125 23.6875 \nL 45.3125 54.6875 \nL 54.296875 54.6875 \nL 54.296875 0 \nL 45.3125 0 \nL 45.3125 8.40625 \nQ 42.046875 3.421875 37.71875 1 \nQ 33.40625 -1.421875 27.6875 -1.421875 \nQ 18.265625 -1.421875 13.375 4.4375 \nQ 8.5 10.296875 8.5 21.578125 \nz\nM 31.109375 56 \nz\n\" id=\"DejaVuSans-117\"/>\n     <path d=\"M 11.71875 12.40625 \nL 22.015625 12.40625 \nL 22.015625 0 \nL 11.71875 0 \nz\nM 11.71875 51.703125 \nL 22.015625 51.703125 \nL 22.015625 39.3125 \nL 11.71875 39.3125 \nz\n\" id=\"DejaVuSans-58\"/>\n     <path d=\"M 33.015625 40.375 \nQ 26.375 40.375 22.484375 35.828125 \nQ 18.609375 31.296875 18.609375 23.390625 \nQ 18.609375 15.53125 22.484375 10.953125 \nQ 26.375 6.390625 33.015625 6.390625 \nQ 39.65625 6.390625 43.53125 10.953125 \nQ 47.40625 15.53125 47.40625 23.390625 \nQ 47.40625 31.296875 43.53125 35.828125 \nQ 39.65625 40.375 33.015625 40.375 \nz\nM 52.59375 71.296875 \nL 52.59375 62.3125 \nQ 48.875 64.0625 45.09375 64.984375 \nQ 41.3125 65.921875 37.59375 65.921875 \nQ 27.828125 65.921875 22.671875 59.328125 \nQ 17.53125 52.734375 16.796875 39.40625 \nQ 19.671875 43.65625 24.015625 45.921875 \nQ 28.375 48.1875 33.59375 48.1875 \nQ 44.578125 48.1875 50.953125 41.515625 \nQ 57.328125 34.859375 57.328125 23.390625 \nQ 57.328125 12.15625 50.6875 5.359375 \nQ 44.046875 -1.421875 33.015625 -1.421875 \nQ 20.359375 -1.421875 13.671875 8.265625 \nQ 6.984375 17.96875 6.984375 36.375 \nQ 6.984375 53.65625 15.1875 63.9375 \nQ 23.390625 74.21875 37.203125 74.21875 \nQ 40.921875 74.21875 44.703125 73.484375 \nQ 48.484375 72.75 52.59375 71.296875 \nz\n\" id=\"DejaVuSans-54\"/>\n    </defs>\n    <g transform=\"translate(126.617188 16.318125)scale(0.12 -0.12)\">\n     <use xlink:href=\"#DejaVuSans-32\"/>\n     <use x=\"31.787109\" xlink:href=\"#DejaVuSans-77\"/>\n     <use x=\"118.066406\" xlink:href=\"#DejaVuSans-111\"/>\n     <use x=\"179.248047\" xlink:href=\"#DejaVuSans-100\"/>\n     <use x=\"242.724609\" xlink:href=\"#DejaVuSans-101\"/>\n     <use x=\"304.248047\" xlink:href=\"#DejaVuSans-108\"/>\n     <use x=\"332.03125\" xlink:href=\"#DejaVuSans-32\"/>\n     <use x=\"363.818359\" xlink:href=\"#DejaVuSans-76\"/>\n     <use x=\"417.78125\" xlink:href=\"#DejaVuSans-111\"/>\n     <use x=\"478.962891\" xlink:href=\"#DejaVuSans-115\"/>\n     <use x=\"531.0625\" xlink:href=\"#DejaVuSans-115\"/>\n     <use x=\"583.162109\" xlink:href=\"#DejaVuSans-32\"/>\n     <use x=\"614.949219\" xlink:href=\"#DejaVuSans-40\"/>\n     <use x=\"653.962891\" xlink:href=\"#DejaVuSans-102\"/>\n     <use x=\"689.167969\" xlink:href=\"#DejaVuSans-105\"/>\n     <use x=\"716.951172\" xlink:href=\"#DejaVuSans-110\"/>\n     <use x=\"780.330078\" xlink:href=\"#DejaVuSans-97\"/>\n     <use x=\"841.609375\" xlink:href=\"#DejaVuSans-108\"/>\n     <use x=\"869.392578\" xlink:href=\"#DejaVuSans-32\"/>\n     <use x=\"901.179688\" xlink:href=\"#DejaVuSans-118\"/>\n     <use x=\"960.359375\" xlink:href=\"#DejaVuSans-97\"/>\n     <use x=\"1021.638672\" xlink:href=\"#DejaVuSans-108\"/>\n     <use x=\"1049.421875\" xlink:href=\"#DejaVuSans-117\"/>\n     <use x=\"1112.800781\" xlink:href=\"#DejaVuSans-101\"/>\n     <use x=\"1174.324219\" xlink:href=\"#DejaVuSans-32\"/>\n     <use x=\"1206.111328\" xlink:href=\"#DejaVuSans-58\"/>\n     <use x=\"1239.802734\" xlink:href=\"#DejaVuSans-32\"/>\n     <use x=\"1271.589844\" xlink:href=\"#DejaVuSans-48\"/>\n     <use x=\"1335.212891\" xlink:href=\"#DejaVuSans-46\"/>\n     <use x=\"1367\" xlink:href=\"#DejaVuSans-48\"/>\n     <use x=\"1430.623047\" xlink:href=\"#DejaVuSans-50\"/>\n     <use x=\"1494.246094\" xlink:href=\"#DejaVuSans-48\"/>\n     <use x=\"1557.869141\" xlink:href=\"#DejaVuSans-54\"/>\n    </g>\n   </g>\n   <g id=\"legend_1\">\n    <g id=\"patch_7\">\n     <path d=\"M 311.98125 59.674375 \nL 384.30625 59.674375 \nQ 386.30625 59.674375 386.30625 57.674375 \nL 386.30625 29.318125 \nQ 386.30625 27.318125 384.30625 27.318125 \nL 311.98125 27.318125 \nQ 309.98125 27.318125 309.98125 29.318125 \nL 309.98125 57.674375 \nQ 309.98125 59.674375 311.98125 59.674375 \nz\n\" style=\"fill:#ffffff;opacity:0.8;stroke:#cccccc;stroke-linejoin:miter;\"/>\n    </g>\n    <g id=\"line2d_20\">\n     <path d=\"M 313.98125 35.416562 \nL 333.98125 35.416562 \n\" style=\"fill:none;stroke:#1f77b4;stroke-linecap:square;stroke-width:1.5;\"/>\n    </g>\n    <g id=\"line2d_21\">\n     <g>\n      <use style=\"fill:#1f77b4;stroke:#1f77b4;stroke-linejoin:miter;\" x=\"323.98125\" xlink:href=\"#m0499a26f70\" y=\"35.416562\"/>\n     </g>\n    </g>\n    <g id=\"text_21\">\n     <!-- AE Train -->\n     <defs>\n      <path d=\"M 34.1875 63.1875 \nL 20.796875 26.90625 \nL 47.609375 26.90625 \nz\nM 28.609375 72.90625 \nL 39.796875 72.90625 \nL 67.578125 0 \nL 57.328125 0 \nL 50.6875 18.703125 \nL 17.828125 18.703125 \nL 11.1875 0 \nL 0.78125 0 \nz\n\" id=\"DejaVuSans-65\"/>\n      <path d=\"M -0.296875 72.90625 \nL 61.375 72.90625 \nL 61.375 64.59375 \nL 35.5 64.59375 \nL 35.5 0 \nL 25.59375 0 \nL 25.59375 64.59375 \nL -0.296875 64.59375 \nz\n\" id=\"DejaVuSans-84\"/>\n      <path d=\"M 41.109375 46.296875 \nQ 39.59375 47.171875 37.8125 47.578125 \nQ 36.03125 48 33.890625 48 \nQ 26.265625 48 22.1875 43.046875 \nQ 18.109375 38.09375 18.109375 28.8125 \nL 18.109375 0 \nL 9.078125 0 \nL 9.078125 54.6875 \nL 18.109375 54.6875 \nL 18.109375 46.1875 \nQ 20.953125 51.171875 25.484375 53.578125 \nQ 30.03125 56 36.53125 56 \nQ 37.453125 56 38.578125 55.875 \nQ 39.703125 55.765625 41.0625 55.515625 \nz\n\" id=\"DejaVuSans-114\"/>\n     </defs>\n     <g transform=\"translate(341.98125 38.916562)scale(0.1 -0.1)\">\n      <use xlink:href=\"#DejaVuSans-65\"/>\n      <use x=\"68.408203\" xlink:href=\"#DejaVuSans-69\"/>\n      <use x=\"131.591797\" xlink:href=\"#DejaVuSans-32\"/>\n      <use x=\"163.378906\" xlink:href=\"#DejaVuSans-84\"/>\n      <use x=\"209.712891\" xlink:href=\"#DejaVuSans-114\"/>\n      <use x=\"250.826172\" xlink:href=\"#DejaVuSans-97\"/>\n      <use x=\"312.105469\" xlink:href=\"#DejaVuSans-105\"/>\n      <use x=\"339.888672\" xlink:href=\"#DejaVuSans-110\"/>\n     </g>\n    </g>\n    <g id=\"line2d_22\">\n     <path d=\"M 313.98125 50.094687 \nL 333.98125 50.094687 \n\" style=\"fill:none;stroke:#ff7f0e;stroke-linecap:square;stroke-width:1.5;\"/>\n    </g>\n    <g id=\"line2d_23\">\n     <g>\n      <use style=\"fill:#ff7f0e;stroke:#ff7f0e;\" x=\"323.98125\" xlink:href=\"#mfe79da055f\" y=\"50.094687\"/>\n     </g>\n    </g>\n    <g id=\"text_22\">\n     <!-- AE Test -->\n     <defs>\n      <path d=\"M 18.3125 70.21875 \nL 18.3125 54.6875 \nL 36.8125 54.6875 \nL 36.8125 47.703125 \nL 18.3125 47.703125 \nL 18.3125 18.015625 \nQ 18.3125 11.328125 20.140625 9.421875 \nQ 21.96875 7.515625 27.59375 7.515625 \nL 36.8125 7.515625 \nL 36.8125 0 \nL 27.59375 0 \nQ 17.1875 0 13.234375 3.875 \nQ 9.28125 7.765625 9.28125 18.015625 \nL 9.28125 47.703125 \nL 2.6875 47.703125 \nL 2.6875 54.6875 \nL 9.28125 54.6875 \nL 9.28125 70.21875 \nz\n\" id=\"DejaVuSans-116\"/>\n     </defs>\n     <g transform=\"translate(341.98125 53.594687)scale(0.1 -0.1)\">\n      <use xlink:href=\"#DejaVuSans-65\"/>\n      <use x=\"68.408203\" xlink:href=\"#DejaVuSans-69\"/>\n      <use x=\"131.591797\" xlink:href=\"#DejaVuSans-32\"/>\n      <use x=\"163.378906\" xlink:href=\"#DejaVuSans-84\"/>\n      <use x=\"207.462891\" xlink:href=\"#DejaVuSans-101\"/>\n      <use x=\"268.986328\" xlink:href=\"#DejaVuSans-115\"/>\n      <use x=\"321.085938\" xlink:href=\"#DejaVuSans-116\"/>\n     </g>\n    </g>\n   </g>\n  </g>\n </g>\n <defs>\n  <clipPath id=\"p519a6ab689\">\n   <rect height=\"217.44\" width=\"334.8\" x=\"56.50625\" y=\"22.318125\"/>\n  </clipPath>\n </defs>\n</svg>\n"
          },
          "metadata": {
            "needs_background": "light"
          }
        }
      ]
    },
    {
      "cell_type": "code",
      "source": [
        ""
      ],
      "metadata": {
        "id": "LvwF5Phapz-g"
      },
      "execution_count": null,
      "outputs": []
    }
  ]
}