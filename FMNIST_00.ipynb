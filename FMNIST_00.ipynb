{
  "nbformat": 4,
  "nbformat_minor": 0,
  "metadata": {
    "colab": {
      "name": "FMNIST_00.ipynb",
      "provenance": [],
      "collapsed_sections": [],
      "authorship_tag": "ABX9TyPCQeoKknyZLDdUX6PaS2C4",
      "include_colab_link": true
    },
    "kernelspec": {
      "name": "python3",
      "display_name": "Python 3"
    },
    "language_info": {
      "name": "python"
    },
    "accelerator": "GPU"
  },
  "cells": [
    {
      "cell_type": "markdown",
      "metadata": {
        "id": "view-in-github",
        "colab_type": "text"
      },
      "source": [
        "<a href=\"https://colab.research.google.com/github/MohebZandi/Comupter_Vision/blob/main/FMNIST_00.ipynb\" target=\"_parent\"><img src=\"https://colab.research.google.com/assets/colab-badge.svg\" alt=\"Open In Colab\"/></a>"
      ]
    },
    {
      "cell_type": "markdown",
      "source": [
        "# Classifying Fashion MNIST\n"
      ],
      "metadata": {
        "id": "dwlMOzaeXzoW"
      }
    },
    {
      "cell_type": "code",
      "execution_count": 2,
      "metadata": {
        "id": "Ux0KHD43wdo2"
      },
      "outputs": [],
      "source": [
        "import numpy as np\n",
        "import gzip\n",
        "import matplotlib.pyplot as plt\n",
        "from IPython import display\n",
        "display.set_matplotlib_formats('svg')\n",
        "\n",
        "import torch\n",
        "import torchvision\n",
        "import torch.nn as nn\n",
        "import torch.nn.functional as F\n",
        "import torchvision.transforms as T\n",
        "from torch.utils.data import DataLoader, TensorDataset\n",
        "\n",
        "from sklearn.model_selection import train_test_split\n"
      ]
    },
    {
      "cell_type": "code",
      "source": [
        "device = torch.device('cuda:0' if torch.cuda.is_available() else 'cpu')"
      ],
      "metadata": {
        "id": "EseTqPxRx96b"
      },
      "execution_count": 3,
      "outputs": []
    },
    {
      "cell_type": "markdown",
      "source": [
        "## Importing data \n",
        "\n",
        "### 1 - from Google Drive\n",
        "\n",
        "### 2 - from torchvision"
      ],
      "metadata": {
        "id": "5WKbBD3_X6Dd"
      }
    },
    {
      "cell_type": "code",
      "source": [
        "from google.colab import drive\n",
        "drive.mount('/content/gdrive')"
      ],
      "metadata": {
        "colab": {
          "base_uri": "https://localhost:8080/"
        },
        "id": "gnhJSVKs0-cb",
        "outputId": "cb4cda70-1c8e-42e9-ee9a-44f27727d74b"
      },
      "execution_count": 4,
      "outputs": [
        {
          "output_type": "stream",
          "name": "stdout",
          "text": [
            "Mounted at /content/gdrive\n"
          ]
        }
      ]
    },
    {
      "cell_type": "code",
      "source": [
        "data_url_train = '/content/gdrive/MyDrive/FMNIST/train-images.gz'\n",
        "data_url_labels = '/content/gdrive/MyDrive/FMNIST/train-labels.gz'"
      ],
      "metadata": {
        "id": "G49fgQY42FZ1"
      },
      "execution_count": 5,
      "outputs": []
    },
    {
      "cell_type": "code",
      "source": [
        "# importing data and labels\n",
        "\n",
        "def training_images():\n",
        "    with gzip.open(data_url_train, 'r') as f:\n",
        "        # first 4 bytes is a magic number\n",
        "        magic_number = int.from_bytes(f.read(4), 'big')\n",
        "        # second 4 bytes is the number of images\n",
        "        image_count = int.from_bytes(f.read(4), 'big')\n",
        "        # third 4 bytes is the row count\n",
        "        row_count = int.from_bytes(f.read(4), 'big')\n",
        "        # fourth 4 bytes is the column count\n",
        "        column_count = int.from_bytes(f.read(4), 'big')\n",
        "        # rest is the image pixel data, each pixel is stored as an unsigned byte\n",
        "        # pixel values are 0 to 255\n",
        "        image_data = f.read()\n",
        "        images = np.frombuffer(image_data, dtype=np.uint8)\\\n",
        "            .reshape((image_count, row_count, column_count))\n",
        "        return images\n",
        "\n",
        "\n",
        "def training_labels():\n",
        "    with gzip.open(data_url_labels, 'r') as f:\n",
        "        # first 4 bytes is a magic number\n",
        "        magic_number = int.from_bytes(f.read(4), 'big')\n",
        "        # second 4 bytes is the number of labels\n",
        "        label_count = int.from_bytes(f.read(4), 'big')\n",
        "        # rest is the label data, each label is stored as unsigned byte\n",
        "        # label values are 0 to 9\n",
        "        label_data = f.read()\n",
        "        labels = np.frombuffer(label_data, dtype=np.uint8)\n",
        "        return labels"
      ],
      "metadata": {
        "id": "bftcA0RO-Bn5"
      },
      "execution_count": 6,
      "outputs": []
    },
    {
      "cell_type": "code",
      "source": [
        "# Shape of the data\n",
        "print(training_images().shape)\n",
        "\n",
        "# Shape of labels\n",
        "print(len(training_labels()))"
      ],
      "metadata": {
        "colab": {
          "base_uri": "https://localhost:8080/"
        },
        "id": "yvp9QNWKA1Er",
        "outputId": "1b923e36-0fca-4cba-da02-8d0762d0f394"
      },
      "execution_count": 7,
      "outputs": [
        {
          "output_type": "stream",
          "name": "stdout",
          "text": [
            "(60000, 28, 28)\n",
            "60000\n"
          ]
        }
      ]
    },
    {
      "cell_type": "code",
      "source": [
        "images = training_images()\n",
        "labels = training_labels()\n",
        "classes = {0: 'T-shirt/top', 1: 'Trouser', 2: 'Pullover', 3: 'Dress', 4: 'Coat', 5: 'Sandal', 6: 'Shirt', 7: 'Sneaker', 8: 'Bag', 9: 'Ankle boot'}"
      ],
      "metadata": {
        "id": "Gq8TUYXWA8rZ"
      },
      "execution_count": 8,
      "outputs": []
    },
    {
      "cell_type": "code",
      "source": [
        "fig, axs = plt.subplots(3,4, figsize= (8,8))\n",
        "\n",
        "\n",
        "for ax in axs.flatten():\n",
        "    i = np.random.randint(1, 2000, 1 ).item()\n",
        "    ax.imshow(images[i], cmap= 'gray')\n",
        "    ax.text(10, -2, classes[labels[i]])\n",
        "    ax.axis('off')\n",
        "\n",
        "# plt.imshow(images[1], cmap= 'gray')\n",
        "plt.show()"
      ],
      "metadata": {
        "id": "q0yKcAnCBGGl",
        "colab": {
          "base_uri": "https://localhost:8080/",
          "height": 596
        },
        "outputId": "d61a086d-332f-4e0e-abc3-8798e9f8858c"
      },
      "execution_count": 9,
      "outputs": [
        {
          "output_type": "display_data",
          "data": {
            "text/plain": [
              "<Figure size 576x576 with 12 Axes>"
            ],
            "image/svg+xml": "<?xml version=\"1.0\" encoding=\"utf-8\" standalone=\"no\"?>\n<!DOCTYPE svg PUBLIC \"-//W3C//DTD SVG 1.1//EN\"\n  \"http://www.w3.org/Graphics/SVG/1.1/DTD/svg11.dtd\">\n<!-- Created with matplotlib (https://matplotlib.org/) -->\n<svg height=\"431.214791pt\" version=\"1.1\" viewBox=\"0 0 460.8 431.214791\" width=\"460.8pt\" xmlns=\"http://www.w3.org/2000/svg\" xmlns:xlink=\"http://www.w3.org/1999/xlink\">\n <defs>\n  <style type=\"text/css\">\n*{stroke-linecap:butt;stroke-linejoin:round;}\n  </style>\n </defs>\n <g id=\"figure_1\">\n  <g id=\"patch_1\">\n   <path d=\"M 0 431.214791 \nL 460.8 431.214791 \nL 460.8 0 \nL 0 0 \nz\n\" style=\"fill:none;\"/>\n  </g>\n  <g id=\"axes_1\">\n   <g clip-path=\"url(#p25b8f5e846)\">\n    <image height=\"98\" id=\"image2ed8f6ff70\" transform=\"scale(1 -1)translate(0 -98)\" width=\"98\" x=\"7.2\" xlink:href=\"data:image/png;base64,\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\" y=\"-19.040674\"/>\n   </g>\n   <g id=\"text_1\">\n    <!-- Coat -->\n    <defs>\n     <path d=\"M 64.40625 67.28125 \nL 64.40625 56.890625 \nQ 59.421875 61.53125 53.78125 63.8125 \nQ 48.140625 66.109375 41.796875 66.109375 \nQ 29.296875 66.109375 22.65625 58.46875 \nQ 16.015625 50.828125 16.015625 36.375 \nQ 16.015625 21.96875 22.65625 14.328125 \nQ 29.296875 6.6875 41.796875 6.6875 \nQ 48.140625 6.6875 53.78125 8.984375 \nQ 59.421875 11.28125 64.40625 15.921875 \nL 64.40625 5.609375 \nQ 59.234375 2.09375 53.4375 0.328125 \nQ 47.65625 -1.421875 41.21875 -1.421875 \nQ 24.65625 -1.421875 15.125 8.703125 \nQ 5.609375 18.84375 5.609375 36.375 \nQ 5.609375 53.953125 15.125 64.078125 \nQ 24.65625 74.21875 41.21875 74.21875 \nQ 47.75 74.21875 53.53125 72.484375 \nQ 59.328125 70.75 64.40625 67.28125 \nz\n\" id=\"DejaVuSans-67\"/>\n     <path d=\"M 30.609375 48.390625 \nQ 23.390625 48.390625 19.1875 42.75 \nQ 14.984375 37.109375 14.984375 27.296875 \nQ 14.984375 17.484375 19.15625 11.84375 \nQ 23.34375 6.203125 30.609375 6.203125 \nQ 37.796875 6.203125 41.984375 11.859375 \nQ 46.1875 17.53125 46.1875 27.296875 \nQ 46.1875 37.015625 41.984375 42.703125 \nQ 37.796875 48.390625 30.609375 48.390625 \nz\nM 30.609375 56 \nQ 42.328125 56 49.015625 48.375 \nQ 55.71875 40.765625 55.71875 27.296875 \nQ 55.71875 13.875 49.015625 6.21875 \nQ 42.328125 -1.421875 30.609375 -1.421875 \nQ 18.84375 -1.421875 12.171875 6.21875 \nQ 5.515625 13.875 5.515625 27.296875 \nQ 5.515625 40.765625 12.171875 48.375 \nQ 18.84375 56 30.609375 56 \nz\n\" id=\"DejaVuSans-111\"/>\n     <path d=\"M 34.28125 27.484375 \nQ 23.390625 27.484375 19.1875 25 \nQ 14.984375 22.515625 14.984375 16.5 \nQ 14.984375 11.71875 18.140625 8.90625 \nQ 21.296875 6.109375 26.703125 6.109375 \nQ 34.1875 6.109375 38.703125 11.40625 \nQ 43.21875 16.703125 43.21875 25.484375 \nL 43.21875 27.484375 \nz\nM 52.203125 31.203125 \nL 52.203125 0 \nL 43.21875 0 \nL 43.21875 8.296875 \nQ 40.140625 3.328125 35.546875 0.953125 \nQ 30.953125 -1.421875 24.3125 -1.421875 \nQ 15.921875 -1.421875 10.953125 3.296875 \nQ 6 8.015625 6 15.921875 \nQ 6 25.140625 12.171875 29.828125 \nQ 18.359375 34.515625 30.609375 34.515625 \nL 43.21875 34.515625 \nL 43.21875 35.40625 \nQ 43.21875 41.609375 39.140625 45 \nQ 35.0625 48.390625 27.6875 48.390625 \nQ 23 48.390625 18.546875 47.265625 \nQ 14.109375 46.140625 10.015625 43.890625 \nL 10.015625 52.203125 \nQ 14.9375 54.109375 19.578125 55.046875 \nQ 24.21875 56 28.609375 56 \nQ 40.484375 56 46.34375 49.84375 \nQ 52.203125 43.703125 52.203125 31.203125 \nz\n\" id=\"DejaVuSans-97\"/>\n     <path d=\"M 18.3125 70.21875 \nL 18.3125 54.6875 \nL 36.8125 54.6875 \nL 36.8125 47.703125 \nL 18.3125 47.703125 \nL 18.3125 18.015625 \nQ 18.3125 11.328125 20.140625 9.421875 \nQ 21.96875 7.515625 27.59375 7.515625 \nL 36.8125 7.515625 \nL 36.8125 0 \nL 27.59375 0 \nQ 17.1875 0 13.234375 3.875 \nQ 9.28125 7.765625 9.28125 18.015625 \nL 9.28125 47.703125 \nL 2.6875 47.703125 \nL 2.6875 54.6875 \nL 9.28125 54.6875 \nL 9.28125 70.21875 \nz\n\" id=\"DejaVuSans-116\"/>\n    </defs>\n    <g transform=\"translate(43.591304 14.798437)scale(0.1 -0.1)\">\n     <use xlink:href=\"#DejaVuSans-67\"/>\n     <use x=\"69.824219\" xlink:href=\"#DejaVuSans-111\"/>\n     <use x=\"131.005859\" xlink:href=\"#DejaVuSans-97\"/>\n     <use x=\"192.285156\" xlink:href=\"#DejaVuSans-116\"/>\n    </g>\n   </g>\n  </g>\n  <g id=\"axes_2\">\n   <g clip-path=\"url(#pca20d437dc)\">\n    <image height=\"98\" id=\"image66f972a8dc\" transform=\"scale(1 -1)translate(0 -98)\" width=\"98\" x=\"123.652174\" xlink:href=\"data:image/png;base64,\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\" y=\"-19.040674\"/>\n   </g>\n   <g id=\"text_2\">\n    <!-- Dress -->\n    <defs>\n     <path d=\"M 19.671875 64.796875 \nL 19.671875 8.109375 \nL 31.59375 8.109375 \nQ 46.6875 8.109375 53.6875 14.9375 \nQ 60.6875 21.78125 60.6875 36.53125 \nQ 60.6875 51.171875 53.6875 57.984375 \nQ 46.6875 64.796875 31.59375 64.796875 \nz\nM 9.8125 72.90625 \nL 30.078125 72.90625 \nQ 51.265625 72.90625 61.171875 64.09375 \nQ 71.09375 55.28125 71.09375 36.53125 \nQ 71.09375 17.671875 61.125 8.828125 \nQ 51.171875 0 30.078125 0 \nL 9.8125 0 \nz\n\" id=\"DejaVuSans-68\"/>\n     <path d=\"M 41.109375 46.296875 \nQ 39.59375 47.171875 37.8125 47.578125 \nQ 36.03125 48 33.890625 48 \nQ 26.265625 48 22.1875 43.046875 \nQ 18.109375 38.09375 18.109375 28.8125 \nL 18.109375 0 \nL 9.078125 0 \nL 9.078125 54.6875 \nL 18.109375 54.6875 \nL 18.109375 46.1875 \nQ 20.953125 51.171875 25.484375 53.578125 \nQ 30.03125 56 36.53125 56 \nQ 37.453125 56 38.578125 55.875 \nQ 39.703125 55.765625 41.0625 55.515625 \nz\n\" id=\"DejaVuSans-114\"/>\n     <path d=\"M 56.203125 29.59375 \nL 56.203125 25.203125 \nL 14.890625 25.203125 \nQ 15.484375 15.921875 20.484375 11.0625 \nQ 25.484375 6.203125 34.421875 6.203125 \nQ 39.59375 6.203125 44.453125 7.46875 \nQ 49.3125 8.734375 54.109375 11.28125 \nL 54.109375 2.78125 \nQ 49.265625 0.734375 44.1875 -0.34375 \nQ 39.109375 -1.421875 33.890625 -1.421875 \nQ 20.796875 -1.421875 13.15625 6.1875 \nQ 5.515625 13.8125 5.515625 26.8125 \nQ 5.515625 40.234375 12.765625 48.109375 \nQ 20.015625 56 32.328125 56 \nQ 43.359375 56 49.78125 48.890625 \nQ 56.203125 41.796875 56.203125 29.59375 \nz\nM 47.21875 32.234375 \nQ 47.125 39.59375 43.09375 43.984375 \nQ 39.0625 48.390625 32.421875 48.390625 \nQ 24.90625 48.390625 20.390625 44.140625 \nQ 15.875 39.890625 15.1875 32.171875 \nz\n\" id=\"DejaVuSans-101\"/>\n     <path d=\"M 44.28125 53.078125 \nL 44.28125 44.578125 \nQ 40.484375 46.53125 36.375 47.5 \nQ 32.28125 48.484375 27.875 48.484375 \nQ 21.1875 48.484375 17.84375 46.4375 \nQ 14.5 44.390625 14.5 40.28125 \nQ 14.5 37.15625 16.890625 35.375 \nQ 19.28125 33.59375 26.515625 31.984375 \nL 29.59375 31.296875 \nQ 39.15625 29.25 43.1875 25.515625 \nQ 47.21875 21.78125 47.21875 15.09375 \nQ 47.21875 7.46875 41.1875 3.015625 \nQ 35.15625 -1.421875 24.609375 -1.421875 \nQ 20.21875 -1.421875 15.453125 -0.5625 \nQ 10.6875 0.296875 5.421875 2 \nL 5.421875 11.28125 \nQ 10.40625 8.6875 15.234375 7.390625 \nQ 20.0625 6.109375 24.8125 6.109375 \nQ 31.15625 6.109375 34.5625 8.28125 \nQ 37.984375 10.453125 37.984375 14.40625 \nQ 37.984375 18.0625 35.515625 20.015625 \nQ 33.0625 21.96875 24.703125 23.78125 \nL 21.578125 24.515625 \nQ 13.234375 26.265625 9.515625 29.90625 \nQ 5.8125 33.546875 5.8125 39.890625 \nQ 5.8125 47.609375 11.28125 51.796875 \nQ 16.75 56 26.8125 56 \nQ 31.78125 56 36.171875 55.265625 \nQ 40.578125 54.546875 44.28125 53.078125 \nz\n\" id=\"DejaVuSans-115\"/>\n    </defs>\n    <g transform=\"translate(160.043478 14.798437)scale(0.1 -0.1)\">\n     <use xlink:href=\"#DejaVuSans-68\"/>\n     <use x=\"77.001953\" xlink:href=\"#DejaVuSans-114\"/>\n     <use x=\"115.865234\" xlink:href=\"#DejaVuSans-101\"/>\n     <use x=\"177.388672\" xlink:href=\"#DejaVuSans-115\"/>\n     <use x=\"229.488281\" xlink:href=\"#DejaVuSans-115\"/>\n    </g>\n   </g>\n  </g>\n  <g id=\"axes_3\">\n   <g clip-path=\"url(#p6d379f89f8)\">\n    <image height=\"98\" id=\"image4c1edfe924\" transform=\"scale(1 -1)translate(0 -98)\" width=\"98\" x=\"240.104348\" xlink:href=\"data:image/png;base64,\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\" y=\"-19.040674\"/>\n   </g>\n   <g id=\"text_3\">\n    <!-- Bag -->\n    <defs>\n     <path d=\"M 19.671875 34.8125 \nL 19.671875 8.109375 \nL 35.5 8.109375 \nQ 43.453125 8.109375 47.28125 11.40625 \nQ 51.125 14.703125 51.125 21.484375 \nQ 51.125 28.328125 47.28125 31.5625 \nQ 43.453125 34.8125 35.5 34.8125 \nz\nM 19.671875 64.796875 \nL 19.671875 42.828125 \nL 34.28125 42.828125 \nQ 41.5 42.828125 45.03125 45.53125 \nQ 48.578125 48.25 48.578125 53.8125 \nQ 48.578125 59.328125 45.03125 62.0625 \nQ 41.5 64.796875 34.28125 64.796875 \nz\nM 9.8125 72.90625 \nL 35.015625 72.90625 \nQ 46.296875 72.90625 52.390625 68.21875 \nQ 58.5 63.53125 58.5 54.890625 \nQ 58.5 48.1875 55.375 44.234375 \nQ 52.25 40.28125 46.1875 39.3125 \nQ 53.46875 37.75 57.5 32.78125 \nQ 61.53125 27.828125 61.53125 20.40625 \nQ 61.53125 10.640625 54.890625 5.3125 \nQ 48.25 0 35.984375 0 \nL 9.8125 0 \nz\n\" id=\"DejaVuSans-66\"/>\n     <path d=\"M 45.40625 27.984375 \nQ 45.40625 37.75 41.375 43.109375 \nQ 37.359375 48.484375 30.078125 48.484375 \nQ 22.859375 48.484375 18.828125 43.109375 \nQ 14.796875 37.75 14.796875 27.984375 \nQ 14.796875 18.265625 18.828125 12.890625 \nQ 22.859375 7.515625 30.078125 7.515625 \nQ 37.359375 7.515625 41.375 12.890625 \nQ 45.40625 18.265625 45.40625 27.984375 \nz\nM 54.390625 6.78125 \nQ 54.390625 -7.171875 48.1875 -13.984375 \nQ 42 -20.796875 29.203125 -20.796875 \nQ 24.46875 -20.796875 20.265625 -20.09375 \nQ 16.0625 -19.390625 12.109375 -17.921875 \nL 12.109375 -9.1875 \nQ 16.0625 -11.328125 19.921875 -12.34375 \nQ 23.78125 -13.375 27.78125 -13.375 \nQ 36.625 -13.375 41.015625 -8.765625 \nQ 45.40625 -4.15625 45.40625 5.171875 \nL 45.40625 9.625 \nQ 42.625 4.78125 38.28125 2.390625 \nQ 33.9375 0 27.875 0 \nQ 17.828125 0 11.671875 7.65625 \nQ 5.515625 15.328125 5.515625 27.984375 \nQ 5.515625 40.671875 11.671875 48.328125 \nQ 17.828125 56 27.875 56 \nQ 33.9375 56 38.28125 53.609375 \nQ 42.625 51.21875 45.40625 46.390625 \nL 45.40625 54.6875 \nL 54.390625 54.6875 \nz\n\" id=\"DejaVuSans-103\"/>\n    </defs>\n    <g transform=\"translate(276.495652 14.798437)scale(0.1 -0.1)\">\n     <use xlink:href=\"#DejaVuSans-66\"/>\n     <use x=\"68.603516\" xlink:href=\"#DejaVuSans-97\"/>\n     <use x=\"129.882812\" xlink:href=\"#DejaVuSans-103\"/>\n    </g>\n   </g>\n  </g>\n  <g id=\"axes_4\">\n   <g clip-path=\"url(#pf91e96e549)\">\n    <image height=\"98\" id=\"imagebcc098b0cf\" transform=\"scale(1 -1)translate(0 -98)\" width=\"98\" x=\"356.556522\" xlink:href=\"data:image/png;base64,\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\" y=\"-19.040674\"/>\n   </g>\n   <g id=\"text_4\">\n    <!-- Shirt -->\n    <defs>\n     <path d=\"M 53.515625 70.515625 \nL 53.515625 60.890625 \nQ 47.90625 63.578125 42.921875 64.890625 \nQ 37.9375 66.21875 33.296875 66.21875 \nQ 25.25 66.21875 20.875 63.09375 \nQ 16.5 59.96875 16.5 54.203125 \nQ 16.5 49.359375 19.40625 46.890625 \nQ 22.3125 44.4375 30.421875 42.921875 \nL 36.375 41.703125 \nQ 47.40625 39.59375 52.65625 34.296875 \nQ 57.90625 29 57.90625 20.125 \nQ 57.90625 9.515625 50.796875 4.046875 \nQ 43.703125 -1.421875 29.984375 -1.421875 \nQ 24.8125 -1.421875 18.96875 -0.25 \nQ 13.140625 0.921875 6.890625 3.21875 \nL 6.890625 13.375 \nQ 12.890625 10.015625 18.65625 8.296875 \nQ 24.421875 6.59375 29.984375 6.59375 \nQ 38.421875 6.59375 43.015625 9.90625 \nQ 47.609375 13.234375 47.609375 19.390625 \nQ 47.609375 24.75 44.3125 27.78125 \nQ 41.015625 30.8125 33.5 32.328125 \nL 27.484375 33.5 \nQ 16.453125 35.6875 11.515625 40.375 \nQ 6.59375 45.0625 6.59375 53.421875 \nQ 6.59375 63.09375 13.40625 68.65625 \nQ 20.21875 74.21875 32.171875 74.21875 \nQ 37.3125 74.21875 42.625 73.28125 \nQ 47.953125 72.359375 53.515625 70.515625 \nz\n\" id=\"DejaVuSans-83\"/>\n     <path d=\"M 54.890625 33.015625 \nL 54.890625 0 \nL 45.90625 0 \nL 45.90625 32.71875 \nQ 45.90625 40.484375 42.875 44.328125 \nQ 39.84375 48.1875 33.796875 48.1875 \nQ 26.515625 48.1875 22.3125 43.546875 \nQ 18.109375 38.921875 18.109375 30.90625 \nL 18.109375 0 \nL 9.078125 0 \nL 9.078125 75.984375 \nL 18.109375 75.984375 \nL 18.109375 46.1875 \nQ 21.34375 51.125 25.703125 53.5625 \nQ 30.078125 56 35.796875 56 \nQ 45.21875 56 50.046875 50.171875 \nQ 54.890625 44.34375 54.890625 33.015625 \nz\n\" id=\"DejaVuSans-104\"/>\n     <path d=\"M 9.421875 54.6875 \nL 18.40625 54.6875 \nL 18.40625 0 \nL 9.421875 0 \nz\nM 9.421875 75.984375 \nL 18.40625 75.984375 \nL 18.40625 64.59375 \nL 9.421875 64.59375 \nz\n\" id=\"DejaVuSans-105\"/>\n    </defs>\n    <g transform=\"translate(392.947826 14.798437)scale(0.1 -0.1)\">\n     <use xlink:href=\"#DejaVuSans-83\"/>\n     <use x=\"63.476562\" xlink:href=\"#DejaVuSans-104\"/>\n     <use x=\"126.855469\" xlink:href=\"#DejaVuSans-105\"/>\n     <use x=\"154.638672\" xlink:href=\"#DejaVuSans-114\"/>\n     <use x=\"195.751953\" xlink:href=\"#DejaVuSans-116\"/>\n    </g>\n   </g>\n  </g>\n  <g id=\"axes_5\">\n   <g clip-path=\"url(#p66ecd267ae)\">\n    <image height=\"98\" id=\"imagefb6eacfd1b\" transform=\"scale(1 -1)translate(0 -98)\" width=\"98\" x=\"7.2\" xlink:href=\"data:image/png;base64,\niVBORw0KGgoAAAANSUhEUgAAAGIAAABiCAYAAACrpQYOAAAABHNCSVQICAgIfAhkiAAABXJJREFUeJztnckrt20Ux6+fmWTOFJFSWCkp08K4M0VZyLASCwvlD2BnYWNBSnaSWCgsLAzJQkjEykLIPGbYmHkWb533nPO+992Px3D8Op/V9+r73s9993yfa/hd0+swxrwZ5cdx++kPUP5BgxCCBiEEDUIIGoQQNAghaBBC0CCEoEEIQYMQggYhBA1CCBqEEDx++gOscHOj/0YcDsf/amOMeX5+/pZv+kq0RghBgxCCBiEEh0ErdMHBwcT09/cH7e3tTTwPj3+7l+PjY+Ld3Nx85je+C/xdxhjz+voKmvctLy8voAMCAoiXkJAA+vr6mnheXl6W78d9G363McZ4enqCPj09pc9Z/onKt6JBCMGjtLQUCh0dHcTETQyvjg8PD6Cfnp6IFxERAXpzc5N48fHxoN/e6L4FXF1nZmaINzc3B3pjY4N4j4+PoD86lG1qaiLl1tZW0GdnZ8Tz9fUFzZsf7Nk1aZeXl8TTGiEEDUIIGoQQPMbHx6GA9XsYGxsj5ZSUFNC4/TbGmMzMTNB5eXnES0pKAp2dnU285uZm0HyoubW1BXpiYoJ4CwsLoHd2doi3vb0N+urqinh7e3ug8TDXGGPu7u5A86F6aGgo6PPzc+LhPgK/2xitEWLQIIRAfll/lNnZWVKOiYkBfXR0RLzc3Ny/fd1/qK+vB93d3U28yclJ0KmpqcQLDAwEfXJyQjz8CzkyMpJ4eMjq5+dHvN3dXcvvxEPbpaUl+j7Lp5RvRYMQggYhBIfD4bDsI3A7yYdwcXFxoPl0BJ61raioIB4eTn4FfCa4pKQE9MrKiuVzfLqlr68PdGNjI/HwMNTHx4d4uN8JCQkhHv57OTw8JJ7WCCFoEEKwHb7ihRRedTG1tbWknJaWBrqlpcX65Wyhxu4dzn7LxcUFKeNfuvx9mOXlZVJOT0936rnPQmuEEDQIIWgQQviUKY73YLe4/hWsr6+D5ittRUVFoIuLi4k3OjoKmvc70dHRTr2bb5LDGxv4qqbWCCFoEEL4cNOEqx3er2MM/RXOf5HbDT0/Cq7yfPNAW1sb6Pb2duLZDUvxwlB4eDjxenp6QONNBn+D1gghaBBC0CCE8O3D16/AbvrDbsho10dkZGSA5hsS8IaBwsJC4tmt0OG+VIevQtEghOASTZOz4CGpMXTfEZ4x5pSXl5Py8PAw6P39feLhzQtdXV3Es5tV0BohBA1CCBqEEFyij8BtLx++2k2p4E0P+fn5xOvv7wfd0NBAPLxRjG8CwMff7IbHfGZWa4QQNAghuETT9BnU1NSQ8sDAgOV/GxUVBbq3t5d4IyMjoIeGhohnN0usNUIIGoQQNAgh/Mo+gg/98HQBP9aFN7jxo1Q5OTmg+RmI5ORk0HyVEZ//4Ht5+ZEzZ9EaIQQNQgi/smnityDgk6uxsbHEw0ek7JoYzsHBAWg+1MS3JyQmJhIPn3DlVFVVgeaLTVojhKBBCEGDEILYyxXtsJvVzMrKImXcvvM9rO7u7qD5DQn42K7dzQP8OFhQUBDouro64lVWVoLGUyHGaI0QgwYhhF/ZNPGmAnN7e0vKeMYTX+hlDG2a+J2FeEGJnw7ll15ZPdfZ2Um8srIyy+e0RghBgxCCBiGEXznFwbHb+zo4OAi6urqaeGtra6DxMWBjjLm/vwfNb64JCwsDzY9xzc/Pg7brE3D/ZIzWCDFoEEJwiabJWaanp0m5oKAANN8mj7fX8/2teA8UvwuQD3WdRWuEEDQIIWgQQnC5PuI9N97g1Tu+6WB1dRX01NQU8fDlXIuLi8T76P+yQWuEEDQIIbhc0/Rb0RohBA1CCBqEEDQIIWgQQtAghKBBCEGDEIIGIQQNQggahBA0CCFoEEL4AxECrP7xzwWuAAAAAElFTkSuQmCC\" y=\"-172.527732\"/>\n   </g>\n   <g id=\"text_5\">\n    <!-- Sandal -->\n    <defs>\n     <path d=\"M 54.890625 33.015625 \nL 54.890625 0 \nL 45.90625 0 \nL 45.90625 32.71875 \nQ 45.90625 40.484375 42.875 44.328125 \nQ 39.84375 48.1875 33.796875 48.1875 \nQ 26.515625 48.1875 22.3125 43.546875 \nQ 18.109375 38.921875 18.109375 30.90625 \nL 18.109375 0 \nL 9.078125 0 \nL 9.078125 54.6875 \nL 18.109375 54.6875 \nL 18.109375 46.1875 \nQ 21.34375 51.125 25.703125 53.5625 \nQ 30.078125 56 35.796875 56 \nQ 45.21875 56 50.046875 50.171875 \nQ 54.890625 44.34375 54.890625 33.015625 \nz\n\" id=\"DejaVuSans-110\"/>\n     <path d=\"M 45.40625 46.390625 \nL 45.40625 75.984375 \nL 54.390625 75.984375 \nL 54.390625 0 \nL 45.40625 0 \nL 45.40625 8.203125 \nQ 42.578125 3.328125 38.25 0.953125 \nQ 33.9375 -1.421875 27.875 -1.421875 \nQ 17.96875 -1.421875 11.734375 6.484375 \nQ 5.515625 14.40625 5.515625 27.296875 \nQ 5.515625 40.1875 11.734375 48.09375 \nQ 17.96875 56 27.875 56 \nQ 33.9375 56 38.25 53.625 \nQ 42.578125 51.265625 45.40625 46.390625 \nz\nM 14.796875 27.296875 \nQ 14.796875 17.390625 18.875 11.75 \nQ 22.953125 6.109375 30.078125 6.109375 \nQ 37.203125 6.109375 41.296875 11.75 \nQ 45.40625 17.390625 45.40625 27.296875 \nQ 45.40625 37.203125 41.296875 42.84375 \nQ 37.203125 48.484375 30.078125 48.484375 \nQ 22.953125 48.484375 18.875 42.84375 \nQ 14.796875 37.203125 14.796875 27.296875 \nz\n\" id=\"DejaVuSans-100\"/>\n     <path d=\"M 9.421875 75.984375 \nL 18.40625 75.984375 \nL 18.40625 0 \nL 9.421875 0 \nz\n\" id=\"DejaVuSans-108\"/>\n    </defs>\n    <g transform=\"translate(43.591304 168.285496)scale(0.1 -0.1)\">\n     <use xlink:href=\"#DejaVuSans-83\"/>\n     <use x=\"63.476562\" xlink:href=\"#DejaVuSans-97\"/>\n     <use x=\"124.755859\" xlink:href=\"#DejaVuSans-110\"/>\n     <use x=\"188.134766\" xlink:href=\"#DejaVuSans-100\"/>\n     <use x=\"251.611328\" xlink:href=\"#DejaVuSans-97\"/>\n     <use x=\"312.890625\" xlink:href=\"#DejaVuSans-108\"/>\n    </g>\n   </g>\n  </g>\n  <g id=\"axes_6\">\n   <g clip-path=\"url(#p2c0ba7e15c)\">\n    <image height=\"98\" id=\"image6eb21c521d\" transform=\"scale(1 -1)translate(0 -98)\" width=\"98\" x=\"123.652174\" xlink:href=\"data:image/png;base64,\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\" y=\"-172.527732\"/>\n   </g>\n   <g id=\"text_6\">\n    <!-- Ankle boot -->\n    <defs>\n     <path d=\"M 34.1875 63.1875 \nL 20.796875 26.90625 \nL 47.609375 26.90625 \nz\nM 28.609375 72.90625 \nL 39.796875 72.90625 \nL 67.578125 0 \nL 57.328125 0 \nL 50.6875 18.703125 \nL 17.828125 18.703125 \nL 11.1875 0 \nL 0.78125 0 \nz\n\" id=\"DejaVuSans-65\"/>\n     <path d=\"M 9.078125 75.984375 \nL 18.109375 75.984375 \nL 18.109375 31.109375 \nL 44.921875 54.6875 \nL 56.390625 54.6875 \nL 27.390625 29.109375 \nL 57.625 0 \nL 45.90625 0 \nL 18.109375 26.703125 \nL 18.109375 0 \nL 9.078125 0 \nz\n\" id=\"DejaVuSans-107\"/>\n     <path id=\"DejaVuSans-32\"/>\n     <path d=\"M 48.6875 27.296875 \nQ 48.6875 37.203125 44.609375 42.84375 \nQ 40.53125 48.484375 33.40625 48.484375 \nQ 26.265625 48.484375 22.1875 42.84375 \nQ 18.109375 37.203125 18.109375 27.296875 \nQ 18.109375 17.390625 22.1875 11.75 \nQ 26.265625 6.109375 33.40625 6.109375 \nQ 40.53125 6.109375 44.609375 11.75 \nQ 48.6875 17.390625 48.6875 27.296875 \nz\nM 18.109375 46.390625 \nQ 20.953125 51.265625 25.265625 53.625 \nQ 29.59375 56 35.59375 56 \nQ 45.5625 56 51.78125 48.09375 \nQ 58.015625 40.1875 58.015625 27.296875 \nQ 58.015625 14.40625 51.78125 6.484375 \nQ 45.5625 -1.421875 35.59375 -1.421875 \nQ 29.59375 -1.421875 25.265625 0.953125 \nQ 20.953125 3.328125 18.109375 8.203125 \nL 18.109375 0 \nL 9.078125 0 \nL 9.078125 75.984375 \nL 18.109375 75.984375 \nz\n\" id=\"DejaVuSans-98\"/>\n    </defs>\n    <g transform=\"translate(160.043478 168.285496)scale(0.1 -0.1)\">\n     <use xlink:href=\"#DejaVuSans-65\"/>\n     <use x=\"68.408203\" xlink:href=\"#DejaVuSans-110\"/>\n     <use x=\"131.787109\" xlink:href=\"#DejaVuSans-107\"/>\n     <use x=\"189.697266\" xlink:href=\"#DejaVuSans-108\"/>\n     <use x=\"217.480469\" xlink:href=\"#DejaVuSans-101\"/>\n     <use x=\"279.003906\" xlink:href=\"#DejaVuSans-32\"/>\n     <use x=\"310.791016\" xlink:href=\"#DejaVuSans-98\"/>\n     <use x=\"374.267578\" xlink:href=\"#DejaVuSans-111\"/>\n     <use x=\"435.449219\" xlink:href=\"#DejaVuSans-111\"/>\n     <use x=\"496.630859\" xlink:href=\"#DejaVuSans-116\"/>\n    </g>\n   </g>\n  </g>\n  <g id=\"axes_7\">\n   <g clip-path=\"url(#p2c54c22936)\">\n    <image height=\"98\" id=\"imagee35399ebe1\" transform=\"scale(1 -1)translate(0 -98)\" width=\"98\" x=\"240.104348\" xlink:href=\"data:image/png;base64,\niVBORw0KGgoAAAANSUhEUgAAAGIAAABiCAYAAACrpQYOAAAABHNCSVQICAgIfAhkiAAAB6JJREFUeJztXTtPVV0QnauoqCgKKqJGAwoqRBO1sNFEQ4J0akKjBYWJ/AB7Ev+BsTQhsaCwEIONhUpQY0HwlRikwML4Fl+gIPhAwW5csz7ODiF4GfPNqtbJ5J6z753M7LVnzz43JyKTMg0sXbrUXO/Zs0f52rVrjW3Xrl3KP378aGzbt29X/uvXL2MrKipSvnDhQmNbsGCB8ra2NmNrb29Pjj0L8+fPzxwL4tatW+b6w4cPysfGxoxtcvLPz9nR0WFsfI2Ylx5qIF8IRzhBOMIJCjAvt7S0GGN9fb3yDRs2GNu8eX98ODQ0ZGyYJz99+mRs3759U/79+3djW716tfIvX74Y2+LFi5VfvHjR2E6cOKH8/PnzMhvA77dixQpjW7NmjfKfP39mjnPZsmXGFnPEP4BwhBPkurq6NI+Mj48bI4YdyzuUk4WFhcZWUFCgHENVRKS4uFg5pikRkYmJCeWctnK5nHIeJ0rio0ePGtvNmzclC3hPTKeMe/fumWuU1j9+/Mi8J6flurq6zGdERDhBOMIJwhFOkDt27Jgmx+PHjxvj8uXLlbMUw3kA86KILXnwPICyEOcZtvGchLl4eHjY2AYHB5Vv3bo1cyw4B/F3YBmK6OnpMdco+XmOwLIJ/y47duzIfEZEhBOEI5wgV1lZqanpwoULxvju3TvlvNLFUH779q2xjY6OKl+1apWxrV+/XjmGuIgNa672lpWVKed08P79+ynvISKycuVK5dXV1TITjIyMmOtXr14pZ5mNv8u6deuMbfPmzcq5ahsR4QThCCcIRzhBwZMnT/SCc/2LFy+U37lzx9gwT/NSHnM259eDBw8qP3TokB0MyEkGzjuY9/lzz549MzYsR/T19RlbbW1t5vMQLKXxeSmZ/ebNG2PD8k7MEU4RjnACkwsOHz5sjNgEsGTJEmNbtGiRctzQERHZtm2bck4juNp8/vy5sW3ZsuXPwChNYcWVN6LwGZs2bTK2p0+fKsfUwPfhcSK4kQErtVgNELHfD38jEZHy8nLlnLYiIpwgHOEE4QgnMImYd6kePHgw6w/cu3ev8pMnTxobVmqx8iti5R7PV5jruWyCTQ8o1UXsnMG7fjhfoYwXsbuOLF9T1dedO3cq5982IsIJwhFOYFITSzG+zgKHIIJDHjdZMPxFRE6dOqWcV55Y/eVNnNLS0syxoAzGCq6IXYWzJMZKAqdsTEfcOIHVWK4EV1VVSRYiIpwgHOEE4QgnyMk0z0fMFFyqSG3Sd3Z2KudmBZwzeO7C3tTUrh+XHFAu8zkOLEFwkxzuHrLMxgYF/u53795V3tTUZGwREU4QjnCC7J2YWQKnolS/6aVLl5TzqhvTCt8T5eTnz58zn8+pCVMMS1vc+Gdpi5td/DwcCz+P0yYiIsIJwhFOEI5wgr8uXxmpflPcweru7jY2bHbD47Uitr+Vj1kNDAwoZ9mLUpNtWJnlHTosa/BOG/bzfv361dhw9xCr0CIREW4QjnCCvy5fGdwaj8Awv337trFhSzuvWFO9trgq5kowphxOIyhZOTXhqVLs5RURefnypXKuvmKarKysNLaICCcIRzhBOMIJ5nSO4KNbmMP5jTO48c67Ygje2UMZyhVWHAs3AWAphqXt5cuXle/bt8/YUEqztMXvFw1mThGOcIK8r6wx5Fne4Uqb01Zvb69yPlWa+lxJSYlyPuGKkpUrpXhSlSVxa2urcu61PXLkiHI+koD9WHiMSyQiwg3CEU4QjnCCvMtXROqFhlyOePjwoXI8fyFim7q46QCPlfHLv7Acwcd08QgWz2U1NTXKuRKMcws3Fly7dk2yEBHhBOEIJ8h7akq9oCqF/v5+5ZgaRGxa4TcW4AqWK6UoJ/nNCthPy6lp9+7dyjG9idhVOL8h4cyZM5KFiAgnCEc4QTjCCeZUvjJSzWfYPMC5F3fhePcOSxycz3HO4EYxrPBy2QRlKb+oC+cTLMuIiDx+/FiyEBHhBOEIJ3CVmlLv9MNrbkDAz/HGEMpZTk1YVcW/YeBncBUVU2Fqs+nKlSsyXUREOEE4wgnCEU6Q9zkiJVFTx4RRFnLDF8pZlpooZzdu3GhsWMZ49OiRsXV1dSnHXTceC0tplLap8xCMiAgnCEc4gSv5muqLRfDqGaUt27DRAHtPRWyKwV4lEZH9+/cr576m169fK+eqLY6lsbHR2M6ePStZiIhwgnCEE4QjnOCf2aFDKZg6gsU9pVjiYPmKMpiPfKXeIIDXPBaUs3zPFCIinCAc4QRzKl95JZ1KW3hcitMBphiWwLjS5oou9k7hKltE5Pr168q5VwrfEcvfATeUmpubZbqIiHCCcIQThCOcYE7nCJ4TMJ9z7yvmdz7ngOCXXOE9U1XbAwcOGBte81hwHuI5CcfGf6Vz48YN5Ty3REQ4QTjCCf4Z+VpRUaGcV6yYfri9Hv8lBnujROyqm6UtNhbwUTHslWLZi80L+O8xIiLnzp2bcswiERFuEI5wgnCEE7iSr6l3wuLRLfxnRBH7wi0+ntXQ0KCcc/1MgecqTp8+bWz3799XfvXq1cx78HeNiHCCcIQT5P3NA/9nYNX4P/27+R5MYGqEI5wgHOEEMUc4QUSEE4QjnOA3DX3nwhaFPDkAAAAASUVORK5CYII=\" y=\"-172.527732\"/>\n   </g>\n   <g id=\"text_7\">\n    <!-- Ankle boot -->\n    <g transform=\"translate(276.495652 168.285496)scale(0.1 -0.1)\">\n     <use xlink:href=\"#DejaVuSans-65\"/>\n     <use x=\"68.408203\" xlink:href=\"#DejaVuSans-110\"/>\n     <use x=\"131.787109\" xlink:href=\"#DejaVuSans-107\"/>\n     <use x=\"189.697266\" xlink:href=\"#DejaVuSans-108\"/>\n     <use x=\"217.480469\" xlink:href=\"#DejaVuSans-101\"/>\n     <use x=\"279.003906\" xlink:href=\"#DejaVuSans-32\"/>\n     <use x=\"310.791016\" xlink:href=\"#DejaVuSans-98\"/>\n     <use x=\"374.267578\" xlink:href=\"#DejaVuSans-111\"/>\n     <use x=\"435.449219\" xlink:href=\"#DejaVuSans-111\"/>\n     <use x=\"496.630859\" xlink:href=\"#DejaVuSans-116\"/>\n    </g>\n   </g>\n  </g>\n  <g id=\"axes_8\">\n   <g clip-path=\"url(#p94f548198a)\">\n    <image height=\"98\" id=\"image5690971eba\" transform=\"scale(1 -1)translate(0 -98)\" width=\"98\" x=\"356.556522\" xlink:href=\"data:image/png;base64,\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\" y=\"-172.527732\"/>\n   </g>\n   <g id=\"text_8\">\n    <!-- Sneaker -->\n    <g transform=\"translate(392.947826 168.285496)scale(0.1 -0.1)\">\n     <use xlink:href=\"#DejaVuSans-83\"/>\n     <use x=\"63.476562\" xlink:href=\"#DejaVuSans-110\"/>\n     <use x=\"126.855469\" xlink:href=\"#DejaVuSans-101\"/>\n     <use x=\"188.378906\" xlink:href=\"#DejaVuSans-97\"/>\n     <use x=\"249.658203\" xlink:href=\"#DejaVuSans-107\"/>\n     <use x=\"303.943359\" xlink:href=\"#DejaVuSans-101\"/>\n     <use x=\"365.466797\" xlink:href=\"#DejaVuSans-114\"/>\n    </g>\n   </g>\n  </g>\n  <g id=\"axes_9\">\n   <g clip-path=\"url(#p060cadae8a)\">\n    <image height=\"98\" id=\"image0fc32b63f7\" transform=\"scale(1 -1)translate(0 -98)\" width=\"98\" x=\"7.2\" xlink:href=\"data:image/png;base64,\niVBORw0KGgoAAAANSUhEUgAAAGIAAABiCAYAAACrpQYOAAAABHNCSVQICAgIfAhkiAAABRFJREFUeJztnblKbEEQhnvc9wXFXUxEBCNB8Rl8BfERTMXMxzE2VzBRDDQycGFccA/UccF9vVnfv8p7DufKne6C+39RNTWeOVDW0tXL5JxzX84Is7OzXu7o6BC6zc1NLy8uLgrd9va2l8fHx4Wut7fXy4+Pj0K3urrq5b29vR+88b+jJOq3Ew8NYQQawgg5ZyhHrK+ve7murk7oamtrvTw3Nyd0MzMzXi4UCkL39PTkZZ0j5ufnvTw9Pf2DN/530COMQEMYoSzml7e3t4sxhqPz83Oha21t9fLCwkLiM/P5fKLu9fVVjO/u7jK9ZwjoEUagIYxAQxghao4YHh5O1JWWlopxScnv/xmdPxDdGsHPVldXC93b21um9wwBPcIINIQRTIUmDEdlZfLVsIt6fHyc+MyamhoxzuVyf5Sdc+7z8zP7yxYZeoQRaAgj0BBGMJUjMGZjueqcc7e3t15Oa03U19cn6tJK4tjYeZP/HBrCCFFD0+DgoBg/PDwkfjZrp/TrS65z6XCENDQ0ZHpmCOgRRqAhjEBDGCFqjsC2hXNyo1hlZaXQnZ6eZnqmbo1gW0N3W1m+km/QEEYIHpqwZNULNS8vL17W+5r29/czPV+Xq1jO6tKW3VfyDRrCCDSEEYLniNHR0UTdx8dHoi4tR2AZuru7K3SYF3S5WlFRkfjM0NAjjEBDGCF4aGppafGy7rZiGHl/fxe6g4ODxGfi7FmXr+Xl5V7We191+RwTeoQRaAgj0BBGCJ4jsHWBLQ3nZKzXnVncPKDBjmtaSfr8/CzGXKEj36AhjBA8NHV3d3tZn/LEmbWeZadtocdwpzus+B36GXjiNDb0CCPQEEagIYwQPEc0NTV5WcdozAu6tMWVvaWlJaHr7Oz0sl51w7yA7Q7nvp+XiAk9wgg0hBGChyac+abtQdLdV73PCenq6vKyDj9pC0NYSseGHmEEGsIINIQRgueIy8tLL+u4jyXr9fW10A0NDSU+E3WYL5xzbmdnJ/HvdI6KCT3CCDSEEYL75snJiZfxnj7nZKi6uLgQurGxscRnNjc3J+qwJP6bY12hoUcYgYYwAg1hhOA5Ai+y0jE6rfuqL2JE2travKy7r1ii6m4vdoJjQ48wAg1hhOChCcOD7pRiqNIXYN3c3Hh5ampK6Pr7+72sbyjAUKXLV+zG4r2yzskOQAjoEUagIYxAQxgheI7A1oVeMcMYrvMHHt2anJwUOuy+Hh0dCR1+R9rRMN1uYY74T6EhjBA8NG1tbSXqcGOBniFj2YvHv5yTIUdvOsCxDk14lGtgYEDoDg8PE9+zGNAjjEBDGIGGMELwHIH3euvzCmk5AjcF6BW5s7MzL9/f3wsdlq+6XMazEyMjI0KX9vM5xYAeYQQawghRN/asrKyIcU9Pj5d1iMFZt+6wYsjRiz9pW+8x/OlbCUJDjzACDWEEGsIIUXOE3pfa19fnZVyRc07+HIHes4od3bT9tPpWAmx/6F/rCg09wgg0hBGihqarqysxxlKzqqpK6HCsZ+Q4Q9YbBBBdomKoamxszPDGxYMeYQQawgg0hBGi5oi1tTUxnpiY8LLOEdjy0HtWMb7rFTpsf+jLHHHDQNoRrxDQI4xAQxghamhaXl4WY1zA39jYEDqcTeuFIezG6tkzhh+9nxb32hYKhayvXRToEUagIYxAQxghao7Q97DiflPdYcXP5vN5ocNWSdrP1ehVP1wRxCNlMaBHGIGGMMIvS5yiWs4UWZAAAAAASUVORK5CYII=\" y=\"-326.014791\"/>\n   </g>\n   <g id=\"text_9\">\n    <!-- Trouser -->\n    <defs>\n     <path d=\"M -0.296875 72.90625 \nL 61.375 72.90625 \nL 61.375 64.59375 \nL 35.5 64.59375 \nL 35.5 0 \nL 25.59375 0 \nL 25.59375 64.59375 \nL -0.296875 64.59375 \nz\n\" id=\"DejaVuSans-84\"/>\n     <path d=\"M 8.5 21.578125 \nL 8.5 54.6875 \nL 17.484375 54.6875 \nL 17.484375 21.921875 \nQ 17.484375 14.15625 20.5 10.265625 \nQ 23.53125 6.390625 29.59375 6.390625 \nQ 36.859375 6.390625 41.078125 11.03125 \nQ 45.3125 15.671875 45.3125 23.6875 \nL 45.3125 54.6875 \nL 54.296875 54.6875 \nL 54.296875 0 \nL 45.3125 0 \nL 45.3125 8.40625 \nQ 42.046875 3.421875 37.71875 1 \nQ 33.40625 -1.421875 27.6875 -1.421875 \nQ 18.265625 -1.421875 13.375 4.4375 \nQ 8.5 10.296875 8.5 21.578125 \nz\nM 31.109375 56 \nz\n\" id=\"DejaVuSans-117\"/>\n    </defs>\n    <g transform=\"translate(43.591304 321.772555)scale(0.1 -0.1)\">\n     <use xlink:href=\"#DejaVuSans-84\"/>\n     <use x=\"46.333984\" xlink:href=\"#DejaVuSans-114\"/>\n     <use x=\"85.197266\" xlink:href=\"#DejaVuSans-111\"/>\n     <use x=\"146.378906\" xlink:href=\"#DejaVuSans-117\"/>\n     <use x=\"209.757812\" xlink:href=\"#DejaVuSans-115\"/>\n     <use x=\"261.857422\" xlink:href=\"#DejaVuSans-101\"/>\n     <use x=\"323.380859\" xlink:href=\"#DejaVuSans-114\"/>\n    </g>\n   </g>\n  </g>\n  <g id=\"axes_10\">\n   <g clip-path=\"url(#padc41cbd0f)\">\n    <image height=\"98\" id=\"imagedc1e860b97\" transform=\"scale(1 -1)translate(0 -98)\" width=\"98\" x=\"123.652174\" xlink:href=\"data:image/png;base64,\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\" y=\"-326.014791\"/>\n   </g>\n   <g id=\"text_10\">\n    <!-- Sneaker -->\n    <g transform=\"translate(160.043478 321.772555)scale(0.1 -0.1)\">\n     <use xlink:href=\"#DejaVuSans-83\"/>\n     <use x=\"63.476562\" xlink:href=\"#DejaVuSans-110\"/>\n     <use x=\"126.855469\" xlink:href=\"#DejaVuSans-101\"/>\n     <use x=\"188.378906\" xlink:href=\"#DejaVuSans-97\"/>\n     <use x=\"249.658203\" xlink:href=\"#DejaVuSans-107\"/>\n     <use x=\"303.943359\" xlink:href=\"#DejaVuSans-101\"/>\n     <use x=\"365.466797\" xlink:href=\"#DejaVuSans-114\"/>\n    </g>\n   </g>\n  </g>\n  <g id=\"axes_11\">\n   <g clip-path=\"url(#p07be3b54a1)\">\n    <image height=\"98\" id=\"imagedbe10289be\" transform=\"scale(1 -1)translate(0 -98)\" width=\"98\" x=\"240.104348\" xlink:href=\"data:image/png;base64,\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\" y=\"-326.014791\"/>\n   </g>\n   <g id=\"text_11\">\n    <!-- Coat -->\n    <g transform=\"translate(276.495652 321.772555)scale(0.1 -0.1)\">\n     <use xlink:href=\"#DejaVuSans-67\"/>\n     <use x=\"69.824219\" xlink:href=\"#DejaVuSans-111\"/>\n     <use x=\"131.005859\" xlink:href=\"#DejaVuSans-97\"/>\n     <use x=\"192.285156\" xlink:href=\"#DejaVuSans-116\"/>\n    </g>\n   </g>\n  </g>\n  <g id=\"axes_12\">\n   <g clip-path=\"url(#p0d691e5901)\">\n    <image height=\"98\" id=\"image103ad68a19\" transform=\"scale(1 -1)translate(0 -98)\" width=\"98\" x=\"356.556522\" xlink:href=\"data:image/png;base64,\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\" y=\"-326.014791\"/>\n   </g>\n   <g id=\"text_12\">\n    <!-- Bag -->\n    <g transform=\"translate(392.947826 321.772555)scale(0.1 -0.1)\">\n     <use xlink:href=\"#DejaVuSans-66\"/>\n     <use x=\"68.603516\" xlink:href=\"#DejaVuSans-97\"/>\n     <use x=\"129.882812\" xlink:href=\"#DejaVuSans-103\"/>\n    </g>\n   </g>\n  </g>\n </g>\n <defs>\n  <clipPath id=\"p25b8f5e846\">\n   <rect height=\"97.043478\" width=\"97.043478\" x=\"7.2\" y=\"19.997195\"/>\n  </clipPath>\n  <clipPath id=\"pca20d437dc\">\n   <rect height=\"97.043478\" width=\"97.043478\" x=\"123.652174\" y=\"19.997195\"/>\n  </clipPath>\n  <clipPath id=\"p6d379f89f8\">\n   <rect height=\"97.043478\" width=\"97.043478\" x=\"240.104348\" y=\"19.997195\"/>\n  </clipPath>\n  <clipPath id=\"pf91e96e549\">\n   <rect height=\"97.043478\" width=\"97.043478\" x=\"356.556522\" y=\"19.997195\"/>\n  </clipPath>\n  <clipPath id=\"p66ecd267ae\">\n   <rect height=\"97.043478\" width=\"97.043478\" x=\"7.2\" y=\"173.484254\"/>\n  </clipPath>\n  <clipPath id=\"p2c0ba7e15c\">\n   <rect height=\"97.043478\" width=\"97.043478\" x=\"123.652174\" y=\"173.484254\"/>\n  </clipPath>\n  <clipPath id=\"p2c54c22936\">\n   <rect height=\"97.043478\" width=\"97.043478\" x=\"240.104348\" y=\"173.484254\"/>\n  </clipPath>\n  <clipPath id=\"p94f548198a\">\n   <rect height=\"97.043478\" width=\"97.043478\" x=\"356.556522\" y=\"173.484254\"/>\n  </clipPath>\n  <clipPath id=\"p060cadae8a\">\n   <rect height=\"97.043478\" width=\"97.043478\" x=\"7.2\" y=\"326.971313\"/>\n  </clipPath>\n  <clipPath id=\"padc41cbd0f\">\n   <rect height=\"97.043478\" width=\"97.043478\" x=\"123.652174\" y=\"326.971313\"/>\n  </clipPath>\n  <clipPath id=\"p07be3b54a1\">\n   <rect height=\"97.043478\" width=\"97.043478\" x=\"240.104348\" y=\"326.971313\"/>\n  </clipPath>\n  <clipPath id=\"p0d691e5901\">\n   <rect height=\"97.043478\" width=\"97.043478\" x=\"356.556522\" y=\"326.971313\"/>\n  </clipPath>\n </defs>\n</svg>\n"
          },
          "metadata": {
            "needs_background": "light"
          }
        }
      ]
    },
    {
      "cell_type": "markdown",
      "source": [
        "### working with data from google drive"
      ],
      "metadata": {
        "id": "h-nzx2oCYtyr"
      }
    },
    {
      "cell_type": "code",
      "source": [
        "# we already have the data and labels s follow\n",
        "images = training_images()\n",
        "labels = training_labels()\n",
        "classes = {0: 'T-shirt/top', 1: 'Trouser', 2: 'Pullover', 3: 'Dress', \n",
        "           4: 'Coat', 5: 'Sandal', 6: 'Shirt', 7: 'Sneaker', 8: 'Bag', 9: 'Ankle boot'}\n",
        "\n",
        "print (type(images))\n",
        "print(images.shape)\n",
        "print(' ')\n",
        "print(type(labels))\n",
        "print(labels.shape)"
      ],
      "metadata": {
        "colab": {
          "base_uri": "https://localhost:8080/"
        },
        "id": "ADNtyZhgYx8Y",
        "outputId": "9fbba04b-7160-4d2b-db8a-878a803ace51"
      },
      "execution_count": 10,
      "outputs": [
        {
          "output_type": "stream",
          "name": "stdout",
          "text": [
            "<class 'numpy.ndarray'>\n",
            "(60000, 28, 28)\n",
            " \n",
            "<class 'numpy.ndarray'>\n",
            "(60000,)\n"
          ]
        }
      ]
    },
    {
      "cell_type": "code",
      "source": [
        "# let's Normalize the data\n",
        "\n",
        "dataNorm = images / np.max(images)\n",
        "print(dataNorm.shape)\n",
        "\n",
        "print(np.min(images), np.max(images))\n",
        "print(np.min(dataNorm), np.max(dataNorm))"
      ],
      "metadata": {
        "colab": {
          "base_uri": "https://localhost:8080/"
        },
        "id": "ZgPPesvlZVJk",
        "outputId": "15c3bc4c-b08d-4618-bc3f-e62ad25f4370"
      },
      "execution_count": 11,
      "outputs": [
        {
          "output_type": "stream",
          "name": "stdout",
          "text": [
            "(60000, 28, 28)\n",
            "0 255\n",
            "0.0 1.0\n"
          ]
        }
      ]
    },
    {
      "cell_type": "code",
      "source": [
        "# now we have to eshape it to (Number of images, number of channels, Number of H pixels, Number of W pixels)\n",
        "\n",
        "dataNorm = dataNorm.reshape(dataNorm.shape[0], 1, 28, 28)\n",
        "print(dataNorm.shape)"
      ],
      "metadata": {
        "colab": {
          "base_uri": "https://localhost:8080/"
        },
        "id": "3Azf3IkKaFcu",
        "outputId": "2ff1f6c4-9dab-41e2-b840-babe562fe860"
      },
      "execution_count": 12,
      "outputs": [
        {
          "output_type": "stream",
          "name": "stdout",
          "text": [
            "(60000, 1, 28, 28)\n"
          ]
        }
      ]
    },
    {
      "cell_type": "code",
      "source": [
        "# creating train/test groups using dataloader\n",
        "\n",
        "# step1 : convert to tensor\n",
        "\n",
        "dataT = torch.tensor(dataNorm).float()\n",
        "labelsT = torch.tensor(labels).long()\n",
        "\n",
        "# step 2 : we have to split the training and test data using scikit learn function\n",
        "train_data, test_data, train_labels, test_labels = train_test_split(dataT, labelsT,\n",
        "                                                                    test_size= 0.1)\n",
        "\n",
        "# step 3 : convert into PyTorch datasets\n",
        "train_data = TensorDataset(train_data, train_labels)\n",
        "test_data = TensorDataset(test_data, test_labels)\n",
        "\n",
        "# step 4 : Create dataloaders\n",
        "trainloader = DataLoader(train_data, batch_size= 32, shuffle= True, drop_last= True)\n",
        "testloader = DataLoader(test_data, batch_size= 256)"
      ],
      "metadata": {
        "id": "rEpxaDaoa8UU"
      },
      "execution_count": 13,
      "outputs": []
    },
    {
      "cell_type": "code",
      "source": [
        "# check size (should be images X channels X width X height)\n",
        "print(trainloader.dataset.tensors[0].shape)\n",
        "print(testloader.dataset.tensors[0].shape)\n",
        "print(labelsT.shape)"
      ],
      "metadata": {
        "colab": {
          "base_uri": "https://localhost:8080/"
        },
        "id": "egSlg9QDaikE",
        "outputId": "d131d238-03cf-487d-f1df-7bbdf70989bf"
      },
      "execution_count": 14,
      "outputs": [
        {
          "output_type": "stream",
          "name": "stdout",
          "text": [
            "torch.Size([54000, 1, 28, 28])\n",
            "torch.Size([6000, 1, 28, 28])\n",
            "torch.Size([60000])\n"
          ]
        }
      ]
    },
    {
      "cell_type": "markdown",
      "source": [
        "### Create the NN model function"
      ],
      "metadata": {
        "id": "TRjUUHFtcrfU"
      }
    },
    {
      "cell_type": "code",
      "source": [
        "def FMNISTmodel(print_option= False):\n",
        "    class fmnist(nn.Module):\n",
        "        def __init__(self, print_option):\n",
        "            super().__init__()\n",
        "\n",
        "            # convolution layers\n",
        "            self.convolution1 = nn.Conv2d(1, 10, kernel_size= 5, stride=1, padding= 1)   # size : np.floor((28+ 2*1 -5)/1) + 1 =26  ---> maxpooling 26/2 = 13\n",
        "            self.convolution2 = nn.Conv2d(10, 20, kernel_size= 5, stride=1, padding= 1)  # size : np.floor((13+ 2*1 -5)/1) + 1 =11  ---> maxpooling 11/2 = 5\n",
        "            self.convolution3 = nn.Conv2d(20, 40, kernel_size= 3, stride= 1, padding= 1) # size : np.floor((5+ 2*1 -3)/1) + 1 = 5    ---> maxpooling 5/2 = 2\n",
        "            expectSize = 40* (int((np.floor((5+ 2*1 -3)/1) + 1)/2)**2)\n",
        "            \n",
        "            # Fully connected layers\n",
        "            self.ffn1 = nn.Linear(expectSize, 80)\n",
        "            self.ffn2 = nn.Linear(80, 50)\n",
        "            self.output = nn.Linear(50, 10)\n",
        "\n",
        "            self.print = print_option\n",
        "\n",
        "        def forward(self, x):\n",
        "\n",
        "            if self.print : print(x.shape)\n",
        "            # Convolution Layers\n",
        "            x = F.leaky_relu(F.max_pool2d(self.convolution1(x), 2))\n",
        "            if self.print : print(x.shape)\n",
        "            x = F.leaky_relu(F.max_pool2d(self.convolution2(x), 2))\n",
        "            if self.print : print(x.shape)\n",
        "            x = F.leaky_relu(F.max_pool2d(self.convolution3(x), 2))\n",
        "            if self.print : print(x.shape)\n",
        "\n",
        "            # reshape the matrix for Linear laye input\n",
        "            nUnits = x.shape.numel()/x.shape[0]\n",
        "            x = x.view(-1,int(nUnits))\n",
        "            if self.print : print('Vectorized matrix  ',x.shape)\n",
        "\n",
        "            # Linear Layers\n",
        "            x = F.leaky_relu(self.ffn1(x))\n",
        "            if self.print : print(x.shape)\n",
        "            x = F.leaky_relu(self.ffn2(x))\n",
        "            if self.print : print(x.shape)\n",
        "            x = self.output(x)\n",
        "            if self.print : print(x.shape)\n",
        "\n",
        "            return x\n",
        "        \n",
        "    net = fmnist(print_option)\n",
        "    lossfun = nn.CrossEntropyLoss()\n",
        "    optimizer = torch.optim.Adam(params = net.parameters(), lr= 0.001, weight_decay= 0.00001)\n",
        "\n",
        "    return net, lossfun, optimizer"
      ],
      "metadata": {
        "id": "hiL7mZDNcahs"
      },
      "execution_count": 15,
      "outputs": []
    },
    {
      "cell_type": "code",
      "source": [
        "# test with one batch of data\n",
        "\n",
        "net, loss, opt = FMNISTmodel(print_option= True)\n",
        "\n",
        "X, y = next(iter(trainloader))\n",
        "yHat = net(X)\n",
        "\n",
        "print('yHat shape:', yHat.shape)\n",
        "print(y.shape)\n",
        "print(' ')\n",
        "lossvalue = loss(yHat, y)\n",
        "print(lossvalue)"
      ],
      "metadata": {
        "colab": {
          "base_uri": "https://localhost:8080/"
        },
        "id": "WoYYN9ZLe-xh",
        "outputId": "3dd18727-98e1-448e-836c-14b9e006ab30"
      },
      "execution_count": 16,
      "outputs": [
        {
          "output_type": "stream",
          "name": "stdout",
          "text": [
            "torch.Size([32, 1, 28, 28])\n",
            "torch.Size([32, 10, 13, 13])\n",
            "torch.Size([32, 20, 5, 5])\n",
            "torch.Size([32, 40, 2, 2])\n",
            "Vectorized matrix   torch.Size([32, 160])\n",
            "torch.Size([32, 80])\n",
            "torch.Size([32, 50])\n",
            "torch.Size([32, 10])\n",
            "yHat shape: torch.Size([32, 10])\n",
            "torch.Size([32])\n",
            " \n",
            "tensor(2.3110, grad_fn=<NllLossBackward0>)\n"
          ]
        }
      ]
    },
    {
      "cell_type": "code",
      "source": [
        "from torchsummary import summary\n",
        "# summary(net,(1,28,28))"
      ],
      "metadata": {
        "id": "g4XbB7MwhomZ"
      },
      "execution_count": 18,
      "outputs": []
    },
    {
      "cell_type": "markdown",
      "source": [
        "### Create a function to train the model "
      ],
      "metadata": {
        "id": "u-oDbetS1XC-"
      }
    },
    {
      "cell_type": "code",
      "source": [
        "# Create a model to train the NN model\n",
        "\n",
        "def trainmodel(number_of_epochs = 1):\n",
        "\n",
        "    numberepochs = number_of_epochs\n",
        "\n",
        "    net, lossfun, optimizer = FMNISTmodel(print_option= False)\n",
        "    net.to(device)\n",
        "\n",
        "    trainloss = torch.zeros(numberepochs)\n",
        "    trainAcc = torch.zeros(numberepochs)\n",
        "    testAcc  = []\n",
        "\n",
        "    for epoch in range(numberepochs):\n",
        "        print('Starting epoch is: ', epoch+1)\n",
        "        net.train()\n",
        "        batchAcc = []\n",
        "        batchloss = []\n",
        "\n",
        "        for X,y in trainloader:\n",
        "\n",
        "            X = X.to(device)\n",
        "            y= y.to(device)\n",
        "\n",
        "            yHat = net(X)\n",
        "            loss = lossfun(yHat, y)\n",
        "\n",
        "            optimizer.zero_grad()\n",
        "            loss.backward()\n",
        "            optimizer.step()\n",
        "\n",
        "            batchloss.append(loss.item())\n",
        "\n",
        "            # compute accuracy\n",
        "            matches_bool = torch.argmax(yHat, axis=1) == y        # booleans (false/true)\n",
        "            matches_numeric = matches_bool.float()                # convert to numbers (0/1)\n",
        "            accuracy_percent = 100 * torch.mean(matches_numeric)  # average and x100\n",
        "            batchAcc.append(accuracy_percent.item())\n",
        "\n",
        "            # end of a batch\n",
        "        \n",
        "        trainAcc[epoch] = np.mean(batchAcc).item()\n",
        "        trainloss[epoch] = np.mean(batchloss).item()\n",
        "\n",
        "        \n",
        "        net.eval()\n",
        "        for X, y in testloader:\n",
        "            X= X.to(device)\n",
        "            y= y.to(device)\n",
        "\n",
        "            batchloss = []\n",
        "            batchAcc = []\n",
        "            with torch.no_grad():\n",
        "                yHat = net(X)\n",
        "            batchloss.append(lossfun(yHat, y).item())\n",
        "            batchAcc.append(100*torch.mean((torch.argmax(yHat,axis=1)==y).float()).item())\n",
        "        testAcc.append( np.mean(batchAcc))\n",
        "        \n",
        "        print('Number of Epoch finished: ', epoch+1)\n",
        "        # end of one epoch\n",
        "    \n",
        "    return trainAcc, testAcc, trainloss\n"
      ],
      "metadata": {
        "id": "0jcM_G_ekozW"
      },
      "execution_count": 34,
      "outputs": []
    },
    {
      "cell_type": "code",
      "source": [
        "%%time\n",
        "trainAcc , testAcc, trainloss = trainmodel(number_of_epochs = 10)"
      ],
      "metadata": {
        "colab": {
          "base_uri": "https://localhost:8080/"
        },
        "id": "umE-AzAL40Jo",
        "outputId": "e7a35baf-70fc-476f-b335-8ff9a3d8d435"
      },
      "execution_count": 37,
      "outputs": [
        {
          "output_type": "stream",
          "name": "stdout",
          "text": [
            "Starting epoch is:  1\n",
            "Number of Epoch finished:  1\n",
            "Starting epoch is:  2\n",
            "Number of Epoch finished:  2\n",
            "Starting epoch is:  3\n",
            "Number of Epoch finished:  3\n",
            "Starting epoch is:  4\n",
            "Number of Epoch finished:  4\n",
            "Starting epoch is:  5\n",
            "Number of Epoch finished:  5\n",
            "Starting epoch is:  6\n",
            "Number of Epoch finished:  6\n",
            "Starting epoch is:  7\n",
            "Number of Epoch finished:  7\n",
            "Starting epoch is:  8\n",
            "Number of Epoch finished:  8\n",
            "Starting epoch is:  9\n",
            "Number of Epoch finished:  9\n",
            "Starting epoch is:  10\n",
            "Number of Epoch finished:  10\n",
            "CPU times: user 1min 44s, sys: 2.09 s, total: 1min 46s\n",
            "Wall time: 1min 47s\n"
          ]
        }
      ]
    },
    {
      "cell_type": "code",
      "source": [
        "fig,ax = plt.subplots(1,2,figsize=(10,5))\n",
        "\n",
        "ax[0].plot(trainloss,'s-')\n",
        "ax[0].set_xlabel('Epochs')\n",
        "ax[0].set_ylabel('Loss')\n",
        "ax[0].set_title('Model loss')\n",
        "\n",
        "ax[1].plot(trainAcc,'s-',label='Train')\n",
        "ax[1].plot(testAcc,'o-',label='Test')\n",
        "ax[1].set_xlabel('Epochs')\n",
        "ax[1].set_ylabel('Accuracy (%)')\n",
        "ax[1].set_title(f'Final model test accuracy: {testAcc[-1]:.2f}%')\n",
        "ax[1].legend()\n",
        "\n",
        "plt.show()"
      ],
      "metadata": {
        "colab": {
          "base_uri": "https://localhost:8080/",
          "height": 463
        },
        "id": "lcZcBMteD0L9",
        "outputId": "44f1af71-420f-45eb-c7eb-10fe5903261b"
      },
      "execution_count": 38,
      "outputs": [
        {
          "output_type": "display_data",
          "data": {
            "text/plain": [
              "<Figure size 720x360 with 2 Axes>"
            ],
            "image/svg+xml": "<?xml version=\"1.0\" encoding=\"utf-8\" standalone=\"no\"?>\n<!DOCTYPE svg PUBLIC \"-//W3C//DTD SVG 1.1//EN\"\n  \"http://www.w3.org/Graphics/SVG/1.1/DTD/svg11.dtd\">\n<!-- Created with matplotlib (https://matplotlib.org/) -->\n<svg height=\"331.674375pt\" version=\"1.1\" viewBox=\"0 0 608.98125 331.674375\" width=\"608.98125pt\" xmlns=\"http://www.w3.org/2000/svg\" xmlns:xlink=\"http://www.w3.org/1999/xlink\">\n <defs>\n  <style type=\"text/css\">\n*{stroke-linecap:butt;stroke-linejoin:round;}\n  </style>\n </defs>\n <g id=\"figure_1\">\n  <g id=\"patch_1\">\n   <path d=\"M 0 331.674375 \nL 608.98125 331.674375 \nL 608.98125 0 \nL 0 0 \nz\n\" style=\"fill:none;\"/>\n  </g>\n  <g id=\"axes_1\">\n   <g id=\"patch_2\">\n    <path d=\"M 43.78125 294.118125 \nL 297.417614 294.118125 \nL 297.417614 22.318125 \nL 43.78125 22.318125 \nz\n\" style=\"fill:#ffffff;\"/>\n   </g>\n   <g id=\"matplotlib.axis_1\">\n    <g id=\"xtick_1\">\n     <g id=\"line2d_1\">\n      <defs>\n       <path d=\"M 0 0 \nL 0 3.5 \n\" id=\"mfef0b45166\" style=\"stroke:#000000;stroke-width:0.8;\"/>\n      </defs>\n      <g>\n       <use style=\"stroke:#000000;stroke-width:0.8;\" x=\"55.310176\" xlink:href=\"#mfef0b45166\" y=\"294.118125\"/>\n      </g>\n     </g>\n     <g id=\"text_1\">\n      <!-- 0 -->\n      <defs>\n       <path d=\"M 31.78125 66.40625 \nQ 24.171875 66.40625 20.328125 58.90625 \nQ 16.5 51.421875 16.5 36.375 \nQ 16.5 21.390625 20.328125 13.890625 \nQ 24.171875 6.390625 31.78125 6.390625 \nQ 39.453125 6.390625 43.28125 13.890625 \nQ 47.125 21.390625 47.125 36.375 \nQ 47.125 51.421875 43.28125 58.90625 \nQ 39.453125 66.40625 31.78125 66.40625 \nz\nM 31.78125 74.21875 \nQ 44.046875 74.21875 50.515625 64.515625 \nQ 56.984375 54.828125 56.984375 36.375 \nQ 56.984375 17.96875 50.515625 8.265625 \nQ 44.046875 -1.421875 31.78125 -1.421875 \nQ 19.53125 -1.421875 13.0625 8.265625 \nQ 6.59375 17.96875 6.59375 36.375 \nQ 6.59375 54.828125 13.0625 64.515625 \nQ 19.53125 74.21875 31.78125 74.21875 \nz\n\" id=\"DejaVuSans-48\"/>\n      </defs>\n      <g transform=\"translate(52.128926 308.716563)scale(0.1 -0.1)\">\n       <use xlink:href=\"#DejaVuSans-48\"/>\n      </g>\n     </g>\n    </g>\n    <g id=\"xtick_2\">\n     <g id=\"line2d_2\">\n      <g>\n       <use style=\"stroke:#000000;stroke-width:0.8;\" x=\"106.549845\" xlink:href=\"#mfef0b45166\" y=\"294.118125\"/>\n      </g>\n     </g>\n     <g id=\"text_2\">\n      <!-- 2 -->\n      <defs>\n       <path d=\"M 19.1875 8.296875 \nL 53.609375 8.296875 \nL 53.609375 0 \nL 7.328125 0 \nL 7.328125 8.296875 \nQ 12.9375 14.109375 22.625 23.890625 \nQ 32.328125 33.6875 34.8125 36.53125 \nQ 39.546875 41.84375 41.421875 45.53125 \nQ 43.3125 49.21875 43.3125 52.78125 \nQ 43.3125 58.59375 39.234375 62.25 \nQ 35.15625 65.921875 28.609375 65.921875 \nQ 23.96875 65.921875 18.8125 64.3125 \nQ 13.671875 62.703125 7.8125 59.421875 \nL 7.8125 69.390625 \nQ 13.765625 71.78125 18.9375 73 \nQ 24.125 74.21875 28.421875 74.21875 \nQ 39.75 74.21875 46.484375 68.546875 \nQ 53.21875 62.890625 53.21875 53.421875 \nQ 53.21875 48.921875 51.53125 44.890625 \nQ 49.859375 40.875 45.40625 35.40625 \nQ 44.1875 33.984375 37.640625 27.21875 \nQ 31.109375 20.453125 19.1875 8.296875 \nz\n\" id=\"DejaVuSans-50\"/>\n      </defs>\n      <g transform=\"translate(103.368595 308.716563)scale(0.1 -0.1)\">\n       <use xlink:href=\"#DejaVuSans-50\"/>\n      </g>\n     </g>\n    </g>\n    <g id=\"xtick_3\">\n     <g id=\"line2d_3\">\n      <g>\n       <use style=\"stroke:#000000;stroke-width:0.8;\" x=\"157.789514\" xlink:href=\"#mfef0b45166\" y=\"294.118125\"/>\n      </g>\n     </g>\n     <g id=\"text_3\">\n      <!-- 4 -->\n      <defs>\n       <path d=\"M 37.796875 64.3125 \nL 12.890625 25.390625 \nL 37.796875 25.390625 \nz\nM 35.203125 72.90625 \nL 47.609375 72.90625 \nL 47.609375 25.390625 \nL 58.015625 25.390625 \nL 58.015625 17.1875 \nL 47.609375 17.1875 \nL 47.609375 0 \nL 37.796875 0 \nL 37.796875 17.1875 \nL 4.890625 17.1875 \nL 4.890625 26.703125 \nz\n\" id=\"DejaVuSans-52\"/>\n      </defs>\n      <g transform=\"translate(154.608264 308.716563)scale(0.1 -0.1)\">\n       <use xlink:href=\"#DejaVuSans-52\"/>\n      </g>\n     </g>\n    </g>\n    <g id=\"xtick_4\">\n     <g id=\"line2d_4\">\n      <g>\n       <use style=\"stroke:#000000;stroke-width:0.8;\" x=\"209.029184\" xlink:href=\"#mfef0b45166\" y=\"294.118125\"/>\n      </g>\n     </g>\n     <g id=\"text_4\">\n      <!-- 6 -->\n      <defs>\n       <path d=\"M 33.015625 40.375 \nQ 26.375 40.375 22.484375 35.828125 \nQ 18.609375 31.296875 18.609375 23.390625 \nQ 18.609375 15.53125 22.484375 10.953125 \nQ 26.375 6.390625 33.015625 6.390625 \nQ 39.65625 6.390625 43.53125 10.953125 \nQ 47.40625 15.53125 47.40625 23.390625 \nQ 47.40625 31.296875 43.53125 35.828125 \nQ 39.65625 40.375 33.015625 40.375 \nz\nM 52.59375 71.296875 \nL 52.59375 62.3125 \nQ 48.875 64.0625 45.09375 64.984375 \nQ 41.3125 65.921875 37.59375 65.921875 \nQ 27.828125 65.921875 22.671875 59.328125 \nQ 17.53125 52.734375 16.796875 39.40625 \nQ 19.671875 43.65625 24.015625 45.921875 \nQ 28.375 48.1875 33.59375 48.1875 \nQ 44.578125 48.1875 50.953125 41.515625 \nQ 57.328125 34.859375 57.328125 23.390625 \nQ 57.328125 12.15625 50.6875 5.359375 \nQ 44.046875 -1.421875 33.015625 -1.421875 \nQ 20.359375 -1.421875 13.671875 8.265625 \nQ 6.984375 17.96875 6.984375 36.375 \nQ 6.984375 53.65625 15.1875 63.9375 \nQ 23.390625 74.21875 37.203125 74.21875 \nQ 40.921875 74.21875 44.703125 73.484375 \nQ 48.484375 72.75 52.59375 71.296875 \nz\n\" id=\"DejaVuSans-54\"/>\n      </defs>\n      <g transform=\"translate(205.847934 308.716563)scale(0.1 -0.1)\">\n       <use xlink:href=\"#DejaVuSans-54\"/>\n      </g>\n     </g>\n    </g>\n    <g id=\"xtick_5\">\n     <g id=\"line2d_5\">\n      <g>\n       <use style=\"stroke:#000000;stroke-width:0.8;\" x=\"260.268853\" xlink:href=\"#mfef0b45166\" y=\"294.118125\"/>\n      </g>\n     </g>\n     <g id=\"text_5\">\n      <!-- 8 -->\n      <defs>\n       <path d=\"M 31.78125 34.625 \nQ 24.75 34.625 20.71875 30.859375 \nQ 16.703125 27.09375 16.703125 20.515625 \nQ 16.703125 13.921875 20.71875 10.15625 \nQ 24.75 6.390625 31.78125 6.390625 \nQ 38.8125 6.390625 42.859375 10.171875 \nQ 46.921875 13.96875 46.921875 20.515625 \nQ 46.921875 27.09375 42.890625 30.859375 \nQ 38.875 34.625 31.78125 34.625 \nz\nM 21.921875 38.8125 \nQ 15.578125 40.375 12.03125 44.71875 \nQ 8.5 49.078125 8.5 55.328125 \nQ 8.5 64.0625 14.71875 69.140625 \nQ 20.953125 74.21875 31.78125 74.21875 \nQ 42.671875 74.21875 48.875 69.140625 \nQ 55.078125 64.0625 55.078125 55.328125 \nQ 55.078125 49.078125 51.53125 44.71875 \nQ 48 40.375 41.703125 38.8125 \nQ 48.828125 37.15625 52.796875 32.3125 \nQ 56.78125 27.484375 56.78125 20.515625 \nQ 56.78125 9.90625 50.3125 4.234375 \nQ 43.84375 -1.421875 31.78125 -1.421875 \nQ 19.734375 -1.421875 13.25 4.234375 \nQ 6.78125 9.90625 6.78125 20.515625 \nQ 6.78125 27.484375 10.78125 32.3125 \nQ 14.796875 37.15625 21.921875 38.8125 \nz\nM 18.3125 54.390625 \nQ 18.3125 48.734375 21.84375 45.5625 \nQ 25.390625 42.390625 31.78125 42.390625 \nQ 38.140625 42.390625 41.71875 45.5625 \nQ 45.3125 48.734375 45.3125 54.390625 \nQ 45.3125 60.0625 41.71875 63.234375 \nQ 38.140625 66.40625 31.78125 66.40625 \nQ 25.390625 66.40625 21.84375 63.234375 \nQ 18.3125 60.0625 18.3125 54.390625 \nz\n\" id=\"DejaVuSans-56\"/>\n      </defs>\n      <g transform=\"translate(257.087603 308.716563)scale(0.1 -0.1)\">\n       <use xlink:href=\"#DejaVuSans-56\"/>\n      </g>\n     </g>\n    </g>\n    <g id=\"text_6\">\n     <!-- Epochs -->\n     <defs>\n      <path d=\"M 9.8125 72.90625 \nL 55.90625 72.90625 \nL 55.90625 64.59375 \nL 19.671875 64.59375 \nL 19.671875 43.015625 \nL 54.390625 43.015625 \nL 54.390625 34.71875 \nL 19.671875 34.71875 \nL 19.671875 8.296875 \nL 56.78125 8.296875 \nL 56.78125 0 \nL 9.8125 0 \nz\n\" id=\"DejaVuSans-69\"/>\n      <path d=\"M 18.109375 8.203125 \nL 18.109375 -20.796875 \nL 9.078125 -20.796875 \nL 9.078125 54.6875 \nL 18.109375 54.6875 \nL 18.109375 46.390625 \nQ 20.953125 51.265625 25.265625 53.625 \nQ 29.59375 56 35.59375 56 \nQ 45.5625 56 51.78125 48.09375 \nQ 58.015625 40.1875 58.015625 27.296875 \nQ 58.015625 14.40625 51.78125 6.484375 \nQ 45.5625 -1.421875 35.59375 -1.421875 \nQ 29.59375 -1.421875 25.265625 0.953125 \nQ 20.953125 3.328125 18.109375 8.203125 \nz\nM 48.6875 27.296875 \nQ 48.6875 37.203125 44.609375 42.84375 \nQ 40.53125 48.484375 33.40625 48.484375 \nQ 26.265625 48.484375 22.1875 42.84375 \nQ 18.109375 37.203125 18.109375 27.296875 \nQ 18.109375 17.390625 22.1875 11.75 \nQ 26.265625 6.109375 33.40625 6.109375 \nQ 40.53125 6.109375 44.609375 11.75 \nQ 48.6875 17.390625 48.6875 27.296875 \nz\n\" id=\"DejaVuSans-112\"/>\n      <path d=\"M 30.609375 48.390625 \nQ 23.390625 48.390625 19.1875 42.75 \nQ 14.984375 37.109375 14.984375 27.296875 \nQ 14.984375 17.484375 19.15625 11.84375 \nQ 23.34375 6.203125 30.609375 6.203125 \nQ 37.796875 6.203125 41.984375 11.859375 \nQ 46.1875 17.53125 46.1875 27.296875 \nQ 46.1875 37.015625 41.984375 42.703125 \nQ 37.796875 48.390625 30.609375 48.390625 \nz\nM 30.609375 56 \nQ 42.328125 56 49.015625 48.375 \nQ 55.71875 40.765625 55.71875 27.296875 \nQ 55.71875 13.875 49.015625 6.21875 \nQ 42.328125 -1.421875 30.609375 -1.421875 \nQ 18.84375 -1.421875 12.171875 6.21875 \nQ 5.515625 13.875 5.515625 27.296875 \nQ 5.515625 40.765625 12.171875 48.375 \nQ 18.84375 56 30.609375 56 \nz\n\" id=\"DejaVuSans-111\"/>\n      <path d=\"M 48.78125 52.59375 \nL 48.78125 44.1875 \nQ 44.96875 46.296875 41.140625 47.34375 \nQ 37.3125 48.390625 33.40625 48.390625 \nQ 24.65625 48.390625 19.8125 42.84375 \nQ 14.984375 37.3125 14.984375 27.296875 \nQ 14.984375 17.28125 19.8125 11.734375 \nQ 24.65625 6.203125 33.40625 6.203125 \nQ 37.3125 6.203125 41.140625 7.25 \nQ 44.96875 8.296875 48.78125 10.40625 \nL 48.78125 2.09375 \nQ 45.015625 0.34375 40.984375 -0.53125 \nQ 36.96875 -1.421875 32.421875 -1.421875 \nQ 20.0625 -1.421875 12.78125 6.34375 \nQ 5.515625 14.109375 5.515625 27.296875 \nQ 5.515625 40.671875 12.859375 48.328125 \nQ 20.21875 56 33.015625 56 \nQ 37.15625 56 41.109375 55.140625 \nQ 45.0625 54.296875 48.78125 52.59375 \nz\n\" id=\"DejaVuSans-99\"/>\n      <path d=\"M 54.890625 33.015625 \nL 54.890625 0 \nL 45.90625 0 \nL 45.90625 32.71875 \nQ 45.90625 40.484375 42.875 44.328125 \nQ 39.84375 48.1875 33.796875 48.1875 \nQ 26.515625 48.1875 22.3125 43.546875 \nQ 18.109375 38.921875 18.109375 30.90625 \nL 18.109375 0 \nL 9.078125 0 \nL 9.078125 75.984375 \nL 18.109375 75.984375 \nL 18.109375 46.1875 \nQ 21.34375 51.125 25.703125 53.5625 \nQ 30.078125 56 35.796875 56 \nQ 45.21875 56 50.046875 50.171875 \nQ 54.890625 44.34375 54.890625 33.015625 \nz\n\" id=\"DejaVuSans-104\"/>\n      <path d=\"M 44.28125 53.078125 \nL 44.28125 44.578125 \nQ 40.484375 46.53125 36.375 47.5 \nQ 32.28125 48.484375 27.875 48.484375 \nQ 21.1875 48.484375 17.84375 46.4375 \nQ 14.5 44.390625 14.5 40.28125 \nQ 14.5 37.15625 16.890625 35.375 \nQ 19.28125 33.59375 26.515625 31.984375 \nL 29.59375 31.296875 \nQ 39.15625 29.25 43.1875 25.515625 \nQ 47.21875 21.78125 47.21875 15.09375 \nQ 47.21875 7.46875 41.1875 3.015625 \nQ 35.15625 -1.421875 24.609375 -1.421875 \nQ 20.21875 -1.421875 15.453125 -0.5625 \nQ 10.6875 0.296875 5.421875 2 \nL 5.421875 11.28125 \nQ 10.40625 8.6875 15.234375 7.390625 \nQ 20.0625 6.109375 24.8125 6.109375 \nQ 31.15625 6.109375 34.5625 8.28125 \nQ 37.984375 10.453125 37.984375 14.40625 \nQ 37.984375 18.0625 35.515625 20.015625 \nQ 33.0625 21.96875 24.703125 23.78125 \nL 21.578125 24.515625 \nQ 13.234375 26.265625 9.515625 29.90625 \nQ 5.8125 33.546875 5.8125 39.890625 \nQ 5.8125 47.609375 11.28125 51.796875 \nQ 16.75 56 26.8125 56 \nQ 31.78125 56 36.171875 55.265625 \nQ 40.578125 54.546875 44.28125 53.078125 \nz\n\" id=\"DejaVuSans-115\"/>\n     </defs>\n     <g transform=\"translate(152.683807 322.394687)scale(0.1 -0.1)\">\n      <use xlink:href=\"#DejaVuSans-69\"/>\n      <use x=\"63.183594\" xlink:href=\"#DejaVuSans-112\"/>\n      <use x=\"126.660156\" xlink:href=\"#DejaVuSans-111\"/>\n      <use x=\"187.841797\" xlink:href=\"#DejaVuSans-99\"/>\n      <use x=\"242.822266\" xlink:href=\"#DejaVuSans-104\"/>\n      <use x=\"306.201172\" xlink:href=\"#DejaVuSans-115\"/>\n     </g>\n    </g>\n   </g>\n   <g id=\"matplotlib.axis_2\">\n    <g id=\"ytick_1\">\n     <g id=\"line2d_6\">\n      <defs>\n       <path d=\"M 0 0 \nL -3.5 0 \n\" id=\"ma65471935a\" style=\"stroke:#000000;stroke-width:0.8;\"/>\n      </defs>\n      <g>\n       <use style=\"stroke:#000000;stroke-width:0.8;\" x=\"43.78125\" xlink:href=\"#ma65471935a\" y=\"238.805174\"/>\n      </g>\n     </g>\n     <g id=\"text_7\">\n      <!-- 0.3 -->\n      <defs>\n       <path d=\"M 10.6875 12.40625 \nL 21 12.40625 \nL 21 0 \nL 10.6875 0 \nz\n\" id=\"DejaVuSans-46\"/>\n       <path d=\"M 40.578125 39.3125 \nQ 47.65625 37.796875 51.625 33 \nQ 55.609375 28.21875 55.609375 21.1875 \nQ 55.609375 10.40625 48.1875 4.484375 \nQ 40.765625 -1.421875 27.09375 -1.421875 \nQ 22.515625 -1.421875 17.65625 -0.515625 \nQ 12.796875 0.390625 7.625 2.203125 \nL 7.625 11.71875 \nQ 11.71875 9.328125 16.59375 8.109375 \nQ 21.484375 6.890625 26.8125 6.890625 \nQ 36.078125 6.890625 40.9375 10.546875 \nQ 45.796875 14.203125 45.796875 21.1875 \nQ 45.796875 27.640625 41.28125 31.265625 \nQ 36.765625 34.90625 28.71875 34.90625 \nL 20.21875 34.90625 \nL 20.21875 43.015625 \nL 29.109375 43.015625 \nQ 36.375 43.015625 40.234375 45.921875 \nQ 44.09375 48.828125 44.09375 54.296875 \nQ 44.09375 59.90625 40.109375 62.90625 \nQ 36.140625 65.921875 28.71875 65.921875 \nQ 24.65625 65.921875 20.015625 65.03125 \nQ 15.375 64.15625 9.8125 62.3125 \nL 9.8125 71.09375 \nQ 15.4375 72.65625 20.34375 73.4375 \nQ 25.25 74.21875 29.59375 74.21875 \nQ 40.828125 74.21875 47.359375 69.109375 \nQ 53.90625 64.015625 53.90625 55.328125 \nQ 53.90625 49.265625 50.4375 45.09375 \nQ 46.96875 40.921875 40.578125 39.3125 \nz\n\" id=\"DejaVuSans-51\"/>\n      </defs>\n      <g transform=\"translate(20.878125 242.604392)scale(0.1 -0.1)\">\n       <use xlink:href=\"#DejaVuSans-48\"/>\n       <use x=\"63.623047\" xlink:href=\"#DejaVuSans-46\"/>\n       <use x=\"95.410156\" xlink:href=\"#DejaVuSans-51\"/>\n      </g>\n     </g>\n    </g>\n    <g id=\"ytick_2\">\n     <g id=\"line2d_7\">\n      <g>\n       <use style=\"stroke:#000000;stroke-width:0.8;\" x=\"43.78125\" xlink:href=\"#ma65471935a\" y=\"183.056978\"/>\n      </g>\n     </g>\n     <g id=\"text_8\">\n      <!-- 0.4 -->\n      <g transform=\"translate(20.878125 186.856197)scale(0.1 -0.1)\">\n       <use xlink:href=\"#DejaVuSans-48\"/>\n       <use x=\"63.623047\" xlink:href=\"#DejaVuSans-46\"/>\n       <use x=\"95.410156\" xlink:href=\"#DejaVuSans-52\"/>\n      </g>\n     </g>\n    </g>\n    <g id=\"ytick_3\">\n     <g id=\"line2d_8\">\n      <g>\n       <use style=\"stroke:#000000;stroke-width:0.8;\" x=\"43.78125\" xlink:href=\"#ma65471935a\" y=\"127.308783\"/>\n      </g>\n     </g>\n     <g id=\"text_9\">\n      <!-- 0.5 -->\n      <defs>\n       <path d=\"M 10.796875 72.90625 \nL 49.515625 72.90625 \nL 49.515625 64.59375 \nL 19.828125 64.59375 \nL 19.828125 46.734375 \nQ 21.96875 47.46875 24.109375 47.828125 \nQ 26.265625 48.1875 28.421875 48.1875 \nQ 40.625 48.1875 47.75 41.5 \nQ 54.890625 34.8125 54.890625 23.390625 \nQ 54.890625 11.625 47.5625 5.09375 \nQ 40.234375 -1.421875 26.90625 -1.421875 \nQ 22.3125 -1.421875 17.546875 -0.640625 \nQ 12.796875 0.140625 7.71875 1.703125 \nL 7.71875 11.625 \nQ 12.109375 9.234375 16.796875 8.0625 \nQ 21.484375 6.890625 26.703125 6.890625 \nQ 35.15625 6.890625 40.078125 11.328125 \nQ 45.015625 15.765625 45.015625 23.390625 \nQ 45.015625 31 40.078125 35.4375 \nQ 35.15625 39.890625 26.703125 39.890625 \nQ 22.75 39.890625 18.8125 39.015625 \nQ 14.890625 38.140625 10.796875 36.28125 \nz\n\" id=\"DejaVuSans-53\"/>\n      </defs>\n      <g transform=\"translate(20.878125 131.108002)scale(0.1 -0.1)\">\n       <use xlink:href=\"#DejaVuSans-48\"/>\n       <use x=\"63.623047\" xlink:href=\"#DejaVuSans-46\"/>\n       <use x=\"95.410156\" xlink:href=\"#DejaVuSans-53\"/>\n      </g>\n     </g>\n    </g>\n    <g id=\"ytick_4\">\n     <g id=\"line2d_9\">\n      <g>\n       <use style=\"stroke:#000000;stroke-width:0.8;\" x=\"43.78125\" xlink:href=\"#ma65471935a\" y=\"71.560587\"/>\n      </g>\n     </g>\n     <g id=\"text_10\">\n      <!-- 0.6 -->\n      <g transform=\"translate(20.878125 75.359806)scale(0.1 -0.1)\">\n       <use xlink:href=\"#DejaVuSans-48\"/>\n       <use x=\"63.623047\" xlink:href=\"#DejaVuSans-46\"/>\n       <use x=\"95.410156\" xlink:href=\"#DejaVuSans-54\"/>\n      </g>\n     </g>\n    </g>\n    <g id=\"text_11\">\n     <!-- Loss -->\n     <defs>\n      <path d=\"M 9.8125 72.90625 \nL 19.671875 72.90625 \nL 19.671875 8.296875 \nL 55.171875 8.296875 \nL 55.171875 0 \nL 9.8125 0 \nz\n\" id=\"DejaVuSans-76\"/>\n     </defs>\n     <g transform=\"translate(14.798438 169.185313)rotate(-90)scale(0.1 -0.1)\">\n      <use xlink:href=\"#DejaVuSans-76\"/>\n      <use x=\"53.962891\" xlink:href=\"#DejaVuSans-111\"/>\n      <use x=\"115.144531\" xlink:href=\"#DejaVuSans-115\"/>\n      <use x=\"167.244141\" xlink:href=\"#DejaVuSans-115\"/>\n     </g>\n    </g>\n   </g>\n   <g id=\"line2d_10\">\n    <path clip-path=\"url(#pc01de42f32)\" d=\"M 55.310176 34.67267 \nL 80.93001 174.22369 \nL 106.549845 210.366444 \nL 132.16968 228.402499 \nL 157.789514 242.372913 \nL 183.409349 252.880981 \nL 209.029184 262.819796 \nL 234.649019 269.787168 \nL 260.268853 276.150112 \nL 285.888688 281.76358 \n\" style=\"fill:none;stroke:#1f77b4;stroke-linecap:square;stroke-width:1.5;\"/>\n    <defs>\n     <path d=\"M -3 3 \nL 3 3 \nL 3 -3 \nL -3 -3 \nz\n\" id=\"mf7cfb73f7d\" style=\"stroke:#1f77b4;stroke-linejoin:miter;\"/>\n    </defs>\n    <g clip-path=\"url(#pc01de42f32)\">\n     <use style=\"fill:#1f77b4;stroke:#1f77b4;stroke-linejoin:miter;\" x=\"55.310176\" xlink:href=\"#mf7cfb73f7d\" y=\"34.67267\"/>\n     <use style=\"fill:#1f77b4;stroke:#1f77b4;stroke-linejoin:miter;\" x=\"80.93001\" xlink:href=\"#mf7cfb73f7d\" y=\"174.22369\"/>\n     <use style=\"fill:#1f77b4;stroke:#1f77b4;stroke-linejoin:miter;\" x=\"106.549845\" xlink:href=\"#mf7cfb73f7d\" y=\"210.366444\"/>\n     <use style=\"fill:#1f77b4;stroke:#1f77b4;stroke-linejoin:miter;\" x=\"132.16968\" xlink:href=\"#mf7cfb73f7d\" y=\"228.402499\"/>\n     <use style=\"fill:#1f77b4;stroke:#1f77b4;stroke-linejoin:miter;\" x=\"157.789514\" xlink:href=\"#mf7cfb73f7d\" y=\"242.372913\"/>\n     <use style=\"fill:#1f77b4;stroke:#1f77b4;stroke-linejoin:miter;\" x=\"183.409349\" xlink:href=\"#mf7cfb73f7d\" y=\"252.880981\"/>\n     <use style=\"fill:#1f77b4;stroke:#1f77b4;stroke-linejoin:miter;\" x=\"209.029184\" xlink:href=\"#mf7cfb73f7d\" y=\"262.819796\"/>\n     <use style=\"fill:#1f77b4;stroke:#1f77b4;stroke-linejoin:miter;\" x=\"234.649019\" xlink:href=\"#mf7cfb73f7d\" y=\"269.787168\"/>\n     <use style=\"fill:#1f77b4;stroke:#1f77b4;stroke-linejoin:miter;\" x=\"260.268853\" xlink:href=\"#mf7cfb73f7d\" y=\"276.150112\"/>\n     <use style=\"fill:#1f77b4;stroke:#1f77b4;stroke-linejoin:miter;\" x=\"285.888688\" xlink:href=\"#mf7cfb73f7d\" y=\"281.76358\"/>\n    </g>\n   </g>\n   <g id=\"patch_3\">\n    <path d=\"M 43.78125 294.118125 \nL 43.78125 22.318125 \n\" style=\"fill:none;stroke:#000000;stroke-linecap:square;stroke-linejoin:miter;stroke-width:0.8;\"/>\n   </g>\n   <g id=\"patch_4\">\n    <path d=\"M 297.417614 294.118125 \nL 297.417614 22.318125 \n\" style=\"fill:none;stroke:#000000;stroke-linecap:square;stroke-linejoin:miter;stroke-width:0.8;\"/>\n   </g>\n   <g id=\"patch_5\">\n    <path d=\"M 43.78125 294.118125 \nL 297.417614 294.118125 \n\" style=\"fill:none;stroke:#000000;stroke-linecap:square;stroke-linejoin:miter;stroke-width:0.8;\"/>\n   </g>\n   <g id=\"patch_6\">\n    <path d=\"M 43.78125 22.318125 \nL 297.417614 22.318125 \n\" style=\"fill:none;stroke:#000000;stroke-linecap:square;stroke-linejoin:miter;stroke-width:0.8;\"/>\n   </g>\n   <g id=\"text_12\">\n    <!-- Model loss -->\n    <defs>\n     <path d=\"M 9.8125 72.90625 \nL 24.515625 72.90625 \nL 43.109375 23.296875 \nL 61.8125 72.90625 \nL 76.515625 72.90625 \nL 76.515625 0 \nL 66.890625 0 \nL 66.890625 64.015625 \nL 48.09375 14.015625 \nL 38.1875 14.015625 \nL 19.390625 64.015625 \nL 19.390625 0 \nL 9.8125 0 \nz\n\" id=\"DejaVuSans-77\"/>\n     <path d=\"M 45.40625 46.390625 \nL 45.40625 75.984375 \nL 54.390625 75.984375 \nL 54.390625 0 \nL 45.40625 0 \nL 45.40625 8.203125 \nQ 42.578125 3.328125 38.25 0.953125 \nQ 33.9375 -1.421875 27.875 -1.421875 \nQ 17.96875 -1.421875 11.734375 6.484375 \nQ 5.515625 14.40625 5.515625 27.296875 \nQ 5.515625 40.1875 11.734375 48.09375 \nQ 17.96875 56 27.875 56 \nQ 33.9375 56 38.25 53.625 \nQ 42.578125 51.265625 45.40625 46.390625 \nz\nM 14.796875 27.296875 \nQ 14.796875 17.390625 18.875 11.75 \nQ 22.953125 6.109375 30.078125 6.109375 \nQ 37.203125 6.109375 41.296875 11.75 \nQ 45.40625 17.390625 45.40625 27.296875 \nQ 45.40625 37.203125 41.296875 42.84375 \nQ 37.203125 48.484375 30.078125 48.484375 \nQ 22.953125 48.484375 18.875 42.84375 \nQ 14.796875 37.203125 14.796875 27.296875 \nz\n\" id=\"DejaVuSans-100\"/>\n     <path d=\"M 56.203125 29.59375 \nL 56.203125 25.203125 \nL 14.890625 25.203125 \nQ 15.484375 15.921875 20.484375 11.0625 \nQ 25.484375 6.203125 34.421875 6.203125 \nQ 39.59375 6.203125 44.453125 7.46875 \nQ 49.3125 8.734375 54.109375 11.28125 \nL 54.109375 2.78125 \nQ 49.265625 0.734375 44.1875 -0.34375 \nQ 39.109375 -1.421875 33.890625 -1.421875 \nQ 20.796875 -1.421875 13.15625 6.1875 \nQ 5.515625 13.8125 5.515625 26.8125 \nQ 5.515625 40.234375 12.765625 48.109375 \nQ 20.015625 56 32.328125 56 \nQ 43.359375 56 49.78125 48.890625 \nQ 56.203125 41.796875 56.203125 29.59375 \nz\nM 47.21875 32.234375 \nQ 47.125 39.59375 43.09375 43.984375 \nQ 39.0625 48.390625 32.421875 48.390625 \nQ 24.90625 48.390625 20.390625 44.140625 \nQ 15.875 39.890625 15.1875 32.171875 \nz\n\" id=\"DejaVuSans-101\"/>\n     <path d=\"M 9.421875 75.984375 \nL 18.40625 75.984375 \nL 18.40625 0 \nL 9.421875 0 \nz\n\" id=\"DejaVuSans-108\"/>\n     <path id=\"DejaVuSans-32\"/>\n    </defs>\n    <g transform=\"translate(139.087244 16.318125)scale(0.12 -0.12)\">\n     <use xlink:href=\"#DejaVuSans-77\"/>\n     <use x=\"86.279297\" xlink:href=\"#DejaVuSans-111\"/>\n     <use x=\"147.460938\" xlink:href=\"#DejaVuSans-100\"/>\n     <use x=\"210.9375\" xlink:href=\"#DejaVuSans-101\"/>\n     <use x=\"272.460938\" xlink:href=\"#DejaVuSans-108\"/>\n     <use x=\"300.244141\" xlink:href=\"#DejaVuSans-32\"/>\n     <use x=\"332.03125\" xlink:href=\"#DejaVuSans-108\"/>\n     <use x=\"359.814453\" xlink:href=\"#DejaVuSans-111\"/>\n     <use x=\"420.996094\" xlink:href=\"#DejaVuSans-115\"/>\n     <use x=\"473.095703\" xlink:href=\"#DejaVuSans-115\"/>\n    </g>\n   </g>\n  </g>\n  <g id=\"axes_2\">\n   <g id=\"patch_7\">\n    <path d=\"M 348.144886 294.118125 \nL 601.78125 294.118125 \nL 601.78125 22.318125 \nL 348.144886 22.318125 \nz\n\" style=\"fill:#ffffff;\"/>\n   </g>\n   <g id=\"matplotlib.axis_3\">\n    <g id=\"xtick_6\">\n     <g id=\"line2d_11\">\n      <g>\n       <use style=\"stroke:#000000;stroke-width:0.8;\" x=\"359.673812\" xlink:href=\"#mfef0b45166\" y=\"294.118125\"/>\n      </g>\n     </g>\n     <g id=\"text_13\">\n      <!-- 0 -->\n      <g transform=\"translate(356.492562 308.716563)scale(0.1 -0.1)\">\n       <use xlink:href=\"#DejaVuSans-48\"/>\n      </g>\n     </g>\n    </g>\n    <g id=\"xtick_7\">\n     <g id=\"line2d_12\">\n      <g>\n       <use style=\"stroke:#000000;stroke-width:0.8;\" x=\"410.913481\" xlink:href=\"#mfef0b45166\" y=\"294.118125\"/>\n      </g>\n     </g>\n     <g id=\"text_14\">\n      <!-- 2 -->\n      <g transform=\"translate(407.732231 308.716563)scale(0.1 -0.1)\">\n       <use xlink:href=\"#DejaVuSans-50\"/>\n      </g>\n     </g>\n    </g>\n    <g id=\"xtick_8\">\n     <g id=\"line2d_13\">\n      <g>\n       <use style=\"stroke:#000000;stroke-width:0.8;\" x=\"462.153151\" xlink:href=\"#mfef0b45166\" y=\"294.118125\"/>\n      </g>\n     </g>\n     <g id=\"text_15\">\n      <!-- 4 -->\n      <g transform=\"translate(458.971901 308.716563)scale(0.1 -0.1)\">\n       <use xlink:href=\"#DejaVuSans-52\"/>\n      </g>\n     </g>\n    </g>\n    <g id=\"xtick_9\">\n     <g id=\"line2d_14\">\n      <g>\n       <use style=\"stroke:#000000;stroke-width:0.8;\" x=\"513.39282\" xlink:href=\"#mfef0b45166\" y=\"294.118125\"/>\n      </g>\n     </g>\n     <g id=\"text_16\">\n      <!-- 6 -->\n      <g transform=\"translate(510.21157 308.716563)scale(0.1 -0.1)\">\n       <use xlink:href=\"#DejaVuSans-54\"/>\n      </g>\n     </g>\n    </g>\n    <g id=\"xtick_10\">\n     <g id=\"line2d_15\">\n      <g>\n       <use style=\"stroke:#000000;stroke-width:0.8;\" x=\"564.63249\" xlink:href=\"#mfef0b45166\" y=\"294.118125\"/>\n      </g>\n     </g>\n     <g id=\"text_17\">\n      <!-- 8 -->\n      <g transform=\"translate(561.45124 308.716563)scale(0.1 -0.1)\">\n       <use xlink:href=\"#DejaVuSans-56\"/>\n      </g>\n     </g>\n    </g>\n    <g id=\"text_18\">\n     <!-- Epochs -->\n     <g transform=\"translate(457.047443 322.394687)scale(0.1 -0.1)\">\n      <use xlink:href=\"#DejaVuSans-69\"/>\n      <use x=\"63.183594\" xlink:href=\"#DejaVuSans-112\"/>\n      <use x=\"126.660156\" xlink:href=\"#DejaVuSans-111\"/>\n      <use x=\"187.841797\" xlink:href=\"#DejaVuSans-99\"/>\n      <use x=\"242.822266\" xlink:href=\"#DejaVuSans-104\"/>\n      <use x=\"306.201172\" xlink:href=\"#DejaVuSans-115\"/>\n     </g>\n    </g>\n   </g>\n   <g id=\"matplotlib.axis_4\">\n    <g id=\"ytick_5\">\n     <g id=\"line2d_16\">\n      <g>\n       <use style=\"stroke:#000000;stroke-width:0.8;\" x=\"348.144886\" xlink:href=\"#ma65471935a\" y=\"281.737929\"/>\n      </g>\n     </g>\n     <g id=\"text_19\">\n      <!-- 75.0 -->\n      <defs>\n       <path d=\"M 8.203125 72.90625 \nL 55.078125 72.90625 \nL 55.078125 68.703125 \nL 28.609375 0 \nL 18.3125 0 \nL 43.21875 64.59375 \nL 8.203125 64.59375 \nz\n\" id=\"DejaVuSans-55\"/>\n      </defs>\n      <g transform=\"translate(318.879261 285.537148)scale(0.1 -0.1)\">\n       <use xlink:href=\"#DejaVuSans-55\"/>\n       <use x=\"63.623047\" xlink:href=\"#DejaVuSans-53\"/>\n       <use x=\"127.246094\" xlink:href=\"#DejaVuSans-46\"/>\n       <use x=\"159.033203\" xlink:href=\"#DejaVuSans-48\"/>\n      </g>\n     </g>\n    </g>\n    <g id=\"ytick_6\">\n     <g id=\"line2d_17\">\n      <g>\n       <use style=\"stroke:#000000;stroke-width:0.8;\" x=\"348.144886\" xlink:href=\"#ma65471935a\" y=\"247.148799\"/>\n      </g>\n     </g>\n     <g id=\"text_20\">\n      <!-- 77.5 -->\n      <g transform=\"translate(318.879261 250.948018)scale(0.1 -0.1)\">\n       <use xlink:href=\"#DejaVuSans-55\"/>\n       <use x=\"63.623047\" xlink:href=\"#DejaVuSans-55\"/>\n       <use x=\"127.246094\" xlink:href=\"#DejaVuSans-46\"/>\n       <use x=\"159.033203\" xlink:href=\"#DejaVuSans-53\"/>\n      </g>\n     </g>\n    </g>\n    <g id=\"ytick_7\">\n     <g id=\"line2d_18\">\n      <g>\n       <use style=\"stroke:#000000;stroke-width:0.8;\" x=\"348.144886\" xlink:href=\"#ma65471935a\" y=\"212.55967\"/>\n      </g>\n     </g>\n     <g id=\"text_21\">\n      <!-- 80.0 -->\n      <g transform=\"translate(318.879261 216.358889)scale(0.1 -0.1)\">\n       <use xlink:href=\"#DejaVuSans-56\"/>\n       <use x=\"63.623047\" xlink:href=\"#DejaVuSans-48\"/>\n       <use x=\"127.246094\" xlink:href=\"#DejaVuSans-46\"/>\n       <use x=\"159.033203\" xlink:href=\"#DejaVuSans-48\"/>\n      </g>\n     </g>\n    </g>\n    <g id=\"ytick_8\">\n     <g id=\"line2d_19\">\n      <g>\n       <use style=\"stroke:#000000;stroke-width:0.8;\" x=\"348.144886\" xlink:href=\"#ma65471935a\" y=\"177.97054\"/>\n      </g>\n     </g>\n     <g id=\"text_22\">\n      <!-- 82.5 -->\n      <g transform=\"translate(318.879261 181.769759)scale(0.1 -0.1)\">\n       <use xlink:href=\"#DejaVuSans-56\"/>\n       <use x=\"63.623047\" xlink:href=\"#DejaVuSans-50\"/>\n       <use x=\"127.246094\" xlink:href=\"#DejaVuSans-46\"/>\n       <use x=\"159.033203\" xlink:href=\"#DejaVuSans-53\"/>\n      </g>\n     </g>\n    </g>\n    <g id=\"ytick_9\">\n     <g id=\"line2d_20\">\n      <g>\n       <use style=\"stroke:#000000;stroke-width:0.8;\" x=\"348.144886\" xlink:href=\"#ma65471935a\" y=\"143.381411\"/>\n      </g>\n     </g>\n     <g id=\"text_23\">\n      <!-- 85.0 -->\n      <g transform=\"translate(318.879261 147.180629)scale(0.1 -0.1)\">\n       <use xlink:href=\"#DejaVuSans-56\"/>\n       <use x=\"63.623047\" xlink:href=\"#DejaVuSans-53\"/>\n       <use x=\"127.246094\" xlink:href=\"#DejaVuSans-46\"/>\n       <use x=\"159.033203\" xlink:href=\"#DejaVuSans-48\"/>\n      </g>\n     </g>\n    </g>\n    <g id=\"ytick_10\">\n     <g id=\"line2d_21\">\n      <g>\n       <use style=\"stroke:#000000;stroke-width:0.8;\" x=\"348.144886\" xlink:href=\"#ma65471935a\" y=\"108.792281\"/>\n      </g>\n     </g>\n     <g id=\"text_24\">\n      <!-- 87.5 -->\n      <g transform=\"translate(318.879261 112.5915)scale(0.1 -0.1)\">\n       <use xlink:href=\"#DejaVuSans-56\"/>\n       <use x=\"63.623047\" xlink:href=\"#DejaVuSans-55\"/>\n       <use x=\"127.246094\" xlink:href=\"#DejaVuSans-46\"/>\n       <use x=\"159.033203\" xlink:href=\"#DejaVuSans-53\"/>\n      </g>\n     </g>\n    </g>\n    <g id=\"ytick_11\">\n     <g id=\"line2d_22\">\n      <g>\n       <use style=\"stroke:#000000;stroke-width:0.8;\" x=\"348.144886\" xlink:href=\"#ma65471935a\" y=\"74.203151\"/>\n      </g>\n     </g>\n     <g id=\"text_25\">\n      <!-- 90.0 -->\n      <defs>\n       <path d=\"M 10.984375 1.515625 \nL 10.984375 10.5 \nQ 14.703125 8.734375 18.5 7.8125 \nQ 22.3125 6.890625 25.984375 6.890625 \nQ 35.75 6.890625 40.890625 13.453125 \nQ 46.046875 20.015625 46.78125 33.40625 \nQ 43.953125 29.203125 39.59375 26.953125 \nQ 35.25 24.703125 29.984375 24.703125 \nQ 19.046875 24.703125 12.671875 31.3125 \nQ 6.296875 37.9375 6.296875 49.421875 \nQ 6.296875 60.640625 12.9375 67.421875 \nQ 19.578125 74.21875 30.609375 74.21875 \nQ 43.265625 74.21875 49.921875 64.515625 \nQ 56.59375 54.828125 56.59375 36.375 \nQ 56.59375 19.140625 48.40625 8.859375 \nQ 40.234375 -1.421875 26.421875 -1.421875 \nQ 22.703125 -1.421875 18.890625 -0.6875 \nQ 15.09375 0.046875 10.984375 1.515625 \nz\nM 30.609375 32.421875 \nQ 37.25 32.421875 41.125 36.953125 \nQ 45.015625 41.5 45.015625 49.421875 \nQ 45.015625 57.28125 41.125 61.84375 \nQ 37.25 66.40625 30.609375 66.40625 \nQ 23.96875 66.40625 20.09375 61.84375 \nQ 16.21875 57.28125 16.21875 49.421875 \nQ 16.21875 41.5 20.09375 36.953125 \nQ 23.96875 32.421875 30.609375 32.421875 \nz\n\" id=\"DejaVuSans-57\"/>\n      </defs>\n      <g transform=\"translate(318.879261 78.00237)scale(0.1 -0.1)\">\n       <use xlink:href=\"#DejaVuSans-57\"/>\n       <use x=\"63.623047\" xlink:href=\"#DejaVuSans-48\"/>\n       <use x=\"127.246094\" xlink:href=\"#DejaVuSans-46\"/>\n       <use x=\"159.033203\" xlink:href=\"#DejaVuSans-48\"/>\n      </g>\n     </g>\n    </g>\n    <g id=\"ytick_12\">\n     <g id=\"line2d_23\">\n      <g>\n       <use style=\"stroke:#000000;stroke-width:0.8;\" x=\"348.144886\" xlink:href=\"#ma65471935a\" y=\"39.614022\"/>\n      </g>\n     </g>\n     <g id=\"text_26\">\n      <!-- 92.5 -->\n      <g transform=\"translate(318.879261 43.413241)scale(0.1 -0.1)\">\n       <use xlink:href=\"#DejaVuSans-57\"/>\n       <use x=\"63.623047\" xlink:href=\"#DejaVuSans-50\"/>\n       <use x=\"127.246094\" xlink:href=\"#DejaVuSans-46\"/>\n       <use x=\"159.033203\" xlink:href=\"#DejaVuSans-53\"/>\n      </g>\n     </g>\n    </g>\n    <g id=\"text_27\">\n     <!-- Accuracy (%) -->\n     <defs>\n      <path d=\"M 34.1875 63.1875 \nL 20.796875 26.90625 \nL 47.609375 26.90625 \nz\nM 28.609375 72.90625 \nL 39.796875 72.90625 \nL 67.578125 0 \nL 57.328125 0 \nL 50.6875 18.703125 \nL 17.828125 18.703125 \nL 11.1875 0 \nL 0.78125 0 \nz\n\" id=\"DejaVuSans-65\"/>\n      <path d=\"M 8.5 21.578125 \nL 8.5 54.6875 \nL 17.484375 54.6875 \nL 17.484375 21.921875 \nQ 17.484375 14.15625 20.5 10.265625 \nQ 23.53125 6.390625 29.59375 6.390625 \nQ 36.859375 6.390625 41.078125 11.03125 \nQ 45.3125 15.671875 45.3125 23.6875 \nL 45.3125 54.6875 \nL 54.296875 54.6875 \nL 54.296875 0 \nL 45.3125 0 \nL 45.3125 8.40625 \nQ 42.046875 3.421875 37.71875 1 \nQ 33.40625 -1.421875 27.6875 -1.421875 \nQ 18.265625 -1.421875 13.375 4.4375 \nQ 8.5 10.296875 8.5 21.578125 \nz\nM 31.109375 56 \nz\n\" id=\"DejaVuSans-117\"/>\n      <path d=\"M 41.109375 46.296875 \nQ 39.59375 47.171875 37.8125 47.578125 \nQ 36.03125 48 33.890625 48 \nQ 26.265625 48 22.1875 43.046875 \nQ 18.109375 38.09375 18.109375 28.8125 \nL 18.109375 0 \nL 9.078125 0 \nL 9.078125 54.6875 \nL 18.109375 54.6875 \nL 18.109375 46.1875 \nQ 20.953125 51.171875 25.484375 53.578125 \nQ 30.03125 56 36.53125 56 \nQ 37.453125 56 38.578125 55.875 \nQ 39.703125 55.765625 41.0625 55.515625 \nz\n\" id=\"DejaVuSans-114\"/>\n      <path d=\"M 34.28125 27.484375 \nQ 23.390625 27.484375 19.1875 25 \nQ 14.984375 22.515625 14.984375 16.5 \nQ 14.984375 11.71875 18.140625 8.90625 \nQ 21.296875 6.109375 26.703125 6.109375 \nQ 34.1875 6.109375 38.703125 11.40625 \nQ 43.21875 16.703125 43.21875 25.484375 \nL 43.21875 27.484375 \nz\nM 52.203125 31.203125 \nL 52.203125 0 \nL 43.21875 0 \nL 43.21875 8.296875 \nQ 40.140625 3.328125 35.546875 0.953125 \nQ 30.953125 -1.421875 24.3125 -1.421875 \nQ 15.921875 -1.421875 10.953125 3.296875 \nQ 6 8.015625 6 15.921875 \nQ 6 25.140625 12.171875 29.828125 \nQ 18.359375 34.515625 30.609375 34.515625 \nL 43.21875 34.515625 \nL 43.21875 35.40625 \nQ 43.21875 41.609375 39.140625 45 \nQ 35.0625 48.390625 27.6875 48.390625 \nQ 23 48.390625 18.546875 47.265625 \nQ 14.109375 46.140625 10.015625 43.890625 \nL 10.015625 52.203125 \nQ 14.9375 54.109375 19.578125 55.046875 \nQ 24.21875 56 28.609375 56 \nQ 40.484375 56 46.34375 49.84375 \nQ 52.203125 43.703125 52.203125 31.203125 \nz\n\" id=\"DejaVuSans-97\"/>\n      <path d=\"M 32.171875 -5.078125 \nQ 28.375 -14.84375 24.75 -17.8125 \nQ 21.140625 -20.796875 15.09375 -20.796875 \nL 7.90625 -20.796875 \nL 7.90625 -13.28125 \nL 13.1875 -13.28125 \nQ 16.890625 -13.28125 18.9375 -11.515625 \nQ 21 -9.765625 23.484375 -3.21875 \nL 25.09375 0.875 \nL 2.984375 54.6875 \nL 12.5 54.6875 \nL 29.59375 11.921875 \nL 46.6875 54.6875 \nL 56.203125 54.6875 \nz\n\" id=\"DejaVuSans-121\"/>\n      <path d=\"M 31 75.875 \nQ 24.46875 64.65625 21.28125 53.65625 \nQ 18.109375 42.671875 18.109375 31.390625 \nQ 18.109375 20.125 21.3125 9.0625 \nQ 24.515625 -2 31 -13.1875 \nL 23.1875 -13.1875 \nQ 15.875 -1.703125 12.234375 9.375 \nQ 8.59375 20.453125 8.59375 31.390625 \nQ 8.59375 42.28125 12.203125 53.3125 \nQ 15.828125 64.359375 23.1875 75.875 \nz\n\" id=\"DejaVuSans-40\"/>\n      <path d=\"M 72.703125 32.078125 \nQ 68.453125 32.078125 66.03125 28.46875 \nQ 63.625 24.859375 63.625 18.40625 \nQ 63.625 12.0625 66.03125 8.421875 \nQ 68.453125 4.78125 72.703125 4.78125 \nQ 76.859375 4.78125 79.265625 8.421875 \nQ 81.6875 12.0625 81.6875 18.40625 \nQ 81.6875 24.8125 79.265625 28.4375 \nQ 76.859375 32.078125 72.703125 32.078125 \nz\nM 72.703125 38.28125 \nQ 80.421875 38.28125 84.953125 32.90625 \nQ 89.5 27.546875 89.5 18.40625 \nQ 89.5 9.28125 84.9375 3.921875 \nQ 80.375 -1.421875 72.703125 -1.421875 \nQ 64.890625 -1.421875 60.34375 3.921875 \nQ 55.8125 9.28125 55.8125 18.40625 \nQ 55.8125 27.59375 60.375 32.9375 \nQ 64.9375 38.28125 72.703125 38.28125 \nz\nM 22.3125 68.015625 \nQ 18.109375 68.015625 15.6875 64.375 \nQ 13.28125 60.75 13.28125 54.390625 \nQ 13.28125 47.953125 15.671875 44.328125 \nQ 18.0625 40.71875 22.3125 40.71875 \nQ 26.5625 40.71875 28.96875 44.328125 \nQ 31.390625 47.953125 31.390625 54.390625 \nQ 31.390625 60.6875 28.953125 64.34375 \nQ 26.515625 68.015625 22.3125 68.015625 \nz\nM 66.40625 74.21875 \nL 74.21875 74.21875 \nL 28.609375 -1.421875 \nL 20.796875 -1.421875 \nz\nM 22.3125 74.21875 \nQ 30.03125 74.21875 34.609375 68.875 \nQ 39.203125 63.53125 39.203125 54.390625 \nQ 39.203125 45.171875 34.640625 39.84375 \nQ 30.078125 34.515625 22.3125 34.515625 \nQ 14.546875 34.515625 10.03125 39.859375 \nQ 5.515625 45.21875 5.515625 54.390625 \nQ 5.515625 63.484375 10.046875 68.84375 \nQ 14.59375 74.21875 22.3125 74.21875 \nz\n\" id=\"DejaVuSans-37\"/>\n      <path d=\"M 8.015625 75.875 \nL 15.828125 75.875 \nQ 23.140625 64.359375 26.78125 53.3125 \nQ 30.421875 42.28125 30.421875 31.390625 \nQ 30.421875 20.453125 26.78125 9.375 \nQ 23.140625 -1.703125 15.828125 -13.1875 \nL 8.015625 -13.1875 \nQ 14.5 -2 17.703125 9.0625 \nQ 20.90625 20.125 20.90625 31.390625 \nQ 20.90625 42.671875 17.703125 53.65625 \nQ 14.5 64.65625 8.015625 75.875 \nz\n\" id=\"DejaVuSans-41\"/>\n     </defs>\n     <g transform=\"translate(312.799574 191.287656)rotate(-90)scale(0.1 -0.1)\">\n      <use xlink:href=\"#DejaVuSans-65\"/>\n      <use x=\"66.658203\" xlink:href=\"#DejaVuSans-99\"/>\n      <use x=\"121.638672\" xlink:href=\"#DejaVuSans-99\"/>\n      <use x=\"176.619141\" xlink:href=\"#DejaVuSans-117\"/>\n      <use x=\"239.998047\" xlink:href=\"#DejaVuSans-114\"/>\n      <use x=\"281.111328\" xlink:href=\"#DejaVuSans-97\"/>\n      <use x=\"342.390625\" xlink:href=\"#DejaVuSans-99\"/>\n      <use x=\"397.371094\" xlink:href=\"#DejaVuSans-121\"/>\n      <use x=\"456.550781\" xlink:href=\"#DejaVuSans-32\"/>\n      <use x=\"488.337891\" xlink:href=\"#DejaVuSans-40\"/>\n      <use x=\"527.351562\" xlink:href=\"#DejaVuSans-37\"/>\n      <use x=\"622.371094\" xlink:href=\"#DejaVuSans-41\"/>\n     </g>\n    </g>\n   </g>\n   <g id=\"line2d_24\">\n    <path clip-path=\"url(#pc0a7401b32)\" d=\"M 359.673812 281.76358 \nL 385.293647 147.748647 \nL 410.913481 114.815084 \nL 436.533316 100.693476 \nL 462.153151 87.443141 \nL 487.772986 78.319161 \nL 513.39282 69.784719 \nL 539.012655 63.915609 \nL 564.63249 58.789729 \nL 590.252324 51.7161 \n\" style=\"fill:none;stroke:#1f77b4;stroke-linecap:square;stroke-width:1.5;\"/>\n    <g clip-path=\"url(#pc0a7401b32)\">\n     <use style=\"fill:#1f77b4;stroke:#1f77b4;stroke-linejoin:miter;\" x=\"359.673812\" xlink:href=\"#mf7cfb73f7d\" y=\"281.76358\"/>\n     <use style=\"fill:#1f77b4;stroke:#1f77b4;stroke-linejoin:miter;\" x=\"385.293647\" xlink:href=\"#mf7cfb73f7d\" y=\"147.748647\"/>\n     <use style=\"fill:#1f77b4;stroke:#1f77b4;stroke-linejoin:miter;\" x=\"410.913481\" xlink:href=\"#mf7cfb73f7d\" y=\"114.815084\"/>\n     <use style=\"fill:#1f77b4;stroke:#1f77b4;stroke-linejoin:miter;\" x=\"436.533316\" xlink:href=\"#mf7cfb73f7d\" y=\"100.693476\"/>\n     <use style=\"fill:#1f77b4;stroke:#1f77b4;stroke-linejoin:miter;\" x=\"462.153151\" xlink:href=\"#mf7cfb73f7d\" y=\"87.443141\"/>\n     <use style=\"fill:#1f77b4;stroke:#1f77b4;stroke-linejoin:miter;\" x=\"487.772986\" xlink:href=\"#mf7cfb73f7d\" y=\"78.319161\"/>\n     <use style=\"fill:#1f77b4;stroke:#1f77b4;stroke-linejoin:miter;\" x=\"513.39282\" xlink:href=\"#mf7cfb73f7d\" y=\"69.784719\"/>\n     <use style=\"fill:#1f77b4;stroke:#1f77b4;stroke-linejoin:miter;\" x=\"539.012655\" xlink:href=\"#mf7cfb73f7d\" y=\"63.915609\"/>\n     <use style=\"fill:#1f77b4;stroke:#1f77b4;stroke-linejoin:miter;\" x=\"564.63249\" xlink:href=\"#mf7cfb73f7d\" y=\"58.789729\"/>\n     <use style=\"fill:#1f77b4;stroke:#1f77b4;stroke-linejoin:miter;\" x=\"590.252324\" xlink:href=\"#mf7cfb73f7d\" y=\"51.7161\"/>\n    </g>\n   </g>\n   <g id=\"line2d_25\">\n    <path clip-path=\"url(#pc0a7401b32)\" d=\"M 359.673812 182.911809 \nL 385.293647 121.145494 \nL 410.913481 96.438985 \nL 436.533316 59.37918 \nL 462.153151 96.438985 \nL 487.772986 71.732476 \nL 513.39282 34.67267 \nL 539.012655 84.085689 \nL 564.63249 59.37918 \nL 590.252324 34.67267 \n\" style=\"fill:none;stroke:#ff7f0e;stroke-linecap:square;stroke-width:1.5;\"/>\n    <defs>\n     <path d=\"M 0 3 \nC 0.795609 3 1.55874 2.683901 2.12132 2.12132 \nC 2.683901 1.55874 3 0.795609 3 0 \nC 3 -0.795609 2.683901 -1.55874 2.12132 -2.12132 \nC 1.55874 -2.683901 0.795609 -3 0 -3 \nC -0.795609 -3 -1.55874 -2.683901 -2.12132 -2.12132 \nC -2.683901 -1.55874 -3 -0.795609 -3 0 \nC -3 0.795609 -2.683901 1.55874 -2.12132 2.12132 \nC -1.55874 2.683901 -0.795609 3 0 3 \nz\n\" id=\"me366478284\" style=\"stroke:#ff7f0e;\"/>\n    </defs>\n    <g clip-path=\"url(#pc0a7401b32)\">\n     <use style=\"fill:#ff7f0e;stroke:#ff7f0e;\" x=\"359.673812\" xlink:href=\"#me366478284\" y=\"182.911809\"/>\n     <use style=\"fill:#ff7f0e;stroke:#ff7f0e;\" x=\"385.293647\" xlink:href=\"#me366478284\" y=\"121.145494\"/>\n     <use style=\"fill:#ff7f0e;stroke:#ff7f0e;\" x=\"410.913481\" xlink:href=\"#me366478284\" y=\"96.438985\"/>\n     <use style=\"fill:#ff7f0e;stroke:#ff7f0e;\" x=\"436.533316\" xlink:href=\"#me366478284\" y=\"59.37918\"/>\n     <use style=\"fill:#ff7f0e;stroke:#ff7f0e;\" x=\"462.153151\" xlink:href=\"#me366478284\" y=\"96.438985\"/>\n     <use style=\"fill:#ff7f0e;stroke:#ff7f0e;\" x=\"487.772986\" xlink:href=\"#me366478284\" y=\"71.732476\"/>\n     <use style=\"fill:#ff7f0e;stroke:#ff7f0e;\" x=\"513.39282\" xlink:href=\"#me366478284\" y=\"34.67267\"/>\n     <use style=\"fill:#ff7f0e;stroke:#ff7f0e;\" x=\"539.012655\" xlink:href=\"#me366478284\" y=\"84.085689\"/>\n     <use style=\"fill:#ff7f0e;stroke:#ff7f0e;\" x=\"564.63249\" xlink:href=\"#me366478284\" y=\"59.37918\"/>\n     <use style=\"fill:#ff7f0e;stroke:#ff7f0e;\" x=\"590.252324\" xlink:href=\"#me366478284\" y=\"34.67267\"/>\n    </g>\n   </g>\n   <g id=\"patch_8\">\n    <path d=\"M 348.144886 294.118125 \nL 348.144886 22.318125 \n\" style=\"fill:none;stroke:#000000;stroke-linecap:square;stroke-linejoin:miter;stroke-width:0.8;\"/>\n   </g>\n   <g id=\"patch_9\">\n    <path d=\"M 601.78125 294.118125 \nL 601.78125 22.318125 \n\" style=\"fill:none;stroke:#000000;stroke-linecap:square;stroke-linejoin:miter;stroke-width:0.8;\"/>\n   </g>\n   <g id=\"patch_10\">\n    <path d=\"M 348.144886 294.118125 \nL 601.78125 294.118125 \n\" style=\"fill:none;stroke:#000000;stroke-linecap:square;stroke-linejoin:miter;stroke-width:0.8;\"/>\n   </g>\n   <g id=\"patch_11\">\n    <path d=\"M 348.144886 22.318125 \nL 601.78125 22.318125 \n\" style=\"fill:none;stroke:#000000;stroke-linecap:square;stroke-linejoin:miter;stroke-width:0.8;\"/>\n   </g>\n   <g id=\"text_28\">\n    <!-- Final model test accuracy: 92.86% -->\n    <defs>\n     <path d=\"M 9.8125 72.90625 \nL 51.703125 72.90625 \nL 51.703125 64.59375 \nL 19.671875 64.59375 \nL 19.671875 43.109375 \nL 48.578125 43.109375 \nL 48.578125 34.8125 \nL 19.671875 34.8125 \nL 19.671875 0 \nL 9.8125 0 \nz\n\" id=\"DejaVuSans-70\"/>\n     <path d=\"M 9.421875 54.6875 \nL 18.40625 54.6875 \nL 18.40625 0 \nL 9.421875 0 \nz\nM 9.421875 75.984375 \nL 18.40625 75.984375 \nL 18.40625 64.59375 \nL 9.421875 64.59375 \nz\n\" id=\"DejaVuSans-105\"/>\n     <path d=\"M 54.890625 33.015625 \nL 54.890625 0 \nL 45.90625 0 \nL 45.90625 32.71875 \nQ 45.90625 40.484375 42.875 44.328125 \nQ 39.84375 48.1875 33.796875 48.1875 \nQ 26.515625 48.1875 22.3125 43.546875 \nQ 18.109375 38.921875 18.109375 30.90625 \nL 18.109375 0 \nL 9.078125 0 \nL 9.078125 54.6875 \nL 18.109375 54.6875 \nL 18.109375 46.1875 \nQ 21.34375 51.125 25.703125 53.5625 \nQ 30.078125 56 35.796875 56 \nQ 45.21875 56 50.046875 50.171875 \nQ 54.890625 44.34375 54.890625 33.015625 \nz\n\" id=\"DejaVuSans-110\"/>\n     <path d=\"M 52 44.1875 \nQ 55.375 50.25 60.0625 53.125 \nQ 64.75 56 71.09375 56 \nQ 79.640625 56 84.28125 50.015625 \nQ 88.921875 44.046875 88.921875 33.015625 \nL 88.921875 0 \nL 79.890625 0 \nL 79.890625 32.71875 \nQ 79.890625 40.578125 77.09375 44.375 \nQ 74.3125 48.1875 68.609375 48.1875 \nQ 61.625 48.1875 57.5625 43.546875 \nQ 53.515625 38.921875 53.515625 30.90625 \nL 53.515625 0 \nL 44.484375 0 \nL 44.484375 32.71875 \nQ 44.484375 40.625 41.703125 44.40625 \nQ 38.921875 48.1875 33.109375 48.1875 \nQ 26.21875 48.1875 22.15625 43.53125 \nQ 18.109375 38.875 18.109375 30.90625 \nL 18.109375 0 \nL 9.078125 0 \nL 9.078125 54.6875 \nL 18.109375 54.6875 \nL 18.109375 46.1875 \nQ 21.1875 51.21875 25.484375 53.609375 \nQ 29.78125 56 35.6875 56 \nQ 41.65625 56 45.828125 52.96875 \nQ 50 49.953125 52 44.1875 \nz\n\" id=\"DejaVuSans-109\"/>\n     <path d=\"M 18.3125 70.21875 \nL 18.3125 54.6875 \nL 36.8125 54.6875 \nL 36.8125 47.703125 \nL 18.3125 47.703125 \nL 18.3125 18.015625 \nQ 18.3125 11.328125 20.140625 9.421875 \nQ 21.96875 7.515625 27.59375 7.515625 \nL 36.8125 7.515625 \nL 36.8125 0 \nL 27.59375 0 \nQ 17.1875 0 13.234375 3.875 \nQ 9.28125 7.765625 9.28125 18.015625 \nL 9.28125 47.703125 \nL 2.6875 47.703125 \nL 2.6875 54.6875 \nL 9.28125 54.6875 \nL 9.28125 70.21875 \nz\n\" id=\"DejaVuSans-116\"/>\n     <path d=\"M 11.71875 12.40625 \nL 22.015625 12.40625 \nL 22.015625 0 \nL 11.71875 0 \nz\nM 11.71875 51.703125 \nL 22.015625 51.703125 \nL 22.015625 39.3125 \nL 11.71875 39.3125 \nz\n\" id=\"DejaVuSans-58\"/>\n    </defs>\n    <g transform=\"translate(371.765881 16.318125)scale(0.12 -0.12)\">\n     <use xlink:href=\"#DejaVuSans-70\"/>\n     <use x=\"50.269531\" xlink:href=\"#DejaVuSans-105\"/>\n     <use x=\"78.052734\" xlink:href=\"#DejaVuSans-110\"/>\n     <use x=\"141.431641\" xlink:href=\"#DejaVuSans-97\"/>\n     <use x=\"202.710938\" xlink:href=\"#DejaVuSans-108\"/>\n     <use x=\"230.494141\" xlink:href=\"#DejaVuSans-32\"/>\n     <use x=\"262.28125\" xlink:href=\"#DejaVuSans-109\"/>\n     <use x=\"359.693359\" xlink:href=\"#DejaVuSans-111\"/>\n     <use x=\"420.875\" xlink:href=\"#DejaVuSans-100\"/>\n     <use x=\"484.351562\" xlink:href=\"#DejaVuSans-101\"/>\n     <use x=\"545.875\" xlink:href=\"#DejaVuSans-108\"/>\n     <use x=\"573.658203\" xlink:href=\"#DejaVuSans-32\"/>\n     <use x=\"605.445312\" xlink:href=\"#DejaVuSans-116\"/>\n     <use x=\"644.654297\" xlink:href=\"#DejaVuSans-101\"/>\n     <use x=\"706.177734\" xlink:href=\"#DejaVuSans-115\"/>\n     <use x=\"758.277344\" xlink:href=\"#DejaVuSans-116\"/>\n     <use x=\"797.486328\" xlink:href=\"#DejaVuSans-32\"/>\n     <use x=\"829.273438\" xlink:href=\"#DejaVuSans-97\"/>\n     <use x=\"890.552734\" xlink:href=\"#DejaVuSans-99\"/>\n     <use x=\"945.533203\" xlink:href=\"#DejaVuSans-99\"/>\n     <use x=\"1000.513672\" xlink:href=\"#DejaVuSans-117\"/>\n     <use x=\"1063.892578\" xlink:href=\"#DejaVuSans-114\"/>\n     <use x=\"1105.005859\" xlink:href=\"#DejaVuSans-97\"/>\n     <use x=\"1166.285156\" xlink:href=\"#DejaVuSans-99\"/>\n     <use x=\"1221.265625\" xlink:href=\"#DejaVuSans-121\"/>\n     <use x=\"1273.195312\" xlink:href=\"#DejaVuSans-58\"/>\n     <use x=\"1306.886719\" xlink:href=\"#DejaVuSans-32\"/>\n     <use x=\"1338.673828\" xlink:href=\"#DejaVuSans-57\"/>\n     <use x=\"1402.296875\" xlink:href=\"#DejaVuSans-50\"/>\n     <use x=\"1465.919922\" xlink:href=\"#DejaVuSans-46\"/>\n     <use x=\"1497.707031\" xlink:href=\"#DejaVuSans-56\"/>\n     <use x=\"1561.330078\" xlink:href=\"#DejaVuSans-54\"/>\n     <use x=\"1624.953125\" xlink:href=\"#DejaVuSans-37\"/>\n    </g>\n   </g>\n   <g id=\"legend_1\">\n    <g id=\"patch_12\">\n     <path d=\"M 355.144886 59.674375 \nL 411.132386 59.674375 \nQ 413.132386 59.674375 413.132386 57.674375 \nL 413.132386 29.318125 \nQ 413.132386 27.318125 411.132386 27.318125 \nL 355.144886 27.318125 \nQ 353.144886 27.318125 353.144886 29.318125 \nL 353.144886 57.674375 \nQ 353.144886 59.674375 355.144886 59.674375 \nz\n\" style=\"fill:#ffffff;opacity:0.8;stroke:#cccccc;stroke-linejoin:miter;\"/>\n    </g>\n    <g id=\"line2d_26\">\n     <path d=\"M 357.144886 35.416562 \nL 377.144886 35.416562 \n\" style=\"fill:none;stroke:#1f77b4;stroke-linecap:square;stroke-width:1.5;\"/>\n    </g>\n    <g id=\"line2d_27\">\n     <g>\n      <use style=\"fill:#1f77b4;stroke:#1f77b4;stroke-linejoin:miter;\" x=\"367.144886\" xlink:href=\"#mf7cfb73f7d\" y=\"35.416562\"/>\n     </g>\n    </g>\n    <g id=\"text_29\">\n     <!-- Train -->\n     <defs>\n      <path d=\"M -0.296875 72.90625 \nL 61.375 72.90625 \nL 61.375 64.59375 \nL 35.5 64.59375 \nL 35.5 0 \nL 25.59375 0 \nL 25.59375 64.59375 \nL -0.296875 64.59375 \nz\n\" id=\"DejaVuSans-84\"/>\n     </defs>\n     <g transform=\"translate(385.144886 38.916562)scale(0.1 -0.1)\">\n      <use xlink:href=\"#DejaVuSans-84\"/>\n      <use x=\"46.333984\" xlink:href=\"#DejaVuSans-114\"/>\n      <use x=\"87.447266\" xlink:href=\"#DejaVuSans-97\"/>\n      <use x=\"148.726562\" xlink:href=\"#DejaVuSans-105\"/>\n      <use x=\"176.509766\" xlink:href=\"#DejaVuSans-110\"/>\n     </g>\n    </g>\n    <g id=\"line2d_28\">\n     <path d=\"M 357.144886 50.094688 \nL 377.144886 50.094688 \n\" style=\"fill:none;stroke:#ff7f0e;stroke-linecap:square;stroke-width:1.5;\"/>\n    </g>\n    <g id=\"line2d_29\">\n     <g>\n      <use style=\"fill:#ff7f0e;stroke:#ff7f0e;\" x=\"367.144886\" xlink:href=\"#me366478284\" y=\"50.094688\"/>\n     </g>\n    </g>\n    <g id=\"text_30\">\n     <!-- Test -->\n     <g transform=\"translate(385.144886 53.594688)scale(0.1 -0.1)\">\n      <use xlink:href=\"#DejaVuSans-84\"/>\n      <use x=\"44.083984\" xlink:href=\"#DejaVuSans-101\"/>\n      <use x=\"105.607422\" xlink:href=\"#DejaVuSans-115\"/>\n      <use x=\"157.707031\" xlink:href=\"#DejaVuSans-116\"/>\n     </g>\n    </g>\n   </g>\n  </g>\n </g>\n <defs>\n  <clipPath id=\"pc01de42f32\">\n   <rect height=\"271.8\" width=\"253.636364\" x=\"43.78125\" y=\"22.318125\"/>\n  </clipPath>\n  <clipPath id=\"pc0a7401b32\">\n   <rect height=\"271.8\" width=\"253.636364\" x=\"348.144886\" y=\"22.318125\"/>\n  </clipPath>\n </defs>\n</svg>\n"
          },
          "metadata": {
            "needs_background": "light"
          }
        }
      ]
    },
    {
      "cell_type": "markdown",
      "source": [
        "# 2- from torchvision"
      ],
      "metadata": {
        "id": "5ktCprDhYFnk"
      }
    },
    {
      "cell_type": "code",
      "source": [
        "# # transformations\n",
        "# transform = T.Compose([ T.ToTensor(),\n",
        "#                         T.Normalize([.5,.5,.5],[.5,.5,.5])\n",
        "#                        ])\n",
        "\n",
        "# trainset = torchvision.datasets.FashionMNIST(root='./data', train=True,  download=True, transform=transform)\n",
        "# devtest  = torchvision.datasets.FashionMNIST(root='./data', train=False, download=True, transform=transform)"
      ],
      "metadata": {
        "id": "hY9XM8sELPg7"
      },
      "execution_count": null,
      "outputs": []
    },
    {
      "cell_type": "code",
      "source": [
        "# print(trainset.data.shape)\n",
        "# print(devtest.data.shape)\n",
        "# print(trainset.classes)\n",
        "# print(len(trainset.classes))\n",
        "# print(trainset.targets)"
      ],
      "metadata": {
        "id": "KmQ2H1pNN7gF"
      },
      "execution_count": null,
      "outputs": []
    }
  ]
}