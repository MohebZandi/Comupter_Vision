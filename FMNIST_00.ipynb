{
  "nbformat": 4,
  "nbformat_minor": 0,
  "metadata": {
    "colab": {
      "name": "FMNIST_00.ipynb",
      "provenance": [],
      "collapsed_sections": [],
      "authorship_tag": "ABX9TyNiqG3FkbPBQuf5YnUUDJK/",
      "include_colab_link": true
    },
    "kernelspec": {
      "name": "python3",
      "display_name": "Python 3"
    },
    "language_info": {
      "name": "python"
    },
    "accelerator": "GPU",
    "widgets": {
      "application/vnd.jupyter.widget-state+json": {
        "957dbc9b55554bd39655d4332da7895f": {
          "model_module": "@jupyter-widgets/controls",
          "model_name": "HBoxModel",
          "model_module_version": "1.5.0",
          "state": {
            "_dom_classes": [],
            "_model_module": "@jupyter-widgets/controls",
            "_model_module_version": "1.5.0",
            "_model_name": "HBoxModel",
            "_view_count": null,
            "_view_module": "@jupyter-widgets/controls",
            "_view_module_version": "1.5.0",
            "_view_name": "HBoxView",
            "box_style": "",
            "children": [
              "IPY_MODEL_573a4207168c4a7a973d1fe5d6b67843",
              "IPY_MODEL_fe735f7be71a4ec186312b811f89a00c",
              "IPY_MODEL_a593ed54a239453db58bb2429541af66"
            ],
            "layout": "IPY_MODEL_1877d80cd3394e64b1d9cbc73b5a222d"
          }
        },
        "573a4207168c4a7a973d1fe5d6b67843": {
          "model_module": "@jupyter-widgets/controls",
          "model_name": "HTMLModel",
          "model_module_version": "1.5.0",
          "state": {
            "_dom_classes": [],
            "_model_module": "@jupyter-widgets/controls",
            "_model_module_version": "1.5.0",
            "_model_name": "HTMLModel",
            "_view_count": null,
            "_view_module": "@jupyter-widgets/controls",
            "_view_module_version": "1.5.0",
            "_view_name": "HTMLView",
            "description": "",
            "description_tooltip": null,
            "layout": "IPY_MODEL_4f2837f9633f4e8c88ed263fe3004689",
            "placeholder": "​",
            "style": "IPY_MODEL_baab9fcb75ff4a32a8fc860d3ee8bed1",
            "value": ""
          }
        },
        "fe735f7be71a4ec186312b811f89a00c": {
          "model_module": "@jupyter-widgets/controls",
          "model_name": "FloatProgressModel",
          "model_module_version": "1.5.0",
          "state": {
            "_dom_classes": [],
            "_model_module": "@jupyter-widgets/controls",
            "_model_module_version": "1.5.0",
            "_model_name": "FloatProgressModel",
            "_view_count": null,
            "_view_module": "@jupyter-widgets/controls",
            "_view_module_version": "1.5.0",
            "_view_name": "ProgressView",
            "bar_style": "success",
            "description": "",
            "description_tooltip": null,
            "layout": "IPY_MODEL_70110ff48dd84b0ebe0f016847bc26a3",
            "max": 26421880,
            "min": 0,
            "orientation": "horizontal",
            "style": "IPY_MODEL_65a820847cee4949b4de2b068037b3c5",
            "value": 26421880
          }
        },
        "a593ed54a239453db58bb2429541af66": {
          "model_module": "@jupyter-widgets/controls",
          "model_name": "HTMLModel",
          "model_module_version": "1.5.0",
          "state": {
            "_dom_classes": [],
            "_model_module": "@jupyter-widgets/controls",
            "_model_module_version": "1.5.0",
            "_model_name": "HTMLModel",
            "_view_count": null,
            "_view_module": "@jupyter-widgets/controls",
            "_view_module_version": "1.5.0",
            "_view_name": "HTMLView",
            "description": "",
            "description_tooltip": null,
            "layout": "IPY_MODEL_881fa9f67701402b98d03e938749ebfa",
            "placeholder": "​",
            "style": "IPY_MODEL_4ec37bf8e8e148aa8455d605a97c2682",
            "value": " 26422272/? [00:01&lt;00:00, 28116264.66it/s]"
          }
        },
        "1877d80cd3394e64b1d9cbc73b5a222d": {
          "model_module": "@jupyter-widgets/base",
          "model_name": "LayoutModel",
          "model_module_version": "1.2.0",
          "state": {
            "_model_module": "@jupyter-widgets/base",
            "_model_module_version": "1.2.0",
            "_model_name": "LayoutModel",
            "_view_count": null,
            "_view_module": "@jupyter-widgets/base",
            "_view_module_version": "1.2.0",
            "_view_name": "LayoutView",
            "align_content": null,
            "align_items": null,
            "align_self": null,
            "border": null,
            "bottom": null,
            "display": null,
            "flex": null,
            "flex_flow": null,
            "grid_area": null,
            "grid_auto_columns": null,
            "grid_auto_flow": null,
            "grid_auto_rows": null,
            "grid_column": null,
            "grid_gap": null,
            "grid_row": null,
            "grid_template_areas": null,
            "grid_template_columns": null,
            "grid_template_rows": null,
            "height": null,
            "justify_content": null,
            "justify_items": null,
            "left": null,
            "margin": null,
            "max_height": null,
            "max_width": null,
            "min_height": null,
            "min_width": null,
            "object_fit": null,
            "object_position": null,
            "order": null,
            "overflow": null,
            "overflow_x": null,
            "overflow_y": null,
            "padding": null,
            "right": null,
            "top": null,
            "visibility": null,
            "width": null
          }
        },
        "4f2837f9633f4e8c88ed263fe3004689": {
          "model_module": "@jupyter-widgets/base",
          "model_name": "LayoutModel",
          "model_module_version": "1.2.0",
          "state": {
            "_model_module": "@jupyter-widgets/base",
            "_model_module_version": "1.2.0",
            "_model_name": "LayoutModel",
            "_view_count": null,
            "_view_module": "@jupyter-widgets/base",
            "_view_module_version": "1.2.0",
            "_view_name": "LayoutView",
            "align_content": null,
            "align_items": null,
            "align_self": null,
            "border": null,
            "bottom": null,
            "display": null,
            "flex": null,
            "flex_flow": null,
            "grid_area": null,
            "grid_auto_columns": null,
            "grid_auto_flow": null,
            "grid_auto_rows": null,
            "grid_column": null,
            "grid_gap": null,
            "grid_row": null,
            "grid_template_areas": null,
            "grid_template_columns": null,
            "grid_template_rows": null,
            "height": null,
            "justify_content": null,
            "justify_items": null,
            "left": null,
            "margin": null,
            "max_height": null,
            "max_width": null,
            "min_height": null,
            "min_width": null,
            "object_fit": null,
            "object_position": null,
            "order": null,
            "overflow": null,
            "overflow_x": null,
            "overflow_y": null,
            "padding": null,
            "right": null,
            "top": null,
            "visibility": null,
            "width": null
          }
        },
        "baab9fcb75ff4a32a8fc860d3ee8bed1": {
          "model_module": "@jupyter-widgets/controls",
          "model_name": "DescriptionStyleModel",
          "model_module_version": "1.5.0",
          "state": {
            "_model_module": "@jupyter-widgets/controls",
            "_model_module_version": "1.5.0",
            "_model_name": "DescriptionStyleModel",
            "_view_count": null,
            "_view_module": "@jupyter-widgets/base",
            "_view_module_version": "1.2.0",
            "_view_name": "StyleView",
            "description_width": ""
          }
        },
        "70110ff48dd84b0ebe0f016847bc26a3": {
          "model_module": "@jupyter-widgets/base",
          "model_name": "LayoutModel",
          "model_module_version": "1.2.0",
          "state": {
            "_model_module": "@jupyter-widgets/base",
            "_model_module_version": "1.2.0",
            "_model_name": "LayoutModel",
            "_view_count": null,
            "_view_module": "@jupyter-widgets/base",
            "_view_module_version": "1.2.0",
            "_view_name": "LayoutView",
            "align_content": null,
            "align_items": null,
            "align_self": null,
            "border": null,
            "bottom": null,
            "display": null,
            "flex": null,
            "flex_flow": null,
            "grid_area": null,
            "grid_auto_columns": null,
            "grid_auto_flow": null,
            "grid_auto_rows": null,
            "grid_column": null,
            "grid_gap": null,
            "grid_row": null,
            "grid_template_areas": null,
            "grid_template_columns": null,
            "grid_template_rows": null,
            "height": null,
            "justify_content": null,
            "justify_items": null,
            "left": null,
            "margin": null,
            "max_height": null,
            "max_width": null,
            "min_height": null,
            "min_width": null,
            "object_fit": null,
            "object_position": null,
            "order": null,
            "overflow": null,
            "overflow_x": null,
            "overflow_y": null,
            "padding": null,
            "right": null,
            "top": null,
            "visibility": null,
            "width": null
          }
        },
        "65a820847cee4949b4de2b068037b3c5": {
          "model_module": "@jupyter-widgets/controls",
          "model_name": "ProgressStyleModel",
          "model_module_version": "1.5.0",
          "state": {
            "_model_module": "@jupyter-widgets/controls",
            "_model_module_version": "1.5.0",
            "_model_name": "ProgressStyleModel",
            "_view_count": null,
            "_view_module": "@jupyter-widgets/base",
            "_view_module_version": "1.2.0",
            "_view_name": "StyleView",
            "bar_color": null,
            "description_width": ""
          }
        },
        "881fa9f67701402b98d03e938749ebfa": {
          "model_module": "@jupyter-widgets/base",
          "model_name": "LayoutModel",
          "model_module_version": "1.2.0",
          "state": {
            "_model_module": "@jupyter-widgets/base",
            "_model_module_version": "1.2.0",
            "_model_name": "LayoutModel",
            "_view_count": null,
            "_view_module": "@jupyter-widgets/base",
            "_view_module_version": "1.2.0",
            "_view_name": "LayoutView",
            "align_content": null,
            "align_items": null,
            "align_self": null,
            "border": null,
            "bottom": null,
            "display": null,
            "flex": null,
            "flex_flow": null,
            "grid_area": null,
            "grid_auto_columns": null,
            "grid_auto_flow": null,
            "grid_auto_rows": null,
            "grid_column": null,
            "grid_gap": null,
            "grid_row": null,
            "grid_template_areas": null,
            "grid_template_columns": null,
            "grid_template_rows": null,
            "height": null,
            "justify_content": null,
            "justify_items": null,
            "left": null,
            "margin": null,
            "max_height": null,
            "max_width": null,
            "min_height": null,
            "min_width": null,
            "object_fit": null,
            "object_position": null,
            "order": null,
            "overflow": null,
            "overflow_x": null,
            "overflow_y": null,
            "padding": null,
            "right": null,
            "top": null,
            "visibility": null,
            "width": null
          }
        },
        "4ec37bf8e8e148aa8455d605a97c2682": {
          "model_module": "@jupyter-widgets/controls",
          "model_name": "DescriptionStyleModel",
          "model_module_version": "1.5.0",
          "state": {
            "_model_module": "@jupyter-widgets/controls",
            "_model_module_version": "1.5.0",
            "_model_name": "DescriptionStyleModel",
            "_view_count": null,
            "_view_module": "@jupyter-widgets/base",
            "_view_module_version": "1.2.0",
            "_view_name": "StyleView",
            "description_width": ""
          }
        },
        "1323b72d29ad490bab51c95664d53eeb": {
          "model_module": "@jupyter-widgets/controls",
          "model_name": "HBoxModel",
          "model_module_version": "1.5.0",
          "state": {
            "_dom_classes": [],
            "_model_module": "@jupyter-widgets/controls",
            "_model_module_version": "1.5.0",
            "_model_name": "HBoxModel",
            "_view_count": null,
            "_view_module": "@jupyter-widgets/controls",
            "_view_module_version": "1.5.0",
            "_view_name": "HBoxView",
            "box_style": "",
            "children": [
              "IPY_MODEL_ed61a67981254b35b26a6f8743d5a836",
              "IPY_MODEL_bc5d2d0a80264dacaef1e179bb3072ce",
              "IPY_MODEL_b7cbdde5c1a64eecacdaf1092f281f28"
            ],
            "layout": "IPY_MODEL_ede2a0f4808d46b7a3b125c5d29d7313"
          }
        },
        "ed61a67981254b35b26a6f8743d5a836": {
          "model_module": "@jupyter-widgets/controls",
          "model_name": "HTMLModel",
          "model_module_version": "1.5.0",
          "state": {
            "_dom_classes": [],
            "_model_module": "@jupyter-widgets/controls",
            "_model_module_version": "1.5.0",
            "_model_name": "HTMLModel",
            "_view_count": null,
            "_view_module": "@jupyter-widgets/controls",
            "_view_module_version": "1.5.0",
            "_view_name": "HTMLView",
            "description": "",
            "description_tooltip": null,
            "layout": "IPY_MODEL_38c8ca25400144b2b74a061564c4e858",
            "placeholder": "​",
            "style": "IPY_MODEL_b1a72d38a4a44448a788d6567c091bf2",
            "value": ""
          }
        },
        "bc5d2d0a80264dacaef1e179bb3072ce": {
          "model_module": "@jupyter-widgets/controls",
          "model_name": "FloatProgressModel",
          "model_module_version": "1.5.0",
          "state": {
            "_dom_classes": [],
            "_model_module": "@jupyter-widgets/controls",
            "_model_module_version": "1.5.0",
            "_model_name": "FloatProgressModel",
            "_view_count": null,
            "_view_module": "@jupyter-widgets/controls",
            "_view_module_version": "1.5.0",
            "_view_name": "ProgressView",
            "bar_style": "success",
            "description": "",
            "description_tooltip": null,
            "layout": "IPY_MODEL_eb35f17860614f1eb91a8abfa4647a4b",
            "max": 29515,
            "min": 0,
            "orientation": "horizontal",
            "style": "IPY_MODEL_1539d6375c8849809612869ef912549b",
            "value": 29515
          }
        },
        "b7cbdde5c1a64eecacdaf1092f281f28": {
          "model_module": "@jupyter-widgets/controls",
          "model_name": "HTMLModel",
          "model_module_version": "1.5.0",
          "state": {
            "_dom_classes": [],
            "_model_module": "@jupyter-widgets/controls",
            "_model_module_version": "1.5.0",
            "_model_name": "HTMLModel",
            "_view_count": null,
            "_view_module": "@jupyter-widgets/controls",
            "_view_module_version": "1.5.0",
            "_view_name": "HTMLView",
            "description": "",
            "description_tooltip": null,
            "layout": "IPY_MODEL_028b35d2d0e842e79da3e1020d2e3967",
            "placeholder": "​",
            "style": "IPY_MODEL_6342ec1a4995450988db166d90ed8ff3",
            "value": " 29696/? [00:00&lt;00:00, 337934.07it/s]"
          }
        },
        "ede2a0f4808d46b7a3b125c5d29d7313": {
          "model_module": "@jupyter-widgets/base",
          "model_name": "LayoutModel",
          "model_module_version": "1.2.0",
          "state": {
            "_model_module": "@jupyter-widgets/base",
            "_model_module_version": "1.2.0",
            "_model_name": "LayoutModel",
            "_view_count": null,
            "_view_module": "@jupyter-widgets/base",
            "_view_module_version": "1.2.0",
            "_view_name": "LayoutView",
            "align_content": null,
            "align_items": null,
            "align_self": null,
            "border": null,
            "bottom": null,
            "display": null,
            "flex": null,
            "flex_flow": null,
            "grid_area": null,
            "grid_auto_columns": null,
            "grid_auto_flow": null,
            "grid_auto_rows": null,
            "grid_column": null,
            "grid_gap": null,
            "grid_row": null,
            "grid_template_areas": null,
            "grid_template_columns": null,
            "grid_template_rows": null,
            "height": null,
            "justify_content": null,
            "justify_items": null,
            "left": null,
            "margin": null,
            "max_height": null,
            "max_width": null,
            "min_height": null,
            "min_width": null,
            "object_fit": null,
            "object_position": null,
            "order": null,
            "overflow": null,
            "overflow_x": null,
            "overflow_y": null,
            "padding": null,
            "right": null,
            "top": null,
            "visibility": null,
            "width": null
          }
        },
        "38c8ca25400144b2b74a061564c4e858": {
          "model_module": "@jupyter-widgets/base",
          "model_name": "LayoutModel",
          "model_module_version": "1.2.0",
          "state": {
            "_model_module": "@jupyter-widgets/base",
            "_model_module_version": "1.2.0",
            "_model_name": "LayoutModel",
            "_view_count": null,
            "_view_module": "@jupyter-widgets/base",
            "_view_module_version": "1.2.0",
            "_view_name": "LayoutView",
            "align_content": null,
            "align_items": null,
            "align_self": null,
            "border": null,
            "bottom": null,
            "display": null,
            "flex": null,
            "flex_flow": null,
            "grid_area": null,
            "grid_auto_columns": null,
            "grid_auto_flow": null,
            "grid_auto_rows": null,
            "grid_column": null,
            "grid_gap": null,
            "grid_row": null,
            "grid_template_areas": null,
            "grid_template_columns": null,
            "grid_template_rows": null,
            "height": null,
            "justify_content": null,
            "justify_items": null,
            "left": null,
            "margin": null,
            "max_height": null,
            "max_width": null,
            "min_height": null,
            "min_width": null,
            "object_fit": null,
            "object_position": null,
            "order": null,
            "overflow": null,
            "overflow_x": null,
            "overflow_y": null,
            "padding": null,
            "right": null,
            "top": null,
            "visibility": null,
            "width": null
          }
        },
        "b1a72d38a4a44448a788d6567c091bf2": {
          "model_module": "@jupyter-widgets/controls",
          "model_name": "DescriptionStyleModel",
          "model_module_version": "1.5.0",
          "state": {
            "_model_module": "@jupyter-widgets/controls",
            "_model_module_version": "1.5.0",
            "_model_name": "DescriptionStyleModel",
            "_view_count": null,
            "_view_module": "@jupyter-widgets/base",
            "_view_module_version": "1.2.0",
            "_view_name": "StyleView",
            "description_width": ""
          }
        },
        "eb35f17860614f1eb91a8abfa4647a4b": {
          "model_module": "@jupyter-widgets/base",
          "model_name": "LayoutModel",
          "model_module_version": "1.2.0",
          "state": {
            "_model_module": "@jupyter-widgets/base",
            "_model_module_version": "1.2.0",
            "_model_name": "LayoutModel",
            "_view_count": null,
            "_view_module": "@jupyter-widgets/base",
            "_view_module_version": "1.2.0",
            "_view_name": "LayoutView",
            "align_content": null,
            "align_items": null,
            "align_self": null,
            "border": null,
            "bottom": null,
            "display": null,
            "flex": null,
            "flex_flow": null,
            "grid_area": null,
            "grid_auto_columns": null,
            "grid_auto_flow": null,
            "grid_auto_rows": null,
            "grid_column": null,
            "grid_gap": null,
            "grid_row": null,
            "grid_template_areas": null,
            "grid_template_columns": null,
            "grid_template_rows": null,
            "height": null,
            "justify_content": null,
            "justify_items": null,
            "left": null,
            "margin": null,
            "max_height": null,
            "max_width": null,
            "min_height": null,
            "min_width": null,
            "object_fit": null,
            "object_position": null,
            "order": null,
            "overflow": null,
            "overflow_x": null,
            "overflow_y": null,
            "padding": null,
            "right": null,
            "top": null,
            "visibility": null,
            "width": null
          }
        },
        "1539d6375c8849809612869ef912549b": {
          "model_module": "@jupyter-widgets/controls",
          "model_name": "ProgressStyleModel",
          "model_module_version": "1.5.0",
          "state": {
            "_model_module": "@jupyter-widgets/controls",
            "_model_module_version": "1.5.0",
            "_model_name": "ProgressStyleModel",
            "_view_count": null,
            "_view_module": "@jupyter-widgets/base",
            "_view_module_version": "1.2.0",
            "_view_name": "StyleView",
            "bar_color": null,
            "description_width": ""
          }
        },
        "028b35d2d0e842e79da3e1020d2e3967": {
          "model_module": "@jupyter-widgets/base",
          "model_name": "LayoutModel",
          "model_module_version": "1.2.0",
          "state": {
            "_model_module": "@jupyter-widgets/base",
            "_model_module_version": "1.2.0",
            "_model_name": "LayoutModel",
            "_view_count": null,
            "_view_module": "@jupyter-widgets/base",
            "_view_module_version": "1.2.0",
            "_view_name": "LayoutView",
            "align_content": null,
            "align_items": null,
            "align_self": null,
            "border": null,
            "bottom": null,
            "display": null,
            "flex": null,
            "flex_flow": null,
            "grid_area": null,
            "grid_auto_columns": null,
            "grid_auto_flow": null,
            "grid_auto_rows": null,
            "grid_column": null,
            "grid_gap": null,
            "grid_row": null,
            "grid_template_areas": null,
            "grid_template_columns": null,
            "grid_template_rows": null,
            "height": null,
            "justify_content": null,
            "justify_items": null,
            "left": null,
            "margin": null,
            "max_height": null,
            "max_width": null,
            "min_height": null,
            "min_width": null,
            "object_fit": null,
            "object_position": null,
            "order": null,
            "overflow": null,
            "overflow_x": null,
            "overflow_y": null,
            "padding": null,
            "right": null,
            "top": null,
            "visibility": null,
            "width": null
          }
        },
        "6342ec1a4995450988db166d90ed8ff3": {
          "model_module": "@jupyter-widgets/controls",
          "model_name": "DescriptionStyleModel",
          "model_module_version": "1.5.0",
          "state": {
            "_model_module": "@jupyter-widgets/controls",
            "_model_module_version": "1.5.0",
            "_model_name": "DescriptionStyleModel",
            "_view_count": null,
            "_view_module": "@jupyter-widgets/base",
            "_view_module_version": "1.2.0",
            "_view_name": "StyleView",
            "description_width": ""
          }
        },
        "099b38c3a70b4ea78c34e813f2ba6d19": {
          "model_module": "@jupyter-widgets/controls",
          "model_name": "HBoxModel",
          "model_module_version": "1.5.0",
          "state": {
            "_dom_classes": [],
            "_model_module": "@jupyter-widgets/controls",
            "_model_module_version": "1.5.0",
            "_model_name": "HBoxModel",
            "_view_count": null,
            "_view_module": "@jupyter-widgets/controls",
            "_view_module_version": "1.5.0",
            "_view_name": "HBoxView",
            "box_style": "",
            "children": [
              "IPY_MODEL_3b69811b39ae4d2aa08d45838924e848",
              "IPY_MODEL_f113c08d592a4e6eb661e30966ef5922",
              "IPY_MODEL_80cde027de8c4cceb39cac68e71a2486"
            ],
            "layout": "IPY_MODEL_6c1f86ee0efe4bf69f00346794129266"
          }
        },
        "3b69811b39ae4d2aa08d45838924e848": {
          "model_module": "@jupyter-widgets/controls",
          "model_name": "HTMLModel",
          "model_module_version": "1.5.0",
          "state": {
            "_dom_classes": [],
            "_model_module": "@jupyter-widgets/controls",
            "_model_module_version": "1.5.0",
            "_model_name": "HTMLModel",
            "_view_count": null,
            "_view_module": "@jupyter-widgets/controls",
            "_view_module_version": "1.5.0",
            "_view_name": "HTMLView",
            "description": "",
            "description_tooltip": null,
            "layout": "IPY_MODEL_f166ed9c995d454aa63c81662c8971df",
            "placeholder": "​",
            "style": "IPY_MODEL_a777ee3b8d344916948bc82a2e764255",
            "value": ""
          }
        },
        "f113c08d592a4e6eb661e30966ef5922": {
          "model_module": "@jupyter-widgets/controls",
          "model_name": "FloatProgressModel",
          "model_module_version": "1.5.0",
          "state": {
            "_dom_classes": [],
            "_model_module": "@jupyter-widgets/controls",
            "_model_module_version": "1.5.0",
            "_model_name": "FloatProgressModel",
            "_view_count": null,
            "_view_module": "@jupyter-widgets/controls",
            "_view_module_version": "1.5.0",
            "_view_name": "ProgressView",
            "bar_style": "success",
            "description": "",
            "description_tooltip": null,
            "layout": "IPY_MODEL_61dc94deb0284612abb59e2f5ec84f58",
            "max": 4422102,
            "min": 0,
            "orientation": "horizontal",
            "style": "IPY_MODEL_e2649bdf64f2438eb9272907f11bb36c",
            "value": 4422102
          }
        },
        "80cde027de8c4cceb39cac68e71a2486": {
          "model_module": "@jupyter-widgets/controls",
          "model_name": "HTMLModel",
          "model_module_version": "1.5.0",
          "state": {
            "_dom_classes": [],
            "_model_module": "@jupyter-widgets/controls",
            "_model_module_version": "1.5.0",
            "_model_name": "HTMLModel",
            "_view_count": null,
            "_view_module": "@jupyter-widgets/controls",
            "_view_module_version": "1.5.0",
            "_view_name": "HTMLView",
            "description": "",
            "description_tooltip": null,
            "layout": "IPY_MODEL_2d4c0a3bbaf14bd4b50d20955d5532cc",
            "placeholder": "​",
            "style": "IPY_MODEL_ddc9469d164c4b3f85062ca5ac1add4f",
            "value": " 4422656/? [00:00&lt;00:00, 8772847.06it/s]"
          }
        },
        "6c1f86ee0efe4bf69f00346794129266": {
          "model_module": "@jupyter-widgets/base",
          "model_name": "LayoutModel",
          "model_module_version": "1.2.0",
          "state": {
            "_model_module": "@jupyter-widgets/base",
            "_model_module_version": "1.2.0",
            "_model_name": "LayoutModel",
            "_view_count": null,
            "_view_module": "@jupyter-widgets/base",
            "_view_module_version": "1.2.0",
            "_view_name": "LayoutView",
            "align_content": null,
            "align_items": null,
            "align_self": null,
            "border": null,
            "bottom": null,
            "display": null,
            "flex": null,
            "flex_flow": null,
            "grid_area": null,
            "grid_auto_columns": null,
            "grid_auto_flow": null,
            "grid_auto_rows": null,
            "grid_column": null,
            "grid_gap": null,
            "grid_row": null,
            "grid_template_areas": null,
            "grid_template_columns": null,
            "grid_template_rows": null,
            "height": null,
            "justify_content": null,
            "justify_items": null,
            "left": null,
            "margin": null,
            "max_height": null,
            "max_width": null,
            "min_height": null,
            "min_width": null,
            "object_fit": null,
            "object_position": null,
            "order": null,
            "overflow": null,
            "overflow_x": null,
            "overflow_y": null,
            "padding": null,
            "right": null,
            "top": null,
            "visibility": null,
            "width": null
          }
        },
        "f166ed9c995d454aa63c81662c8971df": {
          "model_module": "@jupyter-widgets/base",
          "model_name": "LayoutModel",
          "model_module_version": "1.2.0",
          "state": {
            "_model_module": "@jupyter-widgets/base",
            "_model_module_version": "1.2.0",
            "_model_name": "LayoutModel",
            "_view_count": null,
            "_view_module": "@jupyter-widgets/base",
            "_view_module_version": "1.2.0",
            "_view_name": "LayoutView",
            "align_content": null,
            "align_items": null,
            "align_self": null,
            "border": null,
            "bottom": null,
            "display": null,
            "flex": null,
            "flex_flow": null,
            "grid_area": null,
            "grid_auto_columns": null,
            "grid_auto_flow": null,
            "grid_auto_rows": null,
            "grid_column": null,
            "grid_gap": null,
            "grid_row": null,
            "grid_template_areas": null,
            "grid_template_columns": null,
            "grid_template_rows": null,
            "height": null,
            "justify_content": null,
            "justify_items": null,
            "left": null,
            "margin": null,
            "max_height": null,
            "max_width": null,
            "min_height": null,
            "min_width": null,
            "object_fit": null,
            "object_position": null,
            "order": null,
            "overflow": null,
            "overflow_x": null,
            "overflow_y": null,
            "padding": null,
            "right": null,
            "top": null,
            "visibility": null,
            "width": null
          }
        },
        "a777ee3b8d344916948bc82a2e764255": {
          "model_module": "@jupyter-widgets/controls",
          "model_name": "DescriptionStyleModel",
          "model_module_version": "1.5.0",
          "state": {
            "_model_module": "@jupyter-widgets/controls",
            "_model_module_version": "1.5.0",
            "_model_name": "DescriptionStyleModel",
            "_view_count": null,
            "_view_module": "@jupyter-widgets/base",
            "_view_module_version": "1.2.0",
            "_view_name": "StyleView",
            "description_width": ""
          }
        },
        "61dc94deb0284612abb59e2f5ec84f58": {
          "model_module": "@jupyter-widgets/base",
          "model_name": "LayoutModel",
          "model_module_version": "1.2.0",
          "state": {
            "_model_module": "@jupyter-widgets/base",
            "_model_module_version": "1.2.0",
            "_model_name": "LayoutModel",
            "_view_count": null,
            "_view_module": "@jupyter-widgets/base",
            "_view_module_version": "1.2.0",
            "_view_name": "LayoutView",
            "align_content": null,
            "align_items": null,
            "align_self": null,
            "border": null,
            "bottom": null,
            "display": null,
            "flex": null,
            "flex_flow": null,
            "grid_area": null,
            "grid_auto_columns": null,
            "grid_auto_flow": null,
            "grid_auto_rows": null,
            "grid_column": null,
            "grid_gap": null,
            "grid_row": null,
            "grid_template_areas": null,
            "grid_template_columns": null,
            "grid_template_rows": null,
            "height": null,
            "justify_content": null,
            "justify_items": null,
            "left": null,
            "margin": null,
            "max_height": null,
            "max_width": null,
            "min_height": null,
            "min_width": null,
            "object_fit": null,
            "object_position": null,
            "order": null,
            "overflow": null,
            "overflow_x": null,
            "overflow_y": null,
            "padding": null,
            "right": null,
            "top": null,
            "visibility": null,
            "width": null
          }
        },
        "e2649bdf64f2438eb9272907f11bb36c": {
          "model_module": "@jupyter-widgets/controls",
          "model_name": "ProgressStyleModel",
          "model_module_version": "1.5.0",
          "state": {
            "_model_module": "@jupyter-widgets/controls",
            "_model_module_version": "1.5.0",
            "_model_name": "ProgressStyleModel",
            "_view_count": null,
            "_view_module": "@jupyter-widgets/base",
            "_view_module_version": "1.2.0",
            "_view_name": "StyleView",
            "bar_color": null,
            "description_width": ""
          }
        },
        "2d4c0a3bbaf14bd4b50d20955d5532cc": {
          "model_module": "@jupyter-widgets/base",
          "model_name": "LayoutModel",
          "model_module_version": "1.2.0",
          "state": {
            "_model_module": "@jupyter-widgets/base",
            "_model_module_version": "1.2.0",
            "_model_name": "LayoutModel",
            "_view_count": null,
            "_view_module": "@jupyter-widgets/base",
            "_view_module_version": "1.2.0",
            "_view_name": "LayoutView",
            "align_content": null,
            "align_items": null,
            "align_self": null,
            "border": null,
            "bottom": null,
            "display": null,
            "flex": null,
            "flex_flow": null,
            "grid_area": null,
            "grid_auto_columns": null,
            "grid_auto_flow": null,
            "grid_auto_rows": null,
            "grid_column": null,
            "grid_gap": null,
            "grid_row": null,
            "grid_template_areas": null,
            "grid_template_columns": null,
            "grid_template_rows": null,
            "height": null,
            "justify_content": null,
            "justify_items": null,
            "left": null,
            "margin": null,
            "max_height": null,
            "max_width": null,
            "min_height": null,
            "min_width": null,
            "object_fit": null,
            "object_position": null,
            "order": null,
            "overflow": null,
            "overflow_x": null,
            "overflow_y": null,
            "padding": null,
            "right": null,
            "top": null,
            "visibility": null,
            "width": null
          }
        },
        "ddc9469d164c4b3f85062ca5ac1add4f": {
          "model_module": "@jupyter-widgets/controls",
          "model_name": "DescriptionStyleModel",
          "model_module_version": "1.5.0",
          "state": {
            "_model_module": "@jupyter-widgets/controls",
            "_model_module_version": "1.5.0",
            "_model_name": "DescriptionStyleModel",
            "_view_count": null,
            "_view_module": "@jupyter-widgets/base",
            "_view_module_version": "1.2.0",
            "_view_name": "StyleView",
            "description_width": ""
          }
        },
        "1c2915531b9f47b992e6786b11173354": {
          "model_module": "@jupyter-widgets/controls",
          "model_name": "HBoxModel",
          "model_module_version": "1.5.0",
          "state": {
            "_dom_classes": [],
            "_model_module": "@jupyter-widgets/controls",
            "_model_module_version": "1.5.0",
            "_model_name": "HBoxModel",
            "_view_count": null,
            "_view_module": "@jupyter-widgets/controls",
            "_view_module_version": "1.5.0",
            "_view_name": "HBoxView",
            "box_style": "",
            "children": [
              "IPY_MODEL_f78ed3499e49414e8baa2d5349df181a",
              "IPY_MODEL_ff7f81edce294e37a2ce9582a022d0a8",
              "IPY_MODEL_4d159f26f6b64fe79623ceee9745c61f"
            ],
            "layout": "IPY_MODEL_970bdb6943084acbbd8cd7ef6bda6c08"
          }
        },
        "f78ed3499e49414e8baa2d5349df181a": {
          "model_module": "@jupyter-widgets/controls",
          "model_name": "HTMLModel",
          "model_module_version": "1.5.0",
          "state": {
            "_dom_classes": [],
            "_model_module": "@jupyter-widgets/controls",
            "_model_module_version": "1.5.0",
            "_model_name": "HTMLModel",
            "_view_count": null,
            "_view_module": "@jupyter-widgets/controls",
            "_view_module_version": "1.5.0",
            "_view_name": "HTMLView",
            "description": "",
            "description_tooltip": null,
            "layout": "IPY_MODEL_7fad7125d7f043359930bba5376f6005",
            "placeholder": "​",
            "style": "IPY_MODEL_145bdfb11dcc4ed1b4a07e2d20a0c9e6",
            "value": ""
          }
        },
        "ff7f81edce294e37a2ce9582a022d0a8": {
          "model_module": "@jupyter-widgets/controls",
          "model_name": "FloatProgressModel",
          "model_module_version": "1.5.0",
          "state": {
            "_dom_classes": [],
            "_model_module": "@jupyter-widgets/controls",
            "_model_module_version": "1.5.0",
            "_model_name": "FloatProgressModel",
            "_view_count": null,
            "_view_module": "@jupyter-widgets/controls",
            "_view_module_version": "1.5.0",
            "_view_name": "ProgressView",
            "bar_style": "success",
            "description": "",
            "description_tooltip": null,
            "layout": "IPY_MODEL_7676c7cf521b4792a6cac543a1eaef18",
            "max": 5148,
            "min": 0,
            "orientation": "horizontal",
            "style": "IPY_MODEL_8adb572a3b014111a4979decd75c8acc",
            "value": 5148
          }
        },
        "4d159f26f6b64fe79623ceee9745c61f": {
          "model_module": "@jupyter-widgets/controls",
          "model_name": "HTMLModel",
          "model_module_version": "1.5.0",
          "state": {
            "_dom_classes": [],
            "_model_module": "@jupyter-widgets/controls",
            "_model_module_version": "1.5.0",
            "_model_name": "HTMLModel",
            "_view_count": null,
            "_view_module": "@jupyter-widgets/controls",
            "_view_module_version": "1.5.0",
            "_view_name": "HTMLView",
            "description": "",
            "description_tooltip": null,
            "layout": "IPY_MODEL_6776bd50ea0542c9b0eed152680c0552",
            "placeholder": "​",
            "style": "IPY_MODEL_9785415654a6401bbec7f343b7c24aec",
            "value": " 6144/? [00:00&lt;00:00, 189979.75it/s]"
          }
        },
        "970bdb6943084acbbd8cd7ef6bda6c08": {
          "model_module": "@jupyter-widgets/base",
          "model_name": "LayoutModel",
          "model_module_version": "1.2.0",
          "state": {
            "_model_module": "@jupyter-widgets/base",
            "_model_module_version": "1.2.0",
            "_model_name": "LayoutModel",
            "_view_count": null,
            "_view_module": "@jupyter-widgets/base",
            "_view_module_version": "1.2.0",
            "_view_name": "LayoutView",
            "align_content": null,
            "align_items": null,
            "align_self": null,
            "border": null,
            "bottom": null,
            "display": null,
            "flex": null,
            "flex_flow": null,
            "grid_area": null,
            "grid_auto_columns": null,
            "grid_auto_flow": null,
            "grid_auto_rows": null,
            "grid_column": null,
            "grid_gap": null,
            "grid_row": null,
            "grid_template_areas": null,
            "grid_template_columns": null,
            "grid_template_rows": null,
            "height": null,
            "justify_content": null,
            "justify_items": null,
            "left": null,
            "margin": null,
            "max_height": null,
            "max_width": null,
            "min_height": null,
            "min_width": null,
            "object_fit": null,
            "object_position": null,
            "order": null,
            "overflow": null,
            "overflow_x": null,
            "overflow_y": null,
            "padding": null,
            "right": null,
            "top": null,
            "visibility": null,
            "width": null
          }
        },
        "7fad7125d7f043359930bba5376f6005": {
          "model_module": "@jupyter-widgets/base",
          "model_name": "LayoutModel",
          "model_module_version": "1.2.0",
          "state": {
            "_model_module": "@jupyter-widgets/base",
            "_model_module_version": "1.2.0",
            "_model_name": "LayoutModel",
            "_view_count": null,
            "_view_module": "@jupyter-widgets/base",
            "_view_module_version": "1.2.0",
            "_view_name": "LayoutView",
            "align_content": null,
            "align_items": null,
            "align_self": null,
            "border": null,
            "bottom": null,
            "display": null,
            "flex": null,
            "flex_flow": null,
            "grid_area": null,
            "grid_auto_columns": null,
            "grid_auto_flow": null,
            "grid_auto_rows": null,
            "grid_column": null,
            "grid_gap": null,
            "grid_row": null,
            "grid_template_areas": null,
            "grid_template_columns": null,
            "grid_template_rows": null,
            "height": null,
            "justify_content": null,
            "justify_items": null,
            "left": null,
            "margin": null,
            "max_height": null,
            "max_width": null,
            "min_height": null,
            "min_width": null,
            "object_fit": null,
            "object_position": null,
            "order": null,
            "overflow": null,
            "overflow_x": null,
            "overflow_y": null,
            "padding": null,
            "right": null,
            "top": null,
            "visibility": null,
            "width": null
          }
        },
        "145bdfb11dcc4ed1b4a07e2d20a0c9e6": {
          "model_module": "@jupyter-widgets/controls",
          "model_name": "DescriptionStyleModel",
          "model_module_version": "1.5.0",
          "state": {
            "_model_module": "@jupyter-widgets/controls",
            "_model_module_version": "1.5.0",
            "_model_name": "DescriptionStyleModel",
            "_view_count": null,
            "_view_module": "@jupyter-widgets/base",
            "_view_module_version": "1.2.0",
            "_view_name": "StyleView",
            "description_width": ""
          }
        },
        "7676c7cf521b4792a6cac543a1eaef18": {
          "model_module": "@jupyter-widgets/base",
          "model_name": "LayoutModel",
          "model_module_version": "1.2.0",
          "state": {
            "_model_module": "@jupyter-widgets/base",
            "_model_module_version": "1.2.0",
            "_model_name": "LayoutModel",
            "_view_count": null,
            "_view_module": "@jupyter-widgets/base",
            "_view_module_version": "1.2.0",
            "_view_name": "LayoutView",
            "align_content": null,
            "align_items": null,
            "align_self": null,
            "border": null,
            "bottom": null,
            "display": null,
            "flex": null,
            "flex_flow": null,
            "grid_area": null,
            "grid_auto_columns": null,
            "grid_auto_flow": null,
            "grid_auto_rows": null,
            "grid_column": null,
            "grid_gap": null,
            "grid_row": null,
            "grid_template_areas": null,
            "grid_template_columns": null,
            "grid_template_rows": null,
            "height": null,
            "justify_content": null,
            "justify_items": null,
            "left": null,
            "margin": null,
            "max_height": null,
            "max_width": null,
            "min_height": null,
            "min_width": null,
            "object_fit": null,
            "object_position": null,
            "order": null,
            "overflow": null,
            "overflow_x": null,
            "overflow_y": null,
            "padding": null,
            "right": null,
            "top": null,
            "visibility": null,
            "width": null
          }
        },
        "8adb572a3b014111a4979decd75c8acc": {
          "model_module": "@jupyter-widgets/controls",
          "model_name": "ProgressStyleModel",
          "model_module_version": "1.5.0",
          "state": {
            "_model_module": "@jupyter-widgets/controls",
            "_model_module_version": "1.5.0",
            "_model_name": "ProgressStyleModel",
            "_view_count": null,
            "_view_module": "@jupyter-widgets/base",
            "_view_module_version": "1.2.0",
            "_view_name": "StyleView",
            "bar_color": null,
            "description_width": ""
          }
        },
        "6776bd50ea0542c9b0eed152680c0552": {
          "model_module": "@jupyter-widgets/base",
          "model_name": "LayoutModel",
          "model_module_version": "1.2.0",
          "state": {
            "_model_module": "@jupyter-widgets/base",
            "_model_module_version": "1.2.0",
            "_model_name": "LayoutModel",
            "_view_count": null,
            "_view_module": "@jupyter-widgets/base",
            "_view_module_version": "1.2.0",
            "_view_name": "LayoutView",
            "align_content": null,
            "align_items": null,
            "align_self": null,
            "border": null,
            "bottom": null,
            "display": null,
            "flex": null,
            "flex_flow": null,
            "grid_area": null,
            "grid_auto_columns": null,
            "grid_auto_flow": null,
            "grid_auto_rows": null,
            "grid_column": null,
            "grid_gap": null,
            "grid_row": null,
            "grid_template_areas": null,
            "grid_template_columns": null,
            "grid_template_rows": null,
            "height": null,
            "justify_content": null,
            "justify_items": null,
            "left": null,
            "margin": null,
            "max_height": null,
            "max_width": null,
            "min_height": null,
            "min_width": null,
            "object_fit": null,
            "object_position": null,
            "order": null,
            "overflow": null,
            "overflow_x": null,
            "overflow_y": null,
            "padding": null,
            "right": null,
            "top": null,
            "visibility": null,
            "width": null
          }
        },
        "9785415654a6401bbec7f343b7c24aec": {
          "model_module": "@jupyter-widgets/controls",
          "model_name": "DescriptionStyleModel",
          "model_module_version": "1.5.0",
          "state": {
            "_model_module": "@jupyter-widgets/controls",
            "_model_module_version": "1.5.0",
            "_model_name": "DescriptionStyleModel",
            "_view_count": null,
            "_view_module": "@jupyter-widgets/base",
            "_view_module_version": "1.2.0",
            "_view_name": "StyleView",
            "description_width": ""
          }
        }
      }
    }
  },
  "cells": [
    {
      "cell_type": "markdown",
      "metadata": {
        "id": "view-in-github",
        "colab_type": "text"
      },
      "source": [
        "<a href=\"https://colab.research.google.com/github/MohebZandi/Comupter_Vision/blob/main/FMNIST_00.ipynb\" target=\"_parent\"><img src=\"https://colab.research.google.com/assets/colab-badge.svg\" alt=\"Open In Colab\"/></a>"
      ]
    },
    {
      "cell_type": "markdown",
      "source": [
        "# Classifying Fashion MNIST\n"
      ],
      "metadata": {
        "id": "dwlMOzaeXzoW"
      }
    },
    {
      "cell_type": "code",
      "execution_count": 1,
      "metadata": {
        "id": "Ux0KHD43wdo2"
      },
      "outputs": [],
      "source": [
        "import numpy as np\n",
        "import gzip\n",
        "import matplotlib.pyplot as plt\n",
        "from IPython import display\n",
        "display.set_matplotlib_formats('svg')\n",
        "\n",
        "import torch\n",
        "import torchvision\n",
        "import torch.nn as nn\n",
        "import torch.nn.functional as F\n",
        "import torchvision.transforms as T\n",
        "from torch.utils.data import DataLoader, TensorDataset\n",
        "\n",
        "from sklearn.model_selection import train_test_split\n"
      ]
    },
    {
      "cell_type": "code",
      "source": [
        "device = torch.device('cuda:0' if torch.cuda.is_available() else 'cpu')"
      ],
      "metadata": {
        "id": "EseTqPxRx96b"
      },
      "execution_count": 2,
      "outputs": []
    },
    {
      "cell_type": "markdown",
      "source": [
        "## Importing data \n",
        "\n",
        "### 1 - from Google Drive\n",
        "\n",
        "### 2 - from torchvision"
      ],
      "metadata": {
        "id": "5WKbBD3_X6Dd"
      }
    },
    {
      "cell_type": "code",
      "source": [
        "from google.colab import drive\n",
        "drive.mount('/content/gdrive')"
      ],
      "metadata": {
        "colab": {
          "base_uri": "https://localhost:8080/"
        },
        "id": "gnhJSVKs0-cb",
        "outputId": "0278bc70-239b-410b-a199-1d126b4b52f1"
      },
      "execution_count": 3,
      "outputs": [
        {
          "output_type": "stream",
          "name": "stdout",
          "text": [
            "Mounted at /content/gdrive\n"
          ]
        }
      ]
    },
    {
      "cell_type": "code",
      "source": [
        "data_url_train = '/content/gdrive/MyDrive/FMNIST/train-images.gz'\n",
        "data_url_labels = '/content/gdrive/MyDrive/FMNIST/train-labels.gz'"
      ],
      "metadata": {
        "id": "G49fgQY42FZ1"
      },
      "execution_count": 4,
      "outputs": []
    },
    {
      "cell_type": "code",
      "source": [
        "# importing data and labels\n",
        "\n",
        "def training_images():\n",
        "    with gzip.open(data_url_train, 'r') as f:\n",
        "        # first 4 bytes is a magic number\n",
        "        magic_number = int.from_bytes(f.read(4), 'big')\n",
        "        # second 4 bytes is the number of images\n",
        "        image_count = int.from_bytes(f.read(4), 'big')\n",
        "        # third 4 bytes is the row count\n",
        "        row_count = int.from_bytes(f.read(4), 'big')\n",
        "        # fourth 4 bytes is the column count\n",
        "        column_count = int.from_bytes(f.read(4), 'big')\n",
        "        # rest is the image pixel data, each pixel is stored as an unsigned byte\n",
        "        # pixel values are 0 to 255\n",
        "        image_data = f.read()\n",
        "        images = np.frombuffer(image_data, dtype=np.uint8)\\\n",
        "            .reshape((image_count, row_count, column_count))\n",
        "        return images\n",
        "\n",
        "\n",
        "def training_labels():\n",
        "    with gzip.open(data_url_labels, 'r') as f:\n",
        "        # first 4 bytes is a magic number\n",
        "        magic_number = int.from_bytes(f.read(4), 'big')\n",
        "        # second 4 bytes is the number of labels\n",
        "        label_count = int.from_bytes(f.read(4), 'big')\n",
        "        # rest is the label data, each label is stored as unsigned byte\n",
        "        # label values are 0 to 9\n",
        "        label_data = f.read()\n",
        "        labels = np.frombuffer(label_data, dtype=np.uint8)\n",
        "        return labels"
      ],
      "metadata": {
        "id": "bftcA0RO-Bn5"
      },
      "execution_count": 5,
      "outputs": []
    },
    {
      "cell_type": "code",
      "source": [
        "# Shape of the data\n",
        "print(training_images().shape)\n",
        "\n",
        "# Shape of labels\n",
        "print(len(training_labels()))"
      ],
      "metadata": {
        "colab": {
          "base_uri": "https://localhost:8080/"
        },
        "id": "yvp9QNWKA1Er",
        "outputId": "b357efc0-e2f7-46c0-88b9-fbf1cba1df41"
      },
      "execution_count": 6,
      "outputs": [
        {
          "output_type": "stream",
          "name": "stdout",
          "text": [
            "(60000, 28, 28)\n",
            "60000\n"
          ]
        }
      ]
    },
    {
      "cell_type": "code",
      "source": [
        "images = training_images()\n",
        "labels = training_labels()\n",
        "classes = {0: 'T-shirt/top', 1: 'Trouser', 2: 'Pullover', 3: 'Dress', 4: 'Coat', 5: 'Sandal', 6: 'Shirt', 7: 'Sneaker', 8: 'Bag', 9: 'Ankle boot'}\n",
        "print(classes.items())"
      ],
      "metadata": {
        "id": "Gq8TUYXWA8rZ",
        "colab": {
          "base_uri": "https://localhost:8080/"
        },
        "outputId": "582664b8-04f6-46cb-cee4-14c9e56794f3"
      },
      "execution_count": 7,
      "outputs": [
        {
          "output_type": "stream",
          "name": "stdout",
          "text": [
            "dict_items([(0, 'T-shirt/top'), (1, 'Trouser'), (2, 'Pullover'), (3, 'Dress'), (4, 'Coat'), (5, 'Sandal'), (6, 'Shirt'), (7, 'Sneaker'), (8, 'Bag'), (9, 'Ankle boot')])\n"
          ]
        }
      ]
    },
    {
      "cell_type": "code",
      "source": [
        "fig, axs = plt.subplots(3,4, figsize= (8,8))\n",
        "\n",
        "\n",
        "for ax in axs.flatten():\n",
        "    i = np.random.randint(1, 2000, 1 ).item()\n",
        "    ax.imshow(images[i], cmap= 'gray')\n",
        "    ax.text(10, -2, classes[labels[i]])\n",
        "    ax.axis('off')\n",
        "\n",
        "# plt.imshow(images[1], cmap= 'gray')\n",
        "plt.show()"
      ],
      "metadata": {
        "id": "q0yKcAnCBGGl",
        "colab": {
          "base_uri": "https://localhost:8080/",
          "height": 596
        },
        "outputId": "45408108-be13-47b5-a1e6-f9de55049559"
      },
      "execution_count": 8,
      "outputs": [
        {
          "output_type": "display_data",
          "data": {
            "text/plain": [
              "<Figure size 576x576 with 12 Axes>"
            ],
            "image/svg+xml": "<?xml version=\"1.0\" encoding=\"utf-8\" standalone=\"no\"?>\n<!DOCTYPE svg PUBLIC \"-//W3C//DTD SVG 1.1//EN\"\n  \"http://www.w3.org/Graphics/SVG/1.1/DTD/svg11.dtd\">\n<!-- Created with matplotlib (https://matplotlib.org/) -->\n<svg height=\"431.214791pt\" version=\"1.1\" viewBox=\"0 0 460.8 431.214791\" width=\"460.8pt\" xmlns=\"http://www.w3.org/2000/svg\" xmlns:xlink=\"http://www.w3.org/1999/xlink\">\n <defs>\n  <style type=\"text/css\">\n*{stroke-linecap:butt;stroke-linejoin:round;}\n  </style>\n </defs>\n <g id=\"figure_1\">\n  <g id=\"patch_1\">\n   <path d=\"M 0 431.214791 \nL 460.8 431.214791 \nL 460.8 0 \nL 0 0 \nz\n\" style=\"fill:none;\"/>\n  </g>\n  <g id=\"axes_1\">\n   <g clip-path=\"url(#pe58c4457be)\">\n    <image height=\"98\" id=\"imagebde2e6908b\" transform=\"scale(1 -1)translate(0 -98)\" width=\"98\" x=\"7.2\" xlink:href=\"data:image/png;base64,\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\" y=\"-19.040674\"/>\n   </g>\n   <g id=\"text_1\">\n    <!-- Ankle boot -->\n    <defs>\n     <path d=\"M 34.1875 63.1875 \nL 20.796875 26.90625 \nL 47.609375 26.90625 \nz\nM 28.609375 72.90625 \nL 39.796875 72.90625 \nL 67.578125 0 \nL 57.328125 0 \nL 50.6875 18.703125 \nL 17.828125 18.703125 \nL 11.1875 0 \nL 0.78125 0 \nz\n\" id=\"DejaVuSans-65\"/>\n     <path d=\"M 54.890625 33.015625 \nL 54.890625 0 \nL 45.90625 0 \nL 45.90625 32.71875 \nQ 45.90625 40.484375 42.875 44.328125 \nQ 39.84375 48.1875 33.796875 48.1875 \nQ 26.515625 48.1875 22.3125 43.546875 \nQ 18.109375 38.921875 18.109375 30.90625 \nL 18.109375 0 \nL 9.078125 0 \nL 9.078125 54.6875 \nL 18.109375 54.6875 \nL 18.109375 46.1875 \nQ 21.34375 51.125 25.703125 53.5625 \nQ 30.078125 56 35.796875 56 \nQ 45.21875 56 50.046875 50.171875 \nQ 54.890625 44.34375 54.890625 33.015625 \nz\n\" id=\"DejaVuSans-110\"/>\n     <path d=\"M 9.078125 75.984375 \nL 18.109375 75.984375 \nL 18.109375 31.109375 \nL 44.921875 54.6875 \nL 56.390625 54.6875 \nL 27.390625 29.109375 \nL 57.625 0 \nL 45.90625 0 \nL 18.109375 26.703125 \nL 18.109375 0 \nL 9.078125 0 \nz\n\" id=\"DejaVuSans-107\"/>\n     <path d=\"M 9.421875 75.984375 \nL 18.40625 75.984375 \nL 18.40625 0 \nL 9.421875 0 \nz\n\" id=\"DejaVuSans-108\"/>\n     <path d=\"M 56.203125 29.59375 \nL 56.203125 25.203125 \nL 14.890625 25.203125 \nQ 15.484375 15.921875 20.484375 11.0625 \nQ 25.484375 6.203125 34.421875 6.203125 \nQ 39.59375 6.203125 44.453125 7.46875 \nQ 49.3125 8.734375 54.109375 11.28125 \nL 54.109375 2.78125 \nQ 49.265625 0.734375 44.1875 -0.34375 \nQ 39.109375 -1.421875 33.890625 -1.421875 \nQ 20.796875 -1.421875 13.15625 6.1875 \nQ 5.515625 13.8125 5.515625 26.8125 \nQ 5.515625 40.234375 12.765625 48.109375 \nQ 20.015625 56 32.328125 56 \nQ 43.359375 56 49.78125 48.890625 \nQ 56.203125 41.796875 56.203125 29.59375 \nz\nM 47.21875 32.234375 \nQ 47.125 39.59375 43.09375 43.984375 \nQ 39.0625 48.390625 32.421875 48.390625 \nQ 24.90625 48.390625 20.390625 44.140625 \nQ 15.875 39.890625 15.1875 32.171875 \nz\n\" id=\"DejaVuSans-101\"/>\n     <path id=\"DejaVuSans-32\"/>\n     <path d=\"M 48.6875 27.296875 \nQ 48.6875 37.203125 44.609375 42.84375 \nQ 40.53125 48.484375 33.40625 48.484375 \nQ 26.265625 48.484375 22.1875 42.84375 \nQ 18.109375 37.203125 18.109375 27.296875 \nQ 18.109375 17.390625 22.1875 11.75 \nQ 26.265625 6.109375 33.40625 6.109375 \nQ 40.53125 6.109375 44.609375 11.75 \nQ 48.6875 17.390625 48.6875 27.296875 \nz\nM 18.109375 46.390625 \nQ 20.953125 51.265625 25.265625 53.625 \nQ 29.59375 56 35.59375 56 \nQ 45.5625 56 51.78125 48.09375 \nQ 58.015625 40.1875 58.015625 27.296875 \nQ 58.015625 14.40625 51.78125 6.484375 \nQ 45.5625 -1.421875 35.59375 -1.421875 \nQ 29.59375 -1.421875 25.265625 0.953125 \nQ 20.953125 3.328125 18.109375 8.203125 \nL 18.109375 0 \nL 9.078125 0 \nL 9.078125 75.984375 \nL 18.109375 75.984375 \nz\n\" id=\"DejaVuSans-98\"/>\n     <path d=\"M 30.609375 48.390625 \nQ 23.390625 48.390625 19.1875 42.75 \nQ 14.984375 37.109375 14.984375 27.296875 \nQ 14.984375 17.484375 19.15625 11.84375 \nQ 23.34375 6.203125 30.609375 6.203125 \nQ 37.796875 6.203125 41.984375 11.859375 \nQ 46.1875 17.53125 46.1875 27.296875 \nQ 46.1875 37.015625 41.984375 42.703125 \nQ 37.796875 48.390625 30.609375 48.390625 \nz\nM 30.609375 56 \nQ 42.328125 56 49.015625 48.375 \nQ 55.71875 40.765625 55.71875 27.296875 \nQ 55.71875 13.875 49.015625 6.21875 \nQ 42.328125 -1.421875 30.609375 -1.421875 \nQ 18.84375 -1.421875 12.171875 6.21875 \nQ 5.515625 13.875 5.515625 27.296875 \nQ 5.515625 40.765625 12.171875 48.375 \nQ 18.84375 56 30.609375 56 \nz\n\" id=\"DejaVuSans-111\"/>\n     <path d=\"M 18.3125 70.21875 \nL 18.3125 54.6875 \nL 36.8125 54.6875 \nL 36.8125 47.703125 \nL 18.3125 47.703125 \nL 18.3125 18.015625 \nQ 18.3125 11.328125 20.140625 9.421875 \nQ 21.96875 7.515625 27.59375 7.515625 \nL 36.8125 7.515625 \nL 36.8125 0 \nL 27.59375 0 \nQ 17.1875 0 13.234375 3.875 \nQ 9.28125 7.765625 9.28125 18.015625 \nL 9.28125 47.703125 \nL 2.6875 47.703125 \nL 2.6875 54.6875 \nL 9.28125 54.6875 \nL 9.28125 70.21875 \nz\n\" id=\"DejaVuSans-116\"/>\n    </defs>\n    <g transform=\"translate(43.591304 14.798437)scale(0.1 -0.1)\">\n     <use xlink:href=\"#DejaVuSans-65\"/>\n     <use x=\"68.408203\" xlink:href=\"#DejaVuSans-110\"/>\n     <use x=\"131.787109\" xlink:href=\"#DejaVuSans-107\"/>\n     <use x=\"189.697266\" xlink:href=\"#DejaVuSans-108\"/>\n     <use x=\"217.480469\" xlink:href=\"#DejaVuSans-101\"/>\n     <use x=\"279.003906\" xlink:href=\"#DejaVuSans-32\"/>\n     <use x=\"310.791016\" xlink:href=\"#DejaVuSans-98\"/>\n     <use x=\"374.267578\" xlink:href=\"#DejaVuSans-111\"/>\n     <use x=\"435.449219\" xlink:href=\"#DejaVuSans-111\"/>\n     <use x=\"496.630859\" xlink:href=\"#DejaVuSans-116\"/>\n    </g>\n   </g>\n  </g>\n  <g id=\"axes_2\">\n   <g clip-path=\"url(#pbe773a73c2)\">\n    <image height=\"98\" id=\"imagea63fc2c51a\" transform=\"scale(1 -1)translate(0 -98)\" width=\"98\" x=\"123.652174\" xlink:href=\"data:image/png;base64,\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\" y=\"-19.040674\"/>\n   </g>\n   <g id=\"text_2\">\n    <!-- Shirt -->\n    <defs>\n     <path d=\"M 53.515625 70.515625 \nL 53.515625 60.890625 \nQ 47.90625 63.578125 42.921875 64.890625 \nQ 37.9375 66.21875 33.296875 66.21875 \nQ 25.25 66.21875 20.875 63.09375 \nQ 16.5 59.96875 16.5 54.203125 \nQ 16.5 49.359375 19.40625 46.890625 \nQ 22.3125 44.4375 30.421875 42.921875 \nL 36.375 41.703125 \nQ 47.40625 39.59375 52.65625 34.296875 \nQ 57.90625 29 57.90625 20.125 \nQ 57.90625 9.515625 50.796875 4.046875 \nQ 43.703125 -1.421875 29.984375 -1.421875 \nQ 24.8125 -1.421875 18.96875 -0.25 \nQ 13.140625 0.921875 6.890625 3.21875 \nL 6.890625 13.375 \nQ 12.890625 10.015625 18.65625 8.296875 \nQ 24.421875 6.59375 29.984375 6.59375 \nQ 38.421875 6.59375 43.015625 9.90625 \nQ 47.609375 13.234375 47.609375 19.390625 \nQ 47.609375 24.75 44.3125 27.78125 \nQ 41.015625 30.8125 33.5 32.328125 \nL 27.484375 33.5 \nQ 16.453125 35.6875 11.515625 40.375 \nQ 6.59375 45.0625 6.59375 53.421875 \nQ 6.59375 63.09375 13.40625 68.65625 \nQ 20.21875 74.21875 32.171875 74.21875 \nQ 37.3125 74.21875 42.625 73.28125 \nQ 47.953125 72.359375 53.515625 70.515625 \nz\n\" id=\"DejaVuSans-83\"/>\n     <path d=\"M 54.890625 33.015625 \nL 54.890625 0 \nL 45.90625 0 \nL 45.90625 32.71875 \nQ 45.90625 40.484375 42.875 44.328125 \nQ 39.84375 48.1875 33.796875 48.1875 \nQ 26.515625 48.1875 22.3125 43.546875 \nQ 18.109375 38.921875 18.109375 30.90625 \nL 18.109375 0 \nL 9.078125 0 \nL 9.078125 75.984375 \nL 18.109375 75.984375 \nL 18.109375 46.1875 \nQ 21.34375 51.125 25.703125 53.5625 \nQ 30.078125 56 35.796875 56 \nQ 45.21875 56 50.046875 50.171875 \nQ 54.890625 44.34375 54.890625 33.015625 \nz\n\" id=\"DejaVuSans-104\"/>\n     <path d=\"M 9.421875 54.6875 \nL 18.40625 54.6875 \nL 18.40625 0 \nL 9.421875 0 \nz\nM 9.421875 75.984375 \nL 18.40625 75.984375 \nL 18.40625 64.59375 \nL 9.421875 64.59375 \nz\n\" id=\"DejaVuSans-105\"/>\n     <path d=\"M 41.109375 46.296875 \nQ 39.59375 47.171875 37.8125 47.578125 \nQ 36.03125 48 33.890625 48 \nQ 26.265625 48 22.1875 43.046875 \nQ 18.109375 38.09375 18.109375 28.8125 \nL 18.109375 0 \nL 9.078125 0 \nL 9.078125 54.6875 \nL 18.109375 54.6875 \nL 18.109375 46.1875 \nQ 20.953125 51.171875 25.484375 53.578125 \nQ 30.03125 56 36.53125 56 \nQ 37.453125 56 38.578125 55.875 \nQ 39.703125 55.765625 41.0625 55.515625 \nz\n\" id=\"DejaVuSans-114\"/>\n    </defs>\n    <g transform=\"translate(160.043478 14.798437)scale(0.1 -0.1)\">\n     <use xlink:href=\"#DejaVuSans-83\"/>\n     <use x=\"63.476562\" xlink:href=\"#DejaVuSans-104\"/>\n     <use x=\"126.855469\" xlink:href=\"#DejaVuSans-105\"/>\n     <use x=\"154.638672\" xlink:href=\"#DejaVuSans-114\"/>\n     <use x=\"195.751953\" xlink:href=\"#DejaVuSans-116\"/>\n    </g>\n   </g>\n  </g>\n  <g id=\"axes_3\">\n   <g clip-path=\"url(#pe99216fc27)\">\n    <image height=\"98\" id=\"image9a597c050d\" transform=\"scale(1 -1)translate(0 -98)\" width=\"98\" x=\"240.104348\" xlink:href=\"data:image/png;base64,\niVBORw0KGgoAAAANSUhEUgAAAGIAAABiCAYAAACrpQYOAAAABHNCSVQICAgIfAhkiAAABOdJREFUeJztm88rd1sUxrdLfkeICKUoRciAvgOiFPFXGFEGhgYYKJkYGChzc2WuDCRFkYGBEEUUUUT5Gd07uLXvs1b3fNPb2/XUfT6jdXrec77n7WmvtfbaR0YI4c8gfpw/fvoFxN/ICBJkBAkyggQZQYKMIEFGkCAjSJARJMgIEmQECTKCBBlBgowgQUaQICNIkBEkyAgSZAQJMoIEGUGCjCBBRpAgI0jI+q9/MDMzM8ZVVVVGe39/T7zv6ekpxo2NjUZ7fn7+1ziEEGpqamL88fFhtMfHxxiPj48nvsv19bXRHh4eYvz5+Wm0o6OjGJ+cnBjt5eUlJKEVQYKMICEj/IZvXysrK831wMBAjP1yrK+vj7FPTfn5+THGVBRCCFlZ/2RRnw6KiopijGkjBJuqSktLv63d39/HOCcnJyTh78PU61Pt29tbjDc3N42mFUGCjCBBRpDw7RqRSqUStYKCAnONeRJzbQg2h19dXRktXS4uKSlJ/HdYI8rLy4329fUVY1+v8Dn4jBBsPi8rKzMatr13d3dGw1qG9TAEW0+wHoagFUGDjCDBpCa/PHFX6pcSpiN/H7alfhfc0NCQ+EzcwdbW1hoN29nb21ujbW1txXhjYyPxXXwKxd/zKRTTlm+zUauoqDAaplDfvmJqxPQWglYEDTKCBBlBQtoa0dHREeOmpiaj1dXVxRhbxBDs6MA/E/EajkZ2d3cT72tubjbXWGv8u6ytrcV4e3vbaJjr/UgF380/E0cs5+fnRsO6gC1wCLa19TVQK4IEGUFCRlNTU0xNXV1dRsRd6tnZWeJD/G4Wl6Bfnrm5uTH2By6YCj3YQvr7srOzY9zZ2Wk0TCstLS1GKywsjLFvXzH9+DYU09HNzY3RsOX3kwN87/X1daNpRZAgI0iQESRkYV72k8T9/f0YFxcXGy3dqRjiD/OxZnR3dxsNc+rBwYHRhoaGYtzX12c0bD13dnaM1t7envieh4eHMca6FoKtEb61xVyPbXwItiX2tQzrhz/Z04ogQUaQkJFKpWL76g/lMR15DfFTVGwZ/a4UD418S4za8vKy0TA9zMzMGA1b297eXqNhavJtKD7Tv0teXl6M29rajIZTVJ+28DAo3e8tLCwYTSuCBBlBgowg4dsfD2D+DsHmfj9FxRYOT6w8Pp/j6Z0/hcPTNd/atra2xnh6etpoeGK3srJiNHxv375WV1fH2H88gK2nrwPYrvsTQdwqzM7OGk0rggQZQcJv+fb1VxkcHDTXeBDvd6XDw8Mx9tPexcXFGPtDIzyk95NSTEf9/f1GS/fxAE4HXl9fE+/zLT+mrcnJSaNpRZAgI0iQEST8aI1IB04qQ7BTzp6eHqPh1NhPQ3F0cXx8bDQcR6T7cMK3odi++hHH6elpjH0twxo1MTFhNK0IEmQECT+amtLt1tMxMjJirrHVvby8NBpOSv1hDLaao6OjRsMJr//rUGRqaspcYxrzh2Jzc3OJz9GKIEFGkCAjSKBtX3+1fvjTQl8XkLGxsRivrq4abW9v71u/55mfn4/x0tKS0S4uLmLs/39aESTICBJoU9P/Da0IEmQECTKCBBlBgowgQUaQICNIkBEkyAgSZAQJMoIEGUGCjCBBRpAgI0iQESTICBJkBAkyggQZQYKMIEFGkCAjSJARJMgIEmQECTKChL8AalqkyIkkA1YAAAAASUVORK5CYII=\" y=\"-19.040674\"/>\n   </g>\n   <g id=\"text_3\">\n    <!-- Sneaker -->\n    <defs>\n     <path d=\"M 34.28125 27.484375 \nQ 23.390625 27.484375 19.1875 25 \nQ 14.984375 22.515625 14.984375 16.5 \nQ 14.984375 11.71875 18.140625 8.90625 \nQ 21.296875 6.109375 26.703125 6.109375 \nQ 34.1875 6.109375 38.703125 11.40625 \nQ 43.21875 16.703125 43.21875 25.484375 \nL 43.21875 27.484375 \nz\nM 52.203125 31.203125 \nL 52.203125 0 \nL 43.21875 0 \nL 43.21875 8.296875 \nQ 40.140625 3.328125 35.546875 0.953125 \nQ 30.953125 -1.421875 24.3125 -1.421875 \nQ 15.921875 -1.421875 10.953125 3.296875 \nQ 6 8.015625 6 15.921875 \nQ 6 25.140625 12.171875 29.828125 \nQ 18.359375 34.515625 30.609375 34.515625 \nL 43.21875 34.515625 \nL 43.21875 35.40625 \nQ 43.21875 41.609375 39.140625 45 \nQ 35.0625 48.390625 27.6875 48.390625 \nQ 23 48.390625 18.546875 47.265625 \nQ 14.109375 46.140625 10.015625 43.890625 \nL 10.015625 52.203125 \nQ 14.9375 54.109375 19.578125 55.046875 \nQ 24.21875 56 28.609375 56 \nQ 40.484375 56 46.34375 49.84375 \nQ 52.203125 43.703125 52.203125 31.203125 \nz\n\" id=\"DejaVuSans-97\"/>\n    </defs>\n    <g transform=\"translate(276.495652 14.798437)scale(0.1 -0.1)\">\n     <use xlink:href=\"#DejaVuSans-83\"/>\n     <use x=\"63.476562\" xlink:href=\"#DejaVuSans-110\"/>\n     <use x=\"126.855469\" xlink:href=\"#DejaVuSans-101\"/>\n     <use x=\"188.378906\" xlink:href=\"#DejaVuSans-97\"/>\n     <use x=\"249.658203\" xlink:href=\"#DejaVuSans-107\"/>\n     <use x=\"303.943359\" xlink:href=\"#DejaVuSans-101\"/>\n     <use x=\"365.466797\" xlink:href=\"#DejaVuSans-114\"/>\n    </g>\n   </g>\n  </g>\n  <g id=\"axes_4\">\n   <g clip-path=\"url(#p85407ad2f9)\">\n    <image height=\"98\" id=\"imagef587233a65\" transform=\"scale(1 -1)translate(0 -98)\" width=\"98\" x=\"356.556522\" xlink:href=\"data:image/png;base64,\niVBORw0KGgoAAAANSUhEUgAAAGIAAABiCAYAAACrpQYOAAAABHNCSVQICAgIfAhkiAAABEFJREFUeJztm8srrVEYxtfHdr8klyKKFCW3mcvE0FCZ+APkD1BSIkOMJSSGkpG5gTJQilBmbhMScktyv53BOb3edx1723TkcXp+o2f1bPv79POtb+21P4Fz7sWRbyfmu0+A/IYiQKAIECgCBIoAgSJAoAgQKAIEigCBIkCgCBAoAgSKAIEiQKAIECgCBIoAgSJAoAgQKAIEigCBIkCgCBAoAgSKAIEiQKAIECgCBIoAgSJAoAgQQvn5+TKoqqqK+gdfXl7/rSIpKcl0BwcHrwcIhUyXkpIi+f7+3nTn5+eSb29vTadfe3p6arqbm5uw7/lZ6urqJPf29pru7OxM8tPTk+keHx8l393dhT3PiYkJ0/GKAIEiQAjpaSU9Pd2U+/v7kisqKkzX2toqeWtry3Srq6uSe3p6TKentJWVFdPl5OS8+R7OOXd4eCg5NzfXdPp3SEtLM11CQoLkjY0N08XEvP4dJiYmmq6xsVFyRkaG6TY3NyX7U+HV1ZXk5+dn0+Xl5Um+uLiw5+IIBBQBAkWAELgo/703CAIz1nO/3+n7gH/fWV9fl+zPy+Pj45ILCgpMp+9XHyErK0tyfHy86aampiTr+ds552ZmZiR3d3d/6tgfgVcECBQBQkgv4XR2zn5q1NONc87t7OxIrqysNF12drbkxcVF001OTkru6+sz3dzcnOSysjLTRTs16eWqc3Z52d7ebrri4mLJ29vbphsYGAh7jNTUVMn19fWmm5+fl/zw8PD+Cf+BVwQIFAECRYAQBEEgk79/H9DLUr/TdHR0mHFDQ4PkhYUF0+k53N/t1cvJwsJC0w0ODoY9vqatrc2M9VbC2NiY6fQ9cW1tzXT6HlhaWmo6vTXjb7dcXl5K3t3dNZ3eNR4dHbXn4ggEFAFC1J+sP4JeFtbU1IR93fT0tBk3NzdLbmpqMl1nZ6fkk5MT07W0tEjWu6bOORcbGyu5vLzcdEdHR5JnZ2dNV11d/eZ7OGenu8zMTNNdX1+7cOhlrz/V8ooAgSJAoAgQIi5fvReasV6G+l/0/wuGh4fNWB/DXy7rZalePjpnv73zz1M/2DA0NBT2XEpKSsxY/+5FRUWm0/cT/yEH/VCFf0/iFQECRYDw6eWrnqr8XVs99r9A11/O+FOhnjqSk5NN19/fLzkuLs50x8fHkvXl75zdQa6trTWdnjq6urrcd8IrAgSKAIEiQPiSLY6vJtLDCv42hn5u1V++joyMSF5aWjKdXtr69zl/HC16aeu/B68IECgChND7L/k6/GVvpE/20b5ub2/PjJeXlyXrXWHn/p6ONJEenND402Sk8/Qf4dfwigCBIkCgCBB+5PL1f4RXBAgUAQJFgEARIFAECBQBAkWAQBEgUAQIFAECRYBAESBQBAgUAQJFgEARIFAECBQBAkWAQBEgUAQIFAECRYBAESBQBAgUAQJFgEARIFAECBQBwi/GQDiVS5ymhQAAAABJRU5ErkJggg==\" y=\"-19.040674\"/>\n   </g>\n   <g id=\"text_4\">\n    <!-- Sandal -->\n    <defs>\n     <path d=\"M 45.40625 46.390625 \nL 45.40625 75.984375 \nL 54.390625 75.984375 \nL 54.390625 0 \nL 45.40625 0 \nL 45.40625 8.203125 \nQ 42.578125 3.328125 38.25 0.953125 \nQ 33.9375 -1.421875 27.875 -1.421875 \nQ 17.96875 -1.421875 11.734375 6.484375 \nQ 5.515625 14.40625 5.515625 27.296875 \nQ 5.515625 40.1875 11.734375 48.09375 \nQ 17.96875 56 27.875 56 \nQ 33.9375 56 38.25 53.625 \nQ 42.578125 51.265625 45.40625 46.390625 \nz\nM 14.796875 27.296875 \nQ 14.796875 17.390625 18.875 11.75 \nQ 22.953125 6.109375 30.078125 6.109375 \nQ 37.203125 6.109375 41.296875 11.75 \nQ 45.40625 17.390625 45.40625 27.296875 \nQ 45.40625 37.203125 41.296875 42.84375 \nQ 37.203125 48.484375 30.078125 48.484375 \nQ 22.953125 48.484375 18.875 42.84375 \nQ 14.796875 37.203125 14.796875 27.296875 \nz\n\" id=\"DejaVuSans-100\"/>\n    </defs>\n    <g transform=\"translate(392.947826 14.798437)scale(0.1 -0.1)\">\n     <use xlink:href=\"#DejaVuSans-83\"/>\n     <use x=\"63.476562\" xlink:href=\"#DejaVuSans-97\"/>\n     <use x=\"124.755859\" xlink:href=\"#DejaVuSans-110\"/>\n     <use x=\"188.134766\" xlink:href=\"#DejaVuSans-100\"/>\n     <use x=\"251.611328\" xlink:href=\"#DejaVuSans-97\"/>\n     <use x=\"312.890625\" xlink:href=\"#DejaVuSans-108\"/>\n    </g>\n   </g>\n  </g>\n  <g id=\"axes_5\">\n   <g clip-path=\"url(#p97d3e3b79a)\">\n    <image height=\"98\" id=\"image34ad6ada92\" transform=\"scale(1 -1)translate(0 -98)\" width=\"98\" x=\"7.2\" xlink:href=\"data:image/png;base64,\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\" y=\"-172.527732\"/>\n   </g>\n   <g id=\"text_5\">\n    <!-- Pullover -->\n    <defs>\n     <path d=\"M 19.671875 64.796875 \nL 19.671875 37.40625 \nL 32.078125 37.40625 \nQ 38.96875 37.40625 42.71875 40.96875 \nQ 46.484375 44.53125 46.484375 51.125 \nQ 46.484375 57.671875 42.71875 61.234375 \nQ 38.96875 64.796875 32.078125 64.796875 \nz\nM 9.8125 72.90625 \nL 32.078125 72.90625 \nQ 44.34375 72.90625 50.609375 67.359375 \nQ 56.890625 61.8125 56.890625 51.125 \nQ 56.890625 40.328125 50.609375 34.8125 \nQ 44.34375 29.296875 32.078125 29.296875 \nL 19.671875 29.296875 \nL 19.671875 0 \nL 9.8125 0 \nz\n\" id=\"DejaVuSans-80\"/>\n     <path d=\"M 8.5 21.578125 \nL 8.5 54.6875 \nL 17.484375 54.6875 \nL 17.484375 21.921875 \nQ 17.484375 14.15625 20.5 10.265625 \nQ 23.53125 6.390625 29.59375 6.390625 \nQ 36.859375 6.390625 41.078125 11.03125 \nQ 45.3125 15.671875 45.3125 23.6875 \nL 45.3125 54.6875 \nL 54.296875 54.6875 \nL 54.296875 0 \nL 45.3125 0 \nL 45.3125 8.40625 \nQ 42.046875 3.421875 37.71875 1 \nQ 33.40625 -1.421875 27.6875 -1.421875 \nQ 18.265625 -1.421875 13.375 4.4375 \nQ 8.5 10.296875 8.5 21.578125 \nz\nM 31.109375 56 \nz\n\" id=\"DejaVuSans-117\"/>\n     <path d=\"M 2.984375 54.6875 \nL 12.5 54.6875 \nL 29.59375 8.796875 \nL 46.6875 54.6875 \nL 56.203125 54.6875 \nL 35.6875 0 \nL 23.484375 0 \nz\n\" id=\"DejaVuSans-118\"/>\n    </defs>\n    <g transform=\"translate(43.591304 168.285496)scale(0.1 -0.1)\">\n     <use xlink:href=\"#DejaVuSans-80\"/>\n     <use x=\"58.552734\" xlink:href=\"#DejaVuSans-117\"/>\n     <use x=\"121.931641\" xlink:href=\"#DejaVuSans-108\"/>\n     <use x=\"149.714844\" xlink:href=\"#DejaVuSans-108\"/>\n     <use x=\"177.498047\" xlink:href=\"#DejaVuSans-111\"/>\n     <use x=\"238.679688\" xlink:href=\"#DejaVuSans-118\"/>\n     <use x=\"297.859375\" xlink:href=\"#DejaVuSans-101\"/>\n     <use x=\"359.382812\" xlink:href=\"#DejaVuSans-114\"/>\n    </g>\n   </g>\n  </g>\n  <g id=\"axes_6\">\n   <g clip-path=\"url(#pfb52ee39a0)\">\n    <image height=\"98\" id=\"imageb71b189864\" transform=\"scale(1 -1)translate(0 -98)\" width=\"98\" x=\"123.652174\" xlink:href=\"data:image/png;base64,\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\" y=\"-172.527732\"/>\n   </g>\n   <g id=\"text_6\">\n    <!-- Bag -->\n    <defs>\n     <path d=\"M 19.671875 34.8125 \nL 19.671875 8.109375 \nL 35.5 8.109375 \nQ 43.453125 8.109375 47.28125 11.40625 \nQ 51.125 14.703125 51.125 21.484375 \nQ 51.125 28.328125 47.28125 31.5625 \nQ 43.453125 34.8125 35.5 34.8125 \nz\nM 19.671875 64.796875 \nL 19.671875 42.828125 \nL 34.28125 42.828125 \nQ 41.5 42.828125 45.03125 45.53125 \nQ 48.578125 48.25 48.578125 53.8125 \nQ 48.578125 59.328125 45.03125 62.0625 \nQ 41.5 64.796875 34.28125 64.796875 \nz\nM 9.8125 72.90625 \nL 35.015625 72.90625 \nQ 46.296875 72.90625 52.390625 68.21875 \nQ 58.5 63.53125 58.5 54.890625 \nQ 58.5 48.1875 55.375 44.234375 \nQ 52.25 40.28125 46.1875 39.3125 \nQ 53.46875 37.75 57.5 32.78125 \nQ 61.53125 27.828125 61.53125 20.40625 \nQ 61.53125 10.640625 54.890625 5.3125 \nQ 48.25 0 35.984375 0 \nL 9.8125 0 \nz\n\" id=\"DejaVuSans-66\"/>\n     <path d=\"M 45.40625 27.984375 \nQ 45.40625 37.75 41.375 43.109375 \nQ 37.359375 48.484375 30.078125 48.484375 \nQ 22.859375 48.484375 18.828125 43.109375 \nQ 14.796875 37.75 14.796875 27.984375 \nQ 14.796875 18.265625 18.828125 12.890625 \nQ 22.859375 7.515625 30.078125 7.515625 \nQ 37.359375 7.515625 41.375 12.890625 \nQ 45.40625 18.265625 45.40625 27.984375 \nz\nM 54.390625 6.78125 \nQ 54.390625 -7.171875 48.1875 -13.984375 \nQ 42 -20.796875 29.203125 -20.796875 \nQ 24.46875 -20.796875 20.265625 -20.09375 \nQ 16.0625 -19.390625 12.109375 -17.921875 \nL 12.109375 -9.1875 \nQ 16.0625 -11.328125 19.921875 -12.34375 \nQ 23.78125 -13.375 27.78125 -13.375 \nQ 36.625 -13.375 41.015625 -8.765625 \nQ 45.40625 -4.15625 45.40625 5.171875 \nL 45.40625 9.625 \nQ 42.625 4.78125 38.28125 2.390625 \nQ 33.9375 0 27.875 0 \nQ 17.828125 0 11.671875 7.65625 \nQ 5.515625 15.328125 5.515625 27.984375 \nQ 5.515625 40.671875 11.671875 48.328125 \nQ 17.828125 56 27.875 56 \nQ 33.9375 56 38.28125 53.609375 \nQ 42.625 51.21875 45.40625 46.390625 \nL 45.40625 54.6875 \nL 54.390625 54.6875 \nz\n\" id=\"DejaVuSans-103\"/>\n    </defs>\n    <g transform=\"translate(160.043478 168.285496)scale(0.1 -0.1)\">\n     <use xlink:href=\"#DejaVuSans-66\"/>\n     <use x=\"68.603516\" xlink:href=\"#DejaVuSans-97\"/>\n     <use x=\"129.882812\" xlink:href=\"#DejaVuSans-103\"/>\n    </g>\n   </g>\n  </g>\n  <g id=\"axes_7\">\n   <g clip-path=\"url(#p9d3e66ea20)\">\n    <image height=\"98\" id=\"imagee93c56084b\" transform=\"scale(1 -1)translate(0 -98)\" width=\"98\" x=\"240.104348\" xlink:href=\"data:image/png;base64,\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\" y=\"-172.527732\"/>\n   </g>\n   <g id=\"text_7\">\n    <!-- Sandal -->\n    <g transform=\"translate(276.495652 168.285496)scale(0.1 -0.1)\">\n     <use xlink:href=\"#DejaVuSans-83\"/>\n     <use x=\"63.476562\" xlink:href=\"#DejaVuSans-97\"/>\n     <use x=\"124.755859\" xlink:href=\"#DejaVuSans-110\"/>\n     <use x=\"188.134766\" xlink:href=\"#DejaVuSans-100\"/>\n     <use x=\"251.611328\" xlink:href=\"#DejaVuSans-97\"/>\n     <use x=\"312.890625\" xlink:href=\"#DejaVuSans-108\"/>\n    </g>\n   </g>\n  </g>\n  <g id=\"axes_8\">\n   <g clip-path=\"url(#p6a6609e374)\">\n    <image height=\"98\" id=\"image0378bda960\" transform=\"scale(1 -1)translate(0 -98)\" width=\"98\" x=\"356.556522\" xlink:href=\"data:image/png;base64,\niVBORw0KGgoAAAANSUhEUgAAAGIAAABiCAYAAACrpQYOAAAABHNCSVQICAgIfAhkiAAABJJJREFUeJztnclKLEEQRbOdxQnEAREVcQYVBV2IgujeL/ET9GP8Et0IDmtFEFyIrlpxwHl+u3w341n5ysayLnjPKpKgqxOuERmVGdkWnHMfjpDV1dVgvLKy4u3d3d3ANz8/n/icjY0Nb4+Ojga+paUlb29vb5c0z++iLNdvFx4JQYKEIKEi7wkkMTMzE4yrq6u93dLSkvo5g4OD3q6vrw98vb293tYaIZxzEoIG2tRULBYTfefn56mf8/r6+qntnHMDAwNfn1hGKCJIkBAkSAgSaNeIvr6+YHx3d+ftjo6O1M8pFAqJvqmpqa9PLCMUESRICBJoU1NnZ2cwfnt78/bR0VHq52Bq+vgIN5ox3eWNIoIECUGChCCBao3o7+/3dmNjY+DD/F5qbn9/fw/GPT09JT0nCxQRJEgIEqhS0/T0tLcrKysD3/Pzs7cbGhpSP7Os7O/f2uPjY+AbGxv76hQzQxFBgoQgQUKQQLVGDA8PexvXBOfC0tP6ELu2lJeXe/vp6SnwXV9flzTPLFBEkCAhSKBKTW1tbd62aQSJ+ZqamoJxrHxFX97wzOSXIyFIkBAkUK0RWGraZjDcfcU+WIvtb0XwlM85NZiJT5AQJFClJixL7SEOjm2JimAJ7Fy8ecCmvzxRRJAgIUiQECRQrRGYw23PKubz2NUt2zOL2xh23Xl4eChpnlmgiCBBQpBAlZpqa2u9bUtLHHd3dyc+o7m5OdGn1CT+i4QgQUKQQLVG4J0Im89x5zTWYDY+Ph6M7bYGohM68Q8SggSq1IRt+ba0fHl58XbspujExEQwrqur87ZNU7FDpJ9GEUGChCBBQpBAtUa0t7d7217hjZ2mYdOBLW3v7++9bZsHkNbW1mB8dnYWn+w3o4ggQUKQkGtq6urqCsY1NTXetm/WsbdgTGm25wmfY2+jYqoaGhoKfEpNvxQJQYKEICHXNWJxcTEY45UsW67G1oiRkRFv26tbsa0RXCNwe8U55zY3NxO/LwsUESRICBJyTU2zs7PBGHdc8W3ZubAsvbm5CXzLy8vetn2xWIbatHV5eentycnJwLe2thab+rejiCBBQpAgIUjIdY2wJSNuQdhyFfM75nbnwl+1sZ/DEtVeC769vfU2/upBHigiSJAQJFAdDMWubuHBv/VhaYsHQfZzsVb/WEPCT6CIIEFCkCAhSKBaI7D0rKgIp4bjqqqqxGfYXVsse21jQexE8KdRRJAgIUjINTXZ3VBMHfYNOfZDKFj2xt7I7c9c4/jg4CDFjLNDEUGChCBBQpCQ6xphd0OxnLT3IzD323UAS1tbhsZ8+H2np6dpp50JiggSJAQJuaamvb29YDw3N+dte/gTe/NFX6wfyvqwQeHw8DDFjLNDEUGChCBBQpCQ6xqxv78fjPGgP3ZCZ69gxbY/cI2wn8Px8fFxihlnhyKCBAlBQq6paWtrKxjHSlR8Q7Z9seiz/20Fd18vLi4CH6a0nZ2dFDPODkUECRKCBAlBAtUWx8nJibfxhxadc+7q6srbtrFgfX3d2wsLC4nfZ+9VYGlbLBZTzDg7FBEkSAgS/gBi5WXxkz0QKwAAAABJRU5ErkJggg==\" y=\"-172.527732\"/>\n   </g>\n   <g id=\"text_8\">\n    <!-- Trouser -->\n    <defs>\n     <path d=\"M -0.296875 72.90625 \nL 61.375 72.90625 \nL 61.375 64.59375 \nL 35.5 64.59375 \nL 35.5 0 \nL 25.59375 0 \nL 25.59375 64.59375 \nL -0.296875 64.59375 \nz\n\" id=\"DejaVuSans-84\"/>\n     <path d=\"M 44.28125 53.078125 \nL 44.28125 44.578125 \nQ 40.484375 46.53125 36.375 47.5 \nQ 32.28125 48.484375 27.875 48.484375 \nQ 21.1875 48.484375 17.84375 46.4375 \nQ 14.5 44.390625 14.5 40.28125 \nQ 14.5 37.15625 16.890625 35.375 \nQ 19.28125 33.59375 26.515625 31.984375 \nL 29.59375 31.296875 \nQ 39.15625 29.25 43.1875 25.515625 \nQ 47.21875 21.78125 47.21875 15.09375 \nQ 47.21875 7.46875 41.1875 3.015625 \nQ 35.15625 -1.421875 24.609375 -1.421875 \nQ 20.21875 -1.421875 15.453125 -0.5625 \nQ 10.6875 0.296875 5.421875 2 \nL 5.421875 11.28125 \nQ 10.40625 8.6875 15.234375 7.390625 \nQ 20.0625 6.109375 24.8125 6.109375 \nQ 31.15625 6.109375 34.5625 8.28125 \nQ 37.984375 10.453125 37.984375 14.40625 \nQ 37.984375 18.0625 35.515625 20.015625 \nQ 33.0625 21.96875 24.703125 23.78125 \nL 21.578125 24.515625 \nQ 13.234375 26.265625 9.515625 29.90625 \nQ 5.8125 33.546875 5.8125 39.890625 \nQ 5.8125 47.609375 11.28125 51.796875 \nQ 16.75 56 26.8125 56 \nQ 31.78125 56 36.171875 55.265625 \nQ 40.578125 54.546875 44.28125 53.078125 \nz\n\" id=\"DejaVuSans-115\"/>\n    </defs>\n    <g transform=\"translate(392.947826 168.285496)scale(0.1 -0.1)\">\n     <use xlink:href=\"#DejaVuSans-84\"/>\n     <use x=\"46.333984\" xlink:href=\"#DejaVuSans-114\"/>\n     <use x=\"85.197266\" xlink:href=\"#DejaVuSans-111\"/>\n     <use x=\"146.378906\" xlink:href=\"#DejaVuSans-117\"/>\n     <use x=\"209.757812\" xlink:href=\"#DejaVuSans-115\"/>\n     <use x=\"261.857422\" xlink:href=\"#DejaVuSans-101\"/>\n     <use x=\"323.380859\" xlink:href=\"#DejaVuSans-114\"/>\n    </g>\n   </g>\n  </g>\n  <g id=\"axes_9\">\n   <g clip-path=\"url(#p6ca6b5efbf)\">\n    <image height=\"98\" id=\"image16ee244c0f\" transform=\"scale(1 -1)translate(0 -98)\" width=\"98\" x=\"7.2\" xlink:href=\"data:image/png;base64,\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\" y=\"-326.014791\"/>\n   </g>\n   <g id=\"text_9\">\n    <!-- T-shirt/top -->\n    <defs>\n     <path d=\"M 4.890625 31.390625 \nL 31.203125 31.390625 \nL 31.203125 23.390625 \nL 4.890625 23.390625 \nz\n\" id=\"DejaVuSans-45\"/>\n     <path d=\"M 25.390625 72.90625 \nL 33.6875 72.90625 \nL 8.296875 -9.28125 \nL 0 -9.28125 \nz\n\" id=\"DejaVuSans-47\"/>\n     <path d=\"M 18.109375 8.203125 \nL 18.109375 -20.796875 \nL 9.078125 -20.796875 \nL 9.078125 54.6875 \nL 18.109375 54.6875 \nL 18.109375 46.390625 \nQ 20.953125 51.265625 25.265625 53.625 \nQ 29.59375 56 35.59375 56 \nQ 45.5625 56 51.78125 48.09375 \nQ 58.015625 40.1875 58.015625 27.296875 \nQ 58.015625 14.40625 51.78125 6.484375 \nQ 45.5625 -1.421875 35.59375 -1.421875 \nQ 29.59375 -1.421875 25.265625 0.953125 \nQ 20.953125 3.328125 18.109375 8.203125 \nz\nM 48.6875 27.296875 \nQ 48.6875 37.203125 44.609375 42.84375 \nQ 40.53125 48.484375 33.40625 48.484375 \nQ 26.265625 48.484375 22.1875 42.84375 \nQ 18.109375 37.203125 18.109375 27.296875 \nQ 18.109375 17.390625 22.1875 11.75 \nQ 26.265625 6.109375 33.40625 6.109375 \nQ 40.53125 6.109375 44.609375 11.75 \nQ 48.6875 17.390625 48.6875 27.296875 \nz\n\" id=\"DejaVuSans-112\"/>\n    </defs>\n    <g transform=\"translate(43.591304 321.772555)scale(0.1 -0.1)\">\n     <use xlink:href=\"#DejaVuSans-84\"/>\n     <use x=\"51.958984\" xlink:href=\"#DejaVuSans-45\"/>\n     <use x=\"88.042969\" xlink:href=\"#DejaVuSans-115\"/>\n     <use x=\"140.142578\" xlink:href=\"#DejaVuSans-104\"/>\n     <use x=\"203.521484\" xlink:href=\"#DejaVuSans-105\"/>\n     <use x=\"231.304688\" xlink:href=\"#DejaVuSans-114\"/>\n     <use x=\"272.417969\" xlink:href=\"#DejaVuSans-116\"/>\n     <use x=\"311.626953\" xlink:href=\"#DejaVuSans-47\"/>\n     <use x=\"345.318359\" xlink:href=\"#DejaVuSans-116\"/>\n     <use x=\"384.527344\" xlink:href=\"#DejaVuSans-111\"/>\n     <use x=\"445.708984\" xlink:href=\"#DejaVuSans-112\"/>\n    </g>\n   </g>\n  </g>\n  <g id=\"axes_10\">\n   <g clip-path=\"url(#p8c0299ec83)\">\n    <image height=\"98\" id=\"imagef8a44f25d6\" transform=\"scale(1 -1)translate(0 -98)\" width=\"98\" x=\"123.652174\" xlink:href=\"data:image/png;base64,\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\" y=\"-326.014791\"/>\n   </g>\n   <g id=\"text_10\">\n    <!-- Coat -->\n    <defs>\n     <path d=\"M 64.40625 67.28125 \nL 64.40625 56.890625 \nQ 59.421875 61.53125 53.78125 63.8125 \nQ 48.140625 66.109375 41.796875 66.109375 \nQ 29.296875 66.109375 22.65625 58.46875 \nQ 16.015625 50.828125 16.015625 36.375 \nQ 16.015625 21.96875 22.65625 14.328125 \nQ 29.296875 6.6875 41.796875 6.6875 \nQ 48.140625 6.6875 53.78125 8.984375 \nQ 59.421875 11.28125 64.40625 15.921875 \nL 64.40625 5.609375 \nQ 59.234375 2.09375 53.4375 0.328125 \nQ 47.65625 -1.421875 41.21875 -1.421875 \nQ 24.65625 -1.421875 15.125 8.703125 \nQ 5.609375 18.84375 5.609375 36.375 \nQ 5.609375 53.953125 15.125 64.078125 \nQ 24.65625 74.21875 41.21875 74.21875 \nQ 47.75 74.21875 53.53125 72.484375 \nQ 59.328125 70.75 64.40625 67.28125 \nz\n\" id=\"DejaVuSans-67\"/>\n    </defs>\n    <g transform=\"translate(160.043478 321.772555)scale(0.1 -0.1)\">\n     <use xlink:href=\"#DejaVuSans-67\"/>\n     <use x=\"69.824219\" xlink:href=\"#DejaVuSans-111\"/>\n     <use x=\"131.005859\" xlink:href=\"#DejaVuSans-97\"/>\n     <use x=\"192.285156\" xlink:href=\"#DejaVuSans-116\"/>\n    </g>\n   </g>\n  </g>\n  <g id=\"axes_11\">\n   <g clip-path=\"url(#pdca0c0446a)\">\n    <image height=\"98\" id=\"image3a50705cd7\" transform=\"scale(1 -1)translate(0 -98)\" width=\"98\" x=\"240.104348\" xlink:href=\"data:image/png;base64,\niVBORw0KGgoAAAANSUhEUgAAAGIAAABiCAYAAACrpQYOAAAABHNCSVQICAgIfAhkiAAABlZJREFUeJztnblKdUsQhct5nnFEEVHQxEBMRI2NTA18EyNfRAyMDAx8AgN9AzNFREUcEOd59mbN6oW77rHvFupKfVEdyt37/H/Rq6pr9+5TJCJfkkBbW1uwq6urI9/IyEiwV1dXM8eora2NPnd3dwe7oqIi8hUVFWWO8/7+HuySkpLI9/LyEuzHx8fId3t7G+zr6+vM8ZmJiYlgn5+fR77t7e2Cx0GKk65ycscDYQQPhBFKUy8cHx8PNuv3/Px8sNfX1yPf6OhosFHbRUSGhoaCfXd3F/n29/eD3dzcHPn4b5HPz89MX3l5ebBLS+P/iqurq29tEZHKyspgDw4ORj7PEf9zPBBGSJYm5Pj4OPq8u7sb7Pr6+siHJeT9/X3kQ/lpbGyMfM/Pz8FGSREReXt7+9YWiWXz6yuu1B8eHoLN0oSfh4eHM697enqSPPAZYQQPhBE8EEZIzhE3NzeZvqampkwfthwYzB8dHR2RD1sXWrnK4HUfHx+Rj/MCgvmLr8PylfNcKj4jjOCBMEKyNOGKlVfWKDHFxdmx5inPK20EO7WaHPxEfhDu2mL3F0vn38JnhBE8EEbwQBghOUfgE626urrMv3t9fY0+o/ZyOwJzBLcjsK2BLQb+W74uFSyz+Wkh5p2Tk5Nc7uczwggeCCMkSxNOT5YYbeWJq25+YI9ywCUjlss1NTWRj6UKQbnTNiAwKHH8cAn/7b6y/mN4IIzggTBCco7o7OwM9uHhYebfaW2LsrKy6DO2GbQcwW0TrY2RWs7imHw//C7cUknFZ4QRPBBGSJYmfDjD0oBTF0tZEZHT09Ngt7e3R76Dg4PMMbPuLRLLD19XqHTkJTGp+IwwggfCCB4IIyTnCFzacxmKGo7vPIiIXF5eBrulpSVzfC5fq6qqvh1fJG5d8HX83QoFcwa3RvB9EHzH4r/gM8IIHggj5CJNvE8VNw+w/ODqmVesDQ0NweY9pShNvFrH8pV9WM7+pLTVHmDhOHltLPAZYQQPhBE8EEbIZe9ra2tr5MMWBz89w5bH2dlZ5MM8wNqL+YQ7qprWY+mp/R2PiXmA8xV+F94ckYrPCCN4IIyQLE04JXnfKJavvEEAHygdHR1Fvr6+vmCzHOD9eKWLsqKtpPl7YqnLXWKUJt48gOO4NP0xPBBG8EAYITlHYNeRS1QsE1lDUXv5dBqE9RzLWd6LivDmM23zAsI5Ar+39o5HoeP/Gz4jjOCBMEKyNGlTUttLhNdpXVsuUVGa+FAURNvzxG+0aqUuls94SJhI/O/z8vWP4YEwggfCCLmcTsNPvvDhPusw5gHu2uJrUJwj8LN2Ag37NLAM5tyC43BJrB3GlYrPCCN4IIyQizRxudrT0xNs7WEMy5b2JifCPnzjlPcZoWyxhOJ1WgeAV90/OZSlUHxGGMEDYQQPhBFyyRHcfdU2XWkP87V3IrCExE0GInFu0Q5e5I4uwi0brSTWXidOxWeEETwQRshFmjQp0s5T5W4onkqglYgsabhaZ2lCydFKYm0/Lf8sQ15b8RGfEUbwQBjBA2GEXHIEn9CiPb3TSkhsJWhnbnP3E+/HOQm1XjtBQDu5hg8G005aSMVnhBE8EEbIRZp4ymPpyRsEsLxkCUOfJmF8P01WCv21Lq20ZSnMa8MA4jPCCB4II3ggjJBLjsDTBETico87l9hF5S4maja3FbQNCVo+wU4ta712ig76uIWDJ+zkhc8II3ggjPAr3Vec5rz1HlfM/IAHZYxLW+2HYfH+vLLG8vkn5wvimAMDA5FveXk5c5xUfEYYwQNhBA+EEXLJEcze3l6weX8rnljApS2WjKznmHc4J/X39387hoi+nxZzlHa+ObdUvMXxh/FAGOFXpGljYyPYk5OTkQ8fqvCKHFfPXNr29vZ+O4ZI/BvZKysrkQ/LWTyYSySWOPah3C0tLUU+3KyQFz4jjOCBMIIHwghFIpLPz1RlwK/iTk1NBRtPqhGJf5C8q6sr8u3s7AR7bW0t836zs7OZ1/EZtNj+YN3f3NwM9vb2dub98sJnhBE8EEb4dWnS4E4pdjlnZmYi3/T0dLB5pYur8LGxsci3sLAQ7Lm5uciH5etvlKQ/wWeEETwQRvBAGOFXWhyFwh3Wra2tYC8uLkY+LHV5Y8HFxUXmPbAk5paKJXxGGMEDYYR/ACjHu+Kf/VQZAAAAAElFTkSuQmCC\" y=\"-326.014791\"/>\n   </g>\n   <g id=\"text_11\">\n    <!-- Shirt -->\n    <g transform=\"translate(276.495652 321.772555)scale(0.1 -0.1)\">\n     <use xlink:href=\"#DejaVuSans-83\"/>\n     <use x=\"63.476562\" xlink:href=\"#DejaVuSans-104\"/>\n     <use x=\"126.855469\" xlink:href=\"#DejaVuSans-105\"/>\n     <use x=\"154.638672\" xlink:href=\"#DejaVuSans-114\"/>\n     <use x=\"195.751953\" xlink:href=\"#DejaVuSans-116\"/>\n    </g>\n   </g>\n  </g>\n  <g id=\"axes_12\">\n   <g clip-path=\"url(#p24aa14a0b0)\">\n    <image height=\"98\" id=\"imagebe86526f31\" transform=\"scale(1 -1)translate(0 -98)\" width=\"98\" x=\"356.556522\" xlink:href=\"data:image/png;base64,\niVBORw0KGgoAAAANSUhEUgAAAGIAAABiCAYAAACrpQYOAAAABHNCSVQICAgIfAhkiAAABV9JREFUeJztnTlLLU0Qhtt938AFF8RAUVRMTDTTxNDA/6D+EcFY/4CBmJsZGhiIaKKBaKa4b7jv282at16+6e94rz2ngnqiaupMn4Gilump7slxzn27FFlcXPTyx8dH4u9OTk7E+OjoyMv39/dCd3x87OWXlxehW1lZ8fLDw4PQ5efnZ3QvaZCb1X83PGYIJZghlJDjIueIsrIyMcY4vbOzI3R5eXlerqqqErrS0lIvFxcXC93+/r6Xy8vLhW5mZsbL09PTQofzcG5JG/MIJZghlJD//z/5N3Jzpa3Pzs68HAoHFxcXYoxhBMtO52Tp+f0tIy2PkdfX10Rd2phHKMEMoQQzhBKi54jq6moxLigo8DLnDxxziYp5IScnJ+M529vbE+8tlD/SxjxCCWYIJUQPTfX19WL89fXl5c/Pz0Qdhx/UMRiOeM6WlpbMbzaLmEcowQyhBDOEEqLniLq6OjHGkpHjPueFJPh3mBf4TVtTU9NfzZl2aWseoQQzhBKih6bKykoxxnD0/v4ubybw9IxjfnoOhabLy8uM7tNCk+GcM0OowQyhhOg54idLFZmWr7yMgXCOqKio8DI2IDjn3NPT04//OxbmEUowQyghemj6CaHwkOkTOZed+IKptbVV6LCvKlQSp4F5hBLMEEowQygheo7gchL7WzmeY5xmHeaF0PID5w+cc2RkROgwR6SdExjzCCWYIZQQPTRxqMAQwOVqqAkACZW5fN3b25uXh4aGhG52dtbL2e5xMo9QghlCCWYIJUTPEYWFhWKMsRhLWedkfOfcEorhqOMcgTrcmxGaIxuYRyjBDKGE6KGJX8Zk+mIotMIamoPp6Ojw8sTEhNDhLtPe3l6hW1tb8/LU1FTG//e3mEcowQyhBDOEElLfuoUUFRWJMS5xhE6L4bdpCDe07e3teXljY0PolpeXvXx4eCh0mTam/RbmEUowQyghemjq6uoS49Buf3y65fATKlkfHx+9XFtbK3Rzc3OJ1+GTNh+qxQd3xcY8QglmCCWYIZQQPUdg76lzzj0/P3sZ3545F97eiyu1vMKKc/KK7tbWVuK9NTQ0eJkPbDw4OEi8LgbmEUowQyghemji0DA4OOjlm5ubjOfBcpZLWdwCxoepNDc3J86Jv8Xwlg3MI5RghlCCGUIJ0XPE/Py8GI+Pj3uZy1eEX+ZjOYsHZTnnXElJSeI8vHSB4OGOPzmUMQbmEUowQyghemjCzw04J1c8Q7v9Q+f98UsjvI5DSmNjY+K9hfqh0i5nzSOUYIZQghlCCalv7727u/MyN59hOcklKo45t+BbP+5vHR0d9XJNTY3Q7e7uJt7n+fl5oi4G5hFKMEMoIfXQhJ8jaGtrEzoMMVy+oo6/0oJny3K53N/f7+Xu7m6hW11d9XJnZ6fQbW9v/+f9x8I8QglmCCWYIZSQeo7AvMAv+rFE5WUM/pwNgssTvBKLc15dXQkdlsHc+IZf8koD8wglmCGUkHpowmaCgYEBoQudNoC7U6+vr4UOe1/5ifz09NTLt7e3Qoe/TTsUMeYRSjBDKMEMoYToH40NsbS0JMYYs/FMVudkqclniuN1vKKLuYVLVNw6xksak5OTwXv/bcwjlGCGUELqR1LjC/vNzU2hGx4e9jKHJuyB4jnxKZyvw5KYQxNuGeAdp2ljHqEEM4QSzBBKyGqOWF9fF7qxsTEvc18sNnxxPys2Hfzk8wO4z4LvJW3MI5RghlBCVp+sGWzhx5f+zsltVlyGYq8UNx3g4SbcdIBP5LilLBuYRyjBDKEEM4QSVOWIENhExnsXenp6vNzX1yd02FTGJerCwsJv3uI/YR6hBDOEEv4Al+QF6tz6Ib8AAAAASUVORK5CYII=\" y=\"-326.014791\"/>\n   </g>\n   <g id=\"text_12\">\n    <!-- Dress -->\n    <defs>\n     <path d=\"M 19.671875 64.796875 \nL 19.671875 8.109375 \nL 31.59375 8.109375 \nQ 46.6875 8.109375 53.6875 14.9375 \nQ 60.6875 21.78125 60.6875 36.53125 \nQ 60.6875 51.171875 53.6875 57.984375 \nQ 46.6875 64.796875 31.59375 64.796875 \nz\nM 9.8125 72.90625 \nL 30.078125 72.90625 \nQ 51.265625 72.90625 61.171875 64.09375 \nQ 71.09375 55.28125 71.09375 36.53125 \nQ 71.09375 17.671875 61.125 8.828125 \nQ 51.171875 0 30.078125 0 \nL 9.8125 0 \nz\n\" id=\"DejaVuSans-68\"/>\n    </defs>\n    <g transform=\"translate(392.947826 321.772555)scale(0.1 -0.1)\">\n     <use xlink:href=\"#DejaVuSans-68\"/>\n     <use x=\"77.001953\" xlink:href=\"#DejaVuSans-114\"/>\n     <use x=\"115.865234\" xlink:href=\"#DejaVuSans-101\"/>\n     <use x=\"177.388672\" xlink:href=\"#DejaVuSans-115\"/>\n     <use x=\"229.488281\" xlink:href=\"#DejaVuSans-115\"/>\n    </g>\n   </g>\n  </g>\n </g>\n <defs>\n  <clipPath id=\"pe58c4457be\">\n   <rect height=\"97.043478\" width=\"97.043478\" x=\"7.2\" y=\"19.997195\"/>\n  </clipPath>\n  <clipPath id=\"pbe773a73c2\">\n   <rect height=\"97.043478\" width=\"97.043478\" x=\"123.652174\" y=\"19.997195\"/>\n  </clipPath>\n  <clipPath id=\"pe99216fc27\">\n   <rect height=\"97.043478\" width=\"97.043478\" x=\"240.104348\" y=\"19.997195\"/>\n  </clipPath>\n  <clipPath id=\"p85407ad2f9\">\n   <rect height=\"97.043478\" width=\"97.043478\" x=\"356.556522\" y=\"19.997195\"/>\n  </clipPath>\n  <clipPath id=\"p97d3e3b79a\">\n   <rect height=\"97.043478\" width=\"97.043478\" x=\"7.2\" y=\"173.484254\"/>\n  </clipPath>\n  <clipPath id=\"pfb52ee39a0\">\n   <rect height=\"97.043478\" width=\"97.043478\" x=\"123.652174\" y=\"173.484254\"/>\n  </clipPath>\n  <clipPath id=\"p9d3e66ea20\">\n   <rect height=\"97.043478\" width=\"97.043478\" x=\"240.104348\" y=\"173.484254\"/>\n  </clipPath>\n  <clipPath id=\"p6a6609e374\">\n   <rect height=\"97.043478\" width=\"97.043478\" x=\"356.556522\" y=\"173.484254\"/>\n  </clipPath>\n  <clipPath id=\"p6ca6b5efbf\">\n   <rect height=\"97.043478\" width=\"97.043478\" x=\"7.2\" y=\"326.971313\"/>\n  </clipPath>\n  <clipPath id=\"p8c0299ec83\">\n   <rect height=\"97.043478\" width=\"97.043478\" x=\"123.652174\" y=\"326.971313\"/>\n  </clipPath>\n  <clipPath id=\"pdca0c0446a\">\n   <rect height=\"97.043478\" width=\"97.043478\" x=\"240.104348\" y=\"326.971313\"/>\n  </clipPath>\n  <clipPath id=\"p24aa14a0b0\">\n   <rect height=\"97.043478\" width=\"97.043478\" x=\"356.556522\" y=\"326.971313\"/>\n  </clipPath>\n </defs>\n</svg>\n"
          },
          "metadata": {
            "needs_background": "light"
          }
        }
      ]
    },
    {
      "cell_type": "markdown",
      "source": [
        "### working with data from google drive"
      ],
      "metadata": {
        "id": "h-nzx2oCYtyr"
      }
    },
    {
      "cell_type": "code",
      "source": [
        "# we already have the data and labels s follow\n",
        "images = training_images()\n",
        "labels = training_labels()\n",
        "classes = {0: 'T-shirt/top', 1: 'Trouser', 2: 'Pullover', 3: 'Dress', \n",
        "           4: 'Coat', 5: 'Sandal', 6: 'Shirt', 7: 'Sneaker', 8: 'Bag', 9: 'Ankle boot'}\n",
        "\n",
        "print (type(images))\n",
        "print(images.shape)\n",
        "print(' ')\n",
        "print(type(labels))\n",
        "print(labels.shape)"
      ],
      "metadata": {
        "colab": {
          "base_uri": "https://localhost:8080/"
        },
        "id": "ADNtyZhgYx8Y",
        "outputId": "d48a78c1-b5f2-4330-dced-bc17e28dffb1"
      },
      "execution_count": 9,
      "outputs": [
        {
          "output_type": "stream",
          "name": "stdout",
          "text": [
            "<class 'numpy.ndarray'>\n",
            "(60000, 28, 28)\n",
            " \n",
            "<class 'numpy.ndarray'>\n",
            "(60000,)\n"
          ]
        }
      ]
    },
    {
      "cell_type": "code",
      "source": [
        "# let's Normalize the data\n",
        "\n",
        "dataNorm = images / np.max(images)\n",
        "print(dataNorm.shape)\n",
        "\n",
        "print(np.min(images), np.max(images))\n",
        "print(np.min(dataNorm), np.max(dataNorm))"
      ],
      "metadata": {
        "colab": {
          "base_uri": "https://localhost:8080/"
        },
        "id": "ZgPPesvlZVJk",
        "outputId": "4e350b9d-6ebf-419a-cc3e-aad0fc42100d"
      },
      "execution_count": 10,
      "outputs": [
        {
          "output_type": "stream",
          "name": "stdout",
          "text": [
            "(60000, 28, 28)\n",
            "0 255\n",
            "0.0 1.0\n"
          ]
        }
      ]
    },
    {
      "cell_type": "code",
      "source": [
        "# now we have to eshape it to (Number of images, number of channels, Number of H pixels, Number of W pixels)\n",
        "\n",
        "dataNorm = dataNorm.reshape(dataNorm.shape[0], 1, 28, 28)\n",
        "print(dataNorm.shape)"
      ],
      "metadata": {
        "id": "3Azf3IkKaFcu",
        "colab": {
          "base_uri": "https://localhost:8080/"
        },
        "outputId": "8f9b11ad-714b-4a6d-ef13-1bc1a390fa72"
      },
      "execution_count": 11,
      "outputs": [
        {
          "output_type": "stream",
          "name": "stdout",
          "text": [
            "(60000, 1, 28, 28)\n"
          ]
        }
      ]
    },
    {
      "cell_type": "code",
      "source": [
        "# creating train/test groups using dataloader\n",
        "\n",
        "# step1 : convert to tensor\n",
        "\n",
        "dataT = torch.tensor(dataNorm).float()\n",
        "labelsT = torch.tensor(labels).long()\n",
        "\n",
        "# step 2 : we have to split the training and test data using scikit learn function\n",
        "train_data, test_data, train_labels, test_labels = train_test_split(dataT, labelsT,\n",
        "                                                                    test_size= 0.1)\n",
        "\n",
        "# step 3 : convert into PyTorch datasets\n",
        "train_data = TensorDataset(train_data, train_labels)\n",
        "test_data = TensorDataset(test_data, test_labels)\n",
        "\n",
        "# step 4 : Create dataloaders\n",
        "trainloader = DataLoader(train_data, batch_size= 32, shuffle= True, drop_last= True)\n",
        "testloader = DataLoader(test_data, batch_size= 256)"
      ],
      "metadata": {
        "id": "rEpxaDaoa8UU"
      },
      "execution_count": 12,
      "outputs": []
    },
    {
      "cell_type": "code",
      "source": [
        "# check size (should be images X channels X width X height)\n",
        "print(trainloader.dataset.tensors[0].shape)\n",
        "print(testloader.dataset.tensors[0].shape)\n",
        "print(labelsT.shape)"
      ],
      "metadata": {
        "id": "egSlg9QDaikE",
        "colab": {
          "base_uri": "https://localhost:8080/"
        },
        "outputId": "60c91285-df43-479d-828e-e463ebb766db"
      },
      "execution_count": 13,
      "outputs": [
        {
          "output_type": "stream",
          "name": "stdout",
          "text": [
            "torch.Size([54000, 1, 28, 28])\n",
            "torch.Size([6000, 1, 28, 28])\n",
            "torch.Size([60000])\n"
          ]
        }
      ]
    },
    {
      "cell_type": "markdown",
      "source": [
        "### Create the NN model function"
      ],
      "metadata": {
        "id": "TRjUUHFtcrfU"
      }
    },
    {
      "cell_type": "code",
      "source": [
        "def FMNISTmodel(print_option= False):\n",
        "    class fmnist(nn.Module):\n",
        "        def __init__(self, print_option):\n",
        "            super().__init__()\n",
        "\n",
        "            # convolution layers\n",
        "            self.convolution1 = nn.Conv2d(1, 10, kernel_size= 5, stride=1, padding= 1)   # size : np.floor((28+ 2*1 -5)/1) + 1 =26  ---> maxpooling 26/2 = 13\n",
        "            self.convolution2 = nn.Conv2d(10, 20, kernel_size= 5, stride=1, padding= 1)  # size : np.floor((13+ 2*1 -5)/1) + 1 =11  ---> maxpooling 11/2 = 5\n",
        "            self.convolution3 = nn.Conv2d(20, 40, kernel_size= 3, stride= 1, padding= 1) # size : np.floor((5+ 2*1 -3)/1) + 1 = 5    ---> maxpooling 5/2 = 2\n",
        "            expectSize = 40* (int((np.floor((5+ 2*1 -3)/1) + 1)/2)**2)\n",
        "            \n",
        "            # Fully connected layers\n",
        "            self.ffn1 = nn.Linear(expectSize, 80)\n",
        "            self.ffn2 = nn.Linear(80, 50)\n",
        "            self.output = nn.Linear(50, 10)\n",
        "\n",
        "            self.print = print_option\n",
        "\n",
        "        def forward(self, x):\n",
        "\n",
        "            if self.print : print(x.shape)\n",
        "            # Convolution Layers\n",
        "            x = F.leaky_relu(F.max_pool2d(self.convolution1(x), 2))\n",
        "            if self.print : print(x.shape)\n",
        "            x = F.leaky_relu(F.max_pool2d(self.convolution2(x), 2))\n",
        "            if self.print : print(x.shape)\n",
        "            x = F.leaky_relu(F.max_pool2d(self.convolution3(x), 2))\n",
        "            if self.print : print(x.shape)\n",
        "\n",
        "            # reshape the matrix for Linear laye input\n",
        "            nUnits = x.shape.numel()/x.shape[0]\n",
        "            x = x.view(-1,int(nUnits))\n",
        "            if self.print : print('Vectorized matrix  ',x.shape)\n",
        "\n",
        "            # Linear Layers\n",
        "            x = F.leaky_relu(self.ffn1(x))\n",
        "            if self.print : print(x.shape)\n",
        "            x = F.leaky_relu(self.ffn2(x))\n",
        "            if self.print : print(x.shape)\n",
        "            x = self.output(x)\n",
        "            if self.print : print(x.shape)\n",
        "\n",
        "            return x\n",
        "        \n",
        "    net = fmnist(print_option)\n",
        "    lossfun = nn.CrossEntropyLoss()\n",
        "    optimizer = torch.optim.Adam(params = net.parameters(), lr= 0.001, weight_decay= 0.00001)\n",
        "\n",
        "    return net, lossfun, optimizer"
      ],
      "metadata": {
        "id": "hiL7mZDNcahs"
      },
      "execution_count": 14,
      "outputs": []
    },
    {
      "cell_type": "code",
      "source": [
        "# test with one batch of data\n",
        "\n",
        "net, loss, opt = FMNISTmodel(print_option= True)\n",
        "\n",
        "X, y = next(iter(trainloader))\n",
        "yHat = net(X)\n",
        "\n",
        "print('yHat shape:', yHat.shape)\n",
        "print(y.shape)\n",
        "print(' ')\n",
        "lossvalue = loss(yHat, y)\n",
        "print(lossvalue)"
      ],
      "metadata": {
        "id": "WoYYN9ZLe-xh",
        "colab": {
          "base_uri": "https://localhost:8080/"
        },
        "outputId": "88111cf5-5096-4557-a83c-e587f38b4437"
      },
      "execution_count": 15,
      "outputs": [
        {
          "output_type": "stream",
          "name": "stdout",
          "text": [
            "torch.Size([32, 1, 28, 28])\n",
            "torch.Size([32, 10, 13, 13])\n",
            "torch.Size([32, 20, 5, 5])\n",
            "torch.Size([32, 40, 2, 2])\n",
            "Vectorized matrix   torch.Size([32, 160])\n",
            "torch.Size([32, 80])\n",
            "torch.Size([32, 50])\n",
            "torch.Size([32, 10])\n",
            "yHat shape: torch.Size([32, 10])\n",
            "torch.Size([32])\n",
            " \n",
            "tensor(2.3030, grad_fn=<NllLossBackward0>)\n"
          ]
        }
      ]
    },
    {
      "cell_type": "code",
      "source": [
        "from torchsummary import summary\n",
        "# summary(net,(1,28,28))"
      ],
      "metadata": {
        "id": "g4XbB7MwhomZ"
      },
      "execution_count": 16,
      "outputs": []
    },
    {
      "cell_type": "markdown",
      "source": [
        "### Create a function to train the model "
      ],
      "metadata": {
        "id": "u-oDbetS1XC-"
      }
    },
    {
      "cell_type": "code",
      "source": [
        "# Create a model to train the NN model\n",
        "\n",
        "def trainmodel(number_of_epochs = 1):\n",
        "\n",
        "    numberepochs = number_of_epochs\n",
        "\n",
        "    net, lossfun, optimizer = FMNISTmodel(print_option= False)\n",
        "    net.to(device)\n",
        "\n",
        "    trainloss = torch.zeros(numberepochs)\n",
        "    trainAcc = torch.zeros(numberepochs)\n",
        "    testAcc  = []\n",
        "\n",
        "    for epoch in range(numberepochs):\n",
        "        print('Starting epoch is: ', epoch+1)\n",
        "        net.train()\n",
        "        batchAcc = []\n",
        "        batchloss = []\n",
        "\n",
        "        for X,y in trainloader:\n",
        "\n",
        "            X = X.to(device)\n",
        "            y= y.to(device)\n",
        "\n",
        "            yHat = net(X)\n",
        "            loss = lossfun(yHat, y)\n",
        "\n",
        "            optimizer.zero_grad()\n",
        "            loss.backward()\n",
        "            optimizer.step()\n",
        "\n",
        "            batchloss.append(loss.item())\n",
        "\n",
        "            # compute accuracy\n",
        "            matches_bool = torch.argmax(yHat, axis=1) == y        # booleans (false/true)\n",
        "            matches_numeric = matches_bool.float()                # convert to numbers (0/1)\n",
        "            accuracy_percent = 100 * torch.mean(matches_numeric)  # average and x100\n",
        "            batchAcc.append(accuracy_percent.item())\n",
        "\n",
        "            # end of a batch\n",
        "        \n",
        "        trainAcc[epoch] = np.mean(batchAcc).item()\n",
        "        trainloss[epoch] = np.mean(batchloss).item()\n",
        "\n",
        "        \n",
        "        net.eval()\n",
        "        for X, y in testloader:\n",
        "            X= X.to(device)\n",
        "            y= y.to(device)\n",
        "\n",
        "            batchloss = []\n",
        "            batchAcc = []\n",
        "            with torch.no_grad():\n",
        "                yHat = net(X)\n",
        "            batchloss.append(lossfun(yHat, y).item())\n",
        "            batchAcc.append(100*torch.mean((torch.argmax(yHat,axis=1)==y).float()).item())\n",
        "        testAcc.append( np.mean(batchAcc))\n",
        "        \n",
        "        print('Number of Epoch finished: ', epoch+1)\n",
        "        # end of one epoch\n",
        "    \n",
        "    return trainAcc, testAcc, trainloss\n"
      ],
      "metadata": {
        "id": "0jcM_G_ekozW"
      },
      "execution_count": 17,
      "outputs": []
    },
    {
      "cell_type": "code",
      "source": [
        "%%time\n",
        "trainAcc , testAcc, trainloss = trainmodel(number_of_epochs = 10)"
      ],
      "metadata": {
        "id": "umE-AzAL40Jo",
        "colab": {
          "base_uri": "https://localhost:8080/"
        },
        "outputId": "5009e267-e762-456c-b306-ca2d2b959549"
      },
      "execution_count": 18,
      "outputs": [
        {
          "output_type": "stream",
          "name": "stdout",
          "text": [
            "Starting epoch is:  1\n",
            "Number of Epoch finished:  1\n",
            "Starting epoch is:  2\n",
            "Number of Epoch finished:  2\n",
            "Starting epoch is:  3\n",
            "Number of Epoch finished:  3\n",
            "Starting epoch is:  4\n",
            "Number of Epoch finished:  4\n",
            "Starting epoch is:  5\n",
            "Number of Epoch finished:  5\n",
            "Starting epoch is:  6\n",
            "Number of Epoch finished:  6\n",
            "Starting epoch is:  7\n",
            "Number of Epoch finished:  7\n",
            "Starting epoch is:  8\n",
            "Number of Epoch finished:  8\n",
            "Starting epoch is:  9\n",
            "Number of Epoch finished:  9\n",
            "Starting epoch is:  10\n",
            "Number of Epoch finished:  10\n",
            "CPU times: user 1min 42s, sys: 2.71 s, total: 1min 44s\n",
            "Wall time: 1min 51s\n"
          ]
        }
      ]
    },
    {
      "cell_type": "code",
      "source": [
        "fig,ax = plt.subplots(1,2,figsize=(10,5))\n",
        "\n",
        "ax[0].plot(trainloss,'s-')\n",
        "ax[0].set_xlabel('Epochs')\n",
        "ax[0].set_ylabel('Loss')\n",
        "ax[0].set_title('Model loss')\n",
        "\n",
        "ax[1].plot(trainAcc,'s-',label='Train')\n",
        "ax[1].plot(testAcc,'o-',label='Test')\n",
        "ax[1].set_xlabel('Epochs')\n",
        "ax[1].set_ylabel('Accuracy (%)')\n",
        "ax[1].set_title(f'Final model test accuracy: {testAcc[-1]:.2f}%')\n",
        "ax[1].legend()\n",
        "\n",
        "plt.show()"
      ],
      "metadata": {
        "id": "lcZcBMteD0L9",
        "colab": {
          "base_uri": "https://localhost:8080/",
          "height": 463
        },
        "outputId": "6ea26393-0892-4b76-bb21-869d0fdc8fd6"
      },
      "execution_count": 19,
      "outputs": [
        {
          "output_type": "display_data",
          "data": {
            "text/plain": [
              "<Figure size 720x360 with 2 Axes>"
            ],
            "image/svg+xml": "<?xml version=\"1.0\" encoding=\"utf-8\" standalone=\"no\"?>\n<!DOCTYPE svg PUBLIC \"-//W3C//DTD SVG 1.1//EN\"\n  \"http://www.w3.org/Graphics/SVG/1.1/DTD/svg11.dtd\">\n<!-- Created with matplotlib (https://matplotlib.org/) -->\n<svg height=\"331.674375pt\" version=\"1.1\" viewBox=\"0 0 608.98125 331.674375\" width=\"608.98125pt\" xmlns=\"http://www.w3.org/2000/svg\" xmlns:xlink=\"http://www.w3.org/1999/xlink\">\n <defs>\n  <style type=\"text/css\">\n*{stroke-linecap:butt;stroke-linejoin:round;}\n  </style>\n </defs>\n <g id=\"figure_1\">\n  <g id=\"patch_1\">\n   <path d=\"M 0 331.674375 \nL 608.98125 331.674375 \nL 608.98125 0 \nL 0 0 \nz\n\" style=\"fill:none;\"/>\n  </g>\n  <g id=\"axes_1\">\n   <g id=\"patch_2\">\n    <path d=\"M 43.78125 294.118125 \nL 297.417614 294.118125 \nL 297.417614 22.318125 \nL 43.78125 22.318125 \nz\n\" style=\"fill:#ffffff;\"/>\n   </g>\n   <g id=\"matplotlib.axis_1\">\n    <g id=\"xtick_1\">\n     <g id=\"line2d_1\">\n      <defs>\n       <path d=\"M 0 0 \nL 0 3.5 \n\" id=\"m83c31e2c94\" style=\"stroke:#000000;stroke-width:0.8;\"/>\n      </defs>\n      <g>\n       <use style=\"stroke:#000000;stroke-width:0.8;\" x=\"55.310176\" xlink:href=\"#m83c31e2c94\" y=\"294.118125\"/>\n      </g>\n     </g>\n     <g id=\"text_1\">\n      <!-- 0 -->\n      <defs>\n       <path d=\"M 31.78125 66.40625 \nQ 24.171875 66.40625 20.328125 58.90625 \nQ 16.5 51.421875 16.5 36.375 \nQ 16.5 21.390625 20.328125 13.890625 \nQ 24.171875 6.390625 31.78125 6.390625 \nQ 39.453125 6.390625 43.28125 13.890625 \nQ 47.125 21.390625 47.125 36.375 \nQ 47.125 51.421875 43.28125 58.90625 \nQ 39.453125 66.40625 31.78125 66.40625 \nz\nM 31.78125 74.21875 \nQ 44.046875 74.21875 50.515625 64.515625 \nQ 56.984375 54.828125 56.984375 36.375 \nQ 56.984375 17.96875 50.515625 8.265625 \nQ 44.046875 -1.421875 31.78125 -1.421875 \nQ 19.53125 -1.421875 13.0625 8.265625 \nQ 6.59375 17.96875 6.59375 36.375 \nQ 6.59375 54.828125 13.0625 64.515625 \nQ 19.53125 74.21875 31.78125 74.21875 \nz\n\" id=\"DejaVuSans-48\"/>\n      </defs>\n      <g transform=\"translate(52.128926 308.716563)scale(0.1 -0.1)\">\n       <use xlink:href=\"#DejaVuSans-48\"/>\n      </g>\n     </g>\n    </g>\n    <g id=\"xtick_2\">\n     <g id=\"line2d_2\">\n      <g>\n       <use style=\"stroke:#000000;stroke-width:0.8;\" x=\"106.549845\" xlink:href=\"#m83c31e2c94\" y=\"294.118125\"/>\n      </g>\n     </g>\n     <g id=\"text_2\">\n      <!-- 2 -->\n      <defs>\n       <path d=\"M 19.1875 8.296875 \nL 53.609375 8.296875 \nL 53.609375 0 \nL 7.328125 0 \nL 7.328125 8.296875 \nQ 12.9375 14.109375 22.625 23.890625 \nQ 32.328125 33.6875 34.8125 36.53125 \nQ 39.546875 41.84375 41.421875 45.53125 \nQ 43.3125 49.21875 43.3125 52.78125 \nQ 43.3125 58.59375 39.234375 62.25 \nQ 35.15625 65.921875 28.609375 65.921875 \nQ 23.96875 65.921875 18.8125 64.3125 \nQ 13.671875 62.703125 7.8125 59.421875 \nL 7.8125 69.390625 \nQ 13.765625 71.78125 18.9375 73 \nQ 24.125 74.21875 28.421875 74.21875 \nQ 39.75 74.21875 46.484375 68.546875 \nQ 53.21875 62.890625 53.21875 53.421875 \nQ 53.21875 48.921875 51.53125 44.890625 \nQ 49.859375 40.875 45.40625 35.40625 \nQ 44.1875 33.984375 37.640625 27.21875 \nQ 31.109375 20.453125 19.1875 8.296875 \nz\n\" id=\"DejaVuSans-50\"/>\n      </defs>\n      <g transform=\"translate(103.368595 308.716563)scale(0.1 -0.1)\">\n       <use xlink:href=\"#DejaVuSans-50\"/>\n      </g>\n     </g>\n    </g>\n    <g id=\"xtick_3\">\n     <g id=\"line2d_3\">\n      <g>\n       <use style=\"stroke:#000000;stroke-width:0.8;\" x=\"157.789514\" xlink:href=\"#m83c31e2c94\" y=\"294.118125\"/>\n      </g>\n     </g>\n     <g id=\"text_3\">\n      <!-- 4 -->\n      <defs>\n       <path d=\"M 37.796875 64.3125 \nL 12.890625 25.390625 \nL 37.796875 25.390625 \nz\nM 35.203125 72.90625 \nL 47.609375 72.90625 \nL 47.609375 25.390625 \nL 58.015625 25.390625 \nL 58.015625 17.1875 \nL 47.609375 17.1875 \nL 47.609375 0 \nL 37.796875 0 \nL 37.796875 17.1875 \nL 4.890625 17.1875 \nL 4.890625 26.703125 \nz\n\" id=\"DejaVuSans-52\"/>\n      </defs>\n      <g transform=\"translate(154.608264 308.716563)scale(0.1 -0.1)\">\n       <use xlink:href=\"#DejaVuSans-52\"/>\n      </g>\n     </g>\n    </g>\n    <g id=\"xtick_4\">\n     <g id=\"line2d_4\">\n      <g>\n       <use style=\"stroke:#000000;stroke-width:0.8;\" x=\"209.029184\" xlink:href=\"#m83c31e2c94\" y=\"294.118125\"/>\n      </g>\n     </g>\n     <g id=\"text_4\">\n      <!-- 6 -->\n      <defs>\n       <path d=\"M 33.015625 40.375 \nQ 26.375 40.375 22.484375 35.828125 \nQ 18.609375 31.296875 18.609375 23.390625 \nQ 18.609375 15.53125 22.484375 10.953125 \nQ 26.375 6.390625 33.015625 6.390625 \nQ 39.65625 6.390625 43.53125 10.953125 \nQ 47.40625 15.53125 47.40625 23.390625 \nQ 47.40625 31.296875 43.53125 35.828125 \nQ 39.65625 40.375 33.015625 40.375 \nz\nM 52.59375 71.296875 \nL 52.59375 62.3125 \nQ 48.875 64.0625 45.09375 64.984375 \nQ 41.3125 65.921875 37.59375 65.921875 \nQ 27.828125 65.921875 22.671875 59.328125 \nQ 17.53125 52.734375 16.796875 39.40625 \nQ 19.671875 43.65625 24.015625 45.921875 \nQ 28.375 48.1875 33.59375 48.1875 \nQ 44.578125 48.1875 50.953125 41.515625 \nQ 57.328125 34.859375 57.328125 23.390625 \nQ 57.328125 12.15625 50.6875 5.359375 \nQ 44.046875 -1.421875 33.015625 -1.421875 \nQ 20.359375 -1.421875 13.671875 8.265625 \nQ 6.984375 17.96875 6.984375 36.375 \nQ 6.984375 53.65625 15.1875 63.9375 \nQ 23.390625 74.21875 37.203125 74.21875 \nQ 40.921875 74.21875 44.703125 73.484375 \nQ 48.484375 72.75 52.59375 71.296875 \nz\n\" id=\"DejaVuSans-54\"/>\n      </defs>\n      <g transform=\"translate(205.847934 308.716563)scale(0.1 -0.1)\">\n       <use xlink:href=\"#DejaVuSans-54\"/>\n      </g>\n     </g>\n    </g>\n    <g id=\"xtick_5\">\n     <g id=\"line2d_5\">\n      <g>\n       <use style=\"stroke:#000000;stroke-width:0.8;\" x=\"260.268853\" xlink:href=\"#m83c31e2c94\" y=\"294.118125\"/>\n      </g>\n     </g>\n     <g id=\"text_5\">\n      <!-- 8 -->\n      <defs>\n       <path d=\"M 31.78125 34.625 \nQ 24.75 34.625 20.71875 30.859375 \nQ 16.703125 27.09375 16.703125 20.515625 \nQ 16.703125 13.921875 20.71875 10.15625 \nQ 24.75 6.390625 31.78125 6.390625 \nQ 38.8125 6.390625 42.859375 10.171875 \nQ 46.921875 13.96875 46.921875 20.515625 \nQ 46.921875 27.09375 42.890625 30.859375 \nQ 38.875 34.625 31.78125 34.625 \nz\nM 21.921875 38.8125 \nQ 15.578125 40.375 12.03125 44.71875 \nQ 8.5 49.078125 8.5 55.328125 \nQ 8.5 64.0625 14.71875 69.140625 \nQ 20.953125 74.21875 31.78125 74.21875 \nQ 42.671875 74.21875 48.875 69.140625 \nQ 55.078125 64.0625 55.078125 55.328125 \nQ 55.078125 49.078125 51.53125 44.71875 \nQ 48 40.375 41.703125 38.8125 \nQ 48.828125 37.15625 52.796875 32.3125 \nQ 56.78125 27.484375 56.78125 20.515625 \nQ 56.78125 9.90625 50.3125 4.234375 \nQ 43.84375 -1.421875 31.78125 -1.421875 \nQ 19.734375 -1.421875 13.25 4.234375 \nQ 6.78125 9.90625 6.78125 20.515625 \nQ 6.78125 27.484375 10.78125 32.3125 \nQ 14.796875 37.15625 21.921875 38.8125 \nz\nM 18.3125 54.390625 \nQ 18.3125 48.734375 21.84375 45.5625 \nQ 25.390625 42.390625 31.78125 42.390625 \nQ 38.140625 42.390625 41.71875 45.5625 \nQ 45.3125 48.734375 45.3125 54.390625 \nQ 45.3125 60.0625 41.71875 63.234375 \nQ 38.140625 66.40625 31.78125 66.40625 \nQ 25.390625 66.40625 21.84375 63.234375 \nQ 18.3125 60.0625 18.3125 54.390625 \nz\n\" id=\"DejaVuSans-56\"/>\n      </defs>\n      <g transform=\"translate(257.087603 308.716563)scale(0.1 -0.1)\">\n       <use xlink:href=\"#DejaVuSans-56\"/>\n      </g>\n     </g>\n    </g>\n    <g id=\"text_6\">\n     <!-- Epochs -->\n     <defs>\n      <path d=\"M 9.8125 72.90625 \nL 55.90625 72.90625 \nL 55.90625 64.59375 \nL 19.671875 64.59375 \nL 19.671875 43.015625 \nL 54.390625 43.015625 \nL 54.390625 34.71875 \nL 19.671875 34.71875 \nL 19.671875 8.296875 \nL 56.78125 8.296875 \nL 56.78125 0 \nL 9.8125 0 \nz\n\" id=\"DejaVuSans-69\"/>\n      <path d=\"M 18.109375 8.203125 \nL 18.109375 -20.796875 \nL 9.078125 -20.796875 \nL 9.078125 54.6875 \nL 18.109375 54.6875 \nL 18.109375 46.390625 \nQ 20.953125 51.265625 25.265625 53.625 \nQ 29.59375 56 35.59375 56 \nQ 45.5625 56 51.78125 48.09375 \nQ 58.015625 40.1875 58.015625 27.296875 \nQ 58.015625 14.40625 51.78125 6.484375 \nQ 45.5625 -1.421875 35.59375 -1.421875 \nQ 29.59375 -1.421875 25.265625 0.953125 \nQ 20.953125 3.328125 18.109375 8.203125 \nz\nM 48.6875 27.296875 \nQ 48.6875 37.203125 44.609375 42.84375 \nQ 40.53125 48.484375 33.40625 48.484375 \nQ 26.265625 48.484375 22.1875 42.84375 \nQ 18.109375 37.203125 18.109375 27.296875 \nQ 18.109375 17.390625 22.1875 11.75 \nQ 26.265625 6.109375 33.40625 6.109375 \nQ 40.53125 6.109375 44.609375 11.75 \nQ 48.6875 17.390625 48.6875 27.296875 \nz\n\" id=\"DejaVuSans-112\"/>\n      <path d=\"M 30.609375 48.390625 \nQ 23.390625 48.390625 19.1875 42.75 \nQ 14.984375 37.109375 14.984375 27.296875 \nQ 14.984375 17.484375 19.15625 11.84375 \nQ 23.34375 6.203125 30.609375 6.203125 \nQ 37.796875 6.203125 41.984375 11.859375 \nQ 46.1875 17.53125 46.1875 27.296875 \nQ 46.1875 37.015625 41.984375 42.703125 \nQ 37.796875 48.390625 30.609375 48.390625 \nz\nM 30.609375 56 \nQ 42.328125 56 49.015625 48.375 \nQ 55.71875 40.765625 55.71875 27.296875 \nQ 55.71875 13.875 49.015625 6.21875 \nQ 42.328125 -1.421875 30.609375 -1.421875 \nQ 18.84375 -1.421875 12.171875 6.21875 \nQ 5.515625 13.875 5.515625 27.296875 \nQ 5.515625 40.765625 12.171875 48.375 \nQ 18.84375 56 30.609375 56 \nz\n\" id=\"DejaVuSans-111\"/>\n      <path d=\"M 48.78125 52.59375 \nL 48.78125 44.1875 \nQ 44.96875 46.296875 41.140625 47.34375 \nQ 37.3125 48.390625 33.40625 48.390625 \nQ 24.65625 48.390625 19.8125 42.84375 \nQ 14.984375 37.3125 14.984375 27.296875 \nQ 14.984375 17.28125 19.8125 11.734375 \nQ 24.65625 6.203125 33.40625 6.203125 \nQ 37.3125 6.203125 41.140625 7.25 \nQ 44.96875 8.296875 48.78125 10.40625 \nL 48.78125 2.09375 \nQ 45.015625 0.34375 40.984375 -0.53125 \nQ 36.96875 -1.421875 32.421875 -1.421875 \nQ 20.0625 -1.421875 12.78125 6.34375 \nQ 5.515625 14.109375 5.515625 27.296875 \nQ 5.515625 40.671875 12.859375 48.328125 \nQ 20.21875 56 33.015625 56 \nQ 37.15625 56 41.109375 55.140625 \nQ 45.0625 54.296875 48.78125 52.59375 \nz\n\" id=\"DejaVuSans-99\"/>\n      <path d=\"M 54.890625 33.015625 \nL 54.890625 0 \nL 45.90625 0 \nL 45.90625 32.71875 \nQ 45.90625 40.484375 42.875 44.328125 \nQ 39.84375 48.1875 33.796875 48.1875 \nQ 26.515625 48.1875 22.3125 43.546875 \nQ 18.109375 38.921875 18.109375 30.90625 \nL 18.109375 0 \nL 9.078125 0 \nL 9.078125 75.984375 \nL 18.109375 75.984375 \nL 18.109375 46.1875 \nQ 21.34375 51.125 25.703125 53.5625 \nQ 30.078125 56 35.796875 56 \nQ 45.21875 56 50.046875 50.171875 \nQ 54.890625 44.34375 54.890625 33.015625 \nz\n\" id=\"DejaVuSans-104\"/>\n      <path d=\"M 44.28125 53.078125 \nL 44.28125 44.578125 \nQ 40.484375 46.53125 36.375 47.5 \nQ 32.28125 48.484375 27.875 48.484375 \nQ 21.1875 48.484375 17.84375 46.4375 \nQ 14.5 44.390625 14.5 40.28125 \nQ 14.5 37.15625 16.890625 35.375 \nQ 19.28125 33.59375 26.515625 31.984375 \nL 29.59375 31.296875 \nQ 39.15625 29.25 43.1875 25.515625 \nQ 47.21875 21.78125 47.21875 15.09375 \nQ 47.21875 7.46875 41.1875 3.015625 \nQ 35.15625 -1.421875 24.609375 -1.421875 \nQ 20.21875 -1.421875 15.453125 -0.5625 \nQ 10.6875 0.296875 5.421875 2 \nL 5.421875 11.28125 \nQ 10.40625 8.6875 15.234375 7.390625 \nQ 20.0625 6.109375 24.8125 6.109375 \nQ 31.15625 6.109375 34.5625 8.28125 \nQ 37.984375 10.453125 37.984375 14.40625 \nQ 37.984375 18.0625 35.515625 20.015625 \nQ 33.0625 21.96875 24.703125 23.78125 \nL 21.578125 24.515625 \nQ 13.234375 26.265625 9.515625 29.90625 \nQ 5.8125 33.546875 5.8125 39.890625 \nQ 5.8125 47.609375 11.28125 51.796875 \nQ 16.75 56 26.8125 56 \nQ 31.78125 56 36.171875 55.265625 \nQ 40.578125 54.546875 44.28125 53.078125 \nz\n\" id=\"DejaVuSans-115\"/>\n     </defs>\n     <g transform=\"translate(152.683807 322.394687)scale(0.1 -0.1)\">\n      <use xlink:href=\"#DejaVuSans-69\"/>\n      <use x=\"63.183594\" xlink:href=\"#DejaVuSans-112\"/>\n      <use x=\"126.660156\" xlink:href=\"#DejaVuSans-111\"/>\n      <use x=\"187.841797\" xlink:href=\"#DejaVuSans-99\"/>\n      <use x=\"242.822266\" xlink:href=\"#DejaVuSans-104\"/>\n      <use x=\"306.201172\" xlink:href=\"#DejaVuSans-115\"/>\n     </g>\n    </g>\n   </g>\n   <g id=\"matplotlib.axis_2\">\n    <g id=\"ytick_1\">\n     <g id=\"line2d_6\">\n      <defs>\n       <path d=\"M 0 0 \nL -3.5 0 \n\" id=\"m9d9687dc94\" style=\"stroke:#000000;stroke-width:0.8;\"/>\n      </defs>\n      <g>\n       <use style=\"stroke:#000000;stroke-width:0.8;\" x=\"43.78125\" xlink:href=\"#m9d9687dc94\" y=\"284.469881\"/>\n      </g>\n     </g>\n     <g id=\"text_7\">\n      <!-- 0.2 -->\n      <defs>\n       <path d=\"M 10.6875 12.40625 \nL 21 12.40625 \nL 21 0 \nL 10.6875 0 \nz\n\" id=\"DejaVuSans-46\"/>\n      </defs>\n      <g transform=\"translate(20.878125 288.269099)scale(0.1 -0.1)\">\n       <use xlink:href=\"#DejaVuSans-48\"/>\n       <use x=\"63.623047\" xlink:href=\"#DejaVuSans-46\"/>\n       <use x=\"95.410156\" xlink:href=\"#DejaVuSans-50\"/>\n      </g>\n     </g>\n    </g>\n    <g id=\"ytick_2\">\n     <g id=\"line2d_7\">\n      <g>\n       <use style=\"stroke:#000000;stroke-width:0.8;\" x=\"43.78125\" xlink:href=\"#m9d9687dc94\" y=\"232.828165\"/>\n      </g>\n     </g>\n     <g id=\"text_8\">\n      <!-- 0.3 -->\n      <defs>\n       <path d=\"M 40.578125 39.3125 \nQ 47.65625 37.796875 51.625 33 \nQ 55.609375 28.21875 55.609375 21.1875 \nQ 55.609375 10.40625 48.1875 4.484375 \nQ 40.765625 -1.421875 27.09375 -1.421875 \nQ 22.515625 -1.421875 17.65625 -0.515625 \nQ 12.796875 0.390625 7.625 2.203125 \nL 7.625 11.71875 \nQ 11.71875 9.328125 16.59375 8.109375 \nQ 21.484375 6.890625 26.8125 6.890625 \nQ 36.078125 6.890625 40.9375 10.546875 \nQ 45.796875 14.203125 45.796875 21.1875 \nQ 45.796875 27.640625 41.28125 31.265625 \nQ 36.765625 34.90625 28.71875 34.90625 \nL 20.21875 34.90625 \nL 20.21875 43.015625 \nL 29.109375 43.015625 \nQ 36.375 43.015625 40.234375 45.921875 \nQ 44.09375 48.828125 44.09375 54.296875 \nQ 44.09375 59.90625 40.109375 62.90625 \nQ 36.140625 65.921875 28.71875 65.921875 \nQ 24.65625 65.921875 20.015625 65.03125 \nQ 15.375 64.15625 9.8125 62.3125 \nL 9.8125 71.09375 \nQ 15.4375 72.65625 20.34375 73.4375 \nQ 25.25 74.21875 29.59375 74.21875 \nQ 40.828125 74.21875 47.359375 69.109375 \nQ 53.90625 64.015625 53.90625 55.328125 \nQ 53.90625 49.265625 50.4375 45.09375 \nQ 46.96875 40.921875 40.578125 39.3125 \nz\n\" id=\"DejaVuSans-51\"/>\n      </defs>\n      <g transform=\"translate(20.878125 236.627384)scale(0.1 -0.1)\">\n       <use xlink:href=\"#DejaVuSans-48\"/>\n       <use x=\"63.623047\" xlink:href=\"#DejaVuSans-46\"/>\n       <use x=\"95.410156\" xlink:href=\"#DejaVuSans-51\"/>\n      </g>\n     </g>\n    </g>\n    <g id=\"ytick_3\">\n     <g id=\"line2d_8\">\n      <g>\n       <use style=\"stroke:#000000;stroke-width:0.8;\" x=\"43.78125\" xlink:href=\"#m9d9687dc94\" y=\"181.186449\"/>\n      </g>\n     </g>\n     <g id=\"text_9\">\n      <!-- 0.4 -->\n      <g transform=\"translate(20.878125 184.985668)scale(0.1 -0.1)\">\n       <use xlink:href=\"#DejaVuSans-48\"/>\n       <use x=\"63.623047\" xlink:href=\"#DejaVuSans-46\"/>\n       <use x=\"95.410156\" xlink:href=\"#DejaVuSans-52\"/>\n      </g>\n     </g>\n    </g>\n    <g id=\"ytick_4\">\n     <g id=\"line2d_9\">\n      <g>\n       <use style=\"stroke:#000000;stroke-width:0.8;\" x=\"43.78125\" xlink:href=\"#m9d9687dc94\" y=\"129.544733\"/>\n      </g>\n     </g>\n     <g id=\"text_10\">\n      <!-- 0.5 -->\n      <defs>\n       <path d=\"M 10.796875 72.90625 \nL 49.515625 72.90625 \nL 49.515625 64.59375 \nL 19.828125 64.59375 \nL 19.828125 46.734375 \nQ 21.96875 47.46875 24.109375 47.828125 \nQ 26.265625 48.1875 28.421875 48.1875 \nQ 40.625 48.1875 47.75 41.5 \nQ 54.890625 34.8125 54.890625 23.390625 \nQ 54.890625 11.625 47.5625 5.09375 \nQ 40.234375 -1.421875 26.90625 -1.421875 \nQ 22.3125 -1.421875 17.546875 -0.640625 \nQ 12.796875 0.140625 7.71875 1.703125 \nL 7.71875 11.625 \nQ 12.109375 9.234375 16.796875 8.0625 \nQ 21.484375 6.890625 26.703125 6.890625 \nQ 35.15625 6.890625 40.078125 11.328125 \nQ 45.015625 15.765625 45.015625 23.390625 \nQ 45.015625 31 40.078125 35.4375 \nQ 35.15625 39.890625 26.703125 39.890625 \nQ 22.75 39.890625 18.8125 39.015625 \nQ 14.890625 38.140625 10.796875 36.28125 \nz\n\" id=\"DejaVuSans-53\"/>\n      </defs>\n      <g transform=\"translate(20.878125 133.343952)scale(0.1 -0.1)\">\n       <use xlink:href=\"#DejaVuSans-48\"/>\n       <use x=\"63.623047\" xlink:href=\"#DejaVuSans-46\"/>\n       <use x=\"95.410156\" xlink:href=\"#DejaVuSans-53\"/>\n      </g>\n     </g>\n    </g>\n    <g id=\"ytick_5\">\n     <g id=\"line2d_10\">\n      <g>\n       <use style=\"stroke:#000000;stroke-width:0.8;\" x=\"43.78125\" xlink:href=\"#m9d9687dc94\" y=\"77.903017\"/>\n      </g>\n     </g>\n     <g id=\"text_11\">\n      <!-- 0.6 -->\n      <g transform=\"translate(20.878125 81.702236)scale(0.1 -0.1)\">\n       <use xlink:href=\"#DejaVuSans-48\"/>\n       <use x=\"63.623047\" xlink:href=\"#DejaVuSans-46\"/>\n       <use x=\"95.410156\" xlink:href=\"#DejaVuSans-54\"/>\n      </g>\n     </g>\n    </g>\n    <g id=\"ytick_6\">\n     <g id=\"line2d_11\">\n      <g>\n       <use style=\"stroke:#000000;stroke-width:0.8;\" x=\"43.78125\" xlink:href=\"#m9d9687dc94\" y=\"26.261301\"/>\n      </g>\n     </g>\n     <g id=\"text_12\">\n      <!-- 0.7 -->\n      <defs>\n       <path d=\"M 8.203125 72.90625 \nL 55.078125 72.90625 \nL 55.078125 68.703125 \nL 28.609375 0 \nL 18.3125 0 \nL 43.21875 64.59375 \nL 8.203125 64.59375 \nz\n\" id=\"DejaVuSans-55\"/>\n      </defs>\n      <g transform=\"translate(20.878125 30.06052)scale(0.1 -0.1)\">\n       <use xlink:href=\"#DejaVuSans-48\"/>\n       <use x=\"63.623047\" xlink:href=\"#DejaVuSans-46\"/>\n       <use x=\"95.410156\" xlink:href=\"#DejaVuSans-55\"/>\n      </g>\n     </g>\n    </g>\n    <g id=\"text_13\">\n     <!-- Loss -->\n     <defs>\n      <path d=\"M 9.8125 72.90625 \nL 19.671875 72.90625 \nL 19.671875 8.296875 \nL 55.171875 8.296875 \nL 55.171875 0 \nL 9.8125 0 \nz\n\" id=\"DejaVuSans-76\"/>\n     </defs>\n     <g transform=\"translate(14.798438 169.185313)rotate(-90)scale(0.1 -0.1)\">\n      <use xlink:href=\"#DejaVuSans-76\"/>\n      <use x=\"53.962891\" xlink:href=\"#DejaVuSans-111\"/>\n      <use x=\"115.144531\" xlink:href=\"#DejaVuSans-115\"/>\n      <use x=\"167.244141\" xlink:href=\"#DejaVuSans-115\"/>\n     </g>\n    </g>\n   </g>\n   <g id=\"line2d_12\">\n    <path clip-path=\"url(#p4a48a8d6c7)\" d=\"M 55.310176 34.67267 \nL 80.93001 180.314563 \nL 106.549845 217.668584 \nL 132.16968 236.402078 \nL 157.789514 248.298219 \nL 183.409349 256.042546 \nL 209.029184 265.508522 \nL 234.649019 270.785439 \nL 260.268853 276.612949 \nL 285.888688 281.76358 \n\" style=\"fill:none;stroke:#1f77b4;stroke-linecap:square;stroke-width:1.5;\"/>\n    <defs>\n     <path d=\"M -3 3 \nL 3 3 \nL 3 -3 \nL -3 -3 \nz\n\" id=\"m4bc8bdab73\" style=\"stroke:#1f77b4;stroke-linejoin:miter;\"/>\n    </defs>\n    <g clip-path=\"url(#p4a48a8d6c7)\">\n     <use style=\"fill:#1f77b4;stroke:#1f77b4;stroke-linejoin:miter;\" x=\"55.310176\" xlink:href=\"#m4bc8bdab73\" y=\"34.67267\"/>\n     <use style=\"fill:#1f77b4;stroke:#1f77b4;stroke-linejoin:miter;\" x=\"80.93001\" xlink:href=\"#m4bc8bdab73\" y=\"180.314563\"/>\n     <use style=\"fill:#1f77b4;stroke:#1f77b4;stroke-linejoin:miter;\" x=\"106.549845\" xlink:href=\"#m4bc8bdab73\" y=\"217.668584\"/>\n     <use style=\"fill:#1f77b4;stroke:#1f77b4;stroke-linejoin:miter;\" x=\"132.16968\" xlink:href=\"#m4bc8bdab73\" y=\"236.402078\"/>\n     <use style=\"fill:#1f77b4;stroke:#1f77b4;stroke-linejoin:miter;\" x=\"157.789514\" xlink:href=\"#m4bc8bdab73\" y=\"248.298219\"/>\n     <use style=\"fill:#1f77b4;stroke:#1f77b4;stroke-linejoin:miter;\" x=\"183.409349\" xlink:href=\"#m4bc8bdab73\" y=\"256.042546\"/>\n     <use style=\"fill:#1f77b4;stroke:#1f77b4;stroke-linejoin:miter;\" x=\"209.029184\" xlink:href=\"#m4bc8bdab73\" y=\"265.508522\"/>\n     <use style=\"fill:#1f77b4;stroke:#1f77b4;stroke-linejoin:miter;\" x=\"234.649019\" xlink:href=\"#m4bc8bdab73\" y=\"270.785439\"/>\n     <use style=\"fill:#1f77b4;stroke:#1f77b4;stroke-linejoin:miter;\" x=\"260.268853\" xlink:href=\"#m4bc8bdab73\" y=\"276.612949\"/>\n     <use style=\"fill:#1f77b4;stroke:#1f77b4;stroke-linejoin:miter;\" x=\"285.888688\" xlink:href=\"#m4bc8bdab73\" y=\"281.76358\"/>\n    </g>\n   </g>\n   <g id=\"patch_3\">\n    <path d=\"M 43.78125 294.118125 \nL 43.78125 22.318125 \n\" style=\"fill:none;stroke:#000000;stroke-linecap:square;stroke-linejoin:miter;stroke-width:0.8;\"/>\n   </g>\n   <g id=\"patch_4\">\n    <path d=\"M 297.417614 294.118125 \nL 297.417614 22.318125 \n\" style=\"fill:none;stroke:#000000;stroke-linecap:square;stroke-linejoin:miter;stroke-width:0.8;\"/>\n   </g>\n   <g id=\"patch_5\">\n    <path d=\"M 43.78125 294.118125 \nL 297.417614 294.118125 \n\" style=\"fill:none;stroke:#000000;stroke-linecap:square;stroke-linejoin:miter;stroke-width:0.8;\"/>\n   </g>\n   <g id=\"patch_6\">\n    <path d=\"M 43.78125 22.318125 \nL 297.417614 22.318125 \n\" style=\"fill:none;stroke:#000000;stroke-linecap:square;stroke-linejoin:miter;stroke-width:0.8;\"/>\n   </g>\n   <g id=\"text_14\">\n    <!-- Model loss -->\n    <defs>\n     <path d=\"M 9.8125 72.90625 \nL 24.515625 72.90625 \nL 43.109375 23.296875 \nL 61.8125 72.90625 \nL 76.515625 72.90625 \nL 76.515625 0 \nL 66.890625 0 \nL 66.890625 64.015625 \nL 48.09375 14.015625 \nL 38.1875 14.015625 \nL 19.390625 64.015625 \nL 19.390625 0 \nL 9.8125 0 \nz\n\" id=\"DejaVuSans-77\"/>\n     <path d=\"M 45.40625 46.390625 \nL 45.40625 75.984375 \nL 54.390625 75.984375 \nL 54.390625 0 \nL 45.40625 0 \nL 45.40625 8.203125 \nQ 42.578125 3.328125 38.25 0.953125 \nQ 33.9375 -1.421875 27.875 -1.421875 \nQ 17.96875 -1.421875 11.734375 6.484375 \nQ 5.515625 14.40625 5.515625 27.296875 \nQ 5.515625 40.1875 11.734375 48.09375 \nQ 17.96875 56 27.875 56 \nQ 33.9375 56 38.25 53.625 \nQ 42.578125 51.265625 45.40625 46.390625 \nz\nM 14.796875 27.296875 \nQ 14.796875 17.390625 18.875 11.75 \nQ 22.953125 6.109375 30.078125 6.109375 \nQ 37.203125 6.109375 41.296875 11.75 \nQ 45.40625 17.390625 45.40625 27.296875 \nQ 45.40625 37.203125 41.296875 42.84375 \nQ 37.203125 48.484375 30.078125 48.484375 \nQ 22.953125 48.484375 18.875 42.84375 \nQ 14.796875 37.203125 14.796875 27.296875 \nz\n\" id=\"DejaVuSans-100\"/>\n     <path d=\"M 56.203125 29.59375 \nL 56.203125 25.203125 \nL 14.890625 25.203125 \nQ 15.484375 15.921875 20.484375 11.0625 \nQ 25.484375 6.203125 34.421875 6.203125 \nQ 39.59375 6.203125 44.453125 7.46875 \nQ 49.3125 8.734375 54.109375 11.28125 \nL 54.109375 2.78125 \nQ 49.265625 0.734375 44.1875 -0.34375 \nQ 39.109375 -1.421875 33.890625 -1.421875 \nQ 20.796875 -1.421875 13.15625 6.1875 \nQ 5.515625 13.8125 5.515625 26.8125 \nQ 5.515625 40.234375 12.765625 48.109375 \nQ 20.015625 56 32.328125 56 \nQ 43.359375 56 49.78125 48.890625 \nQ 56.203125 41.796875 56.203125 29.59375 \nz\nM 47.21875 32.234375 \nQ 47.125 39.59375 43.09375 43.984375 \nQ 39.0625 48.390625 32.421875 48.390625 \nQ 24.90625 48.390625 20.390625 44.140625 \nQ 15.875 39.890625 15.1875 32.171875 \nz\n\" id=\"DejaVuSans-101\"/>\n     <path d=\"M 9.421875 75.984375 \nL 18.40625 75.984375 \nL 18.40625 0 \nL 9.421875 0 \nz\n\" id=\"DejaVuSans-108\"/>\n     <path id=\"DejaVuSans-32\"/>\n    </defs>\n    <g transform=\"translate(139.087244 16.318125)scale(0.12 -0.12)\">\n     <use xlink:href=\"#DejaVuSans-77\"/>\n     <use x=\"86.279297\" xlink:href=\"#DejaVuSans-111\"/>\n     <use x=\"147.460938\" xlink:href=\"#DejaVuSans-100\"/>\n     <use x=\"210.9375\" xlink:href=\"#DejaVuSans-101\"/>\n     <use x=\"272.460938\" xlink:href=\"#DejaVuSans-108\"/>\n     <use x=\"300.244141\" xlink:href=\"#DejaVuSans-32\"/>\n     <use x=\"332.03125\" xlink:href=\"#DejaVuSans-108\"/>\n     <use x=\"359.814453\" xlink:href=\"#DejaVuSans-111\"/>\n     <use x=\"420.996094\" xlink:href=\"#DejaVuSans-115\"/>\n     <use x=\"473.095703\" xlink:href=\"#DejaVuSans-115\"/>\n    </g>\n   </g>\n  </g>\n  <g id=\"axes_2\">\n   <g id=\"patch_7\">\n    <path d=\"M 348.144886 294.118125 \nL 601.78125 294.118125 \nL 601.78125 22.318125 \nL 348.144886 22.318125 \nz\n\" style=\"fill:#ffffff;\"/>\n   </g>\n   <g id=\"matplotlib.axis_3\">\n    <g id=\"xtick_6\">\n     <g id=\"line2d_13\">\n      <g>\n       <use style=\"stroke:#000000;stroke-width:0.8;\" x=\"359.673812\" xlink:href=\"#m83c31e2c94\" y=\"294.118125\"/>\n      </g>\n     </g>\n     <g id=\"text_15\">\n      <!-- 0 -->\n      <g transform=\"translate(356.492562 308.716563)scale(0.1 -0.1)\">\n       <use xlink:href=\"#DejaVuSans-48\"/>\n      </g>\n     </g>\n    </g>\n    <g id=\"xtick_7\">\n     <g id=\"line2d_14\">\n      <g>\n       <use style=\"stroke:#000000;stroke-width:0.8;\" x=\"410.913481\" xlink:href=\"#m83c31e2c94\" y=\"294.118125\"/>\n      </g>\n     </g>\n     <g id=\"text_16\">\n      <!-- 2 -->\n      <g transform=\"translate(407.732231 308.716563)scale(0.1 -0.1)\">\n       <use xlink:href=\"#DejaVuSans-50\"/>\n      </g>\n     </g>\n    </g>\n    <g id=\"xtick_8\">\n     <g id=\"line2d_15\">\n      <g>\n       <use style=\"stroke:#000000;stroke-width:0.8;\" x=\"462.153151\" xlink:href=\"#m83c31e2c94\" y=\"294.118125\"/>\n      </g>\n     </g>\n     <g id=\"text_17\">\n      <!-- 4 -->\n      <g transform=\"translate(458.971901 308.716563)scale(0.1 -0.1)\">\n       <use xlink:href=\"#DejaVuSans-52\"/>\n      </g>\n     </g>\n    </g>\n    <g id=\"xtick_9\">\n     <g id=\"line2d_16\">\n      <g>\n       <use style=\"stroke:#000000;stroke-width:0.8;\" x=\"513.39282\" xlink:href=\"#m83c31e2c94\" y=\"294.118125\"/>\n      </g>\n     </g>\n     <g id=\"text_18\">\n      <!-- 6 -->\n      <g transform=\"translate(510.21157 308.716563)scale(0.1 -0.1)\">\n       <use xlink:href=\"#DejaVuSans-54\"/>\n      </g>\n     </g>\n    </g>\n    <g id=\"xtick_10\">\n     <g id=\"line2d_17\">\n      <g>\n       <use style=\"stroke:#000000;stroke-width:0.8;\" x=\"564.63249\" xlink:href=\"#m83c31e2c94\" y=\"294.118125\"/>\n      </g>\n     </g>\n     <g id=\"text_19\">\n      <!-- 8 -->\n      <g transform=\"translate(561.45124 308.716563)scale(0.1 -0.1)\">\n       <use xlink:href=\"#DejaVuSans-56\"/>\n      </g>\n     </g>\n    </g>\n    <g id=\"text_20\">\n     <!-- Epochs -->\n     <g transform=\"translate(457.047443 322.394687)scale(0.1 -0.1)\">\n      <use xlink:href=\"#DejaVuSans-69\"/>\n      <use x=\"63.183594\" xlink:href=\"#DejaVuSans-112\"/>\n      <use x=\"126.660156\" xlink:href=\"#DejaVuSans-111\"/>\n      <use x=\"187.841797\" xlink:href=\"#DejaVuSans-99\"/>\n      <use x=\"242.822266\" xlink:href=\"#DejaVuSans-104\"/>\n      <use x=\"306.201172\" xlink:href=\"#DejaVuSans-115\"/>\n     </g>\n    </g>\n   </g>\n   <g id=\"matplotlib.axis_4\">\n    <g id=\"ytick_7\">\n     <g id=\"line2d_18\">\n      <g>\n       <use style=\"stroke:#000000;stroke-width:0.8;\" x=\"348.144886\" xlink:href=\"#m9d9687dc94\" y=\"267.247748\"/>\n      </g>\n     </g>\n     <g id=\"text_21\">\n      <!-- 75 -->\n      <g transform=\"translate(328.419886 271.046967)scale(0.1 -0.1)\">\n       <use xlink:href=\"#DejaVuSans-55\"/>\n       <use x=\"63.623047\" xlink:href=\"#DejaVuSans-53\"/>\n      </g>\n     </g>\n    </g>\n    <g id=\"ytick_8\">\n     <g id=\"line2d_19\">\n      <g>\n       <use style=\"stroke:#000000;stroke-width:0.8;\" x=\"348.144886\" xlink:href=\"#m9d9687dc94\" y=\"212.980234\"/>\n      </g>\n     </g>\n     <g id=\"text_22\">\n      <!-- 80 -->\n      <g transform=\"translate(328.419886 216.779453)scale(0.1 -0.1)\">\n       <use xlink:href=\"#DejaVuSans-56\"/>\n       <use x=\"63.623047\" xlink:href=\"#DejaVuSans-48\"/>\n      </g>\n     </g>\n    </g>\n    <g id=\"ytick_9\">\n     <g id=\"line2d_20\">\n      <g>\n       <use style=\"stroke:#000000;stroke-width:0.8;\" x=\"348.144886\" xlink:href=\"#m9d9687dc94\" y=\"158.712721\"/>\n      </g>\n     </g>\n     <g id=\"text_23\">\n      <!-- 85 -->\n      <g transform=\"translate(328.419886 162.511939)scale(0.1 -0.1)\">\n       <use xlink:href=\"#DejaVuSans-56\"/>\n       <use x=\"63.623047\" xlink:href=\"#DejaVuSans-53\"/>\n      </g>\n     </g>\n    </g>\n    <g id=\"ytick_10\">\n     <g id=\"line2d_21\">\n      <g>\n       <use style=\"stroke:#000000;stroke-width:0.8;\" x=\"348.144886\" xlink:href=\"#m9d9687dc94\" y=\"104.445207\"/>\n      </g>\n     </g>\n     <g id=\"text_24\">\n      <!-- 90 -->\n      <defs>\n       <path d=\"M 10.984375 1.515625 \nL 10.984375 10.5 \nQ 14.703125 8.734375 18.5 7.8125 \nQ 22.3125 6.890625 25.984375 6.890625 \nQ 35.75 6.890625 40.890625 13.453125 \nQ 46.046875 20.015625 46.78125 33.40625 \nQ 43.953125 29.203125 39.59375 26.953125 \nQ 35.25 24.703125 29.984375 24.703125 \nQ 19.046875 24.703125 12.671875 31.3125 \nQ 6.296875 37.9375 6.296875 49.421875 \nQ 6.296875 60.640625 12.9375 67.421875 \nQ 19.578125 74.21875 30.609375 74.21875 \nQ 43.265625 74.21875 49.921875 64.515625 \nQ 56.59375 54.828125 56.59375 36.375 \nQ 56.59375 19.140625 48.40625 8.859375 \nQ 40.234375 -1.421875 26.421875 -1.421875 \nQ 22.703125 -1.421875 18.890625 -0.6875 \nQ 15.09375 0.046875 10.984375 1.515625 \nz\nM 30.609375 32.421875 \nQ 37.25 32.421875 41.125 36.953125 \nQ 45.015625 41.5 45.015625 49.421875 \nQ 45.015625 57.28125 41.125 61.84375 \nQ 37.25 66.40625 30.609375 66.40625 \nQ 23.96875 66.40625 20.09375 61.84375 \nQ 16.21875 57.28125 16.21875 49.421875 \nQ 16.21875 41.5 20.09375 36.953125 \nQ 23.96875 32.421875 30.609375 32.421875 \nz\n\" id=\"DejaVuSans-57\"/>\n      </defs>\n      <g transform=\"translate(328.419886 108.244425)scale(0.1 -0.1)\">\n       <use xlink:href=\"#DejaVuSans-57\"/>\n       <use x=\"63.623047\" xlink:href=\"#DejaVuSans-48\"/>\n      </g>\n     </g>\n    </g>\n    <g id=\"ytick_11\">\n     <g id=\"line2d_22\">\n      <g>\n       <use style=\"stroke:#000000;stroke-width:0.8;\" x=\"348.144886\" xlink:href=\"#m9d9687dc94\" y=\"50.177693\"/>\n      </g>\n     </g>\n     <g id=\"text_25\">\n      <!-- 95 -->\n      <g transform=\"translate(328.419886 53.976912)scale(0.1 -0.1)\">\n       <use xlink:href=\"#DejaVuSans-57\"/>\n       <use x=\"63.623047\" xlink:href=\"#DejaVuSans-53\"/>\n      </g>\n     </g>\n    </g>\n    <g id=\"text_26\">\n     <!-- Accuracy (%) -->\n     <defs>\n      <path d=\"M 34.1875 63.1875 \nL 20.796875 26.90625 \nL 47.609375 26.90625 \nz\nM 28.609375 72.90625 \nL 39.796875 72.90625 \nL 67.578125 0 \nL 57.328125 0 \nL 50.6875 18.703125 \nL 17.828125 18.703125 \nL 11.1875 0 \nL 0.78125 0 \nz\n\" id=\"DejaVuSans-65\"/>\n      <path d=\"M 8.5 21.578125 \nL 8.5 54.6875 \nL 17.484375 54.6875 \nL 17.484375 21.921875 \nQ 17.484375 14.15625 20.5 10.265625 \nQ 23.53125 6.390625 29.59375 6.390625 \nQ 36.859375 6.390625 41.078125 11.03125 \nQ 45.3125 15.671875 45.3125 23.6875 \nL 45.3125 54.6875 \nL 54.296875 54.6875 \nL 54.296875 0 \nL 45.3125 0 \nL 45.3125 8.40625 \nQ 42.046875 3.421875 37.71875 1 \nQ 33.40625 -1.421875 27.6875 -1.421875 \nQ 18.265625 -1.421875 13.375 4.4375 \nQ 8.5 10.296875 8.5 21.578125 \nz\nM 31.109375 56 \nz\n\" id=\"DejaVuSans-117\"/>\n      <path d=\"M 41.109375 46.296875 \nQ 39.59375 47.171875 37.8125 47.578125 \nQ 36.03125 48 33.890625 48 \nQ 26.265625 48 22.1875 43.046875 \nQ 18.109375 38.09375 18.109375 28.8125 \nL 18.109375 0 \nL 9.078125 0 \nL 9.078125 54.6875 \nL 18.109375 54.6875 \nL 18.109375 46.1875 \nQ 20.953125 51.171875 25.484375 53.578125 \nQ 30.03125 56 36.53125 56 \nQ 37.453125 56 38.578125 55.875 \nQ 39.703125 55.765625 41.0625 55.515625 \nz\n\" id=\"DejaVuSans-114\"/>\n      <path d=\"M 34.28125 27.484375 \nQ 23.390625 27.484375 19.1875 25 \nQ 14.984375 22.515625 14.984375 16.5 \nQ 14.984375 11.71875 18.140625 8.90625 \nQ 21.296875 6.109375 26.703125 6.109375 \nQ 34.1875 6.109375 38.703125 11.40625 \nQ 43.21875 16.703125 43.21875 25.484375 \nL 43.21875 27.484375 \nz\nM 52.203125 31.203125 \nL 52.203125 0 \nL 43.21875 0 \nL 43.21875 8.296875 \nQ 40.140625 3.328125 35.546875 0.953125 \nQ 30.953125 -1.421875 24.3125 -1.421875 \nQ 15.921875 -1.421875 10.953125 3.296875 \nQ 6 8.015625 6 15.921875 \nQ 6 25.140625 12.171875 29.828125 \nQ 18.359375 34.515625 30.609375 34.515625 \nL 43.21875 34.515625 \nL 43.21875 35.40625 \nQ 43.21875 41.609375 39.140625 45 \nQ 35.0625 48.390625 27.6875 48.390625 \nQ 23 48.390625 18.546875 47.265625 \nQ 14.109375 46.140625 10.015625 43.890625 \nL 10.015625 52.203125 \nQ 14.9375 54.109375 19.578125 55.046875 \nQ 24.21875 56 28.609375 56 \nQ 40.484375 56 46.34375 49.84375 \nQ 52.203125 43.703125 52.203125 31.203125 \nz\n\" id=\"DejaVuSans-97\"/>\n      <path d=\"M 32.171875 -5.078125 \nQ 28.375 -14.84375 24.75 -17.8125 \nQ 21.140625 -20.796875 15.09375 -20.796875 \nL 7.90625 -20.796875 \nL 7.90625 -13.28125 \nL 13.1875 -13.28125 \nQ 16.890625 -13.28125 18.9375 -11.515625 \nQ 21 -9.765625 23.484375 -3.21875 \nL 25.09375 0.875 \nL 2.984375 54.6875 \nL 12.5 54.6875 \nL 29.59375 11.921875 \nL 46.6875 54.6875 \nL 56.203125 54.6875 \nz\n\" id=\"DejaVuSans-121\"/>\n      <path d=\"M 31 75.875 \nQ 24.46875 64.65625 21.28125 53.65625 \nQ 18.109375 42.671875 18.109375 31.390625 \nQ 18.109375 20.125 21.3125 9.0625 \nQ 24.515625 -2 31 -13.1875 \nL 23.1875 -13.1875 \nQ 15.875 -1.703125 12.234375 9.375 \nQ 8.59375 20.453125 8.59375 31.390625 \nQ 8.59375 42.28125 12.203125 53.3125 \nQ 15.828125 64.359375 23.1875 75.875 \nz\n\" id=\"DejaVuSans-40\"/>\n      <path d=\"M 72.703125 32.078125 \nQ 68.453125 32.078125 66.03125 28.46875 \nQ 63.625 24.859375 63.625 18.40625 \nQ 63.625 12.0625 66.03125 8.421875 \nQ 68.453125 4.78125 72.703125 4.78125 \nQ 76.859375 4.78125 79.265625 8.421875 \nQ 81.6875 12.0625 81.6875 18.40625 \nQ 81.6875 24.8125 79.265625 28.4375 \nQ 76.859375 32.078125 72.703125 32.078125 \nz\nM 72.703125 38.28125 \nQ 80.421875 38.28125 84.953125 32.90625 \nQ 89.5 27.546875 89.5 18.40625 \nQ 89.5 9.28125 84.9375 3.921875 \nQ 80.375 -1.421875 72.703125 -1.421875 \nQ 64.890625 -1.421875 60.34375 3.921875 \nQ 55.8125 9.28125 55.8125 18.40625 \nQ 55.8125 27.59375 60.375 32.9375 \nQ 64.9375 38.28125 72.703125 38.28125 \nz\nM 22.3125 68.015625 \nQ 18.109375 68.015625 15.6875 64.375 \nQ 13.28125 60.75 13.28125 54.390625 \nQ 13.28125 47.953125 15.671875 44.328125 \nQ 18.0625 40.71875 22.3125 40.71875 \nQ 26.5625 40.71875 28.96875 44.328125 \nQ 31.390625 47.953125 31.390625 54.390625 \nQ 31.390625 60.6875 28.953125 64.34375 \nQ 26.515625 68.015625 22.3125 68.015625 \nz\nM 66.40625 74.21875 \nL 74.21875 74.21875 \nL 28.609375 -1.421875 \nL 20.796875 -1.421875 \nz\nM 22.3125 74.21875 \nQ 30.03125 74.21875 34.609375 68.875 \nQ 39.203125 63.53125 39.203125 54.390625 \nQ 39.203125 45.171875 34.640625 39.84375 \nQ 30.078125 34.515625 22.3125 34.515625 \nQ 14.546875 34.515625 10.03125 39.859375 \nQ 5.515625 45.21875 5.515625 54.390625 \nQ 5.515625 63.484375 10.046875 68.84375 \nQ 14.59375 74.21875 22.3125 74.21875 \nz\n\" id=\"DejaVuSans-37\"/>\n      <path d=\"M 8.015625 75.875 \nL 15.828125 75.875 \nQ 23.140625 64.359375 26.78125 53.3125 \nQ 30.421875 42.28125 30.421875 31.390625 \nQ 30.421875 20.453125 26.78125 9.375 \nQ 23.140625 -1.703125 15.828125 -13.1875 \nL 8.015625 -13.1875 \nQ 14.5 -2 17.703125 9.0625 \nQ 20.90625 20.125 20.90625 31.390625 \nQ 20.90625 42.671875 17.703125 53.65625 \nQ 14.5 64.65625 8.015625 75.875 \nz\n\" id=\"DejaVuSans-41\"/>\n     </defs>\n     <g transform=\"translate(322.340199 191.287656)rotate(-90)scale(0.1 -0.1)\">\n      <use xlink:href=\"#DejaVuSans-65\"/>\n      <use x=\"66.658203\" xlink:href=\"#DejaVuSans-99\"/>\n      <use x=\"121.638672\" xlink:href=\"#DejaVuSans-99\"/>\n      <use x=\"176.619141\" xlink:href=\"#DejaVuSans-117\"/>\n      <use x=\"239.998047\" xlink:href=\"#DejaVuSans-114\"/>\n      <use x=\"281.111328\" xlink:href=\"#DejaVuSans-97\"/>\n      <use x=\"342.390625\" xlink:href=\"#DejaVuSans-99\"/>\n      <use x=\"397.371094\" xlink:href=\"#DejaVuSans-121\"/>\n      <use x=\"456.550781\" xlink:href=\"#DejaVuSans-32\"/>\n      <use x=\"488.337891\" xlink:href=\"#DejaVuSans-40\"/>\n      <use x=\"527.351562\" xlink:href=\"#DejaVuSans-37\"/>\n      <use x=\"622.371094\" xlink:href=\"#DejaVuSans-41\"/>\n     </g>\n    </g>\n   </g>\n   <g id=\"line2d_23\">\n    <path clip-path=\"url(#pb68dab1949)\" d=\"M 359.673812 281.76358 \nL 385.293647 158.01707 \nL 410.913481 129.00553 \nL 436.533316 115.133015 \nL 462.153151 105.502718 \nL 487.772986 98.244802 \nL 513.39282 92.454534 \nL 539.012655 88.232522 \nL 564.63249 83.628445 \nL 590.252324 80.110033 \n\" style=\"fill:none;stroke:#1f77b4;stroke-linecap:square;stroke-width:1.5;\"/>\n    <g clip-path=\"url(#pb68dab1949)\">\n     <use style=\"fill:#1f77b4;stroke:#1f77b4;stroke-linejoin:miter;\" x=\"359.673812\" xlink:href=\"#m4bc8bdab73\" y=\"281.76358\"/>\n     <use style=\"fill:#1f77b4;stroke:#1f77b4;stroke-linejoin:miter;\" x=\"385.293647\" xlink:href=\"#m4bc8bdab73\" y=\"158.01707\"/>\n     <use style=\"fill:#1f77b4;stroke:#1f77b4;stroke-linejoin:miter;\" x=\"410.913481\" xlink:href=\"#m4bc8bdab73\" y=\"129.00553\"/>\n     <use style=\"fill:#1f77b4;stroke:#1f77b4;stroke-linejoin:miter;\" x=\"436.533316\" xlink:href=\"#m4bc8bdab73\" y=\"115.133015\"/>\n     <use style=\"fill:#1f77b4;stroke:#1f77b4;stroke-linejoin:miter;\" x=\"462.153151\" xlink:href=\"#m4bc8bdab73\" y=\"105.502718\"/>\n     <use style=\"fill:#1f77b4;stroke:#1f77b4;stroke-linejoin:miter;\" x=\"487.772986\" xlink:href=\"#m4bc8bdab73\" y=\"98.244802\"/>\n     <use style=\"fill:#1f77b4;stroke:#1f77b4;stroke-linejoin:miter;\" x=\"513.39282\" xlink:href=\"#m4bc8bdab73\" y=\"92.454534\"/>\n     <use style=\"fill:#1f77b4;stroke:#1f77b4;stroke-linejoin:miter;\" x=\"539.012655\" xlink:href=\"#m4bc8bdab73\" y=\"88.232522\"/>\n     <use style=\"fill:#1f77b4;stroke:#1f77b4;stroke-linejoin:miter;\" x=\"564.63249\" xlink:href=\"#m4bc8bdab73\" y=\"83.628445\"/>\n     <use style=\"fill:#1f77b4;stroke:#1f77b4;stroke-linejoin:miter;\" x=\"590.252324\" xlink:href=\"#m4bc8bdab73\" y=\"80.110033\"/>\n    </g>\n   </g>\n   <g id=\"line2d_24\">\n    <path clip-path=\"url(#pb68dab1949)\" d=\"M 359.673812 189.722701 \nL 385.293647 131.578899 \nL 410.913481 131.578899 \nL 436.533316 83.125752 \nL 462.153151 83.125752 \nL 487.772986 83.125752 \nL 513.39282 92.816408 \nL 539.012655 63.744507 \nL 564.63249 34.67267 \nL 590.252324 54.053916 \n\" style=\"fill:none;stroke:#ff7f0e;stroke-linecap:square;stroke-width:1.5;\"/>\n    <defs>\n     <path d=\"M 0 3 \nC 0.795609 3 1.55874 2.683901 2.12132 2.12132 \nC 2.683901 1.55874 3 0.795609 3 0 \nC 3 -0.795609 2.683901 -1.55874 2.12132 -2.12132 \nC 1.55874 -2.683901 0.795609 -3 0 -3 \nC -0.795609 -3 -1.55874 -2.683901 -2.12132 -2.12132 \nC -2.683901 -1.55874 -3 -0.795609 -3 0 \nC -3 0.795609 -2.683901 1.55874 -2.12132 2.12132 \nC -1.55874 2.683901 -0.795609 3 0 3 \nz\n\" id=\"m2805fd13b7\" style=\"stroke:#ff7f0e;\"/>\n    </defs>\n    <g clip-path=\"url(#pb68dab1949)\">\n     <use style=\"fill:#ff7f0e;stroke:#ff7f0e;\" x=\"359.673812\" xlink:href=\"#m2805fd13b7\" y=\"189.722701\"/>\n     <use style=\"fill:#ff7f0e;stroke:#ff7f0e;\" x=\"385.293647\" xlink:href=\"#m2805fd13b7\" y=\"131.578899\"/>\n     <use style=\"fill:#ff7f0e;stroke:#ff7f0e;\" x=\"410.913481\" xlink:href=\"#m2805fd13b7\" y=\"131.578899\"/>\n     <use style=\"fill:#ff7f0e;stroke:#ff7f0e;\" x=\"436.533316\" xlink:href=\"#m2805fd13b7\" y=\"83.125752\"/>\n     <use style=\"fill:#ff7f0e;stroke:#ff7f0e;\" x=\"462.153151\" xlink:href=\"#m2805fd13b7\" y=\"83.125752\"/>\n     <use style=\"fill:#ff7f0e;stroke:#ff7f0e;\" x=\"487.772986\" xlink:href=\"#m2805fd13b7\" y=\"83.125752\"/>\n     <use style=\"fill:#ff7f0e;stroke:#ff7f0e;\" x=\"513.39282\" xlink:href=\"#m2805fd13b7\" y=\"92.816408\"/>\n     <use style=\"fill:#ff7f0e;stroke:#ff7f0e;\" x=\"539.012655\" xlink:href=\"#m2805fd13b7\" y=\"63.744507\"/>\n     <use style=\"fill:#ff7f0e;stroke:#ff7f0e;\" x=\"564.63249\" xlink:href=\"#m2805fd13b7\" y=\"34.67267\"/>\n     <use style=\"fill:#ff7f0e;stroke:#ff7f0e;\" x=\"590.252324\" xlink:href=\"#m2805fd13b7\" y=\"54.053916\"/>\n    </g>\n   </g>\n   <g id=\"patch_8\">\n    <path d=\"M 348.144886 294.118125 \nL 348.144886 22.318125 \n\" style=\"fill:none;stroke:#000000;stroke-linecap:square;stroke-linejoin:miter;stroke-width:0.8;\"/>\n   </g>\n   <g id=\"patch_9\">\n    <path d=\"M 601.78125 294.118125 \nL 601.78125 22.318125 \n\" style=\"fill:none;stroke:#000000;stroke-linecap:square;stroke-linejoin:miter;stroke-width:0.8;\"/>\n   </g>\n   <g id=\"patch_10\">\n    <path d=\"M 348.144886 294.118125 \nL 601.78125 294.118125 \n\" style=\"fill:none;stroke:#000000;stroke-linecap:square;stroke-linejoin:miter;stroke-width:0.8;\"/>\n   </g>\n   <g id=\"patch_11\">\n    <path d=\"M 348.144886 22.318125 \nL 601.78125 22.318125 \n\" style=\"fill:none;stroke:#000000;stroke-linecap:square;stroke-linejoin:miter;stroke-width:0.8;\"/>\n   </g>\n   <g id=\"text_27\">\n    <!-- Final model test accuracy: 94.64% -->\n    <defs>\n     <path d=\"M 9.8125 72.90625 \nL 51.703125 72.90625 \nL 51.703125 64.59375 \nL 19.671875 64.59375 \nL 19.671875 43.109375 \nL 48.578125 43.109375 \nL 48.578125 34.8125 \nL 19.671875 34.8125 \nL 19.671875 0 \nL 9.8125 0 \nz\n\" id=\"DejaVuSans-70\"/>\n     <path d=\"M 9.421875 54.6875 \nL 18.40625 54.6875 \nL 18.40625 0 \nL 9.421875 0 \nz\nM 9.421875 75.984375 \nL 18.40625 75.984375 \nL 18.40625 64.59375 \nL 9.421875 64.59375 \nz\n\" id=\"DejaVuSans-105\"/>\n     <path d=\"M 54.890625 33.015625 \nL 54.890625 0 \nL 45.90625 0 \nL 45.90625 32.71875 \nQ 45.90625 40.484375 42.875 44.328125 \nQ 39.84375 48.1875 33.796875 48.1875 \nQ 26.515625 48.1875 22.3125 43.546875 \nQ 18.109375 38.921875 18.109375 30.90625 \nL 18.109375 0 \nL 9.078125 0 \nL 9.078125 54.6875 \nL 18.109375 54.6875 \nL 18.109375 46.1875 \nQ 21.34375 51.125 25.703125 53.5625 \nQ 30.078125 56 35.796875 56 \nQ 45.21875 56 50.046875 50.171875 \nQ 54.890625 44.34375 54.890625 33.015625 \nz\n\" id=\"DejaVuSans-110\"/>\n     <path d=\"M 52 44.1875 \nQ 55.375 50.25 60.0625 53.125 \nQ 64.75 56 71.09375 56 \nQ 79.640625 56 84.28125 50.015625 \nQ 88.921875 44.046875 88.921875 33.015625 \nL 88.921875 0 \nL 79.890625 0 \nL 79.890625 32.71875 \nQ 79.890625 40.578125 77.09375 44.375 \nQ 74.3125 48.1875 68.609375 48.1875 \nQ 61.625 48.1875 57.5625 43.546875 \nQ 53.515625 38.921875 53.515625 30.90625 \nL 53.515625 0 \nL 44.484375 0 \nL 44.484375 32.71875 \nQ 44.484375 40.625 41.703125 44.40625 \nQ 38.921875 48.1875 33.109375 48.1875 \nQ 26.21875 48.1875 22.15625 43.53125 \nQ 18.109375 38.875 18.109375 30.90625 \nL 18.109375 0 \nL 9.078125 0 \nL 9.078125 54.6875 \nL 18.109375 54.6875 \nL 18.109375 46.1875 \nQ 21.1875 51.21875 25.484375 53.609375 \nQ 29.78125 56 35.6875 56 \nQ 41.65625 56 45.828125 52.96875 \nQ 50 49.953125 52 44.1875 \nz\n\" id=\"DejaVuSans-109\"/>\n     <path d=\"M 18.3125 70.21875 \nL 18.3125 54.6875 \nL 36.8125 54.6875 \nL 36.8125 47.703125 \nL 18.3125 47.703125 \nL 18.3125 18.015625 \nQ 18.3125 11.328125 20.140625 9.421875 \nQ 21.96875 7.515625 27.59375 7.515625 \nL 36.8125 7.515625 \nL 36.8125 0 \nL 27.59375 0 \nQ 17.1875 0 13.234375 3.875 \nQ 9.28125 7.765625 9.28125 18.015625 \nL 9.28125 47.703125 \nL 2.6875 47.703125 \nL 2.6875 54.6875 \nL 9.28125 54.6875 \nL 9.28125 70.21875 \nz\n\" id=\"DejaVuSans-116\"/>\n     <path d=\"M 11.71875 12.40625 \nL 22.015625 12.40625 \nL 22.015625 0 \nL 11.71875 0 \nz\nM 11.71875 51.703125 \nL 22.015625 51.703125 \nL 22.015625 39.3125 \nL 11.71875 39.3125 \nz\n\" id=\"DejaVuSans-58\"/>\n    </defs>\n    <g transform=\"translate(371.765881 16.318125)scale(0.12 -0.12)\">\n     <use xlink:href=\"#DejaVuSans-70\"/>\n     <use x=\"50.269531\" xlink:href=\"#DejaVuSans-105\"/>\n     <use x=\"78.052734\" xlink:href=\"#DejaVuSans-110\"/>\n     <use x=\"141.431641\" xlink:href=\"#DejaVuSans-97\"/>\n     <use x=\"202.710938\" xlink:href=\"#DejaVuSans-108\"/>\n     <use x=\"230.494141\" xlink:href=\"#DejaVuSans-32\"/>\n     <use x=\"262.28125\" xlink:href=\"#DejaVuSans-109\"/>\n     <use x=\"359.693359\" xlink:href=\"#DejaVuSans-111\"/>\n     <use x=\"420.875\" xlink:href=\"#DejaVuSans-100\"/>\n     <use x=\"484.351562\" xlink:href=\"#DejaVuSans-101\"/>\n     <use x=\"545.875\" xlink:href=\"#DejaVuSans-108\"/>\n     <use x=\"573.658203\" xlink:href=\"#DejaVuSans-32\"/>\n     <use x=\"605.445312\" xlink:href=\"#DejaVuSans-116\"/>\n     <use x=\"644.654297\" xlink:href=\"#DejaVuSans-101\"/>\n     <use x=\"706.177734\" xlink:href=\"#DejaVuSans-115\"/>\n     <use x=\"758.277344\" xlink:href=\"#DejaVuSans-116\"/>\n     <use x=\"797.486328\" xlink:href=\"#DejaVuSans-32\"/>\n     <use x=\"829.273438\" xlink:href=\"#DejaVuSans-97\"/>\n     <use x=\"890.552734\" xlink:href=\"#DejaVuSans-99\"/>\n     <use x=\"945.533203\" xlink:href=\"#DejaVuSans-99\"/>\n     <use x=\"1000.513672\" xlink:href=\"#DejaVuSans-117\"/>\n     <use x=\"1063.892578\" xlink:href=\"#DejaVuSans-114\"/>\n     <use x=\"1105.005859\" xlink:href=\"#DejaVuSans-97\"/>\n     <use x=\"1166.285156\" xlink:href=\"#DejaVuSans-99\"/>\n     <use x=\"1221.265625\" xlink:href=\"#DejaVuSans-121\"/>\n     <use x=\"1273.195312\" xlink:href=\"#DejaVuSans-58\"/>\n     <use x=\"1306.886719\" xlink:href=\"#DejaVuSans-32\"/>\n     <use x=\"1338.673828\" xlink:href=\"#DejaVuSans-57\"/>\n     <use x=\"1402.296875\" xlink:href=\"#DejaVuSans-52\"/>\n     <use x=\"1465.919922\" xlink:href=\"#DejaVuSans-46\"/>\n     <use x=\"1497.707031\" xlink:href=\"#DejaVuSans-54\"/>\n     <use x=\"1561.330078\" xlink:href=\"#DejaVuSans-52\"/>\n     <use x=\"1624.953125\" xlink:href=\"#DejaVuSans-37\"/>\n    </g>\n   </g>\n   <g id=\"legend_1\">\n    <g id=\"patch_12\">\n     <path d=\"M 355.144886 59.674375 \nL 411.132386 59.674375 \nQ 413.132386 59.674375 413.132386 57.674375 \nL 413.132386 29.318125 \nQ 413.132386 27.318125 411.132386 27.318125 \nL 355.144886 27.318125 \nQ 353.144886 27.318125 353.144886 29.318125 \nL 353.144886 57.674375 \nQ 353.144886 59.674375 355.144886 59.674375 \nz\n\" style=\"fill:#ffffff;opacity:0.8;stroke:#cccccc;stroke-linejoin:miter;\"/>\n    </g>\n    <g id=\"line2d_25\">\n     <path d=\"M 357.144886 35.416562 \nL 377.144886 35.416562 \n\" style=\"fill:none;stroke:#1f77b4;stroke-linecap:square;stroke-width:1.5;\"/>\n    </g>\n    <g id=\"line2d_26\">\n     <g>\n      <use style=\"fill:#1f77b4;stroke:#1f77b4;stroke-linejoin:miter;\" x=\"367.144886\" xlink:href=\"#m4bc8bdab73\" y=\"35.416562\"/>\n     </g>\n    </g>\n    <g id=\"text_28\">\n     <!-- Train -->\n     <defs>\n      <path d=\"M -0.296875 72.90625 \nL 61.375 72.90625 \nL 61.375 64.59375 \nL 35.5 64.59375 \nL 35.5 0 \nL 25.59375 0 \nL 25.59375 64.59375 \nL -0.296875 64.59375 \nz\n\" id=\"DejaVuSans-84\"/>\n     </defs>\n     <g transform=\"translate(385.144886 38.916562)scale(0.1 -0.1)\">\n      <use xlink:href=\"#DejaVuSans-84\"/>\n      <use x=\"46.333984\" xlink:href=\"#DejaVuSans-114\"/>\n      <use x=\"87.447266\" xlink:href=\"#DejaVuSans-97\"/>\n      <use x=\"148.726562\" xlink:href=\"#DejaVuSans-105\"/>\n      <use x=\"176.509766\" xlink:href=\"#DejaVuSans-110\"/>\n     </g>\n    </g>\n    <g id=\"line2d_27\">\n     <path d=\"M 357.144886 50.094688 \nL 377.144886 50.094688 \n\" style=\"fill:none;stroke:#ff7f0e;stroke-linecap:square;stroke-width:1.5;\"/>\n    </g>\n    <g id=\"line2d_28\">\n     <g>\n      <use style=\"fill:#ff7f0e;stroke:#ff7f0e;\" x=\"367.144886\" xlink:href=\"#m2805fd13b7\" y=\"50.094688\"/>\n     </g>\n    </g>\n    <g id=\"text_29\">\n     <!-- Test -->\n     <g transform=\"translate(385.144886 53.594688)scale(0.1 -0.1)\">\n      <use xlink:href=\"#DejaVuSans-84\"/>\n      <use x=\"44.083984\" xlink:href=\"#DejaVuSans-101\"/>\n      <use x=\"105.607422\" xlink:href=\"#DejaVuSans-115\"/>\n      <use x=\"157.707031\" xlink:href=\"#DejaVuSans-116\"/>\n     </g>\n    </g>\n   </g>\n  </g>\n </g>\n <defs>\n  <clipPath id=\"p4a48a8d6c7\">\n   <rect height=\"271.8\" width=\"253.636364\" x=\"43.78125\" y=\"22.318125\"/>\n  </clipPath>\n  <clipPath id=\"pb68dab1949\">\n   <rect height=\"271.8\" width=\"253.636364\" x=\"348.144886\" y=\"22.318125\"/>\n  </clipPath>\n </defs>\n</svg>\n"
          },
          "metadata": {
            "needs_background": "light"
          }
        }
      ]
    },
    {
      "cell_type": "markdown",
      "source": [
        "# 2- from torchvision"
      ],
      "metadata": {
        "id": "5ktCprDhYFnk"
      }
    },
    {
      "cell_type": "code",
      "source": [
        "# # transformations\n",
        "# transform = T.Compose([ T.ToTensor(),\n",
        "#                         T.Normalize([.5,.5,.5],[.5,.5,.5])\n",
        "#                        ])\n",
        "\n",
        "# trainset = torchvision.datasets.FashionMNIST(root='./data', train=True,  download=True, transform=transform)\n",
        "# devtest  = torchvision.datasets.FashionMNIST(root='./data', train=False, download=True, transform=transform)"
      ],
      "metadata": {
        "id": "hY9XM8sELPg7"
      },
      "execution_count": 20,
      "outputs": []
    },
    {
      "cell_type": "code",
      "source": [
        "# print(trainset.data.shape)\n",
        "# print(devtest.data.shape)\n",
        "# print(trainset.classes)\n",
        "# print(len(trainset.classes))\n",
        "# print(trainset.targets)"
      ],
      "metadata": {
        "id": "KmQ2H1pNN7gF"
      },
      "execution_count": 21,
      "outputs": []
    },
    {
      "cell_type": "markdown",
      "source": [
        "# COURSE: A deep understanding of deep learning\n",
        "## SECTION: CNN milestone projects\n",
        "### LECTURE: Project 3: FMNIST\n",
        "#### TEACHER: Mike X Cohen, sincxpress.com\n",
        "##### COURSE URL: udemy.com/course/dudl/?couponCode=202108"
      ],
      "metadata": {
        "id": "iA_w6z6270Im"
      }
    },
    {
      "cell_type": "code",
      "source": [
        "# import libraries\n",
        "import numpy as np\n",
        "\n",
        "import torch\n",
        "import torch.nn as nn\n",
        "import torch.nn.functional as F\n",
        "\n",
        "# for importing data\n",
        "import torchvision\n",
        "import torchvision.transforms as T\n",
        "from torch.utils.data import DataLoader,Subset\n",
        "\n",
        "import matplotlib.pyplot as plt\n",
        "from IPython import display\n",
        "display.set_matplotlib_formats('svg')"
      ],
      "metadata": {
        "id": "qrz6tYQH7zjm"
      },
      "execution_count": 1,
      "outputs": []
    },
    {
      "cell_type": "code",
      "source": [
        "# use GPU if available\n",
        "device = torch.device('cuda:0' if torch.cuda.is_available() else 'cpu')"
      ],
      "metadata": {
        "id": "u7ZltUxd72pI"
      },
      "execution_count": 2,
      "outputs": []
    },
    {
      "cell_type": "code",
      "source": [
        "# transformations\n",
        "transform = T.Compose([ T.ToTensor(),\n",
        "                        T.RandomHorizontalFlip(p=.5),\n",
        "                        T.Normalize(.5,.5),\n",
        "                       ])\n",
        "\n",
        "# import the data and simultaneously apply the transform\n",
        "trainset = torchvision.datasets.FashionMNIST(root='./data', train=True,  download=True, transform=transform)\n",
        "devtest  = torchvision.datasets.FashionMNIST(root='./data', train=False, download=True, transform=transform)\n",
        "\n",
        "# split the devtest into two separate sets\n",
        "randidx = np.random.permutation(10000)   # a random permutation of indices\n",
        "devset  = Subset(devtest,randidx[:6000]) # Subset for devset\n",
        "testset = Subset(devtest,randidx[6000:]) # Subset for test\n",
        "\n",
        "# transform to dataloaders\n",
        "batchsize    = 32\n",
        "train_loader = DataLoader(trainset,batch_size=batchsize,shuffle=True,drop_last=True)\n",
        "dev_loader   = DataLoader(devset,  batch_size=len(devset))\n",
        "test_loader  = DataLoader(testset, batch_size=len(testset))"
      ],
      "metadata": {
        "colab": {
          "base_uri": "https://localhost:8080/",
          "height": 436,
          "referenced_widgets": [
            "957dbc9b55554bd39655d4332da7895f",
            "573a4207168c4a7a973d1fe5d6b67843",
            "fe735f7be71a4ec186312b811f89a00c",
            "a593ed54a239453db58bb2429541af66",
            "1877d80cd3394e64b1d9cbc73b5a222d",
            "4f2837f9633f4e8c88ed263fe3004689",
            "baab9fcb75ff4a32a8fc860d3ee8bed1",
            "70110ff48dd84b0ebe0f016847bc26a3",
            "65a820847cee4949b4de2b068037b3c5",
            "881fa9f67701402b98d03e938749ebfa",
            "4ec37bf8e8e148aa8455d605a97c2682",
            "1323b72d29ad490bab51c95664d53eeb",
            "ed61a67981254b35b26a6f8743d5a836",
            "bc5d2d0a80264dacaef1e179bb3072ce",
            "b7cbdde5c1a64eecacdaf1092f281f28",
            "ede2a0f4808d46b7a3b125c5d29d7313",
            "38c8ca25400144b2b74a061564c4e858",
            "b1a72d38a4a44448a788d6567c091bf2",
            "eb35f17860614f1eb91a8abfa4647a4b",
            "1539d6375c8849809612869ef912549b",
            "028b35d2d0e842e79da3e1020d2e3967",
            "6342ec1a4995450988db166d90ed8ff3",
            "099b38c3a70b4ea78c34e813f2ba6d19",
            "3b69811b39ae4d2aa08d45838924e848",
            "f113c08d592a4e6eb661e30966ef5922",
            "80cde027de8c4cceb39cac68e71a2486",
            "6c1f86ee0efe4bf69f00346794129266",
            "f166ed9c995d454aa63c81662c8971df",
            "a777ee3b8d344916948bc82a2e764255",
            "61dc94deb0284612abb59e2f5ec84f58",
            "e2649bdf64f2438eb9272907f11bb36c",
            "2d4c0a3bbaf14bd4b50d20955d5532cc",
            "ddc9469d164c4b3f85062ca5ac1add4f",
            "1c2915531b9f47b992e6786b11173354",
            "f78ed3499e49414e8baa2d5349df181a",
            "ff7f81edce294e37a2ce9582a022d0a8",
            "4d159f26f6b64fe79623ceee9745c61f",
            "970bdb6943084acbbd8cd7ef6bda6c08",
            "7fad7125d7f043359930bba5376f6005",
            "145bdfb11dcc4ed1b4a07e2d20a0c9e6",
            "7676c7cf521b4792a6cac543a1eaef18",
            "8adb572a3b014111a4979decd75c8acc",
            "6776bd50ea0542c9b0eed152680c0552",
            "9785415654a6401bbec7f343b7c24aec"
          ]
        },
        "id": "k0XhlGa272mg",
        "outputId": "8e047605-ce02-4020-e893-276c99be2c35"
      },
      "execution_count": 3,
      "outputs": [
        {
          "output_type": "stream",
          "name": "stdout",
          "text": [
            "Downloading http://fashion-mnist.s3-website.eu-central-1.amazonaws.com/train-images-idx3-ubyte.gz\n",
            "Downloading http://fashion-mnist.s3-website.eu-central-1.amazonaws.com/train-images-idx3-ubyte.gz to ./data/FashionMNIST/raw/train-images-idx3-ubyte.gz\n"
          ]
        },
        {
          "output_type": "display_data",
          "data": {
            "text/plain": [
              "  0%|          | 0/26421880 [00:00<?, ?it/s]"
            ],
            "application/vnd.jupyter.widget-view+json": {
              "version_major": 2,
              "version_minor": 0,
              "model_id": "957dbc9b55554bd39655d4332da7895f"
            }
          },
          "metadata": {}
        },
        {
          "output_type": "stream",
          "name": "stdout",
          "text": [
            "Extracting ./data/FashionMNIST/raw/train-images-idx3-ubyte.gz to ./data/FashionMNIST/raw\n",
            "\n",
            "Downloading http://fashion-mnist.s3-website.eu-central-1.amazonaws.com/train-labels-idx1-ubyte.gz\n",
            "Downloading http://fashion-mnist.s3-website.eu-central-1.amazonaws.com/train-labels-idx1-ubyte.gz to ./data/FashionMNIST/raw/train-labels-idx1-ubyte.gz\n"
          ]
        },
        {
          "output_type": "display_data",
          "data": {
            "text/plain": [
              "  0%|          | 0/29515 [00:00<?, ?it/s]"
            ],
            "application/vnd.jupyter.widget-view+json": {
              "version_major": 2,
              "version_minor": 0,
              "model_id": "1323b72d29ad490bab51c95664d53eeb"
            }
          },
          "metadata": {}
        },
        {
          "output_type": "stream",
          "name": "stdout",
          "text": [
            "Extracting ./data/FashionMNIST/raw/train-labels-idx1-ubyte.gz to ./data/FashionMNIST/raw\n",
            "\n",
            "Downloading http://fashion-mnist.s3-website.eu-central-1.amazonaws.com/t10k-images-idx3-ubyte.gz\n",
            "Downloading http://fashion-mnist.s3-website.eu-central-1.amazonaws.com/t10k-images-idx3-ubyte.gz to ./data/FashionMNIST/raw/t10k-images-idx3-ubyte.gz\n"
          ]
        },
        {
          "output_type": "display_data",
          "data": {
            "text/plain": [
              "  0%|          | 0/4422102 [00:00<?, ?it/s]"
            ],
            "application/vnd.jupyter.widget-view+json": {
              "version_major": 2,
              "version_minor": 0,
              "model_id": "099b38c3a70b4ea78c34e813f2ba6d19"
            }
          },
          "metadata": {}
        },
        {
          "output_type": "stream",
          "name": "stdout",
          "text": [
            "Extracting ./data/FashionMNIST/raw/t10k-images-idx3-ubyte.gz to ./data/FashionMNIST/raw\n",
            "\n",
            "Downloading http://fashion-mnist.s3-website.eu-central-1.amazonaws.com/t10k-labels-idx1-ubyte.gz\n",
            "Downloading http://fashion-mnist.s3-website.eu-central-1.amazonaws.com/t10k-labels-idx1-ubyte.gz to ./data/FashionMNIST/raw/t10k-labels-idx1-ubyte.gz\n"
          ]
        },
        {
          "output_type": "display_data",
          "data": {
            "text/plain": [
              "  0%|          | 0/5148 [00:00<?, ?it/s]"
            ],
            "application/vnd.jupyter.widget-view+json": {
              "version_major": 2,
              "version_minor": 0,
              "model_id": "1c2915531b9f47b992e6786b11173354"
            }
          },
          "metadata": {}
        },
        {
          "output_type": "stream",
          "name": "stdout",
          "text": [
            "Extracting ./data/FashionMNIST/raw/t10k-labels-idx1-ubyte.gz to ./data/FashionMNIST/raw\n",
            "\n"
          ]
        }
      ]
    },
    {
      "cell_type": "code",
      "source": [
        "# check out the shape of the datasets\n",
        "print('Data shapes (train/dev/test):')\n",
        "print( len(trainset) )\n",
        "print( len(devset) )\n",
        "print( len(testset) )\n",
        "\n",
        "# and the range of pixel intensity values\n",
        "print('\\nData value range:')\n",
        "print( (torch.min(trainset.data),torch.max(trainset.data)) )\n",
        "\n",
        "# the unique categories\n",
        "print('\\nData categories:')\n",
        "print( trainset.classes )"
      ],
      "metadata": {
        "colab": {
          "base_uri": "https://localhost:8080/"
        },
        "id": "95_DIMDI72j-",
        "outputId": "0b1c0d9b-633d-4441-c259-ece03e9ba60c"
      },
      "execution_count": 4,
      "outputs": [
        {
          "output_type": "stream",
          "name": "stdout",
          "text": [
            "Data shapes (train/dev/test):\n",
            "60000\n",
            "6000\n",
            "4000\n",
            "\n",
            "Data value range:\n",
            "(tensor(0, dtype=torch.uint8), tensor(255, dtype=torch.uint8))\n",
            "\n",
            "Data categories:\n",
            "['T-shirt/top', 'Trouser', 'Pullover', 'Dress', 'Coat', 'Sandal', 'Shirt', 'Sneaker', 'Bag', 'Ankle boot']\n"
          ]
        }
      ]
    },
    {
      "cell_type": "code",
      "source": [
        "# Uh oh! It looks like the images are the wrong dimensions!\n",
        "# They need to be 1x28x328\n",
        "# And they are not normalized!\n",
        "\n",
        "# but...\n",
        "X,y = next(iter(test_loader))\n",
        "\n",
        "# try again\n",
        "print('Data shapes (train/test):')\n",
        "print( X.data.shape )\n",
        "\n",
        "# and the range of pixel intensity values\n",
        "print('\\nData value range:')\n",
        "print( (torch.min(X.data),torch.max(X.data)) )"
      ],
      "metadata": {
        "colab": {
          "base_uri": "https://localhost:8080/"
        },
        "id": "LxFDzfDt72hf",
        "outputId": "ee6b354b-74b2-44e9-f2cc-a99e6df2ed65"
      },
      "execution_count": 5,
      "outputs": [
        {
          "output_type": "stream",
          "name": "stdout",
          "text": [
            "Data shapes (train/test):\n",
            "torch.Size([4000, 1, 28, 28])\n",
            "\n",
            "Data value range:\n",
            "(tensor(-1.), tensor(1.))\n"
          ]
        }
      ]
    },
    {
      "cell_type": "code",
      "source": [
        "# inspect a few random images\n",
        "\n",
        "fig,axs = plt.subplots(3,6,figsize=(10,6))\n",
        "\n",
        "for (i,ax) in enumerate(axs.flatten()):\n",
        "\n",
        "  # extract that image\n",
        "  pic = torch.squeeze(X.data[i])\n",
        "  pic = pic/2 + .5 # undo normalization\n",
        "  \n",
        "  # and its label\n",
        "  label = trainset.classes[y[i]]\n",
        "\n",
        "  # and show!\n",
        "  ax.imshow(pic,cmap='gray')\n",
        "  ax.text(14,0,label,ha='center',fontweight='bold',color='k',backgroundcolor='y')\n",
        "  ax.axis('off')\n",
        "\n",
        "plt.tight_layout()\n",
        "plt.show()"
      ],
      "metadata": {
        "colab": {
          "base_uri": "https://localhost:8080/",
          "height": 556
        },
        "id": "0C92MEFT72e-",
        "outputId": "811b1c6c-6017-495f-c601-08fcc80462a7"
      },
      "execution_count": 6,
      "outputs": [
        {
          "output_type": "display_data",
          "data": {
            "text/plain": [
              "<Figure size 720x432 with 18 Axes>"
            ],
            "image/svg+xml": "<?xml version=\"1.0\" encoding=\"utf-8\" standalone=\"no\"?>\n<!DOCTYPE svg PUBLIC \"-//W3C//DTD SVG 1.1//EN\"\n  \"http://www.w3.org/Graphics/SVG/1.1/DTD/svg11.dtd\">\n<!-- Created with matplotlib (https://matplotlib.org/) -->\n<svg height=\"401.85485pt\" version=\"1.1\" viewBox=\"0 0 712.8 401.85485\" width=\"712.8pt\" xmlns=\"http://www.w3.org/2000/svg\" xmlns:xlink=\"http://www.w3.org/1999/xlink\">\n <defs>\n  <style type=\"text/css\">\n*{stroke-linecap:butt;stroke-linejoin:round;}\n  </style>\n </defs>\n <g id=\"figure_1\">\n  <g id=\"patch_1\">\n   <path d=\"M 0 401.85485 \nL 712.8 401.85485 \nL 712.8 0 \nL 0 0 \nz\n\" style=\"fill:none;\"/>\n  </g>\n  <g id=\"axes_1\">\n   <g clip-path=\"url(#pd1fe456799)\">\n    <image height=\"108\" id=\"imageeec23f4724\" transform=\"scale(1 -1)translate(0 -108)\" width=\"108\" x=\"7.2\" xlink:href=\"data:image/png;base64,\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\" y=\"-12.28058\"/>\n   </g>\n   <g id=\"text_1\">\n    <g id=\"patch_2\">\n     <path d=\"M 45.949107 20.878125 \nL 79.686607 20.878125 \nL 79.686607 3.2 \nL 45.949107 3.2 \nz\n\" style=\"fill:#bfbf00;stroke:#bfbf00;stroke-linejoin:miter;\"/>\n    </g>\n    <!-- Coat -->\n    <defs>\n     <path d=\"M 67 4 \nQ 61.8125 1.3125 56.203125 -0.046875 \nQ 50.59375 -1.421875 44.484375 -1.421875 \nQ 26.265625 -1.421875 15.625 8.765625 \nQ 4.984375 18.953125 4.984375 36.375 \nQ 4.984375 53.859375 15.625 64.03125 \nQ 26.265625 74.21875 44.484375 74.21875 \nQ 50.59375 74.21875 56.203125 72.84375 \nQ 61.8125 71.484375 67 68.796875 \nL 67 53.71875 \nQ 61.765625 57.28125 56.6875 58.9375 \nQ 51.609375 60.59375 46 60.59375 \nQ 35.9375 60.59375 30.171875 54.140625 \nQ 24.421875 47.703125 24.421875 36.375 \nQ 24.421875 25.09375 30.171875 18.640625 \nQ 35.9375 12.203125 46 12.203125 \nQ 51.609375 12.203125 56.6875 13.859375 \nQ 61.765625 15.53125 67 19.09375 \nz\n\" id=\"DejaVuSans-Bold-67\"/>\n     <path d=\"M 34.421875 43.5 \nQ 28.609375 43.5 25.5625 39.328125 \nQ 22.515625 35.15625 22.515625 27.296875 \nQ 22.515625 19.4375 25.5625 15.25 \nQ 28.609375 11.078125 34.421875 11.078125 \nQ 40.140625 11.078125 43.15625 15.25 \nQ 46.1875 19.4375 46.1875 27.296875 \nQ 46.1875 35.15625 43.15625 39.328125 \nQ 40.140625 43.5 34.421875 43.5 \nz\nM 34.421875 56 \nQ 48.53125 56 56.46875 48.375 \nQ 64.40625 40.765625 64.40625 27.296875 \nQ 64.40625 13.8125 56.46875 6.1875 \nQ 48.53125 -1.421875 34.421875 -1.421875 \nQ 20.265625 -1.421875 12.28125 6.1875 \nQ 4.296875 13.8125 4.296875 27.296875 \nQ 4.296875 40.765625 12.28125 48.375 \nQ 20.265625 56 34.421875 56 \nz\n\" id=\"DejaVuSans-Bold-111\"/>\n     <path d=\"M 32.90625 24.609375 \nQ 27.4375 24.609375 24.671875 22.75 \nQ 21.921875 20.90625 21.921875 17.28125 \nQ 21.921875 13.96875 24.140625 12.078125 \nQ 26.375 10.203125 30.328125 10.203125 \nQ 35.25 10.203125 38.625 13.734375 \nQ 42 17.28125 42 22.609375 \nL 42 24.609375 \nz\nM 59.625 31.203125 \nL 59.625 0 \nL 42 0 \nL 42 8.109375 \nQ 38.484375 3.125 34.078125 0.84375 \nQ 29.6875 -1.421875 23.390625 -1.421875 \nQ 14.890625 -1.421875 9.59375 3.53125 \nQ 4.296875 8.5 4.296875 16.40625 \nQ 4.296875 26.03125 10.90625 30.515625 \nQ 17.53125 35.015625 31.6875 35.015625 \nL 42 35.015625 \nL 42 36.375 \nQ 42 40.53125 38.71875 42.453125 \nQ 35.453125 44.390625 28.515625 44.390625 \nQ 22.90625 44.390625 18.0625 43.265625 \nQ 13.234375 42.140625 9.078125 39.890625 \nL 9.078125 53.21875 \nQ 14.703125 54.59375 20.359375 55.296875 \nQ 26.03125 56 31.6875 56 \nQ 46.484375 56 53.046875 50.171875 \nQ 59.625 44.34375 59.625 31.203125 \nz\n\" id=\"DejaVuSans-Bold-97\"/>\n     <path d=\"M 27.484375 70.21875 \nL 27.484375 54.6875 \nL 45.515625 54.6875 \nL 45.515625 42.1875 \nL 27.484375 42.1875 \nL 27.484375 19 \nQ 27.484375 15.1875 29 13.84375 \nQ 30.515625 12.5 35.015625 12.5 \nL 44 12.5 \nL 44 0 \nL 29 0 \nQ 18.65625 0 14.328125 4.3125 \nQ 10.015625 8.640625 10.015625 19 \nL 10.015625 42.1875 \nL 1.3125 42.1875 \nL 1.3125 54.6875 \nL 10.015625 54.6875 \nL 10.015625 70.21875 \nz\n\" id=\"DejaVuSans-Bold-116\"/>\n    </defs>\n    <g transform=\"translate(49.949107 14.798437)scale(0.1 -0.1)\">\n     <use xlink:href=\"#DejaVuSans-Bold-67\"/>\n     <use x=\"73.388672\" xlink:href=\"#DejaVuSans-Bold-111\"/>\n     <use x=\"142.089844\" xlink:href=\"#DejaVuSans-Bold-97\"/>\n     <use x=\"209.570312\" xlink:href=\"#DejaVuSans-Bold-116\"/>\n    </g>\n   </g>\n  </g>\n  <g id=\"axes_2\">\n   <g clip-path=\"url(#p483372b212)\">\n    <image height=\"108\" id=\"image1acef8721d\" transform=\"scale(1 -1)translate(0 -108)\" width=\"108\" x=\"125.4\" xlink:href=\"data:image/png;base64,\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\" y=\"-12.28058\"/>\n   </g>\n   <g id=\"text_2\">\n    <g id=\"patch_3\">\n     <path d=\"M 166.253795 20.95625 \nL 195.78192 20.95625 \nL 195.78192 3.278125 \nL 166.253795 3.278125 \nz\n\" style=\"fill:#bfbf00;stroke:#bfbf00;stroke-linejoin:miter;\"/>\n    </g>\n    <!-- Bag -->\n    <defs>\n     <path d=\"M 38.375 44.671875 \nQ 42.828125 44.671875 45.109375 46.625 \nQ 47.40625 48.578125 47.40625 52.390625 \nQ 47.40625 56.15625 45.109375 58.125 \nQ 42.828125 60.109375 38.375 60.109375 \nL 27.984375 60.109375 \nL 27.984375 44.671875 \nz\nM 39.015625 12.796875 \nQ 44.671875 12.796875 47.53125 15.1875 \nQ 50.390625 17.578125 50.390625 22.40625 \nQ 50.390625 27.15625 47.5625 29.515625 \nQ 44.734375 31.890625 39.015625 31.890625 \nL 27.984375 31.890625 \nL 27.984375 12.796875 \nz\nM 56.5 39.015625 \nQ 62.546875 37.25 65.859375 32.515625 \nQ 69.1875 27.78125 69.1875 20.90625 \nQ 69.1875 10.359375 62.0625 5.171875 \nQ 54.9375 0 40.375 0 \nL 9.1875 0 \nL 9.1875 72.90625 \nL 37.40625 72.90625 \nQ 52.59375 72.90625 59.40625 68.3125 \nQ 66.21875 63.71875 66.21875 53.609375 \nQ 66.21875 48.296875 63.71875 44.5625 \nQ 61.234375 40.828125 56.5 39.015625 \nz\n\" id=\"DejaVuSans-Bold-66\"/>\n     <path d=\"M 45.609375 9.28125 \nQ 42 4.5 37.640625 2.25 \nQ 33.296875 0 27.59375 0 \nQ 17.578125 0 11.03125 7.875 \nQ 4.5 15.765625 4.5 27.984375 \nQ 4.5 40.234375 11.03125 48.0625 \nQ 17.578125 55.90625 27.59375 55.90625 \nQ 33.296875 55.90625 37.640625 53.65625 \nQ 42 51.421875 45.609375 46.578125 \nL 45.609375 54.6875 \nL 63.1875 54.6875 \nL 63.1875 5.515625 \nQ 63.1875 -7.671875 54.859375 -14.625 \nQ 46.53125 -21.578125 30.71875 -21.578125 \nQ 25.59375 -21.578125 20.796875 -20.796875 \nQ 16.015625 -20.015625 11.1875 -18.40625 \nL 11.1875 -4.78125 \nQ 15.765625 -7.421875 20.15625 -8.71875 \nQ 24.5625 -10.015625 29 -10.015625 \nQ 37.59375 -10.015625 41.59375 -6.25 \nQ 45.609375 -2.484375 45.609375 5.515625 \nz\nM 34.078125 43.3125 \nQ 28.65625 43.3125 25.625 39.296875 \nQ 22.609375 35.296875 22.609375 27.984375 \nQ 22.609375 20.453125 25.53125 16.578125 \nQ 28.46875 12.703125 34.078125 12.703125 \nQ 39.546875 12.703125 42.578125 16.703125 \nQ 45.609375 20.703125 45.609375 27.984375 \nQ 45.609375 35.296875 42.578125 39.296875 \nQ 39.546875 43.3125 34.078125 43.3125 \nz\n\" id=\"DejaVuSans-Bold-103\"/>\n    </defs>\n    <g transform=\"translate(170.253795 14.798437)scale(0.1 -0.1)\">\n     <use xlink:href=\"#DejaVuSans-Bold-66\"/>\n     <use x=\"76.220703\" xlink:href=\"#DejaVuSans-Bold-97\"/>\n     <use x=\"143.701172\" xlink:href=\"#DejaVuSans-Bold-103\"/>\n    </g>\n   </g>\n  </g>\n  <g id=\"axes_3\">\n   <g clip-path=\"url(#p5e17a0117a)\">\n    <image height=\"108\" id=\"image72b862f713\" transform=\"scale(1 -1)translate(0 -108)\" width=\"108\" x=\"243.6\" xlink:href=\"data:image/png;base64,\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\" y=\"-12.28058\"/>\n   </g>\n   <g id=\"text_3\">\n    <g id=\"patch_4\">\n     <path d=\"M 264.778795 20.878125 \nL 333.65692 20.878125 \nL 333.65692 3.2 \nL 264.778795 3.2 \nz\n\" style=\"fill:#bfbf00;stroke:#bfbf00;stroke-linejoin:miter;\"/>\n    </g>\n    <!-- Ankle boot -->\n    <defs>\n     <path d=\"M 53.421875 13.28125 \nL 24.03125 13.28125 \nL 19.390625 0 \nL 0.484375 0 \nL 27.484375 72.90625 \nL 49.90625 72.90625 \nL 76.90625 0 \nL 58.015625 0 \nz\nM 28.71875 26.8125 \nL 48.6875 26.8125 \nL 38.71875 55.8125 \nz\n\" id=\"DejaVuSans-Bold-65\"/>\n     <path d=\"M 63.375 33.296875 \nL 63.375 0 \nL 45.796875 0 \nL 45.796875 5.421875 \nL 45.796875 25.484375 \nQ 45.796875 32.5625 45.484375 35.25 \nQ 45.171875 37.9375 44.390625 39.203125 \nQ 43.359375 40.921875 41.59375 41.875 \nQ 39.84375 42.828125 37.59375 42.828125 \nQ 32.125 42.828125 29 38.59375 \nQ 25.875 34.375 25.875 26.90625 \nL 25.875 0 \nL 8.40625 0 \nL 8.40625 54.6875 \nL 25.875 54.6875 \nL 25.875 46.6875 \nQ 29.828125 51.46875 34.265625 53.734375 \nQ 38.71875 56 44.09375 56 \nQ 53.5625 56 58.46875 50.1875 \nQ 63.375 44.390625 63.375 33.296875 \nz\n\" id=\"DejaVuSans-Bold-110\"/>\n     <path d=\"M 8.40625 75.984375 \nL 25.875 75.984375 \nL 25.875 34.625 \nL 46 54.6875 \nL 66.3125 54.6875 \nL 39.59375 29.59375 \nL 68.40625 0 \nL 47.21875 0 \nL 25.875 22.796875 \nL 25.875 0 \nL 8.40625 0 \nz\n\" id=\"DejaVuSans-Bold-107\"/>\n     <path d=\"M 8.40625 75.984375 \nL 25.875 75.984375 \nL 25.875 0 \nL 8.40625 0 \nz\n\" id=\"DejaVuSans-Bold-108\"/>\n     <path d=\"M 62.984375 27.484375 \nL 62.984375 22.515625 \nL 22.125 22.515625 \nQ 22.75 16.359375 26.5625 13.28125 \nQ 30.375 10.203125 37.203125 10.203125 \nQ 42.71875 10.203125 48.5 11.84375 \nQ 54.296875 13.484375 60.40625 16.796875 \nL 60.40625 3.328125 \nQ 54.203125 0.984375 48 -0.21875 \nQ 41.796875 -1.421875 35.59375 -1.421875 \nQ 20.75 -1.421875 12.515625 6.125 \nQ 4.296875 13.671875 4.296875 27.296875 \nQ 4.296875 40.671875 12.375 48.328125 \nQ 20.453125 56 34.625 56 \nQ 47.515625 56 55.25 48.234375 \nQ 62.984375 40.484375 62.984375 27.484375 \nz\nM 45.015625 33.296875 \nQ 45.015625 38.28125 42.109375 41.328125 \nQ 39.203125 44.390625 34.515625 44.390625 \nQ 29.4375 44.390625 26.265625 41.53125 \nQ 23.09375 38.671875 22.3125 33.296875 \nz\n\" id=\"DejaVuSans-Bold-101\"/>\n     <path id=\"DejaVuSans-Bold-32\"/>\n     <path d=\"M 37.5 11.28125 \nQ 43.109375 11.28125 46.0625 15.375 \nQ 49.03125 19.484375 49.03125 27.296875 \nQ 49.03125 35.109375 46.0625 39.203125 \nQ 43.109375 43.3125 37.5 43.3125 \nQ 31.890625 43.3125 28.875 39.1875 \nQ 25.875 35.0625 25.875 27.296875 \nQ 25.875 19.53125 28.875 15.40625 \nQ 31.890625 11.28125 37.5 11.28125 \nz\nM 25.875 46.6875 \nQ 29.5 51.46875 33.890625 53.734375 \nQ 38.28125 56 44 56 \nQ 54.109375 56 60.59375 47.96875 \nQ 67.09375 39.9375 67.09375 27.296875 \nQ 67.09375 14.65625 60.59375 6.609375 \nQ 54.109375 -1.421875 44 -1.421875 \nQ 38.28125 -1.421875 33.890625 0.84375 \nQ 29.5 3.125 25.875 7.90625 \nL 25.875 0 \nL 8.40625 0 \nL 8.40625 75.984375 \nL 25.875 75.984375 \nz\n\" id=\"DejaVuSans-Bold-98\"/>\n    </defs>\n    <g transform=\"translate(268.778795 14.798437)scale(0.1 -0.1)\">\n     <use xlink:href=\"#DejaVuSans-Bold-65\"/>\n     <use x=\"77.392578\" xlink:href=\"#DejaVuSans-Bold-110\"/>\n     <use x=\"148.583984\" xlink:href=\"#DejaVuSans-Bold-107\"/>\n     <use x=\"215.087891\" xlink:href=\"#DejaVuSans-Bold-108\"/>\n     <use x=\"249.365234\" xlink:href=\"#DejaVuSans-Bold-101\"/>\n     <use x=\"317.1875\" xlink:href=\"#DejaVuSans-Bold-32\"/>\n     <use x=\"352.001953\" xlink:href=\"#DejaVuSans-Bold-98\"/>\n     <use x=\"423.583984\" xlink:href=\"#DejaVuSans-Bold-111\"/>\n     <use x=\"492.285156\" xlink:href=\"#DejaVuSans-Bold-111\"/>\n     <use x=\"560.986328\" xlink:href=\"#DejaVuSans-Bold-116\"/>\n    </g>\n   </g>\n  </g>\n  <g id=\"axes_4\">\n   <g clip-path=\"url(#pec6487be11)\">\n    <image height=\"108\" id=\"imagef05de5ab40\" transform=\"scale(1 -1)translate(0 -108)\" width=\"108\" x=\"361.8\" xlink:href=\"data:image/png;base64,\niVBORw0KGgoAAAANSUhEUgAAAGwAAABsCAYAAACPZlfNAAAABHNCSVQICAgIfAhkiAAABYVJREFUeJztnDksrVsYhtc2HPMspkQURCSolAoRCgoSiahIFKKiExQqjUZFIQoJoVfRCIkoRMQUQ2IMgphiinm83X/X9+Lfd9/j5p4veZ9qvWftf/Ketb69vm/922OM+TBEDX7/9w0Q36BhyqBhyqBhyqBhyqBhyqBhyqBhyqBhyqBhyqBhyqBhyqBhyqBhyqBhyqBhyqBhyqBhyqBhyqBhyqBhyqBhyqBhyqBhyqBhyqBhygj4yZP9+vVL6KSkJKGjo6OFjo2NFTorK0vo9/d3p316eir6YmJihD44OBB6bm5O6IuLC6Hj4+O/vdfQ0FDRFxkZ6Xptf39/oW9vb4XG8728vDjtnZ0d0be0tGTc4AhTBg1TBg1TxqcYVl9fL3R+fr7Q9nx+dnYm+jBmlZWVCf3w8CD06+ur0Ht7e0K3trY67ba2NtEXHBws9PX1tdAFBQXGja2tLaFHR0edtp+f/H/c0NAg9MLCgtBxcXFC7+/vu17bjmEfH/Jtr6OjI6FramqE5ghTBg1TBg1TRkBOTo74h8rKSqG3t7eFHhsbc9pDQ0OiD+fy0tJSoU9OTr4911fY8XJ5eVn04ZpvYmLC9doYP92oqqoSOjExUejz83OhIyIiXO/t8fFR6KenJ6dtxzNjjElPTxe6q6tLaI4wZdAwZdAwZXgM/OxDXl6e+EBycrLQdj6wvLxc9IWEhAiN6xnM59lzuTGfY4Wd77u6uhJ9uO66v78X+vDw0PXaq6urQhcWFjptXMNhXhJzgxijpqenhV5cXBR6ZWXF/FPwOwZHmDJomDI+TYlIQkKC0IGBgU4bp8v29nahj4+PhcapIyoqSmic5t7e3px2UFCQ222am5ubb481xpiUlBShsdRjP9fMzIzow/IKpuAwxYZTO079duoKlwTj4+NCDwwMCM0RpgwapgwapgyvWwSwNG+DX52xNIBzOcYVnNux1B4Q8Pft4dfy5+dn13P19/cLjWX7lpYWoe1YEhYWJvpwSwCmpnDJYd+3McbMz88LbccljI9uf29jOMLUQcOUQcOU4fHz8xPrMCxZezyebw+2t6EZ87k00NPTI/Tu7q7QWI7Bud+ODXgfqLGkgefCGIexwn4WTD1h2stb7M3IyBB6cHBQ6OHhYfNv4QhTBg1TBg1Thsfj8bjGMC8HC43H9vX1CY15SVxbZWdnC52Wlua0i4qKRN/6+rrQHR0drveG4FZtez2EWxkwx4nnxu0H+Jz4d2lsbHTauEUAS1L4PYEjTBk0TBk0TBm/FcO8gXWjkpISoaurq4WenZ0Vuru722ljnhLBddfIyIjQmP/DvKYNrqvws77mRHFbub2+xJwmrvkwXnKEKYOGKYOGKcPrno5PB1hz6k/Gu9+lqalJaNxyjq+i4vrGfi7crnd5eSk0vhaF9TJvdUA7V4k5zebmZqFxXcYRpgwapgwapgyff/bBl7iF6xFcU+B+PntvIF4LP4tUVFQIvbGxITTGrLu7O6FTU1OdNu7RsPuM+ZzXXFtbExpfx8V1mB3zNjc3jRuMYcqhYcr40V/CQdzSP1+BpQZMN9mEh4cLjaknnH5xes7MzBTavtfc3FzRh2+vTE5OCl1XVyc0bmHHt1nscszU1JTxBY4wZdAwZdAwZficmvovcdty4K3kgdsLOjs7Xa+F8dF+zae3t1f0YWrKG7jEKC4uFtreCl5bW+t6LpZXlEPDlEHDlPFHxTBMw7ilwbylyHCdhWkv/BUBN7xtmfO1zGQ/p1uZ56tzc4Qpg4Ypg4Yp44+KYcQ7HGHKoGHKoGHKoGHKoGHKoGHKoGHKoGHKoGHKoGHKoGHKoGHKoGHKoGHKoGHKoGHKoGHKoGHKoGHKoGHKoGHKoGHKoGHKoGHKoGHKoGHK+Aspk8z7QK2GXQAAAABJRU5ErkJggg==\" y=\"-12.28058\"/>\n   </g>\n   <g id=\"text_4\">\n    <g id=\"patch_5\">\n     <path d=\"M 394.216295 20.878125 \nL 440.61942 20.878125 \nL 440.61942 3.2 \nL 394.216295 3.2 \nz\n\" style=\"fill:#bfbf00;stroke:#bfbf00;stroke-linejoin:miter;\"/>\n    </g>\n    <!-- Sandal -->\n    <defs>\n     <path d=\"M 59.90625 70.609375 \nL 59.90625 55.171875 \nQ 53.90625 57.859375 48.1875 59.21875 \nQ 42.484375 60.59375 37.40625 60.59375 \nQ 30.671875 60.59375 27.4375 58.734375 \nQ 24.21875 56.890625 24.21875 52.984375 \nQ 24.21875 50.046875 26.390625 48.40625 \nQ 28.5625 46.78125 34.28125 45.609375 \nL 42.28125 44 \nQ 54.4375 41.546875 59.5625 36.5625 \nQ 64.703125 31.59375 64.703125 22.40625 \nQ 64.703125 10.359375 57.546875 4.46875 \nQ 50.390625 -1.421875 35.6875 -1.421875 \nQ 28.765625 -1.421875 21.78125 -0.09375 \nQ 14.796875 1.21875 7.8125 3.8125 \nL 7.8125 19.671875 \nQ 14.796875 15.96875 21.3125 14.078125 \nQ 27.828125 12.203125 33.890625 12.203125 \nQ 40.046875 12.203125 43.3125 14.25 \nQ 46.578125 16.3125 46.578125 20.125 \nQ 46.578125 23.53125 44.359375 25.390625 \nQ 42.140625 27.25 35.5 28.71875 \nL 28.21875 30.328125 \nQ 17.28125 32.671875 12.21875 37.796875 \nQ 7.171875 42.921875 7.171875 51.609375 \nQ 7.171875 62.5 14.203125 68.359375 \nQ 21.234375 74.21875 34.421875 74.21875 \nQ 40.4375 74.21875 46.78125 73.3125 \nQ 53.125 72.40625 59.90625 70.609375 \nz\n\" id=\"DejaVuSans-Bold-83\"/>\n     <path d=\"M 45.609375 46.6875 \nL 45.609375 75.984375 \nL 63.1875 75.984375 \nL 63.1875 0 \nL 45.609375 0 \nL 45.609375 7.90625 \nQ 42 3.078125 37.640625 0.828125 \nQ 33.296875 -1.421875 27.59375 -1.421875 \nQ 17.484375 -1.421875 10.984375 6.609375 \nQ 4.5 14.65625 4.5 27.296875 \nQ 4.5 39.9375 10.984375 47.96875 \nQ 17.484375 56 27.59375 56 \nQ 33.25 56 37.625 53.734375 \nQ 42 51.46875 45.609375 46.6875 \nz\nM 34.078125 11.28125 \nQ 39.703125 11.28125 42.65625 15.375 \nQ 45.609375 19.484375 45.609375 27.296875 \nQ 45.609375 35.109375 42.65625 39.203125 \nQ 39.703125 43.3125 34.078125 43.3125 \nQ 28.515625 43.3125 25.5625 39.203125 \nQ 22.609375 35.109375 22.609375 27.296875 \nQ 22.609375 19.484375 25.5625 15.375 \nQ 28.515625 11.28125 34.078125 11.28125 \nz\n\" id=\"DejaVuSans-Bold-100\"/>\n    </defs>\n    <g transform=\"translate(398.216295 14.798437)scale(0.1 -0.1)\">\n     <use xlink:href=\"#DejaVuSans-Bold-83\"/>\n     <use x=\"72.021484\" xlink:href=\"#DejaVuSans-Bold-97\"/>\n     <use x=\"139.501953\" xlink:href=\"#DejaVuSans-Bold-110\"/>\n     <use x=\"210.693359\" xlink:href=\"#DejaVuSans-Bold-100\"/>\n     <use x=\"282.275391\" xlink:href=\"#DejaVuSans-Bold-97\"/>\n     <use x=\"349.755859\" xlink:href=\"#DejaVuSans-Bold-108\"/>\n    </g>\n   </g>\n  </g>\n  <g id=\"axes_5\">\n   <g clip-path=\"url(#pfe4d646c2f)\">\n    <image height=\"108\" id=\"image795955dd17\" transform=\"scale(1 -1)translate(0 -108)\" width=\"108\" x=\"480\" xlink:href=\"data:image/png;base64,\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\" y=\"-12.28058\"/>\n   </g>\n   <g id=\"text_5\">\n    <g id=\"patch_6\">\n     <path d=\"M 512.416295 20.878125 \nL 558.81942 20.878125 \nL 558.81942 3.2 \nL 512.416295 3.2 \nz\n\" style=\"fill:#bfbf00;stroke:#bfbf00;stroke-linejoin:miter;\"/>\n    </g>\n    <!-- Sandal -->\n    <g transform=\"translate(516.416295 14.798437)scale(0.1 -0.1)\">\n     <use xlink:href=\"#DejaVuSans-Bold-83\"/>\n     <use x=\"72.021484\" xlink:href=\"#DejaVuSans-Bold-97\"/>\n     <use x=\"139.501953\" xlink:href=\"#DejaVuSans-Bold-110\"/>\n     <use x=\"210.693359\" xlink:href=\"#DejaVuSans-Bold-100\"/>\n     <use x=\"282.275391\" xlink:href=\"#DejaVuSans-Bold-97\"/>\n     <use x=\"349.755859\" xlink:href=\"#DejaVuSans-Bold-108\"/>\n    </g>\n   </g>\n  </g>\n  <g id=\"axes_6\">\n   <g clip-path=\"url(#p36b7d95a00)\">\n    <image height=\"108\" id=\"image07f0e015d3\" transform=\"scale(1 -1)translate(0 -108)\" width=\"108\" x=\"598.2\" xlink:href=\"data:image/png;base64,\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\" y=\"-12.28058\"/>\n   </g>\n   <g id=\"text_6\">\n    <g id=\"patch_7\">\n     <path d=\"M 639.053795 20.95625 \nL 668.58192 20.95625 \nL 668.58192 3.278125 \nL 639.053795 3.278125 \nz\n\" style=\"fill:#bfbf00;stroke:#bfbf00;stroke-linejoin:miter;\"/>\n    </g>\n    <!-- Bag -->\n    <g transform=\"translate(643.053795 14.798437)scale(0.1 -0.1)\">\n     <use xlink:href=\"#DejaVuSans-Bold-66\"/>\n     <use x=\"76.220703\" xlink:href=\"#DejaVuSans-Bold-97\"/>\n     <use x=\"143.701172\" xlink:href=\"#DejaVuSans-Bold-103\"/>\n    </g>\n   </g>\n  </g>\n  <g id=\"axes_7\">\n   <g clip-path=\"url(#pb8e5ad0be6)\">\n    <image height=\"108\" id=\"image7144027d79\" transform=\"scale(1 -1)translate(0 -108)\" width=\"108\" x=\"7.2\" xlink:href=\"data:image/png;base64,\niVBORw0KGgoAAAANSUhEUgAAAGwAAABsCAYAAACPZlfNAAAABHNCSVQICAgIfAhkiAAABWVJREFUeJztnLdKdU8Uxed+XrNiTogiBhADWAiiiI29pZ2VWGgh+AI+gIX6Aj6DoFaCFmJh6ExooQjmnHP6usvspZ6Lf/j4s2T9qrOcE653ObPP3jNjyDn34QQNf/7vDyB+hgwjQ4aRIcPIkGFkyDAyZBgZMowMGUaGDCNDhpEhw8iQYWTIMDJkGBkyjAwZRoYMI0OGkSHDyJBhZMgwMsL4g+Tk5ECdmpoaOU5ISDBt8fHxRmP7+/u7fXg4HNjuPzspKSnw3h8fdrUe3is9Pd3o2NjYb++Hvweee3p6avTh4aHRJycnRl9cXBi9urrq/ivqYWTIMDJkGBmhmpoaM/jX1dWZE87Ozr69GOMIgnHk7e3N6Kenp8Drn5+fI8d3d3em7fHxMVBjTMPrMTa/vLxEjjFmoS4oKDA6Li7O6JKSEqPLy8uNvry8jBxvbW2ZtsnJSaPx+1cPI0OGkSHDyAhVVlYGbjcKimEYo3AsxzwLY8GfP/bvBc/340xiYqJpw7zKzw+/0kH5pHM2rmCsvb+/NxrzruPjY6M3NjaMTktLMzo/Pz9yjPGttLTU6OnpaaPVw8iQYWTIMDI+1RJbWlqMzszMNNofY2NiYkwbjsdFRUVGY67k5z7Ofc6VysrKIscZGRmmDXM4vBbvjfH2/PzcaL9W6ed/X4GxGmPc9fW10fv7+0YvLS1Fjvf29kzb4uKi0fj9q4eRIcPIkGFkhLq7u00e1tPTY07Y3t42OiUlJXK8vr5u2ioqKozGGIb1PYwzGJf8fAjjCl57e3v77bVfaYwNoVDo22dhjMJYjO05OTlGB80T4u+BuenQ0JBtd4IKGUZGGEtPWFZ5eHgw2p/uxqEAwRIOgq/HOBTh0OODwyemGFgOwqmgq6sro/3Xa5zi90tJzn0uc/lh4ivwWf73ht8BvuaPj48brR5GhgwjQ4aREcZYkJubazROHfjnV1VVmTZ8ncX4iMvDMBbgq7f/qv36+mrasrKyjMb4t7a2FvjZZmdnja6trY0cFxcXm7bq6mqjMXYPDg4avbKyYjSWzTBV+gnqYWTIMDJkGBmf8jCcpg/KITAuYA6HUxpYosFn3dzcGO3nUljW2tzcDLwXxubd3V2j29rajPaXpuFSht7eXqNHR0fdvwLzSUQ9jAwZRoYMIyOMeRZujdnZ2THaXx6GMSfaEgDMlYK2F+H1eG+c4sd4inGoubnZaIzdTU1NkeNoNdBoRNtm5eeb0ZazI+phZMgwMmQYGWGMUVhLzMvLM9qv4WFMwnkjnO7GGpxfK3TOuezsbKOXl5cjxzhvhEutkc7OTqP7+/uNHhgY+PZazOlQB83TORd9ri5anApCPYwMGUaGDCMjjGs2sHaIcclfToZbR5Fo/z4Bc6eFhQWj/XwG4x3qjo4OoxsbG42em5sL/Kw+OPeGOhpY9/zp9UGoh5Ehw8iQYWR82m6EOQPmIH7uhfEOa4u47qKwsNBonKPC2qO/fQnn2hoaGozu6+sz+icxiwn1MDJkGBmfhsT5+XmjsTTlg6Un3AGPuyYPDg6MnpiYMLqrq8tof3g+OjoybbhTcXh4+NvP+ZtQDyNDhpEhw8gItbe3mzoKlnimpqaM9mPJzMyMacMyVn19vdH4HwpwhyZutfFLWXguvtYj0bYysaIeRoYMI0OGkREqKSkxMay1tdWcMDIy8s8ejkvP/C0/ztkYNjY2Ztpwyw5Ot+AUx29BPYwMGUaGDCMj5Jz7nYP9L0U9jAwZRoYMI0OGkSHDyJBhZMgwMmQYGTKMDBlGhgwjQ4aRIcPIkGFkyDAyZBgZMowMGUaGDCNDhpEhw8iQYWTIMDJkGBkyjAwZRsZfZg/zLlP1dk0AAAAASUVORK5CYII=\" y=\"-149.467715\"/>\n   </g>\n   <g id=\"text_7\">\n    <g id=\"patch_8\">\n     <path d=\"M 35.841295 158.06526 \nL 89.79442 158.06526 \nL 89.79442 140.387135 \nL 35.841295 140.387135 \nz\n\" style=\"fill:#bfbf00;stroke:#bfbf00;stroke-linejoin:miter;\"/>\n    </g>\n    <!-- Sneaker -->\n    <defs>\n     <path d=\"M 49.03125 39.796875 \nQ 46.734375 40.875 44.453125 41.375 \nQ 42.1875 41.890625 39.890625 41.890625 \nQ 33.15625 41.890625 29.515625 37.5625 \nQ 25.875 33.25 25.875 25.203125 \nL 25.875 0 \nL 8.40625 0 \nL 8.40625 54.6875 \nL 25.875 54.6875 \nL 25.875 45.703125 \nQ 29.25 51.078125 33.609375 53.53125 \nQ 37.984375 56 44.09375 56 \nQ 44.96875 56 45.984375 55.921875 \nQ 47.015625 55.859375 48.96875 55.609375 \nz\n\" id=\"DejaVuSans-Bold-114\"/>\n    </defs>\n    <g transform=\"translate(39.841295 151.985572)scale(0.1 -0.1)\">\n     <use xlink:href=\"#DejaVuSans-Bold-83\"/>\n     <use x=\"72.021484\" xlink:href=\"#DejaVuSans-Bold-110\"/>\n     <use x=\"143.212891\" xlink:href=\"#DejaVuSans-Bold-101\"/>\n     <use x=\"211.035156\" xlink:href=\"#DejaVuSans-Bold-97\"/>\n     <use x=\"278.515625\" xlink:href=\"#DejaVuSans-Bold-107\"/>\n     <use x=\"342.394531\" xlink:href=\"#DejaVuSans-Bold-101\"/>\n     <use x=\"410.216797\" xlink:href=\"#DejaVuSans-Bold-114\"/>\n    </g>\n   </g>\n  </g>\n  <g id=\"axes_8\">\n   <g clip-path=\"url(#p22a97246b0)\">\n    <image height=\"108\" id=\"imaged69b4d4a26\" transform=\"scale(1 -1)translate(0 -108)\" width=\"108\" x=\"125.4\" xlink:href=\"data:image/png;base64,\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\" y=\"-149.467715\"/>\n   </g>\n   <g id=\"text_8\">\n    <g id=\"patch_9\">\n     <path d=\"M 146.578795 158.06526 \nL 215.45692 158.06526 \nL 215.45692 140.387135 \nL 146.578795 140.387135 \nz\n\" style=\"fill:#bfbf00;stroke:#bfbf00;stroke-linejoin:miter;\"/>\n    </g>\n    <!-- Ankle boot -->\n    <g transform=\"translate(150.578795 151.985572)scale(0.1 -0.1)\">\n     <use xlink:href=\"#DejaVuSans-Bold-65\"/>\n     <use x=\"77.392578\" xlink:href=\"#DejaVuSans-Bold-110\"/>\n     <use x=\"148.583984\" xlink:href=\"#DejaVuSans-Bold-107\"/>\n     <use x=\"215.087891\" xlink:href=\"#DejaVuSans-Bold-108\"/>\n     <use x=\"249.365234\" xlink:href=\"#DejaVuSans-Bold-101\"/>\n     <use x=\"317.1875\" xlink:href=\"#DejaVuSans-Bold-32\"/>\n     <use x=\"352.001953\" xlink:href=\"#DejaVuSans-Bold-98\"/>\n     <use x=\"423.583984\" xlink:href=\"#DejaVuSans-Bold-111\"/>\n     <use x=\"492.285156\" xlink:href=\"#DejaVuSans-Bold-111\"/>\n     <use x=\"560.986328\" xlink:href=\"#DejaVuSans-Bold-116\"/>\n    </g>\n   </g>\n  </g>\n  <g id=\"axes_9\">\n   <g clip-path=\"url(#p570e66cc74)\">\n    <image height=\"108\" id=\"imagede5416f797\" transform=\"scale(1 -1)translate(0 -108)\" width=\"108\" x=\"243.6\" xlink:href=\"data:image/png;base64,\niVBORw0KGgoAAAANSUhEUgAAAGwAAABsCAYAAACPZlfNAAAABHNCSVQICAgIfAhkiAAABVZJREFUeJztnbdOZEEQRXvw3ptBgEAgInxEQoCQkEggIuc7+ApEBl9ASkKKCRAZIIQQRniEd4P3bPbU945mMLtLd0l1or5qdunV3Xr12tULGWM+jCNCoRDoj4/YQ+nq6gLd0NAAenBwEHRTUxPojo4O0CMjI6Cfnp7ijtUXElwPQPkeapgw1DBhhIzHOczuHxsbg77GxkbQtbW1oCcmJkC3tLSAHhgYAD08PBy0ExLw//H7+3vU2F2hESYMNUwYapgwklwPIB7Nzc1BOy0tDfqOj49BFxcXg56dnQVdVFQEOhwOx/y98eaDrtEIE4YaJgw1TBhe57CqqqqgzXOjrKws0KmpqaCTkvCf9vz8DLqysjLm79Ucpvwz1DBhOH0kfvboycjICNqRSAT6qqurQZeXl8f9u9bW1kDbj1tJaIQJQw0ThhomDK9f63kLxebm5iauTk9PB81bOXd3d385OjdohAlDDROGGiYMr3NYYmJi0OalKF5a4nma/WeNMeb6+ho0b7dIQSNMGGqYMNQwYYjJYW9vb9DH2yU8z2LNRwpqampA20e7FxcXvz/YX0IjTBhqmDDUMGF4lcN4W99eH3x4eIA+nlft7e2B5hy3vb0Nmq8r2ftjmsOUf4YaJgw1TBhe5TCeaz0+PgbtpaUl6GttbQVdVlYG+ujoCHRmZiZoviKbm5v7vcE6QiNMGGqYMNQwYXiVw3gPKz8/P2gfHh5C38HBAej+/n7QV1dXoKenp0G3tbWB5nmar2iECUMNE4ZXj0RmeXk5aL+8vEDfxcUFaH5N55+vqKgAzY/Y+fn5H4/zN9EIE4YaJgw1TBhe5TCuOGNvmfBRbM5JvPTEr+n39/eg+ZibXe1tfHz8S+N1gUaYMNQwYahhwvAqh3FeKSgoCNqcw05PT0FzlYHz83PQycnJoHnpird2fEUjTBhqmDDUMGF4lcPs7RRjMK+8vr5CX05OTsyfNQZLRhgTncP4CAH/bl/RCBOGGiYMNUwYXuUwnoelpKQE7c9yFu+H8bFvzmlcNqm3tzdoj46OfnHEv49GmDDUMGGoYcLwKoeVlJSAtvMSX4Hl0kR8Hemz0n5nZ2eguWq3r2iECUMNE4YaJgynOYwrYXN5InvPKy8vD/r4SmxdXR1o+0yjMdE5iudt9jyPf9a+9uQajTBhqGHCcPpI5ErY/KpuP6ZKS0uhLzs7G3R9fT3oyclJ0PwItZe9jMEjBlyxe2VlhYfuDI0wYahhwlDDhOE0h/FH2nh5yX7tLywshD4+ms3V2fjLDzs7O6D51d3ejmlvb4c+zWHKj1HDhKGGCcNpDrOPYhsTnZfsIwO8XbK/vw+at0u42hvnSz4yYP95nuP5hEaYMNQwYahhwnCaw/gK0cbGBmi7dEN3dzf08dFqnnfxdSSuqs1lH+ycyBV5fEIjTBhqmDDUMGE4zWFcRZT3w+y8s7CwAH1cxoH3t3hbn+dpPK+z1xJ9vj6rESYMNUwYapgwnOYwzkN87sL+yiz38XofXy+6vb0FzWuJ3G+X89va2oo3bKdohAlDDROGGiYMpzmMv4TOpR3s0gx8BmNubg40f3WWr9jyeRGea3V2dgZtn85wMBphwlDDhBEyxsS/qvgfsT8UaowxPT09oO0jAlx9ra+vD/Tm5ibo3d1d0Hz7hZeu7K2coaEh6FtdXY0auys0woShhglDDROG09d6fo3naz72rcr19XXo44+O8sdzwuEwaK7CHYlEQNtHCny6cclohAlDDROGGiYMpzmMq9vE2/LgIwJTU1OgZ2ZmQPPSE+fLy8tL0CcnJ0Gbryb5hEaYMNQwYahhwvgDOyukinaz1/MAAAAASUVORK5CYII=\" y=\"-149.467715\"/>\n   </g>\n   <g id=\"text_9\">\n    <g id=\"patch_10\">\n     <path d=\"M 274.063951 158.06526 \nL 324.371763 158.06526 \nL 324.371763 140.387135 \nL 274.063951 140.387135 \nz\n\" style=\"fill:#bfbf00;stroke:#bfbf00;stroke-linejoin:miter;\"/>\n    </g>\n    <!-- Trouser -->\n    <defs>\n     <path d=\"M 0.484375 72.90625 \nL 67.671875 72.90625 \nL 67.671875 58.6875 \nL 43.5 58.6875 \nL 43.5 0 \nL 24.703125 0 \nL 24.703125 58.6875 \nL 0.484375 58.6875 \nz\n\" id=\"DejaVuSans-Bold-84\"/>\n     <path d=\"M 7.8125 21.296875 \nL 7.8125 54.6875 \nL 25.390625 54.6875 \nL 25.390625 49.21875 \nQ 25.390625 44.78125 25.34375 38.0625 \nQ 25.296875 31.34375 25.296875 29.109375 \nQ 25.296875 22.515625 25.640625 19.609375 \nQ 25.984375 16.703125 26.8125 15.375 \nQ 27.875 13.671875 29.609375 12.734375 \nQ 31.34375 11.8125 33.59375 11.8125 \nQ 39.0625 11.8125 42.1875 16.015625 \nQ 45.3125 20.21875 45.3125 27.6875 \nL 45.3125 54.6875 \nL 62.796875 54.6875 \nL 62.796875 0 \nL 45.3125 0 \nL 45.3125 7.90625 \nQ 41.359375 3.125 36.9375 0.84375 \nQ 32.515625 -1.421875 27.203125 -1.421875 \nQ 17.71875 -1.421875 12.765625 4.390625 \nQ 7.8125 10.203125 7.8125 21.296875 \nz\n\" id=\"DejaVuSans-Bold-117\"/>\n     <path d=\"M 51.125 52.984375 \nL 51.125 39.703125 \nQ 45.515625 42.046875 40.28125 43.21875 \nQ 35.0625 44.390625 30.421875 44.390625 \nQ 25.4375 44.390625 23.015625 43.140625 \nQ 20.609375 41.890625 20.609375 39.3125 \nQ 20.609375 37.203125 22.4375 36.078125 \nQ 24.265625 34.96875 29 34.421875 \nL 32.078125 33.984375 \nQ 45.515625 32.28125 50.140625 28.375 \nQ 54.78125 24.46875 54.78125 16.109375 \nQ 54.78125 7.375 48.328125 2.96875 \nQ 41.890625 -1.421875 29.109375 -1.421875 \nQ 23.6875 -1.421875 17.890625 -0.5625 \nQ 12.109375 0.296875 6 2 \nL 6 15.28125 \nQ 11.234375 12.75 16.71875 11.46875 \nQ 22.21875 10.203125 27.875 10.203125 \nQ 33.015625 10.203125 35.59375 11.609375 \nQ 38.1875 13.03125 38.1875 15.828125 \nQ 38.1875 18.171875 36.40625 19.3125 \nQ 34.625 20.453125 29.296875 21.09375 \nL 26.21875 21.484375 \nQ 14.546875 22.953125 9.859375 26.90625 \nQ 5.171875 30.859375 5.171875 38.921875 \nQ 5.171875 47.609375 11.125 51.796875 \nQ 17.09375 56 29.390625 56 \nQ 34.234375 56 39.546875 55.265625 \nQ 44.875 54.546875 51.125 52.984375 \nz\n\" id=\"DejaVuSans-Bold-115\"/>\n    </defs>\n    <g transform=\"translate(278.063951 151.985572)scale(0.1 -0.1)\">\n     <use xlink:href=\"#DejaVuSans-Bold-84\"/>\n     <use x=\"57.212891\" xlink:href=\"#DejaVuSans-Bold-114\"/>\n     <use x=\"106.529297\" xlink:href=\"#DejaVuSans-Bold-111\"/>\n     <use x=\"175.230469\" xlink:href=\"#DejaVuSans-Bold-117\"/>\n     <use x=\"246.421875\" xlink:href=\"#DejaVuSans-Bold-115\"/>\n     <use x=\"305.943359\" xlink:href=\"#DejaVuSans-Bold-101\"/>\n     <use x=\"373.765625\" xlink:href=\"#DejaVuSans-Bold-114\"/>\n    </g>\n   </g>\n  </g>\n  <g id=\"axes_10\">\n   <g clip-path=\"url(#p32ac7290ea)\">\n    <image height=\"108\" id=\"image950fc4ceee\" transform=\"scale(1 -1)translate(0 -108)\" width=\"108\" x=\"361.8\" xlink:href=\"data:image/png;base64,\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\" y=\"-149.467715\"/>\n   </g>\n   <g id=\"text_10\">\n    <g id=\"patch_11\">\n     <path d=\"M 402.653795 158.143385 \nL 432.18192 158.143385 \nL 432.18192 140.46526 \nL 402.653795 140.46526 \nz\n\" style=\"fill:#bfbf00;stroke:#bfbf00;stroke-linejoin:miter;\"/>\n    </g>\n    <!-- Bag -->\n    <g transform=\"translate(406.653795 151.985572)scale(0.1 -0.1)\">\n     <use xlink:href=\"#DejaVuSans-Bold-66\"/>\n     <use x=\"76.220703\" xlink:href=\"#DejaVuSans-Bold-97\"/>\n     <use x=\"143.701172\" xlink:href=\"#DejaVuSans-Bold-103\"/>\n    </g>\n   </g>\n  </g>\n  <g id=\"axes_11\">\n   <g clip-path=\"url(#p9bdc2a2d6b)\">\n    <image height=\"108\" id=\"image4206102e81\" transform=\"scale(1 -1)translate(0 -108)\" width=\"108\" x=\"480\" xlink:href=\"data:image/png;base64,\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\" y=\"-149.467715\"/>\n   </g>\n   <g id=\"text_11\">\n    <g id=\"patch_12\">\n     <path d=\"M 515.658482 158.06526 \nL 555.577232 158.06526 \nL 555.577232 140.387135 \nL 515.658482 140.387135 \nz\n\" style=\"fill:#bfbf00;stroke:#bfbf00;stroke-linejoin:miter;\"/>\n    </g>\n    <!-- Dress -->\n    <defs>\n     <path d=\"M 27.984375 58.6875 \nL 27.984375 14.203125 \nL 34.71875 14.203125 \nQ 46.234375 14.203125 52.3125 19.921875 \nQ 58.40625 25.640625 58.40625 36.53125 \nQ 58.40625 47.359375 52.34375 53.015625 \nQ 46.296875 58.6875 34.71875 58.6875 \nz\nM 9.1875 72.90625 \nL 29 72.90625 \nQ 45.609375 72.90625 53.734375 70.53125 \nQ 61.859375 68.171875 67.671875 62.5 \nQ 72.796875 57.5625 75.28125 51.109375 \nQ 77.78125 44.671875 77.78125 36.53125 \nQ 77.78125 28.265625 75.28125 21.796875 \nQ 72.796875 15.328125 67.671875 10.40625 \nQ 61.8125 4.734375 53.609375 2.359375 \nQ 45.40625 0 29 0 \nL 9.1875 0 \nz\n\" id=\"DejaVuSans-Bold-68\"/>\n    </defs>\n    <g transform=\"translate(519.658482 151.985572)scale(0.1 -0.1)\">\n     <use xlink:href=\"#DejaVuSans-Bold-68\"/>\n     <use x=\"83.007812\" xlink:href=\"#DejaVuSans-Bold-114\"/>\n     <use x=\"132.324219\" xlink:href=\"#DejaVuSans-Bold-101\"/>\n     <use x=\"200.146484\" xlink:href=\"#DejaVuSans-Bold-115\"/>\n     <use x=\"259.667969\" xlink:href=\"#DejaVuSans-Bold-115\"/>\n    </g>\n   </g>\n  </g>\n  <g id=\"axes_12\">\n   <g clip-path=\"url(#p9c91bd9c46)\">\n    <image height=\"108\" id=\"imagea0f22e6338\" transform=\"scale(1 -1)translate(0 -108)\" width=\"108\" x=\"598.2\" xlink:href=\"data:image/png;base64,\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\" y=\"-149.467715\"/>\n   </g>\n   <g id=\"text_12\">\n    <g id=\"patch_13\">\n     <path d=\"M 639.053795 158.143385 \nL 668.58192 158.143385 \nL 668.58192 140.46526 \nL 639.053795 140.46526 \nz\n\" style=\"fill:#bfbf00;stroke:#bfbf00;stroke-linejoin:miter;\"/>\n    </g>\n    <!-- Bag -->\n    <g transform=\"translate(643.053795 151.985572)scale(0.1 -0.1)\">\n     <use xlink:href=\"#DejaVuSans-Bold-66\"/>\n     <use x=\"76.220703\" xlink:href=\"#DejaVuSans-Bold-97\"/>\n     <use x=\"143.701172\" xlink:href=\"#DejaVuSans-Bold-103\"/>\n    </g>\n   </g>\n  </g>\n  <g id=\"axes_13\">\n   <g clip-path=\"url(#pc415d62656)\">\n    <image height=\"108\" id=\"image46cda59ca6\" transform=\"scale(1 -1)translate(0 -108)\" width=\"108\" x=\"7.2\" xlink:href=\"data:image/png;base64,\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\" y=\"-286.65485\"/>\n   </g>\n   <g id=\"text_13\">\n    <g id=\"patch_14\">\n     <path d=\"M 29.734263 295.252395 \nL 95.901451 295.252395 \nL 95.901451 277.57427 \nL 29.734263 277.57427 \nz\n\" style=\"fill:#bfbf00;stroke:#bfbf00;stroke-linejoin:miter;\"/>\n    </g>\n    <!-- T-shirt/top -->\n    <defs>\n     <path d=\"M 5.421875 35.890625 \nL 36.078125 35.890625 \nL 36.078125 21.6875 \nL 5.421875 21.6875 \nz\n\" id=\"DejaVuSans-Bold-45\"/>\n     <path d=\"M 63.375 33.296875 \nL 63.375 0 \nL 45.796875 0 \nL 45.796875 5.421875 \nL 45.796875 25.390625 \nQ 45.796875 32.5625 45.484375 35.25 \nQ 45.171875 37.9375 44.390625 39.203125 \nQ 43.359375 40.921875 41.59375 41.875 \nQ 39.84375 42.828125 37.59375 42.828125 \nQ 32.125 42.828125 29 38.59375 \nQ 25.875 34.375 25.875 26.90625 \nL 25.875 0 \nL 8.40625 0 \nL 8.40625 75.984375 \nL 25.875 75.984375 \nL 25.875 46.6875 \nQ 29.828125 51.46875 34.265625 53.734375 \nQ 38.71875 56 44.09375 56 \nQ 53.5625 56 58.46875 50.1875 \nQ 63.375 44.390625 63.375 33.296875 \nz\n\" id=\"DejaVuSans-Bold-104\"/>\n     <path d=\"M 8.40625 54.6875 \nL 25.875 54.6875 \nL 25.875 0 \nL 8.40625 0 \nz\nM 8.40625 75.984375 \nL 25.875 75.984375 \nL 25.875 61.71875 \nL 8.40625 61.71875 \nz\n\" id=\"DejaVuSans-Bold-105\"/>\n     <path d=\"M 25.6875 72.90625 \nL 36.53125 72.90625 \nL 10.796875 -9.28125 \nL 0 -9.28125 \nz\n\" id=\"DejaVuSans-Bold-47\"/>\n     <path d=\"M 25.875 7.90625 \nL 25.875 -20.796875 \nL 8.40625 -20.796875 \nL 8.40625 54.6875 \nL 25.875 54.6875 \nL 25.875 46.6875 \nQ 29.5 51.46875 33.890625 53.734375 \nQ 38.28125 56 44 56 \nQ 54.109375 56 60.59375 47.96875 \nQ 67.09375 39.9375 67.09375 27.296875 \nQ 67.09375 14.65625 60.59375 6.609375 \nQ 54.109375 -1.421875 44 -1.421875 \nQ 38.28125 -1.421875 33.890625 0.84375 \nQ 29.5 3.125 25.875 7.90625 \nz\nM 37.5 43.3125 \nQ 31.890625 43.3125 28.875 39.1875 \nQ 25.875 35.0625 25.875 27.296875 \nQ 25.875 19.53125 28.875 15.40625 \nQ 31.890625 11.28125 37.5 11.28125 \nQ 43.109375 11.28125 46.0625 15.375 \nQ 49.03125 19.484375 49.03125 27.296875 \nQ 49.03125 35.109375 46.0625 39.203125 \nQ 43.109375 43.3125 37.5 43.3125 \nz\n\" id=\"DejaVuSans-Bold-112\"/>\n    </defs>\n    <g transform=\"translate(33.734263 289.172707)scale(0.1 -0.1)\">\n     <use xlink:href=\"#DejaVuSans-Bold-84\"/>\n     <use x=\"53.462891\" xlink:href=\"#DejaVuSans-Bold-45\"/>\n     <use x=\"94.966797\" xlink:href=\"#DejaVuSans-Bold-115\"/>\n     <use x=\"154.488281\" xlink:href=\"#DejaVuSans-Bold-104\"/>\n     <use x=\"225.679688\" xlink:href=\"#DejaVuSans-Bold-105\"/>\n     <use x=\"259.957031\" xlink:href=\"#DejaVuSans-Bold-114\"/>\n     <use x=\"309.273438\" xlink:href=\"#DejaVuSans-Bold-116\"/>\n     <use x=\"357.076172\" xlink:href=\"#DejaVuSans-Bold-47\"/>\n     <use x=\"393.599609\" xlink:href=\"#DejaVuSans-Bold-116\"/>\n     <use x=\"441.402344\" xlink:href=\"#DejaVuSans-Bold-111\"/>\n     <use x=\"510.103516\" xlink:href=\"#DejaVuSans-Bold-112\"/>\n    </g>\n   </g>\n  </g>\n  <g id=\"axes_14\">\n   <g clip-path=\"url(#pe46977b79c)\">\n    <image height=\"108\" id=\"imaged993573f76\" transform=\"scale(1 -1)translate(0 -108)\" width=\"108\" x=\"125.4\" xlink:href=\"data:image/png;base64,\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\" y=\"-286.65485\"/>\n   </g>\n   <g id=\"text_14\">\n    <g id=\"patch_15\">\n     <path d=\"M 153.813951 295.252395 \nL 208.221763 295.252395 \nL 208.221763 277.57427 \nL 153.813951 277.57427 \nz\n\" style=\"fill:#bfbf00;stroke:#bfbf00;stroke-linejoin:miter;\"/>\n    </g>\n    <!-- Pullover -->\n    <defs>\n     <path d=\"M 9.1875 72.90625 \nL 40.375 72.90625 \nQ 54.296875 72.90625 61.734375 66.71875 \nQ 69.1875 60.546875 69.1875 49.125 \nQ 69.1875 37.640625 61.734375 31.46875 \nQ 54.296875 25.296875 40.375 25.296875 \nL 27.984375 25.296875 \nL 27.984375 0 \nL 9.1875 0 \nz\nM 27.984375 59.28125 \nL 27.984375 38.921875 \nL 38.375 38.921875 \nQ 43.84375 38.921875 46.828125 41.578125 \nQ 49.8125 44.234375 49.8125 49.125 \nQ 49.8125 54 46.828125 56.640625 \nQ 43.84375 59.28125 38.375 59.28125 \nz\n\" id=\"DejaVuSans-Bold-80\"/>\n     <path d=\"M 1.515625 54.6875 \nL 19 54.6875 \nL 32.625 16.890625 \nL 46.1875 54.6875 \nL 63.71875 54.6875 \nL 42.1875 0 \nL 23 0 \nz\n\" id=\"DejaVuSans-Bold-118\"/>\n    </defs>\n    <g transform=\"translate(157.813951 289.172707)scale(0.1 -0.1)\">\n     <use xlink:href=\"#DejaVuSans-Bold-80\"/>\n     <use x=\"73.291016\" xlink:href=\"#DejaVuSans-Bold-117\"/>\n     <use x=\"144.482422\" xlink:href=\"#DejaVuSans-Bold-108\"/>\n     <use x=\"178.759766\" xlink:href=\"#DejaVuSans-Bold-108\"/>\n     <use x=\"213.037109\" xlink:href=\"#DejaVuSans-Bold-111\"/>\n     <use x=\"281.738281\" xlink:href=\"#DejaVuSans-Bold-118\"/>\n     <use x=\"346.923828\" xlink:href=\"#DejaVuSans-Bold-101\"/>\n     <use x=\"414.746094\" xlink:href=\"#DejaVuSans-Bold-114\"/>\n    </g>\n   </g>\n  </g>\n  <g id=\"axes_15\">\n   <g clip-path=\"url(#p30aa5f53a8)\">\n    <image height=\"108\" id=\"image45fa73ceba\" transform=\"scale(1 -1)translate(0 -108)\" width=\"108\" x=\"243.6\" xlink:href=\"data:image/png;base64,\niVBORw0KGgoAAAANSUhEUgAAAGwAAABsCAYAAACPZlfNAAAABHNCSVQICAgIfAhkiAAABKhJREFUeJztncsrbW8cxl9s19wSkktS7gNKKP+AiVLKRP4MZYSBkaGRlImJgRQTkYFMDCRSkltCkUtKJPfbma3e76O9ds7x+52e0/MZrWd/7b3X6dN6v+t937U7cc65TydoiP/bJyC+h4SRIWFkSBgZEkaGhJEhYWRIGBkSRoaEkSFhZEgYGRJGhoSRIWFkSBgZEkaGhJEhYWRIGBkSRoaEkSFhZEgYGRJGhoSRIWFkSBgZEkaGhJERycnJMS/U1NSYXFBQYHJKSkpw/PT0ZGrx8eH+Pz4+TMb3v76+Rs3v7++hn40kJCR869x88DzxuxMTE02+v783OTU1NfTzr66uguPr62tTOzs7C32vrjAyJIwMCSMjrrW11fxk1u9Rzjl3fHzsotVxLMce9PLyYnIkEgmtPzw8mOz3oeTk5ND3fn7aX/7G6nlvb29Ra/hZyMnJicl4H/D8/Gwy9uqioqLguKyszNTS0tJM3traMllXGBkSRoaEkRFXXFxsBuza2lrzBzgv83vH0dGRqSUlJZmMPS4zM9Nk7JfYV+7u7oLjWHM2BOvY08Lq+O/AuVFzc7PJXV1dJhcWFpo8PDxs8s3NTXB8enpqamtraybj/FFXGBkSRkakpaXFvDA0NGQyXt7+sNXX12dquKSTlZVlcl5ensk4ZOJQ5A+JeFuPS0+Hh4ehn+1/lnNfh2N/6Dk4ODA1/O7u7m6TJycnTfZv251z7uLiIup3Dw4Omhq2oN7eXnueTlAhYWRIGBkR3D7xbzmd+3pb6d/i5ubmmhouLe3s7ITm/Px8k/HW3V/KwmWt9PT0qOflnHMZGRkm45YHfpe/BIS1jo4Ok/FWPDs72+SxsTGT/e0UZGlpyeSenh6TLy8vTdYVRoaEkSFhZERwfMX5CfYOv47zsNnZWZOrq6tNxq2Dubk5kx8fH032+xD2Fexh2E9xTofzNJwb+XPE9vZ2U8PejOeJS3TYd/Dc/McCbm9vTW1gYMCFoSuMDAkjQ8LIiCsvLzfbK+vr66Fv8Le/t7e3TW10dNTkWFs1DQ0NJi8vL5s8Pz8f9TxwXoWPMiClpaUm19fXm+z3y/Pzc1Pb3d01GR9P2NjYMBnXIv8Eba+QI2FkSBgZcQ7+Z4jp6WnzBzhfqaqqCo7Hx8dNDecrlZWVJpeUlJiMe1q4h+Xvr01MTJga7tO1tbWZHGsutLi4aLI/z8N+uL+/bzL2FXzcGvcF/wT1MHIkjAwJIyOCL+B4jHs9IyMjwTHOk7CHxQLXIjs7O01eWFgIjvHZB3xGA9dENzc3TcZ1TXy+ZGpqKjiONaf7P8F+qCuMDAkjQ8LI+DIPa2xsNH/Q1NRksr9utrKy8qMnU1dXZ3J/f39wjOuU+Hj0zMyMyfiTINznW11d/e3z/JvoCiNDwsj4MiT+JLis8t0lG//9FRUVpra3t2cy/goSpyf/CrrCyJAwMiSMjP+0h4mfR1cYGRJGhoSRIWFkSBgZEkaGhJEhYWRIGBkSRoaEkSFhZEgYGRJGhoSRIWFkSBgZEkaGhJEhYWRIGBkSRoaEkSFhZEgYGRJGhoSRIWFkSBgZEkaGhJEhYWRIGBkSRsYv1uZ3z9/4f4oAAAAASUVORK5CYII=\" y=\"-286.65485\"/>\n   </g>\n   <g id=\"text_15\">\n    <g id=\"patch_16\">\n     <path d=\"M 272.241295 295.252395 \nL 326.19442 295.252395 \nL 326.19442 277.57427 \nL 272.241295 277.57427 \nz\n\" style=\"fill:#bfbf00;stroke:#bfbf00;stroke-linejoin:miter;\"/>\n    </g>\n    <!-- Sneaker -->\n    <g transform=\"translate(276.241295 289.172707)scale(0.1 -0.1)\">\n     <use xlink:href=\"#DejaVuSans-Bold-83\"/>\n     <use x=\"72.021484\" xlink:href=\"#DejaVuSans-Bold-110\"/>\n     <use x=\"143.212891\" xlink:href=\"#DejaVuSans-Bold-101\"/>\n     <use x=\"211.035156\" xlink:href=\"#DejaVuSans-Bold-97\"/>\n     <use x=\"278.515625\" xlink:href=\"#DejaVuSans-Bold-107\"/>\n     <use x=\"342.394531\" xlink:href=\"#DejaVuSans-Bold-101\"/>\n     <use x=\"410.216797\" xlink:href=\"#DejaVuSans-Bold-114\"/>\n    </g>\n   </g>\n  </g>\n  <g id=\"axes_16\">\n   <g clip-path=\"url(#p4307e0c18b)\">\n    <image height=\"108\" id=\"imaged182382830\" transform=\"scale(1 -1)translate(0 -108)\" width=\"108\" x=\"361.8\" xlink:href=\"data:image/png;base64,\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\" y=\"-286.65485\"/>\n   </g>\n   <g id=\"text_16\">\n    <g id=\"patch_17\">\n     <path d=\"M 384.334263 295.252395 \nL 450.501451 295.252395 \nL 450.501451 277.57427 \nL 384.334263 277.57427 \nz\n\" style=\"fill:#bfbf00;stroke:#bfbf00;stroke-linejoin:miter;\"/>\n    </g>\n    <!-- T-shirt/top -->\n    <g transform=\"translate(388.334263 289.172707)scale(0.1 -0.1)\">\n     <use xlink:href=\"#DejaVuSans-Bold-84\"/>\n     <use x=\"53.462891\" xlink:href=\"#DejaVuSans-Bold-45\"/>\n     <use x=\"94.966797\" xlink:href=\"#DejaVuSans-Bold-115\"/>\n     <use x=\"154.488281\" xlink:href=\"#DejaVuSans-Bold-104\"/>\n     <use x=\"225.679688\" xlink:href=\"#DejaVuSans-Bold-105\"/>\n     <use x=\"259.957031\" xlink:href=\"#DejaVuSans-Bold-114\"/>\n     <use x=\"309.273438\" xlink:href=\"#DejaVuSans-Bold-116\"/>\n     <use x=\"357.076172\" xlink:href=\"#DejaVuSans-Bold-47\"/>\n     <use x=\"393.599609\" xlink:href=\"#DejaVuSans-Bold-116\"/>\n     <use x=\"441.402344\" xlink:href=\"#DejaVuSans-Bold-111\"/>\n     <use x=\"510.103516\" xlink:href=\"#DejaVuSans-Bold-112\"/>\n    </g>\n   </g>\n  </g>\n  <g id=\"axes_17\">\n   <g clip-path=\"url(#p795d726d1f)\">\n    <image height=\"108\" id=\"imageeaa0c3cf2c\" transform=\"scale(1 -1)translate(0 -108)\" width=\"108\" x=\"480\" xlink:href=\"data:image/png;base64,\niVBORw0KGgoAAAANSUhEUgAAAGwAAABsCAYAAACPZlfNAAAABHNCSVQICAgIfAhkiAAABiBJREFUeJztnbtLHF0Yxs/G9e56v6KgRgVj8IZ2FlZqZ5UtIoJob2Ep/gPeEMRSmwhapdEuVQpBELVQFBvxBl5jEpN4v37FB8N5n8nOxs9g8vI9v+o8ntnZ2X088857zjuzPmPMgyFqePGnD4A8DhqmDBqmDBqmDBqmDBqmDBqmDBqmDBqmDBqmDBqmDBqmDBqmDBqmDBqmDBqmDBqmDBqmDL/P5xN/eHhgxcBz4vf7hb6/v/fcniNMGTRMGTRMGT7zyDK3iooKp11fXy/6vn//LvT6+rrQHR0dQm9vbwvd398v9OXl5S8fV0ZGhtDd3d1C19bWer7+w4cPTru1tVX0vX//XuiVlRWhExMThR4dHfU+2EeA1xgcYcqgYcqgYcrwBYNBEcPa29vFBpgnREVFOe2IiAjRhznc7e2t0JGRkSH3ZYwxV1dXQp+fnzvt169fi76kpCSh5+fnPd/78+fPQsfExAh9dnbmtOPj40P2/aw/PT1daPzOysvLhX7z5o3TnpubE30nJyfGC44wZdAwZdAwZfgGBgZE4MnPzxcbLCwsCH10dOS0MWZdX18LjTEqOTlZaMyzCgsLQ27/6dMn0be3tyf0wcFByOM0xp3PxMXFCR0IBJw2xiA7lhrjjrW475ycHKExhtm6oaFB9I2NjQnd1dUlNEeYMmiYMmiYMnyBQEAEora2NrHB1taW0FlZWU47ISFB9GFcaW5uFhpj1uzsrGe/V26Um5srdF5eXsjjNMadt2E8tWMY5osXFxeex/nt2zehNzY2hN7d3RXankNNS0sTffidTU1NCc0Rpgwapgwapgw/5j53d3ee2p6Tw3P9y5cvPV/77t07oUtKSoQuKysT2l7DevXqlejDuUBci8Nc6uvXr0JjLmXneZhP4pwpfu7U1FSh8XvA7e394Zrgly9fhMY5UI4wZdAwZbhKBDY3N8UGS0tLQhcVFTltnMY6Pj4WGpclcLhjWoCX5vblM+4bp6rwNIblYjc3N0LjKdUGT4EvXsj/a9wXXvZHR0eH3Lcx3ktUNTU1Qvf29spj8dwz+eugYcqgYcpwxbDp6WmxAU4JzczMOG28JMXyMLx0zszMFBqXZ3CKx45LGKPsqSRj3KVmuOTx48cPoQ8PD4VOSUlx2rGxsaIPPwcuG+GxYAzD/dnxFVMffK/GxkahOcKUQcOUQcOU4cc/4Lkfy8X29/edNk65YLxDcJkB8xvMSWxwGQKnnnBqCuMMLq9gnmZ/bvwO8L0wFnsdtzHuUjY7hywuLhZ9IyMjQmPpA0eYMmiYMmiYMlx52MTEhNgAS7bsvAHn47xyG2PcMQ/nGnF/dika5is4n4dxBmMv9mOZG+Z5NphH4XfU19cX8rW/G44wZdAwZdAwZbjyMMTrth3MdbD0DMul7RzOGGPq6uqExphm5zdYLo0xDefzcO4QYzHmhHaeh7cuDQ0NCY1rhAjml5jz2f1e+aAx7vlWjjBl0DBl0DBluPKwpqYmsUFPT4/Q9noN5lXhbpHF0mw8f1dXVwttn+sxp8P5O4xpuD2uteHnxHqTx/Ccj3/iCFMGDVMGDVOGKw/DOTasT1hdXXXa+LgDvIUH9/X27VuhFxcXhcZaQ/tRDzs7O6IPH1WEpdwfP34UOhgMmv9KuBj1nI8s5AhTBg1ThuuyHu+8wGkZu7x6bW1N9GGJFt7VkZ2dLTQu++NUl33Zj3ef4L7xzpjh4WHjBZ7mbP7mp7JyhCmDhimDhinj0U8knZycdNr4hBe8ux6XV/C2nNPTU6ELCgqE9rotp6qqSuhwt/iEuzS3+736ftb/nHCEKYOGKYOGKSNsiQDS0tLitHFqanBwUOjS0lKhcZkey+JQ2zHMvlXXGGM6Ozt/8Yj/xbXU7rGMj/Ey3K81PCccYcqgYcqgYcp4dB72FHB5ZXx8XOjl5WWh7biDORr+KoW97GNM+DjklUuFK1P7k3CEKYOGKYOGKeO3xrCnnvsrKyuFtn8lAXM6+9eI/k9whCmDhimDhinjWfMw8nQ4wpRBw5RBw5RBw5RBw5RBw5RBw5RBw5RBw5RBw5RBw5RBw5RBw5RBw5RBw5RBw5RBw5RBw5TxD5VtDTu3indRAAAAAElFTkSuQmCC\" y=\"-286.65485\"/>\n   </g>\n   <g id=\"text_17\">\n    <g id=\"patch_18\">\n     <path d=\"M 501.178795 295.252395 \nL 570.05692 295.252395 \nL 570.05692 277.57427 \nL 501.178795 277.57427 \nz\n\" style=\"fill:#bfbf00;stroke:#bfbf00;stroke-linejoin:miter;\"/>\n    </g>\n    <!-- Ankle boot -->\n    <g transform=\"translate(505.178795 289.172707)scale(0.1 -0.1)\">\n     <use xlink:href=\"#DejaVuSans-Bold-65\"/>\n     <use x=\"77.392578\" xlink:href=\"#DejaVuSans-Bold-110\"/>\n     <use x=\"148.583984\" xlink:href=\"#DejaVuSans-Bold-107\"/>\n     <use x=\"215.087891\" xlink:href=\"#DejaVuSans-Bold-108\"/>\n     <use x=\"249.365234\" xlink:href=\"#DejaVuSans-Bold-101\"/>\n     <use x=\"317.1875\" xlink:href=\"#DejaVuSans-Bold-32\"/>\n     <use x=\"352.001953\" xlink:href=\"#DejaVuSans-Bold-98\"/>\n     <use x=\"423.583984\" xlink:href=\"#DejaVuSans-Bold-111\"/>\n     <use x=\"492.285156\" xlink:href=\"#DejaVuSans-Bold-111\"/>\n     <use x=\"560.986328\" xlink:href=\"#DejaVuSans-Bold-116\"/>\n    </g>\n   </g>\n  </g>\n  <g id=\"axes_18\">\n   <g clip-path=\"url(#pff63696a54)\">\n    <image height=\"108\" id=\"image07ee03f375\" transform=\"scale(1 -1)translate(0 -108)\" width=\"108\" x=\"598.2\" xlink:href=\"data:image/png;base64,\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\" y=\"-286.65485\"/>\n   </g>\n   <g id=\"text_18\">\n    <g id=\"patch_19\">\n     <path d=\"M 620.734263 295.252395 \nL 686.901451 295.252395 \nL 686.901451 277.57427 \nL 620.734263 277.57427 \nz\n\" style=\"fill:#bfbf00;stroke:#bfbf00;stroke-linejoin:miter;\"/>\n    </g>\n    <!-- T-shirt/top -->\n    <g transform=\"translate(624.734263 289.172707)scale(0.1 -0.1)\">\n     <use xlink:href=\"#DejaVuSans-Bold-84\"/>\n     <use x=\"53.462891\" xlink:href=\"#DejaVuSans-Bold-45\"/>\n     <use x=\"94.966797\" xlink:href=\"#DejaVuSans-Bold-115\"/>\n     <use x=\"154.488281\" xlink:href=\"#DejaVuSans-Bold-104\"/>\n     <use x=\"225.679688\" xlink:href=\"#DejaVuSans-Bold-105\"/>\n     <use x=\"259.957031\" xlink:href=\"#DejaVuSans-Bold-114\"/>\n     <use x=\"309.273438\" xlink:href=\"#DejaVuSans-Bold-116\"/>\n     <use x=\"357.076172\" xlink:href=\"#DejaVuSans-Bold-47\"/>\n     <use x=\"393.599609\" xlink:href=\"#DejaVuSans-Bold-116\"/>\n     <use x=\"441.402344\" xlink:href=\"#DejaVuSans-Bold-111\"/>\n     <use x=\"510.103516\" xlink:href=\"#DejaVuSans-Bold-112\"/>\n    </g>\n   </g>\n  </g>\n </g>\n <defs>\n  <clipPath id=\"pd1fe456799\">\n   <rect height=\"107.4\" width=\"107.4\" x=\"7.2\" y=\"12.88058\"/>\n  </clipPath>\n  <clipPath id=\"p483372b212\">\n   <rect height=\"107.4\" width=\"107.4\" x=\"125.4\" y=\"12.88058\"/>\n  </clipPath>\n  <clipPath id=\"p5e17a0117a\">\n   <rect height=\"107.4\" width=\"107.4\" x=\"243.6\" y=\"12.88058\"/>\n  </clipPath>\n  <clipPath id=\"pec6487be11\">\n   <rect height=\"107.4\" width=\"107.4\" x=\"361.8\" y=\"12.88058\"/>\n  </clipPath>\n  <clipPath id=\"pfe4d646c2f\">\n   <rect height=\"107.4\" width=\"107.4\" x=\"480\" y=\"12.88058\"/>\n  </clipPath>\n  <clipPath id=\"p36b7d95a00\">\n   <rect height=\"107.4\" width=\"107.4\" x=\"598.2\" y=\"12.88058\"/>\n  </clipPath>\n  <clipPath id=\"pb8e5ad0be6\">\n   <rect height=\"107.4\" width=\"107.4\" x=\"7.2\" y=\"150.067715\"/>\n  </clipPath>\n  <clipPath id=\"p22a97246b0\">\n   <rect height=\"107.4\" width=\"107.4\" x=\"125.4\" y=\"150.067715\"/>\n  </clipPath>\n  <clipPath id=\"p570e66cc74\">\n   <rect height=\"107.4\" width=\"107.4\" x=\"243.6\" y=\"150.067715\"/>\n  </clipPath>\n  <clipPath id=\"p32ac7290ea\">\n   <rect height=\"107.4\" width=\"107.4\" x=\"361.8\" y=\"150.067715\"/>\n  </clipPath>\n  <clipPath id=\"p9bdc2a2d6b\">\n   <rect height=\"107.4\" width=\"107.4\" x=\"480\" y=\"150.067715\"/>\n  </clipPath>\n  <clipPath id=\"p9c91bd9c46\">\n   <rect height=\"107.4\" width=\"107.4\" x=\"598.2\" y=\"150.067715\"/>\n  </clipPath>\n  <clipPath id=\"pc415d62656\">\n   <rect height=\"107.4\" width=\"107.4\" x=\"7.2\" y=\"287.25485\"/>\n  </clipPath>\n  <clipPath id=\"pe46977b79c\">\n   <rect height=\"107.4\" width=\"107.4\" x=\"125.4\" y=\"287.25485\"/>\n  </clipPath>\n  <clipPath id=\"p30aa5f53a8\">\n   <rect height=\"107.4\" width=\"107.4\" x=\"243.6\" y=\"287.25485\"/>\n  </clipPath>\n  <clipPath id=\"p4307e0c18b\">\n   <rect height=\"107.4\" width=\"107.4\" x=\"361.8\" y=\"287.25485\"/>\n  </clipPath>\n  <clipPath id=\"p795d726d1f\">\n   <rect height=\"107.4\" width=\"107.4\" x=\"480\" y=\"287.25485\"/>\n  </clipPath>\n  <clipPath id=\"pff63696a54\">\n   <rect height=\"107.4\" width=\"107.4\" x=\"598.2\" y=\"287.25485\"/>\n  </clipPath>\n </defs>\n</svg>\n"
          },
          "metadata": {
            "needs_background": "light"
          }
        }
      ]
    },
    {
      "cell_type": "markdown",
      "source": [
        "## Create the DL model"
      ],
      "metadata": {
        "id": "4sUIKcKt8GUG"
      }
    },
    {
      "cell_type": "code",
      "source": [
        "# create a class for the model\n",
        "def makeTheNet(printtoggle=False):\n",
        "\n",
        "  class cnnnet(nn.Module):\n",
        "    def __init__(self,printtoggle):\n",
        "      super().__init__()\n",
        "      \n",
        "      # print toggle\n",
        "      self.print = printtoggle\n",
        "\n",
        "      ### -------------- feature map layers -------------- ###\n",
        "      # first convolution layer\n",
        "      self.conv1  = nn.Conv2d(1,16,3,padding=1)\n",
        "      self.bnorm1 = nn.BatchNorm2d(16) # input the number of channels in this layer\n",
        "      # output size: (28+2*1-3)/1 + 1 = 28/2 = 14 (/2 b/c maxpool)\n",
        "\n",
        "      # second convolution layer\n",
        "      self.conv2  = nn.Conv2d(16,32,3)\n",
        "      self.bnorm2 = nn.BatchNorm2d(32) # input the number of channels in this layer\n",
        "      # output size: (14+2*0-3)/1 + 1 = 12/2 = 6 (/2 b/c maxpool)\n",
        "      \n",
        "      ### -------------- linear decision layers -------------- ###\n",
        "      self.fc1 = nn.Linear(6*6*32,64)\n",
        "      self.fc2 = nn.Linear(64,32)\n",
        "      self.fc3 = nn.Linear(32,10)\n",
        "\n",
        "    def forward(self,x):\n",
        "      \n",
        "      if self.print: print(f'Input: {list(x.shape)}')\n",
        "      \n",
        "      # first block: convolution -> maxpool -> batchnorm -> relu\n",
        "      x = F.max_pool2d(self.conv1(x),2)\n",
        "      x = F.leaky_relu(self.bnorm1(x))\n",
        "      if self.print: print(f'First CPR block: {list(x.shape)}')\n",
        "\n",
        "      # second block: convolution -> maxpool -> batchnorm -> relu\n",
        "      x = F.max_pool2d(self.conv2(x),2)\n",
        "      x = F.leaky_relu(self.bnorm2(x))\n",
        "      if self.print: print(f'Second CPR block: {list(x.shape)}')\n",
        "\n",
        "      # reshape for linear layer\n",
        "      nUnits = x.shape.numel()/x.shape[0]\n",
        "      x = x.view(-1,int(nUnits))\n",
        "      if self.print: print(f'Vectorized: {list(x.shape)}')\n",
        "      \n",
        "      # linear layers\n",
        "      x = F.leaky_relu(self.fc1(x))\n",
        "      x = F.dropout(x,p=.5,training=self.training)\n",
        "      x = F.leaky_relu(self.fc2(x))\n",
        "      x = F.dropout(x,p=.5,training=self.training) # training=self.training means to turn off during eval mode\n",
        "      x = self.fc3(x)\n",
        "      if self.print: print(f'Final output: {list(x.shape)}')\n",
        "\n",
        "      return x\n",
        "\n",
        "  # create the model instance\n",
        "  net = cnnnet(printtoggle)\n",
        "  \n",
        "  # loss function\n",
        "  lossfun = nn.CrossEntropyLoss()\n",
        "\n",
        "  # optimizer\n",
        "  optimizer = torch.optim.Adam(net.parameters(),lr=.001)\n",
        "\n",
        "  return net,lossfun,optimizer"
      ],
      "metadata": {
        "id": "yWJjDuO-72cX"
      },
      "execution_count": 7,
      "outputs": []
    },
    {
      "cell_type": "code",
      "source": [
        "# test the model with one batch\n",
        "net,lossfun,optimizer = makeTheNet(True)\n",
        "\n",
        "X,y = iter(train_loader).next()\n",
        "yHat = net(X)\n",
        "\n",
        "# check size of output\n",
        "print('\\nOutput size:')\n",
        "print(yHat.shape)\n",
        "\n",
        "# # now let's compute the loss\n",
        "loss = lossfun(yHat,torch.squeeze(y))\n",
        "print(' ')\n",
        "print('Loss:')\n",
        "print(loss)"
      ],
      "metadata": {
        "colab": {
          "base_uri": "https://localhost:8080/"
        },
        "id": "VheiwT7h72Zw",
        "outputId": "e0e2703a-30d5-4472-e761-7f8e09b0c729"
      },
      "execution_count": 8,
      "outputs": [
        {
          "output_type": "stream",
          "name": "stdout",
          "text": [
            "Input: [32, 1, 28, 28]\n",
            "First CPR block: [32, 16, 14, 14]\n",
            "Second CPR block: [32, 32, 6, 6]\n",
            "Vectorized: [32, 1152]\n",
            "Final output: [32, 10]\n",
            "\n",
            "Output size:\n",
            "torch.Size([32, 10])\n",
            " \n",
            "Loss:\n",
            "tensor(2.3192, grad_fn=<NllLossBackward0>)\n"
          ]
        }
      ]
    },
    {
      "cell_type": "markdown",
      "source": [
        "## Create a function that trains the model"
      ],
      "metadata": {
        "id": "3Ycyn8cA8Mqn"
      }
    },
    {
      "cell_type": "code",
      "source": [
        "# a function that trains the model\n",
        "\n",
        "def funtion2trainTheModel():\n",
        "\n",
        "  # number of epochs\n",
        "  numepochs = 10\n",
        "  \n",
        "  # create a new model\n",
        "  net,lossfun,optimizer = makeTheNet()\n",
        "\n",
        "  # send the model to the GPU\n",
        "  net.to(device)\n",
        "\n",
        "  # initialize losses\n",
        "  trainLoss = torch.zeros(numepochs)\n",
        "  devLoss   = torch.zeros(numepochs)\n",
        "  trainAcc  = torch.zeros(numepochs)\n",
        "  devAcc    = torch.zeros(numepochs)\n",
        "\n",
        "\n",
        "  # loop over epochs\n",
        "  for epochi in range(numepochs):\n",
        "\n",
        "    # loop over training data batches\n",
        "    net.train() # switch to train mode\n",
        "    batchLoss = []\n",
        "    batchAcc  = []\n",
        "    for X,y in train_loader:\n",
        "\n",
        "      # push data to GPU\n",
        "      X = X.to(device)\n",
        "      y = y.to(device)\n",
        "\n",
        "      # forward pass and loss\n",
        "      yHat = net(X)\n",
        "      loss = lossfun(yHat,y)\n",
        "\n",
        "      # backprop\n",
        "      optimizer.zero_grad()\n",
        "      loss.backward()\n",
        "      optimizer.step()\n",
        "\n",
        "      # loss and accuracy from this batch\n",
        "      batchLoss.append(loss.item())\n",
        "      batchAcc.append( torch.mean((torch.argmax(yHat,axis=1) == y).float()).item() )\n",
        "    # end of batch loop...\n",
        "\n",
        "    # and get average losses and accuracies across the batches\n",
        "    trainLoss[epochi] = np.mean(batchLoss)\n",
        "    trainAcc[epochi]  = 100*np.mean(batchAcc)\n",
        "\n",
        "\n",
        "    #### test performance\n",
        "    net.eval() # switch to test mode\n",
        "    X,y = next(iter(dev_loader))\n",
        "\n",
        "    # push data to GPU\n",
        "    X = X.to(device)\n",
        "    y = y.to(device)\n",
        "\n",
        "    # forward pass and loss\n",
        "    with torch.no_grad():\n",
        "      yHat = net(X)\n",
        "      loss = lossfun(yHat,y)\n",
        "\n",
        "    # and get average losses and accuracies across the batches\n",
        "    devLoss[epochi] = loss.item()\n",
        "    devAcc[epochi]  = 100*torch.mean((torch.argmax(yHat,axis=1) == y).float()).item()\n",
        "\n",
        "  # end epochs\n",
        "\n",
        "  # function output\n",
        "  return trainLoss,devLoss,trainAcc,devAcc,net"
      ],
      "metadata": {
        "id": "4AIZvNxr72XO"
      },
      "execution_count": 9,
      "outputs": []
    },
    {
      "cell_type": "markdown",
      "source": [
        "## Run the model and show the results!"
      ],
      "metadata": {
        "id": "qkTeLUiy8R_A"
      }
    },
    {
      "cell_type": "code",
      "source": [
        "%%time\n",
        "# ~3 minutes with 10 epochs on GPU\n",
        "trainLoss,devLoss,trainAcc,devAcc,net = funtion2trainTheModel()"
      ],
      "metadata": {
        "colab": {
          "base_uri": "https://localhost:8080/"
        },
        "id": "iwsArVVR72Uv",
        "outputId": "9c896a9e-f6f2-46fb-f088-b2793f2ff52f"
      },
      "execution_count": 10,
      "outputs": [
        {
          "output_type": "stream",
          "name": "stdout",
          "text": [
            "CPU times: user 2min 41s, sys: 3.23 s, total: 2min 44s\n",
            "Wall time: 2min 50s\n"
          ]
        }
      ]
    },
    {
      "cell_type": "code",
      "source": [
        "## the real test set!\n",
        "\n",
        "net.eval() # switch to test mode\n",
        "X,y = next(iter(test_loader))\n",
        "\n",
        "# push data to GPU\n",
        "X = X.to(device)\n",
        "y = y.to(device)\n",
        "\n",
        "# forward pass and loss\n",
        "with torch.no_grad():\n",
        "  yHat = net(X)\n",
        "  loss = lossfun(yHat,y)\n",
        "\n",
        "# loss and accuracy from this batch\n",
        "testLoss = loss.item()\n",
        "testAcc  = 100*torch.mean((torch.argmax(yHat,axis=1) == y).float()).item()"
      ],
      "metadata": {
        "id": "HT4DSV1N72SH"
      },
      "execution_count": 11,
      "outputs": []
    },
    {
      "cell_type": "code",
      "source": [
        "fig,ax = plt.subplots(1,2,figsize=(16,5))\n",
        "\n",
        "ax[0].plot(trainLoss,'s-',label='Train')\n",
        "ax[0].plot(devLoss,'o-',label='Dev')\n",
        "ax[0].plot(len(devLoss)-1,testLoss,'r*',markersize=15,label='Test')\n",
        "ax[0].set_xlabel('Epochs')\n",
        "ax[0].set_ylabel('Loss (CEL)')\n",
        "ax[0].set_title('Model loss')\n",
        "\n",
        "ax[1].plot(trainAcc,'s-',label='Train')\n",
        "ax[1].plot(devAcc,'o-',label='Dev')\n",
        "ax[1].plot(len(devAcc)-1,testAcc,'r*',markersize=15,label='Test')\n",
        "ax[1].set_xlabel('Epochs')\n",
        "ax[1].set_ylabel('Accuracy (%)')\n",
        "ax[1].set_title(f'Final model dev/test accuracy: {devAcc[-1]:.2f}/{testAcc:.2f}%')\n",
        "ax[1].legend()\n",
        "\n",
        "plt.show()"
      ],
      "metadata": {
        "colab": {
          "base_uri": "https://localhost:8080/",
          "height": 463
        },
        "id": "1f1OoScd8Y2X",
        "outputId": "7c4f5934-34e9-4d9a-9abc-ddc614988218"
      },
      "execution_count": 12,
      "outputs": [
        {
          "output_type": "display_data",
          "data": {
            "text/plain": [
              "<Figure size 1152x360 with 2 Axes>"
            ],
            "image/svg+xml": "<?xml version=\"1.0\" encoding=\"utf-8\" standalone=\"no\"?>\n<!DOCTYPE svg PUBLIC \"-//W3C//DTD SVG 1.1//EN\"\n  \"http://www.w3.org/Graphics/SVG/1.1/DTD/svg11.dtd\">\n<!-- Created with matplotlib (https://matplotlib.org/) -->\n<svg height=\"331.674375pt\" version=\"1.1\" viewBox=\"0 0 943.78125 331.674375\" width=\"943.78125pt\" xmlns=\"http://www.w3.org/2000/svg\" xmlns:xlink=\"http://www.w3.org/1999/xlink\">\n <defs>\n  <style type=\"text/css\">\n*{stroke-linecap:butt;stroke-linejoin:round;}\n  </style>\n </defs>\n <g id=\"figure_1\">\n  <g id=\"patch_1\">\n   <path d=\"M 0 331.674375 \nL 943.78125 331.674375 \nL 943.78125 0 \nL 0 0 \nz\n\" style=\"fill:none;\"/>\n  </g>\n  <g id=\"axes_1\">\n   <g id=\"patch_2\">\n    <path d=\"M 43.78125 294.118125 \nL 449.599432 294.118125 \nL 449.599432 22.318125 \nL 43.78125 22.318125 \nz\n\" style=\"fill:#ffffff;\"/>\n   </g>\n   <g id=\"matplotlib.axis_1\">\n    <g id=\"xtick_1\">\n     <g id=\"line2d_1\">\n      <defs>\n       <path d=\"M 0 0 \nL 0 3.5 \n\" id=\"mb293f7f9ca\" style=\"stroke:#000000;stroke-width:0.8;\"/>\n      </defs>\n      <g>\n       <use style=\"stroke:#000000;stroke-width:0.8;\" x=\"62.227531\" xlink:href=\"#mb293f7f9ca\" y=\"294.118125\"/>\n      </g>\n     </g>\n     <g id=\"text_1\">\n      <!-- 0 -->\n      <defs>\n       <path d=\"M 31.78125 66.40625 \nQ 24.171875 66.40625 20.328125 58.90625 \nQ 16.5 51.421875 16.5 36.375 \nQ 16.5 21.390625 20.328125 13.890625 \nQ 24.171875 6.390625 31.78125 6.390625 \nQ 39.453125 6.390625 43.28125 13.890625 \nQ 47.125 21.390625 47.125 36.375 \nQ 47.125 51.421875 43.28125 58.90625 \nQ 39.453125 66.40625 31.78125 66.40625 \nz\nM 31.78125 74.21875 \nQ 44.046875 74.21875 50.515625 64.515625 \nQ 56.984375 54.828125 56.984375 36.375 \nQ 56.984375 17.96875 50.515625 8.265625 \nQ 44.046875 -1.421875 31.78125 -1.421875 \nQ 19.53125 -1.421875 13.0625 8.265625 \nQ 6.59375 17.96875 6.59375 36.375 \nQ 6.59375 54.828125 13.0625 64.515625 \nQ 19.53125 74.21875 31.78125 74.21875 \nz\n\" id=\"DejaVuSans-48\"/>\n      </defs>\n      <g transform=\"translate(59.046281 308.716563)scale(0.1 -0.1)\">\n       <use xlink:href=\"#DejaVuSans-48\"/>\n      </g>\n     </g>\n    </g>\n    <g id=\"xtick_2\">\n     <g id=\"line2d_2\">\n      <g>\n       <use style=\"stroke:#000000;stroke-width:0.8;\" x=\"144.211002\" xlink:href=\"#mb293f7f9ca\" y=\"294.118125\"/>\n      </g>\n     </g>\n     <g id=\"text_2\">\n      <!-- 2 -->\n      <defs>\n       <path d=\"M 19.1875 8.296875 \nL 53.609375 8.296875 \nL 53.609375 0 \nL 7.328125 0 \nL 7.328125 8.296875 \nQ 12.9375 14.109375 22.625 23.890625 \nQ 32.328125 33.6875 34.8125 36.53125 \nQ 39.546875 41.84375 41.421875 45.53125 \nQ 43.3125 49.21875 43.3125 52.78125 \nQ 43.3125 58.59375 39.234375 62.25 \nQ 35.15625 65.921875 28.609375 65.921875 \nQ 23.96875 65.921875 18.8125 64.3125 \nQ 13.671875 62.703125 7.8125 59.421875 \nL 7.8125 69.390625 \nQ 13.765625 71.78125 18.9375 73 \nQ 24.125 74.21875 28.421875 74.21875 \nQ 39.75 74.21875 46.484375 68.546875 \nQ 53.21875 62.890625 53.21875 53.421875 \nQ 53.21875 48.921875 51.53125 44.890625 \nQ 49.859375 40.875 45.40625 35.40625 \nQ 44.1875 33.984375 37.640625 27.21875 \nQ 31.109375 20.453125 19.1875 8.296875 \nz\n\" id=\"DejaVuSans-50\"/>\n      </defs>\n      <g transform=\"translate(141.029752 308.716563)scale(0.1 -0.1)\">\n       <use xlink:href=\"#DejaVuSans-50\"/>\n      </g>\n     </g>\n    </g>\n    <g id=\"xtick_3\">\n     <g id=\"line2d_3\">\n      <g>\n       <use style=\"stroke:#000000;stroke-width:0.8;\" x=\"226.194473\" xlink:href=\"#mb293f7f9ca\" y=\"294.118125\"/>\n      </g>\n     </g>\n     <g id=\"text_3\">\n      <!-- 4 -->\n      <defs>\n       <path d=\"M 37.796875 64.3125 \nL 12.890625 25.390625 \nL 37.796875 25.390625 \nz\nM 35.203125 72.90625 \nL 47.609375 72.90625 \nL 47.609375 25.390625 \nL 58.015625 25.390625 \nL 58.015625 17.1875 \nL 47.609375 17.1875 \nL 47.609375 0 \nL 37.796875 0 \nL 37.796875 17.1875 \nL 4.890625 17.1875 \nL 4.890625 26.703125 \nz\n\" id=\"DejaVuSans-52\"/>\n      </defs>\n      <g transform=\"translate(223.013223 308.716563)scale(0.1 -0.1)\">\n       <use xlink:href=\"#DejaVuSans-52\"/>\n      </g>\n     </g>\n    </g>\n    <g id=\"xtick_4\">\n     <g id=\"line2d_4\">\n      <g>\n       <use style=\"stroke:#000000;stroke-width:0.8;\" x=\"308.177944\" xlink:href=\"#mb293f7f9ca\" y=\"294.118125\"/>\n      </g>\n     </g>\n     <g id=\"text_4\">\n      <!-- 6 -->\n      <defs>\n       <path d=\"M 33.015625 40.375 \nQ 26.375 40.375 22.484375 35.828125 \nQ 18.609375 31.296875 18.609375 23.390625 \nQ 18.609375 15.53125 22.484375 10.953125 \nQ 26.375 6.390625 33.015625 6.390625 \nQ 39.65625 6.390625 43.53125 10.953125 \nQ 47.40625 15.53125 47.40625 23.390625 \nQ 47.40625 31.296875 43.53125 35.828125 \nQ 39.65625 40.375 33.015625 40.375 \nz\nM 52.59375 71.296875 \nL 52.59375 62.3125 \nQ 48.875 64.0625 45.09375 64.984375 \nQ 41.3125 65.921875 37.59375 65.921875 \nQ 27.828125 65.921875 22.671875 59.328125 \nQ 17.53125 52.734375 16.796875 39.40625 \nQ 19.671875 43.65625 24.015625 45.921875 \nQ 28.375 48.1875 33.59375 48.1875 \nQ 44.578125 48.1875 50.953125 41.515625 \nQ 57.328125 34.859375 57.328125 23.390625 \nQ 57.328125 12.15625 50.6875 5.359375 \nQ 44.046875 -1.421875 33.015625 -1.421875 \nQ 20.359375 -1.421875 13.671875 8.265625 \nQ 6.984375 17.96875 6.984375 36.375 \nQ 6.984375 53.65625 15.1875 63.9375 \nQ 23.390625 74.21875 37.203125 74.21875 \nQ 40.921875 74.21875 44.703125 73.484375 \nQ 48.484375 72.75 52.59375 71.296875 \nz\n\" id=\"DejaVuSans-54\"/>\n      </defs>\n      <g transform=\"translate(304.996694 308.716563)scale(0.1 -0.1)\">\n       <use xlink:href=\"#DejaVuSans-54\"/>\n      </g>\n     </g>\n    </g>\n    <g id=\"xtick_5\">\n     <g id=\"line2d_5\">\n      <g>\n       <use style=\"stroke:#000000;stroke-width:0.8;\" x=\"390.161415\" xlink:href=\"#mb293f7f9ca\" y=\"294.118125\"/>\n      </g>\n     </g>\n     <g id=\"text_5\">\n      <!-- 8 -->\n      <defs>\n       <path d=\"M 31.78125 34.625 \nQ 24.75 34.625 20.71875 30.859375 \nQ 16.703125 27.09375 16.703125 20.515625 \nQ 16.703125 13.921875 20.71875 10.15625 \nQ 24.75 6.390625 31.78125 6.390625 \nQ 38.8125 6.390625 42.859375 10.171875 \nQ 46.921875 13.96875 46.921875 20.515625 \nQ 46.921875 27.09375 42.890625 30.859375 \nQ 38.875 34.625 31.78125 34.625 \nz\nM 21.921875 38.8125 \nQ 15.578125 40.375 12.03125 44.71875 \nQ 8.5 49.078125 8.5 55.328125 \nQ 8.5 64.0625 14.71875 69.140625 \nQ 20.953125 74.21875 31.78125 74.21875 \nQ 42.671875 74.21875 48.875 69.140625 \nQ 55.078125 64.0625 55.078125 55.328125 \nQ 55.078125 49.078125 51.53125 44.71875 \nQ 48 40.375 41.703125 38.8125 \nQ 48.828125 37.15625 52.796875 32.3125 \nQ 56.78125 27.484375 56.78125 20.515625 \nQ 56.78125 9.90625 50.3125 4.234375 \nQ 43.84375 -1.421875 31.78125 -1.421875 \nQ 19.734375 -1.421875 13.25 4.234375 \nQ 6.78125 9.90625 6.78125 20.515625 \nQ 6.78125 27.484375 10.78125 32.3125 \nQ 14.796875 37.15625 21.921875 38.8125 \nz\nM 18.3125 54.390625 \nQ 18.3125 48.734375 21.84375 45.5625 \nQ 25.390625 42.390625 31.78125 42.390625 \nQ 38.140625 42.390625 41.71875 45.5625 \nQ 45.3125 48.734375 45.3125 54.390625 \nQ 45.3125 60.0625 41.71875 63.234375 \nQ 38.140625 66.40625 31.78125 66.40625 \nQ 25.390625 66.40625 21.84375 63.234375 \nQ 18.3125 60.0625 18.3125 54.390625 \nz\n\" id=\"DejaVuSans-56\"/>\n      </defs>\n      <g transform=\"translate(386.980165 308.716563)scale(0.1 -0.1)\">\n       <use xlink:href=\"#DejaVuSans-56\"/>\n      </g>\n     </g>\n    </g>\n    <g id=\"text_6\">\n     <!-- Epochs -->\n     <defs>\n      <path d=\"M 9.8125 72.90625 \nL 55.90625 72.90625 \nL 55.90625 64.59375 \nL 19.671875 64.59375 \nL 19.671875 43.015625 \nL 54.390625 43.015625 \nL 54.390625 34.71875 \nL 19.671875 34.71875 \nL 19.671875 8.296875 \nL 56.78125 8.296875 \nL 56.78125 0 \nL 9.8125 0 \nz\n\" id=\"DejaVuSans-69\"/>\n      <path d=\"M 18.109375 8.203125 \nL 18.109375 -20.796875 \nL 9.078125 -20.796875 \nL 9.078125 54.6875 \nL 18.109375 54.6875 \nL 18.109375 46.390625 \nQ 20.953125 51.265625 25.265625 53.625 \nQ 29.59375 56 35.59375 56 \nQ 45.5625 56 51.78125 48.09375 \nQ 58.015625 40.1875 58.015625 27.296875 \nQ 58.015625 14.40625 51.78125 6.484375 \nQ 45.5625 -1.421875 35.59375 -1.421875 \nQ 29.59375 -1.421875 25.265625 0.953125 \nQ 20.953125 3.328125 18.109375 8.203125 \nz\nM 48.6875 27.296875 \nQ 48.6875 37.203125 44.609375 42.84375 \nQ 40.53125 48.484375 33.40625 48.484375 \nQ 26.265625 48.484375 22.1875 42.84375 \nQ 18.109375 37.203125 18.109375 27.296875 \nQ 18.109375 17.390625 22.1875 11.75 \nQ 26.265625 6.109375 33.40625 6.109375 \nQ 40.53125 6.109375 44.609375 11.75 \nQ 48.6875 17.390625 48.6875 27.296875 \nz\n\" id=\"DejaVuSans-112\"/>\n      <path d=\"M 30.609375 48.390625 \nQ 23.390625 48.390625 19.1875 42.75 \nQ 14.984375 37.109375 14.984375 27.296875 \nQ 14.984375 17.484375 19.15625 11.84375 \nQ 23.34375 6.203125 30.609375 6.203125 \nQ 37.796875 6.203125 41.984375 11.859375 \nQ 46.1875 17.53125 46.1875 27.296875 \nQ 46.1875 37.015625 41.984375 42.703125 \nQ 37.796875 48.390625 30.609375 48.390625 \nz\nM 30.609375 56 \nQ 42.328125 56 49.015625 48.375 \nQ 55.71875 40.765625 55.71875 27.296875 \nQ 55.71875 13.875 49.015625 6.21875 \nQ 42.328125 -1.421875 30.609375 -1.421875 \nQ 18.84375 -1.421875 12.171875 6.21875 \nQ 5.515625 13.875 5.515625 27.296875 \nQ 5.515625 40.765625 12.171875 48.375 \nQ 18.84375 56 30.609375 56 \nz\n\" id=\"DejaVuSans-111\"/>\n      <path d=\"M 48.78125 52.59375 \nL 48.78125 44.1875 \nQ 44.96875 46.296875 41.140625 47.34375 \nQ 37.3125 48.390625 33.40625 48.390625 \nQ 24.65625 48.390625 19.8125 42.84375 \nQ 14.984375 37.3125 14.984375 27.296875 \nQ 14.984375 17.28125 19.8125 11.734375 \nQ 24.65625 6.203125 33.40625 6.203125 \nQ 37.3125 6.203125 41.140625 7.25 \nQ 44.96875 8.296875 48.78125 10.40625 \nL 48.78125 2.09375 \nQ 45.015625 0.34375 40.984375 -0.53125 \nQ 36.96875 -1.421875 32.421875 -1.421875 \nQ 20.0625 -1.421875 12.78125 6.34375 \nQ 5.515625 14.109375 5.515625 27.296875 \nQ 5.515625 40.671875 12.859375 48.328125 \nQ 20.21875 56 33.015625 56 \nQ 37.15625 56 41.109375 55.140625 \nQ 45.0625 54.296875 48.78125 52.59375 \nz\n\" id=\"DejaVuSans-99\"/>\n      <path d=\"M 54.890625 33.015625 \nL 54.890625 0 \nL 45.90625 0 \nL 45.90625 32.71875 \nQ 45.90625 40.484375 42.875 44.328125 \nQ 39.84375 48.1875 33.796875 48.1875 \nQ 26.515625 48.1875 22.3125 43.546875 \nQ 18.109375 38.921875 18.109375 30.90625 \nL 18.109375 0 \nL 9.078125 0 \nL 9.078125 75.984375 \nL 18.109375 75.984375 \nL 18.109375 46.1875 \nQ 21.34375 51.125 25.703125 53.5625 \nQ 30.078125 56 35.796875 56 \nQ 45.21875 56 50.046875 50.171875 \nQ 54.890625 44.34375 54.890625 33.015625 \nz\n\" id=\"DejaVuSans-104\"/>\n      <path d=\"M 44.28125 53.078125 \nL 44.28125 44.578125 \nQ 40.484375 46.53125 36.375 47.5 \nQ 32.28125 48.484375 27.875 48.484375 \nQ 21.1875 48.484375 17.84375 46.4375 \nQ 14.5 44.390625 14.5 40.28125 \nQ 14.5 37.15625 16.890625 35.375 \nQ 19.28125 33.59375 26.515625 31.984375 \nL 29.59375 31.296875 \nQ 39.15625 29.25 43.1875 25.515625 \nQ 47.21875 21.78125 47.21875 15.09375 \nQ 47.21875 7.46875 41.1875 3.015625 \nQ 35.15625 -1.421875 24.609375 -1.421875 \nQ 20.21875 -1.421875 15.453125 -0.5625 \nQ 10.6875 0.296875 5.421875 2 \nL 5.421875 11.28125 \nQ 10.40625 8.6875 15.234375 7.390625 \nQ 20.0625 6.109375 24.8125 6.109375 \nQ 31.15625 6.109375 34.5625 8.28125 \nQ 37.984375 10.453125 37.984375 14.40625 \nQ 37.984375 18.0625 35.515625 20.015625 \nQ 33.0625 21.96875 24.703125 23.78125 \nL 21.578125 24.515625 \nQ 13.234375 26.265625 9.515625 29.90625 \nQ 5.8125 33.546875 5.8125 39.890625 \nQ 5.8125 47.609375 11.28125 51.796875 \nQ 16.75 56 26.8125 56 \nQ 31.78125 56 36.171875 55.265625 \nQ 40.578125 54.546875 44.28125 53.078125 \nz\n\" id=\"DejaVuSans-115\"/>\n     </defs>\n     <g transform=\"translate(228.774716 322.394687)scale(0.1 -0.1)\">\n      <use xlink:href=\"#DejaVuSans-69\"/>\n      <use x=\"63.183594\" xlink:href=\"#DejaVuSans-112\"/>\n      <use x=\"126.660156\" xlink:href=\"#DejaVuSans-111\"/>\n      <use x=\"187.841797\" xlink:href=\"#DejaVuSans-99\"/>\n      <use x=\"242.822266\" xlink:href=\"#DejaVuSans-104\"/>\n      <use x=\"306.201172\" xlink:href=\"#DejaVuSans-115\"/>\n     </g>\n    </g>\n   </g>\n   <g id=\"matplotlib.axis_2\">\n    <g id=\"ytick_1\">\n     <g id=\"line2d_6\">\n      <defs>\n       <path d=\"M 0 0 \nL -3.5 0 \n\" id=\"me3ab78a773\" style=\"stroke:#000000;stroke-width:0.8;\"/>\n      </defs>\n      <g>\n       <use style=\"stroke:#000000;stroke-width:0.8;\" x=\"43.78125\" xlink:href=\"#me3ab78a773\" y=\"265.401398\"/>\n      </g>\n     </g>\n     <g id=\"text_7\">\n      <!-- 0.3 -->\n      <defs>\n       <path d=\"M 10.6875 12.40625 \nL 21 12.40625 \nL 21 0 \nL 10.6875 0 \nz\n\" id=\"DejaVuSans-46\"/>\n       <path d=\"M 40.578125 39.3125 \nQ 47.65625 37.796875 51.625 33 \nQ 55.609375 28.21875 55.609375 21.1875 \nQ 55.609375 10.40625 48.1875 4.484375 \nQ 40.765625 -1.421875 27.09375 -1.421875 \nQ 22.515625 -1.421875 17.65625 -0.515625 \nQ 12.796875 0.390625 7.625 2.203125 \nL 7.625 11.71875 \nQ 11.71875 9.328125 16.59375 8.109375 \nQ 21.484375 6.890625 26.8125 6.890625 \nQ 36.078125 6.890625 40.9375 10.546875 \nQ 45.796875 14.203125 45.796875 21.1875 \nQ 45.796875 27.640625 41.28125 31.265625 \nQ 36.765625 34.90625 28.71875 34.90625 \nL 20.21875 34.90625 \nL 20.21875 43.015625 \nL 29.109375 43.015625 \nQ 36.375 43.015625 40.234375 45.921875 \nQ 44.09375 48.828125 44.09375 54.296875 \nQ 44.09375 59.90625 40.109375 62.90625 \nQ 36.140625 65.921875 28.71875 65.921875 \nQ 24.65625 65.921875 20.015625 65.03125 \nQ 15.375 64.15625 9.8125 62.3125 \nL 9.8125 71.09375 \nQ 15.4375 72.65625 20.34375 73.4375 \nQ 25.25 74.21875 29.59375 74.21875 \nQ 40.828125 74.21875 47.359375 69.109375 \nQ 53.90625 64.015625 53.90625 55.328125 \nQ 53.90625 49.265625 50.4375 45.09375 \nQ 46.96875 40.921875 40.578125 39.3125 \nz\n\" id=\"DejaVuSans-51\"/>\n      </defs>\n      <g transform=\"translate(20.878125 269.200617)scale(0.1 -0.1)\">\n       <use xlink:href=\"#DejaVuSans-48\"/>\n       <use x=\"63.623047\" xlink:href=\"#DejaVuSans-46\"/>\n       <use x=\"95.410156\" xlink:href=\"#DejaVuSans-51\"/>\n      </g>\n     </g>\n    </g>\n    <g id=\"ytick_2\">\n     <g id=\"line2d_7\">\n      <g>\n       <use style=\"stroke:#000000;stroke-width:0.8;\" x=\"43.78125\" xlink:href=\"#me3ab78a773\" y=\"214.885318\"/>\n      </g>\n     </g>\n     <g id=\"text_8\">\n      <!-- 0.4 -->\n      <g transform=\"translate(20.878125 218.684536)scale(0.1 -0.1)\">\n       <use xlink:href=\"#DejaVuSans-48\"/>\n       <use x=\"63.623047\" xlink:href=\"#DejaVuSans-46\"/>\n       <use x=\"95.410156\" xlink:href=\"#DejaVuSans-52\"/>\n      </g>\n     </g>\n    </g>\n    <g id=\"ytick_3\">\n     <g id=\"line2d_8\">\n      <g>\n       <use style=\"stroke:#000000;stroke-width:0.8;\" x=\"43.78125\" xlink:href=\"#me3ab78a773\" y=\"164.369237\"/>\n      </g>\n     </g>\n     <g id=\"text_9\">\n      <!-- 0.5 -->\n      <defs>\n       <path d=\"M 10.796875 72.90625 \nL 49.515625 72.90625 \nL 49.515625 64.59375 \nL 19.828125 64.59375 \nL 19.828125 46.734375 \nQ 21.96875 47.46875 24.109375 47.828125 \nQ 26.265625 48.1875 28.421875 48.1875 \nQ 40.625 48.1875 47.75 41.5 \nQ 54.890625 34.8125 54.890625 23.390625 \nQ 54.890625 11.625 47.5625 5.09375 \nQ 40.234375 -1.421875 26.90625 -1.421875 \nQ 22.3125 -1.421875 17.546875 -0.640625 \nQ 12.796875 0.140625 7.71875 1.703125 \nL 7.71875 11.625 \nQ 12.109375 9.234375 16.796875 8.0625 \nQ 21.484375 6.890625 26.703125 6.890625 \nQ 35.15625 6.890625 40.078125 11.328125 \nQ 45.015625 15.765625 45.015625 23.390625 \nQ 45.015625 31 40.078125 35.4375 \nQ 35.15625 39.890625 26.703125 39.890625 \nQ 22.75 39.890625 18.8125 39.015625 \nQ 14.890625 38.140625 10.796875 36.28125 \nz\n\" id=\"DejaVuSans-53\"/>\n      </defs>\n      <g transform=\"translate(20.878125 168.168456)scale(0.1 -0.1)\">\n       <use xlink:href=\"#DejaVuSans-48\"/>\n       <use x=\"63.623047\" xlink:href=\"#DejaVuSans-46\"/>\n       <use x=\"95.410156\" xlink:href=\"#DejaVuSans-53\"/>\n      </g>\n     </g>\n    </g>\n    <g id=\"ytick_4\">\n     <g id=\"line2d_9\">\n      <g>\n       <use style=\"stroke:#000000;stroke-width:0.8;\" x=\"43.78125\" xlink:href=\"#me3ab78a773\" y=\"113.853157\"/>\n      </g>\n     </g>\n     <g id=\"text_10\">\n      <!-- 0.6 -->\n      <g transform=\"translate(20.878125 117.652376)scale(0.1 -0.1)\">\n       <use xlink:href=\"#DejaVuSans-48\"/>\n       <use x=\"63.623047\" xlink:href=\"#DejaVuSans-46\"/>\n       <use x=\"95.410156\" xlink:href=\"#DejaVuSans-54\"/>\n      </g>\n     </g>\n    </g>\n    <g id=\"ytick_5\">\n     <g id=\"line2d_10\">\n      <g>\n       <use style=\"stroke:#000000;stroke-width:0.8;\" x=\"43.78125\" xlink:href=\"#me3ab78a773\" y=\"63.337077\"/>\n      </g>\n     </g>\n     <g id=\"text_11\">\n      <!-- 0.7 -->\n      <defs>\n       <path d=\"M 8.203125 72.90625 \nL 55.078125 72.90625 \nL 55.078125 68.703125 \nL 28.609375 0 \nL 18.3125 0 \nL 43.21875 64.59375 \nL 8.203125 64.59375 \nz\n\" id=\"DejaVuSans-55\"/>\n      </defs>\n      <g transform=\"translate(20.878125 67.136296)scale(0.1 -0.1)\">\n       <use xlink:href=\"#DejaVuSans-48\"/>\n       <use x=\"63.623047\" xlink:href=\"#DejaVuSans-46\"/>\n       <use x=\"95.410156\" xlink:href=\"#DejaVuSans-55\"/>\n      </g>\n     </g>\n    </g>\n    <g id=\"text_12\">\n     <!-- Loss (CEL) -->\n     <defs>\n      <path d=\"M 9.8125 72.90625 \nL 19.671875 72.90625 \nL 19.671875 8.296875 \nL 55.171875 8.296875 \nL 55.171875 0 \nL 9.8125 0 \nz\n\" id=\"DejaVuSans-76\"/>\n      <path id=\"DejaVuSans-32\"/>\n      <path d=\"M 31 75.875 \nQ 24.46875 64.65625 21.28125 53.65625 \nQ 18.109375 42.671875 18.109375 31.390625 \nQ 18.109375 20.125 21.3125 9.0625 \nQ 24.515625 -2 31 -13.1875 \nL 23.1875 -13.1875 \nQ 15.875 -1.703125 12.234375 9.375 \nQ 8.59375 20.453125 8.59375 31.390625 \nQ 8.59375 42.28125 12.203125 53.3125 \nQ 15.828125 64.359375 23.1875 75.875 \nz\n\" id=\"DejaVuSans-40\"/>\n      <path d=\"M 64.40625 67.28125 \nL 64.40625 56.890625 \nQ 59.421875 61.53125 53.78125 63.8125 \nQ 48.140625 66.109375 41.796875 66.109375 \nQ 29.296875 66.109375 22.65625 58.46875 \nQ 16.015625 50.828125 16.015625 36.375 \nQ 16.015625 21.96875 22.65625 14.328125 \nQ 29.296875 6.6875 41.796875 6.6875 \nQ 48.140625 6.6875 53.78125 8.984375 \nQ 59.421875 11.28125 64.40625 15.921875 \nL 64.40625 5.609375 \nQ 59.234375 2.09375 53.4375 0.328125 \nQ 47.65625 -1.421875 41.21875 -1.421875 \nQ 24.65625 -1.421875 15.125 8.703125 \nQ 5.609375 18.84375 5.609375 36.375 \nQ 5.609375 53.953125 15.125 64.078125 \nQ 24.65625 74.21875 41.21875 74.21875 \nQ 47.75 74.21875 53.53125 72.484375 \nQ 59.328125 70.75 64.40625 67.28125 \nz\n\" id=\"DejaVuSans-67\"/>\n      <path d=\"M 8.015625 75.875 \nL 15.828125 75.875 \nQ 23.140625 64.359375 26.78125 53.3125 \nQ 30.421875 42.28125 30.421875 31.390625 \nQ 30.421875 20.453125 26.78125 9.375 \nQ 23.140625 -1.703125 15.828125 -13.1875 \nL 8.015625 -13.1875 \nQ 14.5 -2 17.703125 9.0625 \nQ 20.90625 20.125 20.90625 31.390625 \nQ 20.90625 42.671875 17.703125 53.65625 \nQ 14.5 64.65625 8.015625 75.875 \nz\n\" id=\"DejaVuSans-41\"/>\n     </defs>\n     <g transform=\"translate(14.798438 184.112656)rotate(-90)scale(0.1 -0.1)\">\n      <use xlink:href=\"#DejaVuSans-76\"/>\n      <use x=\"53.962891\" xlink:href=\"#DejaVuSans-111\"/>\n      <use x=\"115.144531\" xlink:href=\"#DejaVuSans-115\"/>\n      <use x=\"167.244141\" xlink:href=\"#DejaVuSans-115\"/>\n      <use x=\"219.34375\" xlink:href=\"#DejaVuSans-32\"/>\n      <use x=\"251.130859\" xlink:href=\"#DejaVuSans-40\"/>\n      <use x=\"290.144531\" xlink:href=\"#DejaVuSans-67\"/>\n      <use x=\"359.96875\" xlink:href=\"#DejaVuSans-69\"/>\n      <use x=\"423.152344\" xlink:href=\"#DejaVuSans-76\"/>\n      <use x=\"478.865234\" xlink:href=\"#DejaVuSans-41\"/>\n     </g>\n    </g>\n   </g>\n   <g id=\"line2d_11\">\n    <path clip-path=\"url(#pe66fa99711)\" d=\"M 62.227531 34.67267 \nL 103.219267 156.255244 \nL 144.211002 183.720468 \nL 185.202738 202.144268 \nL 226.194473 213.483682 \nL 267.186209 220.492627 \nL 308.177944 229.045292 \nL 349.16968 235.130976 \nL 390.161415 240.422871 \nL 431.153151 242.588769 \n\" style=\"fill:none;stroke:#1f77b4;stroke-linecap:square;stroke-width:1.5;\"/>\n    <defs>\n     <path d=\"M -3 3 \nL 3 3 \nL 3 -3 \nL -3 -3 \nz\n\" id=\"m718a13e56f\" style=\"stroke:#1f77b4;stroke-linejoin:miter;\"/>\n    </defs>\n    <g clip-path=\"url(#pe66fa99711)\">\n     <use style=\"fill:#1f77b4;stroke:#1f77b4;stroke-linejoin:miter;\" x=\"62.227531\" xlink:href=\"#m718a13e56f\" y=\"34.67267\"/>\n     <use style=\"fill:#1f77b4;stroke:#1f77b4;stroke-linejoin:miter;\" x=\"103.219267\" xlink:href=\"#m718a13e56f\" y=\"156.255244\"/>\n     <use style=\"fill:#1f77b4;stroke:#1f77b4;stroke-linejoin:miter;\" x=\"144.211002\" xlink:href=\"#m718a13e56f\" y=\"183.720468\"/>\n     <use style=\"fill:#1f77b4;stroke:#1f77b4;stroke-linejoin:miter;\" x=\"185.202738\" xlink:href=\"#m718a13e56f\" y=\"202.144268\"/>\n     <use style=\"fill:#1f77b4;stroke:#1f77b4;stroke-linejoin:miter;\" x=\"226.194473\" xlink:href=\"#m718a13e56f\" y=\"213.483682\"/>\n     <use style=\"fill:#1f77b4;stroke:#1f77b4;stroke-linejoin:miter;\" x=\"267.186209\" xlink:href=\"#m718a13e56f\" y=\"220.492627\"/>\n     <use style=\"fill:#1f77b4;stroke:#1f77b4;stroke-linejoin:miter;\" x=\"308.177944\" xlink:href=\"#m718a13e56f\" y=\"229.045292\"/>\n     <use style=\"fill:#1f77b4;stroke:#1f77b4;stroke-linejoin:miter;\" x=\"349.16968\" xlink:href=\"#m718a13e56f\" y=\"235.130976\"/>\n     <use style=\"fill:#1f77b4;stroke:#1f77b4;stroke-linejoin:miter;\" x=\"390.161415\" xlink:href=\"#m718a13e56f\" y=\"240.422871\"/>\n     <use style=\"fill:#1f77b4;stroke:#1f77b4;stroke-linejoin:miter;\" x=\"431.153151\" xlink:href=\"#m718a13e56f\" y=\"242.588769\"/>\n    </g>\n   </g>\n   <g id=\"line2d_12\">\n    <path clip-path=\"url(#pe66fa99711)\" d=\"M 62.227531 208.55681 \nL 103.219267 231.86048 \nL 144.211002 247.856305 \nL 185.202738 247.910308 \nL 226.194473 252.801425 \nL 267.186209 259.132264 \nL 308.177944 268.50833 \nL 349.16968 265.676988 \nL 390.161415 268.527119 \nL 431.153151 273.161218 \n\" style=\"fill:none;stroke:#ff7f0e;stroke-linecap:square;stroke-width:1.5;\"/>\n    <defs>\n     <path d=\"M 0 3 \nC 0.795609 3 1.55874 2.683901 2.12132 2.12132 \nC 2.683901 1.55874 3 0.795609 3 0 \nC 3 -0.795609 2.683901 -1.55874 2.12132 -2.12132 \nC 1.55874 -2.683901 0.795609 -3 0 -3 \nC -0.795609 -3 -1.55874 -2.683901 -2.12132 -2.12132 \nC -2.683901 -1.55874 -3 -0.795609 -3 0 \nC -3 0.795609 -2.683901 1.55874 -2.12132 2.12132 \nC -1.55874 2.683901 -0.795609 3 0 3 \nz\n\" id=\"me062f91a7c\" style=\"stroke:#ff7f0e;\"/>\n    </defs>\n    <g clip-path=\"url(#pe66fa99711)\">\n     <use style=\"fill:#ff7f0e;stroke:#ff7f0e;\" x=\"62.227531\" xlink:href=\"#me062f91a7c\" y=\"208.55681\"/>\n     <use style=\"fill:#ff7f0e;stroke:#ff7f0e;\" x=\"103.219267\" xlink:href=\"#me062f91a7c\" y=\"231.86048\"/>\n     <use style=\"fill:#ff7f0e;stroke:#ff7f0e;\" x=\"144.211002\" xlink:href=\"#me062f91a7c\" y=\"247.856305\"/>\n     <use style=\"fill:#ff7f0e;stroke:#ff7f0e;\" x=\"185.202738\" xlink:href=\"#me062f91a7c\" y=\"247.910308\"/>\n     <use style=\"fill:#ff7f0e;stroke:#ff7f0e;\" x=\"226.194473\" xlink:href=\"#me062f91a7c\" y=\"252.801425\"/>\n     <use style=\"fill:#ff7f0e;stroke:#ff7f0e;\" x=\"267.186209\" xlink:href=\"#me062f91a7c\" y=\"259.132264\"/>\n     <use style=\"fill:#ff7f0e;stroke:#ff7f0e;\" x=\"308.177944\" xlink:href=\"#me062f91a7c\" y=\"268.50833\"/>\n     <use style=\"fill:#ff7f0e;stroke:#ff7f0e;\" x=\"349.16968\" xlink:href=\"#me062f91a7c\" y=\"265.676988\"/>\n     <use style=\"fill:#ff7f0e;stroke:#ff7f0e;\" x=\"390.161415\" xlink:href=\"#me062f91a7c\" y=\"268.527119\"/>\n     <use style=\"fill:#ff7f0e;stroke:#ff7f0e;\" x=\"431.153151\" xlink:href=\"#me062f91a7c\" y=\"273.161218\"/>\n    </g>\n   </g>\n   <g id=\"line2d_13\">\n    <defs>\n     <path d=\"M 0 -7.5 \nL -1.683855 -2.317627 \nL -7.132924 -2.317627 \nL -2.724534 0.885255 \nL -4.408389 6.067627 \nL -0 2.864745 \nL 4.408389 6.067627 \nL 2.724534 0.885255 \nL 7.132924 -2.317627 \nL 1.683855 -2.317627 \nz\n\" id=\"m3500086458\" style=\"stroke:#ff0000;stroke-linejoin:bevel;\"/>\n    </defs>\n    <g clip-path=\"url(#pe66fa99711)\">\n     <use style=\"fill:#ff0000;stroke:#ff0000;stroke-linejoin:bevel;\" x=\"431.153151\" xlink:href=\"#m3500086458\" y=\"281.76358\"/>\n    </g>\n   </g>\n   <g id=\"patch_3\">\n    <path d=\"M 43.78125 294.118125 \nL 43.78125 22.318125 \n\" style=\"fill:none;stroke:#000000;stroke-linecap:square;stroke-linejoin:miter;stroke-width:0.8;\"/>\n   </g>\n   <g id=\"patch_4\">\n    <path d=\"M 449.599432 294.118125 \nL 449.599432 22.318125 \n\" style=\"fill:none;stroke:#000000;stroke-linecap:square;stroke-linejoin:miter;stroke-width:0.8;\"/>\n   </g>\n   <g id=\"patch_5\">\n    <path d=\"M 43.78125 294.118125 \nL 449.599432 294.118125 \n\" style=\"fill:none;stroke:#000000;stroke-linecap:square;stroke-linejoin:miter;stroke-width:0.8;\"/>\n   </g>\n   <g id=\"patch_6\">\n    <path d=\"M 43.78125 22.318125 \nL 449.599432 22.318125 \n\" style=\"fill:none;stroke:#000000;stroke-linecap:square;stroke-linejoin:miter;stroke-width:0.8;\"/>\n   </g>\n   <g id=\"text_13\">\n    <!-- Model loss -->\n    <defs>\n     <path d=\"M 9.8125 72.90625 \nL 24.515625 72.90625 \nL 43.109375 23.296875 \nL 61.8125 72.90625 \nL 76.515625 72.90625 \nL 76.515625 0 \nL 66.890625 0 \nL 66.890625 64.015625 \nL 48.09375 14.015625 \nL 38.1875 14.015625 \nL 19.390625 64.015625 \nL 19.390625 0 \nL 9.8125 0 \nz\n\" id=\"DejaVuSans-77\"/>\n     <path d=\"M 45.40625 46.390625 \nL 45.40625 75.984375 \nL 54.390625 75.984375 \nL 54.390625 0 \nL 45.40625 0 \nL 45.40625 8.203125 \nQ 42.578125 3.328125 38.25 0.953125 \nQ 33.9375 -1.421875 27.875 -1.421875 \nQ 17.96875 -1.421875 11.734375 6.484375 \nQ 5.515625 14.40625 5.515625 27.296875 \nQ 5.515625 40.1875 11.734375 48.09375 \nQ 17.96875 56 27.875 56 \nQ 33.9375 56 38.25 53.625 \nQ 42.578125 51.265625 45.40625 46.390625 \nz\nM 14.796875 27.296875 \nQ 14.796875 17.390625 18.875 11.75 \nQ 22.953125 6.109375 30.078125 6.109375 \nQ 37.203125 6.109375 41.296875 11.75 \nQ 45.40625 17.390625 45.40625 27.296875 \nQ 45.40625 37.203125 41.296875 42.84375 \nQ 37.203125 48.484375 30.078125 48.484375 \nQ 22.953125 48.484375 18.875 42.84375 \nQ 14.796875 37.203125 14.796875 27.296875 \nz\n\" id=\"DejaVuSans-100\"/>\n     <path d=\"M 56.203125 29.59375 \nL 56.203125 25.203125 \nL 14.890625 25.203125 \nQ 15.484375 15.921875 20.484375 11.0625 \nQ 25.484375 6.203125 34.421875 6.203125 \nQ 39.59375 6.203125 44.453125 7.46875 \nQ 49.3125 8.734375 54.109375 11.28125 \nL 54.109375 2.78125 \nQ 49.265625 0.734375 44.1875 -0.34375 \nQ 39.109375 -1.421875 33.890625 -1.421875 \nQ 20.796875 -1.421875 13.15625 6.1875 \nQ 5.515625 13.8125 5.515625 26.8125 \nQ 5.515625 40.234375 12.765625 48.109375 \nQ 20.015625 56 32.328125 56 \nQ 43.359375 56 49.78125 48.890625 \nQ 56.203125 41.796875 56.203125 29.59375 \nz\nM 47.21875 32.234375 \nQ 47.125 39.59375 43.09375 43.984375 \nQ 39.0625 48.390625 32.421875 48.390625 \nQ 24.90625 48.390625 20.390625 44.140625 \nQ 15.875 39.890625 15.1875 32.171875 \nz\n\" id=\"DejaVuSans-101\"/>\n     <path d=\"M 9.421875 75.984375 \nL 18.40625 75.984375 \nL 18.40625 0 \nL 9.421875 0 \nz\n\" id=\"DejaVuSans-108\"/>\n    </defs>\n    <g transform=\"translate(215.178153 16.318125)scale(0.12 -0.12)\">\n     <use xlink:href=\"#DejaVuSans-77\"/>\n     <use x=\"86.279297\" xlink:href=\"#DejaVuSans-111\"/>\n     <use x=\"147.460938\" xlink:href=\"#DejaVuSans-100\"/>\n     <use x=\"210.9375\" xlink:href=\"#DejaVuSans-101\"/>\n     <use x=\"272.460938\" xlink:href=\"#DejaVuSans-108\"/>\n     <use x=\"300.244141\" xlink:href=\"#DejaVuSans-32\"/>\n     <use x=\"332.03125\" xlink:href=\"#DejaVuSans-108\"/>\n     <use x=\"359.814453\" xlink:href=\"#DejaVuSans-111\"/>\n     <use x=\"420.996094\" xlink:href=\"#DejaVuSans-115\"/>\n     <use x=\"473.095703\" xlink:href=\"#DejaVuSans-115\"/>\n    </g>\n   </g>\n  </g>\n  <g id=\"axes_2\">\n   <g id=\"patch_7\">\n    <path d=\"M 530.763068 294.118125 \nL 936.58125 294.118125 \nL 936.58125 22.318125 \nL 530.763068 22.318125 \nz\n\" style=\"fill:#ffffff;\"/>\n   </g>\n   <g id=\"matplotlib.axis_3\">\n    <g id=\"xtick_6\">\n     <g id=\"line2d_14\">\n      <g>\n       <use style=\"stroke:#000000;stroke-width:0.8;\" x=\"549.209349\" xlink:href=\"#mb293f7f9ca\" y=\"294.118125\"/>\n      </g>\n     </g>\n     <g id=\"text_14\">\n      <!-- 0 -->\n      <g transform=\"translate(546.028099 308.716563)scale(0.1 -0.1)\">\n       <use xlink:href=\"#DejaVuSans-48\"/>\n      </g>\n     </g>\n    </g>\n    <g id=\"xtick_7\">\n     <g id=\"line2d_15\">\n      <g>\n       <use style=\"stroke:#000000;stroke-width:0.8;\" x=\"631.19282\" xlink:href=\"#mb293f7f9ca\" y=\"294.118125\"/>\n      </g>\n     </g>\n     <g id=\"text_15\">\n      <!-- 2 -->\n      <g transform=\"translate(628.01157 308.716563)scale(0.1 -0.1)\">\n       <use xlink:href=\"#DejaVuSans-50\"/>\n      </g>\n     </g>\n    </g>\n    <g id=\"xtick_8\">\n     <g id=\"line2d_16\">\n      <g>\n       <use style=\"stroke:#000000;stroke-width:0.8;\" x=\"713.176291\" xlink:href=\"#mb293f7f9ca\" y=\"294.118125\"/>\n      </g>\n     </g>\n     <g id=\"text_16\">\n      <!-- 4 -->\n      <g transform=\"translate(709.995041 308.716563)scale(0.1 -0.1)\">\n       <use xlink:href=\"#DejaVuSans-52\"/>\n      </g>\n     </g>\n    </g>\n    <g id=\"xtick_9\">\n     <g id=\"line2d_17\">\n      <g>\n       <use style=\"stroke:#000000;stroke-width:0.8;\" x=\"795.159762\" xlink:href=\"#mb293f7f9ca\" y=\"294.118125\"/>\n      </g>\n     </g>\n     <g id=\"text_17\">\n      <!-- 6 -->\n      <g transform=\"translate(791.978512 308.716563)scale(0.1 -0.1)\">\n       <use xlink:href=\"#DejaVuSans-54\"/>\n      </g>\n     </g>\n    </g>\n    <g id=\"xtick_10\">\n     <g id=\"line2d_18\">\n      <g>\n       <use style=\"stroke:#000000;stroke-width:0.8;\" x=\"877.143233\" xlink:href=\"#mb293f7f9ca\" y=\"294.118125\"/>\n      </g>\n     </g>\n     <g id=\"text_18\">\n      <!-- 8 -->\n      <g transform=\"translate(873.961983 308.716563)scale(0.1 -0.1)\">\n       <use xlink:href=\"#DejaVuSans-56\"/>\n      </g>\n     </g>\n    </g>\n    <g id=\"text_19\">\n     <!-- Epochs -->\n     <g transform=\"translate(715.756534 322.394687)scale(0.1 -0.1)\">\n      <use xlink:href=\"#DejaVuSans-69\"/>\n      <use x=\"63.183594\" xlink:href=\"#DejaVuSans-112\"/>\n      <use x=\"126.660156\" xlink:href=\"#DejaVuSans-111\"/>\n      <use x=\"187.841797\" xlink:href=\"#DejaVuSans-99\"/>\n      <use x=\"242.822266\" xlink:href=\"#DejaVuSans-104\"/>\n      <use x=\"306.201172\" xlink:href=\"#DejaVuSans-115\"/>\n     </g>\n    </g>\n   </g>\n   <g id=\"matplotlib.axis_4\">\n    <g id=\"ytick_6\">\n     <g id=\"line2d_19\">\n      <g>\n       <use style=\"stroke:#000000;stroke-width:0.8;\" x=\"530.763068\" xlink:href=\"#me3ab78a773\" y=\"286.216917\"/>\n      </g>\n     </g>\n     <g id=\"text_20\">\n      <!-- 72.5 -->\n      <g transform=\"translate(501.497443 290.016135)scale(0.1 -0.1)\">\n       <use xlink:href=\"#DejaVuSans-55\"/>\n       <use x=\"63.623047\" xlink:href=\"#DejaVuSans-50\"/>\n       <use x=\"127.246094\" xlink:href=\"#DejaVuSans-46\"/>\n       <use x=\"159.033203\" xlink:href=\"#DejaVuSans-53\"/>\n      </g>\n     </g>\n    </g>\n    <g id=\"ytick_7\">\n     <g id=\"line2d_20\">\n      <g>\n       <use style=\"stroke:#000000;stroke-width:0.8;\" x=\"530.763068\" xlink:href=\"#me3ab78a773\" y=\"251.425188\"/>\n      </g>\n     </g>\n     <g id=\"text_21\">\n      <!-- 75.0 -->\n      <g transform=\"translate(501.497443 255.224407)scale(0.1 -0.1)\">\n       <use xlink:href=\"#DejaVuSans-55\"/>\n       <use x=\"63.623047\" xlink:href=\"#DejaVuSans-53\"/>\n       <use x=\"127.246094\" xlink:href=\"#DejaVuSans-46\"/>\n       <use x=\"159.033203\" xlink:href=\"#DejaVuSans-48\"/>\n      </g>\n     </g>\n    </g>\n    <g id=\"ytick_8\">\n     <g id=\"line2d_21\">\n      <g>\n       <use style=\"stroke:#000000;stroke-width:0.8;\" x=\"530.763068\" xlink:href=\"#me3ab78a773\" y=\"216.63346\"/>\n      </g>\n     </g>\n     <g id=\"text_22\">\n      <!-- 77.5 -->\n      <g transform=\"translate(501.497443 220.432679)scale(0.1 -0.1)\">\n       <use xlink:href=\"#DejaVuSans-55\"/>\n       <use x=\"63.623047\" xlink:href=\"#DejaVuSans-55\"/>\n       <use x=\"127.246094\" xlink:href=\"#DejaVuSans-46\"/>\n       <use x=\"159.033203\" xlink:href=\"#DejaVuSans-53\"/>\n      </g>\n     </g>\n    </g>\n    <g id=\"ytick_9\">\n     <g id=\"line2d_22\">\n      <g>\n       <use style=\"stroke:#000000;stroke-width:0.8;\" x=\"530.763068\" xlink:href=\"#me3ab78a773\" y=\"181.841732\"/>\n      </g>\n     </g>\n     <g id=\"text_23\">\n      <!-- 80.0 -->\n      <g transform=\"translate(501.497443 185.64095)scale(0.1 -0.1)\">\n       <use xlink:href=\"#DejaVuSans-56\"/>\n       <use x=\"63.623047\" xlink:href=\"#DejaVuSans-48\"/>\n       <use x=\"127.246094\" xlink:href=\"#DejaVuSans-46\"/>\n       <use x=\"159.033203\" xlink:href=\"#DejaVuSans-48\"/>\n      </g>\n     </g>\n    </g>\n    <g id=\"ytick_10\">\n     <g id=\"line2d_23\">\n      <g>\n       <use style=\"stroke:#000000;stroke-width:0.8;\" x=\"530.763068\" xlink:href=\"#me3ab78a773\" y=\"147.050003\"/>\n      </g>\n     </g>\n     <g id=\"text_24\">\n      <!-- 82.5 -->\n      <g transform=\"translate(501.497443 150.849222)scale(0.1 -0.1)\">\n       <use xlink:href=\"#DejaVuSans-56\"/>\n       <use x=\"63.623047\" xlink:href=\"#DejaVuSans-50\"/>\n       <use x=\"127.246094\" xlink:href=\"#DejaVuSans-46\"/>\n       <use x=\"159.033203\" xlink:href=\"#DejaVuSans-53\"/>\n      </g>\n     </g>\n    </g>\n    <g id=\"ytick_11\">\n     <g id=\"line2d_24\">\n      <g>\n       <use style=\"stroke:#000000;stroke-width:0.8;\" x=\"530.763068\" xlink:href=\"#me3ab78a773\" y=\"112.258275\"/>\n      </g>\n     </g>\n     <g id=\"text_25\">\n      <!-- 85.0 -->\n      <g transform=\"translate(501.497443 116.057494)scale(0.1 -0.1)\">\n       <use xlink:href=\"#DejaVuSans-56\"/>\n       <use x=\"63.623047\" xlink:href=\"#DejaVuSans-53\"/>\n       <use x=\"127.246094\" xlink:href=\"#DejaVuSans-46\"/>\n       <use x=\"159.033203\" xlink:href=\"#DejaVuSans-48\"/>\n      </g>\n     </g>\n    </g>\n    <g id=\"ytick_12\">\n     <g id=\"line2d_25\">\n      <g>\n       <use style=\"stroke:#000000;stroke-width:0.8;\" x=\"530.763068\" xlink:href=\"#me3ab78a773\" y=\"77.466547\"/>\n      </g>\n     </g>\n     <g id=\"text_26\">\n      <!-- 87.5 -->\n      <g transform=\"translate(501.497443 81.265765)scale(0.1 -0.1)\">\n       <use xlink:href=\"#DejaVuSans-56\"/>\n       <use x=\"63.623047\" xlink:href=\"#DejaVuSans-55\"/>\n       <use x=\"127.246094\" xlink:href=\"#DejaVuSans-46\"/>\n       <use x=\"159.033203\" xlink:href=\"#DejaVuSans-53\"/>\n      </g>\n     </g>\n    </g>\n    <g id=\"ytick_13\">\n     <g id=\"line2d_26\">\n      <g>\n       <use style=\"stroke:#000000;stroke-width:0.8;\" x=\"530.763068\" xlink:href=\"#me3ab78a773\" y=\"42.674818\"/>\n      </g>\n     </g>\n     <g id=\"text_27\">\n      <!-- 90.0 -->\n      <defs>\n       <path d=\"M 10.984375 1.515625 \nL 10.984375 10.5 \nQ 14.703125 8.734375 18.5 7.8125 \nQ 22.3125 6.890625 25.984375 6.890625 \nQ 35.75 6.890625 40.890625 13.453125 \nQ 46.046875 20.015625 46.78125 33.40625 \nQ 43.953125 29.203125 39.59375 26.953125 \nQ 35.25 24.703125 29.984375 24.703125 \nQ 19.046875 24.703125 12.671875 31.3125 \nQ 6.296875 37.9375 6.296875 49.421875 \nQ 6.296875 60.640625 12.9375 67.421875 \nQ 19.578125 74.21875 30.609375 74.21875 \nQ 43.265625 74.21875 49.921875 64.515625 \nQ 56.59375 54.828125 56.59375 36.375 \nQ 56.59375 19.140625 48.40625 8.859375 \nQ 40.234375 -1.421875 26.421875 -1.421875 \nQ 22.703125 -1.421875 18.890625 -0.6875 \nQ 15.09375 0.046875 10.984375 1.515625 \nz\nM 30.609375 32.421875 \nQ 37.25 32.421875 41.125 36.953125 \nQ 45.015625 41.5 45.015625 49.421875 \nQ 45.015625 57.28125 41.125 61.84375 \nQ 37.25 66.40625 30.609375 66.40625 \nQ 23.96875 66.40625 20.09375 61.84375 \nQ 16.21875 57.28125 16.21875 49.421875 \nQ 16.21875 41.5 20.09375 36.953125 \nQ 23.96875 32.421875 30.609375 32.421875 \nz\n\" id=\"DejaVuSans-57\"/>\n      </defs>\n      <g transform=\"translate(501.497443 46.474037)scale(0.1 -0.1)\">\n       <use xlink:href=\"#DejaVuSans-57\"/>\n       <use x=\"63.623047\" xlink:href=\"#DejaVuSans-48\"/>\n       <use x=\"127.246094\" xlink:href=\"#DejaVuSans-46\"/>\n       <use x=\"159.033203\" xlink:href=\"#DejaVuSans-48\"/>\n      </g>\n     </g>\n    </g>\n    <g id=\"text_28\">\n     <!-- Accuracy (%) -->\n     <defs>\n      <path d=\"M 34.1875 63.1875 \nL 20.796875 26.90625 \nL 47.609375 26.90625 \nz\nM 28.609375 72.90625 \nL 39.796875 72.90625 \nL 67.578125 0 \nL 57.328125 0 \nL 50.6875 18.703125 \nL 17.828125 18.703125 \nL 11.1875 0 \nL 0.78125 0 \nz\n\" id=\"DejaVuSans-65\"/>\n      <path d=\"M 8.5 21.578125 \nL 8.5 54.6875 \nL 17.484375 54.6875 \nL 17.484375 21.921875 \nQ 17.484375 14.15625 20.5 10.265625 \nQ 23.53125 6.390625 29.59375 6.390625 \nQ 36.859375 6.390625 41.078125 11.03125 \nQ 45.3125 15.671875 45.3125 23.6875 \nL 45.3125 54.6875 \nL 54.296875 54.6875 \nL 54.296875 0 \nL 45.3125 0 \nL 45.3125 8.40625 \nQ 42.046875 3.421875 37.71875 1 \nQ 33.40625 -1.421875 27.6875 -1.421875 \nQ 18.265625 -1.421875 13.375 4.4375 \nQ 8.5 10.296875 8.5 21.578125 \nz\nM 31.109375 56 \nz\n\" id=\"DejaVuSans-117\"/>\n      <path d=\"M 41.109375 46.296875 \nQ 39.59375 47.171875 37.8125 47.578125 \nQ 36.03125 48 33.890625 48 \nQ 26.265625 48 22.1875 43.046875 \nQ 18.109375 38.09375 18.109375 28.8125 \nL 18.109375 0 \nL 9.078125 0 \nL 9.078125 54.6875 \nL 18.109375 54.6875 \nL 18.109375 46.1875 \nQ 20.953125 51.171875 25.484375 53.578125 \nQ 30.03125 56 36.53125 56 \nQ 37.453125 56 38.578125 55.875 \nQ 39.703125 55.765625 41.0625 55.515625 \nz\n\" id=\"DejaVuSans-114\"/>\n      <path d=\"M 34.28125 27.484375 \nQ 23.390625 27.484375 19.1875 25 \nQ 14.984375 22.515625 14.984375 16.5 \nQ 14.984375 11.71875 18.140625 8.90625 \nQ 21.296875 6.109375 26.703125 6.109375 \nQ 34.1875 6.109375 38.703125 11.40625 \nQ 43.21875 16.703125 43.21875 25.484375 \nL 43.21875 27.484375 \nz\nM 52.203125 31.203125 \nL 52.203125 0 \nL 43.21875 0 \nL 43.21875 8.296875 \nQ 40.140625 3.328125 35.546875 0.953125 \nQ 30.953125 -1.421875 24.3125 -1.421875 \nQ 15.921875 -1.421875 10.953125 3.296875 \nQ 6 8.015625 6 15.921875 \nQ 6 25.140625 12.171875 29.828125 \nQ 18.359375 34.515625 30.609375 34.515625 \nL 43.21875 34.515625 \nL 43.21875 35.40625 \nQ 43.21875 41.609375 39.140625 45 \nQ 35.0625 48.390625 27.6875 48.390625 \nQ 23 48.390625 18.546875 47.265625 \nQ 14.109375 46.140625 10.015625 43.890625 \nL 10.015625 52.203125 \nQ 14.9375 54.109375 19.578125 55.046875 \nQ 24.21875 56 28.609375 56 \nQ 40.484375 56 46.34375 49.84375 \nQ 52.203125 43.703125 52.203125 31.203125 \nz\n\" id=\"DejaVuSans-97\"/>\n      <path d=\"M 32.171875 -5.078125 \nQ 28.375 -14.84375 24.75 -17.8125 \nQ 21.140625 -20.796875 15.09375 -20.796875 \nL 7.90625 -20.796875 \nL 7.90625 -13.28125 \nL 13.1875 -13.28125 \nQ 16.890625 -13.28125 18.9375 -11.515625 \nQ 21 -9.765625 23.484375 -3.21875 \nL 25.09375 0.875 \nL 2.984375 54.6875 \nL 12.5 54.6875 \nL 29.59375 11.921875 \nL 46.6875 54.6875 \nL 56.203125 54.6875 \nz\n\" id=\"DejaVuSans-121\"/>\n      <path d=\"M 72.703125 32.078125 \nQ 68.453125 32.078125 66.03125 28.46875 \nQ 63.625 24.859375 63.625 18.40625 \nQ 63.625 12.0625 66.03125 8.421875 \nQ 68.453125 4.78125 72.703125 4.78125 \nQ 76.859375 4.78125 79.265625 8.421875 \nQ 81.6875 12.0625 81.6875 18.40625 \nQ 81.6875 24.8125 79.265625 28.4375 \nQ 76.859375 32.078125 72.703125 32.078125 \nz\nM 72.703125 38.28125 \nQ 80.421875 38.28125 84.953125 32.90625 \nQ 89.5 27.546875 89.5 18.40625 \nQ 89.5 9.28125 84.9375 3.921875 \nQ 80.375 -1.421875 72.703125 -1.421875 \nQ 64.890625 -1.421875 60.34375 3.921875 \nQ 55.8125 9.28125 55.8125 18.40625 \nQ 55.8125 27.59375 60.375 32.9375 \nQ 64.9375 38.28125 72.703125 38.28125 \nz\nM 22.3125 68.015625 \nQ 18.109375 68.015625 15.6875 64.375 \nQ 13.28125 60.75 13.28125 54.390625 \nQ 13.28125 47.953125 15.671875 44.328125 \nQ 18.0625 40.71875 22.3125 40.71875 \nQ 26.5625 40.71875 28.96875 44.328125 \nQ 31.390625 47.953125 31.390625 54.390625 \nQ 31.390625 60.6875 28.953125 64.34375 \nQ 26.515625 68.015625 22.3125 68.015625 \nz\nM 66.40625 74.21875 \nL 74.21875 74.21875 \nL 28.609375 -1.421875 \nL 20.796875 -1.421875 \nz\nM 22.3125 74.21875 \nQ 30.03125 74.21875 34.609375 68.875 \nQ 39.203125 63.53125 39.203125 54.390625 \nQ 39.203125 45.171875 34.640625 39.84375 \nQ 30.078125 34.515625 22.3125 34.515625 \nQ 14.546875 34.515625 10.03125 39.859375 \nQ 5.515625 45.21875 5.515625 54.390625 \nQ 5.515625 63.484375 10.046875 68.84375 \nQ 14.59375 74.21875 22.3125 74.21875 \nz\n\" id=\"DejaVuSans-37\"/>\n     </defs>\n     <g transform=\"translate(495.417756 191.287656)rotate(-90)scale(0.1 -0.1)\">\n      <use xlink:href=\"#DejaVuSans-65\"/>\n      <use x=\"66.658203\" xlink:href=\"#DejaVuSans-99\"/>\n      <use x=\"121.638672\" xlink:href=\"#DejaVuSans-99\"/>\n      <use x=\"176.619141\" xlink:href=\"#DejaVuSans-117\"/>\n      <use x=\"239.998047\" xlink:href=\"#DejaVuSans-114\"/>\n      <use x=\"281.111328\" xlink:href=\"#DejaVuSans-97\"/>\n      <use x=\"342.390625\" xlink:href=\"#DejaVuSans-99\"/>\n      <use x=\"397.371094\" xlink:href=\"#DejaVuSans-121\"/>\n      <use x=\"456.550781\" xlink:href=\"#DejaVuSans-32\"/>\n      <use x=\"488.337891\" xlink:href=\"#DejaVuSans-40\"/>\n      <use x=\"527.351562\" xlink:href=\"#DejaVuSans-37\"/>\n      <use x=\"622.371094\" xlink:href=\"#DejaVuSans-41\"/>\n     </g>\n    </g>\n   </g>\n   <g id=\"line2d_27\">\n    <path clip-path=\"url(#p42e6773547)\" d=\"M 549.209349 281.76358 \nL 590.201085 149.462214 \nL 631.19282 121.512887 \nL 672.184556 100.429109 \nL 713.176291 92.844537 \nL 754.168027 87.231441 \nL 795.159762 78.811796 \nL 836.151498 72.781215 \nL 877.143233 69.928374 \nL 918.134969 65.0807 \n\" style=\"fill:none;stroke:#1f77b4;stroke-linecap:square;stroke-width:1.5;\"/>\n    <g clip-path=\"url(#p42e6773547)\">\n     <use style=\"fill:#1f77b4;stroke:#1f77b4;stroke-linejoin:miter;\" x=\"549.209349\" xlink:href=\"#m718a13e56f\" y=\"281.76358\"/>\n     <use style=\"fill:#1f77b4;stroke:#1f77b4;stroke-linejoin:miter;\" x=\"590.201085\" xlink:href=\"#m718a13e56f\" y=\"149.462214\"/>\n     <use style=\"fill:#1f77b4;stroke:#1f77b4;stroke-linejoin:miter;\" x=\"631.19282\" xlink:href=\"#m718a13e56f\" y=\"121.512887\"/>\n     <use style=\"fill:#1f77b4;stroke:#1f77b4;stroke-linejoin:miter;\" x=\"672.184556\" xlink:href=\"#m718a13e56f\" y=\"100.429109\"/>\n     <use style=\"fill:#1f77b4;stroke:#1f77b4;stroke-linejoin:miter;\" x=\"713.176291\" xlink:href=\"#m718a13e56f\" y=\"92.844537\"/>\n     <use style=\"fill:#1f77b4;stroke:#1f77b4;stroke-linejoin:miter;\" x=\"754.168027\" xlink:href=\"#m718a13e56f\" y=\"87.231441\"/>\n     <use style=\"fill:#1f77b4;stroke:#1f77b4;stroke-linejoin:miter;\" x=\"795.159762\" xlink:href=\"#m718a13e56f\" y=\"78.811796\"/>\n     <use style=\"fill:#1f77b4;stroke:#1f77b4;stroke-linejoin:miter;\" x=\"836.151498\" xlink:href=\"#m718a13e56f\" y=\"72.781215\"/>\n     <use style=\"fill:#1f77b4;stroke:#1f77b4;stroke-linejoin:miter;\" x=\"877.143233\" xlink:href=\"#m718a13e56f\" y=\"69.928374\"/>\n     <use style=\"fill:#1f77b4;stroke:#1f77b4;stroke-linejoin:miter;\" x=\"918.134969\" xlink:href=\"#m718a13e56f\" y=\"65.0807\"/>\n    </g>\n   </g>\n   <g id=\"line2d_28\">\n    <path clip-path=\"url(#p42e6773547)\" d=\"M 549.209349 111.33051 \nL 590.201085 85.352658 \nL 631.19282 68.188788 \nL 672.184556 72.363838 \nL 713.176291 56.823504 \nL 754.168027 60.998448 \nL 795.159762 51.256806 \nL 836.151498 51.256806 \nL 877.143233 45.690109 \nL 918.134969 42.906813 \n\" style=\"fill:none;stroke:#ff7f0e;stroke-linecap:square;stroke-width:1.5;\"/>\n    <g clip-path=\"url(#p42e6773547)\">\n     <use style=\"fill:#ff7f0e;stroke:#ff7f0e;\" x=\"549.209349\" xlink:href=\"#me062f91a7c\" y=\"111.33051\"/>\n     <use style=\"fill:#ff7f0e;stroke:#ff7f0e;\" x=\"590.201085\" xlink:href=\"#me062f91a7c\" y=\"85.352658\"/>\n     <use style=\"fill:#ff7f0e;stroke:#ff7f0e;\" x=\"631.19282\" xlink:href=\"#me062f91a7c\" y=\"68.188788\"/>\n     <use style=\"fill:#ff7f0e;stroke:#ff7f0e;\" x=\"672.184556\" xlink:href=\"#me062f91a7c\" y=\"72.363838\"/>\n     <use style=\"fill:#ff7f0e;stroke:#ff7f0e;\" x=\"713.176291\" xlink:href=\"#me062f91a7c\" y=\"56.823504\"/>\n     <use style=\"fill:#ff7f0e;stroke:#ff7f0e;\" x=\"754.168027\" xlink:href=\"#me062f91a7c\" y=\"60.998448\"/>\n     <use style=\"fill:#ff7f0e;stroke:#ff7f0e;\" x=\"795.159762\" xlink:href=\"#me062f91a7c\" y=\"51.256806\"/>\n     <use style=\"fill:#ff7f0e;stroke:#ff7f0e;\" x=\"836.151498\" xlink:href=\"#me062f91a7c\" y=\"51.256806\"/>\n     <use style=\"fill:#ff7f0e;stroke:#ff7f0e;\" x=\"877.143233\" xlink:href=\"#me062f91a7c\" y=\"45.690109\"/>\n     <use style=\"fill:#ff7f0e;stroke:#ff7f0e;\" x=\"918.134969\" xlink:href=\"#me062f91a7c\" y=\"42.906813\"/>\n    </g>\n   </g>\n   <g id=\"line2d_29\">\n    <g clip-path=\"url(#p42e6773547)\">\n     <use style=\"fill:#ff0000;stroke:#ff0000;stroke-linejoin:bevel;\" x=\"918.134969\" xlink:href=\"#m3500086458\" y=\"34.67267\"/>\n    </g>\n   </g>\n   <g id=\"patch_8\">\n    <path d=\"M 530.763068 294.118125 \nL 530.763068 22.318125 \n\" style=\"fill:none;stroke:#000000;stroke-linecap:square;stroke-linejoin:miter;stroke-width:0.8;\"/>\n   </g>\n   <g id=\"patch_9\">\n    <path d=\"M 936.58125 294.118125 \nL 936.58125 22.318125 \n\" style=\"fill:none;stroke:#000000;stroke-linecap:square;stroke-linejoin:miter;stroke-width:0.8;\"/>\n   </g>\n   <g id=\"patch_10\">\n    <path d=\"M 530.763068 294.118125 \nL 936.58125 294.118125 \n\" style=\"fill:none;stroke:#000000;stroke-linecap:square;stroke-linejoin:miter;stroke-width:0.8;\"/>\n   </g>\n   <g id=\"patch_11\">\n    <path d=\"M 530.763068 22.318125 \nL 936.58125 22.318125 \n\" style=\"fill:none;stroke:#000000;stroke-linecap:square;stroke-linejoin:miter;stroke-width:0.8;\"/>\n   </g>\n   <g id=\"text_29\">\n    <!-- Final model dev/test accuracy: 89.98/90.58% -->\n    <defs>\n     <path d=\"M 9.8125 72.90625 \nL 51.703125 72.90625 \nL 51.703125 64.59375 \nL 19.671875 64.59375 \nL 19.671875 43.109375 \nL 48.578125 43.109375 \nL 48.578125 34.8125 \nL 19.671875 34.8125 \nL 19.671875 0 \nL 9.8125 0 \nz\n\" id=\"DejaVuSans-70\"/>\n     <path d=\"M 9.421875 54.6875 \nL 18.40625 54.6875 \nL 18.40625 0 \nL 9.421875 0 \nz\nM 9.421875 75.984375 \nL 18.40625 75.984375 \nL 18.40625 64.59375 \nL 9.421875 64.59375 \nz\n\" id=\"DejaVuSans-105\"/>\n     <path d=\"M 54.890625 33.015625 \nL 54.890625 0 \nL 45.90625 0 \nL 45.90625 32.71875 \nQ 45.90625 40.484375 42.875 44.328125 \nQ 39.84375 48.1875 33.796875 48.1875 \nQ 26.515625 48.1875 22.3125 43.546875 \nQ 18.109375 38.921875 18.109375 30.90625 \nL 18.109375 0 \nL 9.078125 0 \nL 9.078125 54.6875 \nL 18.109375 54.6875 \nL 18.109375 46.1875 \nQ 21.34375 51.125 25.703125 53.5625 \nQ 30.078125 56 35.796875 56 \nQ 45.21875 56 50.046875 50.171875 \nQ 54.890625 44.34375 54.890625 33.015625 \nz\n\" id=\"DejaVuSans-110\"/>\n     <path d=\"M 52 44.1875 \nQ 55.375 50.25 60.0625 53.125 \nQ 64.75 56 71.09375 56 \nQ 79.640625 56 84.28125 50.015625 \nQ 88.921875 44.046875 88.921875 33.015625 \nL 88.921875 0 \nL 79.890625 0 \nL 79.890625 32.71875 \nQ 79.890625 40.578125 77.09375 44.375 \nQ 74.3125 48.1875 68.609375 48.1875 \nQ 61.625 48.1875 57.5625 43.546875 \nQ 53.515625 38.921875 53.515625 30.90625 \nL 53.515625 0 \nL 44.484375 0 \nL 44.484375 32.71875 \nQ 44.484375 40.625 41.703125 44.40625 \nQ 38.921875 48.1875 33.109375 48.1875 \nQ 26.21875 48.1875 22.15625 43.53125 \nQ 18.109375 38.875 18.109375 30.90625 \nL 18.109375 0 \nL 9.078125 0 \nL 9.078125 54.6875 \nL 18.109375 54.6875 \nL 18.109375 46.1875 \nQ 21.1875 51.21875 25.484375 53.609375 \nQ 29.78125 56 35.6875 56 \nQ 41.65625 56 45.828125 52.96875 \nQ 50 49.953125 52 44.1875 \nz\n\" id=\"DejaVuSans-109\"/>\n     <path d=\"M 2.984375 54.6875 \nL 12.5 54.6875 \nL 29.59375 8.796875 \nL 46.6875 54.6875 \nL 56.203125 54.6875 \nL 35.6875 0 \nL 23.484375 0 \nz\n\" id=\"DejaVuSans-118\"/>\n     <path d=\"M 25.390625 72.90625 \nL 33.6875 72.90625 \nL 8.296875 -9.28125 \nL 0 -9.28125 \nz\n\" id=\"DejaVuSans-47\"/>\n     <path d=\"M 18.3125 70.21875 \nL 18.3125 54.6875 \nL 36.8125 54.6875 \nL 36.8125 47.703125 \nL 18.3125 47.703125 \nL 18.3125 18.015625 \nQ 18.3125 11.328125 20.140625 9.421875 \nQ 21.96875 7.515625 27.59375 7.515625 \nL 36.8125 7.515625 \nL 36.8125 0 \nL 27.59375 0 \nQ 17.1875 0 13.234375 3.875 \nQ 9.28125 7.765625 9.28125 18.015625 \nL 9.28125 47.703125 \nL 2.6875 47.703125 \nL 2.6875 54.6875 \nL 9.28125 54.6875 \nL 9.28125 70.21875 \nz\n\" id=\"DejaVuSans-116\"/>\n     <path d=\"M 11.71875 12.40625 \nL 22.015625 12.40625 \nL 22.015625 0 \nL 11.71875 0 \nz\nM 11.71875 51.703125 \nL 22.015625 51.703125 \nL 22.015625 39.3125 \nL 11.71875 39.3125 \nz\n\" id=\"DejaVuSans-58\"/>\n    </defs>\n    <g transform=\"translate(598.203409 16.318125)scale(0.12 -0.12)\">\n     <use xlink:href=\"#DejaVuSans-70\"/>\n     <use x=\"50.269531\" xlink:href=\"#DejaVuSans-105\"/>\n     <use x=\"78.052734\" xlink:href=\"#DejaVuSans-110\"/>\n     <use x=\"141.431641\" xlink:href=\"#DejaVuSans-97\"/>\n     <use x=\"202.710938\" xlink:href=\"#DejaVuSans-108\"/>\n     <use x=\"230.494141\" xlink:href=\"#DejaVuSans-32\"/>\n     <use x=\"262.28125\" xlink:href=\"#DejaVuSans-109\"/>\n     <use x=\"359.693359\" xlink:href=\"#DejaVuSans-111\"/>\n     <use x=\"420.875\" xlink:href=\"#DejaVuSans-100\"/>\n     <use x=\"484.351562\" xlink:href=\"#DejaVuSans-101\"/>\n     <use x=\"545.875\" xlink:href=\"#DejaVuSans-108\"/>\n     <use x=\"573.658203\" xlink:href=\"#DejaVuSans-32\"/>\n     <use x=\"605.445312\" xlink:href=\"#DejaVuSans-100\"/>\n     <use x=\"668.921875\" xlink:href=\"#DejaVuSans-101\"/>\n     <use x=\"730.445312\" xlink:href=\"#DejaVuSans-118\"/>\n     <use x=\"789.625\" xlink:href=\"#DejaVuSans-47\"/>\n     <use x=\"823.316406\" xlink:href=\"#DejaVuSans-116\"/>\n     <use x=\"862.525391\" xlink:href=\"#DejaVuSans-101\"/>\n     <use x=\"924.048828\" xlink:href=\"#DejaVuSans-115\"/>\n     <use x=\"976.148438\" xlink:href=\"#DejaVuSans-116\"/>\n     <use x=\"1015.357422\" xlink:href=\"#DejaVuSans-32\"/>\n     <use x=\"1047.144531\" xlink:href=\"#DejaVuSans-97\"/>\n     <use x=\"1108.423828\" xlink:href=\"#DejaVuSans-99\"/>\n     <use x=\"1163.404297\" xlink:href=\"#DejaVuSans-99\"/>\n     <use x=\"1218.384766\" xlink:href=\"#DejaVuSans-117\"/>\n     <use x=\"1281.763672\" xlink:href=\"#DejaVuSans-114\"/>\n     <use x=\"1322.876953\" xlink:href=\"#DejaVuSans-97\"/>\n     <use x=\"1384.15625\" xlink:href=\"#DejaVuSans-99\"/>\n     <use x=\"1439.136719\" xlink:href=\"#DejaVuSans-121\"/>\n     <use x=\"1491.066406\" xlink:href=\"#DejaVuSans-58\"/>\n     <use x=\"1524.757812\" xlink:href=\"#DejaVuSans-32\"/>\n     <use x=\"1556.544922\" xlink:href=\"#DejaVuSans-56\"/>\n     <use x=\"1620.167969\" xlink:href=\"#DejaVuSans-57\"/>\n     <use x=\"1683.791016\" xlink:href=\"#DejaVuSans-46\"/>\n     <use x=\"1715.578125\" xlink:href=\"#DejaVuSans-57\"/>\n     <use x=\"1779.201172\" xlink:href=\"#DejaVuSans-56\"/>\n     <use x=\"1842.824219\" xlink:href=\"#DejaVuSans-47\"/>\n     <use x=\"1876.515625\" xlink:href=\"#DejaVuSans-57\"/>\n     <use x=\"1940.138672\" xlink:href=\"#DejaVuSans-48\"/>\n     <use x=\"2003.761719\" xlink:href=\"#DejaVuSans-46\"/>\n     <use x=\"2035.548828\" xlink:href=\"#DejaVuSans-53\"/>\n     <use x=\"2099.171875\" xlink:href=\"#DejaVuSans-56\"/>\n     <use x=\"2162.794922\" xlink:href=\"#DejaVuSans-37\"/>\n    </g>\n   </g>\n   <g id=\"legend_1\">\n    <g id=\"patch_12\">\n     <path d=\"M 537.763068 74.3525 \nL 593.750568 74.3525 \nQ 595.750568 74.3525 595.750568 72.3525 \nL 595.750568 29.318125 \nQ 595.750568 27.318125 593.750568 27.318125 \nL 537.763068 27.318125 \nQ 535.763068 27.318125 535.763068 29.318125 \nL 535.763068 72.3525 \nQ 535.763068 74.3525 537.763068 74.3525 \nz\n\" style=\"fill:#ffffff;opacity:0.8;stroke:#cccccc;stroke-linejoin:miter;\"/>\n    </g>\n    <g id=\"line2d_30\">\n     <path d=\"M 539.763068 35.416562 \nL 559.763068 35.416562 \n\" style=\"fill:none;stroke:#1f77b4;stroke-linecap:square;stroke-width:1.5;\"/>\n    </g>\n    <g id=\"line2d_31\">\n     <g>\n      <use style=\"fill:#1f77b4;stroke:#1f77b4;stroke-linejoin:miter;\" x=\"549.763068\" xlink:href=\"#m718a13e56f\" y=\"35.416562\"/>\n     </g>\n    </g>\n    <g id=\"text_30\">\n     <!-- Train -->\n     <defs>\n      <path d=\"M -0.296875 72.90625 \nL 61.375 72.90625 \nL 61.375 64.59375 \nL 35.5 64.59375 \nL 35.5 0 \nL 25.59375 0 \nL 25.59375 64.59375 \nL -0.296875 64.59375 \nz\n\" id=\"DejaVuSans-84\"/>\n     </defs>\n     <g transform=\"translate(567.763068 38.916562)scale(0.1 -0.1)\">\n      <use xlink:href=\"#DejaVuSans-84\"/>\n      <use x=\"46.333984\" xlink:href=\"#DejaVuSans-114\"/>\n      <use x=\"87.447266\" xlink:href=\"#DejaVuSans-97\"/>\n      <use x=\"148.726562\" xlink:href=\"#DejaVuSans-105\"/>\n      <use x=\"176.509766\" xlink:href=\"#DejaVuSans-110\"/>\n     </g>\n    </g>\n    <g id=\"line2d_32\">\n     <path d=\"M 539.763068 50.094688 \nL 559.763068 50.094688 \n\" style=\"fill:none;stroke:#ff7f0e;stroke-linecap:square;stroke-width:1.5;\"/>\n    </g>\n    <g id=\"line2d_33\">\n     <g>\n      <use style=\"fill:#ff7f0e;stroke:#ff7f0e;\" x=\"549.763068\" xlink:href=\"#me062f91a7c\" y=\"50.094688\"/>\n     </g>\n    </g>\n    <g id=\"text_31\">\n     <!-- Dev -->\n     <defs>\n      <path d=\"M 19.671875 64.796875 \nL 19.671875 8.109375 \nL 31.59375 8.109375 \nQ 46.6875 8.109375 53.6875 14.9375 \nQ 60.6875 21.78125 60.6875 36.53125 \nQ 60.6875 51.171875 53.6875 57.984375 \nQ 46.6875 64.796875 31.59375 64.796875 \nz\nM 9.8125 72.90625 \nL 30.078125 72.90625 \nQ 51.265625 72.90625 61.171875 64.09375 \nQ 71.09375 55.28125 71.09375 36.53125 \nQ 71.09375 17.671875 61.125 8.828125 \nQ 51.171875 0 30.078125 0 \nL 9.8125 0 \nz\n\" id=\"DejaVuSans-68\"/>\n     </defs>\n     <g transform=\"translate(567.763068 53.594688)scale(0.1 -0.1)\">\n      <use xlink:href=\"#DejaVuSans-68\"/>\n      <use x=\"77.001953\" xlink:href=\"#DejaVuSans-101\"/>\n      <use x=\"138.525391\" xlink:href=\"#DejaVuSans-118\"/>\n     </g>\n    </g>\n    <g id=\"line2d_34\"/>\n    <g id=\"line2d_35\">\n     <g>\n      <use style=\"fill:#ff0000;stroke:#ff0000;stroke-linejoin:bevel;\" x=\"549.763068\" xlink:href=\"#m3500086458\" y=\"64.772812\"/>\n     </g>\n    </g>\n    <g id=\"text_32\">\n     <!-- Test -->\n     <g transform=\"translate(567.763068 68.272812)scale(0.1 -0.1)\">\n      <use xlink:href=\"#DejaVuSans-84\"/>\n      <use x=\"44.083984\" xlink:href=\"#DejaVuSans-101\"/>\n      <use x=\"105.607422\" xlink:href=\"#DejaVuSans-115\"/>\n      <use x=\"157.707031\" xlink:href=\"#DejaVuSans-116\"/>\n     </g>\n    </g>\n   </g>\n  </g>\n </g>\n <defs>\n  <clipPath id=\"pe66fa99711\">\n   <rect height=\"271.8\" width=\"405.818182\" x=\"43.78125\" y=\"22.318125\"/>\n  </clipPath>\n  <clipPath id=\"p42e6773547\">\n   <rect height=\"271.8\" width=\"405.818182\" x=\"530.763068\" y=\"22.318125\"/>\n  </clipPath>\n </defs>\n</svg>\n"
          },
          "metadata": {
            "needs_background": "light"
          }
        }
      ]
    },
    {
      "cell_type": "code",
      "source": [
        ""
      ],
      "metadata": {
        "id": "b1e15iwO9D-h"
      },
      "execution_count": null,
      "outputs": []
    }
  ]
}