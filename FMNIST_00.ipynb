{
  "nbformat": 4,
  "nbformat_minor": 0,
  "metadata": {
    "colab": {
      "name": "FMNIST_00.ipynb",
      "provenance": [],
      "collapsed_sections": [],
      "authorship_tag": "ABX9TyM/fzlp4asjm+RrXssOOr3u",
      "include_colab_link": true
    },
    "kernelspec": {
      "name": "python3",
      "display_name": "Python 3"
    },
    "language_info": {
      "name": "python"
    }
  },
  "cells": [
    {
      "cell_type": "markdown",
      "metadata": {
        "id": "view-in-github",
        "colab_type": "text"
      },
      "source": [
        "<a href=\"https://colab.research.google.com/github/MohebZandi/Comupter_Vision/blob/main/FMNIST_00.ipynb\" target=\"_parent\"><img src=\"https://colab.research.google.com/assets/colab-badge.svg\" alt=\"Open In Colab\"/></a>"
      ]
    },
    {
      "cell_type": "markdown",
      "source": [
        "# Classifying Fashion MNIST\n"
      ],
      "metadata": {
        "id": "dwlMOzaeXzoW"
      }
    },
    {
      "cell_type": "code",
      "execution_count": null,
      "metadata": {
        "id": "Ux0KHD43wdo2"
      },
      "outputs": [],
      "source": [
        "import numpy as np\n",
        "import gzip\n",
        "import matplotlib.pyplot as plt\n",
        "from IPython import display\n",
        "display.set_matplotlib_formats('svg')\n",
        "\n",
        "import torch\n",
        "import torchvision\n",
        "import torch.nn as nn\n",
        "import torch.nn.functional as F\n",
        "import torchvision.transforms as T\n",
        "from torch.utils.data import DataLoader, TensorDataset\n",
        "\n",
        "from sklearn.model_selection import train_test_split\n"
      ]
    },
    {
      "cell_type": "code",
      "source": [
        "device = torch.device('cuda:0' if torch.cuda.is_available() else 'cpu')"
      ],
      "metadata": {
        "id": "EseTqPxRx96b"
      },
      "execution_count": null,
      "outputs": []
    },
    {
      "cell_type": "markdown",
      "source": [
        "## Importing data \n",
        "\n",
        "### 1 - from Google Drive\n",
        "\n",
        "### 2 - from torchvision"
      ],
      "metadata": {
        "id": "5WKbBD3_X6Dd"
      }
    },
    {
      "cell_type": "code",
      "source": [
        "from google.colab import drive\n",
        "drive.mount('/content/gdrive')"
      ],
      "metadata": {
        "colab": {
          "base_uri": "https://localhost:8080/"
        },
        "id": "gnhJSVKs0-cb",
        "outputId": "65f89252-3f46-482c-ccd8-48da93bd41f1"
      },
      "execution_count": null,
      "outputs": [
        {
          "output_type": "stream",
          "name": "stdout",
          "text": [
            "Mounted at /content/gdrive\n"
          ]
        }
      ]
    },
    {
      "cell_type": "code",
      "source": [
        "data_url_train = '/content/gdrive/MyDrive/FMNIST/train-images.gz'\n",
        "data_url_labels = '/content/gdrive/MyDrive/FMNIST/train-labels.gz'"
      ],
      "metadata": {
        "id": "G49fgQY42FZ1"
      },
      "execution_count": null,
      "outputs": []
    },
    {
      "cell_type": "code",
      "source": [
        "# importing data and labels\n",
        "\n",
        "def training_images():\n",
        "    with gzip.open(data_url_train, 'r') as f:\n",
        "        # first 4 bytes is a magic number\n",
        "        magic_number = int.from_bytes(f.read(4), 'big')\n",
        "        # second 4 bytes is the number of images\n",
        "        image_count = int.from_bytes(f.read(4), 'big')\n",
        "        # third 4 bytes is the row count\n",
        "        row_count = int.from_bytes(f.read(4), 'big')\n",
        "        # fourth 4 bytes is the column count\n",
        "        column_count = int.from_bytes(f.read(4), 'big')\n",
        "        # rest is the image pixel data, each pixel is stored as an unsigned byte\n",
        "        # pixel values are 0 to 255\n",
        "        image_data = f.read()\n",
        "        images = np.frombuffer(image_data, dtype=np.uint8)\\\n",
        "            .reshape((image_count, row_count, column_count))\n",
        "        return images\n",
        "\n",
        "\n",
        "def training_labels():\n",
        "    with gzip.open(data_url_labels, 'r') as f:\n",
        "        # first 4 bytes is a magic number\n",
        "        magic_number = int.from_bytes(f.read(4), 'big')\n",
        "        # second 4 bytes is the number of labels\n",
        "        label_count = int.from_bytes(f.read(4), 'big')\n",
        "        # rest is the label data, each label is stored as unsigned byte\n",
        "        # label values are 0 to 9\n",
        "        label_data = f.read()\n",
        "        labels = np.frombuffer(label_data, dtype=np.uint8)\n",
        "        return labels"
      ],
      "metadata": {
        "id": "bftcA0RO-Bn5"
      },
      "execution_count": null,
      "outputs": []
    },
    {
      "cell_type": "code",
      "source": [
        "# Shape of the data\n",
        "print(training_images().shape)\n",
        "\n",
        "# Shape of labels\n",
        "print(len(training_labels()))"
      ],
      "metadata": {
        "colab": {
          "base_uri": "https://localhost:8080/"
        },
        "id": "yvp9QNWKA1Er",
        "outputId": "f5caed48-4087-4fba-e2ea-943748be973f"
      },
      "execution_count": null,
      "outputs": [
        {
          "output_type": "stream",
          "name": "stdout",
          "text": [
            "(60000, 28, 28)\n",
            "60000\n"
          ]
        }
      ]
    },
    {
      "cell_type": "code",
      "source": [
        "images = training_images()\n",
        "labels = training_labels()\n",
        "classes = {0: 'T-shirt/top', 1: 'Trouser', 2: 'Pullover', 3: 'Dress', 4: 'Coat', 5: 'Sandal', 6: 'Shirt', 7: 'Sneaker', 8: 'Bag', 9: 'Ankle boot'}\n",
        "print(classes.items())"
      ],
      "metadata": {
        "id": "Gq8TUYXWA8rZ",
        "colab": {
          "base_uri": "https://localhost:8080/"
        },
        "outputId": "46824065-c9d0-47c2-bb8d-b6893a4f5eb1"
      },
      "execution_count": null,
      "outputs": [
        {
          "output_type": "stream",
          "name": "stdout",
          "text": [
            "dict_items([(0, 'T-shirt/top'), (1, 'Trouser'), (2, 'Pullover'), (3, 'Dress'), (4, 'Coat'), (5, 'Sandal'), (6, 'Shirt'), (7, 'Sneaker'), (8, 'Bag'), (9, 'Ankle boot')])\n"
          ]
        }
      ]
    },
    {
      "cell_type": "code",
      "source": [
        "fig, axs = plt.subplots(3,4, figsize= (8,8))\n",
        "\n",
        "\n",
        "for ax in axs.flatten():\n",
        "    i = np.random.randint(1, 2000, 1 ).item()\n",
        "    ax.imshow(images[i], cmap= 'gray')\n",
        "    ax.text(10, -2, classes[labels[i]])\n",
        "    ax.axis('off')\n",
        "\n",
        "# plt.imshow(images[1], cmap= 'gray')\n",
        "plt.show()"
      ],
      "metadata": {
        "id": "q0yKcAnCBGGl",
        "colab": {
          "base_uri": "https://localhost:8080/",
          "height": 596
        },
        "outputId": "96af0715-b004-4a84-ec7d-11268033c945"
      },
      "execution_count": null,
      "outputs": [
        {
          "output_type": "display_data",
          "data": {
            "text/plain": [
              "<Figure size 576x576 with 12 Axes>"
            ],
            "image/svg+xml": "<?xml version=\"1.0\" encoding=\"utf-8\" standalone=\"no\"?>\n<!DOCTYPE svg PUBLIC \"-//W3C//DTD SVG 1.1//EN\"\n  \"http://www.w3.org/Graphics/SVG/1.1/DTD/svg11.dtd\">\n<!-- Created with matplotlib (https://matplotlib.org/) -->\n<svg height=\"431.214791pt\" version=\"1.1\" viewBox=\"0 0 460.8 431.214791\" width=\"460.8pt\" xmlns=\"http://www.w3.org/2000/svg\" xmlns:xlink=\"http://www.w3.org/1999/xlink\">\n <defs>\n  <style type=\"text/css\">\n*{stroke-linecap:butt;stroke-linejoin:round;}\n  </style>\n </defs>\n <g id=\"figure_1\">\n  <g id=\"patch_1\">\n   <path d=\"M 0 431.214791 \nL 460.8 431.214791 \nL 460.8 0 \nL 0 0 \nz\n\" style=\"fill:none;\"/>\n  </g>\n  <g id=\"axes_1\">\n   <g clip-path=\"url(#pf7dbff9b71)\">\n    <image height=\"98\" id=\"imagec55478576d\" transform=\"scale(1 -1)translate(0 -98)\" width=\"98\" x=\"7.2\" xlink:href=\"data:image/png;base64,\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\" y=\"-19.040674\"/>\n   </g>\n   <g id=\"text_1\">\n    <!-- Sandal -->\n    <defs>\n     <path d=\"M 53.515625 70.515625 \nL 53.515625 60.890625 \nQ 47.90625 63.578125 42.921875 64.890625 \nQ 37.9375 66.21875 33.296875 66.21875 \nQ 25.25 66.21875 20.875 63.09375 \nQ 16.5 59.96875 16.5 54.203125 \nQ 16.5 49.359375 19.40625 46.890625 \nQ 22.3125 44.4375 30.421875 42.921875 \nL 36.375 41.703125 \nQ 47.40625 39.59375 52.65625 34.296875 \nQ 57.90625 29 57.90625 20.125 \nQ 57.90625 9.515625 50.796875 4.046875 \nQ 43.703125 -1.421875 29.984375 -1.421875 \nQ 24.8125 -1.421875 18.96875 -0.25 \nQ 13.140625 0.921875 6.890625 3.21875 \nL 6.890625 13.375 \nQ 12.890625 10.015625 18.65625 8.296875 \nQ 24.421875 6.59375 29.984375 6.59375 \nQ 38.421875 6.59375 43.015625 9.90625 \nQ 47.609375 13.234375 47.609375 19.390625 \nQ 47.609375 24.75 44.3125 27.78125 \nQ 41.015625 30.8125 33.5 32.328125 \nL 27.484375 33.5 \nQ 16.453125 35.6875 11.515625 40.375 \nQ 6.59375 45.0625 6.59375 53.421875 \nQ 6.59375 63.09375 13.40625 68.65625 \nQ 20.21875 74.21875 32.171875 74.21875 \nQ 37.3125 74.21875 42.625 73.28125 \nQ 47.953125 72.359375 53.515625 70.515625 \nz\n\" id=\"DejaVuSans-83\"/>\n     <path d=\"M 34.28125 27.484375 \nQ 23.390625 27.484375 19.1875 25 \nQ 14.984375 22.515625 14.984375 16.5 \nQ 14.984375 11.71875 18.140625 8.90625 \nQ 21.296875 6.109375 26.703125 6.109375 \nQ 34.1875 6.109375 38.703125 11.40625 \nQ 43.21875 16.703125 43.21875 25.484375 \nL 43.21875 27.484375 \nz\nM 52.203125 31.203125 \nL 52.203125 0 \nL 43.21875 0 \nL 43.21875 8.296875 \nQ 40.140625 3.328125 35.546875 0.953125 \nQ 30.953125 -1.421875 24.3125 -1.421875 \nQ 15.921875 -1.421875 10.953125 3.296875 \nQ 6 8.015625 6 15.921875 \nQ 6 25.140625 12.171875 29.828125 \nQ 18.359375 34.515625 30.609375 34.515625 \nL 43.21875 34.515625 \nL 43.21875 35.40625 \nQ 43.21875 41.609375 39.140625 45 \nQ 35.0625 48.390625 27.6875 48.390625 \nQ 23 48.390625 18.546875 47.265625 \nQ 14.109375 46.140625 10.015625 43.890625 \nL 10.015625 52.203125 \nQ 14.9375 54.109375 19.578125 55.046875 \nQ 24.21875 56 28.609375 56 \nQ 40.484375 56 46.34375 49.84375 \nQ 52.203125 43.703125 52.203125 31.203125 \nz\n\" id=\"DejaVuSans-97\"/>\n     <path d=\"M 54.890625 33.015625 \nL 54.890625 0 \nL 45.90625 0 \nL 45.90625 32.71875 \nQ 45.90625 40.484375 42.875 44.328125 \nQ 39.84375 48.1875 33.796875 48.1875 \nQ 26.515625 48.1875 22.3125 43.546875 \nQ 18.109375 38.921875 18.109375 30.90625 \nL 18.109375 0 \nL 9.078125 0 \nL 9.078125 54.6875 \nL 18.109375 54.6875 \nL 18.109375 46.1875 \nQ 21.34375 51.125 25.703125 53.5625 \nQ 30.078125 56 35.796875 56 \nQ 45.21875 56 50.046875 50.171875 \nQ 54.890625 44.34375 54.890625 33.015625 \nz\n\" id=\"DejaVuSans-110\"/>\n     <path d=\"M 45.40625 46.390625 \nL 45.40625 75.984375 \nL 54.390625 75.984375 \nL 54.390625 0 \nL 45.40625 0 \nL 45.40625 8.203125 \nQ 42.578125 3.328125 38.25 0.953125 \nQ 33.9375 -1.421875 27.875 -1.421875 \nQ 17.96875 -1.421875 11.734375 6.484375 \nQ 5.515625 14.40625 5.515625 27.296875 \nQ 5.515625 40.1875 11.734375 48.09375 \nQ 17.96875 56 27.875 56 \nQ 33.9375 56 38.25 53.625 \nQ 42.578125 51.265625 45.40625 46.390625 \nz\nM 14.796875 27.296875 \nQ 14.796875 17.390625 18.875 11.75 \nQ 22.953125 6.109375 30.078125 6.109375 \nQ 37.203125 6.109375 41.296875 11.75 \nQ 45.40625 17.390625 45.40625 27.296875 \nQ 45.40625 37.203125 41.296875 42.84375 \nQ 37.203125 48.484375 30.078125 48.484375 \nQ 22.953125 48.484375 18.875 42.84375 \nQ 14.796875 37.203125 14.796875 27.296875 \nz\n\" id=\"DejaVuSans-100\"/>\n     <path d=\"M 9.421875 75.984375 \nL 18.40625 75.984375 \nL 18.40625 0 \nL 9.421875 0 \nz\n\" id=\"DejaVuSans-108\"/>\n    </defs>\n    <g transform=\"translate(43.591304 14.798437)scale(0.1 -0.1)\">\n     <use xlink:href=\"#DejaVuSans-83\"/>\n     <use x=\"63.476562\" xlink:href=\"#DejaVuSans-97\"/>\n     <use x=\"124.755859\" xlink:href=\"#DejaVuSans-110\"/>\n     <use x=\"188.134766\" xlink:href=\"#DejaVuSans-100\"/>\n     <use x=\"251.611328\" xlink:href=\"#DejaVuSans-97\"/>\n     <use x=\"312.890625\" xlink:href=\"#DejaVuSans-108\"/>\n    </g>\n   </g>\n  </g>\n  <g id=\"axes_2\">\n   <g clip-path=\"url(#pb369d6095b)\">\n    <image height=\"98\" id=\"image5beee8ed15\" transform=\"scale(1 -1)translate(0 -98)\" width=\"98\" x=\"123.652174\" xlink:href=\"data:image/png;base64,\niVBORw0KGgoAAAANSUhEUgAAAGIAAABiCAYAAACrpQYOAAAABHNCSVQICAgIfAhkiAAABFNJREFUeJztnblKLVEQRcsBR3BCAwdUjMw0umAihmLuBxiJX+CPmBgaCOZ+gIGBGAgGghcERVFRVJzn6QUP6lWV2Pi8R3sHe0V1KC8c2NZwhu4uE5F3AaRQKLjx+Pi42g8PD87X3t6u9uvrq/Ntbm6qfX5+7nxzc3MlzzMV5XlPgPyFQoBAIUAoE9AaEevA6uqq2sfHx843NDSkdrFYdL7m5ma1q6qqnG9lZUXtycnJ7082AYwIECgECJV5T+CrHBwcqH13d+d81dXVat/e3jpfX1+f2uvr685nW9u8YUSAQCFAoBAgwNYIm/dFRCor/0319PT00989PT258dXVldoVFRWJZpceRgQIFAIE2NR0c3Pjxo+Pj2rHFtXuuJ6cnDhfZ2en2jE1xd3YPGFEgEAhQKAQIMDWiLe3Nzd+eXlR+/r62vnsloetJSK+fb2/v3e+o6OjkueZCkYECBQCBNjUZFOKiG9RYxtq/zaurGMas2St0H8bRgQIFAIECgECbI2Iud7WhXhCZ+tHbF9t22t3cEVELi8vS55nKhgRIFAIEGBTU9xFzcK2r/E+lE1VMaVdXFx8c3bpYUSAQCFAoBAgwNaIeHpmW9T4DETWDqttg+PJHhKMCBAoBAiwqel/Dm3iKtySdekgrsLzhBEBAoUAgUKAAFsj9vf33dg+wvv8/Ox8WW2p3X09OztzPtYI8gEKAQJsaoo7pfZgqKWlxfnsSjte5886NMpqe38bRgQIFAIECgECbI3Y29tz497eXrXjJQBbT+rq6pzPntjFuoMEIwIECgECbGrKSiPl5f7/x7al0Wev99tVNhqMCBAoBAgUAgTYGtHW1ubGWXdYbT2JNcL+Lr44CwlGBAgUAgTY1JRFVhsa05YdI+22RhgRIFAIECgECLA1Ym1tzY0HBgbUrqmpcT7bsmbVgd3d3USzSw8jAgQKAQJsaopvF8haPccXqHzGzs5O6RP7IRgRIFAIECgECLA1wr4LXESkv79f7fiOb/voVnysy75csba2NuUUk8KIAIFCgACbmlpbW93YXsuPHB4eqh2fRu3p6VG7sbEx0ezSw4gAgUKAQCFAgPrq1vT0tNq2XRXxu6rxEoD1xceC7TheWuOXGckHKAQIUKlpdnZW7Y6ODueLlwIs9v2t8Vq+TUdZlw4mJia+PM+fgBEBAoUAgUKAAFUj7Adex8bGnG90dFTtuDPb3d2t9tbWlvPZLzPaD8+KiMzMzHx/solhRIBAIUCA2n21O6fLy8vONzw8rHZsUe3HX7u6upzPHhrNz887n12h530vlhEBAoUAgUKAAFUjbM6OO6X2wkA8hVtYWFB7amrK+exFtfiCLaRnJxgRIFAIEKBSk00PDQ0NztfU1KR2oVBwvsHBQbXt6lxEZGlpSe36+nrni1/2yhNGBAgUAgQKAQJUjbBsb2+7cbFYVHtxcdH5NjY21B4ZGXE+W2uQPiQeYUSAQCFA+AMIy4d1acHdpgAAAABJRU5ErkJggg==\" y=\"-19.040674\"/>\n   </g>\n   <g id=\"text_2\">\n    <!-- Dress -->\n    <defs>\n     <path d=\"M 19.671875 64.796875 \nL 19.671875 8.109375 \nL 31.59375 8.109375 \nQ 46.6875 8.109375 53.6875 14.9375 \nQ 60.6875 21.78125 60.6875 36.53125 \nQ 60.6875 51.171875 53.6875 57.984375 \nQ 46.6875 64.796875 31.59375 64.796875 \nz\nM 9.8125 72.90625 \nL 30.078125 72.90625 \nQ 51.265625 72.90625 61.171875 64.09375 \nQ 71.09375 55.28125 71.09375 36.53125 \nQ 71.09375 17.671875 61.125 8.828125 \nQ 51.171875 0 30.078125 0 \nL 9.8125 0 \nz\n\" id=\"DejaVuSans-68\"/>\n     <path d=\"M 41.109375 46.296875 \nQ 39.59375 47.171875 37.8125 47.578125 \nQ 36.03125 48 33.890625 48 \nQ 26.265625 48 22.1875 43.046875 \nQ 18.109375 38.09375 18.109375 28.8125 \nL 18.109375 0 \nL 9.078125 0 \nL 9.078125 54.6875 \nL 18.109375 54.6875 \nL 18.109375 46.1875 \nQ 20.953125 51.171875 25.484375 53.578125 \nQ 30.03125 56 36.53125 56 \nQ 37.453125 56 38.578125 55.875 \nQ 39.703125 55.765625 41.0625 55.515625 \nz\n\" id=\"DejaVuSans-114\"/>\n     <path d=\"M 56.203125 29.59375 \nL 56.203125 25.203125 \nL 14.890625 25.203125 \nQ 15.484375 15.921875 20.484375 11.0625 \nQ 25.484375 6.203125 34.421875 6.203125 \nQ 39.59375 6.203125 44.453125 7.46875 \nQ 49.3125 8.734375 54.109375 11.28125 \nL 54.109375 2.78125 \nQ 49.265625 0.734375 44.1875 -0.34375 \nQ 39.109375 -1.421875 33.890625 -1.421875 \nQ 20.796875 -1.421875 13.15625 6.1875 \nQ 5.515625 13.8125 5.515625 26.8125 \nQ 5.515625 40.234375 12.765625 48.109375 \nQ 20.015625 56 32.328125 56 \nQ 43.359375 56 49.78125 48.890625 \nQ 56.203125 41.796875 56.203125 29.59375 \nz\nM 47.21875 32.234375 \nQ 47.125 39.59375 43.09375 43.984375 \nQ 39.0625 48.390625 32.421875 48.390625 \nQ 24.90625 48.390625 20.390625 44.140625 \nQ 15.875 39.890625 15.1875 32.171875 \nz\n\" id=\"DejaVuSans-101\"/>\n     <path d=\"M 44.28125 53.078125 \nL 44.28125 44.578125 \nQ 40.484375 46.53125 36.375 47.5 \nQ 32.28125 48.484375 27.875 48.484375 \nQ 21.1875 48.484375 17.84375 46.4375 \nQ 14.5 44.390625 14.5 40.28125 \nQ 14.5 37.15625 16.890625 35.375 \nQ 19.28125 33.59375 26.515625 31.984375 \nL 29.59375 31.296875 \nQ 39.15625 29.25 43.1875 25.515625 \nQ 47.21875 21.78125 47.21875 15.09375 \nQ 47.21875 7.46875 41.1875 3.015625 \nQ 35.15625 -1.421875 24.609375 -1.421875 \nQ 20.21875 -1.421875 15.453125 -0.5625 \nQ 10.6875 0.296875 5.421875 2 \nL 5.421875 11.28125 \nQ 10.40625 8.6875 15.234375 7.390625 \nQ 20.0625 6.109375 24.8125 6.109375 \nQ 31.15625 6.109375 34.5625 8.28125 \nQ 37.984375 10.453125 37.984375 14.40625 \nQ 37.984375 18.0625 35.515625 20.015625 \nQ 33.0625 21.96875 24.703125 23.78125 \nL 21.578125 24.515625 \nQ 13.234375 26.265625 9.515625 29.90625 \nQ 5.8125 33.546875 5.8125 39.890625 \nQ 5.8125 47.609375 11.28125 51.796875 \nQ 16.75 56 26.8125 56 \nQ 31.78125 56 36.171875 55.265625 \nQ 40.578125 54.546875 44.28125 53.078125 \nz\n\" id=\"DejaVuSans-115\"/>\n    </defs>\n    <g transform=\"translate(160.043478 14.798437)scale(0.1 -0.1)\">\n     <use xlink:href=\"#DejaVuSans-68\"/>\n     <use x=\"77.001953\" xlink:href=\"#DejaVuSans-114\"/>\n     <use x=\"115.865234\" xlink:href=\"#DejaVuSans-101\"/>\n     <use x=\"177.388672\" xlink:href=\"#DejaVuSans-115\"/>\n     <use x=\"229.488281\" xlink:href=\"#DejaVuSans-115\"/>\n    </g>\n   </g>\n  </g>\n  <g id=\"axes_3\">\n   <g clip-path=\"url(#pfa10ab0ded)\">\n    <image height=\"98\" id=\"imagefdeb40e37b\" transform=\"scale(1 -1)translate(0 -98)\" width=\"98\" x=\"240.104348\" xlink:href=\"data:image/png;base64,\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\" y=\"-19.040674\"/>\n   </g>\n   <g id=\"text_3\">\n    <!-- Pullover -->\n    <defs>\n     <path d=\"M 19.671875 64.796875 \nL 19.671875 37.40625 \nL 32.078125 37.40625 \nQ 38.96875 37.40625 42.71875 40.96875 \nQ 46.484375 44.53125 46.484375 51.125 \nQ 46.484375 57.671875 42.71875 61.234375 \nQ 38.96875 64.796875 32.078125 64.796875 \nz\nM 9.8125 72.90625 \nL 32.078125 72.90625 \nQ 44.34375 72.90625 50.609375 67.359375 \nQ 56.890625 61.8125 56.890625 51.125 \nQ 56.890625 40.328125 50.609375 34.8125 \nQ 44.34375 29.296875 32.078125 29.296875 \nL 19.671875 29.296875 \nL 19.671875 0 \nL 9.8125 0 \nz\n\" id=\"DejaVuSans-80\"/>\n     <path d=\"M 8.5 21.578125 \nL 8.5 54.6875 \nL 17.484375 54.6875 \nL 17.484375 21.921875 \nQ 17.484375 14.15625 20.5 10.265625 \nQ 23.53125 6.390625 29.59375 6.390625 \nQ 36.859375 6.390625 41.078125 11.03125 \nQ 45.3125 15.671875 45.3125 23.6875 \nL 45.3125 54.6875 \nL 54.296875 54.6875 \nL 54.296875 0 \nL 45.3125 0 \nL 45.3125 8.40625 \nQ 42.046875 3.421875 37.71875 1 \nQ 33.40625 -1.421875 27.6875 -1.421875 \nQ 18.265625 -1.421875 13.375 4.4375 \nQ 8.5 10.296875 8.5 21.578125 \nz\nM 31.109375 56 \nz\n\" id=\"DejaVuSans-117\"/>\n     <path d=\"M 30.609375 48.390625 \nQ 23.390625 48.390625 19.1875 42.75 \nQ 14.984375 37.109375 14.984375 27.296875 \nQ 14.984375 17.484375 19.15625 11.84375 \nQ 23.34375 6.203125 30.609375 6.203125 \nQ 37.796875 6.203125 41.984375 11.859375 \nQ 46.1875 17.53125 46.1875 27.296875 \nQ 46.1875 37.015625 41.984375 42.703125 \nQ 37.796875 48.390625 30.609375 48.390625 \nz\nM 30.609375 56 \nQ 42.328125 56 49.015625 48.375 \nQ 55.71875 40.765625 55.71875 27.296875 \nQ 55.71875 13.875 49.015625 6.21875 \nQ 42.328125 -1.421875 30.609375 -1.421875 \nQ 18.84375 -1.421875 12.171875 6.21875 \nQ 5.515625 13.875 5.515625 27.296875 \nQ 5.515625 40.765625 12.171875 48.375 \nQ 18.84375 56 30.609375 56 \nz\n\" id=\"DejaVuSans-111\"/>\n     <path d=\"M 2.984375 54.6875 \nL 12.5 54.6875 \nL 29.59375 8.796875 \nL 46.6875 54.6875 \nL 56.203125 54.6875 \nL 35.6875 0 \nL 23.484375 0 \nz\n\" id=\"DejaVuSans-118\"/>\n    </defs>\n    <g transform=\"translate(276.495652 14.798437)scale(0.1 -0.1)\">\n     <use xlink:href=\"#DejaVuSans-80\"/>\n     <use x=\"58.552734\" xlink:href=\"#DejaVuSans-117\"/>\n     <use x=\"121.931641\" xlink:href=\"#DejaVuSans-108\"/>\n     <use x=\"149.714844\" xlink:href=\"#DejaVuSans-108\"/>\n     <use x=\"177.498047\" xlink:href=\"#DejaVuSans-111\"/>\n     <use x=\"238.679688\" xlink:href=\"#DejaVuSans-118\"/>\n     <use x=\"297.859375\" xlink:href=\"#DejaVuSans-101\"/>\n     <use x=\"359.382812\" xlink:href=\"#DejaVuSans-114\"/>\n    </g>\n   </g>\n  </g>\n  <g id=\"axes_4\">\n   <g clip-path=\"url(#p4e4985ba46)\">\n    <image height=\"98\" id=\"image0b1055d995\" transform=\"scale(1 -1)translate(0 -98)\" width=\"98\" x=\"356.556522\" xlink:href=\"data:image/png;base64,\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\" y=\"-19.040674\"/>\n   </g>\n   <g id=\"text_4\">\n    <!-- Dress -->\n    <g transform=\"translate(392.947826 14.798437)scale(0.1 -0.1)\">\n     <use xlink:href=\"#DejaVuSans-68\"/>\n     <use x=\"77.001953\" xlink:href=\"#DejaVuSans-114\"/>\n     <use x=\"115.865234\" xlink:href=\"#DejaVuSans-101\"/>\n     <use x=\"177.388672\" xlink:href=\"#DejaVuSans-115\"/>\n     <use x=\"229.488281\" xlink:href=\"#DejaVuSans-115\"/>\n    </g>\n   </g>\n  </g>\n  <g id=\"axes_5\">\n   <g clip-path=\"url(#p43572510db)\">\n    <image height=\"98\" id=\"image0e132b7000\" transform=\"scale(1 -1)translate(0 -98)\" width=\"98\" x=\"7.2\" xlink:href=\"data:image/png;base64,\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\" y=\"-172.527732\"/>\n   </g>\n   <g id=\"text_5\">\n    <!-- Sandal -->\n    <g transform=\"translate(43.591304 168.285496)scale(0.1 -0.1)\">\n     <use xlink:href=\"#DejaVuSans-83\"/>\n     <use x=\"63.476562\" xlink:href=\"#DejaVuSans-97\"/>\n     <use x=\"124.755859\" xlink:href=\"#DejaVuSans-110\"/>\n     <use x=\"188.134766\" xlink:href=\"#DejaVuSans-100\"/>\n     <use x=\"251.611328\" xlink:href=\"#DejaVuSans-97\"/>\n     <use x=\"312.890625\" xlink:href=\"#DejaVuSans-108\"/>\n    </g>\n   </g>\n  </g>\n  <g id=\"axes_6\">\n   <g clip-path=\"url(#p3124917f78)\">\n    <image height=\"98\" id=\"imageb2d55d9813\" transform=\"scale(1 -1)translate(0 -98)\" width=\"98\" x=\"123.652174\" xlink:href=\"data:image/png;base64,\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\" y=\"-172.527732\"/>\n   </g>\n   <g id=\"text_6\">\n    <!-- Shirt -->\n    <defs>\n     <path d=\"M 54.890625 33.015625 \nL 54.890625 0 \nL 45.90625 0 \nL 45.90625 32.71875 \nQ 45.90625 40.484375 42.875 44.328125 \nQ 39.84375 48.1875 33.796875 48.1875 \nQ 26.515625 48.1875 22.3125 43.546875 \nQ 18.109375 38.921875 18.109375 30.90625 \nL 18.109375 0 \nL 9.078125 0 \nL 9.078125 75.984375 \nL 18.109375 75.984375 \nL 18.109375 46.1875 \nQ 21.34375 51.125 25.703125 53.5625 \nQ 30.078125 56 35.796875 56 \nQ 45.21875 56 50.046875 50.171875 \nQ 54.890625 44.34375 54.890625 33.015625 \nz\n\" id=\"DejaVuSans-104\"/>\n     <path d=\"M 9.421875 54.6875 \nL 18.40625 54.6875 \nL 18.40625 0 \nL 9.421875 0 \nz\nM 9.421875 75.984375 \nL 18.40625 75.984375 \nL 18.40625 64.59375 \nL 9.421875 64.59375 \nz\n\" id=\"DejaVuSans-105\"/>\n     <path d=\"M 18.3125 70.21875 \nL 18.3125 54.6875 \nL 36.8125 54.6875 \nL 36.8125 47.703125 \nL 18.3125 47.703125 \nL 18.3125 18.015625 \nQ 18.3125 11.328125 20.140625 9.421875 \nQ 21.96875 7.515625 27.59375 7.515625 \nL 36.8125 7.515625 \nL 36.8125 0 \nL 27.59375 0 \nQ 17.1875 0 13.234375 3.875 \nQ 9.28125 7.765625 9.28125 18.015625 \nL 9.28125 47.703125 \nL 2.6875 47.703125 \nL 2.6875 54.6875 \nL 9.28125 54.6875 \nL 9.28125 70.21875 \nz\n\" id=\"DejaVuSans-116\"/>\n    </defs>\n    <g transform=\"translate(160.043478 168.285496)scale(0.1 -0.1)\">\n     <use xlink:href=\"#DejaVuSans-83\"/>\n     <use x=\"63.476562\" xlink:href=\"#DejaVuSans-104\"/>\n     <use x=\"126.855469\" xlink:href=\"#DejaVuSans-105\"/>\n     <use x=\"154.638672\" xlink:href=\"#DejaVuSans-114\"/>\n     <use x=\"195.751953\" xlink:href=\"#DejaVuSans-116\"/>\n    </g>\n   </g>\n  </g>\n  <g id=\"axes_7\">\n   <g clip-path=\"url(#pdaeaf4fbc5)\">\n    <image height=\"98\" id=\"image13b2992faa\" transform=\"scale(1 -1)translate(0 -98)\" width=\"98\" x=\"240.104348\" xlink:href=\"data:image/png;base64,\niVBORw0KGgoAAAANSUhEUgAAAGIAAABiCAYAAACrpQYOAAAABHNCSVQICAgIfAhkiAAAAvdJREFUeJztnL1qakEUhUc9/qCNRowpLOxsBDsrXyAES1sLOwvB0new8gFSJG0KIVUEn0PURsSAGCSdBOJfigub2YNH7jWBrAvrq9aw5GTil5kznoABY8zRkF8n+NsTIH+gCBAoAgSKAIEiQKAIECgCBIoAgSJAoAgQKAIEigCBIkCgCBAoAgSKAIEiQKAIECgCBIoAgSJAoAgQKAIEigCBIkCgCBAoAgSKAIEiQKAIECgCBIoAgSJAoAgQKAIEigCBIkCgCBC8TCYjg1arpcrr62vJqVRKdbFYTHIymVSdPY5EIqqzx9vt1ndi+/1ejXe7neThcKi619dXyePxWHWbzebkNYwxZjabSQ4G9d9kt9s9OWdjjHl/f5fs/g4fHx8nszHGeJ4n+f7+XnVcESBQBAhepVKRQb1eV+Xb25vkyWSiupubG9+LPj09Sc5ms6q7urqSvFqtVBcOhyW7Sz6dTkuu1Wqqs1/rbiOJRMJ3noFAQLK7bdlb7+FwUF08Hve95ufnp2R3a4pGo5Lt99YYrggYKAIEigAhYC78dppOpyP5+flZdaPR6FuTOkWhUJD8+PiounK5LHkwGKju7u5Osnsktq9p34OM0fu5e7S1j/WhUEh19v3Kvl8Yo4/1/X5fdVwRIFAECJ697Nxj2jny+bzkS7ei29tbNW40GpJzuZzq1uu1b9fr9SS32+2//vnukfw34YoAgSJAoAgQvHP3hXOPHF5eXiRPp1PVPTw8SC6VSqorFouS3XvLcrmU7D5CWSwWkqvVqu+cz2E/0viX7qewn766R2muCBAoAoSLP1nbNJtNNbafgLr/qJnP55LdT572Vnjp0dLdYo7H/+NrbbkiQKAIECgChB+5R5DvwxUBAkWAQBEgUAQIFAECRYBAESBQBAgUAQJFgEARIFAECBQBAkWAQBEgUAQIFAECRYBAESBQBAgUAQJFgEARIFAECBQBAkWAQBEgUAQIFAECRYBAESBQBAgUAQJFgEARIFAECBQBwhc8nKO5lOpn3wAAAABJRU5ErkJggg==\" y=\"-172.527732\"/>\n   </g>\n   <g id=\"text_7\">\n    <!-- Sandal -->\n    <g transform=\"translate(276.495652 168.285496)scale(0.1 -0.1)\">\n     <use xlink:href=\"#DejaVuSans-83\"/>\n     <use x=\"63.476562\" xlink:href=\"#DejaVuSans-97\"/>\n     <use x=\"124.755859\" xlink:href=\"#DejaVuSans-110\"/>\n     <use x=\"188.134766\" xlink:href=\"#DejaVuSans-100\"/>\n     <use x=\"251.611328\" xlink:href=\"#DejaVuSans-97\"/>\n     <use x=\"312.890625\" xlink:href=\"#DejaVuSans-108\"/>\n    </g>\n   </g>\n  </g>\n  <g id=\"axes_8\">\n   <g clip-path=\"url(#pa27353e6ee)\">\n    <image height=\"98\" id=\"image46440263ac\" transform=\"scale(1 -1)translate(0 -98)\" width=\"98\" x=\"356.556522\" xlink:href=\"data:image/png;base64,\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\" y=\"-172.527732\"/>\n   </g>\n   <g id=\"text_8\">\n    <!-- Shirt -->\n    <g transform=\"translate(392.947826 168.285496)scale(0.1 -0.1)\">\n     <use xlink:href=\"#DejaVuSans-83\"/>\n     <use x=\"63.476562\" xlink:href=\"#DejaVuSans-104\"/>\n     <use x=\"126.855469\" xlink:href=\"#DejaVuSans-105\"/>\n     <use x=\"154.638672\" xlink:href=\"#DejaVuSans-114\"/>\n     <use x=\"195.751953\" xlink:href=\"#DejaVuSans-116\"/>\n    </g>\n   </g>\n  </g>\n  <g id=\"axes_9\">\n   <g clip-path=\"url(#p56e52dd70e)\">\n    <image height=\"98\" id=\"image4e6c2498c4\" transform=\"scale(1 -1)translate(0 -98)\" width=\"98\" x=\"7.2\" xlink:href=\"data:image/png;base64,\niVBORw0KGgoAAAANSUhEUgAAAGIAAABiCAYAAACrpQYOAAAABHNCSVQICAgIfAhkiAAABItJREFUeJztnbtKLEEQhnt1vYsigmCgkWgmGIggiJkvIOZiKD6Cb2Bi4LuYaWIqCKKJilfwgni/X0/WVBVneues2+2/nP+LqqndmZHfqq6pnuktOOe+XUKmp6czfYVCwdsfHx+Zn2tpacn0vb6+qvHLy0uu62psbFTjg4MDb6+uruY6xk+oiX4GkgsKAQKFAKHgIs8RU1NTarywsODtw8ND5SsWi96uq6tTvq+vL2+/v78rX01Nvv+n2tpaNZbzSUNDg/Ld3d15e2JiItfxfwIjAgQKAUKx9Ed+Rn19vRpvbm56+/r6Wvne3t68bdONTFU2bcmy16YfmcZCJbFNTfbaYsOIAIFCgEAhQIg+RxwfH6uxzNNyTnBOzyc2n9vP5kWWxNK22NbIxcVFWecrF0YECBQChOipaX9/P9Nn0428e5a2c7pktT45tmWvLG2l7Vz4zvrm5ibzumPAiACBQoBAIUCIPkecnJyosS0Tswi1MWz3VbY17Dzw/Z3dXJYlsv3e9vZ2ruusFIwIECgECNFTk00Nt7e33rbpIFS+ynGoi2q7vc3NzZm+0DF5Z/2fQiFAoBAgRJ8jLPf3995ua2tTvsvLS28/PT0pX6jUbGpq8rYte2W5bM8nsSXx4+Nj5mdjwIgAgUKAkDw1yeeF7DOssmS0paZMR5+fn8onS2Jb9spubFdXl/LJlGbTXd5nZisFIwIECgEChQDhV8vX7u5u5ZPtELvSJhf+7eqZLFmfn5+VT85D1ifP19HRkXm+FDAiQKAQICRPTfI5p8HBQeWTC/i2nJR3ugMDA8o3Nzfn7aWlJeXb29vzdqijax9kODs7+/sfEAlGBAgUAgQKAULyOeLo6Mjb5+fnyifnBdsp7e/v97bs0jrn3Pj4uLcnJyeVr7OzM/NaZMf14eFB+ew4NowIECgECMlTk+x4jo2NKd/W1pa37fNPKysr3p6ZmVG+4eFhbw8NDSnf7Oyst0dGRpSvt7fX2zs7OyWvPSaMCBAoBAgUAoToOw9Y2tvbvT06Oqp8Gxsb3j49Pc08hm1xLC4uent+fl751tfXM4/T19fnbftAmVxJTAEjAgQKAULy8lUu9C8vL5d1DFvayjJUHr8Uu7u7ZZ0/BowIECgECBQChORzhHwowC7Qh957kKtp9ntyNa2np0f55DwQ2mDLvscReuUrBowIECgECMlTU2jBXmI3wAr5ZKqy+7fmvZbfhhEBAoUAgUKAkHyOqAR2Jxn5Cm9o33BkGBEgUAgQqjI12Tvr0FbW1QIjAgQKAQKFAAF2jrDvR0jsHCG7qq2trdGuKSaMCBAoBAiwqSlEaAOsUNcWGUYECBQCBAoBAuwcEVq8t6twcqUv1OJI/UDAv8CIAIFCgFCVqcnePcvUFNrMhKmJlIRCgEAhQKjKOUK+Iuyc3iM29YZXlYIRAQKFAAE2jkO/jGK7r/J1LXZfyY+gECBQCBBg54hQ+Wr3b5UbcCG3MUIwIkCgECDApqZ/QW5RXe7vXv82jAgQKAQIFAKEqpwj1tbW1FjuPHB1dZX6cioCIwIECgHCH9hidps54lGHAAAAAElFTkSuQmCC\" y=\"-326.014791\"/>\n   </g>\n   <g id=\"text_9\">\n    <!-- Bag -->\n    <defs>\n     <path d=\"M 19.671875 34.8125 \nL 19.671875 8.109375 \nL 35.5 8.109375 \nQ 43.453125 8.109375 47.28125 11.40625 \nQ 51.125 14.703125 51.125 21.484375 \nQ 51.125 28.328125 47.28125 31.5625 \nQ 43.453125 34.8125 35.5 34.8125 \nz\nM 19.671875 64.796875 \nL 19.671875 42.828125 \nL 34.28125 42.828125 \nQ 41.5 42.828125 45.03125 45.53125 \nQ 48.578125 48.25 48.578125 53.8125 \nQ 48.578125 59.328125 45.03125 62.0625 \nQ 41.5 64.796875 34.28125 64.796875 \nz\nM 9.8125 72.90625 \nL 35.015625 72.90625 \nQ 46.296875 72.90625 52.390625 68.21875 \nQ 58.5 63.53125 58.5 54.890625 \nQ 58.5 48.1875 55.375 44.234375 \nQ 52.25 40.28125 46.1875 39.3125 \nQ 53.46875 37.75 57.5 32.78125 \nQ 61.53125 27.828125 61.53125 20.40625 \nQ 61.53125 10.640625 54.890625 5.3125 \nQ 48.25 0 35.984375 0 \nL 9.8125 0 \nz\n\" id=\"DejaVuSans-66\"/>\n     <path d=\"M 45.40625 27.984375 \nQ 45.40625 37.75 41.375 43.109375 \nQ 37.359375 48.484375 30.078125 48.484375 \nQ 22.859375 48.484375 18.828125 43.109375 \nQ 14.796875 37.75 14.796875 27.984375 \nQ 14.796875 18.265625 18.828125 12.890625 \nQ 22.859375 7.515625 30.078125 7.515625 \nQ 37.359375 7.515625 41.375 12.890625 \nQ 45.40625 18.265625 45.40625 27.984375 \nz\nM 54.390625 6.78125 \nQ 54.390625 -7.171875 48.1875 -13.984375 \nQ 42 -20.796875 29.203125 -20.796875 \nQ 24.46875 -20.796875 20.265625 -20.09375 \nQ 16.0625 -19.390625 12.109375 -17.921875 \nL 12.109375 -9.1875 \nQ 16.0625 -11.328125 19.921875 -12.34375 \nQ 23.78125 -13.375 27.78125 -13.375 \nQ 36.625 -13.375 41.015625 -8.765625 \nQ 45.40625 -4.15625 45.40625 5.171875 \nL 45.40625 9.625 \nQ 42.625 4.78125 38.28125 2.390625 \nQ 33.9375 0 27.875 0 \nQ 17.828125 0 11.671875 7.65625 \nQ 5.515625 15.328125 5.515625 27.984375 \nQ 5.515625 40.671875 11.671875 48.328125 \nQ 17.828125 56 27.875 56 \nQ 33.9375 56 38.28125 53.609375 \nQ 42.625 51.21875 45.40625 46.390625 \nL 45.40625 54.6875 \nL 54.390625 54.6875 \nz\n\" id=\"DejaVuSans-103\"/>\n    </defs>\n    <g transform=\"translate(43.591304 321.772555)scale(0.1 -0.1)\">\n     <use xlink:href=\"#DejaVuSans-66\"/>\n     <use x=\"68.603516\" xlink:href=\"#DejaVuSans-97\"/>\n     <use x=\"129.882812\" xlink:href=\"#DejaVuSans-103\"/>\n    </g>\n   </g>\n  </g>\n  <g id=\"axes_10\">\n   <g clip-path=\"url(#p590aa5942a)\">\n    <image height=\"98\" id=\"imageb559dea317\" transform=\"scale(1 -1)translate(0 -98)\" width=\"98\" x=\"123.652174\" xlink:href=\"data:image/png;base64,\niVBORw0KGgoAAAANSUhEUgAAAGIAAABiCAYAAACrpQYOAAAABHNCSVQICAgIfAhkiAAABYJJREFUeJztnblKbEEQhnvGfV8REQ0EzVxAn8BADMw09BlMfQEz38DcQAzVzEBMfQI1cQEF933fbtb89d857dyL3RRMfVEdyumeseiqOtXV5+Scc98uIdPT015+enoSuo+PDy/X19cLXVVVlZeXl5czx+/r6xPXU1NTXj45Ocmcr6OjQ+hWV1e9fHBwkDnfb5GPPoNRFGYIJZghlFAee4KxsTFxvbCw4GWOEZ+fn16urq4WurOzMy+HYsTk5KS4np2d9fLDw4PQYYxoaGgQuqamJi/Pz89nzvdb2IpQghlCCdFdE7ufl5cXLz8+PgpdWVmZl9/f3/9rvtraWnH9/PycOR9SXi7/Ffi5FNiKUIIZQglmCCVEjxFMLpfzcj6fz9RhvHDOuYqKiqLGb2lpyRwT5Z++S11dXVHz/Ra2IpRghlBCdNfEd8hdXV1e3t3dFbrv7+xCMFZfm5ubhe7m5sbLbW1tmWOGxucx+XvHxlaEEswQSjBDKCF6jOCq5tfXl5ex2uqc9OGcTlZWVnqZU0uMEe3t7UKHKSqXMbLmdk7GpBTYilCCGUIJ0V0TuxG8Y359fRU6dFV8J40uJ+Ri2DXhmLgR9BPF3sn/FrYilGCGUIIZQgnRYwSmnc7JdBJ365yTm/scWzo7O71cU1OTOV9jY6O4xp0+bEDg+Tm2WPpaopghlBDdNXEPK6aTb29vQnd/f+9ldmmY9vKYCFdRLy4uvHx3dyd0ocYCq76WKGYIJZghlBA9RnA6iTGC4wBWXLkcgfGEP4dw/Dg9PS04vnMyleZyC1eNY2MrQglmCCUkd024MYQyw66pv7/fy9wggHDvK95Z890yzsEbQ6EKbwxsRSjBDKEEM4QSkpc4ME3k6iumpZxqYjwJ9aWyb8e0l888YFmD09fU2IpQghlCCdFdE7sYdBV8PItdFYKu6V9SS5yPq71Y0eUxQ32yMbAVoQQzhBLMEEpIfj4i5HsxnnCDAOq4MopljVCFlY9uYdzhhjKLESWKGUIJ0V0TV1jxOnTKk3WYera2tgpdd3d35nwIux8ck0+xpr7TthWhBDOEEswQSkj+5AFMCzkOYOrJPhubDngXrre3t+D4zsmKa+ioGO/eWYwoUcwQSojumkJpKOuKPfWJ/azOyWe9ckUXP8epbcgVcp9sbGxFKMEMoQQzhBKixwhOGdEXs8/GGMHxAn32xMSE0N3e3haUnQv3yeL8XLW9urrK/FwMbEUowQyhhOiuiRsCsM8pdDqUN5TwxOng4KDQYes9p524iYRHwxjuv7q8vMz82xjYilCCGUIJZgglRI8R/KoA7FvlJgBMNbnkgGcZ+AkCqOMSB8Yh3tnD74avKXDu7zQ4NrYilGCGUEJ01xR6NQFvxqBr4g0evGb3g5s4nPZihZefSoBu6/DwUOiur69dSmxFKMEMoQQzhBKixwiuYoaePIANYHy8F2MEV2bxOtS0xoRepbO/v5/5uRjYilCCGUIJ0V0TH5fCqianqOiO2DWh++HUEt0PV1FDx7PQFbJrOjo6cimxFaEEM4QSzBBKiB4j2NeHzi9gOsu7d+j7+Yk3OAeXOPDNkByv+K2RiJU4ShQzhBKiu6bj42NxfX5+nvm32GjADzDBjX92P6GnEuBmEFeCMX0OuakU2IpQghlCCWYIJSTvfcU3ZK2vrwsdHsEKVW3Zn2P6yjtto6OjXsZXH/Acw8PDhX9AImxFKMEMoYTk6Stej4yMCB26h8XFRaEbHx/38sDAgNCtrKx4eWZmRugw1d3e3hY6vJPf2Ngo/AMSYStCCWYIJZghlJA8RvT09HiZU9SlpSUvb25uCt3Q0JCX19bWhG5vb6/g+M45t7Oz4+WtrS2hm5ub8zKnvamxFaEEM4QS/gDlHxIdGTjpkgAAAABJRU5ErkJggg==\" y=\"-326.014791\"/>\n   </g>\n   <g id=\"text_10\">\n    <!-- Trouser -->\n    <defs>\n     <path d=\"M -0.296875 72.90625 \nL 61.375 72.90625 \nL 61.375 64.59375 \nL 35.5 64.59375 \nL 35.5 0 \nL 25.59375 0 \nL 25.59375 64.59375 \nL -0.296875 64.59375 \nz\n\" id=\"DejaVuSans-84\"/>\n    </defs>\n    <g transform=\"translate(160.043478 321.772555)scale(0.1 -0.1)\">\n     <use xlink:href=\"#DejaVuSans-84\"/>\n     <use x=\"46.333984\" xlink:href=\"#DejaVuSans-114\"/>\n     <use x=\"85.197266\" xlink:href=\"#DejaVuSans-111\"/>\n     <use x=\"146.378906\" xlink:href=\"#DejaVuSans-117\"/>\n     <use x=\"209.757812\" xlink:href=\"#DejaVuSans-115\"/>\n     <use x=\"261.857422\" xlink:href=\"#DejaVuSans-101\"/>\n     <use x=\"323.380859\" xlink:href=\"#DejaVuSans-114\"/>\n    </g>\n   </g>\n  </g>\n  <g id=\"axes_11\">\n   <g clip-path=\"url(#p85c1887171)\">\n    <image height=\"98\" id=\"image915cad516d\" transform=\"scale(1 -1)translate(0 -98)\" width=\"98\" x=\"240.104348\" xlink:href=\"data:image/png;base64,\niVBORw0KGgoAAAANSUhEUgAAAGIAAABiCAYAAACrpQYOAAAABHNCSVQICAgIfAhkiAAABWFJREFUeJztnTlLbEsQx9t9XwPFBXcUQQMRnEAFEwMR8TOYiImxgYmxmYKBX8HABY2MFBMjFRVxNxhRFBdcwf1ldf9VcM+b93BOV1C/6N/U9UxD3aqu013Tk+Cc+3FKyM7OJj0wMMBse3t7pM/Ozpjt9PSUdFdXF7OVl5eTTkpKYra5uTnSj4+P/33Cv0ii1083CHOEEswRSkj2PQEkEomQrqmpYbbk5D9T7ezsZLaxsTHSfX19zJaSkkL67e2N2dbW1kjbGmE458wRakhwisrXlZUV0vX19cyGqaOhoYHZGhsbSa+urjLb5+cn6Y+PD2aLRqOkZboLG4sIJZgjlGCOUIKq8jUvL++vNixfv76+mK2kpIR0QUEBs11eXpL++eHLYVFREem6ujpmOz4+jmHGv4dFhBLMEUpQlZpwp/T19ZXZMK08PDwwW2lpKemEhARmwzT2/f3NbO/v76TDTkUSiwglmCOUYI5Qgtc1Qubzm5sb0liuSnDbwjnnsrKySMtTOPy3suzFE0ErXw3nnDlCDV5TU35+PhtjqsDS0jmecuQb8svLy18/Aw+G0tLSmC0x8c//w9zc3BhmHD8sIpRgjlCCOUIJXteIjo4ONi4rKyMtmwdmZmZIt7a2MhuuA7IkxlO/iYkJZtvc3CRdUVHBbBsbG0FT/3UsIpRgjlCC1+aBoaEhNsYScnx8nNkwjS0tLTEbppHq6mpmwzdm+WY9OTlJ+unpidlGR0cD5/7bWEQowRyhBHOEEryWr+vr62zc1tZGemRkhNmmpqZILywsMFt/fz/p4eFhZquqqiLd09PDbLOzs6Tl7mvYWEQowRyhBK+pqb29nY2xbX57e5vZMHXIt+DU1FTSLS0tzLazs0NafuULnynL3rCxiFCCOUIJ5ggleF0jmpub2Xh+fp704eEhsxUWFpKura1lNty6kGXo0dERabmNgSd0vb29sU47LlhEKMEcoQSvqQnfep1zbnp6mrTcKcU+I9kXm5mZSVqmreXlZdLFxcXMhj20JycnMc46PlhEKMEcoQRzhBK8rhFYkjrHD/5lE0BTUxPp29tbZsPmM1wvnOOnfrJprbKykvT19XWs044LFhFKMEcowWtqkr2o8itZiCxZEXxDlhef4DNlyz4+E/tufWARoQRzhBLMEUrwukZgz6pzfFtD5nNZziK4RqB2jp/eyWdiOWvfjzCcc+YINai6eSAoxQSBNwrI2wUwpclnYioMSn1hYBGhBHOEEswRSvC6Rsiv6WJ+DypfZT7Hv5PrAH6GXD/QZmuE4ZwzR6jBa2qS6QfTikwVQakDLz6Rz5RNCAi+dQft7oaBRYQSzBFKMEcoQdXFWTiWF2fJUhfBO79l+Yolq3wGfoZsLAgbiwglmCOU4DU1yYP+9PT0mP4Oy07ngktUTFXyLkB8jpxL2FhEKMEcoQRzhBK8rhGyZMzJySEdlPeDSltZogZtjWRkZJC+v78PnmycsYhQgjlCCV5T09XVFRvjV7nu7u6YTfZAIZh+gnZf5cEQXmV9cXHx7xOOIxYRSjBHKMEcoQSva8TW1hYbd3d3k5ZrBOZ6ucMqty6QoIYE/H7G+fl5DDOOHxYRSjBHKMFrajo4OGBjLFHljwNiWpE/dxAEvjHLFIY7rkE/fRAGFhFKMEcowRyhBK93g8td1MXFRdJy+wNP7+QJHTYPyBIVx8/Pz8yGa9Lg4CCz4Q+Zh4FFhBLMEUrwWr7KchLTQTQaZTZMK/JAKeitG3dm5TdH8QKVsFORxCJCCeYIJZgjlOC1fJVEIhHSeKmVc7zUlI1ouMMqmw5wLJvI9vf3Se/u7v6PGf8eFhFKMEco4R9vqpt8Qb5qsQAAAABJRU5ErkJggg==\" y=\"-326.014791\"/>\n   </g>\n   <g id=\"text_11\">\n    <!-- Trouser -->\n    <g transform=\"translate(276.495652 321.772555)scale(0.1 -0.1)\">\n     <use xlink:href=\"#DejaVuSans-84\"/>\n     <use x=\"46.333984\" xlink:href=\"#DejaVuSans-114\"/>\n     <use x=\"85.197266\" xlink:href=\"#DejaVuSans-111\"/>\n     <use x=\"146.378906\" xlink:href=\"#DejaVuSans-117\"/>\n     <use x=\"209.757812\" xlink:href=\"#DejaVuSans-115\"/>\n     <use x=\"261.857422\" xlink:href=\"#DejaVuSans-101\"/>\n     <use x=\"323.380859\" xlink:href=\"#DejaVuSans-114\"/>\n    </g>\n   </g>\n  </g>\n  <g id=\"axes_12\">\n   <g clip-path=\"url(#pe971e2e710)\">\n    <image height=\"98\" id=\"image61c5743eb1\" transform=\"scale(1 -1)translate(0 -98)\" width=\"98\" x=\"356.556522\" xlink:href=\"data:image/png;base64,\niVBORw0KGgoAAAANSUhEUgAAAGIAAABiCAYAAACrpQYOAAAABHNCSVQICAgIfAhkiAAABF1JREFUeJztnclKJEEURaOc51kURREXunApfoFf5M7fceVf6ELQLxCkEHHCARFncbYXDcF7t7qSrKKy4kLfs3pBVEVlc/sN+TIyLIUQfgMJ6+vr0Z6fn3dz29vb0d7c3Ky6xtramhsvLi5Ge29vz81tbGzUdZ1F0JL6AsRfJAQJEoKEUiDKEQcHB9Fub293c6Ojo9EeGhqquka5XHbjUqlUdc25ubl6LrMQ5BEkSAgS2lL+uA0bIYRwf38f7d9fHzEvLi5yrXl9fe3GNhydn5/XeolNQx5BgoQgQUKQkDRHdHR0uPHPz0+0W1tbMz9bDSxJbV5YWFio8QqbhzyCBAlBQtLQ1Nvb68YtLY3/f/H5+Rnt7+/vhq/fKOQRJEgIEiQECVQ5wvLx8eHG2DnNi22VtLX5f25PT0+0X19f61q/UcgjSJAQJCQNTSMjI25su7F4Z43jatRSAo+NjUX79PQ09/eKQB5BgoQgQUKQkDRH9Pf3u/HU1FS0j4+P3VxWqWvBEtWC+WNmZibayhEihCAhaEgamjo7O934+fk52vV2SvGO3HZfka6urrp+owjkESRICBIkBAlJc0R3d7cb280DmCNwM1o1MEe8v7//c/1/jVMijyBBQpBAVb7aUIF7X/Pua8oCQ1Hejm4zkEeQICFIkBAkUHVfv76+oo05Iu/mASxzbccVu69MG87kESRICBJo76yRvKVmVkmMndjJyclcazYDeQQJEoIECUFC0hwxPj7uxjaGY/na19eXa027nxXBzuzExESuNZuBPIIECUFC0tCEh5vYhzh4h5y3+5r1OhiWr/agldTII0iQECRICBKocoTNC29vb24u72Yw7NLakhW7rVg+p0QeQYKEICFpaMoKN/YhUQg+rODdc9YbofZ7uKb2vooKJAQJEoKEpDkia0MAtjhse2J2dtbN3dzcRLuWTWTaYCYqkBAkUJ3phw9uLLb0xLP5bMf15eXFzdkQl7V+auQRJEgIEiQECVRng2c9obPl6/T0tJuzJSt+z85hK6SIwxzrhedK/nMkBAlJQ5M9aSAE31XFsGGPll5dXXVzDw8P0T48PHRztrTF39NbpaICCUGChCAhaY7ADQLDw8PRxqdp9s/eLC8vuzl7WNb+/r6bs20U3DygV7dEBRKChKShCTultjuKpaUNY0dHR27ObuHHju7t7W20MdxhaEyJPIIECUGChCAhaY7AJ2Y2L2Cst6Um5g/72cfHRzeX9adtmJ7YySNIkBAkJA1N9kFQCP6hDnZK7T7VrLBl78AR/F7WZ5uNPIIECUGChCAhaY44Oztz46WlpWgPDg66OVuW4nsNV1dX0caS1P75GixtT05Oarzi4pBHkCAhSEgamu7u7tw46y1PG6oGBgbcnN0LWy6X3Zw9TOXp6cnN7ezs5L/YgpFHkCAhSJAQJCTNEbu7u268srISbdzDag9NtBvKQgjh8vIy2lj2Zh3GtbW1VeMVF4c8ggQJQcIfw/VbJnD43WIAAAAASUVORK5CYII=\" y=\"-326.014791\"/>\n   </g>\n   <g id=\"text_12\">\n    <!-- Trouser -->\n    <g transform=\"translate(392.947826 321.772555)scale(0.1 -0.1)\">\n     <use xlink:href=\"#DejaVuSans-84\"/>\n     <use x=\"46.333984\" xlink:href=\"#DejaVuSans-114\"/>\n     <use x=\"85.197266\" xlink:href=\"#DejaVuSans-111\"/>\n     <use x=\"146.378906\" xlink:href=\"#DejaVuSans-117\"/>\n     <use x=\"209.757812\" xlink:href=\"#DejaVuSans-115\"/>\n     <use x=\"261.857422\" xlink:href=\"#DejaVuSans-101\"/>\n     <use x=\"323.380859\" xlink:href=\"#DejaVuSans-114\"/>\n    </g>\n   </g>\n  </g>\n </g>\n <defs>\n  <clipPath id=\"pf7dbff9b71\">\n   <rect height=\"97.043478\" width=\"97.043478\" x=\"7.2\" y=\"19.997195\"/>\n  </clipPath>\n  <clipPath id=\"pb369d6095b\">\n   <rect height=\"97.043478\" width=\"97.043478\" x=\"123.652174\" y=\"19.997195\"/>\n  </clipPath>\n  <clipPath id=\"pfa10ab0ded\">\n   <rect height=\"97.043478\" width=\"97.043478\" x=\"240.104348\" y=\"19.997195\"/>\n  </clipPath>\n  <clipPath id=\"p4e4985ba46\">\n   <rect height=\"97.043478\" width=\"97.043478\" x=\"356.556522\" y=\"19.997195\"/>\n  </clipPath>\n  <clipPath id=\"p43572510db\">\n   <rect height=\"97.043478\" width=\"97.043478\" x=\"7.2\" y=\"173.484254\"/>\n  </clipPath>\n  <clipPath id=\"p3124917f78\">\n   <rect height=\"97.043478\" width=\"97.043478\" x=\"123.652174\" y=\"173.484254\"/>\n  </clipPath>\n  <clipPath id=\"pdaeaf4fbc5\">\n   <rect height=\"97.043478\" width=\"97.043478\" x=\"240.104348\" y=\"173.484254\"/>\n  </clipPath>\n  <clipPath id=\"pa27353e6ee\">\n   <rect height=\"97.043478\" width=\"97.043478\" x=\"356.556522\" y=\"173.484254\"/>\n  </clipPath>\n  <clipPath id=\"p56e52dd70e\">\n   <rect height=\"97.043478\" width=\"97.043478\" x=\"7.2\" y=\"326.971313\"/>\n  </clipPath>\n  <clipPath id=\"p590aa5942a\">\n   <rect height=\"97.043478\" width=\"97.043478\" x=\"123.652174\" y=\"326.971313\"/>\n  </clipPath>\n  <clipPath id=\"p85c1887171\">\n   <rect height=\"97.043478\" width=\"97.043478\" x=\"240.104348\" y=\"326.971313\"/>\n  </clipPath>\n  <clipPath id=\"pe971e2e710\">\n   <rect height=\"97.043478\" width=\"97.043478\" x=\"356.556522\" y=\"326.971313\"/>\n  </clipPath>\n </defs>\n</svg>\n"
          },
          "metadata": {
            "needs_background": "light"
          }
        }
      ]
    },
    {
      "cell_type": "markdown",
      "source": [
        "### working with data from google drive"
      ],
      "metadata": {
        "id": "h-nzx2oCYtyr"
      }
    },
    {
      "cell_type": "code",
      "source": [
        "# we already have the data and labels s follow\n",
        "images = training_images()\n",
        "labels = training_labels()\n",
        "classes = {0: 'T-shirt/top', 1: 'Trouser', 2: 'Pullover', 3: 'Dress', \n",
        "           4: 'Coat', 5: 'Sandal', 6: 'Shirt', 7: 'Sneaker', 8: 'Bag', 9: 'Ankle boot'}\n",
        "\n",
        "print (type(images))\n",
        "print(images.shape)\n",
        "print(' ')\n",
        "print(type(labels))\n",
        "print(labels.shape)"
      ],
      "metadata": {
        "colab": {
          "base_uri": "https://localhost:8080/"
        },
        "id": "ADNtyZhgYx8Y",
        "outputId": "07bc06b2-712c-403e-8216-34409b7846f4"
      },
      "execution_count": null,
      "outputs": [
        {
          "output_type": "stream",
          "name": "stdout",
          "text": [
            "<class 'numpy.ndarray'>\n",
            "(60000, 28, 28)\n",
            " \n",
            "<class 'numpy.ndarray'>\n",
            "(60000,)\n"
          ]
        }
      ]
    },
    {
      "cell_type": "code",
      "source": [
        "# let's Normalize the data\n",
        "\n",
        "dataNorm = images / np.max(images)\n",
        "print(dataNorm.shape)\n",
        "\n",
        "print(np.min(images), np.max(images))\n",
        "print(np.min(dataNorm), np.max(dataNorm))"
      ],
      "metadata": {
        "colab": {
          "base_uri": "https://localhost:8080/"
        },
        "id": "ZgPPesvlZVJk",
        "outputId": "cf98d9ca-e42e-41b5-9c93-bcdfd8a92cb9"
      },
      "execution_count": null,
      "outputs": [
        {
          "output_type": "stream",
          "name": "stdout",
          "text": [
            "(60000, 28, 28)\n",
            "0 255\n",
            "0.0 1.0\n"
          ]
        }
      ]
    },
    {
      "cell_type": "code",
      "source": [
        "# now we have to eshape it to (Number of images, number of channels, Number of H pixels, Number of W pixels)\n",
        "\n",
        "dataNorm = dataNorm.reshape(dataNorm.shape[0], 1, 28, 28)\n",
        "print(dataNorm.shape)"
      ],
      "metadata": {
        "id": "3Azf3IkKaFcu"
      },
      "execution_count": null,
      "outputs": []
    },
    {
      "cell_type": "code",
      "source": [
        "# creating train/test groups using dataloader\n",
        "\n",
        "# step1 : convert to tensor\n",
        "\n",
        "dataT = torch.tensor(dataNorm).float()\n",
        "labelsT = torch.tensor(labels).long()\n",
        "\n",
        "# step 2 : we have to split the training and test data using scikit learn function\n",
        "train_data, test_data, train_labels, test_labels = train_test_split(dataT, labelsT,\n",
        "                                                                    test_size= 0.1)\n",
        "\n",
        "# step 3 : convert into PyTorch datasets\n",
        "train_data = TensorDataset(train_data, train_labels)\n",
        "test_data = TensorDataset(test_data, test_labels)\n",
        "\n",
        "# step 4 : Create dataloaders\n",
        "trainloader = DataLoader(train_data, batch_size= 32, shuffle= True, drop_last= True)\n",
        "testloader = DataLoader(test_data, batch_size= 256)"
      ],
      "metadata": {
        "id": "rEpxaDaoa8UU"
      },
      "execution_count": null,
      "outputs": []
    },
    {
      "cell_type": "code",
      "source": [
        "# check size (should be images X channels X width X height)\n",
        "print(trainloader.dataset.tensors[0].shape)\n",
        "print(testloader.dataset.tensors[0].shape)\n",
        "print(labelsT.shape)"
      ],
      "metadata": {
        "id": "egSlg9QDaikE"
      },
      "execution_count": null,
      "outputs": []
    },
    {
      "cell_type": "markdown",
      "source": [
        "### Create the NN model function"
      ],
      "metadata": {
        "id": "TRjUUHFtcrfU"
      }
    },
    {
      "cell_type": "code",
      "source": [
        "def FMNISTmodel(print_option= False):\n",
        "    class fmnist(nn.Module):\n",
        "        def __init__(self, print_option):\n",
        "            super().__init__()\n",
        "\n",
        "            # convolution layers\n",
        "            self.convolution1 = nn.Conv2d(1, 10, kernel_size= 5, stride=1, padding= 1)   # size : np.floor((28+ 2*1 -5)/1) + 1 =26  ---> maxpooling 26/2 = 13\n",
        "            self.convolution2 = nn.Conv2d(10, 20, kernel_size= 5, stride=1, padding= 1)  # size : np.floor((13+ 2*1 -5)/1) + 1 =11  ---> maxpooling 11/2 = 5\n",
        "            self.convolution3 = nn.Conv2d(20, 40, kernel_size= 3, stride= 1, padding= 1) # size : np.floor((5+ 2*1 -3)/1) + 1 = 5    ---> maxpooling 5/2 = 2\n",
        "            expectSize = 40* (int((np.floor((5+ 2*1 -3)/1) + 1)/2)**2)\n",
        "            \n",
        "            # Fully connected layers\n",
        "            self.ffn1 = nn.Linear(expectSize, 80)\n",
        "            self.ffn2 = nn.Linear(80, 50)\n",
        "            self.output = nn.Linear(50, 10)\n",
        "\n",
        "            self.print = print_option\n",
        "\n",
        "        def forward(self, x):\n",
        "\n",
        "            if self.print : print(x.shape)\n",
        "            # Convolution Layers\n",
        "            x = F.leaky_relu(F.max_pool2d(self.convolution1(x), 2))\n",
        "            if self.print : print(x.shape)\n",
        "            x = F.leaky_relu(F.max_pool2d(self.convolution2(x), 2))\n",
        "            if self.print : print(x.shape)\n",
        "            x = F.leaky_relu(F.max_pool2d(self.convolution3(x), 2))\n",
        "            if self.print : print(x.shape)\n",
        "\n",
        "            # reshape the matrix for Linear laye input\n",
        "            nUnits = x.shape.numel()/x.shape[0]\n",
        "            x = x.view(-1,int(nUnits))\n",
        "            if self.print : print('Vectorized matrix  ',x.shape)\n",
        "\n",
        "            # Linear Layers\n",
        "            x = F.leaky_relu(self.ffn1(x))\n",
        "            if self.print : print(x.shape)\n",
        "            x = F.leaky_relu(self.ffn2(x))\n",
        "            if self.print : print(x.shape)\n",
        "            x = self.output(x)\n",
        "            if self.print : print(x.shape)\n",
        "\n",
        "            return x\n",
        "        \n",
        "    net = fmnist(print_option)\n",
        "    lossfun = nn.CrossEntropyLoss()\n",
        "    optimizer = torch.optim.Adam(params = net.parameters(), lr= 0.001, weight_decay= 0.00001)\n",
        "\n",
        "    return net, lossfun, optimizer"
      ],
      "metadata": {
        "id": "hiL7mZDNcahs"
      },
      "execution_count": null,
      "outputs": []
    },
    {
      "cell_type": "code",
      "source": [
        "# test with one batch of data\n",
        "\n",
        "net, loss, opt = FMNISTmodel(print_option= True)\n",
        "\n",
        "X, y = next(iter(trainloader))\n",
        "yHat = net(X)\n",
        "\n",
        "print('yHat shape:', yHat.shape)\n",
        "print(y.shape)\n",
        "print(' ')\n",
        "lossvalue = loss(yHat, y)\n",
        "print(lossvalue)"
      ],
      "metadata": {
        "id": "WoYYN9ZLe-xh"
      },
      "execution_count": null,
      "outputs": []
    },
    {
      "cell_type": "code",
      "source": [
        "from torchsummary import summary\n",
        "# summary(net,(1,28,28))"
      ],
      "metadata": {
        "id": "g4XbB7MwhomZ"
      },
      "execution_count": null,
      "outputs": []
    },
    {
      "cell_type": "markdown",
      "source": [
        "### Create a function to train the model "
      ],
      "metadata": {
        "id": "u-oDbetS1XC-"
      }
    },
    {
      "cell_type": "code",
      "source": [
        "# Create a model to train the NN model\n",
        "\n",
        "def trainmodel(number_of_epochs = 1):\n",
        "\n",
        "    numberepochs = number_of_epochs\n",
        "\n",
        "    net, lossfun, optimizer = FMNISTmodel(print_option= False)\n",
        "    net.to(device)\n",
        "\n",
        "    trainloss = torch.zeros(numberepochs)\n",
        "    trainAcc = torch.zeros(numberepochs)\n",
        "    testAcc  = []\n",
        "\n",
        "    for epoch in range(numberepochs):\n",
        "        print('Starting epoch is: ', epoch+1)\n",
        "        net.train()\n",
        "        batchAcc = []\n",
        "        batchloss = []\n",
        "\n",
        "        for X,y in trainloader:\n",
        "\n",
        "            X = X.to(device)\n",
        "            y= y.to(device)\n",
        "\n",
        "            yHat = net(X)\n",
        "            loss = lossfun(yHat, y)\n",
        "\n",
        "            optimizer.zero_grad()\n",
        "            loss.backward()\n",
        "            optimizer.step()\n",
        "\n",
        "            batchloss.append(loss.item())\n",
        "\n",
        "            # compute accuracy\n",
        "            matches_bool = torch.argmax(yHat, axis=1) == y        # booleans (false/true)\n",
        "            matches_numeric = matches_bool.float()                # convert to numbers (0/1)\n",
        "            accuracy_percent = 100 * torch.mean(matches_numeric)  # average and x100\n",
        "            batchAcc.append(accuracy_percent.item())\n",
        "\n",
        "            # end of a batch\n",
        "        \n",
        "        trainAcc[epoch] = np.mean(batchAcc).item()\n",
        "        trainloss[epoch] = np.mean(batchloss).item()\n",
        "\n",
        "        \n",
        "        net.eval()\n",
        "        for X, y in testloader:\n",
        "            X= X.to(device)\n",
        "            y= y.to(device)\n",
        "\n",
        "            batchloss = []\n",
        "            batchAcc = []\n",
        "            with torch.no_grad():\n",
        "                yHat = net(X)\n",
        "            batchloss.append(lossfun(yHat, y).item())\n",
        "            batchAcc.append(100*torch.mean((torch.argmax(yHat,axis=1)==y).float()).item())\n",
        "        testAcc.append( np.mean(batchAcc))\n",
        "        \n",
        "        print('Number of Epoch finished: ', epoch+1)\n",
        "        # end of one epoch\n",
        "    \n",
        "    return trainAcc, testAcc, trainloss\n"
      ],
      "metadata": {
        "id": "0jcM_G_ekozW"
      },
      "execution_count": null,
      "outputs": []
    },
    {
      "cell_type": "code",
      "source": [
        "%%time\n",
        "trainAcc , testAcc, trainloss = trainmodel(number_of_epochs = 10)"
      ],
      "metadata": {
        "id": "umE-AzAL40Jo"
      },
      "execution_count": null,
      "outputs": []
    },
    {
      "cell_type": "code",
      "source": [
        "fig,ax = plt.subplots(1,2,figsize=(10,5))\n",
        "\n",
        "ax[0].plot(trainloss,'s-')\n",
        "ax[0].set_xlabel('Epochs')\n",
        "ax[0].set_ylabel('Loss')\n",
        "ax[0].set_title('Model loss')\n",
        "\n",
        "ax[1].plot(trainAcc,'s-',label='Train')\n",
        "ax[1].plot(testAcc,'o-',label='Test')\n",
        "ax[1].set_xlabel('Epochs')\n",
        "ax[1].set_ylabel('Accuracy (%)')\n",
        "ax[1].set_title(f'Final model test accuracy: {testAcc[-1]:.2f}%')\n",
        "ax[1].legend()\n",
        "\n",
        "plt.show()"
      ],
      "metadata": {
        "id": "lcZcBMteD0L9"
      },
      "execution_count": null,
      "outputs": []
    },
    {
      "cell_type": "markdown",
      "source": [
        "# 2- from torchvision"
      ],
      "metadata": {
        "id": "5ktCprDhYFnk"
      }
    },
    {
      "cell_type": "code",
      "source": [
        "# # transformations\n",
        "# transform = T.Compose([ T.ToTensor(),\n",
        "#                         T.Normalize([.5,.5,.5],[.5,.5,.5])\n",
        "#                        ])\n",
        "\n",
        "# trainset = torchvision.datasets.FashionMNIST(root='./data', train=True,  download=True, transform=transform)\n",
        "# devtest  = torchvision.datasets.FashionMNIST(root='./data', train=False, download=True, transform=transform)"
      ],
      "metadata": {
        "id": "hY9XM8sELPg7"
      },
      "execution_count": null,
      "outputs": []
    },
    {
      "cell_type": "code",
      "source": [
        "# print(trainset.data.shape)\n",
        "# print(devtest.data.shape)\n",
        "# print(trainset.classes)\n",
        "# print(len(trainset.classes))\n",
        "# print(trainset.targets)"
      ],
      "metadata": {
        "id": "KmQ2H1pNN7gF"
      },
      "execution_count": null,
      "outputs": []
    }
  ]
}