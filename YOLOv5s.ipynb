{
  "nbformat": 4,
  "nbformat_minor": 0,
  "metadata": {
    "colab": {
      "name": "YOLOv5s.ipynb",
      "provenance": [],
      "collapsed_sections": [],
      "authorship_tag": "ABX9TyME1sV9D9cDV6cjvfz7FniQ",
      "include_colab_link": true
    },
    "kernelspec": {
      "name": "python3",
      "display_name": "Python 3"
    },
    "language_info": {
      "name": "python"
    },
    "accelerator": "GPU"
  },
  "cells": [
    {
      "cell_type": "markdown",
      "metadata": {
        "id": "view-in-github",
        "colab_type": "text"
      },
      "source": [
        "<a href=\"https://colab.research.google.com/github/MohebZandi/Comupter_Vision/blob/main/YOLOv5s.ipynb\" target=\"_parent\"><img src=\"https://colab.research.google.com/assets/colab-badge.svg\" alt=\"Open In Colab\"/></a>"
      ]
    },
    {
      "cell_type": "code",
      "source": [
        "from google.colab import drive\n",
        "drive.mount('/content/gdrive') "
      ],
      "metadata": {
        "colab": {
          "base_uri": "https://localhost:8080/"
        },
        "id": "lNndFURFH-Zp",
        "outputId": "f83f5608-3d58-4d17-f5c7-f2118be3d812"
      },
      "execution_count": null,
      "outputs": [
        {
          "output_type": "stream",
          "name": "stdout",
          "text": [
            "Mounted at /content/gdrive\n"
          ]
        }
      ]
    },
    {
      "cell_type": "code",
      "execution_count": null,
      "metadata": {
        "id": "1Zw_SUdtrh3b",
        "colab": {
          "base_uri": "https://localhost:8080/"
        },
        "outputId": "6e4f4b6e-7cb0-425c-eb66-c71c67154438"
      },
      "outputs": [
        {
          "output_type": "stream",
          "name": "stderr",
          "text": [
            "Using cache found in /root/.cache/torch/hub/ultralytics_yolov5_master\n",
            "\u001b[31m\u001b[1mrequirements:\u001b[0m PyYAML>=5.3.1 not found and is required by YOLOv5, attempting auto-update...\n",
            "Requirement already satisfied: PyYAML>=5.3.1 in /usr/local/lib/python3.7/dist-packages (6.0)\n",
            "\n",
            "\u001b[31m\u001b[1mrequirements:\u001b[0m 1 package updated per /root/.cache/torch/hub/ultralytics_yolov5_master/requirements.txt\n",
            "\u001b[31m\u001b[1mrequirements:\u001b[0m ⚠️ \u001b[1mRestart runtime or rerun command for updates to take effect\u001b[0m\n",
            "\n",
            "YOLOv5 🚀 2022-1-29 torch 1.10.0+cu111 CUDA:0 (Tesla T4, 15110MiB)\n",
            "\n",
            "Fusing layers... \n",
            "Model Summary: 213 layers, 7225885 parameters, 0 gradients\n",
            "Adding AutoShape... \n"
          ]
        }
      ],
      "source": [
        "import torch\n",
        "import os\n",
        "\n",
        "# Model\n",
        "model = torch.hub.load('ultralytics/yolov5', 'yolov5s')\n",
        "\n"
      ]
    },
    {
      "cell_type": "code",
      "source": [
        "# Images\n",
        "dir = '/content/gdrive/My Drive/Video_Image_processing/'\n",
        "imgs = [dir + f for f in ('zidane.jpg', 'bus.jpg', 'Eagle.jpg')]  # batch of images\n",
        "\n",
        "# Inference\n",
        "results = model(imgs)\n",
        "results.print()  # or .show(), .save()\n",
        "exec_path = '/content/gdrive/My Drive/Video_Image_processing/'\n",
        "results.save(os.path.join(exec_path,'YOLOv5_detected'))"
      ],
      "metadata": {
        "colab": {
          "base_uri": "https://localhost:8080/"
        },
        "id": "LVpuVKaTLZ-H",
        "outputId": "9adaf4ae-535a-470f-cf9e-007cfb33d9da"
      },
      "execution_count": null,
      "outputs": [
        {
          "output_type": "stream",
          "name": "stderr",
          "text": [
            "image 1/3: 720x1280 2 persons, 1 tie\n",
            "image 2/3: 1080x810 4 persons, 1 bus\n",
            "image 3/3: 831x1280 2 birds\n",
            "Speed: 23.2ms pre-process, 10.4ms inference, 1.2ms NMS per image at shape (3, 3, 640, 640)\n",
            "Saved 3 images to \u001b[1m/content/gdrive/My Drive/Video_Image_processing/YOLOv5_detected\u001b[0m\n"
          ]
        }
      ]
    }
  ]
}