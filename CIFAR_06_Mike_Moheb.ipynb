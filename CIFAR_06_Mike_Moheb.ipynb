{
  "nbformat": 4,
  "nbformat_minor": 0,
  "metadata": {
    "colab": {
      "name": "CIFAR_06_Mike_Moheb.ipynb",
      "provenance": [],
      "collapsed_sections": [],
      "authorship_tag": "ABX9TyNOS2ejwVVbKEhF4sUZSLk3",
      "include_colab_link": true
    },
    "kernelspec": {
      "name": "python3",
      "display_name": "Python 3"
    },
    "language_info": {
      "name": "python"
    },
    "accelerator": "GPU",
    "widgets": {
      "application/vnd.jupyter.widget-state+json": {
        "62ce1a5bca734cb69fc27dcfc8640d8a": {
          "model_module": "@jupyter-widgets/controls",
          "model_name": "HBoxModel",
          "model_module_version": "1.5.0",
          "state": {
            "_view_name": "HBoxView",
            "_dom_classes": [],
            "_model_name": "HBoxModel",
            "_view_module": "@jupyter-widgets/controls",
            "_model_module_version": "1.5.0",
            "_view_count": null,
            "_view_module_version": "1.5.0",
            "box_style": "",
            "layout": "IPY_MODEL_8898dea31bda4da6852ae7baec224bfc",
            "_model_module": "@jupyter-widgets/controls",
            "children": [
              "IPY_MODEL_47cf8252aa78416490c6758575130515",
              "IPY_MODEL_9e31480c8f844a08beae57c48d013ed8",
              "IPY_MODEL_755a8a45257a49a59a7ef39665b34cd1"
            ]
          }
        },
        "8898dea31bda4da6852ae7baec224bfc": {
          "model_module": "@jupyter-widgets/base",
          "model_name": "LayoutModel",
          "model_module_version": "1.2.0",
          "state": {
            "_view_name": "LayoutView",
            "grid_template_rows": null,
            "right": null,
            "justify_content": null,
            "_view_module": "@jupyter-widgets/base",
            "overflow": null,
            "_model_module_version": "1.2.0",
            "_view_count": null,
            "flex_flow": null,
            "width": null,
            "min_width": null,
            "border": null,
            "align_items": null,
            "bottom": null,
            "_model_module": "@jupyter-widgets/base",
            "top": null,
            "grid_column": null,
            "overflow_y": null,
            "overflow_x": null,
            "grid_auto_flow": null,
            "grid_area": null,
            "grid_template_columns": null,
            "flex": null,
            "_model_name": "LayoutModel",
            "justify_items": null,
            "grid_row": null,
            "max_height": null,
            "align_content": null,
            "visibility": null,
            "align_self": null,
            "height": null,
            "min_height": null,
            "padding": null,
            "grid_auto_rows": null,
            "grid_gap": null,
            "max_width": null,
            "order": null,
            "_view_module_version": "1.2.0",
            "grid_template_areas": null,
            "object_position": null,
            "object_fit": null,
            "grid_auto_columns": null,
            "margin": null,
            "display": null,
            "left": null
          }
        },
        "47cf8252aa78416490c6758575130515": {
          "model_module": "@jupyter-widgets/controls",
          "model_name": "HTMLModel",
          "model_module_version": "1.5.0",
          "state": {
            "_view_name": "HTMLView",
            "style": "IPY_MODEL_ff01f294520441d9850b0b06a0b87d60",
            "_dom_classes": [],
            "description": "",
            "_model_name": "HTMLModel",
            "placeholder": "​",
            "_view_module": "@jupyter-widgets/controls",
            "_model_module_version": "1.5.0",
            "value": "",
            "_view_count": null,
            "_view_module_version": "1.5.0",
            "description_tooltip": null,
            "_model_module": "@jupyter-widgets/controls",
            "layout": "IPY_MODEL_3368558a9ccb4328ac6a91d34eace8fe"
          }
        },
        "9e31480c8f844a08beae57c48d013ed8": {
          "model_module": "@jupyter-widgets/controls",
          "model_name": "FloatProgressModel",
          "model_module_version": "1.5.0",
          "state": {
            "_view_name": "ProgressView",
            "style": "IPY_MODEL_2dc150e1bd294adca4ffd3695c781b7e",
            "_dom_classes": [],
            "description": "",
            "_model_name": "FloatProgressModel",
            "bar_style": "success",
            "max": 170498071,
            "_view_module": "@jupyter-widgets/controls",
            "_model_module_version": "1.5.0",
            "value": 170498071,
            "_view_count": null,
            "_view_module_version": "1.5.0",
            "orientation": "horizontal",
            "min": 0,
            "description_tooltip": null,
            "_model_module": "@jupyter-widgets/controls",
            "layout": "IPY_MODEL_eebdf58192984f318271ffd4b0d0b747"
          }
        },
        "755a8a45257a49a59a7ef39665b34cd1": {
          "model_module": "@jupyter-widgets/controls",
          "model_name": "HTMLModel",
          "model_module_version": "1.5.0",
          "state": {
            "_view_name": "HTMLView",
            "style": "IPY_MODEL_ae05e7cfb1644e1ba0bafb4d7fe91e1b",
            "_dom_classes": [],
            "description": "",
            "_model_name": "HTMLModel",
            "placeholder": "​",
            "_view_module": "@jupyter-widgets/controls",
            "_model_module_version": "1.5.0",
            "value": " 170499072/? [00:05&lt;00:00, 32707819.75it/s]",
            "_view_count": null,
            "_view_module_version": "1.5.0",
            "description_tooltip": null,
            "_model_module": "@jupyter-widgets/controls",
            "layout": "IPY_MODEL_2fb950f0317a4f1c87fb8eda64f7e170"
          }
        },
        "ff01f294520441d9850b0b06a0b87d60": {
          "model_module": "@jupyter-widgets/controls",
          "model_name": "DescriptionStyleModel",
          "model_module_version": "1.5.0",
          "state": {
            "_view_name": "StyleView",
            "_model_name": "DescriptionStyleModel",
            "description_width": "",
            "_view_module": "@jupyter-widgets/base",
            "_model_module_version": "1.5.0",
            "_view_count": null,
            "_view_module_version": "1.2.0",
            "_model_module": "@jupyter-widgets/controls"
          }
        },
        "3368558a9ccb4328ac6a91d34eace8fe": {
          "model_module": "@jupyter-widgets/base",
          "model_name": "LayoutModel",
          "model_module_version": "1.2.0",
          "state": {
            "_view_name": "LayoutView",
            "grid_template_rows": null,
            "right": null,
            "justify_content": null,
            "_view_module": "@jupyter-widgets/base",
            "overflow": null,
            "_model_module_version": "1.2.0",
            "_view_count": null,
            "flex_flow": null,
            "width": null,
            "min_width": null,
            "border": null,
            "align_items": null,
            "bottom": null,
            "_model_module": "@jupyter-widgets/base",
            "top": null,
            "grid_column": null,
            "overflow_y": null,
            "overflow_x": null,
            "grid_auto_flow": null,
            "grid_area": null,
            "grid_template_columns": null,
            "flex": null,
            "_model_name": "LayoutModel",
            "justify_items": null,
            "grid_row": null,
            "max_height": null,
            "align_content": null,
            "visibility": null,
            "align_self": null,
            "height": null,
            "min_height": null,
            "padding": null,
            "grid_auto_rows": null,
            "grid_gap": null,
            "max_width": null,
            "order": null,
            "_view_module_version": "1.2.0",
            "grid_template_areas": null,
            "object_position": null,
            "object_fit": null,
            "grid_auto_columns": null,
            "margin": null,
            "display": null,
            "left": null
          }
        },
        "2dc150e1bd294adca4ffd3695c781b7e": {
          "model_module": "@jupyter-widgets/controls",
          "model_name": "ProgressStyleModel",
          "model_module_version": "1.5.0",
          "state": {
            "_view_name": "StyleView",
            "_model_name": "ProgressStyleModel",
            "description_width": "",
            "_view_module": "@jupyter-widgets/base",
            "_model_module_version": "1.5.0",
            "_view_count": null,
            "_view_module_version": "1.2.0",
            "bar_color": null,
            "_model_module": "@jupyter-widgets/controls"
          }
        },
        "eebdf58192984f318271ffd4b0d0b747": {
          "model_module": "@jupyter-widgets/base",
          "model_name": "LayoutModel",
          "model_module_version": "1.2.0",
          "state": {
            "_view_name": "LayoutView",
            "grid_template_rows": null,
            "right": null,
            "justify_content": null,
            "_view_module": "@jupyter-widgets/base",
            "overflow": null,
            "_model_module_version": "1.2.0",
            "_view_count": null,
            "flex_flow": null,
            "width": null,
            "min_width": null,
            "border": null,
            "align_items": null,
            "bottom": null,
            "_model_module": "@jupyter-widgets/base",
            "top": null,
            "grid_column": null,
            "overflow_y": null,
            "overflow_x": null,
            "grid_auto_flow": null,
            "grid_area": null,
            "grid_template_columns": null,
            "flex": null,
            "_model_name": "LayoutModel",
            "justify_items": null,
            "grid_row": null,
            "max_height": null,
            "align_content": null,
            "visibility": null,
            "align_self": null,
            "height": null,
            "min_height": null,
            "padding": null,
            "grid_auto_rows": null,
            "grid_gap": null,
            "max_width": null,
            "order": null,
            "_view_module_version": "1.2.0",
            "grid_template_areas": null,
            "object_position": null,
            "object_fit": null,
            "grid_auto_columns": null,
            "margin": null,
            "display": null,
            "left": null
          }
        },
        "ae05e7cfb1644e1ba0bafb4d7fe91e1b": {
          "model_module": "@jupyter-widgets/controls",
          "model_name": "DescriptionStyleModel",
          "model_module_version": "1.5.0",
          "state": {
            "_view_name": "StyleView",
            "_model_name": "DescriptionStyleModel",
            "description_width": "",
            "_view_module": "@jupyter-widgets/base",
            "_model_module_version": "1.5.0",
            "_view_count": null,
            "_view_module_version": "1.2.0",
            "_model_module": "@jupyter-widgets/controls"
          }
        },
        "2fb950f0317a4f1c87fb8eda64f7e170": {
          "model_module": "@jupyter-widgets/base",
          "model_name": "LayoutModel",
          "model_module_version": "1.2.0",
          "state": {
            "_view_name": "LayoutView",
            "grid_template_rows": null,
            "right": null,
            "justify_content": null,
            "_view_module": "@jupyter-widgets/base",
            "overflow": null,
            "_model_module_version": "1.2.0",
            "_view_count": null,
            "flex_flow": null,
            "width": null,
            "min_width": null,
            "border": null,
            "align_items": null,
            "bottom": null,
            "_model_module": "@jupyter-widgets/base",
            "top": null,
            "grid_column": null,
            "overflow_y": null,
            "overflow_x": null,
            "grid_auto_flow": null,
            "grid_area": null,
            "grid_template_columns": null,
            "flex": null,
            "_model_name": "LayoutModel",
            "justify_items": null,
            "grid_row": null,
            "max_height": null,
            "align_content": null,
            "visibility": null,
            "align_self": null,
            "height": null,
            "min_height": null,
            "padding": null,
            "grid_auto_rows": null,
            "grid_gap": null,
            "max_width": null,
            "order": null,
            "_view_module_version": "1.2.0",
            "grid_template_areas": null,
            "object_position": null,
            "object_fit": null,
            "grid_auto_columns": null,
            "margin": null,
            "display": null,
            "left": null
          }
        }
      }
    }
  },
  "cells": [
    {
      "cell_type": "markdown",
      "metadata": {
        "id": "view-in-github",
        "colab_type": "text"
      },
      "source": [
        "<a href=\"https://colab.research.google.com/github/MohebZandi/Comupter_Vision/blob/main/CIFAR_06_Mike_Moheb.ipynb\" target=\"_parent\"><img src=\"https://colab.research.google.com/assets/colab-badge.svg\" alt=\"Open In Colab\"/></a>"
      ]
    },
    {
      "cell_type": "markdown",
      "source": [
        "# CIFAR10 classification\n",
        "\n",
        "## Mike X Cohen solution rewrite by Moheb\n",
        "\n",
        "### 1- Using tansformation in reading the data\n",
        "### 2- Using 3 Convolution layers\n",
        "### 3- Using Normalizer Layer after Convlolution\n",
        "### 4- Using Maxpooling after Normalization\n",
        "### 5- Put 3 FCN networks to classify the images\n",
        "\n",
        "### Accuracy : ~ 80%\n",
        "### Using GPU"
      ],
      "metadata": {
        "id": "Hmjiv79EYS9I"
      }
    },
    {
      "cell_type": "code",
      "execution_count": 1,
      "metadata": {
        "id": "Ag8xnk8qYOPF"
      },
      "outputs": [],
      "source": [
        "# import libraries\n",
        "import numpy as np\n",
        "\n",
        "import torch\n",
        "import torch.nn as nn\n",
        "import torch.nn.functional as F\n",
        "\n",
        "# for importing data\n",
        "import torchvision\n",
        "import torchvision.transforms as T\n",
        "from torch.utils.data import DataLoader,Subset\n",
        "\n",
        "import matplotlib.pyplot as plt\n",
        "from IPython import display\n",
        "display.set_matplotlib_formats('svg')"
      ]
    },
    {
      "cell_type": "code",
      "source": [
        "# use GPU if available\n",
        "device = torch.device('cuda:0' if torch.cuda.is_available() else 'cpu')"
      ],
      "metadata": {
        "id": "93XILxqHY_6v"
      },
      "execution_count": 12,
      "outputs": []
    },
    {
      "cell_type": "code",
      "source": [
        "# transformations\n",
        "transform = T.Compose([ T.ToTensor(),\n",
        "                        T.Normalize([.5,.5,.5],[.5,.5,.5])\n",
        "                       ])\n",
        "\n",
        "# import the data and simultaneously apply the transform\n",
        "trainset = torchvision.datasets.CIFAR10(root='./data', train=True,  download=True, transform=transform)\n",
        "devtest  = torchvision.datasets.CIFAR10(root='./data', train=False, download=True, transform=transform)\n",
        "\n",
        "# split the devtest into two separate sets\n",
        "randidx = np.random.permutation(10000)   # a random permutation of indices\n",
        "devset  = Subset(devtest,randidx[:6000]) # Subset for devset\n",
        "testset = Subset(devtest,randidx[6000:]) # Subset for test\n",
        "\n",
        "# transform to dataloaders\n",
        "batchsize    = 32\n",
        "train_loader = DataLoader(trainset,batch_size=batchsize,shuffle=True,drop_last=True)\n",
        "dev_loader   = DataLoader(devset,  batch_size=batchsize) # note: devtest in batches!\n",
        "test_loader  = DataLoader(testset, batch_size=len(testset))"
      ],
      "metadata": {
        "colab": {
          "base_uri": "https://localhost:8080/",
          "height": 101,
          "referenced_widgets": [
            "62ce1a5bca734cb69fc27dcfc8640d8a",
            "8898dea31bda4da6852ae7baec224bfc",
            "47cf8252aa78416490c6758575130515",
            "9e31480c8f844a08beae57c48d013ed8",
            "755a8a45257a49a59a7ef39665b34cd1",
            "ff01f294520441d9850b0b06a0b87d60",
            "3368558a9ccb4328ac6a91d34eace8fe",
            "2dc150e1bd294adca4ffd3695c781b7e",
            "eebdf58192984f318271ffd4b0d0b747",
            "ae05e7cfb1644e1ba0bafb4d7fe91e1b",
            "2fb950f0317a4f1c87fb8eda64f7e170"
          ]
        },
        "id": "DIpeLUi5ZHk4",
        "outputId": "1adf3907-5699-414b-aa28-86b6a33bf534"
      },
      "execution_count": 2,
      "outputs": [
        {
          "output_type": "stream",
          "name": "stdout",
          "text": [
            "Downloading https://www.cs.toronto.edu/~kriz/cifar-10-python.tar.gz to ./data/cifar-10-python.tar.gz\n"
          ]
        },
        {
          "output_type": "display_data",
          "data": {
            "application/vnd.jupyter.widget-view+json": {
              "model_id": "62ce1a5bca734cb69fc27dcfc8640d8a",
              "version_minor": 0,
              "version_major": 2
            },
            "text/plain": [
              "  0%|          | 0/170498071 [00:00<?, ?it/s]"
            ]
          },
          "metadata": {}
        },
        {
          "output_type": "stream",
          "name": "stdout",
          "text": [
            "Extracting ./data/cifar-10-python.tar.gz to ./data\n",
            "Files already downloaded and verified\n"
          ]
        }
      ]
    },
    {
      "cell_type": "code",
      "source": [
        "# check out the shape of the datasets\n",
        "print('Data shapes (train/dev/test):')\n",
        "print('\\nData for Training:')\n",
        "print( len(trainset) )\n",
        "print('\\nData for Test during training:')\n",
        "print( len(devset) )\n",
        "print('\\nData for Final Test:')\n",
        "print( len(testset) )\n",
        "\n",
        "# and the range of pixel intensity values\n",
        "print('\\nData value range:')\n",
        "print( (np.min(trainset.data),np.max(trainset.data)) )\n",
        "\n",
        "# the unique categories\n",
        "print('\\nData categories:')\n",
        "print( trainset.classes )"
      ],
      "metadata": {
        "colab": {
          "base_uri": "https://localhost:8080/"
        },
        "id": "XQ8fCmCXZO13",
        "outputId": "d5bdc3a9-6deb-4e74-ec5b-d351d9f44c2e"
      },
      "execution_count": 5,
      "outputs": [
        {
          "output_type": "stream",
          "name": "stdout",
          "text": [
            "Data shapes (train/dev/test):\n",
            "\n",
            "Data for Training:\n",
            "50000\n",
            "\n",
            "Data for Test during training:\n",
            "6000\n",
            "\n",
            "Data for Final Test:\n",
            "4000\n",
            "\n",
            "Data value range:\n",
            "(0, 255)\n",
            "\n",
            "Data categories:\n",
            "['airplane', 'automobile', 'bird', 'cat', 'deer', 'dog', 'frog', 'horse', 'ship', 'truck']\n"
          ]
        }
      ]
    },
    {
      "cell_type": "code",
      "source": [
        "# Uh oh! It looks like the images are the wrong dimensions!\n",
        "# They need to be 3x32x32.\n",
        "# And they are not normalized!\n",
        "\n",
        "# but...\n",
        "X,y = next(iter(train_loader))\n",
        "\n",
        "# try again\n",
        "print('Data shapes (train/test):')\n",
        "print( X.data.shape )\n",
        "\n",
        "# and the range of pixel intensity values\n",
        "print('\\nData value range:')\n",
        "print( (torch.min(X.data),torch.max(X.data)) )"
      ],
      "metadata": {
        "colab": {
          "base_uri": "https://localhost:8080/"
        },
        "id": "kwi_9TfrZfAN",
        "outputId": "c2b87274-8363-4438-8e8f-3f62ffa9d79e"
      },
      "execution_count": 6,
      "outputs": [
        {
          "output_type": "stream",
          "name": "stdout",
          "text": [
            "Data shapes (train/test):\n",
            "torch.Size([32, 3, 32, 32])\n",
            "\n",
            "Data value range:\n",
            "(tensor(-1.), tensor(1.))\n"
          ]
        }
      ]
    },
    {
      "cell_type": "code",
      "source": [
        "# inspect a few random images\n",
        "\n",
        "fig,axs = plt.subplots(4,4,figsize=(10,10))\n",
        "\n",
        "for (i,ax) in enumerate(axs.flatten()):\n",
        "\n",
        "  # extract that image (need to transpose it back to 32x32x3)\n",
        "  pic = X.data[i].numpy().transpose((1,2,0))\n",
        "  pic = pic/2 + .5 # undo normalization\n",
        "  \n",
        "  # and its label\n",
        "  label = trainset.classes[y[i]]\n",
        "\n",
        "  # and show!\n",
        "  ax.imshow(pic)\n",
        "  ax.text(16,0,label,ha='center',fontweight='bold',color='k',backgroundcolor='y')\n",
        "  ax.axis('off')\n",
        "\n",
        "plt.tight_layout()\n",
        "plt.show()"
      ],
      "metadata": {
        "colab": {
          "base_uri": "https://localhost:8080/",
          "height": 990
        },
        "id": "fTMm0GSVZxXH",
        "outputId": "cf29632f-5f6c-4679-ea8a-91118f07d831"
      },
      "execution_count": 7,
      "outputs": [
        {
          "output_type": "display_data",
          "data": {
            "text/plain": [
              "<Figure size 720x720 with 16 Axes>"
            ],
            "image/svg+xml": "<?xml version=\"1.0\" encoding=\"utf-8\" standalone=\"no\"?>\n<!DOCTYPE svg PUBLIC \"-//W3C//DTD SVG 1.1//EN\"\n  \"http://www.w3.org/Graphics/SVG/1.1/DTD/svg11.dtd\">\n<!-- Created with matplotlib (https://matplotlib.org/) -->\n<svg height=\"711.739491pt\" version=\"1.1\" viewBox=\"0 0 704.298641 711.739491\" width=\"704.298641pt\" xmlns=\"http://www.w3.org/2000/svg\" xmlns:xlink=\"http://www.w3.org/1999/xlink\">\n <defs>\n  <style type=\"text/css\">\n*{stroke-linecap:butt;stroke-linejoin:round;}\n  </style>\n </defs>\n <g id=\"figure_1\">\n  <g id=\"patch_1\">\n   <path d=\"M -0 711.739491 \nL 704.298641 711.739491 \nL 704.298641 0 \nL -0 0 \nz\n\" style=\"fill:none;\"/>\n  </g>\n  <g id=\"axes_1\">\n   <g clip-path=\"url(#p70b6978b4a)\">\n    <image height=\"161\" id=\"imagea78e7767b6\" transform=\"scale(1 -1)translate(0 -161)\" width=\"161\" x=\"7.2\" xlink:href=\"data:image/png;base64,\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\" y=\"-11.639491\"/>\n   </g>\n   <g id=\"text_1\">\n    <g id=\"patch_2\">\n     <path d=\"M 77.150522 20.878125 \nL 102.606772 20.878125 \nL 102.606772 3.2 \nL 77.150522 3.2 \nz\n\" style=\"fill:#bfbf00;stroke:#bfbf00;stroke-linejoin:miter;\"/>\n    </g>\n    <!-- cat -->\n    <defs>\n     <path d=\"M 52.59375 52.984375 \nL 52.59375 38.71875 \nQ 49.03125 41.15625 45.4375 42.328125 \nQ 41.84375 43.5 37.984375 43.5 \nQ 30.671875 43.5 26.59375 39.234375 \nQ 22.515625 34.96875 22.515625 27.296875 \nQ 22.515625 19.625 26.59375 15.34375 \nQ 30.671875 11.078125 37.984375 11.078125 \nQ 42.09375 11.078125 45.78125 12.296875 \nQ 49.46875 13.53125 52.59375 15.921875 \nL 52.59375 1.609375 \nQ 48.484375 0.09375 44.265625 -0.65625 \nQ 40.046875 -1.421875 35.796875 -1.421875 \nQ 21 -1.421875 12.640625 6.171875 \nQ 4.296875 13.765625 4.296875 27.296875 \nQ 4.296875 40.828125 12.640625 48.40625 \nQ 21 56 35.796875 56 \nQ 40.09375 56 44.265625 55.25 \nQ 48.4375 54.5 52.59375 52.984375 \nz\n\" id=\"DejaVuSans-Bold-99\"/>\n     <path d=\"M 32.90625 24.609375 \nQ 27.4375 24.609375 24.671875 22.75 \nQ 21.921875 20.90625 21.921875 17.28125 \nQ 21.921875 13.96875 24.140625 12.078125 \nQ 26.375 10.203125 30.328125 10.203125 \nQ 35.25 10.203125 38.625 13.734375 \nQ 42 17.28125 42 22.609375 \nL 42 24.609375 \nz\nM 59.625 31.203125 \nL 59.625 0 \nL 42 0 \nL 42 8.109375 \nQ 38.484375 3.125 34.078125 0.84375 \nQ 29.6875 -1.421875 23.390625 -1.421875 \nQ 14.890625 -1.421875 9.59375 3.53125 \nQ 4.296875 8.5 4.296875 16.40625 \nQ 4.296875 26.03125 10.90625 30.515625 \nQ 17.53125 35.015625 31.6875 35.015625 \nL 42 35.015625 \nL 42 36.375 \nQ 42 40.53125 38.71875 42.453125 \nQ 35.453125 44.390625 28.515625 44.390625 \nQ 22.90625 44.390625 18.0625 43.265625 \nQ 13.234375 42.140625 9.078125 39.890625 \nL 9.078125 53.21875 \nQ 14.703125 54.59375 20.359375 55.296875 \nQ 26.03125 56 31.6875 56 \nQ 46.484375 56 53.046875 50.171875 \nQ 59.625 44.34375 59.625 31.203125 \nz\n\" id=\"DejaVuSans-Bold-97\"/>\n     <path d=\"M 27.484375 70.21875 \nL 27.484375 54.6875 \nL 45.515625 54.6875 \nL 45.515625 42.1875 \nL 27.484375 42.1875 \nL 27.484375 19 \nQ 27.484375 15.1875 29 13.84375 \nQ 30.515625 12.5 35.015625 12.5 \nL 44 12.5 \nL 44 0 \nL 29 0 \nQ 18.65625 0 14.328125 4.3125 \nQ 10.015625 8.640625 10.015625 19 \nL 10.015625 42.1875 \nL 1.3125 42.1875 \nL 1.3125 54.6875 \nL 10.015625 54.6875 \nL 10.015625 70.21875 \nz\n\" id=\"DejaVuSans-Bold-116\"/>\n    </defs>\n    <g transform=\"translate(81.150522 14.798437)scale(0.1 -0.1)\">\n     <use xlink:href=\"#DejaVuSans-Bold-99\"/>\n     <use x=\"59.277344\" xlink:href=\"#DejaVuSans-Bold-97\"/>\n     <use x=\"126.757812\" xlink:href=\"#DejaVuSans-Bold-116\"/>\n    </g>\n   </g>\n  </g>\n  <g id=\"axes_2\">\n   <g clip-path=\"url(#p262ac1ec4f)\">\n    <image height=\"161\" id=\"image236a22cef8\" transform=\"scale(1 -1)translate(0 -161)\" width=\"161\" x=\"183.717391\" xlink:href=\"data:image/png;base64,\niVBORw0KGgoAAAANSUhEUgAAAKEAAAChCAYAAACvUd+2AAAABHNCSVQICAgIfAhkiAAAEOlJREFUeJztnctvZGdaxr9zqZurfG9f23ZXX9ydTGYS1JmeSaAHZoIQ0mjYAVL+ARAgtrCC/wEJsWWFhMSAxAImAUVRYEiYZKbT6SRO7O52+16+Vtku23U7VYcNq/weSyWNpr8s3t/y6XNc55x6++h76r18wcLcXOq+QhiGX5VcGENykRDDMIAWBJHQ1HH8jG7SgZZ0u7yWSFygoNvjuepaemmPmjhXHPb/x/IfAvFcxS27NMVXcsmR6jCeq+4lSPn31HMNxbOJYn6fSZJASy97OF/9jL6OMoxfIRaEhncsCA3vWBAa3olTx8WjWha7tD9zkfZ4duq4aFXn5rJZaFGGWjbDy1NLYGUO1CK92+P1dcUiXf29y8hkxEUKpAkRH6M+W5kxZe5cV3wn4rgoEoZUmEoVINI2qfgQ92tvQsM7FoSGdywIDe9YEBreiaNILDwFakGpFu9hILICYtWqDEyj1ezrWlRGR12fXPQLTZkk9VxioenshrvM3fGzxZI+FAZBnas+WmWs1L3IrJN4rspyyHuWJlWYXjMmxtcRC0LDOxaEhncsCA3vSGOiSnDCsM+MiVh49qRBEJIsn1JZij5LnZQJUeVUYjGvzE/fmYJLucTEfPVvCnMXZvhJ3a4qF1PPgVrs+ix9E5/RtwkUSDPV15mG8SvEgtDwjgWh4R0LQsM7sSz90Z0PVMQiU/VwqPIpiThOlob1+Yu9vA9xfbIvo99f+/UDlEYuE6vSK3G+koQWRiI7IrNJooemz+8zEM9Gmp+A96YyakEgTC//mmE8XywIDe9YEBresSA0vBOrOExT9lzo5mbVTyJKvlTTeJ9lVv3+Ot8TBqarekzEYvmXyQpc4kvk4j2O2XeielEyGS7ys6LXRpVtJYkwgZddZB+ojJoyU11hOFSZWi80Y2J8DbEgNLxjQWh4x4LQ8E4sG8RltkA0jSuzIj6kK87tdDhtS/3C3k2oJUJT5kLeh7i+PiusnKoqu9SYiExDGLaoibKtgeIAtCQnBggIY5JRDfGiZ0VPRVNTw2hMlCFS/TdOZW94lL0JDf9YEBresSA0vGNBaHgn7nS4WO52uQhWZVZJh1qjzb/XFk3taoGapvw/kahshsiO9O0ufgmUB1GLdOecy2ZpECJxbGlwCNqPfvR70HYru9Defe9daIUBmho17UyOhBbXl6ZqRLIYeiAzRKp0TRgdKIbxnLEgNLxjQWh4x4LQ8E5cLBQgqhKodrsNrdk+g5Z2uGgdGR6BVsxzAa1GAzdrNWgntWNoDbEwVuVdir4tjerzkJOsnMuqmcYiS3F9YR7aG69/D9pe7RTaw4cfQ9vdP4SWy/O5FvI5aKqsLJvJQwtleZcwrmIPGusxMb6WWBAa3rEgNLxjQWh4J1a/YMeiHCjl2ta1ajQrI+LX+RvXytAS1SSvGrJPT6AFcX+TtXodZn5ywl2IW+t72lbrkr7+JOG9ZEtc5BeF4fjkX/8N2tXv/QDazAxNTaVyAC0QmajGBbNY7YjZro4oIcvEYr8ZVS4msygiUwPFMJ4zFoSGdywIDe9YEBreiV/8xh2I1WNmJL74fAnaUJPGZHF2ElpOZWW6PDfK8lf8JN6DVhsqQRsUmYupk3NqwvxkRK9MRliTnByPDMk559ySMEUHorQpatIM7O9tQ5tqXkCbnZqGdjg3C21yhlpHZMCWV76EVlfGMGRmRU0Dy4mszMjIMDR7ExresSA0vGNBaHjHgtDwTvyHb/4+xLd+8ja0g08+g7aY4cKzFzMDcyaaqlUjef2sDq0gTMhcYRRaS7TFTGa5qJ5xLC9qHVahDYq/NyhcyJgYC+ycc9OiafwtVfaVY/ahV+I9H1eZCRkShu+3Xnsd2p0XX+bH5vjdfbpC8/nok4fQHj95DO30jCZwbGwM2ssvvQLN3oSGdywIDe9YEBresSA0vBNPT0xAjMR0rOvFIrRGlwv1lTOWJjW/XIE2NMy/F6Y0DXVRarYwMQNtrika8UUTf2mQWYvxAkuskg32ahRElmdoiP0zzjn3wgDvbykvNnKMaRAiMVZ4a3MdWlWYlcnBQWjFtTVoA6Lk7jVxL+VfZ7/L6u0XoL37/k+hlUTMLC6+CM3ehIZ3LAgN71gQGt6xIDS8EweijGlMNEGvi2zBU0cDU++KuO6Jfoa2in+1ISJLna6MjkNbPOYv9k/FNV+c85o7DT6DWJybC2lqMjk28Tun9x2ZFsmVdVFaFh7QcNTF3jIHNZqn/NIytENRLhYIMxaJ7FRY4tSwuTyPWxBlarti4lunQ3Nnb0LDOxaEhncsCA3vWBAa3olbbWYpBlI1dYnxetDkuRennNQV58Su4CkXqGoDw7vDzOh8d4I9E4WNT6G5Fu/j5Fs3oD1dr0Ab3qE5mBFmo9di+ZlzzmUumDmanWBGYlP0XBxWWVqW5PkMmw0u/HNdfidFMUK4ecrrbjVpIDtb7Hfpiclro6Kp/WSePTD1Y96bvQkN71gQGt6xIDS8Y0FoeCfODXKxPHubDfF33/lvaCML16Btz9BIuDqzGcNTIutR5Wjg33iyAW38vf+BJvrwXenmTWhTf/bn0L58ugrt07/6a2jFcy7cg7ZoRnHO5YVePqZpezjLsrSKeF7NA2ZHImEqK2LX+G6JGbBf46N2nS6NjtiOxeWL7G25LkYzN0STfG2fhs/ehIZ3LAgN71gQGt6xIDS8Y0FoeCcem+Qot7lyGVpmkq73hyJVM/Ynfwwtd+M6tKjImrRoZx9a/W//Blr7Z9xEpn3agDZw9yVow2PifkW6qvsyJwUMf/RzaGGkJl47lxdNPgti6sS8SIeezV6F1qwdQSumvOdZ8V7JiJnVuRE63F5DuH+RoktFI1a5yAaraoHPYK1uaTvja4gFoeEdC0LDOxaEhnfiSoX1YkdbTBGNZbnw7Dx7Aq37Dz+GlvvTP4KWLTFdGNximi34i7+Eli4/hdb48T/z3CfPoD36+QfQEscF9FxCwxEmXKRnRD2gc87lxDSD6VFq95s0FxdljlTbE01S80Uaid++yXrJoMR6wnZlF9q5mJ7RqTHVmNQ4cq8gTNdNkVbcyNPU2JvQ8I4FoeEdC0LDOxaEhnfikshcjCQszhs+5i/2sahd6xyzgebw7/4eWu4e5yhnXmIdYzQ1xXPvfwdaQfx36vzjP0GbeMC5zM1zblRzdYOj2DoZLvBTMaPbOeeiLBfgnTUapdt1Pq+2GIe3MUGzcmPkCrRcjRshJaKGrzRCk5QV32dbzLZuiDndefG93xBboG7mONHB3oSGdywIDe9YEBresSA0vBMsff4AHSrdY3bB9H72EU9eYYNQb5fZltYvuCFLT4wri26x5Cvzxg+g5V5hiVZOGBh1H51H3BSou8vsQbS5A623sQUt2eMupM4554S5CI54PVFEA5NcnYfW+OZtaC0xeu1CbAx0KrqVmnlmhNrnzI4URmkkBrM0aNFjmq5ImLan974Nzd6EhncsCA3vWBAa3rEgNLwTOzF3OjvGXTSDH/4uz/5NTgoIKlyoV6+zP2X53f+CNjnMmdVj1fehzRxzKkNeZA82QpaGrQ5zQd7KcITZwi2WRF0TM6tbz3gtzjnXXF+D1q7Q7OQm5qB1xEY8jZjZh2aR39PBVY7N2xbj4oJImBWRFbs2zykbTmSOmhUa0s40+3mOhlgSaG9CwzsWhIZ3LAgN71gQGt6J05RmIO1xEaxmVrsiF6jZb3EXx90qF60fPGWfyOuvspSrk2W2ZTTLJvRJx1/2R5pr0GZSlm2d5tgnUh9k9mZ/iiaidfUeNOecu7jOBvbDPc7GDvJcqGdEL8tpSm3zghmOXp6b5NQumFlZuEIzNjEv7i/L7/39Hd7H6RWWBH77/nf5GQNiwx4ohvGcsSA0vGNBaHjHgtDwTiz21XTSrAScSSw2qHQ9Mat5sMQsxb37C9DmxK/95xvMwKx8xp6JnT32YIy9cBdaMMPr653QrNQueFxlY5PHnTPL4JxzsZjhHM+w3OzgiPfywg0xa3uKz+bB2z+B1qkxi3V1niZr8Q5N4O3rzI48ePgA2s6jT6CVrvLe7v0Oy/DWn6xBszeh4R0LQsM7FoSGdywIDe/EQUgTojxIEIjjlKsRjdET0yw5Wvqc5UXZIWYZ5l7jAvrDf2FJ1OOfMosSf8p+i42QC+haj2VNd19lJqTNpIV7usM+G+ec67aYpbh9h9mkszazU4MTLIEanWA5XKHELNFZjdmps4TPenicpW9T8zSLvY+ZsZqb43EDomel0+DEseFxGkh7ExresSA0vGNBaHjHgtDwThyGIg5FKZc8ThCEdDUnYg+O4QEu3O8sMlOwtcsJYaspG8HnFtiXkVT4y/7U2Qq0YID9JCuPuNBO8yxdCzJ6Klcoxud+sfIF/6bj+Yc1Gqpdsctn9ZCaMprzCzQSTbFnyTtv/Se0D/6XPT7zZT6vq9PcrfTDDzkwoRdxype9CQ3vWBAa3rEgNLxjQWh4J05FyZHqMemXUEyjmpmhaSgWXoWWdNl/cHzExfzGEffbcAvMRtz5zjehtT76d2hT55zKtbPOCVqVlBmK8iuv8Vqcc3snvMbDE+7/MS2yI9srNE/be9x8cukhjdeVSRqERpn3slyhWfyPt/ls6ue8j6Njas1FZmUuTvgZ+zXeh70JDe9YEBresSA0vGNBaHgnViVaPWFW+g3XMOLf+2yZPRzLn/PX/jfuc+TskcgUJC0ugp89ZklVfYqLfldahDQWsHdksMqshcvy3k6OeH3OObe5ydHCAyUar94FMxeNIxqYoMOelzilpkq5ttb5bK4Ms7wuzogvWdT1bW2uQRsf4d+bHh+Htn9IE2hvQsM7FoSGdywIDe9YEBreieW0LdHVrtpJNDyyVuVCe3mZWYHZK5yOVRH7ogwP8biuGImbdJj5OW5y35BnVWozBTabb1VpIrbXP4bmnHPFQZZ9lcfK0BZm2FezKhb+QcTvaaHMZvWDXQ4LaF7QGLphbrAYpnxekRgrXCxy8tfOFs2P2vTy5nyZn8vDDOP5YkFoeMeC0PCOBaHhnTgVi1GpqSyKIO2xQzxfYL/Gthg5+8577Ge4uGAD9daO2PxQdKbfvMXsyFyZmxfub29DOx1ltmVwhs9lbpRmxTnnJqdYUjVUYElbWzyviybv+fSEO7qr3eWP6zQhB2JM8ZA4N0nYz5Om/N73xHenjNOgMJBXRBbF3oSGdywIDe9YEBresSA0vBN3u1xsJ4kyK1xAy0ldouSoWGQJ04QYDbwv+igaTS78z845Etd1uYC+aIh9PkT/TLPDbMveHkuOJic5GWtkkH0nzjk3XuKi/Ej8zdUj3nNblKqdnrKvY/+IPRzZDE3gjWtlHpejMcnkCtBmRQ/MREJNTmgTw6h/8YAN8fYmNLxjQWh4x4LQ8I4FoeEd2WOiyrsCMZVLniuOy+c5iWl6imN7J0Tfw26Fv853REah2eSUr02RCamKiVcdYabqXRqx/T2WlU2MMAPgnHO3Z8vQtoWhOjpmJiSbYanUrBjle+sbL0FTBmH+GrNEU5N8/knM725tfR1adZ+GqCW+E2Vw68Jg2ZvQ8I4FoeEdC0LDOxaEhnfiRJRotUVWISMyK4pA9CScVrkY3Xm8Bu0P3nwT2trmBrQ9kVmZL3PUcLdLw7G6+gRaFPDerold0MMcDVZ1jxskOufcl0ufQeuJwQD3v89NCMOQz7Aj9kWZmeU1NoT5qZ1wKtfq0mNo1SoNR6/FZ3h8Uoe2JwxkIjJRUcSpbfYmNLxjQWh4x4LQ8I4FoeGd/wOTCpTrCT3i5AAAAABJRU5ErkJggg==\" y=\"-11.639491\"/>\n   </g>\n   <g id=\"text_2\">\n    <g id=\"patch_3\">\n     <path d=\"M 230.593695 20.878125 \nL 302.198382 20.878125 \nL 302.198382 3.2 \nL 230.593695 3.2 \nz\n\" style=\"fill:#bfbf00;stroke:#bfbf00;stroke-linejoin:miter;\"/>\n    </g>\n    <!-- automobile -->\n    <defs>\n     <path d=\"M 7.8125 21.296875 \nL 7.8125 54.6875 \nL 25.390625 54.6875 \nL 25.390625 49.21875 \nQ 25.390625 44.78125 25.34375 38.0625 \nQ 25.296875 31.34375 25.296875 29.109375 \nQ 25.296875 22.515625 25.640625 19.609375 \nQ 25.984375 16.703125 26.8125 15.375 \nQ 27.875 13.671875 29.609375 12.734375 \nQ 31.34375 11.8125 33.59375 11.8125 \nQ 39.0625 11.8125 42.1875 16.015625 \nQ 45.3125 20.21875 45.3125 27.6875 \nL 45.3125 54.6875 \nL 62.796875 54.6875 \nL 62.796875 0 \nL 45.3125 0 \nL 45.3125 7.90625 \nQ 41.359375 3.125 36.9375 0.84375 \nQ 32.515625 -1.421875 27.203125 -1.421875 \nQ 17.71875 -1.421875 12.765625 4.390625 \nQ 7.8125 10.203125 7.8125 21.296875 \nz\n\" id=\"DejaVuSans-Bold-117\"/>\n     <path d=\"M 34.421875 43.5 \nQ 28.609375 43.5 25.5625 39.328125 \nQ 22.515625 35.15625 22.515625 27.296875 \nQ 22.515625 19.4375 25.5625 15.25 \nQ 28.609375 11.078125 34.421875 11.078125 \nQ 40.140625 11.078125 43.15625 15.25 \nQ 46.1875 19.4375 46.1875 27.296875 \nQ 46.1875 35.15625 43.15625 39.328125 \nQ 40.140625 43.5 34.421875 43.5 \nz\nM 34.421875 56 \nQ 48.53125 56 56.46875 48.375 \nQ 64.40625 40.765625 64.40625 27.296875 \nQ 64.40625 13.8125 56.46875 6.1875 \nQ 48.53125 -1.421875 34.421875 -1.421875 \nQ 20.265625 -1.421875 12.28125 6.1875 \nQ 4.296875 13.8125 4.296875 27.296875 \nQ 4.296875 40.765625 12.28125 48.375 \nQ 20.265625 56 34.421875 56 \nz\n\" id=\"DejaVuSans-Bold-111\"/>\n     <path d=\"M 59.078125 45.609375 \nQ 62.40625 50.6875 66.96875 53.34375 \nQ 71.53125 56 77 56 \nQ 86.421875 56 91.359375 50.1875 \nQ 96.296875 44.390625 96.296875 33.296875 \nL 96.296875 0 \nL 78.71875 0 \nL 78.71875 28.515625 \nQ 78.765625 29.15625 78.78125 29.828125 \nQ 78.8125 30.515625 78.8125 31.78125 \nQ 78.8125 37.59375 77.09375 40.203125 \nQ 75.390625 42.828125 71.578125 42.828125 \nQ 66.609375 42.828125 63.890625 38.71875 \nQ 61.1875 34.625 61.078125 26.859375 \nL 61.078125 0 \nL 43.5 0 \nL 43.5 28.515625 \nQ 43.5 37.59375 41.9375 40.203125 \nQ 40.375 42.828125 36.375 42.828125 \nQ 31.34375 42.828125 28.609375 38.703125 \nQ 25.875 34.578125 25.875 26.90625 \nL 25.875 0 \nL 8.296875 0 \nL 8.296875 54.6875 \nL 25.875 54.6875 \nL 25.875 46.6875 \nQ 29.109375 51.3125 33.28125 53.65625 \nQ 37.453125 56 42.484375 56 \nQ 48.140625 56 52.484375 53.265625 \nQ 56.84375 50.53125 59.078125 45.609375 \nz\n\" id=\"DejaVuSans-Bold-109\"/>\n     <path d=\"M 37.5 11.28125 \nQ 43.109375 11.28125 46.0625 15.375 \nQ 49.03125 19.484375 49.03125 27.296875 \nQ 49.03125 35.109375 46.0625 39.203125 \nQ 43.109375 43.3125 37.5 43.3125 \nQ 31.890625 43.3125 28.875 39.1875 \nQ 25.875 35.0625 25.875 27.296875 \nQ 25.875 19.53125 28.875 15.40625 \nQ 31.890625 11.28125 37.5 11.28125 \nz\nM 25.875 46.6875 \nQ 29.5 51.46875 33.890625 53.734375 \nQ 38.28125 56 44 56 \nQ 54.109375 56 60.59375 47.96875 \nQ 67.09375 39.9375 67.09375 27.296875 \nQ 67.09375 14.65625 60.59375 6.609375 \nQ 54.109375 -1.421875 44 -1.421875 \nQ 38.28125 -1.421875 33.890625 0.84375 \nQ 29.5 3.125 25.875 7.90625 \nL 25.875 0 \nL 8.40625 0 \nL 8.40625 75.984375 \nL 25.875 75.984375 \nz\n\" id=\"DejaVuSans-Bold-98\"/>\n     <path d=\"M 8.40625 54.6875 \nL 25.875 54.6875 \nL 25.875 0 \nL 8.40625 0 \nz\nM 8.40625 75.984375 \nL 25.875 75.984375 \nL 25.875 61.71875 \nL 8.40625 61.71875 \nz\n\" id=\"DejaVuSans-Bold-105\"/>\n     <path d=\"M 8.40625 75.984375 \nL 25.875 75.984375 \nL 25.875 0 \nL 8.40625 0 \nz\n\" id=\"DejaVuSans-Bold-108\"/>\n     <path d=\"M 62.984375 27.484375 \nL 62.984375 22.515625 \nL 22.125 22.515625 \nQ 22.75 16.359375 26.5625 13.28125 \nQ 30.375 10.203125 37.203125 10.203125 \nQ 42.71875 10.203125 48.5 11.84375 \nQ 54.296875 13.484375 60.40625 16.796875 \nL 60.40625 3.328125 \nQ 54.203125 0.984375 48 -0.21875 \nQ 41.796875 -1.421875 35.59375 -1.421875 \nQ 20.75 -1.421875 12.515625 6.125 \nQ 4.296875 13.671875 4.296875 27.296875 \nQ 4.296875 40.671875 12.375 48.328125 \nQ 20.453125 56 34.625 56 \nQ 47.515625 56 55.25 48.234375 \nQ 62.984375 40.484375 62.984375 27.484375 \nz\nM 45.015625 33.296875 \nQ 45.015625 38.28125 42.109375 41.328125 \nQ 39.203125 44.390625 34.515625 44.390625 \nQ 29.4375 44.390625 26.265625 41.53125 \nQ 23.09375 38.671875 22.3125 33.296875 \nz\n\" id=\"DejaVuSans-Bold-101\"/>\n    </defs>\n    <g transform=\"translate(234.593695 14.798437)scale(0.1 -0.1)\">\n     <use xlink:href=\"#DejaVuSans-Bold-97\"/>\n     <use x=\"67.480469\" xlink:href=\"#DejaVuSans-Bold-117\"/>\n     <use x=\"138.671875\" xlink:href=\"#DejaVuSans-Bold-116\"/>\n     <use x=\"186.474609\" xlink:href=\"#DejaVuSans-Bold-111\"/>\n     <use x=\"255.175781\" xlink:href=\"#DejaVuSans-Bold-109\"/>\n     <use x=\"359.375\" xlink:href=\"#DejaVuSans-Bold-111\"/>\n     <use x=\"428.076172\" xlink:href=\"#DejaVuSans-Bold-98\"/>\n     <use x=\"499.658203\" xlink:href=\"#DejaVuSans-Bold-105\"/>\n     <use x=\"533.935547\" xlink:href=\"#DejaVuSans-Bold-108\"/>\n     <use x=\"568.212891\" xlink:href=\"#DejaVuSans-Bold-101\"/>\n    </g>\n   </g>\n  </g>\n  <g id=\"axes_3\">\n   <g clip-path=\"url(#p7a750827ef)\">\n    <image height=\"161\" id=\"image08946ee8aa\" transform=\"scale(1 -1)translate(0 -161)\" width=\"161\" x=\"360.234783\" xlink:href=\"data:image/png;base64,\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\" y=\"-11.639491\"/>\n   </g>\n   <g id=\"text_3\">\n    <g id=\"patch_4\">\n     <path d=\"M 423.086086 20.878125 \nL 462.740774 20.878125 \nL 462.740774 3.2 \nL 423.086086 3.2 \nz\n\" style=\"fill:#bfbf00;stroke:#bfbf00;stroke-linejoin:miter;\"/>\n    </g>\n    <!-- horse -->\n    <defs>\n     <path d=\"M 63.375 33.296875 \nL 63.375 0 \nL 45.796875 0 \nL 45.796875 5.421875 \nL 45.796875 25.390625 \nQ 45.796875 32.5625 45.484375 35.25 \nQ 45.171875 37.9375 44.390625 39.203125 \nQ 43.359375 40.921875 41.59375 41.875 \nQ 39.84375 42.828125 37.59375 42.828125 \nQ 32.125 42.828125 29 38.59375 \nQ 25.875 34.375 25.875 26.90625 \nL 25.875 0 \nL 8.40625 0 \nL 8.40625 75.984375 \nL 25.875 75.984375 \nL 25.875 46.6875 \nQ 29.828125 51.46875 34.265625 53.734375 \nQ 38.71875 56 44.09375 56 \nQ 53.5625 56 58.46875 50.1875 \nQ 63.375 44.390625 63.375 33.296875 \nz\n\" id=\"DejaVuSans-Bold-104\"/>\n     <path d=\"M 49.03125 39.796875 \nQ 46.734375 40.875 44.453125 41.375 \nQ 42.1875 41.890625 39.890625 41.890625 \nQ 33.15625 41.890625 29.515625 37.5625 \nQ 25.875 33.25 25.875 25.203125 \nL 25.875 0 \nL 8.40625 0 \nL 8.40625 54.6875 \nL 25.875 54.6875 \nL 25.875 45.703125 \nQ 29.25 51.078125 33.609375 53.53125 \nQ 37.984375 56 44.09375 56 \nQ 44.96875 56 45.984375 55.921875 \nQ 47.015625 55.859375 48.96875 55.609375 \nz\n\" id=\"DejaVuSans-Bold-114\"/>\n     <path d=\"M 51.125 52.984375 \nL 51.125 39.703125 \nQ 45.515625 42.046875 40.28125 43.21875 \nQ 35.0625 44.390625 30.421875 44.390625 \nQ 25.4375 44.390625 23.015625 43.140625 \nQ 20.609375 41.890625 20.609375 39.3125 \nQ 20.609375 37.203125 22.4375 36.078125 \nQ 24.265625 34.96875 29 34.421875 \nL 32.078125 33.984375 \nQ 45.515625 32.28125 50.140625 28.375 \nQ 54.78125 24.46875 54.78125 16.109375 \nQ 54.78125 7.375 48.328125 2.96875 \nQ 41.890625 -1.421875 29.109375 -1.421875 \nQ 23.6875 -1.421875 17.890625 -0.5625 \nQ 12.109375 0.296875 6 2 \nL 6 15.28125 \nQ 11.234375 12.75 16.71875 11.46875 \nQ 22.21875 10.203125 27.875 10.203125 \nQ 33.015625 10.203125 35.59375 11.609375 \nQ 38.1875 13.03125 38.1875 15.828125 \nQ 38.1875 18.171875 36.40625 19.3125 \nQ 34.625 20.453125 29.296875 21.09375 \nL 26.21875 21.484375 \nQ 14.546875 22.953125 9.859375 26.90625 \nQ 5.171875 30.859375 5.171875 38.921875 \nQ 5.171875 47.609375 11.125 51.796875 \nQ 17.09375 56 29.390625 56 \nQ 34.234375 56 39.546875 55.265625 \nQ 44.875 54.546875 51.125 52.984375 \nz\n\" id=\"DejaVuSans-Bold-115\"/>\n    </defs>\n    <g transform=\"translate(427.086086 14.798437)scale(0.1 -0.1)\">\n     <use xlink:href=\"#DejaVuSans-Bold-104\"/>\n     <use x=\"71.191406\" xlink:href=\"#DejaVuSans-Bold-111\"/>\n     <use x=\"139.892578\" xlink:href=\"#DejaVuSans-Bold-114\"/>\n     <use x=\"189.208984\" xlink:href=\"#DejaVuSans-Bold-115\"/>\n     <use x=\"248.730469\" xlink:href=\"#DejaVuSans-Bold-101\"/>\n    </g>\n   </g>\n  </g>\n  <g id=\"axes_4\">\n   <g clip-path=\"url(#p4f37c79952)\">\n    <image height=\"161\" id=\"image7baac69b64\" transform=\"scale(1 -1)translate(0 -161)\" width=\"161\" x=\"536.752174\" xlink:href=\"data:image/png;base64,\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\" y=\"-11.639491\"/>\n   </g>\n   <g id=\"text_4\">\n    <g id=\"patch_5\">\n     <path d=\"M 604.837852 20.95625 \nL 634.02379 20.95625 \nL 634.02379 3.2 \nL 604.837852 3.2 \nz\n\" style=\"fill:#bfbf00;stroke:#bfbf00;stroke-linejoin:miter;\"/>\n    </g>\n    <!-- dog -->\n    <defs>\n     <path d=\"M 45.609375 46.6875 \nL 45.609375 75.984375 \nL 63.1875 75.984375 \nL 63.1875 0 \nL 45.609375 0 \nL 45.609375 7.90625 \nQ 42 3.078125 37.640625 0.828125 \nQ 33.296875 -1.421875 27.59375 -1.421875 \nQ 17.484375 -1.421875 10.984375 6.609375 \nQ 4.5 14.65625 4.5 27.296875 \nQ 4.5 39.9375 10.984375 47.96875 \nQ 17.484375 56 27.59375 56 \nQ 33.25 56 37.625 53.734375 \nQ 42 51.46875 45.609375 46.6875 \nz\nM 34.078125 11.28125 \nQ 39.703125 11.28125 42.65625 15.375 \nQ 45.609375 19.484375 45.609375 27.296875 \nQ 45.609375 35.109375 42.65625 39.203125 \nQ 39.703125 43.3125 34.078125 43.3125 \nQ 28.515625 43.3125 25.5625 39.203125 \nQ 22.609375 35.109375 22.609375 27.296875 \nQ 22.609375 19.484375 25.5625 15.375 \nQ 28.515625 11.28125 34.078125 11.28125 \nz\n\" id=\"DejaVuSans-Bold-100\"/>\n     <path d=\"M 45.609375 9.28125 \nQ 42 4.5 37.640625 2.25 \nQ 33.296875 0 27.59375 0 \nQ 17.578125 0 11.03125 7.875 \nQ 4.5 15.765625 4.5 27.984375 \nQ 4.5 40.234375 11.03125 48.0625 \nQ 17.578125 55.90625 27.59375 55.90625 \nQ 33.296875 55.90625 37.640625 53.65625 \nQ 42 51.421875 45.609375 46.578125 \nL 45.609375 54.6875 \nL 63.1875 54.6875 \nL 63.1875 5.515625 \nQ 63.1875 -7.671875 54.859375 -14.625 \nQ 46.53125 -21.578125 30.71875 -21.578125 \nQ 25.59375 -21.578125 20.796875 -20.796875 \nQ 16.015625 -20.015625 11.1875 -18.40625 \nL 11.1875 -4.78125 \nQ 15.765625 -7.421875 20.15625 -8.71875 \nQ 24.5625 -10.015625 29 -10.015625 \nQ 37.59375 -10.015625 41.59375 -6.25 \nQ 45.609375 -2.484375 45.609375 5.515625 \nz\nM 34.078125 43.3125 \nQ 28.65625 43.3125 25.625 39.296875 \nQ 22.609375 35.296875 22.609375 27.984375 \nQ 22.609375 20.453125 25.53125 16.578125 \nQ 28.46875 12.703125 34.078125 12.703125 \nQ 39.546875 12.703125 42.578125 16.703125 \nQ 45.609375 20.703125 45.609375 27.984375 \nQ 45.609375 35.296875 42.578125 39.296875 \nQ 39.546875 43.3125 34.078125 43.3125 \nz\n\" id=\"DejaVuSans-Bold-103\"/>\n    </defs>\n    <g transform=\"translate(608.837852 14.798437)scale(0.1 -0.1)\">\n     <use xlink:href=\"#DejaVuSans-Bold-100\"/>\n     <use x=\"71.582031\" xlink:href=\"#DejaVuSans-Bold-111\"/>\n     <use x=\"140.283203\" xlink:href=\"#DejaVuSans-Bold-103\"/>\n    </g>\n   </g>\n  </g>\n  <g id=\"axes_5\">\n   <g clip-path=\"url(#p004f20b0dc)\">\n    <image height=\"161\" id=\"image1df7d6945c\" transform=\"scale(1 -1)translate(0 -161)\" width=\"161\" x=\"7.2\" xlink:href=\"data:image/png;base64,\niVBORw0KGgoAAAANSUhEUgAAAKEAAAChCAYAAACvUd+2AAAABHNCSVQICAgIfAhkiAAAEYZJREFUeJztnVlvHOl1hr+qrq7eu9nNnaIoahmJ0ki2xk4seICMM3BiBLk1ECA/JrcB8oeSiwyQBDAyiZ2M5PGMZ5EoUdy3ZrP3tap97+cNoCt/CnCeyxfd1VXFw8I5dbbgn/7xH+buj5hOp38suclkAq3X70G7aF5Cu+q0oXV6XWizYQotl4uhZTIZaEmSiPPrQ0vn/I04l4NWLRehLdUXoC0uLkJzzrlajZ8tFfL87YjXEkURtCAIoIlLcWHA42Xe8XguDPm5kJ9T31X3X0guSXjS/FXD+BNjRmh4x4zQ8I4ZoeGdSAUhfeHQdzsdaO1ras1WC1pnwAAmirPQllaWod3cugmtVq1BS+b0gs+ODqEdvdyF1u3yetvjEbR+fwCt1eW1Oedcvc57IwMboZWKDIqiLO+XCC3cfI4406UiQsiK46WO3w0CEayIwCQUQY06wzBk4GRPQsM7ZoSGd8wIDe+YERreidKUb7BVdmQwGEKbjhjUBCmd0YVqHdrm1ha0xzsPoRUKBWjNqytouSyzAvWUjvYmYwt3dnkB7SJDZ76Z8L4cHBzxgM6546NTaOUSr2V9dQXa1q1b0BYWGMAUsswmxRneBxV88s44F2TEM+kdgxARD+kgSfxN7EloeMeM0PCOGaHhHTNCwztRpVKBqBxK5cmuLa5Dm85m0OISMwDTGZ3l27e2oXW7LPk67jMTksZ8Ez8V3810GWDdWVqF1qjznCeVErRvvvkWmnPOvfz+e2gjFdxNRNnclMHi9u1taEsiWMnkGUik4u85F8FnKII79V1VSqdIRZCqTMuehIZ3zAgN75gRGt4xIzS8E1WrVYhZUWaVz/Ftfymiox6KN/bDqcg0HB1Au7pkf0q3w+CiVuY5jx0d/GmZPR3dIcu2MlVeW7bAvpPA8b48++jPoTnnXOzovL/Z34NWq7NHpSMCqv19BmPJeAxtXC5Dy+dFb0ssendUbZgoA1OBiSrRCkS/i2VMjPcSM0LDO2aEhnfMCA3vRKFobk5TZj2Kwsl/8OCH0HoikPjtl8+hra0zS9Hvs6+jscLP5XN0eI+vWDpVqTIbtFFgIHB6dQZtEorOchH8pD3eK+ec2ywxm9Et8XxWl9hX07nmsIDDI5aMdbr8XKPK311dZrmYKg0rC1vIiPKuueO9yYhO/IyIdFTPij0JDe+YERreMSM0vGNGaHgnyuX55vzomI3bhRLfxJfERKrOgE0c+RKDmlqNTnomw8yFC3l+4yZ7QtLdfWiNhU1o2Zi/0RUO+Wwsyq7KIlOQ6v/jMMtj5sWkr4UKG/nDEYOdvRGzI2eid6TX5+f6ohdodUxtzbEXqFZlViyO+DdRQ76UmLHmd+N9xIzQ8I4ZoeEdM0LDO9FcOJTFEp3lfJ6Byf4rTrjaP9jjAYXjrxiKYGAoHPKFgxNomeevodV+0oBWWmZAFBbpaL++ZllZb8ysQFTkfXHOuXmRZV+RcPLrdQYDww4nfeVUMCB6QvpieloyZindTPSYzBNmrDIB+4gqFQYXWRGIpSmDnySwUi7jPcSM0PCOGaHhHTNCwzvRZYvZh51HP+AnEzrBv//if6F1RyzlisU0qr7oo7i8vIY2FW/Y6070fwQ8v62f/QTa5sNtaBeHDLCyL76EdvrFG2itE45Hds65lSKzRP0s70N9mVmnS9FrE4n78OGDHWgHB2+hHZ0wkLtWj5+UwYocerBGUQ1RkKOBQ/as2JPQ8I4ZoeEdM0LDO2aEhnei6YxZitoC3+yXYjqebxKWHAViAteF2GPy6vUetHGP57L65EOe35MH0K56DGp2ReN2IWAmY/kmj7ewwZG9l7c4aeur/34BzTnnjs+b0IpTXl9X7IyZiPvqxGLCaswAbXOZPTmDHu9/QWRvWmIvTTLj7yYJA5N3DVbErkd7Ehr+MSM0vGNGaHjHjNDwTvT1t8wMtMSm9rUam7QH53wTn99cg7b3dg9a85TfrZXoLJdzzDxM6/xc9SmDi8/+5V+h7f7nb6D9WcpMRvUH7E9Z/eg+tE/u3obmnHMHh2xWv/q3f4f2xQsOBuiLQEIN6I1E0FAX2akP7mxDy5bFJLKjc2hv9zg97eKCe2QubzAQe/SIe2nKFZa+2ZPQ8I4ZoeEdM0LDO2aEhnei3pBByHe7v4V2FPLt/M0xJzuldTqeZ2cMQuZiU/swYKagd8pSs93ffcPviuvo9Dip66rJczk5YNbi1W/o9JdubkDb/uETaM45t/Ej6g/v3oP22eefQ+uIyWYVsRNk1OPnylVmrEoFBnczsSTx7t270K6vmEU5P+MUs2s1Sez4GNqGmMZmT0LDO2aEhnfMCA3vmBEa3olyMWtrxgkbzsMCS6DW79H5fn1Mx3/QE7tDsswBJEOWOp1f0LkdtOgYl6p0vvNivG9Z9Ez05jy/uMVG8LRNJ333jMGPc869/jUDDrfOwGZVTOU6OuYxP/yAGaGNjSVoTdFP0hZ7ZNpiieMCpwq7eyIDdkPYTLDKc+mLJZqHh8zA2JPQ8I4ZoeEdM0LDO2aEhncitVRPbX7vimV+r7ps/D5rs9cjK3ZhhELLhmIRoKhhWpjxXG5MmdGZdugY11oMfhLhuOcmvAdJjcFZ/IDBhnPONb96xc/us6n9R3f4/esCy8Aei10kP/vxU2jtc/bG/PNzlosdiMlmcZElZGspM1s3xILLtugtGoq9NNMhszz2JDS8Y0ZoeMeM0PCOGaHhnSgQuyayYnv7ZMJg4PzoJbRwzu+WC+xnmIg39umMTnBxSm19wECiccbN6PkhA5OsGDwVim3pmSmd6lbAkb3JFjMKzjnn3rBfo/CGAceWaEL/29UbPJ9dTtvam/JvcusOJ3XdWeY5vjjguQTi/kcT/p0Ccf/TawY10xHv4Yq4XnsSGt4xIzS8Y0ZoeMeM0PBOlM0yC5CkzBbkRGZlR2Q4LkX2YRDzc4MxndZY7OXIiEWAgz0GIYFYSpgNebw0xyCpcZOBQHvCErJkzJKv6FKPC86JPSF5tTvkLUubliOxbV189+KCwU/rawYwZ6vsBSqJZY89sUdmeXMLWmNGY2ies/xs2mWwUhKLNe1JaHjHjNDwjhmh4R0zQsM7ZoSGd6I4YnScipFjkVh1H+wysmuscytkurkNLR4yOq6L0XAVMSZtcsIxZNEKI8BARIDzMn/jeIlpu9a1GK58xeh4/ms9s3oq5m93ayyOFH1Xbj4aQCvleI5xg5Fmv88oOiNqAhfEd5sDNnK15zzew3sckVcVzXGZCzak1fN8U2JPQsM7ZoSGd8wIDe+YERreiTIZOsvFHJuG5iHTYiPRJbW6xRnO4wKd/KfPHvE35gx+jt9ys+b6fU4jWKo1oGXyTNHNcjyXfshAbPM+r+PqJUfSZdoMQJxzLg14zHafzvukxZFq6Tkd+qhah7byiKPc0n0GiwWRBiyLLaS9Ca+l1eR86uOYtYgFkSJdrnK6RDVL27InoeEdM0LDO2aEhnfMCA3vROJluovE6pbyKmcNL91it/9AdeK3OJWhlGGmpjNhFqUrJjX0xVSG37c43SAQjUnDMTMwjTqzBw/XOBnhzRmDg8UN1ts551y5IDaliqatYpf3Jj1kLWOa0KE/FAHVTIzIm4kGpqwISEtiLnZBaE4EWLkhf2NNBIuzETMw9iQ0vGNGaHjHjNDwjhmh4Z1oqcKAYyLKtpzINOyK8p0jMWUgF9AJ/tVzbtvsicDkXGwcnQhfOREOdKO+CK3fY7nS8Sn/F3stjjD71ef/Be3pY2Z+nHOuVqVTfv8uS6CKYrnMWzGdYn2FgVKnx2xGYY3HCy65kOhyb5efE7+brzEYKy3xvrYPGRhmI9rMYMLMmz0JDe+YERreMSM0vGNGaHgnyofMcORLtM1xyDfiZ2ecPvD2mNMRFsWM45EYNZekIkDos9+iIPpE1NbQqZiYMB3yePNA/K4Yazbq8bupmCThnHPtNu9Ns8OgqCcmYHz2nH0rd+7wu6cnzKz8/C8/gVYTo/nC/T1orQwD0g4TMC5b5/G2atvQhmLOea/J67AnoeEdM0LDO2aEhnfMCA3vROmYb7DnM9rmZZOjvxYafDu/ucExa9MRHdRKlcFKs8myJjVTOy8aqHsDBg0j4RiPVUCk/hfFQqHZjPfqus2MjnPOlSo8ZhDyWiJRUtUX13J6yr6TL7/8HbQnHzKDs/MBe1GWxHKeocisxKe8vovv/wNaYZEZonCFmZW8GLZgT0LDO2aEhnfMCA3vmBEa3olKeWYfElEq1buig1qpc0lLo0EH9eSYb/ZHolwsEk7rQo29FSowCYSD3xZBQyQWBal+CzUUQJEmLH9yzrlENO+EIY+ZE9eitqw68Tdx4nhO9O4UxLKgvggWozmfSfWEv5E/533tXLCU63pX3GsRENmT0PCOGaHhHTNCwztmhIZ3ossrZikyOTaNR4FYdCO85Vj0FajsSCgChGJRjOgVze9OlF5VKmxg73bZJzIP+V0VhESixEotHsrnGTg551xOTDbLiGtRGSGlKaKYf6dYTCKbJgx0uqIsLS4wSBJ/JpeIYQFhwN8ozXkdqZjeZU9CwztmhIZ3zAgN75gRGt6JLq9F+ZQITObCyRQTcV2co/NeFkFDkqpMA7VQbP6cJsxGJELLiCAkFM58IDIUKlip1Tj+VgVEzjmXFX0dgQioVHZEZkzExhOVgQmE4z9RU7lyDEJW1pb4q2K76DgvNsOKeQmhKH1jnsaehMZ7gBmh4R0zQsM7ZoSGd6KVNZbWJGI/yaEYxzsTE5byIusRZxkMDET/h4h9ZAZmLjIKIingcrHIAIgsz0w432rxZLHIsrdATBxzTgdyoTjvUARPKmOSUakLEayoErJ6jcsnn+w8hBbPGF10OyzDO+mKAQJiVForFTteqhy2YE9CwztmhIZ3zAgN75gRGt6JbizSaR04OrevZ3Te0wkzHOWYzrsTe1Gc6GeYiqlQiejhmIsmmEDsY4kDsdNDTNFaqTNTcPfWNrTvvvoa2tklM07OOZcv8H7lRSZqeXkZ2rNnz97pcxs31qHd3d6ElhMZmLK4r40VBqkz8bme+NupqDJKGXyqbJw9CQ3vmBEa3jEjNLxjRmh4J7pucaztNKsyEnRu15fp0P/NL/4aWnfEN+xTMd53Lkq5etcc+TsaiDf7YqxwW/SYZMW/3dPHInsgHOhu5y+g/V9N8qrEa2ODu0hKJQZyH3/8MbTFRU64isRG91hku46+ewntxf9wj8zqvTvQGpucsrYgyvVUc35ZlJClooTPnoSGd8wIDe+YERreMSM0vBPtn5xDjCtit4mY3rX36ntou998Ba1Q5vEW6lzcp7Iec9GKstSgkx6uckJYrsI+j2qZWiHL4GKWMhD79NNPoU1EGZhzzqXvOJVrIEYDq5Iv+Rsim5GIvo4g4TlORFPIy5cMYG6Lc86Kvh/FTPXPiEuzJ6HhHTNCwztmhIZ3zAgN70TdEZ3WQLzVXlrizpKdnR1oRTGlau/VK2iHwv4H7R60t4fcJB9E/I1Q/O7iOkuTfvz0CbRbm8xk1Ooce7xU5HSxXo/n7JxzFxfcCTKfq1I10ZguGvTV5wI1LliU3A3aTWipyFiNJtTaXS5EzInzS0UQkoio0gIT473EjNDwjhmh4R0zQsM70Sd/9QuIGTEWd01kKZ799Kf8rmjm3nq1C+1UBBzHh295vCIDjvaQvQvDGZ3giyuWqe0fnUC7f/8DaLk8szxT8T+rdqo451wsnHeFKvlaW2P2p1Dk+UTifPa+ZInW7rdcxDgVGZPBkNmWtpjaFomBBKphf6bSXWoAAD9lGH9azAgN75gRGt4xIzS8E/3y7/4eYpLQQU2Gopm7zPG5KjDZefwRtJUVNm6/PmBmpTdjs3pUZVnZ7TX2QtRrbBiPxBv7ap2ZlZzIwASiZ0JPy3Luxg2ej9ptopx8hQp0Jn3em5ODfWjtFrM3gehFGYqyNLWk8l13r1hgYvy/wYzQ8I4ZoeEdM0LDO38AKeiDm6SSVBMAAAAASUVORK5CYII=\" y=\"-188.939491\"/>\n   </g>\n   <g id=\"text_5\">\n    <g id=\"patch_6\">\n     <path d=\"M 71.174741 198.178125 \nL 108.582553 198.178125 \nL 108.582553 180.5 \nL 71.174741 180.5 \nz\n\" style=\"fill:#bfbf00;stroke:#bfbf00;stroke-linejoin:miter;\"/>\n    </g>\n    <!-- truck -->\n    <defs>\n     <path d=\"M 8.40625 75.984375 \nL 25.875 75.984375 \nL 25.875 34.625 \nL 46 54.6875 \nL 66.3125 54.6875 \nL 39.59375 29.59375 \nL 68.40625 0 \nL 47.21875 0 \nL 25.875 22.796875 \nL 25.875 0 \nL 8.40625 0 \nz\n\" id=\"DejaVuSans-Bold-107\"/>\n    </defs>\n    <g transform=\"translate(75.174741 192.098437)scale(0.1 -0.1)\">\n     <use xlink:href=\"#DejaVuSans-Bold-116\"/>\n     <use x=\"47.802734\" xlink:href=\"#DejaVuSans-Bold-114\"/>\n     <use x=\"97.119141\" xlink:href=\"#DejaVuSans-Bold-117\"/>\n     <use x=\"168.310547\" xlink:href=\"#DejaVuSans-Bold-99\"/>\n     <use x=\"227.587891\" xlink:href=\"#DejaVuSans-Bold-107\"/>\n    </g>\n   </g>\n  </g>\n  <g id=\"axes_6\">\n   <g clip-path=\"url(#p430d1a45bd)\">\n    <image height=\"161\" id=\"imagee839361ef4\" transform=\"scale(1 -1)translate(0 -161)\" width=\"161\" x=\"183.717391\" xlink:href=\"data:image/png;base64,\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\" y=\"-188.939491\"/>\n   </g>\n   <g id=\"text_6\">\n    <g id=\"patch_7\">\n     <path d=\"M 249.568695 198.178125 \nL 283.223382 198.178125 \nL 283.223382 180.5 \nL 249.568695 180.5 \nz\n\" style=\"fill:#bfbf00;stroke:#bfbf00;stroke-linejoin:miter;\"/>\n    </g>\n    <!-- deer -->\n    <g transform=\"translate(253.568695 192.098437)scale(0.1 -0.1)\">\n     <use xlink:href=\"#DejaVuSans-Bold-100\"/>\n     <use x=\"71.582031\" xlink:href=\"#DejaVuSans-Bold-101\"/>\n     <use x=\"139.404297\" xlink:href=\"#DejaVuSans-Bold-101\"/>\n     <use x=\"207.226562\" xlink:href=\"#DejaVuSans-Bold-114\"/>\n    </g>\n   </g>\n  </g>\n  <g id=\"axes_7\">\n   <g clip-path=\"url(#p0340940240)\">\n    <image height=\"161\" id=\"imaged6b93a4d60\" transform=\"scale(1 -1)translate(0 -161)\" width=\"161\" x=\"360.234783\" xlink:href=\"data:image/png;base64,\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\" y=\"-188.939491\"/>\n   </g>\n   <g id=\"text_7\">\n    <g id=\"patch_8\">\n     <path d=\"M 424.209524 198.178125 \nL 461.617336 198.178125 \nL 461.617336 180.5 \nL 424.209524 180.5 \nz\n\" style=\"fill:#bfbf00;stroke:#bfbf00;stroke-linejoin:miter;\"/>\n    </g>\n    <!-- truck -->\n    <g transform=\"translate(428.209524 192.098437)scale(0.1 -0.1)\">\n     <use xlink:href=\"#DejaVuSans-Bold-116\"/>\n     <use x=\"47.802734\" xlink:href=\"#DejaVuSans-Bold-114\"/>\n     <use x=\"97.119141\" xlink:href=\"#DejaVuSans-Bold-117\"/>\n     <use x=\"168.310547\" xlink:href=\"#DejaVuSans-Bold-99\"/>\n     <use x=\"227.587891\" xlink:href=\"#DejaVuSans-Bold-107\"/>\n    </g>\n   </g>\n  </g>\n  <g id=\"axes_8\">\n   <g clip-path=\"url(#p0ab813004f)\">\n    <image height=\"161\" id=\"image100f14a2da\" transform=\"scale(1 -1)translate(0 -161)\" width=\"161\" x=\"536.752174\" xlink:href=\"data:image/png;base64,\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\" y=\"-188.939491\"/>\n   </g>\n   <g id=\"text_8\">\n    <g id=\"patch_9\">\n     <path d=\"M 604.837852 198.25625 \nL 634.02379 198.25625 \nL 634.02379 180.5 \nL 604.837852 180.5 \nz\n\" style=\"fill:#bfbf00;stroke:#bfbf00;stroke-linejoin:miter;\"/>\n    </g>\n    <!-- dog -->\n    <g transform=\"translate(608.837852 192.098437)scale(0.1 -0.1)\">\n     <use xlink:href=\"#DejaVuSans-Bold-100\"/>\n     <use x=\"71.582031\" xlink:href=\"#DejaVuSans-Bold-111\"/>\n     <use x=\"140.283203\" xlink:href=\"#DejaVuSans-Bold-103\"/>\n    </g>\n   </g>\n  </g>\n  <g id=\"axes_9\">\n   <g clip-path=\"url(#p1532d96f43)\">\n    <image height=\"161\" id=\"image09f043c5a9\" transform=\"scale(1 -1)translate(0 -161)\" width=\"161\" x=\"7.2\" xlink:href=\"data:image/png;base64,\niVBORw0KGgoAAAANSUhEUgAAAKEAAAChCAYAAACvUd+2AAAABHNCSVQICAgIfAhkiAAAEatJREFUeJztnUmTHNd1Rl/OlTV09dwNoBsAAVAkIYJT0KIshhxSKEILhfwnvPXS/03a2No4wmGJtCgSJgkIIOYGeq6uecjKTC280/kWXuFhcc/yRmbldCvjfnmHF/zLv/5b7f6O4az4e5NLsw5s7VYOW5LGsJV1AFsYhLBVdQVbUC7Edtx3t9uCbS3hdSymU9jm8xlsrRQmt1jw9+KI1+ucc/PWLmyDyYgbLucw7V9Zh+2tG9dhu/e4B9tpn9dXOt5/ZXLwBOci8ZySiBuG6hDSJnxBnIphvFbMCQ3vmBMa3jEnNLwTjxcMrOuKYiDPItgaDQqTSrh1WFFwhOWSGwphsrfZ4GYimO+P+7CN+xQS3ZzXu767A1tVU5mMXz2GbRnyGM45FycM3jsZtxsEPJ/+lPs+fHQA23DI7fKEB1lUFANC27llWcLWyHh+7Zz3piy4bzcVzz0UooanYhivF3NCwzvmhIZ3zAkN78SdFgPZwYBf9sOQ/lqLz+5RQAFTVkJIjPhl3xXMXMSbm7Bt7mzANnh6DttMCKJGsgLb6YjnN59dwFZNz2B7+ugb2JxzbuPGR7Bl3Wuw1TUD/3TJ+3BywWtZa1IYLmoKhKlSi/w5F4i0RyHEinp2QlO66ZwiJI4sY2K8gZgTGt4xJzS8Y05oeCcOhLgIwwQ2JULCiCIkEYFnUDNAba5QELWzJmyHPWYknp6ecN82BUen0YVtOJvA9urBn2Ebnz2DrZUwSD8+5Lk459zhxRewdXcodq7v7cPWXL8M27LiM8lF9mG5pE1VbUVCaCp1Eahsl/i9WmyXiDIwSil7ExpvAOaEhnfMCQ3vmBMa3omdKNuKQwaZ5YJfyaOKYeZGm6VXSUJbKqLlRovC5GzIc+ldsLciEg0SgQi+Z0Pue/cvX8E2FaVheUohFol+C+ecaxRD2OLyO9jOQ97X0eU92CqRiToe897UAW25sDVEdiQWDyUQJXfthLbVnOfXToWYanA7exMa3jEnNLxjTmh4x5zQ8E78/nU2Wh8ciQ1T9hWsNBmU77YZBA8nzDSMFtzuZY8iaThkhqNcjGFr5BQ/s5JB8GzEfSPH86tFlkfZgkL0yjjn0pj2lihpC4ensFVT0YwvAv9mg+ez0uR7pZ2LXhQhqCbifkUhM1trGY9RlkKgCfEzqXhf7E1oeMec0PCOOaHhHXNCwzvx5ib7Nfqi56Ihhk+1RYB60mPgfzpm0FosKQYWYhpYWVCspDUD93LEfZeifyMWvRC7K5zo1QkoiPKYv9dR46icc5HjeXcCBuU/fY9lW7d/xAloSajK5pQYoG0qxFMl7s1QPKc65L4TXpqbl/SFWGRqlFixN6HhHXNCwzvmhIZ3zAkN78R3H7NpvJgwyD8pRK+BEAhOjPctKv5eNaOASQvakjkFwlqbh93YYOant2Ap0aG4tt0uS8jmojNjUlEcjJY8hnPOqRK5rfUt2G79w89hKzJe4GDCe52Kc5yOhBhoMOuhJhefTHh9TphW26KpvaHugygXE1vZm9Dwjjmh4R1zQsM75oSGd+LLbX4RT0WH8qgvhETN/ojcMduSh8KWcN+L82PY+s9pu5wz0P7gk1/A9vUhxwA/vXgK24nItqhRvNOKWZ5Ct5i4dpOlb0dL/uf/8Me/wLa5fwe2MKfwCkQGZneVD29d2AYz9sCMAl7MQlSqTcS9keu+iHtT/j+b6Q3jtWJOaHjHnNDwjjmh4Z148/nvYOzmzFKs5AzeVzcY8GZtloalWxyTW9WrsH3/5RPYWikD8tVtHuPlkF/nn4kMwPNXz7lvj30edc0MwLIUk6dUbZhzTrSjuOdHnMp12vtv2N7/Ce/r/rufwlaKxvT6gge+EH06rZzXt7chxFSfmZ/Rgvd6PqH4XIgxxVHM49qb0PCOOaHhHXNCwzvmhIZ34k9/fhXGxtoVbrjO7QaOGYmziRj5e8wA+vHdP8HWLilgPvr1b2Gbzvl7Xz+hQPjzw3uwnY5YEpXna7AtJ5zKFdQ8rppu5ZxzWy3+v5ciWzAXvTZpQoEgdnXNmA3/TmRRljUF2osz0QOTUnzeuc51ZE4nYnDBETMwrhJrtMTWY2K8gZgTGt4xJzS8Y05oeCe+n/4GxqMDftV+eY8B5fGAwe1yzqxAOnoJ2+LoLmx7ewyCn7ziMVbWOU53GXCU2HLEc7nUZaN7kDCjMBVruZwOKCICsXL7/9mZ9eg2KRCCFpvfL+3dhC1riNHHS9HDEVPUBGKUcrPJ8y6E8Do95njlW1fYnJ+GvK8PXrKRpS2mu9mb0PCOOaHhHXNCwzvmhIZ34u+/Y+/IUo3AFSuKr4mm9qmYzjSfs0+kLLgw4bJiiVbvgqVXB2fsT3nxjOJns34MW5xx3zJjBiDdoUiqxEjcSEzBck6vmD6Z8d4EYn2SFw/uw3btxx/AduUKM1tVIaadTYVYFIJqNOO+RxOKtt0ZF7Nc7zB7s7FCUZmJRS/tTWh4x5zQ8I45oeEdc0LDO/Feh70BqWO503TBoPVgxqzCxirLomatbdjuH4uV37vcLk4YBN/94kvY+ufMmGx2eH6JWtNDNH1HjmIlTlTZlv4flzED8FgMFSgWFHdnRy/4eykD/198/o/8PSFMHjxkmVWx5PVNSl5ft8XjHol+kor6xb1z7RJsrS4Fn70JDe+YExreMSc0vGNOaHgn7l0wc9GKGSxnbY6wfUdkFdIOe0weV2x0j2OOzj07ZelPHvF/kgfs/6hSkfmZUXCI6idXhfyyX4rej7BmMK9Wl3fOuVBkYUKxWGEiMhfdjMeOCpZUPRQ9NDduvM19RcN5f8L7tRBjtOYRS6/SNm/ikVi40h3xuNci+oe9CQ3vmBMa3jEnNLxjTmh4J87aooE6Y5aibjKozrvMCpyIdTQOBwx4t9/+BLaNHX5hDx3XWbn5zi5szx5RTE36nLY1E43zw4loGFfDtmr+Z9NMN783xGryScgyskSUcsViu5UGReC9Hx5x34y9HlmDzzgY8hhrogdmystwcSIma4lRyhd9Cs1WymPYm9Dwjjmh4R1zQsM75oSGd8wJDe/ErsP6v8mcSme5YHrp4liovZTKqbvCQrrDHv3/+YWQpBdsYNrIWM/mxCKTk4rKtRZpsrMplXUqFGXW4teAKtIzq8e1SHcJIb23QzU7Eyt65i1ul7Q4CeG4N4Dt6iUq62bGAsBIrEza6/HejKZ8dlnEi+vP+JzOhzw/exMa3jEnNLxjTmh4x5zQ8E48GDMYTSKm6FSXjlhbxrmlWJpeBO9pxO36U9GQc/4MtvGAdXRpi/WOUcQU0WTKFF0gahb332Jd3tWb78OWhGJahXPuq/9hM1ZR8PqqlFMUxMhqV6s51gUFzGDIur4zIWBq8f5RbyQlOOZitdLVNu91JRrIWm2rJzTeQMwJDe+YExreMSc0vBNXwg/TJr/OVyLTEIuaOTVVrqzE+DSxCM3mGsXPxQm/7Jc1A/LE8fzW1xjMH55w3+GcWYHGChuxbr53B7YH976BzTnnTi9Yy6gyEmfnzCDsX+cc66IQzViDM9iCFYqQV0dsDGvnfO6xED+thpjJLXwhF/WmJwM+4/ML0UDGIxjG68Wc0PCOOaHhHXNCwzvxqhjVdW2fgfGrYzYcySkFSyqTxZR1VuJDvItSCpNGUzRdiZF0y5ICJk75H1tbZzlWZ50NVjs7XMG00+G5NFI9szoUC9iECbM67VUKiazJ7ZQwaYjasLGYmHA+5L5RQiHRzLlvV2S2CrFq6LlYaCgRK3qmYryevQkN75gTGt4xJzS8Y05oeCeuxEiv40N+iR8vGNyGNYPWqqQwKZY8RiBSK/MxA+Okc43HmD7h75U8v7S5DtudO1xB8+Ztzn6eT5nxqAsuSrO/x8yKc8798pe/gm1Zsm8lX2FpU7nktczGB7BNxVi6RUJb7VS5GQXCUtTmNRKKkKJmxmQqBGkizi8W52JvQsM75oSGd8wJDe+YExreiVczkc1IRMPznEFr7UQPx5wN8Ys5Bcyodwjboyd/gm37ylXYdlrM6CQLzt7e2vsxbGtb7B1ZXedM7d4py58mfa5WOpmyNMw5567eeg+2RoMZl8GIfSfnp+yrqQrRrN7ah213kxmhnS6zI/OpGCCgSvMC+sdFn+VnpRA1WSYGCIgSPnsTGt4xJzS8Y05oeMec0PBOPJkxyFzkDGRr0cAeBWpxGbF6Z0ssIhMyMD5+9gVsP9zl6p2zq5xZfWOb08VGAy5As3eNGYpKZABc/iOYzkZiClmL4sw551Y2WaLVyUSGY865zk1xr8/E2LGFmPw1O+MKodEKs06rXZaLHfUoxmpRkqamHkQVMyErDd4bkdCxN6HhH3NCwzvmhIZ3zAkN78QXjn0dwzOKldUug+A+P/a76URMcSoY0O9f2oPt+lvs61gUT2F79ZzB9+VtZkI6GUWIi/kVv0qYMSmXLOVqRcxaVKWYYOacW4gRxJnoUUnVwjSx6BOZcLvvv/oP2LY3KNCWEYVXsyW2K5gxyTMKjiyj4JiXPOeTkRgqEIvVT2ExjNeMOaHhHXNCwzvmhIZ34kpkR5pi5O9iwoCyWDCQLUU5kJoAVTkGsht7H8F2vWBAnjxjSdXLF8w87F66BdtATMu6tcOMwv4O941iUbo2puhyzrm56KE577N3p5FTPGVtZoQODv4IWzvhvb59513Y4hZ7bXqiIb4jnlMoRv7Goql9WVGELGlyRW2lXMYbiDmh4R1zQsM75oSGd+KOKNWpQ/FVW0xT2sq5b95kBiYXX9hVgHqasyckjFgS1Wr/ANvD+3+F7b/+k6Vhv/nn38LWaTGLshATxyYi0M4zseiIc248YVnUaMwU08kRRda9b7+FbWOVAub625/Atn35OmzDBcXnRpvX1835TKYL+kIsBNqqEjVNJWBMmBhvIOaEhnfMCQ3vmBMa3ol32hQXDFmdmy4ZUAYBA95FxaB1OKGvjyfsMTkdM/Lvttnovn2F+yZCIDy4+7+wffvN17DFmegH6bLsamuTmYfTc07qcs65R08ew3b4kg36j/76HWyl6N358NPPYdveZfO7K3mvm44laHtbFGO1WG9mOOa9VpmVJBbTwALaemObymW8gZgTGt4xJzS8Y05oeCc+OGGgWIksyqRQwoTbzRf8vVotuih6qkfiGGElFoBssHF7fYt9FJ//iuuTHB28hO0P//572G68dR22n332MWz9Y2ZqnHPu7pcURQ8eUKy8e5ulV+98+BPYApFhKmYsI2uKvppOk1JTrb5yLlJCS1XWJ8TFUoiaqhbjgq353XgTMSc0vGNOaHjHnNDwThyVHHerBk1td9jrkdLkgkj0hIgRsfOCgeyjcwbQi4proHSEMHEJMxyF+I/dvM0G+6JkyddsxuOG+Qa3E5kf55w7ePQ9bB98+BlsH/+UmZBZIcqn1HCslJmeJ2c8n0bN+7oqxhxXYl2avhj1LDSIy8RCjJk4aZVFsTeh4R1zQsM75oSGd8wJDe/EeVOsor5kYOxEedFoTsHRr8S+oVgFXSzw58SAq01WHLlOQ4iBgKVcZwMG3yMhkvZvsrfl5SmzEV/eZ+N8PBUiyTn30Wf/BNvHP/s1bPOK9793yvIwsdyMWwhxERQcApCvsO+n1eD7ZyYW0YxEiiMVwlX0vrsyEJmawEq5jDcQc0LDO+aEhnfMCQ3vxAc9Bo+B+CR+rlYUFwHqTJR3ieSIC4QuqcUkK1cw4o1CipC2mAycZizvGs9FYBxS/bREs3lci+zNKrMozjl3eY8LQw7EJKypWJCyIZrLKzFy2Y055evaBhdY3NpiligSk7UeHbAR30U85zimShqJCW15gyJ1tctnYm9CwzvmhIZ3zAkN75gTGt6Jd8S6EpVqYBclOItQrFORcN9MrtFHgVDOGfifDRgY9ycMblsrDMjjiIIjENdRiwlcDZEp2F5hQH42FGLKOTc6Zzajm3PbVTHUa1zy+i76zIQsZ7w3t95mX01XZExEy4pbX+N6LvWQWaJCHLfDQ7hGwus9OeG9tjeh4R1zQsM75oSGd8wJDe/8DdU2skWum9VcAAAAAElFTkSuQmCC\" y=\"-366.239491\"/>\n   </g>\n   <g id=\"text_9\">\n    <g id=\"patch_10\">\n     <path d=\"M 74.22396 375.55625 \nL 105.533335 375.55625 \nL 105.533335 357.8 \nL 74.22396 357.8 \nz\n\" style=\"fill:#bfbf00;stroke:#bfbf00;stroke-linejoin:miter;\"/>\n    </g>\n    <!-- frog -->\n    <defs>\n     <path d=\"M 44.390625 75.984375 \nL 44.390625 64.5 \nL 34.71875 64.5 \nQ 31 64.5 29.53125 63.15625 \nQ 28.078125 61.8125 28.078125 58.5 \nL 28.078125 54.6875 \nL 43.015625 54.6875 \nL 43.015625 42.1875 \nL 28.078125 42.1875 \nL 28.078125 0 \nL 10.59375 0 \nL 10.59375 42.1875 \nL 1.90625 42.1875 \nL 1.90625 54.6875 \nL 10.59375 54.6875 \nL 10.59375 58.5 \nQ 10.59375 67.4375 15.578125 71.703125 \nQ 20.5625 75.984375 31 75.984375 \nz\n\" id=\"DejaVuSans-Bold-102\"/>\n    </defs>\n    <g transform=\"translate(78.22396 369.398437)scale(0.1 -0.1)\">\n     <use xlink:href=\"#DejaVuSans-Bold-102\"/>\n     <use x=\"43.505859\" xlink:href=\"#DejaVuSans-Bold-114\"/>\n     <use x=\"92.822266\" xlink:href=\"#DejaVuSans-Bold-111\"/>\n     <use x=\"161.523438\" xlink:href=\"#DejaVuSans-Bold-103\"/>\n    </g>\n   </g>\n  </g>\n  <g id=\"axes_10\">\n   <g clip-path=\"url(#p17297d6caf)\">\n    <image height=\"161\" id=\"image6057db166a\" transform=\"scale(1 -1)translate(0 -161)\" width=\"161\" x=\"183.717391\" xlink:href=\"data:image/png;base64,\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\" y=\"-366.239491\"/>\n   </g>\n   <g id=\"text_10\">\n    <g id=\"patch_11\">\n     <path d=\"M 251.058539 375.478125 \nL 281.733539 375.478125 \nL 281.733539 357.8 \nL 251.058539 357.8 \nz\n\" style=\"fill:#bfbf00;stroke:#bfbf00;stroke-linejoin:miter;\"/>\n    </g>\n    <!-- bird -->\n    <g transform=\"translate(255.058539 369.398437)scale(0.1 -0.1)\">\n     <use xlink:href=\"#DejaVuSans-Bold-98\"/>\n     <use x=\"71.582031\" xlink:href=\"#DejaVuSans-Bold-105\"/>\n     <use x=\"105.859375\" xlink:href=\"#DejaVuSans-Bold-114\"/>\n     <use x=\"155.175781\" xlink:href=\"#DejaVuSans-Bold-100\"/>\n    </g>\n   </g>\n  </g>\n  <g id=\"axes_11\">\n   <g clip-path=\"url(#p6cee543f2e)\">\n    <image height=\"161\" id=\"image1e8588525a\" transform=\"scale(1 -1)translate(0 -161)\" width=\"161\" x=\"360.234783\" xlink:href=\"data:image/png;base64,\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\" y=\"-366.239491\"/>\n   </g>\n   <g id=\"text_11\">\n    <g id=\"patch_12\">\n     <path d=\"M 430.185305 375.478125 \nL 455.641555 375.478125 \nL 455.641555 357.8 \nL 430.185305 357.8 \nz\n\" style=\"fill:#bfbf00;stroke:#bfbf00;stroke-linejoin:miter;\"/>\n    </g>\n    <!-- cat -->\n    <g transform=\"translate(434.185305 369.398437)scale(0.1 -0.1)\">\n     <use xlink:href=\"#DejaVuSans-Bold-99\"/>\n     <use x=\"59.277344\" xlink:href=\"#DejaVuSans-Bold-97\"/>\n     <use x=\"126.757812\" xlink:href=\"#DejaVuSans-Bold-116\"/>\n    </g>\n   </g>\n  </g>\n  <g id=\"axes_12\">\n   <g clip-path=\"url(#pd7ca04ffb4)\">\n    <image height=\"161\" id=\"image8bb5b93280\" transform=\"scale(1 -1)translate(0 -161)\" width=\"161\" x=\"536.752174\" xlink:href=\"data:image/png;base64,\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\" y=\"-366.239491\"/>\n   </g>\n   <g id=\"text_12\">\n    <g id=\"patch_13\">\n     <path d=\"M 592.258946 375.478125 \nL 646.602696 375.478125 \nL 646.602696 357.8 \nL 592.258946 357.8 \nz\n\" style=\"fill:#bfbf00;stroke:#bfbf00;stroke-linejoin:miter;\"/>\n    </g>\n    <!-- airplane -->\n    <defs>\n     <path d=\"M 25.875 7.90625 \nL 25.875 -20.796875 \nL 8.40625 -20.796875 \nL 8.40625 54.6875 \nL 25.875 54.6875 \nL 25.875 46.6875 \nQ 29.5 51.46875 33.890625 53.734375 \nQ 38.28125 56 44 56 \nQ 54.109375 56 60.59375 47.96875 \nQ 67.09375 39.9375 67.09375 27.296875 \nQ 67.09375 14.65625 60.59375 6.609375 \nQ 54.109375 -1.421875 44 -1.421875 \nQ 38.28125 -1.421875 33.890625 0.84375 \nQ 29.5 3.125 25.875 7.90625 \nz\nM 37.5 43.3125 \nQ 31.890625 43.3125 28.875 39.1875 \nQ 25.875 35.0625 25.875 27.296875 \nQ 25.875 19.53125 28.875 15.40625 \nQ 31.890625 11.28125 37.5 11.28125 \nQ 43.109375 11.28125 46.0625 15.375 \nQ 49.03125 19.484375 49.03125 27.296875 \nQ 49.03125 35.109375 46.0625 39.203125 \nQ 43.109375 43.3125 37.5 43.3125 \nz\n\" id=\"DejaVuSans-Bold-112\"/>\n     <path d=\"M 63.375 33.296875 \nL 63.375 0 \nL 45.796875 0 \nL 45.796875 5.421875 \nL 45.796875 25.484375 \nQ 45.796875 32.5625 45.484375 35.25 \nQ 45.171875 37.9375 44.390625 39.203125 \nQ 43.359375 40.921875 41.59375 41.875 \nQ 39.84375 42.828125 37.59375 42.828125 \nQ 32.125 42.828125 29 38.59375 \nQ 25.875 34.375 25.875 26.90625 \nL 25.875 0 \nL 8.40625 0 \nL 8.40625 54.6875 \nL 25.875 54.6875 \nL 25.875 46.6875 \nQ 29.828125 51.46875 34.265625 53.734375 \nQ 38.71875 56 44.09375 56 \nQ 53.5625 56 58.46875 50.1875 \nQ 63.375 44.390625 63.375 33.296875 \nz\n\" id=\"DejaVuSans-Bold-110\"/>\n    </defs>\n    <g transform=\"translate(596.258946 369.398437)scale(0.1 -0.1)\">\n     <use xlink:href=\"#DejaVuSans-Bold-97\"/>\n     <use x=\"67.480469\" xlink:href=\"#DejaVuSans-Bold-105\"/>\n     <use x=\"101.757812\" xlink:href=\"#DejaVuSans-Bold-114\"/>\n     <use x=\"151.074219\" xlink:href=\"#DejaVuSans-Bold-112\"/>\n     <use x=\"222.65625\" xlink:href=\"#DejaVuSans-Bold-108\"/>\n     <use x=\"256.933594\" xlink:href=\"#DejaVuSans-Bold-97\"/>\n     <use x=\"324.414062\" xlink:href=\"#DejaVuSans-Bold-110\"/>\n     <use x=\"395.605469\" xlink:href=\"#DejaVuSans-Bold-101\"/>\n    </g>\n   </g>\n  </g>\n  <g id=\"axes_13\">\n   <g clip-path=\"url(#p6919f71c82)\">\n    <image height=\"161\" id=\"image1922d5d116\" transform=\"scale(1 -1)translate(0 -161)\" width=\"161\" x=\"7.2\" xlink:href=\"data:image/png;base64,\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\" y=\"-543.539491\"/>\n   </g>\n   <g id=\"text_13\">\n    <g id=\"patch_14\">\n     <path d=\"M 74.541147 552.778125 \nL 105.216147 552.778125 \nL 105.216147 535.1 \nL 74.541147 535.1 \nz\n\" style=\"fill:#bfbf00;stroke:#bfbf00;stroke-linejoin:miter;\"/>\n    </g>\n    <!-- bird -->\n    <g transform=\"translate(78.541147 546.698437)scale(0.1 -0.1)\">\n     <use xlink:href=\"#DejaVuSans-Bold-98\"/>\n     <use x=\"71.582031\" xlink:href=\"#DejaVuSans-Bold-105\"/>\n     <use x=\"105.859375\" xlink:href=\"#DejaVuSans-Bold-114\"/>\n     <use x=\"155.175781\" xlink:href=\"#DejaVuSans-Bold-100\"/>\n    </g>\n   </g>\n  </g>\n  <g id=\"axes_14\">\n   <g clip-path=\"url(#pd90ccf03b5)\">\n    <image height=\"161\" id=\"image3798478ab9\" transform=\"scale(1 -1)translate(0 -161)\" width=\"161\" x=\"183.717391\" xlink:href=\"data:image/png;base64,\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\" y=\"-543.539491\"/>\n   </g>\n   <g id=\"text_14\">\n    <g id=\"patch_15\">\n     <path d=\"M 239.224164 552.778125 \nL 293.567914 552.778125 \nL 293.567914 535.1 \nL 239.224164 535.1 \nz\n\" style=\"fill:#bfbf00;stroke:#bfbf00;stroke-linejoin:miter;\"/>\n    </g>\n    <!-- airplane -->\n    <g transform=\"translate(243.224164 546.698437)scale(0.1 -0.1)\">\n     <use xlink:href=\"#DejaVuSans-Bold-97\"/>\n     <use x=\"67.480469\" xlink:href=\"#DejaVuSans-Bold-105\"/>\n     <use x=\"101.757812\" xlink:href=\"#DejaVuSans-Bold-114\"/>\n     <use x=\"151.074219\" xlink:href=\"#DejaVuSans-Bold-112\"/>\n     <use x=\"222.65625\" xlink:href=\"#DejaVuSans-Bold-108\"/>\n     <use x=\"256.933594\" xlink:href=\"#DejaVuSans-Bold-97\"/>\n     <use x=\"324.414062\" xlink:href=\"#DejaVuSans-Bold-110\"/>\n     <use x=\"395.605469\" xlink:href=\"#DejaVuSans-Bold-101\"/>\n    </g>\n   </g>\n  </g>\n  <g id=\"axes_15\">\n   <g clip-path=\"url(#p663a115f8b)\">\n    <image height=\"161\" id=\"imageff3656cda3\" transform=\"scale(1 -1)translate(0 -161)\" width=\"161\" x=\"360.234783\" xlink:href=\"data:image/png;base64,\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\" y=\"-543.539491\"/>\n   </g>\n   <g id=\"text_15\">\n    <g id=\"patch_16\">\n     <path d=\"M 427.085305 552.778125 \nL 458.741555 552.778125 \nL 458.741555 535.1 \nL 427.085305 535.1 \nz\n\" style=\"fill:#bfbf00;stroke:#bfbf00;stroke-linejoin:miter;\"/>\n    </g>\n    <!-- ship -->\n    <g transform=\"translate(431.085305 546.698437)scale(0.1 -0.1)\">\n     <use xlink:href=\"#DejaVuSans-Bold-115\"/>\n     <use x=\"59.521484\" xlink:href=\"#DejaVuSans-Bold-104\"/>\n     <use x=\"130.712891\" xlink:href=\"#DejaVuSans-Bold-105\"/>\n     <use x=\"164.990234\" xlink:href=\"#DejaVuSans-Bold-112\"/>\n    </g>\n   </g>\n  </g>\n  <g id=\"axes_16\">\n   <g clip-path=\"url(#pcbd0e137ff)\">\n    <image height=\"161\" id=\"image7466707904\" transform=\"scale(1 -1)translate(0 -161)\" width=\"161\" x=\"536.752174\" xlink:href=\"data:image/png;base64,\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\" y=\"-543.539491\"/>\n   </g>\n   <g id=\"text_16\">\n    <g id=\"patch_17\">\n     <path d=\"M 592.258946 552.778125 \nL 646.602696 552.778125 \nL 646.602696 535.1 \nL 592.258946 535.1 \nz\n\" style=\"fill:#bfbf00;stroke:#bfbf00;stroke-linejoin:miter;\"/>\n    </g>\n    <!-- airplane -->\n    <g transform=\"translate(596.258946 546.698437)scale(0.1 -0.1)\">\n     <use xlink:href=\"#DejaVuSans-Bold-97\"/>\n     <use x=\"67.480469\" xlink:href=\"#DejaVuSans-Bold-105\"/>\n     <use x=\"101.757812\" xlink:href=\"#DejaVuSans-Bold-114\"/>\n     <use x=\"151.074219\" xlink:href=\"#DejaVuSans-Bold-112\"/>\n     <use x=\"222.65625\" xlink:href=\"#DejaVuSans-Bold-108\"/>\n     <use x=\"256.933594\" xlink:href=\"#DejaVuSans-Bold-97\"/>\n     <use x=\"324.414062\" xlink:href=\"#DejaVuSans-Bold-110\"/>\n     <use x=\"395.605469\" xlink:href=\"#DejaVuSans-Bold-101\"/>\n    </g>\n   </g>\n  </g>\n </g>\n <defs>\n  <clipPath id=\"p70b6978b4a\">\n   <rect height=\"160.346467\" width=\"160.346467\" x=\"7.2\" y=\"12.293024\"/>\n  </clipPath>\n  <clipPath id=\"p262ac1ec4f\">\n   <rect height=\"160.346467\" width=\"160.346467\" x=\"183.717391\" y=\"12.293024\"/>\n  </clipPath>\n  <clipPath id=\"p7a750827ef\">\n   <rect height=\"160.346467\" width=\"160.346467\" x=\"360.234783\" y=\"12.293024\"/>\n  </clipPath>\n  <clipPath id=\"p4f37c79952\">\n   <rect height=\"160.346467\" width=\"160.346467\" x=\"536.752174\" y=\"12.293024\"/>\n  </clipPath>\n  <clipPath id=\"p004f20b0dc\">\n   <rect height=\"160.346467\" width=\"160.346467\" x=\"7.2\" y=\"189.593024\"/>\n  </clipPath>\n  <clipPath id=\"p430d1a45bd\">\n   <rect height=\"160.346467\" width=\"160.346467\" x=\"183.717391\" y=\"189.593024\"/>\n  </clipPath>\n  <clipPath id=\"p0340940240\">\n   <rect height=\"160.346467\" width=\"160.346467\" x=\"360.234783\" y=\"189.593024\"/>\n  </clipPath>\n  <clipPath id=\"p0ab813004f\">\n   <rect height=\"160.346467\" width=\"160.346467\" x=\"536.752174\" y=\"189.593024\"/>\n  </clipPath>\n  <clipPath id=\"p1532d96f43\">\n   <rect height=\"160.346467\" width=\"160.346467\" x=\"7.2\" y=\"366.893024\"/>\n  </clipPath>\n  <clipPath id=\"p17297d6caf\">\n   <rect height=\"160.346467\" width=\"160.346467\" x=\"183.717391\" y=\"366.893024\"/>\n  </clipPath>\n  <clipPath id=\"p6cee543f2e\">\n   <rect height=\"160.346467\" width=\"160.346467\" x=\"360.234783\" y=\"366.893024\"/>\n  </clipPath>\n  <clipPath id=\"pd7ca04ffb4\">\n   <rect height=\"160.346467\" width=\"160.346467\" x=\"536.752174\" y=\"366.893024\"/>\n  </clipPath>\n  <clipPath id=\"p6919f71c82\">\n   <rect height=\"160.346467\" width=\"160.346467\" x=\"7.2\" y=\"544.193024\"/>\n  </clipPath>\n  <clipPath id=\"pd90ccf03b5\">\n   <rect height=\"160.346467\" width=\"160.346467\" x=\"183.717391\" y=\"544.193024\"/>\n  </clipPath>\n  <clipPath id=\"p663a115f8b\">\n   <rect height=\"160.346467\" width=\"160.346467\" x=\"360.234783\" y=\"544.193024\"/>\n  </clipPath>\n  <clipPath id=\"pcbd0e137ff\">\n   <rect height=\"160.346467\" width=\"160.346467\" x=\"536.752174\" y=\"544.193024\"/>\n  </clipPath>\n </defs>\n</svg>\n"
          },
          "metadata": {
            "needs_background": "light"
          }
        }
      ]
    },
    {
      "cell_type": "code",
      "source": [
        "# # with this function the accuracy on test data is about 74%\n",
        "# # the following cell contain the normalizer layers that will upgrade the model accuracy to 78 %.\n",
        "\n",
        "# # create a class for the model\n",
        "# def makeTheNet(printtoggle=False):\n",
        "\n",
        "#   class cnnnet(nn.Module):\n",
        "#     def __init__(self,printtoggle):\n",
        "#       super().__init__()\n",
        "      \n",
        "#       # print toggle\n",
        "#       self.print = printtoggle\n",
        "\n",
        "#       ### -------------- feature map layers -------------- ###\n",
        "#       # first convolution layer\n",
        "#       self.conv1  = nn.Conv2d(3,64,3,padding=1)\n",
        "#       self.bnorm1 = nn.BatchNorm2d(64) # input the number of channels in this layer\n",
        "#       # output size: (32+2*1-3)/1 + 1 = 32/2 = 16 (/2 b/c maxpool)\n",
        "\n",
        "#       # second convolution layer\n",
        "#       self.conv2  = nn.Conv2d(64,128,3)\n",
        "#       self.bnorm2 = nn.BatchNorm2d(128) # input the number of channels in this layer\n",
        "#       # output size: (16+2*0-3)/1 + 1 = 14/2 = 7 (/2 b/c maxpool)\n",
        "\n",
        "#       # third convolution layer\n",
        "#       self.conv3  = nn.Conv2d(128,256,3)\n",
        "#       self.bnorm3 = nn.BatchNorm2d(256) # input the number of channels in this layer\n",
        "#       # output size: (7+2*0-3)/1 + 1 = 5/2 = 2 (/2 b/c maxpool)\n",
        "      \n",
        "#       ### -------------- linear decision layers -------------- ###\n",
        "#       self.fc1 = nn.Linear(2*2*256,256)\n",
        "#       self.fc2 = nn.Linear(256,64)\n",
        "#       self.fc3 = nn.Linear(64,10)\n",
        "\n",
        "#     def forward(self,x):\n",
        "      \n",
        "#       if self.print: print(f'Input: {list(x.shape)}')\n",
        "      \n",
        "#       # first block: convolution -> maxpool -> batchnorm -> relu\n",
        "#       x = F.max_pool2d(self.conv1(x),2)\n",
        "#       x = F.leaky_relu(x)\n",
        "#       if self.print: print(f'First CPBR block: {list(x.shape)}')\n",
        "\n",
        "#       # second block: convolution -> maxpool -> batchnorm -> relu\n",
        "#       x = F.max_pool2d(self.conv2(x),2)\n",
        "#       x = F.leaky_relu(x)\n",
        "#       if self.print: print(f'Second CPR block: {list(x.shape)}')\n",
        "\n",
        "#       # third block: convolution -> maxpool -> batchnorm -> relu\n",
        "#       x = F.max_pool2d(self.conv3(x),2)\n",
        "#       x = F.leaky_relu(x)\n",
        "#       if self.print: print(f'Third CPR block: {list(x.shape)}')\n",
        "\n",
        "#       # reshape for linear layer\n",
        "#       nUnits = x.shape.numel()/x.shape[0]\n",
        "#       x = x.view(-1,int(nUnits))\n",
        "#       if self.print: print(f'Vectorized: {list(x.shape)}')\n",
        "      \n",
        "#       # linear layers\n",
        "#       x = F.leaky_relu(self.fc1(x))\n",
        "#       x = F.dropout(x,p=.5,training=self.training)\n",
        "#       x = F.leaky_relu(self.fc2(x))\n",
        "#       x = F.dropout(x,p=.5,training=self.training) # training=self.training means to turn off during eval mode\n",
        "#       x = self.fc3(x)\n",
        "#       if self.print: print(f'Final output: {list(x.shape)}')\n",
        "\n",
        "#       return x\n",
        "\n",
        "#   # create the model instance\n",
        "#   net = cnnnet(printtoggle)\n",
        "  \n",
        "#   # loss function\n",
        "#   lossfun = nn.CrossEntropyLoss()\n",
        "\n",
        "#   # optimizer\n",
        "#   optimizer = torch.optim.Adam(net.parameters(), lr=.001, weight_decay=1e-5)\n",
        "\n",
        "#   return net,lossfun,optimizer"
      ],
      "metadata": {
        "id": "hPbCajX4Z59k"
      },
      "execution_count": 8,
      "outputs": []
    },
    {
      "cell_type": "code",
      "source": [
        "# create a class for the model\n",
        "def makeTheNet(printtoggle=False):\n",
        "\n",
        "  class cnnnet(nn.Module):\n",
        "    def __init__(self,printtoggle):\n",
        "      super().__init__()\n",
        "      \n",
        "      # print toggle\n",
        "      self.print = printtoggle\n",
        "\n",
        "      ### -------------- feature map layers -------------- ###\n",
        "      # first convolution layer\n",
        "      self.conv1  = nn.Conv2d(3,64,3,padding=1)\n",
        "      self.bnorm1 = nn.BatchNorm2d(64) # input the number of channels in this layer\n",
        "      # output size: (32+2*1-3)/1 + 1 = 32/2 = 16 (/2 b/c maxpool)\n",
        "\n",
        "      # second convolution layer\n",
        "      self.conv2  = nn.Conv2d(64,128,3)\n",
        "      self.bnorm2 = nn.BatchNorm2d(128) # input the number of channels in this layer\n",
        "      # output size: (16+2*0-3)/1 + 1 = 14/2 = 7 (/2 b/c maxpool)\n",
        "\n",
        "      # third convolution layer\n",
        "      self.conv3  = nn.Conv2d(128,256,3)\n",
        "      self.bnorm3 = nn.BatchNorm2d(256) # input the number of channels in this layer\n",
        "      # output size: (7+2*0-3)/1 + 1 = 5/2 = 2 (/2 b/c maxpool)\n",
        "      \n",
        "      ### -------------- linear decision layers -------------- ###\n",
        "      self.fc1 = nn.Linear(2*2*256,256)\n",
        "      self.fc2 = nn.Linear(256,64)\n",
        "      self.fc3 = nn.Linear(64,10)\n",
        "\n",
        "    def forward(self,x):\n",
        "      \n",
        "      if self.print: print(f'Input: {list(x.shape)}')\n",
        "      \n",
        "      # first block: convolution -> maxpool -> batchnorm -> relu\n",
        "      x = F.max_pool2d(self.conv1(x),2)\n",
        "      x = F.leaky_relu(self.bnorm1(x))\n",
        "      if self.print: print(f'First CPBR block: {list(x.shape)}')\n",
        "\n",
        "      # second block: convolution -> maxpool -> batchnorm -> relu\n",
        "      x = F.max_pool2d(self.conv2(x),2)\n",
        "      x = F.leaky_relu(self.bnorm2(x))\n",
        "      if self.print: print(f'Second CPR block: {list(x.shape)}')\n",
        "\n",
        "      # third block: convolution -> maxpool -> batchnorm -> relu\n",
        "      x = F.max_pool2d(self.conv3(x),2)\n",
        "      x = F.leaky_relu(self.bnorm3(x))\n",
        "      if self.print: print(f'Third CPR block: {list(x.shape)}')\n",
        "\n",
        "      # reshape for linear layer\n",
        "      nUnits = x.shape.numel()/x.shape[0]\n",
        "      x = x.view(-1,int(nUnits))\n",
        "      if self.print: print(f'Vectorized: {list(x.shape)}')\n",
        "      \n",
        "      # linear layers\n",
        "      x = F.leaky_relu(self.fc1(x))\n",
        "      x = F.dropout(x,p=.5,training=self.training)\n",
        "      x = F.leaky_relu(self.fc2(x))\n",
        "      x = F.dropout(x,p=.5,training=self.training) # training=self.training means to turn off during eval mode\n",
        "      x = self.fc3(x)\n",
        "      if self.print: print(f'Final output: {list(x.shape)}')\n",
        "\n",
        "      return x\n",
        "\n",
        "  # create the model instance\n",
        "  net = cnnnet(printtoggle)\n",
        "  \n",
        "  # loss function\n",
        "  lossfun = nn.CrossEntropyLoss()\n",
        "\n",
        "  # optimizer\n",
        "  optimizer = torch.optim.Adam(net.parameters(), lr=.001, weight_decay=1e-5)\n",
        "\n",
        "  return net,lossfun,optimizer"
      ],
      "metadata": {
        "id": "M6_ozZqkaBh4"
      },
      "execution_count": 16,
      "outputs": []
    },
    {
      "cell_type": "code",
      "source": [
        "# test the model with one batch\n",
        "net,lossfun,optimizer = makeTheNet(True)\n",
        "\n",
        "X,y = iter(train_loader).next()\n",
        "yHat = net(X)\n",
        "\n",
        "# check size of output\n",
        "print('\\nOutput size:')\n",
        "print(yHat.shape)\n",
        "\n",
        "# now compute the loss\n",
        "loss = lossfun(yHat,torch.squeeze(y))\n",
        "print(' ')\n",
        "print('Loss:')\n",
        "print(loss)"
      ],
      "metadata": {
        "colab": {
          "base_uri": "https://localhost:8080/"
        },
        "id": "dWKJt6PDaTno",
        "outputId": "90eab1c2-7510-4b95-8b18-01bd85bc7c4c"
      },
      "execution_count": 17,
      "outputs": [
        {
          "output_type": "stream",
          "name": "stdout",
          "text": [
            "Input: [32, 3, 32, 32]\n",
            "First CPBR block: [32, 64, 16, 16]\n",
            "Second CPR block: [32, 128, 7, 7]\n",
            "Third CPR block: [32, 256, 2, 2]\n",
            "Vectorized: [32, 1024]\n",
            "Final output: [32, 10]\n",
            "\n",
            "Output size:\n",
            "torch.Size([32, 10])\n",
            " \n",
            "Loss:\n",
            "tensor(2.2855, grad_fn=<NllLossBackward0>)\n"
          ]
        }
      ]
    },
    {
      "cell_type": "code",
      "source": [
        "# a function that trains the model\n",
        "\n",
        "def funtion2trainTheModel():\n",
        "\n",
        "  # number of epochs\n",
        "  numepochs = 10\n",
        "  \n",
        "  # create a new model\n",
        "  net,lossfun,optimizer = makeTheNet()\n",
        "\n",
        "  # send the model to the GPU\n",
        "  net.to(device)\n",
        "\n",
        "  # initialize losses\n",
        "  trainLoss = torch.zeros(numepochs)\n",
        "  devLoss   = torch.zeros(numepochs)\n",
        "  trainAcc  = torch.zeros(numepochs)\n",
        "  devAcc    = torch.zeros(numepochs)\n",
        "\n",
        "\n",
        "  # loop over epochs\n",
        "  for epochi in range(numepochs):\n",
        "\n",
        "    # loop over training data batches\n",
        "    net.train() # switch to train mode\n",
        "    batchLoss = []\n",
        "    batchAcc  = []\n",
        "    for X,y in train_loader:\n",
        "\n",
        "      # push data to GPU\n",
        "      X = X.to(device)\n",
        "      y = y.to(device)\n",
        "\n",
        "      # forward pass and loss\n",
        "      yHat = net(X)\n",
        "      loss = lossfun(yHat,y)\n",
        "\n",
        "      # backprop\n",
        "      optimizer.zero_grad()\n",
        "      loss.backward()\n",
        "      optimizer.step()\n",
        "\n",
        "      # loss and accuracy from this batch\n",
        "      batchLoss.append(loss.item())\n",
        "      batchAcc.append( torch.mean((torch.argmax(yHat,axis=1) == y).float()).item() )\n",
        "    # end of batch loop...\n",
        "\n",
        "    # and get average losses and accuracies across the batches\n",
        "    trainLoss[epochi] = np.mean(batchLoss)\n",
        "    trainAcc[epochi]  = 100*np.mean(batchAcc)\n",
        "\n",
        "\n",
        "    #### test performance (here done in batches!)\n",
        "    net.eval() # switch to test mode\n",
        "    batchAcc  = []\n",
        "    batchLoss = []\n",
        "    for X,y in dev_loader:\n",
        "\n",
        "      # push data to GPU\n",
        "      X = X.to(device)\n",
        "      y = y.to(device)\n",
        "\n",
        "      # forward pass and loss\n",
        "      with torch.no_grad():\n",
        "        yHat = net(X)\n",
        "        loss = lossfun(yHat,y)\n",
        "      \n",
        "      # loss and accuracy from this batch\n",
        "      batchLoss.append(loss.item())\n",
        "      batchAcc.append( torch.mean((torch.argmax(yHat,axis=1) == y).float()).item() )\n",
        "    # end of batch loop...\n",
        "\n",
        "    # and get average losses and accuracies across the batches\n",
        "    devLoss[epochi] = np.mean(batchLoss)\n",
        "    devAcc[epochi]  = 100*np.mean(batchAcc)\n",
        "\n",
        "    if epochi%2 == 0:\n",
        "      print('Processing epoch = ', epochi)\n",
        "\n",
        "  # end epochs\n",
        "\n",
        "  # function output\n",
        "  return trainLoss,devLoss,trainAcc,devAcc,net"
      ],
      "metadata": {
        "id": "ub3H61ueaTk-"
      },
      "execution_count": 18,
      "outputs": []
    },
    {
      "cell_type": "code",
      "source": [
        "%%time\n",
        "# ~ 6 minutes with 10 epochs on GPU\n",
        "trainLoss,devLoss,trainAcc,devAcc,net = funtion2trainTheModel()"
      ],
      "metadata": {
        "colab": {
          "base_uri": "https://localhost:8080/"
        },
        "id": "oMTRWt7aaTZe",
        "outputId": "e27ec4ac-2040-48e2-fc66-c0179388cdea"
      },
      "execution_count": 19,
      "outputs": [
        {
          "output_type": "stream",
          "name": "stdout",
          "text": [
            "Processing epoch =  0\n",
            "Processing epoch =  2\n",
            "Processing epoch =  4\n",
            "Processing epoch =  6\n",
            "Processing epoch =  8\n",
            "CPU times: user 6min 18s, sys: 2.18 s, total: 6min 20s\n",
            "Wall time: 6min 19s\n"
          ]
        }
      ]
    },
    {
      "cell_type": "code",
      "source": [
        "## the real test set!\n",
        "\n",
        "net.eval() # switch to test mode\n",
        "X,y = next(iter(test_loader))\n",
        "\n",
        "# push data to GPU\n",
        "X = X.to(device)\n",
        "y = y.to(device)\n",
        "\n",
        "# forward pass and loss\n",
        "with torch.no_grad():\n",
        "  yHat = net(X)\n",
        "  loss = lossfun(yHat,y)\n",
        "\n",
        "# loss and accuracy from this batch\n",
        "testLoss = loss.item()\n",
        "testAcc  = 100*torch.mean((torch.argmax(yHat,axis=1) == y).float()).item()"
      ],
      "metadata": {
        "id": "ModiwWmzacy1"
      },
      "execution_count": 20,
      "outputs": []
    },
    {
      "cell_type": "code",
      "source": [
        "fig,ax = plt.subplots(1,2,figsize=(16,5))\n",
        "\n",
        "ax[0].plot(trainLoss,'s-',label='Train')\n",
        "ax[0].plot(devLoss,'o-',label='Dev')\n",
        "ax[0].plot(len(devLoss)-1,testLoss,'r*',markersize=15,label='Test')\n",
        "ax[0].set_xlabel('Epochs')\n",
        "ax[0].set_ylabel('Loss (CEL)')\n",
        "ax[0].set_title('Model loss')\n",
        "\n",
        "ax[1].plot(trainAcc,'s-',label='Train')\n",
        "ax[1].plot(devAcc,'o-',label='Dev')\n",
        "ax[1].plot(len(devAcc)-1,testAcc,'r*',markersize=15,label='Test')\n",
        "ax[1].set_xlabel('Epochs')\n",
        "ax[1].set_ylabel('Accuracy (%)')\n",
        "ax[1].set_title(f'Final model dev/test accuracy: {devAcc[-1]:.2f}/{testAcc:.2f}%')\n",
        "ax[1].legend()\n",
        "\n",
        "plt.show()"
      ],
      "metadata": {
        "colab": {
          "base_uri": "https://localhost:8080/",
          "height": 484
        },
        "id": "bB_mfc0uak_w",
        "outputId": "06968234-aede-48b6-dec3-f5a15457eabf"
      },
      "execution_count": 21,
      "outputs": [
        {
          "output_type": "display_data",
          "data": {
            "text/plain": [
              "<Figure size 1152x360 with 2 Axes>"
            ],
            "image/svg+xml": "<?xml version=\"1.0\" encoding=\"utf-8\" standalone=\"no\"?>\n<!DOCTYPE svg PUBLIC \"-//W3C//DTD SVG 1.1//EN\"\n  \"http://www.w3.org/Graphics/SVG/1.1/DTD/svg11.dtd\">\n<!-- Created with matplotlib (https://matplotlib.org/) -->\n<svg height=\"331.674375pt\" version=\"1.1\" viewBox=\"0 0 943.78125 331.674375\" width=\"943.78125pt\" xmlns=\"http://www.w3.org/2000/svg\" xmlns:xlink=\"http://www.w3.org/1999/xlink\">\n <defs>\n  <style type=\"text/css\">\n*{stroke-linecap:butt;stroke-linejoin:round;}\n  </style>\n </defs>\n <g id=\"figure_1\">\n  <g id=\"patch_1\">\n   <path d=\"M 0 331.674375 \nL 943.78125 331.674375 \nL 943.78125 0 \nL 0 0 \nz\n\" style=\"fill:none;\"/>\n  </g>\n  <g id=\"axes_1\">\n   <g id=\"patch_2\">\n    <path d=\"M 43.78125 294.118125 \nL 449.599432 294.118125 \nL 449.599432 22.318125 \nL 43.78125 22.318125 \nz\n\" style=\"fill:#ffffff;\"/>\n   </g>\n   <g id=\"matplotlib.axis_1\">\n    <g id=\"xtick_1\">\n     <g id=\"line2d_1\">\n      <defs>\n       <path d=\"M 0 0 \nL 0 3.5 \n\" id=\"me8f4b6dee2\" style=\"stroke:#000000;stroke-width:0.8;\"/>\n      </defs>\n      <g>\n       <use style=\"stroke:#000000;stroke-width:0.8;\" x=\"62.227531\" xlink:href=\"#me8f4b6dee2\" y=\"294.118125\"/>\n      </g>\n     </g>\n     <g id=\"text_1\">\n      <!-- 0 -->\n      <defs>\n       <path d=\"M 31.78125 66.40625 \nQ 24.171875 66.40625 20.328125 58.90625 \nQ 16.5 51.421875 16.5 36.375 \nQ 16.5 21.390625 20.328125 13.890625 \nQ 24.171875 6.390625 31.78125 6.390625 \nQ 39.453125 6.390625 43.28125 13.890625 \nQ 47.125 21.390625 47.125 36.375 \nQ 47.125 51.421875 43.28125 58.90625 \nQ 39.453125 66.40625 31.78125 66.40625 \nz\nM 31.78125 74.21875 \nQ 44.046875 74.21875 50.515625 64.515625 \nQ 56.984375 54.828125 56.984375 36.375 \nQ 56.984375 17.96875 50.515625 8.265625 \nQ 44.046875 -1.421875 31.78125 -1.421875 \nQ 19.53125 -1.421875 13.0625 8.265625 \nQ 6.59375 17.96875 6.59375 36.375 \nQ 6.59375 54.828125 13.0625 64.515625 \nQ 19.53125 74.21875 31.78125 74.21875 \nz\n\" id=\"DejaVuSans-48\"/>\n      </defs>\n      <g transform=\"translate(59.046281 308.716563)scale(0.1 -0.1)\">\n       <use xlink:href=\"#DejaVuSans-48\"/>\n      </g>\n     </g>\n    </g>\n    <g id=\"xtick_2\">\n     <g id=\"line2d_2\">\n      <g>\n       <use style=\"stroke:#000000;stroke-width:0.8;\" x=\"144.211002\" xlink:href=\"#me8f4b6dee2\" y=\"294.118125\"/>\n      </g>\n     </g>\n     <g id=\"text_2\">\n      <!-- 2 -->\n      <defs>\n       <path d=\"M 19.1875 8.296875 \nL 53.609375 8.296875 \nL 53.609375 0 \nL 7.328125 0 \nL 7.328125 8.296875 \nQ 12.9375 14.109375 22.625 23.890625 \nQ 32.328125 33.6875 34.8125 36.53125 \nQ 39.546875 41.84375 41.421875 45.53125 \nQ 43.3125 49.21875 43.3125 52.78125 \nQ 43.3125 58.59375 39.234375 62.25 \nQ 35.15625 65.921875 28.609375 65.921875 \nQ 23.96875 65.921875 18.8125 64.3125 \nQ 13.671875 62.703125 7.8125 59.421875 \nL 7.8125 69.390625 \nQ 13.765625 71.78125 18.9375 73 \nQ 24.125 74.21875 28.421875 74.21875 \nQ 39.75 74.21875 46.484375 68.546875 \nQ 53.21875 62.890625 53.21875 53.421875 \nQ 53.21875 48.921875 51.53125 44.890625 \nQ 49.859375 40.875 45.40625 35.40625 \nQ 44.1875 33.984375 37.640625 27.21875 \nQ 31.109375 20.453125 19.1875 8.296875 \nz\n\" id=\"DejaVuSans-50\"/>\n      </defs>\n      <g transform=\"translate(141.029752 308.716563)scale(0.1 -0.1)\">\n       <use xlink:href=\"#DejaVuSans-50\"/>\n      </g>\n     </g>\n    </g>\n    <g id=\"xtick_3\">\n     <g id=\"line2d_3\">\n      <g>\n       <use style=\"stroke:#000000;stroke-width:0.8;\" x=\"226.194473\" xlink:href=\"#me8f4b6dee2\" y=\"294.118125\"/>\n      </g>\n     </g>\n     <g id=\"text_3\">\n      <!-- 4 -->\n      <defs>\n       <path d=\"M 37.796875 64.3125 \nL 12.890625 25.390625 \nL 37.796875 25.390625 \nz\nM 35.203125 72.90625 \nL 47.609375 72.90625 \nL 47.609375 25.390625 \nL 58.015625 25.390625 \nL 58.015625 17.1875 \nL 47.609375 17.1875 \nL 47.609375 0 \nL 37.796875 0 \nL 37.796875 17.1875 \nL 4.890625 17.1875 \nL 4.890625 26.703125 \nz\n\" id=\"DejaVuSans-52\"/>\n      </defs>\n      <g transform=\"translate(223.013223 308.716563)scale(0.1 -0.1)\">\n       <use xlink:href=\"#DejaVuSans-52\"/>\n      </g>\n     </g>\n    </g>\n    <g id=\"xtick_4\">\n     <g id=\"line2d_4\">\n      <g>\n       <use style=\"stroke:#000000;stroke-width:0.8;\" x=\"308.177944\" xlink:href=\"#me8f4b6dee2\" y=\"294.118125\"/>\n      </g>\n     </g>\n     <g id=\"text_4\">\n      <!-- 6 -->\n      <defs>\n       <path d=\"M 33.015625 40.375 \nQ 26.375 40.375 22.484375 35.828125 \nQ 18.609375 31.296875 18.609375 23.390625 \nQ 18.609375 15.53125 22.484375 10.953125 \nQ 26.375 6.390625 33.015625 6.390625 \nQ 39.65625 6.390625 43.53125 10.953125 \nQ 47.40625 15.53125 47.40625 23.390625 \nQ 47.40625 31.296875 43.53125 35.828125 \nQ 39.65625 40.375 33.015625 40.375 \nz\nM 52.59375 71.296875 \nL 52.59375 62.3125 \nQ 48.875 64.0625 45.09375 64.984375 \nQ 41.3125 65.921875 37.59375 65.921875 \nQ 27.828125 65.921875 22.671875 59.328125 \nQ 17.53125 52.734375 16.796875 39.40625 \nQ 19.671875 43.65625 24.015625 45.921875 \nQ 28.375 48.1875 33.59375 48.1875 \nQ 44.578125 48.1875 50.953125 41.515625 \nQ 57.328125 34.859375 57.328125 23.390625 \nQ 57.328125 12.15625 50.6875 5.359375 \nQ 44.046875 -1.421875 33.015625 -1.421875 \nQ 20.359375 -1.421875 13.671875 8.265625 \nQ 6.984375 17.96875 6.984375 36.375 \nQ 6.984375 53.65625 15.1875 63.9375 \nQ 23.390625 74.21875 37.203125 74.21875 \nQ 40.921875 74.21875 44.703125 73.484375 \nQ 48.484375 72.75 52.59375 71.296875 \nz\n\" id=\"DejaVuSans-54\"/>\n      </defs>\n      <g transform=\"translate(304.996694 308.716563)scale(0.1 -0.1)\">\n       <use xlink:href=\"#DejaVuSans-54\"/>\n      </g>\n     </g>\n    </g>\n    <g id=\"xtick_5\">\n     <g id=\"line2d_5\">\n      <g>\n       <use style=\"stroke:#000000;stroke-width:0.8;\" x=\"390.161415\" xlink:href=\"#me8f4b6dee2\" y=\"294.118125\"/>\n      </g>\n     </g>\n     <g id=\"text_5\">\n      <!-- 8 -->\n      <defs>\n       <path d=\"M 31.78125 34.625 \nQ 24.75 34.625 20.71875 30.859375 \nQ 16.703125 27.09375 16.703125 20.515625 \nQ 16.703125 13.921875 20.71875 10.15625 \nQ 24.75 6.390625 31.78125 6.390625 \nQ 38.8125 6.390625 42.859375 10.171875 \nQ 46.921875 13.96875 46.921875 20.515625 \nQ 46.921875 27.09375 42.890625 30.859375 \nQ 38.875 34.625 31.78125 34.625 \nz\nM 21.921875 38.8125 \nQ 15.578125 40.375 12.03125 44.71875 \nQ 8.5 49.078125 8.5 55.328125 \nQ 8.5 64.0625 14.71875 69.140625 \nQ 20.953125 74.21875 31.78125 74.21875 \nQ 42.671875 74.21875 48.875 69.140625 \nQ 55.078125 64.0625 55.078125 55.328125 \nQ 55.078125 49.078125 51.53125 44.71875 \nQ 48 40.375 41.703125 38.8125 \nQ 48.828125 37.15625 52.796875 32.3125 \nQ 56.78125 27.484375 56.78125 20.515625 \nQ 56.78125 9.90625 50.3125 4.234375 \nQ 43.84375 -1.421875 31.78125 -1.421875 \nQ 19.734375 -1.421875 13.25 4.234375 \nQ 6.78125 9.90625 6.78125 20.515625 \nQ 6.78125 27.484375 10.78125 32.3125 \nQ 14.796875 37.15625 21.921875 38.8125 \nz\nM 18.3125 54.390625 \nQ 18.3125 48.734375 21.84375 45.5625 \nQ 25.390625 42.390625 31.78125 42.390625 \nQ 38.140625 42.390625 41.71875 45.5625 \nQ 45.3125 48.734375 45.3125 54.390625 \nQ 45.3125 60.0625 41.71875 63.234375 \nQ 38.140625 66.40625 31.78125 66.40625 \nQ 25.390625 66.40625 21.84375 63.234375 \nQ 18.3125 60.0625 18.3125 54.390625 \nz\n\" id=\"DejaVuSans-56\"/>\n      </defs>\n      <g transform=\"translate(386.980165 308.716563)scale(0.1 -0.1)\">\n       <use xlink:href=\"#DejaVuSans-56\"/>\n      </g>\n     </g>\n    </g>\n    <g id=\"text_6\">\n     <!-- Epochs -->\n     <defs>\n      <path d=\"M 9.8125 72.90625 \nL 55.90625 72.90625 \nL 55.90625 64.59375 \nL 19.671875 64.59375 \nL 19.671875 43.015625 \nL 54.390625 43.015625 \nL 54.390625 34.71875 \nL 19.671875 34.71875 \nL 19.671875 8.296875 \nL 56.78125 8.296875 \nL 56.78125 0 \nL 9.8125 0 \nz\n\" id=\"DejaVuSans-69\"/>\n      <path d=\"M 18.109375 8.203125 \nL 18.109375 -20.796875 \nL 9.078125 -20.796875 \nL 9.078125 54.6875 \nL 18.109375 54.6875 \nL 18.109375 46.390625 \nQ 20.953125 51.265625 25.265625 53.625 \nQ 29.59375 56 35.59375 56 \nQ 45.5625 56 51.78125 48.09375 \nQ 58.015625 40.1875 58.015625 27.296875 \nQ 58.015625 14.40625 51.78125 6.484375 \nQ 45.5625 -1.421875 35.59375 -1.421875 \nQ 29.59375 -1.421875 25.265625 0.953125 \nQ 20.953125 3.328125 18.109375 8.203125 \nz\nM 48.6875 27.296875 \nQ 48.6875 37.203125 44.609375 42.84375 \nQ 40.53125 48.484375 33.40625 48.484375 \nQ 26.265625 48.484375 22.1875 42.84375 \nQ 18.109375 37.203125 18.109375 27.296875 \nQ 18.109375 17.390625 22.1875 11.75 \nQ 26.265625 6.109375 33.40625 6.109375 \nQ 40.53125 6.109375 44.609375 11.75 \nQ 48.6875 17.390625 48.6875 27.296875 \nz\n\" id=\"DejaVuSans-112\"/>\n      <path d=\"M 30.609375 48.390625 \nQ 23.390625 48.390625 19.1875 42.75 \nQ 14.984375 37.109375 14.984375 27.296875 \nQ 14.984375 17.484375 19.15625 11.84375 \nQ 23.34375 6.203125 30.609375 6.203125 \nQ 37.796875 6.203125 41.984375 11.859375 \nQ 46.1875 17.53125 46.1875 27.296875 \nQ 46.1875 37.015625 41.984375 42.703125 \nQ 37.796875 48.390625 30.609375 48.390625 \nz\nM 30.609375 56 \nQ 42.328125 56 49.015625 48.375 \nQ 55.71875 40.765625 55.71875 27.296875 \nQ 55.71875 13.875 49.015625 6.21875 \nQ 42.328125 -1.421875 30.609375 -1.421875 \nQ 18.84375 -1.421875 12.171875 6.21875 \nQ 5.515625 13.875 5.515625 27.296875 \nQ 5.515625 40.765625 12.171875 48.375 \nQ 18.84375 56 30.609375 56 \nz\n\" id=\"DejaVuSans-111\"/>\n      <path d=\"M 48.78125 52.59375 \nL 48.78125 44.1875 \nQ 44.96875 46.296875 41.140625 47.34375 \nQ 37.3125 48.390625 33.40625 48.390625 \nQ 24.65625 48.390625 19.8125 42.84375 \nQ 14.984375 37.3125 14.984375 27.296875 \nQ 14.984375 17.28125 19.8125 11.734375 \nQ 24.65625 6.203125 33.40625 6.203125 \nQ 37.3125 6.203125 41.140625 7.25 \nQ 44.96875 8.296875 48.78125 10.40625 \nL 48.78125 2.09375 \nQ 45.015625 0.34375 40.984375 -0.53125 \nQ 36.96875 -1.421875 32.421875 -1.421875 \nQ 20.0625 -1.421875 12.78125 6.34375 \nQ 5.515625 14.109375 5.515625 27.296875 \nQ 5.515625 40.671875 12.859375 48.328125 \nQ 20.21875 56 33.015625 56 \nQ 37.15625 56 41.109375 55.140625 \nQ 45.0625 54.296875 48.78125 52.59375 \nz\n\" id=\"DejaVuSans-99\"/>\n      <path d=\"M 54.890625 33.015625 \nL 54.890625 0 \nL 45.90625 0 \nL 45.90625 32.71875 \nQ 45.90625 40.484375 42.875 44.328125 \nQ 39.84375 48.1875 33.796875 48.1875 \nQ 26.515625 48.1875 22.3125 43.546875 \nQ 18.109375 38.921875 18.109375 30.90625 \nL 18.109375 0 \nL 9.078125 0 \nL 9.078125 75.984375 \nL 18.109375 75.984375 \nL 18.109375 46.1875 \nQ 21.34375 51.125 25.703125 53.5625 \nQ 30.078125 56 35.796875 56 \nQ 45.21875 56 50.046875 50.171875 \nQ 54.890625 44.34375 54.890625 33.015625 \nz\n\" id=\"DejaVuSans-104\"/>\n      <path d=\"M 44.28125 53.078125 \nL 44.28125 44.578125 \nQ 40.484375 46.53125 36.375 47.5 \nQ 32.28125 48.484375 27.875 48.484375 \nQ 21.1875 48.484375 17.84375 46.4375 \nQ 14.5 44.390625 14.5 40.28125 \nQ 14.5 37.15625 16.890625 35.375 \nQ 19.28125 33.59375 26.515625 31.984375 \nL 29.59375 31.296875 \nQ 39.15625 29.25 43.1875 25.515625 \nQ 47.21875 21.78125 47.21875 15.09375 \nQ 47.21875 7.46875 41.1875 3.015625 \nQ 35.15625 -1.421875 24.609375 -1.421875 \nQ 20.21875 -1.421875 15.453125 -0.5625 \nQ 10.6875 0.296875 5.421875 2 \nL 5.421875 11.28125 \nQ 10.40625 8.6875 15.234375 7.390625 \nQ 20.0625 6.109375 24.8125 6.109375 \nQ 31.15625 6.109375 34.5625 8.28125 \nQ 37.984375 10.453125 37.984375 14.40625 \nQ 37.984375 18.0625 35.515625 20.015625 \nQ 33.0625 21.96875 24.703125 23.78125 \nL 21.578125 24.515625 \nQ 13.234375 26.265625 9.515625 29.90625 \nQ 5.8125 33.546875 5.8125 39.890625 \nQ 5.8125 47.609375 11.28125 51.796875 \nQ 16.75 56 26.8125 56 \nQ 31.78125 56 36.171875 55.265625 \nQ 40.578125 54.546875 44.28125 53.078125 \nz\n\" id=\"DejaVuSans-115\"/>\n     </defs>\n     <g transform=\"translate(228.774716 322.394687)scale(0.1 -0.1)\">\n      <use xlink:href=\"#DejaVuSans-69\"/>\n      <use x=\"63.183594\" xlink:href=\"#DejaVuSans-112\"/>\n      <use x=\"126.660156\" xlink:href=\"#DejaVuSans-111\"/>\n      <use x=\"187.841797\" xlink:href=\"#DejaVuSans-99\"/>\n      <use x=\"242.822266\" xlink:href=\"#DejaVuSans-104\"/>\n      <use x=\"306.201172\" xlink:href=\"#DejaVuSans-115\"/>\n     </g>\n    </g>\n   </g>\n   <g id=\"matplotlib.axis_2\">\n    <g id=\"ytick_1\">\n     <g id=\"line2d_6\">\n      <defs>\n       <path d=\"M 0 0 \nL -3.5 0 \n\" id=\"m5370387750\" style=\"stroke:#000000;stroke-width:0.8;\"/>\n      </defs>\n      <g>\n       <use style=\"stroke:#000000;stroke-width:0.8;\" x=\"43.78125\" xlink:href=\"#m5370387750\" y=\"279.319137\"/>\n      </g>\n     </g>\n     <g id=\"text_7\">\n      <!-- 0.4 -->\n      <defs>\n       <path d=\"M 10.6875 12.40625 \nL 21 12.40625 \nL 21 0 \nL 10.6875 0 \nz\n\" id=\"DejaVuSans-46\"/>\n      </defs>\n      <g transform=\"translate(20.878125 283.118356)scale(0.1 -0.1)\">\n       <use xlink:href=\"#DejaVuSans-48\"/>\n       <use x=\"63.623047\" xlink:href=\"#DejaVuSans-46\"/>\n       <use x=\"95.410156\" xlink:href=\"#DejaVuSans-52\"/>\n      </g>\n     </g>\n    </g>\n    <g id=\"ytick_2\">\n     <g id=\"line2d_7\">\n      <g>\n       <use style=\"stroke:#000000;stroke-width:0.8;\" x=\"43.78125\" xlink:href=\"#m5370387750\" y=\"233.70338\"/>\n      </g>\n     </g>\n     <g id=\"text_8\">\n      <!-- 0.6 -->\n      <g transform=\"translate(20.878125 237.502598)scale(0.1 -0.1)\">\n       <use xlink:href=\"#DejaVuSans-48\"/>\n       <use x=\"63.623047\" xlink:href=\"#DejaVuSans-46\"/>\n       <use x=\"95.410156\" xlink:href=\"#DejaVuSans-54\"/>\n      </g>\n     </g>\n    </g>\n    <g id=\"ytick_3\">\n     <g id=\"line2d_8\">\n      <g>\n       <use style=\"stroke:#000000;stroke-width:0.8;\" x=\"43.78125\" xlink:href=\"#m5370387750\" y=\"188.087622\"/>\n      </g>\n     </g>\n     <g id=\"text_9\">\n      <!-- 0.8 -->\n      <g transform=\"translate(20.878125 191.886841)scale(0.1 -0.1)\">\n       <use xlink:href=\"#DejaVuSans-48\"/>\n       <use x=\"63.623047\" xlink:href=\"#DejaVuSans-46\"/>\n       <use x=\"95.410156\" xlink:href=\"#DejaVuSans-56\"/>\n      </g>\n     </g>\n    </g>\n    <g id=\"ytick_4\">\n     <g id=\"line2d_9\">\n      <g>\n       <use style=\"stroke:#000000;stroke-width:0.8;\" x=\"43.78125\" xlink:href=\"#m5370387750\" y=\"142.471864\"/>\n      </g>\n     </g>\n     <g id=\"text_10\">\n      <!-- 1.0 -->\n      <defs>\n       <path d=\"M 12.40625 8.296875 \nL 28.515625 8.296875 \nL 28.515625 63.921875 \nL 10.984375 60.40625 \nL 10.984375 69.390625 \nL 28.421875 72.90625 \nL 38.28125 72.90625 \nL 38.28125 8.296875 \nL 54.390625 8.296875 \nL 54.390625 0 \nL 12.40625 0 \nz\n\" id=\"DejaVuSans-49\"/>\n      </defs>\n      <g transform=\"translate(20.878125 146.271083)scale(0.1 -0.1)\">\n       <use xlink:href=\"#DejaVuSans-49\"/>\n       <use x=\"63.623047\" xlink:href=\"#DejaVuSans-46\"/>\n       <use x=\"95.410156\" xlink:href=\"#DejaVuSans-48\"/>\n      </g>\n     </g>\n    </g>\n    <g id=\"ytick_5\">\n     <g id=\"line2d_10\">\n      <g>\n       <use style=\"stroke:#000000;stroke-width:0.8;\" x=\"43.78125\" xlink:href=\"#m5370387750\" y=\"96.856107\"/>\n      </g>\n     </g>\n     <g id=\"text_11\">\n      <!-- 1.2 -->\n      <g transform=\"translate(20.878125 100.655326)scale(0.1 -0.1)\">\n       <use xlink:href=\"#DejaVuSans-49\"/>\n       <use x=\"63.623047\" xlink:href=\"#DejaVuSans-46\"/>\n       <use x=\"95.410156\" xlink:href=\"#DejaVuSans-50\"/>\n      </g>\n     </g>\n    </g>\n    <g id=\"ytick_6\">\n     <g id=\"line2d_11\">\n      <g>\n       <use style=\"stroke:#000000;stroke-width:0.8;\" x=\"43.78125\" xlink:href=\"#m5370387750\" y=\"51.240349\"/>\n      </g>\n     </g>\n     <g id=\"text_12\">\n      <!-- 1.4 -->\n      <g transform=\"translate(20.878125 55.039568)scale(0.1 -0.1)\">\n       <use xlink:href=\"#DejaVuSans-49\"/>\n       <use x=\"63.623047\" xlink:href=\"#DejaVuSans-46\"/>\n       <use x=\"95.410156\" xlink:href=\"#DejaVuSans-52\"/>\n      </g>\n     </g>\n    </g>\n    <g id=\"text_13\">\n     <!-- Loss (CEL) -->\n     <defs>\n      <path d=\"M 9.8125 72.90625 \nL 19.671875 72.90625 \nL 19.671875 8.296875 \nL 55.171875 8.296875 \nL 55.171875 0 \nL 9.8125 0 \nz\n\" id=\"DejaVuSans-76\"/>\n      <path id=\"DejaVuSans-32\"/>\n      <path d=\"M 31 75.875 \nQ 24.46875 64.65625 21.28125 53.65625 \nQ 18.109375 42.671875 18.109375 31.390625 \nQ 18.109375 20.125 21.3125 9.0625 \nQ 24.515625 -2 31 -13.1875 \nL 23.1875 -13.1875 \nQ 15.875 -1.703125 12.234375 9.375 \nQ 8.59375 20.453125 8.59375 31.390625 \nQ 8.59375 42.28125 12.203125 53.3125 \nQ 15.828125 64.359375 23.1875 75.875 \nz\n\" id=\"DejaVuSans-40\"/>\n      <path d=\"M 64.40625 67.28125 \nL 64.40625 56.890625 \nQ 59.421875 61.53125 53.78125 63.8125 \nQ 48.140625 66.109375 41.796875 66.109375 \nQ 29.296875 66.109375 22.65625 58.46875 \nQ 16.015625 50.828125 16.015625 36.375 \nQ 16.015625 21.96875 22.65625 14.328125 \nQ 29.296875 6.6875 41.796875 6.6875 \nQ 48.140625 6.6875 53.78125 8.984375 \nQ 59.421875 11.28125 64.40625 15.921875 \nL 64.40625 5.609375 \nQ 59.234375 2.09375 53.4375 0.328125 \nQ 47.65625 -1.421875 41.21875 -1.421875 \nQ 24.65625 -1.421875 15.125 8.703125 \nQ 5.609375 18.84375 5.609375 36.375 \nQ 5.609375 53.953125 15.125 64.078125 \nQ 24.65625 74.21875 41.21875 74.21875 \nQ 47.75 74.21875 53.53125 72.484375 \nQ 59.328125 70.75 64.40625 67.28125 \nz\n\" id=\"DejaVuSans-67\"/>\n      <path d=\"M 8.015625 75.875 \nL 15.828125 75.875 \nQ 23.140625 64.359375 26.78125 53.3125 \nQ 30.421875 42.28125 30.421875 31.390625 \nQ 30.421875 20.453125 26.78125 9.375 \nQ 23.140625 -1.703125 15.828125 -13.1875 \nL 8.015625 -13.1875 \nQ 14.5 -2 17.703125 9.0625 \nQ 20.90625 20.125 20.90625 31.390625 \nQ 20.90625 42.671875 17.703125 53.65625 \nQ 14.5 64.65625 8.015625 75.875 \nz\n\" id=\"DejaVuSans-41\"/>\n     </defs>\n     <g transform=\"translate(14.798438 184.112656)rotate(-90)scale(0.1 -0.1)\">\n      <use xlink:href=\"#DejaVuSans-76\"/>\n      <use x=\"53.962891\" xlink:href=\"#DejaVuSans-111\"/>\n      <use x=\"115.144531\" xlink:href=\"#DejaVuSans-115\"/>\n      <use x=\"167.244141\" xlink:href=\"#DejaVuSans-115\"/>\n      <use x=\"219.34375\" xlink:href=\"#DejaVuSans-32\"/>\n      <use x=\"251.130859\" xlink:href=\"#DejaVuSans-40\"/>\n      <use x=\"290.144531\" xlink:href=\"#DejaVuSans-67\"/>\n      <use x=\"359.96875\" xlink:href=\"#DejaVuSans-69\"/>\n      <use x=\"423.152344\" xlink:href=\"#DejaVuSans-76\"/>\n      <use x=\"478.865234\" xlink:href=\"#DejaVuSans-41\"/>\n     </g>\n    </g>\n   </g>\n   <g id=\"line2d_12\">\n    <path clip-path=\"url(#p766160b6c1)\" d=\"M 62.227531 34.67267 \nL 103.219267 125.51214 \nL 144.211002 166.360856 \nL 185.202738 194.929609 \nL 226.194473 217.325239 \nL 267.186209 233.501196 \nL 308.177944 248.54073 \nL 349.16968 262.555486 \nL 390.161415 272.983128 \nL 431.153151 281.76358 \n\" style=\"fill:none;stroke:#1f77b4;stroke-linecap:square;stroke-width:1.5;\"/>\n    <defs>\n     <path d=\"M -3 3 \nL 3 3 \nL 3 -3 \nL -3 -3 \nz\n\" id=\"me39fa3389e\" style=\"stroke:#1f77b4;stroke-linejoin:miter;\"/>\n    </defs>\n    <g clip-path=\"url(#p766160b6c1)\">\n     <use style=\"fill:#1f77b4;stroke:#1f77b4;stroke-linejoin:miter;\" x=\"62.227531\" xlink:href=\"#me39fa3389e\" y=\"34.67267\"/>\n     <use style=\"fill:#1f77b4;stroke:#1f77b4;stroke-linejoin:miter;\" x=\"103.219267\" xlink:href=\"#me39fa3389e\" y=\"125.51214\"/>\n     <use style=\"fill:#1f77b4;stroke:#1f77b4;stroke-linejoin:miter;\" x=\"144.211002\" xlink:href=\"#me39fa3389e\" y=\"166.360856\"/>\n     <use style=\"fill:#1f77b4;stroke:#1f77b4;stroke-linejoin:miter;\" x=\"185.202738\" xlink:href=\"#me39fa3389e\" y=\"194.929609\"/>\n     <use style=\"fill:#1f77b4;stroke:#1f77b4;stroke-linejoin:miter;\" x=\"226.194473\" xlink:href=\"#me39fa3389e\" y=\"217.325239\"/>\n     <use style=\"fill:#1f77b4;stroke:#1f77b4;stroke-linejoin:miter;\" x=\"267.186209\" xlink:href=\"#me39fa3389e\" y=\"233.501196\"/>\n     <use style=\"fill:#1f77b4;stroke:#1f77b4;stroke-linejoin:miter;\" x=\"308.177944\" xlink:href=\"#me39fa3389e\" y=\"248.54073\"/>\n     <use style=\"fill:#1f77b4;stroke:#1f77b4;stroke-linejoin:miter;\" x=\"349.16968\" xlink:href=\"#me39fa3389e\" y=\"262.555486\"/>\n     <use style=\"fill:#1f77b4;stroke:#1f77b4;stroke-linejoin:miter;\" x=\"390.161415\" xlink:href=\"#me39fa3389e\" y=\"272.983128\"/>\n     <use style=\"fill:#1f77b4;stroke:#1f77b4;stroke-linejoin:miter;\" x=\"431.153151\" xlink:href=\"#me39fa3389e\" y=\"281.76358\"/>\n    </g>\n   </g>\n   <g id=\"line2d_13\">\n    <path clip-path=\"url(#p766160b6c1)\" d=\"M 62.227531 120.847006 \nL 103.219267 176.401522 \nL 144.211002 192.188757 \nL 185.202738 205.056166 \nL 226.194473 213.698755 \nL 267.186209 213.652099 \nL 308.177944 196.508318 \nL 349.16968 211.616912 \nL 390.161415 203.635739 \nL 431.153151 202.962007 \n\" style=\"fill:none;stroke:#ff7f0e;stroke-linecap:square;stroke-width:1.5;\"/>\n    <defs>\n     <path d=\"M 0 3 \nC 0.795609 3 1.55874 2.683901 2.12132 2.12132 \nC 2.683901 1.55874 3 0.795609 3 0 \nC 3 -0.795609 2.683901 -1.55874 2.12132 -2.12132 \nC 1.55874 -2.683901 0.795609 -3 0 -3 \nC -0.795609 -3 -1.55874 -2.683901 -2.12132 -2.12132 \nC -2.683901 -1.55874 -3 -0.795609 -3 0 \nC -3 0.795609 -2.683901 1.55874 -2.12132 2.12132 \nC -1.55874 2.683901 -0.795609 3 0 3 \nz\n\" id=\"m5aed6368fb\" style=\"stroke:#ff7f0e;\"/>\n    </defs>\n    <g clip-path=\"url(#p766160b6c1)\">\n     <use style=\"fill:#ff7f0e;stroke:#ff7f0e;\" x=\"62.227531\" xlink:href=\"#m5aed6368fb\" y=\"120.847006\"/>\n     <use style=\"fill:#ff7f0e;stroke:#ff7f0e;\" x=\"103.219267\" xlink:href=\"#m5aed6368fb\" y=\"176.401522\"/>\n     <use style=\"fill:#ff7f0e;stroke:#ff7f0e;\" x=\"144.211002\" xlink:href=\"#m5aed6368fb\" y=\"192.188757\"/>\n     <use style=\"fill:#ff7f0e;stroke:#ff7f0e;\" x=\"185.202738\" xlink:href=\"#m5aed6368fb\" y=\"205.056166\"/>\n     <use style=\"fill:#ff7f0e;stroke:#ff7f0e;\" x=\"226.194473\" xlink:href=\"#m5aed6368fb\" y=\"213.698755\"/>\n     <use style=\"fill:#ff7f0e;stroke:#ff7f0e;\" x=\"267.186209\" xlink:href=\"#m5aed6368fb\" y=\"213.652099\"/>\n     <use style=\"fill:#ff7f0e;stroke:#ff7f0e;\" x=\"308.177944\" xlink:href=\"#m5aed6368fb\" y=\"196.508318\"/>\n     <use style=\"fill:#ff7f0e;stroke:#ff7f0e;\" x=\"349.16968\" xlink:href=\"#m5aed6368fb\" y=\"211.616912\"/>\n     <use style=\"fill:#ff7f0e;stroke:#ff7f0e;\" x=\"390.161415\" xlink:href=\"#m5aed6368fb\" y=\"203.635739\"/>\n     <use style=\"fill:#ff7f0e;stroke:#ff7f0e;\" x=\"431.153151\" xlink:href=\"#m5aed6368fb\" y=\"202.962007\"/>\n    </g>\n   </g>\n   <g id=\"line2d_14\">\n    <defs>\n     <path d=\"M 0 -7.5 \nL -1.683855 -2.317627 \nL -7.132924 -2.317627 \nL -2.724534 0.885255 \nL -4.408389 6.067627 \nL -0 2.864745 \nL 4.408389 6.067627 \nL 2.724534 0.885255 \nL 7.132924 -2.317627 \nL 1.683855 -2.317627 \nz\n\" id=\"mc1d68b7247\" style=\"stroke:#ff0000;stroke-linejoin:bevel;\"/>\n    </defs>\n    <g clip-path=\"url(#p766160b6c1)\">\n     <use style=\"fill:#ff0000;stroke:#ff0000;stroke-linejoin:bevel;\" x=\"431.153151\" xlink:href=\"#mc1d68b7247\" y=\"206.075595\"/>\n    </g>\n   </g>\n   <g id=\"patch_3\">\n    <path d=\"M 43.78125 294.118125 \nL 43.78125 22.318125 \n\" style=\"fill:none;stroke:#000000;stroke-linecap:square;stroke-linejoin:miter;stroke-width:0.8;\"/>\n   </g>\n   <g id=\"patch_4\">\n    <path d=\"M 449.599432 294.118125 \nL 449.599432 22.318125 \n\" style=\"fill:none;stroke:#000000;stroke-linecap:square;stroke-linejoin:miter;stroke-width:0.8;\"/>\n   </g>\n   <g id=\"patch_5\">\n    <path d=\"M 43.78125 294.118125 \nL 449.599432 294.118125 \n\" style=\"fill:none;stroke:#000000;stroke-linecap:square;stroke-linejoin:miter;stroke-width:0.8;\"/>\n   </g>\n   <g id=\"patch_6\">\n    <path d=\"M 43.78125 22.318125 \nL 449.599432 22.318125 \n\" style=\"fill:none;stroke:#000000;stroke-linecap:square;stroke-linejoin:miter;stroke-width:0.8;\"/>\n   </g>\n   <g id=\"text_14\">\n    <!-- Model loss -->\n    <defs>\n     <path d=\"M 9.8125 72.90625 \nL 24.515625 72.90625 \nL 43.109375 23.296875 \nL 61.8125 72.90625 \nL 76.515625 72.90625 \nL 76.515625 0 \nL 66.890625 0 \nL 66.890625 64.015625 \nL 48.09375 14.015625 \nL 38.1875 14.015625 \nL 19.390625 64.015625 \nL 19.390625 0 \nL 9.8125 0 \nz\n\" id=\"DejaVuSans-77\"/>\n     <path d=\"M 45.40625 46.390625 \nL 45.40625 75.984375 \nL 54.390625 75.984375 \nL 54.390625 0 \nL 45.40625 0 \nL 45.40625 8.203125 \nQ 42.578125 3.328125 38.25 0.953125 \nQ 33.9375 -1.421875 27.875 -1.421875 \nQ 17.96875 -1.421875 11.734375 6.484375 \nQ 5.515625 14.40625 5.515625 27.296875 \nQ 5.515625 40.1875 11.734375 48.09375 \nQ 17.96875 56 27.875 56 \nQ 33.9375 56 38.25 53.625 \nQ 42.578125 51.265625 45.40625 46.390625 \nz\nM 14.796875 27.296875 \nQ 14.796875 17.390625 18.875 11.75 \nQ 22.953125 6.109375 30.078125 6.109375 \nQ 37.203125 6.109375 41.296875 11.75 \nQ 45.40625 17.390625 45.40625 27.296875 \nQ 45.40625 37.203125 41.296875 42.84375 \nQ 37.203125 48.484375 30.078125 48.484375 \nQ 22.953125 48.484375 18.875 42.84375 \nQ 14.796875 37.203125 14.796875 27.296875 \nz\n\" id=\"DejaVuSans-100\"/>\n     <path d=\"M 56.203125 29.59375 \nL 56.203125 25.203125 \nL 14.890625 25.203125 \nQ 15.484375 15.921875 20.484375 11.0625 \nQ 25.484375 6.203125 34.421875 6.203125 \nQ 39.59375 6.203125 44.453125 7.46875 \nQ 49.3125 8.734375 54.109375 11.28125 \nL 54.109375 2.78125 \nQ 49.265625 0.734375 44.1875 -0.34375 \nQ 39.109375 -1.421875 33.890625 -1.421875 \nQ 20.796875 -1.421875 13.15625 6.1875 \nQ 5.515625 13.8125 5.515625 26.8125 \nQ 5.515625 40.234375 12.765625 48.109375 \nQ 20.015625 56 32.328125 56 \nQ 43.359375 56 49.78125 48.890625 \nQ 56.203125 41.796875 56.203125 29.59375 \nz\nM 47.21875 32.234375 \nQ 47.125 39.59375 43.09375 43.984375 \nQ 39.0625 48.390625 32.421875 48.390625 \nQ 24.90625 48.390625 20.390625 44.140625 \nQ 15.875 39.890625 15.1875 32.171875 \nz\n\" id=\"DejaVuSans-101\"/>\n     <path d=\"M 9.421875 75.984375 \nL 18.40625 75.984375 \nL 18.40625 0 \nL 9.421875 0 \nz\n\" id=\"DejaVuSans-108\"/>\n    </defs>\n    <g transform=\"translate(215.178153 16.318125)scale(0.12 -0.12)\">\n     <use xlink:href=\"#DejaVuSans-77\"/>\n     <use x=\"86.279297\" xlink:href=\"#DejaVuSans-111\"/>\n     <use x=\"147.460938\" xlink:href=\"#DejaVuSans-100\"/>\n     <use x=\"210.9375\" xlink:href=\"#DejaVuSans-101\"/>\n     <use x=\"272.460938\" xlink:href=\"#DejaVuSans-108\"/>\n     <use x=\"300.244141\" xlink:href=\"#DejaVuSans-32\"/>\n     <use x=\"332.03125\" xlink:href=\"#DejaVuSans-108\"/>\n     <use x=\"359.814453\" xlink:href=\"#DejaVuSans-111\"/>\n     <use x=\"420.996094\" xlink:href=\"#DejaVuSans-115\"/>\n     <use x=\"473.095703\" xlink:href=\"#DejaVuSans-115\"/>\n    </g>\n   </g>\n  </g>\n  <g id=\"axes_2\">\n   <g id=\"patch_7\">\n    <path d=\"M 530.763068 294.118125 \nL 936.58125 294.118125 \nL 936.58125 22.318125 \nL 530.763068 22.318125 \nz\n\" style=\"fill:#ffffff;\"/>\n   </g>\n   <g id=\"matplotlib.axis_3\">\n    <g id=\"xtick_6\">\n     <g id=\"line2d_15\">\n      <g>\n       <use style=\"stroke:#000000;stroke-width:0.8;\" x=\"549.209349\" xlink:href=\"#me8f4b6dee2\" y=\"294.118125\"/>\n      </g>\n     </g>\n     <g id=\"text_15\">\n      <!-- 0 -->\n      <g transform=\"translate(546.028099 308.716563)scale(0.1 -0.1)\">\n       <use xlink:href=\"#DejaVuSans-48\"/>\n      </g>\n     </g>\n    </g>\n    <g id=\"xtick_7\">\n     <g id=\"line2d_16\">\n      <g>\n       <use style=\"stroke:#000000;stroke-width:0.8;\" x=\"631.19282\" xlink:href=\"#me8f4b6dee2\" y=\"294.118125\"/>\n      </g>\n     </g>\n     <g id=\"text_16\">\n      <!-- 2 -->\n      <g transform=\"translate(628.01157 308.716563)scale(0.1 -0.1)\">\n       <use xlink:href=\"#DejaVuSans-50\"/>\n      </g>\n     </g>\n    </g>\n    <g id=\"xtick_8\">\n     <g id=\"line2d_17\">\n      <g>\n       <use style=\"stroke:#000000;stroke-width:0.8;\" x=\"713.176291\" xlink:href=\"#me8f4b6dee2\" y=\"294.118125\"/>\n      </g>\n     </g>\n     <g id=\"text_17\">\n      <!-- 4 -->\n      <g transform=\"translate(709.995041 308.716563)scale(0.1 -0.1)\">\n       <use xlink:href=\"#DejaVuSans-52\"/>\n      </g>\n     </g>\n    </g>\n    <g id=\"xtick_9\">\n     <g id=\"line2d_18\">\n      <g>\n       <use style=\"stroke:#000000;stroke-width:0.8;\" x=\"795.159762\" xlink:href=\"#me8f4b6dee2\" y=\"294.118125\"/>\n      </g>\n     </g>\n     <g id=\"text_18\">\n      <!-- 6 -->\n      <g transform=\"translate(791.978512 308.716563)scale(0.1 -0.1)\">\n       <use xlink:href=\"#DejaVuSans-54\"/>\n      </g>\n     </g>\n    </g>\n    <g id=\"xtick_10\">\n     <g id=\"line2d_19\">\n      <g>\n       <use style=\"stroke:#000000;stroke-width:0.8;\" x=\"877.143233\" xlink:href=\"#me8f4b6dee2\" y=\"294.118125\"/>\n      </g>\n     </g>\n     <g id=\"text_19\">\n      <!-- 8 -->\n      <g transform=\"translate(873.961983 308.716563)scale(0.1 -0.1)\">\n       <use xlink:href=\"#DejaVuSans-56\"/>\n      </g>\n     </g>\n    </g>\n    <g id=\"text_20\">\n     <!-- Epochs -->\n     <g transform=\"translate(715.756534 322.394687)scale(0.1 -0.1)\">\n      <use xlink:href=\"#DejaVuSans-69\"/>\n      <use x=\"63.183594\" xlink:href=\"#DejaVuSans-112\"/>\n      <use x=\"126.660156\" xlink:href=\"#DejaVuSans-111\"/>\n      <use x=\"187.841797\" xlink:href=\"#DejaVuSans-99\"/>\n      <use x=\"242.822266\" xlink:href=\"#DejaVuSans-104\"/>\n      <use x=\"306.201172\" xlink:href=\"#DejaVuSans-115\"/>\n     </g>\n    </g>\n   </g>\n   <g id=\"matplotlib.axis_4\">\n    <g id=\"ytick_7\">\n     <g id=\"line2d_20\">\n      <g>\n       <use style=\"stroke:#000000;stroke-width:0.8;\" x=\"530.763068\" xlink:href=\"#m5370387750\" y=\"264.257163\"/>\n      </g>\n     </g>\n     <g id=\"text_21\">\n      <!-- 50 -->\n      <defs>\n       <path d=\"M 10.796875 72.90625 \nL 49.515625 72.90625 \nL 49.515625 64.59375 \nL 19.828125 64.59375 \nL 19.828125 46.734375 \nQ 21.96875 47.46875 24.109375 47.828125 \nQ 26.265625 48.1875 28.421875 48.1875 \nQ 40.625 48.1875 47.75 41.5 \nQ 54.890625 34.8125 54.890625 23.390625 \nQ 54.890625 11.625 47.5625 5.09375 \nQ 40.234375 -1.421875 26.90625 -1.421875 \nQ 22.3125 -1.421875 17.546875 -0.640625 \nQ 12.796875 0.140625 7.71875 1.703125 \nL 7.71875 11.625 \nQ 12.109375 9.234375 16.796875 8.0625 \nQ 21.484375 6.890625 26.703125 6.890625 \nQ 35.15625 6.890625 40.078125 11.328125 \nQ 45.015625 15.765625 45.015625 23.390625 \nQ 45.015625 31 40.078125 35.4375 \nQ 35.15625 39.890625 26.703125 39.890625 \nQ 22.75 39.890625 18.8125 39.015625 \nQ 14.890625 38.140625 10.796875 36.28125 \nz\n\" id=\"DejaVuSans-53\"/>\n      </defs>\n      <g transform=\"translate(511.038068 268.056382)scale(0.1 -0.1)\">\n       <use xlink:href=\"#DejaVuSans-53\"/>\n       <use x=\"63.623047\" xlink:href=\"#DejaVuSans-48\"/>\n      </g>\n     </g>\n    </g>\n    <g id=\"ytick_8\">\n     <g id=\"line2d_21\">\n      <g>\n       <use style=\"stroke:#000000;stroke-width:0.8;\" x=\"530.763068\" xlink:href=\"#m5370387750\" y=\"233.57551\"/>\n      </g>\n     </g>\n     <g id=\"text_22\">\n      <!-- 55 -->\n      <g transform=\"translate(511.038068 237.374729)scale(0.1 -0.1)\">\n       <use xlink:href=\"#DejaVuSans-53\"/>\n       <use x=\"63.623047\" xlink:href=\"#DejaVuSans-53\"/>\n      </g>\n     </g>\n    </g>\n    <g id=\"ytick_9\">\n     <g id=\"line2d_22\">\n      <g>\n       <use style=\"stroke:#000000;stroke-width:0.8;\" x=\"530.763068\" xlink:href=\"#m5370387750\" y=\"202.893858\"/>\n      </g>\n     </g>\n     <g id=\"text_23\">\n      <!-- 60 -->\n      <g transform=\"translate(511.038068 206.693076)scale(0.1 -0.1)\">\n       <use xlink:href=\"#DejaVuSans-54\"/>\n       <use x=\"63.623047\" xlink:href=\"#DejaVuSans-48\"/>\n      </g>\n     </g>\n    </g>\n    <g id=\"ytick_10\">\n     <g id=\"line2d_23\">\n      <g>\n       <use style=\"stroke:#000000;stroke-width:0.8;\" x=\"530.763068\" xlink:href=\"#m5370387750\" y=\"172.212205\"/>\n      </g>\n     </g>\n     <g id=\"text_24\">\n      <!-- 65 -->\n      <g transform=\"translate(511.038068 176.011424)scale(0.1 -0.1)\">\n       <use xlink:href=\"#DejaVuSans-54\"/>\n       <use x=\"63.623047\" xlink:href=\"#DejaVuSans-53\"/>\n      </g>\n     </g>\n    </g>\n    <g id=\"ytick_11\">\n     <g id=\"line2d_24\">\n      <g>\n       <use style=\"stroke:#000000;stroke-width:0.8;\" x=\"530.763068\" xlink:href=\"#m5370387750\" y=\"141.530552\"/>\n      </g>\n     </g>\n     <g id=\"text_25\">\n      <!-- 70 -->\n      <defs>\n       <path d=\"M 8.203125 72.90625 \nL 55.078125 72.90625 \nL 55.078125 68.703125 \nL 28.609375 0 \nL 18.3125 0 \nL 43.21875 64.59375 \nL 8.203125 64.59375 \nz\n\" id=\"DejaVuSans-55\"/>\n      </defs>\n      <g transform=\"translate(511.038068 145.329771)scale(0.1 -0.1)\">\n       <use xlink:href=\"#DejaVuSans-55\"/>\n       <use x=\"63.623047\" xlink:href=\"#DejaVuSans-48\"/>\n      </g>\n     </g>\n    </g>\n    <g id=\"ytick_12\">\n     <g id=\"line2d_25\">\n      <g>\n       <use style=\"stroke:#000000;stroke-width:0.8;\" x=\"530.763068\" xlink:href=\"#m5370387750\" y=\"110.848899\"/>\n      </g>\n     </g>\n     <g id=\"text_26\">\n      <!-- 75 -->\n      <g transform=\"translate(511.038068 114.648118)scale(0.1 -0.1)\">\n       <use xlink:href=\"#DejaVuSans-55\"/>\n       <use x=\"63.623047\" xlink:href=\"#DejaVuSans-53\"/>\n      </g>\n     </g>\n    </g>\n    <g id=\"ytick_13\">\n     <g id=\"line2d_26\">\n      <g>\n       <use style=\"stroke:#000000;stroke-width:0.8;\" x=\"530.763068\" xlink:href=\"#m5370387750\" y=\"80.167247\"/>\n      </g>\n     </g>\n     <g id=\"text_27\">\n      <!-- 80 -->\n      <g transform=\"translate(511.038068 83.966466)scale(0.1 -0.1)\">\n       <use xlink:href=\"#DejaVuSans-56\"/>\n       <use x=\"63.623047\" xlink:href=\"#DejaVuSans-48\"/>\n      </g>\n     </g>\n    </g>\n    <g id=\"ytick_14\">\n     <g id=\"line2d_27\">\n      <g>\n       <use style=\"stroke:#000000;stroke-width:0.8;\" x=\"530.763068\" xlink:href=\"#m5370387750\" y=\"49.485594\"/>\n      </g>\n     </g>\n     <g id=\"text_28\">\n      <!-- 85 -->\n      <g transform=\"translate(511.038068 53.284813)scale(0.1 -0.1)\">\n       <use xlink:href=\"#DejaVuSans-56\"/>\n       <use x=\"63.623047\" xlink:href=\"#DejaVuSans-53\"/>\n      </g>\n     </g>\n    </g>\n    <g id=\"text_29\">\n     <!-- Accuracy (%) -->\n     <defs>\n      <path d=\"M 34.1875 63.1875 \nL 20.796875 26.90625 \nL 47.609375 26.90625 \nz\nM 28.609375 72.90625 \nL 39.796875 72.90625 \nL 67.578125 0 \nL 57.328125 0 \nL 50.6875 18.703125 \nL 17.828125 18.703125 \nL 11.1875 0 \nL 0.78125 0 \nz\n\" id=\"DejaVuSans-65\"/>\n      <path d=\"M 8.5 21.578125 \nL 8.5 54.6875 \nL 17.484375 54.6875 \nL 17.484375 21.921875 \nQ 17.484375 14.15625 20.5 10.265625 \nQ 23.53125 6.390625 29.59375 6.390625 \nQ 36.859375 6.390625 41.078125 11.03125 \nQ 45.3125 15.671875 45.3125 23.6875 \nL 45.3125 54.6875 \nL 54.296875 54.6875 \nL 54.296875 0 \nL 45.3125 0 \nL 45.3125 8.40625 \nQ 42.046875 3.421875 37.71875 1 \nQ 33.40625 -1.421875 27.6875 -1.421875 \nQ 18.265625 -1.421875 13.375 4.4375 \nQ 8.5 10.296875 8.5 21.578125 \nz\nM 31.109375 56 \nz\n\" id=\"DejaVuSans-117\"/>\n      <path d=\"M 41.109375 46.296875 \nQ 39.59375 47.171875 37.8125 47.578125 \nQ 36.03125 48 33.890625 48 \nQ 26.265625 48 22.1875 43.046875 \nQ 18.109375 38.09375 18.109375 28.8125 \nL 18.109375 0 \nL 9.078125 0 \nL 9.078125 54.6875 \nL 18.109375 54.6875 \nL 18.109375 46.1875 \nQ 20.953125 51.171875 25.484375 53.578125 \nQ 30.03125 56 36.53125 56 \nQ 37.453125 56 38.578125 55.875 \nQ 39.703125 55.765625 41.0625 55.515625 \nz\n\" id=\"DejaVuSans-114\"/>\n      <path d=\"M 34.28125 27.484375 \nQ 23.390625 27.484375 19.1875 25 \nQ 14.984375 22.515625 14.984375 16.5 \nQ 14.984375 11.71875 18.140625 8.90625 \nQ 21.296875 6.109375 26.703125 6.109375 \nQ 34.1875 6.109375 38.703125 11.40625 \nQ 43.21875 16.703125 43.21875 25.484375 \nL 43.21875 27.484375 \nz\nM 52.203125 31.203125 \nL 52.203125 0 \nL 43.21875 0 \nL 43.21875 8.296875 \nQ 40.140625 3.328125 35.546875 0.953125 \nQ 30.953125 -1.421875 24.3125 -1.421875 \nQ 15.921875 -1.421875 10.953125 3.296875 \nQ 6 8.015625 6 15.921875 \nQ 6 25.140625 12.171875 29.828125 \nQ 18.359375 34.515625 30.609375 34.515625 \nL 43.21875 34.515625 \nL 43.21875 35.40625 \nQ 43.21875 41.609375 39.140625 45 \nQ 35.0625 48.390625 27.6875 48.390625 \nQ 23 48.390625 18.546875 47.265625 \nQ 14.109375 46.140625 10.015625 43.890625 \nL 10.015625 52.203125 \nQ 14.9375 54.109375 19.578125 55.046875 \nQ 24.21875 56 28.609375 56 \nQ 40.484375 56 46.34375 49.84375 \nQ 52.203125 43.703125 52.203125 31.203125 \nz\n\" id=\"DejaVuSans-97\"/>\n      <path d=\"M 32.171875 -5.078125 \nQ 28.375 -14.84375 24.75 -17.8125 \nQ 21.140625 -20.796875 15.09375 -20.796875 \nL 7.90625 -20.796875 \nL 7.90625 -13.28125 \nL 13.1875 -13.28125 \nQ 16.890625 -13.28125 18.9375 -11.515625 \nQ 21 -9.765625 23.484375 -3.21875 \nL 25.09375 0.875 \nL 2.984375 54.6875 \nL 12.5 54.6875 \nL 29.59375 11.921875 \nL 46.6875 54.6875 \nL 56.203125 54.6875 \nz\n\" id=\"DejaVuSans-121\"/>\n      <path d=\"M 72.703125 32.078125 \nQ 68.453125 32.078125 66.03125 28.46875 \nQ 63.625 24.859375 63.625 18.40625 \nQ 63.625 12.0625 66.03125 8.421875 \nQ 68.453125 4.78125 72.703125 4.78125 \nQ 76.859375 4.78125 79.265625 8.421875 \nQ 81.6875 12.0625 81.6875 18.40625 \nQ 81.6875 24.8125 79.265625 28.4375 \nQ 76.859375 32.078125 72.703125 32.078125 \nz\nM 72.703125 38.28125 \nQ 80.421875 38.28125 84.953125 32.90625 \nQ 89.5 27.546875 89.5 18.40625 \nQ 89.5 9.28125 84.9375 3.921875 \nQ 80.375 -1.421875 72.703125 -1.421875 \nQ 64.890625 -1.421875 60.34375 3.921875 \nQ 55.8125 9.28125 55.8125 18.40625 \nQ 55.8125 27.59375 60.375 32.9375 \nQ 64.9375 38.28125 72.703125 38.28125 \nz\nM 22.3125 68.015625 \nQ 18.109375 68.015625 15.6875 64.375 \nQ 13.28125 60.75 13.28125 54.390625 \nQ 13.28125 47.953125 15.671875 44.328125 \nQ 18.0625 40.71875 22.3125 40.71875 \nQ 26.5625 40.71875 28.96875 44.328125 \nQ 31.390625 47.953125 31.390625 54.390625 \nQ 31.390625 60.6875 28.953125 64.34375 \nQ 26.515625 68.015625 22.3125 68.015625 \nz\nM 66.40625 74.21875 \nL 74.21875 74.21875 \nL 28.609375 -1.421875 \nL 20.796875 -1.421875 \nz\nM 22.3125 74.21875 \nQ 30.03125 74.21875 34.609375 68.875 \nQ 39.203125 63.53125 39.203125 54.390625 \nQ 39.203125 45.171875 34.640625 39.84375 \nQ 30.078125 34.515625 22.3125 34.515625 \nQ 14.546875 34.515625 10.03125 39.859375 \nQ 5.515625 45.21875 5.515625 54.390625 \nQ 5.515625 63.484375 10.046875 68.84375 \nQ 14.59375 74.21875 22.3125 74.21875 \nz\n\" id=\"DejaVuSans-37\"/>\n     </defs>\n     <g transform=\"translate(504.958381 191.287656)rotate(-90)scale(0.1 -0.1)\">\n      <use xlink:href=\"#DejaVuSans-65\"/>\n      <use x=\"66.658203\" xlink:href=\"#DejaVuSans-99\"/>\n      <use x=\"121.638672\" xlink:href=\"#DejaVuSans-99\"/>\n      <use x=\"176.619141\" xlink:href=\"#DejaVuSans-117\"/>\n      <use x=\"239.998047\" xlink:href=\"#DejaVuSans-114\"/>\n      <use x=\"281.111328\" xlink:href=\"#DejaVuSans-97\"/>\n      <use x=\"342.390625\" xlink:href=\"#DejaVuSans-99\"/>\n      <use x=\"397.371094\" xlink:href=\"#DejaVuSans-121\"/>\n      <use x=\"456.550781\" xlink:href=\"#DejaVuSans-32\"/>\n      <use x=\"488.337891\" xlink:href=\"#DejaVuSans-40\"/>\n      <use x=\"527.351562\" xlink:href=\"#DejaVuSans-37\"/>\n      <use x=\"622.371094\" xlink:href=\"#DejaVuSans-41\"/>\n     </g>\n    </g>\n   </g>\n   <g id=\"line2d_28\">\n    <path clip-path=\"url(#p8f0673a4d0)\" d=\"M 549.209349 281.76358 \nL 590.201085 180.309842 \nL 631.19282 139.02367 \nL 672.184556 113.832093 \nL 713.176291 91.464159 \nL 754.168027 78.978857 \nL 795.159762 64.381992 \nL 836.151498 51.221503 \nL 877.143233 42.799778 \nL 918.134969 34.67267 \n\" style=\"fill:none;stroke:#1f77b4;stroke-linecap:square;stroke-width:1.5;\"/>\n    <g clip-path=\"url(#p8f0673a4d0)\">\n     <use style=\"fill:#1f77b4;stroke:#1f77b4;stroke-linejoin:miter;\" x=\"549.209349\" xlink:href=\"#me39fa3389e\" y=\"281.76358\"/>\n     <use style=\"fill:#1f77b4;stroke:#1f77b4;stroke-linejoin:miter;\" x=\"590.201085\" xlink:href=\"#me39fa3389e\" y=\"180.309842\"/>\n     <use style=\"fill:#1f77b4;stroke:#1f77b4;stroke-linejoin:miter;\" x=\"631.19282\" xlink:href=\"#me39fa3389e\" y=\"139.02367\"/>\n     <use style=\"fill:#1f77b4;stroke:#1f77b4;stroke-linejoin:miter;\" x=\"672.184556\" xlink:href=\"#me39fa3389e\" y=\"113.832093\"/>\n     <use style=\"fill:#1f77b4;stroke:#1f77b4;stroke-linejoin:miter;\" x=\"713.176291\" xlink:href=\"#me39fa3389e\" y=\"91.464159\"/>\n     <use style=\"fill:#1f77b4;stroke:#1f77b4;stroke-linejoin:miter;\" x=\"754.168027\" xlink:href=\"#me39fa3389e\" y=\"78.978857\"/>\n     <use style=\"fill:#1f77b4;stroke:#1f77b4;stroke-linejoin:miter;\" x=\"795.159762\" xlink:href=\"#me39fa3389e\" y=\"64.381992\"/>\n     <use style=\"fill:#1f77b4;stroke:#1f77b4;stroke-linejoin:miter;\" x=\"836.151498\" xlink:href=\"#me39fa3389e\" y=\"51.221503\"/>\n     <use style=\"fill:#1f77b4;stroke:#1f77b4;stroke-linejoin:miter;\" x=\"877.143233\" xlink:href=\"#me39fa3389e\" y=\"42.799778\"/>\n     <use style=\"fill:#1f77b4;stroke:#1f77b4;stroke-linejoin:miter;\" x=\"918.134969\" xlink:href=\"#me39fa3389e\" y=\"34.67267\"/>\n    </g>\n   </g>\n   <g id=\"line2d_29\">\n    <path clip-path=\"url(#p8f0673a4d0)\" d=\"M 549.209349 194.999053 \nL 590.201085 137.87896 \nL 631.19282 116.968891 \nL 672.184556 110.134901 \nL 713.176291 94.936865 \nL 754.168027 96.160882 \nL 795.159762 98.914862 \nL 836.151498 87.184851 \nL 877.143233 92.386865 \nL 918.134969 87.388877 \n\" style=\"fill:none;stroke:#ff7f0e;stroke-linecap:square;stroke-width:1.5;\"/>\n    <g clip-path=\"url(#p8f0673a4d0)\">\n     <use style=\"fill:#ff7f0e;stroke:#ff7f0e;\" x=\"549.209349\" xlink:href=\"#m5aed6368fb\" y=\"194.999053\"/>\n     <use style=\"fill:#ff7f0e;stroke:#ff7f0e;\" x=\"590.201085\" xlink:href=\"#m5aed6368fb\" y=\"137.87896\"/>\n     <use style=\"fill:#ff7f0e;stroke:#ff7f0e;\" x=\"631.19282\" xlink:href=\"#m5aed6368fb\" y=\"116.968891\"/>\n     <use style=\"fill:#ff7f0e;stroke:#ff7f0e;\" x=\"672.184556\" xlink:href=\"#m5aed6368fb\" y=\"110.134901\"/>\n     <use style=\"fill:#ff7f0e;stroke:#ff7f0e;\" x=\"713.176291\" xlink:href=\"#m5aed6368fb\" y=\"94.936865\"/>\n     <use style=\"fill:#ff7f0e;stroke:#ff7f0e;\" x=\"754.168027\" xlink:href=\"#m5aed6368fb\" y=\"96.160882\"/>\n     <use style=\"fill:#ff7f0e;stroke:#ff7f0e;\" x=\"795.159762\" xlink:href=\"#m5aed6368fb\" y=\"98.914862\"/>\n     <use style=\"fill:#ff7f0e;stroke:#ff7f0e;\" x=\"836.151498\" xlink:href=\"#m5aed6368fb\" y=\"87.184851\"/>\n     <use style=\"fill:#ff7f0e;stroke:#ff7f0e;\" x=\"877.143233\" xlink:href=\"#m5aed6368fb\" y=\"92.386865\"/>\n     <use style=\"fill:#ff7f0e;stroke:#ff7f0e;\" x=\"918.134969\" xlink:href=\"#m5aed6368fb\" y=\"87.388877\"/>\n    </g>\n   </g>\n   <g id=\"line2d_30\">\n    <g clip-path=\"url(#p8f0673a4d0)\">\n     <use style=\"fill:#ff0000;stroke:#ff0000;stroke-linejoin:bevel;\" x=\"918.134969\" xlink:href=\"#mc1d68b7247\" y=\"87.22402\"/>\n    </g>\n   </g>\n   <g id=\"patch_8\">\n    <path d=\"M 530.763068 294.118125 \nL 530.763068 22.318125 \n\" style=\"fill:none;stroke:#000000;stroke-linecap:square;stroke-linejoin:miter;stroke-width:0.8;\"/>\n   </g>\n   <g id=\"patch_9\">\n    <path d=\"M 936.58125 294.118125 \nL 936.58125 22.318125 \n\" style=\"fill:none;stroke:#000000;stroke-linecap:square;stroke-linejoin:miter;stroke-width:0.8;\"/>\n   </g>\n   <g id=\"patch_10\">\n    <path d=\"M 530.763068 294.118125 \nL 936.58125 294.118125 \n\" style=\"fill:none;stroke:#000000;stroke-linecap:square;stroke-linejoin:miter;stroke-width:0.8;\"/>\n   </g>\n   <g id=\"patch_11\">\n    <path d=\"M 530.763068 22.318125 \nL 936.58125 22.318125 \n\" style=\"fill:none;stroke:#000000;stroke-linecap:square;stroke-linejoin:miter;stroke-width:0.8;\"/>\n   </g>\n   <g id=\"text_30\">\n    <!-- Final model dev/test accuracy: 78.82/78.85% -->\n    <defs>\n     <path d=\"M 9.8125 72.90625 \nL 51.703125 72.90625 \nL 51.703125 64.59375 \nL 19.671875 64.59375 \nL 19.671875 43.109375 \nL 48.578125 43.109375 \nL 48.578125 34.8125 \nL 19.671875 34.8125 \nL 19.671875 0 \nL 9.8125 0 \nz\n\" id=\"DejaVuSans-70\"/>\n     <path d=\"M 9.421875 54.6875 \nL 18.40625 54.6875 \nL 18.40625 0 \nL 9.421875 0 \nz\nM 9.421875 75.984375 \nL 18.40625 75.984375 \nL 18.40625 64.59375 \nL 9.421875 64.59375 \nz\n\" id=\"DejaVuSans-105\"/>\n     <path d=\"M 54.890625 33.015625 \nL 54.890625 0 \nL 45.90625 0 \nL 45.90625 32.71875 \nQ 45.90625 40.484375 42.875 44.328125 \nQ 39.84375 48.1875 33.796875 48.1875 \nQ 26.515625 48.1875 22.3125 43.546875 \nQ 18.109375 38.921875 18.109375 30.90625 \nL 18.109375 0 \nL 9.078125 0 \nL 9.078125 54.6875 \nL 18.109375 54.6875 \nL 18.109375 46.1875 \nQ 21.34375 51.125 25.703125 53.5625 \nQ 30.078125 56 35.796875 56 \nQ 45.21875 56 50.046875 50.171875 \nQ 54.890625 44.34375 54.890625 33.015625 \nz\n\" id=\"DejaVuSans-110\"/>\n     <path d=\"M 52 44.1875 \nQ 55.375 50.25 60.0625 53.125 \nQ 64.75 56 71.09375 56 \nQ 79.640625 56 84.28125 50.015625 \nQ 88.921875 44.046875 88.921875 33.015625 \nL 88.921875 0 \nL 79.890625 0 \nL 79.890625 32.71875 \nQ 79.890625 40.578125 77.09375 44.375 \nQ 74.3125 48.1875 68.609375 48.1875 \nQ 61.625 48.1875 57.5625 43.546875 \nQ 53.515625 38.921875 53.515625 30.90625 \nL 53.515625 0 \nL 44.484375 0 \nL 44.484375 32.71875 \nQ 44.484375 40.625 41.703125 44.40625 \nQ 38.921875 48.1875 33.109375 48.1875 \nQ 26.21875 48.1875 22.15625 43.53125 \nQ 18.109375 38.875 18.109375 30.90625 \nL 18.109375 0 \nL 9.078125 0 \nL 9.078125 54.6875 \nL 18.109375 54.6875 \nL 18.109375 46.1875 \nQ 21.1875 51.21875 25.484375 53.609375 \nQ 29.78125 56 35.6875 56 \nQ 41.65625 56 45.828125 52.96875 \nQ 50 49.953125 52 44.1875 \nz\n\" id=\"DejaVuSans-109\"/>\n     <path d=\"M 2.984375 54.6875 \nL 12.5 54.6875 \nL 29.59375 8.796875 \nL 46.6875 54.6875 \nL 56.203125 54.6875 \nL 35.6875 0 \nL 23.484375 0 \nz\n\" id=\"DejaVuSans-118\"/>\n     <path d=\"M 25.390625 72.90625 \nL 33.6875 72.90625 \nL 8.296875 -9.28125 \nL 0 -9.28125 \nz\n\" id=\"DejaVuSans-47\"/>\n     <path d=\"M 18.3125 70.21875 \nL 18.3125 54.6875 \nL 36.8125 54.6875 \nL 36.8125 47.703125 \nL 18.3125 47.703125 \nL 18.3125 18.015625 \nQ 18.3125 11.328125 20.140625 9.421875 \nQ 21.96875 7.515625 27.59375 7.515625 \nL 36.8125 7.515625 \nL 36.8125 0 \nL 27.59375 0 \nQ 17.1875 0 13.234375 3.875 \nQ 9.28125 7.765625 9.28125 18.015625 \nL 9.28125 47.703125 \nL 2.6875 47.703125 \nL 2.6875 54.6875 \nL 9.28125 54.6875 \nL 9.28125 70.21875 \nz\n\" id=\"DejaVuSans-116\"/>\n     <path d=\"M 11.71875 12.40625 \nL 22.015625 12.40625 \nL 22.015625 0 \nL 11.71875 0 \nz\nM 11.71875 51.703125 \nL 22.015625 51.703125 \nL 22.015625 39.3125 \nL 11.71875 39.3125 \nz\n\" id=\"DejaVuSans-58\"/>\n    </defs>\n    <g transform=\"translate(598.203409 16.318125)scale(0.12 -0.12)\">\n     <use xlink:href=\"#DejaVuSans-70\"/>\n     <use x=\"50.269531\" xlink:href=\"#DejaVuSans-105\"/>\n     <use x=\"78.052734\" xlink:href=\"#DejaVuSans-110\"/>\n     <use x=\"141.431641\" xlink:href=\"#DejaVuSans-97\"/>\n     <use x=\"202.710938\" xlink:href=\"#DejaVuSans-108\"/>\n     <use x=\"230.494141\" xlink:href=\"#DejaVuSans-32\"/>\n     <use x=\"262.28125\" xlink:href=\"#DejaVuSans-109\"/>\n     <use x=\"359.693359\" xlink:href=\"#DejaVuSans-111\"/>\n     <use x=\"420.875\" xlink:href=\"#DejaVuSans-100\"/>\n     <use x=\"484.351562\" xlink:href=\"#DejaVuSans-101\"/>\n     <use x=\"545.875\" xlink:href=\"#DejaVuSans-108\"/>\n     <use x=\"573.658203\" xlink:href=\"#DejaVuSans-32\"/>\n     <use x=\"605.445312\" xlink:href=\"#DejaVuSans-100\"/>\n     <use x=\"668.921875\" xlink:href=\"#DejaVuSans-101\"/>\n     <use x=\"730.445312\" xlink:href=\"#DejaVuSans-118\"/>\n     <use x=\"789.625\" xlink:href=\"#DejaVuSans-47\"/>\n     <use x=\"823.316406\" xlink:href=\"#DejaVuSans-116\"/>\n     <use x=\"862.525391\" xlink:href=\"#DejaVuSans-101\"/>\n     <use x=\"924.048828\" xlink:href=\"#DejaVuSans-115\"/>\n     <use x=\"976.148438\" xlink:href=\"#DejaVuSans-116\"/>\n     <use x=\"1015.357422\" xlink:href=\"#DejaVuSans-32\"/>\n     <use x=\"1047.144531\" xlink:href=\"#DejaVuSans-97\"/>\n     <use x=\"1108.423828\" xlink:href=\"#DejaVuSans-99\"/>\n     <use x=\"1163.404297\" xlink:href=\"#DejaVuSans-99\"/>\n     <use x=\"1218.384766\" xlink:href=\"#DejaVuSans-117\"/>\n     <use x=\"1281.763672\" xlink:href=\"#DejaVuSans-114\"/>\n     <use x=\"1322.876953\" xlink:href=\"#DejaVuSans-97\"/>\n     <use x=\"1384.15625\" xlink:href=\"#DejaVuSans-99\"/>\n     <use x=\"1439.136719\" xlink:href=\"#DejaVuSans-121\"/>\n     <use x=\"1491.066406\" xlink:href=\"#DejaVuSans-58\"/>\n     <use x=\"1524.757812\" xlink:href=\"#DejaVuSans-32\"/>\n     <use x=\"1556.544922\" xlink:href=\"#DejaVuSans-55\"/>\n     <use x=\"1620.167969\" xlink:href=\"#DejaVuSans-56\"/>\n     <use x=\"1683.791016\" xlink:href=\"#DejaVuSans-46\"/>\n     <use x=\"1715.578125\" xlink:href=\"#DejaVuSans-56\"/>\n     <use x=\"1779.201172\" xlink:href=\"#DejaVuSans-50\"/>\n     <use x=\"1842.824219\" xlink:href=\"#DejaVuSans-47\"/>\n     <use x=\"1876.515625\" xlink:href=\"#DejaVuSans-55\"/>\n     <use x=\"1940.138672\" xlink:href=\"#DejaVuSans-56\"/>\n     <use x=\"2003.761719\" xlink:href=\"#DejaVuSans-46\"/>\n     <use x=\"2035.548828\" xlink:href=\"#DejaVuSans-56\"/>\n     <use x=\"2099.171875\" xlink:href=\"#DejaVuSans-53\"/>\n     <use x=\"2162.794922\" xlink:href=\"#DejaVuSans-37\"/>\n    </g>\n   </g>\n   <g id=\"legend_1\">\n    <g id=\"patch_12\">\n     <path d=\"M 537.763068 74.3525 \nL 593.750568 74.3525 \nQ 595.750568 74.3525 595.750568 72.3525 \nL 595.750568 29.318125 \nQ 595.750568 27.318125 593.750568 27.318125 \nL 537.763068 27.318125 \nQ 535.763068 27.318125 535.763068 29.318125 \nL 535.763068 72.3525 \nQ 535.763068 74.3525 537.763068 74.3525 \nz\n\" style=\"fill:#ffffff;opacity:0.8;stroke:#cccccc;stroke-linejoin:miter;\"/>\n    </g>\n    <g id=\"line2d_31\">\n     <path d=\"M 539.763068 35.416562 \nL 559.763068 35.416562 \n\" style=\"fill:none;stroke:#1f77b4;stroke-linecap:square;stroke-width:1.5;\"/>\n    </g>\n    <g id=\"line2d_32\">\n     <g>\n      <use style=\"fill:#1f77b4;stroke:#1f77b4;stroke-linejoin:miter;\" x=\"549.763068\" xlink:href=\"#me39fa3389e\" y=\"35.416562\"/>\n     </g>\n    </g>\n    <g id=\"text_31\">\n     <!-- Train -->\n     <defs>\n      <path d=\"M -0.296875 72.90625 \nL 61.375 72.90625 \nL 61.375 64.59375 \nL 35.5 64.59375 \nL 35.5 0 \nL 25.59375 0 \nL 25.59375 64.59375 \nL -0.296875 64.59375 \nz\n\" id=\"DejaVuSans-84\"/>\n     </defs>\n     <g transform=\"translate(567.763068 38.916562)scale(0.1 -0.1)\">\n      <use xlink:href=\"#DejaVuSans-84\"/>\n      <use x=\"46.333984\" xlink:href=\"#DejaVuSans-114\"/>\n      <use x=\"87.447266\" xlink:href=\"#DejaVuSans-97\"/>\n      <use x=\"148.726562\" xlink:href=\"#DejaVuSans-105\"/>\n      <use x=\"176.509766\" xlink:href=\"#DejaVuSans-110\"/>\n     </g>\n    </g>\n    <g id=\"line2d_33\">\n     <path d=\"M 539.763068 50.094688 \nL 559.763068 50.094688 \n\" style=\"fill:none;stroke:#ff7f0e;stroke-linecap:square;stroke-width:1.5;\"/>\n    </g>\n    <g id=\"line2d_34\">\n     <g>\n      <use style=\"fill:#ff7f0e;stroke:#ff7f0e;\" x=\"549.763068\" xlink:href=\"#m5aed6368fb\" y=\"50.094688\"/>\n     </g>\n    </g>\n    <g id=\"text_32\">\n     <!-- Dev -->\n     <defs>\n      <path d=\"M 19.671875 64.796875 \nL 19.671875 8.109375 \nL 31.59375 8.109375 \nQ 46.6875 8.109375 53.6875 14.9375 \nQ 60.6875 21.78125 60.6875 36.53125 \nQ 60.6875 51.171875 53.6875 57.984375 \nQ 46.6875 64.796875 31.59375 64.796875 \nz\nM 9.8125 72.90625 \nL 30.078125 72.90625 \nQ 51.265625 72.90625 61.171875 64.09375 \nQ 71.09375 55.28125 71.09375 36.53125 \nQ 71.09375 17.671875 61.125 8.828125 \nQ 51.171875 0 30.078125 0 \nL 9.8125 0 \nz\n\" id=\"DejaVuSans-68\"/>\n     </defs>\n     <g transform=\"translate(567.763068 53.594688)scale(0.1 -0.1)\">\n      <use xlink:href=\"#DejaVuSans-68\"/>\n      <use x=\"77.001953\" xlink:href=\"#DejaVuSans-101\"/>\n      <use x=\"138.525391\" xlink:href=\"#DejaVuSans-118\"/>\n     </g>\n    </g>\n    <g id=\"line2d_35\"/>\n    <g id=\"line2d_36\">\n     <g>\n      <use style=\"fill:#ff0000;stroke:#ff0000;stroke-linejoin:bevel;\" x=\"549.763068\" xlink:href=\"#mc1d68b7247\" y=\"64.772812\"/>\n     </g>\n    </g>\n    <g id=\"text_33\">\n     <!-- Test -->\n     <g transform=\"translate(567.763068 68.272812)scale(0.1 -0.1)\">\n      <use xlink:href=\"#DejaVuSans-84\"/>\n      <use x=\"44.083984\" xlink:href=\"#DejaVuSans-101\"/>\n      <use x=\"105.607422\" xlink:href=\"#DejaVuSans-115\"/>\n      <use x=\"157.707031\" xlink:href=\"#DejaVuSans-116\"/>\n     </g>\n    </g>\n   </g>\n  </g>\n </g>\n <defs>\n  <clipPath id=\"p766160b6c1\">\n   <rect height=\"271.8\" width=\"405.818182\" x=\"43.78125\" y=\"22.318125\"/>\n  </clipPath>\n  <clipPath id=\"p8f0673a4d0\">\n   <rect height=\"271.8\" width=\"405.818182\" x=\"530.763068\" y=\"22.318125\"/>\n  </clipPath>\n </defs>\n</svg>\n"
          },
          "metadata": {
            "needs_background": "light"
          }
        }
      ]
    },
    {
      "cell_type": "code",
      "source": [
        ""
      ],
      "metadata": {
        "id": "ryxN0JTUck7I"
      },
      "execution_count": null,
      "outputs": []
    }
  ]
}