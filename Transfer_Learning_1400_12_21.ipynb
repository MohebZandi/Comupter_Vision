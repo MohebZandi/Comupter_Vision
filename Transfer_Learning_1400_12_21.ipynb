{
  "nbformat": 4,
  "nbformat_minor": 0,
  "metadata": {
    "colab": {
      "name": "Transfer_Learning_1400_12_21.ipynb",
      "provenance": [],
      "collapsed_sections": [],
      "authorship_tag": "ABX9TyMKnATqtR14gWcwxrkPCafI",
      "include_colab_link": true
    },
    "kernelspec": {
      "name": "python3",
      "display_name": "Python 3"
    },
    "language_info": {
      "name": "python"
    },
    "accelerator": "GPU",
    "widgets": {
      "application/vnd.jupyter.widget-state+json": {
        "702901fe048c4ba4bbec1eb561d1cb4c": {
          "model_module": "@jupyter-widgets/controls",
          "model_name": "HBoxModel",
          "model_module_version": "1.5.0",
          "state": {
            "_dom_classes": [],
            "_model_module": "@jupyter-widgets/controls",
            "_model_module_version": "1.5.0",
            "_model_name": "HBoxModel",
            "_view_count": null,
            "_view_module": "@jupyter-widgets/controls",
            "_view_module_version": "1.5.0",
            "_view_name": "HBoxView",
            "box_style": "",
            "children": [
              "IPY_MODEL_882ba3c9dac04942824de5ac4645f87d",
              "IPY_MODEL_9c5e5c0cef01473d960bc2bd8d7eed02",
              "IPY_MODEL_5881b5ba4b5a493d85d486c42ef6085b"
            ],
            "layout": "IPY_MODEL_0555d672c4364eccb92c087567694efc"
          }
        },
        "882ba3c9dac04942824de5ac4645f87d": {
          "model_module": "@jupyter-widgets/controls",
          "model_name": "HTMLModel",
          "model_module_version": "1.5.0",
          "state": {
            "_dom_classes": [],
            "_model_module": "@jupyter-widgets/controls",
            "_model_module_version": "1.5.0",
            "_model_name": "HTMLModel",
            "_view_count": null,
            "_view_module": "@jupyter-widgets/controls",
            "_view_module_version": "1.5.0",
            "_view_name": "HTMLView",
            "description": "",
            "description_tooltip": null,
            "layout": "IPY_MODEL_ef6ec46fe969474db13b782554143bd3",
            "placeholder": "​",
            "style": "IPY_MODEL_84bf54d7ece249808ee0ad92d2853431",
            "value": ""
          }
        },
        "9c5e5c0cef01473d960bc2bd8d7eed02": {
          "model_module": "@jupyter-widgets/controls",
          "model_name": "FloatProgressModel",
          "model_module_version": "1.5.0",
          "state": {
            "_dom_classes": [],
            "_model_module": "@jupyter-widgets/controls",
            "_model_module_version": "1.5.0",
            "_model_name": "FloatProgressModel",
            "_view_count": null,
            "_view_module": "@jupyter-widgets/controls",
            "_view_module_version": "1.5.0",
            "_view_name": "ProgressView",
            "bar_style": "success",
            "description": "",
            "description_tooltip": null,
            "layout": "IPY_MODEL_0c4bd2a159524705979cb50781b8d5e7",
            "max": 26421880,
            "min": 0,
            "orientation": "horizontal",
            "style": "IPY_MODEL_242cde3cef4143f49fb6c75974a0c970",
            "value": 26421880
          }
        },
        "5881b5ba4b5a493d85d486c42ef6085b": {
          "model_module": "@jupyter-widgets/controls",
          "model_name": "HTMLModel",
          "model_module_version": "1.5.0",
          "state": {
            "_dom_classes": [],
            "_model_module": "@jupyter-widgets/controls",
            "_model_module_version": "1.5.0",
            "_model_name": "HTMLModel",
            "_view_count": null,
            "_view_module": "@jupyter-widgets/controls",
            "_view_module_version": "1.5.0",
            "_view_name": "HTMLView",
            "description": "",
            "description_tooltip": null,
            "layout": "IPY_MODEL_f2c0c09d42a04b35b3c3da2196b28bfa",
            "placeholder": "​",
            "style": "IPY_MODEL_9bf20ea74e2d4687837abbf2b6209adf",
            "value": " 26422272/? [00:00&lt;00:00, 94980248.78it/s]"
          }
        },
        "0555d672c4364eccb92c087567694efc": {
          "model_module": "@jupyter-widgets/base",
          "model_name": "LayoutModel",
          "model_module_version": "1.2.0",
          "state": {
            "_model_module": "@jupyter-widgets/base",
            "_model_module_version": "1.2.0",
            "_model_name": "LayoutModel",
            "_view_count": null,
            "_view_module": "@jupyter-widgets/base",
            "_view_module_version": "1.2.0",
            "_view_name": "LayoutView",
            "align_content": null,
            "align_items": null,
            "align_self": null,
            "border": null,
            "bottom": null,
            "display": null,
            "flex": null,
            "flex_flow": null,
            "grid_area": null,
            "grid_auto_columns": null,
            "grid_auto_flow": null,
            "grid_auto_rows": null,
            "grid_column": null,
            "grid_gap": null,
            "grid_row": null,
            "grid_template_areas": null,
            "grid_template_columns": null,
            "grid_template_rows": null,
            "height": null,
            "justify_content": null,
            "justify_items": null,
            "left": null,
            "margin": null,
            "max_height": null,
            "max_width": null,
            "min_height": null,
            "min_width": null,
            "object_fit": null,
            "object_position": null,
            "order": null,
            "overflow": null,
            "overflow_x": null,
            "overflow_y": null,
            "padding": null,
            "right": null,
            "top": null,
            "visibility": null,
            "width": null
          }
        },
        "ef6ec46fe969474db13b782554143bd3": {
          "model_module": "@jupyter-widgets/base",
          "model_name": "LayoutModel",
          "model_module_version": "1.2.0",
          "state": {
            "_model_module": "@jupyter-widgets/base",
            "_model_module_version": "1.2.0",
            "_model_name": "LayoutModel",
            "_view_count": null,
            "_view_module": "@jupyter-widgets/base",
            "_view_module_version": "1.2.0",
            "_view_name": "LayoutView",
            "align_content": null,
            "align_items": null,
            "align_self": null,
            "border": null,
            "bottom": null,
            "display": null,
            "flex": null,
            "flex_flow": null,
            "grid_area": null,
            "grid_auto_columns": null,
            "grid_auto_flow": null,
            "grid_auto_rows": null,
            "grid_column": null,
            "grid_gap": null,
            "grid_row": null,
            "grid_template_areas": null,
            "grid_template_columns": null,
            "grid_template_rows": null,
            "height": null,
            "justify_content": null,
            "justify_items": null,
            "left": null,
            "margin": null,
            "max_height": null,
            "max_width": null,
            "min_height": null,
            "min_width": null,
            "object_fit": null,
            "object_position": null,
            "order": null,
            "overflow": null,
            "overflow_x": null,
            "overflow_y": null,
            "padding": null,
            "right": null,
            "top": null,
            "visibility": null,
            "width": null
          }
        },
        "84bf54d7ece249808ee0ad92d2853431": {
          "model_module": "@jupyter-widgets/controls",
          "model_name": "DescriptionStyleModel",
          "model_module_version": "1.5.0",
          "state": {
            "_model_module": "@jupyter-widgets/controls",
            "_model_module_version": "1.5.0",
            "_model_name": "DescriptionStyleModel",
            "_view_count": null,
            "_view_module": "@jupyter-widgets/base",
            "_view_module_version": "1.2.0",
            "_view_name": "StyleView",
            "description_width": ""
          }
        },
        "0c4bd2a159524705979cb50781b8d5e7": {
          "model_module": "@jupyter-widgets/base",
          "model_name": "LayoutModel",
          "model_module_version": "1.2.0",
          "state": {
            "_model_module": "@jupyter-widgets/base",
            "_model_module_version": "1.2.0",
            "_model_name": "LayoutModel",
            "_view_count": null,
            "_view_module": "@jupyter-widgets/base",
            "_view_module_version": "1.2.0",
            "_view_name": "LayoutView",
            "align_content": null,
            "align_items": null,
            "align_self": null,
            "border": null,
            "bottom": null,
            "display": null,
            "flex": null,
            "flex_flow": null,
            "grid_area": null,
            "grid_auto_columns": null,
            "grid_auto_flow": null,
            "grid_auto_rows": null,
            "grid_column": null,
            "grid_gap": null,
            "grid_row": null,
            "grid_template_areas": null,
            "grid_template_columns": null,
            "grid_template_rows": null,
            "height": null,
            "justify_content": null,
            "justify_items": null,
            "left": null,
            "margin": null,
            "max_height": null,
            "max_width": null,
            "min_height": null,
            "min_width": null,
            "object_fit": null,
            "object_position": null,
            "order": null,
            "overflow": null,
            "overflow_x": null,
            "overflow_y": null,
            "padding": null,
            "right": null,
            "top": null,
            "visibility": null,
            "width": null
          }
        },
        "242cde3cef4143f49fb6c75974a0c970": {
          "model_module": "@jupyter-widgets/controls",
          "model_name": "ProgressStyleModel",
          "model_module_version": "1.5.0",
          "state": {
            "_model_module": "@jupyter-widgets/controls",
            "_model_module_version": "1.5.0",
            "_model_name": "ProgressStyleModel",
            "_view_count": null,
            "_view_module": "@jupyter-widgets/base",
            "_view_module_version": "1.2.0",
            "_view_name": "StyleView",
            "bar_color": null,
            "description_width": ""
          }
        },
        "f2c0c09d42a04b35b3c3da2196b28bfa": {
          "model_module": "@jupyter-widgets/base",
          "model_name": "LayoutModel",
          "model_module_version": "1.2.0",
          "state": {
            "_model_module": "@jupyter-widgets/base",
            "_model_module_version": "1.2.0",
            "_model_name": "LayoutModel",
            "_view_count": null,
            "_view_module": "@jupyter-widgets/base",
            "_view_module_version": "1.2.0",
            "_view_name": "LayoutView",
            "align_content": null,
            "align_items": null,
            "align_self": null,
            "border": null,
            "bottom": null,
            "display": null,
            "flex": null,
            "flex_flow": null,
            "grid_area": null,
            "grid_auto_columns": null,
            "grid_auto_flow": null,
            "grid_auto_rows": null,
            "grid_column": null,
            "grid_gap": null,
            "grid_row": null,
            "grid_template_areas": null,
            "grid_template_columns": null,
            "grid_template_rows": null,
            "height": null,
            "justify_content": null,
            "justify_items": null,
            "left": null,
            "margin": null,
            "max_height": null,
            "max_width": null,
            "min_height": null,
            "min_width": null,
            "object_fit": null,
            "object_position": null,
            "order": null,
            "overflow": null,
            "overflow_x": null,
            "overflow_y": null,
            "padding": null,
            "right": null,
            "top": null,
            "visibility": null,
            "width": null
          }
        },
        "9bf20ea74e2d4687837abbf2b6209adf": {
          "model_module": "@jupyter-widgets/controls",
          "model_name": "DescriptionStyleModel",
          "model_module_version": "1.5.0",
          "state": {
            "_model_module": "@jupyter-widgets/controls",
            "_model_module_version": "1.5.0",
            "_model_name": "DescriptionStyleModel",
            "_view_count": null,
            "_view_module": "@jupyter-widgets/base",
            "_view_module_version": "1.2.0",
            "_view_name": "StyleView",
            "description_width": ""
          }
        },
        "6313446130f34eeabde64c24033d7c28": {
          "model_module": "@jupyter-widgets/controls",
          "model_name": "HBoxModel",
          "model_module_version": "1.5.0",
          "state": {
            "_dom_classes": [],
            "_model_module": "@jupyter-widgets/controls",
            "_model_module_version": "1.5.0",
            "_model_name": "HBoxModel",
            "_view_count": null,
            "_view_module": "@jupyter-widgets/controls",
            "_view_module_version": "1.5.0",
            "_view_name": "HBoxView",
            "box_style": "",
            "children": [
              "IPY_MODEL_a712c2c143624a46bc90f08347701894",
              "IPY_MODEL_385a1192bef749d48424887f5fd82e1e",
              "IPY_MODEL_3d96c54c276746a9b11ea4579628f45e"
            ],
            "layout": "IPY_MODEL_16d8d5e0f19f4fdbb05af5446226ae12"
          }
        },
        "a712c2c143624a46bc90f08347701894": {
          "model_module": "@jupyter-widgets/controls",
          "model_name": "HTMLModel",
          "model_module_version": "1.5.0",
          "state": {
            "_dom_classes": [],
            "_model_module": "@jupyter-widgets/controls",
            "_model_module_version": "1.5.0",
            "_model_name": "HTMLModel",
            "_view_count": null,
            "_view_module": "@jupyter-widgets/controls",
            "_view_module_version": "1.5.0",
            "_view_name": "HTMLView",
            "description": "",
            "description_tooltip": null,
            "layout": "IPY_MODEL_4f6b0a1fb9aa4770a48a9231b1a1f361",
            "placeholder": "​",
            "style": "IPY_MODEL_2341660b207e4dd1b075829d1669c7bf",
            "value": ""
          }
        },
        "385a1192bef749d48424887f5fd82e1e": {
          "model_module": "@jupyter-widgets/controls",
          "model_name": "FloatProgressModel",
          "model_module_version": "1.5.0",
          "state": {
            "_dom_classes": [],
            "_model_module": "@jupyter-widgets/controls",
            "_model_module_version": "1.5.0",
            "_model_name": "FloatProgressModel",
            "_view_count": null,
            "_view_module": "@jupyter-widgets/controls",
            "_view_module_version": "1.5.0",
            "_view_name": "ProgressView",
            "bar_style": "success",
            "description": "",
            "description_tooltip": null,
            "layout": "IPY_MODEL_342f5821c5c5430f97ab97ae27426c69",
            "max": 29515,
            "min": 0,
            "orientation": "horizontal",
            "style": "IPY_MODEL_09b9cb604eb944bc8f7574c589e48693",
            "value": 29515
          }
        },
        "3d96c54c276746a9b11ea4579628f45e": {
          "model_module": "@jupyter-widgets/controls",
          "model_name": "HTMLModel",
          "model_module_version": "1.5.0",
          "state": {
            "_dom_classes": [],
            "_model_module": "@jupyter-widgets/controls",
            "_model_module_version": "1.5.0",
            "_model_name": "HTMLModel",
            "_view_count": null,
            "_view_module": "@jupyter-widgets/controls",
            "_view_module_version": "1.5.0",
            "_view_name": "HTMLView",
            "description": "",
            "description_tooltip": null,
            "layout": "IPY_MODEL_b2a12f89b04a40448d1e770d1b15b396",
            "placeholder": "​",
            "style": "IPY_MODEL_cd52e1c0c8ab47959db710d1913deedb",
            "value": " 29696/? [00:00&lt;00:00, 598047.00it/s]"
          }
        },
        "16d8d5e0f19f4fdbb05af5446226ae12": {
          "model_module": "@jupyter-widgets/base",
          "model_name": "LayoutModel",
          "model_module_version": "1.2.0",
          "state": {
            "_model_module": "@jupyter-widgets/base",
            "_model_module_version": "1.2.0",
            "_model_name": "LayoutModel",
            "_view_count": null,
            "_view_module": "@jupyter-widgets/base",
            "_view_module_version": "1.2.0",
            "_view_name": "LayoutView",
            "align_content": null,
            "align_items": null,
            "align_self": null,
            "border": null,
            "bottom": null,
            "display": null,
            "flex": null,
            "flex_flow": null,
            "grid_area": null,
            "grid_auto_columns": null,
            "grid_auto_flow": null,
            "grid_auto_rows": null,
            "grid_column": null,
            "grid_gap": null,
            "grid_row": null,
            "grid_template_areas": null,
            "grid_template_columns": null,
            "grid_template_rows": null,
            "height": null,
            "justify_content": null,
            "justify_items": null,
            "left": null,
            "margin": null,
            "max_height": null,
            "max_width": null,
            "min_height": null,
            "min_width": null,
            "object_fit": null,
            "object_position": null,
            "order": null,
            "overflow": null,
            "overflow_x": null,
            "overflow_y": null,
            "padding": null,
            "right": null,
            "top": null,
            "visibility": null,
            "width": null
          }
        },
        "4f6b0a1fb9aa4770a48a9231b1a1f361": {
          "model_module": "@jupyter-widgets/base",
          "model_name": "LayoutModel",
          "model_module_version": "1.2.0",
          "state": {
            "_model_module": "@jupyter-widgets/base",
            "_model_module_version": "1.2.0",
            "_model_name": "LayoutModel",
            "_view_count": null,
            "_view_module": "@jupyter-widgets/base",
            "_view_module_version": "1.2.0",
            "_view_name": "LayoutView",
            "align_content": null,
            "align_items": null,
            "align_self": null,
            "border": null,
            "bottom": null,
            "display": null,
            "flex": null,
            "flex_flow": null,
            "grid_area": null,
            "grid_auto_columns": null,
            "grid_auto_flow": null,
            "grid_auto_rows": null,
            "grid_column": null,
            "grid_gap": null,
            "grid_row": null,
            "grid_template_areas": null,
            "grid_template_columns": null,
            "grid_template_rows": null,
            "height": null,
            "justify_content": null,
            "justify_items": null,
            "left": null,
            "margin": null,
            "max_height": null,
            "max_width": null,
            "min_height": null,
            "min_width": null,
            "object_fit": null,
            "object_position": null,
            "order": null,
            "overflow": null,
            "overflow_x": null,
            "overflow_y": null,
            "padding": null,
            "right": null,
            "top": null,
            "visibility": null,
            "width": null
          }
        },
        "2341660b207e4dd1b075829d1669c7bf": {
          "model_module": "@jupyter-widgets/controls",
          "model_name": "DescriptionStyleModel",
          "model_module_version": "1.5.0",
          "state": {
            "_model_module": "@jupyter-widgets/controls",
            "_model_module_version": "1.5.0",
            "_model_name": "DescriptionStyleModel",
            "_view_count": null,
            "_view_module": "@jupyter-widgets/base",
            "_view_module_version": "1.2.0",
            "_view_name": "StyleView",
            "description_width": ""
          }
        },
        "342f5821c5c5430f97ab97ae27426c69": {
          "model_module": "@jupyter-widgets/base",
          "model_name": "LayoutModel",
          "model_module_version": "1.2.0",
          "state": {
            "_model_module": "@jupyter-widgets/base",
            "_model_module_version": "1.2.0",
            "_model_name": "LayoutModel",
            "_view_count": null,
            "_view_module": "@jupyter-widgets/base",
            "_view_module_version": "1.2.0",
            "_view_name": "LayoutView",
            "align_content": null,
            "align_items": null,
            "align_self": null,
            "border": null,
            "bottom": null,
            "display": null,
            "flex": null,
            "flex_flow": null,
            "grid_area": null,
            "grid_auto_columns": null,
            "grid_auto_flow": null,
            "grid_auto_rows": null,
            "grid_column": null,
            "grid_gap": null,
            "grid_row": null,
            "grid_template_areas": null,
            "grid_template_columns": null,
            "grid_template_rows": null,
            "height": null,
            "justify_content": null,
            "justify_items": null,
            "left": null,
            "margin": null,
            "max_height": null,
            "max_width": null,
            "min_height": null,
            "min_width": null,
            "object_fit": null,
            "object_position": null,
            "order": null,
            "overflow": null,
            "overflow_x": null,
            "overflow_y": null,
            "padding": null,
            "right": null,
            "top": null,
            "visibility": null,
            "width": null
          }
        },
        "09b9cb604eb944bc8f7574c589e48693": {
          "model_module": "@jupyter-widgets/controls",
          "model_name": "ProgressStyleModel",
          "model_module_version": "1.5.0",
          "state": {
            "_model_module": "@jupyter-widgets/controls",
            "_model_module_version": "1.5.0",
            "_model_name": "ProgressStyleModel",
            "_view_count": null,
            "_view_module": "@jupyter-widgets/base",
            "_view_module_version": "1.2.0",
            "_view_name": "StyleView",
            "bar_color": null,
            "description_width": ""
          }
        },
        "b2a12f89b04a40448d1e770d1b15b396": {
          "model_module": "@jupyter-widgets/base",
          "model_name": "LayoutModel",
          "model_module_version": "1.2.0",
          "state": {
            "_model_module": "@jupyter-widgets/base",
            "_model_module_version": "1.2.0",
            "_model_name": "LayoutModel",
            "_view_count": null,
            "_view_module": "@jupyter-widgets/base",
            "_view_module_version": "1.2.0",
            "_view_name": "LayoutView",
            "align_content": null,
            "align_items": null,
            "align_self": null,
            "border": null,
            "bottom": null,
            "display": null,
            "flex": null,
            "flex_flow": null,
            "grid_area": null,
            "grid_auto_columns": null,
            "grid_auto_flow": null,
            "grid_auto_rows": null,
            "grid_column": null,
            "grid_gap": null,
            "grid_row": null,
            "grid_template_areas": null,
            "grid_template_columns": null,
            "grid_template_rows": null,
            "height": null,
            "justify_content": null,
            "justify_items": null,
            "left": null,
            "margin": null,
            "max_height": null,
            "max_width": null,
            "min_height": null,
            "min_width": null,
            "object_fit": null,
            "object_position": null,
            "order": null,
            "overflow": null,
            "overflow_x": null,
            "overflow_y": null,
            "padding": null,
            "right": null,
            "top": null,
            "visibility": null,
            "width": null
          }
        },
        "cd52e1c0c8ab47959db710d1913deedb": {
          "model_module": "@jupyter-widgets/controls",
          "model_name": "DescriptionStyleModel",
          "model_module_version": "1.5.0",
          "state": {
            "_model_module": "@jupyter-widgets/controls",
            "_model_module_version": "1.5.0",
            "_model_name": "DescriptionStyleModel",
            "_view_count": null,
            "_view_module": "@jupyter-widgets/base",
            "_view_module_version": "1.2.0",
            "_view_name": "StyleView",
            "description_width": ""
          }
        },
        "d9cfcea35f2342beb7e71779d272a26f": {
          "model_module": "@jupyter-widgets/controls",
          "model_name": "HBoxModel",
          "model_module_version": "1.5.0",
          "state": {
            "_dom_classes": [],
            "_model_module": "@jupyter-widgets/controls",
            "_model_module_version": "1.5.0",
            "_model_name": "HBoxModel",
            "_view_count": null,
            "_view_module": "@jupyter-widgets/controls",
            "_view_module_version": "1.5.0",
            "_view_name": "HBoxView",
            "box_style": "",
            "children": [
              "IPY_MODEL_2bce64b189df45f39be9b8031153ee50",
              "IPY_MODEL_399fab089efb4789a9d6d3a6d929b9eb",
              "IPY_MODEL_191d36e044db4d6abdcf312621054cc4"
            ],
            "layout": "IPY_MODEL_46e0a0d6dbc04a38bd6c1b3c9a88c8b8"
          }
        },
        "2bce64b189df45f39be9b8031153ee50": {
          "model_module": "@jupyter-widgets/controls",
          "model_name": "HTMLModel",
          "model_module_version": "1.5.0",
          "state": {
            "_dom_classes": [],
            "_model_module": "@jupyter-widgets/controls",
            "_model_module_version": "1.5.0",
            "_model_name": "HTMLModel",
            "_view_count": null,
            "_view_module": "@jupyter-widgets/controls",
            "_view_module_version": "1.5.0",
            "_view_name": "HTMLView",
            "description": "",
            "description_tooltip": null,
            "layout": "IPY_MODEL_43028bb045f54b17b0da756d69093a7a",
            "placeholder": "​",
            "style": "IPY_MODEL_ed9d5595f3bc4c8a8d358d53a927fd5d",
            "value": ""
          }
        },
        "399fab089efb4789a9d6d3a6d929b9eb": {
          "model_module": "@jupyter-widgets/controls",
          "model_name": "FloatProgressModel",
          "model_module_version": "1.5.0",
          "state": {
            "_dom_classes": [],
            "_model_module": "@jupyter-widgets/controls",
            "_model_module_version": "1.5.0",
            "_model_name": "FloatProgressModel",
            "_view_count": null,
            "_view_module": "@jupyter-widgets/controls",
            "_view_module_version": "1.5.0",
            "_view_name": "ProgressView",
            "bar_style": "success",
            "description": "",
            "description_tooltip": null,
            "layout": "IPY_MODEL_a0e4715b2fa04122bbacb1a49799b123",
            "max": 4422102,
            "min": 0,
            "orientation": "horizontal",
            "style": "IPY_MODEL_44ec91bb8bb5478782ef9dd2f426be84",
            "value": 4422102
          }
        },
        "191d36e044db4d6abdcf312621054cc4": {
          "model_module": "@jupyter-widgets/controls",
          "model_name": "HTMLModel",
          "model_module_version": "1.5.0",
          "state": {
            "_dom_classes": [],
            "_model_module": "@jupyter-widgets/controls",
            "_model_module_version": "1.5.0",
            "_model_name": "HTMLModel",
            "_view_count": null,
            "_view_module": "@jupyter-widgets/controls",
            "_view_module_version": "1.5.0",
            "_view_name": "HTMLView",
            "description": "",
            "description_tooltip": null,
            "layout": "IPY_MODEL_1a67b23f952b480eb2cf1ffa98e8b6ff",
            "placeholder": "​",
            "style": "IPY_MODEL_eb75f167fd3440fc8fddfe766da9a66b",
            "value": " 4422656/? [00:00&lt;00:00, 12090560.06it/s]"
          }
        },
        "46e0a0d6dbc04a38bd6c1b3c9a88c8b8": {
          "model_module": "@jupyter-widgets/base",
          "model_name": "LayoutModel",
          "model_module_version": "1.2.0",
          "state": {
            "_model_module": "@jupyter-widgets/base",
            "_model_module_version": "1.2.0",
            "_model_name": "LayoutModel",
            "_view_count": null,
            "_view_module": "@jupyter-widgets/base",
            "_view_module_version": "1.2.0",
            "_view_name": "LayoutView",
            "align_content": null,
            "align_items": null,
            "align_self": null,
            "border": null,
            "bottom": null,
            "display": null,
            "flex": null,
            "flex_flow": null,
            "grid_area": null,
            "grid_auto_columns": null,
            "grid_auto_flow": null,
            "grid_auto_rows": null,
            "grid_column": null,
            "grid_gap": null,
            "grid_row": null,
            "grid_template_areas": null,
            "grid_template_columns": null,
            "grid_template_rows": null,
            "height": null,
            "justify_content": null,
            "justify_items": null,
            "left": null,
            "margin": null,
            "max_height": null,
            "max_width": null,
            "min_height": null,
            "min_width": null,
            "object_fit": null,
            "object_position": null,
            "order": null,
            "overflow": null,
            "overflow_x": null,
            "overflow_y": null,
            "padding": null,
            "right": null,
            "top": null,
            "visibility": null,
            "width": null
          }
        },
        "43028bb045f54b17b0da756d69093a7a": {
          "model_module": "@jupyter-widgets/base",
          "model_name": "LayoutModel",
          "model_module_version": "1.2.0",
          "state": {
            "_model_module": "@jupyter-widgets/base",
            "_model_module_version": "1.2.0",
            "_model_name": "LayoutModel",
            "_view_count": null,
            "_view_module": "@jupyter-widgets/base",
            "_view_module_version": "1.2.0",
            "_view_name": "LayoutView",
            "align_content": null,
            "align_items": null,
            "align_self": null,
            "border": null,
            "bottom": null,
            "display": null,
            "flex": null,
            "flex_flow": null,
            "grid_area": null,
            "grid_auto_columns": null,
            "grid_auto_flow": null,
            "grid_auto_rows": null,
            "grid_column": null,
            "grid_gap": null,
            "grid_row": null,
            "grid_template_areas": null,
            "grid_template_columns": null,
            "grid_template_rows": null,
            "height": null,
            "justify_content": null,
            "justify_items": null,
            "left": null,
            "margin": null,
            "max_height": null,
            "max_width": null,
            "min_height": null,
            "min_width": null,
            "object_fit": null,
            "object_position": null,
            "order": null,
            "overflow": null,
            "overflow_x": null,
            "overflow_y": null,
            "padding": null,
            "right": null,
            "top": null,
            "visibility": null,
            "width": null
          }
        },
        "ed9d5595f3bc4c8a8d358d53a927fd5d": {
          "model_module": "@jupyter-widgets/controls",
          "model_name": "DescriptionStyleModel",
          "model_module_version": "1.5.0",
          "state": {
            "_model_module": "@jupyter-widgets/controls",
            "_model_module_version": "1.5.0",
            "_model_name": "DescriptionStyleModel",
            "_view_count": null,
            "_view_module": "@jupyter-widgets/base",
            "_view_module_version": "1.2.0",
            "_view_name": "StyleView",
            "description_width": ""
          }
        },
        "a0e4715b2fa04122bbacb1a49799b123": {
          "model_module": "@jupyter-widgets/base",
          "model_name": "LayoutModel",
          "model_module_version": "1.2.0",
          "state": {
            "_model_module": "@jupyter-widgets/base",
            "_model_module_version": "1.2.0",
            "_model_name": "LayoutModel",
            "_view_count": null,
            "_view_module": "@jupyter-widgets/base",
            "_view_module_version": "1.2.0",
            "_view_name": "LayoutView",
            "align_content": null,
            "align_items": null,
            "align_self": null,
            "border": null,
            "bottom": null,
            "display": null,
            "flex": null,
            "flex_flow": null,
            "grid_area": null,
            "grid_auto_columns": null,
            "grid_auto_flow": null,
            "grid_auto_rows": null,
            "grid_column": null,
            "grid_gap": null,
            "grid_row": null,
            "grid_template_areas": null,
            "grid_template_columns": null,
            "grid_template_rows": null,
            "height": null,
            "justify_content": null,
            "justify_items": null,
            "left": null,
            "margin": null,
            "max_height": null,
            "max_width": null,
            "min_height": null,
            "min_width": null,
            "object_fit": null,
            "object_position": null,
            "order": null,
            "overflow": null,
            "overflow_x": null,
            "overflow_y": null,
            "padding": null,
            "right": null,
            "top": null,
            "visibility": null,
            "width": null
          }
        },
        "44ec91bb8bb5478782ef9dd2f426be84": {
          "model_module": "@jupyter-widgets/controls",
          "model_name": "ProgressStyleModel",
          "model_module_version": "1.5.0",
          "state": {
            "_model_module": "@jupyter-widgets/controls",
            "_model_module_version": "1.5.0",
            "_model_name": "ProgressStyleModel",
            "_view_count": null,
            "_view_module": "@jupyter-widgets/base",
            "_view_module_version": "1.2.0",
            "_view_name": "StyleView",
            "bar_color": null,
            "description_width": ""
          }
        },
        "1a67b23f952b480eb2cf1ffa98e8b6ff": {
          "model_module": "@jupyter-widgets/base",
          "model_name": "LayoutModel",
          "model_module_version": "1.2.0",
          "state": {
            "_model_module": "@jupyter-widgets/base",
            "_model_module_version": "1.2.0",
            "_model_name": "LayoutModel",
            "_view_count": null,
            "_view_module": "@jupyter-widgets/base",
            "_view_module_version": "1.2.0",
            "_view_name": "LayoutView",
            "align_content": null,
            "align_items": null,
            "align_self": null,
            "border": null,
            "bottom": null,
            "display": null,
            "flex": null,
            "flex_flow": null,
            "grid_area": null,
            "grid_auto_columns": null,
            "grid_auto_flow": null,
            "grid_auto_rows": null,
            "grid_column": null,
            "grid_gap": null,
            "grid_row": null,
            "grid_template_areas": null,
            "grid_template_columns": null,
            "grid_template_rows": null,
            "height": null,
            "justify_content": null,
            "justify_items": null,
            "left": null,
            "margin": null,
            "max_height": null,
            "max_width": null,
            "min_height": null,
            "min_width": null,
            "object_fit": null,
            "object_position": null,
            "order": null,
            "overflow": null,
            "overflow_x": null,
            "overflow_y": null,
            "padding": null,
            "right": null,
            "top": null,
            "visibility": null,
            "width": null
          }
        },
        "eb75f167fd3440fc8fddfe766da9a66b": {
          "model_module": "@jupyter-widgets/controls",
          "model_name": "DescriptionStyleModel",
          "model_module_version": "1.5.0",
          "state": {
            "_model_module": "@jupyter-widgets/controls",
            "_model_module_version": "1.5.0",
            "_model_name": "DescriptionStyleModel",
            "_view_count": null,
            "_view_module": "@jupyter-widgets/base",
            "_view_module_version": "1.2.0",
            "_view_name": "StyleView",
            "description_width": ""
          }
        },
        "a106a288941f43c19f7a648903fb34f6": {
          "model_module": "@jupyter-widgets/controls",
          "model_name": "HBoxModel",
          "model_module_version": "1.5.0",
          "state": {
            "_dom_classes": [],
            "_model_module": "@jupyter-widgets/controls",
            "_model_module_version": "1.5.0",
            "_model_name": "HBoxModel",
            "_view_count": null,
            "_view_module": "@jupyter-widgets/controls",
            "_view_module_version": "1.5.0",
            "_view_name": "HBoxView",
            "box_style": "",
            "children": [
              "IPY_MODEL_12360c90ca6741168da8eea520cdbd1f",
              "IPY_MODEL_f0abcf7fa20c48529b20ac7127ca5958",
              "IPY_MODEL_2511136d46d644c2b690633b6f384ef8"
            ],
            "layout": "IPY_MODEL_3562149110414362bafa439be883cfd4"
          }
        },
        "12360c90ca6741168da8eea520cdbd1f": {
          "model_module": "@jupyter-widgets/controls",
          "model_name": "HTMLModel",
          "model_module_version": "1.5.0",
          "state": {
            "_dom_classes": [],
            "_model_module": "@jupyter-widgets/controls",
            "_model_module_version": "1.5.0",
            "_model_name": "HTMLModel",
            "_view_count": null,
            "_view_module": "@jupyter-widgets/controls",
            "_view_module_version": "1.5.0",
            "_view_name": "HTMLView",
            "description": "",
            "description_tooltip": null,
            "layout": "IPY_MODEL_d7d512523ca74ba2a9b6cd911f958d16",
            "placeholder": "​",
            "style": "IPY_MODEL_d23dd48105eb4511b67be3878896c363",
            "value": ""
          }
        },
        "f0abcf7fa20c48529b20ac7127ca5958": {
          "model_module": "@jupyter-widgets/controls",
          "model_name": "FloatProgressModel",
          "model_module_version": "1.5.0",
          "state": {
            "_dom_classes": [],
            "_model_module": "@jupyter-widgets/controls",
            "_model_module_version": "1.5.0",
            "_model_name": "FloatProgressModel",
            "_view_count": null,
            "_view_module": "@jupyter-widgets/controls",
            "_view_module_version": "1.5.0",
            "_view_name": "ProgressView",
            "bar_style": "success",
            "description": "",
            "description_tooltip": null,
            "layout": "IPY_MODEL_1d836aa7a7b34d8ab7cea81e87e0c647",
            "max": 5148,
            "min": 0,
            "orientation": "horizontal",
            "style": "IPY_MODEL_2dfac5d9d1884e5aa8269452f1aafa76",
            "value": 5148
          }
        },
        "2511136d46d644c2b690633b6f384ef8": {
          "model_module": "@jupyter-widgets/controls",
          "model_name": "HTMLModel",
          "model_module_version": "1.5.0",
          "state": {
            "_dom_classes": [],
            "_model_module": "@jupyter-widgets/controls",
            "_model_module_version": "1.5.0",
            "_model_name": "HTMLModel",
            "_view_count": null,
            "_view_module": "@jupyter-widgets/controls",
            "_view_module_version": "1.5.0",
            "_view_name": "HTMLView",
            "description": "",
            "description_tooltip": null,
            "layout": "IPY_MODEL_662c1e7422a2463dab75ba8ca9fd59b8",
            "placeholder": "​",
            "style": "IPY_MODEL_1bc7470f24d94297bd4610794260d1ff",
            "value": " 6144/? [00:00&lt;00:00, 119593.67it/s]"
          }
        },
        "3562149110414362bafa439be883cfd4": {
          "model_module": "@jupyter-widgets/base",
          "model_name": "LayoutModel",
          "model_module_version": "1.2.0",
          "state": {
            "_model_module": "@jupyter-widgets/base",
            "_model_module_version": "1.2.0",
            "_model_name": "LayoutModel",
            "_view_count": null,
            "_view_module": "@jupyter-widgets/base",
            "_view_module_version": "1.2.0",
            "_view_name": "LayoutView",
            "align_content": null,
            "align_items": null,
            "align_self": null,
            "border": null,
            "bottom": null,
            "display": null,
            "flex": null,
            "flex_flow": null,
            "grid_area": null,
            "grid_auto_columns": null,
            "grid_auto_flow": null,
            "grid_auto_rows": null,
            "grid_column": null,
            "grid_gap": null,
            "grid_row": null,
            "grid_template_areas": null,
            "grid_template_columns": null,
            "grid_template_rows": null,
            "height": null,
            "justify_content": null,
            "justify_items": null,
            "left": null,
            "margin": null,
            "max_height": null,
            "max_width": null,
            "min_height": null,
            "min_width": null,
            "object_fit": null,
            "object_position": null,
            "order": null,
            "overflow": null,
            "overflow_x": null,
            "overflow_y": null,
            "padding": null,
            "right": null,
            "top": null,
            "visibility": null,
            "width": null
          }
        },
        "d7d512523ca74ba2a9b6cd911f958d16": {
          "model_module": "@jupyter-widgets/base",
          "model_name": "LayoutModel",
          "model_module_version": "1.2.0",
          "state": {
            "_model_module": "@jupyter-widgets/base",
            "_model_module_version": "1.2.0",
            "_model_name": "LayoutModel",
            "_view_count": null,
            "_view_module": "@jupyter-widgets/base",
            "_view_module_version": "1.2.0",
            "_view_name": "LayoutView",
            "align_content": null,
            "align_items": null,
            "align_self": null,
            "border": null,
            "bottom": null,
            "display": null,
            "flex": null,
            "flex_flow": null,
            "grid_area": null,
            "grid_auto_columns": null,
            "grid_auto_flow": null,
            "grid_auto_rows": null,
            "grid_column": null,
            "grid_gap": null,
            "grid_row": null,
            "grid_template_areas": null,
            "grid_template_columns": null,
            "grid_template_rows": null,
            "height": null,
            "justify_content": null,
            "justify_items": null,
            "left": null,
            "margin": null,
            "max_height": null,
            "max_width": null,
            "min_height": null,
            "min_width": null,
            "object_fit": null,
            "object_position": null,
            "order": null,
            "overflow": null,
            "overflow_x": null,
            "overflow_y": null,
            "padding": null,
            "right": null,
            "top": null,
            "visibility": null,
            "width": null
          }
        },
        "d23dd48105eb4511b67be3878896c363": {
          "model_module": "@jupyter-widgets/controls",
          "model_name": "DescriptionStyleModel",
          "model_module_version": "1.5.0",
          "state": {
            "_model_module": "@jupyter-widgets/controls",
            "_model_module_version": "1.5.0",
            "_model_name": "DescriptionStyleModel",
            "_view_count": null,
            "_view_module": "@jupyter-widgets/base",
            "_view_module_version": "1.2.0",
            "_view_name": "StyleView",
            "description_width": ""
          }
        },
        "1d836aa7a7b34d8ab7cea81e87e0c647": {
          "model_module": "@jupyter-widgets/base",
          "model_name": "LayoutModel",
          "model_module_version": "1.2.0",
          "state": {
            "_model_module": "@jupyter-widgets/base",
            "_model_module_version": "1.2.0",
            "_model_name": "LayoutModel",
            "_view_count": null,
            "_view_module": "@jupyter-widgets/base",
            "_view_module_version": "1.2.0",
            "_view_name": "LayoutView",
            "align_content": null,
            "align_items": null,
            "align_self": null,
            "border": null,
            "bottom": null,
            "display": null,
            "flex": null,
            "flex_flow": null,
            "grid_area": null,
            "grid_auto_columns": null,
            "grid_auto_flow": null,
            "grid_auto_rows": null,
            "grid_column": null,
            "grid_gap": null,
            "grid_row": null,
            "grid_template_areas": null,
            "grid_template_columns": null,
            "grid_template_rows": null,
            "height": null,
            "justify_content": null,
            "justify_items": null,
            "left": null,
            "margin": null,
            "max_height": null,
            "max_width": null,
            "min_height": null,
            "min_width": null,
            "object_fit": null,
            "object_position": null,
            "order": null,
            "overflow": null,
            "overflow_x": null,
            "overflow_y": null,
            "padding": null,
            "right": null,
            "top": null,
            "visibility": null,
            "width": null
          }
        },
        "2dfac5d9d1884e5aa8269452f1aafa76": {
          "model_module": "@jupyter-widgets/controls",
          "model_name": "ProgressStyleModel",
          "model_module_version": "1.5.0",
          "state": {
            "_model_module": "@jupyter-widgets/controls",
            "_model_module_version": "1.5.0",
            "_model_name": "ProgressStyleModel",
            "_view_count": null,
            "_view_module": "@jupyter-widgets/base",
            "_view_module_version": "1.2.0",
            "_view_name": "StyleView",
            "bar_color": null,
            "description_width": ""
          }
        },
        "662c1e7422a2463dab75ba8ca9fd59b8": {
          "model_module": "@jupyter-widgets/base",
          "model_name": "LayoutModel",
          "model_module_version": "1.2.0",
          "state": {
            "_model_module": "@jupyter-widgets/base",
            "_model_module_version": "1.2.0",
            "_model_name": "LayoutModel",
            "_view_count": null,
            "_view_module": "@jupyter-widgets/base",
            "_view_module_version": "1.2.0",
            "_view_name": "LayoutView",
            "align_content": null,
            "align_items": null,
            "align_self": null,
            "border": null,
            "bottom": null,
            "display": null,
            "flex": null,
            "flex_flow": null,
            "grid_area": null,
            "grid_auto_columns": null,
            "grid_auto_flow": null,
            "grid_auto_rows": null,
            "grid_column": null,
            "grid_gap": null,
            "grid_row": null,
            "grid_template_areas": null,
            "grid_template_columns": null,
            "grid_template_rows": null,
            "height": null,
            "justify_content": null,
            "justify_items": null,
            "left": null,
            "margin": null,
            "max_height": null,
            "max_width": null,
            "min_height": null,
            "min_width": null,
            "object_fit": null,
            "object_position": null,
            "order": null,
            "overflow": null,
            "overflow_x": null,
            "overflow_y": null,
            "padding": null,
            "right": null,
            "top": null,
            "visibility": null,
            "width": null
          }
        },
        "1bc7470f24d94297bd4610794260d1ff": {
          "model_module": "@jupyter-widgets/controls",
          "model_name": "DescriptionStyleModel",
          "model_module_version": "1.5.0",
          "state": {
            "_model_module": "@jupyter-widgets/controls",
            "_model_module_version": "1.5.0",
            "_model_name": "DescriptionStyleModel",
            "_view_count": null,
            "_view_module": "@jupyter-widgets/base",
            "_view_module_version": "1.2.0",
            "_view_name": "StyleView",
            "description_width": ""
          }
        },
        "7572552cc73649d39317829cbe4d7264": {
          "model_module": "@jupyter-widgets/controls",
          "model_name": "HBoxModel",
          "model_module_version": "1.5.0",
          "state": {
            "_dom_classes": [],
            "_model_module": "@jupyter-widgets/controls",
            "_model_module_version": "1.5.0",
            "_model_name": "HBoxModel",
            "_view_count": null,
            "_view_module": "@jupyter-widgets/controls",
            "_view_module_version": "1.5.0",
            "_view_name": "HBoxView",
            "box_style": "",
            "children": [
              "IPY_MODEL_7d748110756f4384b1c940c54e2ddbc0",
              "IPY_MODEL_26014d40d8d8408186e6a16ed25e6080",
              "IPY_MODEL_8660d1e38e4e4005a116f1ae39e2ab27"
            ],
            "layout": "IPY_MODEL_43e5d0bec7d9458c95a0a59f9739c123"
          }
        },
        "7d748110756f4384b1c940c54e2ddbc0": {
          "model_module": "@jupyter-widgets/controls",
          "model_name": "HTMLModel",
          "model_module_version": "1.5.0",
          "state": {
            "_dom_classes": [],
            "_model_module": "@jupyter-widgets/controls",
            "_model_module_version": "1.5.0",
            "_model_name": "HTMLModel",
            "_view_count": null,
            "_view_module": "@jupyter-widgets/controls",
            "_view_module_version": "1.5.0",
            "_view_name": "HTMLView",
            "description": "",
            "description_tooltip": null,
            "layout": "IPY_MODEL_e7ec9dbd8e664347b56d76f8fa33a5e1",
            "placeholder": "​",
            "style": "IPY_MODEL_96560d2aef0e4f139019e22088e31e36",
            "value": ""
          }
        },
        "26014d40d8d8408186e6a16ed25e6080": {
          "model_module": "@jupyter-widgets/controls",
          "model_name": "FloatProgressModel",
          "model_module_version": "1.5.0",
          "state": {
            "_dom_classes": [],
            "_model_module": "@jupyter-widgets/controls",
            "_model_module_version": "1.5.0",
            "_model_name": "FloatProgressModel",
            "_view_count": null,
            "_view_module": "@jupyter-widgets/controls",
            "_view_module_version": "1.5.0",
            "_view_name": "ProgressView",
            "bar_style": "success",
            "description": "",
            "description_tooltip": null,
            "layout": "IPY_MODEL_3c1b33908dab4e91a1ad997dd9b7eb97",
            "max": 561753746,
            "min": 0,
            "orientation": "horizontal",
            "style": "IPY_MODEL_0c232f1302c343169abef990777394bd",
            "value": 561753746
          }
        },
        "8660d1e38e4e4005a116f1ae39e2ab27": {
          "model_module": "@jupyter-widgets/controls",
          "model_name": "HTMLModel",
          "model_module_version": "1.5.0",
          "state": {
            "_dom_classes": [],
            "_model_module": "@jupyter-widgets/controls",
            "_model_module_version": "1.5.0",
            "_model_name": "HTMLModel",
            "_view_count": null,
            "_view_module": "@jupyter-widgets/controls",
            "_view_module_version": "1.5.0",
            "_view_name": "HTMLView",
            "description": "",
            "description_tooltip": null,
            "layout": "IPY_MODEL_79aef755993c43c5ac2307613d8a56fd",
            "placeholder": "​",
            "style": "IPY_MODEL_af0aeaf28d2f4c3d90f8ebb2f2a0ee17",
            "value": " 561754112/? [00:17&lt;00:00, 34638714.56it/s]"
          }
        },
        "43e5d0bec7d9458c95a0a59f9739c123": {
          "model_module": "@jupyter-widgets/base",
          "model_name": "LayoutModel",
          "model_module_version": "1.2.0",
          "state": {
            "_model_module": "@jupyter-widgets/base",
            "_model_module_version": "1.2.0",
            "_model_name": "LayoutModel",
            "_view_count": null,
            "_view_module": "@jupyter-widgets/base",
            "_view_module_version": "1.2.0",
            "_view_name": "LayoutView",
            "align_content": null,
            "align_items": null,
            "align_self": null,
            "border": null,
            "bottom": null,
            "display": null,
            "flex": null,
            "flex_flow": null,
            "grid_area": null,
            "grid_auto_columns": null,
            "grid_auto_flow": null,
            "grid_auto_rows": null,
            "grid_column": null,
            "grid_gap": null,
            "grid_row": null,
            "grid_template_areas": null,
            "grid_template_columns": null,
            "grid_template_rows": null,
            "height": null,
            "justify_content": null,
            "justify_items": null,
            "left": null,
            "margin": null,
            "max_height": null,
            "max_width": null,
            "min_height": null,
            "min_width": null,
            "object_fit": null,
            "object_position": null,
            "order": null,
            "overflow": null,
            "overflow_x": null,
            "overflow_y": null,
            "padding": null,
            "right": null,
            "top": null,
            "visibility": null,
            "width": null
          }
        },
        "e7ec9dbd8e664347b56d76f8fa33a5e1": {
          "model_module": "@jupyter-widgets/base",
          "model_name": "LayoutModel",
          "model_module_version": "1.2.0",
          "state": {
            "_model_module": "@jupyter-widgets/base",
            "_model_module_version": "1.2.0",
            "_model_name": "LayoutModel",
            "_view_count": null,
            "_view_module": "@jupyter-widgets/base",
            "_view_module_version": "1.2.0",
            "_view_name": "LayoutView",
            "align_content": null,
            "align_items": null,
            "align_self": null,
            "border": null,
            "bottom": null,
            "display": null,
            "flex": null,
            "flex_flow": null,
            "grid_area": null,
            "grid_auto_columns": null,
            "grid_auto_flow": null,
            "grid_auto_rows": null,
            "grid_column": null,
            "grid_gap": null,
            "grid_row": null,
            "grid_template_areas": null,
            "grid_template_columns": null,
            "grid_template_rows": null,
            "height": null,
            "justify_content": null,
            "justify_items": null,
            "left": null,
            "margin": null,
            "max_height": null,
            "max_width": null,
            "min_height": null,
            "min_width": null,
            "object_fit": null,
            "object_position": null,
            "order": null,
            "overflow": null,
            "overflow_x": null,
            "overflow_y": null,
            "padding": null,
            "right": null,
            "top": null,
            "visibility": null,
            "width": null
          }
        },
        "96560d2aef0e4f139019e22088e31e36": {
          "model_module": "@jupyter-widgets/controls",
          "model_name": "DescriptionStyleModel",
          "model_module_version": "1.5.0",
          "state": {
            "_model_module": "@jupyter-widgets/controls",
            "_model_module_version": "1.5.0",
            "_model_name": "DescriptionStyleModel",
            "_view_count": null,
            "_view_module": "@jupyter-widgets/base",
            "_view_module_version": "1.2.0",
            "_view_name": "StyleView",
            "description_width": ""
          }
        },
        "3c1b33908dab4e91a1ad997dd9b7eb97": {
          "model_module": "@jupyter-widgets/base",
          "model_name": "LayoutModel",
          "model_module_version": "1.2.0",
          "state": {
            "_model_module": "@jupyter-widgets/base",
            "_model_module_version": "1.2.0",
            "_model_name": "LayoutModel",
            "_view_count": null,
            "_view_module": "@jupyter-widgets/base",
            "_view_module_version": "1.2.0",
            "_view_name": "LayoutView",
            "align_content": null,
            "align_items": null,
            "align_self": null,
            "border": null,
            "bottom": null,
            "display": null,
            "flex": null,
            "flex_flow": null,
            "grid_area": null,
            "grid_auto_columns": null,
            "grid_auto_flow": null,
            "grid_auto_rows": null,
            "grid_column": null,
            "grid_gap": null,
            "grid_row": null,
            "grid_template_areas": null,
            "grid_template_columns": null,
            "grid_template_rows": null,
            "height": null,
            "justify_content": null,
            "justify_items": null,
            "left": null,
            "margin": null,
            "max_height": null,
            "max_width": null,
            "min_height": null,
            "min_width": null,
            "object_fit": null,
            "object_position": null,
            "order": null,
            "overflow": null,
            "overflow_x": null,
            "overflow_y": null,
            "padding": null,
            "right": null,
            "top": null,
            "visibility": null,
            "width": null
          }
        },
        "0c232f1302c343169abef990777394bd": {
          "model_module": "@jupyter-widgets/controls",
          "model_name": "ProgressStyleModel",
          "model_module_version": "1.5.0",
          "state": {
            "_model_module": "@jupyter-widgets/controls",
            "_model_module_version": "1.5.0",
            "_model_name": "ProgressStyleModel",
            "_view_count": null,
            "_view_module": "@jupyter-widgets/base",
            "_view_module_version": "1.2.0",
            "_view_name": "StyleView",
            "bar_color": null,
            "description_width": ""
          }
        },
        "79aef755993c43c5ac2307613d8a56fd": {
          "model_module": "@jupyter-widgets/base",
          "model_name": "LayoutModel",
          "model_module_version": "1.2.0",
          "state": {
            "_model_module": "@jupyter-widgets/base",
            "_model_module_version": "1.2.0",
            "_model_name": "LayoutModel",
            "_view_count": null,
            "_view_module": "@jupyter-widgets/base",
            "_view_module_version": "1.2.0",
            "_view_name": "LayoutView",
            "align_content": null,
            "align_items": null,
            "align_self": null,
            "border": null,
            "bottom": null,
            "display": null,
            "flex": null,
            "flex_flow": null,
            "grid_area": null,
            "grid_auto_columns": null,
            "grid_auto_flow": null,
            "grid_auto_rows": null,
            "grid_column": null,
            "grid_gap": null,
            "grid_row": null,
            "grid_template_areas": null,
            "grid_template_columns": null,
            "grid_template_rows": null,
            "height": null,
            "justify_content": null,
            "justify_items": null,
            "left": null,
            "margin": null,
            "max_height": null,
            "max_width": null,
            "min_height": null,
            "min_width": null,
            "object_fit": null,
            "object_position": null,
            "order": null,
            "overflow": null,
            "overflow_x": null,
            "overflow_y": null,
            "padding": null,
            "right": null,
            "top": null,
            "visibility": null,
            "width": null
          }
        },
        "af0aeaf28d2f4c3d90f8ebb2f2a0ee17": {
          "model_module": "@jupyter-widgets/controls",
          "model_name": "DescriptionStyleModel",
          "model_module_version": "1.5.0",
          "state": {
            "_model_module": "@jupyter-widgets/controls",
            "_model_module_version": "1.5.0",
            "_model_name": "DescriptionStyleModel",
            "_view_count": null,
            "_view_module": "@jupyter-widgets/base",
            "_view_module_version": "1.2.0",
            "_view_name": "StyleView",
            "description_width": ""
          }
        }
      }
    }
  },
  "cells": [
    {
      "cell_type": "markdown",
      "metadata": {
        "id": "view-in-github",
        "colab_type": "text"
      },
      "source": [
        "<a href=\"https://colab.research.google.com/github/MohebZandi/Comupter_Vision/blob/main/Transfer_Learning_1400_12_21.ipynb\" target=\"_parent\"><img src=\"https://colab.research.google.com/assets/colab-badge.svg\" alt=\"Open In Colab\"/></a>"
      ]
    },
    {
      "cell_type": "markdown",
      "source": [
        "# COURSE: A deep understanding of deep learning\n",
        "## SECTION: Transfer learning\n",
        "### LECTURE: Transfer learning: MNIST->FMNIST\n",
        "#### TEACHER: Mike X Cohen, sincxpress.com\n",
        "##### COURSE URL: udemy.com/course/dudl/?couponCode=202108"
      ],
      "metadata": {
        "id": "FzF25dnrEtLO"
      }
    },
    {
      "cell_type": "code",
      "execution_count": 1,
      "metadata": {
        "id": "pJcOupXtEhy6"
      },
      "outputs": [],
      "source": [
        "# import libraries\n",
        "import numpy as np\n",
        "\n",
        "import torch\n",
        "import torch.nn as nn\n",
        "import torch.nn.functional as F\n",
        "from torch.utils.data import DataLoader,TensorDataset\n",
        "import torchvision\n",
        "import torchvision.transforms as T\n",
        "\n",
        "from sklearn.model_selection import train_test_split\n",
        "\n",
        "import copy\n",
        "\n",
        "import matplotlib.pyplot as plt\n",
        "from IPython import display\n",
        "display.set_matplotlib_formats('svg')"
      ]
    },
    {
      "cell_type": "markdown",
      "source": [
        "## Import and process the data"
      ],
      "metadata": {
        "id": "gssqXAN7EzG0"
      }
    },
    {
      "cell_type": "code",
      "source": [
        "### MNIST data\n",
        "\n",
        "# import dataset\n",
        "data = np.loadtxt(open('sample_data/mnist_train_small.csv','rb'),delimiter=',')\n",
        "\n",
        "# extract labels, normalize, reshape\n",
        "labelsT   = torch.tensor( data[:,0] ).long()\n",
        "data      = data[:,1:]\n",
        "dataNorm  = data / np.max(data)\n",
        "dataNormT = torch.tensor( dataNorm.reshape(dataNorm.shape[0],1,28,28) ).float()\n",
        "\n",
        "# split the data\n",
        "train_data,test_data, train_labels,test_labels = train_test_split(dataNormT, labelsT, test_size=.1)\n",
        "\n",
        "# convert into PyTorch Datasets\n",
        "train_data = TensorDataset(train_data,train_labels)\n",
        "test_data  = TensorDataset(test_data,test_labels)\n",
        "\n",
        "# translate into dataloader objects\n",
        "batchsize    = 32\n",
        "numbers_train_loader = DataLoader(train_data,batch_size=batchsize,shuffle=True,drop_last=True)\n",
        "numbers_test_loader  = DataLoader(test_data,batch_size=test_data.tensors[0].shape[0])"
      ],
      "metadata": {
        "id": "Dt1f9C6eFSsM"
      },
      "execution_count": 6,
      "outputs": []
    },
    {
      "cell_type": "code",
      "source": [
        "### FMNIST data\n",
        "\n",
        "# transformations\n",
        "transform = T.Compose([ T.ToTensor(), T.Normalize(.5,.5) ])\n",
        "\n",
        "# import the data and simultaneously apply the transform\n",
        "trainset = torchvision.datasets.FashionMNIST(root='./data', train=True,  download=True, transform=transform)\n",
        "testset  = torchvision.datasets.FashionMNIST(root='./data', train=False, download=True, transform=transform)\n",
        "\n",
        "# transform to dataloaders\n",
        "batchsize    = 32\n",
        "fashion_train_loader = DataLoader(trainset,batch_size=batchsize,shuffle=True,drop_last=True)\n",
        "fashion_test_loader  = DataLoader(testset, batch_size=len(testset))"
      ],
      "metadata": {
        "colab": {
          "base_uri": "https://localhost:8080/",
          "height": 436,
          "referenced_widgets": [
            "702901fe048c4ba4bbec1eb561d1cb4c",
            "882ba3c9dac04942824de5ac4645f87d",
            "9c5e5c0cef01473d960bc2bd8d7eed02",
            "5881b5ba4b5a493d85d486c42ef6085b",
            "0555d672c4364eccb92c087567694efc",
            "ef6ec46fe969474db13b782554143bd3",
            "84bf54d7ece249808ee0ad92d2853431",
            "0c4bd2a159524705979cb50781b8d5e7",
            "242cde3cef4143f49fb6c75974a0c970",
            "f2c0c09d42a04b35b3c3da2196b28bfa",
            "9bf20ea74e2d4687837abbf2b6209adf",
            "6313446130f34eeabde64c24033d7c28",
            "a712c2c143624a46bc90f08347701894",
            "385a1192bef749d48424887f5fd82e1e",
            "3d96c54c276746a9b11ea4579628f45e",
            "16d8d5e0f19f4fdbb05af5446226ae12",
            "4f6b0a1fb9aa4770a48a9231b1a1f361",
            "2341660b207e4dd1b075829d1669c7bf",
            "342f5821c5c5430f97ab97ae27426c69",
            "09b9cb604eb944bc8f7574c589e48693",
            "b2a12f89b04a40448d1e770d1b15b396",
            "cd52e1c0c8ab47959db710d1913deedb",
            "d9cfcea35f2342beb7e71779d272a26f",
            "2bce64b189df45f39be9b8031153ee50",
            "399fab089efb4789a9d6d3a6d929b9eb",
            "191d36e044db4d6abdcf312621054cc4",
            "46e0a0d6dbc04a38bd6c1b3c9a88c8b8",
            "43028bb045f54b17b0da756d69093a7a",
            "ed9d5595f3bc4c8a8d358d53a927fd5d",
            "a0e4715b2fa04122bbacb1a49799b123",
            "44ec91bb8bb5478782ef9dd2f426be84",
            "1a67b23f952b480eb2cf1ffa98e8b6ff",
            "eb75f167fd3440fc8fddfe766da9a66b",
            "a106a288941f43c19f7a648903fb34f6",
            "12360c90ca6741168da8eea520cdbd1f",
            "f0abcf7fa20c48529b20ac7127ca5958",
            "2511136d46d644c2b690633b6f384ef8",
            "3562149110414362bafa439be883cfd4",
            "d7d512523ca74ba2a9b6cd911f958d16",
            "d23dd48105eb4511b67be3878896c363",
            "1d836aa7a7b34d8ab7cea81e87e0c647",
            "2dfac5d9d1884e5aa8269452f1aafa76",
            "662c1e7422a2463dab75ba8ca9fd59b8",
            "1bc7470f24d94297bd4610794260d1ff"
          ]
        },
        "id": "g9IW7Pq9Ezvt",
        "outputId": "2cefc87a-6e04-4586-c3a6-f59640f5c625"
      },
      "execution_count": 2,
      "outputs": [
        {
          "output_type": "stream",
          "name": "stdout",
          "text": [
            "Downloading http://fashion-mnist.s3-website.eu-central-1.amazonaws.com/train-images-idx3-ubyte.gz\n",
            "Downloading http://fashion-mnist.s3-website.eu-central-1.amazonaws.com/train-images-idx3-ubyte.gz to ./data/FashionMNIST/raw/train-images-idx3-ubyte.gz\n"
          ]
        },
        {
          "output_type": "display_data",
          "data": {
            "text/plain": [
              "  0%|          | 0/26421880 [00:00<?, ?it/s]"
            ],
            "application/vnd.jupyter.widget-view+json": {
              "version_major": 2,
              "version_minor": 0,
              "model_id": "702901fe048c4ba4bbec1eb561d1cb4c"
            }
          },
          "metadata": {}
        },
        {
          "output_type": "stream",
          "name": "stdout",
          "text": [
            "Extracting ./data/FashionMNIST/raw/train-images-idx3-ubyte.gz to ./data/FashionMNIST/raw\n",
            "\n",
            "Downloading http://fashion-mnist.s3-website.eu-central-1.amazonaws.com/train-labels-idx1-ubyte.gz\n",
            "Downloading http://fashion-mnist.s3-website.eu-central-1.amazonaws.com/train-labels-idx1-ubyte.gz to ./data/FashionMNIST/raw/train-labels-idx1-ubyte.gz\n"
          ]
        },
        {
          "output_type": "display_data",
          "data": {
            "text/plain": [
              "  0%|          | 0/29515 [00:00<?, ?it/s]"
            ],
            "application/vnd.jupyter.widget-view+json": {
              "version_major": 2,
              "version_minor": 0,
              "model_id": "6313446130f34eeabde64c24033d7c28"
            }
          },
          "metadata": {}
        },
        {
          "output_type": "stream",
          "name": "stdout",
          "text": [
            "Extracting ./data/FashionMNIST/raw/train-labels-idx1-ubyte.gz to ./data/FashionMNIST/raw\n",
            "\n",
            "Downloading http://fashion-mnist.s3-website.eu-central-1.amazonaws.com/t10k-images-idx3-ubyte.gz\n",
            "Downloading http://fashion-mnist.s3-website.eu-central-1.amazonaws.com/t10k-images-idx3-ubyte.gz to ./data/FashionMNIST/raw/t10k-images-idx3-ubyte.gz\n"
          ]
        },
        {
          "output_type": "display_data",
          "data": {
            "text/plain": [
              "  0%|          | 0/4422102 [00:00<?, ?it/s]"
            ],
            "application/vnd.jupyter.widget-view+json": {
              "version_major": 2,
              "version_minor": 0,
              "model_id": "d9cfcea35f2342beb7e71779d272a26f"
            }
          },
          "metadata": {}
        },
        {
          "output_type": "stream",
          "name": "stdout",
          "text": [
            "Extracting ./data/FashionMNIST/raw/t10k-images-idx3-ubyte.gz to ./data/FashionMNIST/raw\n",
            "\n",
            "Downloading http://fashion-mnist.s3-website.eu-central-1.amazonaws.com/t10k-labels-idx1-ubyte.gz\n",
            "Downloading http://fashion-mnist.s3-website.eu-central-1.amazonaws.com/t10k-labels-idx1-ubyte.gz to ./data/FashionMNIST/raw/t10k-labels-idx1-ubyte.gz\n"
          ]
        },
        {
          "output_type": "display_data",
          "data": {
            "text/plain": [
              "  0%|          | 0/5148 [00:00<?, ?it/s]"
            ],
            "application/vnd.jupyter.widget-view+json": {
              "version_major": 2,
              "version_minor": 0,
              "model_id": "a106a288941f43c19f7a648903fb34f6"
            }
          },
          "metadata": {}
        },
        {
          "output_type": "stream",
          "name": "stdout",
          "text": [
            "Extracting ./data/FashionMNIST/raw/t10k-labels-idx1-ubyte.gz to ./data/FashionMNIST/raw\n",
            "\n"
          ]
        }
      ]
    },
    {
      "cell_type": "markdown",
      "source": [
        "## Create the DL model"
      ],
      "metadata": {
        "id": "a-WzCE4vE5y0"
      }
    },
    {
      "cell_type": "code",
      "source": [
        "# create a class for the model\n",
        "def createTheMNISTNet(printtoggle=False):\n",
        "\n",
        "  class mnistNet(nn.Module):\n",
        "    def __init__(self,printtoggle):\n",
        "      super().__init__()\n",
        "\n",
        "      ### convolution layers\n",
        "      self.conv1 = nn.Conv2d( 1,10,kernel_size=5,stride=1,padding=1)\n",
        "      # size: np.floor( (28+2*1-5)/1 )+1 = 26/2 = 13 (/2 b/c maxpool)\n",
        "\n",
        "      self.conv2 = nn.Conv2d(10,20,kernel_size=5,stride=1,padding=1)\n",
        "      # size: np.floor( (13+2*1-5)/1 )+1 = 11/2 = 5 (/2 b/c maxpool)\n",
        "\n",
        "      # compute the number of units in FClayer (number of outputs of conv2)\n",
        "      expectSize = np.floor( (5+2*0-1)/1 ) + 1 # fc1 layer has no padding or kernel, so set to 0/1\n",
        "      expectSize = 20*int(expectSize**2)\n",
        "      \n",
        "      ### fully-connected layer\n",
        "      self.fc1 = nn.Linear(expectSize,50)\n",
        "\n",
        "      ### output layer\n",
        "      self.out = nn.Linear(50,10)\n",
        "\n",
        "      # toggle for printing out tensor sizes during forward prop\n",
        "      self.print = printtoggle\n",
        "\n",
        "    # forward pass\n",
        "    def forward(self,x):\n",
        "      \n",
        "      print(f'Input: {x.shape}') if self.print else None\n",
        "\n",
        "      # convolution -> maxpool -> relu\n",
        "      x = F.relu(F.max_pool2d(self.conv1(x),2))\n",
        "      print(f'Layer conv1: {x.shape}') if self.print else None\n",
        "\n",
        "      # and again: convolution -> maxpool -> relu\n",
        "      x = F.relu(F.max_pool2d(self.conv2(x),2))\n",
        "      print(f'Layer conv2: {x.shape}') if self.print else None\n",
        "\n",
        "      # reshape for linear layer\n",
        "      nUnits = x.shape.numel()/x.shape[0]\n",
        "      x = x.view(-1,int(nUnits))\n",
        "      if self.print: print(f'Vectorize: {x.shape}')\n",
        "      \n",
        "      # linear layers\n",
        "      x = F.relu(self.fc1(x))\n",
        "      if self.print: print(f'Layer fc1: {x.shape}')\n",
        "      x = self.out(x)\n",
        "      if self.print: print(f'Layer out: {x.shape}')\n",
        "\n",
        "      return x\n",
        "  \n",
        "  # create the model instance\n",
        "  net = mnistNet(printtoggle)\n",
        "  \n",
        "  # loss function\n",
        "  lossfun = nn.CrossEntropyLoss()\n",
        "\n",
        "  # optimizer (NOTE: Using SGD here to slow down learning!)\n",
        "  optimizer = torch.optim.SGD(net.parameters(),lr=.005)\n",
        "\n",
        "  return net,lossfun,optimizer"
      ],
      "metadata": {
        "id": "RcWR4e2-E3u6"
      },
      "execution_count": 3,
      "outputs": []
    },
    {
      "cell_type": "markdown",
      "source": [
        "## Create a function that trains the model"
      ],
      "metadata": {
        "id": "_W6UR_3RFDOM"
      }
    },
    {
      "cell_type": "code",
      "source": [
        "# a function that trains the model\n",
        "\n",
        "# input the network and the number of epochs to train\n",
        "def function2trainTheModel(net,train_loader,test_loader,numepochs=10):\n",
        "\n",
        "  # initialize losses\n",
        "  losses    = torch.zeros(numepochs)\n",
        "  trainAcc  = []\n",
        "  testAcc   = []\n",
        "\n",
        "\n",
        "  # loop over epochs\n",
        "  for epochi in range(numepochs):\n",
        "\n",
        "    # loop over training data batches\n",
        "    net.train()\n",
        "    batchAcc  = []\n",
        "    batchLoss = []\n",
        "    for X,y in train_loader:\n",
        "\n",
        "      # forward pass and loss\n",
        "      yHat = net(X)\n",
        "      loss = lossfun(yHat,y)\n",
        "\n",
        "      # backprop\n",
        "      optimizer.zero_grad()\n",
        "      loss.backward()\n",
        "      optimizer.step()\n",
        "\n",
        "      # loss from this batch\n",
        "      batchLoss.append(loss.item())\n",
        "\n",
        "      # compute accuracy\n",
        "      matches = torch.argmax(yHat,axis=1) == y     # booleans (false/true)\n",
        "      matchesNumeric = matches.float()             # convert to numbers (0/1)\n",
        "      accuracyPct = 100*torch.mean(matchesNumeric) # average and x100\n",
        "      batchAcc.append( accuracyPct )               # add to list of accuracies\n",
        "    # end of batch loop...\n",
        "\n",
        "    # now that we've trained through the batches, get their average training accuracy\n",
        "    trainAcc.append( np.mean(batchAcc) )\n",
        "\n",
        "    # and get average losses across the batches\n",
        "    losses[epochi] = np.mean(batchLoss)\n",
        "\n",
        "    # test accuracy\n",
        "    net.eval()\n",
        "    X,y = next(iter(test_loader)) # extract X,y from test dataloader\n",
        "    with torch.no_grad(): # deactivates autograd\n",
        "      yHat = net(X)\n",
        "      \n",
        "    # compute test accuracy\n",
        "    testAcc.append( 100*torch.mean((torch.argmax(yHat,axis=1)==y).float()) )\n",
        "\n",
        "  # end epochs\n",
        "\n",
        "  # function output\n",
        "  return trainAcc,testAcc,losses,net\n"
      ],
      "metadata": {
        "id": "mM5XrcBoFBNv"
      },
      "execution_count": 4,
      "outputs": []
    },
    {
      "cell_type": "markdown",
      "source": [
        "## Train the source model on numbers and show the results"
      ],
      "metadata": {
        "id": "yo1PHBYMFH-9"
      }
    },
    {
      "cell_type": "code",
      "source": [
        "# create a new model\n",
        "numberNet,lossfun,optimizer = createTheMNISTNet()\n",
        "\n",
        "# train it on numbers data\n",
        "trainAcc,testAcc,losses,numberNet = function2trainTheModel(numberNet,numbers_train_loader,numbers_test_loader,5)"
      ],
      "metadata": {
        "id": "k9qkCcVTFFiM"
      },
      "execution_count": 7,
      "outputs": []
    },
    {
      "cell_type": "code",
      "source": [
        "fig,ax = plt.subplots(1,2,figsize=(16,5))\n",
        "\n",
        "ax[0].plot(losses,'s-')\n",
        "ax[0].set_xlabel('Epochs')\n",
        "ax[0].set_ylabel('Loss')\n",
        "ax[0].set_title('Model loss')\n",
        "\n",
        "ax[1].plot(trainAcc,'s-',label='Train')\n",
        "ax[1].plot(testAcc,'o-',label='Test')\n",
        "ax[1].set_xlabel('Epochs')\n",
        "ax[1].set_ylabel('Accuracy (%)')\n",
        "ax[1].set_title(f'Final model test accuracy: {testAcc[-1]:.2f}%')\n",
        "ax[1].legend()\n",
        "\n",
        "plt.show()"
      ],
      "metadata": {
        "colab": {
          "base_uri": "https://localhost:8080/",
          "height": 463
        },
        "id": "UA2rlfopFJ_v",
        "outputId": "3abfec14-535a-4e03-8570-7c3cb3d4dea0"
      },
      "execution_count": 8,
      "outputs": [
        {
          "output_type": "display_data",
          "data": {
            "text/plain": [
              "<Figure size 1152x360 with 2 Axes>"
            ],
            "image/svg+xml": "<?xml version=\"1.0\" encoding=\"utf-8\" standalone=\"no\"?>\n<!DOCTYPE svg PUBLIC \"-//W3C//DTD SVG 1.1//EN\"\n  \"http://www.w3.org/Graphics/SVG/1.1/DTD/svg11.dtd\">\n<!-- Created with matplotlib (https://matplotlib.org/) -->\n<svg height=\"331.674375pt\" version=\"1.1\" viewBox=\"0 0 950.14375 331.674375\" width=\"950.14375pt\" xmlns=\"http://www.w3.org/2000/svg\" xmlns:xlink=\"http://www.w3.org/1999/xlink\">\n <defs>\n  <style type=\"text/css\">\n*{stroke-linecap:butt;stroke-linejoin:round;}\n  </style>\n </defs>\n <g id=\"figure_1\">\n  <g id=\"patch_1\">\n   <path d=\"M 0 331.674375 \nL 950.14375 331.674375 \nL 950.14375 0 \nL 0 0 \nz\n\" style=\"fill:none;\"/>\n  </g>\n  <g id=\"axes_1\">\n   <g id=\"patch_2\">\n    <path d=\"M 50.14375 294.118125 \nL 455.961932 294.118125 \nL 455.961932 22.318125 \nL 50.14375 22.318125 \nz\n\" style=\"fill:#ffffff;\"/>\n   </g>\n   <g id=\"matplotlib.axis_1\">\n    <g id=\"xtick_1\">\n     <g id=\"line2d_1\">\n      <defs>\n       <path d=\"M 0 0 \nL 0 3.5 \n\" id=\"m98185b21cb\" style=\"stroke:#000000;stroke-width:0.8;\"/>\n      </defs>\n      <g>\n       <use style=\"stroke:#000000;stroke-width:0.8;\" x=\"68.590031\" xlink:href=\"#m98185b21cb\" y=\"294.118125\"/>\n      </g>\n     </g>\n     <g id=\"text_1\">\n      <!-- 0.0 -->\n      <defs>\n       <path d=\"M 31.78125 66.40625 \nQ 24.171875 66.40625 20.328125 58.90625 \nQ 16.5 51.421875 16.5 36.375 \nQ 16.5 21.390625 20.328125 13.890625 \nQ 24.171875 6.390625 31.78125 6.390625 \nQ 39.453125 6.390625 43.28125 13.890625 \nQ 47.125 21.390625 47.125 36.375 \nQ 47.125 51.421875 43.28125 58.90625 \nQ 39.453125 66.40625 31.78125 66.40625 \nz\nM 31.78125 74.21875 \nQ 44.046875 74.21875 50.515625 64.515625 \nQ 56.984375 54.828125 56.984375 36.375 \nQ 56.984375 17.96875 50.515625 8.265625 \nQ 44.046875 -1.421875 31.78125 -1.421875 \nQ 19.53125 -1.421875 13.0625 8.265625 \nQ 6.59375 17.96875 6.59375 36.375 \nQ 6.59375 54.828125 13.0625 64.515625 \nQ 19.53125 74.21875 31.78125 74.21875 \nz\n\" id=\"DejaVuSans-48\"/>\n       <path d=\"M 10.6875 12.40625 \nL 21 12.40625 \nL 21 0 \nL 10.6875 0 \nz\n\" id=\"DejaVuSans-46\"/>\n      </defs>\n      <g transform=\"translate(60.638468 308.716563)scale(0.1 -0.1)\">\n       <use xlink:href=\"#DejaVuSans-48\"/>\n       <use x=\"63.623047\" xlink:href=\"#DejaVuSans-46\"/>\n       <use x=\"95.410156\" xlink:href=\"#DejaVuSans-48\"/>\n      </g>\n     </g>\n    </g>\n    <g id=\"xtick_2\">\n     <g id=\"line2d_2\">\n      <g>\n       <use style=\"stroke:#000000;stroke-width:0.8;\" x=\"114.705733\" xlink:href=\"#m98185b21cb\" y=\"294.118125\"/>\n      </g>\n     </g>\n     <g id=\"text_2\">\n      <!-- 0.5 -->\n      <defs>\n       <path d=\"M 10.796875 72.90625 \nL 49.515625 72.90625 \nL 49.515625 64.59375 \nL 19.828125 64.59375 \nL 19.828125 46.734375 \nQ 21.96875 47.46875 24.109375 47.828125 \nQ 26.265625 48.1875 28.421875 48.1875 \nQ 40.625 48.1875 47.75 41.5 \nQ 54.890625 34.8125 54.890625 23.390625 \nQ 54.890625 11.625 47.5625 5.09375 \nQ 40.234375 -1.421875 26.90625 -1.421875 \nQ 22.3125 -1.421875 17.546875 -0.640625 \nQ 12.796875 0.140625 7.71875 1.703125 \nL 7.71875 11.625 \nQ 12.109375 9.234375 16.796875 8.0625 \nQ 21.484375 6.890625 26.703125 6.890625 \nQ 35.15625 6.890625 40.078125 11.328125 \nQ 45.015625 15.765625 45.015625 23.390625 \nQ 45.015625 31 40.078125 35.4375 \nQ 35.15625 39.890625 26.703125 39.890625 \nQ 22.75 39.890625 18.8125 39.015625 \nQ 14.890625 38.140625 10.796875 36.28125 \nz\n\" id=\"DejaVuSans-53\"/>\n      </defs>\n      <g transform=\"translate(106.754171 308.716563)scale(0.1 -0.1)\">\n       <use xlink:href=\"#DejaVuSans-48\"/>\n       <use x=\"63.623047\" xlink:href=\"#DejaVuSans-46\"/>\n       <use x=\"95.410156\" xlink:href=\"#DejaVuSans-53\"/>\n      </g>\n     </g>\n    </g>\n    <g id=\"xtick_3\">\n     <g id=\"line2d_3\">\n      <g>\n       <use style=\"stroke:#000000;stroke-width:0.8;\" x=\"160.821436\" xlink:href=\"#m98185b21cb\" y=\"294.118125\"/>\n      </g>\n     </g>\n     <g id=\"text_3\">\n      <!-- 1.0 -->\n      <defs>\n       <path d=\"M 12.40625 8.296875 \nL 28.515625 8.296875 \nL 28.515625 63.921875 \nL 10.984375 60.40625 \nL 10.984375 69.390625 \nL 28.421875 72.90625 \nL 38.28125 72.90625 \nL 38.28125 8.296875 \nL 54.390625 8.296875 \nL 54.390625 0 \nL 12.40625 0 \nz\n\" id=\"DejaVuSans-49\"/>\n      </defs>\n      <g transform=\"translate(152.869873 308.716563)scale(0.1 -0.1)\">\n       <use xlink:href=\"#DejaVuSans-49\"/>\n       <use x=\"63.623047\" xlink:href=\"#DejaVuSans-46\"/>\n       <use x=\"95.410156\" xlink:href=\"#DejaVuSans-48\"/>\n      </g>\n     </g>\n    </g>\n    <g id=\"xtick_4\">\n     <g id=\"line2d_4\">\n      <g>\n       <use style=\"stroke:#000000;stroke-width:0.8;\" x=\"206.937138\" xlink:href=\"#m98185b21cb\" y=\"294.118125\"/>\n      </g>\n     </g>\n     <g id=\"text_4\">\n      <!-- 1.5 -->\n      <g transform=\"translate(198.985576 308.716563)scale(0.1 -0.1)\">\n       <use xlink:href=\"#DejaVuSans-49\"/>\n       <use x=\"63.623047\" xlink:href=\"#DejaVuSans-46\"/>\n       <use x=\"95.410156\" xlink:href=\"#DejaVuSans-53\"/>\n      </g>\n     </g>\n    </g>\n    <g id=\"xtick_5\">\n     <g id=\"line2d_5\">\n      <g>\n       <use style=\"stroke:#000000;stroke-width:0.8;\" x=\"253.052841\" xlink:href=\"#m98185b21cb\" y=\"294.118125\"/>\n      </g>\n     </g>\n     <g id=\"text_5\">\n      <!-- 2.0 -->\n      <defs>\n       <path d=\"M 19.1875 8.296875 \nL 53.609375 8.296875 \nL 53.609375 0 \nL 7.328125 0 \nL 7.328125 8.296875 \nQ 12.9375 14.109375 22.625 23.890625 \nQ 32.328125 33.6875 34.8125 36.53125 \nQ 39.546875 41.84375 41.421875 45.53125 \nQ 43.3125 49.21875 43.3125 52.78125 \nQ 43.3125 58.59375 39.234375 62.25 \nQ 35.15625 65.921875 28.609375 65.921875 \nQ 23.96875 65.921875 18.8125 64.3125 \nQ 13.671875 62.703125 7.8125 59.421875 \nL 7.8125 69.390625 \nQ 13.765625 71.78125 18.9375 73 \nQ 24.125 74.21875 28.421875 74.21875 \nQ 39.75 74.21875 46.484375 68.546875 \nQ 53.21875 62.890625 53.21875 53.421875 \nQ 53.21875 48.921875 51.53125 44.890625 \nQ 49.859375 40.875 45.40625 35.40625 \nQ 44.1875 33.984375 37.640625 27.21875 \nQ 31.109375 20.453125 19.1875 8.296875 \nz\n\" id=\"DejaVuSans-50\"/>\n      </defs>\n      <g transform=\"translate(245.101278 308.716563)scale(0.1 -0.1)\">\n       <use xlink:href=\"#DejaVuSans-50\"/>\n       <use x=\"63.623047\" xlink:href=\"#DejaVuSans-46\"/>\n       <use x=\"95.410156\" xlink:href=\"#DejaVuSans-48\"/>\n      </g>\n     </g>\n    </g>\n    <g id=\"xtick_6\">\n     <g id=\"line2d_6\">\n      <g>\n       <use style=\"stroke:#000000;stroke-width:0.8;\" x=\"299.168543\" xlink:href=\"#m98185b21cb\" y=\"294.118125\"/>\n      </g>\n     </g>\n     <g id=\"text_6\">\n      <!-- 2.5 -->\n      <g transform=\"translate(291.216981 308.716563)scale(0.1 -0.1)\">\n       <use xlink:href=\"#DejaVuSans-50\"/>\n       <use x=\"63.623047\" xlink:href=\"#DejaVuSans-46\"/>\n       <use x=\"95.410156\" xlink:href=\"#DejaVuSans-53\"/>\n      </g>\n     </g>\n    </g>\n    <g id=\"xtick_7\">\n     <g id=\"line2d_7\">\n      <g>\n       <use style=\"stroke:#000000;stroke-width:0.8;\" x=\"345.284246\" xlink:href=\"#m98185b21cb\" y=\"294.118125\"/>\n      </g>\n     </g>\n     <g id=\"text_7\">\n      <!-- 3.0 -->\n      <defs>\n       <path d=\"M 40.578125 39.3125 \nQ 47.65625 37.796875 51.625 33 \nQ 55.609375 28.21875 55.609375 21.1875 \nQ 55.609375 10.40625 48.1875 4.484375 \nQ 40.765625 -1.421875 27.09375 -1.421875 \nQ 22.515625 -1.421875 17.65625 -0.515625 \nQ 12.796875 0.390625 7.625 2.203125 \nL 7.625 11.71875 \nQ 11.71875 9.328125 16.59375 8.109375 \nQ 21.484375 6.890625 26.8125 6.890625 \nQ 36.078125 6.890625 40.9375 10.546875 \nQ 45.796875 14.203125 45.796875 21.1875 \nQ 45.796875 27.640625 41.28125 31.265625 \nQ 36.765625 34.90625 28.71875 34.90625 \nL 20.21875 34.90625 \nL 20.21875 43.015625 \nL 29.109375 43.015625 \nQ 36.375 43.015625 40.234375 45.921875 \nQ 44.09375 48.828125 44.09375 54.296875 \nQ 44.09375 59.90625 40.109375 62.90625 \nQ 36.140625 65.921875 28.71875 65.921875 \nQ 24.65625 65.921875 20.015625 65.03125 \nQ 15.375 64.15625 9.8125 62.3125 \nL 9.8125 71.09375 \nQ 15.4375 72.65625 20.34375 73.4375 \nQ 25.25 74.21875 29.59375 74.21875 \nQ 40.828125 74.21875 47.359375 69.109375 \nQ 53.90625 64.015625 53.90625 55.328125 \nQ 53.90625 49.265625 50.4375 45.09375 \nQ 46.96875 40.921875 40.578125 39.3125 \nz\n\" id=\"DejaVuSans-51\"/>\n      </defs>\n      <g transform=\"translate(337.332683 308.716563)scale(0.1 -0.1)\">\n       <use xlink:href=\"#DejaVuSans-51\"/>\n       <use x=\"63.623047\" xlink:href=\"#DejaVuSans-46\"/>\n       <use x=\"95.410156\" xlink:href=\"#DejaVuSans-48\"/>\n      </g>\n     </g>\n    </g>\n    <g id=\"xtick_8\">\n     <g id=\"line2d_8\">\n      <g>\n       <use style=\"stroke:#000000;stroke-width:0.8;\" x=\"391.399948\" xlink:href=\"#m98185b21cb\" y=\"294.118125\"/>\n      </g>\n     </g>\n     <g id=\"text_8\">\n      <!-- 3.5 -->\n      <g transform=\"translate(383.448386 308.716563)scale(0.1 -0.1)\">\n       <use xlink:href=\"#DejaVuSans-51\"/>\n       <use x=\"63.623047\" xlink:href=\"#DejaVuSans-46\"/>\n       <use x=\"95.410156\" xlink:href=\"#DejaVuSans-53\"/>\n      </g>\n     </g>\n    </g>\n    <g id=\"xtick_9\">\n     <g id=\"line2d_9\">\n      <g>\n       <use style=\"stroke:#000000;stroke-width:0.8;\" x=\"437.515651\" xlink:href=\"#m98185b21cb\" y=\"294.118125\"/>\n      </g>\n     </g>\n     <g id=\"text_9\">\n      <!-- 4.0 -->\n      <defs>\n       <path d=\"M 37.796875 64.3125 \nL 12.890625 25.390625 \nL 37.796875 25.390625 \nz\nM 35.203125 72.90625 \nL 47.609375 72.90625 \nL 47.609375 25.390625 \nL 58.015625 25.390625 \nL 58.015625 17.1875 \nL 47.609375 17.1875 \nL 47.609375 0 \nL 37.796875 0 \nL 37.796875 17.1875 \nL 4.890625 17.1875 \nL 4.890625 26.703125 \nz\n\" id=\"DejaVuSans-52\"/>\n      </defs>\n      <g transform=\"translate(429.564088 308.716563)scale(0.1 -0.1)\">\n       <use xlink:href=\"#DejaVuSans-52\"/>\n       <use x=\"63.623047\" xlink:href=\"#DejaVuSans-46\"/>\n       <use x=\"95.410156\" xlink:href=\"#DejaVuSans-48\"/>\n      </g>\n     </g>\n    </g>\n    <g id=\"text_10\">\n     <!-- Epochs -->\n     <defs>\n      <path d=\"M 9.8125 72.90625 \nL 55.90625 72.90625 \nL 55.90625 64.59375 \nL 19.671875 64.59375 \nL 19.671875 43.015625 \nL 54.390625 43.015625 \nL 54.390625 34.71875 \nL 19.671875 34.71875 \nL 19.671875 8.296875 \nL 56.78125 8.296875 \nL 56.78125 0 \nL 9.8125 0 \nz\n\" id=\"DejaVuSans-69\"/>\n      <path d=\"M 18.109375 8.203125 \nL 18.109375 -20.796875 \nL 9.078125 -20.796875 \nL 9.078125 54.6875 \nL 18.109375 54.6875 \nL 18.109375 46.390625 \nQ 20.953125 51.265625 25.265625 53.625 \nQ 29.59375 56 35.59375 56 \nQ 45.5625 56 51.78125 48.09375 \nQ 58.015625 40.1875 58.015625 27.296875 \nQ 58.015625 14.40625 51.78125 6.484375 \nQ 45.5625 -1.421875 35.59375 -1.421875 \nQ 29.59375 -1.421875 25.265625 0.953125 \nQ 20.953125 3.328125 18.109375 8.203125 \nz\nM 48.6875 27.296875 \nQ 48.6875 37.203125 44.609375 42.84375 \nQ 40.53125 48.484375 33.40625 48.484375 \nQ 26.265625 48.484375 22.1875 42.84375 \nQ 18.109375 37.203125 18.109375 27.296875 \nQ 18.109375 17.390625 22.1875 11.75 \nQ 26.265625 6.109375 33.40625 6.109375 \nQ 40.53125 6.109375 44.609375 11.75 \nQ 48.6875 17.390625 48.6875 27.296875 \nz\n\" id=\"DejaVuSans-112\"/>\n      <path d=\"M 30.609375 48.390625 \nQ 23.390625 48.390625 19.1875 42.75 \nQ 14.984375 37.109375 14.984375 27.296875 \nQ 14.984375 17.484375 19.15625 11.84375 \nQ 23.34375 6.203125 30.609375 6.203125 \nQ 37.796875 6.203125 41.984375 11.859375 \nQ 46.1875 17.53125 46.1875 27.296875 \nQ 46.1875 37.015625 41.984375 42.703125 \nQ 37.796875 48.390625 30.609375 48.390625 \nz\nM 30.609375 56 \nQ 42.328125 56 49.015625 48.375 \nQ 55.71875 40.765625 55.71875 27.296875 \nQ 55.71875 13.875 49.015625 6.21875 \nQ 42.328125 -1.421875 30.609375 -1.421875 \nQ 18.84375 -1.421875 12.171875 6.21875 \nQ 5.515625 13.875 5.515625 27.296875 \nQ 5.515625 40.765625 12.171875 48.375 \nQ 18.84375 56 30.609375 56 \nz\n\" id=\"DejaVuSans-111\"/>\n      <path d=\"M 48.78125 52.59375 \nL 48.78125 44.1875 \nQ 44.96875 46.296875 41.140625 47.34375 \nQ 37.3125 48.390625 33.40625 48.390625 \nQ 24.65625 48.390625 19.8125 42.84375 \nQ 14.984375 37.3125 14.984375 27.296875 \nQ 14.984375 17.28125 19.8125 11.734375 \nQ 24.65625 6.203125 33.40625 6.203125 \nQ 37.3125 6.203125 41.140625 7.25 \nQ 44.96875 8.296875 48.78125 10.40625 \nL 48.78125 2.09375 \nQ 45.015625 0.34375 40.984375 -0.53125 \nQ 36.96875 -1.421875 32.421875 -1.421875 \nQ 20.0625 -1.421875 12.78125 6.34375 \nQ 5.515625 14.109375 5.515625 27.296875 \nQ 5.515625 40.671875 12.859375 48.328125 \nQ 20.21875 56 33.015625 56 \nQ 37.15625 56 41.109375 55.140625 \nQ 45.0625 54.296875 48.78125 52.59375 \nz\n\" id=\"DejaVuSans-99\"/>\n      <path d=\"M 54.890625 33.015625 \nL 54.890625 0 \nL 45.90625 0 \nL 45.90625 32.71875 \nQ 45.90625 40.484375 42.875 44.328125 \nQ 39.84375 48.1875 33.796875 48.1875 \nQ 26.515625 48.1875 22.3125 43.546875 \nQ 18.109375 38.921875 18.109375 30.90625 \nL 18.109375 0 \nL 9.078125 0 \nL 9.078125 75.984375 \nL 18.109375 75.984375 \nL 18.109375 46.1875 \nQ 21.34375 51.125 25.703125 53.5625 \nQ 30.078125 56 35.796875 56 \nQ 45.21875 56 50.046875 50.171875 \nQ 54.890625 44.34375 54.890625 33.015625 \nz\n\" id=\"DejaVuSans-104\"/>\n      <path d=\"M 44.28125 53.078125 \nL 44.28125 44.578125 \nQ 40.484375 46.53125 36.375 47.5 \nQ 32.28125 48.484375 27.875 48.484375 \nQ 21.1875 48.484375 17.84375 46.4375 \nQ 14.5 44.390625 14.5 40.28125 \nQ 14.5 37.15625 16.890625 35.375 \nQ 19.28125 33.59375 26.515625 31.984375 \nL 29.59375 31.296875 \nQ 39.15625 29.25 43.1875 25.515625 \nQ 47.21875 21.78125 47.21875 15.09375 \nQ 47.21875 7.46875 41.1875 3.015625 \nQ 35.15625 -1.421875 24.609375 -1.421875 \nQ 20.21875 -1.421875 15.453125 -0.5625 \nQ 10.6875 0.296875 5.421875 2 \nL 5.421875 11.28125 \nQ 10.40625 8.6875 15.234375 7.390625 \nQ 20.0625 6.109375 24.8125 6.109375 \nQ 31.15625 6.109375 34.5625 8.28125 \nQ 37.984375 10.453125 37.984375 14.40625 \nQ 37.984375 18.0625 35.515625 20.015625 \nQ 33.0625 21.96875 24.703125 23.78125 \nL 21.578125 24.515625 \nQ 13.234375 26.265625 9.515625 29.90625 \nQ 5.8125 33.546875 5.8125 39.890625 \nQ 5.8125 47.609375 11.28125 51.796875 \nQ 16.75 56 26.8125 56 \nQ 31.78125 56 36.171875 55.265625 \nQ 40.578125 54.546875 44.28125 53.078125 \nz\n\" id=\"DejaVuSans-115\"/>\n     </defs>\n     <g transform=\"translate(235.137216 322.394687)scale(0.1 -0.1)\">\n      <use xlink:href=\"#DejaVuSans-69\"/>\n      <use x=\"63.183594\" xlink:href=\"#DejaVuSans-112\"/>\n      <use x=\"126.660156\" xlink:href=\"#DejaVuSans-111\"/>\n      <use x=\"187.841797\" xlink:href=\"#DejaVuSans-99\"/>\n      <use x=\"242.822266\" xlink:href=\"#DejaVuSans-104\"/>\n      <use x=\"306.201172\" xlink:href=\"#DejaVuSans-115\"/>\n     </g>\n    </g>\n   </g>\n   <g id=\"matplotlib.axis_2\">\n    <g id=\"ytick_1\">\n     <g id=\"line2d_10\">\n      <defs>\n       <path d=\"M 0 0 \nL -3.5 0 \n\" id=\"mbdcf4be498\" style=\"stroke:#000000;stroke-width:0.8;\"/>\n      </defs>\n      <g>\n       <use style=\"stroke:#000000;stroke-width:0.8;\" x=\"50.14375\" xlink:href=\"#mbdcf4be498\" y=\"286.937627\"/>\n      </g>\n     </g>\n     <g id=\"text_11\">\n      <!-- 0.25 -->\n      <g transform=\"translate(20.878125 290.736846)scale(0.1 -0.1)\">\n       <use xlink:href=\"#DejaVuSans-48\"/>\n       <use x=\"63.623047\" xlink:href=\"#DejaVuSans-46\"/>\n       <use x=\"95.410156\" xlink:href=\"#DejaVuSans-50\"/>\n       <use x=\"159.033203\" xlink:href=\"#DejaVuSans-53\"/>\n      </g>\n     </g>\n    </g>\n    <g id=\"ytick_2\">\n     <g id=\"line2d_11\">\n      <g>\n       <use style=\"stroke:#000000;stroke-width:0.8;\" x=\"50.14375\" xlink:href=\"#mbdcf4be498\" y=\"255.657227\"/>\n      </g>\n     </g>\n     <g id=\"text_12\">\n      <!-- 0.50 -->\n      <g transform=\"translate(20.878125 259.456446)scale(0.1 -0.1)\">\n       <use xlink:href=\"#DejaVuSans-48\"/>\n       <use x=\"63.623047\" xlink:href=\"#DejaVuSans-46\"/>\n       <use x=\"95.410156\" xlink:href=\"#DejaVuSans-53\"/>\n       <use x=\"159.033203\" xlink:href=\"#DejaVuSans-48\"/>\n      </g>\n     </g>\n    </g>\n    <g id=\"ytick_3\">\n     <g id=\"line2d_12\">\n      <g>\n       <use style=\"stroke:#000000;stroke-width:0.8;\" x=\"50.14375\" xlink:href=\"#mbdcf4be498\" y=\"224.376827\"/>\n      </g>\n     </g>\n     <g id=\"text_13\">\n      <!-- 0.75 -->\n      <defs>\n       <path d=\"M 8.203125 72.90625 \nL 55.078125 72.90625 \nL 55.078125 68.703125 \nL 28.609375 0 \nL 18.3125 0 \nL 43.21875 64.59375 \nL 8.203125 64.59375 \nz\n\" id=\"DejaVuSans-55\"/>\n      </defs>\n      <g transform=\"translate(20.878125 228.176046)scale(0.1 -0.1)\">\n       <use xlink:href=\"#DejaVuSans-48\"/>\n       <use x=\"63.623047\" xlink:href=\"#DejaVuSans-46\"/>\n       <use x=\"95.410156\" xlink:href=\"#DejaVuSans-55\"/>\n       <use x=\"159.033203\" xlink:href=\"#DejaVuSans-53\"/>\n      </g>\n     </g>\n    </g>\n    <g id=\"ytick_4\">\n     <g id=\"line2d_13\">\n      <g>\n       <use style=\"stroke:#000000;stroke-width:0.8;\" x=\"50.14375\" xlink:href=\"#mbdcf4be498\" y=\"193.096427\"/>\n      </g>\n     </g>\n     <g id=\"text_14\">\n      <!-- 1.00 -->\n      <g transform=\"translate(20.878125 196.895646)scale(0.1 -0.1)\">\n       <use xlink:href=\"#DejaVuSans-49\"/>\n       <use x=\"63.623047\" xlink:href=\"#DejaVuSans-46\"/>\n       <use x=\"95.410156\" xlink:href=\"#DejaVuSans-48\"/>\n       <use x=\"159.033203\" xlink:href=\"#DejaVuSans-48\"/>\n      </g>\n     </g>\n    </g>\n    <g id=\"ytick_5\">\n     <g id=\"line2d_14\">\n      <g>\n       <use style=\"stroke:#000000;stroke-width:0.8;\" x=\"50.14375\" xlink:href=\"#mbdcf4be498\" y=\"161.816028\"/>\n      </g>\n     </g>\n     <g id=\"text_15\">\n      <!-- 1.25 -->\n      <g transform=\"translate(20.878125 165.615246)scale(0.1 -0.1)\">\n       <use xlink:href=\"#DejaVuSans-49\"/>\n       <use x=\"63.623047\" xlink:href=\"#DejaVuSans-46\"/>\n       <use x=\"95.410156\" xlink:href=\"#DejaVuSans-50\"/>\n       <use x=\"159.033203\" xlink:href=\"#DejaVuSans-53\"/>\n      </g>\n     </g>\n    </g>\n    <g id=\"ytick_6\">\n     <g id=\"line2d_15\">\n      <g>\n       <use style=\"stroke:#000000;stroke-width:0.8;\" x=\"50.14375\" xlink:href=\"#mbdcf4be498\" y=\"130.535628\"/>\n      </g>\n     </g>\n     <g id=\"text_16\">\n      <!-- 1.50 -->\n      <g transform=\"translate(20.878125 134.334846)scale(0.1 -0.1)\">\n       <use xlink:href=\"#DejaVuSans-49\"/>\n       <use x=\"63.623047\" xlink:href=\"#DejaVuSans-46\"/>\n       <use x=\"95.410156\" xlink:href=\"#DejaVuSans-53\"/>\n       <use x=\"159.033203\" xlink:href=\"#DejaVuSans-48\"/>\n      </g>\n     </g>\n    </g>\n    <g id=\"ytick_7\">\n     <g id=\"line2d_16\">\n      <g>\n       <use style=\"stroke:#000000;stroke-width:0.8;\" x=\"50.14375\" xlink:href=\"#mbdcf4be498\" y=\"99.255228\"/>\n      </g>\n     </g>\n     <g id=\"text_17\">\n      <!-- 1.75 -->\n      <g transform=\"translate(20.878125 103.054447)scale(0.1 -0.1)\">\n       <use xlink:href=\"#DejaVuSans-49\"/>\n       <use x=\"63.623047\" xlink:href=\"#DejaVuSans-46\"/>\n       <use x=\"95.410156\" xlink:href=\"#DejaVuSans-55\"/>\n       <use x=\"159.033203\" xlink:href=\"#DejaVuSans-53\"/>\n      </g>\n     </g>\n    </g>\n    <g id=\"ytick_8\">\n     <g id=\"line2d_17\">\n      <g>\n       <use style=\"stroke:#000000;stroke-width:0.8;\" x=\"50.14375\" xlink:href=\"#mbdcf4be498\" y=\"67.974828\"/>\n      </g>\n     </g>\n     <g id=\"text_18\">\n      <!-- 2.00 -->\n      <g transform=\"translate(20.878125 71.774047)scale(0.1 -0.1)\">\n       <use xlink:href=\"#DejaVuSans-50\"/>\n       <use x=\"63.623047\" xlink:href=\"#DejaVuSans-46\"/>\n       <use x=\"95.410156\" xlink:href=\"#DejaVuSans-48\"/>\n       <use x=\"159.033203\" xlink:href=\"#DejaVuSans-48\"/>\n      </g>\n     </g>\n    </g>\n    <g id=\"ytick_9\">\n     <g id=\"line2d_18\">\n      <g>\n       <use style=\"stroke:#000000;stroke-width:0.8;\" x=\"50.14375\" xlink:href=\"#mbdcf4be498\" y=\"36.694428\"/>\n      </g>\n     </g>\n     <g id=\"text_19\">\n      <!-- 2.25 -->\n      <g transform=\"translate(20.878125 40.493647)scale(0.1 -0.1)\">\n       <use xlink:href=\"#DejaVuSans-50\"/>\n       <use x=\"63.623047\" xlink:href=\"#DejaVuSans-46\"/>\n       <use x=\"95.410156\" xlink:href=\"#DejaVuSans-50\"/>\n       <use x=\"159.033203\" xlink:href=\"#DejaVuSans-53\"/>\n      </g>\n     </g>\n    </g>\n    <g id=\"text_20\">\n     <!-- Loss -->\n     <defs>\n      <path d=\"M 9.8125 72.90625 \nL 19.671875 72.90625 \nL 19.671875 8.296875 \nL 55.171875 8.296875 \nL 55.171875 0 \nL 9.8125 0 \nz\n\" id=\"DejaVuSans-76\"/>\n     </defs>\n     <g transform=\"translate(14.798437 169.185313)rotate(-90)scale(0.1 -0.1)\">\n      <use xlink:href=\"#DejaVuSans-76\"/>\n      <use x=\"53.962891\" xlink:href=\"#DejaVuSans-111\"/>\n      <use x=\"115.144531\" xlink:href=\"#DejaVuSans-115\"/>\n      <use x=\"167.244141\" xlink:href=\"#DejaVuSans-115\"/>\n     </g>\n    </g>\n   </g>\n   <g id=\"line2d_19\">\n    <path clip-path=\"url(#pf495a259e8)\" d=\"M 68.590031 34.67267 \nL 160.821436 141.917721 \nL 253.052841 255.660486 \nL 345.284246 272.99393 \nL 437.515651 281.76358 \n\" style=\"fill:none;stroke:#1f77b4;stroke-linecap:square;stroke-width:1.5;\"/>\n    <defs>\n     <path d=\"M -3 3 \nL 3 3 \nL 3 -3 \nL -3 -3 \nz\n\" id=\"mafad5cfc7c\" style=\"stroke:#1f77b4;stroke-linejoin:miter;\"/>\n    </defs>\n    <g clip-path=\"url(#pf495a259e8)\">\n     <use style=\"fill:#1f77b4;stroke:#1f77b4;stroke-linejoin:miter;\" x=\"68.590031\" xlink:href=\"#mafad5cfc7c\" y=\"34.67267\"/>\n     <use style=\"fill:#1f77b4;stroke:#1f77b4;stroke-linejoin:miter;\" x=\"160.821436\" xlink:href=\"#mafad5cfc7c\" y=\"141.917721\"/>\n     <use style=\"fill:#1f77b4;stroke:#1f77b4;stroke-linejoin:miter;\" x=\"253.052841\" xlink:href=\"#mafad5cfc7c\" y=\"255.660486\"/>\n     <use style=\"fill:#1f77b4;stroke:#1f77b4;stroke-linejoin:miter;\" x=\"345.284246\" xlink:href=\"#mafad5cfc7c\" y=\"272.99393\"/>\n     <use style=\"fill:#1f77b4;stroke:#1f77b4;stroke-linejoin:miter;\" x=\"437.515651\" xlink:href=\"#mafad5cfc7c\" y=\"281.76358\"/>\n    </g>\n   </g>\n   <g id=\"patch_3\">\n    <path d=\"M 50.14375 294.118125 \nL 50.14375 22.318125 \n\" style=\"fill:none;stroke:#000000;stroke-linecap:square;stroke-linejoin:miter;stroke-width:0.8;\"/>\n   </g>\n   <g id=\"patch_4\">\n    <path d=\"M 455.961932 294.118125 \nL 455.961932 22.318125 \n\" style=\"fill:none;stroke:#000000;stroke-linecap:square;stroke-linejoin:miter;stroke-width:0.8;\"/>\n   </g>\n   <g id=\"patch_5\">\n    <path d=\"M 50.14375 294.118125 \nL 455.961932 294.118125 \n\" style=\"fill:none;stroke:#000000;stroke-linecap:square;stroke-linejoin:miter;stroke-width:0.8;\"/>\n   </g>\n   <g id=\"patch_6\">\n    <path d=\"M 50.14375 22.318125 \nL 455.961932 22.318125 \n\" style=\"fill:none;stroke:#000000;stroke-linecap:square;stroke-linejoin:miter;stroke-width:0.8;\"/>\n   </g>\n   <g id=\"text_21\">\n    <!-- Model loss -->\n    <defs>\n     <path d=\"M 9.8125 72.90625 \nL 24.515625 72.90625 \nL 43.109375 23.296875 \nL 61.8125 72.90625 \nL 76.515625 72.90625 \nL 76.515625 0 \nL 66.890625 0 \nL 66.890625 64.015625 \nL 48.09375 14.015625 \nL 38.1875 14.015625 \nL 19.390625 64.015625 \nL 19.390625 0 \nL 9.8125 0 \nz\n\" id=\"DejaVuSans-77\"/>\n     <path d=\"M 45.40625 46.390625 \nL 45.40625 75.984375 \nL 54.390625 75.984375 \nL 54.390625 0 \nL 45.40625 0 \nL 45.40625 8.203125 \nQ 42.578125 3.328125 38.25 0.953125 \nQ 33.9375 -1.421875 27.875 -1.421875 \nQ 17.96875 -1.421875 11.734375 6.484375 \nQ 5.515625 14.40625 5.515625 27.296875 \nQ 5.515625 40.1875 11.734375 48.09375 \nQ 17.96875 56 27.875 56 \nQ 33.9375 56 38.25 53.625 \nQ 42.578125 51.265625 45.40625 46.390625 \nz\nM 14.796875 27.296875 \nQ 14.796875 17.390625 18.875 11.75 \nQ 22.953125 6.109375 30.078125 6.109375 \nQ 37.203125 6.109375 41.296875 11.75 \nQ 45.40625 17.390625 45.40625 27.296875 \nQ 45.40625 37.203125 41.296875 42.84375 \nQ 37.203125 48.484375 30.078125 48.484375 \nQ 22.953125 48.484375 18.875 42.84375 \nQ 14.796875 37.203125 14.796875 27.296875 \nz\n\" id=\"DejaVuSans-100\"/>\n     <path d=\"M 56.203125 29.59375 \nL 56.203125 25.203125 \nL 14.890625 25.203125 \nQ 15.484375 15.921875 20.484375 11.0625 \nQ 25.484375 6.203125 34.421875 6.203125 \nQ 39.59375 6.203125 44.453125 7.46875 \nQ 49.3125 8.734375 54.109375 11.28125 \nL 54.109375 2.78125 \nQ 49.265625 0.734375 44.1875 -0.34375 \nQ 39.109375 -1.421875 33.890625 -1.421875 \nQ 20.796875 -1.421875 13.15625 6.1875 \nQ 5.515625 13.8125 5.515625 26.8125 \nQ 5.515625 40.234375 12.765625 48.109375 \nQ 20.015625 56 32.328125 56 \nQ 43.359375 56 49.78125 48.890625 \nQ 56.203125 41.796875 56.203125 29.59375 \nz\nM 47.21875 32.234375 \nQ 47.125 39.59375 43.09375 43.984375 \nQ 39.0625 48.390625 32.421875 48.390625 \nQ 24.90625 48.390625 20.390625 44.140625 \nQ 15.875 39.890625 15.1875 32.171875 \nz\n\" id=\"DejaVuSans-101\"/>\n     <path d=\"M 9.421875 75.984375 \nL 18.40625 75.984375 \nL 18.40625 0 \nL 9.421875 0 \nz\n\" id=\"DejaVuSans-108\"/>\n     <path id=\"DejaVuSans-32\"/>\n    </defs>\n    <g transform=\"translate(221.540653 16.318125)scale(0.12 -0.12)\">\n     <use xlink:href=\"#DejaVuSans-77\"/>\n     <use x=\"86.279297\" xlink:href=\"#DejaVuSans-111\"/>\n     <use x=\"147.460938\" xlink:href=\"#DejaVuSans-100\"/>\n     <use x=\"210.9375\" xlink:href=\"#DejaVuSans-101\"/>\n     <use x=\"272.460938\" xlink:href=\"#DejaVuSans-108\"/>\n     <use x=\"300.244141\" xlink:href=\"#DejaVuSans-32\"/>\n     <use x=\"332.03125\" xlink:href=\"#DejaVuSans-108\"/>\n     <use x=\"359.814453\" xlink:href=\"#DejaVuSans-111\"/>\n     <use x=\"420.996094\" xlink:href=\"#DejaVuSans-115\"/>\n     <use x=\"473.095703\" xlink:href=\"#DejaVuSans-115\"/>\n    </g>\n   </g>\n  </g>\n  <g id=\"axes_2\">\n   <g id=\"patch_7\">\n    <path d=\"M 537.125568 294.118125 \nL 942.94375 294.118125 \nL 942.94375 22.318125 \nL 537.125568 22.318125 \nz\n\" style=\"fill:#ffffff;\"/>\n   </g>\n   <g id=\"matplotlib.axis_3\">\n    <g id=\"xtick_10\">\n     <g id=\"line2d_20\">\n      <g>\n       <use style=\"stroke:#000000;stroke-width:0.8;\" x=\"555.571849\" xlink:href=\"#m98185b21cb\" y=\"294.118125\"/>\n      </g>\n     </g>\n     <g id=\"text_22\">\n      <!-- 0.0 -->\n      <g transform=\"translate(547.620287 308.716563)scale(0.1 -0.1)\">\n       <use xlink:href=\"#DejaVuSans-48\"/>\n       <use x=\"63.623047\" xlink:href=\"#DejaVuSans-46\"/>\n       <use x=\"95.410156\" xlink:href=\"#DejaVuSans-48\"/>\n      </g>\n     </g>\n    </g>\n    <g id=\"xtick_11\">\n     <g id=\"line2d_21\">\n      <g>\n       <use style=\"stroke:#000000;stroke-width:0.8;\" x=\"601.687552\" xlink:href=\"#m98185b21cb\" y=\"294.118125\"/>\n      </g>\n     </g>\n     <g id=\"text_23\">\n      <!-- 0.5 -->\n      <g transform=\"translate(593.735989 308.716563)scale(0.1 -0.1)\">\n       <use xlink:href=\"#DejaVuSans-48\"/>\n       <use x=\"63.623047\" xlink:href=\"#DejaVuSans-46\"/>\n       <use x=\"95.410156\" xlink:href=\"#DejaVuSans-53\"/>\n      </g>\n     </g>\n    </g>\n    <g id=\"xtick_12\">\n     <g id=\"line2d_22\">\n      <g>\n       <use style=\"stroke:#000000;stroke-width:0.8;\" x=\"647.803254\" xlink:href=\"#m98185b21cb\" y=\"294.118125\"/>\n      </g>\n     </g>\n     <g id=\"text_24\">\n      <!-- 1.0 -->\n      <g transform=\"translate(639.851692 308.716563)scale(0.1 -0.1)\">\n       <use xlink:href=\"#DejaVuSans-49\"/>\n       <use x=\"63.623047\" xlink:href=\"#DejaVuSans-46\"/>\n       <use x=\"95.410156\" xlink:href=\"#DejaVuSans-48\"/>\n      </g>\n     </g>\n    </g>\n    <g id=\"xtick_13\">\n     <g id=\"line2d_23\">\n      <g>\n       <use style=\"stroke:#000000;stroke-width:0.8;\" x=\"693.918957\" xlink:href=\"#m98185b21cb\" y=\"294.118125\"/>\n      </g>\n     </g>\n     <g id=\"text_25\">\n      <!-- 1.5 -->\n      <g transform=\"translate(685.967394 308.716563)scale(0.1 -0.1)\">\n       <use xlink:href=\"#DejaVuSans-49\"/>\n       <use x=\"63.623047\" xlink:href=\"#DejaVuSans-46\"/>\n       <use x=\"95.410156\" xlink:href=\"#DejaVuSans-53\"/>\n      </g>\n     </g>\n    </g>\n    <g id=\"xtick_14\">\n     <g id=\"line2d_24\">\n      <g>\n       <use style=\"stroke:#000000;stroke-width:0.8;\" x=\"740.034659\" xlink:href=\"#m98185b21cb\" y=\"294.118125\"/>\n      </g>\n     </g>\n     <g id=\"text_26\">\n      <!-- 2.0 -->\n      <g transform=\"translate(732.083097 308.716563)scale(0.1 -0.1)\">\n       <use xlink:href=\"#DejaVuSans-50\"/>\n       <use x=\"63.623047\" xlink:href=\"#DejaVuSans-46\"/>\n       <use x=\"95.410156\" xlink:href=\"#DejaVuSans-48\"/>\n      </g>\n     </g>\n    </g>\n    <g id=\"xtick_15\">\n     <g id=\"line2d_25\">\n      <g>\n       <use style=\"stroke:#000000;stroke-width:0.8;\" x=\"786.150362\" xlink:href=\"#m98185b21cb\" y=\"294.118125\"/>\n      </g>\n     </g>\n     <g id=\"text_27\">\n      <!-- 2.5 -->\n      <g transform=\"translate(778.198799 308.716563)scale(0.1 -0.1)\">\n       <use xlink:href=\"#DejaVuSans-50\"/>\n       <use x=\"63.623047\" xlink:href=\"#DejaVuSans-46\"/>\n       <use x=\"95.410156\" xlink:href=\"#DejaVuSans-53\"/>\n      </g>\n     </g>\n    </g>\n    <g id=\"xtick_16\">\n     <g id=\"line2d_26\">\n      <g>\n       <use style=\"stroke:#000000;stroke-width:0.8;\" x=\"832.266064\" xlink:href=\"#m98185b21cb\" y=\"294.118125\"/>\n      </g>\n     </g>\n     <g id=\"text_28\">\n      <!-- 3.0 -->\n      <g transform=\"translate(824.314502 308.716563)scale(0.1 -0.1)\">\n       <use xlink:href=\"#DejaVuSans-51\"/>\n       <use x=\"63.623047\" xlink:href=\"#DejaVuSans-46\"/>\n       <use x=\"95.410156\" xlink:href=\"#DejaVuSans-48\"/>\n      </g>\n     </g>\n    </g>\n    <g id=\"xtick_17\">\n     <g id=\"line2d_27\">\n      <g>\n       <use style=\"stroke:#000000;stroke-width:0.8;\" x=\"878.381767\" xlink:href=\"#m98185b21cb\" y=\"294.118125\"/>\n      </g>\n     </g>\n     <g id=\"text_29\">\n      <!-- 3.5 -->\n      <g transform=\"translate(870.430204 308.716563)scale(0.1 -0.1)\">\n       <use xlink:href=\"#DejaVuSans-51\"/>\n       <use x=\"63.623047\" xlink:href=\"#DejaVuSans-46\"/>\n       <use x=\"95.410156\" xlink:href=\"#DejaVuSans-53\"/>\n      </g>\n     </g>\n    </g>\n    <g id=\"xtick_18\">\n     <g id=\"line2d_28\">\n      <g>\n       <use style=\"stroke:#000000;stroke-width:0.8;\" x=\"924.497469\" xlink:href=\"#m98185b21cb\" y=\"294.118125\"/>\n      </g>\n     </g>\n     <g id=\"text_30\">\n      <!-- 4.0 -->\n      <g transform=\"translate(916.545907 308.716563)scale(0.1 -0.1)\">\n       <use xlink:href=\"#DejaVuSans-52\"/>\n       <use x=\"63.623047\" xlink:href=\"#DejaVuSans-46\"/>\n       <use x=\"95.410156\" xlink:href=\"#DejaVuSans-48\"/>\n      </g>\n     </g>\n    </g>\n    <g id=\"text_31\">\n     <!-- Epochs -->\n     <g transform=\"translate(722.119034 322.394687)scale(0.1 -0.1)\">\n      <use xlink:href=\"#DejaVuSans-69\"/>\n      <use x=\"63.183594\" xlink:href=\"#DejaVuSans-112\"/>\n      <use x=\"126.660156\" xlink:href=\"#DejaVuSans-111\"/>\n      <use x=\"187.841797\" xlink:href=\"#DejaVuSans-99\"/>\n      <use x=\"242.822266\" xlink:href=\"#DejaVuSans-104\"/>\n      <use x=\"306.201172\" xlink:href=\"#DejaVuSans-115\"/>\n     </g>\n    </g>\n   </g>\n   <g id=\"matplotlib.axis_4\">\n    <g id=\"ytick_10\">\n     <g id=\"line2d_29\">\n      <g>\n       <use style=\"stroke:#000000;stroke-width:0.8;\" x=\"537.125568\" xlink:href=\"#mbdcf4be498\" y=\"272.46152\"/>\n      </g>\n     </g>\n     <g id=\"text_32\">\n      <!-- 30 -->\n      <g transform=\"translate(517.400568 276.260738)scale(0.1 -0.1)\">\n       <use xlink:href=\"#DejaVuSans-51\"/>\n       <use x=\"63.623047\" xlink:href=\"#DejaVuSans-48\"/>\n      </g>\n     </g>\n    </g>\n    <g id=\"ytick_11\">\n     <g id=\"line2d_30\">\n      <g>\n       <use style=\"stroke:#000000;stroke-width:0.8;\" x=\"537.125568\" xlink:href=\"#mbdcf4be498\" y=\"233.575359\"/>\n      </g>\n     </g>\n     <g id=\"text_33\">\n      <!-- 40 -->\n      <g transform=\"translate(517.400568 237.374578)scale(0.1 -0.1)\">\n       <use xlink:href=\"#DejaVuSans-52\"/>\n       <use x=\"63.623047\" xlink:href=\"#DejaVuSans-48\"/>\n      </g>\n     </g>\n    </g>\n    <g id=\"ytick_12\">\n     <g id=\"line2d_31\">\n      <g>\n       <use style=\"stroke:#000000;stroke-width:0.8;\" x=\"537.125568\" xlink:href=\"#mbdcf4be498\" y=\"194.689198\"/>\n      </g>\n     </g>\n     <g id=\"text_34\">\n      <!-- 50 -->\n      <g transform=\"translate(517.400568 198.488417)scale(0.1 -0.1)\">\n       <use xlink:href=\"#DejaVuSans-53\"/>\n       <use x=\"63.623047\" xlink:href=\"#DejaVuSans-48\"/>\n      </g>\n     </g>\n    </g>\n    <g id=\"ytick_13\">\n     <g id=\"line2d_32\">\n      <g>\n       <use style=\"stroke:#000000;stroke-width:0.8;\" x=\"537.125568\" xlink:href=\"#mbdcf4be498\" y=\"155.803037\"/>\n      </g>\n     </g>\n     <g id=\"text_35\">\n      <!-- 60 -->\n      <defs>\n       <path d=\"M 33.015625 40.375 \nQ 26.375 40.375 22.484375 35.828125 \nQ 18.609375 31.296875 18.609375 23.390625 \nQ 18.609375 15.53125 22.484375 10.953125 \nQ 26.375 6.390625 33.015625 6.390625 \nQ 39.65625 6.390625 43.53125 10.953125 \nQ 47.40625 15.53125 47.40625 23.390625 \nQ 47.40625 31.296875 43.53125 35.828125 \nQ 39.65625 40.375 33.015625 40.375 \nz\nM 52.59375 71.296875 \nL 52.59375 62.3125 \nQ 48.875 64.0625 45.09375 64.984375 \nQ 41.3125 65.921875 37.59375 65.921875 \nQ 27.828125 65.921875 22.671875 59.328125 \nQ 17.53125 52.734375 16.796875 39.40625 \nQ 19.671875 43.65625 24.015625 45.921875 \nQ 28.375 48.1875 33.59375 48.1875 \nQ 44.578125 48.1875 50.953125 41.515625 \nQ 57.328125 34.859375 57.328125 23.390625 \nQ 57.328125 12.15625 50.6875 5.359375 \nQ 44.046875 -1.421875 33.015625 -1.421875 \nQ 20.359375 -1.421875 13.671875 8.265625 \nQ 6.984375 17.96875 6.984375 36.375 \nQ 6.984375 53.65625 15.1875 63.9375 \nQ 23.390625 74.21875 37.203125 74.21875 \nQ 40.921875 74.21875 44.703125 73.484375 \nQ 48.484375 72.75 52.59375 71.296875 \nz\n\" id=\"DejaVuSans-54\"/>\n      </defs>\n      <g transform=\"translate(517.400568 159.602256)scale(0.1 -0.1)\">\n       <use xlink:href=\"#DejaVuSans-54\"/>\n       <use x=\"63.623047\" xlink:href=\"#DejaVuSans-48\"/>\n      </g>\n     </g>\n    </g>\n    <g id=\"ytick_14\">\n     <g id=\"line2d_33\">\n      <g>\n       <use style=\"stroke:#000000;stroke-width:0.8;\" x=\"537.125568\" xlink:href=\"#mbdcf4be498\" y=\"116.916877\"/>\n      </g>\n     </g>\n     <g id=\"text_36\">\n      <!-- 70 -->\n      <g transform=\"translate(517.400568 120.716095)scale(0.1 -0.1)\">\n       <use xlink:href=\"#DejaVuSans-55\"/>\n       <use x=\"63.623047\" xlink:href=\"#DejaVuSans-48\"/>\n      </g>\n     </g>\n    </g>\n    <g id=\"ytick_15\">\n     <g id=\"line2d_34\">\n      <g>\n       <use style=\"stroke:#000000;stroke-width:0.8;\" x=\"537.125568\" xlink:href=\"#mbdcf4be498\" y=\"78.030716\"/>\n      </g>\n     </g>\n     <g id=\"text_37\">\n      <!-- 80 -->\n      <defs>\n       <path d=\"M 31.78125 34.625 \nQ 24.75 34.625 20.71875 30.859375 \nQ 16.703125 27.09375 16.703125 20.515625 \nQ 16.703125 13.921875 20.71875 10.15625 \nQ 24.75 6.390625 31.78125 6.390625 \nQ 38.8125 6.390625 42.859375 10.171875 \nQ 46.921875 13.96875 46.921875 20.515625 \nQ 46.921875 27.09375 42.890625 30.859375 \nQ 38.875 34.625 31.78125 34.625 \nz\nM 21.921875 38.8125 \nQ 15.578125 40.375 12.03125 44.71875 \nQ 8.5 49.078125 8.5 55.328125 \nQ 8.5 64.0625 14.71875 69.140625 \nQ 20.953125 74.21875 31.78125 74.21875 \nQ 42.671875 74.21875 48.875 69.140625 \nQ 55.078125 64.0625 55.078125 55.328125 \nQ 55.078125 49.078125 51.53125 44.71875 \nQ 48 40.375 41.703125 38.8125 \nQ 48.828125 37.15625 52.796875 32.3125 \nQ 56.78125 27.484375 56.78125 20.515625 \nQ 56.78125 9.90625 50.3125 4.234375 \nQ 43.84375 -1.421875 31.78125 -1.421875 \nQ 19.734375 -1.421875 13.25 4.234375 \nQ 6.78125 9.90625 6.78125 20.515625 \nQ 6.78125 27.484375 10.78125 32.3125 \nQ 14.796875 37.15625 21.921875 38.8125 \nz\nM 18.3125 54.390625 \nQ 18.3125 48.734375 21.84375 45.5625 \nQ 25.390625 42.390625 31.78125 42.390625 \nQ 38.140625 42.390625 41.71875 45.5625 \nQ 45.3125 48.734375 45.3125 54.390625 \nQ 45.3125 60.0625 41.71875 63.234375 \nQ 38.140625 66.40625 31.78125 66.40625 \nQ 25.390625 66.40625 21.84375 63.234375 \nQ 18.3125 60.0625 18.3125 54.390625 \nz\n\" id=\"DejaVuSans-56\"/>\n      </defs>\n      <g transform=\"translate(517.400568 81.829935)scale(0.1 -0.1)\">\n       <use xlink:href=\"#DejaVuSans-56\"/>\n       <use x=\"63.623047\" xlink:href=\"#DejaVuSans-48\"/>\n      </g>\n     </g>\n    </g>\n    <g id=\"ytick_16\">\n     <g id=\"line2d_35\">\n      <g>\n       <use style=\"stroke:#000000;stroke-width:0.8;\" x=\"537.125568\" xlink:href=\"#mbdcf4be498\" y=\"39.144555\"/>\n      </g>\n     </g>\n     <g id=\"text_38\">\n      <!-- 90 -->\n      <defs>\n       <path d=\"M 10.984375 1.515625 \nL 10.984375 10.5 \nQ 14.703125 8.734375 18.5 7.8125 \nQ 22.3125 6.890625 25.984375 6.890625 \nQ 35.75 6.890625 40.890625 13.453125 \nQ 46.046875 20.015625 46.78125 33.40625 \nQ 43.953125 29.203125 39.59375 26.953125 \nQ 35.25 24.703125 29.984375 24.703125 \nQ 19.046875 24.703125 12.671875 31.3125 \nQ 6.296875 37.9375 6.296875 49.421875 \nQ 6.296875 60.640625 12.9375 67.421875 \nQ 19.578125 74.21875 30.609375 74.21875 \nQ 43.265625 74.21875 49.921875 64.515625 \nQ 56.59375 54.828125 56.59375 36.375 \nQ 56.59375 19.140625 48.40625 8.859375 \nQ 40.234375 -1.421875 26.421875 -1.421875 \nQ 22.703125 -1.421875 18.890625 -0.6875 \nQ 15.09375 0.046875 10.984375 1.515625 \nz\nM 30.609375 32.421875 \nQ 37.25 32.421875 41.125 36.953125 \nQ 45.015625 41.5 45.015625 49.421875 \nQ 45.015625 57.28125 41.125 61.84375 \nQ 37.25 66.40625 30.609375 66.40625 \nQ 23.96875 66.40625 20.09375 61.84375 \nQ 16.21875 57.28125 16.21875 49.421875 \nQ 16.21875 41.5 20.09375 36.953125 \nQ 23.96875 32.421875 30.609375 32.421875 \nz\n\" id=\"DejaVuSans-57\"/>\n      </defs>\n      <g transform=\"translate(517.400568 42.943774)scale(0.1 -0.1)\">\n       <use xlink:href=\"#DejaVuSans-57\"/>\n       <use x=\"63.623047\" xlink:href=\"#DejaVuSans-48\"/>\n      </g>\n     </g>\n    </g>\n    <g id=\"text_39\">\n     <!-- Accuracy (%) -->\n     <defs>\n      <path d=\"M 34.1875 63.1875 \nL 20.796875 26.90625 \nL 47.609375 26.90625 \nz\nM 28.609375 72.90625 \nL 39.796875 72.90625 \nL 67.578125 0 \nL 57.328125 0 \nL 50.6875 18.703125 \nL 17.828125 18.703125 \nL 11.1875 0 \nL 0.78125 0 \nz\n\" id=\"DejaVuSans-65\"/>\n      <path d=\"M 8.5 21.578125 \nL 8.5 54.6875 \nL 17.484375 54.6875 \nL 17.484375 21.921875 \nQ 17.484375 14.15625 20.5 10.265625 \nQ 23.53125 6.390625 29.59375 6.390625 \nQ 36.859375 6.390625 41.078125 11.03125 \nQ 45.3125 15.671875 45.3125 23.6875 \nL 45.3125 54.6875 \nL 54.296875 54.6875 \nL 54.296875 0 \nL 45.3125 0 \nL 45.3125 8.40625 \nQ 42.046875 3.421875 37.71875 1 \nQ 33.40625 -1.421875 27.6875 -1.421875 \nQ 18.265625 -1.421875 13.375 4.4375 \nQ 8.5 10.296875 8.5 21.578125 \nz\nM 31.109375 56 \nz\n\" id=\"DejaVuSans-117\"/>\n      <path d=\"M 41.109375 46.296875 \nQ 39.59375 47.171875 37.8125 47.578125 \nQ 36.03125 48 33.890625 48 \nQ 26.265625 48 22.1875 43.046875 \nQ 18.109375 38.09375 18.109375 28.8125 \nL 18.109375 0 \nL 9.078125 0 \nL 9.078125 54.6875 \nL 18.109375 54.6875 \nL 18.109375 46.1875 \nQ 20.953125 51.171875 25.484375 53.578125 \nQ 30.03125 56 36.53125 56 \nQ 37.453125 56 38.578125 55.875 \nQ 39.703125 55.765625 41.0625 55.515625 \nz\n\" id=\"DejaVuSans-114\"/>\n      <path d=\"M 34.28125 27.484375 \nQ 23.390625 27.484375 19.1875 25 \nQ 14.984375 22.515625 14.984375 16.5 \nQ 14.984375 11.71875 18.140625 8.90625 \nQ 21.296875 6.109375 26.703125 6.109375 \nQ 34.1875 6.109375 38.703125 11.40625 \nQ 43.21875 16.703125 43.21875 25.484375 \nL 43.21875 27.484375 \nz\nM 52.203125 31.203125 \nL 52.203125 0 \nL 43.21875 0 \nL 43.21875 8.296875 \nQ 40.140625 3.328125 35.546875 0.953125 \nQ 30.953125 -1.421875 24.3125 -1.421875 \nQ 15.921875 -1.421875 10.953125 3.296875 \nQ 6 8.015625 6 15.921875 \nQ 6 25.140625 12.171875 29.828125 \nQ 18.359375 34.515625 30.609375 34.515625 \nL 43.21875 34.515625 \nL 43.21875 35.40625 \nQ 43.21875 41.609375 39.140625 45 \nQ 35.0625 48.390625 27.6875 48.390625 \nQ 23 48.390625 18.546875 47.265625 \nQ 14.109375 46.140625 10.015625 43.890625 \nL 10.015625 52.203125 \nQ 14.9375 54.109375 19.578125 55.046875 \nQ 24.21875 56 28.609375 56 \nQ 40.484375 56 46.34375 49.84375 \nQ 52.203125 43.703125 52.203125 31.203125 \nz\n\" id=\"DejaVuSans-97\"/>\n      <path d=\"M 32.171875 -5.078125 \nQ 28.375 -14.84375 24.75 -17.8125 \nQ 21.140625 -20.796875 15.09375 -20.796875 \nL 7.90625 -20.796875 \nL 7.90625 -13.28125 \nL 13.1875 -13.28125 \nQ 16.890625 -13.28125 18.9375 -11.515625 \nQ 21 -9.765625 23.484375 -3.21875 \nL 25.09375 0.875 \nL 2.984375 54.6875 \nL 12.5 54.6875 \nL 29.59375 11.921875 \nL 46.6875 54.6875 \nL 56.203125 54.6875 \nz\n\" id=\"DejaVuSans-121\"/>\n      <path d=\"M 31 75.875 \nQ 24.46875 64.65625 21.28125 53.65625 \nQ 18.109375 42.671875 18.109375 31.390625 \nQ 18.109375 20.125 21.3125 9.0625 \nQ 24.515625 -2 31 -13.1875 \nL 23.1875 -13.1875 \nQ 15.875 -1.703125 12.234375 9.375 \nQ 8.59375 20.453125 8.59375 31.390625 \nQ 8.59375 42.28125 12.203125 53.3125 \nQ 15.828125 64.359375 23.1875 75.875 \nz\n\" id=\"DejaVuSans-40\"/>\n      <path d=\"M 72.703125 32.078125 \nQ 68.453125 32.078125 66.03125 28.46875 \nQ 63.625 24.859375 63.625 18.40625 \nQ 63.625 12.0625 66.03125 8.421875 \nQ 68.453125 4.78125 72.703125 4.78125 \nQ 76.859375 4.78125 79.265625 8.421875 \nQ 81.6875 12.0625 81.6875 18.40625 \nQ 81.6875 24.8125 79.265625 28.4375 \nQ 76.859375 32.078125 72.703125 32.078125 \nz\nM 72.703125 38.28125 \nQ 80.421875 38.28125 84.953125 32.90625 \nQ 89.5 27.546875 89.5 18.40625 \nQ 89.5 9.28125 84.9375 3.921875 \nQ 80.375 -1.421875 72.703125 -1.421875 \nQ 64.890625 -1.421875 60.34375 3.921875 \nQ 55.8125 9.28125 55.8125 18.40625 \nQ 55.8125 27.59375 60.375 32.9375 \nQ 64.9375 38.28125 72.703125 38.28125 \nz\nM 22.3125 68.015625 \nQ 18.109375 68.015625 15.6875 64.375 \nQ 13.28125 60.75 13.28125 54.390625 \nQ 13.28125 47.953125 15.671875 44.328125 \nQ 18.0625 40.71875 22.3125 40.71875 \nQ 26.5625 40.71875 28.96875 44.328125 \nQ 31.390625 47.953125 31.390625 54.390625 \nQ 31.390625 60.6875 28.953125 64.34375 \nQ 26.515625 68.015625 22.3125 68.015625 \nz\nM 66.40625 74.21875 \nL 74.21875 74.21875 \nL 28.609375 -1.421875 \nL 20.796875 -1.421875 \nz\nM 22.3125 74.21875 \nQ 30.03125 74.21875 34.609375 68.875 \nQ 39.203125 63.53125 39.203125 54.390625 \nQ 39.203125 45.171875 34.640625 39.84375 \nQ 30.078125 34.515625 22.3125 34.515625 \nQ 14.546875 34.515625 10.03125 39.859375 \nQ 5.515625 45.21875 5.515625 54.390625 \nQ 5.515625 63.484375 10.046875 68.84375 \nQ 14.59375 74.21875 22.3125 74.21875 \nz\n\" id=\"DejaVuSans-37\"/>\n      <path d=\"M 8.015625 75.875 \nL 15.828125 75.875 \nQ 23.140625 64.359375 26.78125 53.3125 \nQ 30.421875 42.28125 30.421875 31.390625 \nQ 30.421875 20.453125 26.78125 9.375 \nQ 23.140625 -1.703125 15.828125 -13.1875 \nL 8.015625 -13.1875 \nQ 14.5 -2 17.703125 9.0625 \nQ 20.90625 20.125 20.90625 31.390625 \nQ 20.90625 42.671875 17.703125 53.65625 \nQ 14.5 64.65625 8.015625 75.875 \nz\n\" id=\"DejaVuSans-41\"/>\n     </defs>\n     <g transform=\"translate(511.320881 191.287656)rotate(-90)scale(0.1 -0.1)\">\n      <use xlink:href=\"#DejaVuSans-65\"/>\n      <use x=\"66.658203\" xlink:href=\"#DejaVuSans-99\"/>\n      <use x=\"121.638672\" xlink:href=\"#DejaVuSans-99\"/>\n      <use x=\"176.619141\" xlink:href=\"#DejaVuSans-117\"/>\n      <use x=\"239.998047\" xlink:href=\"#DejaVuSans-114\"/>\n      <use x=\"281.111328\" xlink:href=\"#DejaVuSans-97\"/>\n      <use x=\"342.390625\" xlink:href=\"#DejaVuSans-99\"/>\n      <use x=\"397.371094\" xlink:href=\"#DejaVuSans-121\"/>\n      <use x=\"456.550781\" xlink:href=\"#DejaVuSans-32\"/>\n      <use x=\"488.337891\" xlink:href=\"#DejaVuSans-40\"/>\n      <use x=\"527.351562\" xlink:href=\"#DejaVuSans-37\"/>\n      <use x=\"622.371094\" xlink:href=\"#DejaVuSans-41\"/>\n     </g>\n    </g>\n   </g>\n   <g id=\"line2d_36\">\n    <path clip-path=\"url(#p3147ab7ad5)\" d=\"M 555.571849 281.76358 \nL 647.803254 131.680813 \nL 740.034659 59.893641 \nL 832.266064 43.049607 \nL 924.497469 35.243835 \n\" style=\"fill:none;stroke:#1f77b4;stroke-linecap:square;stroke-width:1.5;\"/>\n    <g clip-path=\"url(#p3147ab7ad5)\">\n     <use style=\"fill:#1f77b4;stroke:#1f77b4;stroke-linejoin:miter;\" x=\"555.571849\" xlink:href=\"#mafad5cfc7c\" y=\"281.76358\"/>\n     <use style=\"fill:#1f77b4;stroke:#1f77b4;stroke-linejoin:miter;\" x=\"647.803254\" xlink:href=\"#mafad5cfc7c\" y=\"131.680813\"/>\n     <use style=\"fill:#1f77b4;stroke:#1f77b4;stroke-linejoin:miter;\" x=\"740.034659\" xlink:href=\"#mafad5cfc7c\" y=\"59.893641\"/>\n     <use style=\"fill:#1f77b4;stroke:#1f77b4;stroke-linejoin:miter;\" x=\"832.266064\" xlink:href=\"#mafad5cfc7c\" y=\"43.049607\"/>\n     <use style=\"fill:#1f77b4;stroke:#1f77b4;stroke-linejoin:miter;\" x=\"924.497469\" xlink:href=\"#mafad5cfc7c\" y=\"35.243835\"/>\n    </g>\n   </g>\n   <g id=\"line2d_37\">\n    <path clip-path=\"url(#p3147ab7ad5)\" d=\"M 555.571849 207.716056 \nL 647.803254 79.975024 \nL 740.034659 46.727345 \nL 832.266064 37.200247 \nL 924.497469 34.67267 \n\" style=\"fill:none;stroke:#ff7f0e;stroke-linecap:square;stroke-width:1.5;\"/>\n    <defs>\n     <path d=\"M 0 3 \nC 0.795609 3 1.55874 2.683901 2.12132 2.12132 \nC 2.683901 1.55874 3 0.795609 3 0 \nC 3 -0.795609 2.683901 -1.55874 2.12132 -2.12132 \nC 1.55874 -2.683901 0.795609 -3 0 -3 \nC -0.795609 -3 -1.55874 -2.683901 -2.12132 -2.12132 \nC -2.683901 -1.55874 -3 -0.795609 -3 0 \nC -3 0.795609 -2.683901 1.55874 -2.12132 2.12132 \nC -1.55874 2.683901 -0.795609 3 0 3 \nz\n\" id=\"m19d91a3c01\" style=\"stroke:#ff7f0e;\"/>\n    </defs>\n    <g clip-path=\"url(#p3147ab7ad5)\">\n     <use style=\"fill:#ff7f0e;stroke:#ff7f0e;\" x=\"555.571849\" xlink:href=\"#m19d91a3c01\" y=\"207.716056\"/>\n     <use style=\"fill:#ff7f0e;stroke:#ff7f0e;\" x=\"647.803254\" xlink:href=\"#m19d91a3c01\" y=\"79.975024\"/>\n     <use style=\"fill:#ff7f0e;stroke:#ff7f0e;\" x=\"740.034659\" xlink:href=\"#m19d91a3c01\" y=\"46.727345\"/>\n     <use style=\"fill:#ff7f0e;stroke:#ff7f0e;\" x=\"832.266064\" xlink:href=\"#m19d91a3c01\" y=\"37.200247\"/>\n     <use style=\"fill:#ff7f0e;stroke:#ff7f0e;\" x=\"924.497469\" xlink:href=\"#m19d91a3c01\" y=\"34.67267\"/>\n    </g>\n   </g>\n   <g id=\"patch_8\">\n    <path d=\"M 537.125568 294.118125 \nL 537.125568 22.318125 \n\" style=\"fill:none;stroke:#000000;stroke-linecap:square;stroke-linejoin:miter;stroke-width:0.8;\"/>\n   </g>\n   <g id=\"patch_9\">\n    <path d=\"M 942.94375 294.118125 \nL 942.94375 22.318125 \n\" style=\"fill:none;stroke:#000000;stroke-linecap:square;stroke-linejoin:miter;stroke-width:0.8;\"/>\n   </g>\n   <g id=\"patch_10\">\n    <path d=\"M 537.125568 294.118125 \nL 942.94375 294.118125 \n\" style=\"fill:none;stroke:#000000;stroke-linecap:square;stroke-linejoin:miter;stroke-width:0.8;\"/>\n   </g>\n   <g id=\"patch_11\">\n    <path d=\"M 537.125568 22.318125 \nL 942.94375 22.318125 \n\" style=\"fill:none;stroke:#000000;stroke-linecap:square;stroke-linejoin:miter;stroke-width:0.8;\"/>\n   </g>\n   <g id=\"text_40\">\n    <!-- Final model test accuracy: 91.15% -->\n    <defs>\n     <path d=\"M 9.8125 72.90625 \nL 51.703125 72.90625 \nL 51.703125 64.59375 \nL 19.671875 64.59375 \nL 19.671875 43.109375 \nL 48.578125 43.109375 \nL 48.578125 34.8125 \nL 19.671875 34.8125 \nL 19.671875 0 \nL 9.8125 0 \nz\n\" id=\"DejaVuSans-70\"/>\n     <path d=\"M 9.421875 54.6875 \nL 18.40625 54.6875 \nL 18.40625 0 \nL 9.421875 0 \nz\nM 9.421875 75.984375 \nL 18.40625 75.984375 \nL 18.40625 64.59375 \nL 9.421875 64.59375 \nz\n\" id=\"DejaVuSans-105\"/>\n     <path d=\"M 54.890625 33.015625 \nL 54.890625 0 \nL 45.90625 0 \nL 45.90625 32.71875 \nQ 45.90625 40.484375 42.875 44.328125 \nQ 39.84375 48.1875 33.796875 48.1875 \nQ 26.515625 48.1875 22.3125 43.546875 \nQ 18.109375 38.921875 18.109375 30.90625 \nL 18.109375 0 \nL 9.078125 0 \nL 9.078125 54.6875 \nL 18.109375 54.6875 \nL 18.109375 46.1875 \nQ 21.34375 51.125 25.703125 53.5625 \nQ 30.078125 56 35.796875 56 \nQ 45.21875 56 50.046875 50.171875 \nQ 54.890625 44.34375 54.890625 33.015625 \nz\n\" id=\"DejaVuSans-110\"/>\n     <path d=\"M 52 44.1875 \nQ 55.375 50.25 60.0625 53.125 \nQ 64.75 56 71.09375 56 \nQ 79.640625 56 84.28125 50.015625 \nQ 88.921875 44.046875 88.921875 33.015625 \nL 88.921875 0 \nL 79.890625 0 \nL 79.890625 32.71875 \nQ 79.890625 40.578125 77.09375 44.375 \nQ 74.3125 48.1875 68.609375 48.1875 \nQ 61.625 48.1875 57.5625 43.546875 \nQ 53.515625 38.921875 53.515625 30.90625 \nL 53.515625 0 \nL 44.484375 0 \nL 44.484375 32.71875 \nQ 44.484375 40.625 41.703125 44.40625 \nQ 38.921875 48.1875 33.109375 48.1875 \nQ 26.21875 48.1875 22.15625 43.53125 \nQ 18.109375 38.875 18.109375 30.90625 \nL 18.109375 0 \nL 9.078125 0 \nL 9.078125 54.6875 \nL 18.109375 54.6875 \nL 18.109375 46.1875 \nQ 21.1875 51.21875 25.484375 53.609375 \nQ 29.78125 56 35.6875 56 \nQ 41.65625 56 45.828125 52.96875 \nQ 50 49.953125 52 44.1875 \nz\n\" id=\"DejaVuSans-109\"/>\n     <path d=\"M 18.3125 70.21875 \nL 18.3125 54.6875 \nL 36.8125 54.6875 \nL 36.8125 47.703125 \nL 18.3125 47.703125 \nL 18.3125 18.015625 \nQ 18.3125 11.328125 20.140625 9.421875 \nQ 21.96875 7.515625 27.59375 7.515625 \nL 36.8125 7.515625 \nL 36.8125 0 \nL 27.59375 0 \nQ 17.1875 0 13.234375 3.875 \nQ 9.28125 7.765625 9.28125 18.015625 \nL 9.28125 47.703125 \nL 2.6875 47.703125 \nL 2.6875 54.6875 \nL 9.28125 54.6875 \nL 9.28125 70.21875 \nz\n\" id=\"DejaVuSans-116\"/>\n     <path d=\"M 11.71875 12.40625 \nL 22.015625 12.40625 \nL 22.015625 0 \nL 11.71875 0 \nz\nM 11.71875 51.703125 \nL 22.015625 51.703125 \nL 22.015625 39.3125 \nL 11.71875 39.3125 \nz\n\" id=\"DejaVuSans-58\"/>\n    </defs>\n    <g transform=\"translate(636.837472 16.318125)scale(0.12 -0.12)\">\n     <use xlink:href=\"#DejaVuSans-70\"/>\n     <use x=\"50.269531\" xlink:href=\"#DejaVuSans-105\"/>\n     <use x=\"78.052734\" xlink:href=\"#DejaVuSans-110\"/>\n     <use x=\"141.431641\" xlink:href=\"#DejaVuSans-97\"/>\n     <use x=\"202.710938\" xlink:href=\"#DejaVuSans-108\"/>\n     <use x=\"230.494141\" xlink:href=\"#DejaVuSans-32\"/>\n     <use x=\"262.28125\" xlink:href=\"#DejaVuSans-109\"/>\n     <use x=\"359.693359\" xlink:href=\"#DejaVuSans-111\"/>\n     <use x=\"420.875\" xlink:href=\"#DejaVuSans-100\"/>\n     <use x=\"484.351562\" xlink:href=\"#DejaVuSans-101\"/>\n     <use x=\"545.875\" xlink:href=\"#DejaVuSans-108\"/>\n     <use x=\"573.658203\" xlink:href=\"#DejaVuSans-32\"/>\n     <use x=\"605.445312\" xlink:href=\"#DejaVuSans-116\"/>\n     <use x=\"644.654297\" xlink:href=\"#DejaVuSans-101\"/>\n     <use x=\"706.177734\" xlink:href=\"#DejaVuSans-115\"/>\n     <use x=\"758.277344\" xlink:href=\"#DejaVuSans-116\"/>\n     <use x=\"797.486328\" xlink:href=\"#DejaVuSans-32\"/>\n     <use x=\"829.273438\" xlink:href=\"#DejaVuSans-97\"/>\n     <use x=\"890.552734\" xlink:href=\"#DejaVuSans-99\"/>\n     <use x=\"945.533203\" xlink:href=\"#DejaVuSans-99\"/>\n     <use x=\"1000.513672\" xlink:href=\"#DejaVuSans-117\"/>\n     <use x=\"1063.892578\" xlink:href=\"#DejaVuSans-114\"/>\n     <use x=\"1105.005859\" xlink:href=\"#DejaVuSans-97\"/>\n     <use x=\"1166.285156\" xlink:href=\"#DejaVuSans-99\"/>\n     <use x=\"1221.265625\" xlink:href=\"#DejaVuSans-121\"/>\n     <use x=\"1273.195312\" xlink:href=\"#DejaVuSans-58\"/>\n     <use x=\"1306.886719\" xlink:href=\"#DejaVuSans-32\"/>\n     <use x=\"1338.673828\" xlink:href=\"#DejaVuSans-57\"/>\n     <use x=\"1402.296875\" xlink:href=\"#DejaVuSans-49\"/>\n     <use x=\"1465.919922\" xlink:href=\"#DejaVuSans-46\"/>\n     <use x=\"1497.707031\" xlink:href=\"#DejaVuSans-49\"/>\n     <use x=\"1561.330078\" xlink:href=\"#DejaVuSans-53\"/>\n     <use x=\"1624.953125\" xlink:href=\"#DejaVuSans-37\"/>\n    </g>\n   </g>\n   <g id=\"legend_1\">\n    <g id=\"patch_12\">\n     <path d=\"M 544.125568 59.674375 \nL 600.113068 59.674375 \nQ 602.113068 59.674375 602.113068 57.674375 \nL 602.113068 29.318125 \nQ 602.113068 27.318125 600.113068 27.318125 \nL 544.125568 27.318125 \nQ 542.125568 27.318125 542.125568 29.318125 \nL 542.125568 57.674375 \nQ 542.125568 59.674375 544.125568 59.674375 \nz\n\" style=\"fill:#ffffff;opacity:0.8;stroke:#cccccc;stroke-linejoin:miter;\"/>\n    </g>\n    <g id=\"line2d_38\">\n     <path d=\"M 546.125568 35.416562 \nL 566.125568 35.416562 \n\" style=\"fill:none;stroke:#1f77b4;stroke-linecap:square;stroke-width:1.5;\"/>\n    </g>\n    <g id=\"line2d_39\">\n     <g>\n      <use style=\"fill:#1f77b4;stroke:#1f77b4;stroke-linejoin:miter;\" x=\"556.125568\" xlink:href=\"#mafad5cfc7c\" y=\"35.416562\"/>\n     </g>\n    </g>\n    <g id=\"text_41\">\n     <!-- Train -->\n     <defs>\n      <path d=\"M -0.296875 72.90625 \nL 61.375 72.90625 \nL 61.375 64.59375 \nL 35.5 64.59375 \nL 35.5 0 \nL 25.59375 0 \nL 25.59375 64.59375 \nL -0.296875 64.59375 \nz\n\" id=\"DejaVuSans-84\"/>\n     </defs>\n     <g transform=\"translate(574.125568 38.916562)scale(0.1 -0.1)\">\n      <use xlink:href=\"#DejaVuSans-84\"/>\n      <use x=\"46.333984\" xlink:href=\"#DejaVuSans-114\"/>\n      <use x=\"87.447266\" xlink:href=\"#DejaVuSans-97\"/>\n      <use x=\"148.726562\" xlink:href=\"#DejaVuSans-105\"/>\n      <use x=\"176.509766\" xlink:href=\"#DejaVuSans-110\"/>\n     </g>\n    </g>\n    <g id=\"line2d_40\">\n     <path d=\"M 546.125568 50.094688 \nL 566.125568 50.094688 \n\" style=\"fill:none;stroke:#ff7f0e;stroke-linecap:square;stroke-width:1.5;\"/>\n    </g>\n    <g id=\"line2d_41\">\n     <g>\n      <use style=\"fill:#ff7f0e;stroke:#ff7f0e;\" x=\"556.125568\" xlink:href=\"#m19d91a3c01\" y=\"50.094688\"/>\n     </g>\n    </g>\n    <g id=\"text_42\">\n     <!-- Test -->\n     <g transform=\"translate(574.125568 53.594688)scale(0.1 -0.1)\">\n      <use xlink:href=\"#DejaVuSans-84\"/>\n      <use x=\"44.083984\" xlink:href=\"#DejaVuSans-101\"/>\n      <use x=\"105.607422\" xlink:href=\"#DejaVuSans-115\"/>\n      <use x=\"157.707031\" xlink:href=\"#DejaVuSans-116\"/>\n     </g>\n    </g>\n   </g>\n  </g>\n </g>\n <defs>\n  <clipPath id=\"pf495a259e8\">\n   <rect height=\"271.8\" width=\"405.818182\" x=\"50.14375\" y=\"22.318125\"/>\n  </clipPath>\n  <clipPath id=\"p3147ab7ad5\">\n   <rect height=\"271.8\" width=\"405.818182\" x=\"537.125568\" y=\"22.318125\"/>\n  </clipPath>\n </defs>\n</svg>\n"
          },
          "metadata": {
            "needs_background": "light"
          }
        }
      ]
    },
    {
      "cell_type": "markdown",
      "source": [
        "## Test the model on the fashion data"
      ],
      "metadata": {
        "id": "O8LRT2FAFuvz"
      }
    },
    {
      "cell_type": "code",
      "source": [
        "# test the model with fashion data\n",
        "\n",
        "# extract X,y from FASHION test dataloader\n",
        "X,y = next(iter(fashion_test_loader))\n",
        "yHat = numberNet(X)\n",
        "\n",
        "# the test\n",
        "fashionAcc = 100*torch.mean((torch.argmax(yHat,axis=1)==y).float())\n",
        "\n",
        "print(f'NUMBERNET performance on FASHION data: {fashionAcc:.2f}%')"
      ],
      "metadata": {
        "colab": {
          "base_uri": "https://localhost:8080/"
        },
        "id": "VVVuL2_FFs08",
        "outputId": "e2b1fa39-8911-4208-d46c-007ce63492ec"
      },
      "execution_count": 9,
      "outputs": [
        {
          "output_type": "stream",
          "name": "stdout",
          "text": [
            "NUMBERNET performance on FASHION data: 5.29%\n"
          ]
        }
      ]
    },
    {
      "cell_type": "markdown",
      "source": [
        "## Fine-tune the model using one batch"
      ],
      "metadata": {
        "id": "O5ED4p33Fyxb"
      }
    },
    {
      "cell_type": "code",
      "source": [
        "# create the target model\n",
        "fashionNet,lossfun,optimizer = createTheMNISTNet()\n",
        "\n",
        "# then replace all the weights in TARGET model from SOURCE model\n",
        "for target,source in zip(fashionNet.named_parameters(),numberNet.named_parameters()):\n",
        "  target[1].data = copy.deepcopy( source[1].data )"
      ],
      "metadata": {
        "id": "Lyi9nJVvFsyM"
      },
      "execution_count": 10,
      "outputs": []
    },
    {
      "cell_type": "code",
      "source": [
        "# Note: you'd think that the following should work, but deepcopy() doesn't copy many features of classes.\n",
        "# Try it and see what happens!\n",
        "#DUDL_transfer_MNISTtoFMNIST = copy.deepcopy( numberNet )"
      ],
      "metadata": {
        "id": "qTMe6VdtFsvj"
      },
      "execution_count": 11,
      "outputs": []
    },
    {
      "cell_type": "code",
      "source": [
        "%%time\n",
        "# now re-train the network on the numbers data\n",
        "\n",
        "trainAcc,testAcc,losses,fashionNet = function2trainTheModel(\n",
        "                                         fashionNet,fashion_train_loader,fashion_test_loader,5)"
      ],
      "metadata": {
        "colab": {
          "base_uri": "https://localhost:8080/"
        },
        "id": "sJSnVHS-F3X7",
        "outputId": "5bad1299-f27e-4b9f-a393-08c2d720728d"
      },
      "execution_count": 15,
      "outputs": [
        {
          "output_type": "stream",
          "name": "stdout",
          "text": [
            "CPU times: user 3min 10s, sys: 2.94 s, total: 3min 13s\n",
            "Wall time: 3min 13s\n"
          ]
        }
      ]
    },
    {
      "cell_type": "code",
      "source": [
        "print(f'numberNet TRAIN accuracy: {trainAcc[-1]:.2f}%')\n",
        "print(f'numberNet TEST accuracy: {testAcc[-1]:.2f}%')"
      ],
      "metadata": {
        "colab": {
          "base_uri": "https://localhost:8080/"
        },
        "id": "eeee3qUEF3VM",
        "outputId": "5e5fa547-2cdd-447e-eeca-d3d109062bdb"
      },
      "execution_count": 16,
      "outputs": [
        {
          "output_type": "stream",
          "name": "stdout",
          "text": [
            "numberNet TRAIN accuracy: 86.35%\n",
            "numberNet TEST accuracy: 86.29%\n"
          ]
        }
      ]
    },
    {
      "cell_type": "code",
      "source": [
        "fig,ax = plt.subplots(1,2,figsize=(16,5))\n",
        "\n",
        "ax[0].plot(losses,'s-')\n",
        "ax[0].set_xlabel('Epochs')\n",
        "ax[0].set_ylabel('Loss')\n",
        "ax[0].set_title('Model loss')\n",
        "\n",
        "ax[1].plot(trainAcc,'s-',label='Train')\n",
        "ax[1].plot(testAcc,'o-',label='Test')\n",
        "ax[1].set_xlabel('Epochs')\n",
        "ax[1].set_ylabel('Accuracy (%)')\n",
        "ax[1].set_title(f'Final model test accuracy: {testAcc[-1]:.2f}%')\n",
        "ax[1].legend()\n",
        "\n",
        "plt.show()"
      ],
      "metadata": {
        "colab": {
          "base_uri": "https://localhost:8080/",
          "height": 463
        },
        "id": "irzx-FxPF3Rj",
        "outputId": "cedd1983-1c90-4d81-a864-b8314e1237c8"
      },
      "execution_count": 17,
      "outputs": [
        {
          "output_type": "display_data",
          "data": {
            "text/plain": [
              "<Figure size 1152x360 with 2 Axes>"
            ],
            "image/svg+xml": "<?xml version=\"1.0\" encoding=\"utf-8\" standalone=\"no\"?>\n<!DOCTYPE svg PUBLIC \"-//W3C//DTD SVG 1.1//EN\"\n  \"http://www.w3.org/Graphics/SVG/1.1/DTD/svg11.dtd\">\n<!-- Created with matplotlib (https://matplotlib.org/) -->\n<svg height=\"331.674375pt\" version=\"1.1\" viewBox=\"0 0 956.50625 331.674375\" width=\"956.50625pt\" xmlns=\"http://www.w3.org/2000/svg\" xmlns:xlink=\"http://www.w3.org/1999/xlink\">\n <defs>\n  <style type=\"text/css\">\n*{stroke-linecap:butt;stroke-linejoin:round;}\n  </style>\n </defs>\n <g id=\"figure_1\">\n  <g id=\"patch_1\">\n   <path d=\"M 0 331.674375 \nL 956.50625 331.674375 \nL 956.50625 0 \nL 0 0 \nz\n\" style=\"fill:none;\"/>\n  </g>\n  <g id=\"axes_1\">\n   <g id=\"patch_2\">\n    <path d=\"M 56.50625 294.118125 \nL 462.324432 294.118125 \nL 462.324432 22.318125 \nL 56.50625 22.318125 \nz\n\" style=\"fill:#ffffff;\"/>\n   </g>\n   <g id=\"matplotlib.axis_1\">\n    <g id=\"xtick_1\">\n     <g id=\"line2d_1\">\n      <defs>\n       <path d=\"M 0 0 \nL 0 3.5 \n\" id=\"md9ca089f51\" style=\"stroke:#000000;stroke-width:0.8;\"/>\n      </defs>\n      <g>\n       <use style=\"stroke:#000000;stroke-width:0.8;\" x=\"74.952531\" xlink:href=\"#md9ca089f51\" y=\"294.118125\"/>\n      </g>\n     </g>\n     <g id=\"text_1\">\n      <!-- 0.0 -->\n      <defs>\n       <path d=\"M 31.78125 66.40625 \nQ 24.171875 66.40625 20.328125 58.90625 \nQ 16.5 51.421875 16.5 36.375 \nQ 16.5 21.390625 20.328125 13.890625 \nQ 24.171875 6.390625 31.78125 6.390625 \nQ 39.453125 6.390625 43.28125 13.890625 \nQ 47.125 21.390625 47.125 36.375 \nQ 47.125 51.421875 43.28125 58.90625 \nQ 39.453125 66.40625 31.78125 66.40625 \nz\nM 31.78125 74.21875 \nQ 44.046875 74.21875 50.515625 64.515625 \nQ 56.984375 54.828125 56.984375 36.375 \nQ 56.984375 17.96875 50.515625 8.265625 \nQ 44.046875 -1.421875 31.78125 -1.421875 \nQ 19.53125 -1.421875 13.0625 8.265625 \nQ 6.59375 17.96875 6.59375 36.375 \nQ 6.59375 54.828125 13.0625 64.515625 \nQ 19.53125 74.21875 31.78125 74.21875 \nz\n\" id=\"DejaVuSans-48\"/>\n       <path d=\"M 10.6875 12.40625 \nL 21 12.40625 \nL 21 0 \nL 10.6875 0 \nz\n\" id=\"DejaVuSans-46\"/>\n      </defs>\n      <g transform=\"translate(67.000968 308.716563)scale(0.1 -0.1)\">\n       <use xlink:href=\"#DejaVuSans-48\"/>\n       <use x=\"63.623047\" xlink:href=\"#DejaVuSans-46\"/>\n       <use x=\"95.410156\" xlink:href=\"#DejaVuSans-48\"/>\n      </g>\n     </g>\n    </g>\n    <g id=\"xtick_2\">\n     <g id=\"line2d_2\">\n      <g>\n       <use style=\"stroke:#000000;stroke-width:0.8;\" x=\"121.068233\" xlink:href=\"#md9ca089f51\" y=\"294.118125\"/>\n      </g>\n     </g>\n     <g id=\"text_2\">\n      <!-- 0.5 -->\n      <defs>\n       <path d=\"M 10.796875 72.90625 \nL 49.515625 72.90625 \nL 49.515625 64.59375 \nL 19.828125 64.59375 \nL 19.828125 46.734375 \nQ 21.96875 47.46875 24.109375 47.828125 \nQ 26.265625 48.1875 28.421875 48.1875 \nQ 40.625 48.1875 47.75 41.5 \nQ 54.890625 34.8125 54.890625 23.390625 \nQ 54.890625 11.625 47.5625 5.09375 \nQ 40.234375 -1.421875 26.90625 -1.421875 \nQ 22.3125 -1.421875 17.546875 -0.640625 \nQ 12.796875 0.140625 7.71875 1.703125 \nL 7.71875 11.625 \nQ 12.109375 9.234375 16.796875 8.0625 \nQ 21.484375 6.890625 26.703125 6.890625 \nQ 35.15625 6.890625 40.078125 11.328125 \nQ 45.015625 15.765625 45.015625 23.390625 \nQ 45.015625 31 40.078125 35.4375 \nQ 35.15625 39.890625 26.703125 39.890625 \nQ 22.75 39.890625 18.8125 39.015625 \nQ 14.890625 38.140625 10.796875 36.28125 \nz\n\" id=\"DejaVuSans-53\"/>\n      </defs>\n      <g transform=\"translate(113.116671 308.716563)scale(0.1 -0.1)\">\n       <use xlink:href=\"#DejaVuSans-48\"/>\n       <use x=\"63.623047\" xlink:href=\"#DejaVuSans-46\"/>\n       <use x=\"95.410156\" xlink:href=\"#DejaVuSans-53\"/>\n      </g>\n     </g>\n    </g>\n    <g id=\"xtick_3\">\n     <g id=\"line2d_3\">\n      <g>\n       <use style=\"stroke:#000000;stroke-width:0.8;\" x=\"167.183936\" xlink:href=\"#md9ca089f51\" y=\"294.118125\"/>\n      </g>\n     </g>\n     <g id=\"text_3\">\n      <!-- 1.0 -->\n      <defs>\n       <path d=\"M 12.40625 8.296875 \nL 28.515625 8.296875 \nL 28.515625 63.921875 \nL 10.984375 60.40625 \nL 10.984375 69.390625 \nL 28.421875 72.90625 \nL 38.28125 72.90625 \nL 38.28125 8.296875 \nL 54.390625 8.296875 \nL 54.390625 0 \nL 12.40625 0 \nz\n\" id=\"DejaVuSans-49\"/>\n      </defs>\n      <g transform=\"translate(159.232373 308.716563)scale(0.1 -0.1)\">\n       <use xlink:href=\"#DejaVuSans-49\"/>\n       <use x=\"63.623047\" xlink:href=\"#DejaVuSans-46\"/>\n       <use x=\"95.410156\" xlink:href=\"#DejaVuSans-48\"/>\n      </g>\n     </g>\n    </g>\n    <g id=\"xtick_4\">\n     <g id=\"line2d_4\">\n      <g>\n       <use style=\"stroke:#000000;stroke-width:0.8;\" x=\"213.299638\" xlink:href=\"#md9ca089f51\" y=\"294.118125\"/>\n      </g>\n     </g>\n     <g id=\"text_4\">\n      <!-- 1.5 -->\n      <g transform=\"translate(205.348076 308.716563)scale(0.1 -0.1)\">\n       <use xlink:href=\"#DejaVuSans-49\"/>\n       <use x=\"63.623047\" xlink:href=\"#DejaVuSans-46\"/>\n       <use x=\"95.410156\" xlink:href=\"#DejaVuSans-53\"/>\n      </g>\n     </g>\n    </g>\n    <g id=\"xtick_5\">\n     <g id=\"line2d_5\">\n      <g>\n       <use style=\"stroke:#000000;stroke-width:0.8;\" x=\"259.415341\" xlink:href=\"#md9ca089f51\" y=\"294.118125\"/>\n      </g>\n     </g>\n     <g id=\"text_5\">\n      <!-- 2.0 -->\n      <defs>\n       <path d=\"M 19.1875 8.296875 \nL 53.609375 8.296875 \nL 53.609375 0 \nL 7.328125 0 \nL 7.328125 8.296875 \nQ 12.9375 14.109375 22.625 23.890625 \nQ 32.328125 33.6875 34.8125 36.53125 \nQ 39.546875 41.84375 41.421875 45.53125 \nQ 43.3125 49.21875 43.3125 52.78125 \nQ 43.3125 58.59375 39.234375 62.25 \nQ 35.15625 65.921875 28.609375 65.921875 \nQ 23.96875 65.921875 18.8125 64.3125 \nQ 13.671875 62.703125 7.8125 59.421875 \nL 7.8125 69.390625 \nQ 13.765625 71.78125 18.9375 73 \nQ 24.125 74.21875 28.421875 74.21875 \nQ 39.75 74.21875 46.484375 68.546875 \nQ 53.21875 62.890625 53.21875 53.421875 \nQ 53.21875 48.921875 51.53125 44.890625 \nQ 49.859375 40.875 45.40625 35.40625 \nQ 44.1875 33.984375 37.640625 27.21875 \nQ 31.109375 20.453125 19.1875 8.296875 \nz\n\" id=\"DejaVuSans-50\"/>\n      </defs>\n      <g transform=\"translate(251.463778 308.716563)scale(0.1 -0.1)\">\n       <use xlink:href=\"#DejaVuSans-50\"/>\n       <use x=\"63.623047\" xlink:href=\"#DejaVuSans-46\"/>\n       <use x=\"95.410156\" xlink:href=\"#DejaVuSans-48\"/>\n      </g>\n     </g>\n    </g>\n    <g id=\"xtick_6\">\n     <g id=\"line2d_6\">\n      <g>\n       <use style=\"stroke:#000000;stroke-width:0.8;\" x=\"305.531043\" xlink:href=\"#md9ca089f51\" y=\"294.118125\"/>\n      </g>\n     </g>\n     <g id=\"text_6\">\n      <!-- 2.5 -->\n      <g transform=\"translate(297.579481 308.716563)scale(0.1 -0.1)\">\n       <use xlink:href=\"#DejaVuSans-50\"/>\n       <use x=\"63.623047\" xlink:href=\"#DejaVuSans-46\"/>\n       <use x=\"95.410156\" xlink:href=\"#DejaVuSans-53\"/>\n      </g>\n     </g>\n    </g>\n    <g id=\"xtick_7\">\n     <g id=\"line2d_7\">\n      <g>\n       <use style=\"stroke:#000000;stroke-width:0.8;\" x=\"351.646746\" xlink:href=\"#md9ca089f51\" y=\"294.118125\"/>\n      </g>\n     </g>\n     <g id=\"text_7\">\n      <!-- 3.0 -->\n      <defs>\n       <path d=\"M 40.578125 39.3125 \nQ 47.65625 37.796875 51.625 33 \nQ 55.609375 28.21875 55.609375 21.1875 \nQ 55.609375 10.40625 48.1875 4.484375 \nQ 40.765625 -1.421875 27.09375 -1.421875 \nQ 22.515625 -1.421875 17.65625 -0.515625 \nQ 12.796875 0.390625 7.625 2.203125 \nL 7.625 11.71875 \nQ 11.71875 9.328125 16.59375 8.109375 \nQ 21.484375 6.890625 26.8125 6.890625 \nQ 36.078125 6.890625 40.9375 10.546875 \nQ 45.796875 14.203125 45.796875 21.1875 \nQ 45.796875 27.640625 41.28125 31.265625 \nQ 36.765625 34.90625 28.71875 34.90625 \nL 20.21875 34.90625 \nL 20.21875 43.015625 \nL 29.109375 43.015625 \nQ 36.375 43.015625 40.234375 45.921875 \nQ 44.09375 48.828125 44.09375 54.296875 \nQ 44.09375 59.90625 40.109375 62.90625 \nQ 36.140625 65.921875 28.71875 65.921875 \nQ 24.65625 65.921875 20.015625 65.03125 \nQ 15.375 64.15625 9.8125 62.3125 \nL 9.8125 71.09375 \nQ 15.4375 72.65625 20.34375 73.4375 \nQ 25.25 74.21875 29.59375 74.21875 \nQ 40.828125 74.21875 47.359375 69.109375 \nQ 53.90625 64.015625 53.90625 55.328125 \nQ 53.90625 49.265625 50.4375 45.09375 \nQ 46.96875 40.921875 40.578125 39.3125 \nz\n\" id=\"DejaVuSans-51\"/>\n      </defs>\n      <g transform=\"translate(343.695183 308.716563)scale(0.1 -0.1)\">\n       <use xlink:href=\"#DejaVuSans-51\"/>\n       <use x=\"63.623047\" xlink:href=\"#DejaVuSans-46\"/>\n       <use x=\"95.410156\" xlink:href=\"#DejaVuSans-48\"/>\n      </g>\n     </g>\n    </g>\n    <g id=\"xtick_8\">\n     <g id=\"line2d_8\">\n      <g>\n       <use style=\"stroke:#000000;stroke-width:0.8;\" x=\"397.762448\" xlink:href=\"#md9ca089f51\" y=\"294.118125\"/>\n      </g>\n     </g>\n     <g id=\"text_8\">\n      <!-- 3.5 -->\n      <g transform=\"translate(389.810886 308.716563)scale(0.1 -0.1)\">\n       <use xlink:href=\"#DejaVuSans-51\"/>\n       <use x=\"63.623047\" xlink:href=\"#DejaVuSans-46\"/>\n       <use x=\"95.410156\" xlink:href=\"#DejaVuSans-53\"/>\n      </g>\n     </g>\n    </g>\n    <g id=\"xtick_9\">\n     <g id=\"line2d_9\">\n      <g>\n       <use style=\"stroke:#000000;stroke-width:0.8;\" x=\"443.878151\" xlink:href=\"#md9ca089f51\" y=\"294.118125\"/>\n      </g>\n     </g>\n     <g id=\"text_9\">\n      <!-- 4.0 -->\n      <defs>\n       <path d=\"M 37.796875 64.3125 \nL 12.890625 25.390625 \nL 37.796875 25.390625 \nz\nM 35.203125 72.90625 \nL 47.609375 72.90625 \nL 47.609375 25.390625 \nL 58.015625 25.390625 \nL 58.015625 17.1875 \nL 47.609375 17.1875 \nL 47.609375 0 \nL 37.796875 0 \nL 37.796875 17.1875 \nL 4.890625 17.1875 \nL 4.890625 26.703125 \nz\n\" id=\"DejaVuSans-52\"/>\n      </defs>\n      <g transform=\"translate(435.926588 308.716563)scale(0.1 -0.1)\">\n       <use xlink:href=\"#DejaVuSans-52\"/>\n       <use x=\"63.623047\" xlink:href=\"#DejaVuSans-46\"/>\n       <use x=\"95.410156\" xlink:href=\"#DejaVuSans-48\"/>\n      </g>\n     </g>\n    </g>\n    <g id=\"text_10\">\n     <!-- Epochs -->\n     <defs>\n      <path d=\"M 9.8125 72.90625 \nL 55.90625 72.90625 \nL 55.90625 64.59375 \nL 19.671875 64.59375 \nL 19.671875 43.015625 \nL 54.390625 43.015625 \nL 54.390625 34.71875 \nL 19.671875 34.71875 \nL 19.671875 8.296875 \nL 56.78125 8.296875 \nL 56.78125 0 \nL 9.8125 0 \nz\n\" id=\"DejaVuSans-69\"/>\n      <path d=\"M 18.109375 8.203125 \nL 18.109375 -20.796875 \nL 9.078125 -20.796875 \nL 9.078125 54.6875 \nL 18.109375 54.6875 \nL 18.109375 46.390625 \nQ 20.953125 51.265625 25.265625 53.625 \nQ 29.59375 56 35.59375 56 \nQ 45.5625 56 51.78125 48.09375 \nQ 58.015625 40.1875 58.015625 27.296875 \nQ 58.015625 14.40625 51.78125 6.484375 \nQ 45.5625 -1.421875 35.59375 -1.421875 \nQ 29.59375 -1.421875 25.265625 0.953125 \nQ 20.953125 3.328125 18.109375 8.203125 \nz\nM 48.6875 27.296875 \nQ 48.6875 37.203125 44.609375 42.84375 \nQ 40.53125 48.484375 33.40625 48.484375 \nQ 26.265625 48.484375 22.1875 42.84375 \nQ 18.109375 37.203125 18.109375 27.296875 \nQ 18.109375 17.390625 22.1875 11.75 \nQ 26.265625 6.109375 33.40625 6.109375 \nQ 40.53125 6.109375 44.609375 11.75 \nQ 48.6875 17.390625 48.6875 27.296875 \nz\n\" id=\"DejaVuSans-112\"/>\n      <path d=\"M 30.609375 48.390625 \nQ 23.390625 48.390625 19.1875 42.75 \nQ 14.984375 37.109375 14.984375 27.296875 \nQ 14.984375 17.484375 19.15625 11.84375 \nQ 23.34375 6.203125 30.609375 6.203125 \nQ 37.796875 6.203125 41.984375 11.859375 \nQ 46.1875 17.53125 46.1875 27.296875 \nQ 46.1875 37.015625 41.984375 42.703125 \nQ 37.796875 48.390625 30.609375 48.390625 \nz\nM 30.609375 56 \nQ 42.328125 56 49.015625 48.375 \nQ 55.71875 40.765625 55.71875 27.296875 \nQ 55.71875 13.875 49.015625 6.21875 \nQ 42.328125 -1.421875 30.609375 -1.421875 \nQ 18.84375 -1.421875 12.171875 6.21875 \nQ 5.515625 13.875 5.515625 27.296875 \nQ 5.515625 40.765625 12.171875 48.375 \nQ 18.84375 56 30.609375 56 \nz\n\" id=\"DejaVuSans-111\"/>\n      <path d=\"M 48.78125 52.59375 \nL 48.78125 44.1875 \nQ 44.96875 46.296875 41.140625 47.34375 \nQ 37.3125 48.390625 33.40625 48.390625 \nQ 24.65625 48.390625 19.8125 42.84375 \nQ 14.984375 37.3125 14.984375 27.296875 \nQ 14.984375 17.28125 19.8125 11.734375 \nQ 24.65625 6.203125 33.40625 6.203125 \nQ 37.3125 6.203125 41.140625 7.25 \nQ 44.96875 8.296875 48.78125 10.40625 \nL 48.78125 2.09375 \nQ 45.015625 0.34375 40.984375 -0.53125 \nQ 36.96875 -1.421875 32.421875 -1.421875 \nQ 20.0625 -1.421875 12.78125 6.34375 \nQ 5.515625 14.109375 5.515625 27.296875 \nQ 5.515625 40.671875 12.859375 48.328125 \nQ 20.21875 56 33.015625 56 \nQ 37.15625 56 41.109375 55.140625 \nQ 45.0625 54.296875 48.78125 52.59375 \nz\n\" id=\"DejaVuSans-99\"/>\n      <path d=\"M 54.890625 33.015625 \nL 54.890625 0 \nL 45.90625 0 \nL 45.90625 32.71875 \nQ 45.90625 40.484375 42.875 44.328125 \nQ 39.84375 48.1875 33.796875 48.1875 \nQ 26.515625 48.1875 22.3125 43.546875 \nQ 18.109375 38.921875 18.109375 30.90625 \nL 18.109375 0 \nL 9.078125 0 \nL 9.078125 75.984375 \nL 18.109375 75.984375 \nL 18.109375 46.1875 \nQ 21.34375 51.125 25.703125 53.5625 \nQ 30.078125 56 35.796875 56 \nQ 45.21875 56 50.046875 50.171875 \nQ 54.890625 44.34375 54.890625 33.015625 \nz\n\" id=\"DejaVuSans-104\"/>\n      <path d=\"M 44.28125 53.078125 \nL 44.28125 44.578125 \nQ 40.484375 46.53125 36.375 47.5 \nQ 32.28125 48.484375 27.875 48.484375 \nQ 21.1875 48.484375 17.84375 46.4375 \nQ 14.5 44.390625 14.5 40.28125 \nQ 14.5 37.15625 16.890625 35.375 \nQ 19.28125 33.59375 26.515625 31.984375 \nL 29.59375 31.296875 \nQ 39.15625 29.25 43.1875 25.515625 \nQ 47.21875 21.78125 47.21875 15.09375 \nQ 47.21875 7.46875 41.1875 3.015625 \nQ 35.15625 -1.421875 24.609375 -1.421875 \nQ 20.21875 -1.421875 15.453125 -0.5625 \nQ 10.6875 0.296875 5.421875 2 \nL 5.421875 11.28125 \nQ 10.40625 8.6875 15.234375 7.390625 \nQ 20.0625 6.109375 24.8125 6.109375 \nQ 31.15625 6.109375 34.5625 8.28125 \nQ 37.984375 10.453125 37.984375 14.40625 \nQ 37.984375 18.0625 35.515625 20.015625 \nQ 33.0625 21.96875 24.703125 23.78125 \nL 21.578125 24.515625 \nQ 13.234375 26.265625 9.515625 29.90625 \nQ 5.8125 33.546875 5.8125 39.890625 \nQ 5.8125 47.609375 11.28125 51.796875 \nQ 16.75 56 26.8125 56 \nQ 31.78125 56 36.171875 55.265625 \nQ 40.578125 54.546875 44.28125 53.078125 \nz\n\" id=\"DejaVuSans-115\"/>\n     </defs>\n     <g transform=\"translate(241.499716 322.394687)scale(0.1 -0.1)\">\n      <use xlink:href=\"#DejaVuSans-69\"/>\n      <use x=\"63.183594\" xlink:href=\"#DejaVuSans-112\"/>\n      <use x=\"126.660156\" xlink:href=\"#DejaVuSans-111\"/>\n      <use x=\"187.841797\" xlink:href=\"#DejaVuSans-99\"/>\n      <use x=\"242.822266\" xlink:href=\"#DejaVuSans-104\"/>\n      <use x=\"306.201172\" xlink:href=\"#DejaVuSans-115\"/>\n     </g>\n    </g>\n   </g>\n   <g id=\"matplotlib.axis_2\">\n    <g id=\"ytick_1\">\n     <g id=\"line2d_10\">\n      <defs>\n       <path d=\"M 0 0 \nL -3.5 0 \n\" id=\"m77639f67bd\" style=\"stroke:#000000;stroke-width:0.8;\"/>\n      </defs>\n      <g>\n       <use style=\"stroke:#000000;stroke-width:0.8;\" x=\"56.50625\" xlink:href=\"#m77639f67bd\" y=\"287.749965\"/>\n      </g>\n     </g>\n     <g id=\"text_11\">\n      <!-- 0.375 -->\n      <defs>\n       <path d=\"M 8.203125 72.90625 \nL 55.078125 72.90625 \nL 55.078125 68.703125 \nL 28.609375 0 \nL 18.3125 0 \nL 43.21875 64.59375 \nL 8.203125 64.59375 \nz\n\" id=\"DejaVuSans-55\"/>\n      </defs>\n      <g transform=\"translate(20.878125 291.549183)scale(0.1 -0.1)\">\n       <use xlink:href=\"#DejaVuSans-48\"/>\n       <use x=\"63.623047\" xlink:href=\"#DejaVuSans-46\"/>\n       <use x=\"95.410156\" xlink:href=\"#DejaVuSans-51\"/>\n       <use x=\"159.033203\" xlink:href=\"#DejaVuSans-55\"/>\n       <use x=\"222.65625\" xlink:href=\"#DejaVuSans-53\"/>\n      </g>\n     </g>\n    </g>\n    <g id=\"ytick_2\">\n     <g id=\"line2d_11\">\n      <g>\n       <use style=\"stroke:#000000;stroke-width:0.8;\" x=\"56.50625\" xlink:href=\"#m77639f67bd\" y=\"251.575467\"/>\n      </g>\n     </g>\n     <g id=\"text_12\">\n      <!-- 0.400 -->\n      <g transform=\"translate(20.878125 255.374686)scale(0.1 -0.1)\">\n       <use xlink:href=\"#DejaVuSans-48\"/>\n       <use x=\"63.623047\" xlink:href=\"#DejaVuSans-46\"/>\n       <use x=\"95.410156\" xlink:href=\"#DejaVuSans-52\"/>\n       <use x=\"159.033203\" xlink:href=\"#DejaVuSans-48\"/>\n       <use x=\"222.65625\" xlink:href=\"#DejaVuSans-48\"/>\n      </g>\n     </g>\n    </g>\n    <g id=\"ytick_3\">\n     <g id=\"line2d_12\">\n      <g>\n       <use style=\"stroke:#000000;stroke-width:0.8;\" x=\"56.50625\" xlink:href=\"#m77639f67bd\" y=\"215.40097\"/>\n      </g>\n     </g>\n     <g id=\"text_13\">\n      <!-- 0.425 -->\n      <g transform=\"translate(20.878125 219.200189)scale(0.1 -0.1)\">\n       <use xlink:href=\"#DejaVuSans-48\"/>\n       <use x=\"63.623047\" xlink:href=\"#DejaVuSans-46\"/>\n       <use x=\"95.410156\" xlink:href=\"#DejaVuSans-52\"/>\n       <use x=\"159.033203\" xlink:href=\"#DejaVuSans-50\"/>\n       <use x=\"222.65625\" xlink:href=\"#DejaVuSans-53\"/>\n      </g>\n     </g>\n    </g>\n    <g id=\"ytick_4\">\n     <g id=\"line2d_13\">\n      <g>\n       <use style=\"stroke:#000000;stroke-width:0.8;\" x=\"56.50625\" xlink:href=\"#m77639f67bd\" y=\"179.226473\"/>\n      </g>\n     </g>\n     <g id=\"text_14\">\n      <!-- 0.450 -->\n      <g transform=\"translate(20.878125 183.025691)scale(0.1 -0.1)\">\n       <use xlink:href=\"#DejaVuSans-48\"/>\n       <use x=\"63.623047\" xlink:href=\"#DejaVuSans-46\"/>\n       <use x=\"95.410156\" xlink:href=\"#DejaVuSans-52\"/>\n       <use x=\"159.033203\" xlink:href=\"#DejaVuSans-53\"/>\n       <use x=\"222.65625\" xlink:href=\"#DejaVuSans-48\"/>\n      </g>\n     </g>\n    </g>\n    <g id=\"ytick_5\">\n     <g id=\"line2d_14\">\n      <g>\n       <use style=\"stroke:#000000;stroke-width:0.8;\" x=\"56.50625\" xlink:href=\"#m77639f67bd\" y=\"143.051975\"/>\n      </g>\n     </g>\n     <g id=\"text_15\">\n      <!-- 0.475 -->\n      <g transform=\"translate(20.878125 146.851194)scale(0.1 -0.1)\">\n       <use xlink:href=\"#DejaVuSans-48\"/>\n       <use x=\"63.623047\" xlink:href=\"#DejaVuSans-46\"/>\n       <use x=\"95.410156\" xlink:href=\"#DejaVuSans-52\"/>\n       <use x=\"159.033203\" xlink:href=\"#DejaVuSans-55\"/>\n       <use x=\"222.65625\" xlink:href=\"#DejaVuSans-53\"/>\n      </g>\n     </g>\n    </g>\n    <g id=\"ytick_6\">\n     <g id=\"line2d_15\">\n      <g>\n       <use style=\"stroke:#000000;stroke-width:0.8;\" x=\"56.50625\" xlink:href=\"#m77639f67bd\" y=\"106.877478\"/>\n      </g>\n     </g>\n     <g id=\"text_16\">\n      <!-- 0.500 -->\n      <g transform=\"translate(20.878125 110.676697)scale(0.1 -0.1)\">\n       <use xlink:href=\"#DejaVuSans-48\"/>\n       <use x=\"63.623047\" xlink:href=\"#DejaVuSans-46\"/>\n       <use x=\"95.410156\" xlink:href=\"#DejaVuSans-53\"/>\n       <use x=\"159.033203\" xlink:href=\"#DejaVuSans-48\"/>\n       <use x=\"222.65625\" xlink:href=\"#DejaVuSans-48\"/>\n      </g>\n     </g>\n    </g>\n    <g id=\"ytick_7\">\n     <g id=\"line2d_16\">\n      <g>\n       <use style=\"stroke:#000000;stroke-width:0.8;\" x=\"56.50625\" xlink:href=\"#m77639f67bd\" y=\"70.702981\"/>\n      </g>\n     </g>\n     <g id=\"text_17\">\n      <!-- 0.525 -->\n      <g transform=\"translate(20.878125 74.502199)scale(0.1 -0.1)\">\n       <use xlink:href=\"#DejaVuSans-48\"/>\n       <use x=\"63.623047\" xlink:href=\"#DejaVuSans-46\"/>\n       <use x=\"95.410156\" xlink:href=\"#DejaVuSans-53\"/>\n       <use x=\"159.033203\" xlink:href=\"#DejaVuSans-50\"/>\n       <use x=\"222.65625\" xlink:href=\"#DejaVuSans-53\"/>\n      </g>\n     </g>\n    </g>\n    <g id=\"ytick_8\">\n     <g id=\"line2d_17\">\n      <g>\n       <use style=\"stroke:#000000;stroke-width:0.8;\" x=\"56.50625\" xlink:href=\"#m77639f67bd\" y=\"34.528483\"/>\n      </g>\n     </g>\n     <g id=\"text_18\">\n      <!-- 0.550 -->\n      <g transform=\"translate(20.878125 38.327702)scale(0.1 -0.1)\">\n       <use xlink:href=\"#DejaVuSans-48\"/>\n       <use x=\"63.623047\" xlink:href=\"#DejaVuSans-46\"/>\n       <use x=\"95.410156\" xlink:href=\"#DejaVuSans-53\"/>\n       <use x=\"159.033203\" xlink:href=\"#DejaVuSans-53\"/>\n       <use x=\"222.65625\" xlink:href=\"#DejaVuSans-48\"/>\n      </g>\n     </g>\n    </g>\n    <g id=\"text_19\">\n     <!-- Loss -->\n     <defs>\n      <path d=\"M 9.8125 72.90625 \nL 19.671875 72.90625 \nL 19.671875 8.296875 \nL 55.171875 8.296875 \nL 55.171875 0 \nL 9.8125 0 \nz\n\" id=\"DejaVuSans-76\"/>\n     </defs>\n     <g transform=\"translate(14.798438 169.185313)rotate(-90)scale(0.1 -0.1)\">\n      <use xlink:href=\"#DejaVuSans-76\"/>\n      <use x=\"53.962891\" xlink:href=\"#DejaVuSans-111\"/>\n      <use x=\"115.144531\" xlink:href=\"#DejaVuSans-115\"/>\n      <use x=\"167.244141\" xlink:href=\"#DejaVuSans-115\"/>\n     </g>\n    </g>\n   </g>\n   <g id=\"line2d_18\">\n    <path clip-path=\"url(#p016e31875a)\" d=\"M 74.952531 34.67267 \nL 167.183936 145.618773 \nL 259.415341 210.419126 \nL 351.646746 250.685608 \nL 443.878151 281.76358 \n\" style=\"fill:none;stroke:#1f77b4;stroke-linecap:square;stroke-width:1.5;\"/>\n    <defs>\n     <path d=\"M -3 3 \nL 3 3 \nL 3 -3 \nL -3 -3 \nz\n\" id=\"m811621e1fa\" style=\"stroke:#1f77b4;stroke-linejoin:miter;\"/>\n    </defs>\n    <g clip-path=\"url(#p016e31875a)\">\n     <use style=\"fill:#1f77b4;stroke:#1f77b4;stroke-linejoin:miter;\" x=\"74.952531\" xlink:href=\"#m811621e1fa\" y=\"34.67267\"/>\n     <use style=\"fill:#1f77b4;stroke:#1f77b4;stroke-linejoin:miter;\" x=\"167.183936\" xlink:href=\"#m811621e1fa\" y=\"145.618773\"/>\n     <use style=\"fill:#1f77b4;stroke:#1f77b4;stroke-linejoin:miter;\" x=\"259.415341\" xlink:href=\"#m811621e1fa\" y=\"210.419126\"/>\n     <use style=\"fill:#1f77b4;stroke:#1f77b4;stroke-linejoin:miter;\" x=\"351.646746\" xlink:href=\"#m811621e1fa\" y=\"250.685608\"/>\n     <use style=\"fill:#1f77b4;stroke:#1f77b4;stroke-linejoin:miter;\" x=\"443.878151\" xlink:href=\"#m811621e1fa\" y=\"281.76358\"/>\n    </g>\n   </g>\n   <g id=\"patch_3\">\n    <path d=\"M 56.50625 294.118125 \nL 56.50625 22.318125 \n\" style=\"fill:none;stroke:#000000;stroke-linecap:square;stroke-linejoin:miter;stroke-width:0.8;\"/>\n   </g>\n   <g id=\"patch_4\">\n    <path d=\"M 462.324432 294.118125 \nL 462.324432 22.318125 \n\" style=\"fill:none;stroke:#000000;stroke-linecap:square;stroke-linejoin:miter;stroke-width:0.8;\"/>\n   </g>\n   <g id=\"patch_5\">\n    <path d=\"M 56.50625 294.118125 \nL 462.324432 294.118125 \n\" style=\"fill:none;stroke:#000000;stroke-linecap:square;stroke-linejoin:miter;stroke-width:0.8;\"/>\n   </g>\n   <g id=\"patch_6\">\n    <path d=\"M 56.50625 22.318125 \nL 462.324432 22.318125 \n\" style=\"fill:none;stroke:#000000;stroke-linecap:square;stroke-linejoin:miter;stroke-width:0.8;\"/>\n   </g>\n   <g id=\"text_20\">\n    <!-- Model loss -->\n    <defs>\n     <path d=\"M 9.8125 72.90625 \nL 24.515625 72.90625 \nL 43.109375 23.296875 \nL 61.8125 72.90625 \nL 76.515625 72.90625 \nL 76.515625 0 \nL 66.890625 0 \nL 66.890625 64.015625 \nL 48.09375 14.015625 \nL 38.1875 14.015625 \nL 19.390625 64.015625 \nL 19.390625 0 \nL 9.8125 0 \nz\n\" id=\"DejaVuSans-77\"/>\n     <path d=\"M 45.40625 46.390625 \nL 45.40625 75.984375 \nL 54.390625 75.984375 \nL 54.390625 0 \nL 45.40625 0 \nL 45.40625 8.203125 \nQ 42.578125 3.328125 38.25 0.953125 \nQ 33.9375 -1.421875 27.875 -1.421875 \nQ 17.96875 -1.421875 11.734375 6.484375 \nQ 5.515625 14.40625 5.515625 27.296875 \nQ 5.515625 40.1875 11.734375 48.09375 \nQ 17.96875 56 27.875 56 \nQ 33.9375 56 38.25 53.625 \nQ 42.578125 51.265625 45.40625 46.390625 \nz\nM 14.796875 27.296875 \nQ 14.796875 17.390625 18.875 11.75 \nQ 22.953125 6.109375 30.078125 6.109375 \nQ 37.203125 6.109375 41.296875 11.75 \nQ 45.40625 17.390625 45.40625 27.296875 \nQ 45.40625 37.203125 41.296875 42.84375 \nQ 37.203125 48.484375 30.078125 48.484375 \nQ 22.953125 48.484375 18.875 42.84375 \nQ 14.796875 37.203125 14.796875 27.296875 \nz\n\" id=\"DejaVuSans-100\"/>\n     <path d=\"M 56.203125 29.59375 \nL 56.203125 25.203125 \nL 14.890625 25.203125 \nQ 15.484375 15.921875 20.484375 11.0625 \nQ 25.484375 6.203125 34.421875 6.203125 \nQ 39.59375 6.203125 44.453125 7.46875 \nQ 49.3125 8.734375 54.109375 11.28125 \nL 54.109375 2.78125 \nQ 49.265625 0.734375 44.1875 -0.34375 \nQ 39.109375 -1.421875 33.890625 -1.421875 \nQ 20.796875 -1.421875 13.15625 6.1875 \nQ 5.515625 13.8125 5.515625 26.8125 \nQ 5.515625 40.234375 12.765625 48.109375 \nQ 20.015625 56 32.328125 56 \nQ 43.359375 56 49.78125 48.890625 \nQ 56.203125 41.796875 56.203125 29.59375 \nz\nM 47.21875 32.234375 \nQ 47.125 39.59375 43.09375 43.984375 \nQ 39.0625 48.390625 32.421875 48.390625 \nQ 24.90625 48.390625 20.390625 44.140625 \nQ 15.875 39.890625 15.1875 32.171875 \nz\n\" id=\"DejaVuSans-101\"/>\n     <path d=\"M 9.421875 75.984375 \nL 18.40625 75.984375 \nL 18.40625 0 \nL 9.421875 0 \nz\n\" id=\"DejaVuSans-108\"/>\n     <path id=\"DejaVuSans-32\"/>\n    </defs>\n    <g transform=\"translate(227.903153 16.318125)scale(0.12 -0.12)\">\n     <use xlink:href=\"#DejaVuSans-77\"/>\n     <use x=\"86.279297\" xlink:href=\"#DejaVuSans-111\"/>\n     <use x=\"147.460938\" xlink:href=\"#DejaVuSans-100\"/>\n     <use x=\"210.9375\" xlink:href=\"#DejaVuSans-101\"/>\n     <use x=\"272.460938\" xlink:href=\"#DejaVuSans-108\"/>\n     <use x=\"300.244141\" xlink:href=\"#DejaVuSans-32\"/>\n     <use x=\"332.03125\" xlink:href=\"#DejaVuSans-108\"/>\n     <use x=\"359.814453\" xlink:href=\"#DejaVuSans-111\"/>\n     <use x=\"420.996094\" xlink:href=\"#DejaVuSans-115\"/>\n     <use x=\"473.095703\" xlink:href=\"#DejaVuSans-115\"/>\n    </g>\n   </g>\n  </g>\n  <g id=\"axes_2\">\n   <g id=\"patch_7\">\n    <path d=\"M 543.488068 294.118125 \nL 949.30625 294.118125 \nL 949.30625 22.318125 \nL 543.488068 22.318125 \nz\n\" style=\"fill:#ffffff;\"/>\n   </g>\n   <g id=\"matplotlib.axis_3\">\n    <g id=\"xtick_10\">\n     <g id=\"line2d_19\">\n      <g>\n       <use style=\"stroke:#000000;stroke-width:0.8;\" x=\"561.934349\" xlink:href=\"#md9ca089f51\" y=\"294.118125\"/>\n      </g>\n     </g>\n     <g id=\"text_21\">\n      <!-- 0.0 -->\n      <g transform=\"translate(553.982787 308.716563)scale(0.1 -0.1)\">\n       <use xlink:href=\"#DejaVuSans-48\"/>\n       <use x=\"63.623047\" xlink:href=\"#DejaVuSans-46\"/>\n       <use x=\"95.410156\" xlink:href=\"#DejaVuSans-48\"/>\n      </g>\n     </g>\n    </g>\n    <g id=\"xtick_11\">\n     <g id=\"line2d_20\">\n      <g>\n       <use style=\"stroke:#000000;stroke-width:0.8;\" x=\"608.050052\" xlink:href=\"#md9ca089f51\" y=\"294.118125\"/>\n      </g>\n     </g>\n     <g id=\"text_22\">\n      <!-- 0.5 -->\n      <g transform=\"translate(600.098489 308.716563)scale(0.1 -0.1)\">\n       <use xlink:href=\"#DejaVuSans-48\"/>\n       <use x=\"63.623047\" xlink:href=\"#DejaVuSans-46\"/>\n       <use x=\"95.410156\" xlink:href=\"#DejaVuSans-53\"/>\n      </g>\n     </g>\n    </g>\n    <g id=\"xtick_12\">\n     <g id=\"line2d_21\">\n      <g>\n       <use style=\"stroke:#000000;stroke-width:0.8;\" x=\"654.165754\" xlink:href=\"#md9ca089f51\" y=\"294.118125\"/>\n      </g>\n     </g>\n     <g id=\"text_23\">\n      <!-- 1.0 -->\n      <g transform=\"translate(646.214192 308.716563)scale(0.1 -0.1)\">\n       <use xlink:href=\"#DejaVuSans-49\"/>\n       <use x=\"63.623047\" xlink:href=\"#DejaVuSans-46\"/>\n       <use x=\"95.410156\" xlink:href=\"#DejaVuSans-48\"/>\n      </g>\n     </g>\n    </g>\n    <g id=\"xtick_13\">\n     <g id=\"line2d_22\">\n      <g>\n       <use style=\"stroke:#000000;stroke-width:0.8;\" x=\"700.281457\" xlink:href=\"#md9ca089f51\" y=\"294.118125\"/>\n      </g>\n     </g>\n     <g id=\"text_24\">\n      <!-- 1.5 -->\n      <g transform=\"translate(692.329894 308.716563)scale(0.1 -0.1)\">\n       <use xlink:href=\"#DejaVuSans-49\"/>\n       <use x=\"63.623047\" xlink:href=\"#DejaVuSans-46\"/>\n       <use x=\"95.410156\" xlink:href=\"#DejaVuSans-53\"/>\n      </g>\n     </g>\n    </g>\n    <g id=\"xtick_14\">\n     <g id=\"line2d_23\">\n      <g>\n       <use style=\"stroke:#000000;stroke-width:0.8;\" x=\"746.397159\" xlink:href=\"#md9ca089f51\" y=\"294.118125\"/>\n      </g>\n     </g>\n     <g id=\"text_25\">\n      <!-- 2.0 -->\n      <g transform=\"translate(738.445597 308.716563)scale(0.1 -0.1)\">\n       <use xlink:href=\"#DejaVuSans-50\"/>\n       <use x=\"63.623047\" xlink:href=\"#DejaVuSans-46\"/>\n       <use x=\"95.410156\" xlink:href=\"#DejaVuSans-48\"/>\n      </g>\n     </g>\n    </g>\n    <g id=\"xtick_15\">\n     <g id=\"line2d_24\">\n      <g>\n       <use style=\"stroke:#000000;stroke-width:0.8;\" x=\"792.512862\" xlink:href=\"#md9ca089f51\" y=\"294.118125\"/>\n      </g>\n     </g>\n     <g id=\"text_26\">\n      <!-- 2.5 -->\n      <g transform=\"translate(784.561299 308.716563)scale(0.1 -0.1)\">\n       <use xlink:href=\"#DejaVuSans-50\"/>\n       <use x=\"63.623047\" xlink:href=\"#DejaVuSans-46\"/>\n       <use x=\"95.410156\" xlink:href=\"#DejaVuSans-53\"/>\n      </g>\n     </g>\n    </g>\n    <g id=\"xtick_16\">\n     <g id=\"line2d_25\">\n      <g>\n       <use style=\"stroke:#000000;stroke-width:0.8;\" x=\"838.628564\" xlink:href=\"#md9ca089f51\" y=\"294.118125\"/>\n      </g>\n     </g>\n     <g id=\"text_27\">\n      <!-- 3.0 -->\n      <g transform=\"translate(830.677002 308.716563)scale(0.1 -0.1)\">\n       <use xlink:href=\"#DejaVuSans-51\"/>\n       <use x=\"63.623047\" xlink:href=\"#DejaVuSans-46\"/>\n       <use x=\"95.410156\" xlink:href=\"#DejaVuSans-48\"/>\n      </g>\n     </g>\n    </g>\n    <g id=\"xtick_17\">\n     <g id=\"line2d_26\">\n      <g>\n       <use style=\"stroke:#000000;stroke-width:0.8;\" x=\"884.744267\" xlink:href=\"#md9ca089f51\" y=\"294.118125\"/>\n      </g>\n     </g>\n     <g id=\"text_28\">\n      <!-- 3.5 -->\n      <g transform=\"translate(876.792704 308.716563)scale(0.1 -0.1)\">\n       <use xlink:href=\"#DejaVuSans-51\"/>\n       <use x=\"63.623047\" xlink:href=\"#DejaVuSans-46\"/>\n       <use x=\"95.410156\" xlink:href=\"#DejaVuSans-53\"/>\n      </g>\n     </g>\n    </g>\n    <g id=\"xtick_18\">\n     <g id=\"line2d_27\">\n      <g>\n       <use style=\"stroke:#000000;stroke-width:0.8;\" x=\"930.859969\" xlink:href=\"#md9ca089f51\" y=\"294.118125\"/>\n      </g>\n     </g>\n     <g id=\"text_29\">\n      <!-- 4.0 -->\n      <g transform=\"translate(922.908407 308.716563)scale(0.1 -0.1)\">\n       <use xlink:href=\"#DejaVuSans-52\"/>\n       <use x=\"63.623047\" xlink:href=\"#DejaVuSans-46\"/>\n       <use x=\"95.410156\" xlink:href=\"#DejaVuSans-48\"/>\n      </g>\n     </g>\n    </g>\n    <g id=\"text_30\">\n     <!-- Epochs -->\n     <g transform=\"translate(728.481534 322.394687)scale(0.1 -0.1)\">\n      <use xlink:href=\"#DejaVuSans-69\"/>\n      <use x=\"63.183594\" xlink:href=\"#DejaVuSans-112\"/>\n      <use x=\"126.660156\" xlink:href=\"#DejaVuSans-111\"/>\n      <use x=\"187.841797\" xlink:href=\"#DejaVuSans-99\"/>\n      <use x=\"242.822266\" xlink:href=\"#DejaVuSans-104\"/>\n      <use x=\"306.201172\" xlink:href=\"#DejaVuSans-115\"/>\n     </g>\n    </g>\n   </g>\n   <g id=\"matplotlib.axis_4\">\n    <g id=\"ytick_9\">\n     <g id=\"line2d_28\">\n      <g>\n       <use style=\"stroke:#000000;stroke-width:0.8;\" x=\"543.488068\" xlink:href=\"#m77639f67bd\" y=\"279.069453\"/>\n      </g>\n     </g>\n     <g id=\"text_31\">\n      <!-- 80 -->\n      <defs>\n       <path d=\"M 31.78125 34.625 \nQ 24.75 34.625 20.71875 30.859375 \nQ 16.703125 27.09375 16.703125 20.515625 \nQ 16.703125 13.921875 20.71875 10.15625 \nQ 24.75 6.390625 31.78125 6.390625 \nQ 38.8125 6.390625 42.859375 10.171875 \nQ 46.921875 13.96875 46.921875 20.515625 \nQ 46.921875 27.09375 42.890625 30.859375 \nQ 38.875 34.625 31.78125 34.625 \nz\nM 21.921875 38.8125 \nQ 15.578125 40.375 12.03125 44.71875 \nQ 8.5 49.078125 8.5 55.328125 \nQ 8.5 64.0625 14.71875 69.140625 \nQ 20.953125 74.21875 31.78125 74.21875 \nQ 42.671875 74.21875 48.875 69.140625 \nQ 55.078125 64.0625 55.078125 55.328125 \nQ 55.078125 49.078125 51.53125 44.71875 \nQ 48 40.375 41.703125 38.8125 \nQ 48.828125 37.15625 52.796875 32.3125 \nQ 56.78125 27.484375 56.78125 20.515625 \nQ 56.78125 9.90625 50.3125 4.234375 \nQ 43.84375 -1.421875 31.78125 -1.421875 \nQ 19.734375 -1.421875 13.25 4.234375 \nQ 6.78125 9.90625 6.78125 20.515625 \nQ 6.78125 27.484375 10.78125 32.3125 \nQ 14.796875 37.15625 21.921875 38.8125 \nz\nM 18.3125 54.390625 \nQ 18.3125 48.734375 21.84375 45.5625 \nQ 25.390625 42.390625 31.78125 42.390625 \nQ 38.140625 42.390625 41.71875 45.5625 \nQ 45.3125 48.734375 45.3125 54.390625 \nQ 45.3125 60.0625 41.71875 63.234375 \nQ 38.140625 66.40625 31.78125 66.40625 \nQ 25.390625 66.40625 21.84375 63.234375 \nQ 18.3125 60.0625 18.3125 54.390625 \nz\n\" id=\"DejaVuSans-56\"/>\n      </defs>\n      <g transform=\"translate(523.763068 282.868672)scale(0.1 -0.1)\">\n       <use xlink:href=\"#DejaVuSans-56\"/>\n       <use x=\"63.623047\" xlink:href=\"#DejaVuSans-48\"/>\n      </g>\n     </g>\n    </g>\n    <g id=\"ytick_10\">\n     <g id=\"line2d_29\">\n      <g>\n       <use style=\"stroke:#000000;stroke-width:0.8;\" x=\"543.488068\" xlink:href=\"#m77639f67bd\" y=\"240.581761\"/>\n      </g>\n     </g>\n     <g id=\"text_32\">\n      <!-- 81 -->\n      <g transform=\"translate(523.763068 244.38098)scale(0.1 -0.1)\">\n       <use xlink:href=\"#DejaVuSans-56\"/>\n       <use x=\"63.623047\" xlink:href=\"#DejaVuSans-49\"/>\n      </g>\n     </g>\n    </g>\n    <g id=\"ytick_11\">\n     <g id=\"line2d_30\">\n      <g>\n       <use style=\"stroke:#000000;stroke-width:0.8;\" x=\"543.488068\" xlink:href=\"#m77639f67bd\" y=\"202.09407\"/>\n      </g>\n     </g>\n     <g id=\"text_33\">\n      <!-- 82 -->\n      <g transform=\"translate(523.763068 205.893289)scale(0.1 -0.1)\">\n       <use xlink:href=\"#DejaVuSans-56\"/>\n       <use x=\"63.623047\" xlink:href=\"#DejaVuSans-50\"/>\n      </g>\n     </g>\n    </g>\n    <g id=\"ytick_12\">\n     <g id=\"line2d_31\">\n      <g>\n       <use style=\"stroke:#000000;stroke-width:0.8;\" x=\"543.488068\" xlink:href=\"#m77639f67bd\" y=\"163.606378\"/>\n      </g>\n     </g>\n     <g id=\"text_34\">\n      <!-- 83 -->\n      <g transform=\"translate(523.763068 167.405597)scale(0.1 -0.1)\">\n       <use xlink:href=\"#DejaVuSans-56\"/>\n       <use x=\"63.623047\" xlink:href=\"#DejaVuSans-51\"/>\n      </g>\n     </g>\n    </g>\n    <g id=\"ytick_13\">\n     <g id=\"line2d_32\">\n      <g>\n       <use style=\"stroke:#000000;stroke-width:0.8;\" x=\"543.488068\" xlink:href=\"#m77639f67bd\" y=\"125.118687\"/>\n      </g>\n     </g>\n     <g id=\"text_35\">\n      <!-- 84 -->\n      <g transform=\"translate(523.763068 128.917906)scale(0.1 -0.1)\">\n       <use xlink:href=\"#DejaVuSans-56\"/>\n       <use x=\"63.623047\" xlink:href=\"#DejaVuSans-52\"/>\n      </g>\n     </g>\n    </g>\n    <g id=\"ytick_14\">\n     <g id=\"line2d_33\">\n      <g>\n       <use style=\"stroke:#000000;stroke-width:0.8;\" x=\"543.488068\" xlink:href=\"#m77639f67bd\" y=\"86.630995\"/>\n      </g>\n     </g>\n     <g id=\"text_36\">\n      <!-- 85 -->\n      <g transform=\"translate(523.763068 90.430214)scale(0.1 -0.1)\">\n       <use xlink:href=\"#DejaVuSans-56\"/>\n       <use x=\"63.623047\" xlink:href=\"#DejaVuSans-53\"/>\n      </g>\n     </g>\n    </g>\n    <g id=\"ytick_15\">\n     <g id=\"line2d_34\">\n      <g>\n       <use style=\"stroke:#000000;stroke-width:0.8;\" x=\"543.488068\" xlink:href=\"#m77639f67bd\" y=\"48.143304\"/>\n      </g>\n     </g>\n     <g id=\"text_37\">\n      <!-- 86 -->\n      <defs>\n       <path d=\"M 33.015625 40.375 \nQ 26.375 40.375 22.484375 35.828125 \nQ 18.609375 31.296875 18.609375 23.390625 \nQ 18.609375 15.53125 22.484375 10.953125 \nQ 26.375 6.390625 33.015625 6.390625 \nQ 39.65625 6.390625 43.53125 10.953125 \nQ 47.40625 15.53125 47.40625 23.390625 \nQ 47.40625 31.296875 43.53125 35.828125 \nQ 39.65625 40.375 33.015625 40.375 \nz\nM 52.59375 71.296875 \nL 52.59375 62.3125 \nQ 48.875 64.0625 45.09375 64.984375 \nQ 41.3125 65.921875 37.59375 65.921875 \nQ 27.828125 65.921875 22.671875 59.328125 \nQ 17.53125 52.734375 16.796875 39.40625 \nQ 19.671875 43.65625 24.015625 45.921875 \nQ 28.375 48.1875 33.59375 48.1875 \nQ 44.578125 48.1875 50.953125 41.515625 \nQ 57.328125 34.859375 57.328125 23.390625 \nQ 57.328125 12.15625 50.6875 5.359375 \nQ 44.046875 -1.421875 33.015625 -1.421875 \nQ 20.359375 -1.421875 13.671875 8.265625 \nQ 6.984375 17.96875 6.984375 36.375 \nQ 6.984375 53.65625 15.1875 63.9375 \nQ 23.390625 74.21875 37.203125 74.21875 \nQ 40.921875 74.21875 44.703125 73.484375 \nQ 48.484375 72.75 52.59375 71.296875 \nz\n\" id=\"DejaVuSans-54\"/>\n      </defs>\n      <g transform=\"translate(523.763068 51.942523)scale(0.1 -0.1)\">\n       <use xlink:href=\"#DejaVuSans-56\"/>\n       <use x=\"63.623047\" xlink:href=\"#DejaVuSans-54\"/>\n      </g>\n     </g>\n    </g>\n    <g id=\"text_38\">\n     <!-- Accuracy (%) -->\n     <defs>\n      <path d=\"M 34.1875 63.1875 \nL 20.796875 26.90625 \nL 47.609375 26.90625 \nz\nM 28.609375 72.90625 \nL 39.796875 72.90625 \nL 67.578125 0 \nL 57.328125 0 \nL 50.6875 18.703125 \nL 17.828125 18.703125 \nL 11.1875 0 \nL 0.78125 0 \nz\n\" id=\"DejaVuSans-65\"/>\n      <path d=\"M 8.5 21.578125 \nL 8.5 54.6875 \nL 17.484375 54.6875 \nL 17.484375 21.921875 \nQ 17.484375 14.15625 20.5 10.265625 \nQ 23.53125 6.390625 29.59375 6.390625 \nQ 36.859375 6.390625 41.078125 11.03125 \nQ 45.3125 15.671875 45.3125 23.6875 \nL 45.3125 54.6875 \nL 54.296875 54.6875 \nL 54.296875 0 \nL 45.3125 0 \nL 45.3125 8.40625 \nQ 42.046875 3.421875 37.71875 1 \nQ 33.40625 -1.421875 27.6875 -1.421875 \nQ 18.265625 -1.421875 13.375 4.4375 \nQ 8.5 10.296875 8.5 21.578125 \nz\nM 31.109375 56 \nz\n\" id=\"DejaVuSans-117\"/>\n      <path d=\"M 41.109375 46.296875 \nQ 39.59375 47.171875 37.8125 47.578125 \nQ 36.03125 48 33.890625 48 \nQ 26.265625 48 22.1875 43.046875 \nQ 18.109375 38.09375 18.109375 28.8125 \nL 18.109375 0 \nL 9.078125 0 \nL 9.078125 54.6875 \nL 18.109375 54.6875 \nL 18.109375 46.1875 \nQ 20.953125 51.171875 25.484375 53.578125 \nQ 30.03125 56 36.53125 56 \nQ 37.453125 56 38.578125 55.875 \nQ 39.703125 55.765625 41.0625 55.515625 \nz\n\" id=\"DejaVuSans-114\"/>\n      <path d=\"M 34.28125 27.484375 \nQ 23.390625 27.484375 19.1875 25 \nQ 14.984375 22.515625 14.984375 16.5 \nQ 14.984375 11.71875 18.140625 8.90625 \nQ 21.296875 6.109375 26.703125 6.109375 \nQ 34.1875 6.109375 38.703125 11.40625 \nQ 43.21875 16.703125 43.21875 25.484375 \nL 43.21875 27.484375 \nz\nM 52.203125 31.203125 \nL 52.203125 0 \nL 43.21875 0 \nL 43.21875 8.296875 \nQ 40.140625 3.328125 35.546875 0.953125 \nQ 30.953125 -1.421875 24.3125 -1.421875 \nQ 15.921875 -1.421875 10.953125 3.296875 \nQ 6 8.015625 6 15.921875 \nQ 6 25.140625 12.171875 29.828125 \nQ 18.359375 34.515625 30.609375 34.515625 \nL 43.21875 34.515625 \nL 43.21875 35.40625 \nQ 43.21875 41.609375 39.140625 45 \nQ 35.0625 48.390625 27.6875 48.390625 \nQ 23 48.390625 18.546875 47.265625 \nQ 14.109375 46.140625 10.015625 43.890625 \nL 10.015625 52.203125 \nQ 14.9375 54.109375 19.578125 55.046875 \nQ 24.21875 56 28.609375 56 \nQ 40.484375 56 46.34375 49.84375 \nQ 52.203125 43.703125 52.203125 31.203125 \nz\n\" id=\"DejaVuSans-97\"/>\n      <path d=\"M 32.171875 -5.078125 \nQ 28.375 -14.84375 24.75 -17.8125 \nQ 21.140625 -20.796875 15.09375 -20.796875 \nL 7.90625 -20.796875 \nL 7.90625 -13.28125 \nL 13.1875 -13.28125 \nQ 16.890625 -13.28125 18.9375 -11.515625 \nQ 21 -9.765625 23.484375 -3.21875 \nL 25.09375 0.875 \nL 2.984375 54.6875 \nL 12.5 54.6875 \nL 29.59375 11.921875 \nL 46.6875 54.6875 \nL 56.203125 54.6875 \nz\n\" id=\"DejaVuSans-121\"/>\n      <path d=\"M 31 75.875 \nQ 24.46875 64.65625 21.28125 53.65625 \nQ 18.109375 42.671875 18.109375 31.390625 \nQ 18.109375 20.125 21.3125 9.0625 \nQ 24.515625 -2 31 -13.1875 \nL 23.1875 -13.1875 \nQ 15.875 -1.703125 12.234375 9.375 \nQ 8.59375 20.453125 8.59375 31.390625 \nQ 8.59375 42.28125 12.203125 53.3125 \nQ 15.828125 64.359375 23.1875 75.875 \nz\n\" id=\"DejaVuSans-40\"/>\n      <path d=\"M 72.703125 32.078125 \nQ 68.453125 32.078125 66.03125 28.46875 \nQ 63.625 24.859375 63.625 18.40625 \nQ 63.625 12.0625 66.03125 8.421875 \nQ 68.453125 4.78125 72.703125 4.78125 \nQ 76.859375 4.78125 79.265625 8.421875 \nQ 81.6875 12.0625 81.6875 18.40625 \nQ 81.6875 24.8125 79.265625 28.4375 \nQ 76.859375 32.078125 72.703125 32.078125 \nz\nM 72.703125 38.28125 \nQ 80.421875 38.28125 84.953125 32.90625 \nQ 89.5 27.546875 89.5 18.40625 \nQ 89.5 9.28125 84.9375 3.921875 \nQ 80.375 -1.421875 72.703125 -1.421875 \nQ 64.890625 -1.421875 60.34375 3.921875 \nQ 55.8125 9.28125 55.8125 18.40625 \nQ 55.8125 27.59375 60.375 32.9375 \nQ 64.9375 38.28125 72.703125 38.28125 \nz\nM 22.3125 68.015625 \nQ 18.109375 68.015625 15.6875 64.375 \nQ 13.28125 60.75 13.28125 54.390625 \nQ 13.28125 47.953125 15.671875 44.328125 \nQ 18.0625 40.71875 22.3125 40.71875 \nQ 26.5625 40.71875 28.96875 44.328125 \nQ 31.390625 47.953125 31.390625 54.390625 \nQ 31.390625 60.6875 28.953125 64.34375 \nQ 26.515625 68.015625 22.3125 68.015625 \nz\nM 66.40625 74.21875 \nL 74.21875 74.21875 \nL 28.609375 -1.421875 \nL 20.796875 -1.421875 \nz\nM 22.3125 74.21875 \nQ 30.03125 74.21875 34.609375 68.875 \nQ 39.203125 63.53125 39.203125 54.390625 \nQ 39.203125 45.171875 34.640625 39.84375 \nQ 30.078125 34.515625 22.3125 34.515625 \nQ 14.546875 34.515625 10.03125 39.859375 \nQ 5.515625 45.21875 5.515625 54.390625 \nQ 5.515625 63.484375 10.046875 68.84375 \nQ 14.59375 74.21875 22.3125 74.21875 \nz\n\" id=\"DejaVuSans-37\"/>\n      <path d=\"M 8.015625 75.875 \nL 15.828125 75.875 \nQ 23.140625 64.359375 26.78125 53.3125 \nQ 30.421875 42.28125 30.421875 31.390625 \nQ 30.421875 20.453125 26.78125 9.375 \nQ 23.140625 -1.703125 15.828125 -13.1875 \nL 8.015625 -13.1875 \nQ 14.5 -2 17.703125 9.0625 \nQ 20.90625 20.125 20.90625 31.390625 \nQ 20.90625 42.671875 17.703125 53.65625 \nQ 14.5 64.65625 8.015625 75.875 \nz\n\" id=\"DejaVuSans-41\"/>\n     </defs>\n     <g transform=\"translate(517.683381 191.287656)rotate(-90)scale(0.1 -0.1)\">\n      <use xlink:href=\"#DejaVuSans-65\"/>\n      <use x=\"66.658203\" xlink:href=\"#DejaVuSans-99\"/>\n      <use x=\"121.638672\" xlink:href=\"#DejaVuSans-99\"/>\n      <use x=\"176.619141\" xlink:href=\"#DejaVuSans-117\"/>\n      <use x=\"239.998047\" xlink:href=\"#DejaVuSans-114\"/>\n      <use x=\"281.111328\" xlink:href=\"#DejaVuSans-97\"/>\n      <use x=\"342.390625\" xlink:href=\"#DejaVuSans-99\"/>\n      <use x=\"397.371094\" xlink:href=\"#DejaVuSans-121\"/>\n      <use x=\"456.550781\" xlink:href=\"#DejaVuSans-32\"/>\n      <use x=\"488.337891\" xlink:href=\"#DejaVuSans-40\"/>\n      <use x=\"527.351562\" xlink:href=\"#DejaVuSans-37\"/>\n      <use x=\"622.371094\" xlink:href=\"#DejaVuSans-41\"/>\n     </g>\n    </g>\n   </g>\n   <g id=\"line2d_35\">\n    <path clip-path=\"url(#pf143cf22e8)\" d=\"M 561.934349 281.76358 \nL 654.165754 171.303799 \nL 746.397159 99.524337 \nL 838.628564 60.010381 \nL 930.859969 34.67267 \n\" style=\"fill:none;stroke:#1f77b4;stroke-linecap:square;stroke-width:1.5;\"/>\n    <g clip-path=\"url(#pf143cf22e8)\">\n     <use style=\"fill:#1f77b4;stroke:#1f77b4;stroke-linejoin:miter;\" x=\"561.934349\" xlink:href=\"#m811621e1fa\" y=\"281.76358\"/>\n     <use style=\"fill:#1f77b4;stroke:#1f77b4;stroke-linejoin:miter;\" x=\"654.165754\" xlink:href=\"#m811621e1fa\" y=\"171.303799\"/>\n     <use style=\"fill:#1f77b4;stroke:#1f77b4;stroke-linejoin:miter;\" x=\"746.397159\" xlink:href=\"#m811621e1fa\" y=\"99.524337\"/>\n     <use style=\"fill:#1f77b4;stroke:#1f77b4;stroke-linejoin:miter;\" x=\"838.628564\" xlink:href=\"#m811621e1fa\" y=\"60.010381\"/>\n     <use style=\"fill:#1f77b4;stroke:#1f77b4;stroke-linejoin:miter;\" x=\"930.859969\" xlink:href=\"#m811621e1fa\" y=\"34.67267\"/>\n    </g>\n   </g>\n   <g id=\"line2d_36\">\n    <path clip-path=\"url(#pf143cf22e8)\" d=\"M 561.934349 218.643789 \nL 654.165754 134.355651 \nL 746.397159 120.115099 \nL 838.628564 60.844312 \nL 930.859969 36.981838 \n\" style=\"fill:none;stroke:#ff7f0e;stroke-linecap:square;stroke-width:1.5;\"/>\n    <defs>\n     <path d=\"M 0 3 \nC 0.795609 3 1.55874 2.683901 2.12132 2.12132 \nC 2.683901 1.55874 3 0.795609 3 0 \nC 3 -0.795609 2.683901 -1.55874 2.12132 -2.12132 \nC 1.55874 -2.683901 0.795609 -3 0 -3 \nC -0.795609 -3 -1.55874 -2.683901 -2.12132 -2.12132 \nC -2.683901 -1.55874 -3 -0.795609 -3 0 \nC -3 0.795609 -2.683901 1.55874 -2.12132 2.12132 \nC -1.55874 2.683901 -0.795609 3 0 3 \nz\n\" id=\"m8f70e02185\" style=\"stroke:#ff7f0e;\"/>\n    </defs>\n    <g clip-path=\"url(#pf143cf22e8)\">\n     <use style=\"fill:#ff7f0e;stroke:#ff7f0e;\" x=\"561.934349\" xlink:href=\"#m8f70e02185\" y=\"218.643789\"/>\n     <use style=\"fill:#ff7f0e;stroke:#ff7f0e;\" x=\"654.165754\" xlink:href=\"#m8f70e02185\" y=\"134.355651\"/>\n     <use style=\"fill:#ff7f0e;stroke:#ff7f0e;\" x=\"746.397159\" xlink:href=\"#m8f70e02185\" y=\"120.115099\"/>\n     <use style=\"fill:#ff7f0e;stroke:#ff7f0e;\" x=\"838.628564\" xlink:href=\"#m8f70e02185\" y=\"60.844312\"/>\n     <use style=\"fill:#ff7f0e;stroke:#ff7f0e;\" x=\"930.859969\" xlink:href=\"#m8f70e02185\" y=\"36.981838\"/>\n    </g>\n   </g>\n   <g id=\"patch_8\">\n    <path d=\"M 543.488068 294.118125 \nL 543.488068 22.318125 \n\" style=\"fill:none;stroke:#000000;stroke-linecap:square;stroke-linejoin:miter;stroke-width:0.8;\"/>\n   </g>\n   <g id=\"patch_9\">\n    <path d=\"M 949.30625 294.118125 \nL 949.30625 22.318125 \n\" style=\"fill:none;stroke:#000000;stroke-linecap:square;stroke-linejoin:miter;stroke-width:0.8;\"/>\n   </g>\n   <g id=\"patch_10\">\n    <path d=\"M 543.488068 294.118125 \nL 949.30625 294.118125 \n\" style=\"fill:none;stroke:#000000;stroke-linecap:square;stroke-linejoin:miter;stroke-width:0.8;\"/>\n   </g>\n   <g id=\"patch_11\">\n    <path d=\"M 543.488068 22.318125 \nL 949.30625 22.318125 \n\" style=\"fill:none;stroke:#000000;stroke-linecap:square;stroke-linejoin:miter;stroke-width:0.8;\"/>\n   </g>\n   <g id=\"text_39\">\n    <!-- Final model test accuracy: 86.29% -->\n    <defs>\n     <path d=\"M 9.8125 72.90625 \nL 51.703125 72.90625 \nL 51.703125 64.59375 \nL 19.671875 64.59375 \nL 19.671875 43.109375 \nL 48.578125 43.109375 \nL 48.578125 34.8125 \nL 19.671875 34.8125 \nL 19.671875 0 \nL 9.8125 0 \nz\n\" id=\"DejaVuSans-70\"/>\n     <path d=\"M 9.421875 54.6875 \nL 18.40625 54.6875 \nL 18.40625 0 \nL 9.421875 0 \nz\nM 9.421875 75.984375 \nL 18.40625 75.984375 \nL 18.40625 64.59375 \nL 9.421875 64.59375 \nz\n\" id=\"DejaVuSans-105\"/>\n     <path d=\"M 54.890625 33.015625 \nL 54.890625 0 \nL 45.90625 0 \nL 45.90625 32.71875 \nQ 45.90625 40.484375 42.875 44.328125 \nQ 39.84375 48.1875 33.796875 48.1875 \nQ 26.515625 48.1875 22.3125 43.546875 \nQ 18.109375 38.921875 18.109375 30.90625 \nL 18.109375 0 \nL 9.078125 0 \nL 9.078125 54.6875 \nL 18.109375 54.6875 \nL 18.109375 46.1875 \nQ 21.34375 51.125 25.703125 53.5625 \nQ 30.078125 56 35.796875 56 \nQ 45.21875 56 50.046875 50.171875 \nQ 54.890625 44.34375 54.890625 33.015625 \nz\n\" id=\"DejaVuSans-110\"/>\n     <path d=\"M 52 44.1875 \nQ 55.375 50.25 60.0625 53.125 \nQ 64.75 56 71.09375 56 \nQ 79.640625 56 84.28125 50.015625 \nQ 88.921875 44.046875 88.921875 33.015625 \nL 88.921875 0 \nL 79.890625 0 \nL 79.890625 32.71875 \nQ 79.890625 40.578125 77.09375 44.375 \nQ 74.3125 48.1875 68.609375 48.1875 \nQ 61.625 48.1875 57.5625 43.546875 \nQ 53.515625 38.921875 53.515625 30.90625 \nL 53.515625 0 \nL 44.484375 0 \nL 44.484375 32.71875 \nQ 44.484375 40.625 41.703125 44.40625 \nQ 38.921875 48.1875 33.109375 48.1875 \nQ 26.21875 48.1875 22.15625 43.53125 \nQ 18.109375 38.875 18.109375 30.90625 \nL 18.109375 0 \nL 9.078125 0 \nL 9.078125 54.6875 \nL 18.109375 54.6875 \nL 18.109375 46.1875 \nQ 21.1875 51.21875 25.484375 53.609375 \nQ 29.78125 56 35.6875 56 \nQ 41.65625 56 45.828125 52.96875 \nQ 50 49.953125 52 44.1875 \nz\n\" id=\"DejaVuSans-109\"/>\n     <path d=\"M 18.3125 70.21875 \nL 18.3125 54.6875 \nL 36.8125 54.6875 \nL 36.8125 47.703125 \nL 18.3125 47.703125 \nL 18.3125 18.015625 \nQ 18.3125 11.328125 20.140625 9.421875 \nQ 21.96875 7.515625 27.59375 7.515625 \nL 36.8125 7.515625 \nL 36.8125 0 \nL 27.59375 0 \nQ 17.1875 0 13.234375 3.875 \nQ 9.28125 7.765625 9.28125 18.015625 \nL 9.28125 47.703125 \nL 2.6875 47.703125 \nL 2.6875 54.6875 \nL 9.28125 54.6875 \nL 9.28125 70.21875 \nz\n\" id=\"DejaVuSans-116\"/>\n     <path d=\"M 11.71875 12.40625 \nL 22.015625 12.40625 \nL 22.015625 0 \nL 11.71875 0 \nz\nM 11.71875 51.703125 \nL 22.015625 51.703125 \nL 22.015625 39.3125 \nL 11.71875 39.3125 \nz\n\" id=\"DejaVuSans-58\"/>\n     <path d=\"M 10.984375 1.515625 \nL 10.984375 10.5 \nQ 14.703125 8.734375 18.5 7.8125 \nQ 22.3125 6.890625 25.984375 6.890625 \nQ 35.75 6.890625 40.890625 13.453125 \nQ 46.046875 20.015625 46.78125 33.40625 \nQ 43.953125 29.203125 39.59375 26.953125 \nQ 35.25 24.703125 29.984375 24.703125 \nQ 19.046875 24.703125 12.671875 31.3125 \nQ 6.296875 37.9375 6.296875 49.421875 \nQ 6.296875 60.640625 12.9375 67.421875 \nQ 19.578125 74.21875 30.609375 74.21875 \nQ 43.265625 74.21875 49.921875 64.515625 \nQ 56.59375 54.828125 56.59375 36.375 \nQ 56.59375 19.140625 48.40625 8.859375 \nQ 40.234375 -1.421875 26.421875 -1.421875 \nQ 22.703125 -1.421875 18.890625 -0.6875 \nQ 15.09375 0.046875 10.984375 1.515625 \nz\nM 30.609375 32.421875 \nQ 37.25 32.421875 41.125 36.953125 \nQ 45.015625 41.5 45.015625 49.421875 \nQ 45.015625 57.28125 41.125 61.84375 \nQ 37.25 66.40625 30.609375 66.40625 \nQ 23.96875 66.40625 20.09375 61.84375 \nQ 16.21875 57.28125 16.21875 49.421875 \nQ 16.21875 41.5 20.09375 36.953125 \nQ 23.96875 32.421875 30.609375 32.421875 \nz\n\" id=\"DejaVuSans-57\"/>\n    </defs>\n    <g transform=\"translate(643.199972 16.318125)scale(0.12 -0.12)\">\n     <use xlink:href=\"#DejaVuSans-70\"/>\n     <use x=\"50.269531\" xlink:href=\"#DejaVuSans-105\"/>\n     <use x=\"78.052734\" xlink:href=\"#DejaVuSans-110\"/>\n     <use x=\"141.431641\" xlink:href=\"#DejaVuSans-97\"/>\n     <use x=\"202.710938\" xlink:href=\"#DejaVuSans-108\"/>\n     <use x=\"230.494141\" xlink:href=\"#DejaVuSans-32\"/>\n     <use x=\"262.28125\" xlink:href=\"#DejaVuSans-109\"/>\n     <use x=\"359.693359\" xlink:href=\"#DejaVuSans-111\"/>\n     <use x=\"420.875\" xlink:href=\"#DejaVuSans-100\"/>\n     <use x=\"484.351562\" xlink:href=\"#DejaVuSans-101\"/>\n     <use x=\"545.875\" xlink:href=\"#DejaVuSans-108\"/>\n     <use x=\"573.658203\" xlink:href=\"#DejaVuSans-32\"/>\n     <use x=\"605.445312\" xlink:href=\"#DejaVuSans-116\"/>\n     <use x=\"644.654297\" xlink:href=\"#DejaVuSans-101\"/>\n     <use x=\"706.177734\" xlink:href=\"#DejaVuSans-115\"/>\n     <use x=\"758.277344\" xlink:href=\"#DejaVuSans-116\"/>\n     <use x=\"797.486328\" xlink:href=\"#DejaVuSans-32\"/>\n     <use x=\"829.273438\" xlink:href=\"#DejaVuSans-97\"/>\n     <use x=\"890.552734\" xlink:href=\"#DejaVuSans-99\"/>\n     <use x=\"945.533203\" xlink:href=\"#DejaVuSans-99\"/>\n     <use x=\"1000.513672\" xlink:href=\"#DejaVuSans-117\"/>\n     <use x=\"1063.892578\" xlink:href=\"#DejaVuSans-114\"/>\n     <use x=\"1105.005859\" xlink:href=\"#DejaVuSans-97\"/>\n     <use x=\"1166.285156\" xlink:href=\"#DejaVuSans-99\"/>\n     <use x=\"1221.265625\" xlink:href=\"#DejaVuSans-121\"/>\n     <use x=\"1273.195312\" xlink:href=\"#DejaVuSans-58\"/>\n     <use x=\"1306.886719\" xlink:href=\"#DejaVuSans-32\"/>\n     <use x=\"1338.673828\" xlink:href=\"#DejaVuSans-56\"/>\n     <use x=\"1402.296875\" xlink:href=\"#DejaVuSans-54\"/>\n     <use x=\"1465.919922\" xlink:href=\"#DejaVuSans-46\"/>\n     <use x=\"1497.707031\" xlink:href=\"#DejaVuSans-50\"/>\n     <use x=\"1561.330078\" xlink:href=\"#DejaVuSans-57\"/>\n     <use x=\"1624.953125\" xlink:href=\"#DejaVuSans-37\"/>\n    </g>\n   </g>\n   <g id=\"legend_1\">\n    <g id=\"patch_12\">\n     <path d=\"M 550.488068 59.674375 \nL 606.475568 59.674375 \nQ 608.475568 59.674375 608.475568 57.674375 \nL 608.475568 29.318125 \nQ 608.475568 27.318125 606.475568 27.318125 \nL 550.488068 27.318125 \nQ 548.488068 27.318125 548.488068 29.318125 \nL 548.488068 57.674375 \nQ 548.488068 59.674375 550.488068 59.674375 \nz\n\" style=\"fill:#ffffff;opacity:0.8;stroke:#cccccc;stroke-linejoin:miter;\"/>\n    </g>\n    <g id=\"line2d_37\">\n     <path d=\"M 552.488068 35.416562 \nL 572.488068 35.416562 \n\" style=\"fill:none;stroke:#1f77b4;stroke-linecap:square;stroke-width:1.5;\"/>\n    </g>\n    <g id=\"line2d_38\">\n     <g>\n      <use style=\"fill:#1f77b4;stroke:#1f77b4;stroke-linejoin:miter;\" x=\"562.488068\" xlink:href=\"#m811621e1fa\" y=\"35.416562\"/>\n     </g>\n    </g>\n    <g id=\"text_40\">\n     <!-- Train -->\n     <defs>\n      <path d=\"M -0.296875 72.90625 \nL 61.375 72.90625 \nL 61.375 64.59375 \nL 35.5 64.59375 \nL 35.5 0 \nL 25.59375 0 \nL 25.59375 64.59375 \nL -0.296875 64.59375 \nz\n\" id=\"DejaVuSans-84\"/>\n     </defs>\n     <g transform=\"translate(580.488068 38.916562)scale(0.1 -0.1)\">\n      <use xlink:href=\"#DejaVuSans-84\"/>\n      <use x=\"46.333984\" xlink:href=\"#DejaVuSans-114\"/>\n      <use x=\"87.447266\" xlink:href=\"#DejaVuSans-97\"/>\n      <use x=\"148.726562\" xlink:href=\"#DejaVuSans-105\"/>\n      <use x=\"176.509766\" xlink:href=\"#DejaVuSans-110\"/>\n     </g>\n    </g>\n    <g id=\"line2d_39\">\n     <path d=\"M 552.488068 50.094688 \nL 572.488068 50.094688 \n\" style=\"fill:none;stroke:#ff7f0e;stroke-linecap:square;stroke-width:1.5;\"/>\n    </g>\n    <g id=\"line2d_40\">\n     <g>\n      <use style=\"fill:#ff7f0e;stroke:#ff7f0e;\" x=\"562.488068\" xlink:href=\"#m8f70e02185\" y=\"50.094688\"/>\n     </g>\n    </g>\n    <g id=\"text_41\">\n     <!-- Test -->\n     <g transform=\"translate(580.488068 53.594688)scale(0.1 -0.1)\">\n      <use xlink:href=\"#DejaVuSans-84\"/>\n      <use x=\"44.083984\" xlink:href=\"#DejaVuSans-101\"/>\n      <use x=\"105.607422\" xlink:href=\"#DejaVuSans-115\"/>\n      <use x=\"157.707031\" xlink:href=\"#DejaVuSans-116\"/>\n     </g>\n    </g>\n   </g>\n  </g>\n </g>\n <defs>\n  <clipPath id=\"p016e31875a\">\n   <rect height=\"271.8\" width=\"405.818182\" x=\"56.50625\" y=\"22.318125\"/>\n  </clipPath>\n  <clipPath id=\"pf143cf22e8\">\n   <rect height=\"271.8\" width=\"405.818182\" x=\"543.488068\" y=\"22.318125\"/>\n  </clipPath>\n </defs>\n</svg>\n"
          },
          "metadata": {
            "needs_background": "light"
          }
        }
      ]
    },
    {
      "cell_type": "code",
      "source": [
        ""
      ],
      "metadata": {
        "id": "2dTMVP50F3O7"
      },
      "execution_count": null,
      "outputs": []
    },
    {
      "cell_type": "markdown",
      "source": [
        "# COURSE: A deep understanding of deep learning\n",
        "## SECTION: Transfer learning\n",
        "### LECTURE: CodeChallenge: letters to numbers\n",
        "#### TEACHER: Mike X Cohen, sincxpress.com\n",
        "##### COURSE URL: udemy.com/course/dudl/?couponCode=202108"
      ],
      "metadata": {
        "id": "ZXLZV8vzMaGz"
      }
    },
    {
      "cell_type": "code",
      "source": [
        "# import libraries\n",
        "import numpy as np\n",
        "\n",
        "import torch\n",
        "import torch.nn as nn\n",
        "import torch.nn.functional as F\n",
        "from torch.utils.data import DataLoader\n",
        "import copy\n",
        "from sklearn.model_selection import train_test_split\n",
        "\n",
        "\n",
        "# NEW! for importing data\n",
        "import torchvision\n",
        "\n",
        "import matplotlib.pyplot as plt\n",
        "from IPython import display\n",
        "display.set_matplotlib_formats('svg')"
      ],
      "metadata": {
        "id": "vn9b_tJxMdPj"
      },
      "execution_count": 1,
      "outputs": []
    },
    {
      "cell_type": "code",
      "source": [
        "# use GPU if available\n",
        "device = torch.device('cuda:0' if torch.cuda.is_available() else 'cpu')"
      ],
      "metadata": {
        "id": "VNeM-mXoMdNs"
      },
      "execution_count": 2,
      "outputs": []
    },
    {
      "cell_type": "markdown",
      "source": [
        "## Import the data"
      ],
      "metadata": {
        "id": "ofeGgusHMs-C"
      }
    },
    {
      "cell_type": "code",
      "source": [
        "# download the datasets\n",
        "letterdata = torchvision.datasets.EMNIST(root='emnist',split='letters',download=True)\n",
        "numberdata = torchvision.datasets.EMNIST(root='emnist',split='digits',download=True)"
      ],
      "metadata": {
        "colab": {
          "base_uri": "https://localhost:8080/",
          "height": 85,
          "referenced_widgets": [
            "7572552cc73649d39317829cbe4d7264",
            "7d748110756f4384b1c940c54e2ddbc0",
            "26014d40d8d8408186e6a16ed25e6080",
            "8660d1e38e4e4005a116f1ae39e2ab27",
            "43e5d0bec7d9458c95a0a59f9739c123",
            "e7ec9dbd8e664347b56d76f8fa33a5e1",
            "96560d2aef0e4f139019e22088e31e36",
            "3c1b33908dab4e91a1ad997dd9b7eb97",
            "0c232f1302c343169abef990777394bd",
            "79aef755993c43c5ac2307613d8a56fd",
            "af0aeaf28d2f4c3d90f8ebb2f2a0ee17"
          ]
        },
        "id": "RLh8BOuzMdK8",
        "outputId": "32414731-17ca-4e1d-f382-71a73502994e"
      },
      "execution_count": 3,
      "outputs": [
        {
          "output_type": "stream",
          "name": "stdout",
          "text": [
            "Downloading https://www.itl.nist.gov/iaui/vip/cs_links/EMNIST/gzip.zip to emnist/EMNIST/raw/gzip.zip\n"
          ]
        },
        {
          "output_type": "display_data",
          "data": {
            "text/plain": [
              "  0%|          | 0/561753746 [00:00<?, ?it/s]"
            ],
            "application/vnd.jupyter.widget-view+json": {
              "version_major": 2,
              "version_minor": 0,
              "model_id": "7572552cc73649d39317829cbe4d7264"
            }
          },
          "metadata": {}
        },
        {
          "output_type": "stream",
          "name": "stdout",
          "text": [
            "Extracting emnist/EMNIST/raw/gzip.zip to emnist/EMNIST/raw\n"
          ]
        }
      ]
    },
    {
      "cell_type": "code",
      "source": [
        "# transformations on the letter data\n",
        "\n",
        "# remove N/A class\n",
        "letterCategories = letterdata.classes[1:]\n",
        "print(letterCategories)\n",
        "labels = copy.deepcopy(letterdata.targets)-1\n",
        "print(labels.unique())\n",
        "\n",
        "# transform to 4D tensor for conv layers (and transform from int8 to float)\n",
        "letterImages = letterdata.data.view([letterdata.data.shape[0],1,28,28]).float()\n",
        "letterImages /= torch.max(letterImages)\n",
        "\n",
        "\n",
        "# split the images and convert to dataloaders\n",
        "train_data,test_data, train_labels,test_labels = train_test_split(letterImages, labels, test_size=.1)\n",
        "\n",
        "# convert into PyTorch Datasets\n",
        "train_data = torch.utils.data.TensorDataset(train_data,train_labels)\n",
        "test_data  = torch.utils.data.TensorDataset(test_data,test_labels)\n",
        "\n",
        "# translate into dataloader objects\n",
        "batchsize = 32\n",
        "letter_train_loader = DataLoader(train_data,batch_size=batchsize,shuffle=True,drop_last=True)\n",
        "letter_test_loader  = DataLoader(test_data,batch_size=test_data.tensors[0].shape[0])"
      ],
      "metadata": {
        "colab": {
          "base_uri": "https://localhost:8080/"
        },
        "id": "6phQDtJkMdIV",
        "outputId": "b424a5ad-c4bc-42e1-f1e9-8a5ec1cbad13"
      },
      "execution_count": 5,
      "outputs": [
        {
          "output_type": "stream",
          "name": "stdout",
          "text": [
            "['a', 'b', 'c', 'd', 'e', 'f', 'g', 'h', 'i', 'j', 'k', 'l', 'm', 'n', 'o', 'p', 'q', 'r', 's', 't', 'u', 'v', 'w', 'x', 'y', 'z']\n",
            "tensor([ 0,  1,  2,  3,  4,  5,  6,  7,  8,  9, 10, 11, 12, 13, 14, 15, 16, 17,\n",
            "        18, 19, 20, 21, 22, 23, 24, 25])\n"
          ]
        }
      ]
    },
    {
      "cell_type": "code",
      "source": [
        "### transformations on numbers data\n",
        "\n",
        "# transform to 4D tensor for conv layers (and transform from int8 to float)\n",
        "numberImages = numberdata.data.view([numberdata.data.shape[0],1,28,28]).float()\n",
        "numberImages /= torch.max(numberImages)\n",
        "\n",
        "\n",
        "# split the images and convert to dataloaders\n",
        "train_data,test_data, train_labels,test_labels = train_test_split(numberImages, numberdata.targets, test_size=.1)\n",
        "\n",
        "# convert into PyTorch Datasets\n",
        "train_data = torch.utils.data.TensorDataset(train_data,train_labels)\n",
        "test_data  = torch.utils.data.TensorDataset(test_data,test_labels)\n",
        "\n",
        "# translate into dataloader objects\n",
        "batchsize = 32\n",
        "number_train_loader = DataLoader(train_data,batch_size=batchsize,shuffle=True,drop_last=True)\n",
        "number_test_loader  = DataLoader(test_data,batch_size=test_data.tensors[0].shape[0])"
      ],
      "metadata": {
        "id": "p0B_u8BaMdF7"
      },
      "execution_count": 6,
      "outputs": []
    },
    {
      "cell_type": "code",
      "source": [
        "# visualize some letters\n",
        "fig,axs = plt.subplots(3,7,figsize=(13,6))\n",
        "\n",
        "# get a batch of letter data\n",
        "X,y = next(iter(letter_train_loader))\n",
        "\n",
        "for i,ax in enumerate(axs.flatten()):\n",
        "  \n",
        "  # extract the image and its target letter\n",
        "  I = np.squeeze( X[i,:,:] )\n",
        "  letter = letterCategories[y[i]]\n",
        "  \n",
        "  # visualize\n",
        "  ax.imshow(I.T,cmap='gray',vmin=0,vmax=1)\n",
        "  ax.set_title('The letter \"%s\"'%letter,fontsize=10)\n",
        "  ax.set_xticks([])\n",
        "  ax.set_yticks([])\n",
        "\n",
        "plt.show()"
      ],
      "metadata": {
        "colab": {
          "base_uri": "https://localhost:8080/",
          "height": 488
        },
        "id": "zseXD8b7MdDe",
        "outputId": "1e546017-2efd-453f-c2ba-cbe3f3fc8e31"
      },
      "execution_count": 7,
      "outputs": [
        {
          "output_type": "display_data",
          "data": {
            "text/plain": [
              "<Figure size 936x432 with 21 Axes>"
            ],
            "image/svg+xml": "<?xml version=\"1.0\" encoding=\"utf-8\" standalone=\"no\"?>\n<!DOCTYPE svg PUBLIC \"-//W3C//DTD SVG 1.1//EN\"\n  \"http://www.w3.org/Graphics/SVG/1.1/DTD/svg11.dtd\">\n<!-- Created with matplotlib (https://matplotlib.org/) -->\n<svg height=\"350.19244pt\" version=\"1.1\" viewBox=\"0 0 743.3 350.19244\" width=\"743.3pt\" xmlns=\"http://www.w3.org/2000/svg\" xmlns:xlink=\"http://www.w3.org/1999/xlink\">\n <defs>\n  <style type=\"text/css\">\n*{stroke-linecap:butt;stroke-linejoin:round;}\n  </style>\n </defs>\n <g id=\"figure_1\">\n  <g id=\"patch_1\">\n   <path d=\"M 0 350.19244 \nL 743.3 350.19244 \nL 743.3 0 \nL 0 0 \nz\n\" style=\"fill:none;\"/>\n  </g>\n  <g id=\"axes_1\">\n   <g id=\"patch_2\">\n    <path d=\"M 10.7 109.261852 \nL 99.163415 109.261852 \nL 99.163415 20.798437 \nL 10.7 20.798437 \nz\n\" style=\"fill:#ffffff;\"/>\n   </g>\n   <g clip-path=\"url(#p506a7110a3)\">\n    <image height=\"89\" id=\"image324da2db0b\" transform=\"scale(1 -1)translate(0 -89)\" width=\"89\" x=\"10.7\" xlink:href=\"data:image/png;base64,\niVBORw0KGgoAAAANSUhEUgAAAFkAAABZCAYAAABVC4ivAAAABHNCSVQICAgIfAhkiAAABORJREFUeJztnckvLUEUxuuap4gxSBDCSghLFhILFiL+ATt/IRshNgSJjYgxIjHFEMQ8xey+lfO+6nTdV7cv5xm+3+q7t93u6u9Vna46VdUvZoyJG/KppP3vAvwGaLICNFkBmqwATVaAJitAkxWgyQrQZAUyfP8wLe3vv0csFgvVLl5eXpIslh7p6emiXfcSj8dD9dvbm9c1WJMVoMkKOMMFhgdjjOns7BTd0tIiurS0VDQ2n9vbW9FDQ0PWuQ4PD0U/Pj4mU95I4L0UFRVZxwYGBkQXFxeH/ubs7Ez08vKy6OnpaetcrvDBmqwATVbAGS6CT9qmpibRfX19ouvr60Xjk/f6+lr0xsaGdS4MJRrhAu+lsLDQOtbf3y+6urpaNPY6tre3Rb++voqemZnxuj5rsgI0WQFnuMCmb4wxR0dHou/u7kQ3NjaKxify8/Oz6La2Nutca2trok9PT5MpbyQwXGRk2LdcV1cXqjFcrKysiEYfgh65YE1WgCYr4AwXwY717u6u6J2dndC/c+U3ggObrwqWGe8L7xd9YO7iC0GTFfBOdV5dXYm+ubn5lMJ8VfB+0QdfWJMVoMkK0GQFvGMygl0Xn1FPsAuHo6nfAGuyAjRZAe9wgTPOmA/G74PJl3fy8/OtzwUFBd4F/AmwJitAkxXwDhfHx8eip6amQr93Td90d3db58Jwg7nl+/t70b652u8Aa7ICNFmBlHsXOM2EYG62srLSOtba2hp67ODgQPRHzmJjWXwHQlHWvLlgTVaAJivgHS6w+WBTxlwrhg4cmJSXl1vnwt7G4OCg6LGxMdFzc3Oin56eQsvhC67Xw3V8xthr47D8uF5vYWFB9OXlZdLXZ01WgCYrQJMV8I7J2I3BFUQ4XV5TUyM6OztbdDCfnJOTI7q9vT30ehgTcdVOsGvn2lqBzwRc5YTdR2OMycvLE41d09XV1VAdZX6TNVkBmqxApHCB3RhsStg9wq0BwVEWfu7q6hKNoaO5uVn00tKS6K2tLetcZWVlonHtMeawe3p6RFdVVVm/z8rKEo0jzvn5edF7e3uiXSPcRLAmK0CTFYg0W50siUZpGDrwSd/R0SG6oaFBNPY6jLHDBU5rZWZmisYkFIYHY9yjV9yOkWpumzVZAZqsQKRw4WrirtnqYD4Wm59rb7Or14BTXMbYAxvX9V3fG2OHCNzl5FqDHQXWZAVosgLe4QKbMjZRbNb45Man9uTkpHUu3PHU29srGgcweD3sKeC1fcENjg8PD9ax0dFR0cPDw6JnZ2dFM1x8A2iyApGmn7DJYdPH7/GpPTIyYp0LBxSYhqytrRWNTRypqKiwPmPPAUMMlvfi4iL02sYYMz4+LnpxcVF0lG0LLliTFaDJCtBkBSKN+FyriTAmo56YmLB+v7+/LxrfhYG5XoyjGGvxNT3G2EkhnObCbhduQN/c3LR+v76+LjrVpQcuWJMVoMkKpJxPxq4WjvJcOvgZm69rwSGGi+D7MRIlf95JtJtW5W1en34FQpM1SHmzJG5twHdBnJyciA6OsrB3gjqYvAkD87zfBdZkBWiyAjGT4n/mUlJSIjo3N1c0Nv3z83PrNz9pZ5MPrMkK0GQFUg4XrjdofeTuoe8Oa7ICNFmBlMMF+TesyQrQZAVosgI0WQGarABNVoAmK0CTFaDJCvwB8QLwhQnCGlwAAAAASUVORK5CYII=\" y=\"-20.261852\"/>\n   </g>\n   <g id=\"matplotlib.axis_1\"/>\n   <g id=\"matplotlib.axis_2\"/>\n   <g id=\"patch_3\">\n    <path d=\"M 10.7 109.261852 \nL 10.7 20.798437 \n\" style=\"fill:none;stroke:#000000;stroke-linecap:square;stroke-linejoin:miter;stroke-width:0.8;\"/>\n   </g>\n   <g id=\"patch_4\">\n    <path d=\"M 99.163415 109.261852 \nL 99.163415 20.798437 \n\" style=\"fill:none;stroke:#000000;stroke-linecap:square;stroke-linejoin:miter;stroke-width:0.8;\"/>\n   </g>\n   <g id=\"patch_5\">\n    <path d=\"M 10.7 109.261852 \nL 99.163415 109.261852 \n\" style=\"fill:none;stroke:#000000;stroke-linecap:square;stroke-linejoin:miter;stroke-width:0.8;\"/>\n   </g>\n   <g id=\"patch_6\">\n    <path d=\"M 10.7 20.798437 \nL 99.163415 20.798437 \n\" style=\"fill:none;stroke:#000000;stroke-linecap:square;stroke-linejoin:miter;stroke-width:0.8;\"/>\n   </g>\n   <g id=\"text_1\">\n    <!-- The letter \"n\" -->\n    <defs>\n     <path d=\"M -0.296875 72.90625 \nL 61.375 72.90625 \nL 61.375 64.59375 \nL 35.5 64.59375 \nL 35.5 0 \nL 25.59375 0 \nL 25.59375 64.59375 \nL -0.296875 64.59375 \nz\n\" id=\"DejaVuSans-84\"/>\n     <path d=\"M 54.890625 33.015625 \nL 54.890625 0 \nL 45.90625 0 \nL 45.90625 32.71875 \nQ 45.90625 40.484375 42.875 44.328125 \nQ 39.84375 48.1875 33.796875 48.1875 \nQ 26.515625 48.1875 22.3125 43.546875 \nQ 18.109375 38.921875 18.109375 30.90625 \nL 18.109375 0 \nL 9.078125 0 \nL 9.078125 75.984375 \nL 18.109375 75.984375 \nL 18.109375 46.1875 \nQ 21.34375 51.125 25.703125 53.5625 \nQ 30.078125 56 35.796875 56 \nQ 45.21875 56 50.046875 50.171875 \nQ 54.890625 44.34375 54.890625 33.015625 \nz\n\" id=\"DejaVuSans-104\"/>\n     <path d=\"M 56.203125 29.59375 \nL 56.203125 25.203125 \nL 14.890625 25.203125 \nQ 15.484375 15.921875 20.484375 11.0625 \nQ 25.484375 6.203125 34.421875 6.203125 \nQ 39.59375 6.203125 44.453125 7.46875 \nQ 49.3125 8.734375 54.109375 11.28125 \nL 54.109375 2.78125 \nQ 49.265625 0.734375 44.1875 -0.34375 \nQ 39.109375 -1.421875 33.890625 -1.421875 \nQ 20.796875 -1.421875 13.15625 6.1875 \nQ 5.515625 13.8125 5.515625 26.8125 \nQ 5.515625 40.234375 12.765625 48.109375 \nQ 20.015625 56 32.328125 56 \nQ 43.359375 56 49.78125 48.890625 \nQ 56.203125 41.796875 56.203125 29.59375 \nz\nM 47.21875 32.234375 \nQ 47.125 39.59375 43.09375 43.984375 \nQ 39.0625 48.390625 32.421875 48.390625 \nQ 24.90625 48.390625 20.390625 44.140625 \nQ 15.875 39.890625 15.1875 32.171875 \nz\n\" id=\"DejaVuSans-101\"/>\n     <path id=\"DejaVuSans-32\"/>\n     <path d=\"M 9.421875 75.984375 \nL 18.40625 75.984375 \nL 18.40625 0 \nL 9.421875 0 \nz\n\" id=\"DejaVuSans-108\"/>\n     <path d=\"M 18.3125 70.21875 \nL 18.3125 54.6875 \nL 36.8125 54.6875 \nL 36.8125 47.703125 \nL 18.3125 47.703125 \nL 18.3125 18.015625 \nQ 18.3125 11.328125 20.140625 9.421875 \nQ 21.96875 7.515625 27.59375 7.515625 \nL 36.8125 7.515625 \nL 36.8125 0 \nL 27.59375 0 \nQ 17.1875 0 13.234375 3.875 \nQ 9.28125 7.765625 9.28125 18.015625 \nL 9.28125 47.703125 \nL 2.6875 47.703125 \nL 2.6875 54.6875 \nL 9.28125 54.6875 \nL 9.28125 70.21875 \nz\n\" id=\"DejaVuSans-116\"/>\n     <path d=\"M 41.109375 46.296875 \nQ 39.59375 47.171875 37.8125 47.578125 \nQ 36.03125 48 33.890625 48 \nQ 26.265625 48 22.1875 43.046875 \nQ 18.109375 38.09375 18.109375 28.8125 \nL 18.109375 0 \nL 9.078125 0 \nL 9.078125 54.6875 \nL 18.109375 54.6875 \nL 18.109375 46.1875 \nQ 20.953125 51.171875 25.484375 53.578125 \nQ 30.03125 56 36.53125 56 \nQ 37.453125 56 38.578125 55.875 \nQ 39.703125 55.765625 41.0625 55.515625 \nz\n\" id=\"DejaVuSans-114\"/>\n     <path d=\"M 17.921875 72.90625 \nL 17.921875 45.796875 \nL 9.625 45.796875 \nL 9.625 72.90625 \nz\nM 36.375 72.90625 \nL 36.375 45.796875 \nL 28.078125 45.796875 \nL 28.078125 72.90625 \nz\n\" id=\"DejaVuSans-34\"/>\n     <path d=\"M 54.890625 33.015625 \nL 54.890625 0 \nL 45.90625 0 \nL 45.90625 32.71875 \nQ 45.90625 40.484375 42.875 44.328125 \nQ 39.84375 48.1875 33.796875 48.1875 \nQ 26.515625 48.1875 22.3125 43.546875 \nQ 18.109375 38.921875 18.109375 30.90625 \nL 18.109375 0 \nL 9.078125 0 \nL 9.078125 54.6875 \nL 18.109375 54.6875 \nL 18.109375 46.1875 \nQ 21.34375 51.125 25.703125 53.5625 \nQ 30.078125 56 35.796875 56 \nQ 45.21875 56 50.046875 50.171875 \nQ 54.890625 44.34375 54.890625 33.015625 \nz\n\" id=\"DejaVuSans-110\"/>\n    </defs>\n    <g transform=\"translate(21.167645 14.798437)scale(0.1 -0.1)\">\n     <use xlink:href=\"#DejaVuSans-84\"/>\n     <use x=\"61.083984\" xlink:href=\"#DejaVuSans-104\"/>\n     <use x=\"124.462891\" xlink:href=\"#DejaVuSans-101\"/>\n     <use x=\"185.986328\" xlink:href=\"#DejaVuSans-32\"/>\n     <use x=\"217.773438\" xlink:href=\"#DejaVuSans-108\"/>\n     <use x=\"245.556641\" xlink:href=\"#DejaVuSans-101\"/>\n     <use x=\"307.080078\" xlink:href=\"#DejaVuSans-116\"/>\n     <use x=\"346.289062\" xlink:href=\"#DejaVuSans-116\"/>\n     <use x=\"385.498047\" xlink:href=\"#DejaVuSans-101\"/>\n     <use x=\"447.021484\" xlink:href=\"#DejaVuSans-114\"/>\n     <use x=\"488.134766\" xlink:href=\"#DejaVuSans-32\"/>\n     <use x=\"519.921875\" xlink:href=\"#DejaVuSans-34\"/>\n     <use x=\"565.917969\" xlink:href=\"#DejaVuSans-110\"/>\n     <use x=\"629.296875\" xlink:href=\"#DejaVuSans-34\"/>\n    </g>\n   </g>\n  </g>\n  <g id=\"axes_2\">\n   <g id=\"patch_7\">\n    <path d=\"M 116.856098 109.261852 \nL 205.319512 109.261852 \nL 205.319512 20.798437 \nL 116.856098 20.798437 \nz\n\" style=\"fill:#ffffff;\"/>\n   </g>\n   <g clip-path=\"url(#p009f72e0cf)\">\n    <image height=\"89\" id=\"image55241f873e\" transform=\"scale(1 -1)translate(0 -89)\" width=\"89\" x=\"116.856098\" xlink:href=\"data:image/png;base64,\niVBORw0KGgoAAAANSUhEUgAAAFkAAABZCAYAAABVC4ivAAAABHNCSVQICAgIfAhkiAAABApJREFUeJztnUlL7FAUhE+LA+KE4KygqKjQThtxKfgDXOj/1P/gSl0IoqIoTqCooDjjPOyOdUP3Q3xJpfNefavSTieX8qS49/RNmzOzTxOJUpb2AP4HZDIBmUxAJhOQyQRkMgGZTEAmE5DJBMrTuGgulyv4+8/Pf3PxqUomIJMJJBYXVVVVrltbW4PXent7vwdQ/j2Es7Ozgvrm5sb16+trrONkoEomIJMJxBoXZWXff7Pa2lrX+Xw+OG56etp1Q0OD64ODA9crKyuu19bWXF9cXMQzWCKqZAIymUCscYGLjOrqatednZ3BcSMjI65xpjE0NOQaowcj4vLyMjhXFhYwqmQCMplArHGBt+7T05Pr6IwAFxcYK319fa4nJiZcn5ycuN7Z2QnOhdcp1ehQJROQyQRijYuPjw/X9/f3rvf394Pjtra2XOOMoru72zXOQB4eHlwvLi4G58IoeX5+/s2wE0eVTEAmE5DJBBLrJ2PfF3vDZmYbGxuuh4eHXWPfuaWlxfXk5KRrzGqzMPtxNfj+/v6bYSeCKpmATCaQWFzg7Xp3dxe8hqs2jI6BgQHX/f39rtvb212Pj48H58IeNF7n8fHxN8NOBFUyAZlMgLK5JXrr7u7uup6fny/4ntnZWdcYHXNzc8Fx2HdeWFhwjZGE10+jiaRKJiCTCaSyF+7l5cX1+fm5a5xpjI6OusbZRVtbW3CusbEx19iIur29dZ12E0mVTEAmE0glLnChgrc13u6oMRK6urqCc2GsXF9fF9TF+hvRsSSFKpmATCYgkwmkkskI9p0xR7EHfXV15bqnpyd4P07psHl0eHjo+ujoyDXmsxlnNahKJiCTCaQeF7iNAKdz2OBZX193Hd3rXFlZ6bqjo8M1Rgf2nPEaZpzVoCqZgEwmUFJxgR8fYbOorq7O9dTUVPB+jIj6+nrXP1kJmnE+7VYlE5DJBFKPCwT7zKenp66Xl5ddY4yYhVHS2NjoutgiBWca0Z9x5qG4yBgymUBJxQX2DrCngH2I6P5k7C/jA5r4mMTg4KDrmZmZ4P04u8C4OD4+dv329vaj8RdDlUxAJhMoqbgoBi5Y9vb2gtfwZ3woE3sa+HUPGClmZjU1NQWPixNVMgGZTEAmE8h8Jm9ubrrGqRo2izBro9/khRsWk0KVTEAmE8hEXCB/epIKP5pqbm52jdERXb1hFCWFKpmATCaQubiIPkm1vb3tenV11XVTU1NBjX1qs3DjzN82goqhSiYgkwlkLi6iG1BwtrG0tOQa+8Q4u4hubsGNM/hanLMOVTIBmUwgZxn/308VFRWuMRbwU2zsXURnEBgROHOJ8yuEVckEZDKBzMdFFlAlE5DJBGQyAZlMQCYTkMkEZDIBmUxAJhP4AjqXjT35CBYvAAAAAElFTkSuQmCC\" y=\"-20.261852\"/>\n   </g>\n   <g id=\"matplotlib.axis_3\"/>\n   <g id=\"matplotlib.axis_4\"/>\n   <g id=\"patch_8\">\n    <path d=\"M 116.856098 109.261852 \nL 116.856098 20.798437 \n\" style=\"fill:none;stroke:#000000;stroke-linecap:square;stroke-linejoin:miter;stroke-width:0.8;\"/>\n   </g>\n   <g id=\"patch_9\">\n    <path d=\"M 205.319512 109.261852 \nL 205.319512 20.798437 \n\" style=\"fill:none;stroke:#000000;stroke-linecap:square;stroke-linejoin:miter;stroke-width:0.8;\"/>\n   </g>\n   <g id=\"patch_10\">\n    <path d=\"M 116.856098 109.261852 \nL 205.319512 109.261852 \n\" style=\"fill:none;stroke:#000000;stroke-linecap:square;stroke-linejoin:miter;stroke-width:0.8;\"/>\n   </g>\n   <g id=\"patch_11\">\n    <path d=\"M 116.856098 20.798437 \nL 205.319512 20.798437 \n\" style=\"fill:none;stroke:#000000;stroke-linecap:square;stroke-linejoin:miter;stroke-width:0.8;\"/>\n   </g>\n   <g id=\"text_2\">\n    <!-- The letter \"i\" -->\n    <defs>\n     <path d=\"M 9.421875 54.6875 \nL 18.40625 54.6875 \nL 18.40625 0 \nL 9.421875 0 \nz\nM 9.421875 75.984375 \nL 18.40625 75.984375 \nL 18.40625 64.59375 \nL 9.421875 64.59375 \nz\n\" id=\"DejaVuSans-105\"/>\n    </defs>\n    <g transform=\"translate(129.10343 14.798437)scale(0.1 -0.1)\">\n     <use xlink:href=\"#DejaVuSans-84\"/>\n     <use x=\"61.083984\" xlink:href=\"#DejaVuSans-104\"/>\n     <use x=\"124.462891\" xlink:href=\"#DejaVuSans-101\"/>\n     <use x=\"185.986328\" xlink:href=\"#DejaVuSans-32\"/>\n     <use x=\"217.773438\" xlink:href=\"#DejaVuSans-108\"/>\n     <use x=\"245.556641\" xlink:href=\"#DejaVuSans-101\"/>\n     <use x=\"307.080078\" xlink:href=\"#DejaVuSans-116\"/>\n     <use x=\"346.289062\" xlink:href=\"#DejaVuSans-116\"/>\n     <use x=\"385.498047\" xlink:href=\"#DejaVuSans-101\"/>\n     <use x=\"447.021484\" xlink:href=\"#DejaVuSans-114\"/>\n     <use x=\"488.134766\" xlink:href=\"#DejaVuSans-32\"/>\n     <use x=\"519.921875\" xlink:href=\"#DejaVuSans-34\"/>\n     <use x=\"565.917969\" xlink:href=\"#DejaVuSans-105\"/>\n     <use x=\"593.701172\" xlink:href=\"#DejaVuSans-34\"/>\n    </g>\n   </g>\n  </g>\n  <g id=\"axes_3\">\n   <g id=\"patch_12\">\n    <path d=\"M 223.012195 109.261852 \nL 311.47561 109.261852 \nL 311.47561 20.798437 \nL 223.012195 20.798437 \nz\n\" style=\"fill:#ffffff;\"/>\n   </g>\n   <g clip-path=\"url(#p1a09739db1)\">\n    <image height=\"89\" id=\"imagefc211c4620\" transform=\"scale(1 -1)translate(0 -89)\" width=\"89\" x=\"223.012195\" xlink:href=\"data:image/png;base64,\niVBORw0KGgoAAAANSUhEUgAAAFkAAABZCAYAAABVC4ivAAAABHNCSVQICAgIfAhkiAAABFFJREFUeJztnDssNFEYhs+yCSHiGhGC0IigQKVAIQpRiAoFoldKdBoiaF0ShWjpNBISiSAKLVFo0EjE/S7i9lf/6zvzO4zLfsu/71M9m5k5M3n37DdnZs5swBjzbEhIiQr3AUQCDFkBhqwAQ1aAISvAkBVgyAowZAUYsgIMWQGGrABDViAY7gMIBAKvuounp6dQHk5IYE9WgCErELJyERX18v3FxMRYy7Kzs+F5eXnwuLg4eHx8PPz6+hq+sbHha//n5+fws7Mz+OPjo7WeRvlhT1aAISvwqXIhRwHy515WVgZvamqCl5aWWttnZWW9266Lt37ez88vT9IuLi7gl5eX8PX1dWsbWX7kstXVVfjBwcG7x/UW7MkKMGQFAsbn02r5U87Pz4dPTU3Bc3Nz4YmJiXB5pjfGmOXlZfjm5ib8q2d6OaIpKiqCFxcXw72lSm4jj1OWi97eXvjW1hb87u7O33H5Wot8CYasgO9ykZ6eDh8cHIS3tbXBj4+P4UtLS/Dp6WmrLblMXijI0cFnkCUtKSkJnpycDK+vr7e2kevJElNYWAjf29uDT05Owufn5622Tk5OXj0u9mQFGLICDFkB5xVfdHS09bmyshJeV1cHv7m5gY+Pj8NHR0fhh4eHVlvemzShQO5T+vb2trWeq47LIWhJSQlcnpsyMzOttk5PT+Hy/MKerABDVsBZLlJSUqzPzc3N8NTUVLi84pPDm/39/W85wO/m4eHBucxPiZFXiN4rVNcQlD1ZAYasgLNc5OTkWJ/Ly8vh8mfR19cH9565/xdkWfjMTSz2ZAUYsgJWuQgGXz5WVVVZK2ZkZLzagMaFxW+HPVkBhqyAc3SRkJBgrxgM+7S5Xwt7sgIMWQGGrIBVaOXVjHdin3x+JW8eee87k39hT1aAISvgLBdyBo0xxqysrMAbGhrgFRUV8N3dXbjf2TWRAHuyAgxZAecMIu+oobGxET42NgaXs2va29vh3nnA34V8/OPlp74ZxZ6sAENWwPeEw7S0NPjQ0BC8tbUVLicSDg8Pw+fm5qy2PjrykBNQuru7rWXyMVlPTw/86OjoQ/sIJezJCjBkBXzfJJZzj/v7++FyXlx1dTVcToDxvs6wtrYGv7+/h7vmpcm2WlparLbkfW65DctFhMGQFfBdLuSElp2dHfjIyAi8o6MDXlBQAJ+YmLDampmZgcuXGv28vSTfyzbGmNnZWbi3LP0U2JMVYMgKMGQFfF/xuZD/UVFbWwuX9bmmpsbaJjY2Fi5rvRzCyfosfWFhwWprYGAAvri4CP9JN4vYkxVgyAp8uVxI5D1o+TK7vIlkjDFdXV1w71/n/OXq6gou/x6ns7PTWk8O4d56VSGcsCcrwJAV+NZy4dyJ529vZClxTWSUJeL29hYuX3j/LbAnK8CQFVApF5EOe7ICDFkBhqwAQ1aAISvAkBVgyAowZAUYsgIMWQGGrABDVoAhK8CQFWDICvwBjJFAJ0wVpJQAAAAASUVORK5CYII=\" y=\"-20.261852\"/>\n   </g>\n   <g id=\"matplotlib.axis_5\"/>\n   <g id=\"matplotlib.axis_6\"/>\n   <g id=\"patch_13\">\n    <path d=\"M 223.012195 109.261852 \nL 223.012195 20.798437 \n\" style=\"fill:none;stroke:#000000;stroke-linecap:square;stroke-linejoin:miter;stroke-width:0.8;\"/>\n   </g>\n   <g id=\"patch_14\">\n    <path d=\"M 311.47561 109.261852 \nL 311.47561 20.798437 \n\" style=\"fill:none;stroke:#000000;stroke-linecap:square;stroke-linejoin:miter;stroke-width:0.8;\"/>\n   </g>\n   <g id=\"patch_15\">\n    <path d=\"M 223.012195 109.261852 \nL 311.47561 109.261852 \n\" style=\"fill:none;stroke:#000000;stroke-linecap:square;stroke-linejoin:miter;stroke-width:0.8;\"/>\n   </g>\n   <g id=\"patch_16\">\n    <path d=\"M 223.012195 20.798437 \nL 311.47561 20.798437 \n\" style=\"fill:none;stroke:#000000;stroke-linecap:square;stroke-linejoin:miter;stroke-width:0.8;\"/>\n   </g>\n   <g id=\"text_3\">\n    <!-- The letter \"c\" -->\n    <defs>\n     <path d=\"M 48.78125 52.59375 \nL 48.78125 44.1875 \nQ 44.96875 46.296875 41.140625 47.34375 \nQ 37.3125 48.390625 33.40625 48.390625 \nQ 24.65625 48.390625 19.8125 42.84375 \nQ 14.984375 37.3125 14.984375 27.296875 \nQ 14.984375 17.28125 19.8125 11.734375 \nQ 24.65625 6.203125 33.40625 6.203125 \nQ 37.3125 6.203125 41.140625 7.25 \nQ 44.96875 8.296875 48.78125 10.40625 \nL 48.78125 2.09375 \nQ 45.015625 0.34375 40.984375 -0.53125 \nQ 36.96875 -1.421875 32.421875 -1.421875 \nQ 20.0625 -1.421875 12.78125 6.34375 \nQ 5.515625 14.109375 5.515625 27.296875 \nQ 5.515625 40.671875 12.859375 48.328125 \nQ 20.21875 56 33.015625 56 \nQ 37.15625 56 41.109375 55.140625 \nQ 45.0625 54.296875 48.78125 52.59375 \nz\n\" id=\"DejaVuSans-99\"/>\n    </defs>\n    <g transform=\"translate(233.899371 14.798437)scale(0.1 -0.1)\">\n     <use xlink:href=\"#DejaVuSans-84\"/>\n     <use x=\"61.083984\" xlink:href=\"#DejaVuSans-104\"/>\n     <use x=\"124.462891\" xlink:href=\"#DejaVuSans-101\"/>\n     <use x=\"185.986328\" xlink:href=\"#DejaVuSans-32\"/>\n     <use x=\"217.773438\" xlink:href=\"#DejaVuSans-108\"/>\n     <use x=\"245.556641\" xlink:href=\"#DejaVuSans-101\"/>\n     <use x=\"307.080078\" xlink:href=\"#DejaVuSans-116\"/>\n     <use x=\"346.289062\" xlink:href=\"#DejaVuSans-116\"/>\n     <use x=\"385.498047\" xlink:href=\"#DejaVuSans-101\"/>\n     <use x=\"447.021484\" xlink:href=\"#DejaVuSans-114\"/>\n     <use x=\"488.134766\" xlink:href=\"#DejaVuSans-32\"/>\n     <use x=\"519.921875\" xlink:href=\"#DejaVuSans-34\"/>\n     <use x=\"565.917969\" xlink:href=\"#DejaVuSans-99\"/>\n     <use x=\"620.898438\" xlink:href=\"#DejaVuSans-34\"/>\n    </g>\n   </g>\n  </g>\n  <g id=\"axes_4\">\n   <g id=\"patch_17\">\n    <path d=\"M 329.168293 109.261852 \nL 417.631707 109.261852 \nL 417.631707 20.798437 \nL 329.168293 20.798437 \nz\n\" style=\"fill:#ffffff;\"/>\n   </g>\n   <g clip-path=\"url(#p7652c38f4b)\">\n    <image height=\"89\" id=\"image25549e0562\" transform=\"scale(1 -1)translate(0 -89)\" width=\"89\" x=\"329.168293\" xlink:href=\"data:image/png;base64,\niVBORw0KGgoAAAANSUhEUgAAAFkAAABZCAYAAABVC4ivAAAABHNCSVQICAgIfAhkiAAABEJJREFUeJztmksotV0Yhh+nYiJCGQjFgEQMyZykpAwwMXBIycAMAyZGyggzE6QMRJSinIpSZoiEnDJADgMD5PSP/vt71m6/X3vvb3t2//ff1+h693ta7pantda7okTkW8iPEh3pBvwfYMgGMGQDGLIBDNkAhmwAQzaAIRvAkA1gyAYwZAMYsgEM2QCGbABDNoAhG8CQDWDIBsR6nYiOjvY8/vj4+LkW/YWwJxvAkA3wLBdVVVXOcXFxMXxhYQF+fHwMf319DWfb/hrYkw1gyAZEidrcEhMTgxPLy8vOheXl5fCjoyP47OwsfHBwEB7p0hEb+6sSZmRk+P1dxB0p3dzcwMPZfvZkAxiyAQzZAKdAfX5+woeHh50LMzMz4UVFRfDCwkJ4SUkJfGRkBL66uhqGpvonLi4O3tjYCO/o6IAXFBT4vV5E5P39HX5ycgKfnJyEz83Nwc/OzoJuI3uyAQzZAGcIp4mPj3eO6+vr4WNjY3A97NP/eouLi/DW1lbnWff396G1VkSioqKcY126lpaW4GlpafCrqyu/bfQlKSkJnpCQAF9ZWYHrv+Xh4SGgNrMnG8CQDfAsF76kpKTAdbmoqKiA61mSnknt7u46z9Ijj/n5+cBbK255EBEZHx+H5+XlwWdmZuDt7e3wt7c3535dfpKTk+GdnZ3wlpYWeHd3N3x6etp5lu+z/4U92QCGbEDA5UKTm5sL7+/vh2dnZ8M3NjbgbW1tzv3n5+dwvfAUyGetrq4u53hgYACuJxNNTU1w33IVCOnp6XBd3nJycvy+Q0Rkb2/P77PYkw1gyAZ4fn76Haenp3A9OO/t7YXX1dXBt7e3nfvX19fhX19fQb07MTHROdZrEXqN4fDwMKjn+nJ3dwfXI5ipqSl4bW2tcw/LRQRhyAYwZANCqskaPcsbHR2F6+9qqampzj36+2GwNdl3Z5NeA9c1Uf8eCrpda2tr8NvbW7hep/Ztm76fPdkAhmxASDO+QNDrsXrGJCKSn58PHxoagm9ubsKfnp7gWVlZcL1mLCLy/f2r+Xrx6OXlJZRm+0VvI9jf34dfXFw411VXV8N1uWJPNoAhG/DHowsv9L9rT0+Pc66yshLe19cH15sX9YxNb3bUoxYRd/Oj13puONHl6fn52fOchj3ZAIZswI+VC41ebBERmZiYgG9tbcFramrgpaWlcF0GGhoanGfpEUmwE5tQ0KOGg4MD55zX+9mTDWDIBpiUi9+h95bp/Xd6L5rm8fHRObYoEb7rJcG+mz3ZAIZsQMTLhUZ/rf6T/XLhQO/xa25uhu/s7MC9Spov7MkGMGQDGLIBP7ae/F9HD9vKysrg19fX8MvLS+ceLhBFEIZsAMtFAHh9hQ74/nA2hviHIRvAcmEAe7IBDNkAhmwAQzaAIRvAkA1gyAYwZAMYsgEM2QCGbABDNoAhG8CQDWDIBjBkAxiyAQzZgH8AfqBL2djCzK8AAAAASUVORK5CYII=\" y=\"-20.261852\"/>\n   </g>\n   <g id=\"matplotlib.axis_7\"/>\n   <g id=\"matplotlib.axis_8\"/>\n   <g id=\"patch_18\">\n    <path d=\"M 329.168293 109.261852 \nL 329.168293 20.798437 \n\" style=\"fill:none;stroke:#000000;stroke-linecap:square;stroke-linejoin:miter;stroke-width:0.8;\"/>\n   </g>\n   <g id=\"patch_19\">\n    <path d=\"M 417.631707 109.261852 \nL 417.631707 20.798437 \n\" style=\"fill:none;stroke:#000000;stroke-linecap:square;stroke-linejoin:miter;stroke-width:0.8;\"/>\n   </g>\n   <g id=\"patch_20\">\n    <path d=\"M 329.168293 109.261852 \nL 417.631707 109.261852 \n\" style=\"fill:none;stroke:#000000;stroke-linecap:square;stroke-linejoin:miter;stroke-width:0.8;\"/>\n   </g>\n   <g id=\"patch_21\">\n    <path d=\"M 329.168293 20.798437 \nL 417.631707 20.798437 \n\" style=\"fill:none;stroke:#000000;stroke-linecap:square;stroke-linejoin:miter;stroke-width:0.8;\"/>\n   </g>\n   <g id=\"text_4\">\n    <!-- The letter \"n\" -->\n    <g transform=\"translate(339.635938 14.798437)scale(0.1 -0.1)\">\n     <use xlink:href=\"#DejaVuSans-84\"/>\n     <use x=\"61.083984\" xlink:href=\"#DejaVuSans-104\"/>\n     <use x=\"124.462891\" xlink:href=\"#DejaVuSans-101\"/>\n     <use x=\"185.986328\" xlink:href=\"#DejaVuSans-32\"/>\n     <use x=\"217.773438\" xlink:href=\"#DejaVuSans-108\"/>\n     <use x=\"245.556641\" xlink:href=\"#DejaVuSans-101\"/>\n     <use x=\"307.080078\" xlink:href=\"#DejaVuSans-116\"/>\n     <use x=\"346.289062\" xlink:href=\"#DejaVuSans-116\"/>\n     <use x=\"385.498047\" xlink:href=\"#DejaVuSans-101\"/>\n     <use x=\"447.021484\" xlink:href=\"#DejaVuSans-114\"/>\n     <use x=\"488.134766\" xlink:href=\"#DejaVuSans-32\"/>\n     <use x=\"519.921875\" xlink:href=\"#DejaVuSans-34\"/>\n     <use x=\"565.917969\" xlink:href=\"#DejaVuSans-110\"/>\n     <use x=\"629.296875\" xlink:href=\"#DejaVuSans-34\"/>\n    </g>\n   </g>\n  </g>\n  <g id=\"axes_5\">\n   <g id=\"patch_22\">\n    <path d=\"M 435.32439 109.261852 \nL 523.787805 109.261852 \nL 523.787805 20.798437 \nL 435.32439 20.798437 \nz\n\" style=\"fill:#ffffff;\"/>\n   </g>\n   <g clip-path=\"url(#pbaa9773c0d)\">\n    <image height=\"89\" id=\"imagef2953a2270\" transform=\"scale(1 -1)translate(0 -89)\" width=\"89\" x=\"435.32439\" xlink:href=\"data:image/png;base64,\niVBORw0KGgoAAAANSUhEUgAAAFkAAABZCAYAAABVC4ivAAAABHNCSVQICAgIfAhkiAAABOpJREFUeJztnEsodVEUx/fl8yoTeUwkr2QmZCQZeJRERHkkSUlESZIBSUrE0BADEQYSeU2YSJgoZOidkZCSvPlmf2uffHW/e85Z917Wb/TTsc89Lesu+3W2Qyn1qQRb8XH3A/wGJMgM/LH0Zn++bvf5+VWF3t/frfwYr0MymQEJMgOmy0VhYSG8q6sL/vDwAG9tbdXa7O/vm/1Yr0IymQEJMgMSZAZM1+Tk5ORvnXbnZmdntTa5ubnws7Mzs4/g8UgmMyBBZsB0uTg8PITf3d3Bw8PD4XFxcVqbmpoaeG9vL5yOEn8SkskMSJAZcCiT88mhoaHw+vp6eHd3NzwgIEBr8/T0BK+srIQvLS3Bf9KkkmQyAxJkBkyXC0pwcDB8b28PbuxdUBYWFuDt7e3wo6Mjqx7L7UgmMyBBZsDSckGpqqqC0wGHUkrFxsbC6QDk4OAAnp6eDn98fLTjEdmQTGZAgsyAbeXC19cXXlBQoF2bnp6GBwYGwj8+PuD9/f3wsbExuDdOjUomMyBBZkCCzIBtNZlC665Sek0uKir6tg3dUjA/Pw+vq6vTfu/5+dmKR7QVyWQGJMgMsJQLIzExMfD19XU4HQlS6NzywMCAds0buneSyQxIkBmwdH+ys1xcXMBpuaitrYXTzTF09NjS0qLd6/X1FW6ciPIUJJMZkCAz4JbeBV2O2tragkdERPz3va6uruAZGRlwT1q+kkxmQILMgFt6F9XV1XBaIuigY3JyEp6ZmQk3Dlho+9XVVbgnbc+VTGZAgsyABJkBlppMR2xKKZWUlPTt752fn8N7enrgtGs2OjqqtaGbGWnXsLS0FD48PAx/eXlx8qmtQzKZAQkyA7aVCx+fr79ffn6+do3+TCd4JiYm4LR0XF5ewnNycrR7lZeXw+kyV0dHBzwxMRHe0NCgtafbEOxCMpkBCTIDtpUL2qNIS0vTrtEeweLiIpyWCwodCTY3N2vXrq+v4W1tbfCwsDB4cXExfHBwUGt/fHwMt+vtK8lkBiTIDNhWLqKiouD0nWul9K/lxsYGnC5L/QvjXuWVlRU4HYDQFXH6hlZnZ6fWnvZC6Ny0lUgmMyBBZsC25aehoSG4cYX59vYWTucxzH5d6b66qakpeFBQENy4d44eE0H32Vm5x04ymQEJMgOWlgs6d7CzswM3Tm3Ozc3B6dyD2fep6eePjIzAS0pK4LR0KKVv0U1JSYFbudotmcyABJkBCTIDpmsyneypqKiA02Wit7c3rU1ZWRmcThBZCa299POMy1d0IouevEjP6zD7jJLJDEiQGTBdLuhc8czMDDw6OhpO315SSi8rHMfg0JJGD21VSl+OCgkJgS8vL8NpuXFlJCiZzIAEmQGX5pPpf+SmpiZ4ZGQk/PT0FE43DyrFf1IW/YqPj49r1/Ly8uB03jkrKwuekJAAp4cNOotkMgMSZAZc6l3QCZ/t7W24n58fnB5vs7u7q7V355mcDodD+zk+Ph6+ubkJp5tz6FtZdA+0sxtjJJMZkCAz4HTvgr68mJ2dDacd/ZOTEzh9hcCTjuw1PgvtBdE5ipubG/ja2hrclb1zkskMSJAZcLp3QQcgjY2N8NTUVHhfXx+c7jHzFvz9/eG0DN7f35u6r2QyAxJkBiTIDLg04qOjIQrHqwHeiGQyAxJkBtxy3sVvQzKZAQkyA38B5Ih5DhxG8I4AAAAASUVORK5CYII=\" y=\"-20.261852\"/>\n   </g>\n   <g id=\"matplotlib.axis_9\"/>\n   <g id=\"matplotlib.axis_10\"/>\n   <g id=\"patch_23\">\n    <path d=\"M 435.32439 109.261852 \nL 435.32439 20.798437 \n\" style=\"fill:none;stroke:#000000;stroke-linecap:square;stroke-linejoin:miter;stroke-width:0.8;\"/>\n   </g>\n   <g id=\"patch_24\">\n    <path d=\"M 523.787805 109.261852 \nL 523.787805 20.798437 \n\" style=\"fill:none;stroke:#000000;stroke-linecap:square;stroke-linejoin:miter;stroke-width:0.8;\"/>\n   </g>\n   <g id=\"patch_25\">\n    <path d=\"M 435.32439 109.261852 \nL 523.787805 109.261852 \n\" style=\"fill:none;stroke:#000000;stroke-linecap:square;stroke-linejoin:miter;stroke-width:0.8;\"/>\n   </g>\n   <g id=\"patch_26\">\n    <path d=\"M 435.32439 20.798437 \nL 523.787805 20.798437 \n\" style=\"fill:none;stroke:#000000;stroke-linecap:square;stroke-linejoin:miter;stroke-width:0.8;\"/>\n   </g>\n   <g id=\"text_5\">\n    <!-- The letter \"y\" -->\n    <defs>\n     <path d=\"M 32.171875 -5.078125 \nQ 28.375 -14.84375 24.75 -17.8125 \nQ 21.140625 -20.796875 15.09375 -20.796875 \nL 7.90625 -20.796875 \nL 7.90625 -13.28125 \nL 13.1875 -13.28125 \nQ 16.890625 -13.28125 18.9375 -11.515625 \nQ 21 -9.765625 23.484375 -3.21875 \nL 25.09375 0.875 \nL 2.984375 54.6875 \nL 12.5 54.6875 \nL 29.59375 11.921875 \nL 46.6875 54.6875 \nL 56.203125 54.6875 \nz\n\" id=\"DejaVuSans-121\"/>\n    </defs>\n    <g transform=\"translate(446.00141 14.798437)scale(0.1 -0.1)\">\n     <use xlink:href=\"#DejaVuSans-84\"/>\n     <use x=\"61.083984\" xlink:href=\"#DejaVuSans-104\"/>\n     <use x=\"124.462891\" xlink:href=\"#DejaVuSans-101\"/>\n     <use x=\"185.986328\" xlink:href=\"#DejaVuSans-32\"/>\n     <use x=\"217.773438\" xlink:href=\"#DejaVuSans-108\"/>\n     <use x=\"245.556641\" xlink:href=\"#DejaVuSans-101\"/>\n     <use x=\"307.080078\" xlink:href=\"#DejaVuSans-116\"/>\n     <use x=\"346.289062\" xlink:href=\"#DejaVuSans-116\"/>\n     <use x=\"385.498047\" xlink:href=\"#DejaVuSans-101\"/>\n     <use x=\"447.021484\" xlink:href=\"#DejaVuSans-114\"/>\n     <use x=\"488.134766\" xlink:href=\"#DejaVuSans-32\"/>\n     <use x=\"519.921875\" xlink:href=\"#DejaVuSans-34\"/>\n     <use x=\"565.917969\" xlink:href=\"#DejaVuSans-121\"/>\n     <use x=\"625.097656\" xlink:href=\"#DejaVuSans-34\"/>\n    </g>\n   </g>\n  </g>\n  <g id=\"axes_6\">\n   <g id=\"patch_27\">\n    <path d=\"M 541.480488 109.261852 \nL 629.943902 109.261852 \nL 629.943902 20.798437 \nL 541.480488 20.798437 \nz\n\" style=\"fill:#ffffff;\"/>\n   </g>\n   <g clip-path=\"url(#p0b176cf2be)\">\n    <image height=\"89\" id=\"imagea3b12542cd\" transform=\"scale(1 -1)translate(0 -89)\" width=\"89\" x=\"541.480488\" xlink:href=\"data:image/png;base64,\niVBORw0KGgoAAAANSUhEUgAAAFkAAABZCAYAAABVC4ivAAAABHNCSVQICAgIfAhkiAAABN9JREFUeJztnUso/FEUx4/3I3klESELUR7ZKiywI++NyMbGSkqxIZKFKIkFpYi1xwJ5lEKxQBakFJJHZCHlndd/93XuxD/Gf87M+J/P6jPN3N/8nI7Tvfd37x0XInojxaa42vsG/gc0yAK42/sGXF1dP3TO8/Oz1O3YBM1kATTIAoiUCzc3N+N1dHQ0PCUlBZ6YmAi/ubmBLy4uwnd2doxrPTw8/LP7tBWayQJokAXQIAtgs5rs6+sLz8nJMd5rbGyER0VFwQMDA+FPT0/ws7Mz+MjIiHGt8fFx+O7uLvzx8dGa27YJmskCaJAFcKEfThDFxMTAKysr4UVFRfC4uDijzfX1Nfzq6gr+9vZ+Kx4eHvCwsDC4t7e3ca3b21v4xMQEvLm5GX5wcPDhd0ihmSyABlkAq8pFSEgIvKurC15QUAD39PSEHx8fG+0bGhrgW1tb8JeXF3hAQAA8NzcXXlFRYVwrIiICzkvB6OgonJeO/f19yz/H5mgmC6BBFuDL5cLd/X3cUl1dDW9vb4fzQcPY2Bh8aWnJuNb09DScl4jP4D0KPolERFRTUwMvLi7+sD0vHVVVVcZ7EoMWzWQBNMgCWDV3wUvHyckJvKWlBc4HBvf390b719fXb30fnzPe2Ngw3uPf6efnB8/Ly4PzXk9/f7/Rfm1tDW6r0qGZLIAGWQCrBiNeXl5w/i96eXkJt8ccAZ9HaW1thZeUlMD5FCqRWW66u7vh//IJuWayABpkATTIAvx4PtmRcHFxgScnJ8OHhobgSUlJRpupqSl4bW0tnM9B/xTNZAE0yAL8qnLB4d1M3oUbGBgwPse7ak1NTfCenp4PP2MNmskCaJAFsPv6ZFvBJ3v4ZBUfCRIRRUZGwv39/W1yL5rJAmiQBfhV5YJvh/Dx8YHztXiWJYFPZNlqUkszWQANsgBOXy74k2xeFjIyMuCFhYXwoKAgoz2fo9jc3IR/9xHZ39BMFkCDLIAGWQCnq8mW65P5qiG+sJBvY+Nb3PgCRyKijo4O+Pz8PFxrspOhQRbA6eaT8/PzjdednZ3w2NhYOB+9XVxcwEtLS4326+vrcF1B5MRokAVwinIRGhoKX1lZMd7jvQi+0b2vrw/O10fz0iGFZrIAGmQBHHYwwgcQ6enpcL4Xm4jo8PAQ3tvbC5+cnITb+3gdzWQBNMgCOGy54L2G8vJyON+LTUTU1tYGn52dhdu7RHA0kwXQIAvgUOWC76ricxTZ2dlwviGTiGh1dRVuucvKUdBMFkCDLIAGWQCHqslfITg42HjNu3eDg4Pwo6MjuL27c5rJAmiQBXDY+eTPdpeWlZUZn7u7u4MvLCzAl5eX4XNzc3DLA1UlSolmsgAaZAEctlzwjY/8KfTMzIzxuc+eUPMnz3t7e/Dh4WGjPT/r8/z8HM4feZ2ensItN8B/Bc1kATTIAjhsueDw0mHZu6irq4PHx8fD+Zo5Xkb42Z5EZo+EH8yXlpYG5ydwbW9vf+veiTSTRdAgC+AU5eJv8BPHs7Ky4KmpqXC+44mfrEVEFB4eDufHCfMSU19fD+d7rr9ycCCRZrIIGmQBnL5ccD77HSleBhISEow2mZmZcF5W+Ep7/mMFfDHNl+/r2y2Ub6NBFkCDLMCvqsnWwJchfIYej+MEaJAF+O/LhQSayQJokAX4AxNaeMzHBBtKAAAAAElFTkSuQmCC\" y=\"-20.261852\"/>\n   </g>\n   <g id=\"matplotlib.axis_11\"/>\n   <g id=\"matplotlib.axis_12\"/>\n   <g id=\"patch_28\">\n    <path d=\"M 541.480488 109.261852 \nL 541.480488 20.798437 \n\" style=\"fill:none;stroke:#000000;stroke-linecap:square;stroke-linejoin:miter;stroke-width:0.8;\"/>\n   </g>\n   <g id=\"patch_29\">\n    <path d=\"M 629.943902 109.261852 \nL 629.943902 20.798437 \n\" style=\"fill:none;stroke:#000000;stroke-linecap:square;stroke-linejoin:miter;stroke-width:0.8;\"/>\n   </g>\n   <g id=\"patch_30\">\n    <path d=\"M 541.480488 109.261852 \nL 629.943902 109.261852 \n\" style=\"fill:none;stroke:#000000;stroke-linecap:square;stroke-linejoin:miter;stroke-width:0.8;\"/>\n   </g>\n   <g id=\"patch_31\">\n    <path d=\"M 541.480488 20.798437 \nL 629.943902 20.798437 \n\" style=\"fill:none;stroke:#000000;stroke-linecap:square;stroke-linejoin:miter;stroke-width:0.8;\"/>\n   </g>\n   <g id=\"text_6\">\n    <!-- The letter \"s\" -->\n    <defs>\n     <path d=\"M 44.28125 53.078125 \nL 44.28125 44.578125 \nQ 40.484375 46.53125 36.375 47.5 \nQ 32.28125 48.484375 27.875 48.484375 \nQ 21.1875 48.484375 17.84375 46.4375 \nQ 14.5 44.390625 14.5 40.28125 \nQ 14.5 37.15625 16.890625 35.375 \nQ 19.28125 33.59375 26.515625 31.984375 \nL 29.59375 31.296875 \nQ 39.15625 29.25 43.1875 25.515625 \nQ 47.21875 21.78125 47.21875 15.09375 \nQ 47.21875 7.46875 41.1875 3.015625 \nQ 35.15625 -1.421875 24.609375 -1.421875 \nQ 20.21875 -1.421875 15.453125 -0.5625 \nQ 10.6875 0.296875 5.421875 2 \nL 5.421875 11.28125 \nQ 10.40625 8.6875 15.234375 7.390625 \nQ 20.0625 6.109375 24.8125 6.109375 \nQ 31.15625 6.109375 34.5625 8.28125 \nQ 37.984375 10.453125 37.984375 14.40625 \nQ 37.984375 18.0625 35.515625 20.015625 \nQ 33.0625 21.96875 24.703125 23.78125 \nL 21.578125 24.515625 \nQ 13.234375 26.265625 9.515625 29.90625 \nQ 5.8125 33.546875 5.8125 39.890625 \nQ 5.8125 47.609375 11.28125 51.796875 \nQ 16.75 56 26.8125 56 \nQ 31.78125 56 36.171875 55.265625 \nQ 40.578125 54.546875 44.28125 53.078125 \nz\n\" id=\"DejaVuSans-115\"/>\n    </defs>\n    <g transform=\"translate(552.512195 14.798437)scale(0.1 -0.1)\">\n     <use xlink:href=\"#DejaVuSans-84\"/>\n     <use x=\"61.083984\" xlink:href=\"#DejaVuSans-104\"/>\n     <use x=\"124.462891\" xlink:href=\"#DejaVuSans-101\"/>\n     <use x=\"185.986328\" xlink:href=\"#DejaVuSans-32\"/>\n     <use x=\"217.773438\" xlink:href=\"#DejaVuSans-108\"/>\n     <use x=\"245.556641\" xlink:href=\"#DejaVuSans-101\"/>\n     <use x=\"307.080078\" xlink:href=\"#DejaVuSans-116\"/>\n     <use x=\"346.289062\" xlink:href=\"#DejaVuSans-116\"/>\n     <use x=\"385.498047\" xlink:href=\"#DejaVuSans-101\"/>\n     <use x=\"447.021484\" xlink:href=\"#DejaVuSans-114\"/>\n     <use x=\"488.134766\" xlink:href=\"#DejaVuSans-32\"/>\n     <use x=\"519.921875\" xlink:href=\"#DejaVuSans-34\"/>\n     <use x=\"565.917969\" xlink:href=\"#DejaVuSans-115\"/>\n     <use x=\"618.017578\" xlink:href=\"#DejaVuSans-34\"/>\n    </g>\n   </g>\n  </g>\n  <g id=\"axes_7\">\n   <g id=\"patch_32\">\n    <path d=\"M 647.636585 109.261852 \nL 736.1 109.261852 \nL 736.1 20.798437 \nL 647.636585 20.798437 \nz\n\" style=\"fill:#ffffff;\"/>\n   </g>\n   <g clip-path=\"url(#p47ef1d0333)\">\n    <image height=\"89\" id=\"image14678c6cc6\" transform=\"scale(1 -1)translate(0 -89)\" width=\"89\" x=\"647.636585\" xlink:href=\"data:image/png;base64,\niVBORw0KGgoAAAANSUhEUgAAAFkAAABZCAYAAABVC4ivAAAABHNCSVQICAgIfAhkiAAABLlJREFUeJztnUsodW0Ux5d7ckm5pOQSKfdLJu4xoCRkIpKZiZGUGJEhSUoZKpcMlGtIGRpg6JoZIhMZIZfcvtn/Xc/pHO/7cfba+32t3+jH2ft4Wq2zrL338zzHh4g+SLEUX7sH8BPQIAvgb/cAPOHr6+vW39/fjeNcf3YimskCaJAFcFS5iIqKgg8PD8MLCwvhh4eHxjlzc3PwtbU1+PPzsxVD/BKayQJokAXQIAtge0329/81hNbWVnhzczM8KCgInpqaapxfXl4ODw0NhW9sbMCvr6+9M9gvopksgAZZAB+y+QZRQ0MDfGRkBO7n5wdfXFyEJyUlGeeXlJTAIyMj4WdnZ/Di4mL4zc3N9wb8BTSTBdAgC2BLd8Fv+PCOIjExET42NgYfGBiABwcHG+9VVlYG7+vrg/OyEhERAddy8Y+iQRbA9nKRm5sL5x3F7e0t/PHxEX53d2e818LCAnx9fR0eGxsLv7q6+uaIv4dmsgAaZAFsKRf8kRG/P5ySkgIPCwuDBwQEwF9fXz2+79PTE/z8/Py7w/QamskCaJAFsL1c7OzswGtqauBVVVXwmZkZ+P7+vsWj8z6ayQJokAXQIAtg+/3kmJgY+NDQELytrQ3O27yioiLjfN62ORXNZAE0yALYXi58fHzgBQUF8O3tbfjLyws8OzvbOP/09NTC0XkHzWQBNMgC2D655ePjV7U6OjqCn5ycwLOysuC86yAyOxKndhqayQJokAWwvVxw+Md9c3MTnp6eDq+rqzPO4TePnNppaCYLoEEWwPaLEU/k5OTAp6am4GlpacZx8/Pz8Pb2drguZ/hhaJAF0CAL4NiazJcw8KUNExMTxnF8dhGfjeSkdk4zWQANsgC2lwu++skTfE7y1taW8Rpv9aanp+G9vb1wXf30A9AgCyBSLninQEQUFxcH56ufwsPD3Z5/f3/v8ZjOzk44v8HU0dEBX1pa+p8j9i6ayQJokAUQKRf9/f3Gz93d3fCQkBD429ub2/P5MgfX7XA8vbaysgJvamr67d+wEs1kATTIAlj2+IlfZNTX1xuv8S0TLi4u4HwNNf/oV1RUwDMyMoz34uWCe2lpKZwvwrTjnoZmsgAaZAEsKxeeVjgREWVmZro9jt+X4N0BLwOu5aK6uhre09MDj46OhvMLE9dOh98qtQrNZAE0yAJokAUQueLjj4WIiCYnJ+F8MuHy8jKcP3L67CotMDAQPjs7C29sbIQfHx/DXScsHhwcfDZ0r6CZLIAGWQCRcsGXLBCZj4z4ilR+HC8XfKPTz0pHcnIyfHR0FF5bWwvnV5Wuf8eqvZg1kwXQIAsgMj+ZL1kgMv/b7+7uwvlCSP5xz8vLg/N9lYmIHh4e4JeXl/C9vT04n9Psunrqs63cvYVmsgAaZAFsWc7At7jp6uqC88dSLS0tbn/v2qmsrq66fS0/Px/On2LzboZI5tsdNJMF0CALYPtcOA6f8zY+Pg7nu33Hx8cb5/ASwT/6fD324OAgnHctRGZ3YhWayQJokAVwVLng8C92SUhIgPOug4iosrISzjfc410EXz2lW/v+o2iQBdAgC+DYmvyn8JlKvIVz0vf0aSYLoEEW4K8vF38DmskCaJAF+A9GE2MJJ+0vMwAAAABJRU5ErkJggg==\" y=\"-20.261852\"/>\n   </g>\n   <g id=\"matplotlib.axis_13\"/>\n   <g id=\"matplotlib.axis_14\"/>\n   <g id=\"patch_33\">\n    <path d=\"M 647.636585 109.261852 \nL 647.636585 20.798437 \n\" style=\"fill:none;stroke:#000000;stroke-linecap:square;stroke-linejoin:miter;stroke-width:0.8;\"/>\n   </g>\n   <g id=\"patch_34\">\n    <path d=\"M 736.1 109.261852 \nL 736.1 20.798437 \n\" style=\"fill:none;stroke:#000000;stroke-linecap:square;stroke-linejoin:miter;stroke-width:0.8;\"/>\n   </g>\n   <g id=\"patch_35\">\n    <path d=\"M 647.636585 109.261852 \nL 736.1 109.261852 \n\" style=\"fill:none;stroke:#000000;stroke-linecap:square;stroke-linejoin:miter;stroke-width:0.8;\"/>\n   </g>\n   <g id=\"patch_36\">\n    <path d=\"M 647.636585 20.798437 \nL 736.1 20.798437 \n\" style=\"fill:none;stroke:#000000;stroke-linecap:square;stroke-linejoin:miter;stroke-width:0.8;\"/>\n   </g>\n   <g id=\"text_7\">\n    <!-- The letter \"q\" -->\n    <defs>\n     <path d=\"M 14.796875 27.296875 \nQ 14.796875 17.390625 18.875 11.75 \nQ 22.953125 6.109375 30.078125 6.109375 \nQ 37.203125 6.109375 41.296875 11.75 \nQ 45.40625 17.390625 45.40625 27.296875 \nQ 45.40625 37.203125 41.296875 42.84375 \nQ 37.203125 48.484375 30.078125 48.484375 \nQ 22.953125 48.484375 18.875 42.84375 \nQ 14.796875 37.203125 14.796875 27.296875 \nz\nM 45.40625 8.203125 \nQ 42.578125 3.328125 38.25 0.953125 \nQ 33.9375 -1.421875 27.875 -1.421875 \nQ 17.96875 -1.421875 11.734375 6.484375 \nQ 5.515625 14.40625 5.515625 27.296875 \nQ 5.515625 40.1875 11.734375 48.09375 \nQ 17.96875 56 27.875 56 \nQ 33.9375 56 38.25 53.625 \nQ 42.578125 51.265625 45.40625 46.390625 \nL 45.40625 54.6875 \nL 54.390625 54.6875 \nL 54.390625 -20.796875 \nL 45.40625 -20.796875 \nz\n\" id=\"DejaVuSans-113\"/>\n    </defs>\n    <g transform=\"translate(658.098761 14.798437)scale(0.1 -0.1)\">\n     <use xlink:href=\"#DejaVuSans-84\"/>\n     <use x=\"61.083984\" xlink:href=\"#DejaVuSans-104\"/>\n     <use x=\"124.462891\" xlink:href=\"#DejaVuSans-101\"/>\n     <use x=\"185.986328\" xlink:href=\"#DejaVuSans-32\"/>\n     <use x=\"217.773438\" xlink:href=\"#DejaVuSans-108\"/>\n     <use x=\"245.556641\" xlink:href=\"#DejaVuSans-101\"/>\n     <use x=\"307.080078\" xlink:href=\"#DejaVuSans-116\"/>\n     <use x=\"346.289062\" xlink:href=\"#DejaVuSans-116\"/>\n     <use x=\"385.498047\" xlink:href=\"#DejaVuSans-101\"/>\n     <use x=\"447.021484\" xlink:href=\"#DejaVuSans-114\"/>\n     <use x=\"488.134766\" xlink:href=\"#DejaVuSans-32\"/>\n     <use x=\"519.921875\" xlink:href=\"#DejaVuSans-34\"/>\n     <use x=\"565.917969\" xlink:href=\"#DejaVuSans-113\"/>\n     <use x=\"629.394531\" xlink:href=\"#DejaVuSans-34\"/>\n    </g>\n   </g>\n  </g>\n  <g id=\"axes_8\">\n   <g id=\"patch_37\">\n    <path d=\"M 10.7 224.377146 \nL 99.163415 224.377146 \nL 99.163415 135.913732 \nL 10.7 135.913732 \nz\n\" style=\"fill:#ffffff;\"/>\n   </g>\n   <g clip-path=\"url(#pfbc6f77270)\">\n    <image height=\"89\" id=\"imagec17cc4049a\" transform=\"scale(1 -1)translate(0 -89)\" width=\"89\" x=\"10.7\" xlink:href=\"data:image/png;base64,\niVBORw0KGgoAAAANSUhEUgAAAFkAAABZCAYAAABVC4ivAAAABHNCSVQICAgIfAhkiAAABTZJREFUeJztnUkotX8Ux3+mXlO8ZIjMIQmxEqWUUlZSQkkWVsrCwrSSLN4yFYVsSaIUUhILoVhRpgULQ0JkXhgyvav/9z2/538f6br3mM5n9cn1ezxO5x7nNzyXg1LqRQl2xfGjb+AnIEFmwNmWF3N0dLToRh4fH235Yz89kskMSJAZeHe5cHd3h2dlZcGTk5NNx0xMTMCvrq4s+sXFBfyrlxfJZAYkyAxIkBlwUFbM+H79+gWvq6uDl5SUwENDQ03HHxwcwO/v7+EbGxvwxcVF+MzMjMXvMY7/rEgmMyBBZsCqchEdHQ2nb18XFxf4+fm5RVdKKQ8PD7ibm5vFrzs4OMBfXv7d4p8/f7RrtbW1we/u7uDPz88W/SOQTGZAgszAu2d89G399PQEHxgYgHd3d2tjwsPD4YGBgfCIiAi4t7c3PDs7G15aWqpdy8vLC355eQlfX1+Hr6yswHd3d7XxHKVEMpkBCTIDVpULumBDJwOurq7wh4cH+P7+vjZ+c3MTTtedaenx9PSE0+6koaFBu1ZxcTGclivK4eEhvKamRnttdnYWbq/SIZnMgASZAavKxdHREXx0dBSen58Pz83Nhc/NzWnjx8bG4GZv8d+/f1u8lpGpqSn49PQ0PCkpCZ6ZmQmPi4vTxhvvzR5IJjMgQWbAqrULSlRUFHxoaAiekpIC39vb08bQbSrj5OA//Pz84C0tLXDjZISuVwwODsJra2vhdCvL2EHIZOSbIEFmQILMwLtrMt2KKioqgjc1NcH9/f21MY2NjXBab29ubv7dGJn90XaMbksppc8yt7e3Ld7L0tISnK5NcyGZzIAEmYF3lwtKQEAAvKurC56Xl6d9H23p6uvr4cPDw3C68ES3qIy71XQNmo6h7Vx1dTX89PT09V/CDkgmMyBBZsCm55PPzs7g/f39cOPhQzpLrKqqgq+trcFXV1fhdG3a+HanW1m000lLS4P7+vqajudAMpkBCTIDNu0utAuTyQQtD0opNTk5Cadvd7q229nZCadrxrGxsdq1ent74YmJifDb21s47WDoYRguJJMZkCAzYNPugkLXCOiaglL6jjPtLlJTU+F0kkE7FbrdpZRSy8vL8Pj4eDjtNNLT0+Ht7e3aeLPtL1simcyABJkBCTIDdmvhXoPWS7pFX1lZCc/JyYHTc8v0OIJS+myOOm0hj4+P4bQ+K/X/vxf2QDKZAQkyAx9SLrQbIG9ruk1Fy0VFRQWctmlK6Y9Q0Gs5OTnBaTtpPHDY0dEBt9eTr5LJDEiQGfjwcvEWnJ3/TUxDQkJMX4uMjIT39PRY/Dpds1ZKf8CTrmHbEslkBiTIDNhtgciW0L/6ZgcUldKffqJr08HBwfCYmBhtDN1J39ragtODjO9FMpkBCTIDX6K7eCtm5+f6+vrgdItKKX09uqCgAG7LNQ3JZAYkyAx8ie7irdA1Ctop0N1uY7kICwuDZ2RkwM0+XcYaJJMZkCAzIEFm4Fu1cGbQE0wLCwvaa/RM9cnJCby8vBw+MjLyrp8vmcyABJmBb9XCmUEfn5ifn9deowtEdLeb7mrTU0vWPD0lmcyABJmBH9FdUIyfndHa2gqnXcjOzg6clg7agbwVyWQGJMgM/LhyQR+8VEqpwsJCeHNzM9zHxwdO15npR/u89bMyJJMZkCAz8CMmIxT6VJRSSo2Pj8ODgoLgZWVl8ISEBIvfL+XiEyFBZuDHdRevYfaPaa6vr+F07UPKxSdCgsyABJkBqckmmP0/QWs+EVEymQEJMgNSLhiQTGZAgszAX6uoro02tKhnAAAAAElFTkSuQmCC\" y=\"-135.377146\"/>\n   </g>\n   <g id=\"matplotlib.axis_15\"/>\n   <g id=\"matplotlib.axis_16\"/>\n   <g id=\"patch_38\">\n    <path d=\"M 10.7 224.377146 \nL 10.7 135.913732 \n\" style=\"fill:none;stroke:#000000;stroke-linecap:square;stroke-linejoin:miter;stroke-width:0.8;\"/>\n   </g>\n   <g id=\"patch_39\">\n    <path d=\"M 99.163415 224.377146 \nL 99.163415 135.913732 \n\" style=\"fill:none;stroke:#000000;stroke-linecap:square;stroke-linejoin:miter;stroke-width:0.8;\"/>\n   </g>\n   <g id=\"patch_40\">\n    <path d=\"M 10.7 224.377146 \nL 99.163415 224.377146 \n\" style=\"fill:none;stroke:#000000;stroke-linecap:square;stroke-linejoin:miter;stroke-width:0.8;\"/>\n   </g>\n   <g id=\"patch_41\">\n    <path d=\"M 10.7 135.913732 \nL 99.163415 135.913732 \n\" style=\"fill:none;stroke:#000000;stroke-linecap:square;stroke-linejoin:miter;stroke-width:0.8;\"/>\n   </g>\n   <g id=\"text_8\">\n    <!-- The letter \"d\" -->\n    <defs>\n     <path d=\"M 45.40625 46.390625 \nL 45.40625 75.984375 \nL 54.390625 75.984375 \nL 54.390625 0 \nL 45.40625 0 \nL 45.40625 8.203125 \nQ 42.578125 3.328125 38.25 0.953125 \nQ 33.9375 -1.421875 27.875 -1.421875 \nQ 17.96875 -1.421875 11.734375 6.484375 \nQ 5.515625 14.40625 5.515625 27.296875 \nQ 5.515625 40.1875 11.734375 48.09375 \nQ 17.96875 56 27.875 56 \nQ 33.9375 56 38.25 53.625 \nQ 42.578125 51.265625 45.40625 46.390625 \nz\nM 14.796875 27.296875 \nQ 14.796875 17.390625 18.875 11.75 \nQ 22.953125 6.109375 30.078125 6.109375 \nQ 37.203125 6.109375 41.296875 11.75 \nQ 45.40625 17.390625 45.40625 27.296875 \nQ 45.40625 37.203125 41.296875 42.84375 \nQ 37.203125 48.484375 30.078125 48.484375 \nQ 22.953125 48.484375 18.875 42.84375 \nQ 14.796875 37.203125 14.796875 27.296875 \nz\n\" id=\"DejaVuSans-100\"/>\n    </defs>\n    <g transform=\"translate(21.162176 129.913732)scale(0.1 -0.1)\">\n     <use xlink:href=\"#DejaVuSans-84\"/>\n     <use x=\"61.083984\" xlink:href=\"#DejaVuSans-104\"/>\n     <use x=\"124.462891\" xlink:href=\"#DejaVuSans-101\"/>\n     <use x=\"185.986328\" xlink:href=\"#DejaVuSans-32\"/>\n     <use x=\"217.773438\" xlink:href=\"#DejaVuSans-108\"/>\n     <use x=\"245.556641\" xlink:href=\"#DejaVuSans-101\"/>\n     <use x=\"307.080078\" xlink:href=\"#DejaVuSans-116\"/>\n     <use x=\"346.289062\" xlink:href=\"#DejaVuSans-116\"/>\n     <use x=\"385.498047\" xlink:href=\"#DejaVuSans-101\"/>\n     <use x=\"447.021484\" xlink:href=\"#DejaVuSans-114\"/>\n     <use x=\"488.134766\" xlink:href=\"#DejaVuSans-32\"/>\n     <use x=\"519.921875\" xlink:href=\"#DejaVuSans-34\"/>\n     <use x=\"565.917969\" xlink:href=\"#DejaVuSans-100\"/>\n     <use x=\"629.394531\" xlink:href=\"#DejaVuSans-34\"/>\n    </g>\n   </g>\n  </g>\n  <g id=\"axes_9\">\n   <g id=\"patch_42\">\n    <path d=\"M 116.856098 224.377146 \nL 205.319512 224.377146 \nL 205.319512 135.913732 \nL 116.856098 135.913732 \nz\n\" style=\"fill:#ffffff;\"/>\n   </g>\n   <g clip-path=\"url(#pf50f1b1ffc)\">\n    <image height=\"89\" id=\"image12675447a7\" transform=\"scale(1 -1)translate(0 -89)\" width=\"89\" x=\"116.856098\" xlink:href=\"data:image/png;base64,\niVBORw0KGgoAAAANSUhEUgAAAFkAAABZCAYAAABVC4ivAAAABHNCSVQICAgIfAhkiAAABOlJREFUeJztnMkrtW8Yx+9jSMr8D6AMGRdsWBgWMmQuNmInKwtliFhgRVGUFVkQhQVlQbKQcY2QMkdktpB5eHff97qf3keHc851/Ppdn9Vnce7z3n3f+7k893QsSqlPJTgUF2d34P+AhMyAhMyAhMyAhMyAhMyAhMyAhMyAhMyAhMyAhMyAhMyAm7M7YIarqys8ICDA9HM3Nzfw9/d3h/bpp8hIZkBCZuBXlQsPDw94RkYGvLS01LTN8PAwfHZ2Fv7w8GDn3v0cGckMSMgMWJTJ9pPxL7q3tzf89PQU/vr6arfOhIWFwScnJ+GhoaHwz0+9u/Tf397ehnd0dMAnJibgzigjMpIZkJAZ0N4u6ASgpKRE+2BeXh68ubkZvrKyYlMHXFz+/j9HRUXB/f394dfX1/Dl5WWtfWJiIjwmJgbe2toKDwoKgre1tWntOSYwMpIZkJAZ0MqFxWKBu7u7ax+Mj4+Ht7e3w7OysuD39/ff7gAtF9HR0XAfHx/41NQUvLKyUmufnp4Ob2pqggcHB/+zzejoqNZ+b28PbnxzsRcykhmQkBmQkBnQavLb2xuczpKUUiouLg6em5sLr66uhg8MDMCPjo7g1tY6Wp8/Pj7gGxsb8LOzM63N2NgY/OXlBV5XVwcPDw+HNzY2au3r6+vh5+fnVvXzu8hIZkBCZsB0PZk+7krpCy50ZlZTUwMPCQmB01nh/v6+9l3ffVWipcPI4+MjfHx8HL61tfXPPtJXTqWUOjk5gff398MPDw+/1cevkJHMgITMgGm5MD7S6+vr8MzMTHhnZye8oKAATmdvxlmarYtKZjw/P8PX1tbgFRUV8N7eXq1NVVUVnPa5trYWvru7a1O/ZCQzICEzYPVuNS0fFxcX8JaWFriXlxc8LS0N3tPTo31XUVER/Pj42Nou/Bj6BkLfkpTSSwTtM520lJeXw3+y/iwjmQEJmQGbD7ccHBzAaVmgpSMlJUVrQ9d9qdO1C0dBd7SVUqqrqwtutk4eGBgIN06srEFGMgMSMgMSMgM212T6SjM/Pw+nNZnWNKX0ere5uQmna9aOqs90VqiUUtPT0/CcnBx4fn4+vLCwEN7d3Q2n6+9fISOZAQmZAbueT6aPz8zMDJyWDqWU6uvrg9OZlaenJ5zjdU4p/XTSyMgIPCkpCU5PKQ0ODsIvLy+t+jdkJDMgITPgsOsMT09PcOPON90Oio2NhdMSYc9zz19B344WFxfhS0tLcLqIRA9CSrn4RUjIDLDcfjJeISguLobT7avs7GyO7phydXUFp7eqhoaG4A0NDXC6RWVsT5GRzICEzIBTLkvSgyMLCwtwuv1Dz0fTm1eOhB6ioWsqbm5/Y0pISID7+flp7aVcOBEJmQGnlAu6xkHvQ5eVlcHpTabU1FQ4fXSN32VPbm9v4Xd3d3B6/9vX19eq75KRzICEzICEzIDTf+9iZ2cHTutzZGQknOsVjkJrMj3lRK9GJCcna23oIUf6t0JGMgMSMgNOLxd095jO/uiFefrockEf97m5OXhERASc3pr9ChnJDEjIDJj+PI4zoBfozX5wj+4uc0F/L4MeelldXdU+R7ev6GKTjGQGJGQGflW5+C9Af0LIeEPM7FKnjGQGJGQGpFwwICOZAQmZAQmZAQmZAQmZAQmZAQmZAQmZAQmZAQmZAQmZAQmZgT8LD4ORcRctqwAAAABJRU5ErkJggg==\" y=\"-135.377146\"/>\n   </g>\n   <g id=\"matplotlib.axis_17\"/>\n   <g id=\"matplotlib.axis_18\"/>\n   <g id=\"patch_43\">\n    <path d=\"M 116.856098 224.377146 \nL 116.856098 135.913732 \n\" style=\"fill:none;stroke:#000000;stroke-linecap:square;stroke-linejoin:miter;stroke-width:0.8;\"/>\n   </g>\n   <g id=\"patch_44\">\n    <path d=\"M 205.319512 224.377146 \nL 205.319512 135.913732 \n\" style=\"fill:none;stroke:#000000;stroke-linecap:square;stroke-linejoin:miter;stroke-width:0.8;\"/>\n   </g>\n   <g id=\"patch_45\">\n    <path d=\"M 116.856098 224.377146 \nL 205.319512 224.377146 \n\" style=\"fill:none;stroke:#000000;stroke-linecap:square;stroke-linejoin:miter;stroke-width:0.8;\"/>\n   </g>\n   <g id=\"patch_46\">\n    <path d=\"M 116.856098 135.913732 \nL 205.319512 135.913732 \n\" style=\"fill:none;stroke:#000000;stroke-linecap:square;stroke-linejoin:miter;stroke-width:0.8;\"/>\n   </g>\n   <g id=\"text_9\">\n    <!-- The letter \"n\" -->\n    <g transform=\"translate(127.323742 129.913732)scale(0.1 -0.1)\">\n     <use xlink:href=\"#DejaVuSans-84\"/>\n     <use x=\"61.083984\" xlink:href=\"#DejaVuSans-104\"/>\n     <use x=\"124.462891\" xlink:href=\"#DejaVuSans-101\"/>\n     <use x=\"185.986328\" xlink:href=\"#DejaVuSans-32\"/>\n     <use x=\"217.773438\" xlink:href=\"#DejaVuSans-108\"/>\n     <use x=\"245.556641\" xlink:href=\"#DejaVuSans-101\"/>\n     <use x=\"307.080078\" xlink:href=\"#DejaVuSans-116\"/>\n     <use x=\"346.289062\" xlink:href=\"#DejaVuSans-116\"/>\n     <use x=\"385.498047\" xlink:href=\"#DejaVuSans-101\"/>\n     <use x=\"447.021484\" xlink:href=\"#DejaVuSans-114\"/>\n     <use x=\"488.134766\" xlink:href=\"#DejaVuSans-32\"/>\n     <use x=\"519.921875\" xlink:href=\"#DejaVuSans-34\"/>\n     <use x=\"565.917969\" xlink:href=\"#DejaVuSans-110\"/>\n     <use x=\"629.296875\" xlink:href=\"#DejaVuSans-34\"/>\n    </g>\n   </g>\n  </g>\n  <g id=\"axes_10\">\n   <g id=\"patch_47\">\n    <path d=\"M 223.012195 224.377146 \nL 311.47561 224.377146 \nL 311.47561 135.913732 \nL 223.012195 135.913732 \nz\n\" style=\"fill:#ffffff;\"/>\n   </g>\n   <g clip-path=\"url(#pd18651d2f5)\">\n    <image height=\"89\" id=\"imageb1a6edfa64\" transform=\"scale(1 -1)translate(0 -89)\" width=\"89\" x=\"223.012195\" xlink:href=\"data:image/png;base64,\niVBORw0KGgoAAAANSUhEUgAAAFkAAABZCAYAAABVC4ivAAAABHNCSVQICAgIfAhkiAAAA89JREFUeJztncsrdW0Yxu/tfBYiMZCBAREZOoxMFBIT/4CZ8icxMnXIhEwQhuSQiRIpQs4KObzf7Opeu/31vl/fXtdaq/f6jX4re+0el3vfrf08z1pSZvbLRKjkRD2AvwGFTEAhE1DIBBQygbyoB1BUVJTRX15e4N/f39QxZRtVMgGFTEAhE6D05Jyc4N+yuroaPjk5CW9paYEvLS3BV1dX4R8fH2EMMVRUyQQUMgFKu6ipqQkc9/X1waenp+G1tbXwjo4O+NHREfz09DSMIYaKKpmAQiZAaRelpaWB46amJnh5eTk8Nzc342u6u7vh5+fngfdKwrdBVTIBhUyA0i6ur68Dx5ubm/Db21u4byv+imRiYiLjuWZmNzc3WRtnWKiSCShkApR28fn5GTi+v7+Hn52dwRsbG+H5+fnw/v7+jG5mtri4CI/rlYYqmYBCJpCyCDa3+FbQ09MDn5mZgTc3N8N/fn7g8/PzgfeampqC+yuVOKFKJqCQCShkApFsCfCXdMfHx/C9vT24nyDyy1d+ntnMrLKyEq6e/BejkAlEvoPo8fERfnh4CB8ZGYH7dlFQUBA4v6ysLMTRZQdVMgGFTCDyduEndQ4ODuAPDw/wuro6eHp78N8M/fn+W2LUqJIJKGQCkbcL/7He3t7O6KOjo3C/um1m1tXVBV9ZWYG/vb1ldZz/B1UyAYVMIPJ24fHLUjs7O/DBwUF4cXFx4JyhoSH47Ows3C9rRY0qmYBCJqCQCcSqJ/vLOb8P+fX1FZ7ek/2uo7y8WP06QJVMQCETiNXny7eL/f19+MXFBdzf8mBmVlhYCPdLUXFClUxAIROIVbvwXF1dwdfX1+GdnZ2B19XX18OHh4fhfhU86skiVTIBhUwgtu3Cb4B5fn6Gpy8r+WdkjI2NwRcWFuB+WSoKVMkEFDKB2LYL3xb8phe/GcYsuJLtH+UwMDAA91caX19fWR3nn6BKJqCQCSSiXfzbPIZZcC7D3yZRUVER4uj+G6pkAgqZgEImENue7Lm8vIQvLy8HftbW1gb3y09+T3MqlQpxdL9HlUxAIRNIRLt4f3+H+4kfM7Px8XG4bx3t7e3wqqoq+N3dXeB8xk3vqmQCCplAItqF5+TkJHC8trYGb21thff29mb0ra2twPmMGyxVyQQUMoHEtYv0R+08PT3B/Vyxv2poaGiAl5SUhDi6zKiSCShkAolrF+mr1bu7u/C5uTm4vxNqY2MD7tsLC1UyAYVMIJKnaWUT/2gGf+UQp38Go0omoJAJKGQCie/JSUCVTEAhE1DIBBQyAYVM4B8LDwjeBM3vjgAAAABJRU5ErkJggg==\" y=\"-135.377146\"/>\n   </g>\n   <g id=\"matplotlib.axis_19\"/>\n   <g id=\"matplotlib.axis_20\"/>\n   <g id=\"patch_48\">\n    <path d=\"M 223.012195 224.377146 \nL 223.012195 135.913732 \n\" style=\"fill:none;stroke:#000000;stroke-linecap:square;stroke-linejoin:miter;stroke-width:0.8;\"/>\n   </g>\n   <g id=\"patch_49\">\n    <path d=\"M 311.47561 224.377146 \nL 311.47561 135.913732 \n\" style=\"fill:none;stroke:#000000;stroke-linecap:square;stroke-linejoin:miter;stroke-width:0.8;\"/>\n   </g>\n   <g id=\"patch_50\">\n    <path d=\"M 223.012195 224.377146 \nL 311.47561 224.377146 \n\" style=\"fill:none;stroke:#000000;stroke-linecap:square;stroke-linejoin:miter;stroke-width:0.8;\"/>\n   </g>\n   <g id=\"patch_51\">\n    <path d=\"M 223.012195 135.913732 \nL 311.47561 135.913732 \n\" style=\"fill:none;stroke:#000000;stroke-linecap:square;stroke-linejoin:miter;stroke-width:0.8;\"/>\n   </g>\n   <g id=\"text_10\">\n    <!-- The letter \"i\" -->\n    <g transform=\"translate(235.259527 129.913732)scale(0.1 -0.1)\">\n     <use xlink:href=\"#DejaVuSans-84\"/>\n     <use x=\"61.083984\" xlink:href=\"#DejaVuSans-104\"/>\n     <use x=\"124.462891\" xlink:href=\"#DejaVuSans-101\"/>\n     <use x=\"185.986328\" xlink:href=\"#DejaVuSans-32\"/>\n     <use x=\"217.773438\" xlink:href=\"#DejaVuSans-108\"/>\n     <use x=\"245.556641\" xlink:href=\"#DejaVuSans-101\"/>\n     <use x=\"307.080078\" xlink:href=\"#DejaVuSans-116\"/>\n     <use x=\"346.289062\" xlink:href=\"#DejaVuSans-116\"/>\n     <use x=\"385.498047\" xlink:href=\"#DejaVuSans-101\"/>\n     <use x=\"447.021484\" xlink:href=\"#DejaVuSans-114\"/>\n     <use x=\"488.134766\" xlink:href=\"#DejaVuSans-32\"/>\n     <use x=\"519.921875\" xlink:href=\"#DejaVuSans-34\"/>\n     <use x=\"565.917969\" xlink:href=\"#DejaVuSans-105\"/>\n     <use x=\"593.701172\" xlink:href=\"#DejaVuSans-34\"/>\n    </g>\n   </g>\n  </g>\n  <g id=\"axes_11\">\n   <g id=\"patch_52\">\n    <path d=\"M 329.168293 224.377146 \nL 417.631707 224.377146 \nL 417.631707 135.913732 \nL 329.168293 135.913732 \nz\n\" style=\"fill:#ffffff;\"/>\n   </g>\n   <g clip-path=\"url(#pd4ba0c76be)\">\n    <image height=\"89\" id=\"image8590e3502a\" transform=\"scale(1 -1)translate(0 -89)\" width=\"89\" x=\"329.168293\" xlink:href=\"data:image/png;base64,\niVBORw0KGgoAAAANSUhEUgAAAFkAAABZCAYAAABVC4ivAAAABHNCSVQICAgIfAhkiAAABS5JREFUeJztnUkvNUEUhs81C4JYiDEWJARhIcHCTsJCCH/CH+In+AHERlgYIjEszCyMEWKMeR6/lePt+rruV7rvd0icZ/W693Z33ZOqt+ucqr4iRPROyn8l7rsb8BvQIAugQRZAgyyABlkADbIAGmQBNMgCaJAF0CALoEEWQIMsQELYE8TFxflq5P393fr329tb2Cb8eLQnC6BBFiCQXZSUlLCurq5mXVpayjo9PZ31+fm55/ilpSXWExMTrF2sIxKJeP7OycnxvWZCwudXu7y8ZH19fe05/unp6UvXD4L2ZAE0yAI42wXOHNAi2traWNfW1rLGobu3t2c91+TkJGvbcI2Pj2ednJzsea+xsZE12lVaWhrrlZUV1uvr657jDw8PWZ+envpePyzakwXQIAsQyC5wWKJFlJeXs05MTPTVRESFhYW+772+vrLGhCU7O5t1QUGB51xdXV2sKysrWdvsYm5uznP8zMwM69HRUd+2hEV7sgAaZAGc7QKTgKysLF+dmpr6eWJIBtAeiIhaWlpYDwwMsN7c3GT98PDAuru7m3Vra6vnXHV1dayTkpJ821tWVsa6qanJc/zU1BTr7e1t1vv7+6wfHx8pDNqTBdAgC6BBFsDZk9FjcXpkTs/8QK8kIsrLy2ON/oyFo5OTE9bouzh9dL0+th3vIUTe7BWngFdXV6yfn59ZBykiaU8WQIMsgNUuzKUkLPhgPRmtw7b8ZL6emZnJur29nTUOVyzW1NTU+B5L9Hd9+AOcTqJdmdaVm5vLGq0Irevi4oK12sUPRYMsgLNd4DDFYY13a5tdmOCMwHZ3xwIRLhFhJkZE1NPT43uN+vp61p2dnazNejT+jd8FXzeXvL6K9mQBNMgChN7cYiPaEDM3u3xgsxtcIsKCDhHR8PCw7zUxmWhubmYdLXnBmZJt5RsTE1e0JwugQRbA2S5eXl5Y39zc+L7uUkcg8g5rm3Xg8s/i4iLrkZERz+d2dnZYo91gMoLtNWsXeAwmWcXFxax3d3dZ39/f+7Y3GtqTBdAgC6BBFsDqyei1RERHR0esx8bGWOOGP9tSvytYfDk7O2Pd19fHenx83HPM3d0da5xqYVEn2rQLPRkzzqqqKta2Orcr2pMF0CALEGgKd3t7y9o2FG1Ts2igXWCdeGtry/f1WOPyaEag88bsTIoVDbIAznbh8sQSfgYzNrNYhEMRj8GdOji7cJ0pxBJsI+6PDnSusI1R/o0GWYDQ9WS0BRziQ0NDrDFhISKqqKhgjYWc6elp1v39/axxyclMkmIJFo8wMcElso2NDdaue5i1JwugQRYgpnaBDyUODg6yNjek4MaVoqIi1rOzs6zn5+dZ42p1EHA2FC1JysjIYI0bXdDe8HupXfwgNMgCBLILHCaYQOAK8draGmszgTg+PmaNyzyrq6uscUYRpA6CsxCsd5jWg+VRLM/ijAiXpVJSUlibjzlYV+Ed26yEQIMsgAZZAGdPxmkQLgHhcjkuzWBmZPogvmfbHhBkHzD68MHBAeve3l7WHR0dnmMaGhpY4w4ivG/gtgN89M31XqE9WQANsgCB7GJ5eZm17SlStIhov6b1v8DrY/aYn5/v+RwWhdAuFhYWfLVuOPyhaJAFCJTx4XIQFoXQBiQsIRp4fcwezf3NuBkRsz+cAeHmliC/g6E9WQANsgAR+mX/zMXctILJEGqcTYX9UT7tyQJokAX4dXbxHWhPFkCDLIAGWQANsgAaZAE0yAJokAXQIAugQRZAgyyABlkADbIAfwCqe/PDXAcAQwAAAABJRU5ErkJggg==\" y=\"-135.377146\"/>\n   </g>\n   <g id=\"matplotlib.axis_21\"/>\n   <g id=\"matplotlib.axis_22\"/>\n   <g id=\"patch_53\">\n    <path d=\"M 329.168293 224.377146 \nL 329.168293 135.913732 \n\" style=\"fill:none;stroke:#000000;stroke-linecap:square;stroke-linejoin:miter;stroke-width:0.8;\"/>\n   </g>\n   <g id=\"patch_54\">\n    <path d=\"M 417.631707 224.377146 \nL 417.631707 135.913732 \n\" style=\"fill:none;stroke:#000000;stroke-linecap:square;stroke-linejoin:miter;stroke-width:0.8;\"/>\n   </g>\n   <g id=\"patch_55\">\n    <path d=\"M 329.168293 224.377146 \nL 417.631707 224.377146 \n\" style=\"fill:none;stroke:#000000;stroke-linecap:square;stroke-linejoin:miter;stroke-width:0.8;\"/>\n   </g>\n   <g id=\"patch_56\">\n    <path d=\"M 329.168293 135.913732 \nL 417.631707 135.913732 \n\" style=\"fill:none;stroke:#000000;stroke-linecap:square;stroke-linejoin:miter;stroke-width:0.8;\"/>\n   </g>\n   <g id=\"text_11\">\n    <!-- The letter \"w\" -->\n    <defs>\n     <path d=\"M 4.203125 54.6875 \nL 13.1875 54.6875 \nL 24.421875 12.015625 \nL 35.59375 54.6875 \nL 46.1875 54.6875 \nL 57.421875 12.015625 \nL 68.609375 54.6875 \nL 77.59375 54.6875 \nL 63.28125 0 \nL 52.6875 0 \nL 40.921875 44.828125 \nL 29.109375 0 \nL 18.5 0 \nz\n\" id=\"DejaVuSans-119\"/>\n    </defs>\n    <g transform=\"translate(338.715625 129.913732)scale(0.1 -0.1)\">\n     <use xlink:href=\"#DejaVuSans-84\"/>\n     <use x=\"61.083984\" xlink:href=\"#DejaVuSans-104\"/>\n     <use x=\"124.462891\" xlink:href=\"#DejaVuSans-101\"/>\n     <use x=\"185.986328\" xlink:href=\"#DejaVuSans-32\"/>\n     <use x=\"217.773438\" xlink:href=\"#DejaVuSans-108\"/>\n     <use x=\"245.556641\" xlink:href=\"#DejaVuSans-101\"/>\n     <use x=\"307.080078\" xlink:href=\"#DejaVuSans-116\"/>\n     <use x=\"346.289062\" xlink:href=\"#DejaVuSans-116\"/>\n     <use x=\"385.498047\" xlink:href=\"#DejaVuSans-101\"/>\n     <use x=\"447.021484\" xlink:href=\"#DejaVuSans-114\"/>\n     <use x=\"488.134766\" xlink:href=\"#DejaVuSans-32\"/>\n     <use x=\"519.921875\" xlink:href=\"#DejaVuSans-34\"/>\n     <use x=\"565.917969\" xlink:href=\"#DejaVuSans-119\"/>\n     <use x=\"647.705078\" xlink:href=\"#DejaVuSans-34\"/>\n    </g>\n   </g>\n  </g>\n  <g id=\"axes_12\">\n   <g id=\"patch_57\">\n    <path d=\"M 435.32439 224.377146 \nL 523.787805 224.377146 \nL 523.787805 135.913732 \nL 435.32439 135.913732 \nz\n\" style=\"fill:#ffffff;\"/>\n   </g>\n   <g clip-path=\"url(#pddc7afd032)\">\n    <image height=\"89\" id=\"image0cad82f997\" transform=\"scale(1 -1)translate(0 -89)\" width=\"89\" x=\"435.32439\" xlink:href=\"data:image/png;base64,\niVBORw0KGgoAAAANSUhEUgAAAFkAAABZCAYAAABVC4ivAAAABHNCSVQICAgIfAhkiAAABE9JREFUeJztnMkubFEUhlchmkQXJPoQvcQAE00MTJBoEkZmXsIL8AYGHoJEIhITYwMmokskDDQRTQjRRd/c2W/tc5Wb3KrzVx3WN/quOlXnZFl32c3aFRKRDzF8JSHWD/AbsCATsCATsCATsCATSGLcJBQKhX3t4+PnD24skwlYkAlYkAn4VpOTk5PhaWlpYa+7ubmB/9T6bJlMwIJMIKrlIiHh83fW1dUF7+zsdG+a9HnbyclJ+PHxMfzx8REe9DJimUzAgkzAt3JRU1MDb21tda7Lzs6Gr6yswJeWluC6dDw8PETzMelYJhOwIBPwbTKSlZUFz8/Pd14rLy+Hj42NwRcXF+Gzs7Pw+fl5+Pv7exSfkoNlMgELMgHfyoX+b+2dTOj15cLCQnhDQwN8Y2MDrkctVi6ML7EgE/CtXNze3sL1cqaIyPPzM1wviWZmZsL16OS77asgYJlMwIJMwIJMIKo1+fX1FT43Nwe/vLx0rhsaGoL39fXBc3Jy4M3NzfCysjL40dGR81lBWDyyTCZgQSbg2xDu9PQUvr6+7rxWUVEB7+npgWdkZMD17K+lpQWu15xFRHZ3dyN/WJ+xTCZgQSYQEsJxBm9zS319PXxmZgZeWloK1zvaeotqamrK+ayJiQm4Ht3EE5bJBCzIBCj9yS8vL86/r66u4HqiorepEhMT4XqSUlBQ4HxWSkoK/O3tDR5PDTGWyQQsyAQo5cK7ZaTXlzc3N+G66aW4uBiuJym6aUbE3b7S6xrx1EtnmUzAgkzAgkyAMuP766Zqz66yshLe0dEBHxwchPf398O9w8Hp6Wm47jrSC0lnZ2cRPnFkWCYTsCAToAzhvOghle5DXltbg+umxO7ubrie4YmINDY2wvf39+EHBwfw8/PzL+/NwjKZgAWZQEzKhebp6QmuS8fq6uqXP9czQRGRoqIieLjSsb29DdczQRFO+bBMJmBBJhCTyUg49CQlNTUVPjw8DNeTFBGR3t5euF5P1otFo6OjcO9u98XFxZfvjyaWyQQsyARiPrrQ6L/0ehSgRxolJSXOe9rb2+G6p1mvMzc1NcH1JEVE5O7uDn5/f/8/j/1PLJMJWJAJxFW50OjSsbW1BT85OXGu040zAwMD8OrqavjIyAhcr4mIhD+UGc2RhmUyAQsyAQsygbityRq95eQ9GqGHd7W1tXDdjaS7jvQikojI3t4efGFhAW41OWBYkAkEolxovD3IOzs7cN2NVFVVBc/NzYXrmaCIe2xCdyrpU7ORHpq3TCZgQSYQV+vJ/4PevdZbU21tbfDx8XF4Xl6e8/7Dw0O4PsSpt68iPSZhmUzAgkwgcKMLL3oUoBePlpeX4fpbuurq6pz3X19fw/06PWWZTMCCTCDwo4tw6J1vPRlJT093rgvXl+dt0Y0Ey2QCFmQCP7ZcaPSX9333zVzW3BJgLMgELMgEfkVNjjWWyQQsyAQsyAQsyAQsyAT+AK17UIfD1db5AAAAAElFTkSuQmCC\" y=\"-135.377146\"/>\n   </g>\n   <g id=\"matplotlib.axis_23\"/>\n   <g id=\"matplotlib.axis_24\"/>\n   <g id=\"patch_58\">\n    <path d=\"M 435.32439 224.377146 \nL 435.32439 135.913732 \n\" style=\"fill:none;stroke:#000000;stroke-linecap:square;stroke-linejoin:miter;stroke-width:0.8;\"/>\n   </g>\n   <g id=\"patch_59\">\n    <path d=\"M 523.787805 224.377146 \nL 523.787805 135.913732 \n\" style=\"fill:none;stroke:#000000;stroke-linecap:square;stroke-linejoin:miter;stroke-width:0.8;\"/>\n   </g>\n   <g id=\"patch_60\">\n    <path d=\"M 435.32439 224.377146 \nL 523.787805 224.377146 \n\" style=\"fill:none;stroke:#000000;stroke-linecap:square;stroke-linejoin:miter;stroke-width:0.8;\"/>\n   </g>\n   <g id=\"patch_61\">\n    <path d=\"M 435.32439 135.913732 \nL 523.787805 135.913732 \n\" style=\"fill:none;stroke:#000000;stroke-linecap:square;stroke-linejoin:miter;stroke-width:0.8;\"/>\n   </g>\n   <g id=\"text_12\">\n    <!-- The letter \"i\" -->\n    <g transform=\"translate(447.571723 129.913732)scale(0.1 -0.1)\">\n     <use xlink:href=\"#DejaVuSans-84\"/>\n     <use x=\"61.083984\" xlink:href=\"#DejaVuSans-104\"/>\n     <use x=\"124.462891\" xlink:href=\"#DejaVuSans-101\"/>\n     <use x=\"185.986328\" xlink:href=\"#DejaVuSans-32\"/>\n     <use x=\"217.773438\" xlink:href=\"#DejaVuSans-108\"/>\n     <use x=\"245.556641\" xlink:href=\"#DejaVuSans-101\"/>\n     <use x=\"307.080078\" xlink:href=\"#DejaVuSans-116\"/>\n     <use x=\"346.289062\" xlink:href=\"#DejaVuSans-116\"/>\n     <use x=\"385.498047\" xlink:href=\"#DejaVuSans-101\"/>\n     <use x=\"447.021484\" xlink:href=\"#DejaVuSans-114\"/>\n     <use x=\"488.134766\" xlink:href=\"#DejaVuSans-32\"/>\n     <use x=\"519.921875\" xlink:href=\"#DejaVuSans-34\"/>\n     <use x=\"565.917969\" xlink:href=\"#DejaVuSans-105\"/>\n     <use x=\"593.701172\" xlink:href=\"#DejaVuSans-34\"/>\n    </g>\n   </g>\n  </g>\n  <g id=\"axes_13\">\n   <g id=\"patch_62\">\n    <path d=\"M 541.480488 224.377146 \nL 629.943902 224.377146 \nL 629.943902 135.913732 \nL 541.480488 135.913732 \nz\n\" style=\"fill:#ffffff;\"/>\n   </g>\n   <g clip-path=\"url(#p3bb9344cba)\">\n    <image height=\"89\" id=\"image074f42a44d\" transform=\"scale(1 -1)translate(0 -89)\" width=\"89\" x=\"541.480488\" xlink:href=\"data:image/png;base64,\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\" y=\"-135.377146\"/>\n   </g>\n   <g id=\"matplotlib.axis_25\"/>\n   <g id=\"matplotlib.axis_26\"/>\n   <g id=\"patch_63\">\n    <path d=\"M 541.480488 224.377146 \nL 541.480488 135.913732 \n\" style=\"fill:none;stroke:#000000;stroke-linecap:square;stroke-linejoin:miter;stroke-width:0.8;\"/>\n   </g>\n   <g id=\"patch_64\">\n    <path d=\"M 629.943902 224.377146 \nL 629.943902 135.913732 \n\" style=\"fill:none;stroke:#000000;stroke-linecap:square;stroke-linejoin:miter;stroke-width:0.8;\"/>\n   </g>\n   <g id=\"patch_65\">\n    <path d=\"M 541.480488 224.377146 \nL 629.943902 224.377146 \n\" style=\"fill:none;stroke:#000000;stroke-linecap:square;stroke-linejoin:miter;stroke-width:0.8;\"/>\n   </g>\n   <g id=\"patch_66\">\n    <path d=\"M 541.480488 135.913732 \nL 629.943902 135.913732 \n\" style=\"fill:none;stroke:#000000;stroke-linecap:square;stroke-linejoin:miter;stroke-width:0.8;\"/>\n   </g>\n   <g id=\"text_13\">\n    <!-- The letter \"o\" -->\n    <defs>\n     <path d=\"M 30.609375 48.390625 \nQ 23.390625 48.390625 19.1875 42.75 \nQ 14.984375 37.109375 14.984375 27.296875 \nQ 14.984375 17.484375 19.15625 11.84375 \nQ 23.34375 6.203125 30.609375 6.203125 \nQ 37.796875 6.203125 41.984375 11.859375 \nQ 46.1875 17.53125 46.1875 27.296875 \nQ 46.1875 37.015625 41.984375 42.703125 \nQ 37.796875 48.390625 30.609375 48.390625 \nz\nM 30.609375 56 \nQ 42.328125 56 49.015625 48.375 \nQ 55.71875 40.765625 55.71875 27.296875 \nQ 55.71875 13.875 49.015625 6.21875 \nQ 42.328125 -1.421875 30.609375 -1.421875 \nQ 18.84375 -1.421875 12.171875 6.21875 \nQ 5.515625 13.875 5.515625 27.296875 \nQ 5.515625 40.765625 12.171875 48.375 \nQ 18.84375 56 30.609375 56 \nz\n\" id=\"DejaVuSans-111\"/>\n    </defs>\n    <g transform=\"translate(552.057508 129.913732)scale(0.1 -0.1)\">\n     <use xlink:href=\"#DejaVuSans-84\"/>\n     <use x=\"61.083984\" xlink:href=\"#DejaVuSans-104\"/>\n     <use x=\"124.462891\" xlink:href=\"#DejaVuSans-101\"/>\n     <use x=\"185.986328\" xlink:href=\"#DejaVuSans-32\"/>\n     <use x=\"217.773438\" xlink:href=\"#DejaVuSans-108\"/>\n     <use x=\"245.556641\" xlink:href=\"#DejaVuSans-101\"/>\n     <use x=\"307.080078\" xlink:href=\"#DejaVuSans-116\"/>\n     <use x=\"346.289062\" xlink:href=\"#DejaVuSans-116\"/>\n     <use x=\"385.498047\" xlink:href=\"#DejaVuSans-101\"/>\n     <use x=\"447.021484\" xlink:href=\"#DejaVuSans-114\"/>\n     <use x=\"488.134766\" xlink:href=\"#DejaVuSans-32\"/>\n     <use x=\"519.921875\" xlink:href=\"#DejaVuSans-34\"/>\n     <use x=\"565.917969\" xlink:href=\"#DejaVuSans-111\"/>\n     <use x=\"627.099609\" xlink:href=\"#DejaVuSans-34\"/>\n    </g>\n   </g>\n  </g>\n  <g id=\"axes_14\">\n   <g id=\"patch_67\">\n    <path d=\"M 647.636585 224.377146 \nL 736.1 224.377146 \nL 736.1 135.913732 \nL 647.636585 135.913732 \nz\n\" style=\"fill:#ffffff;\"/>\n   </g>\n   <g clip-path=\"url(#p5d67f303cd)\">\n    <image height=\"89\" id=\"image38bed7503f\" transform=\"scale(1 -1)translate(0 -89)\" width=\"89\" x=\"647.636585\" xlink:href=\"data:image/png;base64,\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\" y=\"-135.377146\"/>\n   </g>\n   <g id=\"matplotlib.axis_27\"/>\n   <g id=\"matplotlib.axis_28\"/>\n   <g id=\"patch_68\">\n    <path d=\"M 647.636585 224.377146 \nL 647.636585 135.913732 \n\" style=\"fill:none;stroke:#000000;stroke-linecap:square;stroke-linejoin:miter;stroke-width:0.8;\"/>\n   </g>\n   <g id=\"patch_69\">\n    <path d=\"M 736.1 224.377146 \nL 736.1 135.913732 \n\" style=\"fill:none;stroke:#000000;stroke-linecap:square;stroke-linejoin:miter;stroke-width:0.8;\"/>\n   </g>\n   <g id=\"patch_70\">\n    <path d=\"M 647.636585 224.377146 \nL 736.1 224.377146 \n\" style=\"fill:none;stroke:#000000;stroke-linecap:square;stroke-linejoin:miter;stroke-width:0.8;\"/>\n   </g>\n   <g id=\"patch_71\">\n    <path d=\"M 647.636585 135.913732 \nL 736.1 135.913732 \n\" style=\"fill:none;stroke:#000000;stroke-linecap:square;stroke-linejoin:miter;stroke-width:0.8;\"/>\n   </g>\n   <g id=\"text_14\">\n    <!-- The letter \"n\" -->\n    <g transform=\"translate(658.10423 129.913732)scale(0.1 -0.1)\">\n     <use xlink:href=\"#DejaVuSans-84\"/>\n     <use x=\"61.083984\" xlink:href=\"#DejaVuSans-104\"/>\n     <use x=\"124.462891\" xlink:href=\"#DejaVuSans-101\"/>\n     <use x=\"185.986328\" xlink:href=\"#DejaVuSans-32\"/>\n     <use x=\"217.773438\" xlink:href=\"#DejaVuSans-108\"/>\n     <use x=\"245.556641\" xlink:href=\"#DejaVuSans-101\"/>\n     <use x=\"307.080078\" xlink:href=\"#DejaVuSans-116\"/>\n     <use x=\"346.289062\" xlink:href=\"#DejaVuSans-116\"/>\n     <use x=\"385.498047\" xlink:href=\"#DejaVuSans-101\"/>\n     <use x=\"447.021484\" xlink:href=\"#DejaVuSans-114\"/>\n     <use x=\"488.134766\" xlink:href=\"#DejaVuSans-32\"/>\n     <use x=\"519.921875\" xlink:href=\"#DejaVuSans-34\"/>\n     <use x=\"565.917969\" xlink:href=\"#DejaVuSans-110\"/>\n     <use x=\"629.296875\" xlink:href=\"#DejaVuSans-34\"/>\n    </g>\n   </g>\n  </g>\n  <g id=\"axes_15\">\n   <g id=\"patch_72\">\n    <path d=\"M 10.7 339.49244 \nL 99.163415 339.49244 \nL 99.163415 251.029026 \nL 10.7 251.029026 \nz\n\" style=\"fill:#ffffff;\"/>\n   </g>\n   <g clip-path=\"url(#p81bdcdb59a)\">\n    <image height=\"89\" id=\"image4c1916490e\" transform=\"scale(1 -1)translate(0 -89)\" width=\"89\" x=\"10.7\" xlink:href=\"data:image/png;base64,\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\" y=\"-250.49244\"/>\n   </g>\n   <g id=\"matplotlib.axis_29\"/>\n   <g id=\"matplotlib.axis_30\"/>\n   <g id=\"patch_73\">\n    <path d=\"M 10.7 339.49244 \nL 10.7 251.029026 \n\" style=\"fill:none;stroke:#000000;stroke-linecap:square;stroke-linejoin:miter;stroke-width:0.8;\"/>\n   </g>\n   <g id=\"patch_74\">\n    <path d=\"M 99.163415 339.49244 \nL 99.163415 251.029026 \n\" style=\"fill:none;stroke:#000000;stroke-linecap:square;stroke-linejoin:miter;stroke-width:0.8;\"/>\n   </g>\n   <g id=\"patch_75\">\n    <path d=\"M 10.7 339.49244 \nL 99.163415 339.49244 \n\" style=\"fill:none;stroke:#000000;stroke-linecap:square;stroke-linejoin:miter;stroke-width:0.8;\"/>\n   </g>\n   <g id=\"patch_76\">\n    <path d=\"M 10.7 251.029026 \nL 99.163415 251.029026 \n\" style=\"fill:none;stroke:#000000;stroke-linecap:square;stroke-linejoin:miter;stroke-width:0.8;\"/>\n   </g>\n   <g id=\"text_15\">\n    <!-- The letter \"w\" -->\n    <g transform=\"translate(20.247332 245.029026)scale(0.1 -0.1)\">\n     <use xlink:href=\"#DejaVuSans-84\"/>\n     <use x=\"61.083984\" xlink:href=\"#DejaVuSans-104\"/>\n     <use x=\"124.462891\" xlink:href=\"#DejaVuSans-101\"/>\n     <use x=\"185.986328\" xlink:href=\"#DejaVuSans-32\"/>\n     <use x=\"217.773438\" xlink:href=\"#DejaVuSans-108\"/>\n     <use x=\"245.556641\" xlink:href=\"#DejaVuSans-101\"/>\n     <use x=\"307.080078\" xlink:href=\"#DejaVuSans-116\"/>\n     <use x=\"346.289062\" xlink:href=\"#DejaVuSans-116\"/>\n     <use x=\"385.498047\" xlink:href=\"#DejaVuSans-101\"/>\n     <use x=\"447.021484\" xlink:href=\"#DejaVuSans-114\"/>\n     <use x=\"488.134766\" xlink:href=\"#DejaVuSans-32\"/>\n     <use x=\"519.921875\" xlink:href=\"#DejaVuSans-34\"/>\n     <use x=\"565.917969\" xlink:href=\"#DejaVuSans-119\"/>\n     <use x=\"647.705078\" xlink:href=\"#DejaVuSans-34\"/>\n    </g>\n   </g>\n  </g>\n  <g id=\"axes_16\">\n   <g id=\"patch_77\">\n    <path d=\"M 116.856098 339.49244 \nL 205.319512 339.49244 \nL 205.319512 251.029026 \nL 116.856098 251.029026 \nz\n\" style=\"fill:#ffffff;\"/>\n   </g>\n   <g clip-path=\"url(#pcb650927b7)\">\n    <image height=\"89\" id=\"imaged66d677dff\" transform=\"scale(1 -1)translate(0 -89)\" width=\"89\" x=\"116.856098\" xlink:href=\"data:image/png;base64,\niVBORw0KGgoAAAANSUhEUgAAAFkAAABZCAYAAABVC4ivAAAABHNCSVQICAgIfAhkiAAABUhJREFUeJztnEkvZV0UhrdS+rZKH6IZaJLCRE/KQKiRJsEP4Af4B2ZGBhIGElMmJgYVEoZioI8uEpSmClH6IJpQKL7Z6z0n98r58K1b+Wo9oyfce9x6a59l77X34WWMeTTKf8o7T3+AvwENWQANWQANWQANWQANWQANWQANWQANWQANWQANWQANWQANWQANWQANWYD3r73Au3dP/09+fn7w4OBg+IcPH/71dW9vb+EHBwfwu7s7y+t+//7t8v2Pj39Om1xHsgAasgAvKhdcFkJDQ+GJiYnwlJQUeGZmpuX9XGKYh4cH+OXlJXx4eBh+dnZmec/R0RHc29sbfnNzA//165fLnyGFjmQBNGQBvIzD3eqAgAB4fX09vKKiAl5aWgrn2YX9FuVSYJ8tuOLk5AR+fHxs+d6PHz/gISEhLl83OTkJX1tbs7x/ZWUFzjOat5yd6EgWQEMWwG25sM8Aqqqq4O3t7fCYmBj45uYm/Nu3b/De3l7Ltb5//w4/Pz93+TMDAwPh0dHR8Ovra8u1cnNz4bGxsfAvX77AP378CLeXm46ODvj8/Dx8eXkZ/toyoiNZAA1ZAA1ZALcrPntNTk1NhXPt49VUf38/fHZ2Fj4yMmK5FtdhnsJ5eXk9fbD3Tx+Np2n2htDOzg48PDwczrW7srISzlNR+/d4lcqfcW9vz+V1naIjWQANWQDHDSJuBPGtvL+/D+/p6YFvbGzAuaQ4hcvIc7co39bM0tISvLu7G27vbTc3N8MbGhrgXB6HhobgfX19jj4XoyNZAA1ZgFdvP/EKiBtBnujbMnwrb21twQ8PDy2vm5mZgfPKMicnx+V1R0dH4bxyfQ4dyQJoyAK8qFzwQoV/W2dnZ8NPT0/hvNvsCe7v7+EXFxeW73V1dcEHBgbgLS0t8M+fP8Nra2vh3Ciz/xxGR7IAGrIAjssFzxa4x8DbTLwrzf1kT5eL5+CtLd7h5sXUp0+f4PzvdYqOZAE0ZAE0ZAHc1mT7im1ubg6+vb0Nj4+Ph/NRAR8fH7i9JvP07iXNo7eE+9O8SnTX83Z3+uk5dCQLoCEL4LhcLC4uwsfHx+ElJSXwuLg4eFFREXxqaspyrYWFBThvLXniTDFPR/nAIn+d/SXoSBZAQxbA8YqPb+vW1lZ4dXU1vKmpCV5cXAxPSkqyXGtiYsLltXiVyKd2eAZgv3UjIiLgfG6a+8bcuPH19bW8PyMjA56eng7nMsg73O62u55DR7IAGrIAjssF/+b/+fMnfGxsDJ6Xlwfn3jIfhjHGOvOoq6uD804wHyjhQ4K8yDHGmMLCQnhUVBR8cHAQzueh7Z+F+8NZWVnwhIQEOD8ysbq6Cne6xaYjWQANWQDHjzO4gyfwycnJcO4tl5eXW97DpaSgoADOjxrwWeHOzk64vZ/b1tYGj4yMhH/9+hXOvQc+tGKMMWVlZXC+/fncMpee6elpuNO+i45kATRkAV59uIUXCnyMlSft9gk8/7bPz8+Hp6WlwfnsHT8gyeXJGOsDmvz0Ey+SuAzwYxLGGHN1dQXnGQ2XhfX1dfhLWrM6kgXQkAXQkAV49RTOCdy4Mcbad25sbITX1NTAeaoWFhbm8uvGGOPv7w/nRtDu7i6ct87shwR5xcpTyLd8UlVHsgAasgAi5eI5uFfLT7dyieHGDa8qjbGWD3d/I4N31/k1xsj8LQwdyQJoyAJ4vFww/FQVbzPxQ5BBQUFu38OzCz5Qo38e5y9AQxbgjyoX/1d0JAugIQugIQugIQugIQugIQugIQugIQugIQugIQugIQugIQugIQugIQugIQvwD0Cj8NoJJQKIAAAAAElFTkSuQmCC\" y=\"-250.49244\"/>\n   </g>\n   <g id=\"matplotlib.axis_31\"/>\n   <g id=\"matplotlib.axis_32\"/>\n   <g id=\"patch_78\">\n    <path d=\"M 116.856098 339.49244 \nL 116.856098 251.029026 \n\" style=\"fill:none;stroke:#000000;stroke-linecap:square;stroke-linejoin:miter;stroke-width:0.8;\"/>\n   </g>\n   <g id=\"patch_79\">\n    <path d=\"M 205.319512 339.49244 \nL 205.319512 251.029026 \n\" style=\"fill:none;stroke:#000000;stroke-linecap:square;stroke-linejoin:miter;stroke-width:0.8;\"/>\n   </g>\n   <g id=\"patch_80\">\n    <path d=\"M 116.856098 339.49244 \nL 205.319512 339.49244 \n\" style=\"fill:none;stroke:#000000;stroke-linecap:square;stroke-linejoin:miter;stroke-width:0.8;\"/>\n   </g>\n   <g id=\"patch_81\">\n    <path d=\"M 116.856098 251.029026 \nL 205.319512 251.029026 \n\" style=\"fill:none;stroke:#000000;stroke-linecap:square;stroke-linejoin:miter;stroke-width:0.8;\"/>\n   </g>\n   <g id=\"text_16\">\n    <!-- The letter \"o\" -->\n    <g transform=\"translate(127.433117 245.029026)scale(0.1 -0.1)\">\n     <use xlink:href=\"#DejaVuSans-84\"/>\n     <use x=\"61.083984\" xlink:href=\"#DejaVuSans-104\"/>\n     <use x=\"124.462891\" xlink:href=\"#DejaVuSans-101\"/>\n     <use x=\"185.986328\" xlink:href=\"#DejaVuSans-32\"/>\n     <use x=\"217.773438\" xlink:href=\"#DejaVuSans-108\"/>\n     <use x=\"245.556641\" xlink:href=\"#DejaVuSans-101\"/>\n     <use x=\"307.080078\" xlink:href=\"#DejaVuSans-116\"/>\n     <use x=\"346.289062\" xlink:href=\"#DejaVuSans-116\"/>\n     <use x=\"385.498047\" xlink:href=\"#DejaVuSans-101\"/>\n     <use x=\"447.021484\" xlink:href=\"#DejaVuSans-114\"/>\n     <use x=\"488.134766\" xlink:href=\"#DejaVuSans-32\"/>\n     <use x=\"519.921875\" xlink:href=\"#DejaVuSans-34\"/>\n     <use x=\"565.917969\" xlink:href=\"#DejaVuSans-111\"/>\n     <use x=\"627.099609\" xlink:href=\"#DejaVuSans-34\"/>\n    </g>\n   </g>\n  </g>\n  <g id=\"axes_17\">\n   <g id=\"patch_82\">\n    <path d=\"M 223.012195 339.49244 \nL 311.47561 339.49244 \nL 311.47561 251.029026 \nL 223.012195 251.029026 \nz\n\" style=\"fill:#ffffff;\"/>\n   </g>\n   <g clip-path=\"url(#p0ef0eac422)\">\n    <image height=\"89\" id=\"image0ba0017518\" transform=\"scale(1 -1)translate(0 -89)\" width=\"89\" x=\"223.012195\" xlink:href=\"data:image/png;base64,\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\" y=\"-250.49244\"/>\n   </g>\n   <g id=\"matplotlib.axis_33\"/>\n   <g id=\"matplotlib.axis_34\"/>\n   <g id=\"patch_83\">\n    <path d=\"M 223.012195 339.49244 \nL 223.012195 251.029026 \n\" style=\"fill:none;stroke:#000000;stroke-linecap:square;stroke-linejoin:miter;stroke-width:0.8;\"/>\n   </g>\n   <g id=\"patch_84\">\n    <path d=\"M 311.47561 339.49244 \nL 311.47561 251.029026 \n\" style=\"fill:none;stroke:#000000;stroke-linecap:square;stroke-linejoin:miter;stroke-width:0.8;\"/>\n   </g>\n   <g id=\"patch_85\">\n    <path d=\"M 223.012195 339.49244 \nL 311.47561 339.49244 \n\" style=\"fill:none;stroke:#000000;stroke-linecap:square;stroke-linejoin:miter;stroke-width:0.8;\"/>\n   </g>\n   <g id=\"patch_86\">\n    <path d=\"M 223.012195 251.029026 \nL 311.47561 251.029026 \n\" style=\"fill:none;stroke:#000000;stroke-linecap:square;stroke-linejoin:miter;stroke-width:0.8;\"/>\n   </g>\n   <g id=\"text_17\">\n    <!-- The letter \"q\" -->\n    <g transform=\"translate(233.474371 245.029026)scale(0.1 -0.1)\">\n     <use xlink:href=\"#DejaVuSans-84\"/>\n     <use x=\"61.083984\" xlink:href=\"#DejaVuSans-104\"/>\n     <use x=\"124.462891\" xlink:href=\"#DejaVuSans-101\"/>\n     <use x=\"185.986328\" xlink:href=\"#DejaVuSans-32\"/>\n     <use x=\"217.773438\" xlink:href=\"#DejaVuSans-108\"/>\n     <use x=\"245.556641\" xlink:href=\"#DejaVuSans-101\"/>\n     <use x=\"307.080078\" xlink:href=\"#DejaVuSans-116\"/>\n     <use x=\"346.289062\" xlink:href=\"#DejaVuSans-116\"/>\n     <use x=\"385.498047\" xlink:href=\"#DejaVuSans-101\"/>\n     <use x=\"447.021484\" xlink:href=\"#DejaVuSans-114\"/>\n     <use x=\"488.134766\" xlink:href=\"#DejaVuSans-32\"/>\n     <use x=\"519.921875\" xlink:href=\"#DejaVuSans-34\"/>\n     <use x=\"565.917969\" xlink:href=\"#DejaVuSans-113\"/>\n     <use x=\"629.394531\" xlink:href=\"#DejaVuSans-34\"/>\n    </g>\n   </g>\n  </g>\n  <g id=\"axes_18\">\n   <g id=\"patch_87\">\n    <path d=\"M 329.168293 339.49244 \nL 417.631707 339.49244 \nL 417.631707 251.029026 \nL 329.168293 251.029026 \nz\n\" style=\"fill:#ffffff;\"/>\n   </g>\n   <g clip-path=\"url(#p1cca36329a)\">\n    <image height=\"89\" id=\"imagec519cf0d4f\" transform=\"scale(1 -1)translate(0 -89)\" width=\"89\" x=\"329.168293\" xlink:href=\"data:image/png;base64,\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\" y=\"-250.49244\"/>\n   </g>\n   <g id=\"matplotlib.axis_35\"/>\n   <g id=\"matplotlib.axis_36\"/>\n   <g id=\"patch_88\">\n    <path d=\"M 329.168293 339.49244 \nL 329.168293 251.029026 \n\" style=\"fill:none;stroke:#000000;stroke-linecap:square;stroke-linejoin:miter;stroke-width:0.8;\"/>\n   </g>\n   <g id=\"patch_89\">\n    <path d=\"M 417.631707 339.49244 \nL 417.631707 251.029026 \n\" style=\"fill:none;stroke:#000000;stroke-linecap:square;stroke-linejoin:miter;stroke-width:0.8;\"/>\n   </g>\n   <g id=\"patch_90\">\n    <path d=\"M 329.168293 339.49244 \nL 417.631707 339.49244 \n\" style=\"fill:none;stroke:#000000;stroke-linecap:square;stroke-linejoin:miter;stroke-width:0.8;\"/>\n   </g>\n   <g id=\"patch_91\">\n    <path d=\"M 329.168293 251.029026 \nL 417.631707 251.029026 \n\" style=\"fill:none;stroke:#000000;stroke-linecap:square;stroke-linejoin:miter;stroke-width:0.8;\"/>\n   </g>\n   <g id=\"text_18\">\n    <!-- The letter \"n\" -->\n    <g transform=\"translate(339.635938 245.029026)scale(0.1 -0.1)\">\n     <use xlink:href=\"#DejaVuSans-84\"/>\n     <use x=\"61.083984\" xlink:href=\"#DejaVuSans-104\"/>\n     <use x=\"124.462891\" xlink:href=\"#DejaVuSans-101\"/>\n     <use x=\"185.986328\" xlink:href=\"#DejaVuSans-32\"/>\n     <use x=\"217.773438\" xlink:href=\"#DejaVuSans-108\"/>\n     <use x=\"245.556641\" xlink:href=\"#DejaVuSans-101\"/>\n     <use x=\"307.080078\" xlink:href=\"#DejaVuSans-116\"/>\n     <use x=\"346.289062\" xlink:href=\"#DejaVuSans-116\"/>\n     <use x=\"385.498047\" xlink:href=\"#DejaVuSans-101\"/>\n     <use x=\"447.021484\" xlink:href=\"#DejaVuSans-114\"/>\n     <use x=\"488.134766\" xlink:href=\"#DejaVuSans-32\"/>\n     <use x=\"519.921875\" xlink:href=\"#DejaVuSans-34\"/>\n     <use x=\"565.917969\" xlink:href=\"#DejaVuSans-110\"/>\n     <use x=\"629.296875\" xlink:href=\"#DejaVuSans-34\"/>\n    </g>\n   </g>\n  </g>\n  <g id=\"axes_19\">\n   <g id=\"patch_92\">\n    <path d=\"M 435.32439 339.49244 \nL 523.787805 339.49244 \nL 523.787805 251.029026 \nL 435.32439 251.029026 \nz\n\" style=\"fill:#ffffff;\"/>\n   </g>\n   <g clip-path=\"url(#p6c79c805b2)\">\n    <image height=\"89\" id=\"image7ad425c2a9\" transform=\"scale(1 -1)translate(0 -89)\" width=\"89\" x=\"435.32439\" xlink:href=\"data:image/png;base64,\niVBORw0KGgoAAAANSUhEUgAAAFkAAABZCAYAAABVC4ivAAAABHNCSVQICAgIfAhkiAAABIZJREFUeJztnMsrfV0Yx9dxySVyS6LciqFLhnIrEmWCMvEHGEj+AFIkmUopU8rILbkMKdeBTISBEQYuISbul3fw1vf9rvM6v/f3ctZzbL/nM/po77PP8vR4rP2stbfPGPNuFKeEhXoAfwIaZAEiQj0ACSIiAv+aLy8vzr9fM1kADbIAP7Zc5OTkwBsbG+HPz8/WeRMTE/Dr62snY9FMFkCDLIAGWYAfVZN5qtbc3Azv6emBHxwcWJ+Zn5+Ha032MBpkAX5UuUhOToaXlpbCY2Nj4UtLS9Znzs7OnI9LM1kADbIAni8XUVFR8Pr6enhZWRmc7/JmZmaszz88PDgc3d9oJgugQRbA8+UiPT0d3t7eDk9JSYHv7e3BDw8PZQZGaCYLoEEWwHPlIiYmxvq5qqoKzj3ky8tLeF9fH/z+/t7Z2AKhmSyABlkAT5SLsLB/cqGmpsY61tXVBU9KSoLPzc3BV1dXHY7uv9FMFkCDLIAGWQBP1GRuAlVUVFjHsrOz4dzs2djYgLtaVvpdNJMF0CAL4IlykZ+fD6+trbWOvb6+wmdnZ+FTU1NwiU2Fv0IzWQANsgDftlzwRpXq6mp4Xl6edd7p6Sl8aGgIfnR05HB0/w/NZAE0yAKEpFxwwyc8PByemJgIT0hIgKempsIjIyOta/FK9M3NDfz9/fs81KWZLIAGWQCRcuH/J97Q0AAvLCyEFxQUwHkpieFS4xW8N2IPokEWQIMsgLOazEv3LS0t1rHR0VE4N3jOz8/hXHszMjLgPOUzxpi3t7evD9YxmskCaJAFCGq54GWipqYmeHd3t3Xe5uYmfGFhAb6ysgIvLi6G8w4gfmTBGGN2d3fht7e3nxi1ezSTBdAgCxDUcsF7hTs7O+G5ubnWeTy7GB4ehj89PcEvLi7g8fHx8Li4OOtaa2tr8Kurq88M2zmayQJokAUIarngJSPuB/v3dnkW8fj4+OG1jo+P4VxS/OGbke96Y6KZLIAGWQBnvQv+0/X5fNaxzMxM+M7OzoefYUK9OeWraCYLoEEWIKjlgleLt7a24P5LSUVFRXDuXfDNiCv8W6XcanWFZrIAGmQBNMgC+EwQ35/MUzVe6h8bG7PO46dFBwYG4HwnGMxayT3o1tZW6xj/T+BNisH8fs1kATTIAgS1XDDcLOLesjHGDA4Owk9OTuD8CMLi4iJ8fX0d/plpXnR0NHxkZMQ6xg/A8zLX+Pg4/KulQzNZAA2yAM4aRNzU4TJgjDF1dXVwfvixo6MDXlJSAucX5i0vL1vXCrRCzXd2vJGxsrLSOo/vUre3t+E6u/AYGmQBnM0ufgU/zdTW1gbnEsEr3wzvlzPm369P/wh+TMK/vPT29sInJyfhgZbFPoNmsgAaZAFCUi54Wyy/JI9fq8Av0isvL4enpaVZ17q7u4PzTIHhZa3+/n7r2PT0NNzVm7Y0kwXQIAsQknIRCG6VchnJysqC+7+5hduT+/v78EA3E9wrMSa4s4hAaCYLoEEWQIMswLeqyb+D/5I+b2bUDYd/MBpkATxXLryIZrIAGmQB/gLrC0XAlqzHewAAAABJRU5ErkJggg==\" y=\"-250.49244\"/>\n   </g>\n   <g id=\"matplotlib.axis_37\"/>\n   <g id=\"matplotlib.axis_38\"/>\n   <g id=\"patch_93\">\n    <path d=\"M 435.32439 339.49244 \nL 435.32439 251.029026 \n\" style=\"fill:none;stroke:#000000;stroke-linecap:square;stroke-linejoin:miter;stroke-width:0.8;\"/>\n   </g>\n   <g id=\"patch_94\">\n    <path d=\"M 523.787805 339.49244 \nL 523.787805 251.029026 \n\" style=\"fill:none;stroke:#000000;stroke-linecap:square;stroke-linejoin:miter;stroke-width:0.8;\"/>\n   </g>\n   <g id=\"patch_95\">\n    <path d=\"M 435.32439 339.49244 \nL 523.787805 339.49244 \n\" style=\"fill:none;stroke:#000000;stroke-linecap:square;stroke-linejoin:miter;stroke-width:0.8;\"/>\n   </g>\n   <g id=\"patch_96\">\n    <path d=\"M 435.32439 251.029026 \nL 523.787805 251.029026 \n\" style=\"fill:none;stroke:#000000;stroke-linecap:square;stroke-linejoin:miter;stroke-width:0.8;\"/>\n   </g>\n   <g id=\"text_19\">\n    <!-- The letter \"q\" -->\n    <g transform=\"translate(445.786566 245.029026)scale(0.1 -0.1)\">\n     <use xlink:href=\"#DejaVuSans-84\"/>\n     <use x=\"61.083984\" xlink:href=\"#DejaVuSans-104\"/>\n     <use x=\"124.462891\" xlink:href=\"#DejaVuSans-101\"/>\n     <use x=\"185.986328\" xlink:href=\"#DejaVuSans-32\"/>\n     <use x=\"217.773438\" xlink:href=\"#DejaVuSans-108\"/>\n     <use x=\"245.556641\" xlink:href=\"#DejaVuSans-101\"/>\n     <use x=\"307.080078\" xlink:href=\"#DejaVuSans-116\"/>\n     <use x=\"346.289062\" xlink:href=\"#DejaVuSans-116\"/>\n     <use x=\"385.498047\" xlink:href=\"#DejaVuSans-101\"/>\n     <use x=\"447.021484\" xlink:href=\"#DejaVuSans-114\"/>\n     <use x=\"488.134766\" xlink:href=\"#DejaVuSans-32\"/>\n     <use x=\"519.921875\" xlink:href=\"#DejaVuSans-34\"/>\n     <use x=\"565.917969\" xlink:href=\"#DejaVuSans-113\"/>\n     <use x=\"629.394531\" xlink:href=\"#DejaVuSans-34\"/>\n    </g>\n   </g>\n  </g>\n  <g id=\"axes_20\">\n   <g id=\"patch_97\">\n    <path d=\"M 541.480488 339.49244 \nL 629.943902 339.49244 \nL 629.943902 251.029026 \nL 541.480488 251.029026 \nz\n\" style=\"fill:#ffffff;\"/>\n   </g>\n   <g clip-path=\"url(#p3ee4137fc9)\">\n    <image height=\"89\" id=\"imagec53f0c58cc\" transform=\"scale(1 -1)translate(0 -89)\" width=\"89\" x=\"541.480488\" xlink:href=\"data:image/png;base64,\niVBORw0KGgoAAAANSUhEUgAAAFkAAABZCAYAAABVC4ivAAAABHNCSVQICAgIfAhkiAAABPJJREFUeJztnDlLLEEUhctdccc9EBSXQHEDI8ENTARRNDEzFRF/gIqhf0D/gYmZCoKYKS5oJCgugeKCgQruC+76onfe6ab70c48b8/D+0VnmKma5sztO7equirMGPNplG8l3O8L+AmoyQKoyQKoyQKoyQJEBtIoPPzPb5OWlgadnJwMfXNzA319fW1p//npXNB8fHw46v8djWQB1GQB1GQBPOdkzsP19fXQPT090KWlpdA7OzvQW1tblr7ccu/m5ib09vY29Pv7u6dr5P+Bq6sr6Le3N0/tvwuNZAHUZAHCjMcJosjIP5mlv78femBgADomJgbaaznG5RyXevayzw3um9PSysoK9NzcHPT9/b2l/eXlpeN7XJqen59DPz8/e7ouRiNZADVZgIBGfAzfrm7/4lyZOL3+TUZGhqP2SlFREXRzczP02dkZ9MvLi6XN6uoq9NraGnRLSwv0yMgI9MzMDLTXUalGsgBqsgCe0wXfGgsLC46f4TTAurKy0vK5srIy6Ly8POiwsDBorjru7u6guYIxxpjo6GjH74yLi3P8Djv8Xltbm2NfBQUFjtfoFY1kAdRkATwPRhi3tGDpmG6riooKy3udnZ3QfX190Hzr83zF+Pi4Y7/GGFNdXe3YPiEhAToxMRGaB1XGGBMREQH99PQEPTExAT00NAR9eHhovopGsgBqsgABDUa+ukx0cHBgec0FfVVVFXRDQwM0p4X4+HjowcFBS188AOIUkZ+fD11YWAidmZlpac/TtjzVOjw8DH10dGSCQSNZADVZADVZgKAniLxwcXFheb28vAy9tLQEXVtbCx0VFQVdUlICbZ+E2tvbc/zOjY0NaC4zuV9jjMnKyoLm+WS+ZrdHGLyikSyAmiyASLqww7f8+vo6NC858Xwy3+48QvsbbmWmPd0EMoL7KhrJAqjJAviSLtxWmPmBFE4XKSkp0FxpGGPM7u6uY7+hhEayAGqyAL6kC4ZTBE/Q8KROamoqdE1NjaX97Ows9OPj43dcYtBoJAugJgvge7rgAQhXGq2trdC8ZNTY2Ghpn5OTA72/v/8dlxg0GskCqMkCqMkC+J6Tea6WJ2/c5nB59Of0OhTRSBZATRbA93ThtvvJbW6ZSzZjrEv6vOTk944nRiNZADVZgJBKF7wUdXx8DM3pwr7anJSU9I1X92/QSBZATRbA93TBnJycQM/Pz0OXl5e7tuFnjzmVaHXxw1CTBQipdPH6+grNO54Y+3aEpqYm6LGxMWgemPiNRrIAarIAIZUuAqG4uBi6o6MDmpeieFeTV/5ldaKRLICaLICaLEBI5eTY2FhorxM/3KarqwuaR4K3t7ee+uLPTU5OQgf7DLNGsgBqsgC+p4v09HTo7u5u6Pb2dmge5dk3sPOqNp9dwRvjveL2wOLo6Ch0IKWdRrIAarIAvqQL3s3EGyR7e3uhs7OzHdv+beMipxL7MpWX9m5ndwSLRrIAarIAvqcL3s3Ex7XzPz0fnsdnXxhjfRaON1J6vfUfHh6gp6amoHkwEuxkkUayAGqyAAGdphUsbtVFXV0dNB+LsLi4CJ2bm2vpi1ey+VA/PpWcsR/tOz09Dc3LV3wkjh7F8B+gJgvgS7pgvBzkx//u9s9wRcGVBlcqbn0ZY8zp6Sl0IMtUXtBIFkBNFkBNFsD3nPwT0EgWQE0WQE0WQE0WQE0W4BfdW5baLuhSfAAAAABJRU5ErkJggg==\" y=\"-250.49244\"/>\n   </g>\n   <g id=\"matplotlib.axis_39\"/>\n   <g id=\"matplotlib.axis_40\"/>\n   <g id=\"patch_98\">\n    <path d=\"M 541.480488 339.49244 \nL 541.480488 251.029026 \n\" style=\"fill:none;stroke:#000000;stroke-linecap:square;stroke-linejoin:miter;stroke-width:0.8;\"/>\n   </g>\n   <g id=\"patch_99\">\n    <path d=\"M 629.943902 339.49244 \nL 629.943902 251.029026 \n\" style=\"fill:none;stroke:#000000;stroke-linecap:square;stroke-linejoin:miter;stroke-width:0.8;\"/>\n   </g>\n   <g id=\"patch_100\">\n    <path d=\"M 541.480488 339.49244 \nL 629.943902 339.49244 \n\" style=\"fill:none;stroke:#000000;stroke-linecap:square;stroke-linejoin:miter;stroke-width:0.8;\"/>\n   </g>\n   <g id=\"patch_101\">\n    <path d=\"M 541.480488 251.029026 \nL 629.943902 251.029026 \n\" style=\"fill:none;stroke:#000000;stroke-linecap:square;stroke-linejoin:miter;stroke-width:0.8;\"/>\n   </g>\n   <g id=\"text_20\">\n    <!-- The letter \"i\" -->\n    <g transform=\"translate(553.72782 245.029026)scale(0.1 -0.1)\">\n     <use xlink:href=\"#DejaVuSans-84\"/>\n     <use x=\"61.083984\" xlink:href=\"#DejaVuSans-104\"/>\n     <use x=\"124.462891\" xlink:href=\"#DejaVuSans-101\"/>\n     <use x=\"185.986328\" xlink:href=\"#DejaVuSans-32\"/>\n     <use x=\"217.773438\" xlink:href=\"#DejaVuSans-108\"/>\n     <use x=\"245.556641\" xlink:href=\"#DejaVuSans-101\"/>\n     <use x=\"307.080078\" xlink:href=\"#DejaVuSans-116\"/>\n     <use x=\"346.289062\" xlink:href=\"#DejaVuSans-116\"/>\n     <use x=\"385.498047\" xlink:href=\"#DejaVuSans-101\"/>\n     <use x=\"447.021484\" xlink:href=\"#DejaVuSans-114\"/>\n     <use x=\"488.134766\" xlink:href=\"#DejaVuSans-32\"/>\n     <use x=\"519.921875\" xlink:href=\"#DejaVuSans-34\"/>\n     <use x=\"565.917969\" xlink:href=\"#DejaVuSans-105\"/>\n     <use x=\"593.701172\" xlink:href=\"#DejaVuSans-34\"/>\n    </g>\n   </g>\n  </g>\n  <g id=\"axes_21\">\n   <g id=\"patch_102\">\n    <path d=\"M 647.636585 339.49244 \nL 736.1 339.49244 \nL 736.1 251.029026 \nL 647.636585 251.029026 \nz\n\" style=\"fill:#ffffff;\"/>\n   </g>\n   <g clip-path=\"url(#paa720edea7)\">\n    <image height=\"89\" id=\"image1cb4f17966\" transform=\"scale(1 -1)translate(0 -89)\" width=\"89\" x=\"647.636585\" xlink:href=\"data:image/png;base64,\niVBORw0KGgoAAAANSUhEUgAAAFkAAABZCAYAAABVC4ivAAAABHNCSVQICAgIfAhkiAAABSFJREFUeJztncsrdW8Uxx+v170wQUqSZOQSMaCIKCn3AeIfIAaKgQEmJIVQMhADBi4ZuKXklpSMyCUDl1wzcYnc5fabfd+1T47f8dvnrM3vXZ/Rh7Ofx9NqndVz2XuzU0q9K8Gm/DJ6AH8DEmQGftus49/6un55ebHSSIxHMpkBCTIDusuFnZ0dPDAwEN7f3w/38PCwqK+bmxv4xMQEnJYO+nullDo+PoZfXl5+2MZoJJMZkCAzIEFmwE7pXPEFBATAa2tr4QUFBX/+CKnblkJr6vv7nyHSGqyUUqurq/DFxUX47OwsfGtrC/709PTlsehFMpkBCTIDustFdXU1vKqqCu7g4AA3nU5dXV3Bn5+f4fSr7OPjA3dycoL/+mVZXtzd3cFnZmbg5eXlmuto+aFjsSaSyQxIkBnQveKjX186i9jf34ePjIxo2iwtLcGvr6/hFxcX8ISEBHhMTAw8MjJS05e5suLm5gZPS0uD39/fa9rTmUdvby/84OBAWQvJZAYkyAxYdT/57e0NXl9fD+/p6dFcZ8nmzfLyMpyWJFoSlNKWi4iICHhsbCw8MTERnpycrGmfm5v7YXs6C9nb2/vX8X6GZDIDEmQGrFou6Nc6JSUFPjY2prnu7OzsS/3SMvTw8KD5jM4Cjo6O4JOTk3BfX194dna2pn18fDyclpXMzEx4S0vLl8ZrimQyAxJkBnSXC7qYoHsPoaGhcNPjp6+WC0sxV1bo7KCtrU3TZnh4GF5XVwd/fHy02rgkkxmQIDMgQWZA936yt7c3vKOjAx4XFwcvKirStKF18Dthbq+a1vr/1K+u1oJFSJAZsOoUbm1tDZ6eng6nmzVKfd9yobcsmEMymQEJMgO6ZxcUeqMLPWIyJTw8HH56evrhNY6OjnBXV1c4Pen+KUgmMyBBZsCq+8knJyfwrq4ueFlZmea61NRU+MDAAJxuMOXk5MCTkpLglZWVmr7oCfd3RTKZAQkyA1adXVCCg4PhpsdPnp6e8OLiYvj4+Di8r68PTo+CCgsLNX3Rhc3r66uOEdsOyWQGJMgMSJAZsNkTqfRxr/X1dc1nWVlZcLp5NDU1Bd/c3ITTmpyXl6fpa2FhAW5u9Wg0kskMSJAZsNkUjhIWFqb5mW4e0T3cxsZGOH3ydGhoCE5vMFRKqZqaGnhzc7P+wdoAyWQGJMgM2Gx2Qdne3tb8vLKyAo+OjoZnZGTABwcH4efn53B/f39NX/SGwfb2drgRD0WaQzKZAQkyAyyzC1OCgoLgdD85JCQETm/+m5+fh8/NzWn6ok9c0UcTRkdH4bY6hbYUyWQGJMgMsMwuTKHHVPTrT8sF3d+gT0KZYm9v/2F7ujct5eIvQILMgCHlgj5q0NTUBKcLiIqKCnhnZyf8s5f60Uco6BEXXcwYgWQyAxJkBiTIDBhSkyn0yKi7uxuen58Pp29ONH0zF33Tlru7O5y+nsdoJJMZkCAzYHi5oBweHsLpBlFDQwPc9PiJ4uXlBTd9L4aRSCYzIEFm4FuVCzpToDcc7u7uwqenpzVtnJ2d4X5+fvCoqCg4fcGeETclSiYzIEFmwJDjp6/i4uIC39jY0HxGFyq0FNAX/pWUlMCNuF9OMpkBCTIDP6JcUOhttEopVVpaCqfv96R71vR+udbWVtsNzgySyQxIkBn4VosRSzD9Zy63t7dwegpOT6h3dnZsP7BPkExmQILMgASZgR83hfsMc/80hm48GYFkMgMSZAb+V+XiuyKZzIAEmYF/AFn+mhcg7kdWAAAAAElFTkSuQmCC\" y=\"-250.49244\"/>\n   </g>\n   <g id=\"matplotlib.axis_41\"/>\n   <g id=\"matplotlib.axis_42\"/>\n   <g id=\"patch_103\">\n    <path d=\"M 647.636585 339.49244 \nL 647.636585 251.029026 \n\" style=\"fill:none;stroke:#000000;stroke-linecap:square;stroke-linejoin:miter;stroke-width:0.8;\"/>\n   </g>\n   <g id=\"patch_104\">\n    <path d=\"M 736.1 339.49244 \nL 736.1 251.029026 \n\" style=\"fill:none;stroke:#000000;stroke-linecap:square;stroke-linejoin:miter;stroke-width:0.8;\"/>\n   </g>\n   <g id=\"patch_105\">\n    <path d=\"M 647.636585 339.49244 \nL 736.1 339.49244 \n\" style=\"fill:none;stroke:#000000;stroke-linecap:square;stroke-linejoin:miter;stroke-width:0.8;\"/>\n   </g>\n   <g id=\"patch_106\">\n    <path d=\"M 647.636585 251.029026 \nL 736.1 251.029026 \n\" style=\"fill:none;stroke:#000000;stroke-linecap:square;stroke-linejoin:miter;stroke-width:0.8;\"/>\n   </g>\n   <g id=\"text_21\">\n    <!-- The letter \"c\" -->\n    <g transform=\"translate(658.523761 245.029026)scale(0.1 -0.1)\">\n     <use xlink:href=\"#DejaVuSans-84\"/>\n     <use x=\"61.083984\" xlink:href=\"#DejaVuSans-104\"/>\n     <use x=\"124.462891\" xlink:href=\"#DejaVuSans-101\"/>\n     <use x=\"185.986328\" xlink:href=\"#DejaVuSans-32\"/>\n     <use x=\"217.773438\" xlink:href=\"#DejaVuSans-108\"/>\n     <use x=\"245.556641\" xlink:href=\"#DejaVuSans-101\"/>\n     <use x=\"307.080078\" xlink:href=\"#DejaVuSans-116\"/>\n     <use x=\"346.289062\" xlink:href=\"#DejaVuSans-116\"/>\n     <use x=\"385.498047\" xlink:href=\"#DejaVuSans-101\"/>\n     <use x=\"447.021484\" xlink:href=\"#DejaVuSans-114\"/>\n     <use x=\"488.134766\" xlink:href=\"#DejaVuSans-32\"/>\n     <use x=\"519.921875\" xlink:href=\"#DejaVuSans-34\"/>\n     <use x=\"565.917969\" xlink:href=\"#DejaVuSans-99\"/>\n     <use x=\"620.898438\" xlink:href=\"#DejaVuSans-34\"/>\n    </g>\n   </g>\n  </g>\n </g>\n <defs>\n  <clipPath id=\"p506a7110a3\">\n   <rect height=\"88.463415\" width=\"88.463415\" x=\"10.7\" y=\"20.798437\"/>\n  </clipPath>\n  <clipPath id=\"p009f72e0cf\">\n   <rect height=\"88.463415\" width=\"88.463415\" x=\"116.856098\" y=\"20.798437\"/>\n  </clipPath>\n  <clipPath id=\"p1a09739db1\">\n   <rect height=\"88.463415\" width=\"88.463415\" x=\"223.012195\" y=\"20.798437\"/>\n  </clipPath>\n  <clipPath id=\"p7652c38f4b\">\n   <rect height=\"88.463415\" width=\"88.463415\" x=\"329.168293\" y=\"20.798437\"/>\n  </clipPath>\n  <clipPath id=\"pbaa9773c0d\">\n   <rect height=\"88.463415\" width=\"88.463415\" x=\"435.32439\" y=\"20.798437\"/>\n  </clipPath>\n  <clipPath id=\"p0b176cf2be\">\n   <rect height=\"88.463415\" width=\"88.463415\" x=\"541.480488\" y=\"20.798437\"/>\n  </clipPath>\n  <clipPath id=\"p47ef1d0333\">\n   <rect height=\"88.463415\" width=\"88.463415\" x=\"647.636585\" y=\"20.798437\"/>\n  </clipPath>\n  <clipPath id=\"pfbc6f77270\">\n   <rect height=\"88.463415\" width=\"88.463415\" x=\"10.7\" y=\"135.913732\"/>\n  </clipPath>\n  <clipPath id=\"pf50f1b1ffc\">\n   <rect height=\"88.463415\" width=\"88.463415\" x=\"116.856098\" y=\"135.913732\"/>\n  </clipPath>\n  <clipPath id=\"pd18651d2f5\">\n   <rect height=\"88.463415\" width=\"88.463415\" x=\"223.012195\" y=\"135.913732\"/>\n  </clipPath>\n  <clipPath id=\"pd4ba0c76be\">\n   <rect height=\"88.463415\" width=\"88.463415\" x=\"329.168293\" y=\"135.913732\"/>\n  </clipPath>\n  <clipPath id=\"pddc7afd032\">\n   <rect height=\"88.463415\" width=\"88.463415\" x=\"435.32439\" y=\"135.913732\"/>\n  </clipPath>\n  <clipPath id=\"p3bb9344cba\">\n   <rect height=\"88.463415\" width=\"88.463415\" x=\"541.480488\" y=\"135.913732\"/>\n  </clipPath>\n  <clipPath id=\"p5d67f303cd\">\n   <rect height=\"88.463415\" width=\"88.463415\" x=\"647.636585\" y=\"135.913732\"/>\n  </clipPath>\n  <clipPath id=\"p81bdcdb59a\">\n   <rect height=\"88.463415\" width=\"88.463415\" x=\"10.7\" y=\"251.029026\"/>\n  </clipPath>\n  <clipPath id=\"pcb650927b7\">\n   <rect height=\"88.463415\" width=\"88.463415\" x=\"116.856098\" y=\"251.029026\"/>\n  </clipPath>\n  <clipPath id=\"p0ef0eac422\">\n   <rect height=\"88.463415\" width=\"88.463415\" x=\"223.012195\" y=\"251.029026\"/>\n  </clipPath>\n  <clipPath id=\"p1cca36329a\">\n   <rect height=\"88.463415\" width=\"88.463415\" x=\"329.168293\" y=\"251.029026\"/>\n  </clipPath>\n  <clipPath id=\"p6c79c805b2\">\n   <rect height=\"88.463415\" width=\"88.463415\" x=\"435.32439\" y=\"251.029026\"/>\n  </clipPath>\n  <clipPath id=\"p3ee4137fc9\">\n   <rect height=\"88.463415\" width=\"88.463415\" x=\"541.480488\" y=\"251.029026\"/>\n  </clipPath>\n  <clipPath id=\"paa720edea7\">\n   <rect height=\"88.463415\" width=\"88.463415\" x=\"647.636585\" y=\"251.029026\"/>\n  </clipPath>\n </defs>\n</svg>\n"
          },
          "metadata": {}
        }
      ]
    },
    {
      "cell_type": "code",
      "source": [
        "# visualize some numbers\n",
        "fig,axs = plt.subplots(3,7,figsize=(13,6))\n",
        "\n",
        "# get a batch of number data\n",
        "X,y = next(iter(number_train_loader))\n",
        "\n",
        "for i,ax in enumerate(axs.flatten()):\n",
        "  \n",
        "  # extract the image and its target letter\n",
        "  I = np.squeeze( X[i,:,:] )\n",
        "  number = y[i].item()\n",
        "  \n",
        "  # visualize\n",
        "  ax.imshow(I.T,cmap='gray',vmin=0,vmax=1)\n",
        "  ax.set_title('The number \"%s\"'%number,fontsize=10)\n",
        "  ax.set_xticks([])\n",
        "  ax.set_yticks([])\n",
        "\n",
        "plt.show()"
      ],
      "metadata": {
        "colab": {
          "base_uri": "https://localhost:8080/",
          "height": 488
        },
        "id": "ds08cD8NMdA7",
        "outputId": "8eb65419-a60a-4d2e-92b1-e0f90435978c"
      },
      "execution_count": 8,
      "outputs": [
        {
          "output_type": "display_data",
          "data": {
            "text/plain": [
              "<Figure size 936x432 with 21 Axes>"
            ],
            "image/svg+xml": "<?xml version=\"1.0\" encoding=\"utf-8\" standalone=\"no\"?>\n<!DOCTYPE svg PUBLIC \"-//W3C//DTD SVG 1.1//EN\"\n  \"http://www.w3.org/Graphics/SVG/1.1/DTD/svg11.dtd\">\n<!-- Created with matplotlib (https://matplotlib.org/) -->\n<svg height=\"350.19244pt\" version=\"1.1\" viewBox=\"0 0 743.3 350.19244\" width=\"743.3pt\" xmlns=\"http://www.w3.org/2000/svg\" xmlns:xlink=\"http://www.w3.org/1999/xlink\">\n <defs>\n  <style type=\"text/css\">\n*{stroke-linecap:butt;stroke-linejoin:round;}\n  </style>\n </defs>\n <g id=\"figure_1\">\n  <g id=\"patch_1\">\n   <path d=\"M 0 350.19244 \nL 743.3 350.19244 \nL 743.3 0 \nL 0 0 \nz\n\" style=\"fill:none;\"/>\n  </g>\n  <g id=\"axes_1\">\n   <g id=\"patch_2\">\n    <path d=\"M 10.7 109.261852 \nL 99.163415 109.261852 \nL 99.163415 20.798437 \nL 10.7 20.798437 \nz\n\" style=\"fill:#ffffff;\"/>\n   </g>\n   <g clip-path=\"url(#pd50519862e)\">\n    <image height=\"89\" id=\"image18204d8030\" transform=\"scale(1 -1)translate(0 -89)\" width=\"89\" x=\"10.7\" xlink:href=\"data:image/png;base64,\niVBORw0KGgoAAAANSUhEUgAAAFkAAABZCAYAAABVC4ivAAAABHNCSVQICAgIfAhkiAAABKJJREFUeJztnEkvPVsUxc/V9xEmmkSfGBExEQMMJEgQ3dDIyIcQ4TP4AhKGEmFgIEKiDTNiRqIXRDPQ997ov6xTufVeKfdt9/7t32gVdepWln23c/Y+VQFjzIdR/leifvoGfgNqsgBqsgBqsgBqsgBqsgBqsgBqsgBqsgAxXk+Mivr8ewQCAeiPj88F4/v7+3+e8xvRSBZATRbAc7pIT0+HTktLg767u4O+vb2Fjo+PD3qOMd7Sx+vrq9dbC3s0kgVQkwVwTRcJCQnWcW9vL3RbWxv00dER9N7eHnRmZib0wcGBdS2ehTDX19fQs7Oz0FtbW9AvLy/WmLe3t6DXCic0kgVQkwUIGJf2U0FBgXU8NjYGXVlZCR3KxQingu3tbejx8XHojY0Na8z09DT04+Ojp8+RRiNZADVZAM+LEU4FvFDgtMBwinCew8dcE4mJ+byd8vJy6OLiYuiTkxPX+5qamgr6859GI1kANVkA13TBdQhjjFlfX4fm2gV/3d2IjY21jnl8RkYGtNuMJCkpCTorK8u6VlFRUdDx4YRGsgBqsgBqsgCuOfny8tI67uvrg+basuuFaTpWVlZm/a65uRm6u7sbOjo6GpqnYA8PD9Cnp6fWtXZ2dqDDtc2lkSyAmiyAa4HID4mJidANDQ3QPT091nm8msvPz4e+v7+Hnpubg15YWIDm2rIxxszMzEBrgegXoyYL4LlAxPDKirvSnZ2d0AMDA9CFhYWu47llNTIyAj06OgrN7Stn4SecCkFuaCQLoCYL4CtdxMXFQXPBpqmpCTo3NxfaWUTiWcDKygr0xMQE9PHxMXSkb3TRSBZATRbAV7rIzs6G7ujogG5vb4fmzTFcXzDGmNXVVejBwcGg54VrHcIPGskCqMkCqMkC+MrJXCvmfh2v/njz4NDQkDWeizp/ax5mNJIFUJMF8JUuGC7Q8NedUwdP+YyxV4nn5+fQzpbX34JGsgBqsgC+0gUXbHin0fPzMzSv+Kqqqqzx3KbiFLO4uAgdCXVir2gkC6AmC+ArXfAe4cnJSeja2lrolpYW6Lq6Omt8dXU19NXVFfTy8jK0pgvlS6jJAvhKF09PT9D7+/vQw8PD0LxppbS09MufwS0u3p/s3MDCMxpOMVxf8QPvqU5OTobm2RCnOufvGI1kAdRkAb5du+Bnm/nBRd60Ul9fb43hr//S0lLQ6/KYrq4uaGd9g1tZh4eH0DU1NdBcjvVKamoqdF5eXtDP7+/vt8ZcXFwEvZZGsgBqsgBqsgDfzskMT+14HzG3ooyxp1fOadAfcnJyoJ0rRoafVuWNid/NyTyF4/8hu7u70CkpKdYYzck/iJosQEjTBcMrM57OeWVtbQ365uYGuqSkxDqPX9UTym43v3uD093m5ia086ldNzSSBVCTBQjp00+hhLvdjY2N0BUVFdZ5ra2tQcfPz89Dc7rxCqcITndc8+ZOuzFaIPpR1GQBwjZdMPzMtfPdGc73X/zh7OwM2vnCvq/CdWo/bTGNZAHUZAEiIl38G25tpnB6YkojWQA1WYCITxeRgEayAGqyAGqyAGqyAGqyAGqyAGqyAGqyAGqyAP8AGXKPrXupdtQAAAAASUVORK5CYII=\" y=\"-20.261852\"/>\n   </g>\n   <g id=\"matplotlib.axis_1\"/>\n   <g id=\"matplotlib.axis_2\"/>\n   <g id=\"patch_3\">\n    <path d=\"M 10.7 109.261852 \nL 10.7 20.798437 \n\" style=\"fill:none;stroke:#000000;stroke-linecap:square;stroke-linejoin:miter;stroke-width:0.8;\"/>\n   </g>\n   <g id=\"patch_4\">\n    <path d=\"M 99.163415 109.261852 \nL 99.163415 20.798437 \n\" style=\"fill:none;stroke:#000000;stroke-linecap:square;stroke-linejoin:miter;stroke-width:0.8;\"/>\n   </g>\n   <g id=\"patch_5\">\n    <path d=\"M 10.7 109.261852 \nL 99.163415 109.261852 \n\" style=\"fill:none;stroke:#000000;stroke-linecap:square;stroke-linejoin:miter;stroke-width:0.8;\"/>\n   </g>\n   <g id=\"patch_6\">\n    <path d=\"M 10.7 20.798437 \nL 99.163415 20.798437 \n\" style=\"fill:none;stroke:#000000;stroke-linecap:square;stroke-linejoin:miter;stroke-width:0.8;\"/>\n   </g>\n   <g id=\"text_1\">\n    <!-- The number \"5\" -->\n    <defs>\n     <path d=\"M -0.296875 72.90625 \nL 61.375 72.90625 \nL 61.375 64.59375 \nL 35.5 64.59375 \nL 35.5 0 \nL 25.59375 0 \nL 25.59375 64.59375 \nL -0.296875 64.59375 \nz\n\" id=\"DejaVuSans-84\"/>\n     <path d=\"M 54.890625 33.015625 \nL 54.890625 0 \nL 45.90625 0 \nL 45.90625 32.71875 \nQ 45.90625 40.484375 42.875 44.328125 \nQ 39.84375 48.1875 33.796875 48.1875 \nQ 26.515625 48.1875 22.3125 43.546875 \nQ 18.109375 38.921875 18.109375 30.90625 \nL 18.109375 0 \nL 9.078125 0 \nL 9.078125 75.984375 \nL 18.109375 75.984375 \nL 18.109375 46.1875 \nQ 21.34375 51.125 25.703125 53.5625 \nQ 30.078125 56 35.796875 56 \nQ 45.21875 56 50.046875 50.171875 \nQ 54.890625 44.34375 54.890625 33.015625 \nz\n\" id=\"DejaVuSans-104\"/>\n     <path d=\"M 56.203125 29.59375 \nL 56.203125 25.203125 \nL 14.890625 25.203125 \nQ 15.484375 15.921875 20.484375 11.0625 \nQ 25.484375 6.203125 34.421875 6.203125 \nQ 39.59375 6.203125 44.453125 7.46875 \nQ 49.3125 8.734375 54.109375 11.28125 \nL 54.109375 2.78125 \nQ 49.265625 0.734375 44.1875 -0.34375 \nQ 39.109375 -1.421875 33.890625 -1.421875 \nQ 20.796875 -1.421875 13.15625 6.1875 \nQ 5.515625 13.8125 5.515625 26.8125 \nQ 5.515625 40.234375 12.765625 48.109375 \nQ 20.015625 56 32.328125 56 \nQ 43.359375 56 49.78125 48.890625 \nQ 56.203125 41.796875 56.203125 29.59375 \nz\nM 47.21875 32.234375 \nQ 47.125 39.59375 43.09375 43.984375 \nQ 39.0625 48.390625 32.421875 48.390625 \nQ 24.90625 48.390625 20.390625 44.140625 \nQ 15.875 39.890625 15.1875 32.171875 \nz\n\" id=\"DejaVuSans-101\"/>\n     <path id=\"DejaVuSans-32\"/>\n     <path d=\"M 54.890625 33.015625 \nL 54.890625 0 \nL 45.90625 0 \nL 45.90625 32.71875 \nQ 45.90625 40.484375 42.875 44.328125 \nQ 39.84375 48.1875 33.796875 48.1875 \nQ 26.515625 48.1875 22.3125 43.546875 \nQ 18.109375 38.921875 18.109375 30.90625 \nL 18.109375 0 \nL 9.078125 0 \nL 9.078125 54.6875 \nL 18.109375 54.6875 \nL 18.109375 46.1875 \nQ 21.34375 51.125 25.703125 53.5625 \nQ 30.078125 56 35.796875 56 \nQ 45.21875 56 50.046875 50.171875 \nQ 54.890625 44.34375 54.890625 33.015625 \nz\n\" id=\"DejaVuSans-110\"/>\n     <path d=\"M 8.5 21.578125 \nL 8.5 54.6875 \nL 17.484375 54.6875 \nL 17.484375 21.921875 \nQ 17.484375 14.15625 20.5 10.265625 \nQ 23.53125 6.390625 29.59375 6.390625 \nQ 36.859375 6.390625 41.078125 11.03125 \nQ 45.3125 15.671875 45.3125 23.6875 \nL 45.3125 54.6875 \nL 54.296875 54.6875 \nL 54.296875 0 \nL 45.3125 0 \nL 45.3125 8.40625 \nQ 42.046875 3.421875 37.71875 1 \nQ 33.40625 -1.421875 27.6875 -1.421875 \nQ 18.265625 -1.421875 13.375 4.4375 \nQ 8.5 10.296875 8.5 21.578125 \nz\nM 31.109375 56 \nz\n\" id=\"DejaVuSans-117\"/>\n     <path d=\"M 52 44.1875 \nQ 55.375 50.25 60.0625 53.125 \nQ 64.75 56 71.09375 56 \nQ 79.640625 56 84.28125 50.015625 \nQ 88.921875 44.046875 88.921875 33.015625 \nL 88.921875 0 \nL 79.890625 0 \nL 79.890625 32.71875 \nQ 79.890625 40.578125 77.09375 44.375 \nQ 74.3125 48.1875 68.609375 48.1875 \nQ 61.625 48.1875 57.5625 43.546875 \nQ 53.515625 38.921875 53.515625 30.90625 \nL 53.515625 0 \nL 44.484375 0 \nL 44.484375 32.71875 \nQ 44.484375 40.625 41.703125 44.40625 \nQ 38.921875 48.1875 33.109375 48.1875 \nQ 26.21875 48.1875 22.15625 43.53125 \nQ 18.109375 38.875 18.109375 30.90625 \nL 18.109375 0 \nL 9.078125 0 \nL 9.078125 54.6875 \nL 18.109375 54.6875 \nL 18.109375 46.1875 \nQ 21.1875 51.21875 25.484375 53.609375 \nQ 29.78125 56 35.6875 56 \nQ 41.65625 56 45.828125 52.96875 \nQ 50 49.953125 52 44.1875 \nz\n\" id=\"DejaVuSans-109\"/>\n     <path d=\"M 48.6875 27.296875 \nQ 48.6875 37.203125 44.609375 42.84375 \nQ 40.53125 48.484375 33.40625 48.484375 \nQ 26.265625 48.484375 22.1875 42.84375 \nQ 18.109375 37.203125 18.109375 27.296875 \nQ 18.109375 17.390625 22.1875 11.75 \nQ 26.265625 6.109375 33.40625 6.109375 \nQ 40.53125 6.109375 44.609375 11.75 \nQ 48.6875 17.390625 48.6875 27.296875 \nz\nM 18.109375 46.390625 \nQ 20.953125 51.265625 25.265625 53.625 \nQ 29.59375 56 35.59375 56 \nQ 45.5625 56 51.78125 48.09375 \nQ 58.015625 40.1875 58.015625 27.296875 \nQ 58.015625 14.40625 51.78125 6.484375 \nQ 45.5625 -1.421875 35.59375 -1.421875 \nQ 29.59375 -1.421875 25.265625 0.953125 \nQ 20.953125 3.328125 18.109375 8.203125 \nL 18.109375 0 \nL 9.078125 0 \nL 9.078125 75.984375 \nL 18.109375 75.984375 \nz\n\" id=\"DejaVuSans-98\"/>\n     <path d=\"M 41.109375 46.296875 \nQ 39.59375 47.171875 37.8125 47.578125 \nQ 36.03125 48 33.890625 48 \nQ 26.265625 48 22.1875 43.046875 \nQ 18.109375 38.09375 18.109375 28.8125 \nL 18.109375 0 \nL 9.078125 0 \nL 9.078125 54.6875 \nL 18.109375 54.6875 \nL 18.109375 46.1875 \nQ 20.953125 51.171875 25.484375 53.578125 \nQ 30.03125 56 36.53125 56 \nQ 37.453125 56 38.578125 55.875 \nQ 39.703125 55.765625 41.0625 55.515625 \nz\n\" id=\"DejaVuSans-114\"/>\n     <path d=\"M 17.921875 72.90625 \nL 17.921875 45.796875 \nL 9.625 45.796875 \nL 9.625 72.90625 \nz\nM 36.375 72.90625 \nL 36.375 45.796875 \nL 28.078125 45.796875 \nL 28.078125 72.90625 \nz\n\" id=\"DejaVuSans-34\"/>\n     <path d=\"M 10.796875 72.90625 \nL 49.515625 72.90625 \nL 49.515625 64.59375 \nL 19.828125 64.59375 \nL 19.828125 46.734375 \nQ 21.96875 47.46875 24.109375 47.828125 \nQ 26.265625 48.1875 28.421875 48.1875 \nQ 40.625 48.1875 47.75 41.5 \nQ 54.890625 34.8125 54.890625 23.390625 \nQ 54.890625 11.625 47.5625 5.09375 \nQ 40.234375 -1.421875 26.90625 -1.421875 \nQ 22.3125 -1.421875 17.546875 -0.640625 \nQ 12.796875 0.140625 7.71875 1.703125 \nL 7.71875 11.625 \nQ 12.109375 9.234375 16.796875 8.0625 \nQ 21.484375 6.890625 26.703125 6.890625 \nQ 35.15625 6.890625 40.078125 11.328125 \nQ 45.015625 15.765625 45.015625 23.390625 \nQ 45.015625 31 40.078125 35.4375 \nQ 35.15625 39.890625 26.703125 39.890625 \nQ 22.75 39.890625 18.8125 39.015625 \nQ 14.890625 38.140625 10.796875 36.28125 \nz\n\" id=\"DejaVuSans-53\"/>\n    </defs>\n    <g transform=\"translate(15.159051 14.798437)scale(0.1 -0.1)\">\n     <use xlink:href=\"#DejaVuSans-84\"/>\n     <use x=\"61.083984\" xlink:href=\"#DejaVuSans-104\"/>\n     <use x=\"124.462891\" xlink:href=\"#DejaVuSans-101\"/>\n     <use x=\"185.986328\" xlink:href=\"#DejaVuSans-32\"/>\n     <use x=\"217.773438\" xlink:href=\"#DejaVuSans-110\"/>\n     <use x=\"281.152344\" xlink:href=\"#DejaVuSans-117\"/>\n     <use x=\"344.53125\" xlink:href=\"#DejaVuSans-109\"/>\n     <use x=\"441.943359\" xlink:href=\"#DejaVuSans-98\"/>\n     <use x=\"505.419922\" xlink:href=\"#DejaVuSans-101\"/>\n     <use x=\"566.943359\" xlink:href=\"#DejaVuSans-114\"/>\n     <use x=\"608.056641\" xlink:href=\"#DejaVuSans-32\"/>\n     <use x=\"639.84375\" xlink:href=\"#DejaVuSans-34\"/>\n     <use x=\"685.839844\" xlink:href=\"#DejaVuSans-53\"/>\n     <use x=\"749.462891\" xlink:href=\"#DejaVuSans-34\"/>\n    </g>\n   </g>\n  </g>\n  <g id=\"axes_2\">\n   <g id=\"patch_7\">\n    <path d=\"M 116.856098 109.261852 \nL 205.319512 109.261852 \nL 205.319512 20.798437 \nL 116.856098 20.798437 \nz\n\" style=\"fill:#ffffff;\"/>\n   </g>\n   <g clip-path=\"url(#pf136b52c75)\">\n    <image height=\"89\" id=\"image124e631983\" transform=\"scale(1 -1)translate(0 -89)\" width=\"89\" x=\"116.856098\" xlink:href=\"data:image/png;base64,\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\" y=\"-20.261852\"/>\n   </g>\n   <g id=\"matplotlib.axis_3\"/>\n   <g id=\"matplotlib.axis_4\"/>\n   <g id=\"patch_8\">\n    <path d=\"M 116.856098 109.261852 \nL 116.856098 20.798437 \n\" style=\"fill:none;stroke:#000000;stroke-linecap:square;stroke-linejoin:miter;stroke-width:0.8;\"/>\n   </g>\n   <g id=\"patch_9\">\n    <path d=\"M 205.319512 109.261852 \nL 205.319512 20.798437 \n\" style=\"fill:none;stroke:#000000;stroke-linecap:square;stroke-linejoin:miter;stroke-width:0.8;\"/>\n   </g>\n   <g id=\"patch_10\">\n    <path d=\"M 116.856098 109.261852 \nL 205.319512 109.261852 \n\" style=\"fill:none;stroke:#000000;stroke-linecap:square;stroke-linejoin:miter;stroke-width:0.8;\"/>\n   </g>\n   <g id=\"patch_11\">\n    <path d=\"M 116.856098 20.798437 \nL 205.319512 20.798437 \n\" style=\"fill:none;stroke:#000000;stroke-linecap:square;stroke-linejoin:miter;stroke-width:0.8;\"/>\n   </g>\n   <g id=\"text_2\">\n    <!-- The number \"0\" -->\n    <defs>\n     <path d=\"M 31.78125 66.40625 \nQ 24.171875 66.40625 20.328125 58.90625 \nQ 16.5 51.421875 16.5 36.375 \nQ 16.5 21.390625 20.328125 13.890625 \nQ 24.171875 6.390625 31.78125 6.390625 \nQ 39.453125 6.390625 43.28125 13.890625 \nQ 47.125 21.390625 47.125 36.375 \nQ 47.125 51.421875 43.28125 58.90625 \nQ 39.453125 66.40625 31.78125 66.40625 \nz\nM 31.78125 74.21875 \nQ 44.046875 74.21875 50.515625 64.515625 \nQ 56.984375 54.828125 56.984375 36.375 \nQ 56.984375 17.96875 50.515625 8.265625 \nQ 44.046875 -1.421875 31.78125 -1.421875 \nQ 19.53125 -1.421875 13.0625 8.265625 \nQ 6.59375 17.96875 6.59375 36.375 \nQ 6.59375 54.828125 13.0625 64.515625 \nQ 19.53125 74.21875 31.78125 74.21875 \nz\n\" id=\"DejaVuSans-48\"/>\n    </defs>\n    <g transform=\"translate(121.315149 14.798437)scale(0.1 -0.1)\">\n     <use xlink:href=\"#DejaVuSans-84\"/>\n     <use x=\"61.083984\" xlink:href=\"#DejaVuSans-104\"/>\n     <use x=\"124.462891\" xlink:href=\"#DejaVuSans-101\"/>\n     <use x=\"185.986328\" xlink:href=\"#DejaVuSans-32\"/>\n     <use x=\"217.773438\" xlink:href=\"#DejaVuSans-110\"/>\n     <use x=\"281.152344\" xlink:href=\"#DejaVuSans-117\"/>\n     <use x=\"344.53125\" xlink:href=\"#DejaVuSans-109\"/>\n     <use x=\"441.943359\" xlink:href=\"#DejaVuSans-98\"/>\n     <use x=\"505.419922\" xlink:href=\"#DejaVuSans-101\"/>\n     <use x=\"566.943359\" xlink:href=\"#DejaVuSans-114\"/>\n     <use x=\"608.056641\" xlink:href=\"#DejaVuSans-32\"/>\n     <use x=\"639.84375\" xlink:href=\"#DejaVuSans-34\"/>\n     <use x=\"685.839844\" xlink:href=\"#DejaVuSans-48\"/>\n     <use x=\"749.462891\" xlink:href=\"#DejaVuSans-34\"/>\n    </g>\n   </g>\n  </g>\n  <g id=\"axes_3\">\n   <g id=\"patch_12\">\n    <path d=\"M 223.012195 109.261852 \nL 311.47561 109.261852 \nL 311.47561 20.798437 \nL 223.012195 20.798437 \nz\n\" style=\"fill:#ffffff;\"/>\n   </g>\n   <g clip-path=\"url(#p2169be9869)\">\n    <image height=\"89\" id=\"image87ac1791bf\" transform=\"scale(1 -1)translate(0 -89)\" width=\"89\" x=\"223.012195\" xlink:href=\"data:image/png;base64,\niVBORw0KGgoAAAANSUhEUgAAAFkAAABZCAYAAABVC4ivAAAABHNCSVQICAgIfAhkiAAABR5JREFUeJztnUkod28Uxx+8MoRkWhNloVhgY4OUlCRTSVEWiJUSUgg7IQlZsKAsJEPKsJCFITulKJIpysq4MJXhv/qf3/e5/W4v7v2dH97zWX3e3Ofe23mP0zNeHkqpdyW4FE93v8C/gASZgT9ueegf5499eXlhfhMeJJMZkCAzYGu58PHxIY+NjSUvLS3VrktLS3PafnV1lfzu7o58bm6O/ODgQGvz9PT0pXflRDKZAQkyAxJkBjyUxRGfr68veV5eHnlDQwN5XFyc1uYjXbj3d8dr7e3tkc/OzmpthoaGyK+urshfX1//+u5cSCYzIEFmwHK5yMnJIe/p6SGPjo52PMTDQ2vz9vbm1M3KCGLssi0sLJCPj4+TLy8vkz88PPz1vq5EMpkBCTIDXyoXnp6O/5uJiQny/Px8p9dgT0EppTY3N8mbmprIk5OTyYODg8lzc3PJcSSplD7KfH5+Jt/f3ycvKioiPzk50dpz9EIkkxmQIDPgsvlkY48CSUxMJI+MjCQfGRkhx17EzMwMeW1trXav7Oxs8tDQUPL4+Hjyrq4u8oGBAa39ysqK6XvahWQyAxJkBiwPRlpaWsibm5vJvb29HQ8xlA7sbTw+PpJjWWhvbyc/Pj42fT6Wm/LycvKKigry8PBw8tPTU619RkaG6c/sQjKZAQkyA5Z7F7u7u+Q3NzfkERERpm2wfPj5+ZEXFBSQBwUFkY+OjpKvr69r98JS0t/fT355eUmOJQ3Li1L69Cy2t3PlXDKZAQkyAxJkBix34XCCpri4mLyzs5PcWJ/NRoPGiaT/wfqI2waUUqqxsZH8/Pyc/P7+nnx7e5s8JiZGaz81NUVeU1NDjjXdKpLJDEiQGbDchcM53KWlJXLcJVRWVvbp+2LpwGWp9PR07brJyUlyLAu4wh0SEvLp59uJZDIDEmQGLPcutJtBrwFXqzc2NrTrzEaDt7e35Ds7O+S4LIWbaYx8ZBXc2IPBTTh9fX3kMuL7YUiQGbB1+Ql/FQ8PD8nr6uq06zo6OsijoqLIcbLo4uKCHHsUWVlZ2r2qq6vJAwMDybHXc319Tb62tqa1HxwcJHfVcQrJZAYkyAzY2rsww9/fX/t3fX09eWtrq+NloHeCy1JVVVXki4uL2r1SU1PJca4Yt9HinPfZ2ZnW3s45CjMkkxmQIDMgQWaApSYbwVHb8PAwOW5YxO6c2bYBpZSqrKx0et13QjKZAQkyA24pFwhOJLW1tZEXFhaS4xKXsSRgucBS8p1Kh2QyAxJkBtxeLpCwsDByHOXhRkYsHUqZ9zyw9BwdHdn5mp9GMpkBCTID36pcIAEBAeS4Cp6UlKRdZ9bzwNLh7gGLZDIDEmQGvm25QBISEsix16CUfpASwbKA5WJ6elq7juPzOpLJDEiQGfgR5QLBAYtS+gFLPDjp5eVFjttou7u7tfa4cm62ddcqkskMSJAZkCAz8ONqshHswuFBdbPP8xi/d5GZmUmOx9XsrM+SyQxIkBn48eUCSwF+4wJPseKI0QhujMSdTfPz8+RWP6EjmcyABJmBH18uEJxbxo0yOCrETTNK6aUASwSWDiwpX0EymQEJMgO/qlwg2OsoKSkhxwkhpfTjFDgA2draIk9JSSH/ypEHyWQGJMgMuOWPuXCAv/r49XDjpxjwOIWrkExmQILMwK8tFwh+CXxsbEz7GS5ZIb29veRWD1FKJjMgQWZAgszArx3xfRSOvw0omcyABJmBf75ccCCZzIAEmYH/AB4Fq9iYqudmAAAAAElFTkSuQmCC\" y=\"-20.261852\"/>\n   </g>\n   <g id=\"matplotlib.axis_5\"/>\n   <g id=\"matplotlib.axis_6\"/>\n   <g id=\"patch_13\">\n    <path d=\"M 223.012195 109.261852 \nL 223.012195 20.798437 \n\" style=\"fill:none;stroke:#000000;stroke-linecap:square;stroke-linejoin:miter;stroke-width:0.8;\"/>\n   </g>\n   <g id=\"patch_14\">\n    <path d=\"M 311.47561 109.261852 \nL 311.47561 20.798437 \n\" style=\"fill:none;stroke:#000000;stroke-linecap:square;stroke-linejoin:miter;stroke-width:0.8;\"/>\n   </g>\n   <g id=\"patch_15\">\n    <path d=\"M 223.012195 109.261852 \nL 311.47561 109.261852 \n\" style=\"fill:none;stroke:#000000;stroke-linecap:square;stroke-linejoin:miter;stroke-width:0.8;\"/>\n   </g>\n   <g id=\"patch_16\">\n    <path d=\"M 223.012195 20.798437 \nL 311.47561 20.798437 \n\" style=\"fill:none;stroke:#000000;stroke-linecap:square;stroke-linejoin:miter;stroke-width:0.8;\"/>\n   </g>\n   <g id=\"text_3\">\n    <!-- The number \"6\" -->\n    <defs>\n     <path d=\"M 33.015625 40.375 \nQ 26.375 40.375 22.484375 35.828125 \nQ 18.609375 31.296875 18.609375 23.390625 \nQ 18.609375 15.53125 22.484375 10.953125 \nQ 26.375 6.390625 33.015625 6.390625 \nQ 39.65625 6.390625 43.53125 10.953125 \nQ 47.40625 15.53125 47.40625 23.390625 \nQ 47.40625 31.296875 43.53125 35.828125 \nQ 39.65625 40.375 33.015625 40.375 \nz\nM 52.59375 71.296875 \nL 52.59375 62.3125 \nQ 48.875 64.0625 45.09375 64.984375 \nQ 41.3125 65.921875 37.59375 65.921875 \nQ 27.828125 65.921875 22.671875 59.328125 \nQ 17.53125 52.734375 16.796875 39.40625 \nQ 19.671875 43.65625 24.015625 45.921875 \nQ 28.375 48.1875 33.59375 48.1875 \nQ 44.578125 48.1875 50.953125 41.515625 \nQ 57.328125 34.859375 57.328125 23.390625 \nQ 57.328125 12.15625 50.6875 5.359375 \nQ 44.046875 -1.421875 33.015625 -1.421875 \nQ 20.359375 -1.421875 13.671875 8.265625 \nQ 6.984375 17.96875 6.984375 36.375 \nQ 6.984375 53.65625 15.1875 63.9375 \nQ 23.390625 74.21875 37.203125 74.21875 \nQ 40.921875 74.21875 44.703125 73.484375 \nQ 48.484375 72.75 52.59375 71.296875 \nz\n\" id=\"DejaVuSans-54\"/>\n    </defs>\n    <g transform=\"translate(227.471246 14.798437)scale(0.1 -0.1)\">\n     <use xlink:href=\"#DejaVuSans-84\"/>\n     <use x=\"61.083984\" xlink:href=\"#DejaVuSans-104\"/>\n     <use x=\"124.462891\" xlink:href=\"#DejaVuSans-101\"/>\n     <use x=\"185.986328\" xlink:href=\"#DejaVuSans-32\"/>\n     <use x=\"217.773438\" xlink:href=\"#DejaVuSans-110\"/>\n     <use x=\"281.152344\" xlink:href=\"#DejaVuSans-117\"/>\n     <use x=\"344.53125\" xlink:href=\"#DejaVuSans-109\"/>\n     <use x=\"441.943359\" xlink:href=\"#DejaVuSans-98\"/>\n     <use x=\"505.419922\" xlink:href=\"#DejaVuSans-101\"/>\n     <use x=\"566.943359\" xlink:href=\"#DejaVuSans-114\"/>\n     <use x=\"608.056641\" xlink:href=\"#DejaVuSans-32\"/>\n     <use x=\"639.84375\" xlink:href=\"#DejaVuSans-34\"/>\n     <use x=\"685.839844\" xlink:href=\"#DejaVuSans-54\"/>\n     <use x=\"749.462891\" xlink:href=\"#DejaVuSans-34\"/>\n    </g>\n   </g>\n  </g>\n  <g id=\"axes_4\">\n   <g id=\"patch_17\">\n    <path d=\"M 329.168293 109.261852 \nL 417.631707 109.261852 \nL 417.631707 20.798437 \nL 329.168293 20.798437 \nz\n\" style=\"fill:#ffffff;\"/>\n   </g>\n   <g clip-path=\"url(#pd26ab5fa47)\">\n    <image height=\"89\" id=\"image9f248fac73\" transform=\"scale(1 -1)translate(0 -89)\" width=\"89\" x=\"329.168293\" xlink:href=\"data:image/png;base64,\niVBORw0KGgoAAAANSUhEUgAAAFkAAABZCAYAAABVC4ivAAAABHNCSVQICAgIfAhkiAAAA8lJREFUeJztnb1KM0EUhieJooWo4B9WBjURFEGwDWIlWAgS0uQO9Aa8Ar0DQS9AsRcrS3+wFk3qKBb+JGrSRPHv645nQ8bsZ2bf9ft8n+oNO7tneTl7nJndGSPGmA9DAiUa9g38BmgygJawb8Al0Wi0rn5/f6+rUTCTAdBkAE7LRSQSET0+Pm5tl8vlnMXs7e0Vvba2JjqVSone2NgQvb6+7iy2X5jJAGgyAJoMwGlN/vj4HDxeXV25vLSV7u5u0TMzM6JHRkZE9/T0QO7FBjMZAE0GENiIr1wuB3VpK3qU95P4mXf1n0GTAdBkADQZAE0GQJMB0GQANBkATQZAkwHQZAA0GQBNBkCTAdBkADQZAE0GQJMB0GQANBkATQbg9G11e3u7aP1BSalU8rR7enpyFjMWizVs09nZKbq1tdVzTH+Qo3l9fW3uxhTMZAA0GUDENLn6ST+u+/v7oqenp0UXCgXPOaurq6LPzs5Ev7291Y3R1dUlWn/vZowxs7Ozoufm5kS3tbWJfn5+Fn15eVk3Rm27hYUF0RcXF9Zz/MBMBkCTATRdLlpaPjsoeplCIpGwnnN3dyf68fGxYQzdIxgYGPAc02XBz7dwtSVJ93wODg5ELy0tib6/v2943a9gJgOgyQBoMgCnI75KpeKrXX9/v+i+vr6G7b9aUWpbYWpbkbq8vOxpt7u7K1rXZ1t38jswkwHQZABNlws9kbK3tyd6YmJCtJ44MsY7KaMfZT0ae3l5Ea1HhV+tZp2amhKtR2w6xuHhoeec29tb6/VcwUwGQJMBOO1d7OzsiM5ms6KTyaSnnf7Lvbm5KXplZUW0Lhd+96sYGxsTPT8/X7dNR0eH9fygYCYDoMkAnJaLh4cH0efn56JHR0c97fS+GIODg6L1fO53trGxDSD0JFbtfPTp6alol6+cNMxkADQZgNNyocf+29vbovVWNcZ45y4mJydF2+Yb/KIfd9070eVCv7lGwUwGQJMBOC0X+hE/Pj4WfXR05GmXTqddhhVubm7q6ng8Hkg8vzCTAdBkADQZQGDb4xSLRdG6O2eMMYuLi4HE1N02rcOGmQyAJgMIrFzo7lw+n7ce+w0wkwHQZACQ7db1PHHt7zA26UPDTAZAkwFAysX19bXn98nJieitrS3RQb3+CRtmMgCaDABSLmoXR2YyGdHVatVZHD3I0W+hh4eHncX4DsxkADQZQCj/+8nvF/l/iy4XutcyNDQkunadt21ttUuYyQBoMgCaDKDpFan/AvoLIr+rp1zCTAZAkwH8inIRNsxkADQZwB84wiDHifCqKwAAAABJRU5ErkJggg==\" y=\"-20.261852\"/>\n   </g>\n   <g id=\"matplotlib.axis_7\"/>\n   <g id=\"matplotlib.axis_8\"/>\n   <g id=\"patch_18\">\n    <path d=\"M 329.168293 109.261852 \nL 329.168293 20.798437 \n\" style=\"fill:none;stroke:#000000;stroke-linecap:square;stroke-linejoin:miter;stroke-width:0.8;\"/>\n   </g>\n   <g id=\"patch_19\">\n    <path d=\"M 417.631707 109.261852 \nL 417.631707 20.798437 \n\" style=\"fill:none;stroke:#000000;stroke-linecap:square;stroke-linejoin:miter;stroke-width:0.8;\"/>\n   </g>\n   <g id=\"patch_20\">\n    <path d=\"M 329.168293 109.261852 \nL 417.631707 109.261852 \n\" style=\"fill:none;stroke:#000000;stroke-linecap:square;stroke-linejoin:miter;stroke-width:0.8;\"/>\n   </g>\n   <g id=\"patch_21\">\n    <path d=\"M 329.168293 20.798437 \nL 417.631707 20.798437 \n\" style=\"fill:none;stroke:#000000;stroke-linecap:square;stroke-linejoin:miter;stroke-width:0.8;\"/>\n   </g>\n   <g id=\"text_4\">\n    <!-- The number \"4\" -->\n    <defs>\n     <path d=\"M 37.796875 64.3125 \nL 12.890625 25.390625 \nL 37.796875 25.390625 \nz\nM 35.203125 72.90625 \nL 47.609375 72.90625 \nL 47.609375 25.390625 \nL 58.015625 25.390625 \nL 58.015625 17.1875 \nL 47.609375 17.1875 \nL 47.609375 0 \nL 37.796875 0 \nL 37.796875 17.1875 \nL 4.890625 17.1875 \nL 4.890625 26.703125 \nz\n\" id=\"DejaVuSans-52\"/>\n    </defs>\n    <g transform=\"translate(333.627344 14.798437)scale(0.1 -0.1)\">\n     <use xlink:href=\"#DejaVuSans-84\"/>\n     <use x=\"61.083984\" xlink:href=\"#DejaVuSans-104\"/>\n     <use x=\"124.462891\" xlink:href=\"#DejaVuSans-101\"/>\n     <use x=\"185.986328\" xlink:href=\"#DejaVuSans-32\"/>\n     <use x=\"217.773438\" xlink:href=\"#DejaVuSans-110\"/>\n     <use x=\"281.152344\" xlink:href=\"#DejaVuSans-117\"/>\n     <use x=\"344.53125\" xlink:href=\"#DejaVuSans-109\"/>\n     <use x=\"441.943359\" xlink:href=\"#DejaVuSans-98\"/>\n     <use x=\"505.419922\" xlink:href=\"#DejaVuSans-101\"/>\n     <use x=\"566.943359\" xlink:href=\"#DejaVuSans-114\"/>\n     <use x=\"608.056641\" xlink:href=\"#DejaVuSans-32\"/>\n     <use x=\"639.84375\" xlink:href=\"#DejaVuSans-34\"/>\n     <use x=\"685.839844\" xlink:href=\"#DejaVuSans-52\"/>\n     <use x=\"749.462891\" xlink:href=\"#DejaVuSans-34\"/>\n    </g>\n   </g>\n  </g>\n  <g id=\"axes_5\">\n   <g id=\"patch_22\">\n    <path d=\"M 435.32439 109.261852 \nL 523.787805 109.261852 \nL 523.787805 20.798437 \nL 435.32439 20.798437 \nz\n\" style=\"fill:#ffffff;\"/>\n   </g>\n   <g clip-path=\"url(#p9c46d2baa8)\">\n    <image height=\"89\" id=\"image4715303a09\" transform=\"scale(1 -1)translate(0 -89)\" width=\"89\" x=\"435.32439\" xlink:href=\"data:image/png;base64,\niVBORw0KGgoAAAANSUhEUgAAAFkAAABZCAYAAABVC4ivAAAABHNCSVQICAgIfAhkiAAABVJJREFUeJztnMsrtV8Ux5dbGJBrEnKLgbsyMBEDikxkIAMDZSATSUxFJiZm/gADI8KAkpBLCgMyoETuhJK7cvfO1vvdz+88vx/HOYvjtz6jj/Oe/TjWuyxr72fvx4uI3klxK97f/QH+D2iQBfD96gW8vf/+P3l5ebG/vr5+9dK/Bs1kATTIAjhVLvz9/dlLSkrY4+Pj2QcGBtgvLi6M8S8vL858W49FM1kADbIAGmQBnKrJMTEx7G1tbexxcXHsqamp7Ht7e8b42dlZ9sPDQ/bLy0v231S3NZMF0CAL8OFygbO55ORk9ujoaPaoqCj2hoYG9ufnZ+NaJycn7Kurq+wLCwvsExMT7FtbW7bXQn5qidFMFkCDLIAXObGenJOTw44zOywjH+Xt7Y398fGRHUvE5OQk++3trTH+5uaGfW5ujv36+pody8jp6akx/uHh4dOf+bNoJgugQRbAqcnI0dER+/T0NHtQUBB7eHg4u4+Pj+21cD06MDCQPSsriz0tLc12PHYbZ2dnDl/HkjIyMmKM7+vrY9/f32d35Xq4ZrIAGmQBnOoucGISGRnJXlBQwF5dXe3wdesYvNZHwG7ECpYeO+7v742vsXPp7e1lHx8fZ/9qB6KZLIAGWQCnyoUd2EVgd1FWVma8r6mpiR07Bz8/P4fXfXp6Yp+amjL+DScweK3Q0FD2kJAQdmt5en//++Njd9HR0cE+ODjI7kzp0EwWQIMsgAZZAJfWZDtwCwERUV5eHntXV5fD13EMLvZgrSQiGhoaYg8ICGBPT09nz8jIYPf1NSe5+L7s7Gx2nCU2Nzez4yIU1vN/QzNZAA2yACLlwgq2ath2tbS0sFdWVrJjGdjZ2TGu1d7ezo6lA1s7u02RRGZ7h3fbc3Nz2fFW2MHBgfXH+U80kwXQIAvwLeXC+ADw65uUlMSOZaCiooId15yJiHZ3dx2O+eosDWevX11b1kwWQIMswLeXCwRLB+51rqurY6+vrzfG4ELU9vY2e2trK/vo6Cj7dxyz0EwWQIMswJdPP7kSXAvA7bY9PT3suN+OyOw8EhMT2Wtra9nX19fZsaRYv6e70EwWQIMsgAZZgB/Vwn0E63ow1mSs3bjtYHl5mb2qqsoYbz1q4Q40kwXQIAvwo1q4j2A9soC3g8bGxtixLERERDh0InMbgLvaOc1kATTIAnhcd2HF7lRWd3c3e3FxMXt/f78xHheSzs/P3fERNZMl0CAL4HHdhRW7DYMrKyvspaWl7Pn5+cZ4vFut5cKD0SAL4NJygX/pw8LCHL5ORHR1dcVudx4a98LhBML6K42bWPDWEq4h4166jxx5cDWayQJokAVwabnAO8ednZ0OXyciWlpaYp+ZmWG/u7tjxy6gpqaGHQ83EhHNz8+z4yYWLFffjWayABpkATTIAri0JuPsqaioiD0lJcV4X3l5ObvdoXM8Iob1FY8cEJmH6bG9wwPwOB5nhUQyj9TRTBZAgyyA2xaIcGZlnWXhHuOEhIRPXdd6+wi/xsUinGVia4ebD4n++bgcd6CZLIAGWQCXlgv8S318fMweGxtrvA9PP1k3q3wWLAvoWDo2NzfZh4eHjfH6NK1fggZZAJeWCywRjY2N7PhIdiLz0cCFhYXswcHBDq+Lkxx0IvOUEnYxWLrsnvsphWayABpkAVxaLnDtYW1tjX1jY8N4H3YXeDwBOw0sA3j+GtckiIgyMzPZcV0DH6mD++XwdpUUmskCaJAF8Ii9cNg1WJ/7id0Gdi34+uLiIrvE5MOKZrIAGmQBNMgCeERNdga7xaLvQDNZAA2yAL+2XPwkNJMF0CAL8AcQRqol/682XAAAAABJRU5ErkJggg==\" y=\"-20.261852\"/>\n   </g>\n   <g id=\"matplotlib.axis_9\"/>\n   <g id=\"matplotlib.axis_10\"/>\n   <g id=\"patch_23\">\n    <path d=\"M 435.32439 109.261852 \nL 435.32439 20.798437 \n\" style=\"fill:none;stroke:#000000;stroke-linecap:square;stroke-linejoin:miter;stroke-width:0.8;\"/>\n   </g>\n   <g id=\"patch_24\">\n    <path d=\"M 523.787805 109.261852 \nL 523.787805 20.798437 \n\" style=\"fill:none;stroke:#000000;stroke-linecap:square;stroke-linejoin:miter;stroke-width:0.8;\"/>\n   </g>\n   <g id=\"patch_25\">\n    <path d=\"M 435.32439 109.261852 \nL 523.787805 109.261852 \n\" style=\"fill:none;stroke:#000000;stroke-linecap:square;stroke-linejoin:miter;stroke-width:0.8;\"/>\n   </g>\n   <g id=\"patch_26\">\n    <path d=\"M 435.32439 20.798437 \nL 523.787805 20.798437 \n\" style=\"fill:none;stroke:#000000;stroke-linecap:square;stroke-linejoin:miter;stroke-width:0.8;\"/>\n   </g>\n   <g id=\"text_5\">\n    <!-- The number \"2\" -->\n    <defs>\n     <path d=\"M 19.1875 8.296875 \nL 53.609375 8.296875 \nL 53.609375 0 \nL 7.328125 0 \nL 7.328125 8.296875 \nQ 12.9375 14.109375 22.625 23.890625 \nQ 32.328125 33.6875 34.8125 36.53125 \nQ 39.546875 41.84375 41.421875 45.53125 \nQ 43.3125 49.21875 43.3125 52.78125 \nQ 43.3125 58.59375 39.234375 62.25 \nQ 35.15625 65.921875 28.609375 65.921875 \nQ 23.96875 65.921875 18.8125 64.3125 \nQ 13.671875 62.703125 7.8125 59.421875 \nL 7.8125 69.390625 \nQ 13.765625 71.78125 18.9375 73 \nQ 24.125 74.21875 28.421875 74.21875 \nQ 39.75 74.21875 46.484375 68.546875 \nQ 53.21875 62.890625 53.21875 53.421875 \nQ 53.21875 48.921875 51.53125 44.890625 \nQ 49.859375 40.875 45.40625 35.40625 \nQ 44.1875 33.984375 37.640625 27.21875 \nQ 31.109375 20.453125 19.1875 8.296875 \nz\n\" id=\"DejaVuSans-50\"/>\n    </defs>\n    <g transform=\"translate(439.783441 14.798437)scale(0.1 -0.1)\">\n     <use xlink:href=\"#DejaVuSans-84\"/>\n     <use x=\"61.083984\" xlink:href=\"#DejaVuSans-104\"/>\n     <use x=\"124.462891\" xlink:href=\"#DejaVuSans-101\"/>\n     <use x=\"185.986328\" xlink:href=\"#DejaVuSans-32\"/>\n     <use x=\"217.773438\" xlink:href=\"#DejaVuSans-110\"/>\n     <use x=\"281.152344\" xlink:href=\"#DejaVuSans-117\"/>\n     <use x=\"344.53125\" xlink:href=\"#DejaVuSans-109\"/>\n     <use x=\"441.943359\" xlink:href=\"#DejaVuSans-98\"/>\n     <use x=\"505.419922\" xlink:href=\"#DejaVuSans-101\"/>\n     <use x=\"566.943359\" xlink:href=\"#DejaVuSans-114\"/>\n     <use x=\"608.056641\" xlink:href=\"#DejaVuSans-32\"/>\n     <use x=\"639.84375\" xlink:href=\"#DejaVuSans-34\"/>\n     <use x=\"685.839844\" xlink:href=\"#DejaVuSans-50\"/>\n     <use x=\"749.462891\" xlink:href=\"#DejaVuSans-34\"/>\n    </g>\n   </g>\n  </g>\n  <g id=\"axes_6\">\n   <g id=\"patch_27\">\n    <path d=\"M 541.480488 109.261852 \nL 629.943902 109.261852 \nL 629.943902 20.798437 \nL 541.480488 20.798437 \nz\n\" style=\"fill:#ffffff;\"/>\n   </g>\n   <g clip-path=\"url(#p352d2bbc9b)\">\n    <image height=\"89\" id=\"image30a7e273a0\" transform=\"scale(1 -1)translate(0 -89)\" width=\"89\" x=\"541.480488\" xlink:href=\"data:image/png;base64,\niVBORw0KGgoAAAANSUhEUgAAAFkAAABZCAYAAABVC4ivAAAABHNCSVQICAgIfAhkiAAABQ9JREFUeJztnEsodVEUx7fPm7wllJIyQChDCiUGlMeUiAElMTVgRJlQkgyMGJiYUJhIeRcDySsieYvyfr/5Zv9v7RO+61533S7rN/qdrnPPabXOsvfa+1wHpdSbEqzKH1vfwG9AgsyAk61v4Ks4Ojpqxw4ODvDn52fu2zEJyWQGJMgM2EW5+PPnXy6UlZVpn7m5ucF7e3vh29vb8Lc32w6gJJMZkCAzIEFmwC5qMiUlJUU7TktLg/v7+8ObmprgFxcX1r+xT5BMZkCCzIBdlIvX11f46uqq9llCQgJ8aGgIfnt7a/0bMxHJZAYkyAzYRbmgGJtAdDZ3c3MDf3p6Yrun/yGZzIAEmQG7KxdLS0vasaurKzw5ORk+Pz8Pt3WfWTKZAQkyA3ZXLlZWVrRjOqLw9vbmvh2TkExmQILMgN2Vi7CwMO3Y09MTTpep6Cq2rZFMZkCCzIAEmQG7q8k7Ozva8cPDAzwzMxPe0dEB39rasvp9fYZkMgMSZAYsLhcuLi5wDw8P+PX1Nfw7GzQvLy/aMV2aoqvVAQEBcCkXvwAJMgNmlQtaIvLy8uAZGRnw5eVlOF1FVkpfcaajA1M4Pz/Xjqenp+E5OTnw1NRUuK17y5LJDEiQGXBQZrz95OvrC29sbIQXFhbC6ShgbW1NO5/uU6N7ik3ZkEKbQErpS06dnZ3wmZkZeHl5Ofzo6Oi/1/huJJMZkCAzYNbo4urqCj44OAjPzs6GBwUFwePi4rTz6+rq4JGRkfC+vj747u4u/OzsDE4nH0op5efnB3d3d4fHxMTAfXx84FIufigSZAYkyAyYVZPp8Gx2dhZO62hgYCCc1lSl9FlXSUkJvKCgAE5naVNTU/D+/n7tu6Kjo+FeXl5w48zQlkgmMyBBZsDifvLBwQF8eHgYHhUVBTc+4i0tLfD4+Hh4RUUFPCkpCZ6eng6nJUUpfUhHG1fOzs5wOkM1vgBv7E9bA8lkBiTIDJjVIKLQhg19kbGmpgZOl4WUUqq4uBhOm0ehoaFwWkYSExPhubm52ncFBwfD6W4i2qems9Kuri7tfDo6oqXPyelfJb27u4Ob04+WTGZAgsyAxeWCQv+7V1VVwaurq7W/a2hogLe2tsLpo0jLEH1lgY5alNKbUkVFRfDw8HD4/f09fHFxUTt/Y2MDPjo6Ct/f34ePjY3BaXPMVCSTGZAgM/Cte+EeHx/hIyMj8NLSUu3vaH/3o33EdJJB/7vT0YBS+uiE9i4qKyvhh4eH8NraWu38zc1NOC1Xl5eXcLpRxxwkkxmQIDNgta2zJycn8L29Pe2zrKwseE9PD3xhYeHL16EjB/qI03IzNzf3rivFsxwlmcyABJkBCTIDVqvJdMZUX1+vfdbW1ganmwTpcIzWWntHMpkBCTIDVisX9OdpjEM4OsujfWM6YzOnXNBhG/3ZHLqiTXccKSVDuB+DBJkBm78sGRERAae/V2HqY0xLxOTk5LtONx9SV0qp9fX1d7/rO5FMZkCCzABLuTD+tC59M4quRMfGxsJpn/ezx5h+NjExAW9vb4c3NzfDjXulBwYGTLqOJUgmMyBBZoClXBi3zo6Pj8NDQkLglv6+Jl0+or1puo3WuNpNl8KOj48tuv5HSCYzIEFm4Fs3t5gK3RtHJyB0L9pX37n+7Br5+flw41bZ7u5u+OnpqUXX/AjJZAYkyAxIkBmwSU3mxvgKA0VeZ/ghSJAZ+BXlwtZIJjMgQWbgL8WPtpeCdVVhAAAAAElFTkSuQmCC\" y=\"-20.261852\"/>\n   </g>\n   <g id=\"matplotlib.axis_11\"/>\n   <g id=\"matplotlib.axis_12\"/>\n   <g id=\"patch_28\">\n    <path d=\"M 541.480488 109.261852 \nL 541.480488 20.798437 \n\" style=\"fill:none;stroke:#000000;stroke-linecap:square;stroke-linejoin:miter;stroke-width:0.8;\"/>\n   </g>\n   <g id=\"patch_29\">\n    <path d=\"M 629.943902 109.261852 \nL 629.943902 20.798437 \n\" style=\"fill:none;stroke:#000000;stroke-linecap:square;stroke-linejoin:miter;stroke-width:0.8;\"/>\n   </g>\n   <g id=\"patch_30\">\n    <path d=\"M 541.480488 109.261852 \nL 629.943902 109.261852 \n\" style=\"fill:none;stroke:#000000;stroke-linecap:square;stroke-linejoin:miter;stroke-width:0.8;\"/>\n   </g>\n   <g id=\"patch_31\">\n    <path d=\"M 541.480488 20.798437 \nL 629.943902 20.798437 \n\" style=\"fill:none;stroke:#000000;stroke-linecap:square;stroke-linejoin:miter;stroke-width:0.8;\"/>\n   </g>\n   <g id=\"text_6\">\n    <!-- The number \"4\" -->\n    <g transform=\"translate(545.939539 14.798437)scale(0.1 -0.1)\">\n     <use xlink:href=\"#DejaVuSans-84\"/>\n     <use x=\"61.083984\" xlink:href=\"#DejaVuSans-104\"/>\n     <use x=\"124.462891\" xlink:href=\"#DejaVuSans-101\"/>\n     <use x=\"185.986328\" xlink:href=\"#DejaVuSans-32\"/>\n     <use x=\"217.773438\" xlink:href=\"#DejaVuSans-110\"/>\n     <use x=\"281.152344\" xlink:href=\"#DejaVuSans-117\"/>\n     <use x=\"344.53125\" xlink:href=\"#DejaVuSans-109\"/>\n     <use x=\"441.943359\" xlink:href=\"#DejaVuSans-98\"/>\n     <use x=\"505.419922\" xlink:href=\"#DejaVuSans-101\"/>\n     <use x=\"566.943359\" xlink:href=\"#DejaVuSans-114\"/>\n     <use x=\"608.056641\" xlink:href=\"#DejaVuSans-32\"/>\n     <use x=\"639.84375\" xlink:href=\"#DejaVuSans-34\"/>\n     <use x=\"685.839844\" xlink:href=\"#DejaVuSans-52\"/>\n     <use x=\"749.462891\" xlink:href=\"#DejaVuSans-34\"/>\n    </g>\n   </g>\n  </g>\n  <g id=\"axes_7\">\n   <g id=\"patch_32\">\n    <path d=\"M 647.636585 109.261852 \nL 736.1 109.261852 \nL 736.1 20.798437 \nL 647.636585 20.798437 \nz\n\" style=\"fill:#ffffff;\"/>\n   </g>\n   <g clip-path=\"url(#pc29a846ab4)\">\n    <image height=\"89\" id=\"image974c00be19\" transform=\"scale(1 -1)translate(0 -89)\" width=\"89\" x=\"647.636585\" xlink:href=\"data:image/png;base64,\niVBORw0KGgoAAAANSUhEUgAAAFkAAABZCAYAAABVC4ivAAAABHNCSVQICAgIfAhkiAAAAsNJREFUeJztnb3OKWEUhcdPQucvCtUnEg1uwS1ItO5AodK6KVHoJS6AUImWIOInoiGcbp9tIuJ8jjV7WE+1EjPJzsqelW3mfWcCjuNcHfJWgl4X8A3QZAA0GQBNBkCTAYS9LkCTTCbv6vP5LPpwONycs16vRV+vNgcldjIAmgyAJgPwPJNDoZDoWq0mul6vi9Y5PBgMbs5vtVqil8vlO0p8GXYyAJoMwPO4CAQColOplOh8Pn/3mJ+fn5vzu92u6Ha7LfpyufzXOl+BnQyAJgPwPC6eQU8giUTi5rdSqSS60+mIZlx8GTQZgC/iQqMnDcdxnGDQfp/Yr/ADoMkAaDIAmgyAJgPw3XThRk8X7snDCuxkADQZAE0GYCqT9/u96NPpJDoc/lum+x9esVgUHY/HRa9Wq3eU+CvYyQBoMgDP40KvDur1eqIXi4XobDYr+lFcxGIx0YyLL4MmA/A8LjS73U60ni4ewfvJxHEcmgzBVFxoLD1tfhV2MgCaDMBUXOjpYjwei9br4vwwTbjxX8U+hCYDoMkATGXydrsVrTO5UqmIZiaTu9BkAKbiQu8o5T8+8k/QZACm4uJV9LYHS7CTAdBkAL6PC72gpVAoiJ5MJqK9nlTYyQBoMgBTcaHXFz97j0LHhdWNk+xkADQZgKm40Je+XuP2KDp+EzFobFb1YdBkADQZgKlM1uuLn81kP+Dv6n0CTQZgNi4ikcjdY9y7Tv3wyIqdDIAmA/A8LvQjo3K5LDqdTt893v2O5M1mI3o0Gom2FB3sZAA0GYDncaEv/+l0Kno+n4vO5XKi3bui9Ls6+/2+aMbFl0GTAQQcQ99+ikajoqvVquhGoyH6eDzenNNsNkUPh0PRlr7UwE4GQJMBmIoLjb53kclkRLtjYDabiX52PzYadjIAmgyAJgMwm8mfBDsZAE0GQJMB0GQANBnAHziYoq/MUQ4LAAAAAElFTkSuQmCC\" y=\"-20.261852\"/>\n   </g>\n   <g id=\"matplotlib.axis_13\"/>\n   <g id=\"matplotlib.axis_14\"/>\n   <g id=\"patch_33\">\n    <path d=\"M 647.636585 109.261852 \nL 647.636585 20.798437 \n\" style=\"fill:none;stroke:#000000;stroke-linecap:square;stroke-linejoin:miter;stroke-width:0.8;\"/>\n   </g>\n   <g id=\"patch_34\">\n    <path d=\"M 736.1 109.261852 \nL 736.1 20.798437 \n\" style=\"fill:none;stroke:#000000;stroke-linecap:square;stroke-linejoin:miter;stroke-width:0.8;\"/>\n   </g>\n   <g id=\"patch_35\">\n    <path d=\"M 647.636585 109.261852 \nL 736.1 109.261852 \n\" style=\"fill:none;stroke:#000000;stroke-linecap:square;stroke-linejoin:miter;stroke-width:0.8;\"/>\n   </g>\n   <g id=\"patch_36\">\n    <path d=\"M 647.636585 20.798437 \nL 736.1 20.798437 \n\" style=\"fill:none;stroke:#000000;stroke-linecap:square;stroke-linejoin:miter;stroke-width:0.8;\"/>\n   </g>\n   <g id=\"text_7\">\n    <!-- The number \"1\" -->\n    <defs>\n     <path d=\"M 12.40625 8.296875 \nL 28.515625 8.296875 \nL 28.515625 63.921875 \nL 10.984375 60.40625 \nL 10.984375 69.390625 \nL 28.421875 72.90625 \nL 38.28125 72.90625 \nL 38.28125 8.296875 \nL 54.390625 8.296875 \nL 54.390625 0 \nL 12.40625 0 \nz\n\" id=\"DejaVuSans-49\"/>\n    </defs>\n    <g transform=\"translate(652.095636 14.798437)scale(0.1 -0.1)\">\n     <use xlink:href=\"#DejaVuSans-84\"/>\n     <use x=\"61.083984\" xlink:href=\"#DejaVuSans-104\"/>\n     <use x=\"124.462891\" xlink:href=\"#DejaVuSans-101\"/>\n     <use x=\"185.986328\" xlink:href=\"#DejaVuSans-32\"/>\n     <use x=\"217.773438\" xlink:href=\"#DejaVuSans-110\"/>\n     <use x=\"281.152344\" xlink:href=\"#DejaVuSans-117\"/>\n     <use x=\"344.53125\" xlink:href=\"#DejaVuSans-109\"/>\n     <use x=\"441.943359\" xlink:href=\"#DejaVuSans-98\"/>\n     <use x=\"505.419922\" xlink:href=\"#DejaVuSans-101\"/>\n     <use x=\"566.943359\" xlink:href=\"#DejaVuSans-114\"/>\n     <use x=\"608.056641\" xlink:href=\"#DejaVuSans-32\"/>\n     <use x=\"639.84375\" xlink:href=\"#DejaVuSans-34\"/>\n     <use x=\"685.839844\" xlink:href=\"#DejaVuSans-49\"/>\n     <use x=\"749.462891\" xlink:href=\"#DejaVuSans-34\"/>\n    </g>\n   </g>\n  </g>\n  <g id=\"axes_8\">\n   <g id=\"patch_37\">\n    <path d=\"M 10.7 224.377146 \nL 99.163415 224.377146 \nL 99.163415 135.913732 \nL 10.7 135.913732 \nz\n\" style=\"fill:#ffffff;\"/>\n   </g>\n   <g clip-path=\"url(#p17840b286e)\">\n    <image height=\"89\" id=\"image9e246dc597\" transform=\"scale(1 -1)translate(0 -89)\" width=\"89\" x=\"10.7\" xlink:href=\"data:image/png;base64,\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\" y=\"-135.377146\"/>\n   </g>\n   <g id=\"matplotlib.axis_15\"/>\n   <g id=\"matplotlib.axis_16\"/>\n   <g id=\"patch_38\">\n    <path d=\"M 10.7 224.377146 \nL 10.7 135.913732 \n\" style=\"fill:none;stroke:#000000;stroke-linecap:square;stroke-linejoin:miter;stroke-width:0.8;\"/>\n   </g>\n   <g id=\"patch_39\">\n    <path d=\"M 99.163415 224.377146 \nL 99.163415 135.913732 \n\" style=\"fill:none;stroke:#000000;stroke-linecap:square;stroke-linejoin:miter;stroke-width:0.8;\"/>\n   </g>\n   <g id=\"patch_40\">\n    <path d=\"M 10.7 224.377146 \nL 99.163415 224.377146 \n\" style=\"fill:none;stroke:#000000;stroke-linecap:square;stroke-linejoin:miter;stroke-width:0.8;\"/>\n   </g>\n   <g id=\"patch_41\">\n    <path d=\"M 10.7 135.913732 \nL 99.163415 135.913732 \n\" style=\"fill:none;stroke:#000000;stroke-linecap:square;stroke-linejoin:miter;stroke-width:0.8;\"/>\n   </g>\n   <g id=\"text_8\">\n    <!-- The number \"8\" -->\n    <defs>\n     <path d=\"M 31.78125 34.625 \nQ 24.75 34.625 20.71875 30.859375 \nQ 16.703125 27.09375 16.703125 20.515625 \nQ 16.703125 13.921875 20.71875 10.15625 \nQ 24.75 6.390625 31.78125 6.390625 \nQ 38.8125 6.390625 42.859375 10.171875 \nQ 46.921875 13.96875 46.921875 20.515625 \nQ 46.921875 27.09375 42.890625 30.859375 \nQ 38.875 34.625 31.78125 34.625 \nz\nM 21.921875 38.8125 \nQ 15.578125 40.375 12.03125 44.71875 \nQ 8.5 49.078125 8.5 55.328125 \nQ 8.5 64.0625 14.71875 69.140625 \nQ 20.953125 74.21875 31.78125 74.21875 \nQ 42.671875 74.21875 48.875 69.140625 \nQ 55.078125 64.0625 55.078125 55.328125 \nQ 55.078125 49.078125 51.53125 44.71875 \nQ 48 40.375 41.703125 38.8125 \nQ 48.828125 37.15625 52.796875 32.3125 \nQ 56.78125 27.484375 56.78125 20.515625 \nQ 56.78125 9.90625 50.3125 4.234375 \nQ 43.84375 -1.421875 31.78125 -1.421875 \nQ 19.734375 -1.421875 13.25 4.234375 \nQ 6.78125 9.90625 6.78125 20.515625 \nQ 6.78125 27.484375 10.78125 32.3125 \nQ 14.796875 37.15625 21.921875 38.8125 \nz\nM 18.3125 54.390625 \nQ 18.3125 48.734375 21.84375 45.5625 \nQ 25.390625 42.390625 31.78125 42.390625 \nQ 38.140625 42.390625 41.71875 45.5625 \nQ 45.3125 48.734375 45.3125 54.390625 \nQ 45.3125 60.0625 41.71875 63.234375 \nQ 38.140625 66.40625 31.78125 66.40625 \nQ 25.390625 66.40625 21.84375 63.234375 \nQ 18.3125 60.0625 18.3125 54.390625 \nz\n\" id=\"DejaVuSans-56\"/>\n    </defs>\n    <g transform=\"translate(15.159051 129.913732)scale(0.1 -0.1)\">\n     <use xlink:href=\"#DejaVuSans-84\"/>\n     <use x=\"61.083984\" xlink:href=\"#DejaVuSans-104\"/>\n     <use x=\"124.462891\" xlink:href=\"#DejaVuSans-101\"/>\n     <use x=\"185.986328\" xlink:href=\"#DejaVuSans-32\"/>\n     <use x=\"217.773438\" xlink:href=\"#DejaVuSans-110\"/>\n     <use x=\"281.152344\" xlink:href=\"#DejaVuSans-117\"/>\n     <use x=\"344.53125\" xlink:href=\"#DejaVuSans-109\"/>\n     <use x=\"441.943359\" xlink:href=\"#DejaVuSans-98\"/>\n     <use x=\"505.419922\" xlink:href=\"#DejaVuSans-101\"/>\n     <use x=\"566.943359\" xlink:href=\"#DejaVuSans-114\"/>\n     <use x=\"608.056641\" xlink:href=\"#DejaVuSans-32\"/>\n     <use x=\"639.84375\" xlink:href=\"#DejaVuSans-34\"/>\n     <use x=\"685.839844\" xlink:href=\"#DejaVuSans-56\"/>\n     <use x=\"749.462891\" xlink:href=\"#DejaVuSans-34\"/>\n    </g>\n   </g>\n  </g>\n  <g id=\"axes_9\">\n   <g id=\"patch_42\">\n    <path d=\"M 116.856098 224.377146 \nL 205.319512 224.377146 \nL 205.319512 135.913732 \nL 116.856098 135.913732 \nz\n\" style=\"fill:#ffffff;\"/>\n   </g>\n   <g clip-path=\"url(#p1df53d3f72)\">\n    <image height=\"89\" id=\"image65768c696d\" transform=\"scale(1 -1)translate(0 -89)\" width=\"89\" x=\"116.856098\" xlink:href=\"data:image/png;base64,\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\" y=\"-135.377146\"/>\n   </g>\n   <g id=\"matplotlib.axis_17\"/>\n   <g id=\"matplotlib.axis_18\"/>\n   <g id=\"patch_43\">\n    <path d=\"M 116.856098 224.377146 \nL 116.856098 135.913732 \n\" style=\"fill:none;stroke:#000000;stroke-linecap:square;stroke-linejoin:miter;stroke-width:0.8;\"/>\n   </g>\n   <g id=\"patch_44\">\n    <path d=\"M 205.319512 224.377146 \nL 205.319512 135.913732 \n\" style=\"fill:none;stroke:#000000;stroke-linecap:square;stroke-linejoin:miter;stroke-width:0.8;\"/>\n   </g>\n   <g id=\"patch_45\">\n    <path d=\"M 116.856098 224.377146 \nL 205.319512 224.377146 \n\" style=\"fill:none;stroke:#000000;stroke-linecap:square;stroke-linejoin:miter;stroke-width:0.8;\"/>\n   </g>\n   <g id=\"patch_46\">\n    <path d=\"M 116.856098 135.913732 \nL 205.319512 135.913732 \n\" style=\"fill:none;stroke:#000000;stroke-linecap:square;stroke-linejoin:miter;stroke-width:0.8;\"/>\n   </g>\n   <g id=\"text_9\">\n    <!-- The number \"6\" -->\n    <g transform=\"translate(121.315149 129.913732)scale(0.1 -0.1)\">\n     <use xlink:href=\"#DejaVuSans-84\"/>\n     <use x=\"61.083984\" xlink:href=\"#DejaVuSans-104\"/>\n     <use x=\"124.462891\" xlink:href=\"#DejaVuSans-101\"/>\n     <use x=\"185.986328\" xlink:href=\"#DejaVuSans-32\"/>\n     <use x=\"217.773438\" xlink:href=\"#DejaVuSans-110\"/>\n     <use x=\"281.152344\" xlink:href=\"#DejaVuSans-117\"/>\n     <use x=\"344.53125\" xlink:href=\"#DejaVuSans-109\"/>\n     <use x=\"441.943359\" xlink:href=\"#DejaVuSans-98\"/>\n     <use x=\"505.419922\" xlink:href=\"#DejaVuSans-101\"/>\n     <use x=\"566.943359\" xlink:href=\"#DejaVuSans-114\"/>\n     <use x=\"608.056641\" xlink:href=\"#DejaVuSans-32\"/>\n     <use x=\"639.84375\" xlink:href=\"#DejaVuSans-34\"/>\n     <use x=\"685.839844\" xlink:href=\"#DejaVuSans-54\"/>\n     <use x=\"749.462891\" xlink:href=\"#DejaVuSans-34\"/>\n    </g>\n   </g>\n  </g>\n  <g id=\"axes_10\">\n   <g id=\"patch_47\">\n    <path d=\"M 223.012195 224.377146 \nL 311.47561 224.377146 \nL 311.47561 135.913732 \nL 223.012195 135.913732 \nz\n\" style=\"fill:#ffffff;\"/>\n   </g>\n   <g clip-path=\"url(#p5c21db9a43)\">\n    <image height=\"89\" id=\"image4fb7adfac6\" transform=\"scale(1 -1)translate(0 -89)\" width=\"89\" x=\"223.012195\" xlink:href=\"data:image/png;base64,\niVBORw0KGgoAAAANSUhEUgAAAFkAAABZCAYAAABVC4ivAAAABHNCSVQICAgIfAhkiAAABH5JREFUeJztnMsrdVEYxtdxJ7cikXLJrdySlFKkGLjlMjDzZ8jQXKZm/gIT/AUKiZlbFEUuEcldufNNvh7P2p0tX3uf95zje3+j5zhn7bN6vOdtve9eaweMMZ9GCSkx4Z7A/4CaLICaLICaLICaLECcnxcLBALQCQkJ0Hl5ea5jzs7OoJ+envycTsSgkSyAmiyAmiyArzk5MTEROjc3F7q/v991zNzcHPTu7i70y8sL9MfHh19TDAsayQKoyQIEjMcGUUzM1/+pu7sbemBgAHpwcNB1/N7eHvTU1BT0ysoK9Pz8PHQ0pg6NZAHUZAE8ry64yispKYGurKyETklJcR1TXl4O3dbWBn13dwe9sLDgdZphRSNZADVZAM/p4vPza3FyeHgIfXR0BN3Q0GCN4RUJN5I4RZyfnwf9jmhEI1kANVkAz+mCi4OlpaWgf6+vr7fG5OfnQ8fHx3udQsSjkSyAmiyAr63O29tb6M3NTeitrS3rc+np6dDZ2dnQBQUF0EVFRdC8GtHehRIUNVkANVkAX3Py8/MzNFd8zgYPL+HccnJzczP07Ows9MnJiXWtx8dHDzOWQSNZADVZAF/TBcNLrf39fes9fl1XVwedlpYGXV1dDd3Y2AjNVaUxxhwcHHiea6jRSBZATRZAJF04f+JcwbW0tEDn5ORAc8U3PDwMXVpaal1rfHwcmlcakdSD1kgWQE0WwPPmlp8QGxtrvc7KyoKemJiA5j1zcXFfmYyLnNPTU+tao6Oj0JyWImnVoZEsgJosQMhWF8z7+7v1mu9Kr66uQnO/IjMzE/q7oxHt7e3QDw8P0MfHx67fL41GsgBqsgBqsgAiOdkJHyWbnJyEvri4gO7t7YXu6uqCTkpKsq7V2dkJzXmc7zE6G1TSaCQLoCYLEJZ0wVxfX0Ovra1BV1RUQHd0dEBzc8kYYzIyMqBramqCat4IGY7lnEayAGqyAGFPF/zz5aYO3+Hmk1R8p9sY+4Am96CHhoagl5eXoS8vL12/P1RoJAugJgsg0k/+KXwqKjk5GXpkZASaU4cx9iqC4cKGxy8uLlqfkyhUNJIFUJMFCPvqguE7zHzLifsQVVVV1hh+zYUK74FubW2Fvrm5scZLFCoayQKoyQJEVLpg+KfLK4K3tzfrc7yXjgsVbolyOzQ1NdUa71ao+Jk6NJIFUJMFUJMFiNiczPDRtfX1des9foxOU1MTdHFxMTQv58rKyqzx/NSv+/t7aD+PSWgkC6AmCxBRDaKfwE0kY4ypra2F5uYRN4V4Oed86OrY2Bj0zMwM9MbGhvfJ/kUjWQA1WYCoWF0wzmMKOzs70NPT09B9fX3QnFL4dpUxxvT09EDzRsjt7W1oZ5X5r2gkC6AmCxB16cLJ6+srND+6nTfK8Ikp3utsjL3ycD4k0C80kgVQkwWIumLkO7hQKSwshOYixdlP5r14fJuLe9heH8mjkSyAmizAr0oXDBcdfGKKD2EaYxcaXIxcXV35NheNZAHUZAHUZAF+bU6OJDSSBVCTBVCTBVCTBVCTBfgDPjhVsghqtCYAAAAASUVORK5CYII=\" y=\"-135.377146\"/>\n   </g>\n   <g id=\"matplotlib.axis_19\"/>\n   <g id=\"matplotlib.axis_20\"/>\n   <g id=\"patch_48\">\n    <path d=\"M 223.012195 224.377146 \nL 223.012195 135.913732 \n\" style=\"fill:none;stroke:#000000;stroke-linecap:square;stroke-linejoin:miter;stroke-width:0.8;\"/>\n   </g>\n   <g id=\"patch_49\">\n    <path d=\"M 311.47561 224.377146 \nL 311.47561 135.913732 \n\" style=\"fill:none;stroke:#000000;stroke-linecap:square;stroke-linejoin:miter;stroke-width:0.8;\"/>\n   </g>\n   <g id=\"patch_50\">\n    <path d=\"M 223.012195 224.377146 \nL 311.47561 224.377146 \n\" style=\"fill:none;stroke:#000000;stroke-linecap:square;stroke-linejoin:miter;stroke-width:0.8;\"/>\n   </g>\n   <g id=\"patch_51\">\n    <path d=\"M 223.012195 135.913732 \nL 311.47561 135.913732 \n\" style=\"fill:none;stroke:#000000;stroke-linecap:square;stroke-linejoin:miter;stroke-width:0.8;\"/>\n   </g>\n   <g id=\"text_10\">\n    <!-- The number \"1\" -->\n    <g transform=\"translate(227.471246 129.913732)scale(0.1 -0.1)\">\n     <use xlink:href=\"#DejaVuSans-84\"/>\n     <use x=\"61.083984\" xlink:href=\"#DejaVuSans-104\"/>\n     <use x=\"124.462891\" xlink:href=\"#DejaVuSans-101\"/>\n     <use x=\"185.986328\" xlink:href=\"#DejaVuSans-32\"/>\n     <use x=\"217.773438\" xlink:href=\"#DejaVuSans-110\"/>\n     <use x=\"281.152344\" xlink:href=\"#DejaVuSans-117\"/>\n     <use x=\"344.53125\" xlink:href=\"#DejaVuSans-109\"/>\n     <use x=\"441.943359\" xlink:href=\"#DejaVuSans-98\"/>\n     <use x=\"505.419922\" xlink:href=\"#DejaVuSans-101\"/>\n     <use x=\"566.943359\" xlink:href=\"#DejaVuSans-114\"/>\n     <use x=\"608.056641\" xlink:href=\"#DejaVuSans-32\"/>\n     <use x=\"639.84375\" xlink:href=\"#DejaVuSans-34\"/>\n     <use x=\"685.839844\" xlink:href=\"#DejaVuSans-49\"/>\n     <use x=\"749.462891\" xlink:href=\"#DejaVuSans-34\"/>\n    </g>\n   </g>\n  </g>\n  <g id=\"axes_11\">\n   <g id=\"patch_52\">\n    <path d=\"M 329.168293 224.377146 \nL 417.631707 224.377146 \nL 417.631707 135.913732 \nL 329.168293 135.913732 \nz\n\" style=\"fill:#ffffff;\"/>\n   </g>\n   <g clip-path=\"url(#pbcbeb0764b)\">\n    <image height=\"89\" id=\"image9d220b80e8\" transform=\"scale(1 -1)translate(0 -89)\" width=\"89\" x=\"329.168293\" xlink:href=\"data:image/png;base64,\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\" y=\"-135.377146\"/>\n   </g>\n   <g id=\"matplotlib.axis_21\"/>\n   <g id=\"matplotlib.axis_22\"/>\n   <g id=\"patch_53\">\n    <path d=\"M 329.168293 224.377146 \nL 329.168293 135.913732 \n\" style=\"fill:none;stroke:#000000;stroke-linecap:square;stroke-linejoin:miter;stroke-width:0.8;\"/>\n   </g>\n   <g id=\"patch_54\">\n    <path d=\"M 417.631707 224.377146 \nL 417.631707 135.913732 \n\" style=\"fill:none;stroke:#000000;stroke-linecap:square;stroke-linejoin:miter;stroke-width:0.8;\"/>\n   </g>\n   <g id=\"patch_55\">\n    <path d=\"M 329.168293 224.377146 \nL 417.631707 224.377146 \n\" style=\"fill:none;stroke:#000000;stroke-linecap:square;stroke-linejoin:miter;stroke-width:0.8;\"/>\n   </g>\n   <g id=\"patch_56\">\n    <path d=\"M 329.168293 135.913732 \nL 417.631707 135.913732 \n\" style=\"fill:none;stroke:#000000;stroke-linecap:square;stroke-linejoin:miter;stroke-width:0.8;\"/>\n   </g>\n   <g id=\"text_11\">\n    <!-- The number \"3\" -->\n    <defs>\n     <path d=\"M 40.578125 39.3125 \nQ 47.65625 37.796875 51.625 33 \nQ 55.609375 28.21875 55.609375 21.1875 \nQ 55.609375 10.40625 48.1875 4.484375 \nQ 40.765625 -1.421875 27.09375 -1.421875 \nQ 22.515625 -1.421875 17.65625 -0.515625 \nQ 12.796875 0.390625 7.625 2.203125 \nL 7.625 11.71875 \nQ 11.71875 9.328125 16.59375 8.109375 \nQ 21.484375 6.890625 26.8125 6.890625 \nQ 36.078125 6.890625 40.9375 10.546875 \nQ 45.796875 14.203125 45.796875 21.1875 \nQ 45.796875 27.640625 41.28125 31.265625 \nQ 36.765625 34.90625 28.71875 34.90625 \nL 20.21875 34.90625 \nL 20.21875 43.015625 \nL 29.109375 43.015625 \nQ 36.375 43.015625 40.234375 45.921875 \nQ 44.09375 48.828125 44.09375 54.296875 \nQ 44.09375 59.90625 40.109375 62.90625 \nQ 36.140625 65.921875 28.71875 65.921875 \nQ 24.65625 65.921875 20.015625 65.03125 \nQ 15.375 64.15625 9.8125 62.3125 \nL 9.8125 71.09375 \nQ 15.4375 72.65625 20.34375 73.4375 \nQ 25.25 74.21875 29.59375 74.21875 \nQ 40.828125 74.21875 47.359375 69.109375 \nQ 53.90625 64.015625 53.90625 55.328125 \nQ 53.90625 49.265625 50.4375 45.09375 \nQ 46.96875 40.921875 40.578125 39.3125 \nz\n\" id=\"DejaVuSans-51\"/>\n    </defs>\n    <g transform=\"translate(333.627344 129.913732)scale(0.1 -0.1)\">\n     <use xlink:href=\"#DejaVuSans-84\"/>\n     <use x=\"61.083984\" xlink:href=\"#DejaVuSans-104\"/>\n     <use x=\"124.462891\" xlink:href=\"#DejaVuSans-101\"/>\n     <use x=\"185.986328\" xlink:href=\"#DejaVuSans-32\"/>\n     <use x=\"217.773438\" xlink:href=\"#DejaVuSans-110\"/>\n     <use x=\"281.152344\" xlink:href=\"#DejaVuSans-117\"/>\n     <use x=\"344.53125\" xlink:href=\"#DejaVuSans-109\"/>\n     <use x=\"441.943359\" xlink:href=\"#DejaVuSans-98\"/>\n     <use x=\"505.419922\" xlink:href=\"#DejaVuSans-101\"/>\n     <use x=\"566.943359\" xlink:href=\"#DejaVuSans-114\"/>\n     <use x=\"608.056641\" xlink:href=\"#DejaVuSans-32\"/>\n     <use x=\"639.84375\" xlink:href=\"#DejaVuSans-34\"/>\n     <use x=\"685.839844\" xlink:href=\"#DejaVuSans-51\"/>\n     <use x=\"749.462891\" xlink:href=\"#DejaVuSans-34\"/>\n    </g>\n   </g>\n  </g>\n  <g id=\"axes_12\">\n   <g id=\"patch_57\">\n    <path d=\"M 435.32439 224.377146 \nL 523.787805 224.377146 \nL 523.787805 135.913732 \nL 435.32439 135.913732 \nz\n\" style=\"fill:#ffffff;\"/>\n   </g>\n   <g clip-path=\"url(#p418ba6c17b)\">\n    <image height=\"89\" id=\"image94872a5799\" transform=\"scale(1 -1)translate(0 -89)\" width=\"89\" x=\"435.32439\" xlink:href=\"data:image/png;base64,\niVBORw0KGgoAAAANSUhEUgAAAFkAAABZCAYAAABVC4ivAAAABHNCSVQICAgIfAhkiAAABDtJREFUeJztnU0obVEYhtfxX8JEUshfkt8yMpGBKCUGkjKQMkFMTCSEmDGQgZGSYsDERGJmxFAoSiJEKT8Dpcjfnb33WzvnOse9591nX98zenbO3i1vn6+911pn8xljPowSUiLcHsBPQEMmEOX2AIIlOjraOs7MzIS/vr7Cz8/P4R8f7nZErWQCGjIBz7WL/Px863h5eRn++PgIb25uhp+dnYV8XH9CK5mAhkxAQybguZ5cXV1tHRcUFHz6udbWVvj4+HhIx/QVWskENGQCnmsX6+vr1vHExAQ8Kur3rxMRET71Ez4j+Y/RkAl4rl28vb25PYSg0UomoCET8Fy7cOL2XHEgaCUT0JAJeK5dXF1d+T3OysqCJyQksIb0JVrJBDRkAj7jsc0tcn7CGGMODg7geXl58KOjI3hJSQlcrmiz0EomoCET0JAJeO4WLlB0PvmHoSET8Hy7eHh4+PIzPp+PMBL/aCUT0JAJeK5dOJ/YlpaW4IWFhfD09HR4Wloa3I3Nh1rJBDRkAp5rF07W1tbgHR0dcDm37JxUYqOVTEBDJuDK31FsbCw8IyMDfnl5CX96egroWhUVFfCUlJRPP5OUlBTsEP8pWskENGQCGjIBSk9OTk62juvq6uB9fX3wxcVF+OzsLPz29tbvtXd2duD39/fwxMREeGVlJXxvb886n7Hmp5VMQEMmQGkXXV1d1vHAwABc3s4NDw/Dy8vL4WNjY3C5BcAYY66vr+HHx8dw+cQnW4cbaCUT0JAJUNqFc+U4MjISfnFxAZdLSTU1NXD5VLe1tWVdS84Pl5WV/fVYQ4FWMgENmYDr88krKyvwwcFBeG5uLlx+N7qhocE63+2V6EDQSiagIROgtIv393frWH5jSc4rvLy8wOVDx9zcHLy0tNS6VnZ2Nly2jnD6VpRWMgENmQClXcgVZWOMaWtrg8sNKUVFRfD9/X346uoq/PDw0LrWxsYGPCcnBy5bh7NdsdFKJqAhE9CQCVB6srOPLiwswEdGRuDz8/Pwnp4e+Pb2Nvzk5MS6Vm1tLXx0dBTe0tICl5NQbtzaaSUT0JAJuPKNVLnTZ3d3F56amgqXLzft7OyEyxegGmPfnjU2NsLlvmV5C9nb22udf3p6GtTYv4NWMgENmYAr88lys8rMzAx8aGgIHh8fD5er1c6NMvKJTy5TySWvqqoqeH19vXX+9PR0UGP/DlrJBDRkAq6/70KuXPf398Pb29vhcs5YzjkbY7+MLyYmBi7bhVzRbmpqss6Xe+lChVYyAQ2ZgOvtQiLngOU/aZmcnITLbbfGGBMXF/fpteRDilwR7+7utj53c3PzvcEGgVYyAQ2ZQFi1C3/IO5Di4mLrZ1NTU3C5017OXWxubsLv7u5CMcQ/opVMQEMmoCET8ERPljg3GMp3WTw/P8Nlf3b7Fe1ayQQ0ZAKeaxdeRCuZgIZM4BcaQhDF2Y5pAQAAAABJRU5ErkJggg==\" y=\"-135.377146\"/>\n   </g>\n   <g id=\"matplotlib.axis_23\"/>\n   <g id=\"matplotlib.axis_24\"/>\n   <g id=\"patch_58\">\n    <path d=\"M 435.32439 224.377146 \nL 435.32439 135.913732 \n\" style=\"fill:none;stroke:#000000;stroke-linecap:square;stroke-linejoin:miter;stroke-width:0.8;\"/>\n   </g>\n   <g id=\"patch_59\">\n    <path d=\"M 523.787805 224.377146 \nL 523.787805 135.913732 \n\" style=\"fill:none;stroke:#000000;stroke-linecap:square;stroke-linejoin:miter;stroke-width:0.8;\"/>\n   </g>\n   <g id=\"patch_60\">\n    <path d=\"M 435.32439 224.377146 \nL 523.787805 224.377146 \n\" style=\"fill:none;stroke:#000000;stroke-linecap:square;stroke-linejoin:miter;stroke-width:0.8;\"/>\n   </g>\n   <g id=\"patch_61\">\n    <path d=\"M 435.32439 135.913732 \nL 523.787805 135.913732 \n\" style=\"fill:none;stroke:#000000;stroke-linecap:square;stroke-linejoin:miter;stroke-width:0.8;\"/>\n   </g>\n   <g id=\"text_12\">\n    <!-- The number \"9\" -->\n    <defs>\n     <path d=\"M 10.984375 1.515625 \nL 10.984375 10.5 \nQ 14.703125 8.734375 18.5 7.8125 \nQ 22.3125 6.890625 25.984375 6.890625 \nQ 35.75 6.890625 40.890625 13.453125 \nQ 46.046875 20.015625 46.78125 33.40625 \nQ 43.953125 29.203125 39.59375 26.953125 \nQ 35.25 24.703125 29.984375 24.703125 \nQ 19.046875 24.703125 12.671875 31.3125 \nQ 6.296875 37.9375 6.296875 49.421875 \nQ 6.296875 60.640625 12.9375 67.421875 \nQ 19.578125 74.21875 30.609375 74.21875 \nQ 43.265625 74.21875 49.921875 64.515625 \nQ 56.59375 54.828125 56.59375 36.375 \nQ 56.59375 19.140625 48.40625 8.859375 \nQ 40.234375 -1.421875 26.421875 -1.421875 \nQ 22.703125 -1.421875 18.890625 -0.6875 \nQ 15.09375 0.046875 10.984375 1.515625 \nz\nM 30.609375 32.421875 \nQ 37.25 32.421875 41.125 36.953125 \nQ 45.015625 41.5 45.015625 49.421875 \nQ 45.015625 57.28125 41.125 61.84375 \nQ 37.25 66.40625 30.609375 66.40625 \nQ 23.96875 66.40625 20.09375 61.84375 \nQ 16.21875 57.28125 16.21875 49.421875 \nQ 16.21875 41.5 20.09375 36.953125 \nQ 23.96875 32.421875 30.609375 32.421875 \nz\n\" id=\"DejaVuSans-57\"/>\n    </defs>\n    <g transform=\"translate(439.783441 129.913732)scale(0.1 -0.1)\">\n     <use xlink:href=\"#DejaVuSans-84\"/>\n     <use x=\"61.083984\" xlink:href=\"#DejaVuSans-104\"/>\n     <use x=\"124.462891\" xlink:href=\"#DejaVuSans-101\"/>\n     <use x=\"185.986328\" xlink:href=\"#DejaVuSans-32\"/>\n     <use x=\"217.773438\" xlink:href=\"#DejaVuSans-110\"/>\n     <use x=\"281.152344\" xlink:href=\"#DejaVuSans-117\"/>\n     <use x=\"344.53125\" xlink:href=\"#DejaVuSans-109\"/>\n     <use x=\"441.943359\" xlink:href=\"#DejaVuSans-98\"/>\n     <use x=\"505.419922\" xlink:href=\"#DejaVuSans-101\"/>\n     <use x=\"566.943359\" xlink:href=\"#DejaVuSans-114\"/>\n     <use x=\"608.056641\" xlink:href=\"#DejaVuSans-32\"/>\n     <use x=\"639.84375\" xlink:href=\"#DejaVuSans-34\"/>\n     <use x=\"685.839844\" xlink:href=\"#DejaVuSans-57\"/>\n     <use x=\"749.462891\" xlink:href=\"#DejaVuSans-34\"/>\n    </g>\n   </g>\n  </g>\n  <g id=\"axes_13\">\n   <g id=\"patch_62\">\n    <path d=\"M 541.480488 224.377146 \nL 629.943902 224.377146 \nL 629.943902 135.913732 \nL 541.480488 135.913732 \nz\n\" style=\"fill:#ffffff;\"/>\n   </g>\n   <g clip-path=\"url(#pa4bace33be)\">\n    <image height=\"89\" id=\"image8ecd6fcbea\" transform=\"scale(1 -1)translate(0 -89)\" width=\"89\" x=\"541.480488\" xlink:href=\"data:image/png;base64,\niVBORw0KGgoAAAANSUhEUgAAAFkAAABZCAYAAABVC4ivAAAABHNCSVQICAgIfAhkiAAABQ9JREFUeJztnEsobWEUxzeu14DyGhCiKM/CTEneBmKCJANTI1OSDBiJPAYeZWBgZERCIspARvKWRwlR3s/I25397/p2Z3d3+xzrOPeu3+h3OHufbVln9e39re9z0zTtSxO+FXdnX8D/gASZgV9O+dBftj/28/PTprs6kskMSJAZcGi5cHNzgwcFBcEjIyOV9xUVFdk8fmNjA765uQm/vr6GX15e2n2d3EgmMyBBZkCCzIDdNdnDwwMeHR0Nb2hogGdmZirHRERE2DzX7e0t/ObmBr64uAivq6tTjrm6uoJ/fHyYvWxWJJMZkCAz4KZZeEDk7v7nf9Pf3w8vKSmB+/v7w/f29pTjR0dH4fTOLjAwEF5RUQEPCQmBX1xcKOcaGxuD0xL1k4Z6kskMSJAZsDS6oOUiIyPD5s+Hh4fhXV1dyvFbW1vwr68/1YqWi9PTU3hpaSk8MTFROVdubi48KSkJTkckLy8vRn8KC5LJDEiQGbA0uqDPg5eWluBzc3Pw1tZW+NnZmXI8LRFG+Pj4wMPCwuAdHR3K+woKCuA7OzvwpqYm+MTEBNwZz6klkxmQIDNgaXRBv3L0ZoSOGs7Pz+FmyoOe5+dn+P7+PnxwcFB5Hx1RxMfHw9PS0uBTU1M2r50LyWQGJMgMWBpdOBNPT0/ldWNjI7y+vh6+vr4OLysrgx8cHHzfxRkgmcyABJkBCTIDTukgsgf9cJAOyWhLgp+fH9yoY4kLyWQGJMgMuFy5MMtPaliUTGZAgsyA3dNP1M3y/v5u5WM1TdM0b29v5TWdFaclgjYs3t3dWf48RyCZzIAEmQHT5YL2vNXU1MBra2v/euzDw4Py2mg66P7+Hr68vAxPTU2FZ2VlKefKy8uDv76+whcWFuC0r84ZSCYzIEFmwHS5oM8Mjo6O4OHh4XBfX19T56INKnR0Qr/u9CseEBAA1z+HODk5gQ8NDcFHRkbg9oxmHIFkMgMSZAYkyAxYmuOj3T0DAwNw2hhI67N+mQGtnbQ+0zpMmw8PDw/hq6uryrlWVlbgs7Oz8Kenp7/8FXxIJjMgQWbA7paAmJgYeFtbG7y4uBiunzLKzs6GHx8fw+kQzsvLC/74+AjX3725wqJ3yWQGJMgMOLSDKCoqCt7S0gKnHTyapmnb29vw6upq+NramqMu5UchmcyABJkBh85W05uG9vZ2OC0jmqZpKSkp8PLycjhd8UT7m10dyWQGJMgMfFt/Mu0jTkhIUH43PT0Npzcq3d3d8M7OTjhd2uCKSCYzIEFmgGU5g34JAt01iz77oEsQjG5SrKykcjaSyQxIkBmQIDPAUpP10/i0xsbFxcFpvaVLweh0VW9vr3Iuuvuhs6f+jZBMZkCCzABLudD3MNMN9OgMN904lW6oSre3mZycVM5Ft8GZmZmB7+7uwp19xyiZzIAEmQGnLGA32vomJycH3tzcDA8ODjY819vbG5xu8kcbDsfHx+H0mbemqXt90tENLXH2zoJLJjMgQWbgR+13QctCZWUlnPbFJScnK8fQqazQ0FCb56W7ec3Pzyu/6+npgdNlF3SrHbq0Ql9uzCCZzIAEmYEfVS7MoL+xoYsnY2Nj4fn5+fD09HR4YWGhcjxd1WX0rLqqqgpOtxI2O+qQTGZAgsyAy5ULs9DHq3R0Qr/6mqauzabQUtDX1we3ssO4ZDIDEmQGJMgM/LM12QgrO2vZO60lmcyABJmB/65cOAPJZAYkyAz8BlYLox1miZjEAAAAAElFTkSuQmCC\" y=\"-135.377146\"/>\n   </g>\n   <g id=\"matplotlib.axis_25\"/>\n   <g id=\"matplotlib.axis_26\"/>\n   <g id=\"patch_63\">\n    <path d=\"M 541.480488 224.377146 \nL 541.480488 135.913732 \n\" style=\"fill:none;stroke:#000000;stroke-linecap:square;stroke-linejoin:miter;stroke-width:0.8;\"/>\n   </g>\n   <g id=\"patch_64\">\n    <path d=\"M 629.943902 224.377146 \nL 629.943902 135.913732 \n\" style=\"fill:none;stroke:#000000;stroke-linecap:square;stroke-linejoin:miter;stroke-width:0.8;\"/>\n   </g>\n   <g id=\"patch_65\">\n    <path d=\"M 541.480488 224.377146 \nL 629.943902 224.377146 \n\" style=\"fill:none;stroke:#000000;stroke-linecap:square;stroke-linejoin:miter;stroke-width:0.8;\"/>\n   </g>\n   <g id=\"patch_66\">\n    <path d=\"M 541.480488 135.913732 \nL 629.943902 135.913732 \n\" style=\"fill:none;stroke:#000000;stroke-linecap:square;stroke-linejoin:miter;stroke-width:0.8;\"/>\n   </g>\n   <g id=\"text_13\">\n    <!-- The number \"5\" -->\n    <g transform=\"translate(545.939539 129.913732)scale(0.1 -0.1)\">\n     <use xlink:href=\"#DejaVuSans-84\"/>\n     <use x=\"61.083984\" xlink:href=\"#DejaVuSans-104\"/>\n     <use x=\"124.462891\" xlink:href=\"#DejaVuSans-101\"/>\n     <use x=\"185.986328\" xlink:href=\"#DejaVuSans-32\"/>\n     <use x=\"217.773438\" xlink:href=\"#DejaVuSans-110\"/>\n     <use x=\"281.152344\" xlink:href=\"#DejaVuSans-117\"/>\n     <use x=\"344.53125\" xlink:href=\"#DejaVuSans-109\"/>\n     <use x=\"441.943359\" xlink:href=\"#DejaVuSans-98\"/>\n     <use x=\"505.419922\" xlink:href=\"#DejaVuSans-101\"/>\n     <use x=\"566.943359\" xlink:href=\"#DejaVuSans-114\"/>\n     <use x=\"608.056641\" xlink:href=\"#DejaVuSans-32\"/>\n     <use x=\"639.84375\" xlink:href=\"#DejaVuSans-34\"/>\n     <use x=\"685.839844\" xlink:href=\"#DejaVuSans-53\"/>\n     <use x=\"749.462891\" xlink:href=\"#DejaVuSans-34\"/>\n    </g>\n   </g>\n  </g>\n  <g id=\"axes_14\">\n   <g id=\"patch_67\">\n    <path d=\"M 647.636585 224.377146 \nL 736.1 224.377146 \nL 736.1 135.913732 \nL 647.636585 135.913732 \nz\n\" style=\"fill:#ffffff;\"/>\n   </g>\n   <g clip-path=\"url(#p5be0e6450a)\">\n    <image height=\"89\" id=\"imagec6c2e43d9c\" transform=\"scale(1 -1)translate(0 -89)\" width=\"89\" x=\"647.636585\" xlink:href=\"data:image/png;base64,\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\" y=\"-135.377146\"/>\n   </g>\n   <g id=\"matplotlib.axis_27\"/>\n   <g id=\"matplotlib.axis_28\"/>\n   <g id=\"patch_68\">\n    <path d=\"M 647.636585 224.377146 \nL 647.636585 135.913732 \n\" style=\"fill:none;stroke:#000000;stroke-linecap:square;stroke-linejoin:miter;stroke-width:0.8;\"/>\n   </g>\n   <g id=\"patch_69\">\n    <path d=\"M 736.1 224.377146 \nL 736.1 135.913732 \n\" style=\"fill:none;stroke:#000000;stroke-linecap:square;stroke-linejoin:miter;stroke-width:0.8;\"/>\n   </g>\n   <g id=\"patch_70\">\n    <path d=\"M 647.636585 224.377146 \nL 736.1 224.377146 \n\" style=\"fill:none;stroke:#000000;stroke-linecap:square;stroke-linejoin:miter;stroke-width:0.8;\"/>\n   </g>\n   <g id=\"patch_71\">\n    <path d=\"M 647.636585 135.913732 \nL 736.1 135.913732 \n\" style=\"fill:none;stroke:#000000;stroke-linecap:square;stroke-linejoin:miter;stroke-width:0.8;\"/>\n   </g>\n   <g id=\"text_14\">\n    <!-- The number \"3\" -->\n    <g transform=\"translate(652.095636 129.913732)scale(0.1 -0.1)\">\n     <use xlink:href=\"#DejaVuSans-84\"/>\n     <use x=\"61.083984\" xlink:href=\"#DejaVuSans-104\"/>\n     <use x=\"124.462891\" xlink:href=\"#DejaVuSans-101\"/>\n     <use x=\"185.986328\" xlink:href=\"#DejaVuSans-32\"/>\n     <use x=\"217.773438\" xlink:href=\"#DejaVuSans-110\"/>\n     <use x=\"281.152344\" xlink:href=\"#DejaVuSans-117\"/>\n     <use x=\"344.53125\" xlink:href=\"#DejaVuSans-109\"/>\n     <use x=\"441.943359\" xlink:href=\"#DejaVuSans-98\"/>\n     <use x=\"505.419922\" xlink:href=\"#DejaVuSans-101\"/>\n     <use x=\"566.943359\" xlink:href=\"#DejaVuSans-114\"/>\n     <use x=\"608.056641\" xlink:href=\"#DejaVuSans-32\"/>\n     <use x=\"639.84375\" xlink:href=\"#DejaVuSans-34\"/>\n     <use x=\"685.839844\" xlink:href=\"#DejaVuSans-51\"/>\n     <use x=\"749.462891\" xlink:href=\"#DejaVuSans-34\"/>\n    </g>\n   </g>\n  </g>\n  <g id=\"axes_15\">\n   <g id=\"patch_72\">\n    <path d=\"M 10.7 339.49244 \nL 99.163415 339.49244 \nL 99.163415 251.029026 \nL 10.7 251.029026 \nz\n\" style=\"fill:#ffffff;\"/>\n   </g>\n   <g clip-path=\"url(#p17c0008c5f)\">\n    <image height=\"89\" id=\"imagebf80129c96\" transform=\"scale(1 -1)translate(0 -89)\" width=\"89\" x=\"10.7\" xlink:href=\"data:image/png;base64,\niVBORw0KGgoAAAANSUhEUgAAAFkAAABZCAYAAABVC4ivAAAABHNCSVQICAgIfAhkiAAABXlJREFUeJztnVsoZX8Ux38MuSZyK8IQ4wVTXkyIJyGXSOQFeVBeFEUzRSGTMvGiPHlRNCMPLvHk8jDy4AElJfdbanJpQsrIbZ7+3//67c7mzJwzaw6zPk+f0zl7n91q7XV+e/32bx8npdSDEv4ozn/7AP4FJMgMSJAZkCAzIEFmwMXaDzo7O1v029tb+x7RC0QymQEJMgMSZAZMa7K7u7v2OiMjAx4dHQ2fnZ2Fn5+fw8/OzuCnp6e2HaWNuLiY//Rw/KZIJjMgQWZAO4/o0IyWB6WU6urqgoeGhsKPjo7g19fX8Pn5eXhbW5u2r2/fvlnc5v7+3vojf4LXr1/DCwsL4d7e3trnenp64N+/f7fb91MkkxmQIDNgWi7oCEIpvUR4eHjAIyMj4Q8P/7emY2Nj4SUlJdq+aLmgo5P29nb41taWFYevQ0cRZWVl8KamJriTk5O2zZcvX+BSLp4xEmQGtHJBB+ZTU1PaB+kvdEpKypM7pqclLS9KKRUVFQUPCQmB+/n5wZubm+EbGxvwHz9+PPndSumlz1giKD4+PlbtzxYkkxmQIDNgelG/vr6uva6pqYH39fXB6SiC9jvoSMN4utL36Da5ublwOmoZGRmx6Eoptbm5CaejC7My8OrVK+11YmIifHl5GX53d2dx+99BMpkBCTIDTsrKm1voKR8fHw+now7qMTExcOPo4lehIwo60lBKqenpaYvHSI+F9jGMrc13797Bl5aWbDpOMySTGZAgMyBBZsDqmmwNdDhGr+Ros0YppfLy8uBhYWFwX19fuKurq70OS+Py8lJ7nZCQAN/b2/sj3ymZzIAEmQG7lgszjDPftJS8ffsWTk9ds5JCm0hK6Vd5dAhHryppn7i3t1fbvqWlBU6nwuyJZDIDEmQGrL7h0BaMPeCdnR04/UWfmJiA9/f3w2lJSU9P1/ZVWloKDwoKsvlY/wSSyQxIkBlgGV3YCp1KCggI0N6rqqqCf/jwAe7l5WVxX8aLkezsbPjCwgLcniMNyWQGJMgMPIty8Rienp7whoYGOO2XREREwI3TT3TK6dOnT/Dh4WG4raVDMpkBCTIDEmQGnn1NptAGUWBgIDw/Px/+8eNHbRt6lXh8fAx///49fGhoCH51dfXLxyWZzIAEmYEXVS7MoCWho6NDe6+iogJOe9C0iUV7zp8/f7b4+ceQTGZAgszAsygXti52pKMOOsWllFJzc3Nw2lSipWB7exuenJwMt3YRqGQyAxJkBlimn36HuLg4uHHhJmVmZga+srICp6c79bW1NW370dFReFFREZzOsNMbFsPDw+FSLhwICTIDDlUuaK+3u7sbnpSUZLpNeXk5vLi4GL67uwunSxOMveHW1lY4XQKRk5MDp6MbetPN6uqqti+zlVmSyQxIkBlwqHJhBp2tdnNz096jN77QCwvqdP324OCgtv3+/j58cXERnpWVZfH76bTW+Pi4ti+z5RCSyQxIkBmQIDPgUDWZDrXq6urgtbW1cHrHj1L6NBPtGxcUFMBTU1PhdPG8UkoNDAzA6aN+Li4u4P7+/vDg4GB4Wlqati+zFa2SyQxIkBlw2H6y2cyzsVw0NjbCjY/0sYSx/3xwcAA/PDyE074zXZV1cnICr66u1vY1NjYGp08Gk0xmQILMgMOWCzOMK6kyMzPhtNnz5s0b023MeOwZHf/x9etXeGVlpfae2WJLyWQGJMgMPLty8Ri0LNDH9tTX18PpRYpSesPp5uYGTh+7Mzk5Ce/s7ITTe+ceQzKZAQkyAy+qXFDo6IAuZ6CPzVFKn3Ki/Qo6C05Lh9w666BIkBl4seXCjMfuq6PY8w8FJJMZkCAzIEFm4J+ryX8DyWQGJMgMSJAZkCAzIEFm4CcHzo01RO0ObwAAAABJRU5ErkJggg==\" y=\"-250.49244\"/>\n   </g>\n   <g id=\"matplotlib.axis_29\"/>\n   <g id=\"matplotlib.axis_30\"/>\n   <g id=\"patch_73\">\n    <path d=\"M 10.7 339.49244 \nL 10.7 251.029026 \n\" style=\"fill:none;stroke:#000000;stroke-linecap:square;stroke-linejoin:miter;stroke-width:0.8;\"/>\n   </g>\n   <g id=\"patch_74\">\n    <path d=\"M 99.163415 339.49244 \nL 99.163415 251.029026 \n\" style=\"fill:none;stroke:#000000;stroke-linecap:square;stroke-linejoin:miter;stroke-width:0.8;\"/>\n   </g>\n   <g id=\"patch_75\">\n    <path d=\"M 10.7 339.49244 \nL 99.163415 339.49244 \n\" style=\"fill:none;stroke:#000000;stroke-linecap:square;stroke-linejoin:miter;stroke-width:0.8;\"/>\n   </g>\n   <g id=\"patch_76\">\n    <path d=\"M 10.7 251.029026 \nL 99.163415 251.029026 \n\" style=\"fill:none;stroke:#000000;stroke-linecap:square;stroke-linejoin:miter;stroke-width:0.8;\"/>\n   </g>\n   <g id=\"text_15\">\n    <!-- The number \"2\" -->\n    <g transform=\"translate(15.159051 245.029026)scale(0.1 -0.1)\">\n     <use xlink:href=\"#DejaVuSans-84\"/>\n     <use x=\"61.083984\" xlink:href=\"#DejaVuSans-104\"/>\n     <use x=\"124.462891\" xlink:href=\"#DejaVuSans-101\"/>\n     <use x=\"185.986328\" xlink:href=\"#DejaVuSans-32\"/>\n     <use x=\"217.773438\" xlink:href=\"#DejaVuSans-110\"/>\n     <use x=\"281.152344\" xlink:href=\"#DejaVuSans-117\"/>\n     <use x=\"344.53125\" xlink:href=\"#DejaVuSans-109\"/>\n     <use x=\"441.943359\" xlink:href=\"#DejaVuSans-98\"/>\n     <use x=\"505.419922\" xlink:href=\"#DejaVuSans-101\"/>\n     <use x=\"566.943359\" xlink:href=\"#DejaVuSans-114\"/>\n     <use x=\"608.056641\" xlink:href=\"#DejaVuSans-32\"/>\n     <use x=\"639.84375\" xlink:href=\"#DejaVuSans-34\"/>\n     <use x=\"685.839844\" xlink:href=\"#DejaVuSans-50\"/>\n     <use x=\"749.462891\" xlink:href=\"#DejaVuSans-34\"/>\n    </g>\n   </g>\n  </g>\n  <g id=\"axes_16\">\n   <g id=\"patch_77\">\n    <path d=\"M 116.856098 339.49244 \nL 205.319512 339.49244 \nL 205.319512 251.029026 \nL 116.856098 251.029026 \nz\n\" style=\"fill:#ffffff;\"/>\n   </g>\n   <g clip-path=\"url(#p128f67554e)\">\n    <image height=\"89\" id=\"image07c5afd710\" transform=\"scale(1 -1)translate(0 -89)\" width=\"89\" x=\"116.856098\" xlink:href=\"data:image/png;base64,\niVBORw0KGgoAAAANSUhEUgAAAFkAAABZCAYAAABVC4ivAAAABHNCSVQICAgIfAhkiAAABRlJREFUeJztnMsrbn0Ux5dLrnEiJRm4jXBElJJCSokoUkr+AMpESqfOyYyihDIzYoIM3KNEysCAUJIIIVIit3M4cjuT9/2e9ds9z+CcZ+/18L7rM/qwL89uWc/yu24fInojxVF8vf0A/wc0yAL4e+NDfX1//219fHzgLy8v3ngcx9FMFkCDLIBIuYiKijJ+7ujogH/+/Bk+PDwMn5ubg29ubsLf3j5eY0gzWQANsgAaZAF8yKEeX0hICLyxsdE49u3bN3hgYCD84eEBvru7C6+qqoIfHBwY9/oINVozWQANsgC2lgveVOPNtOrqauO84ODgP7rv3t4evKmpyTg2OTn5R/fyBprJAmiQBbC1xxcZGQnPycmB39/fG+ednJzAIyIi4Nae4b/ExcXBMzIyjGNaLhQi0iCLYGu5KC0thfOvfnt7u3FeT08PnJeCmZkZeGJiItzPzw+enp5u3IuPTb++vv7NYzuOZrIAGmQBbC0XsbGx8KurK/ji4qJx3tPTE3x/fx/e2toK550ZXnpSU1ONe2m5UIhIgyyCx+WC/+fPy8uDx8TEwPPz841rVldX4Xyokk8zff/+Hc47OVtbW8a93muJ4GgmC6BBFkCDLIDHNZmv+pmenoYnJyfDea0mIurt7YU/Pj66PC86OtrlZ/C6TaQ1WfkHDbIAtvb4hoaG4DU1NfCSkhLjPP7z7OwsvKCgAM5nsXmJGB0dteVZJdFMFkCDLICt5YK3FG5ubuB8EIfI7AHe3d3BCwsLXd63u7sbvrOz4/FzSqOZLIAGWQBbF7fwrQlJSUnwzs5O4zw+TcUHiPhg048fP+BpaWnww8NDW55VEs1kATTIAtjauuBf/aOjI/jGxoZxXllZmcvr+TjEwsIC/OzszK5H9AqayQJokAXQIAvg2BYzPga8vLxsHLu9vYWHh4c79QjvBs1kATTIAojsSOVjw0REQUFBLs/jA0l8sIhPZVmnnz7CpnfNZAE0yAI4Vi74V9+6BSEgIADOFx/yVgdfNcSnqPgaZiKi+vp6+M+fPz14YufQTBZAgyyAV16Pwzk9PYW3tbXBm5ub4QkJCXC+z5qIaGxsDM4X1zw/P9v6nJ6gmSyABlkAx8oF3wTJp4+s8NbFwMAAfGJiAp6VlQW3LpTp6+uD83JRV1cH57Po3kAzWQANsgCOlYtPnz7BrTuW3ME7MOfn5/D5+Xl4dna2cQ3fGVVZWQnv6uqC8wUx3igdmskCaJAF0CALINLjsy445MTHx8OXlpbgfMsD31aWmZlpXM93tPKFieXl5fDc3Fw4byYSEY2Pj8Ot7+WwC81kATTIAjj28j1eBkZGRoxjvAfH4SuQLi8v4Xx3Kt8VRUTU0NAA5y9ULSoqgn/9+hUeFhZmXM+3YPT398PtXNiomSyABlkAx8oFX2tcUVFhHONfUXevXneH9d2cU1NT8PX1dXhKSgqcT3fxlgaROZC1srLi8jxPZ8Q1kwXQIAsgshZubW3NOMZf4RsaGgr/m9f08vHl4uJiuLsOkPX3fJrq+PjYo2dxh2ayABpkARxrXRgfYmk1fPnyBV5bWwvf3t6G8/EKXlL4/msic50cb0XwssBL18XFhXF9S0sLnM98W8/zBM1kATTIAoiUCyt8nRt3vh/7+voa7u//uxHE39JFZHZ0+Kw4Hzvhb+/iu7KIiAYHB+F2lgiOZrIAGmQBNMgCeKUmOwVvKrprwnkDzWQBNMgC/KfKxXtFM1kADbIAvwB7GoCvC9DDNgAAAABJRU5ErkJggg==\" y=\"-250.49244\"/>\n   </g>\n   <g id=\"matplotlib.axis_31\"/>\n   <g id=\"matplotlib.axis_32\"/>\n   <g id=\"patch_78\">\n    <path d=\"M 116.856098 339.49244 \nL 116.856098 251.029026 \n\" style=\"fill:none;stroke:#000000;stroke-linecap:square;stroke-linejoin:miter;stroke-width:0.8;\"/>\n   </g>\n   <g id=\"patch_79\">\n    <path d=\"M 205.319512 339.49244 \nL 205.319512 251.029026 \n\" style=\"fill:none;stroke:#000000;stroke-linecap:square;stroke-linejoin:miter;stroke-width:0.8;\"/>\n   </g>\n   <g id=\"patch_80\">\n    <path d=\"M 116.856098 339.49244 \nL 205.319512 339.49244 \n\" style=\"fill:none;stroke:#000000;stroke-linecap:square;stroke-linejoin:miter;stroke-width:0.8;\"/>\n   </g>\n   <g id=\"patch_81\">\n    <path d=\"M 116.856098 251.029026 \nL 205.319512 251.029026 \n\" style=\"fill:none;stroke:#000000;stroke-linecap:square;stroke-linejoin:miter;stroke-width:0.8;\"/>\n   </g>\n   <g id=\"text_16\">\n    <!-- The number \"8\" -->\n    <g transform=\"translate(121.315149 245.029026)scale(0.1 -0.1)\">\n     <use xlink:href=\"#DejaVuSans-84\"/>\n     <use x=\"61.083984\" xlink:href=\"#DejaVuSans-104\"/>\n     <use x=\"124.462891\" xlink:href=\"#DejaVuSans-101\"/>\n     <use x=\"185.986328\" xlink:href=\"#DejaVuSans-32\"/>\n     <use x=\"217.773438\" xlink:href=\"#DejaVuSans-110\"/>\n     <use x=\"281.152344\" xlink:href=\"#DejaVuSans-117\"/>\n     <use x=\"344.53125\" xlink:href=\"#DejaVuSans-109\"/>\n     <use x=\"441.943359\" xlink:href=\"#DejaVuSans-98\"/>\n     <use x=\"505.419922\" xlink:href=\"#DejaVuSans-101\"/>\n     <use x=\"566.943359\" xlink:href=\"#DejaVuSans-114\"/>\n     <use x=\"608.056641\" xlink:href=\"#DejaVuSans-32\"/>\n     <use x=\"639.84375\" xlink:href=\"#DejaVuSans-34\"/>\n     <use x=\"685.839844\" xlink:href=\"#DejaVuSans-56\"/>\n     <use x=\"749.462891\" xlink:href=\"#DejaVuSans-34\"/>\n    </g>\n   </g>\n  </g>\n  <g id=\"axes_17\">\n   <g id=\"patch_82\">\n    <path d=\"M 223.012195 339.49244 \nL 311.47561 339.49244 \nL 311.47561 251.029026 \nL 223.012195 251.029026 \nz\n\" style=\"fill:#ffffff;\"/>\n   </g>\n   <g clip-path=\"url(#p0e5957ba8f)\">\n    <image height=\"89\" id=\"image50754dc931\" transform=\"scale(1 -1)translate(0 -89)\" width=\"89\" x=\"223.012195\" xlink:href=\"data:image/png;base64,\niVBORw0KGgoAAAANSUhEUgAAAFkAAABZCAYAAABVC4ivAAAABHNCSVQICAgIfAhkiAAABbhJREFUeJztnEtLVV8YxpdZammlpUheE6K8JCqKpjkQFBOyUJxYsz6AEwcOxM+gzsJxhJOkgkbeRqYOvIAmDrQShTRSunpPbfb4rM3Zctj7+J7+/d/f6GfHtdfude33rOuOMMYcGeVUORPuG/g/oEEWQIMsgAZZAA2yAGdDebHIyEj4lStX4LGxsXalZ4+r/f79O/znz5/wnZ2dUN5aWNGWLIAGWQANsgC+c3J0dDT88uXL8Lt378KvX79ulbl48SJ8dnYW/v79e/jCwgJ8e3vb720GBX9XMIeHhwE9WLQlC6BBFsBTuuCuWl1dHby+vh7+4MEDOKcHY4yJiIiAb2xswNfX1+GvXr2CP3v2DL62tmZda2try/O9G2NMQkIC/NGjR/BLly7BZ2Zm4P39/fDd3d2g6tSWLIAGWQBP6SIzMxP+5MkTeHl5OZxTxOrqqlWeUwFz48YNeEtLC7ywsBA+MTFhlenp6YFzumE4PWVlZVmfVVZWwtvb2+HcU3r79i18amoK7kxdBwcHAevXliyABlmAoNPFmTPHf4+8vDx4fn4+nL+RP336BB8fH7eu1dvbG7CO27dvw3NycuAlJSXwxMREq8ybN2/g3FM5OjpeVYuJiYGXlZVZ5aurq+Hx8fEB72t5eRnOPQqu4yS0JQugQRbAU7ooKiqCp6enw/lbnHsQzvQwOTkZsI65uTn4t2/f4NzTyM7Otsq0tbXBu7q64L9+/YLfuXMH3tHRYZVPSUmB89wFp4inT5/C3VLSSWhLFkCDLICnwQinBS+/w48lP3L7+/vwgYEBeHFxMTwjI8O6VlNTE7yiogL++/dvOPcarl696npfPNU6MjICX1paCni/waItWQANsgAaZAE85WS3vMTdPJ7s4S6fMfbSv9ukCudtnqxxLhFFRUXB09LSAl6Lvx+c9fHWAx6ZDg4OBrxfL2hLFkCDLECECXJ/MqeC+/fvwzs7O+GpqakBf9/5uH39+hXulnr4EQ92NxLXyc6jtOfPn1vlV1ZW4C9evIDzXLHf3UzakgXQIAsQdLpgeH6WR1w1NTVwXooKZoR4EpxuePRljDHz8/PwgoICOM9z80iysbHRKv/hwwf4aW2i0ZYsgAZZAE+DEV6C4ZXcHz9+wD9+/Aj3my74uielC54DZnJzc+Hnz5+3PuNeyGmhLVkADbIAnnoXbrgNBkKJc+sq/3zr1i3448eP4a2trfC+vj6r/MuXL+G88u02p+IFbckCaJAF0CALENIjZn63/fuFu5a8pYDh/dTG2BNOo6OjcJ5U8vt/0ZYsgAZZgJCmi3DD+6Bfv34Nr6qqgt+7d88qwxNJvMzFc96aLv4DaJAF+KfSxd7eHvzz58/wxcVFeG1trVXG7+RVMGhLFkCDLMA/lS545ZsHJrx85WXDoF+0JQugQRYgLOnCba45lPMd3Gtwc2OMOXfuHJwHI/zvvNfZC9qSBdAgCyCSLpyPKL/+gD/jE0te9p/xtXhLbVxcHNyZqvgzPirBK99+N71oSxZAgyyABlmAU8vJnB/5YLsx9ilSfncG7wbipXp+s5azO8XdvqSkJDifQm1oaIBz18wYe/mJ72V6ehr+5csX4wdtyQJokAU4tXTBEzHOLtC7d+/gvNOHV5J5H/HQ0BDceTSCNyDevHkTXlpaCuc0sLm5aZXnuebh4WG489U3ftCWLIAGWQCRER8fJzDGfpkdP658eorfo8Gpg5eYjLFHZteuXYMnJycHrJ/rM8Z+OxenCOc9+0FbsgAaZAFCuj85WHhAwCmCD0U+fPgQ3tzcDHceluTeAg+AuHczNjYG7+7utsrzhhgedIRymUpbsgAaZAHCki6C4cKFC3AeWDhfxcBno92OIPA2Wt4Sa4zM6rW2ZAE0yAL8tenCbarUuZTFvQu3Rz/cJwC0JQugQRZAgyzAX5uT/yW0JQugQRZAgyyABlkADbIAfwB3uO1H8LhuMgAAAABJRU5ErkJggg==\" y=\"-250.49244\"/>\n   </g>\n   <g id=\"matplotlib.axis_33\"/>\n   <g id=\"matplotlib.axis_34\"/>\n   <g id=\"patch_83\">\n    <path d=\"M 223.012195 339.49244 \nL 223.012195 251.029026 \n\" style=\"fill:none;stroke:#000000;stroke-linecap:square;stroke-linejoin:miter;stroke-width:0.8;\"/>\n   </g>\n   <g id=\"patch_84\">\n    <path d=\"M 311.47561 339.49244 \nL 311.47561 251.029026 \n\" style=\"fill:none;stroke:#000000;stroke-linecap:square;stroke-linejoin:miter;stroke-width:0.8;\"/>\n   </g>\n   <g id=\"patch_85\">\n    <path d=\"M 223.012195 339.49244 \nL 311.47561 339.49244 \n\" style=\"fill:none;stroke:#000000;stroke-linecap:square;stroke-linejoin:miter;stroke-width:0.8;\"/>\n   </g>\n   <g id=\"patch_86\">\n    <path d=\"M 223.012195 251.029026 \nL 311.47561 251.029026 \n\" style=\"fill:none;stroke:#000000;stroke-linecap:square;stroke-linejoin:miter;stroke-width:0.8;\"/>\n   </g>\n   <g id=\"text_17\">\n    <!-- The number \"2\" -->\n    <g transform=\"translate(227.471246 245.029026)scale(0.1 -0.1)\">\n     <use xlink:href=\"#DejaVuSans-84\"/>\n     <use x=\"61.083984\" xlink:href=\"#DejaVuSans-104\"/>\n     <use x=\"124.462891\" xlink:href=\"#DejaVuSans-101\"/>\n     <use x=\"185.986328\" xlink:href=\"#DejaVuSans-32\"/>\n     <use x=\"217.773438\" xlink:href=\"#DejaVuSans-110\"/>\n     <use x=\"281.152344\" xlink:href=\"#DejaVuSans-117\"/>\n     <use x=\"344.53125\" xlink:href=\"#DejaVuSans-109\"/>\n     <use x=\"441.943359\" xlink:href=\"#DejaVuSans-98\"/>\n     <use x=\"505.419922\" xlink:href=\"#DejaVuSans-101\"/>\n     <use x=\"566.943359\" xlink:href=\"#DejaVuSans-114\"/>\n     <use x=\"608.056641\" xlink:href=\"#DejaVuSans-32\"/>\n     <use x=\"639.84375\" xlink:href=\"#DejaVuSans-34\"/>\n     <use x=\"685.839844\" xlink:href=\"#DejaVuSans-50\"/>\n     <use x=\"749.462891\" xlink:href=\"#DejaVuSans-34\"/>\n    </g>\n   </g>\n  </g>\n  <g id=\"axes_18\">\n   <g id=\"patch_87\">\n    <path d=\"M 329.168293 339.49244 \nL 417.631707 339.49244 \nL 417.631707 251.029026 \nL 329.168293 251.029026 \nz\n\" style=\"fill:#ffffff;\"/>\n   </g>\n   <g clip-path=\"url(#p8588a5d307)\">\n    <image height=\"89\" id=\"imagef3d34c630e\" transform=\"scale(1 -1)translate(0 -89)\" width=\"89\" x=\"329.168293\" xlink:href=\"data:image/png;base64,\niVBORw0KGgoAAAANSUhEUgAAAFkAAABZCAYAAABVC4ivAAAABHNCSVQICAgIfAhkiAAAA51JREFUeJztnM8rPGEcx2d3iXJw4bRJsQ4UZW9bROGiHPbmIuW+f4ibi9xJuclJG8pFciWK2nJYF7FWUeTX9/b2mWnnm7LzfmbX+3V6Zcbs07vPfpp5nmc24XnelyciJel6AH8BhUygxcWHJpPJmm55f39nDSdyVMkEFDIBJ+1iYmICPjY2Bn96eoLv7e3BLy8v4W9vbxGPrv6okgkoZAIKmUDCIzzxBW/Ttra24HNzc/DPz0/4yckJfGlpCX59fR3BCKNFlUxAIROg3MIF28Xw8DC8ra2t5v+k02l4S4uTO826oUomoJAJOPkePj8/u/hYZ6iSCShkApR2EZwbPjw8hI+MjHwPJuQuIpVKRTIuFqpkAgqZgJO7i6OjI/jCwgK8u7sb3tPTA5+fn4cvLy/7rvXy8hLFEOuKKpmAQibgpF2cn5/DHx4e4LZdtLe3w/P5PHx7e9t3rdPT0yiGWFdUyQQUMgGFTMBJT65UKvDj42N4b28v3M4zDwwMwKempnzXuri4gMd115EqmYBCJuCkXdzf38NXVlbgo6OjcDtx1NraCrfLUsFjahd/GIVMwEm7+Pr63k9zdXUF39/fhw8NDcHtPPP09LTvWuvr6/C4Pv2pkgkoZALOd43Y/cY3Nzc1/27bhX0w8TzPm5mZgcf1wUSVTEAhE3DeLuzX+uDgAL64uAi3DybBvXO5XA6+sbEBv729res4f4MqmYBCJqCQCVBeZ/gpdqeQXddbXV2F23VAz/NvCbDbBay73jagSiagkAk4v4WzfHx8wM/OzuDVahUebBc/2TrgeuJIlUxAIROIVbuw2NZhX6L8H2Gr2q4njlTJBBQygdi2i8fHR7i908hkMr7z7Fxz2Kq26xVtVTIBhUwgtu3C7pfb3NyEZ7NZ33l9fX3wsFVt1yvaqmQCCplAbNuFfRixm152dnZ85xUKBXjYqrZd0Va7aFIUMgGFTCC2Pdny+voKL5fLocdsT7ZbB+y2geBP9fx08uk3qJIJKGQCDdEu7KTO2tqa75h9MrQr1HaZanBwEK520aQoZAIN0S4swY0qu7u78MnJSfjs7Cy8WCzCGe0hiCqZgEIm0HDtIsjd3R3czhuPj4/Du7q6qGMKokomoJAJNHy7SCQS8P7+fnhnZyfczi3b81mokgkoZAIN3y7Clqk6OjrgpVKp5vksVMkEFDIBhUwgVm8/1RP7JpX9fQ1NEDUpCplA07aLOKFKJqCQCfwD/R8A2076C1gAAAAASUVORK5CYII=\" y=\"-250.49244\"/>\n   </g>\n   <g id=\"matplotlib.axis_35\"/>\n   <g id=\"matplotlib.axis_36\"/>\n   <g id=\"patch_88\">\n    <path d=\"M 329.168293 339.49244 \nL 329.168293 251.029026 \n\" style=\"fill:none;stroke:#000000;stroke-linecap:square;stroke-linejoin:miter;stroke-width:0.8;\"/>\n   </g>\n   <g id=\"patch_89\">\n    <path d=\"M 417.631707 339.49244 \nL 417.631707 251.029026 \n\" style=\"fill:none;stroke:#000000;stroke-linecap:square;stroke-linejoin:miter;stroke-width:0.8;\"/>\n   </g>\n   <g id=\"patch_90\">\n    <path d=\"M 329.168293 339.49244 \nL 417.631707 339.49244 \n\" style=\"fill:none;stroke:#000000;stroke-linecap:square;stroke-linejoin:miter;stroke-width:0.8;\"/>\n   </g>\n   <g id=\"patch_91\">\n    <path d=\"M 329.168293 251.029026 \nL 417.631707 251.029026 \n\" style=\"fill:none;stroke:#000000;stroke-linecap:square;stroke-linejoin:miter;stroke-width:0.8;\"/>\n   </g>\n   <g id=\"text_18\">\n    <!-- The number \"1\" -->\n    <g transform=\"translate(333.627344 245.029026)scale(0.1 -0.1)\">\n     <use xlink:href=\"#DejaVuSans-84\"/>\n     <use x=\"61.083984\" xlink:href=\"#DejaVuSans-104\"/>\n     <use x=\"124.462891\" xlink:href=\"#DejaVuSans-101\"/>\n     <use x=\"185.986328\" xlink:href=\"#DejaVuSans-32\"/>\n     <use x=\"217.773438\" xlink:href=\"#DejaVuSans-110\"/>\n     <use x=\"281.152344\" xlink:href=\"#DejaVuSans-117\"/>\n     <use x=\"344.53125\" xlink:href=\"#DejaVuSans-109\"/>\n     <use x=\"441.943359\" xlink:href=\"#DejaVuSans-98\"/>\n     <use x=\"505.419922\" xlink:href=\"#DejaVuSans-101\"/>\n     <use x=\"566.943359\" xlink:href=\"#DejaVuSans-114\"/>\n     <use x=\"608.056641\" xlink:href=\"#DejaVuSans-32\"/>\n     <use x=\"639.84375\" xlink:href=\"#DejaVuSans-34\"/>\n     <use x=\"685.839844\" xlink:href=\"#DejaVuSans-49\"/>\n     <use x=\"749.462891\" xlink:href=\"#DejaVuSans-34\"/>\n    </g>\n   </g>\n  </g>\n  <g id=\"axes_19\">\n   <g id=\"patch_92\">\n    <path d=\"M 435.32439 339.49244 \nL 523.787805 339.49244 \nL 523.787805 251.029026 \nL 435.32439 251.029026 \nz\n\" style=\"fill:#ffffff;\"/>\n   </g>\n   <g clip-path=\"url(#pd8a41c96ff)\">\n    <image height=\"89\" id=\"image004d89a26a\" transform=\"scale(1 -1)translate(0 -89)\" width=\"89\" x=\"435.32439\" xlink:href=\"data:image/png;base64,\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\" y=\"-250.49244\"/>\n   </g>\n   <g id=\"matplotlib.axis_37\"/>\n   <g id=\"matplotlib.axis_38\"/>\n   <g id=\"patch_93\">\n    <path d=\"M 435.32439 339.49244 \nL 435.32439 251.029026 \n\" style=\"fill:none;stroke:#000000;stroke-linecap:square;stroke-linejoin:miter;stroke-width:0.8;\"/>\n   </g>\n   <g id=\"patch_94\">\n    <path d=\"M 523.787805 339.49244 \nL 523.787805 251.029026 \n\" style=\"fill:none;stroke:#000000;stroke-linecap:square;stroke-linejoin:miter;stroke-width:0.8;\"/>\n   </g>\n   <g id=\"patch_95\">\n    <path d=\"M 435.32439 339.49244 \nL 523.787805 339.49244 \n\" style=\"fill:none;stroke:#000000;stroke-linecap:square;stroke-linejoin:miter;stroke-width:0.8;\"/>\n   </g>\n   <g id=\"patch_96\">\n    <path d=\"M 435.32439 251.029026 \nL 523.787805 251.029026 \n\" style=\"fill:none;stroke:#000000;stroke-linecap:square;stroke-linejoin:miter;stroke-width:0.8;\"/>\n   </g>\n   <g id=\"text_19\">\n    <!-- The number \"3\" -->\n    <g transform=\"translate(439.783441 245.029026)scale(0.1 -0.1)\">\n     <use xlink:href=\"#DejaVuSans-84\"/>\n     <use x=\"61.083984\" xlink:href=\"#DejaVuSans-104\"/>\n     <use x=\"124.462891\" xlink:href=\"#DejaVuSans-101\"/>\n     <use x=\"185.986328\" xlink:href=\"#DejaVuSans-32\"/>\n     <use x=\"217.773438\" xlink:href=\"#DejaVuSans-110\"/>\n     <use x=\"281.152344\" xlink:href=\"#DejaVuSans-117\"/>\n     <use x=\"344.53125\" xlink:href=\"#DejaVuSans-109\"/>\n     <use x=\"441.943359\" xlink:href=\"#DejaVuSans-98\"/>\n     <use x=\"505.419922\" xlink:href=\"#DejaVuSans-101\"/>\n     <use x=\"566.943359\" xlink:href=\"#DejaVuSans-114\"/>\n     <use x=\"608.056641\" xlink:href=\"#DejaVuSans-32\"/>\n     <use x=\"639.84375\" xlink:href=\"#DejaVuSans-34\"/>\n     <use x=\"685.839844\" xlink:href=\"#DejaVuSans-51\"/>\n     <use x=\"749.462891\" xlink:href=\"#DejaVuSans-34\"/>\n    </g>\n   </g>\n  </g>\n  <g id=\"axes_20\">\n   <g id=\"patch_97\">\n    <path d=\"M 541.480488 339.49244 \nL 629.943902 339.49244 \nL 629.943902 251.029026 \nL 541.480488 251.029026 \nz\n\" style=\"fill:#ffffff;\"/>\n   </g>\n   <g clip-path=\"url(#p4413de4413)\">\n    <image height=\"89\" id=\"imagefd129d542f\" transform=\"scale(1 -1)translate(0 -89)\" width=\"89\" x=\"541.480488\" xlink:href=\"data:image/png;base64,\niVBORw0KGgoAAAANSUhEUgAAAFkAAABZCAYAAABVC4ivAAAABHNCSVQICAgIfAhkiAAABL1JREFUeJztnLkvNVEYxs/ls+/7FkEiEVv0BI2C0KDQ8QdoJBKVQs8/oFeIggiJSoKERiEhEYUCQSjs+/51j2cmc+43rnzvtby/6ne5M8aTc9575sw5N2CMeTPKfyUi3BfwG9CQBdCQBdCQBdCQBdCQBdCQBdCQBdCQBfjj942RkZHwQCDg+Z7X11dP/+1oSxZAQxbAWi6ioqIcrwsKCt4P+uN92MXFBfz09BT+8vIS8gX+BLQlC6AhC2AtF1wejDFmdHQUXlxcDOdRxMbGBnxiYgK+vr7uONfj4yP8+PgY/vT05Hktz8/Ptsv8FmhLFkBDFsD3zUhaWhq8tLQUzjcm/PPGxkb42dmZ41zX19fwhYUF+NXVFfzy8hK+tLTkeawxHx+5uEuPn3L12ZssbckCaMgCBIzlaXVMTIzjdUdHB3xgYACel5cHz8jIgPNcRzBsIwfuun66dDC4i7vLzeLiItxWrnZ2duBra2vwg4MD6zUz2pIF0JAFsJYL93RmUVERvLu7G15dXQ2vr6+HZ2VlWc/1UT57M/L29v4v+h1dcLnY3d2F80hnbGzMcS6er2G0JQugIQugIQtgrcnBiI2NhScnJ8NbWlrgfX198LKyMsfxPFdte6zFdZTvGHmYZYwxDw8PntfIfyMnJwfungu3fV7wdfEQcGtrC97e3u44Znt72/Nc2pIF0JAF8D1BxNzf33v6+Pg4nO+M+G7RGGNqamrgTU1N8Li4ODh3483NTfj8/LzjXJOTk/Db21t4SkoKvKGhAZ6YmOg4PiLivZ0lJSXBeYIrPj4evrKyAj8/Pzd+0JYsgIYsQEiji4/C3c0YY3Jzc+H8Cc2jE+7ifJfmnpQZGhqCc+m4u7uD256uu/EzIuEScXJy4jieR0SMtmQBNGQBQhpdfBTuusY4u/z09DScP90rKyvhPNmUn5/vOFdzczN8eXkZznPAfieY+H37+/ue7+EbE1t5cKMtWQANWQCR0YVfMjMz4a2trfDBwUG4u1xw9x0ZGYEPDw/D+SYlHGhLFkBDFkBDFuBL1WSGJ4t4gomHbMYY09nZCT88PIT39/fDZ2dn4eFYK60tWQANWYAvWy6YhIQEeHl5ueN3vA66sLAQPjU1Be/t7YW7J3UkdmlpSxZAQxZAZILos/D2B/fTal71w4+SSkpK4Fxu3GultVz8EDRkAb5UueDuzs6Pfz67eDEcaEsWQEMWwHe54O7LXZa7Mm9t8PuEmNecVVRUwKuqqjzPxbuwjHFuoeB545mZGfjR0RE8HBsvtSULoCELYO3T7m5ZW1sL58Uq2dnZ8J6eHjivRfNLamqqpwcbUfDU5dzcHJy3GvB6vXCgLVkADVkADVkAa03m1TzGGNPW1gbnxXi8nYHnet07Wv1g284QbIsYr0ZaXV2F87At3GhLFkBDFsBaLqKjox2v6+rq4LwA8ObmBs5Pi0OBd4HyxnL+lq5gG9B552i4Vw0x2pIF0JAFsD6tTk9Pd7zu6uqC8yf33t4enLt1KPDIwe93XHyHb9rSliyAhiyA78UtPO/LNwf6Fb7/RluyABqyAN9iLdx3R1uyABqyABqyABqyABqyABqyABqyABqyABqyABqyABqyABqyAH8Brqab7YOQE6gAAAAASUVORK5CYII=\" y=\"-250.49244\"/>\n   </g>\n   <g id=\"matplotlib.axis_39\"/>\n   <g id=\"matplotlib.axis_40\"/>\n   <g id=\"patch_98\">\n    <path d=\"M 541.480488 339.49244 \nL 541.480488 251.029026 \n\" style=\"fill:none;stroke:#000000;stroke-linecap:square;stroke-linejoin:miter;stroke-width:0.8;\"/>\n   </g>\n   <g id=\"patch_99\">\n    <path d=\"M 629.943902 339.49244 \nL 629.943902 251.029026 \n\" style=\"fill:none;stroke:#000000;stroke-linecap:square;stroke-linejoin:miter;stroke-width:0.8;\"/>\n   </g>\n   <g id=\"patch_100\">\n    <path d=\"M 541.480488 339.49244 \nL 629.943902 339.49244 \n\" style=\"fill:none;stroke:#000000;stroke-linecap:square;stroke-linejoin:miter;stroke-width:0.8;\"/>\n   </g>\n   <g id=\"patch_101\">\n    <path d=\"M 541.480488 251.029026 \nL 629.943902 251.029026 \n\" style=\"fill:none;stroke:#000000;stroke-linecap:square;stroke-linejoin:miter;stroke-width:0.8;\"/>\n   </g>\n   <g id=\"text_20\">\n    <!-- The number \"2\" -->\n    <g transform=\"translate(545.939539 245.029026)scale(0.1 -0.1)\">\n     <use xlink:href=\"#DejaVuSans-84\"/>\n     <use x=\"61.083984\" xlink:href=\"#DejaVuSans-104\"/>\n     <use x=\"124.462891\" xlink:href=\"#DejaVuSans-101\"/>\n     <use x=\"185.986328\" xlink:href=\"#DejaVuSans-32\"/>\n     <use x=\"217.773438\" xlink:href=\"#DejaVuSans-110\"/>\n     <use x=\"281.152344\" xlink:href=\"#DejaVuSans-117\"/>\n     <use x=\"344.53125\" xlink:href=\"#DejaVuSans-109\"/>\n     <use x=\"441.943359\" xlink:href=\"#DejaVuSans-98\"/>\n     <use x=\"505.419922\" xlink:href=\"#DejaVuSans-101\"/>\n     <use x=\"566.943359\" xlink:href=\"#DejaVuSans-114\"/>\n     <use x=\"608.056641\" xlink:href=\"#DejaVuSans-32\"/>\n     <use x=\"639.84375\" xlink:href=\"#DejaVuSans-34\"/>\n     <use x=\"685.839844\" xlink:href=\"#DejaVuSans-50\"/>\n     <use x=\"749.462891\" xlink:href=\"#DejaVuSans-34\"/>\n    </g>\n   </g>\n  </g>\n  <g id=\"axes_21\">\n   <g id=\"patch_102\">\n    <path d=\"M 647.636585 339.49244 \nL 736.1 339.49244 \nL 736.1 251.029026 \nL 647.636585 251.029026 \nz\n\" style=\"fill:#ffffff;\"/>\n   </g>\n   <g clip-path=\"url(#pd40996a1b8)\">\n    <image height=\"89\" id=\"image53dc15e792\" transform=\"scale(1 -1)translate(0 -89)\" width=\"89\" x=\"647.636585\" xlink:href=\"data:image/png;base64,\niVBORw0KGgoAAAANSUhEUgAAAFkAAABZCAYAAABVC4ivAAAABHNCSVQICAgIfAhkiAAABJ9JREFUeJztnUsoNlEYx8/7IVm4hpQFuW2wkJTLwkop5bZRFlayUJKklIW1ZKHssCMbWchlJ6XYsFAUuaak3IlQLt/u33+mGeF755n39T2/1Y+ZOTM9Pd/znTnnzBEwxnwYxVP++P0A/wMaZAEivWo4KSnJ0T/j9fXV8feRkd9/zNvbW/jV1RX840O+OmomC6BBFiCo5SIiIgLe3NwM7+josJz3/v4Ov7y8hE9MTDi2W1lZCY+NjbUcS0hIgKempsKXl5fhfX19jveTQjNZAA2yABpkAYJakwOBADwxMRGem5trOe/4+Bje1dUFX19fd2x3fHzc8R7GGJOfnw9fXV2FV1VVwUdHR+Fak38pGmQBAsajAaLi4mL42tqa5djR0RG8trYWvru7++37REVFwbe2tuA5OTnwjY0NeHl5ueV6t7fMYKKZLIAGWQDPBoju7u5cj3HPo7S0FP6TcuE24MO9kPj4+G+3G0w0kwXQIAvgWbng8Vx++TDG+j//wMAAfHFxEX5+fu7Vo4mjmSyABlkAz8oFjxHw2LIx1jEGHgMeGhqCt7a2wl9eXlzvYx/LCEU0kwXQIAvgWblg7L2Lk5MTeFZWFry+vh7e398PPzw8dG2bp5/Ymfv7+y8/qxdoJgugQRZAgyyASE22T/l0d3fDBwcH4fwmyN25kZER+NLSkqUtHvzhgSceJ15YWHD8vRSayQJokAUQKRd2Zmdn4dy9W1lZgdfV1cErKirgbW1tlrbOzs4c78HjzH6UCEYzWQANsgC+lAv+p7yzswMfHh6G9/b2wpOTk+GdnZ2Wth4eHuC8jvni4gLOs9h+oJksgAZZAM8Wt/yE6Oho+NjYGLyxsREeExPzpbb29vbgNTU18P39/X95xB+hmSyABlkAX3oXbvA0E7908NgD90CMsfY8QnUqSjNZAA2yABpkAUKqJjNPT0/wmZkZOC9QNMaY9vZ2OL/x8bplt7k/KTSTBdAgCxCy5YLhrt319bXlmNv65IyMDPjU1BS8urract7BwUEwHvFTNJMF0CALEBbl4ifw2192djZ8enracl5ZWRn8+fnZk2fRTBZAgyxA2JUL+34XDPc02Ll05OXlWa5JS0uD2xdGBgvNZAE0yAKERbngMQmeSrIf4zV3vMaup6cHbt/Zq6ioCM7rpnkLn39FM1kADbIAYVEueEnsZxv53dzcwPnDS/6Syn497wDmFZrJAmiQBdAgCxAWNZk/WfjqVFJBQcG3r/EKzWQBNMgChEW5OD09dXRjjMnMzITzaiLeRyMlJQX+9vZmud7+sxdoJgugQRbAl3LBb11xcXHwx8dHOPcovrrdOr8ZsjNzc3OWn3kxYzAHhRjNZAE0yAL4Ui6amprgLS0tcP7wkbfsZdLT013b5Wkmnn7iMjA5OWm55rOtd4KFZrIAGmQBfCkXPNZbUlIC5zLy1a+cGLfvqXkWmv9qgxSayQJokAXw/WNJnv7hHkVDQwO8sLDQ8RxjjNne3oZvbm7C5+fn4TwLrX844JeiQRZAgyyA7zXZDbevl+xbp/O27rwkwO8tcRjNZAE0yAKEbLn4TWgmC6BBFuAv7OlLzwCZtdYAAAAASUVORK5CYII=\" y=\"-250.49244\"/>\n   </g>\n   <g id=\"matplotlib.axis_41\"/>\n   <g id=\"matplotlib.axis_42\"/>\n   <g id=\"patch_103\">\n    <path d=\"M 647.636585 339.49244 \nL 647.636585 251.029026 \n\" style=\"fill:none;stroke:#000000;stroke-linecap:square;stroke-linejoin:miter;stroke-width:0.8;\"/>\n   </g>\n   <g id=\"patch_104\">\n    <path d=\"M 736.1 339.49244 \nL 736.1 251.029026 \n\" style=\"fill:none;stroke:#000000;stroke-linecap:square;stroke-linejoin:miter;stroke-width:0.8;\"/>\n   </g>\n   <g id=\"patch_105\">\n    <path d=\"M 647.636585 339.49244 \nL 736.1 339.49244 \n\" style=\"fill:none;stroke:#000000;stroke-linecap:square;stroke-linejoin:miter;stroke-width:0.8;\"/>\n   </g>\n   <g id=\"patch_106\">\n    <path d=\"M 647.636585 251.029026 \nL 736.1 251.029026 \n\" style=\"fill:none;stroke:#000000;stroke-linecap:square;stroke-linejoin:miter;stroke-width:0.8;\"/>\n   </g>\n   <g id=\"text_21\">\n    <!-- The number \"8\" -->\n    <g transform=\"translate(652.095636 245.029026)scale(0.1 -0.1)\">\n     <use xlink:href=\"#DejaVuSans-84\"/>\n     <use x=\"61.083984\" xlink:href=\"#DejaVuSans-104\"/>\n     <use x=\"124.462891\" xlink:href=\"#DejaVuSans-101\"/>\n     <use x=\"185.986328\" xlink:href=\"#DejaVuSans-32\"/>\n     <use x=\"217.773438\" xlink:href=\"#DejaVuSans-110\"/>\n     <use x=\"281.152344\" xlink:href=\"#DejaVuSans-117\"/>\n     <use x=\"344.53125\" xlink:href=\"#DejaVuSans-109\"/>\n     <use x=\"441.943359\" xlink:href=\"#DejaVuSans-98\"/>\n     <use x=\"505.419922\" xlink:href=\"#DejaVuSans-101\"/>\n     <use x=\"566.943359\" xlink:href=\"#DejaVuSans-114\"/>\n     <use x=\"608.056641\" xlink:href=\"#DejaVuSans-32\"/>\n     <use x=\"639.84375\" xlink:href=\"#DejaVuSans-34\"/>\n     <use x=\"685.839844\" xlink:href=\"#DejaVuSans-56\"/>\n     <use x=\"749.462891\" xlink:href=\"#DejaVuSans-34\"/>\n    </g>\n   </g>\n  </g>\n </g>\n <defs>\n  <clipPath id=\"pd50519862e\">\n   <rect height=\"88.463415\" width=\"88.463415\" x=\"10.7\" y=\"20.798437\"/>\n  </clipPath>\n  <clipPath id=\"pf136b52c75\">\n   <rect height=\"88.463415\" width=\"88.463415\" x=\"116.856098\" y=\"20.798437\"/>\n  </clipPath>\n  <clipPath id=\"p2169be9869\">\n   <rect height=\"88.463415\" width=\"88.463415\" x=\"223.012195\" y=\"20.798437\"/>\n  </clipPath>\n  <clipPath id=\"pd26ab5fa47\">\n   <rect height=\"88.463415\" width=\"88.463415\" x=\"329.168293\" y=\"20.798437\"/>\n  </clipPath>\n  <clipPath id=\"p9c46d2baa8\">\n   <rect height=\"88.463415\" width=\"88.463415\" x=\"435.32439\" y=\"20.798437\"/>\n  </clipPath>\n  <clipPath id=\"p352d2bbc9b\">\n   <rect height=\"88.463415\" width=\"88.463415\" x=\"541.480488\" y=\"20.798437\"/>\n  </clipPath>\n  <clipPath id=\"pc29a846ab4\">\n   <rect height=\"88.463415\" width=\"88.463415\" x=\"647.636585\" y=\"20.798437\"/>\n  </clipPath>\n  <clipPath id=\"p17840b286e\">\n   <rect height=\"88.463415\" width=\"88.463415\" x=\"10.7\" y=\"135.913732\"/>\n  </clipPath>\n  <clipPath id=\"p1df53d3f72\">\n   <rect height=\"88.463415\" width=\"88.463415\" x=\"116.856098\" y=\"135.913732\"/>\n  </clipPath>\n  <clipPath id=\"p5c21db9a43\">\n   <rect height=\"88.463415\" width=\"88.463415\" x=\"223.012195\" y=\"135.913732\"/>\n  </clipPath>\n  <clipPath id=\"pbcbeb0764b\">\n   <rect height=\"88.463415\" width=\"88.463415\" x=\"329.168293\" y=\"135.913732\"/>\n  </clipPath>\n  <clipPath id=\"p418ba6c17b\">\n   <rect height=\"88.463415\" width=\"88.463415\" x=\"435.32439\" y=\"135.913732\"/>\n  </clipPath>\n  <clipPath id=\"pa4bace33be\">\n   <rect height=\"88.463415\" width=\"88.463415\" x=\"541.480488\" y=\"135.913732\"/>\n  </clipPath>\n  <clipPath id=\"p5be0e6450a\">\n   <rect height=\"88.463415\" width=\"88.463415\" x=\"647.636585\" y=\"135.913732\"/>\n  </clipPath>\n  <clipPath id=\"p17c0008c5f\">\n   <rect height=\"88.463415\" width=\"88.463415\" x=\"10.7\" y=\"251.029026\"/>\n  </clipPath>\n  <clipPath id=\"p128f67554e\">\n   <rect height=\"88.463415\" width=\"88.463415\" x=\"116.856098\" y=\"251.029026\"/>\n  </clipPath>\n  <clipPath id=\"p0e5957ba8f\">\n   <rect height=\"88.463415\" width=\"88.463415\" x=\"223.012195\" y=\"251.029026\"/>\n  </clipPath>\n  <clipPath id=\"p8588a5d307\">\n   <rect height=\"88.463415\" width=\"88.463415\" x=\"329.168293\" y=\"251.029026\"/>\n  </clipPath>\n  <clipPath id=\"pd8a41c96ff\">\n   <rect height=\"88.463415\" width=\"88.463415\" x=\"435.32439\" y=\"251.029026\"/>\n  </clipPath>\n  <clipPath id=\"p4413de4413\">\n   <rect height=\"88.463415\" width=\"88.463415\" x=\"541.480488\" y=\"251.029026\"/>\n  </clipPath>\n  <clipPath id=\"pd40996a1b8\">\n   <rect height=\"88.463415\" width=\"88.463415\" x=\"647.636585\" y=\"251.029026\"/>\n  </clipPath>\n </defs>\n</svg>\n"
          },
          "metadata": {}
        }
      ]
    },
    {
      "cell_type": "markdown",
      "source": [
        "## Create the DL model"
      ],
      "metadata": {
        "id": "BmY0vHmaNcuT"
      }
    },
    {
      "cell_type": "code",
      "source": [
        "# create a class for the model\n",
        "def makeTheNet(printtoggle=False):\n",
        "\n",
        "  class emnistnet(nn.Module):\n",
        "    def __init__(self,printtoggle):\n",
        "      super().__init__()\n",
        "      \n",
        "      # print toggle\n",
        "      self.print = printtoggle\n",
        "\n",
        "      ### -------------- feature map layers -------------- ###\n",
        "      # first convolution layer\n",
        "      self.conv1  = nn.Conv2d(1,6,3,padding=1)\n",
        "      self.bnorm1 = nn.BatchNorm2d(6) # input the number of channels in this layer\n",
        "      # output size: (28+2*1-3)/1 + 1 = 28/2 = 14 (/2 b/c maxpool)\n",
        "\n",
        "      # second convolution layer\n",
        "      self.conv2  = nn.Conv2d(6,6,3,padding=1)\n",
        "      self.bnorm2 = nn.BatchNorm2d(6) # input the number of channels in this layer\n",
        "      # output size: (14+2*1-3)/1 + 1 = 14/2 = 7 (/2 b/c maxpool)\n",
        "\n",
        "      \n",
        "      ### -------------- linear decision layers -------------- ###\n",
        "      self.fc1 = nn.Linear(7*7*6,50)\n",
        "      self.fc2 = nn.Linear(50,26)\n",
        "\n",
        "    def forward(self,x):\n",
        "      \n",
        "      if self.print: print(f'Input: {list(x.shape)}')\n",
        "      \n",
        "      # first block: convolution -> maxpool -> batchnorm -> relu\n",
        "      x = F.max_pool2d(self.conv1(x),2)\n",
        "      x = F.leaky_relu(self.bnorm1(x))\n",
        "      if self.print: print(f'First CPR block: {list(x.shape)}')\n",
        "\n",
        "      # second block: convolution -> maxpool -> batchnorm -> relu\n",
        "      x = F.max_pool2d(self.conv2(x),2)\n",
        "      x = F.leaky_relu(self.bnorm2(x))\n",
        "      if self.print: print(f'Second CPR block: {list(x.shape)}')\n",
        "\n",
        "      # reshape for linear layer\n",
        "      nUnits = x.shape.numel()/x.shape[0]\n",
        "      x = x.view(-1,int(nUnits))\n",
        "      if self.print: print(f'Vectorized: {list(x.shape)}')\n",
        "      \n",
        "      # linear layers\n",
        "      x = F.leaky_relu(self.fc1(x))\n",
        "      x = self.fc2(x)\n",
        "      if self.print: print(f'Final output: {list(x.shape)}')\n",
        "\n",
        "      return x\n",
        "\n",
        "  # create the model instance\n",
        "  net = emnistnet(printtoggle)\n",
        "  \n",
        "  # loss function\n",
        "  lossfun = nn.CrossEntropyLoss()\n",
        "\n",
        "  # optimizer\n",
        "  optimizer = torch.optim.Adam(net.parameters(),lr=.001)\n",
        "\n",
        "  return net,lossfun,optimizer"
      ],
      "metadata": {
        "id": "GWP4uca7Mc-T"
      },
      "execution_count": 9,
      "outputs": []
    },
    {
      "cell_type": "markdown",
      "source": [
        "## Create a function that trains the model"
      ],
      "metadata": {
        "id": "vylNCLYHNfnb"
      }
    },
    {
      "cell_type": "code",
      "source": [
        "# a function that trains the model\n",
        "\n",
        "def function2trainTheModel(net,optimizer,train_loader,test_loader,numepochs=10):\n",
        "\n",
        "  # send the model to the GPU\n",
        "  net.to(device)\n",
        "\n",
        "  # initialize losses\n",
        "  trainLoss = torch.zeros(numepochs)\n",
        "  testLoss  = torch.zeros(numepochs)\n",
        "  trainErr  = torch.zeros(numepochs)\n",
        "  testErr   = torch.zeros(numepochs)\n",
        "\n",
        "\n",
        "  # loop over epochs\n",
        "  for epochi in range(numepochs):\n",
        "    print('Epoch Number starts: ', epochi + 1)\n",
        "\n",
        "    # loop over training data batches\n",
        "    net.train()\n",
        "    batchLoss = []\n",
        "    batchErr  = []\n",
        "    for X,y in train_loader:\n",
        "\n",
        "      # push data to GPU\n",
        "      X = X.to(device)\n",
        "      y = y.to(device)\n",
        "\n",
        "      # forward pass and loss\n",
        "      yHat = net(X)\n",
        "      loss = lossfun(yHat,y)\n",
        "\n",
        "      # backprop\n",
        "      optimizer.zero_grad()\n",
        "      loss.backward()\n",
        "      optimizer.step()\n",
        "\n",
        "      # loss and error from this batch\n",
        "      batchLoss.append(loss.item())\n",
        "      batchErr.append( torch.mean((torch.argmax(yHat,axis=1) != y).float()).item() )\n",
        "    # end of batch loop...\n",
        "\n",
        "    # and get average losses and error rates across the batches\n",
        "    trainLoss[epochi] = np.mean(batchLoss)\n",
        "    trainErr[epochi]  = 100*np.mean(batchErr)\n",
        "\n",
        "\n",
        "\n",
        "    ### test performance\n",
        "    net.eval()\n",
        "    X,y = next(iter(test_loader)) # extract X,y from test dataloader\n",
        "\n",
        "    # push data to GPU\n",
        "    X = X.to(device)\n",
        "    y = y.to(device)\n",
        "\n",
        "    with torch.no_grad(): # deactivates autograd\n",
        "      yHat = net(X)\n",
        "      loss = lossfun(yHat,y)\n",
        "      \n",
        "    # get loss and error rate from the test batch\n",
        "    testLoss[epochi] = loss.item()\n",
        "    testErr[epochi]  = 100*torch.mean((torch.argmax(yHat,axis=1) != y).float()).item()\n",
        "    \n",
        "    print('Epoch Number finished: ', epochi + 1)\n",
        "\n",
        "  # end epochs\n",
        "\n",
        "  # function output\n",
        "  return trainLoss,testLoss,trainErr,testErr,net"
      ],
      "metadata": {
        "id": "e4Kd2k0tMc7j"
      },
      "execution_count": 26,
      "outputs": []
    },
    {
      "cell_type": "markdown",
      "source": [
        "## Train the model on the letters"
      ],
      "metadata": {
        "id": "3qFxFDb4NjVb"
      }
    },
    {
      "cell_type": "code",
      "source": [
        "%%time\n",
        "# create a new model\n",
        "letterNet,lossfun,optimizer = makeTheNet()\n",
        "\n",
        "trainLoss,testLoss,trainErr,testErr,letterNet = function2trainTheModel(\n",
        "                                                letterNet,optimizer,letter_train_loader,letter_test_loader,5)"
      ],
      "metadata": {
        "id": "bmkjpmQHMc4r"
      },
      "execution_count": 11,
      "outputs": []
    },
    {
      "cell_type": "code",
      "source": [
        "fig,ax = plt.subplots(1,2,figsize=(16,5))\n",
        "\n",
        "ax[0].plot(trainLoss,'s-',label='Train')\n",
        "ax[0].plot(testLoss,'o-',label='Test')\n",
        "ax[0].set_xlabel('Epochs')\n",
        "ax[0].set_ylabel('Loss (MSE)')\n",
        "ax[0].set_title('Model loss')\n",
        "\n",
        "ax[1].plot(trainErr,'s-',label='Train')\n",
        "ax[1].plot(testErr,'o-',label='Test')\n",
        "ax[1].set_xlabel('Epochs')\n",
        "ax[1].set_ylabel('Error rates (%)')\n",
        "ax[1].set_title(f'Final model test error rate: {testErr[-1]:.2f}%')\n",
        "ax[1].legend()\n",
        "\n",
        "plt.show()"
      ],
      "metadata": {
        "colab": {
          "base_uri": "https://localhost:8080/",
          "height": 463
        },
        "id": "7ya2dcywMahq",
        "outputId": "9a09c1d2-326d-4346-f925-e51a67a1a0ad"
      },
      "execution_count": 12,
      "outputs": [
        {
          "output_type": "display_data",
          "data": {
            "text/plain": [
              "<Figure size 1152x360 with 2 Axes>"
            ],
            "image/svg+xml": "<?xml version=\"1.0\" encoding=\"utf-8\" standalone=\"no\"?>\n<!DOCTYPE svg PUBLIC \"-//W3C//DTD SVG 1.1//EN\"\n  \"http://www.w3.org/Graphics/SVG/1.1/DTD/svg11.dtd\">\n<!-- Created with matplotlib (https://matplotlib.org/) -->\n<svg height=\"331.674375pt\" version=\"1.1\" viewBox=\"0 0 950.14375 331.674375\" width=\"950.14375pt\" xmlns=\"http://www.w3.org/2000/svg\" xmlns:xlink=\"http://www.w3.org/1999/xlink\">\n <defs>\n  <style type=\"text/css\">\n*{stroke-linecap:butt;stroke-linejoin:round;}\n  </style>\n </defs>\n <g id=\"figure_1\">\n  <g id=\"patch_1\">\n   <path d=\"M 0 331.674375 \nL 950.14375 331.674375 \nL 950.14375 0 \nL 0 0 \nz\n\" style=\"fill:none;\"/>\n  </g>\n  <g id=\"axes_1\">\n   <g id=\"patch_2\">\n    <path d=\"M 50.14375 294.118125 \nL 455.961932 294.118125 \nL 455.961932 22.318125 \nL 50.14375 22.318125 \nz\n\" style=\"fill:#ffffff;\"/>\n   </g>\n   <g id=\"matplotlib.axis_1\">\n    <g id=\"xtick_1\">\n     <g id=\"line2d_1\">\n      <defs>\n       <path d=\"M 0 0 \nL 0 3.5 \n\" id=\"m65fd8fa694\" style=\"stroke:#000000;stroke-width:0.8;\"/>\n      </defs>\n      <g>\n       <use style=\"stroke:#000000;stroke-width:0.8;\" x=\"68.590031\" xlink:href=\"#m65fd8fa694\" y=\"294.118125\"/>\n      </g>\n     </g>\n     <g id=\"text_1\">\n      <!-- 0.0 -->\n      <defs>\n       <path d=\"M 31.78125 66.40625 \nQ 24.171875 66.40625 20.328125 58.90625 \nQ 16.5 51.421875 16.5 36.375 \nQ 16.5 21.390625 20.328125 13.890625 \nQ 24.171875 6.390625 31.78125 6.390625 \nQ 39.453125 6.390625 43.28125 13.890625 \nQ 47.125 21.390625 47.125 36.375 \nQ 47.125 51.421875 43.28125 58.90625 \nQ 39.453125 66.40625 31.78125 66.40625 \nz\nM 31.78125 74.21875 \nQ 44.046875 74.21875 50.515625 64.515625 \nQ 56.984375 54.828125 56.984375 36.375 \nQ 56.984375 17.96875 50.515625 8.265625 \nQ 44.046875 -1.421875 31.78125 -1.421875 \nQ 19.53125 -1.421875 13.0625 8.265625 \nQ 6.59375 17.96875 6.59375 36.375 \nQ 6.59375 54.828125 13.0625 64.515625 \nQ 19.53125 74.21875 31.78125 74.21875 \nz\n\" id=\"DejaVuSans-48\"/>\n       <path d=\"M 10.6875 12.40625 \nL 21 12.40625 \nL 21 0 \nL 10.6875 0 \nz\n\" id=\"DejaVuSans-46\"/>\n      </defs>\n      <g transform=\"translate(60.638468 308.716563)scale(0.1 -0.1)\">\n       <use xlink:href=\"#DejaVuSans-48\"/>\n       <use x=\"63.623047\" xlink:href=\"#DejaVuSans-46\"/>\n       <use x=\"95.410156\" xlink:href=\"#DejaVuSans-48\"/>\n      </g>\n     </g>\n    </g>\n    <g id=\"xtick_2\">\n     <g id=\"line2d_2\">\n      <g>\n       <use style=\"stroke:#000000;stroke-width:0.8;\" x=\"114.705733\" xlink:href=\"#m65fd8fa694\" y=\"294.118125\"/>\n      </g>\n     </g>\n     <g id=\"text_2\">\n      <!-- 0.5 -->\n      <defs>\n       <path d=\"M 10.796875 72.90625 \nL 49.515625 72.90625 \nL 49.515625 64.59375 \nL 19.828125 64.59375 \nL 19.828125 46.734375 \nQ 21.96875 47.46875 24.109375 47.828125 \nQ 26.265625 48.1875 28.421875 48.1875 \nQ 40.625 48.1875 47.75 41.5 \nQ 54.890625 34.8125 54.890625 23.390625 \nQ 54.890625 11.625 47.5625 5.09375 \nQ 40.234375 -1.421875 26.90625 -1.421875 \nQ 22.3125 -1.421875 17.546875 -0.640625 \nQ 12.796875 0.140625 7.71875 1.703125 \nL 7.71875 11.625 \nQ 12.109375 9.234375 16.796875 8.0625 \nQ 21.484375 6.890625 26.703125 6.890625 \nQ 35.15625 6.890625 40.078125 11.328125 \nQ 45.015625 15.765625 45.015625 23.390625 \nQ 45.015625 31 40.078125 35.4375 \nQ 35.15625 39.890625 26.703125 39.890625 \nQ 22.75 39.890625 18.8125 39.015625 \nQ 14.890625 38.140625 10.796875 36.28125 \nz\n\" id=\"DejaVuSans-53\"/>\n      </defs>\n      <g transform=\"translate(106.754171 308.716563)scale(0.1 -0.1)\">\n       <use xlink:href=\"#DejaVuSans-48\"/>\n       <use x=\"63.623047\" xlink:href=\"#DejaVuSans-46\"/>\n       <use x=\"95.410156\" xlink:href=\"#DejaVuSans-53\"/>\n      </g>\n     </g>\n    </g>\n    <g id=\"xtick_3\">\n     <g id=\"line2d_3\">\n      <g>\n       <use style=\"stroke:#000000;stroke-width:0.8;\" x=\"160.821436\" xlink:href=\"#m65fd8fa694\" y=\"294.118125\"/>\n      </g>\n     </g>\n     <g id=\"text_3\">\n      <!-- 1.0 -->\n      <defs>\n       <path d=\"M 12.40625 8.296875 \nL 28.515625 8.296875 \nL 28.515625 63.921875 \nL 10.984375 60.40625 \nL 10.984375 69.390625 \nL 28.421875 72.90625 \nL 38.28125 72.90625 \nL 38.28125 8.296875 \nL 54.390625 8.296875 \nL 54.390625 0 \nL 12.40625 0 \nz\n\" id=\"DejaVuSans-49\"/>\n      </defs>\n      <g transform=\"translate(152.869873 308.716563)scale(0.1 -0.1)\">\n       <use xlink:href=\"#DejaVuSans-49\"/>\n       <use x=\"63.623047\" xlink:href=\"#DejaVuSans-46\"/>\n       <use x=\"95.410156\" xlink:href=\"#DejaVuSans-48\"/>\n      </g>\n     </g>\n    </g>\n    <g id=\"xtick_4\">\n     <g id=\"line2d_4\">\n      <g>\n       <use style=\"stroke:#000000;stroke-width:0.8;\" x=\"206.937138\" xlink:href=\"#m65fd8fa694\" y=\"294.118125\"/>\n      </g>\n     </g>\n     <g id=\"text_4\">\n      <!-- 1.5 -->\n      <g transform=\"translate(198.985576 308.716563)scale(0.1 -0.1)\">\n       <use xlink:href=\"#DejaVuSans-49\"/>\n       <use x=\"63.623047\" xlink:href=\"#DejaVuSans-46\"/>\n       <use x=\"95.410156\" xlink:href=\"#DejaVuSans-53\"/>\n      </g>\n     </g>\n    </g>\n    <g id=\"xtick_5\">\n     <g id=\"line2d_5\">\n      <g>\n       <use style=\"stroke:#000000;stroke-width:0.8;\" x=\"253.052841\" xlink:href=\"#m65fd8fa694\" y=\"294.118125\"/>\n      </g>\n     </g>\n     <g id=\"text_5\">\n      <!-- 2.0 -->\n      <defs>\n       <path d=\"M 19.1875 8.296875 \nL 53.609375 8.296875 \nL 53.609375 0 \nL 7.328125 0 \nL 7.328125 8.296875 \nQ 12.9375 14.109375 22.625 23.890625 \nQ 32.328125 33.6875 34.8125 36.53125 \nQ 39.546875 41.84375 41.421875 45.53125 \nQ 43.3125 49.21875 43.3125 52.78125 \nQ 43.3125 58.59375 39.234375 62.25 \nQ 35.15625 65.921875 28.609375 65.921875 \nQ 23.96875 65.921875 18.8125 64.3125 \nQ 13.671875 62.703125 7.8125 59.421875 \nL 7.8125 69.390625 \nQ 13.765625 71.78125 18.9375 73 \nQ 24.125 74.21875 28.421875 74.21875 \nQ 39.75 74.21875 46.484375 68.546875 \nQ 53.21875 62.890625 53.21875 53.421875 \nQ 53.21875 48.921875 51.53125 44.890625 \nQ 49.859375 40.875 45.40625 35.40625 \nQ 44.1875 33.984375 37.640625 27.21875 \nQ 31.109375 20.453125 19.1875 8.296875 \nz\n\" id=\"DejaVuSans-50\"/>\n      </defs>\n      <g transform=\"translate(245.101278 308.716563)scale(0.1 -0.1)\">\n       <use xlink:href=\"#DejaVuSans-50\"/>\n       <use x=\"63.623047\" xlink:href=\"#DejaVuSans-46\"/>\n       <use x=\"95.410156\" xlink:href=\"#DejaVuSans-48\"/>\n      </g>\n     </g>\n    </g>\n    <g id=\"xtick_6\">\n     <g id=\"line2d_6\">\n      <g>\n       <use style=\"stroke:#000000;stroke-width:0.8;\" x=\"299.168543\" xlink:href=\"#m65fd8fa694\" y=\"294.118125\"/>\n      </g>\n     </g>\n     <g id=\"text_6\">\n      <!-- 2.5 -->\n      <g transform=\"translate(291.216981 308.716563)scale(0.1 -0.1)\">\n       <use xlink:href=\"#DejaVuSans-50\"/>\n       <use x=\"63.623047\" xlink:href=\"#DejaVuSans-46\"/>\n       <use x=\"95.410156\" xlink:href=\"#DejaVuSans-53\"/>\n      </g>\n     </g>\n    </g>\n    <g id=\"xtick_7\">\n     <g id=\"line2d_7\">\n      <g>\n       <use style=\"stroke:#000000;stroke-width:0.8;\" x=\"345.284246\" xlink:href=\"#m65fd8fa694\" y=\"294.118125\"/>\n      </g>\n     </g>\n     <g id=\"text_7\">\n      <!-- 3.0 -->\n      <defs>\n       <path d=\"M 40.578125 39.3125 \nQ 47.65625 37.796875 51.625 33 \nQ 55.609375 28.21875 55.609375 21.1875 \nQ 55.609375 10.40625 48.1875 4.484375 \nQ 40.765625 -1.421875 27.09375 -1.421875 \nQ 22.515625 -1.421875 17.65625 -0.515625 \nQ 12.796875 0.390625 7.625 2.203125 \nL 7.625 11.71875 \nQ 11.71875 9.328125 16.59375 8.109375 \nQ 21.484375 6.890625 26.8125 6.890625 \nQ 36.078125 6.890625 40.9375 10.546875 \nQ 45.796875 14.203125 45.796875 21.1875 \nQ 45.796875 27.640625 41.28125 31.265625 \nQ 36.765625 34.90625 28.71875 34.90625 \nL 20.21875 34.90625 \nL 20.21875 43.015625 \nL 29.109375 43.015625 \nQ 36.375 43.015625 40.234375 45.921875 \nQ 44.09375 48.828125 44.09375 54.296875 \nQ 44.09375 59.90625 40.109375 62.90625 \nQ 36.140625 65.921875 28.71875 65.921875 \nQ 24.65625 65.921875 20.015625 65.03125 \nQ 15.375 64.15625 9.8125 62.3125 \nL 9.8125 71.09375 \nQ 15.4375 72.65625 20.34375 73.4375 \nQ 25.25 74.21875 29.59375 74.21875 \nQ 40.828125 74.21875 47.359375 69.109375 \nQ 53.90625 64.015625 53.90625 55.328125 \nQ 53.90625 49.265625 50.4375 45.09375 \nQ 46.96875 40.921875 40.578125 39.3125 \nz\n\" id=\"DejaVuSans-51\"/>\n      </defs>\n      <g transform=\"translate(337.332683 308.716563)scale(0.1 -0.1)\">\n       <use xlink:href=\"#DejaVuSans-51\"/>\n       <use x=\"63.623047\" xlink:href=\"#DejaVuSans-46\"/>\n       <use x=\"95.410156\" xlink:href=\"#DejaVuSans-48\"/>\n      </g>\n     </g>\n    </g>\n    <g id=\"xtick_8\">\n     <g id=\"line2d_8\">\n      <g>\n       <use style=\"stroke:#000000;stroke-width:0.8;\" x=\"391.399948\" xlink:href=\"#m65fd8fa694\" y=\"294.118125\"/>\n      </g>\n     </g>\n     <g id=\"text_8\">\n      <!-- 3.5 -->\n      <g transform=\"translate(383.448386 308.716563)scale(0.1 -0.1)\">\n       <use xlink:href=\"#DejaVuSans-51\"/>\n       <use x=\"63.623047\" xlink:href=\"#DejaVuSans-46\"/>\n       <use x=\"95.410156\" xlink:href=\"#DejaVuSans-53\"/>\n      </g>\n     </g>\n    </g>\n    <g id=\"xtick_9\">\n     <g id=\"line2d_9\">\n      <g>\n       <use style=\"stroke:#000000;stroke-width:0.8;\" x=\"437.515651\" xlink:href=\"#m65fd8fa694\" y=\"294.118125\"/>\n      </g>\n     </g>\n     <g id=\"text_9\">\n      <!-- 4.0 -->\n      <defs>\n       <path d=\"M 37.796875 64.3125 \nL 12.890625 25.390625 \nL 37.796875 25.390625 \nz\nM 35.203125 72.90625 \nL 47.609375 72.90625 \nL 47.609375 25.390625 \nL 58.015625 25.390625 \nL 58.015625 17.1875 \nL 47.609375 17.1875 \nL 47.609375 0 \nL 37.796875 0 \nL 37.796875 17.1875 \nL 4.890625 17.1875 \nL 4.890625 26.703125 \nz\n\" id=\"DejaVuSans-52\"/>\n      </defs>\n      <g transform=\"translate(429.564088 308.716563)scale(0.1 -0.1)\">\n       <use xlink:href=\"#DejaVuSans-52\"/>\n       <use x=\"63.623047\" xlink:href=\"#DejaVuSans-46\"/>\n       <use x=\"95.410156\" xlink:href=\"#DejaVuSans-48\"/>\n      </g>\n     </g>\n    </g>\n    <g id=\"text_10\">\n     <!-- Epochs -->\n     <defs>\n      <path d=\"M 9.8125 72.90625 \nL 55.90625 72.90625 \nL 55.90625 64.59375 \nL 19.671875 64.59375 \nL 19.671875 43.015625 \nL 54.390625 43.015625 \nL 54.390625 34.71875 \nL 19.671875 34.71875 \nL 19.671875 8.296875 \nL 56.78125 8.296875 \nL 56.78125 0 \nL 9.8125 0 \nz\n\" id=\"DejaVuSans-69\"/>\n      <path d=\"M 18.109375 8.203125 \nL 18.109375 -20.796875 \nL 9.078125 -20.796875 \nL 9.078125 54.6875 \nL 18.109375 54.6875 \nL 18.109375 46.390625 \nQ 20.953125 51.265625 25.265625 53.625 \nQ 29.59375 56 35.59375 56 \nQ 45.5625 56 51.78125 48.09375 \nQ 58.015625 40.1875 58.015625 27.296875 \nQ 58.015625 14.40625 51.78125 6.484375 \nQ 45.5625 -1.421875 35.59375 -1.421875 \nQ 29.59375 -1.421875 25.265625 0.953125 \nQ 20.953125 3.328125 18.109375 8.203125 \nz\nM 48.6875 27.296875 \nQ 48.6875 37.203125 44.609375 42.84375 \nQ 40.53125 48.484375 33.40625 48.484375 \nQ 26.265625 48.484375 22.1875 42.84375 \nQ 18.109375 37.203125 18.109375 27.296875 \nQ 18.109375 17.390625 22.1875 11.75 \nQ 26.265625 6.109375 33.40625 6.109375 \nQ 40.53125 6.109375 44.609375 11.75 \nQ 48.6875 17.390625 48.6875 27.296875 \nz\n\" id=\"DejaVuSans-112\"/>\n      <path d=\"M 30.609375 48.390625 \nQ 23.390625 48.390625 19.1875 42.75 \nQ 14.984375 37.109375 14.984375 27.296875 \nQ 14.984375 17.484375 19.15625 11.84375 \nQ 23.34375 6.203125 30.609375 6.203125 \nQ 37.796875 6.203125 41.984375 11.859375 \nQ 46.1875 17.53125 46.1875 27.296875 \nQ 46.1875 37.015625 41.984375 42.703125 \nQ 37.796875 48.390625 30.609375 48.390625 \nz\nM 30.609375 56 \nQ 42.328125 56 49.015625 48.375 \nQ 55.71875 40.765625 55.71875 27.296875 \nQ 55.71875 13.875 49.015625 6.21875 \nQ 42.328125 -1.421875 30.609375 -1.421875 \nQ 18.84375 -1.421875 12.171875 6.21875 \nQ 5.515625 13.875 5.515625 27.296875 \nQ 5.515625 40.765625 12.171875 48.375 \nQ 18.84375 56 30.609375 56 \nz\n\" id=\"DejaVuSans-111\"/>\n      <path d=\"M 48.78125 52.59375 \nL 48.78125 44.1875 \nQ 44.96875 46.296875 41.140625 47.34375 \nQ 37.3125 48.390625 33.40625 48.390625 \nQ 24.65625 48.390625 19.8125 42.84375 \nQ 14.984375 37.3125 14.984375 27.296875 \nQ 14.984375 17.28125 19.8125 11.734375 \nQ 24.65625 6.203125 33.40625 6.203125 \nQ 37.3125 6.203125 41.140625 7.25 \nQ 44.96875 8.296875 48.78125 10.40625 \nL 48.78125 2.09375 \nQ 45.015625 0.34375 40.984375 -0.53125 \nQ 36.96875 -1.421875 32.421875 -1.421875 \nQ 20.0625 -1.421875 12.78125 6.34375 \nQ 5.515625 14.109375 5.515625 27.296875 \nQ 5.515625 40.671875 12.859375 48.328125 \nQ 20.21875 56 33.015625 56 \nQ 37.15625 56 41.109375 55.140625 \nQ 45.0625 54.296875 48.78125 52.59375 \nz\n\" id=\"DejaVuSans-99\"/>\n      <path d=\"M 54.890625 33.015625 \nL 54.890625 0 \nL 45.90625 0 \nL 45.90625 32.71875 \nQ 45.90625 40.484375 42.875 44.328125 \nQ 39.84375 48.1875 33.796875 48.1875 \nQ 26.515625 48.1875 22.3125 43.546875 \nQ 18.109375 38.921875 18.109375 30.90625 \nL 18.109375 0 \nL 9.078125 0 \nL 9.078125 75.984375 \nL 18.109375 75.984375 \nL 18.109375 46.1875 \nQ 21.34375 51.125 25.703125 53.5625 \nQ 30.078125 56 35.796875 56 \nQ 45.21875 56 50.046875 50.171875 \nQ 54.890625 44.34375 54.890625 33.015625 \nz\n\" id=\"DejaVuSans-104\"/>\n      <path d=\"M 44.28125 53.078125 \nL 44.28125 44.578125 \nQ 40.484375 46.53125 36.375 47.5 \nQ 32.28125 48.484375 27.875 48.484375 \nQ 21.1875 48.484375 17.84375 46.4375 \nQ 14.5 44.390625 14.5 40.28125 \nQ 14.5 37.15625 16.890625 35.375 \nQ 19.28125 33.59375 26.515625 31.984375 \nL 29.59375 31.296875 \nQ 39.15625 29.25 43.1875 25.515625 \nQ 47.21875 21.78125 47.21875 15.09375 \nQ 47.21875 7.46875 41.1875 3.015625 \nQ 35.15625 -1.421875 24.609375 -1.421875 \nQ 20.21875 -1.421875 15.453125 -0.5625 \nQ 10.6875 0.296875 5.421875 2 \nL 5.421875 11.28125 \nQ 10.40625 8.6875 15.234375 7.390625 \nQ 20.0625 6.109375 24.8125 6.109375 \nQ 31.15625 6.109375 34.5625 8.28125 \nQ 37.984375 10.453125 37.984375 14.40625 \nQ 37.984375 18.0625 35.515625 20.015625 \nQ 33.0625 21.96875 24.703125 23.78125 \nL 21.578125 24.515625 \nQ 13.234375 26.265625 9.515625 29.90625 \nQ 5.8125 33.546875 5.8125 39.890625 \nQ 5.8125 47.609375 11.28125 51.796875 \nQ 16.75 56 26.8125 56 \nQ 31.78125 56 36.171875 55.265625 \nQ 40.578125 54.546875 44.28125 53.078125 \nz\n\" id=\"DejaVuSans-115\"/>\n     </defs>\n     <g transform=\"translate(235.137216 322.394687)scale(0.1 -0.1)\">\n      <use xlink:href=\"#DejaVuSans-69\"/>\n      <use x=\"63.183594\" xlink:href=\"#DejaVuSans-112\"/>\n      <use x=\"126.660156\" xlink:href=\"#DejaVuSans-111\"/>\n      <use x=\"187.841797\" xlink:href=\"#DejaVuSans-99\"/>\n      <use x=\"242.822266\" xlink:href=\"#DejaVuSans-104\"/>\n      <use x=\"306.201172\" xlink:href=\"#DejaVuSans-115\"/>\n     </g>\n    </g>\n   </g>\n   <g id=\"matplotlib.axis_2\">\n    <g id=\"ytick_1\">\n     <g id=\"line2d_10\">\n      <defs>\n       <path d=\"M 0 0 \nL -3.5 0 \n\" id=\"mb809dfbea2\" style=\"stroke:#000000;stroke-width:0.8;\"/>\n      </defs>\n      <g>\n       <use style=\"stroke:#000000;stroke-width:0.8;\" x=\"50.14375\" xlink:href=\"#mb809dfbea2\" y=\"274.878007\"/>\n      </g>\n     </g>\n     <g id=\"text_11\">\n      <!-- 0.25 -->\n      <g transform=\"translate(20.878125 278.677226)scale(0.1 -0.1)\">\n       <use xlink:href=\"#DejaVuSans-48\"/>\n       <use x=\"63.623047\" xlink:href=\"#DejaVuSans-46\"/>\n       <use x=\"95.410156\" xlink:href=\"#DejaVuSans-50\"/>\n       <use x=\"159.033203\" xlink:href=\"#DejaVuSans-53\"/>\n      </g>\n     </g>\n    </g>\n    <g id=\"ytick_2\">\n     <g id=\"line2d_11\">\n      <g>\n       <use style=\"stroke:#000000;stroke-width:0.8;\" x=\"50.14375\" xlink:href=\"#mb809dfbea2\" y=\"236.943401\"/>\n      </g>\n     </g>\n     <g id=\"text_12\">\n      <!-- 0.30 -->\n      <g transform=\"translate(20.878125 240.74262)scale(0.1 -0.1)\">\n       <use xlink:href=\"#DejaVuSans-48\"/>\n       <use x=\"63.623047\" xlink:href=\"#DejaVuSans-46\"/>\n       <use x=\"95.410156\" xlink:href=\"#DejaVuSans-51\"/>\n       <use x=\"159.033203\" xlink:href=\"#DejaVuSans-48\"/>\n      </g>\n     </g>\n    </g>\n    <g id=\"ytick_3\">\n     <g id=\"line2d_12\">\n      <g>\n       <use style=\"stroke:#000000;stroke-width:0.8;\" x=\"50.14375\" xlink:href=\"#mb809dfbea2\" y=\"199.008795\"/>\n      </g>\n     </g>\n     <g id=\"text_13\">\n      <!-- 0.35 -->\n      <g transform=\"translate(20.878125 202.808013)scale(0.1 -0.1)\">\n       <use xlink:href=\"#DejaVuSans-48\"/>\n       <use x=\"63.623047\" xlink:href=\"#DejaVuSans-46\"/>\n       <use x=\"95.410156\" xlink:href=\"#DejaVuSans-51\"/>\n       <use x=\"159.033203\" xlink:href=\"#DejaVuSans-53\"/>\n      </g>\n     </g>\n    </g>\n    <g id=\"ytick_4\">\n     <g id=\"line2d_13\">\n      <g>\n       <use style=\"stroke:#000000;stroke-width:0.8;\" x=\"50.14375\" xlink:href=\"#mb809dfbea2\" y=\"161.074189\"/>\n      </g>\n     </g>\n     <g id=\"text_14\">\n      <!-- 0.40 -->\n      <g transform=\"translate(20.878125 164.873407)scale(0.1 -0.1)\">\n       <use xlink:href=\"#DejaVuSans-48\"/>\n       <use x=\"63.623047\" xlink:href=\"#DejaVuSans-46\"/>\n       <use x=\"95.410156\" xlink:href=\"#DejaVuSans-52\"/>\n       <use x=\"159.033203\" xlink:href=\"#DejaVuSans-48\"/>\n      </g>\n     </g>\n    </g>\n    <g id=\"ytick_5\">\n     <g id=\"line2d_14\">\n      <g>\n       <use style=\"stroke:#000000;stroke-width:0.8;\" x=\"50.14375\" xlink:href=\"#mb809dfbea2\" y=\"123.139582\"/>\n      </g>\n     </g>\n     <g id=\"text_15\">\n      <!-- 0.45 -->\n      <g transform=\"translate(20.878125 126.938801)scale(0.1 -0.1)\">\n       <use xlink:href=\"#DejaVuSans-48\"/>\n       <use x=\"63.623047\" xlink:href=\"#DejaVuSans-46\"/>\n       <use x=\"95.410156\" xlink:href=\"#DejaVuSans-52\"/>\n       <use x=\"159.033203\" xlink:href=\"#DejaVuSans-53\"/>\n      </g>\n     </g>\n    </g>\n    <g id=\"ytick_6\">\n     <g id=\"line2d_15\">\n      <g>\n       <use style=\"stroke:#000000;stroke-width:0.8;\" x=\"50.14375\" xlink:href=\"#mb809dfbea2\" y=\"85.204976\"/>\n      </g>\n     </g>\n     <g id=\"text_16\">\n      <!-- 0.50 -->\n      <g transform=\"translate(20.878125 89.004195)scale(0.1 -0.1)\">\n       <use xlink:href=\"#DejaVuSans-48\"/>\n       <use x=\"63.623047\" xlink:href=\"#DejaVuSans-46\"/>\n       <use x=\"95.410156\" xlink:href=\"#DejaVuSans-53\"/>\n       <use x=\"159.033203\" xlink:href=\"#DejaVuSans-48\"/>\n      </g>\n     </g>\n    </g>\n    <g id=\"ytick_7\">\n     <g id=\"line2d_16\">\n      <g>\n       <use style=\"stroke:#000000;stroke-width:0.8;\" x=\"50.14375\" xlink:href=\"#mb809dfbea2\" y=\"47.27037\"/>\n      </g>\n     </g>\n     <g id=\"text_17\">\n      <!-- 0.55 -->\n      <g transform=\"translate(20.878125 51.069589)scale(0.1 -0.1)\">\n       <use xlink:href=\"#DejaVuSans-48\"/>\n       <use x=\"63.623047\" xlink:href=\"#DejaVuSans-46\"/>\n       <use x=\"95.410156\" xlink:href=\"#DejaVuSans-53\"/>\n       <use x=\"159.033203\" xlink:href=\"#DejaVuSans-53\"/>\n      </g>\n     </g>\n    </g>\n    <g id=\"text_18\">\n     <!-- Loss (MSE) -->\n     <defs>\n      <path d=\"M 9.8125 72.90625 \nL 19.671875 72.90625 \nL 19.671875 8.296875 \nL 55.171875 8.296875 \nL 55.171875 0 \nL 9.8125 0 \nz\n\" id=\"DejaVuSans-76\"/>\n      <path id=\"DejaVuSans-32\"/>\n      <path d=\"M 31 75.875 \nQ 24.46875 64.65625 21.28125 53.65625 \nQ 18.109375 42.671875 18.109375 31.390625 \nQ 18.109375 20.125 21.3125 9.0625 \nQ 24.515625 -2 31 -13.1875 \nL 23.1875 -13.1875 \nQ 15.875 -1.703125 12.234375 9.375 \nQ 8.59375 20.453125 8.59375 31.390625 \nQ 8.59375 42.28125 12.203125 53.3125 \nQ 15.828125 64.359375 23.1875 75.875 \nz\n\" id=\"DejaVuSans-40\"/>\n      <path d=\"M 9.8125 72.90625 \nL 24.515625 72.90625 \nL 43.109375 23.296875 \nL 61.8125 72.90625 \nL 76.515625 72.90625 \nL 76.515625 0 \nL 66.890625 0 \nL 66.890625 64.015625 \nL 48.09375 14.015625 \nL 38.1875 14.015625 \nL 19.390625 64.015625 \nL 19.390625 0 \nL 9.8125 0 \nz\n\" id=\"DejaVuSans-77\"/>\n      <path d=\"M 53.515625 70.515625 \nL 53.515625 60.890625 \nQ 47.90625 63.578125 42.921875 64.890625 \nQ 37.9375 66.21875 33.296875 66.21875 \nQ 25.25 66.21875 20.875 63.09375 \nQ 16.5 59.96875 16.5 54.203125 \nQ 16.5 49.359375 19.40625 46.890625 \nQ 22.3125 44.4375 30.421875 42.921875 \nL 36.375 41.703125 \nQ 47.40625 39.59375 52.65625 34.296875 \nQ 57.90625 29 57.90625 20.125 \nQ 57.90625 9.515625 50.796875 4.046875 \nQ 43.703125 -1.421875 29.984375 -1.421875 \nQ 24.8125 -1.421875 18.96875 -0.25 \nQ 13.140625 0.921875 6.890625 3.21875 \nL 6.890625 13.375 \nQ 12.890625 10.015625 18.65625 8.296875 \nQ 24.421875 6.59375 29.984375 6.59375 \nQ 38.421875 6.59375 43.015625 9.90625 \nQ 47.609375 13.234375 47.609375 19.390625 \nQ 47.609375 24.75 44.3125 27.78125 \nQ 41.015625 30.8125 33.5 32.328125 \nL 27.484375 33.5 \nQ 16.453125 35.6875 11.515625 40.375 \nQ 6.59375 45.0625 6.59375 53.421875 \nQ 6.59375 63.09375 13.40625 68.65625 \nQ 20.21875 74.21875 32.171875 74.21875 \nQ 37.3125 74.21875 42.625 73.28125 \nQ 47.953125 72.359375 53.515625 70.515625 \nz\n\" id=\"DejaVuSans-83\"/>\n      <path d=\"M 8.015625 75.875 \nL 15.828125 75.875 \nQ 23.140625 64.359375 26.78125 53.3125 \nQ 30.421875 42.28125 30.421875 31.390625 \nQ 30.421875 20.453125 26.78125 9.375 \nQ 23.140625 -1.703125 15.828125 -13.1875 \nL 8.015625 -13.1875 \nQ 14.5 -2 17.703125 9.0625 \nQ 20.90625 20.125 20.90625 31.390625 \nQ 20.90625 42.671875 17.703125 53.65625 \nQ 14.5 64.65625 8.015625 75.875 \nz\n\" id=\"DejaVuSans-41\"/>\n     </defs>\n     <g transform=\"translate(14.798438 185.323594)rotate(-90)scale(0.1 -0.1)\">\n      <use xlink:href=\"#DejaVuSans-76\"/>\n      <use x=\"53.962891\" xlink:href=\"#DejaVuSans-111\"/>\n      <use x=\"115.144531\" xlink:href=\"#DejaVuSans-115\"/>\n      <use x=\"167.244141\" xlink:href=\"#DejaVuSans-115\"/>\n      <use x=\"219.34375\" xlink:href=\"#DejaVuSans-32\"/>\n      <use x=\"251.130859\" xlink:href=\"#DejaVuSans-40\"/>\n      <use x=\"290.144531\" xlink:href=\"#DejaVuSans-77\"/>\n      <use x=\"376.423828\" xlink:href=\"#DejaVuSans-83\"/>\n      <use x=\"439.900391\" xlink:href=\"#DejaVuSans-69\"/>\n      <use x=\"503.083984\" xlink:href=\"#DejaVuSans-41\"/>\n     </g>\n    </g>\n   </g>\n   <g id=\"line2d_17\">\n    <path clip-path=\"url(#p1d07d88750)\" d=\"M 68.590031 34.67267 \nL 160.821436 221.816843 \nL 253.052841 252.754573 \nL 345.284246 268.459912 \nL 437.515651 281.76358 \n\" style=\"fill:none;stroke:#1f77b4;stroke-linecap:square;stroke-width:1.5;\"/>\n    <defs>\n     <path d=\"M -3 3 \nL 3 3 \nL 3 -3 \nL -3 -3 \nz\n\" id=\"mb7d8425387\" style=\"stroke:#1f77b4;stroke-linejoin:miter;\"/>\n    </defs>\n    <g clip-path=\"url(#p1d07d88750)\">\n     <use style=\"fill:#1f77b4;stroke:#1f77b4;stroke-linejoin:miter;\" x=\"68.590031\" xlink:href=\"#mb7d8425387\" y=\"34.67267\"/>\n     <use style=\"fill:#1f77b4;stroke:#1f77b4;stroke-linejoin:miter;\" x=\"160.821436\" xlink:href=\"#mb7d8425387\" y=\"221.816843\"/>\n     <use style=\"fill:#1f77b4;stroke:#1f77b4;stroke-linejoin:miter;\" x=\"253.052841\" xlink:href=\"#mb7d8425387\" y=\"252.754573\"/>\n     <use style=\"fill:#1f77b4;stroke:#1f77b4;stroke-linejoin:miter;\" x=\"345.284246\" xlink:href=\"#mb7d8425387\" y=\"268.459912\"/>\n     <use style=\"fill:#1f77b4;stroke:#1f77b4;stroke-linejoin:miter;\" x=\"437.515651\" xlink:href=\"#mb7d8425387\" y=\"281.76358\"/>\n    </g>\n   </g>\n   <g id=\"line2d_18\">\n    <path clip-path=\"url(#p1d07d88750)\" d=\"M 68.590031 196.327499 \nL 160.821436 229.260631 \nL 253.052841 246.893201 \nL 345.284246 260.332917 \nL 437.515651 257.658807 \n\" style=\"fill:none;stroke:#ff7f0e;stroke-linecap:square;stroke-width:1.5;\"/>\n    <defs>\n     <path d=\"M 0 3 \nC 0.795609 3 1.55874 2.683901 2.12132 2.12132 \nC 2.683901 1.55874 3 0.795609 3 0 \nC 3 -0.795609 2.683901 -1.55874 2.12132 -2.12132 \nC 1.55874 -2.683901 0.795609 -3 0 -3 \nC -0.795609 -3 -1.55874 -2.683901 -2.12132 -2.12132 \nC -2.683901 -1.55874 -3 -0.795609 -3 0 \nC -3 0.795609 -2.683901 1.55874 -2.12132 2.12132 \nC -1.55874 2.683901 -0.795609 3 0 3 \nz\n\" id=\"m8783b9394a\" style=\"stroke:#ff7f0e;\"/>\n    </defs>\n    <g clip-path=\"url(#p1d07d88750)\">\n     <use style=\"fill:#ff7f0e;stroke:#ff7f0e;\" x=\"68.590031\" xlink:href=\"#m8783b9394a\" y=\"196.327499\"/>\n     <use style=\"fill:#ff7f0e;stroke:#ff7f0e;\" x=\"160.821436\" xlink:href=\"#m8783b9394a\" y=\"229.260631\"/>\n     <use style=\"fill:#ff7f0e;stroke:#ff7f0e;\" x=\"253.052841\" xlink:href=\"#m8783b9394a\" y=\"246.893201\"/>\n     <use style=\"fill:#ff7f0e;stroke:#ff7f0e;\" x=\"345.284246\" xlink:href=\"#m8783b9394a\" y=\"260.332917\"/>\n     <use style=\"fill:#ff7f0e;stroke:#ff7f0e;\" x=\"437.515651\" xlink:href=\"#m8783b9394a\" y=\"257.658807\"/>\n    </g>\n   </g>\n   <g id=\"patch_3\">\n    <path d=\"M 50.14375 294.118125 \nL 50.14375 22.318125 \n\" style=\"fill:none;stroke:#000000;stroke-linecap:square;stroke-linejoin:miter;stroke-width:0.8;\"/>\n   </g>\n   <g id=\"patch_4\">\n    <path d=\"M 455.961932 294.118125 \nL 455.961932 22.318125 \n\" style=\"fill:none;stroke:#000000;stroke-linecap:square;stroke-linejoin:miter;stroke-width:0.8;\"/>\n   </g>\n   <g id=\"patch_5\">\n    <path d=\"M 50.14375 294.118125 \nL 455.961932 294.118125 \n\" style=\"fill:none;stroke:#000000;stroke-linecap:square;stroke-linejoin:miter;stroke-width:0.8;\"/>\n   </g>\n   <g id=\"patch_6\">\n    <path d=\"M 50.14375 22.318125 \nL 455.961932 22.318125 \n\" style=\"fill:none;stroke:#000000;stroke-linecap:square;stroke-linejoin:miter;stroke-width:0.8;\"/>\n   </g>\n   <g id=\"text_19\">\n    <!-- Model loss -->\n    <defs>\n     <path d=\"M 45.40625 46.390625 \nL 45.40625 75.984375 \nL 54.390625 75.984375 \nL 54.390625 0 \nL 45.40625 0 \nL 45.40625 8.203125 \nQ 42.578125 3.328125 38.25 0.953125 \nQ 33.9375 -1.421875 27.875 -1.421875 \nQ 17.96875 -1.421875 11.734375 6.484375 \nQ 5.515625 14.40625 5.515625 27.296875 \nQ 5.515625 40.1875 11.734375 48.09375 \nQ 17.96875 56 27.875 56 \nQ 33.9375 56 38.25 53.625 \nQ 42.578125 51.265625 45.40625 46.390625 \nz\nM 14.796875 27.296875 \nQ 14.796875 17.390625 18.875 11.75 \nQ 22.953125 6.109375 30.078125 6.109375 \nQ 37.203125 6.109375 41.296875 11.75 \nQ 45.40625 17.390625 45.40625 27.296875 \nQ 45.40625 37.203125 41.296875 42.84375 \nQ 37.203125 48.484375 30.078125 48.484375 \nQ 22.953125 48.484375 18.875 42.84375 \nQ 14.796875 37.203125 14.796875 27.296875 \nz\n\" id=\"DejaVuSans-100\"/>\n     <path d=\"M 56.203125 29.59375 \nL 56.203125 25.203125 \nL 14.890625 25.203125 \nQ 15.484375 15.921875 20.484375 11.0625 \nQ 25.484375 6.203125 34.421875 6.203125 \nQ 39.59375 6.203125 44.453125 7.46875 \nQ 49.3125 8.734375 54.109375 11.28125 \nL 54.109375 2.78125 \nQ 49.265625 0.734375 44.1875 -0.34375 \nQ 39.109375 -1.421875 33.890625 -1.421875 \nQ 20.796875 -1.421875 13.15625 6.1875 \nQ 5.515625 13.8125 5.515625 26.8125 \nQ 5.515625 40.234375 12.765625 48.109375 \nQ 20.015625 56 32.328125 56 \nQ 43.359375 56 49.78125 48.890625 \nQ 56.203125 41.796875 56.203125 29.59375 \nz\nM 47.21875 32.234375 \nQ 47.125 39.59375 43.09375 43.984375 \nQ 39.0625 48.390625 32.421875 48.390625 \nQ 24.90625 48.390625 20.390625 44.140625 \nQ 15.875 39.890625 15.1875 32.171875 \nz\n\" id=\"DejaVuSans-101\"/>\n     <path d=\"M 9.421875 75.984375 \nL 18.40625 75.984375 \nL 18.40625 0 \nL 9.421875 0 \nz\n\" id=\"DejaVuSans-108\"/>\n    </defs>\n    <g transform=\"translate(221.540653 16.318125)scale(0.12 -0.12)\">\n     <use xlink:href=\"#DejaVuSans-77\"/>\n     <use x=\"86.279297\" xlink:href=\"#DejaVuSans-111\"/>\n     <use x=\"147.460938\" xlink:href=\"#DejaVuSans-100\"/>\n     <use x=\"210.9375\" xlink:href=\"#DejaVuSans-101\"/>\n     <use x=\"272.460938\" xlink:href=\"#DejaVuSans-108\"/>\n     <use x=\"300.244141\" xlink:href=\"#DejaVuSans-32\"/>\n     <use x=\"332.03125\" xlink:href=\"#DejaVuSans-108\"/>\n     <use x=\"359.814453\" xlink:href=\"#DejaVuSans-111\"/>\n     <use x=\"420.996094\" xlink:href=\"#DejaVuSans-115\"/>\n     <use x=\"473.095703\" xlink:href=\"#DejaVuSans-115\"/>\n    </g>\n   </g>\n  </g>\n  <g id=\"axes_2\">\n   <g id=\"patch_7\">\n    <path d=\"M 537.125568 294.118125 \nL 942.94375 294.118125 \nL 942.94375 22.318125 \nL 537.125568 22.318125 \nz\n\" style=\"fill:#ffffff;\"/>\n   </g>\n   <g id=\"matplotlib.axis_3\">\n    <g id=\"xtick_10\">\n     <g id=\"line2d_19\">\n      <g>\n       <use style=\"stroke:#000000;stroke-width:0.8;\" x=\"555.571849\" xlink:href=\"#m65fd8fa694\" y=\"294.118125\"/>\n      </g>\n     </g>\n     <g id=\"text_20\">\n      <!-- 0.0 -->\n      <g transform=\"translate(547.620287 308.716563)scale(0.1 -0.1)\">\n       <use xlink:href=\"#DejaVuSans-48\"/>\n       <use x=\"63.623047\" xlink:href=\"#DejaVuSans-46\"/>\n       <use x=\"95.410156\" xlink:href=\"#DejaVuSans-48\"/>\n      </g>\n     </g>\n    </g>\n    <g id=\"xtick_11\">\n     <g id=\"line2d_20\">\n      <g>\n       <use style=\"stroke:#000000;stroke-width:0.8;\" x=\"601.687552\" xlink:href=\"#m65fd8fa694\" y=\"294.118125\"/>\n      </g>\n     </g>\n     <g id=\"text_21\">\n      <!-- 0.5 -->\n      <g transform=\"translate(593.735989 308.716563)scale(0.1 -0.1)\">\n       <use xlink:href=\"#DejaVuSans-48\"/>\n       <use x=\"63.623047\" xlink:href=\"#DejaVuSans-46\"/>\n       <use x=\"95.410156\" xlink:href=\"#DejaVuSans-53\"/>\n      </g>\n     </g>\n    </g>\n    <g id=\"xtick_12\">\n     <g id=\"line2d_21\">\n      <g>\n       <use style=\"stroke:#000000;stroke-width:0.8;\" x=\"647.803254\" xlink:href=\"#m65fd8fa694\" y=\"294.118125\"/>\n      </g>\n     </g>\n     <g id=\"text_22\">\n      <!-- 1.0 -->\n      <g transform=\"translate(639.851692 308.716563)scale(0.1 -0.1)\">\n       <use xlink:href=\"#DejaVuSans-49\"/>\n       <use x=\"63.623047\" xlink:href=\"#DejaVuSans-46\"/>\n       <use x=\"95.410156\" xlink:href=\"#DejaVuSans-48\"/>\n      </g>\n     </g>\n    </g>\n    <g id=\"xtick_13\">\n     <g id=\"line2d_22\">\n      <g>\n       <use style=\"stroke:#000000;stroke-width:0.8;\" x=\"693.918957\" xlink:href=\"#m65fd8fa694\" y=\"294.118125\"/>\n      </g>\n     </g>\n     <g id=\"text_23\">\n      <!-- 1.5 -->\n      <g transform=\"translate(685.967394 308.716563)scale(0.1 -0.1)\">\n       <use xlink:href=\"#DejaVuSans-49\"/>\n       <use x=\"63.623047\" xlink:href=\"#DejaVuSans-46\"/>\n       <use x=\"95.410156\" xlink:href=\"#DejaVuSans-53\"/>\n      </g>\n     </g>\n    </g>\n    <g id=\"xtick_14\">\n     <g id=\"line2d_23\">\n      <g>\n       <use style=\"stroke:#000000;stroke-width:0.8;\" x=\"740.034659\" xlink:href=\"#m65fd8fa694\" y=\"294.118125\"/>\n      </g>\n     </g>\n     <g id=\"text_24\">\n      <!-- 2.0 -->\n      <g transform=\"translate(732.083097 308.716563)scale(0.1 -0.1)\">\n       <use xlink:href=\"#DejaVuSans-50\"/>\n       <use x=\"63.623047\" xlink:href=\"#DejaVuSans-46\"/>\n       <use x=\"95.410156\" xlink:href=\"#DejaVuSans-48\"/>\n      </g>\n     </g>\n    </g>\n    <g id=\"xtick_15\">\n     <g id=\"line2d_24\">\n      <g>\n       <use style=\"stroke:#000000;stroke-width:0.8;\" x=\"786.150362\" xlink:href=\"#m65fd8fa694\" y=\"294.118125\"/>\n      </g>\n     </g>\n     <g id=\"text_25\">\n      <!-- 2.5 -->\n      <g transform=\"translate(778.198799 308.716563)scale(0.1 -0.1)\">\n       <use xlink:href=\"#DejaVuSans-50\"/>\n       <use x=\"63.623047\" xlink:href=\"#DejaVuSans-46\"/>\n       <use x=\"95.410156\" xlink:href=\"#DejaVuSans-53\"/>\n      </g>\n     </g>\n    </g>\n    <g id=\"xtick_16\">\n     <g id=\"line2d_25\">\n      <g>\n       <use style=\"stroke:#000000;stroke-width:0.8;\" x=\"832.266064\" xlink:href=\"#m65fd8fa694\" y=\"294.118125\"/>\n      </g>\n     </g>\n     <g id=\"text_26\">\n      <!-- 3.0 -->\n      <g transform=\"translate(824.314502 308.716563)scale(0.1 -0.1)\">\n       <use xlink:href=\"#DejaVuSans-51\"/>\n       <use x=\"63.623047\" xlink:href=\"#DejaVuSans-46\"/>\n       <use x=\"95.410156\" xlink:href=\"#DejaVuSans-48\"/>\n      </g>\n     </g>\n    </g>\n    <g id=\"xtick_17\">\n     <g id=\"line2d_26\">\n      <g>\n       <use style=\"stroke:#000000;stroke-width:0.8;\" x=\"878.381767\" xlink:href=\"#m65fd8fa694\" y=\"294.118125\"/>\n      </g>\n     </g>\n     <g id=\"text_27\">\n      <!-- 3.5 -->\n      <g transform=\"translate(870.430204 308.716563)scale(0.1 -0.1)\">\n       <use xlink:href=\"#DejaVuSans-51\"/>\n       <use x=\"63.623047\" xlink:href=\"#DejaVuSans-46\"/>\n       <use x=\"95.410156\" xlink:href=\"#DejaVuSans-53\"/>\n      </g>\n     </g>\n    </g>\n    <g id=\"xtick_18\">\n     <g id=\"line2d_27\">\n      <g>\n       <use style=\"stroke:#000000;stroke-width:0.8;\" x=\"924.497469\" xlink:href=\"#m65fd8fa694\" y=\"294.118125\"/>\n      </g>\n     </g>\n     <g id=\"text_28\">\n      <!-- 4.0 -->\n      <g transform=\"translate(916.545907 308.716563)scale(0.1 -0.1)\">\n       <use xlink:href=\"#DejaVuSans-52\"/>\n       <use x=\"63.623047\" xlink:href=\"#DejaVuSans-46\"/>\n       <use x=\"95.410156\" xlink:href=\"#DejaVuSans-48\"/>\n      </g>\n     </g>\n    </g>\n    <g id=\"text_29\">\n     <!-- Epochs -->\n     <g transform=\"translate(722.119034 322.394687)scale(0.1 -0.1)\">\n      <use xlink:href=\"#DejaVuSans-69\"/>\n      <use x=\"63.183594\" xlink:href=\"#DejaVuSans-112\"/>\n      <use x=\"126.660156\" xlink:href=\"#DejaVuSans-111\"/>\n      <use x=\"187.841797\" xlink:href=\"#DejaVuSans-99\"/>\n      <use x=\"242.822266\" xlink:href=\"#DejaVuSans-104\"/>\n      <use x=\"306.201172\" xlink:href=\"#DejaVuSans-115\"/>\n     </g>\n    </g>\n   </g>\n   <g id=\"matplotlib.axis_4\">\n    <g id=\"ytick_8\">\n     <g id=\"line2d_28\">\n      <g>\n       <use style=\"stroke:#000000;stroke-width:0.8;\" x=\"537.125568\" xlink:href=\"#mb809dfbea2\" y=\"284.723739\"/>\n      </g>\n     </g>\n     <g id=\"text_30\">\n      <!-- 8 -->\n      <defs>\n       <path d=\"M 31.78125 34.625 \nQ 24.75 34.625 20.71875 30.859375 \nQ 16.703125 27.09375 16.703125 20.515625 \nQ 16.703125 13.921875 20.71875 10.15625 \nQ 24.75 6.390625 31.78125 6.390625 \nQ 38.8125 6.390625 42.859375 10.171875 \nQ 46.921875 13.96875 46.921875 20.515625 \nQ 46.921875 27.09375 42.890625 30.859375 \nQ 38.875 34.625 31.78125 34.625 \nz\nM 21.921875 38.8125 \nQ 15.578125 40.375 12.03125 44.71875 \nQ 8.5 49.078125 8.5 55.328125 \nQ 8.5 64.0625 14.71875 69.140625 \nQ 20.953125 74.21875 31.78125 74.21875 \nQ 42.671875 74.21875 48.875 69.140625 \nQ 55.078125 64.0625 55.078125 55.328125 \nQ 55.078125 49.078125 51.53125 44.71875 \nQ 48 40.375 41.703125 38.8125 \nQ 48.828125 37.15625 52.796875 32.3125 \nQ 56.78125 27.484375 56.78125 20.515625 \nQ 56.78125 9.90625 50.3125 4.234375 \nQ 43.84375 -1.421875 31.78125 -1.421875 \nQ 19.734375 -1.421875 13.25 4.234375 \nQ 6.78125 9.90625 6.78125 20.515625 \nQ 6.78125 27.484375 10.78125 32.3125 \nQ 14.796875 37.15625 21.921875 38.8125 \nz\nM 18.3125 54.390625 \nQ 18.3125 48.734375 21.84375 45.5625 \nQ 25.390625 42.390625 31.78125 42.390625 \nQ 38.140625 42.390625 41.71875 45.5625 \nQ 45.3125 48.734375 45.3125 54.390625 \nQ 45.3125 60.0625 41.71875 63.234375 \nQ 38.140625 66.40625 31.78125 66.40625 \nQ 25.390625 66.40625 21.84375 63.234375 \nQ 18.3125 60.0625 18.3125 54.390625 \nz\n\" id=\"DejaVuSans-56\"/>\n      </defs>\n      <g transform=\"translate(523.763068 288.522958)scale(0.1 -0.1)\">\n       <use xlink:href=\"#DejaVuSans-56\"/>\n      </g>\n     </g>\n    </g>\n    <g id=\"ytick_9\">\n     <g id=\"line2d_29\">\n      <g>\n       <use style=\"stroke:#000000;stroke-width:0.8;\" x=\"537.125568\" xlink:href=\"#mb809dfbea2\" y=\"230.39615\"/>\n      </g>\n     </g>\n     <g id=\"text_31\">\n      <!-- 10 -->\n      <g transform=\"translate(517.400568 234.195369)scale(0.1 -0.1)\">\n       <use xlink:href=\"#DejaVuSans-49\"/>\n       <use x=\"63.623047\" xlink:href=\"#DejaVuSans-48\"/>\n      </g>\n     </g>\n    </g>\n    <g id=\"ytick_10\">\n     <g id=\"line2d_30\">\n      <g>\n       <use style=\"stroke:#000000;stroke-width:0.8;\" x=\"537.125568\" xlink:href=\"#mb809dfbea2\" y=\"176.068561\"/>\n      </g>\n     </g>\n     <g id=\"text_32\">\n      <!-- 12 -->\n      <g transform=\"translate(517.400568 179.86778)scale(0.1 -0.1)\">\n       <use xlink:href=\"#DejaVuSans-49\"/>\n       <use x=\"63.623047\" xlink:href=\"#DejaVuSans-50\"/>\n      </g>\n     </g>\n    </g>\n    <g id=\"ytick_11\">\n     <g id=\"line2d_31\">\n      <g>\n       <use style=\"stroke:#000000;stroke-width:0.8;\" x=\"537.125568\" xlink:href=\"#mb809dfbea2\" y=\"121.740972\"/>\n      </g>\n     </g>\n     <g id=\"text_33\">\n      <!-- 14 -->\n      <g transform=\"translate(517.400568 125.54019)scale(0.1 -0.1)\">\n       <use xlink:href=\"#DejaVuSans-49\"/>\n       <use x=\"63.623047\" xlink:href=\"#DejaVuSans-52\"/>\n      </g>\n     </g>\n    </g>\n    <g id=\"ytick_12\">\n     <g id=\"line2d_32\">\n      <g>\n       <use style=\"stroke:#000000;stroke-width:0.8;\" x=\"537.125568\" xlink:href=\"#mb809dfbea2\" y=\"67.413382\"/>\n      </g>\n     </g>\n     <g id=\"text_34\">\n      <!-- 16 -->\n      <defs>\n       <path d=\"M 33.015625 40.375 \nQ 26.375 40.375 22.484375 35.828125 \nQ 18.609375 31.296875 18.609375 23.390625 \nQ 18.609375 15.53125 22.484375 10.953125 \nQ 26.375 6.390625 33.015625 6.390625 \nQ 39.65625 6.390625 43.53125 10.953125 \nQ 47.40625 15.53125 47.40625 23.390625 \nQ 47.40625 31.296875 43.53125 35.828125 \nQ 39.65625 40.375 33.015625 40.375 \nz\nM 52.59375 71.296875 \nL 52.59375 62.3125 \nQ 48.875 64.0625 45.09375 64.984375 \nQ 41.3125 65.921875 37.59375 65.921875 \nQ 27.828125 65.921875 22.671875 59.328125 \nQ 17.53125 52.734375 16.796875 39.40625 \nQ 19.671875 43.65625 24.015625 45.921875 \nQ 28.375 48.1875 33.59375 48.1875 \nQ 44.578125 48.1875 50.953125 41.515625 \nQ 57.328125 34.859375 57.328125 23.390625 \nQ 57.328125 12.15625 50.6875 5.359375 \nQ 44.046875 -1.421875 33.015625 -1.421875 \nQ 20.359375 -1.421875 13.671875 8.265625 \nQ 6.984375 17.96875 6.984375 36.375 \nQ 6.984375 53.65625 15.1875 63.9375 \nQ 23.390625 74.21875 37.203125 74.21875 \nQ 40.921875 74.21875 44.703125 73.484375 \nQ 48.484375 72.75 52.59375 71.296875 \nz\n\" id=\"DejaVuSans-54\"/>\n      </defs>\n      <g transform=\"translate(517.400568 71.212601)scale(0.1 -0.1)\">\n       <use xlink:href=\"#DejaVuSans-49\"/>\n       <use x=\"63.623047\" xlink:href=\"#DejaVuSans-54\"/>\n      </g>\n     </g>\n    </g>\n    <g id=\"text_35\">\n     <!-- Error rates (%) -->\n     <defs>\n      <path d=\"M 41.109375 46.296875 \nQ 39.59375 47.171875 37.8125 47.578125 \nQ 36.03125 48 33.890625 48 \nQ 26.265625 48 22.1875 43.046875 \nQ 18.109375 38.09375 18.109375 28.8125 \nL 18.109375 0 \nL 9.078125 0 \nL 9.078125 54.6875 \nL 18.109375 54.6875 \nL 18.109375 46.1875 \nQ 20.953125 51.171875 25.484375 53.578125 \nQ 30.03125 56 36.53125 56 \nQ 37.453125 56 38.578125 55.875 \nQ 39.703125 55.765625 41.0625 55.515625 \nz\n\" id=\"DejaVuSans-114\"/>\n      <path d=\"M 34.28125 27.484375 \nQ 23.390625 27.484375 19.1875 25 \nQ 14.984375 22.515625 14.984375 16.5 \nQ 14.984375 11.71875 18.140625 8.90625 \nQ 21.296875 6.109375 26.703125 6.109375 \nQ 34.1875 6.109375 38.703125 11.40625 \nQ 43.21875 16.703125 43.21875 25.484375 \nL 43.21875 27.484375 \nz\nM 52.203125 31.203125 \nL 52.203125 0 \nL 43.21875 0 \nL 43.21875 8.296875 \nQ 40.140625 3.328125 35.546875 0.953125 \nQ 30.953125 -1.421875 24.3125 -1.421875 \nQ 15.921875 -1.421875 10.953125 3.296875 \nQ 6 8.015625 6 15.921875 \nQ 6 25.140625 12.171875 29.828125 \nQ 18.359375 34.515625 30.609375 34.515625 \nL 43.21875 34.515625 \nL 43.21875 35.40625 \nQ 43.21875 41.609375 39.140625 45 \nQ 35.0625 48.390625 27.6875 48.390625 \nQ 23 48.390625 18.546875 47.265625 \nQ 14.109375 46.140625 10.015625 43.890625 \nL 10.015625 52.203125 \nQ 14.9375 54.109375 19.578125 55.046875 \nQ 24.21875 56 28.609375 56 \nQ 40.484375 56 46.34375 49.84375 \nQ 52.203125 43.703125 52.203125 31.203125 \nz\n\" id=\"DejaVuSans-97\"/>\n      <path d=\"M 18.3125 70.21875 \nL 18.3125 54.6875 \nL 36.8125 54.6875 \nL 36.8125 47.703125 \nL 18.3125 47.703125 \nL 18.3125 18.015625 \nQ 18.3125 11.328125 20.140625 9.421875 \nQ 21.96875 7.515625 27.59375 7.515625 \nL 36.8125 7.515625 \nL 36.8125 0 \nL 27.59375 0 \nQ 17.1875 0 13.234375 3.875 \nQ 9.28125 7.765625 9.28125 18.015625 \nL 9.28125 47.703125 \nL 2.6875 47.703125 \nL 2.6875 54.6875 \nL 9.28125 54.6875 \nL 9.28125 70.21875 \nz\n\" id=\"DejaVuSans-116\"/>\n      <path d=\"M 72.703125 32.078125 \nQ 68.453125 32.078125 66.03125 28.46875 \nQ 63.625 24.859375 63.625 18.40625 \nQ 63.625 12.0625 66.03125 8.421875 \nQ 68.453125 4.78125 72.703125 4.78125 \nQ 76.859375 4.78125 79.265625 8.421875 \nQ 81.6875 12.0625 81.6875 18.40625 \nQ 81.6875 24.8125 79.265625 28.4375 \nQ 76.859375 32.078125 72.703125 32.078125 \nz\nM 72.703125 38.28125 \nQ 80.421875 38.28125 84.953125 32.90625 \nQ 89.5 27.546875 89.5 18.40625 \nQ 89.5 9.28125 84.9375 3.921875 \nQ 80.375 -1.421875 72.703125 -1.421875 \nQ 64.890625 -1.421875 60.34375 3.921875 \nQ 55.8125 9.28125 55.8125 18.40625 \nQ 55.8125 27.59375 60.375 32.9375 \nQ 64.9375 38.28125 72.703125 38.28125 \nz\nM 22.3125 68.015625 \nQ 18.109375 68.015625 15.6875 64.375 \nQ 13.28125 60.75 13.28125 54.390625 \nQ 13.28125 47.953125 15.671875 44.328125 \nQ 18.0625 40.71875 22.3125 40.71875 \nQ 26.5625 40.71875 28.96875 44.328125 \nQ 31.390625 47.953125 31.390625 54.390625 \nQ 31.390625 60.6875 28.953125 64.34375 \nQ 26.515625 68.015625 22.3125 68.015625 \nz\nM 66.40625 74.21875 \nL 74.21875 74.21875 \nL 28.609375 -1.421875 \nL 20.796875 -1.421875 \nz\nM 22.3125 74.21875 \nQ 30.03125 74.21875 34.609375 68.875 \nQ 39.203125 63.53125 39.203125 54.390625 \nQ 39.203125 45.171875 34.640625 39.84375 \nQ 30.078125 34.515625 22.3125 34.515625 \nQ 14.546875 34.515625 10.03125 39.859375 \nQ 5.515625 45.21875 5.515625 54.390625 \nQ 5.515625 63.484375 10.046875 68.84375 \nQ 14.59375 74.21875 22.3125 74.21875 \nz\n\" id=\"DejaVuSans-37\"/>\n     </defs>\n     <g transform=\"translate(511.320881 194.994688)rotate(-90)scale(0.1 -0.1)\">\n      <use xlink:href=\"#DejaVuSans-69\"/>\n      <use x=\"63.183594\" xlink:href=\"#DejaVuSans-114\"/>\n      <use x=\"102.546875\" xlink:href=\"#DejaVuSans-114\"/>\n      <use x=\"141.410156\" xlink:href=\"#DejaVuSans-111\"/>\n      <use x=\"202.591797\" xlink:href=\"#DejaVuSans-114\"/>\n      <use x=\"243.705078\" xlink:href=\"#DejaVuSans-32\"/>\n      <use x=\"275.492188\" xlink:href=\"#DejaVuSans-114\"/>\n      <use x=\"316.605469\" xlink:href=\"#DejaVuSans-97\"/>\n      <use x=\"377.884766\" xlink:href=\"#DejaVuSans-116\"/>\n      <use x=\"417.09375\" xlink:href=\"#DejaVuSans-101\"/>\n      <use x=\"478.617188\" xlink:href=\"#DejaVuSans-115\"/>\n      <use x=\"530.716797\" xlink:href=\"#DejaVuSans-32\"/>\n      <use x=\"562.503906\" xlink:href=\"#DejaVuSans-40\"/>\n      <use x=\"601.517578\" xlink:href=\"#DejaVuSans-37\"/>\n      <use x=\"696.537109\" xlink:href=\"#DejaVuSans-41\"/>\n     </g>\n    </g>\n   </g>\n   <g id=\"line2d_33\">\n    <path clip-path=\"url(#pf0e642b2f7)\" d=\"M 555.571849 34.67267 \nL 647.803254 220.843348 \nL 740.034659 254.000023 \nL 832.266064 270.759737 \nL 924.497469 281.76358 \n\" style=\"fill:none;stroke:#1f77b4;stroke-linecap:square;stroke-width:1.5;\"/>\n    <g clip-path=\"url(#pf0e642b2f7)\">\n     <use style=\"fill:#1f77b4;stroke:#1f77b4;stroke-linejoin:miter;\" x=\"555.571849\" xlink:href=\"#mb7d8425387\" y=\"34.67267\"/>\n     <use style=\"fill:#1f77b4;stroke:#1f77b4;stroke-linejoin:miter;\" x=\"647.803254\" xlink:href=\"#mb7d8425387\" y=\"220.843348\"/>\n     <use style=\"fill:#1f77b4;stroke:#1f77b4;stroke-linejoin:miter;\" x=\"740.034659\" xlink:href=\"#mb7d8425387\" y=\"254.000023\"/>\n     <use style=\"fill:#1f77b4;stroke:#1f77b4;stroke-linejoin:miter;\" x=\"832.266064\" xlink:href=\"#mb7d8425387\" y=\"270.759737\"/>\n     <use style=\"fill:#1f77b4;stroke:#1f77b4;stroke-linejoin:miter;\" x=\"924.497469\" xlink:href=\"#mb7d8425387\" y=\"281.76358\"/>\n    </g>\n   </g>\n   <g id=\"line2d_34\">\n    <path clip-path=\"url(#pf0e642b2f7)\" d=\"M 555.571849 180.117007 \nL 647.803254 213.636436 \nL 740.034659 234.096324 \nL 832.266064 259.997722 \nL 924.497469 255.20921 \n\" style=\"fill:none;stroke:#ff7f0e;stroke-linecap:square;stroke-width:1.5;\"/>\n    <g clip-path=\"url(#pf0e642b2f7)\">\n     <use style=\"fill:#ff7f0e;stroke:#ff7f0e;\" x=\"555.571849\" xlink:href=\"#m8783b9394a\" y=\"180.117007\"/>\n     <use style=\"fill:#ff7f0e;stroke:#ff7f0e;\" x=\"647.803254\" xlink:href=\"#m8783b9394a\" y=\"213.636436\"/>\n     <use style=\"fill:#ff7f0e;stroke:#ff7f0e;\" x=\"740.034659\" xlink:href=\"#m8783b9394a\" y=\"234.096324\"/>\n     <use style=\"fill:#ff7f0e;stroke:#ff7f0e;\" x=\"832.266064\" xlink:href=\"#m8783b9394a\" y=\"259.997722\"/>\n     <use style=\"fill:#ff7f0e;stroke:#ff7f0e;\" x=\"924.497469\" xlink:href=\"#m8783b9394a\" y=\"255.20921\"/>\n    </g>\n   </g>\n   <g id=\"patch_8\">\n    <path d=\"M 537.125568 294.118125 \nL 537.125568 22.318125 \n\" style=\"fill:none;stroke:#000000;stroke-linecap:square;stroke-linejoin:miter;stroke-width:0.8;\"/>\n   </g>\n   <g id=\"patch_9\">\n    <path d=\"M 942.94375 294.118125 \nL 942.94375 22.318125 \n\" style=\"fill:none;stroke:#000000;stroke-linecap:square;stroke-linejoin:miter;stroke-width:0.8;\"/>\n   </g>\n   <g id=\"patch_10\">\n    <path d=\"M 537.125568 294.118125 \nL 942.94375 294.118125 \n\" style=\"fill:none;stroke:#000000;stroke-linecap:square;stroke-linejoin:miter;stroke-width:0.8;\"/>\n   </g>\n   <g id=\"patch_11\">\n    <path d=\"M 537.125568 22.318125 \nL 942.94375 22.318125 \n\" style=\"fill:none;stroke:#000000;stroke-linecap:square;stroke-linejoin:miter;stroke-width:0.8;\"/>\n   </g>\n   <g id=\"text_36\">\n    <!-- Final model test error rate: 9.09% -->\n    <defs>\n     <path d=\"M 9.8125 72.90625 \nL 51.703125 72.90625 \nL 51.703125 64.59375 \nL 19.671875 64.59375 \nL 19.671875 43.109375 \nL 48.578125 43.109375 \nL 48.578125 34.8125 \nL 19.671875 34.8125 \nL 19.671875 0 \nL 9.8125 0 \nz\n\" id=\"DejaVuSans-70\"/>\n     <path d=\"M 9.421875 54.6875 \nL 18.40625 54.6875 \nL 18.40625 0 \nL 9.421875 0 \nz\nM 9.421875 75.984375 \nL 18.40625 75.984375 \nL 18.40625 64.59375 \nL 9.421875 64.59375 \nz\n\" id=\"DejaVuSans-105\"/>\n     <path d=\"M 54.890625 33.015625 \nL 54.890625 0 \nL 45.90625 0 \nL 45.90625 32.71875 \nQ 45.90625 40.484375 42.875 44.328125 \nQ 39.84375 48.1875 33.796875 48.1875 \nQ 26.515625 48.1875 22.3125 43.546875 \nQ 18.109375 38.921875 18.109375 30.90625 \nL 18.109375 0 \nL 9.078125 0 \nL 9.078125 54.6875 \nL 18.109375 54.6875 \nL 18.109375 46.1875 \nQ 21.34375 51.125 25.703125 53.5625 \nQ 30.078125 56 35.796875 56 \nQ 45.21875 56 50.046875 50.171875 \nQ 54.890625 44.34375 54.890625 33.015625 \nz\n\" id=\"DejaVuSans-110\"/>\n     <path d=\"M 52 44.1875 \nQ 55.375 50.25 60.0625 53.125 \nQ 64.75 56 71.09375 56 \nQ 79.640625 56 84.28125 50.015625 \nQ 88.921875 44.046875 88.921875 33.015625 \nL 88.921875 0 \nL 79.890625 0 \nL 79.890625 32.71875 \nQ 79.890625 40.578125 77.09375 44.375 \nQ 74.3125 48.1875 68.609375 48.1875 \nQ 61.625 48.1875 57.5625 43.546875 \nQ 53.515625 38.921875 53.515625 30.90625 \nL 53.515625 0 \nL 44.484375 0 \nL 44.484375 32.71875 \nQ 44.484375 40.625 41.703125 44.40625 \nQ 38.921875 48.1875 33.109375 48.1875 \nQ 26.21875 48.1875 22.15625 43.53125 \nQ 18.109375 38.875 18.109375 30.90625 \nL 18.109375 0 \nL 9.078125 0 \nL 9.078125 54.6875 \nL 18.109375 54.6875 \nL 18.109375 46.1875 \nQ 21.1875 51.21875 25.484375 53.609375 \nQ 29.78125 56 35.6875 56 \nQ 41.65625 56 45.828125 52.96875 \nQ 50 49.953125 52 44.1875 \nz\n\" id=\"DejaVuSans-109\"/>\n     <path d=\"M 11.71875 12.40625 \nL 22.015625 12.40625 \nL 22.015625 0 \nL 11.71875 0 \nz\nM 11.71875 51.703125 \nL 22.015625 51.703125 \nL 22.015625 39.3125 \nL 11.71875 39.3125 \nz\n\" id=\"DejaVuSans-58\"/>\n     <path d=\"M 10.984375 1.515625 \nL 10.984375 10.5 \nQ 14.703125 8.734375 18.5 7.8125 \nQ 22.3125 6.890625 25.984375 6.890625 \nQ 35.75 6.890625 40.890625 13.453125 \nQ 46.046875 20.015625 46.78125 33.40625 \nQ 43.953125 29.203125 39.59375 26.953125 \nQ 35.25 24.703125 29.984375 24.703125 \nQ 19.046875 24.703125 12.671875 31.3125 \nQ 6.296875 37.9375 6.296875 49.421875 \nQ 6.296875 60.640625 12.9375 67.421875 \nQ 19.578125 74.21875 30.609375 74.21875 \nQ 43.265625 74.21875 49.921875 64.515625 \nQ 56.59375 54.828125 56.59375 36.375 \nQ 56.59375 19.140625 48.40625 8.859375 \nQ 40.234375 -1.421875 26.421875 -1.421875 \nQ 22.703125 -1.421875 18.890625 -0.6875 \nQ 15.09375 0.046875 10.984375 1.515625 \nz\nM 30.609375 32.421875 \nQ 37.25 32.421875 41.125 36.953125 \nQ 45.015625 41.5 45.015625 49.421875 \nQ 45.015625 57.28125 41.125 61.84375 \nQ 37.25 66.40625 30.609375 66.40625 \nQ 23.96875 66.40625 20.09375 61.84375 \nQ 16.21875 57.28125 16.21875 49.421875 \nQ 16.21875 41.5 20.09375 36.953125 \nQ 23.96875 32.421875 30.609375 32.421875 \nz\n\" id=\"DejaVuSans-57\"/>\n    </defs>\n    <g transform=\"translate(638.674034 16.318125)scale(0.12 -0.12)\">\n     <use xlink:href=\"#DejaVuSans-70\"/>\n     <use x=\"50.269531\" xlink:href=\"#DejaVuSans-105\"/>\n     <use x=\"78.052734\" xlink:href=\"#DejaVuSans-110\"/>\n     <use x=\"141.431641\" xlink:href=\"#DejaVuSans-97\"/>\n     <use x=\"202.710938\" xlink:href=\"#DejaVuSans-108\"/>\n     <use x=\"230.494141\" xlink:href=\"#DejaVuSans-32\"/>\n     <use x=\"262.28125\" xlink:href=\"#DejaVuSans-109\"/>\n     <use x=\"359.693359\" xlink:href=\"#DejaVuSans-111\"/>\n     <use x=\"420.875\" xlink:href=\"#DejaVuSans-100\"/>\n     <use x=\"484.351562\" xlink:href=\"#DejaVuSans-101\"/>\n     <use x=\"545.875\" xlink:href=\"#DejaVuSans-108\"/>\n     <use x=\"573.658203\" xlink:href=\"#DejaVuSans-32\"/>\n     <use x=\"605.445312\" xlink:href=\"#DejaVuSans-116\"/>\n     <use x=\"644.654297\" xlink:href=\"#DejaVuSans-101\"/>\n     <use x=\"706.177734\" xlink:href=\"#DejaVuSans-115\"/>\n     <use x=\"758.277344\" xlink:href=\"#DejaVuSans-116\"/>\n     <use x=\"797.486328\" xlink:href=\"#DejaVuSans-32\"/>\n     <use x=\"829.273438\" xlink:href=\"#DejaVuSans-101\"/>\n     <use x=\"890.796875\" xlink:href=\"#DejaVuSans-114\"/>\n     <use x=\"930.160156\" xlink:href=\"#DejaVuSans-114\"/>\n     <use x=\"969.023438\" xlink:href=\"#DejaVuSans-111\"/>\n     <use x=\"1030.205078\" xlink:href=\"#DejaVuSans-114\"/>\n     <use x=\"1071.318359\" xlink:href=\"#DejaVuSans-32\"/>\n     <use x=\"1103.105469\" xlink:href=\"#DejaVuSans-114\"/>\n     <use x=\"1144.21875\" xlink:href=\"#DejaVuSans-97\"/>\n     <use x=\"1205.498047\" xlink:href=\"#DejaVuSans-116\"/>\n     <use x=\"1244.707031\" xlink:href=\"#DejaVuSans-101\"/>\n     <use x=\"1306.230469\" xlink:href=\"#DejaVuSans-58\"/>\n     <use x=\"1339.921875\" xlink:href=\"#DejaVuSans-32\"/>\n     <use x=\"1371.708984\" xlink:href=\"#DejaVuSans-57\"/>\n     <use x=\"1435.332031\" xlink:href=\"#DejaVuSans-46\"/>\n     <use x=\"1467.119141\" xlink:href=\"#DejaVuSans-48\"/>\n     <use x=\"1530.742188\" xlink:href=\"#DejaVuSans-57\"/>\n     <use x=\"1594.365234\" xlink:href=\"#DejaVuSans-37\"/>\n    </g>\n   </g>\n   <g id=\"legend_1\">\n    <g id=\"patch_12\">\n     <path d=\"M 879.95625 59.674375 \nL 935.94375 59.674375 \nQ 937.94375 59.674375 937.94375 57.674375 \nL 937.94375 29.318125 \nQ 937.94375 27.318125 935.94375 27.318125 \nL 879.95625 27.318125 \nQ 877.95625 27.318125 877.95625 29.318125 \nL 877.95625 57.674375 \nQ 877.95625 59.674375 879.95625 59.674375 \nz\n\" style=\"fill:#ffffff;opacity:0.8;stroke:#cccccc;stroke-linejoin:miter;\"/>\n    </g>\n    <g id=\"line2d_35\">\n     <path d=\"M 881.95625 35.416562 \nL 901.95625 35.416562 \n\" style=\"fill:none;stroke:#1f77b4;stroke-linecap:square;stroke-width:1.5;\"/>\n    </g>\n    <g id=\"line2d_36\">\n     <g>\n      <use style=\"fill:#1f77b4;stroke:#1f77b4;stroke-linejoin:miter;\" x=\"891.95625\" xlink:href=\"#mb7d8425387\" y=\"35.416562\"/>\n     </g>\n    </g>\n    <g id=\"text_37\">\n     <!-- Train -->\n     <defs>\n      <path d=\"M -0.296875 72.90625 \nL 61.375 72.90625 \nL 61.375 64.59375 \nL 35.5 64.59375 \nL 35.5 0 \nL 25.59375 0 \nL 25.59375 64.59375 \nL -0.296875 64.59375 \nz\n\" id=\"DejaVuSans-84\"/>\n     </defs>\n     <g transform=\"translate(909.95625 38.916562)scale(0.1 -0.1)\">\n      <use xlink:href=\"#DejaVuSans-84\"/>\n      <use x=\"46.333984\" xlink:href=\"#DejaVuSans-114\"/>\n      <use x=\"87.447266\" xlink:href=\"#DejaVuSans-97\"/>\n      <use x=\"148.726562\" xlink:href=\"#DejaVuSans-105\"/>\n      <use x=\"176.509766\" xlink:href=\"#DejaVuSans-110\"/>\n     </g>\n    </g>\n    <g id=\"line2d_37\">\n     <path d=\"M 881.95625 50.094688 \nL 901.95625 50.094688 \n\" style=\"fill:none;stroke:#ff7f0e;stroke-linecap:square;stroke-width:1.5;\"/>\n    </g>\n    <g id=\"line2d_38\">\n     <g>\n      <use style=\"fill:#ff7f0e;stroke:#ff7f0e;\" x=\"891.95625\" xlink:href=\"#m8783b9394a\" y=\"50.094688\"/>\n     </g>\n    </g>\n    <g id=\"text_38\">\n     <!-- Test -->\n     <g transform=\"translate(909.95625 53.594688)scale(0.1 -0.1)\">\n      <use xlink:href=\"#DejaVuSans-84\"/>\n      <use x=\"44.083984\" xlink:href=\"#DejaVuSans-101\"/>\n      <use x=\"105.607422\" xlink:href=\"#DejaVuSans-115\"/>\n      <use x=\"157.707031\" xlink:href=\"#DejaVuSans-116\"/>\n     </g>\n    </g>\n   </g>\n  </g>\n </g>\n <defs>\n  <clipPath id=\"p1d07d88750\">\n   <rect height=\"271.8\" width=\"405.818182\" x=\"50.14375\" y=\"22.318125\"/>\n  </clipPath>\n  <clipPath id=\"pf0e642b2f7\">\n   <rect height=\"271.8\" width=\"405.818182\" x=\"537.125568\" y=\"22.318125\"/>\n  </clipPath>\n </defs>\n</svg>\n"
          },
          "metadata": {
            "needs_background": "light"
          }
        }
      ]
    },
    {
      "cell_type": "markdown",
      "source": [
        "## Test the model on the number data"
      ],
      "metadata": {
        "id": "Fg-i3NuTNpjq"
      }
    },
    {
      "cell_type": "code",
      "source": [
        "# extract X,y from NUMBER test dataloader\n",
        "X,y = next(iter(number_test_loader))\n",
        "X = X.to(device)\n",
        "y = y.to(device)\n",
        "\n",
        "letterNet.eval()\n",
        "yHat = letterNet(X)\n",
        "\n",
        "# the test\n",
        "numberAcc = 100*torch.mean((torch.argmax(yHat,axis=1)!=y).float())\n",
        "\n",
        "print(f'numberNet error rate on NUMBER data: {numberAcc:.2f}%')"
      ],
      "metadata": {
        "colab": {
          "base_uri": "https://localhost:8080/"
        },
        "id": "DsjJjjpzNqUD",
        "outputId": "1e2e99c3-fa16-4eee-e65b-8e7a9a332fa8"
      },
      "execution_count": 13,
      "outputs": [
        {
          "output_type": "stream",
          "name": "stdout",
          "text": [
            "numberNet error rate on NUMBER data: 95.84%\n"
          ]
        }
      ]
    },
    {
      "cell_type": "markdown",
      "source": [
        "## Fine-tune the model with one training batch"
      ],
      "metadata": {
        "id": "NOVT1_bvNuW6"
      }
    },
    {
      "cell_type": "code",
      "source": [
        "# create the target model\n",
        "numberNet,lossfun,optimizer = makeTheNet()\n",
        "\n",
        "# then replace all the weights in TARGET model from SOURCE model\n",
        "for target,source in zip(numberNet.named_parameters(),letterNet.named_parameters()):\n",
        "  target[1].data = copy.deepcopy( source[1].data )"
      ],
      "metadata": {
        "id": "F1WTM55WNr_6"
      },
      "execution_count": 14,
      "outputs": []
    },
    {
      "cell_type": "markdown",
      "source": [
        "## Important Part ----------> Tuning of Number of Nodes in FFN Layer"
      ],
      "metadata": {
        "id": "A1ZxV7UmNyua"
      }
    },
    {
      "cell_type": "code",
      "source": [
        "# check out the network\n",
        "print(numberNet)\n",
        "print(' ')\n",
        "\n",
        "# and the final layer\n",
        "print(numberNet.fc2)\n",
        "\n",
        "# replace the final layer to have 10 outputs instead of 26\n",
        "numberNet.fc2 = nn.Linear(50,10)\n",
        "\n",
        "# and check it again\n",
        "print(' ')\n",
        "print(numberNet)"
      ],
      "metadata": {
        "colab": {
          "base_uri": "https://localhost:8080/"
        },
        "id": "N1oEN9tlNr9C",
        "outputId": "816f58ac-1714-4eb5-f0a2-79a0517b9d00"
      },
      "execution_count": 15,
      "outputs": [
        {
          "output_type": "stream",
          "name": "stdout",
          "text": [
            "emnistnet(\n",
            "  (conv1): Conv2d(1, 6, kernel_size=(3, 3), stride=(1, 1), padding=(1, 1))\n",
            "  (bnorm1): BatchNorm2d(6, eps=1e-05, momentum=0.1, affine=True, track_running_stats=True)\n",
            "  (conv2): Conv2d(6, 6, kernel_size=(3, 3), stride=(1, 1), padding=(1, 1))\n",
            "  (bnorm2): BatchNorm2d(6, eps=1e-05, momentum=0.1, affine=True, track_running_stats=True)\n",
            "  (fc1): Linear(in_features=294, out_features=50, bias=True)\n",
            "  (fc2): Linear(in_features=50, out_features=26, bias=True)\n",
            ")\n",
            " \n",
            "Linear(in_features=50, out_features=26, bias=True)\n",
            " \n",
            "emnistnet(\n",
            "  (conv1): Conv2d(1, 6, kernel_size=(3, 3), stride=(1, 1), padding=(1, 1))\n",
            "  (bnorm1): BatchNorm2d(6, eps=1e-05, momentum=0.1, affine=True, track_running_stats=True)\n",
            "  (conv2): Conv2d(6, 6, kernel_size=(3, 3), stride=(1, 1), padding=(1, 1))\n",
            "  (bnorm2): BatchNorm2d(6, eps=1e-05, momentum=0.1, affine=True, track_running_stats=True)\n",
            "  (fc1): Linear(in_features=294, out_features=50, bias=True)\n",
            "  (fc2): Linear(in_features=50, out_features=10, bias=True)\n",
            ")\n"
          ]
        }
      ]
    },
    {
      "cell_type": "code",
      "source": [
        "%%time\n",
        "# now re-train the network on the numbers data\n",
        "\n",
        "trainLoss,testLoss,trainErr,testErr,numberNet = function2trainTheModel(\n",
        "                                                   numberNet,optimizer,number_train_loader,number_test_loader,1)"
      ],
      "metadata": {
        "colab": {
          "base_uri": "https://localhost:8080/"
        },
        "id": "GrYC-Q2wNr6l",
        "outputId": "f1758341-19e8-442a-cfee-3332378bf935"
      },
      "execution_count": 16,
      "outputs": [
        {
          "output_type": "stream",
          "name": "stdout",
          "text": [
            "CPU times: user 32.6 s, sys: 722 ms, total: 33.4 s\n",
            "Wall time: 33.7 s\n"
          ]
        }
      ]
    },
    {
      "cell_type": "code",
      "source": [
        "print(f'numberNet TRAIN error rate: {trainErr[-1]:.2f}%')\n",
        "print(f'numberNet TEST error rate: {testErr[-1]:.2f}%')"
      ],
      "metadata": {
        "colab": {
          "base_uri": "https://localhost:8080/"
        },
        "id": "GWUlLLX6Nr3y",
        "outputId": "9b1e312c-c7fa-4854-c0c4-f0168f2fd44b"
      },
      "execution_count": 17,
      "outputs": [
        {
          "output_type": "stream",
          "name": "stdout",
          "text": [
            "numberNet TRAIN error rate: 2.58%\n",
            "numberNet TEST error rate: 1.37%\n"
          ]
        }
      ]
    },
    {
      "cell_type": "markdown",
      "source": [
        "## Try again, only train output layer"
      ],
      "metadata": {
        "id": "xvoyAsIiOAIK"
      }
    },
    {
      "cell_type": "code",
      "source": [
        "# create the target model\n",
        "numberNet2,lossfun,optimizer = makeTheNet()\n",
        "\n",
        "# then replace all the weights in TARGET model from SOURCE model\n",
        "for target,source in zip(numberNet2.named_parameters(),letterNet.named_parameters()):\n",
        "  target[1].data = copy.deepcopy( source[1].data )\n",
        "\n",
        "print(numberNet2)\n",
        "# adjust number of output units\n",
        "numberNet2.fc2 = nn.Linear(50,10)\n",
        "print(' ')\n",
        "print(numberNet2)\n",
        "\n",
        "\n",
        "# freeze all layers except output\n",
        "for p in numberNet2.named_parameters():\n",
        "  if not 'fc2' in p[0]:\n",
        "    p[1].requires_grad = True\n",
        "\n",
        "# print(' ')\n",
        "# for p in numberNet2.named_parameters():\n",
        "#     print(p[0])\n",
        "    \n"
      ],
      "metadata": {
        "colab": {
          "base_uri": "https://localhost:8080/"
        },
        "id": "0BIwR6wcNr1S",
        "outputId": "ca576bb8-77cd-440a-bb49-c557d1f8c97a"
      },
      "execution_count": 43,
      "outputs": [
        {
          "output_type": "stream",
          "name": "stdout",
          "text": [
            "emnistnet(\n",
            "  (conv1): Conv2d(1, 6, kernel_size=(3, 3), stride=(1, 1), padding=(1, 1))\n",
            "  (bnorm1): BatchNorm2d(6, eps=1e-05, momentum=0.1, affine=True, track_running_stats=True)\n",
            "  (conv2): Conv2d(6, 6, kernel_size=(3, 3), stride=(1, 1), padding=(1, 1))\n",
            "  (bnorm2): BatchNorm2d(6, eps=1e-05, momentum=0.1, affine=True, track_running_stats=True)\n",
            "  (fc1): Linear(in_features=294, out_features=50, bias=True)\n",
            "  (fc2): Linear(in_features=50, out_features=26, bias=True)\n",
            ")\n",
            " \n",
            "emnistnet(\n",
            "  (conv1): Conv2d(1, 6, kernel_size=(3, 3), stride=(1, 1), padding=(1, 1))\n",
            "  (bnorm1): BatchNorm2d(6, eps=1e-05, momentum=0.1, affine=True, track_running_stats=True)\n",
            "  (conv2): Conv2d(6, 6, kernel_size=(3, 3), stride=(1, 1), padding=(1, 1))\n",
            "  (bnorm2): BatchNorm2d(6, eps=1e-05, momentum=0.1, affine=True, track_running_stats=True)\n",
            "  (fc1): Linear(in_features=294, out_features=50, bias=True)\n",
            "  (fc2): Linear(in_features=50, out_features=10, bias=True)\n",
            ")\n"
          ]
        }
      ]
    },
    {
      "cell_type": "code",
      "source": [
        "%%time\n",
        "# now re-train the network on the numbers data\n",
        "\n",
        "trainLoss, testLoss, trainErr, testErr, numberNet2 = function2trainTheModel(\n",
        "                                                   numberNet2,optimizer,number_train_loader,number_test_loader,5)"
      ],
      "metadata": {
        "colab": {
          "base_uri": "https://localhost:8080/"
        },
        "id": "X_4A1dOXNryq",
        "outputId": "4d91d026-7be3-4bf4-d97f-ea0132e02942"
      },
      "execution_count": 41,
      "outputs": [
        {
          "output_type": "stream",
          "name": "stdout",
          "text": [
            "Epoch Number starts:  1\n",
            "Epoch Number finished:  1\n",
            "Epoch Number starts:  2\n",
            "Epoch Number finished:  2\n",
            "Epoch Number starts:  3\n",
            "Epoch Number finished:  3\n",
            "Epoch Number starts:  4\n",
            "Epoch Number finished:  4\n",
            "Epoch Number starts:  5\n",
            "Epoch Number finished:  5\n",
            "CPU times: user 2min 31s, sys: 3.44 s, total: 2min 35s\n",
            "Wall time: 2min 34s\n"
          ]
        }
      ]
    },
    {
      "cell_type": "code",
      "source": [
        "print(f'numberNet TRAIN error rate: {trainErr[-1]:.2f}%')\n",
        "print(f'numberNet TEST error rate: {testErr[-1]:.2f}%')"
      ],
      "metadata": {
        "colab": {
          "base_uri": "https://localhost:8080/"
        },
        "id": "ijz4i_OfNrv6",
        "outputId": "b5c96014-470e-4fc7-a16e-00d39f919375"
      },
      "execution_count": 42,
      "outputs": [
        {
          "output_type": "stream",
          "name": "stdout",
          "text": [
            "numberNet TRAIN error rate: 0.71%\n",
            "numberNet TEST error rate: 0.87%\n"
          ]
        }
      ]
    },
    {
      "cell_type": "code",
      "source": [
        "fig,ax = plt.subplots(1,2,figsize=(16,5))\n",
        "\n",
        "ax[0].plot(trainLoss,'s-',label='Train')\n",
        "ax[0].plot(testLoss,'o-',label='Test')\n",
        "ax[0].set_xlabel('Epochs')\n",
        "ax[0].set_ylabel('Loss (MSE)')\n",
        "ax[0].set_title('Model loss')\n",
        "\n",
        "ax[1].plot(trainErr,'s-',label='Train')\n",
        "ax[1].plot(testErr,'o-',label='Test')\n",
        "ax[1].set_xlabel('Epochs')\n",
        "ax[1].set_ylabel('Error rates (%)')\n",
        "ax[1].set_title(f'Final model test error rate: {testErr[-1]:.2f}%')\n",
        "ax[1].legend()\n",
        "\n",
        "plt.show()"
      ],
      "metadata": {
        "colab": {
          "base_uri": "https://localhost:8080/",
          "height": 463
        },
        "id": "tlL5fmpVPcM3",
        "outputId": "39af433b-3716-43ba-c31e-b6c00df346cf"
      },
      "execution_count": 44,
      "outputs": [
        {
          "output_type": "display_data",
          "data": {
            "text/plain": [
              "<Figure size 1152x360 with 2 Axes>"
            ],
            "image/svg+xml": "<?xml version=\"1.0\" encoding=\"utf-8\" standalone=\"no\"?>\n<!DOCTYPE svg PUBLIC \"-//W3C//DTD SVG 1.1//EN\"\n  \"http://www.w3.org/Graphics/SVG/1.1/DTD/svg11.dtd\">\n<!-- Created with matplotlib (https://matplotlib.org/) -->\n<svg height=\"331.674375pt\" version=\"1.1\" viewBox=\"0 0 950.14375 331.674375\" width=\"950.14375pt\" xmlns=\"http://www.w3.org/2000/svg\" xmlns:xlink=\"http://www.w3.org/1999/xlink\">\n <defs>\n  <style type=\"text/css\">\n*{stroke-linecap:butt;stroke-linejoin:round;}\n  </style>\n </defs>\n <g id=\"figure_1\">\n  <g id=\"patch_1\">\n   <path d=\"M 0 331.674375 \nL 950.14375 331.674375 \nL 950.14375 0 \nL 0 0 \nz\n\" style=\"fill:none;\"/>\n  </g>\n  <g id=\"axes_1\">\n   <g id=\"patch_2\">\n    <path d=\"M 50.14375 294.118125 \nL 455.961932 294.118125 \nL 455.961932 22.318125 \nL 50.14375 22.318125 \nz\n\" style=\"fill:#ffffff;\"/>\n   </g>\n   <g id=\"matplotlib.axis_1\">\n    <g id=\"xtick_1\">\n     <g id=\"line2d_1\">\n      <defs>\n       <path d=\"M 0 0 \nL 0 3.5 \n\" id=\"mcbb830ba77\" style=\"stroke:#000000;stroke-width:0.8;\"/>\n      </defs>\n      <g>\n       <use style=\"stroke:#000000;stroke-width:0.8;\" x=\"68.590031\" xlink:href=\"#mcbb830ba77\" y=\"294.118125\"/>\n      </g>\n     </g>\n     <g id=\"text_1\">\n      <!-- 0.0 -->\n      <defs>\n       <path d=\"M 31.78125 66.40625 \nQ 24.171875 66.40625 20.328125 58.90625 \nQ 16.5 51.421875 16.5 36.375 \nQ 16.5 21.390625 20.328125 13.890625 \nQ 24.171875 6.390625 31.78125 6.390625 \nQ 39.453125 6.390625 43.28125 13.890625 \nQ 47.125 21.390625 47.125 36.375 \nQ 47.125 51.421875 43.28125 58.90625 \nQ 39.453125 66.40625 31.78125 66.40625 \nz\nM 31.78125 74.21875 \nQ 44.046875 74.21875 50.515625 64.515625 \nQ 56.984375 54.828125 56.984375 36.375 \nQ 56.984375 17.96875 50.515625 8.265625 \nQ 44.046875 -1.421875 31.78125 -1.421875 \nQ 19.53125 -1.421875 13.0625 8.265625 \nQ 6.59375 17.96875 6.59375 36.375 \nQ 6.59375 54.828125 13.0625 64.515625 \nQ 19.53125 74.21875 31.78125 74.21875 \nz\n\" id=\"DejaVuSans-48\"/>\n       <path d=\"M 10.6875 12.40625 \nL 21 12.40625 \nL 21 0 \nL 10.6875 0 \nz\n\" id=\"DejaVuSans-46\"/>\n      </defs>\n      <g transform=\"translate(60.638468 308.716563)scale(0.1 -0.1)\">\n       <use xlink:href=\"#DejaVuSans-48\"/>\n       <use x=\"63.623047\" xlink:href=\"#DejaVuSans-46\"/>\n       <use x=\"95.410156\" xlink:href=\"#DejaVuSans-48\"/>\n      </g>\n     </g>\n    </g>\n    <g id=\"xtick_2\">\n     <g id=\"line2d_2\">\n      <g>\n       <use style=\"stroke:#000000;stroke-width:0.8;\" x=\"114.705733\" xlink:href=\"#mcbb830ba77\" y=\"294.118125\"/>\n      </g>\n     </g>\n     <g id=\"text_2\">\n      <!-- 0.5 -->\n      <defs>\n       <path d=\"M 10.796875 72.90625 \nL 49.515625 72.90625 \nL 49.515625 64.59375 \nL 19.828125 64.59375 \nL 19.828125 46.734375 \nQ 21.96875 47.46875 24.109375 47.828125 \nQ 26.265625 48.1875 28.421875 48.1875 \nQ 40.625 48.1875 47.75 41.5 \nQ 54.890625 34.8125 54.890625 23.390625 \nQ 54.890625 11.625 47.5625 5.09375 \nQ 40.234375 -1.421875 26.90625 -1.421875 \nQ 22.3125 -1.421875 17.546875 -0.640625 \nQ 12.796875 0.140625 7.71875 1.703125 \nL 7.71875 11.625 \nQ 12.109375 9.234375 16.796875 8.0625 \nQ 21.484375 6.890625 26.703125 6.890625 \nQ 35.15625 6.890625 40.078125 11.328125 \nQ 45.015625 15.765625 45.015625 23.390625 \nQ 45.015625 31 40.078125 35.4375 \nQ 35.15625 39.890625 26.703125 39.890625 \nQ 22.75 39.890625 18.8125 39.015625 \nQ 14.890625 38.140625 10.796875 36.28125 \nz\n\" id=\"DejaVuSans-53\"/>\n      </defs>\n      <g transform=\"translate(106.754171 308.716563)scale(0.1 -0.1)\">\n       <use xlink:href=\"#DejaVuSans-48\"/>\n       <use x=\"63.623047\" xlink:href=\"#DejaVuSans-46\"/>\n       <use x=\"95.410156\" xlink:href=\"#DejaVuSans-53\"/>\n      </g>\n     </g>\n    </g>\n    <g id=\"xtick_3\">\n     <g id=\"line2d_3\">\n      <g>\n       <use style=\"stroke:#000000;stroke-width:0.8;\" x=\"160.821436\" xlink:href=\"#mcbb830ba77\" y=\"294.118125\"/>\n      </g>\n     </g>\n     <g id=\"text_3\">\n      <!-- 1.0 -->\n      <defs>\n       <path d=\"M 12.40625 8.296875 \nL 28.515625 8.296875 \nL 28.515625 63.921875 \nL 10.984375 60.40625 \nL 10.984375 69.390625 \nL 28.421875 72.90625 \nL 38.28125 72.90625 \nL 38.28125 8.296875 \nL 54.390625 8.296875 \nL 54.390625 0 \nL 12.40625 0 \nz\n\" id=\"DejaVuSans-49\"/>\n      </defs>\n      <g transform=\"translate(152.869873 308.716563)scale(0.1 -0.1)\">\n       <use xlink:href=\"#DejaVuSans-49\"/>\n       <use x=\"63.623047\" xlink:href=\"#DejaVuSans-46\"/>\n       <use x=\"95.410156\" xlink:href=\"#DejaVuSans-48\"/>\n      </g>\n     </g>\n    </g>\n    <g id=\"xtick_4\">\n     <g id=\"line2d_4\">\n      <g>\n       <use style=\"stroke:#000000;stroke-width:0.8;\" x=\"206.937138\" xlink:href=\"#mcbb830ba77\" y=\"294.118125\"/>\n      </g>\n     </g>\n     <g id=\"text_4\">\n      <!-- 1.5 -->\n      <g transform=\"translate(198.985576 308.716563)scale(0.1 -0.1)\">\n       <use xlink:href=\"#DejaVuSans-49\"/>\n       <use x=\"63.623047\" xlink:href=\"#DejaVuSans-46\"/>\n       <use x=\"95.410156\" xlink:href=\"#DejaVuSans-53\"/>\n      </g>\n     </g>\n    </g>\n    <g id=\"xtick_5\">\n     <g id=\"line2d_5\">\n      <g>\n       <use style=\"stroke:#000000;stroke-width:0.8;\" x=\"253.052841\" xlink:href=\"#mcbb830ba77\" y=\"294.118125\"/>\n      </g>\n     </g>\n     <g id=\"text_5\">\n      <!-- 2.0 -->\n      <defs>\n       <path d=\"M 19.1875 8.296875 \nL 53.609375 8.296875 \nL 53.609375 0 \nL 7.328125 0 \nL 7.328125 8.296875 \nQ 12.9375 14.109375 22.625 23.890625 \nQ 32.328125 33.6875 34.8125 36.53125 \nQ 39.546875 41.84375 41.421875 45.53125 \nQ 43.3125 49.21875 43.3125 52.78125 \nQ 43.3125 58.59375 39.234375 62.25 \nQ 35.15625 65.921875 28.609375 65.921875 \nQ 23.96875 65.921875 18.8125 64.3125 \nQ 13.671875 62.703125 7.8125 59.421875 \nL 7.8125 69.390625 \nQ 13.765625 71.78125 18.9375 73 \nQ 24.125 74.21875 28.421875 74.21875 \nQ 39.75 74.21875 46.484375 68.546875 \nQ 53.21875 62.890625 53.21875 53.421875 \nQ 53.21875 48.921875 51.53125 44.890625 \nQ 49.859375 40.875 45.40625 35.40625 \nQ 44.1875 33.984375 37.640625 27.21875 \nQ 31.109375 20.453125 19.1875 8.296875 \nz\n\" id=\"DejaVuSans-50\"/>\n      </defs>\n      <g transform=\"translate(245.101278 308.716563)scale(0.1 -0.1)\">\n       <use xlink:href=\"#DejaVuSans-50\"/>\n       <use x=\"63.623047\" xlink:href=\"#DejaVuSans-46\"/>\n       <use x=\"95.410156\" xlink:href=\"#DejaVuSans-48\"/>\n      </g>\n     </g>\n    </g>\n    <g id=\"xtick_6\">\n     <g id=\"line2d_6\">\n      <g>\n       <use style=\"stroke:#000000;stroke-width:0.8;\" x=\"299.168543\" xlink:href=\"#mcbb830ba77\" y=\"294.118125\"/>\n      </g>\n     </g>\n     <g id=\"text_6\">\n      <!-- 2.5 -->\n      <g transform=\"translate(291.216981 308.716563)scale(0.1 -0.1)\">\n       <use xlink:href=\"#DejaVuSans-50\"/>\n       <use x=\"63.623047\" xlink:href=\"#DejaVuSans-46\"/>\n       <use x=\"95.410156\" xlink:href=\"#DejaVuSans-53\"/>\n      </g>\n     </g>\n    </g>\n    <g id=\"xtick_7\">\n     <g id=\"line2d_7\">\n      <g>\n       <use style=\"stroke:#000000;stroke-width:0.8;\" x=\"345.284246\" xlink:href=\"#mcbb830ba77\" y=\"294.118125\"/>\n      </g>\n     </g>\n     <g id=\"text_7\">\n      <!-- 3.0 -->\n      <defs>\n       <path d=\"M 40.578125 39.3125 \nQ 47.65625 37.796875 51.625 33 \nQ 55.609375 28.21875 55.609375 21.1875 \nQ 55.609375 10.40625 48.1875 4.484375 \nQ 40.765625 -1.421875 27.09375 -1.421875 \nQ 22.515625 -1.421875 17.65625 -0.515625 \nQ 12.796875 0.390625 7.625 2.203125 \nL 7.625 11.71875 \nQ 11.71875 9.328125 16.59375 8.109375 \nQ 21.484375 6.890625 26.8125 6.890625 \nQ 36.078125 6.890625 40.9375 10.546875 \nQ 45.796875 14.203125 45.796875 21.1875 \nQ 45.796875 27.640625 41.28125 31.265625 \nQ 36.765625 34.90625 28.71875 34.90625 \nL 20.21875 34.90625 \nL 20.21875 43.015625 \nL 29.109375 43.015625 \nQ 36.375 43.015625 40.234375 45.921875 \nQ 44.09375 48.828125 44.09375 54.296875 \nQ 44.09375 59.90625 40.109375 62.90625 \nQ 36.140625 65.921875 28.71875 65.921875 \nQ 24.65625 65.921875 20.015625 65.03125 \nQ 15.375 64.15625 9.8125 62.3125 \nL 9.8125 71.09375 \nQ 15.4375 72.65625 20.34375 73.4375 \nQ 25.25 74.21875 29.59375 74.21875 \nQ 40.828125 74.21875 47.359375 69.109375 \nQ 53.90625 64.015625 53.90625 55.328125 \nQ 53.90625 49.265625 50.4375 45.09375 \nQ 46.96875 40.921875 40.578125 39.3125 \nz\n\" id=\"DejaVuSans-51\"/>\n      </defs>\n      <g transform=\"translate(337.332683 308.716563)scale(0.1 -0.1)\">\n       <use xlink:href=\"#DejaVuSans-51\"/>\n       <use x=\"63.623047\" xlink:href=\"#DejaVuSans-46\"/>\n       <use x=\"95.410156\" xlink:href=\"#DejaVuSans-48\"/>\n      </g>\n     </g>\n    </g>\n    <g id=\"xtick_8\">\n     <g id=\"line2d_8\">\n      <g>\n       <use style=\"stroke:#000000;stroke-width:0.8;\" x=\"391.399948\" xlink:href=\"#mcbb830ba77\" y=\"294.118125\"/>\n      </g>\n     </g>\n     <g id=\"text_8\">\n      <!-- 3.5 -->\n      <g transform=\"translate(383.448386 308.716563)scale(0.1 -0.1)\">\n       <use xlink:href=\"#DejaVuSans-51\"/>\n       <use x=\"63.623047\" xlink:href=\"#DejaVuSans-46\"/>\n       <use x=\"95.410156\" xlink:href=\"#DejaVuSans-53\"/>\n      </g>\n     </g>\n    </g>\n    <g id=\"xtick_9\">\n     <g id=\"line2d_9\">\n      <g>\n       <use style=\"stroke:#000000;stroke-width:0.8;\" x=\"437.515651\" xlink:href=\"#mcbb830ba77\" y=\"294.118125\"/>\n      </g>\n     </g>\n     <g id=\"text_9\">\n      <!-- 4.0 -->\n      <defs>\n       <path d=\"M 37.796875 64.3125 \nL 12.890625 25.390625 \nL 37.796875 25.390625 \nz\nM 35.203125 72.90625 \nL 47.609375 72.90625 \nL 47.609375 25.390625 \nL 58.015625 25.390625 \nL 58.015625 17.1875 \nL 47.609375 17.1875 \nL 47.609375 0 \nL 37.796875 0 \nL 37.796875 17.1875 \nL 4.890625 17.1875 \nL 4.890625 26.703125 \nz\n\" id=\"DejaVuSans-52\"/>\n      </defs>\n      <g transform=\"translate(429.564088 308.716563)scale(0.1 -0.1)\">\n       <use xlink:href=\"#DejaVuSans-52\"/>\n       <use x=\"63.623047\" xlink:href=\"#DejaVuSans-46\"/>\n       <use x=\"95.410156\" xlink:href=\"#DejaVuSans-48\"/>\n      </g>\n     </g>\n    </g>\n    <g id=\"text_10\">\n     <!-- Epochs -->\n     <defs>\n      <path d=\"M 9.8125 72.90625 \nL 55.90625 72.90625 \nL 55.90625 64.59375 \nL 19.671875 64.59375 \nL 19.671875 43.015625 \nL 54.390625 43.015625 \nL 54.390625 34.71875 \nL 19.671875 34.71875 \nL 19.671875 8.296875 \nL 56.78125 8.296875 \nL 56.78125 0 \nL 9.8125 0 \nz\n\" id=\"DejaVuSans-69\"/>\n      <path d=\"M 18.109375 8.203125 \nL 18.109375 -20.796875 \nL 9.078125 -20.796875 \nL 9.078125 54.6875 \nL 18.109375 54.6875 \nL 18.109375 46.390625 \nQ 20.953125 51.265625 25.265625 53.625 \nQ 29.59375 56 35.59375 56 \nQ 45.5625 56 51.78125 48.09375 \nQ 58.015625 40.1875 58.015625 27.296875 \nQ 58.015625 14.40625 51.78125 6.484375 \nQ 45.5625 -1.421875 35.59375 -1.421875 \nQ 29.59375 -1.421875 25.265625 0.953125 \nQ 20.953125 3.328125 18.109375 8.203125 \nz\nM 48.6875 27.296875 \nQ 48.6875 37.203125 44.609375 42.84375 \nQ 40.53125 48.484375 33.40625 48.484375 \nQ 26.265625 48.484375 22.1875 42.84375 \nQ 18.109375 37.203125 18.109375 27.296875 \nQ 18.109375 17.390625 22.1875 11.75 \nQ 26.265625 6.109375 33.40625 6.109375 \nQ 40.53125 6.109375 44.609375 11.75 \nQ 48.6875 17.390625 48.6875 27.296875 \nz\n\" id=\"DejaVuSans-112\"/>\n      <path d=\"M 30.609375 48.390625 \nQ 23.390625 48.390625 19.1875 42.75 \nQ 14.984375 37.109375 14.984375 27.296875 \nQ 14.984375 17.484375 19.15625 11.84375 \nQ 23.34375 6.203125 30.609375 6.203125 \nQ 37.796875 6.203125 41.984375 11.859375 \nQ 46.1875 17.53125 46.1875 27.296875 \nQ 46.1875 37.015625 41.984375 42.703125 \nQ 37.796875 48.390625 30.609375 48.390625 \nz\nM 30.609375 56 \nQ 42.328125 56 49.015625 48.375 \nQ 55.71875 40.765625 55.71875 27.296875 \nQ 55.71875 13.875 49.015625 6.21875 \nQ 42.328125 -1.421875 30.609375 -1.421875 \nQ 18.84375 -1.421875 12.171875 6.21875 \nQ 5.515625 13.875 5.515625 27.296875 \nQ 5.515625 40.765625 12.171875 48.375 \nQ 18.84375 56 30.609375 56 \nz\n\" id=\"DejaVuSans-111\"/>\n      <path d=\"M 48.78125 52.59375 \nL 48.78125 44.1875 \nQ 44.96875 46.296875 41.140625 47.34375 \nQ 37.3125 48.390625 33.40625 48.390625 \nQ 24.65625 48.390625 19.8125 42.84375 \nQ 14.984375 37.3125 14.984375 27.296875 \nQ 14.984375 17.28125 19.8125 11.734375 \nQ 24.65625 6.203125 33.40625 6.203125 \nQ 37.3125 6.203125 41.140625 7.25 \nQ 44.96875 8.296875 48.78125 10.40625 \nL 48.78125 2.09375 \nQ 45.015625 0.34375 40.984375 -0.53125 \nQ 36.96875 -1.421875 32.421875 -1.421875 \nQ 20.0625 -1.421875 12.78125 6.34375 \nQ 5.515625 14.109375 5.515625 27.296875 \nQ 5.515625 40.671875 12.859375 48.328125 \nQ 20.21875 56 33.015625 56 \nQ 37.15625 56 41.109375 55.140625 \nQ 45.0625 54.296875 48.78125 52.59375 \nz\n\" id=\"DejaVuSans-99\"/>\n      <path d=\"M 54.890625 33.015625 \nL 54.890625 0 \nL 45.90625 0 \nL 45.90625 32.71875 \nQ 45.90625 40.484375 42.875 44.328125 \nQ 39.84375 48.1875 33.796875 48.1875 \nQ 26.515625 48.1875 22.3125 43.546875 \nQ 18.109375 38.921875 18.109375 30.90625 \nL 18.109375 0 \nL 9.078125 0 \nL 9.078125 75.984375 \nL 18.109375 75.984375 \nL 18.109375 46.1875 \nQ 21.34375 51.125 25.703125 53.5625 \nQ 30.078125 56 35.796875 56 \nQ 45.21875 56 50.046875 50.171875 \nQ 54.890625 44.34375 54.890625 33.015625 \nz\n\" id=\"DejaVuSans-104\"/>\n      <path d=\"M 44.28125 53.078125 \nL 44.28125 44.578125 \nQ 40.484375 46.53125 36.375 47.5 \nQ 32.28125 48.484375 27.875 48.484375 \nQ 21.1875 48.484375 17.84375 46.4375 \nQ 14.5 44.390625 14.5 40.28125 \nQ 14.5 37.15625 16.890625 35.375 \nQ 19.28125 33.59375 26.515625 31.984375 \nL 29.59375 31.296875 \nQ 39.15625 29.25 43.1875 25.515625 \nQ 47.21875 21.78125 47.21875 15.09375 \nQ 47.21875 7.46875 41.1875 3.015625 \nQ 35.15625 -1.421875 24.609375 -1.421875 \nQ 20.21875 -1.421875 15.453125 -0.5625 \nQ 10.6875 0.296875 5.421875 2 \nL 5.421875 11.28125 \nQ 10.40625 8.6875 15.234375 7.390625 \nQ 20.0625 6.109375 24.8125 6.109375 \nQ 31.15625 6.109375 34.5625 8.28125 \nQ 37.984375 10.453125 37.984375 14.40625 \nQ 37.984375 18.0625 35.515625 20.015625 \nQ 33.0625 21.96875 24.703125 23.78125 \nL 21.578125 24.515625 \nQ 13.234375 26.265625 9.515625 29.90625 \nQ 5.8125 33.546875 5.8125 39.890625 \nQ 5.8125 47.609375 11.28125 51.796875 \nQ 16.75 56 26.8125 56 \nQ 31.78125 56 36.171875 55.265625 \nQ 40.578125 54.546875 44.28125 53.078125 \nz\n\" id=\"DejaVuSans-115\"/>\n     </defs>\n     <g transform=\"translate(235.137216 322.394687)scale(0.1 -0.1)\">\n      <use xlink:href=\"#DejaVuSans-69\"/>\n      <use x=\"63.183594\" xlink:href=\"#DejaVuSans-112\"/>\n      <use x=\"126.660156\" xlink:href=\"#DejaVuSans-111\"/>\n      <use x=\"187.841797\" xlink:href=\"#DejaVuSans-99\"/>\n      <use x=\"242.822266\" xlink:href=\"#DejaVuSans-104\"/>\n      <use x=\"306.201172\" xlink:href=\"#DejaVuSans-115\"/>\n     </g>\n    </g>\n   </g>\n   <g id=\"matplotlib.axis_2\">\n    <g id=\"ytick_1\">\n     <g id=\"line2d_10\">\n      <defs>\n       <path d=\"M 0 0 \nL -3.5 0 \n\" id=\"m8a0d6c6daa\" style=\"stroke:#000000;stroke-width:0.8;\"/>\n      </defs>\n      <g>\n       <use style=\"stroke:#000000;stroke-width:0.8;\" x=\"50.14375\" xlink:href=\"#m8a0d6c6daa\" y=\"262.907729\"/>\n      </g>\n     </g>\n     <g id=\"text_11\">\n      <!-- 0.03 -->\n      <g transform=\"translate(20.878125 266.706948)scale(0.1 -0.1)\">\n       <use xlink:href=\"#DejaVuSans-48\"/>\n       <use x=\"63.623047\" xlink:href=\"#DejaVuSans-46\"/>\n       <use x=\"95.410156\" xlink:href=\"#DejaVuSans-48\"/>\n       <use x=\"159.033203\" xlink:href=\"#DejaVuSans-51\"/>\n      </g>\n     </g>\n    </g>\n    <g id=\"ytick_2\">\n     <g id=\"line2d_11\">\n      <g>\n       <use style=\"stroke:#000000;stroke-width:0.8;\" x=\"50.14375\" xlink:href=\"#m8a0d6c6daa\" y=\"228.512216\"/>\n      </g>\n     </g>\n     <g id=\"text_12\">\n      <!-- 0.04 -->\n      <g transform=\"translate(20.878125 232.311435)scale(0.1 -0.1)\">\n       <use xlink:href=\"#DejaVuSans-48\"/>\n       <use x=\"63.623047\" xlink:href=\"#DejaVuSans-46\"/>\n       <use x=\"95.410156\" xlink:href=\"#DejaVuSans-48\"/>\n       <use x=\"159.033203\" xlink:href=\"#DejaVuSans-52\"/>\n      </g>\n     </g>\n    </g>\n    <g id=\"ytick_3\">\n     <g id=\"line2d_12\">\n      <g>\n       <use style=\"stroke:#000000;stroke-width:0.8;\" x=\"50.14375\" xlink:href=\"#m8a0d6c6daa\" y=\"194.116704\"/>\n      </g>\n     </g>\n     <g id=\"text_13\">\n      <!-- 0.05 -->\n      <g transform=\"translate(20.878125 197.915922)scale(0.1 -0.1)\">\n       <use xlink:href=\"#DejaVuSans-48\"/>\n       <use x=\"63.623047\" xlink:href=\"#DejaVuSans-46\"/>\n       <use x=\"95.410156\" xlink:href=\"#DejaVuSans-48\"/>\n       <use x=\"159.033203\" xlink:href=\"#DejaVuSans-53\"/>\n      </g>\n     </g>\n    </g>\n    <g id=\"ytick_4\">\n     <g id=\"line2d_13\">\n      <g>\n       <use style=\"stroke:#000000;stroke-width:0.8;\" x=\"50.14375\" xlink:href=\"#m8a0d6c6daa\" y=\"159.721191\"/>\n      </g>\n     </g>\n     <g id=\"text_14\">\n      <!-- 0.06 -->\n      <defs>\n       <path d=\"M 33.015625 40.375 \nQ 26.375 40.375 22.484375 35.828125 \nQ 18.609375 31.296875 18.609375 23.390625 \nQ 18.609375 15.53125 22.484375 10.953125 \nQ 26.375 6.390625 33.015625 6.390625 \nQ 39.65625 6.390625 43.53125 10.953125 \nQ 47.40625 15.53125 47.40625 23.390625 \nQ 47.40625 31.296875 43.53125 35.828125 \nQ 39.65625 40.375 33.015625 40.375 \nz\nM 52.59375 71.296875 \nL 52.59375 62.3125 \nQ 48.875 64.0625 45.09375 64.984375 \nQ 41.3125 65.921875 37.59375 65.921875 \nQ 27.828125 65.921875 22.671875 59.328125 \nQ 17.53125 52.734375 16.796875 39.40625 \nQ 19.671875 43.65625 24.015625 45.921875 \nQ 28.375 48.1875 33.59375 48.1875 \nQ 44.578125 48.1875 50.953125 41.515625 \nQ 57.328125 34.859375 57.328125 23.390625 \nQ 57.328125 12.15625 50.6875 5.359375 \nQ 44.046875 -1.421875 33.015625 -1.421875 \nQ 20.359375 -1.421875 13.671875 8.265625 \nQ 6.984375 17.96875 6.984375 36.375 \nQ 6.984375 53.65625 15.1875 63.9375 \nQ 23.390625 74.21875 37.203125 74.21875 \nQ 40.921875 74.21875 44.703125 73.484375 \nQ 48.484375 72.75 52.59375 71.296875 \nz\n\" id=\"DejaVuSans-54\"/>\n      </defs>\n      <g transform=\"translate(20.878125 163.52041)scale(0.1 -0.1)\">\n       <use xlink:href=\"#DejaVuSans-48\"/>\n       <use x=\"63.623047\" xlink:href=\"#DejaVuSans-46\"/>\n       <use x=\"95.410156\" xlink:href=\"#DejaVuSans-48\"/>\n       <use x=\"159.033203\" xlink:href=\"#DejaVuSans-54\"/>\n      </g>\n     </g>\n    </g>\n    <g id=\"ytick_5\">\n     <g id=\"line2d_14\">\n      <g>\n       <use style=\"stroke:#000000;stroke-width:0.8;\" x=\"50.14375\" xlink:href=\"#m8a0d6c6daa\" y=\"125.325678\"/>\n      </g>\n     </g>\n     <g id=\"text_15\">\n      <!-- 0.07 -->\n      <defs>\n       <path d=\"M 8.203125 72.90625 \nL 55.078125 72.90625 \nL 55.078125 68.703125 \nL 28.609375 0 \nL 18.3125 0 \nL 43.21875 64.59375 \nL 8.203125 64.59375 \nz\n\" id=\"DejaVuSans-55\"/>\n      </defs>\n      <g transform=\"translate(20.878125 129.124897)scale(0.1 -0.1)\">\n       <use xlink:href=\"#DejaVuSans-48\"/>\n       <use x=\"63.623047\" xlink:href=\"#DejaVuSans-46\"/>\n       <use x=\"95.410156\" xlink:href=\"#DejaVuSans-48\"/>\n       <use x=\"159.033203\" xlink:href=\"#DejaVuSans-55\"/>\n      </g>\n     </g>\n    </g>\n    <g id=\"ytick_6\">\n     <g id=\"line2d_15\">\n      <g>\n       <use style=\"stroke:#000000;stroke-width:0.8;\" x=\"50.14375\" xlink:href=\"#m8a0d6c6daa\" y=\"90.930166\"/>\n      </g>\n     </g>\n     <g id=\"text_16\">\n      <!-- 0.08 -->\n      <defs>\n       <path d=\"M 31.78125 34.625 \nQ 24.75 34.625 20.71875 30.859375 \nQ 16.703125 27.09375 16.703125 20.515625 \nQ 16.703125 13.921875 20.71875 10.15625 \nQ 24.75 6.390625 31.78125 6.390625 \nQ 38.8125 6.390625 42.859375 10.171875 \nQ 46.921875 13.96875 46.921875 20.515625 \nQ 46.921875 27.09375 42.890625 30.859375 \nQ 38.875 34.625 31.78125 34.625 \nz\nM 21.921875 38.8125 \nQ 15.578125 40.375 12.03125 44.71875 \nQ 8.5 49.078125 8.5 55.328125 \nQ 8.5 64.0625 14.71875 69.140625 \nQ 20.953125 74.21875 31.78125 74.21875 \nQ 42.671875 74.21875 48.875 69.140625 \nQ 55.078125 64.0625 55.078125 55.328125 \nQ 55.078125 49.078125 51.53125 44.71875 \nQ 48 40.375 41.703125 38.8125 \nQ 48.828125 37.15625 52.796875 32.3125 \nQ 56.78125 27.484375 56.78125 20.515625 \nQ 56.78125 9.90625 50.3125 4.234375 \nQ 43.84375 -1.421875 31.78125 -1.421875 \nQ 19.734375 -1.421875 13.25 4.234375 \nQ 6.78125 9.90625 6.78125 20.515625 \nQ 6.78125 27.484375 10.78125 32.3125 \nQ 14.796875 37.15625 21.921875 38.8125 \nz\nM 18.3125 54.390625 \nQ 18.3125 48.734375 21.84375 45.5625 \nQ 25.390625 42.390625 31.78125 42.390625 \nQ 38.140625 42.390625 41.71875 45.5625 \nQ 45.3125 48.734375 45.3125 54.390625 \nQ 45.3125 60.0625 41.71875 63.234375 \nQ 38.140625 66.40625 31.78125 66.40625 \nQ 25.390625 66.40625 21.84375 63.234375 \nQ 18.3125 60.0625 18.3125 54.390625 \nz\n\" id=\"DejaVuSans-56\"/>\n      </defs>\n      <g transform=\"translate(20.878125 94.729384)scale(0.1 -0.1)\">\n       <use xlink:href=\"#DejaVuSans-48\"/>\n       <use x=\"63.623047\" xlink:href=\"#DejaVuSans-46\"/>\n       <use x=\"95.410156\" xlink:href=\"#DejaVuSans-48\"/>\n       <use x=\"159.033203\" xlink:href=\"#DejaVuSans-56\"/>\n      </g>\n     </g>\n    </g>\n    <g id=\"ytick_7\">\n     <g id=\"line2d_16\">\n      <g>\n       <use style=\"stroke:#000000;stroke-width:0.8;\" x=\"50.14375\" xlink:href=\"#m8a0d6c6daa\" y=\"56.534653\"/>\n      </g>\n     </g>\n     <g id=\"text_17\">\n      <!-- 0.09 -->\n      <defs>\n       <path d=\"M 10.984375 1.515625 \nL 10.984375 10.5 \nQ 14.703125 8.734375 18.5 7.8125 \nQ 22.3125 6.890625 25.984375 6.890625 \nQ 35.75 6.890625 40.890625 13.453125 \nQ 46.046875 20.015625 46.78125 33.40625 \nQ 43.953125 29.203125 39.59375 26.953125 \nQ 35.25 24.703125 29.984375 24.703125 \nQ 19.046875 24.703125 12.671875 31.3125 \nQ 6.296875 37.9375 6.296875 49.421875 \nQ 6.296875 60.640625 12.9375 67.421875 \nQ 19.578125 74.21875 30.609375 74.21875 \nQ 43.265625 74.21875 49.921875 64.515625 \nQ 56.59375 54.828125 56.59375 36.375 \nQ 56.59375 19.140625 48.40625 8.859375 \nQ 40.234375 -1.421875 26.421875 -1.421875 \nQ 22.703125 -1.421875 18.890625 -0.6875 \nQ 15.09375 0.046875 10.984375 1.515625 \nz\nM 30.609375 32.421875 \nQ 37.25 32.421875 41.125 36.953125 \nQ 45.015625 41.5 45.015625 49.421875 \nQ 45.015625 57.28125 41.125 61.84375 \nQ 37.25 66.40625 30.609375 66.40625 \nQ 23.96875 66.40625 20.09375 61.84375 \nQ 16.21875 57.28125 16.21875 49.421875 \nQ 16.21875 41.5 20.09375 36.953125 \nQ 23.96875 32.421875 30.609375 32.421875 \nz\n\" id=\"DejaVuSans-57\"/>\n      </defs>\n      <g transform=\"translate(20.878125 60.333872)scale(0.1 -0.1)\">\n       <use xlink:href=\"#DejaVuSans-48\"/>\n       <use x=\"63.623047\" xlink:href=\"#DejaVuSans-46\"/>\n       <use x=\"95.410156\" xlink:href=\"#DejaVuSans-48\"/>\n       <use x=\"159.033203\" xlink:href=\"#DejaVuSans-57\"/>\n      </g>\n     </g>\n    </g>\n    <g id=\"text_18\">\n     <!-- Loss (MSE) -->\n     <defs>\n      <path d=\"M 9.8125 72.90625 \nL 19.671875 72.90625 \nL 19.671875 8.296875 \nL 55.171875 8.296875 \nL 55.171875 0 \nL 9.8125 0 \nz\n\" id=\"DejaVuSans-76\"/>\n      <path id=\"DejaVuSans-32\"/>\n      <path d=\"M 31 75.875 \nQ 24.46875 64.65625 21.28125 53.65625 \nQ 18.109375 42.671875 18.109375 31.390625 \nQ 18.109375 20.125 21.3125 9.0625 \nQ 24.515625 -2 31 -13.1875 \nL 23.1875 -13.1875 \nQ 15.875 -1.703125 12.234375 9.375 \nQ 8.59375 20.453125 8.59375 31.390625 \nQ 8.59375 42.28125 12.203125 53.3125 \nQ 15.828125 64.359375 23.1875 75.875 \nz\n\" id=\"DejaVuSans-40\"/>\n      <path d=\"M 9.8125 72.90625 \nL 24.515625 72.90625 \nL 43.109375 23.296875 \nL 61.8125 72.90625 \nL 76.515625 72.90625 \nL 76.515625 0 \nL 66.890625 0 \nL 66.890625 64.015625 \nL 48.09375 14.015625 \nL 38.1875 14.015625 \nL 19.390625 64.015625 \nL 19.390625 0 \nL 9.8125 0 \nz\n\" id=\"DejaVuSans-77\"/>\n      <path d=\"M 53.515625 70.515625 \nL 53.515625 60.890625 \nQ 47.90625 63.578125 42.921875 64.890625 \nQ 37.9375 66.21875 33.296875 66.21875 \nQ 25.25 66.21875 20.875 63.09375 \nQ 16.5 59.96875 16.5 54.203125 \nQ 16.5 49.359375 19.40625 46.890625 \nQ 22.3125 44.4375 30.421875 42.921875 \nL 36.375 41.703125 \nQ 47.40625 39.59375 52.65625 34.296875 \nQ 57.90625 29 57.90625 20.125 \nQ 57.90625 9.515625 50.796875 4.046875 \nQ 43.703125 -1.421875 29.984375 -1.421875 \nQ 24.8125 -1.421875 18.96875 -0.25 \nQ 13.140625 0.921875 6.890625 3.21875 \nL 6.890625 13.375 \nQ 12.890625 10.015625 18.65625 8.296875 \nQ 24.421875 6.59375 29.984375 6.59375 \nQ 38.421875 6.59375 43.015625 9.90625 \nQ 47.609375 13.234375 47.609375 19.390625 \nQ 47.609375 24.75 44.3125 27.78125 \nQ 41.015625 30.8125 33.5 32.328125 \nL 27.484375 33.5 \nQ 16.453125 35.6875 11.515625 40.375 \nQ 6.59375 45.0625 6.59375 53.421875 \nQ 6.59375 63.09375 13.40625 68.65625 \nQ 20.21875 74.21875 32.171875 74.21875 \nQ 37.3125 74.21875 42.625 73.28125 \nQ 47.953125 72.359375 53.515625 70.515625 \nz\n\" id=\"DejaVuSans-83\"/>\n      <path d=\"M 8.015625 75.875 \nL 15.828125 75.875 \nQ 23.140625 64.359375 26.78125 53.3125 \nQ 30.421875 42.28125 30.421875 31.390625 \nQ 30.421875 20.453125 26.78125 9.375 \nQ 23.140625 -1.703125 15.828125 -13.1875 \nL 8.015625 -13.1875 \nQ 14.5 -2 17.703125 9.0625 \nQ 20.90625 20.125 20.90625 31.390625 \nQ 20.90625 42.671875 17.703125 53.65625 \nQ 14.5 64.65625 8.015625 75.875 \nz\n\" id=\"DejaVuSans-41\"/>\n     </defs>\n     <g transform=\"translate(14.798438 185.323594)rotate(-90)scale(0.1 -0.1)\">\n      <use xlink:href=\"#DejaVuSans-76\"/>\n      <use x=\"53.962891\" xlink:href=\"#DejaVuSans-111\"/>\n      <use x=\"115.144531\" xlink:href=\"#DejaVuSans-115\"/>\n      <use x=\"167.244141\" xlink:href=\"#DejaVuSans-115\"/>\n      <use x=\"219.34375\" xlink:href=\"#DejaVuSans-32\"/>\n      <use x=\"251.130859\" xlink:href=\"#DejaVuSans-40\"/>\n      <use x=\"290.144531\" xlink:href=\"#DejaVuSans-77\"/>\n      <use x=\"376.423828\" xlink:href=\"#DejaVuSans-83\"/>\n      <use x=\"439.900391\" xlink:href=\"#DejaVuSans-69\"/>\n      <use x=\"503.083984\" xlink:href=\"#DejaVuSans-41\"/>\n     </g>\n    </g>\n   </g>\n   <g id=\"line2d_17\">\n    <path clip-path=\"url(#pe11b5c9e77)\" d=\"M 68.590031 34.67267 \nL 160.821436 241.368163 \nL 253.052841 261.861465 \nL 345.284246 272.944442 \nL 437.515651 281.76358 \n\" style=\"fill:none;stroke:#1f77b4;stroke-linecap:square;stroke-width:1.5;\"/>\n    <defs>\n     <path d=\"M -3 3 \nL 3 3 \nL 3 -3 \nL -3 -3 \nz\n\" id=\"mb7900c3ae5\" style=\"stroke:#1f77b4;stroke-linejoin:miter;\"/>\n    </defs>\n    <g clip-path=\"url(#pe11b5c9e77)\">\n     <use style=\"fill:#1f77b4;stroke:#1f77b4;stroke-linejoin:miter;\" x=\"68.590031\" xlink:href=\"#mb7900c3ae5\" y=\"34.67267\"/>\n     <use style=\"fill:#1f77b4;stroke:#1f77b4;stroke-linejoin:miter;\" x=\"160.821436\" xlink:href=\"#mb7900c3ae5\" y=\"241.368163\"/>\n     <use style=\"fill:#1f77b4;stroke:#1f77b4;stroke-linejoin:miter;\" x=\"253.052841\" xlink:href=\"#mb7900c3ae5\" y=\"261.861465\"/>\n     <use style=\"fill:#1f77b4;stroke:#1f77b4;stroke-linejoin:miter;\" x=\"345.284246\" xlink:href=\"#mb7900c3ae5\" y=\"272.944442\"/>\n     <use style=\"fill:#1f77b4;stroke:#1f77b4;stroke-linejoin:miter;\" x=\"437.515651\" xlink:href=\"#mb7900c3ae5\" y=\"281.76358\"/>\n    </g>\n   </g>\n   <g id=\"line2d_18\">\n    <path clip-path=\"url(#pe11b5c9e77)\" d=\"M 68.590031 221.612832 \nL 160.821436 241.687433 \nL 253.052841 242.992919 \nL 345.284246 266.969351 \nL 437.515651 262.818332 \n\" style=\"fill:none;stroke:#ff7f0e;stroke-linecap:square;stroke-width:1.5;\"/>\n    <defs>\n     <path d=\"M 0 3 \nC 0.795609 3 1.55874 2.683901 2.12132 2.12132 \nC 2.683901 1.55874 3 0.795609 3 0 \nC 3 -0.795609 2.683901 -1.55874 2.12132 -2.12132 \nC 1.55874 -2.683901 0.795609 -3 0 -3 \nC -0.795609 -3 -1.55874 -2.683901 -2.12132 -2.12132 \nC -2.683901 -1.55874 -3 -0.795609 -3 0 \nC -3 0.795609 -2.683901 1.55874 -2.12132 2.12132 \nC -1.55874 2.683901 -0.795609 3 0 3 \nz\n\" id=\"m8d20cca87c\" style=\"stroke:#ff7f0e;\"/>\n    </defs>\n    <g clip-path=\"url(#pe11b5c9e77)\">\n     <use style=\"fill:#ff7f0e;stroke:#ff7f0e;\" x=\"68.590031\" xlink:href=\"#m8d20cca87c\" y=\"221.612832\"/>\n     <use style=\"fill:#ff7f0e;stroke:#ff7f0e;\" x=\"160.821436\" xlink:href=\"#m8d20cca87c\" y=\"241.687433\"/>\n     <use style=\"fill:#ff7f0e;stroke:#ff7f0e;\" x=\"253.052841\" xlink:href=\"#m8d20cca87c\" y=\"242.992919\"/>\n     <use style=\"fill:#ff7f0e;stroke:#ff7f0e;\" x=\"345.284246\" xlink:href=\"#m8d20cca87c\" y=\"266.969351\"/>\n     <use style=\"fill:#ff7f0e;stroke:#ff7f0e;\" x=\"437.515651\" xlink:href=\"#m8d20cca87c\" y=\"262.818332\"/>\n    </g>\n   </g>\n   <g id=\"patch_3\">\n    <path d=\"M 50.14375 294.118125 \nL 50.14375 22.318125 \n\" style=\"fill:none;stroke:#000000;stroke-linecap:square;stroke-linejoin:miter;stroke-width:0.8;\"/>\n   </g>\n   <g id=\"patch_4\">\n    <path d=\"M 455.961932 294.118125 \nL 455.961932 22.318125 \n\" style=\"fill:none;stroke:#000000;stroke-linecap:square;stroke-linejoin:miter;stroke-width:0.8;\"/>\n   </g>\n   <g id=\"patch_5\">\n    <path d=\"M 50.14375 294.118125 \nL 455.961932 294.118125 \n\" style=\"fill:none;stroke:#000000;stroke-linecap:square;stroke-linejoin:miter;stroke-width:0.8;\"/>\n   </g>\n   <g id=\"patch_6\">\n    <path d=\"M 50.14375 22.318125 \nL 455.961932 22.318125 \n\" style=\"fill:none;stroke:#000000;stroke-linecap:square;stroke-linejoin:miter;stroke-width:0.8;\"/>\n   </g>\n   <g id=\"text_19\">\n    <!-- Model loss -->\n    <defs>\n     <path d=\"M 45.40625 46.390625 \nL 45.40625 75.984375 \nL 54.390625 75.984375 \nL 54.390625 0 \nL 45.40625 0 \nL 45.40625 8.203125 \nQ 42.578125 3.328125 38.25 0.953125 \nQ 33.9375 -1.421875 27.875 -1.421875 \nQ 17.96875 -1.421875 11.734375 6.484375 \nQ 5.515625 14.40625 5.515625 27.296875 \nQ 5.515625 40.1875 11.734375 48.09375 \nQ 17.96875 56 27.875 56 \nQ 33.9375 56 38.25 53.625 \nQ 42.578125 51.265625 45.40625 46.390625 \nz\nM 14.796875 27.296875 \nQ 14.796875 17.390625 18.875 11.75 \nQ 22.953125 6.109375 30.078125 6.109375 \nQ 37.203125 6.109375 41.296875 11.75 \nQ 45.40625 17.390625 45.40625 27.296875 \nQ 45.40625 37.203125 41.296875 42.84375 \nQ 37.203125 48.484375 30.078125 48.484375 \nQ 22.953125 48.484375 18.875 42.84375 \nQ 14.796875 37.203125 14.796875 27.296875 \nz\n\" id=\"DejaVuSans-100\"/>\n     <path d=\"M 56.203125 29.59375 \nL 56.203125 25.203125 \nL 14.890625 25.203125 \nQ 15.484375 15.921875 20.484375 11.0625 \nQ 25.484375 6.203125 34.421875 6.203125 \nQ 39.59375 6.203125 44.453125 7.46875 \nQ 49.3125 8.734375 54.109375 11.28125 \nL 54.109375 2.78125 \nQ 49.265625 0.734375 44.1875 -0.34375 \nQ 39.109375 -1.421875 33.890625 -1.421875 \nQ 20.796875 -1.421875 13.15625 6.1875 \nQ 5.515625 13.8125 5.515625 26.8125 \nQ 5.515625 40.234375 12.765625 48.109375 \nQ 20.015625 56 32.328125 56 \nQ 43.359375 56 49.78125 48.890625 \nQ 56.203125 41.796875 56.203125 29.59375 \nz\nM 47.21875 32.234375 \nQ 47.125 39.59375 43.09375 43.984375 \nQ 39.0625 48.390625 32.421875 48.390625 \nQ 24.90625 48.390625 20.390625 44.140625 \nQ 15.875 39.890625 15.1875 32.171875 \nz\n\" id=\"DejaVuSans-101\"/>\n     <path d=\"M 9.421875 75.984375 \nL 18.40625 75.984375 \nL 18.40625 0 \nL 9.421875 0 \nz\n\" id=\"DejaVuSans-108\"/>\n    </defs>\n    <g transform=\"translate(221.540653 16.318125)scale(0.12 -0.12)\">\n     <use xlink:href=\"#DejaVuSans-77\"/>\n     <use x=\"86.279297\" xlink:href=\"#DejaVuSans-111\"/>\n     <use x=\"147.460938\" xlink:href=\"#DejaVuSans-100\"/>\n     <use x=\"210.9375\" xlink:href=\"#DejaVuSans-101\"/>\n     <use x=\"272.460938\" xlink:href=\"#DejaVuSans-108\"/>\n     <use x=\"300.244141\" xlink:href=\"#DejaVuSans-32\"/>\n     <use x=\"332.03125\" xlink:href=\"#DejaVuSans-108\"/>\n     <use x=\"359.814453\" xlink:href=\"#DejaVuSans-111\"/>\n     <use x=\"420.996094\" xlink:href=\"#DejaVuSans-115\"/>\n     <use x=\"473.095703\" xlink:href=\"#DejaVuSans-115\"/>\n    </g>\n   </g>\n  </g>\n  <g id=\"axes_2\">\n   <g id=\"patch_7\">\n    <path d=\"M 537.125568 294.118125 \nL 942.94375 294.118125 \nL 942.94375 22.318125 \nL 537.125568 22.318125 \nz\n\" style=\"fill:#ffffff;\"/>\n   </g>\n   <g id=\"matplotlib.axis_3\">\n    <g id=\"xtick_10\">\n     <g id=\"line2d_19\">\n      <g>\n       <use style=\"stroke:#000000;stroke-width:0.8;\" x=\"555.571849\" xlink:href=\"#mcbb830ba77\" y=\"294.118125\"/>\n      </g>\n     </g>\n     <g id=\"text_20\">\n      <!-- 0.0 -->\n      <g transform=\"translate(547.620287 308.716563)scale(0.1 -0.1)\">\n       <use xlink:href=\"#DejaVuSans-48\"/>\n       <use x=\"63.623047\" xlink:href=\"#DejaVuSans-46\"/>\n       <use x=\"95.410156\" xlink:href=\"#DejaVuSans-48\"/>\n      </g>\n     </g>\n    </g>\n    <g id=\"xtick_11\">\n     <g id=\"line2d_20\">\n      <g>\n       <use style=\"stroke:#000000;stroke-width:0.8;\" x=\"601.687552\" xlink:href=\"#mcbb830ba77\" y=\"294.118125\"/>\n      </g>\n     </g>\n     <g id=\"text_21\">\n      <!-- 0.5 -->\n      <g transform=\"translate(593.735989 308.716563)scale(0.1 -0.1)\">\n       <use xlink:href=\"#DejaVuSans-48\"/>\n       <use x=\"63.623047\" xlink:href=\"#DejaVuSans-46\"/>\n       <use x=\"95.410156\" xlink:href=\"#DejaVuSans-53\"/>\n      </g>\n     </g>\n    </g>\n    <g id=\"xtick_12\">\n     <g id=\"line2d_21\">\n      <g>\n       <use style=\"stroke:#000000;stroke-width:0.8;\" x=\"647.803254\" xlink:href=\"#mcbb830ba77\" y=\"294.118125\"/>\n      </g>\n     </g>\n     <g id=\"text_22\">\n      <!-- 1.0 -->\n      <g transform=\"translate(639.851692 308.716563)scale(0.1 -0.1)\">\n       <use xlink:href=\"#DejaVuSans-49\"/>\n       <use x=\"63.623047\" xlink:href=\"#DejaVuSans-46\"/>\n       <use x=\"95.410156\" xlink:href=\"#DejaVuSans-48\"/>\n      </g>\n     </g>\n    </g>\n    <g id=\"xtick_13\">\n     <g id=\"line2d_22\">\n      <g>\n       <use style=\"stroke:#000000;stroke-width:0.8;\" x=\"693.918957\" xlink:href=\"#mcbb830ba77\" y=\"294.118125\"/>\n      </g>\n     </g>\n     <g id=\"text_23\">\n      <!-- 1.5 -->\n      <g transform=\"translate(685.967394 308.716563)scale(0.1 -0.1)\">\n       <use xlink:href=\"#DejaVuSans-49\"/>\n       <use x=\"63.623047\" xlink:href=\"#DejaVuSans-46\"/>\n       <use x=\"95.410156\" xlink:href=\"#DejaVuSans-53\"/>\n      </g>\n     </g>\n    </g>\n    <g id=\"xtick_14\">\n     <g id=\"line2d_23\">\n      <g>\n       <use style=\"stroke:#000000;stroke-width:0.8;\" x=\"740.034659\" xlink:href=\"#mcbb830ba77\" y=\"294.118125\"/>\n      </g>\n     </g>\n     <g id=\"text_24\">\n      <!-- 2.0 -->\n      <g transform=\"translate(732.083097 308.716563)scale(0.1 -0.1)\">\n       <use xlink:href=\"#DejaVuSans-50\"/>\n       <use x=\"63.623047\" xlink:href=\"#DejaVuSans-46\"/>\n       <use x=\"95.410156\" xlink:href=\"#DejaVuSans-48\"/>\n      </g>\n     </g>\n    </g>\n    <g id=\"xtick_15\">\n     <g id=\"line2d_24\">\n      <g>\n       <use style=\"stroke:#000000;stroke-width:0.8;\" x=\"786.150362\" xlink:href=\"#mcbb830ba77\" y=\"294.118125\"/>\n      </g>\n     </g>\n     <g id=\"text_25\">\n      <!-- 2.5 -->\n      <g transform=\"translate(778.198799 308.716563)scale(0.1 -0.1)\">\n       <use xlink:href=\"#DejaVuSans-50\"/>\n       <use x=\"63.623047\" xlink:href=\"#DejaVuSans-46\"/>\n       <use x=\"95.410156\" xlink:href=\"#DejaVuSans-53\"/>\n      </g>\n     </g>\n    </g>\n    <g id=\"xtick_16\">\n     <g id=\"line2d_25\">\n      <g>\n       <use style=\"stroke:#000000;stroke-width:0.8;\" x=\"832.266064\" xlink:href=\"#mcbb830ba77\" y=\"294.118125\"/>\n      </g>\n     </g>\n     <g id=\"text_26\">\n      <!-- 3.0 -->\n      <g transform=\"translate(824.314502 308.716563)scale(0.1 -0.1)\">\n       <use xlink:href=\"#DejaVuSans-51\"/>\n       <use x=\"63.623047\" xlink:href=\"#DejaVuSans-46\"/>\n       <use x=\"95.410156\" xlink:href=\"#DejaVuSans-48\"/>\n      </g>\n     </g>\n    </g>\n    <g id=\"xtick_17\">\n     <g id=\"line2d_26\">\n      <g>\n       <use style=\"stroke:#000000;stroke-width:0.8;\" x=\"878.381767\" xlink:href=\"#mcbb830ba77\" y=\"294.118125\"/>\n      </g>\n     </g>\n     <g id=\"text_27\">\n      <!-- 3.5 -->\n      <g transform=\"translate(870.430204 308.716563)scale(0.1 -0.1)\">\n       <use xlink:href=\"#DejaVuSans-51\"/>\n       <use x=\"63.623047\" xlink:href=\"#DejaVuSans-46\"/>\n       <use x=\"95.410156\" xlink:href=\"#DejaVuSans-53\"/>\n      </g>\n     </g>\n    </g>\n    <g id=\"xtick_18\">\n     <g id=\"line2d_27\">\n      <g>\n       <use style=\"stroke:#000000;stroke-width:0.8;\" x=\"924.497469\" xlink:href=\"#mcbb830ba77\" y=\"294.118125\"/>\n      </g>\n     </g>\n     <g id=\"text_28\">\n      <!-- 4.0 -->\n      <g transform=\"translate(916.545907 308.716563)scale(0.1 -0.1)\">\n       <use xlink:href=\"#DejaVuSans-52\"/>\n       <use x=\"63.623047\" xlink:href=\"#DejaVuSans-46\"/>\n       <use x=\"95.410156\" xlink:href=\"#DejaVuSans-48\"/>\n      </g>\n     </g>\n    </g>\n    <g id=\"text_29\">\n     <!-- Epochs -->\n     <g transform=\"translate(722.119034 322.394687)scale(0.1 -0.1)\">\n      <use xlink:href=\"#DejaVuSans-69\"/>\n      <use x=\"63.183594\" xlink:href=\"#DejaVuSans-112\"/>\n      <use x=\"126.660156\" xlink:href=\"#DejaVuSans-111\"/>\n      <use x=\"187.841797\" xlink:href=\"#DejaVuSans-99\"/>\n      <use x=\"242.822266\" xlink:href=\"#DejaVuSans-104\"/>\n      <use x=\"306.201172\" xlink:href=\"#DejaVuSans-115\"/>\n     </g>\n    </g>\n   </g>\n   <g id=\"matplotlib.axis_4\">\n    <g id=\"ytick_8\">\n     <g id=\"line2d_28\">\n      <g>\n       <use style=\"stroke:#000000;stroke-width:0.8;\" x=\"537.125568\" xlink:href=\"#m8a0d6c6daa\" y=\"276.568954\"/>\n      </g>\n     </g>\n     <g id=\"text_30\">\n      <!-- 0.75 -->\n      <g transform=\"translate(507.859943 280.368173)scale(0.1 -0.1)\">\n       <use xlink:href=\"#DejaVuSans-48\"/>\n       <use x=\"63.623047\" xlink:href=\"#DejaVuSans-46\"/>\n       <use x=\"95.410156\" xlink:href=\"#DejaVuSans-55\"/>\n       <use x=\"159.033203\" xlink:href=\"#DejaVuSans-53\"/>\n      </g>\n     </g>\n    </g>\n    <g id=\"ytick_9\">\n     <g id=\"line2d_29\">\n      <g>\n       <use style=\"stroke:#000000;stroke-width:0.8;\" x=\"537.125568\" xlink:href=\"#m8a0d6c6daa\" y=\"245.401216\"/>\n      </g>\n     </g>\n     <g id=\"text_31\">\n      <!-- 1.00 -->\n      <g transform=\"translate(507.859943 249.200435)scale(0.1 -0.1)\">\n       <use xlink:href=\"#DejaVuSans-49\"/>\n       <use x=\"63.623047\" xlink:href=\"#DejaVuSans-46\"/>\n       <use x=\"95.410156\" xlink:href=\"#DejaVuSans-48\"/>\n       <use x=\"159.033203\" xlink:href=\"#DejaVuSans-48\"/>\n      </g>\n     </g>\n    </g>\n    <g id=\"ytick_10\">\n     <g id=\"line2d_30\">\n      <g>\n       <use style=\"stroke:#000000;stroke-width:0.8;\" x=\"537.125568\" xlink:href=\"#m8a0d6c6daa\" y=\"214.233478\"/>\n      </g>\n     </g>\n     <g id=\"text_32\">\n      <!-- 1.25 -->\n      <g transform=\"translate(507.859943 218.032696)scale(0.1 -0.1)\">\n       <use xlink:href=\"#DejaVuSans-49\"/>\n       <use x=\"63.623047\" xlink:href=\"#DejaVuSans-46\"/>\n       <use x=\"95.410156\" xlink:href=\"#DejaVuSans-50\"/>\n       <use x=\"159.033203\" xlink:href=\"#DejaVuSans-53\"/>\n      </g>\n     </g>\n    </g>\n    <g id=\"ytick_11\">\n     <g id=\"line2d_31\">\n      <g>\n       <use style=\"stroke:#000000;stroke-width:0.8;\" x=\"537.125568\" xlink:href=\"#m8a0d6c6daa\" y=\"183.06574\"/>\n      </g>\n     </g>\n     <g id=\"text_33\">\n      <!-- 1.50 -->\n      <g transform=\"translate(507.859943 186.864958)scale(0.1 -0.1)\">\n       <use xlink:href=\"#DejaVuSans-49\"/>\n       <use x=\"63.623047\" xlink:href=\"#DejaVuSans-46\"/>\n       <use x=\"95.410156\" xlink:href=\"#DejaVuSans-53\"/>\n       <use x=\"159.033203\" xlink:href=\"#DejaVuSans-48\"/>\n      </g>\n     </g>\n    </g>\n    <g id=\"ytick_12\">\n     <g id=\"line2d_32\">\n      <g>\n       <use style=\"stroke:#000000;stroke-width:0.8;\" x=\"537.125568\" xlink:href=\"#m8a0d6c6daa\" y=\"151.898001\"/>\n      </g>\n     </g>\n     <g id=\"text_34\">\n      <!-- 1.75 -->\n      <g transform=\"translate(507.859943 155.69722)scale(0.1 -0.1)\">\n       <use xlink:href=\"#DejaVuSans-49\"/>\n       <use x=\"63.623047\" xlink:href=\"#DejaVuSans-46\"/>\n       <use x=\"95.410156\" xlink:href=\"#DejaVuSans-55\"/>\n       <use x=\"159.033203\" xlink:href=\"#DejaVuSans-53\"/>\n      </g>\n     </g>\n    </g>\n    <g id=\"ytick_13\">\n     <g id=\"line2d_33\">\n      <g>\n       <use style=\"stroke:#000000;stroke-width:0.8;\" x=\"537.125568\" xlink:href=\"#m8a0d6c6daa\" y=\"120.730263\"/>\n      </g>\n     </g>\n     <g id=\"text_35\">\n      <!-- 2.00 -->\n      <g transform=\"translate(507.859943 124.529482)scale(0.1 -0.1)\">\n       <use xlink:href=\"#DejaVuSans-50\"/>\n       <use x=\"63.623047\" xlink:href=\"#DejaVuSans-46\"/>\n       <use x=\"95.410156\" xlink:href=\"#DejaVuSans-48\"/>\n       <use x=\"159.033203\" xlink:href=\"#DejaVuSans-48\"/>\n      </g>\n     </g>\n    </g>\n    <g id=\"ytick_14\">\n     <g id=\"line2d_34\">\n      <g>\n       <use style=\"stroke:#000000;stroke-width:0.8;\" x=\"537.125568\" xlink:href=\"#m8a0d6c6daa\" y=\"89.562525\"/>\n      </g>\n     </g>\n     <g id=\"text_36\">\n      <!-- 2.25 -->\n      <g transform=\"translate(507.859943 93.361744)scale(0.1 -0.1)\">\n       <use xlink:href=\"#DejaVuSans-50\"/>\n       <use x=\"63.623047\" xlink:href=\"#DejaVuSans-46\"/>\n       <use x=\"95.410156\" xlink:href=\"#DejaVuSans-50\"/>\n       <use x=\"159.033203\" xlink:href=\"#DejaVuSans-53\"/>\n      </g>\n     </g>\n    </g>\n    <g id=\"ytick_15\">\n     <g id=\"line2d_35\">\n      <g>\n       <use style=\"stroke:#000000;stroke-width:0.8;\" x=\"537.125568\" xlink:href=\"#m8a0d6c6daa\" y=\"58.394787\"/>\n      </g>\n     </g>\n     <g id=\"text_37\">\n      <!-- 2.50 -->\n      <g transform=\"translate(507.859943 62.194006)scale(0.1 -0.1)\">\n       <use xlink:href=\"#DejaVuSans-50\"/>\n       <use x=\"63.623047\" xlink:href=\"#DejaVuSans-46\"/>\n       <use x=\"95.410156\" xlink:href=\"#DejaVuSans-53\"/>\n       <use x=\"159.033203\" xlink:href=\"#DejaVuSans-48\"/>\n      </g>\n     </g>\n    </g>\n    <g id=\"ytick_16\">\n     <g id=\"line2d_36\">\n      <g>\n       <use style=\"stroke:#000000;stroke-width:0.8;\" x=\"537.125568\" xlink:href=\"#m8a0d6c6daa\" y=\"27.227049\"/>\n      </g>\n     </g>\n     <g id=\"text_38\">\n      <!-- 2.75 -->\n      <g transform=\"translate(507.859943 31.026267)scale(0.1 -0.1)\">\n       <use xlink:href=\"#DejaVuSans-50\"/>\n       <use x=\"63.623047\" xlink:href=\"#DejaVuSans-46\"/>\n       <use x=\"95.410156\" xlink:href=\"#DejaVuSans-55\"/>\n       <use x=\"159.033203\" xlink:href=\"#DejaVuSans-53\"/>\n      </g>\n     </g>\n    </g>\n    <g id=\"text_39\">\n     <!-- Error rates (%) -->\n     <defs>\n      <path d=\"M 41.109375 46.296875 \nQ 39.59375 47.171875 37.8125 47.578125 \nQ 36.03125 48 33.890625 48 \nQ 26.265625 48 22.1875 43.046875 \nQ 18.109375 38.09375 18.109375 28.8125 \nL 18.109375 0 \nL 9.078125 0 \nL 9.078125 54.6875 \nL 18.109375 54.6875 \nL 18.109375 46.1875 \nQ 20.953125 51.171875 25.484375 53.578125 \nQ 30.03125 56 36.53125 56 \nQ 37.453125 56 38.578125 55.875 \nQ 39.703125 55.765625 41.0625 55.515625 \nz\n\" id=\"DejaVuSans-114\"/>\n      <path d=\"M 34.28125 27.484375 \nQ 23.390625 27.484375 19.1875 25 \nQ 14.984375 22.515625 14.984375 16.5 \nQ 14.984375 11.71875 18.140625 8.90625 \nQ 21.296875 6.109375 26.703125 6.109375 \nQ 34.1875 6.109375 38.703125 11.40625 \nQ 43.21875 16.703125 43.21875 25.484375 \nL 43.21875 27.484375 \nz\nM 52.203125 31.203125 \nL 52.203125 0 \nL 43.21875 0 \nL 43.21875 8.296875 \nQ 40.140625 3.328125 35.546875 0.953125 \nQ 30.953125 -1.421875 24.3125 -1.421875 \nQ 15.921875 -1.421875 10.953125 3.296875 \nQ 6 8.015625 6 15.921875 \nQ 6 25.140625 12.171875 29.828125 \nQ 18.359375 34.515625 30.609375 34.515625 \nL 43.21875 34.515625 \nL 43.21875 35.40625 \nQ 43.21875 41.609375 39.140625 45 \nQ 35.0625 48.390625 27.6875 48.390625 \nQ 23 48.390625 18.546875 47.265625 \nQ 14.109375 46.140625 10.015625 43.890625 \nL 10.015625 52.203125 \nQ 14.9375 54.109375 19.578125 55.046875 \nQ 24.21875 56 28.609375 56 \nQ 40.484375 56 46.34375 49.84375 \nQ 52.203125 43.703125 52.203125 31.203125 \nz\n\" id=\"DejaVuSans-97\"/>\n      <path d=\"M 18.3125 70.21875 \nL 18.3125 54.6875 \nL 36.8125 54.6875 \nL 36.8125 47.703125 \nL 18.3125 47.703125 \nL 18.3125 18.015625 \nQ 18.3125 11.328125 20.140625 9.421875 \nQ 21.96875 7.515625 27.59375 7.515625 \nL 36.8125 7.515625 \nL 36.8125 0 \nL 27.59375 0 \nQ 17.1875 0 13.234375 3.875 \nQ 9.28125 7.765625 9.28125 18.015625 \nL 9.28125 47.703125 \nL 2.6875 47.703125 \nL 2.6875 54.6875 \nL 9.28125 54.6875 \nL 9.28125 70.21875 \nz\n\" id=\"DejaVuSans-116\"/>\n      <path d=\"M 72.703125 32.078125 \nQ 68.453125 32.078125 66.03125 28.46875 \nQ 63.625 24.859375 63.625 18.40625 \nQ 63.625 12.0625 66.03125 8.421875 \nQ 68.453125 4.78125 72.703125 4.78125 \nQ 76.859375 4.78125 79.265625 8.421875 \nQ 81.6875 12.0625 81.6875 18.40625 \nQ 81.6875 24.8125 79.265625 28.4375 \nQ 76.859375 32.078125 72.703125 32.078125 \nz\nM 72.703125 38.28125 \nQ 80.421875 38.28125 84.953125 32.90625 \nQ 89.5 27.546875 89.5 18.40625 \nQ 89.5 9.28125 84.9375 3.921875 \nQ 80.375 -1.421875 72.703125 -1.421875 \nQ 64.890625 -1.421875 60.34375 3.921875 \nQ 55.8125 9.28125 55.8125 18.40625 \nQ 55.8125 27.59375 60.375 32.9375 \nQ 64.9375 38.28125 72.703125 38.28125 \nz\nM 22.3125 68.015625 \nQ 18.109375 68.015625 15.6875 64.375 \nQ 13.28125 60.75 13.28125 54.390625 \nQ 13.28125 47.953125 15.671875 44.328125 \nQ 18.0625 40.71875 22.3125 40.71875 \nQ 26.5625 40.71875 28.96875 44.328125 \nQ 31.390625 47.953125 31.390625 54.390625 \nQ 31.390625 60.6875 28.953125 64.34375 \nQ 26.515625 68.015625 22.3125 68.015625 \nz\nM 66.40625 74.21875 \nL 74.21875 74.21875 \nL 28.609375 -1.421875 \nL 20.796875 -1.421875 \nz\nM 22.3125 74.21875 \nQ 30.03125 74.21875 34.609375 68.875 \nQ 39.203125 63.53125 39.203125 54.390625 \nQ 39.203125 45.171875 34.640625 39.84375 \nQ 30.078125 34.515625 22.3125 34.515625 \nQ 14.546875 34.515625 10.03125 39.859375 \nQ 5.515625 45.21875 5.515625 54.390625 \nQ 5.515625 63.484375 10.046875 68.84375 \nQ 14.59375 74.21875 22.3125 74.21875 \nz\n\" id=\"DejaVuSans-37\"/>\n     </defs>\n     <g transform=\"translate(501.780256 194.994688)rotate(-90)scale(0.1 -0.1)\">\n      <use xlink:href=\"#DejaVuSans-69\"/>\n      <use x=\"63.183594\" xlink:href=\"#DejaVuSans-114\"/>\n      <use x=\"102.546875\" xlink:href=\"#DejaVuSans-114\"/>\n      <use x=\"141.410156\" xlink:href=\"#DejaVuSans-111\"/>\n      <use x=\"202.591797\" xlink:href=\"#DejaVuSans-114\"/>\n      <use x=\"243.705078\" xlink:href=\"#DejaVuSans-32\"/>\n      <use x=\"275.492188\" xlink:href=\"#DejaVuSans-114\"/>\n      <use x=\"316.605469\" xlink:href=\"#DejaVuSans-97\"/>\n      <use x=\"377.884766\" xlink:href=\"#DejaVuSans-116\"/>\n      <use x=\"417.09375\" xlink:href=\"#DejaVuSans-101\"/>\n      <use x=\"478.617188\" xlink:href=\"#DejaVuSans-115\"/>\n      <use x=\"530.716797\" xlink:href=\"#DejaVuSans-32\"/>\n      <use x=\"562.503906\" xlink:href=\"#DejaVuSans-40\"/>\n      <use x=\"601.517578\" xlink:href=\"#DejaVuSans-37\"/>\n      <use x=\"696.537109\" xlink:href=\"#DejaVuSans-41\"/>\n     </g>\n    </g>\n   </g>\n   <g id=\"line2d_37\">\n    <path clip-path=\"url(#pd556d628f1)\" d=\"M 555.571849 34.67267 \nL 647.803254 236.68579 \nL 740.034659 256.136772 \nL 832.266064 268.834736 \nL 924.497469 281.76358 \n\" style=\"fill:none;stroke:#1f77b4;stroke-linecap:square;stroke-width:1.5;\"/>\n    <g clip-path=\"url(#pd556d628f1)\">\n     <use style=\"fill:#1f77b4;stroke:#1f77b4;stroke-linejoin:miter;\" x=\"555.571849\" xlink:href=\"#mb7900c3ae5\" y=\"34.67267\"/>\n     <use style=\"fill:#1f77b4;stroke:#1f77b4;stroke-linejoin:miter;\" x=\"647.803254\" xlink:href=\"#mb7900c3ae5\" y=\"236.68579\"/>\n     <use style=\"fill:#1f77b4;stroke:#1f77b4;stroke-linejoin:miter;\" x=\"740.034659\" xlink:href=\"#mb7900c3ae5\" y=\"256.136772\"/>\n     <use style=\"fill:#1f77b4;stroke:#1f77b4;stroke-linejoin:miter;\" x=\"832.266064\" xlink:href=\"#mb7900c3ae5\" y=\"268.834736\"/>\n     <use style=\"fill:#1f77b4;stroke:#1f77b4;stroke-linejoin:miter;\" x=\"924.497469\" xlink:href=\"#mb7900c3ae5\" y=\"281.76358\"/>\n    </g>\n   </g>\n   <g id=\"line2d_38\">\n    <path clip-path=\"url(#pd556d628f1)\" d=\"M 555.571849 207.999921 \nL 647.803254 238.128736 \nL 740.034659 223.064336 \nL 832.266064 256.829383 \nL 924.497469 262.024016 \n\" style=\"fill:none;stroke:#ff7f0e;stroke-linecap:square;stroke-width:1.5;\"/>\n    <g clip-path=\"url(#pd556d628f1)\">\n     <use style=\"fill:#ff7f0e;stroke:#ff7f0e;\" x=\"555.571849\" xlink:href=\"#m8d20cca87c\" y=\"207.999921\"/>\n     <use style=\"fill:#ff7f0e;stroke:#ff7f0e;\" x=\"647.803254\" xlink:href=\"#m8d20cca87c\" y=\"238.128736\"/>\n     <use style=\"fill:#ff7f0e;stroke:#ff7f0e;\" x=\"740.034659\" xlink:href=\"#m8d20cca87c\" y=\"223.064336\"/>\n     <use style=\"fill:#ff7f0e;stroke:#ff7f0e;\" x=\"832.266064\" xlink:href=\"#m8d20cca87c\" y=\"256.829383\"/>\n     <use style=\"fill:#ff7f0e;stroke:#ff7f0e;\" x=\"924.497469\" xlink:href=\"#m8d20cca87c\" y=\"262.024016\"/>\n    </g>\n   </g>\n   <g id=\"patch_8\">\n    <path d=\"M 537.125568 294.118125 \nL 537.125568 22.318125 \n\" style=\"fill:none;stroke:#000000;stroke-linecap:square;stroke-linejoin:miter;stroke-width:0.8;\"/>\n   </g>\n   <g id=\"patch_9\">\n    <path d=\"M 942.94375 294.118125 \nL 942.94375 22.318125 \n\" style=\"fill:none;stroke:#000000;stroke-linecap:square;stroke-linejoin:miter;stroke-width:0.8;\"/>\n   </g>\n   <g id=\"patch_10\">\n    <path d=\"M 537.125568 294.118125 \nL 942.94375 294.118125 \n\" style=\"fill:none;stroke:#000000;stroke-linecap:square;stroke-linejoin:miter;stroke-width:0.8;\"/>\n   </g>\n   <g id=\"patch_11\">\n    <path d=\"M 537.125568 22.318125 \nL 942.94375 22.318125 \n\" style=\"fill:none;stroke:#000000;stroke-linecap:square;stroke-linejoin:miter;stroke-width:0.8;\"/>\n   </g>\n   <g id=\"text_40\">\n    <!-- Final model test error rate: 0.87% -->\n    <defs>\n     <path d=\"M 9.8125 72.90625 \nL 51.703125 72.90625 \nL 51.703125 64.59375 \nL 19.671875 64.59375 \nL 19.671875 43.109375 \nL 48.578125 43.109375 \nL 48.578125 34.8125 \nL 19.671875 34.8125 \nL 19.671875 0 \nL 9.8125 0 \nz\n\" id=\"DejaVuSans-70\"/>\n     <path d=\"M 9.421875 54.6875 \nL 18.40625 54.6875 \nL 18.40625 0 \nL 9.421875 0 \nz\nM 9.421875 75.984375 \nL 18.40625 75.984375 \nL 18.40625 64.59375 \nL 9.421875 64.59375 \nz\n\" id=\"DejaVuSans-105\"/>\n     <path d=\"M 54.890625 33.015625 \nL 54.890625 0 \nL 45.90625 0 \nL 45.90625 32.71875 \nQ 45.90625 40.484375 42.875 44.328125 \nQ 39.84375 48.1875 33.796875 48.1875 \nQ 26.515625 48.1875 22.3125 43.546875 \nQ 18.109375 38.921875 18.109375 30.90625 \nL 18.109375 0 \nL 9.078125 0 \nL 9.078125 54.6875 \nL 18.109375 54.6875 \nL 18.109375 46.1875 \nQ 21.34375 51.125 25.703125 53.5625 \nQ 30.078125 56 35.796875 56 \nQ 45.21875 56 50.046875 50.171875 \nQ 54.890625 44.34375 54.890625 33.015625 \nz\n\" id=\"DejaVuSans-110\"/>\n     <path d=\"M 52 44.1875 \nQ 55.375 50.25 60.0625 53.125 \nQ 64.75 56 71.09375 56 \nQ 79.640625 56 84.28125 50.015625 \nQ 88.921875 44.046875 88.921875 33.015625 \nL 88.921875 0 \nL 79.890625 0 \nL 79.890625 32.71875 \nQ 79.890625 40.578125 77.09375 44.375 \nQ 74.3125 48.1875 68.609375 48.1875 \nQ 61.625 48.1875 57.5625 43.546875 \nQ 53.515625 38.921875 53.515625 30.90625 \nL 53.515625 0 \nL 44.484375 0 \nL 44.484375 32.71875 \nQ 44.484375 40.625 41.703125 44.40625 \nQ 38.921875 48.1875 33.109375 48.1875 \nQ 26.21875 48.1875 22.15625 43.53125 \nQ 18.109375 38.875 18.109375 30.90625 \nL 18.109375 0 \nL 9.078125 0 \nL 9.078125 54.6875 \nL 18.109375 54.6875 \nL 18.109375 46.1875 \nQ 21.1875 51.21875 25.484375 53.609375 \nQ 29.78125 56 35.6875 56 \nQ 41.65625 56 45.828125 52.96875 \nQ 50 49.953125 52 44.1875 \nz\n\" id=\"DejaVuSans-109\"/>\n     <path d=\"M 11.71875 12.40625 \nL 22.015625 12.40625 \nL 22.015625 0 \nL 11.71875 0 \nz\nM 11.71875 51.703125 \nL 22.015625 51.703125 \nL 22.015625 39.3125 \nL 11.71875 39.3125 \nz\n\" id=\"DejaVuSans-58\"/>\n    </defs>\n    <g transform=\"translate(638.674034 16.318125)scale(0.12 -0.12)\">\n     <use xlink:href=\"#DejaVuSans-70\"/>\n     <use x=\"50.269531\" xlink:href=\"#DejaVuSans-105\"/>\n     <use x=\"78.052734\" xlink:href=\"#DejaVuSans-110\"/>\n     <use x=\"141.431641\" xlink:href=\"#DejaVuSans-97\"/>\n     <use x=\"202.710938\" xlink:href=\"#DejaVuSans-108\"/>\n     <use x=\"230.494141\" xlink:href=\"#DejaVuSans-32\"/>\n     <use x=\"262.28125\" xlink:href=\"#DejaVuSans-109\"/>\n     <use x=\"359.693359\" xlink:href=\"#DejaVuSans-111\"/>\n     <use x=\"420.875\" xlink:href=\"#DejaVuSans-100\"/>\n     <use x=\"484.351562\" xlink:href=\"#DejaVuSans-101\"/>\n     <use x=\"545.875\" xlink:href=\"#DejaVuSans-108\"/>\n     <use x=\"573.658203\" xlink:href=\"#DejaVuSans-32\"/>\n     <use x=\"605.445312\" xlink:href=\"#DejaVuSans-116\"/>\n     <use x=\"644.654297\" xlink:href=\"#DejaVuSans-101\"/>\n     <use x=\"706.177734\" xlink:href=\"#DejaVuSans-115\"/>\n     <use x=\"758.277344\" xlink:href=\"#DejaVuSans-116\"/>\n     <use x=\"797.486328\" xlink:href=\"#DejaVuSans-32\"/>\n     <use x=\"829.273438\" xlink:href=\"#DejaVuSans-101\"/>\n     <use x=\"890.796875\" xlink:href=\"#DejaVuSans-114\"/>\n     <use x=\"930.160156\" xlink:href=\"#DejaVuSans-114\"/>\n     <use x=\"969.023438\" xlink:href=\"#DejaVuSans-111\"/>\n     <use x=\"1030.205078\" xlink:href=\"#DejaVuSans-114\"/>\n     <use x=\"1071.318359\" xlink:href=\"#DejaVuSans-32\"/>\n     <use x=\"1103.105469\" xlink:href=\"#DejaVuSans-114\"/>\n     <use x=\"1144.21875\" xlink:href=\"#DejaVuSans-97\"/>\n     <use x=\"1205.498047\" xlink:href=\"#DejaVuSans-116\"/>\n     <use x=\"1244.707031\" xlink:href=\"#DejaVuSans-101\"/>\n     <use x=\"1306.230469\" xlink:href=\"#DejaVuSans-58\"/>\n     <use x=\"1339.921875\" xlink:href=\"#DejaVuSans-32\"/>\n     <use x=\"1371.708984\" xlink:href=\"#DejaVuSans-48\"/>\n     <use x=\"1435.332031\" xlink:href=\"#DejaVuSans-46\"/>\n     <use x=\"1467.119141\" xlink:href=\"#DejaVuSans-56\"/>\n     <use x=\"1530.742188\" xlink:href=\"#DejaVuSans-55\"/>\n     <use x=\"1594.365234\" xlink:href=\"#DejaVuSans-37\"/>\n    </g>\n   </g>\n   <g id=\"legend_1\">\n    <g id=\"patch_12\">\n     <path d=\"M 879.95625 59.674375 \nL 935.94375 59.674375 \nQ 937.94375 59.674375 937.94375 57.674375 \nL 937.94375 29.318125 \nQ 937.94375 27.318125 935.94375 27.318125 \nL 879.95625 27.318125 \nQ 877.95625 27.318125 877.95625 29.318125 \nL 877.95625 57.674375 \nQ 877.95625 59.674375 879.95625 59.674375 \nz\n\" style=\"fill:#ffffff;opacity:0.8;stroke:#cccccc;stroke-linejoin:miter;\"/>\n    </g>\n    <g id=\"line2d_39\">\n     <path d=\"M 881.95625 35.416562 \nL 901.95625 35.416562 \n\" style=\"fill:none;stroke:#1f77b4;stroke-linecap:square;stroke-width:1.5;\"/>\n    </g>\n    <g id=\"line2d_40\">\n     <g>\n      <use style=\"fill:#1f77b4;stroke:#1f77b4;stroke-linejoin:miter;\" x=\"891.95625\" xlink:href=\"#mb7900c3ae5\" y=\"35.416562\"/>\n     </g>\n    </g>\n    <g id=\"text_41\">\n     <!-- Train -->\n     <defs>\n      <path d=\"M -0.296875 72.90625 \nL 61.375 72.90625 \nL 61.375 64.59375 \nL 35.5 64.59375 \nL 35.5 0 \nL 25.59375 0 \nL 25.59375 64.59375 \nL -0.296875 64.59375 \nz\n\" id=\"DejaVuSans-84\"/>\n     </defs>\n     <g transform=\"translate(909.95625 38.916562)scale(0.1 -0.1)\">\n      <use xlink:href=\"#DejaVuSans-84\"/>\n      <use x=\"46.333984\" xlink:href=\"#DejaVuSans-114\"/>\n      <use x=\"87.447266\" xlink:href=\"#DejaVuSans-97\"/>\n      <use x=\"148.726562\" xlink:href=\"#DejaVuSans-105\"/>\n      <use x=\"176.509766\" xlink:href=\"#DejaVuSans-110\"/>\n     </g>\n    </g>\n    <g id=\"line2d_41\">\n     <path d=\"M 881.95625 50.094688 \nL 901.95625 50.094688 \n\" style=\"fill:none;stroke:#ff7f0e;stroke-linecap:square;stroke-width:1.5;\"/>\n    </g>\n    <g id=\"line2d_42\">\n     <g>\n      <use style=\"fill:#ff7f0e;stroke:#ff7f0e;\" x=\"891.95625\" xlink:href=\"#m8d20cca87c\" y=\"50.094688\"/>\n     </g>\n    </g>\n    <g id=\"text_42\">\n     <!-- Test -->\n     <g transform=\"translate(909.95625 53.594688)scale(0.1 -0.1)\">\n      <use xlink:href=\"#DejaVuSans-84\"/>\n      <use x=\"44.083984\" xlink:href=\"#DejaVuSans-101\"/>\n      <use x=\"105.607422\" xlink:href=\"#DejaVuSans-115\"/>\n      <use x=\"157.707031\" xlink:href=\"#DejaVuSans-116\"/>\n     </g>\n    </g>\n   </g>\n  </g>\n </g>\n <defs>\n  <clipPath id=\"pe11b5c9e77\">\n   <rect height=\"271.8\" width=\"405.818182\" x=\"50.14375\" y=\"22.318125\"/>\n  </clipPath>\n  <clipPath id=\"pd556d628f1\">\n   <rect height=\"271.8\" width=\"405.818182\" x=\"537.125568\" y=\"22.318125\"/>\n  </clipPath>\n </defs>\n</svg>\n"
          },
          "metadata": {
            "needs_background": "light"
          }
        }
      ]
    },
    {
      "cell_type": "code",
      "source": [
        ""
      ],
      "metadata": {
        "id": "giZdHAT7WWl6"
      },
      "execution_count": null,
      "outputs": []
    }
  ]
}