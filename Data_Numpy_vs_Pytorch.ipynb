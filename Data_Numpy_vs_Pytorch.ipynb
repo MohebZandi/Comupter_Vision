{
  "nbformat": 4,
  "nbformat_minor": 0,
  "metadata": {
    "colab": {
      "name": "Data_Numpy_vs_Pytorch.ipynb",
      "provenance": [],
      "collapsed_sections": [],
      "authorship_tag": "ABX9TyOFuMAIVXNWvgbF3iWCZZlH",
      "include_colab_link": true
    },
    "kernelspec": {
      "name": "python3",
      "display_name": "Python 3"
    },
    "language_info": {
      "name": "python"
    }
  },
  "cells": [
    {
      "cell_type": "markdown",
      "metadata": {
        "id": "view-in-github",
        "colab_type": "text"
      },
      "source": [
        "<a href=\"https://colab.research.google.com/github/MohebZandi/Comupter_Vision/blob/main/Data_Numpy_vs_Pytorch.ipynb\" target=\"_parent\"><img src=\"https://colab.research.google.com/assets/colab-badge.svg\" alt=\"Open In Colab\"/></a>"
      ]
    },
    {
      "cell_type": "markdown",
      "source": [
        "# COURSE: A deep understanding of deep learning\n",
        "## SECTION: Data matrices and loaders\n",
        "### LECTURE: Anatomy of a torch dataset and dataloader\n",
        "#### TEACHER: Mike X Cohen, sincxpress.com\n",
        "##### COURSE URL: udemy.com/course/dudl/?couponCode=202108"
      ],
      "metadata": {
        "id": "GCjgxhyW76EJ"
      }
    },
    {
      "cell_type": "code",
      "execution_count": 1,
      "metadata": {
        "id": "U7zhJoFl5C1T"
      },
      "outputs": [],
      "source": [
        "  # import libraries\n",
        "import numpy as np\n",
        "import torch\n",
        "from torch.utils.data import DataLoader,TensorDataset"
      ]
    },
    {
      "cell_type": "code",
      "source": [
        "# create some data in numpy\n",
        "\n",
        "nObservations = 100\n",
        "nFeatures = 20\n",
        "\n",
        "data = np.random.randn(nObservations,nFeatures)"
      ],
      "metadata": {
        "id": "PFUg-96Y5oyY"
      },
      "execution_count": 2,
      "outputs": []
    },
    {
      "cell_type": "code",
      "source": [
        "# Convert to pytorch tensor\n",
        "dataT = torch.tensor( data ) \n",
        "\n",
        "# print out some information\n",
        "print('Numpy data:')\n",
        "print(type(data))\n",
        "print(data.shape) # numpy -> .shape\n",
        "print(data.dtype)\n",
        "print(' ')\n",
        "\n",
        "print('Tensor data:')\n",
        "print(type(dataT))\n",
        "print(dataT.size()) # torch -> .size()\n",
        "print(dataT.dtype)\n",
        "print(' ')"
      ],
      "metadata": {
        "colab": {
          "base_uri": "https://localhost:8080/"
        },
        "id": "Iy_b3XJx5sYl",
        "outputId": "ceae3021-eecf-4eec-b398-2853e9a1b2c7"
      },
      "execution_count": 3,
      "outputs": [
        {
          "output_type": "stream",
          "name": "stdout",
          "text": [
            "Numpy data:\n",
            "<class 'numpy.ndarray'>\n",
            "(100, 20)\n",
            "float64\n",
            " \n",
            "Tensor data:\n",
            "<class 'torch.Tensor'>\n",
            "torch.Size([100, 20])\n",
            "torch.float64\n",
            " \n"
          ]
        }
      ]
    },
    {
      "cell_type": "code",
      "source": [
        "# Sometimes you need to convert data types\n",
        "\n",
        "dataT2 = torch.tensor( data ).float()    # float data type in tensor\n",
        "print(dataT2.dtype)\n",
        "\n",
        "# \"long\" is for ints\n",
        "dataT3 = torch.tensor( data ).long()    # int64 data type in tensor\n",
        "print(dataT3.dtype)\n"
      ],
      "metadata": {
        "colab": {
          "base_uri": "https://localhost:8080/"
        },
        "id": "XtAOrJbK5uIv",
        "outputId": "6787f15f-81e9-4b47-bd1c-f4c3dc4f9701"
      },
      "execution_count": 4,
      "outputs": [
        {
          "output_type": "stream",
          "name": "stdout",
          "text": [
            "torch.float32\n",
            "torch.int64\n"
          ]
        }
      ]
    },
    {
      "cell_type": "code",
      "source": [
        "# Convert tensor into PyTorch Datasets\n",
        "\n",
        "# dataset = TensorDataset(data)     # not a tensor!\n",
        "dataset = TensorDataset(dataT)\n",
        "\n",
        "# dataset is a two-element tuple comprising data,labels\n",
        "dataset.tensors[0]"
      ],
      "metadata": {
        "colab": {
          "base_uri": "https://localhost:8080/"
        },
        "id": "4cjilq8O6Dug",
        "outputId": "d850048d-1207-4688-b914-d565ddf69a13"
      },
      "execution_count": 7,
      "outputs": [
        {
          "output_type": "execute_result",
          "data": {
            "text/plain": [
              "tensor([[-0.1410,  0.6943,  0.5690,  ...,  0.7256, -0.1225, -0.2654],\n",
              "        [ 1.7044,  0.2279,  0.2249,  ..., -2.1575,  0.6620,  0.2855],\n",
              "        [-0.5568,  0.6708,  1.2340,  ...,  1.7823,  0.3084,  1.0239],\n",
              "        ...,\n",
              "        [ 1.5667,  0.5222, -0.1578,  ..., -0.1839, -0.6661,  0.5595],\n",
              "        [-0.9942,  1.9583,  0.1899,  ...,  0.0719,  1.1933,  1.5907],\n",
              "        [-0.9264, -0.2730,  0.7271,  ..., -0.2822,  2.3999,  0.2298]],\n",
              "       dtype=torch.float64)"
            ]
          },
          "metadata": {},
          "execution_count": 7
        }
      ]
    },
    {
      "cell_type": "code",
      "source": [
        "# Let's try again with labels\n",
        "labels = torch.ceil(torch.linspace(.01,4,nObservations))\n",
        "\n",
        "# transform to an actual matrix (column vector)\n",
        "\n"
      ],
      "metadata": {
        "colab": {
          "base_uri": "https://localhost:8080/"
        },
        "id": "OcWTqXmY6pxS",
        "outputId": "89395557-636a-4660-fe0b-aeb372c30226"
      },
      "execution_count": 11,
      "outputs": [
        {
          "output_type": "stream",
          "name": "stdout",
          "text": [
            "tensor([1., 1., 1., 1., 1., 1., 1., 1., 1., 1., 1., 1., 1., 1., 1., 1., 1., 1.,\n",
            "        1., 1., 1., 1., 1., 1., 1., 2., 2., 2., 2., 2., 2., 2., 2., 2., 2., 2.,\n",
            "        2., 2., 2., 2., 2., 2., 2., 2., 2., 2., 2., 2., 2., 2., 3., 3., 3., 3.,\n",
            "        3., 3., 3., 3., 3., 3., 3., 3., 3., 3., 3., 3., 3., 3., 3., 3., 3., 3.,\n",
            "        3., 3., 3., 4., 4., 4., 4., 4., 4., 4., 4., 4., 4., 4., 4., 4., 4., 4.,\n",
            "        4., 4., 4., 4., 4., 4., 4., 4., 4., 4.])\n"
          ]
        }
      ]
    },
    {
      "cell_type": "code",
      "source": [
        "# see the labels for every row\n",
        "labels = labels.reshape(( len(labels),1 ))\n",
        "print( labels )"
      ],
      "metadata": {
        "id": "z_AZlsix7UMa"
      },
      "execution_count": null,
      "outputs": []
    },
    {
      "cell_type": "code",
      "source": [
        "\n",
        "# now make another dataset\n",
        "dataset = TensorDataset(dataT,labels)\n",
        "print( dataset.tensors[0].size() )\n",
        "print( dataset.tensors[1].size() )\n",
        "\n",
        "# for comparison\n",
        "print( np.shape(np.random.randint(5,size=nObservations)) )"
      ],
      "metadata": {
        "colab": {
          "base_uri": "https://localhost:8080/"
        },
        "id": "Nomv5ZFY7Ew7",
        "outputId": "ea474d37-85d8-47ad-d291-e0d865a3a5ec"
      },
      "execution_count": 13,
      "outputs": [
        {
          "output_type": "stream",
          "name": "stdout",
          "text": [
            "torch.Size([100, 20])\n",
            "torch.Size([100, 1])\n",
            "(100,)\n"
          ]
        }
      ]
    },
    {
      "cell_type": "code",
      "source": [
        "dataset[0]    # it contains the data and label in one row"
      ],
      "metadata": {
        "colab": {
          "base_uri": "https://localhost:8080/"
        },
        "id": "pmgAK6qv7hQy",
        "outputId": "e7ab5ba1-ed05-41b4-ee57-fdc4fac84c4a"
      },
      "execution_count": 14,
      "outputs": [
        {
          "output_type": "execute_result",
          "data": {
            "text/plain": [
              "(tensor([-0.1410,  0.6943,  0.5690,  0.7939,  0.5175,  1.4316,  0.9518, -1.1957,\n",
              "         -0.2280,  0.4413, -0.3202, -1.4459, -0.1835,  0.0931,  0.7619, -0.8573,\n",
              "          1.3076,  0.7256, -0.1225, -0.2654], dtype=torch.float64),\n",
              " tensor([1.]))"
            ]
          },
          "metadata": {},
          "execution_count": 14
        }
      ]
    },
    {
      "cell_type": "markdown",
      "source": [
        "Data Loaders"
      ],
      "metadata": {
        "id": "ML8W163K79XB"
      }
    },
    {
      "cell_type": "code",
      "source": [
        "# create a dataloader object\n",
        "batchsize = 25\n",
        "dataloader = DataLoader(dataset, batch_size= batchsize) #,shuffle= True, drop_last= True)\n",
        "\n",
        "dataloader.dataset.tensors[0].size()"
      ],
      "metadata": {
        "colab": {
          "base_uri": "https://localhost:8080/"
        },
        "id": "XvKD_D-D7i1Q",
        "outputId": "c43b59b1-de90-43bf-e187-fc55ae2a5e42"
      },
      "execution_count": 15,
      "outputs": [
        {
          "output_type": "execute_result",
          "data": {
            "text/plain": [
              "torch.Size([100, 20])"
            ]
          },
          "metadata": {},
          "execution_count": 15
        }
      ]
    },
    {
      "cell_type": "markdown",
      "source": [
        "Using the batches in training the model"
      ],
      "metadata": {
        "id": "DDaZFKMG8kLA"
      }
    },
    {
      "cell_type": "code",
      "source": [
        "# sizes of each batch\n",
        "for dat,labs in dataloader:\n",
        "  print('BATCH INFO:')\n",
        "  print(dat.size())\n",
        "  print(labs.size())\n",
        "  print(' ')"
      ],
      "metadata": {
        "colab": {
          "base_uri": "https://localhost:8080/"
        },
        "id": "wOSgSl__8Ezh",
        "outputId": "eab5fff8-e3b5-45a6-de97-498d927b9d4b"
      },
      "execution_count": 16,
      "outputs": [
        {
          "output_type": "stream",
          "name": "stdout",
          "text": [
            "BATCH INFO:\n",
            "torch.Size([25, 20])\n",
            "torch.Size([25, 1])\n",
            " \n",
            "BATCH INFO:\n",
            "torch.Size([25, 20])\n",
            "torch.Size([25, 1])\n",
            " \n",
            "BATCH INFO:\n",
            "torch.Size([25, 20])\n",
            "torch.Size([25, 1])\n",
            " \n",
            "BATCH INFO:\n",
            "torch.Size([25, 20])\n",
            "torch.Size([25, 1])\n",
            " \n"
          ]
        }
      ]
    },
    {
      "cell_type": "code",
      "source": [
        "# inspect the labels\n",
        "for dat,labs in dataloader:\n",
        "  print(labs.T)\n",
        "  print(' ')"
      ],
      "metadata": {
        "colab": {
          "base_uri": "https://localhost:8080/"
        },
        "id": "xcd2Fpta8hxY",
        "outputId": "88172343-83b0-4f58-db46-0f94f9bd9e79"
      },
      "execution_count": 17,
      "outputs": [
        {
          "output_type": "stream",
          "name": "stdout",
          "text": [
            "tensor([[1., 1., 1., 1., 1., 1., 1., 1., 1., 1., 1., 1., 1., 1., 1., 1., 1., 1.,\n",
            "         1., 1., 1., 1., 1., 1., 1.]])\n",
            " \n",
            "tensor([[2., 2., 2., 2., 2., 2., 2., 2., 2., 2., 2., 2., 2., 2., 2., 2., 2., 2.,\n",
            "         2., 2., 2., 2., 2., 2., 2.]])\n",
            " \n",
            "tensor([[3., 3., 3., 3., 3., 3., 3., 3., 3., 3., 3., 3., 3., 3., 3., 3., 3., 3.,\n",
            "         3., 3., 3., 3., 3., 3., 3.]])\n",
            " \n",
            "tensor([[4., 4., 4., 4., 4., 4., 4., 4., 4., 4., 4., 4., 4., 4., 4., 4., 4., 4.,\n",
            "         4., 4., 4., 4., 4., 4., 4.]])\n",
            " \n"
          ]
        }
      ]
    },
    {
      "cell_type": "code",
      "source": [
        "# try again with shuffling (shuffling happens during iterations)\n",
        "# dataloader = DataLoader(dataset,batch_size=batchsize,shuffle=True)\n",
        "\n",
        "for dat,labs in dataloader:     # Even when we comment the above code, the shuffling will be done\n",
        "  print(labs.T)\n",
        "  print(' ')"
      ],
      "metadata": {
        "colab": {
          "base_uri": "https://localhost:8080/"
        },
        "id": "eusO_yHL-6lw",
        "outputId": "1e263a93-921c-44d3-d842-21ef5deb45e5"
      },
      "execution_count": 21,
      "outputs": [
        {
          "output_type": "stream",
          "name": "stdout",
          "text": [
            "tensor([[2., 1., 2., 4., 1., 1., 4., 4., 3., 3., 3., 1., 4., 4., 2., 4., 1., 4.,\n",
            "         2., 4., 3., 1., 1., 3., 1.]])\n",
            " \n",
            "tensor([[2., 1., 4., 1., 4., 4., 2., 4., 2., 1., 4., 3., 2., 2., 4., 4., 3., 1.,\n",
            "         1., 3., 3., 2., 1., 1., 2.]])\n",
            " \n",
            "tensor([[4., 3., 3., 3., 2., 4., 2., 2., 3., 2., 4., 2., 1., 1., 4., 4., 1., 2.,\n",
            "         1., 2., 1., 4., 3., 4., 4.]])\n",
            " \n",
            "tensor([[2., 3., 1., 1., 1., 4., 3., 3., 2., 2., 3., 1., 2., 3., 2., 3., 3., 3.,\n",
            "         2., 1., 3., 4., 3., 2., 3.]])\n",
            " \n"
          ]
        }
      ]
    },
    {
      "cell_type": "code",
      "source": [
        "# To get only one batch (e.g., for testing)\n",
        "\n",
        "dat,labs = next(iter(dataloader))\n",
        "\n",
        "labs"
      ],
      "metadata": {
        "colab": {
          "base_uri": "https://localhost:8080/"
        },
        "id": "vgq4ZQlS_HhN",
        "outputId": "38597b89-e9f6-4562-ed8e-54a4b1bbf76b"
      },
      "execution_count": 22,
      "outputs": [
        {
          "output_type": "execute_result",
          "data": {
            "text/plain": [
              "tensor([[3.],\n",
              "        [1.],\n",
              "        [3.],\n",
              "        [4.],\n",
              "        [2.],\n",
              "        [4.],\n",
              "        [3.],\n",
              "        [2.],\n",
              "        [2.],\n",
              "        [2.],\n",
              "        [4.],\n",
              "        [1.],\n",
              "        [3.],\n",
              "        [1.],\n",
              "        [3.],\n",
              "        [4.],\n",
              "        [3.],\n",
              "        [4.],\n",
              "        [1.],\n",
              "        [3.],\n",
              "        [4.],\n",
              "        [3.],\n",
              "        [1.],\n",
              "        [4.],\n",
              "        [2.]])"
            ]
          },
          "metadata": {},
          "execution_count": 22
        }
      ]
    },
    {
      "cell_type": "code",
      "source": [
        ""
      ],
      "metadata": {
        "id": "fhyxti5A_jQa"
      },
      "execution_count": null,
      "outputs": []
    }
  ]
}