{
  "nbformat": 4,
  "nbformat_minor": 0,
  "metadata": {
    "colab": {
      "name": "Data_Numpy_vs_Pytorch.ipynb",
      "provenance": [],
      "collapsed_sections": [],
      "authorship_tag": "ABX9TyPZaUWF7iJAY7cMOT5AY/JV",
      "include_colab_link": true
    },
    "kernelspec": {
      "name": "python3",
      "display_name": "Python 3"
    },
    "language_info": {
      "name": "python"
    }
  },
  "cells": [
    {
      "cell_type": "markdown",
      "metadata": {
        "id": "view-in-github",
        "colab_type": "text"
      },
      "source": [
        "<a href=\"https://colab.research.google.com/github/MohebZandi/Comupter_Vision/blob/main/Data_Numpy_vs_Pytorch.ipynb\" target=\"_parent\"><img src=\"https://colab.research.google.com/assets/colab-badge.svg\" alt=\"Open In Colab\"/></a>"
      ]
    },
    {
      "cell_type": "markdown",
      "source": [
        "# COURSE: A deep understanding of deep learning\n",
        "## SECTION: Data matrices and loaders\n",
        "### LECTURE: Anatomy of a torch dataset and dataloader\n",
        "#### TEACHER: Mike X Cohen, sincxpress.com\n",
        "##### COURSE URL: udemy.com/course/dudl/?couponCode=202108"
      ],
      "metadata": {
        "id": "GCjgxhyW76EJ"
      }
    },
    {
      "cell_type": "code",
      "execution_count": 1,
      "metadata": {
        "id": "U7zhJoFl5C1T"
      },
      "outputs": [],
      "source": [
        "  # import libraries\n",
        "import numpy as np\n",
        "import torch\n",
        "from torch.utils.data import DataLoader,TensorDataset"
      ]
    },
    {
      "cell_type": "code",
      "source": [
        "# create some data in numpy\n",
        "\n",
        "nObservations = 100\n",
        "nFeatures = 20\n",
        "\n",
        "data = np.random.randn(nObservations,nFeatures)"
      ],
      "metadata": {
        "id": "PFUg-96Y5oyY"
      },
      "execution_count": 2,
      "outputs": []
    },
    {
      "cell_type": "code",
      "source": [
        "# Convert to pytorch tensor\n",
        "dataT = torch.tensor( data ) \n",
        "\n",
        "# print out some information\n",
        "print('Numpy data:')\n",
        "print(type(data))\n",
        "print(data.shape) # numpy -> .shape\n",
        "print(data.dtype)\n",
        "print(' ')\n",
        "\n",
        "print('Tensor data:')\n",
        "print(type(dataT))\n",
        "print(dataT.size()) # torch -> .size()\n",
        "print(dataT.dtype)\n",
        "print(' ')"
      ],
      "metadata": {
        "colab": {
          "base_uri": "https://localhost:8080/"
        },
        "id": "Iy_b3XJx5sYl",
        "outputId": "ceae3021-eecf-4eec-b398-2853e9a1b2c7"
      },
      "execution_count": 3,
      "outputs": [
        {
          "output_type": "stream",
          "name": "stdout",
          "text": [
            "Numpy data:\n",
            "<class 'numpy.ndarray'>\n",
            "(100, 20)\n",
            "float64\n",
            " \n",
            "Tensor data:\n",
            "<class 'torch.Tensor'>\n",
            "torch.Size([100, 20])\n",
            "torch.float64\n",
            " \n"
          ]
        }
      ]
    },
    {
      "cell_type": "code",
      "source": [
        "# Sometimes you need to convert data types\n",
        "\n",
        "dataT2 = torch.tensor( data ).float()    # float data type in tensor\n",
        "print(dataT2.dtype)\n",
        "\n",
        "# \"long\" is for ints\n",
        "dataT3 = torch.tensor( data ).long()    # int64 data type in tensor\n",
        "print(dataT3.dtype)\n"
      ],
      "metadata": {
        "colab": {
          "base_uri": "https://localhost:8080/"
        },
        "id": "XtAOrJbK5uIv",
        "outputId": "6787f15f-81e9-4b47-bd1c-f4c3dc4f9701"
      },
      "execution_count": 4,
      "outputs": [
        {
          "output_type": "stream",
          "name": "stdout",
          "text": [
            "torch.float32\n",
            "torch.int64\n"
          ]
        }
      ]
    },
    {
      "cell_type": "code",
      "source": [
        "# Convert tensor into PyTorch Datasets\n",
        "\n",
        "# dataset = TensorDataset(data)     # not a tensor!\n",
        "dataset = TensorDataset(dataT)\n",
        "\n",
        "# dataset is a two-element tuple comprising data,labels\n",
        "dataset.tensors[0]"
      ],
      "metadata": {
        "colab": {
          "base_uri": "https://localhost:8080/"
        },
        "id": "4cjilq8O6Dug",
        "outputId": "d850048d-1207-4688-b914-d565ddf69a13"
      },
      "execution_count": 7,
      "outputs": [
        {
          "output_type": "execute_result",
          "data": {
            "text/plain": [
              "tensor([[-0.1410,  0.6943,  0.5690,  ...,  0.7256, -0.1225, -0.2654],\n",
              "        [ 1.7044,  0.2279,  0.2249,  ..., -2.1575,  0.6620,  0.2855],\n",
              "        [-0.5568,  0.6708,  1.2340,  ...,  1.7823,  0.3084,  1.0239],\n",
              "        ...,\n",
              "        [ 1.5667,  0.5222, -0.1578,  ..., -0.1839, -0.6661,  0.5595],\n",
              "        [-0.9942,  1.9583,  0.1899,  ...,  0.0719,  1.1933,  1.5907],\n",
              "        [-0.9264, -0.2730,  0.7271,  ..., -0.2822,  2.3999,  0.2298]],\n",
              "       dtype=torch.float64)"
            ]
          },
          "metadata": {},
          "execution_count": 7
        }
      ]
    },
    {
      "cell_type": "code",
      "source": [
        "# Let's try again with labels\n",
        "labels = torch.ceil(torch.linspace(.01,4,nObservations))\n",
        "\n",
        "# transform to an actual matrix (column vector)\n",
        "\n"
      ],
      "metadata": {
        "colab": {
          "base_uri": "https://localhost:8080/"
        },
        "id": "OcWTqXmY6pxS",
        "outputId": "89395557-636a-4660-fe0b-aeb372c30226"
      },
      "execution_count": 11,
      "outputs": [
        {
          "output_type": "stream",
          "name": "stdout",
          "text": [
            "tensor([1., 1., 1., 1., 1., 1., 1., 1., 1., 1., 1., 1., 1., 1., 1., 1., 1., 1.,\n",
            "        1., 1., 1., 1., 1., 1., 1., 2., 2., 2., 2., 2., 2., 2., 2., 2., 2., 2.,\n",
            "        2., 2., 2., 2., 2., 2., 2., 2., 2., 2., 2., 2., 2., 2., 3., 3., 3., 3.,\n",
            "        3., 3., 3., 3., 3., 3., 3., 3., 3., 3., 3., 3., 3., 3., 3., 3., 3., 3.,\n",
            "        3., 3., 3., 4., 4., 4., 4., 4., 4., 4., 4., 4., 4., 4., 4., 4., 4., 4.,\n",
            "        4., 4., 4., 4., 4., 4., 4., 4., 4., 4.])\n"
          ]
        }
      ]
    },
    {
      "cell_type": "code",
      "source": [
        "# see the labels for every row\n",
        "labels = labels.reshape(( len(labels),1 ))\n",
        "print( labels )"
      ],
      "metadata": {
        "id": "z_AZlsix7UMa"
      },
      "execution_count": null,
      "outputs": []
    },
    {
      "cell_type": "code",
      "source": [
        "\n",
        "# now make another dataset\n",
        "dataset = TensorDataset(dataT,labels)\n",
        "print( dataset.tensors[0].size() )\n",
        "print( dataset.tensors[1].size() )\n",
        "\n",
        "# for comparison\n",
        "print( np.shape(np.random.randint(5,size=nObservations)) )"
      ],
      "metadata": {
        "colab": {
          "base_uri": "https://localhost:8080/"
        },
        "id": "Nomv5ZFY7Ew7",
        "outputId": "ea474d37-85d8-47ad-d291-e0d865a3a5ec"
      },
      "execution_count": 13,
      "outputs": [
        {
          "output_type": "stream",
          "name": "stdout",
          "text": [
            "torch.Size([100, 20])\n",
            "torch.Size([100, 1])\n",
            "(100,)\n"
          ]
        }
      ]
    },
    {
      "cell_type": "code",
      "source": [
        "dataset[0]    # it contains the data and label in one row"
      ],
      "metadata": {
        "colab": {
          "base_uri": "https://localhost:8080/"
        },
        "id": "pmgAK6qv7hQy",
        "outputId": "e7ab5ba1-ed05-41b4-ee57-fdc4fac84c4a"
      },
      "execution_count": 14,
      "outputs": [
        {
          "output_type": "execute_result",
          "data": {
            "text/plain": [
              "(tensor([-0.1410,  0.6943,  0.5690,  0.7939,  0.5175,  1.4316,  0.9518, -1.1957,\n",
              "         -0.2280,  0.4413, -0.3202, -1.4459, -0.1835,  0.0931,  0.7619, -0.8573,\n",
              "          1.3076,  0.7256, -0.1225, -0.2654], dtype=torch.float64),\n",
              " tensor([1.]))"
            ]
          },
          "metadata": {},
          "execution_count": 14
        }
      ]
    },
    {
      "cell_type": "markdown",
      "source": [
        "Data Loaders"
      ],
      "metadata": {
        "id": "ML8W163K79XB"
      }
    },
    {
      "cell_type": "code",
      "source": [
        "# create a dataloader object\n",
        "batchsize = 25\n",
        "dataloader = DataLoader(dataset, batch_size= batchsize) #,shuffle= True, drop_last= True)\n",
        "\n",
        "dataloader.dataset.tensors[0].size()"
      ],
      "metadata": {
        "colab": {
          "base_uri": "https://localhost:8080/"
        },
        "id": "XvKD_D-D7i1Q",
        "outputId": "c43b59b1-de90-43bf-e187-fc55ae2a5e42"
      },
      "execution_count": 15,
      "outputs": [
        {
          "output_type": "execute_result",
          "data": {
            "text/plain": [
              "torch.Size([100, 20])"
            ]
          },
          "metadata": {},
          "execution_count": 15
        }
      ]
    },
    {
      "cell_type": "markdown",
      "source": [
        "Using the batches in training the model"
      ],
      "metadata": {
        "id": "DDaZFKMG8kLA"
      }
    },
    {
      "cell_type": "code",
      "source": [
        "# sizes of each batch\n",
        "for dat,labs in dataloader:\n",
        "  print('BATCH INFO:')\n",
        "  print(dat.size())\n",
        "  print(labs.size())\n",
        "  print(' ')"
      ],
      "metadata": {
        "colab": {
          "base_uri": "https://localhost:8080/"
        },
        "id": "wOSgSl__8Ezh",
        "outputId": "eab5fff8-e3b5-45a6-de97-498d927b9d4b"
      },
      "execution_count": 16,
      "outputs": [
        {
          "output_type": "stream",
          "name": "stdout",
          "text": [
            "BATCH INFO:\n",
            "torch.Size([25, 20])\n",
            "torch.Size([25, 1])\n",
            " \n",
            "BATCH INFO:\n",
            "torch.Size([25, 20])\n",
            "torch.Size([25, 1])\n",
            " \n",
            "BATCH INFO:\n",
            "torch.Size([25, 20])\n",
            "torch.Size([25, 1])\n",
            " \n",
            "BATCH INFO:\n",
            "torch.Size([25, 20])\n",
            "torch.Size([25, 1])\n",
            " \n"
          ]
        }
      ]
    },
    {
      "cell_type": "code",
      "source": [
        "# inspect the labels\n",
        "for dat,labs in dataloader:\n",
        "  print(labs.T)\n",
        "  print(' ')"
      ],
      "metadata": {
        "colab": {
          "base_uri": "https://localhost:8080/"
        },
        "id": "xcd2Fpta8hxY",
        "outputId": "88172343-83b0-4f58-db46-0f94f9bd9e79"
      },
      "execution_count": 17,
      "outputs": [
        {
          "output_type": "stream",
          "name": "stdout",
          "text": [
            "tensor([[1., 1., 1., 1., 1., 1., 1., 1., 1., 1., 1., 1., 1., 1., 1., 1., 1., 1.,\n",
            "         1., 1., 1., 1., 1., 1., 1.]])\n",
            " \n",
            "tensor([[2., 2., 2., 2., 2., 2., 2., 2., 2., 2., 2., 2., 2., 2., 2., 2., 2., 2.,\n",
            "         2., 2., 2., 2., 2., 2., 2.]])\n",
            " \n",
            "tensor([[3., 3., 3., 3., 3., 3., 3., 3., 3., 3., 3., 3., 3., 3., 3., 3., 3., 3.,\n",
            "         3., 3., 3., 3., 3., 3., 3.]])\n",
            " \n",
            "tensor([[4., 4., 4., 4., 4., 4., 4., 4., 4., 4., 4., 4., 4., 4., 4., 4., 4., 4.,\n",
            "         4., 4., 4., 4., 4., 4., 4.]])\n",
            " \n"
          ]
        }
      ]
    },
    {
      "cell_type": "code",
      "source": [
        "# try again with shuffling (shuffling happens during iterations)\n",
        "# dataloader = DataLoader(dataset,batch_size=batchsize,shuffle=True)\n",
        "\n",
        "for dat,labs in dataloader:     # Even when we comment the above code, the shuffling will be done\n",
        "  print(labs.T)\n",
        "  print(' ')"
      ],
      "metadata": {
        "colab": {
          "base_uri": "https://localhost:8080/"
        },
        "id": "eusO_yHL-6lw",
        "outputId": "1e263a93-921c-44d3-d842-21ef5deb45e5"
      },
      "execution_count": 21,
      "outputs": [
        {
          "output_type": "stream",
          "name": "stdout",
          "text": [
            "tensor([[2., 1., 2., 4., 1., 1., 4., 4., 3., 3., 3., 1., 4., 4., 2., 4., 1., 4.,\n",
            "         2., 4., 3., 1., 1., 3., 1.]])\n",
            " \n",
            "tensor([[2., 1., 4., 1., 4., 4., 2., 4., 2., 1., 4., 3., 2., 2., 4., 4., 3., 1.,\n",
            "         1., 3., 3., 2., 1., 1., 2.]])\n",
            " \n",
            "tensor([[4., 3., 3., 3., 2., 4., 2., 2., 3., 2., 4., 2., 1., 1., 4., 4., 1., 2.,\n",
            "         1., 2., 1., 4., 3., 4., 4.]])\n",
            " \n",
            "tensor([[2., 3., 1., 1., 1., 4., 3., 3., 2., 2., 3., 1., 2., 3., 2., 3., 3., 3.,\n",
            "         2., 1., 3., 4., 3., 2., 3.]])\n",
            " \n"
          ]
        }
      ]
    },
    {
      "cell_type": "code",
      "source": [
        "# To get only one batch (e.g., for testing)\n",
        "\n",
        "dat,labs = next(iter(dataloader))\n",
        "\n",
        "labs"
      ],
      "metadata": {
        "colab": {
          "base_uri": "https://localhost:8080/"
        },
        "id": "vgq4ZQlS_HhN",
        "outputId": "38597b89-e9f6-4562-ed8e-54a4b1bbf76b"
      },
      "execution_count": 22,
      "outputs": [
        {
          "output_type": "execute_result",
          "data": {
            "text/plain": [
              "tensor([[3.],\n",
              "        [1.],\n",
              "        [3.],\n",
              "        [4.],\n",
              "        [2.],\n",
              "        [4.],\n",
              "        [3.],\n",
              "        [2.],\n",
              "        [2.],\n",
              "        [2.],\n",
              "        [4.],\n",
              "        [1.],\n",
              "        [3.],\n",
              "        [1.],\n",
              "        [3.],\n",
              "        [4.],\n",
              "        [3.],\n",
              "        [4.],\n",
              "        [1.],\n",
              "        [3.],\n",
              "        [4.],\n",
              "        [3.],\n",
              "        [1.],\n",
              "        [4.],\n",
              "        [2.]])"
            ]
          },
          "metadata": {},
          "execution_count": 22
        }
      ]
    },
    {
      "cell_type": "code",
      "source": [
        ""
      ],
      "metadata": {
        "id": "fhyxti5A_jQa"
      },
      "execution_count": null,
      "outputs": []
    },
    {
      "cell_type": "markdown",
      "source": [
        "## Sample Size and Network Depth"
      ],
      "metadata": {
        "id": "j9Q-NtDZA9no"
      }
    },
    {
      "cell_type": "code",
      "source": [
        "# import libraries\n",
        "import torch\n",
        "import torch.nn as nn\n",
        "import torch.nn.functional as F\n",
        "from torch.utils.data import DataLoader,TensorDataset\n",
        "from sklearn.model_selection import train_test_split\n",
        "\n",
        "import numpy as np\n",
        "\n",
        "import matplotlib.pyplot as plt\n",
        "from IPython import display\n",
        "display.set_matplotlib_formats('svg')"
      ],
      "metadata": {
        "id": "KTLTiWIQBEr2"
      },
      "execution_count": 23,
      "outputs": []
    },
    {
      "cell_type": "code",
      "source": [
        "# a function that creates data\n",
        "\n",
        "def createSomeData(nPerClust):\n",
        "\n",
        "  A = [ 1, 1 ]\n",
        "  B = [ 5, 1 ]\n",
        "  C = [ 4, 4 ]\n",
        "\n",
        "  # generate data\n",
        "  a = [ A[0]+np.random.randn(nPerClust) , A[1]+np.random.randn(nPerClust) ]\n",
        "  b = [ B[0]+np.random.randn(nPerClust) , B[1]+np.random.randn(nPerClust) ]\n",
        "  c = [ C[0]+np.random.randn(nPerClust) , C[1]+np.random.randn(nPerClust) ]\n",
        "\n",
        "  # true labels\n",
        "  labels_np = np.hstack(( np.zeros((nPerClust)),\n",
        "                          np.ones( (nPerClust)),\n",
        "                        1+np.ones( (nPerClust))  ))\n",
        "\n",
        "  # concatanate into a matrix, then convert to a pytorch tensor\n",
        "  data_np = np.hstack((a,b,c)).T\n",
        "\n",
        "  # NEW: put all outputs into a dictionary\n",
        "  output = {}\n",
        "  output['data'] = torch.tensor(data_np).float()\n",
        "  output['labels'] = torch.tensor(labels_np).long() # note: \"long\" format (integers) for labels\n",
        "\n",
        "  # use scikitlearn to split the data\n",
        "  train_data,test_data, train_labels,test_labels = train_test_split(output['data'], output['labels'], train_size=.9)\n",
        "\n",
        "  # then convert them into PyTorch Datasets (note: already converted to tensors)\n",
        "  train_data = TensorDataset(train_data,train_labels)\n",
        "  test_data  = TensorDataset(test_data,test_labels)\n",
        "\n",
        "  # finally, translate into dataloader objects\n",
        "  batchsize  = 8\n",
        "  output['train_data'] = DataLoader(train_data,batch_size=batchsize,shuffle=True,drop_last=True)\n",
        "  output['test_data']  = DataLoader(test_data,batch_size=test_data.tensors[0].shape[0])\n",
        "\n",
        "  return output"
      ],
      "metadata": {
        "id": "aIhBu_G1BGRy"
      },
      "execution_count": 24,
      "outputs": []
    },
    {
      "cell_type": "code",
      "source": [
        "# Check that the function works\n",
        "\n",
        "theData = createSomeData(50)\n",
        "\n",
        "data = theData['data']\n",
        "labels = theData['labels']\n",
        "\n",
        "# show the data\n",
        "fig = plt.figure(figsize=(5,5))\n",
        "plt.plot(data[np.where(labels==0)[0],0],data[np.where(labels==0)[0],1],'bs',alpha=.5)\n",
        "plt.plot(data[np.where(labels==1)[0],0],data[np.where(labels==1)[0],1],'ko',alpha=.5)\n",
        "plt.plot(data[np.where(labels==2)[0],0],data[np.where(labels==2)[0],1],'r^',alpha=.5)\n",
        "plt.title('The qwerties!')\n",
        "plt.xlabel('qwerty dimension 1')\n",
        "plt.ylabel('qwerty dimension 2')\n",
        "plt.show()"
      ],
      "metadata": {
        "colab": {
          "base_uri": "https://localhost:8080/",
          "height": 464
        },
        "id": "Og2-LzG_BKrY",
        "outputId": "748ac3cf-8760-4653-ae47-36105ebc130e"
      },
      "execution_count": 28,
      "outputs": [
        {
          "output_type": "display_data",
          "data": {
            "text/plain": [
              "<Figure size 360x360 with 1 Axes>"
            ],
            "image/svg+xml": "<?xml version=\"1.0\" encoding=\"utf-8\" standalone=\"no\"?>\n<!DOCTYPE svg PUBLIC \"-//W3C//DTD SVG 1.1//EN\"\n  \"http://www.w3.org/Graphics/SVG/1.1/DTD/svg11.dtd\">\n<!-- Created with matplotlib (https://matplotlib.org/) -->\n<svg height=\"331.674375pt\" version=\"1.1\" viewBox=\"0 0 328.820312 331.674375\" width=\"328.820312pt\" xmlns=\"http://www.w3.org/2000/svg\" xmlns:xlink=\"http://www.w3.org/1999/xlink\">\n <defs>\n  <style type=\"text/css\">\n*{stroke-linecap:butt;stroke-linejoin:round;}\n  </style>\n </defs>\n <g id=\"figure_1\">\n  <g id=\"patch_1\">\n   <path d=\"M 0 331.674375 \nL 328.820312 331.674375 \nL 328.820312 0 \nL 0 0 \nz\n\" style=\"fill:none;\"/>\n  </g>\n  <g id=\"axes_1\">\n   <g id=\"patch_2\">\n    <path d=\"M 42.620313 294.118125 \nL 321.620313 294.118125 \nL 321.620313 22.318125 \nL 42.620313 22.318125 \nz\n\" style=\"fill:#ffffff;\"/>\n   </g>\n   <g id=\"matplotlib.axis_1\">\n    <g id=\"xtick_1\">\n     <g id=\"line2d_1\">\n      <defs>\n       <path d=\"M 0 0 \nL 0 3.5 \n\" id=\"mff83d53f79\" style=\"stroke:#000000;stroke-width:0.8;\"/>\n      </defs>\n      <g>\n       <use style=\"stroke:#000000;stroke-width:0.8;\" x=\"92.83667\" xlink:href=\"#mff83d53f79\" y=\"294.118125\"/>\n      </g>\n     </g>\n     <g id=\"text_1\">\n      <!-- 0 -->\n      <defs>\n       <path d=\"M 31.78125 66.40625 \nQ 24.171875 66.40625 20.328125 58.90625 \nQ 16.5 51.421875 16.5 36.375 \nQ 16.5 21.390625 20.328125 13.890625 \nQ 24.171875 6.390625 31.78125 6.390625 \nQ 39.453125 6.390625 43.28125 13.890625 \nQ 47.125 21.390625 47.125 36.375 \nQ 47.125 51.421875 43.28125 58.90625 \nQ 39.453125 66.40625 31.78125 66.40625 \nz\nM 31.78125 74.21875 \nQ 44.046875 74.21875 50.515625 64.515625 \nQ 56.984375 54.828125 56.984375 36.375 \nQ 56.984375 17.96875 50.515625 8.265625 \nQ 44.046875 -1.421875 31.78125 -1.421875 \nQ 19.53125 -1.421875 13.0625 8.265625 \nQ 6.59375 17.96875 6.59375 36.375 \nQ 6.59375 54.828125 13.0625 64.515625 \nQ 19.53125 74.21875 31.78125 74.21875 \nz\n\" id=\"DejaVuSans-48\"/>\n      </defs>\n      <g transform=\"translate(89.65542 308.716563)scale(0.1 -0.1)\">\n       <use xlink:href=\"#DejaVuSans-48\"/>\n      </g>\n     </g>\n    </g>\n    <g id=\"xtick_2\">\n     <g id=\"line2d_2\">\n      <g>\n       <use style=\"stroke:#000000;stroke-width:0.8;\" x=\"154.732785\" xlink:href=\"#mff83d53f79\" y=\"294.118125\"/>\n      </g>\n     </g>\n     <g id=\"text_2\">\n      <!-- 2 -->\n      <defs>\n       <path d=\"M 19.1875 8.296875 \nL 53.609375 8.296875 \nL 53.609375 0 \nL 7.328125 0 \nL 7.328125 8.296875 \nQ 12.9375 14.109375 22.625 23.890625 \nQ 32.328125 33.6875 34.8125 36.53125 \nQ 39.546875 41.84375 41.421875 45.53125 \nQ 43.3125 49.21875 43.3125 52.78125 \nQ 43.3125 58.59375 39.234375 62.25 \nQ 35.15625 65.921875 28.609375 65.921875 \nQ 23.96875 65.921875 18.8125 64.3125 \nQ 13.671875 62.703125 7.8125 59.421875 \nL 7.8125 69.390625 \nQ 13.765625 71.78125 18.9375 73 \nQ 24.125 74.21875 28.421875 74.21875 \nQ 39.75 74.21875 46.484375 68.546875 \nQ 53.21875 62.890625 53.21875 53.421875 \nQ 53.21875 48.921875 51.53125 44.890625 \nQ 49.859375 40.875 45.40625 35.40625 \nQ 44.1875 33.984375 37.640625 27.21875 \nQ 31.109375 20.453125 19.1875 8.296875 \nz\n\" id=\"DejaVuSans-50\"/>\n      </defs>\n      <g transform=\"translate(151.551535 308.716563)scale(0.1 -0.1)\">\n       <use xlink:href=\"#DejaVuSans-50\"/>\n      </g>\n     </g>\n    </g>\n    <g id=\"xtick_3\">\n     <g id=\"line2d_3\">\n      <g>\n       <use style=\"stroke:#000000;stroke-width:0.8;\" x=\"216.6289\" xlink:href=\"#mff83d53f79\" y=\"294.118125\"/>\n      </g>\n     </g>\n     <g id=\"text_3\">\n      <!-- 4 -->\n      <defs>\n       <path d=\"M 37.796875 64.3125 \nL 12.890625 25.390625 \nL 37.796875 25.390625 \nz\nM 35.203125 72.90625 \nL 47.609375 72.90625 \nL 47.609375 25.390625 \nL 58.015625 25.390625 \nL 58.015625 17.1875 \nL 47.609375 17.1875 \nL 47.609375 0 \nL 37.796875 0 \nL 37.796875 17.1875 \nL 4.890625 17.1875 \nL 4.890625 26.703125 \nz\n\" id=\"DejaVuSans-52\"/>\n      </defs>\n      <g transform=\"translate(213.44765 308.716563)scale(0.1 -0.1)\">\n       <use xlink:href=\"#DejaVuSans-52\"/>\n      </g>\n     </g>\n    </g>\n    <g id=\"xtick_4\">\n     <g id=\"line2d_4\">\n      <g>\n       <use style=\"stroke:#000000;stroke-width:0.8;\" x=\"278.525016\" xlink:href=\"#mff83d53f79\" y=\"294.118125\"/>\n      </g>\n     </g>\n     <g id=\"text_4\">\n      <!-- 6 -->\n      <defs>\n       <path d=\"M 33.015625 40.375 \nQ 26.375 40.375 22.484375 35.828125 \nQ 18.609375 31.296875 18.609375 23.390625 \nQ 18.609375 15.53125 22.484375 10.953125 \nQ 26.375 6.390625 33.015625 6.390625 \nQ 39.65625 6.390625 43.53125 10.953125 \nQ 47.40625 15.53125 47.40625 23.390625 \nQ 47.40625 31.296875 43.53125 35.828125 \nQ 39.65625 40.375 33.015625 40.375 \nz\nM 52.59375 71.296875 \nL 52.59375 62.3125 \nQ 48.875 64.0625 45.09375 64.984375 \nQ 41.3125 65.921875 37.59375 65.921875 \nQ 27.828125 65.921875 22.671875 59.328125 \nQ 17.53125 52.734375 16.796875 39.40625 \nQ 19.671875 43.65625 24.015625 45.921875 \nQ 28.375 48.1875 33.59375 48.1875 \nQ 44.578125 48.1875 50.953125 41.515625 \nQ 57.328125 34.859375 57.328125 23.390625 \nQ 57.328125 12.15625 50.6875 5.359375 \nQ 44.046875 -1.421875 33.015625 -1.421875 \nQ 20.359375 -1.421875 13.671875 8.265625 \nQ 6.984375 17.96875 6.984375 36.375 \nQ 6.984375 53.65625 15.1875 63.9375 \nQ 23.390625 74.21875 37.203125 74.21875 \nQ 40.921875 74.21875 44.703125 73.484375 \nQ 48.484375 72.75 52.59375 71.296875 \nz\n\" id=\"DejaVuSans-54\"/>\n      </defs>\n      <g transform=\"translate(275.343766 308.716563)scale(0.1 -0.1)\">\n       <use xlink:href=\"#DejaVuSans-54\"/>\n      </g>\n     </g>\n    </g>\n    <g id=\"text_5\">\n     <!-- qwerty dimension 1 -->\n     <defs>\n      <path d=\"M 14.796875 27.296875 \nQ 14.796875 17.390625 18.875 11.75 \nQ 22.953125 6.109375 30.078125 6.109375 \nQ 37.203125 6.109375 41.296875 11.75 \nQ 45.40625 17.390625 45.40625 27.296875 \nQ 45.40625 37.203125 41.296875 42.84375 \nQ 37.203125 48.484375 30.078125 48.484375 \nQ 22.953125 48.484375 18.875 42.84375 \nQ 14.796875 37.203125 14.796875 27.296875 \nz\nM 45.40625 8.203125 \nQ 42.578125 3.328125 38.25 0.953125 \nQ 33.9375 -1.421875 27.875 -1.421875 \nQ 17.96875 -1.421875 11.734375 6.484375 \nQ 5.515625 14.40625 5.515625 27.296875 \nQ 5.515625 40.1875 11.734375 48.09375 \nQ 17.96875 56 27.875 56 \nQ 33.9375 56 38.25 53.625 \nQ 42.578125 51.265625 45.40625 46.390625 \nL 45.40625 54.6875 \nL 54.390625 54.6875 \nL 54.390625 -20.796875 \nL 45.40625 -20.796875 \nz\n\" id=\"DejaVuSans-113\"/>\n      <path d=\"M 4.203125 54.6875 \nL 13.1875 54.6875 \nL 24.421875 12.015625 \nL 35.59375 54.6875 \nL 46.1875 54.6875 \nL 57.421875 12.015625 \nL 68.609375 54.6875 \nL 77.59375 54.6875 \nL 63.28125 0 \nL 52.6875 0 \nL 40.921875 44.828125 \nL 29.109375 0 \nL 18.5 0 \nz\n\" id=\"DejaVuSans-119\"/>\n      <path d=\"M 56.203125 29.59375 \nL 56.203125 25.203125 \nL 14.890625 25.203125 \nQ 15.484375 15.921875 20.484375 11.0625 \nQ 25.484375 6.203125 34.421875 6.203125 \nQ 39.59375 6.203125 44.453125 7.46875 \nQ 49.3125 8.734375 54.109375 11.28125 \nL 54.109375 2.78125 \nQ 49.265625 0.734375 44.1875 -0.34375 \nQ 39.109375 -1.421875 33.890625 -1.421875 \nQ 20.796875 -1.421875 13.15625 6.1875 \nQ 5.515625 13.8125 5.515625 26.8125 \nQ 5.515625 40.234375 12.765625 48.109375 \nQ 20.015625 56 32.328125 56 \nQ 43.359375 56 49.78125 48.890625 \nQ 56.203125 41.796875 56.203125 29.59375 \nz\nM 47.21875 32.234375 \nQ 47.125 39.59375 43.09375 43.984375 \nQ 39.0625 48.390625 32.421875 48.390625 \nQ 24.90625 48.390625 20.390625 44.140625 \nQ 15.875 39.890625 15.1875 32.171875 \nz\n\" id=\"DejaVuSans-101\"/>\n      <path d=\"M 41.109375 46.296875 \nQ 39.59375 47.171875 37.8125 47.578125 \nQ 36.03125 48 33.890625 48 \nQ 26.265625 48 22.1875 43.046875 \nQ 18.109375 38.09375 18.109375 28.8125 \nL 18.109375 0 \nL 9.078125 0 \nL 9.078125 54.6875 \nL 18.109375 54.6875 \nL 18.109375 46.1875 \nQ 20.953125 51.171875 25.484375 53.578125 \nQ 30.03125 56 36.53125 56 \nQ 37.453125 56 38.578125 55.875 \nQ 39.703125 55.765625 41.0625 55.515625 \nz\n\" id=\"DejaVuSans-114\"/>\n      <path d=\"M 18.3125 70.21875 \nL 18.3125 54.6875 \nL 36.8125 54.6875 \nL 36.8125 47.703125 \nL 18.3125 47.703125 \nL 18.3125 18.015625 \nQ 18.3125 11.328125 20.140625 9.421875 \nQ 21.96875 7.515625 27.59375 7.515625 \nL 36.8125 7.515625 \nL 36.8125 0 \nL 27.59375 0 \nQ 17.1875 0 13.234375 3.875 \nQ 9.28125 7.765625 9.28125 18.015625 \nL 9.28125 47.703125 \nL 2.6875 47.703125 \nL 2.6875 54.6875 \nL 9.28125 54.6875 \nL 9.28125 70.21875 \nz\n\" id=\"DejaVuSans-116\"/>\n      <path d=\"M 32.171875 -5.078125 \nQ 28.375 -14.84375 24.75 -17.8125 \nQ 21.140625 -20.796875 15.09375 -20.796875 \nL 7.90625 -20.796875 \nL 7.90625 -13.28125 \nL 13.1875 -13.28125 \nQ 16.890625 -13.28125 18.9375 -11.515625 \nQ 21 -9.765625 23.484375 -3.21875 \nL 25.09375 0.875 \nL 2.984375 54.6875 \nL 12.5 54.6875 \nL 29.59375 11.921875 \nL 46.6875 54.6875 \nL 56.203125 54.6875 \nz\n\" id=\"DejaVuSans-121\"/>\n      <path id=\"DejaVuSans-32\"/>\n      <path d=\"M 45.40625 46.390625 \nL 45.40625 75.984375 \nL 54.390625 75.984375 \nL 54.390625 0 \nL 45.40625 0 \nL 45.40625 8.203125 \nQ 42.578125 3.328125 38.25 0.953125 \nQ 33.9375 -1.421875 27.875 -1.421875 \nQ 17.96875 -1.421875 11.734375 6.484375 \nQ 5.515625 14.40625 5.515625 27.296875 \nQ 5.515625 40.1875 11.734375 48.09375 \nQ 17.96875 56 27.875 56 \nQ 33.9375 56 38.25 53.625 \nQ 42.578125 51.265625 45.40625 46.390625 \nz\nM 14.796875 27.296875 \nQ 14.796875 17.390625 18.875 11.75 \nQ 22.953125 6.109375 30.078125 6.109375 \nQ 37.203125 6.109375 41.296875 11.75 \nQ 45.40625 17.390625 45.40625 27.296875 \nQ 45.40625 37.203125 41.296875 42.84375 \nQ 37.203125 48.484375 30.078125 48.484375 \nQ 22.953125 48.484375 18.875 42.84375 \nQ 14.796875 37.203125 14.796875 27.296875 \nz\n\" id=\"DejaVuSans-100\"/>\n      <path d=\"M 9.421875 54.6875 \nL 18.40625 54.6875 \nL 18.40625 0 \nL 9.421875 0 \nz\nM 9.421875 75.984375 \nL 18.40625 75.984375 \nL 18.40625 64.59375 \nL 9.421875 64.59375 \nz\n\" id=\"DejaVuSans-105\"/>\n      <path d=\"M 52 44.1875 \nQ 55.375 50.25 60.0625 53.125 \nQ 64.75 56 71.09375 56 \nQ 79.640625 56 84.28125 50.015625 \nQ 88.921875 44.046875 88.921875 33.015625 \nL 88.921875 0 \nL 79.890625 0 \nL 79.890625 32.71875 \nQ 79.890625 40.578125 77.09375 44.375 \nQ 74.3125 48.1875 68.609375 48.1875 \nQ 61.625 48.1875 57.5625 43.546875 \nQ 53.515625 38.921875 53.515625 30.90625 \nL 53.515625 0 \nL 44.484375 0 \nL 44.484375 32.71875 \nQ 44.484375 40.625 41.703125 44.40625 \nQ 38.921875 48.1875 33.109375 48.1875 \nQ 26.21875 48.1875 22.15625 43.53125 \nQ 18.109375 38.875 18.109375 30.90625 \nL 18.109375 0 \nL 9.078125 0 \nL 9.078125 54.6875 \nL 18.109375 54.6875 \nL 18.109375 46.1875 \nQ 21.1875 51.21875 25.484375 53.609375 \nQ 29.78125 56 35.6875 56 \nQ 41.65625 56 45.828125 52.96875 \nQ 50 49.953125 52 44.1875 \nz\n\" id=\"DejaVuSans-109\"/>\n      <path d=\"M 54.890625 33.015625 \nL 54.890625 0 \nL 45.90625 0 \nL 45.90625 32.71875 \nQ 45.90625 40.484375 42.875 44.328125 \nQ 39.84375 48.1875 33.796875 48.1875 \nQ 26.515625 48.1875 22.3125 43.546875 \nQ 18.109375 38.921875 18.109375 30.90625 \nL 18.109375 0 \nL 9.078125 0 \nL 9.078125 54.6875 \nL 18.109375 54.6875 \nL 18.109375 46.1875 \nQ 21.34375 51.125 25.703125 53.5625 \nQ 30.078125 56 35.796875 56 \nQ 45.21875 56 50.046875 50.171875 \nQ 54.890625 44.34375 54.890625 33.015625 \nz\n\" id=\"DejaVuSans-110\"/>\n      <path d=\"M 44.28125 53.078125 \nL 44.28125 44.578125 \nQ 40.484375 46.53125 36.375 47.5 \nQ 32.28125 48.484375 27.875 48.484375 \nQ 21.1875 48.484375 17.84375 46.4375 \nQ 14.5 44.390625 14.5 40.28125 \nQ 14.5 37.15625 16.890625 35.375 \nQ 19.28125 33.59375 26.515625 31.984375 \nL 29.59375 31.296875 \nQ 39.15625 29.25 43.1875 25.515625 \nQ 47.21875 21.78125 47.21875 15.09375 \nQ 47.21875 7.46875 41.1875 3.015625 \nQ 35.15625 -1.421875 24.609375 -1.421875 \nQ 20.21875 -1.421875 15.453125 -0.5625 \nQ 10.6875 0.296875 5.421875 2 \nL 5.421875 11.28125 \nQ 10.40625 8.6875 15.234375 7.390625 \nQ 20.0625 6.109375 24.8125 6.109375 \nQ 31.15625 6.109375 34.5625 8.28125 \nQ 37.984375 10.453125 37.984375 14.40625 \nQ 37.984375 18.0625 35.515625 20.015625 \nQ 33.0625 21.96875 24.703125 23.78125 \nL 21.578125 24.515625 \nQ 13.234375 26.265625 9.515625 29.90625 \nQ 5.8125 33.546875 5.8125 39.890625 \nQ 5.8125 47.609375 11.28125 51.796875 \nQ 16.75 56 26.8125 56 \nQ 31.78125 56 36.171875 55.265625 \nQ 40.578125 54.546875 44.28125 53.078125 \nz\n\" id=\"DejaVuSans-115\"/>\n      <path d=\"M 30.609375 48.390625 \nQ 23.390625 48.390625 19.1875 42.75 \nQ 14.984375 37.109375 14.984375 27.296875 \nQ 14.984375 17.484375 19.15625 11.84375 \nQ 23.34375 6.203125 30.609375 6.203125 \nQ 37.796875 6.203125 41.984375 11.859375 \nQ 46.1875 17.53125 46.1875 27.296875 \nQ 46.1875 37.015625 41.984375 42.703125 \nQ 37.796875 48.390625 30.609375 48.390625 \nz\nM 30.609375 56 \nQ 42.328125 56 49.015625 48.375 \nQ 55.71875 40.765625 55.71875 27.296875 \nQ 55.71875 13.875 49.015625 6.21875 \nQ 42.328125 -1.421875 30.609375 -1.421875 \nQ 18.84375 -1.421875 12.171875 6.21875 \nQ 5.515625 13.875 5.515625 27.296875 \nQ 5.515625 40.765625 12.171875 48.375 \nQ 18.84375 56 30.609375 56 \nz\n\" id=\"DejaVuSans-111\"/>\n      <path d=\"M 12.40625 8.296875 \nL 28.515625 8.296875 \nL 28.515625 63.921875 \nL 10.984375 60.40625 \nL 10.984375 69.390625 \nL 28.421875 72.90625 \nL 38.28125 72.90625 \nL 38.28125 8.296875 \nL 54.390625 8.296875 \nL 54.390625 0 \nL 12.40625 0 \nz\n\" id=\"DejaVuSans-49\"/>\n     </defs>\n     <g transform=\"translate(132.545313 322.394687)scale(0.1 -0.1)\">\n      <use xlink:href=\"#DejaVuSans-113\"/>\n      <use x=\"63.476562\" xlink:href=\"#DejaVuSans-119\"/>\n      <use x=\"145.263672\" xlink:href=\"#DejaVuSans-101\"/>\n      <use x=\"206.787109\" xlink:href=\"#DejaVuSans-114\"/>\n      <use x=\"247.900391\" xlink:href=\"#DejaVuSans-116\"/>\n      <use x=\"287.109375\" xlink:href=\"#DejaVuSans-121\"/>\n      <use x=\"346.289062\" xlink:href=\"#DejaVuSans-32\"/>\n      <use x=\"378.076172\" xlink:href=\"#DejaVuSans-100\"/>\n      <use x=\"441.552734\" xlink:href=\"#DejaVuSans-105\"/>\n      <use x=\"469.335938\" xlink:href=\"#DejaVuSans-109\"/>\n      <use x=\"566.748047\" xlink:href=\"#DejaVuSans-101\"/>\n      <use x=\"628.271484\" xlink:href=\"#DejaVuSans-110\"/>\n      <use x=\"691.650391\" xlink:href=\"#DejaVuSans-115\"/>\n      <use x=\"743.75\" xlink:href=\"#DejaVuSans-105\"/>\n      <use x=\"771.533203\" xlink:href=\"#DejaVuSans-111\"/>\n      <use x=\"832.714844\" xlink:href=\"#DejaVuSans-110\"/>\n      <use x=\"896.09375\" xlink:href=\"#DejaVuSans-32\"/>\n      <use x=\"927.880859\" xlink:href=\"#DejaVuSans-49\"/>\n     </g>\n    </g>\n   </g>\n   <g id=\"matplotlib.axis_2\">\n    <g id=\"ytick_1\">\n     <g id=\"line2d_5\">\n      <defs>\n       <path d=\"M 0 0 \nL -3.5 0 \n\" id=\"m7b24c19fff\" style=\"stroke:#000000;stroke-width:0.8;\"/>\n      </defs>\n      <g>\n       <use style=\"stroke:#000000;stroke-width:0.8;\" x=\"42.620313\" xlink:href=\"#m7b24c19fff\" y=\"274.090944\"/>\n      </g>\n     </g>\n     <g id=\"text_6\">\n      <!-- −1 -->\n      <defs>\n       <path d=\"M 10.59375 35.5 \nL 73.1875 35.5 \nL 73.1875 27.203125 \nL 10.59375 27.203125 \nz\n\" id=\"DejaVuSans-8722\"/>\n      </defs>\n      <g transform=\"translate(20.878125 277.890162)scale(0.1 -0.1)\">\n       <use xlink:href=\"#DejaVuSans-8722\"/>\n       <use x=\"83.789062\" xlink:href=\"#DejaVuSans-49\"/>\n      </g>\n     </g>\n    </g>\n    <g id=\"ytick_2\">\n     <g id=\"line2d_6\">\n      <g>\n       <use style=\"stroke:#000000;stroke-width:0.8;\" x=\"42.620313\" xlink:href=\"#m7b24c19fff\" y=\"240.9853\"/>\n      </g>\n     </g>\n     <g id=\"text_7\">\n      <!-- 0 -->\n      <g transform=\"translate(29.257813 244.784519)scale(0.1 -0.1)\">\n       <use xlink:href=\"#DejaVuSans-48\"/>\n      </g>\n     </g>\n    </g>\n    <g id=\"ytick_3\">\n     <g id=\"line2d_7\">\n      <g>\n       <use style=\"stroke:#000000;stroke-width:0.8;\" x=\"42.620313\" xlink:href=\"#m7b24c19fff\" y=\"207.879657\"/>\n      </g>\n     </g>\n     <g id=\"text_8\">\n      <!-- 1 -->\n      <g transform=\"translate(29.257813 211.678875)scale(0.1 -0.1)\">\n       <use xlink:href=\"#DejaVuSans-49\"/>\n      </g>\n     </g>\n    </g>\n    <g id=\"ytick_4\">\n     <g id=\"line2d_8\">\n      <g>\n       <use style=\"stroke:#000000;stroke-width:0.8;\" x=\"42.620313\" xlink:href=\"#m7b24c19fff\" y=\"174.774013\"/>\n      </g>\n     </g>\n     <g id=\"text_9\">\n      <!-- 2 -->\n      <g transform=\"translate(29.257813 178.573232)scale(0.1 -0.1)\">\n       <use xlink:href=\"#DejaVuSans-50\"/>\n      </g>\n     </g>\n    </g>\n    <g id=\"ytick_5\">\n     <g id=\"line2d_9\">\n      <g>\n       <use style=\"stroke:#000000;stroke-width:0.8;\" x=\"42.620313\" xlink:href=\"#m7b24c19fff\" y=\"141.66837\"/>\n      </g>\n     </g>\n     <g id=\"text_10\">\n      <!-- 3 -->\n      <defs>\n       <path d=\"M 40.578125 39.3125 \nQ 47.65625 37.796875 51.625 33 \nQ 55.609375 28.21875 55.609375 21.1875 \nQ 55.609375 10.40625 48.1875 4.484375 \nQ 40.765625 -1.421875 27.09375 -1.421875 \nQ 22.515625 -1.421875 17.65625 -0.515625 \nQ 12.796875 0.390625 7.625 2.203125 \nL 7.625 11.71875 \nQ 11.71875 9.328125 16.59375 8.109375 \nQ 21.484375 6.890625 26.8125 6.890625 \nQ 36.078125 6.890625 40.9375 10.546875 \nQ 45.796875 14.203125 45.796875 21.1875 \nQ 45.796875 27.640625 41.28125 31.265625 \nQ 36.765625 34.90625 28.71875 34.90625 \nL 20.21875 34.90625 \nL 20.21875 43.015625 \nL 29.109375 43.015625 \nQ 36.375 43.015625 40.234375 45.921875 \nQ 44.09375 48.828125 44.09375 54.296875 \nQ 44.09375 59.90625 40.109375 62.90625 \nQ 36.140625 65.921875 28.71875 65.921875 \nQ 24.65625 65.921875 20.015625 65.03125 \nQ 15.375 64.15625 9.8125 62.3125 \nL 9.8125 71.09375 \nQ 15.4375 72.65625 20.34375 73.4375 \nQ 25.25 74.21875 29.59375 74.21875 \nQ 40.828125 74.21875 47.359375 69.109375 \nQ 53.90625 64.015625 53.90625 55.328125 \nQ 53.90625 49.265625 50.4375 45.09375 \nQ 46.96875 40.921875 40.578125 39.3125 \nz\n\" id=\"DejaVuSans-51\"/>\n      </defs>\n      <g transform=\"translate(29.257813 145.467588)scale(0.1 -0.1)\">\n       <use xlink:href=\"#DejaVuSans-51\"/>\n      </g>\n     </g>\n    </g>\n    <g id=\"ytick_6\">\n     <g id=\"line2d_10\">\n      <g>\n       <use style=\"stroke:#000000;stroke-width:0.8;\" x=\"42.620313\" xlink:href=\"#m7b24c19fff\" y=\"108.562726\"/>\n      </g>\n     </g>\n     <g id=\"text_11\">\n      <!-- 4 -->\n      <g transform=\"translate(29.257813 112.361945)scale(0.1 -0.1)\">\n       <use xlink:href=\"#DejaVuSans-52\"/>\n      </g>\n     </g>\n    </g>\n    <g id=\"ytick_7\">\n     <g id=\"line2d_11\">\n      <g>\n       <use style=\"stroke:#000000;stroke-width:0.8;\" x=\"42.620313\" xlink:href=\"#m7b24c19fff\" y=\"75.457083\"/>\n      </g>\n     </g>\n     <g id=\"text_12\">\n      <!-- 5 -->\n      <defs>\n       <path d=\"M 10.796875 72.90625 \nL 49.515625 72.90625 \nL 49.515625 64.59375 \nL 19.828125 64.59375 \nL 19.828125 46.734375 \nQ 21.96875 47.46875 24.109375 47.828125 \nQ 26.265625 48.1875 28.421875 48.1875 \nQ 40.625 48.1875 47.75 41.5 \nQ 54.890625 34.8125 54.890625 23.390625 \nQ 54.890625 11.625 47.5625 5.09375 \nQ 40.234375 -1.421875 26.90625 -1.421875 \nQ 22.3125 -1.421875 17.546875 -0.640625 \nQ 12.796875 0.140625 7.71875 1.703125 \nL 7.71875 11.625 \nQ 12.109375 9.234375 16.796875 8.0625 \nQ 21.484375 6.890625 26.703125 6.890625 \nQ 35.15625 6.890625 40.078125 11.328125 \nQ 45.015625 15.765625 45.015625 23.390625 \nQ 45.015625 31 40.078125 35.4375 \nQ 35.15625 39.890625 26.703125 39.890625 \nQ 22.75 39.890625 18.8125 39.015625 \nQ 14.890625 38.140625 10.796875 36.28125 \nz\n\" id=\"DejaVuSans-53\"/>\n      </defs>\n      <g transform=\"translate(29.257813 79.256301)scale(0.1 -0.1)\">\n       <use xlink:href=\"#DejaVuSans-53\"/>\n      </g>\n     </g>\n    </g>\n    <g id=\"ytick_8\">\n     <g id=\"line2d_12\">\n      <g>\n       <use style=\"stroke:#000000;stroke-width:0.8;\" x=\"42.620313\" xlink:href=\"#m7b24c19fff\" y=\"42.351439\"/>\n      </g>\n     </g>\n     <g id=\"text_13\">\n      <!-- 6 -->\n      <g transform=\"translate(29.257813 46.150658)scale(0.1 -0.1)\">\n       <use xlink:href=\"#DejaVuSans-54\"/>\n      </g>\n     </g>\n    </g>\n    <g id=\"text_14\">\n     <!-- qwerty dimension 2 -->\n     <g transform=\"translate(14.798438 207.793125)rotate(-90)scale(0.1 -0.1)\">\n      <use xlink:href=\"#DejaVuSans-113\"/>\n      <use x=\"63.476562\" xlink:href=\"#DejaVuSans-119\"/>\n      <use x=\"145.263672\" xlink:href=\"#DejaVuSans-101\"/>\n      <use x=\"206.787109\" xlink:href=\"#DejaVuSans-114\"/>\n      <use x=\"247.900391\" xlink:href=\"#DejaVuSans-116\"/>\n      <use x=\"287.109375\" xlink:href=\"#DejaVuSans-121\"/>\n      <use x=\"346.289062\" xlink:href=\"#DejaVuSans-32\"/>\n      <use x=\"378.076172\" xlink:href=\"#DejaVuSans-100\"/>\n      <use x=\"441.552734\" xlink:href=\"#DejaVuSans-105\"/>\n      <use x=\"469.335938\" xlink:href=\"#DejaVuSans-109\"/>\n      <use x=\"566.748047\" xlink:href=\"#DejaVuSans-101\"/>\n      <use x=\"628.271484\" xlink:href=\"#DejaVuSans-110\"/>\n      <use x=\"691.650391\" xlink:href=\"#DejaVuSans-115\"/>\n      <use x=\"743.75\" xlink:href=\"#DejaVuSans-105\"/>\n      <use x=\"771.533203\" xlink:href=\"#DejaVuSans-111\"/>\n      <use x=\"832.714844\" xlink:href=\"#DejaVuSans-110\"/>\n      <use x=\"896.09375\" xlink:href=\"#DejaVuSans-32\"/>\n      <use x=\"927.880859\" xlink:href=\"#DejaVuSans-50\"/>\n     </g>\n    </g>\n   </g>\n   <g id=\"line2d_13\">\n    <defs>\n     <path d=\"M -3 3 \nL 3 3 \nL 3 -3 \nL -3 -3 \nz\n\" id=\"m52f8e8d050\" style=\"stroke:#0000ff;stroke-linejoin:miter;stroke-opacity:0.5;\"/>\n    </defs>\n    <g clip-path=\"url(#p5a66afa53f)\">\n     <use style=\"fill:#0000ff;fill-opacity:0.5;stroke:#0000ff;stroke-linejoin:miter;stroke-opacity:0.5;\" x=\"187.176963\" xlink:href=\"#m52f8e8d050\" y=\"184.662625\"/>\n     <use style=\"fill:#0000ff;fill-opacity:0.5;stroke:#0000ff;stroke-linejoin:miter;stroke-opacity:0.5;\" x=\"127.826787\" xlink:href=\"#m52f8e8d050\" y=\"192.834319\"/>\n     <use style=\"fill:#0000ff;fill-opacity:0.5;stroke:#0000ff;stroke-linejoin:miter;stroke-opacity:0.5;\" x=\"141.992182\" xlink:href=\"#m52f8e8d050\" y=\"153.907367\"/>\n     <use style=\"fill:#0000ff;fill-opacity:0.5;stroke:#0000ff;stroke-linejoin:miter;stroke-opacity:0.5;\" x=\"88.033492\" xlink:href=\"#m52f8e8d050\" y=\"158.567963\"/>\n     <use style=\"fill:#0000ff;fill-opacity:0.5;stroke:#0000ff;stroke-linejoin:miter;stroke-opacity:0.5;\" x=\"123.310941\" xlink:href=\"#m52f8e8d050\" y=\"184.32038\"/>\n     <use style=\"fill:#0000ff;fill-opacity:0.5;stroke:#0000ff;stroke-linejoin:miter;stroke-opacity:0.5;\" x=\"162.827447\" xlink:href=\"#m52f8e8d050\" y=\"253.807239\"/>\n     <use style=\"fill:#0000ff;fill-opacity:0.5;stroke:#0000ff;stroke-linejoin:miter;stroke-opacity:0.5;\" x=\"104.439097\" xlink:href=\"#m52f8e8d050\" y=\"165.289223\"/>\n     <use style=\"fill:#0000ff;fill-opacity:0.5;stroke:#0000ff;stroke-linejoin:miter;stroke-opacity:0.5;\" x=\"119.862914\" xlink:href=\"#m52f8e8d050\" y=\"183.159908\"/>\n     <use style=\"fill:#0000ff;fill-opacity:0.5;stroke:#0000ff;stroke-linejoin:miter;stroke-opacity:0.5;\" x=\"105.210577\" xlink:href=\"#m52f8e8d050\" y=\"161.855492\"/>\n     <use style=\"fill:#0000ff;fill-opacity:0.5;stroke:#0000ff;stroke-linejoin:miter;stroke-opacity:0.5;\" x=\"158.219362\" xlink:href=\"#m52f8e8d050\" y=\"163.812782\"/>\n     <use style=\"fill:#0000ff;fill-opacity:0.5;stroke:#0000ff;stroke-linejoin:miter;stroke-opacity:0.5;\" x=\"92.821507\" xlink:href=\"#m52f8e8d050\" y=\"255.282564\"/>\n     <use style=\"fill:#0000ff;fill-opacity:0.5;stroke:#0000ff;stroke-linejoin:miter;stroke-opacity:0.5;\" x=\"55.302131\" xlink:href=\"#m52f8e8d050\" y=\"212.186017\"/>\n     <use style=\"fill:#0000ff;fill-opacity:0.5;stroke:#0000ff;stroke-linejoin:miter;stroke-opacity:0.5;\" x=\"55.823734\" xlink:href=\"#m52f8e8d050\" y=\"193.422644\"/>\n     <use style=\"fill:#0000ff;fill-opacity:0.5;stroke:#0000ff;stroke-linejoin:miter;stroke-opacity:0.5;\" x=\"154.266805\" xlink:href=\"#m52f8e8d050\" y=\"247.774974\"/>\n     <use style=\"fill:#0000ff;fill-opacity:0.5;stroke:#0000ff;stroke-linejoin:miter;stroke-opacity:0.5;\" x=\"177.592357\" xlink:href=\"#m52f8e8d050\" y=\"225.981685\"/>\n     <use style=\"fill:#0000ff;fill-opacity:0.5;stroke:#0000ff;stroke-linejoin:miter;stroke-opacity:0.5;\" x=\"138.814451\" xlink:href=\"#m52f8e8d050\" y=\"244.74587\"/>\n     <use style=\"fill:#0000ff;fill-opacity:0.5;stroke:#0000ff;stroke-linejoin:miter;stroke-opacity:0.5;\" x=\"119.702385\" xlink:href=\"#m52f8e8d050\" y=\"281.76358\"/>\n     <use style=\"fill:#0000ff;fill-opacity:0.5;stroke:#0000ff;stroke-linejoin:miter;stroke-opacity:0.5;\" x=\"189.217645\" xlink:href=\"#m52f8e8d050\" y=\"234.76305\"/>\n     <use style=\"fill:#0000ff;fill-opacity:0.5;stroke:#0000ff;stroke-linejoin:miter;stroke-opacity:0.5;\" x=\"140.944303\" xlink:href=\"#m52f8e8d050\" y=\"239.284019\"/>\n     <use style=\"fill:#0000ff;fill-opacity:0.5;stroke:#0000ff;stroke-linejoin:miter;stroke-opacity:0.5;\" x=\"112.119718\" xlink:href=\"#m52f8e8d050\" y=\"203.219902\"/>\n     <use style=\"fill:#0000ff;fill-opacity:0.5;stroke:#0000ff;stroke-linejoin:miter;stroke-opacity:0.5;\" x=\"139.827056\" xlink:href=\"#m52f8e8d050\" y=\"200.657032\"/>\n     <use style=\"fill:#0000ff;fill-opacity:0.5;stroke:#0000ff;stroke-linejoin:miter;stroke-opacity:0.5;\" x=\"88.049747\" xlink:href=\"#m52f8e8d050\" y=\"223.74415\"/>\n     <use style=\"fill:#0000ff;fill-opacity:0.5;stroke:#0000ff;stroke-linejoin:miter;stroke-opacity:0.5;\" x=\"166.225791\" xlink:href=\"#m52f8e8d050\" y=\"161.955417\"/>\n     <use style=\"fill:#0000ff;fill-opacity:0.5;stroke:#0000ff;stroke-linejoin:miter;stroke-opacity:0.5;\" x=\"169.820869\" xlink:href=\"#m52f8e8d050\" y=\"190.317004\"/>\n     <use style=\"fill:#0000ff;fill-opacity:0.5;stroke:#0000ff;stroke-linejoin:miter;stroke-opacity:0.5;\" x=\"127.49579\" xlink:href=\"#m52f8e8d050\" y=\"227.790644\"/>\n     <use style=\"fill:#0000ff;fill-opacity:0.5;stroke:#0000ff;stroke-linejoin:miter;stroke-opacity:0.5;\" x=\"153.926648\" xlink:href=\"#m52f8e8d050\" y=\"219.277414\"/>\n     <use style=\"fill:#0000ff;fill-opacity:0.5;stroke:#0000ff;stroke-linejoin:miter;stroke-opacity:0.5;\" x=\"137.004766\" xlink:href=\"#m52f8e8d050\" y=\"248.868195\"/>\n     <use style=\"fill:#0000ff;fill-opacity:0.5;stroke:#0000ff;stroke-linejoin:miter;stroke-opacity:0.5;\" x=\"135.805339\" xlink:href=\"#m52f8e8d050\" y=\"213.333767\"/>\n     <use style=\"fill:#0000ff;fill-opacity:0.5;stroke:#0000ff;stroke-linejoin:miter;stroke-opacity:0.5;\" x=\"109.897205\" xlink:href=\"#m52f8e8d050\" y=\"168.054599\"/>\n     <use style=\"fill:#0000ff;fill-opacity:0.5;stroke:#0000ff;stroke-linejoin:miter;stroke-opacity:0.5;\" x=\"165.369616\" xlink:href=\"#m52f8e8d050\" y=\"197.107025\"/>\n     <use style=\"fill:#0000ff;fill-opacity:0.5;stroke:#0000ff;stroke-linejoin:miter;stroke-opacity:0.5;\" x=\"141.717716\" xlink:href=\"#m52f8e8d050\" y=\"234.732775\"/>\n     <use style=\"fill:#0000ff;fill-opacity:0.5;stroke:#0000ff;stroke-linejoin:miter;stroke-opacity:0.5;\" x=\"121.73852\" xlink:href=\"#m52f8e8d050\" y=\"216.783983\"/>\n     <use style=\"fill:#0000ff;fill-opacity:0.5;stroke:#0000ff;stroke-linejoin:miter;stroke-opacity:0.5;\" x=\"126.972305\" xlink:href=\"#m52f8e8d050\" y=\"205.164666\"/>\n     <use style=\"fill:#0000ff;fill-opacity:0.5;stroke:#0000ff;stroke-linejoin:miter;stroke-opacity:0.5;\" x=\"68.299841\" xlink:href=\"#m52f8e8d050\" y=\"192.581893\"/>\n     <use style=\"fill:#0000ff;fill-opacity:0.5;stroke:#0000ff;stroke-linejoin:miter;stroke-opacity:0.5;\" x=\"157.392554\" xlink:href=\"#m52f8e8d050\" y=\"240.765198\"/>\n     <use style=\"fill:#0000ff;fill-opacity:0.5;stroke:#0000ff;stroke-linejoin:miter;stroke-opacity:0.5;\" x=\"165.802473\" xlink:href=\"#m52f8e8d050\" y=\"222.370337\"/>\n     <use style=\"fill:#0000ff;fill-opacity:0.5;stroke:#0000ff;stroke-linejoin:miter;stroke-opacity:0.5;\" x=\"171.696928\" xlink:href=\"#m52f8e8d050\" y=\"266.107334\"/>\n     <use style=\"fill:#0000ff;fill-opacity:0.5;stroke:#0000ff;stroke-linejoin:miter;stroke-opacity:0.5;\" x=\"72.093447\" xlink:href=\"#m52f8e8d050\" y=\"262.537785\"/>\n     <use style=\"fill:#0000ff;fill-opacity:0.5;stroke:#0000ff;stroke-linejoin:miter;stroke-opacity:0.5;\" x=\"139.871025\" xlink:href=\"#m52f8e8d050\" y=\"202.354888\"/>\n     <use style=\"fill:#0000ff;fill-opacity:0.5;stroke:#0000ff;stroke-linejoin:miter;stroke-opacity:0.5;\" x=\"117.250972\" xlink:href=\"#m52f8e8d050\" y=\"197.077079\"/>\n     <use style=\"fill:#0000ff;fill-opacity:0.5;stroke:#0000ff;stroke-linejoin:miter;stroke-opacity:0.5;\" x=\"119.835989\" xlink:href=\"#m52f8e8d050\" y=\"161.425\"/>\n     <use style=\"fill:#0000ff;fill-opacity:0.5;stroke:#0000ff;stroke-linejoin:miter;stroke-opacity:0.5;\" x=\"124.975832\" xlink:href=\"#m52f8e8d050\" y=\"212.384151\"/>\n     <use style=\"fill:#0000ff;fill-opacity:0.5;stroke:#0000ff;stroke-linejoin:miter;stroke-opacity:0.5;\" x=\"111.749777\" xlink:href=\"#m52f8e8d050\" y=\"179.085067\"/>\n     <use style=\"fill:#0000ff;fill-opacity:0.5;stroke:#0000ff;stroke-linejoin:miter;stroke-opacity:0.5;\" x=\"105.360123\" xlink:href=\"#m52f8e8d050\" y=\"199.818417\"/>\n     <use style=\"fill:#0000ff;fill-opacity:0.5;stroke:#0000ff;stroke-linejoin:miter;stroke-opacity:0.5;\" x=\"142.536692\" xlink:href=\"#m52f8e8d050\" y=\"227.633957\"/>\n     <use style=\"fill:#0000ff;fill-opacity:0.5;stroke:#0000ff;stroke-linejoin:miter;stroke-opacity:0.5;\" x=\"91.335623\" xlink:href=\"#m52f8e8d050\" y=\"217.812134\"/>\n     <use style=\"fill:#0000ff;fill-opacity:0.5;stroke:#0000ff;stroke-linejoin:miter;stroke-opacity:0.5;\" x=\"87.989774\" xlink:href=\"#m52f8e8d050\" y=\"241.79128\"/>\n     <use style=\"fill:#0000ff;fill-opacity:0.5;stroke:#0000ff;stroke-linejoin:miter;stroke-opacity:0.5;\" x=\"134.975159\" xlink:href=\"#m52f8e8d050\" y=\"161.877719\"/>\n     <use style=\"fill:#0000ff;fill-opacity:0.5;stroke:#0000ff;stroke-linejoin:miter;stroke-opacity:0.5;\" x=\"175.708403\" xlink:href=\"#m52f8e8d050\" y=\"209.629142\"/>\n     <use style=\"fill:#0000ff;fill-opacity:0.5;stroke:#0000ff;stroke-linejoin:miter;stroke-opacity:0.5;\" x=\"130.24249\" xlink:href=\"#m52f8e8d050\" y=\"210.960137\"/>\n    </g>\n   </g>\n   <g id=\"line2d_14\">\n    <defs>\n     <path d=\"M 0 3 \nC 0.795609 3 1.55874 2.683901 2.12132 2.12132 \nC 2.683901 1.55874 3 0.795609 3 0 \nC 3 -0.795609 2.683901 -1.55874 2.12132 -2.12132 \nC 1.55874 -2.683901 0.795609 -3 0 -3 \nC -0.795609 -3 -1.55874 -2.683901 -2.12132 -2.12132 \nC -2.683901 -1.55874 -3 -0.795609 -3 0 \nC -3 0.795609 -2.683901 1.55874 -2.12132 2.12132 \nC -1.55874 2.683901 -0.795609 3 0 3 \nz\n\" id=\"m1f67f0bdd2\" style=\"stroke:#000000;stroke-opacity:0.5;\"/>\n    </defs>\n    <g clip-path=\"url(#p5a66afa53f)\">\n     <use style=\"fill-opacity:0.5;stroke:#000000;stroke-opacity:0.5;\" x=\"240.381149\" xlink:href=\"#m1f67f0bdd2\" y=\"160.05322\"/>\n     <use style=\"fill-opacity:0.5;stroke:#000000;stroke-opacity:0.5;\" x=\"236.220243\" xlink:href=\"#m1f67f0bdd2\" y=\"215.667921\"/>\n     <use style=\"fill-opacity:0.5;stroke:#000000;stroke-opacity:0.5;\" x=\"226.160757\" xlink:href=\"#m1f67f0bdd2\" y=\"176.457626\"/>\n     <use style=\"fill-opacity:0.5;stroke:#000000;stroke-opacity:0.5;\" x=\"275.465468\" xlink:href=\"#m1f67f0bdd2\" y=\"180.253204\"/>\n     <use style=\"fill-opacity:0.5;stroke:#000000;stroke-opacity:0.5;\" x=\"266.798692\" xlink:href=\"#m1f67f0bdd2\" y=\"229.550519\"/>\n     <use style=\"fill-opacity:0.5;stroke:#000000;stroke-opacity:0.5;\" x=\"244.861917\" xlink:href=\"#m1f67f0bdd2\" y=\"202.511094\"/>\n     <use style=\"fill-opacity:0.5;stroke:#000000;stroke-opacity:0.5;\" x=\"308.938494\" xlink:href=\"#m1f67f0bdd2\" y=\"246.955359\"/>\n     <use style=\"fill-opacity:0.5;stroke:#000000;stroke-opacity:0.5;\" x=\"294.32903\" xlink:href=\"#m1f67f0bdd2\" y=\"221.907064\"/>\n     <use style=\"fill-opacity:0.5;stroke:#000000;stroke-opacity:0.5;\" x=\"237.172169\" xlink:href=\"#m1f67f0bdd2\" y=\"206.750859\"/>\n     <use style=\"fill-opacity:0.5;stroke:#000000;stroke-opacity:0.5;\" x=\"248.444193\" xlink:href=\"#m1f67f0bdd2\" y=\"247.537591\"/>\n     <use style=\"fill-opacity:0.5;stroke:#000000;stroke-opacity:0.5;\" x=\"262.446739\" xlink:href=\"#m1f67f0bdd2\" y=\"196.533121\"/>\n     <use style=\"fill-opacity:0.5;stroke:#000000;stroke-opacity:0.5;\" x=\"246.505129\" xlink:href=\"#m1f67f0bdd2\" y=\"215.278216\"/>\n     <use style=\"fill-opacity:0.5;stroke:#000000;stroke-opacity:0.5;\" x=\"283.950553\" xlink:href=\"#m1f67f0bdd2\" y=\"181.966257\"/>\n     <use style=\"fill-opacity:0.5;stroke:#000000;stroke-opacity:0.5;\" x=\"283.95529\" xlink:href=\"#m1f67f0bdd2\" y=\"199.473694\"/>\n     <use style=\"fill-opacity:0.5;stroke:#000000;stroke-opacity:0.5;\" x=\"190.403415\" xlink:href=\"#m1f67f0bdd2\" y=\"168.643425\"/>\n     <use style=\"fill-opacity:0.5;stroke:#000000;stroke-opacity:0.5;\" x=\"195.724604\" xlink:href=\"#m1f67f0bdd2\" y=\"232.686114\"/>\n     <use style=\"fill-opacity:0.5;stroke:#000000;stroke-opacity:0.5;\" x=\"306.082433\" xlink:href=\"#m1f67f0bdd2\" y=\"274.565941\"/>\n     <use style=\"fill-opacity:0.5;stroke:#000000;stroke-opacity:0.5;\" x=\"220.250358\" xlink:href=\"#m1f67f0bdd2\" y=\"225.689605\"/>\n     <use style=\"fill-opacity:0.5;stroke:#000000;stroke-opacity:0.5;\" x=\"243.553427\" xlink:href=\"#m1f67f0bdd2\" y=\"246.80361\"/>\n     <use style=\"fill-opacity:0.5;stroke:#000000;stroke-opacity:0.5;\" x=\"246.002529\" xlink:href=\"#m1f67f0bdd2\" y=\"242.21849\"/>\n     <use style=\"fill-opacity:0.5;stroke:#000000;stroke-opacity:0.5;\" x=\"278.902755\" xlink:href=\"#m1f67f0bdd2\" y=\"217.058474\"/>\n     <use style=\"fill-opacity:0.5;stroke:#000000;stroke-opacity:0.5;\" x=\"279.559317\" xlink:href=\"#m1f67f0bdd2\" y=\"235.683465\"/>\n     <use style=\"fill-opacity:0.5;stroke:#000000;stroke-opacity:0.5;\" x=\"244.535783\" xlink:href=\"#m1f67f0bdd2\" y=\"180.824697\"/>\n     <use style=\"fill-opacity:0.5;stroke:#000000;stroke-opacity:0.5;\" x=\"264.898778\" xlink:href=\"#m1f67f0bdd2\" y=\"243.989068\"/>\n     <use style=\"fill-opacity:0.5;stroke:#000000;stroke-opacity:0.5;\" x=\"247.756435\" xlink:href=\"#m1f67f0bdd2\" y=\"180.673534\"/>\n     <use style=\"fill-opacity:0.5;stroke:#000000;stroke-opacity:0.5;\" x=\"230.796136\" xlink:href=\"#m1f67f0bdd2\" y=\"164.319229\"/>\n     <use style=\"fill-opacity:0.5;stroke:#000000;stroke-opacity:0.5;\" x=\"232.046099\" xlink:href=\"#m1f67f0bdd2\" y=\"234.827406\"/>\n     <use style=\"fill-opacity:0.5;stroke:#000000;stroke-opacity:0.5;\" x=\"194.081266\" xlink:href=\"#m1f67f0bdd2\" y=\"240.81623\"/>\n     <use style=\"fill-opacity:0.5;stroke:#000000;stroke-opacity:0.5;\" x=\"209.203491\" xlink:href=\"#m1f67f0bdd2\" y=\"157.464521\"/>\n     <use style=\"fill-opacity:0.5;stroke:#000000;stroke-opacity:0.5;\" x=\"282.483276\" xlink:href=\"#m1f67f0bdd2\" y=\"214.335535\"/>\n     <use style=\"fill-opacity:0.5;stroke:#000000;stroke-opacity:0.5;\" x=\"245.544215\" xlink:href=\"#m1f67f0bdd2\" y=\"132.798808\"/>\n     <use style=\"fill-opacity:0.5;stroke:#000000;stroke-opacity:0.5;\" x=\"231.689108\" xlink:href=\"#m1f67f0bdd2\" y=\"225.263863\"/>\n     <use style=\"fill-opacity:0.5;stroke:#000000;stroke-opacity:0.5;\" x=\"265.576015\" xlink:href=\"#m1f67f0bdd2\" y=\"177.51421\"/>\n     <use style=\"fill-opacity:0.5;stroke:#000000;stroke-opacity:0.5;\" x=\"234.111972\" xlink:href=\"#m1f67f0bdd2\" y=\"135.704955\"/>\n     <use style=\"fill-opacity:0.5;stroke:#000000;stroke-opacity:0.5;\" x=\"267.139642\" xlink:href=\"#m1f67f0bdd2\" y=\"175.685185\"/>\n     <use style=\"fill-opacity:0.5;stroke:#000000;stroke-opacity:0.5;\" x=\"285.19054\" xlink:href=\"#m1f67f0bdd2\" y=\"243.790375\"/>\n     <use style=\"fill-opacity:0.5;stroke:#000000;stroke-opacity:0.5;\" x=\"173.390219\" xlink:href=\"#m1f67f0bdd2\" y=\"159.314301\"/>\n     <use style=\"fill-opacity:0.5;stroke:#000000;stroke-opacity:0.5;\" x=\"230.006214\" xlink:href=\"#m1f67f0bdd2\" y=\"232.145945\"/>\n     <use style=\"fill-opacity:0.5;stroke:#000000;stroke-opacity:0.5;\" x=\"272.016625\" xlink:href=\"#m1f67f0bdd2\" y=\"221.022878\"/>\n     <use style=\"fill-opacity:0.5;stroke:#000000;stroke-opacity:0.5;\" x=\"258.506999\" xlink:href=\"#m1f67f0bdd2\" y=\"219.625448\"/>\n     <use style=\"fill-opacity:0.5;stroke:#000000;stroke-opacity:0.5;\" x=\"252.936782\" xlink:href=\"#m1f67f0bdd2\" y=\"217.999146\"/>\n     <use style=\"fill-opacity:0.5;stroke:#000000;stroke-opacity:0.5;\" x=\"290.386752\" xlink:href=\"#m1f67f0bdd2\" y=\"184.228249\"/>\n     <use style=\"fill-opacity:0.5;stroke:#000000;stroke-opacity:0.5;\" x=\"271.293391\" xlink:href=\"#m1f67f0bdd2\" y=\"200.506908\"/>\n     <use style=\"fill-opacity:0.5;stroke:#000000;stroke-opacity:0.5;\" x=\"199.780365\" xlink:href=\"#m1f67f0bdd2\" y=\"262.536449\"/>\n     <use style=\"fill-opacity:0.5;stroke:#000000;stroke-opacity:0.5;\" x=\"226.65713\" xlink:href=\"#m1f67f0bdd2\" y=\"190.528932\"/>\n     <use style=\"fill-opacity:0.5;stroke:#000000;stroke-opacity:0.5;\" x=\"292.771896\" xlink:href=\"#m1f67f0bdd2\" y=\"175.899247\"/>\n     <use style=\"fill-opacity:0.5;stroke:#000000;stroke-opacity:0.5;\" x=\"260.960853\" xlink:href=\"#m1f67f0bdd2\" y=\"260.492186\"/>\n     <use style=\"fill-opacity:0.5;stroke:#000000;stroke-opacity:0.5;\" x=\"267.331766\" xlink:href=\"#m1f67f0bdd2\" y=\"215.687052\"/>\n     <use style=\"fill-opacity:0.5;stroke:#000000;stroke-opacity:0.5;\" x=\"269.553194\" xlink:href=\"#m1f67f0bdd2\" y=\"264.184832\"/>\n     <use style=\"fill-opacity:0.5;stroke:#000000;stroke-opacity:0.5;\" x=\"255.272387\" xlink:href=\"#m1f67f0bdd2\" y=\"206.777707\"/>\n    </g>\n   </g>\n   <g id=\"line2d_15\">\n    <defs>\n     <path d=\"M 0 -3 \nL -3 3 \nL 3 3 \nz\n\" id=\"m5003e09fff\" style=\"stroke:#ff0000;stroke-linejoin:miter;stroke-opacity:0.5;\"/>\n    </defs>\n    <g clip-path=\"url(#p5a66afa53f)\">\n     <use style=\"fill:#ff0000;fill-opacity:0.5;stroke:#ff0000;stroke-linejoin:miter;stroke-opacity:0.5;\" x=\"181.676938\" xlink:href=\"#m5003e09fff\" y=\"48.525881\"/>\n     <use style=\"fill:#ff0000;fill-opacity:0.5;stroke:#ff0000;stroke-linejoin:miter;stroke-opacity:0.5;\" x=\"236.023544\" xlink:href=\"#m5003e09fff\" y=\"131.422513\"/>\n     <use style=\"fill:#ff0000;fill-opacity:0.5;stroke:#ff0000;stroke-linejoin:miter;stroke-opacity:0.5;\" x=\"275.411117\" xlink:href=\"#m5003e09fff\" y=\"119.770866\"/>\n     <use style=\"fill:#ff0000;fill-opacity:0.5;stroke:#ff0000;stroke-linejoin:miter;stroke-opacity:0.5;\" x=\"144.570037\" xlink:href=\"#m5003e09fff\" y=\"165.858861\"/>\n     <use style=\"fill:#ff0000;fill-opacity:0.5;stroke:#ff0000;stroke-linejoin:miter;stroke-opacity:0.5;\" x=\"220.478017\" xlink:href=\"#m5003e09fff\" y=\"111.959439\"/>\n     <use style=\"fill:#ff0000;fill-opacity:0.5;stroke:#ff0000;stroke-linejoin:miter;stroke-opacity:0.5;\" x=\"235.72083\" xlink:href=\"#m5003e09fff\" y=\"80.996343\"/>\n     <use style=\"fill:#ff0000;fill-opacity:0.5;stroke:#ff0000;stroke-linejoin:miter;stroke-opacity:0.5;\" x=\"159.940736\" xlink:href=\"#m5003e09fff\" y=\"63.390406\"/>\n     <use style=\"fill:#ff0000;fill-opacity:0.5;stroke:#ff0000;stroke-linejoin:miter;stroke-opacity:0.5;\" x=\"233.872389\" xlink:href=\"#m5003e09fff\" y=\"65.139936\"/>\n     <use style=\"fill:#ff0000;fill-opacity:0.5;stroke:#ff0000;stroke-linejoin:miter;stroke-opacity:0.5;\" x=\"195.277063\" xlink:href=\"#m5003e09fff\" y=\"95.67685\"/>\n     <use style=\"fill:#ff0000;fill-opacity:0.5;stroke:#ff0000;stroke-linejoin:miter;stroke-opacity:0.5;\" x=\"200.990993\" xlink:href=\"#m5003e09fff\" y=\"160.549224\"/>\n     <use style=\"fill:#ff0000;fill-opacity:0.5;stroke:#ff0000;stroke-linejoin:miter;stroke-opacity:0.5;\" x=\"232.536864\" xlink:href=\"#m5003e09fff\" y=\"87.726815\"/>\n     <use style=\"fill:#ff0000;fill-opacity:0.5;stroke:#ff0000;stroke-linejoin:miter;stroke-opacity:0.5;\" x=\"226.731019\" xlink:href=\"#m5003e09fff\" y=\"74.981308\"/>\n     <use style=\"fill:#ff0000;fill-opacity:0.5;stroke:#ff0000;stroke-linejoin:miter;stroke-opacity:0.5;\" x=\"172.458605\" xlink:href=\"#m5003e09fff\" y=\"86.149494\"/>\n     <use style=\"fill:#ff0000;fill-opacity:0.5;stroke:#ff0000;stroke-linejoin:miter;stroke-opacity:0.5;\" x=\"195.985873\" xlink:href=\"#m5003e09fff\" y=\"141.783071\"/>\n     <use style=\"fill:#ff0000;fill-opacity:0.5;stroke:#ff0000;stroke-linejoin:miter;stroke-opacity:0.5;\" x=\"246.487509\" xlink:href=\"#m5003e09fff\" y=\"120.135688\"/>\n     <use style=\"fill:#ff0000;fill-opacity:0.5;stroke:#ff0000;stroke-linejoin:miter;stroke-opacity:0.5;\" x=\"171.816948\" xlink:href=\"#m5003e09fff\" y=\"120.429663\"/>\n     <use style=\"fill:#ff0000;fill-opacity:0.5;stroke:#ff0000;stroke-linejoin:miter;stroke-opacity:0.5;\" x=\"281.599321\" xlink:href=\"#m5003e09fff\" y=\"73.952361\"/>\n     <use style=\"fill:#ff0000;fill-opacity:0.5;stroke:#ff0000;stroke-linejoin:miter;stroke-opacity:0.5;\" x=\"256.715654\" xlink:href=\"#m5003e09fff\" y=\"158.475062\"/>\n     <use style=\"fill:#ff0000;fill-opacity:0.5;stroke:#ff0000;stroke-linejoin:miter;stroke-opacity:0.5;\" x=\"282.811727\" xlink:href=\"#m5003e09fff\" y=\"89.29809\"/>\n     <use style=\"fill:#ff0000;fill-opacity:0.5;stroke:#ff0000;stroke-linejoin:miter;stroke-opacity:0.5;\" x=\"186.387955\" xlink:href=\"#m5003e09fff\" y=\"71.89674\"/>\n     <use style=\"fill:#ff0000;fill-opacity:0.5;stroke:#ff0000;stroke-linejoin:miter;stroke-opacity:0.5;\" x=\"216.858758\" xlink:href=\"#m5003e09fff\" y=\"124.208792\"/>\n     <use style=\"fill:#ff0000;fill-opacity:0.5;stroke:#ff0000;stroke-linejoin:miter;stroke-opacity:0.5;\" x=\"256.348407\" xlink:href=\"#m5003e09fff\" y=\"96.147984\"/>\n     <use style=\"fill:#ff0000;fill-opacity:0.5;stroke:#ff0000;stroke-linejoin:miter;stroke-opacity:0.5;\" x=\"194.712018\" xlink:href=\"#m5003e09fff\" y=\"136.045073\"/>\n     <use style=\"fill:#ff0000;fill-opacity:0.5;stroke:#ff0000;stroke-linejoin:miter;stroke-opacity:0.5;\" x=\"188.774908\" xlink:href=\"#m5003e09fff\" y=\"164.524739\"/>\n     <use style=\"fill:#ff0000;fill-opacity:0.5;stroke:#ff0000;stroke-linejoin:miter;stroke-opacity:0.5;\" x=\"172.521862\" xlink:href=\"#m5003e09fff\" y=\"124.098622\"/>\n     <use style=\"fill:#ff0000;fill-opacity:0.5;stroke:#ff0000;stroke-linejoin:miter;stroke-opacity:0.5;\" x=\"185.392015\" xlink:href=\"#m5003e09fff\" y=\"91.65543\"/>\n     <use style=\"fill:#ff0000;fill-opacity:0.5;stroke:#ff0000;stroke-linejoin:miter;stroke-opacity:0.5;\" x=\"255.103579\" xlink:href=\"#m5003e09fff\" y=\"173.841147\"/>\n     <use style=\"fill:#ff0000;fill-opacity:0.5;stroke:#ff0000;stroke-linejoin:miter;stroke-opacity:0.5;\" x=\"235.373608\" xlink:href=\"#m5003e09fff\" y=\"133.74431\"/>\n     <use style=\"fill:#ff0000;fill-opacity:0.5;stroke:#ff0000;stroke-linejoin:miter;stroke-opacity:0.5;\" x=\"225.685222\" xlink:href=\"#m5003e09fff\" y=\"112.666352\"/>\n     <use style=\"fill:#ff0000;fill-opacity:0.5;stroke:#ff0000;stroke-linejoin:miter;stroke-opacity:0.5;\" x=\"195.699082\" xlink:href=\"#m5003e09fff\" y=\"57.53964\"/>\n     <use style=\"fill:#ff0000;fill-opacity:0.5;stroke:#ff0000;stroke-linejoin:miter;stroke-opacity:0.5;\" x=\"219.531683\" xlink:href=\"#m5003e09fff\" y=\"78.420415\"/>\n     <use style=\"fill:#ff0000;fill-opacity:0.5;stroke:#ff0000;stroke-linejoin:miter;stroke-opacity:0.5;\" x=\"206.757311\" xlink:href=\"#m5003e09fff\" y=\"56.536929\"/>\n     <use style=\"fill:#ff0000;fill-opacity:0.5;stroke:#ff0000;stroke-linejoin:miter;stroke-opacity:0.5;\" x=\"258.610845\" xlink:href=\"#m5003e09fff\" y=\"104.340113\"/>\n     <use style=\"fill:#ff0000;fill-opacity:0.5;stroke:#ff0000;stroke-linejoin:miter;stroke-opacity:0.5;\" x=\"259.874134\" xlink:href=\"#m5003e09fff\" y=\"87.55931\"/>\n     <use style=\"fill:#ff0000;fill-opacity:0.5;stroke:#ff0000;stroke-linejoin:miter;stroke-opacity:0.5;\" x=\"163.620425\" xlink:href=\"#m5003e09fff\" y=\"189.70858\"/>\n     <use style=\"fill:#ff0000;fill-opacity:0.5;stroke:#ff0000;stroke-linejoin:miter;stroke-opacity:0.5;\" x=\"207.008574\" xlink:href=\"#m5003e09fff\" y=\"141.119206\"/>\n     <use style=\"fill:#ff0000;fill-opacity:0.5;stroke:#ff0000;stroke-linejoin:miter;stroke-opacity:0.5;\" x=\"247.103548\" xlink:href=\"#m5003e09fff\" y=\"143.757347\"/>\n     <use style=\"fill:#ff0000;fill-opacity:0.5;stroke:#ff0000;stroke-linejoin:miter;stroke-opacity:0.5;\" x=\"178.747844\" xlink:href=\"#m5003e09fff\" y=\"34.67267\"/>\n     <use style=\"fill:#ff0000;fill-opacity:0.5;stroke:#ff0000;stroke-linejoin:miter;stroke-opacity:0.5;\" x=\"164.508999\" xlink:href=\"#m5003e09fff\" y=\"138.357098\"/>\n     <use style=\"fill:#ff0000;fill-opacity:0.5;stroke:#ff0000;stroke-linejoin:miter;stroke-opacity:0.5;\" x=\"220.065509\" xlink:href=\"#m5003e09fff\" y=\"128.909611\"/>\n     <use style=\"fill:#ff0000;fill-opacity:0.5;stroke:#ff0000;stroke-linejoin:miter;stroke-opacity:0.5;\" x=\"230.622002\" xlink:href=\"#m5003e09fff\" y=\"63.527807\"/>\n     <use style=\"fill:#ff0000;fill-opacity:0.5;stroke:#ff0000;stroke-linejoin:miter;stroke-opacity:0.5;\" x=\"202.052522\" xlink:href=\"#m5003e09fff\" y=\"129.684245\"/>\n     <use style=\"fill:#ff0000;fill-opacity:0.5;stroke:#ff0000;stroke-linejoin:miter;stroke-opacity:0.5;\" x=\"212.370752\" xlink:href=\"#m5003e09fff\" y=\"129.290448\"/>\n     <use style=\"fill:#ff0000;fill-opacity:0.5;stroke:#ff0000;stroke-linejoin:miter;stroke-opacity:0.5;\" x=\"199.448484\" xlink:href=\"#m5003e09fff\" y=\"74.507618\"/>\n     <use style=\"fill:#ff0000;fill-opacity:0.5;stroke:#ff0000;stroke-linejoin:miter;stroke-opacity:0.5;\" x=\"222.459257\" xlink:href=\"#m5003e09fff\" y=\"128.284872\"/>\n     <use style=\"fill:#ff0000;fill-opacity:0.5;stroke:#ff0000;stroke-linejoin:miter;stroke-opacity:0.5;\" x=\"237.884573\" xlink:href=\"#m5003e09fff\" y=\"113.557267\"/>\n     <use style=\"fill:#ff0000;fill-opacity:0.5;stroke:#ff0000;stroke-linejoin:miter;stroke-opacity:0.5;\" x=\"249.312403\" xlink:href=\"#m5003e09fff\" y=\"152.711427\"/>\n     <use style=\"fill:#ff0000;fill-opacity:0.5;stroke:#ff0000;stroke-linejoin:miter;stroke-opacity:0.5;\" x=\"201.330519\" xlink:href=\"#m5003e09fff\" y=\"64.483555\"/>\n     <use style=\"fill:#ff0000;fill-opacity:0.5;stroke:#ff0000;stroke-linejoin:miter;stroke-opacity:0.5;\" x=\"160.578696\" xlink:href=\"#m5003e09fff\" y=\"132.960654\"/>\n     <use style=\"fill:#ff0000;fill-opacity:0.5;stroke:#ff0000;stroke-linejoin:miter;stroke-opacity:0.5;\" x=\"200.266902\" xlink:href=\"#m5003e09fff\" y=\"77.709287\"/>\n    </g>\n   </g>\n   <g id=\"patch_3\">\n    <path d=\"M 42.620313 294.118125 \nL 42.620313 22.318125 \n\" style=\"fill:none;stroke:#000000;stroke-linecap:square;stroke-linejoin:miter;stroke-width:0.8;\"/>\n   </g>\n   <g id=\"patch_4\">\n    <path d=\"M 321.620313 294.118125 \nL 321.620313 22.318125 \n\" style=\"fill:none;stroke:#000000;stroke-linecap:square;stroke-linejoin:miter;stroke-width:0.8;\"/>\n   </g>\n   <g id=\"patch_5\">\n    <path d=\"M 42.620313 294.118125 \nL 321.620313 294.118125 \n\" style=\"fill:none;stroke:#000000;stroke-linecap:square;stroke-linejoin:miter;stroke-width:0.8;\"/>\n   </g>\n   <g id=\"patch_6\">\n    <path d=\"M 42.620313 22.318125 \nL 321.620313 22.318125 \n\" style=\"fill:none;stroke:#000000;stroke-linecap:square;stroke-linejoin:miter;stroke-width:0.8;\"/>\n   </g>\n   <g id=\"text_15\">\n    <!-- The qwerties! -->\n    <defs>\n     <path d=\"M -0.296875 72.90625 \nL 61.375 72.90625 \nL 61.375 64.59375 \nL 35.5 64.59375 \nL 35.5 0 \nL 25.59375 0 \nL 25.59375 64.59375 \nL -0.296875 64.59375 \nz\n\" id=\"DejaVuSans-84\"/>\n     <path d=\"M 54.890625 33.015625 \nL 54.890625 0 \nL 45.90625 0 \nL 45.90625 32.71875 \nQ 45.90625 40.484375 42.875 44.328125 \nQ 39.84375 48.1875 33.796875 48.1875 \nQ 26.515625 48.1875 22.3125 43.546875 \nQ 18.109375 38.921875 18.109375 30.90625 \nL 18.109375 0 \nL 9.078125 0 \nL 9.078125 75.984375 \nL 18.109375 75.984375 \nL 18.109375 46.1875 \nQ 21.34375 51.125 25.703125 53.5625 \nQ 30.078125 56 35.796875 56 \nQ 45.21875 56 50.046875 50.171875 \nQ 54.890625 44.34375 54.890625 33.015625 \nz\n\" id=\"DejaVuSans-104\"/>\n     <path d=\"M 15.09375 12.40625 \nL 25 12.40625 \nL 25 0 \nL 15.09375 0 \nz\nM 15.09375 72.90625 \nL 25 72.90625 \nL 25 40.921875 \nL 24.03125 23.484375 \nL 16.109375 23.484375 \nL 15.09375 40.921875 \nz\n\" id=\"DejaVuSans-33\"/>\n    </defs>\n    <g transform=\"translate(140.937813 16.318125)scale(0.12 -0.12)\">\n     <use xlink:href=\"#DejaVuSans-84\"/>\n     <use x=\"61.083984\" xlink:href=\"#DejaVuSans-104\"/>\n     <use x=\"124.462891\" xlink:href=\"#DejaVuSans-101\"/>\n     <use x=\"185.986328\" xlink:href=\"#DejaVuSans-32\"/>\n     <use x=\"217.773438\" xlink:href=\"#DejaVuSans-113\"/>\n     <use x=\"281.25\" xlink:href=\"#DejaVuSans-119\"/>\n     <use x=\"363.037109\" xlink:href=\"#DejaVuSans-101\"/>\n     <use x=\"424.560547\" xlink:href=\"#DejaVuSans-114\"/>\n     <use x=\"465.673828\" xlink:href=\"#DejaVuSans-116\"/>\n     <use x=\"504.882812\" xlink:href=\"#DejaVuSans-105\"/>\n     <use x=\"532.666016\" xlink:href=\"#DejaVuSans-101\"/>\n     <use x=\"594.189453\" xlink:href=\"#DejaVuSans-115\"/>\n     <use x=\"646.289062\" xlink:href=\"#DejaVuSans-33\"/>\n    </g>\n   </g>\n  </g>\n </g>\n <defs>\n  <clipPath id=\"p5a66afa53f\">\n   <rect height=\"271.8\" width=\"279\" x=\"42.620313\" y=\"22.318125\"/>\n  </clipPath>\n </defs>\n</svg>\n"
          },
          "metadata": {
            "needs_background": "light"
          }
        }
      ]
    },
    {
      "cell_type": "code",
      "source": [
        ""
      ],
      "metadata": {
        "id": "dVmmhGQdBbce"
      },
      "execution_count": null,
      "outputs": []
    }
  ]
}