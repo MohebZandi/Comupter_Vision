{
  "nbformat": 4,
  "nbformat_minor": 0,
  "metadata": {
    "colab": {
      "name": "CIFAR10_02_GPU.ipynb",
      "provenance": [],
      "collapsed_sections": [
        "kxR6MH19QaVX"
      ],
      "authorship_tag": "ABX9TyNbiuNAjceH6qQweHwN1XPE",
      "include_colab_link": true
    },
    "kernelspec": {
      "name": "python3",
      "display_name": "Python 3"
    },
    "language_info": {
      "name": "python"
    },
    "widgets": {
      "application/vnd.jupyter.widget-state+json": {
        "b4cf783a2fbf45dc9c0b2cdaa1d2d9da": {
          "model_module": "@jupyter-widgets/controls",
          "model_name": "HBoxModel",
          "model_module_version": "1.5.0",
          "state": {
            "_view_name": "HBoxView",
            "_dom_classes": [],
            "_model_name": "HBoxModel",
            "_view_module": "@jupyter-widgets/controls",
            "_model_module_version": "1.5.0",
            "_view_count": null,
            "_view_module_version": "1.5.0",
            "box_style": "",
            "layout": "IPY_MODEL_168c03f460a945798116ecdc0e6f117e",
            "_model_module": "@jupyter-widgets/controls",
            "children": [
              "IPY_MODEL_bad25477669b4f4b8c85a2ce7544a43c",
              "IPY_MODEL_2e8797b80a3848c59154e6f9850f2dd8",
              "IPY_MODEL_dbc517a83e784d8aa38a2f33067d1aad"
            ]
          }
        },
        "168c03f460a945798116ecdc0e6f117e": {
          "model_module": "@jupyter-widgets/base",
          "model_name": "LayoutModel",
          "model_module_version": "1.2.0",
          "state": {
            "_view_name": "LayoutView",
            "grid_template_rows": null,
            "right": null,
            "justify_content": null,
            "_view_module": "@jupyter-widgets/base",
            "overflow": null,
            "_model_module_version": "1.2.0",
            "_view_count": null,
            "flex_flow": null,
            "width": null,
            "min_width": null,
            "border": null,
            "align_items": null,
            "bottom": null,
            "_model_module": "@jupyter-widgets/base",
            "top": null,
            "grid_column": null,
            "overflow_y": null,
            "overflow_x": null,
            "grid_auto_flow": null,
            "grid_area": null,
            "grid_template_columns": null,
            "flex": null,
            "_model_name": "LayoutModel",
            "justify_items": null,
            "grid_row": null,
            "max_height": null,
            "align_content": null,
            "visibility": null,
            "align_self": null,
            "height": null,
            "min_height": null,
            "padding": null,
            "grid_auto_rows": null,
            "grid_gap": null,
            "max_width": null,
            "order": null,
            "_view_module_version": "1.2.0",
            "grid_template_areas": null,
            "object_position": null,
            "object_fit": null,
            "grid_auto_columns": null,
            "margin": null,
            "display": null,
            "left": null
          }
        },
        "bad25477669b4f4b8c85a2ce7544a43c": {
          "model_module": "@jupyter-widgets/controls",
          "model_name": "HTMLModel",
          "model_module_version": "1.5.0",
          "state": {
            "_view_name": "HTMLView",
            "style": "IPY_MODEL_4550347aca0f4074942389846844d1c0",
            "_dom_classes": [],
            "description": "",
            "_model_name": "HTMLModel",
            "placeholder": "​",
            "_view_module": "@jupyter-widgets/controls",
            "_model_module_version": "1.5.0",
            "value": "",
            "_view_count": null,
            "_view_module_version": "1.5.0",
            "description_tooltip": null,
            "_model_module": "@jupyter-widgets/controls",
            "layout": "IPY_MODEL_3ca1e790a5bb404ebb9028cc03c1a2bf"
          }
        },
        "2e8797b80a3848c59154e6f9850f2dd8": {
          "model_module": "@jupyter-widgets/controls",
          "model_name": "FloatProgressModel",
          "model_module_version": "1.5.0",
          "state": {
            "_view_name": "ProgressView",
            "style": "IPY_MODEL_25e8cc6a57f2476f9d3193079c4242ff",
            "_dom_classes": [],
            "description": "",
            "_model_name": "FloatProgressModel",
            "bar_style": "success",
            "max": 170498071,
            "_view_module": "@jupyter-widgets/controls",
            "_model_module_version": "1.5.0",
            "value": 170498071,
            "_view_count": null,
            "_view_module_version": "1.5.0",
            "orientation": "horizontal",
            "min": 0,
            "description_tooltip": null,
            "_model_module": "@jupyter-widgets/controls",
            "layout": "IPY_MODEL_b73dfe19b376484c9ca60f67c51817cf"
          }
        },
        "dbc517a83e784d8aa38a2f33067d1aad": {
          "model_module": "@jupyter-widgets/controls",
          "model_name": "HTMLModel",
          "model_module_version": "1.5.0",
          "state": {
            "_view_name": "HTMLView",
            "style": "IPY_MODEL_1092f238f41d4f2bb48ee6507887ba3b",
            "_dom_classes": [],
            "description": "",
            "_model_name": "HTMLModel",
            "placeholder": "​",
            "_view_module": "@jupyter-widgets/controls",
            "_model_module_version": "1.5.0",
            "value": " 170499072/? [00:02&lt;00:00, 61928234.23it/s]",
            "_view_count": null,
            "_view_module_version": "1.5.0",
            "description_tooltip": null,
            "_model_module": "@jupyter-widgets/controls",
            "layout": "IPY_MODEL_2ae267faabaa4f57b2c884813b9c3148"
          }
        },
        "4550347aca0f4074942389846844d1c0": {
          "model_module": "@jupyter-widgets/controls",
          "model_name": "DescriptionStyleModel",
          "model_module_version": "1.5.0",
          "state": {
            "_view_name": "StyleView",
            "_model_name": "DescriptionStyleModel",
            "description_width": "",
            "_view_module": "@jupyter-widgets/base",
            "_model_module_version": "1.5.0",
            "_view_count": null,
            "_view_module_version": "1.2.0",
            "_model_module": "@jupyter-widgets/controls"
          }
        },
        "3ca1e790a5bb404ebb9028cc03c1a2bf": {
          "model_module": "@jupyter-widgets/base",
          "model_name": "LayoutModel",
          "model_module_version": "1.2.0",
          "state": {
            "_view_name": "LayoutView",
            "grid_template_rows": null,
            "right": null,
            "justify_content": null,
            "_view_module": "@jupyter-widgets/base",
            "overflow": null,
            "_model_module_version": "1.2.0",
            "_view_count": null,
            "flex_flow": null,
            "width": null,
            "min_width": null,
            "border": null,
            "align_items": null,
            "bottom": null,
            "_model_module": "@jupyter-widgets/base",
            "top": null,
            "grid_column": null,
            "overflow_y": null,
            "overflow_x": null,
            "grid_auto_flow": null,
            "grid_area": null,
            "grid_template_columns": null,
            "flex": null,
            "_model_name": "LayoutModel",
            "justify_items": null,
            "grid_row": null,
            "max_height": null,
            "align_content": null,
            "visibility": null,
            "align_self": null,
            "height": null,
            "min_height": null,
            "padding": null,
            "grid_auto_rows": null,
            "grid_gap": null,
            "max_width": null,
            "order": null,
            "_view_module_version": "1.2.0",
            "grid_template_areas": null,
            "object_position": null,
            "object_fit": null,
            "grid_auto_columns": null,
            "margin": null,
            "display": null,
            "left": null
          }
        },
        "25e8cc6a57f2476f9d3193079c4242ff": {
          "model_module": "@jupyter-widgets/controls",
          "model_name": "ProgressStyleModel",
          "model_module_version": "1.5.0",
          "state": {
            "_view_name": "StyleView",
            "_model_name": "ProgressStyleModel",
            "description_width": "",
            "_view_module": "@jupyter-widgets/base",
            "_model_module_version": "1.5.0",
            "_view_count": null,
            "_view_module_version": "1.2.0",
            "bar_color": null,
            "_model_module": "@jupyter-widgets/controls"
          }
        },
        "b73dfe19b376484c9ca60f67c51817cf": {
          "model_module": "@jupyter-widgets/base",
          "model_name": "LayoutModel",
          "model_module_version": "1.2.0",
          "state": {
            "_view_name": "LayoutView",
            "grid_template_rows": null,
            "right": null,
            "justify_content": null,
            "_view_module": "@jupyter-widgets/base",
            "overflow": null,
            "_model_module_version": "1.2.0",
            "_view_count": null,
            "flex_flow": null,
            "width": null,
            "min_width": null,
            "border": null,
            "align_items": null,
            "bottom": null,
            "_model_module": "@jupyter-widgets/base",
            "top": null,
            "grid_column": null,
            "overflow_y": null,
            "overflow_x": null,
            "grid_auto_flow": null,
            "grid_area": null,
            "grid_template_columns": null,
            "flex": null,
            "_model_name": "LayoutModel",
            "justify_items": null,
            "grid_row": null,
            "max_height": null,
            "align_content": null,
            "visibility": null,
            "align_self": null,
            "height": null,
            "min_height": null,
            "padding": null,
            "grid_auto_rows": null,
            "grid_gap": null,
            "max_width": null,
            "order": null,
            "_view_module_version": "1.2.0",
            "grid_template_areas": null,
            "object_position": null,
            "object_fit": null,
            "grid_auto_columns": null,
            "margin": null,
            "display": null,
            "left": null
          }
        },
        "1092f238f41d4f2bb48ee6507887ba3b": {
          "model_module": "@jupyter-widgets/controls",
          "model_name": "DescriptionStyleModel",
          "model_module_version": "1.5.0",
          "state": {
            "_view_name": "StyleView",
            "_model_name": "DescriptionStyleModel",
            "description_width": "",
            "_view_module": "@jupyter-widgets/base",
            "_model_module_version": "1.5.0",
            "_view_count": null,
            "_view_module_version": "1.2.0",
            "_model_module": "@jupyter-widgets/controls"
          }
        },
        "2ae267faabaa4f57b2c884813b9c3148": {
          "model_module": "@jupyter-widgets/base",
          "model_name": "LayoutModel",
          "model_module_version": "1.2.0",
          "state": {
            "_view_name": "LayoutView",
            "grid_template_rows": null,
            "right": null,
            "justify_content": null,
            "_view_module": "@jupyter-widgets/base",
            "overflow": null,
            "_model_module_version": "1.2.0",
            "_view_count": null,
            "flex_flow": null,
            "width": null,
            "min_width": null,
            "border": null,
            "align_items": null,
            "bottom": null,
            "_model_module": "@jupyter-widgets/base",
            "top": null,
            "grid_column": null,
            "overflow_y": null,
            "overflow_x": null,
            "grid_auto_flow": null,
            "grid_area": null,
            "grid_template_columns": null,
            "flex": null,
            "_model_name": "LayoutModel",
            "justify_items": null,
            "grid_row": null,
            "max_height": null,
            "align_content": null,
            "visibility": null,
            "align_self": null,
            "height": null,
            "min_height": null,
            "padding": null,
            "grid_auto_rows": null,
            "grid_gap": null,
            "max_width": null,
            "order": null,
            "_view_module_version": "1.2.0",
            "grid_template_areas": null,
            "object_position": null,
            "object_fit": null,
            "grid_auto_columns": null,
            "margin": null,
            "display": null,
            "left": null
          }
        },
        "4a033f52688f49afbdfa32c34b2e561d": {
          "model_module": "@jupyter-widgets/controls",
          "model_name": "HBoxModel",
          "model_module_version": "1.5.0",
          "state": {
            "_view_name": "HBoxView",
            "_dom_classes": [],
            "_model_name": "HBoxModel",
            "_view_module": "@jupyter-widgets/controls",
            "_model_module_version": "1.5.0",
            "_view_count": null,
            "_view_module_version": "1.5.0",
            "box_style": "",
            "layout": "IPY_MODEL_ebbffb4d5d874ae39e5e5a23db0093b9",
            "_model_module": "@jupyter-widgets/controls",
            "children": [
              "IPY_MODEL_e4c4d4ba24b54e5398b73225d6c4a3fc",
              "IPY_MODEL_b85a574e9b1244268a2517ad4c00b633",
              "IPY_MODEL_bc3f8d21e258430ca2ec592a9c611ff8"
            ]
          }
        },
        "ebbffb4d5d874ae39e5e5a23db0093b9": {
          "model_module": "@jupyter-widgets/base",
          "model_name": "LayoutModel",
          "model_module_version": "1.2.0",
          "state": {
            "_view_name": "LayoutView",
            "grid_template_rows": null,
            "right": null,
            "justify_content": null,
            "_view_module": "@jupyter-widgets/base",
            "overflow": null,
            "_model_module_version": "1.2.0",
            "_view_count": null,
            "flex_flow": null,
            "width": null,
            "min_width": null,
            "border": null,
            "align_items": null,
            "bottom": null,
            "_model_module": "@jupyter-widgets/base",
            "top": null,
            "grid_column": null,
            "overflow_y": null,
            "overflow_x": null,
            "grid_auto_flow": null,
            "grid_area": null,
            "grid_template_columns": null,
            "flex": null,
            "_model_name": "LayoutModel",
            "justify_items": null,
            "grid_row": null,
            "max_height": null,
            "align_content": null,
            "visibility": null,
            "align_self": null,
            "height": null,
            "min_height": null,
            "padding": null,
            "grid_auto_rows": null,
            "grid_gap": null,
            "max_width": null,
            "order": null,
            "_view_module_version": "1.2.0",
            "grid_template_areas": null,
            "object_position": null,
            "object_fit": null,
            "grid_auto_columns": null,
            "margin": null,
            "display": null,
            "left": null
          }
        },
        "e4c4d4ba24b54e5398b73225d6c4a3fc": {
          "model_module": "@jupyter-widgets/controls",
          "model_name": "HTMLModel",
          "model_module_version": "1.5.0",
          "state": {
            "_view_name": "HTMLView",
            "style": "IPY_MODEL_206427e366854652a231b09ad2b6f772",
            "_dom_classes": [],
            "description": "",
            "_model_name": "HTMLModel",
            "placeholder": "​",
            "_view_module": "@jupyter-widgets/controls",
            "_model_module_version": "1.5.0",
            "value": "",
            "_view_count": null,
            "_view_module_version": "1.5.0",
            "description_tooltip": null,
            "_model_module": "@jupyter-widgets/controls",
            "layout": "IPY_MODEL_7ad2544409814f53987f6067249d3092"
          }
        },
        "b85a574e9b1244268a2517ad4c00b633": {
          "model_module": "@jupyter-widgets/controls",
          "model_name": "FloatProgressModel",
          "model_module_version": "1.5.0",
          "state": {
            "_view_name": "ProgressView",
            "style": "IPY_MODEL_8abe198960da4bd3af08bc0f04aacca1",
            "_dom_classes": [],
            "description": "",
            "_model_name": "FloatProgressModel",
            "bar_style": "success",
            "max": 170498071,
            "_view_module": "@jupyter-widgets/controls",
            "_model_module_version": "1.5.0",
            "value": 170498071,
            "_view_count": null,
            "_view_module_version": "1.5.0",
            "orientation": "horizontal",
            "min": 0,
            "description_tooltip": null,
            "_model_module": "@jupyter-widgets/controls",
            "layout": "IPY_MODEL_fec544c7ecab4034bc52933d23b05fa2"
          }
        },
        "bc3f8d21e258430ca2ec592a9c611ff8": {
          "model_module": "@jupyter-widgets/controls",
          "model_name": "HTMLModel",
          "model_module_version": "1.5.0",
          "state": {
            "_view_name": "HTMLView",
            "style": "IPY_MODEL_de08cef853f647e89a13bbd9dd723a3a",
            "_dom_classes": [],
            "description": "",
            "_model_name": "HTMLModel",
            "placeholder": "​",
            "_view_module": "@jupyter-widgets/controls",
            "_model_module_version": "1.5.0",
            "value": " 170499072/? [00:07&lt;00:00, 26412032.19it/s]",
            "_view_count": null,
            "_view_module_version": "1.5.0",
            "description_tooltip": null,
            "_model_module": "@jupyter-widgets/controls",
            "layout": "IPY_MODEL_1e6b1898b3584e418b4dd61fe79ee5b4"
          }
        },
        "206427e366854652a231b09ad2b6f772": {
          "model_module": "@jupyter-widgets/controls",
          "model_name": "DescriptionStyleModel",
          "model_module_version": "1.5.0",
          "state": {
            "_view_name": "StyleView",
            "_model_name": "DescriptionStyleModel",
            "description_width": "",
            "_view_module": "@jupyter-widgets/base",
            "_model_module_version": "1.5.0",
            "_view_count": null,
            "_view_module_version": "1.2.0",
            "_model_module": "@jupyter-widgets/controls"
          }
        },
        "7ad2544409814f53987f6067249d3092": {
          "model_module": "@jupyter-widgets/base",
          "model_name": "LayoutModel",
          "model_module_version": "1.2.0",
          "state": {
            "_view_name": "LayoutView",
            "grid_template_rows": null,
            "right": null,
            "justify_content": null,
            "_view_module": "@jupyter-widgets/base",
            "overflow": null,
            "_model_module_version": "1.2.0",
            "_view_count": null,
            "flex_flow": null,
            "width": null,
            "min_width": null,
            "border": null,
            "align_items": null,
            "bottom": null,
            "_model_module": "@jupyter-widgets/base",
            "top": null,
            "grid_column": null,
            "overflow_y": null,
            "overflow_x": null,
            "grid_auto_flow": null,
            "grid_area": null,
            "grid_template_columns": null,
            "flex": null,
            "_model_name": "LayoutModel",
            "justify_items": null,
            "grid_row": null,
            "max_height": null,
            "align_content": null,
            "visibility": null,
            "align_self": null,
            "height": null,
            "min_height": null,
            "padding": null,
            "grid_auto_rows": null,
            "grid_gap": null,
            "max_width": null,
            "order": null,
            "_view_module_version": "1.2.0",
            "grid_template_areas": null,
            "object_position": null,
            "object_fit": null,
            "grid_auto_columns": null,
            "margin": null,
            "display": null,
            "left": null
          }
        },
        "8abe198960da4bd3af08bc0f04aacca1": {
          "model_module": "@jupyter-widgets/controls",
          "model_name": "ProgressStyleModel",
          "model_module_version": "1.5.0",
          "state": {
            "_view_name": "StyleView",
            "_model_name": "ProgressStyleModel",
            "description_width": "",
            "_view_module": "@jupyter-widgets/base",
            "_model_module_version": "1.5.0",
            "_view_count": null,
            "_view_module_version": "1.2.0",
            "bar_color": null,
            "_model_module": "@jupyter-widgets/controls"
          }
        },
        "fec544c7ecab4034bc52933d23b05fa2": {
          "model_module": "@jupyter-widgets/base",
          "model_name": "LayoutModel",
          "model_module_version": "1.2.0",
          "state": {
            "_view_name": "LayoutView",
            "grid_template_rows": null,
            "right": null,
            "justify_content": null,
            "_view_module": "@jupyter-widgets/base",
            "overflow": null,
            "_model_module_version": "1.2.0",
            "_view_count": null,
            "flex_flow": null,
            "width": null,
            "min_width": null,
            "border": null,
            "align_items": null,
            "bottom": null,
            "_model_module": "@jupyter-widgets/base",
            "top": null,
            "grid_column": null,
            "overflow_y": null,
            "overflow_x": null,
            "grid_auto_flow": null,
            "grid_area": null,
            "grid_template_columns": null,
            "flex": null,
            "_model_name": "LayoutModel",
            "justify_items": null,
            "grid_row": null,
            "max_height": null,
            "align_content": null,
            "visibility": null,
            "align_self": null,
            "height": null,
            "min_height": null,
            "padding": null,
            "grid_auto_rows": null,
            "grid_gap": null,
            "max_width": null,
            "order": null,
            "_view_module_version": "1.2.0",
            "grid_template_areas": null,
            "object_position": null,
            "object_fit": null,
            "grid_auto_columns": null,
            "margin": null,
            "display": null,
            "left": null
          }
        },
        "de08cef853f647e89a13bbd9dd723a3a": {
          "model_module": "@jupyter-widgets/controls",
          "model_name": "DescriptionStyleModel",
          "model_module_version": "1.5.0",
          "state": {
            "_view_name": "StyleView",
            "_model_name": "DescriptionStyleModel",
            "description_width": "",
            "_view_module": "@jupyter-widgets/base",
            "_model_module_version": "1.5.0",
            "_view_count": null,
            "_view_module_version": "1.2.0",
            "_model_module": "@jupyter-widgets/controls"
          }
        },
        "1e6b1898b3584e418b4dd61fe79ee5b4": {
          "model_module": "@jupyter-widgets/base",
          "model_name": "LayoutModel",
          "model_module_version": "1.2.0",
          "state": {
            "_view_name": "LayoutView",
            "grid_template_rows": null,
            "right": null,
            "justify_content": null,
            "_view_module": "@jupyter-widgets/base",
            "overflow": null,
            "_model_module_version": "1.2.0",
            "_view_count": null,
            "flex_flow": null,
            "width": null,
            "min_width": null,
            "border": null,
            "align_items": null,
            "bottom": null,
            "_model_module": "@jupyter-widgets/base",
            "top": null,
            "grid_column": null,
            "overflow_y": null,
            "overflow_x": null,
            "grid_auto_flow": null,
            "grid_area": null,
            "grid_template_columns": null,
            "flex": null,
            "_model_name": "LayoutModel",
            "justify_items": null,
            "grid_row": null,
            "max_height": null,
            "align_content": null,
            "visibility": null,
            "align_self": null,
            "height": null,
            "min_height": null,
            "padding": null,
            "grid_auto_rows": null,
            "grid_gap": null,
            "max_width": null,
            "order": null,
            "_view_module_version": "1.2.0",
            "grid_template_areas": null,
            "object_position": null,
            "object_fit": null,
            "grid_auto_columns": null,
            "margin": null,
            "display": null,
            "left": null
          }
        }
      }
    },
    "accelerator": "GPU"
  },
  "cells": [
    {
      "cell_type": "markdown",
      "metadata": {
        "id": "view-in-github",
        "colab_type": "text"
      },
      "source": [
        "<a href=\"https://colab.research.google.com/github/MohebZandi/Comupter_Vision/blob/main/CIFAR10_02_GPU.ipynb\" target=\"_parent\"><img src=\"https://colab.research.google.com/assets/colab-badge.svg\" alt=\"Open In Colab\"/></a>"
      ]
    },
    {
      "cell_type": "markdown",
      "source": [
        "# CIFAR 10 classification"
      ],
      "metadata": {
        "id": "kxR6MH19QaVX"
      }
    },
    {
      "cell_type": "code",
      "execution_count": null,
      "metadata": {
        "id": "Jzi_4bSbPu7C"
      },
      "outputs": [],
      "source": [
        "# import libraries\n",
        "import numpy as np\n",
        "\n",
        "import torch\n",
        "import torch.nn as nn\n",
        "import torch.nn.functional as F\n",
        "import copy\n",
        "from sklearn.model_selection import train_test_split\n",
        "\n",
        "# for importing data\n",
        "import torchvision\n",
        "import torchvision.transforms as T\n",
        "from torch.utils.data import TensorDataset,DataLoader\n",
        "\n",
        "import matplotlib.pyplot as plt\n",
        "from IPython import display\n",
        "display.set_matplotlib_formats('svg')"
      ]
    },
    {
      "cell_type": "code",
      "source": [
        "# use GPU if available\n",
        "device = torch.device('cuda:0' if torch.cuda.is_available() else 'cpu')"
      ],
      "metadata": {
        "id": "dF21N_wLQRs1"
      },
      "execution_count": null,
      "outputs": []
    },
    {
      "cell_type": "markdown",
      "source": [
        "## Import and inspect the data"
      ],
      "metadata": {
        "id": "TL4dcazHQZSW"
      }
    },
    {
      "cell_type": "code",
      "source": [
        "Ts = T.Compose([T.ToTensor(),   # Compose function group together some transformers into one object\n",
        "                T.Resize(32*4),\n",
        "                T.Grayscale(num_output_channels= 1)\n",
        "                ])"
      ],
      "metadata": {
        "id": "vC3Syjx8DixQ"
      },
      "execution_count": null,
      "outputs": []
    },
    {
      "cell_type": "code",
      "source": [
        "cdata_trans = torchvision.datasets.CIFAR10(root='cifar10', download=True, transform=Ts)"
      ],
      "metadata": {
        "colab": {
          "base_uri": "https://localhost:8080/",
          "height": 105,
          "referenced_widgets": [
            "b4cf783a2fbf45dc9c0b2cdaa1d2d9da",
            "168c03f460a945798116ecdc0e6f117e",
            "bad25477669b4f4b8c85a2ce7544a43c",
            "2e8797b80a3848c59154e6f9850f2dd8",
            "dbc517a83e784d8aa38a2f33067d1aad",
            "4550347aca0f4074942389846844d1c0",
            "3ca1e790a5bb404ebb9028cc03c1a2bf",
            "25e8cc6a57f2476f9d3193079c4242ff",
            "b73dfe19b376484c9ca60f67c51817cf",
            "1092f238f41d4f2bb48ee6507887ba3b",
            "2ae267faabaa4f57b2c884813b9c3148"
          ]
        },
        "id": "pp2419O2DoQZ",
        "outputId": "19568f9f-241b-4fff-af2d-a620690a4dd6"
      },
      "execution_count": null,
      "outputs": [
        {
          "output_type": "stream",
          "name": "stdout",
          "text": [
            "Downloading https://www.cs.toronto.edu/~kriz/cifar-10-python.tar.gz to cifar10/cifar-10-python.tar.gz\n"
          ]
        },
        {
          "output_type": "display_data",
          "data": {
            "application/vnd.jupyter.widget-view+json": {
              "model_id": "b4cf783a2fbf45dc9c0b2cdaa1d2d9da",
              "version_minor": 0,
              "version_major": 2
            },
            "text/plain": [
              "  0%|          | 0/170498071 [00:00<?, ?it/s]"
            ]
          },
          "metadata": {}
        },
        {
          "output_type": "stream",
          "name": "stdout",
          "text": [
            "Extracting cifar10/cifar-10-python.tar.gz to cifar10\n"
          ]
        }
      ]
    },
    {
      "cell_type": "code",
      "source": [
        "# inspect the data\n",
        "\n",
        "# the categories (but how many classes??)\n",
        "print(cdata_trans.classes)\n",
        "print(str(len(cdata_trans.classes)) + ' classes')\n",
        "\n",
        "print('\\nData size:')\n",
        "print(cdata_trans.data.shape)\n",
        "\n",
        "# .targets is a list of targets converted to ints\n",
        "print(len(cdata_trans.targets))\n",
        "print(type(cdata_trans.data))\n",
        "\n",
        "# Converting numpy array to torch Tensor\n",
        "cdataT = torch.from_numpy(cdata_trans.data)\n",
        "print('\\nAfter converting: \\n')\n",
        "print(type(cdataT))\n",
        "\n",
        "# Convert the shape to (Number of pics, number of channels, Number of H pixels, Number of W pixels)\n",
        "print('\\nOriginal data Shape:\\n',cdataT.data.shape)\n",
        "\n",
        "# Creating variables for data reshaping\n",
        "numPics = cdata_trans.data.shape[0]\n",
        "numPixels = cdata_trans.data.shape[1]\n",
        "numChans = cdata_trans.data.shape[3]\n",
        "\n",
        "images = cdataT.data.reshape([numPics, numChans, numPixels, numPixels]).float()\n",
        "print('\\nTensor data:\\n',images.shape)"
      ],
      "metadata": {
        "colab": {
          "base_uri": "https://localhost:8080/"
        },
        "id": "8Kup1ZQsDtPs",
        "outputId": "04f2f5e7-83ef-44c7-af46-a8eb18aa1677"
      },
      "execution_count": null,
      "outputs": [
        {
          "output_type": "stream",
          "name": "stdout",
          "text": [
            "['airplane', 'automobile', 'bird', 'cat', 'deer', 'dog', 'frog', 'horse', 'ship', 'truck']\n",
            "10 classes\n",
            "\n",
            "Data size:\n",
            "(50000, 32, 32, 3)\n",
            "50000\n",
            "<class 'numpy.ndarray'>\n",
            "\n",
            "After converting: \n",
            "\n",
            "<class 'torch.Tensor'>\n",
            "\n",
            "Original data Shape:\n",
            " torch.Size([50000, 32, 32, 3])\n",
            "\n",
            "Tensor data:\n",
            " torch.Size([50000, 3, 32, 32])\n"
          ]
        }
      ]
    },
    {
      "cell_type": "code",
      "source": [
        "plt.imshow(cdata_trans.data[123,:,:,:])"
      ],
      "metadata": {
        "colab": {
          "base_uri": "https://localhost:8080/",
          "height": 372
        },
        "id": "EZSWTnY9D_nq",
        "outputId": "4533ad10-5076-4544-d0c7-3006244d0a91"
      },
      "execution_count": null,
      "outputs": [
        {
          "output_type": "execute_result",
          "data": {
            "text/plain": [
              "<matplotlib.image.AxesImage at 0x7fa64f11df90>"
            ]
          },
          "metadata": {},
          "execution_count": 10
        },
        {
          "output_type": "display_data",
          "data": {
            "text/plain": [
              "<Figure size 432x288 with 1 Axes>"
            ],
            "image/svg+xml": "<?xml version=\"1.0\" encoding=\"utf-8\" standalone=\"no\"?>\n<!DOCTYPE svg PUBLIC \"-//W3C//DTD SVG 1.1//EN\"\n  \"http://www.w3.org/Graphics/SVG/1.1/DTD/svg11.dtd\">\n<!-- Created with matplotlib (https://matplotlib.org/) -->\n<svg height=\"248.919844pt\" version=\"1.1\" viewBox=\"0 0 251.565 248.919844\" width=\"251.565pt\" xmlns=\"http://www.w3.org/2000/svg\" xmlns:xlink=\"http://www.w3.org/1999/xlink\">\n <defs>\n  <style type=\"text/css\">\n*{stroke-linecap:butt;stroke-linejoin:round;}\n  </style>\n </defs>\n <g id=\"figure_1\">\n  <g id=\"patch_1\">\n   <path d=\"M 0 248.919844 \nL 251.565 248.919844 \nL 251.565 0 \nL 0 0 \nz\n\" style=\"fill:none;\"/>\n  </g>\n  <g id=\"axes_1\">\n   <g id=\"patch_2\">\n    <path d=\"M 26.925 225.041719 \nL 244.365 225.041719 \nL 244.365 7.601719 \nL 26.925 7.601719 \nz\n\" style=\"fill:#ffffff;\"/>\n   </g>\n   <g clip-path=\"url(#p9a2e4b0cbb)\">\n    <image height=\"218\" id=\"image5197cf2331\" transform=\"scale(1 -1)translate(0 -218)\" width=\"218\" x=\"26.925\" xlink:href=\"data:image/png;base64,\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\" y=\"-7.041719\"/>\n   </g>\n   <g id=\"matplotlib.axis_1\">\n    <g id=\"xtick_1\">\n     <g id=\"line2d_1\">\n      <defs>\n       <path d=\"M 0 0 \nL 0 3.5 \n\" id=\"m39e24a1738\" style=\"stroke:#000000;stroke-width:0.8;\"/>\n      </defs>\n      <g>\n       <use style=\"stroke:#000000;stroke-width:0.8;\" x=\"30.3225\" xlink:href=\"#m39e24a1738\" y=\"225.041719\"/>\n      </g>\n     </g>\n     <g id=\"text_1\">\n      <!-- 0 -->\n      <defs>\n       <path d=\"M 31.78125 66.40625 \nQ 24.171875 66.40625 20.328125 58.90625 \nQ 16.5 51.421875 16.5 36.375 \nQ 16.5 21.390625 20.328125 13.890625 \nQ 24.171875 6.390625 31.78125 6.390625 \nQ 39.453125 6.390625 43.28125 13.890625 \nQ 47.125 21.390625 47.125 36.375 \nQ 47.125 51.421875 43.28125 58.90625 \nQ 39.453125 66.40625 31.78125 66.40625 \nz\nM 31.78125 74.21875 \nQ 44.046875 74.21875 50.515625 64.515625 \nQ 56.984375 54.828125 56.984375 36.375 \nQ 56.984375 17.96875 50.515625 8.265625 \nQ 44.046875 -1.421875 31.78125 -1.421875 \nQ 19.53125 -1.421875 13.0625 8.265625 \nQ 6.59375 17.96875 6.59375 36.375 \nQ 6.59375 54.828125 13.0625 64.515625 \nQ 19.53125 74.21875 31.78125 74.21875 \nz\n\" id=\"DejaVuSans-48\"/>\n      </defs>\n      <g transform=\"translate(27.14125 239.640156)scale(0.1 -0.1)\">\n       <use xlink:href=\"#DejaVuSans-48\"/>\n      </g>\n     </g>\n    </g>\n    <g id=\"xtick_2\">\n     <g id=\"line2d_2\">\n      <g>\n       <use style=\"stroke:#000000;stroke-width:0.8;\" x=\"64.2975\" xlink:href=\"#m39e24a1738\" y=\"225.041719\"/>\n      </g>\n     </g>\n     <g id=\"text_2\">\n      <!-- 5 -->\n      <defs>\n       <path d=\"M 10.796875 72.90625 \nL 49.515625 72.90625 \nL 49.515625 64.59375 \nL 19.828125 64.59375 \nL 19.828125 46.734375 \nQ 21.96875 47.46875 24.109375 47.828125 \nQ 26.265625 48.1875 28.421875 48.1875 \nQ 40.625 48.1875 47.75 41.5 \nQ 54.890625 34.8125 54.890625 23.390625 \nQ 54.890625 11.625 47.5625 5.09375 \nQ 40.234375 -1.421875 26.90625 -1.421875 \nQ 22.3125 -1.421875 17.546875 -0.640625 \nQ 12.796875 0.140625 7.71875 1.703125 \nL 7.71875 11.625 \nQ 12.109375 9.234375 16.796875 8.0625 \nQ 21.484375 6.890625 26.703125 6.890625 \nQ 35.15625 6.890625 40.078125 11.328125 \nQ 45.015625 15.765625 45.015625 23.390625 \nQ 45.015625 31 40.078125 35.4375 \nQ 35.15625 39.890625 26.703125 39.890625 \nQ 22.75 39.890625 18.8125 39.015625 \nQ 14.890625 38.140625 10.796875 36.28125 \nz\n\" id=\"DejaVuSans-53\"/>\n      </defs>\n      <g transform=\"translate(61.11625 239.640156)scale(0.1 -0.1)\">\n       <use xlink:href=\"#DejaVuSans-53\"/>\n      </g>\n     </g>\n    </g>\n    <g id=\"xtick_3\">\n     <g id=\"line2d_3\">\n      <g>\n       <use style=\"stroke:#000000;stroke-width:0.8;\" x=\"98.2725\" xlink:href=\"#m39e24a1738\" y=\"225.041719\"/>\n      </g>\n     </g>\n     <g id=\"text_3\">\n      <!-- 10 -->\n      <defs>\n       <path d=\"M 12.40625 8.296875 \nL 28.515625 8.296875 \nL 28.515625 63.921875 \nL 10.984375 60.40625 \nL 10.984375 69.390625 \nL 28.421875 72.90625 \nL 38.28125 72.90625 \nL 38.28125 8.296875 \nL 54.390625 8.296875 \nL 54.390625 0 \nL 12.40625 0 \nz\n\" id=\"DejaVuSans-49\"/>\n      </defs>\n      <g transform=\"translate(91.91 239.640156)scale(0.1 -0.1)\">\n       <use xlink:href=\"#DejaVuSans-49\"/>\n       <use x=\"63.623047\" xlink:href=\"#DejaVuSans-48\"/>\n      </g>\n     </g>\n    </g>\n    <g id=\"xtick_4\">\n     <g id=\"line2d_4\">\n      <g>\n       <use style=\"stroke:#000000;stroke-width:0.8;\" x=\"132.2475\" xlink:href=\"#m39e24a1738\" y=\"225.041719\"/>\n      </g>\n     </g>\n     <g id=\"text_4\">\n      <!-- 15 -->\n      <g transform=\"translate(125.885 239.640156)scale(0.1 -0.1)\">\n       <use xlink:href=\"#DejaVuSans-49\"/>\n       <use x=\"63.623047\" xlink:href=\"#DejaVuSans-53\"/>\n      </g>\n     </g>\n    </g>\n    <g id=\"xtick_5\">\n     <g id=\"line2d_5\">\n      <g>\n       <use style=\"stroke:#000000;stroke-width:0.8;\" x=\"166.2225\" xlink:href=\"#m39e24a1738\" y=\"225.041719\"/>\n      </g>\n     </g>\n     <g id=\"text_5\">\n      <!-- 20 -->\n      <defs>\n       <path d=\"M 19.1875 8.296875 \nL 53.609375 8.296875 \nL 53.609375 0 \nL 7.328125 0 \nL 7.328125 8.296875 \nQ 12.9375 14.109375 22.625 23.890625 \nQ 32.328125 33.6875 34.8125 36.53125 \nQ 39.546875 41.84375 41.421875 45.53125 \nQ 43.3125 49.21875 43.3125 52.78125 \nQ 43.3125 58.59375 39.234375 62.25 \nQ 35.15625 65.921875 28.609375 65.921875 \nQ 23.96875 65.921875 18.8125 64.3125 \nQ 13.671875 62.703125 7.8125 59.421875 \nL 7.8125 69.390625 \nQ 13.765625 71.78125 18.9375 73 \nQ 24.125 74.21875 28.421875 74.21875 \nQ 39.75 74.21875 46.484375 68.546875 \nQ 53.21875 62.890625 53.21875 53.421875 \nQ 53.21875 48.921875 51.53125 44.890625 \nQ 49.859375 40.875 45.40625 35.40625 \nQ 44.1875 33.984375 37.640625 27.21875 \nQ 31.109375 20.453125 19.1875 8.296875 \nz\n\" id=\"DejaVuSans-50\"/>\n      </defs>\n      <g transform=\"translate(159.86 239.640156)scale(0.1 -0.1)\">\n       <use xlink:href=\"#DejaVuSans-50\"/>\n       <use x=\"63.623047\" xlink:href=\"#DejaVuSans-48\"/>\n      </g>\n     </g>\n    </g>\n    <g id=\"xtick_6\">\n     <g id=\"line2d_6\">\n      <g>\n       <use style=\"stroke:#000000;stroke-width:0.8;\" x=\"200.1975\" xlink:href=\"#m39e24a1738\" y=\"225.041719\"/>\n      </g>\n     </g>\n     <g id=\"text_6\">\n      <!-- 25 -->\n      <g transform=\"translate(193.835 239.640156)scale(0.1 -0.1)\">\n       <use xlink:href=\"#DejaVuSans-50\"/>\n       <use x=\"63.623047\" xlink:href=\"#DejaVuSans-53\"/>\n      </g>\n     </g>\n    </g>\n    <g id=\"xtick_7\">\n     <g id=\"line2d_7\">\n      <g>\n       <use style=\"stroke:#000000;stroke-width:0.8;\" x=\"234.1725\" xlink:href=\"#m39e24a1738\" y=\"225.041719\"/>\n      </g>\n     </g>\n     <g id=\"text_7\">\n      <!-- 30 -->\n      <defs>\n       <path d=\"M 40.578125 39.3125 \nQ 47.65625 37.796875 51.625 33 \nQ 55.609375 28.21875 55.609375 21.1875 \nQ 55.609375 10.40625 48.1875 4.484375 \nQ 40.765625 -1.421875 27.09375 -1.421875 \nQ 22.515625 -1.421875 17.65625 -0.515625 \nQ 12.796875 0.390625 7.625 2.203125 \nL 7.625 11.71875 \nQ 11.71875 9.328125 16.59375 8.109375 \nQ 21.484375 6.890625 26.8125 6.890625 \nQ 36.078125 6.890625 40.9375 10.546875 \nQ 45.796875 14.203125 45.796875 21.1875 \nQ 45.796875 27.640625 41.28125 31.265625 \nQ 36.765625 34.90625 28.71875 34.90625 \nL 20.21875 34.90625 \nL 20.21875 43.015625 \nL 29.109375 43.015625 \nQ 36.375 43.015625 40.234375 45.921875 \nQ 44.09375 48.828125 44.09375 54.296875 \nQ 44.09375 59.90625 40.109375 62.90625 \nQ 36.140625 65.921875 28.71875 65.921875 \nQ 24.65625 65.921875 20.015625 65.03125 \nQ 15.375 64.15625 9.8125 62.3125 \nL 9.8125 71.09375 \nQ 15.4375 72.65625 20.34375 73.4375 \nQ 25.25 74.21875 29.59375 74.21875 \nQ 40.828125 74.21875 47.359375 69.109375 \nQ 53.90625 64.015625 53.90625 55.328125 \nQ 53.90625 49.265625 50.4375 45.09375 \nQ 46.96875 40.921875 40.578125 39.3125 \nz\n\" id=\"DejaVuSans-51\"/>\n      </defs>\n      <g transform=\"translate(227.81 239.640156)scale(0.1 -0.1)\">\n       <use xlink:href=\"#DejaVuSans-51\"/>\n       <use x=\"63.623047\" xlink:href=\"#DejaVuSans-48\"/>\n      </g>\n     </g>\n    </g>\n   </g>\n   <g id=\"matplotlib.axis_2\">\n    <g id=\"ytick_1\">\n     <g id=\"line2d_8\">\n      <defs>\n       <path d=\"M 0 0 \nL -3.5 0 \n\" id=\"m837b471f5b\" style=\"stroke:#000000;stroke-width:0.8;\"/>\n      </defs>\n      <g>\n       <use style=\"stroke:#000000;stroke-width:0.8;\" x=\"26.925\" xlink:href=\"#m837b471f5b\" y=\"10.999219\"/>\n      </g>\n     </g>\n     <g id=\"text_8\">\n      <!-- 0 -->\n      <g transform=\"translate(13.5625 14.798437)scale(0.1 -0.1)\">\n       <use xlink:href=\"#DejaVuSans-48\"/>\n      </g>\n     </g>\n    </g>\n    <g id=\"ytick_2\">\n     <g id=\"line2d_9\">\n      <g>\n       <use style=\"stroke:#000000;stroke-width:0.8;\" x=\"26.925\" xlink:href=\"#m837b471f5b\" y=\"44.974219\"/>\n      </g>\n     </g>\n     <g id=\"text_9\">\n      <!-- 5 -->\n      <g transform=\"translate(13.5625 48.773437)scale(0.1 -0.1)\">\n       <use xlink:href=\"#DejaVuSans-53\"/>\n      </g>\n     </g>\n    </g>\n    <g id=\"ytick_3\">\n     <g id=\"line2d_10\">\n      <g>\n       <use style=\"stroke:#000000;stroke-width:0.8;\" x=\"26.925\" xlink:href=\"#m837b471f5b\" y=\"78.949219\"/>\n      </g>\n     </g>\n     <g id=\"text_10\">\n      <!-- 10 -->\n      <g transform=\"translate(7.2 82.748437)scale(0.1 -0.1)\">\n       <use xlink:href=\"#DejaVuSans-49\"/>\n       <use x=\"63.623047\" xlink:href=\"#DejaVuSans-48\"/>\n      </g>\n     </g>\n    </g>\n    <g id=\"ytick_4\">\n     <g id=\"line2d_11\">\n      <g>\n       <use style=\"stroke:#000000;stroke-width:0.8;\" x=\"26.925\" xlink:href=\"#m837b471f5b\" y=\"112.924219\"/>\n      </g>\n     </g>\n     <g id=\"text_11\">\n      <!-- 15 -->\n      <g transform=\"translate(7.2 116.723437)scale(0.1 -0.1)\">\n       <use xlink:href=\"#DejaVuSans-49\"/>\n       <use x=\"63.623047\" xlink:href=\"#DejaVuSans-53\"/>\n      </g>\n     </g>\n    </g>\n    <g id=\"ytick_5\">\n     <g id=\"line2d_12\">\n      <g>\n       <use style=\"stroke:#000000;stroke-width:0.8;\" x=\"26.925\" xlink:href=\"#m837b471f5b\" y=\"146.899219\"/>\n      </g>\n     </g>\n     <g id=\"text_12\">\n      <!-- 20 -->\n      <g transform=\"translate(7.2 150.698437)scale(0.1 -0.1)\">\n       <use xlink:href=\"#DejaVuSans-50\"/>\n       <use x=\"63.623047\" xlink:href=\"#DejaVuSans-48\"/>\n      </g>\n     </g>\n    </g>\n    <g id=\"ytick_6\">\n     <g id=\"line2d_13\">\n      <g>\n       <use style=\"stroke:#000000;stroke-width:0.8;\" x=\"26.925\" xlink:href=\"#m837b471f5b\" y=\"180.874219\"/>\n      </g>\n     </g>\n     <g id=\"text_13\">\n      <!-- 25 -->\n      <g transform=\"translate(7.2 184.673437)scale(0.1 -0.1)\">\n       <use xlink:href=\"#DejaVuSans-50\"/>\n       <use x=\"63.623047\" xlink:href=\"#DejaVuSans-53\"/>\n      </g>\n     </g>\n    </g>\n    <g id=\"ytick_7\">\n     <g id=\"line2d_14\">\n      <g>\n       <use style=\"stroke:#000000;stroke-width:0.8;\" x=\"26.925\" xlink:href=\"#m837b471f5b\" y=\"214.849219\"/>\n      </g>\n     </g>\n     <g id=\"text_14\">\n      <!-- 30 -->\n      <g transform=\"translate(7.2 218.648437)scale(0.1 -0.1)\">\n       <use xlink:href=\"#DejaVuSans-51\"/>\n       <use x=\"63.623047\" xlink:href=\"#DejaVuSans-48\"/>\n      </g>\n     </g>\n    </g>\n   </g>\n   <g id=\"patch_3\">\n    <path d=\"M 26.925 225.041719 \nL 26.925 7.601719 \n\" style=\"fill:none;stroke:#000000;stroke-linecap:square;stroke-linejoin:miter;stroke-width:0.8;\"/>\n   </g>\n   <g id=\"patch_4\">\n    <path d=\"M 244.365 225.041719 \nL 244.365 7.601719 \n\" style=\"fill:none;stroke:#000000;stroke-linecap:square;stroke-linejoin:miter;stroke-width:0.8;\"/>\n   </g>\n   <g id=\"patch_5\">\n    <path d=\"M 26.925 225.041719 \nL 244.365 225.041719 \n\" style=\"fill:none;stroke:#000000;stroke-linecap:square;stroke-linejoin:miter;stroke-width:0.8;\"/>\n   </g>\n   <g id=\"patch_6\">\n    <path d=\"M 26.925 7.601719 \nL 244.365 7.601719 \n\" style=\"fill:none;stroke:#000000;stroke-linecap:square;stroke-linejoin:miter;stroke-width:0.8;\"/>\n   </g>\n  </g>\n </g>\n <defs>\n  <clipPath id=\"p9a2e4b0cbb\">\n   <rect height=\"217.44\" width=\"217.44\" x=\"26.925\" y=\"7.601719\"/>\n  </clipPath>\n </defs>\n</svg>\n"
          },
          "metadata": {
            "needs_background": "light"
          }
        }
      ]
    },
    {
      "cell_type": "code",
      "source": [
        "plt.imshow(torch.squeeze(Ts(cdata_trans.data[123,:,:,:])), cmap= 'gray')"
      ],
      "metadata": {
        "colab": {
          "base_uri": "https://localhost:8080/",
          "height": 374
        },
        "id": "W31kOZUNEfmg",
        "outputId": "016f9f42-8c0e-4312-f512-0dcd394d4f3e"
      },
      "execution_count": null,
      "outputs": [
        {
          "output_type": "execute_result",
          "data": {
            "text/plain": [
              "<matplotlib.image.AxesImage at 0x7fa64ea77cd0>"
            ]
          },
          "metadata": {},
          "execution_count": 12
        },
        {
          "output_type": "display_data",
          "data": {
            "text/plain": [
              "<Figure size 432x288 with 1 Axes>"
            ],
            "image/svg+xml": "<?xml version=\"1.0\" encoding=\"utf-8\" standalone=\"no\"?>\n<!DOCTYPE svg PUBLIC \"-//W3C//DTD SVG 1.1//EN\"\n  \"http://www.w3.org/Graphics/SVG/1.1/DTD/svg11.dtd\">\n<!-- Created with matplotlib (https://matplotlib.org/) -->\n<svg height=\"251.467969pt\" version=\"1.1\" viewBox=\"0 0 257.9275 251.467969\" width=\"257.9275pt\" xmlns=\"http://www.w3.org/2000/svg\" xmlns:xlink=\"http://www.w3.org/1999/xlink\">\n <defs>\n  <style type=\"text/css\">\n*{stroke-linecap:butt;stroke-linejoin:round;}\n  </style>\n </defs>\n <g id=\"figure_1\">\n  <g id=\"patch_1\">\n   <path d=\"M 0 251.467969 \nL 257.9275 251.467969 \nL 257.9275 0 \nL 0 0 \nz\n\" style=\"fill:none;\"/>\n  </g>\n  <g id=\"axes_1\">\n   <g id=\"patch_2\">\n    <path d=\"M 33.2875 227.589844 \nL 250.7275 227.589844 \nL 250.7275 10.149844 \nL 33.2875 10.149844 \nz\n\" style=\"fill:#ffffff;\"/>\n   </g>\n   <g clip-path=\"url(#p13d2822d93)\">\n    <image height=\"218\" id=\"imageed5bb3cdc4\" transform=\"scale(1 -1)translate(0 -218)\" width=\"218\" x=\"33.2875\" xlink:href=\"data:image/png;base64,\niVBORw0KGgoAAAANSUhEUgAAANoAAADaCAYAAADAHVzbAAAABHNCSVQICAgIfAhkiAAAIABJREFUeJztnel2IsmyrB3NUk3dffb7P9R5lbN2FSAJ7o+6lvowLCIzASHU3b4WKxlyiMHN3dxjYPG///u/2zqDLBaL7u/bbbsYY9e6XF1dDdf5tXoOn7fZbHau64nOnfJ8ypw69NqC9xo76l6bzaa22229vr7Wdrvd+W6z2ey83263tVgs6urqqq6ururm5qYWi0VdX18P300pY6suU9pP0uqPOfdolfMYfTxExjXrX/lX/pWj5V+g/Sv/yhnk5qMLMCZzaeOc+4oeTKGMkqurqy51mXOvKWVLv7VEtI/Xiiq2vhN13Gw29fr6OpxzfX1dVb9pmuq02WxOSoHPIakt30unenIxQOsp12d4Tg9gp+pY3qd1T9VN9SSg+HsCGWM03YPX6Z7nUNRTGCwJ+/wjQFZ1RqBN6aBzNcKU5/TAOEcJDq1T77r0W0o66DtPdigxstls6vn5uV5fX+v19bWen5+Hfrq5uRmSJ54IqdptgynlmSO99p2TCKF8FMAkF+PRPkI8O+e/Hev53qNzk1dzWqgjvVF60ZsJaP6s19fXHe8oIaV0eS9mcijILkHOCrRz0Y6WTH2206/3es7cc3vX9ABGT0aP9vr6Wi8vL7Ver+vl5aVWq9VwH3k8tcHNzW9V4dCJD4v02kvAPJQSfmaQVf3r0apq1wCkhMKce53qvEOuJ8gSuNIYmsD28vJSz8/POwmPq6uren19HRJAjNHmGM1jQfLZQVb1AUA7l1fzZ/QSCVOyfIcOfM4979Brk+caA5tAJtq4Xq/3gHZ7ezt4r6urq512aE0GoPwdQHIKOTvQ3htkTk2mWuAxL3YqineKa1NsKVC9vLzsZBN1js+IEcDkyQQ0xWRVv9vy+fm5FotFvby8DN9xxg1BmOSU2cPPLH8r6jjWqVNAd6r0/3uArJfST8kNjov5+elcgVRJEL4I3n8CeE49DHRWoL2HN5syr9CTGwlsaQ7kXJlSv7ltMObZ6MleX19rvV7X8/PzABrVk6+q2kmCyJspRtO9SR2Z+le6v+p3+19fX+8AcAql/KfJp/Voh0zcdZCdMl489RjhnHE0eiclNkQDq97oHrN+8lL0WDpWvVFLvpju1317MVv6/p8KurMB7VQKPRdgPiMggS3JHOowl+odcr+xewko6/W61ut1rVarAWjyQDoq5lISRF5N38lr6fvFYlHr9Xq4V1XVzc3NXiayVRcHo4/HuXgfcwrYZ5VP49EO9WD+fgooef8xsJ0SZHMA5tlQjomtVqtaLpfDzI7b29thyYvAxowj0/v0ggKbPNnLy0tdX18PQL2+vp6UjR3L3Lq0li35588EvE8BtDGQzY0JTkVf5oLsVPQx1ddneMhDSeSJdH5KdpA68rfr6+thPE1HT/kfYliOBcpn8nQXC7RWZqs3PkZh2nvqvefcf8q1h9xjyjWe3GF8psTGarUaplQJLDc3N4N34/n0Zmqv5+fnurm5Ge6xWq12xtg0B3KxWAyzRhLgjp0IMEU+w2yTiwPaOVLHiZo4vTlXkuQYaU23oner2l9xLm/kHi3NZ5QHE4UkfeTqbGZtx2JgfT+25Oi95Zwe8WKANgVgY7M9vFN9aYiLN3ArPT23XGPfHyq9ejgVVNwlENCLScGZDOE2B7ynezSW5fb2djhX9ySVbA2hXJqcA/AXAbRD1nKNxWhp/ZULvVdrhkN6/jFeb4zqtj63zm9NFhaodB6BoJiL42/0TE5Jdb0AK4/GeZAEm86f0j7/hMHvqgsA2rEb2UwRp0QtIdg4uHtI+ebGelMtv2dSnTL6Yk4aBWYcdY08H9eveXKlqnamYCl7qdiP5UhG7z3p82eRswCt1dCnAFmPPqbJtBQqgQZzE0DmUp5jFav1TPfOrbhM4BGA6JVUR/eAnNGvMog66neNncmjrdfrwYuxfd1gXSplPKd8uEejTFXQqfRL3znQPHAnVfLpRKeQucBr0ch0TDP0CRqPq9Jnn4Ss3wREBxBpqSdEps64OQcA5w77vKe8O9COBU8SdqTHS0nRWgqZaFXV/tSic0qKKR1E/E6eixN//T69ycUOTgnXtcm76TsNETw/Pw8UUvFa1X7MS2NGmTuQPVUukareXGKhpkgLYA6sBDopnqYbSSlEiQRkDfJ+VBvRGKjM9DIEmuqnstJwODg9u+jPkjCxoTZJcyA5sF21O4xAaQHr1N7tEqnqRVHHQ6RlhRO4pKCcCVH1u6Nvb28HRb2+vt4J9innAN0YFUzJDFI8zm1k23ib6Fl8Lt8nYGhMrQU4ncPrp8S9f/dY7tMBLXUGY4tW5k1WnwqiTJo82s3NzaAkfC+ZGn8cmmlL1NbrwjpsNpthuhWpnTKD8thM86d4zMswVi9RRh7TLlkJbImJSN6LSl6CfCqgtagNf08vXxLCmetVu9k4Kae8G+OMY8rduz5Z8xRXJsCl9Pxi8bYkht+lWM/LoWdL/DyC3BeEOl33+7bq+k+QDwPa3Kxer/OTtSawqJT0AMvlsqpqyDQqTtO9pLDMQk4F3FSv1hoQT3SRBoKzOqj8KrPmNsqjkVb7As8p5dB792iaD5n+BCOxgfRe53ubnAuQLe9+SvkQoJ0KZL1YJi3BT0qre3IwV0d6NE/5zxmAnnNO8mysE6kjJwOn2R3+4v2TEvOc1KYpGUKvqriW7TYFbIe24SmAeA6QVZ0JaFOANTeuaWUVE6icNnLG+na73aGO3IyGaWmCrRV3tCTVq1fXXpzG8msrAiZDnEJOHXP05Adpd9Vb1lNto3IwVqNHu7m5aYJ5qmcbk7k09FygSvLuQJvjvaY2msddUkC3wlTSlCXTNcw0Km5TFlKJESVL3LNV9UHTSnGn81rejB6N9He5XO7NVUx1T89Pg7n0dp6hZMzK5TiLxWKg4GrL7fZtsakbp7Fs41zwfJaY71MlQyQpdmGGMb2qas/TcWEk6SSXhYgKHbPAUXLotU6H6VF85n2i1l4GTpvSeTzfx9Yc7CyHezRla9MK7BYgjgXbZ5CLAdqYW/cg2627lK8lvkcGl5EsFm97YnA+H70DB4BFJQmcpNC9z2OS4iTVd7Va1Xq9rv/+97+D0idP5VlLUUlRvJTV9OuSVxO91hbinMGvZNLd3V1znVuSVvq/1b5+7aUD8yKANpc7J4/G/S6odD5zhLSTVp2WWhaZlnmsM4/1dL2ET6vOzEByqhNjyzkK2qLe+k3UkXRcU7G4x4iSImMgmzNw3TNqn0E+HGhTQcYslqw7N6Px7dW4xVrVLpAITnWaB/GcVaHnKm6THJM5m5NRI8Dk0ZbLZf369WtI1XN3Ko6hOZ10j6Zn0fCIGSSvWlVDHCuvT7m7u9vJTvZAxuMc6vgZZ5Z8ONBcvMEpieow65a2rSbQSBkZ1/De7tEUdyhe4xDAqTtW9SWta2UOqfxSdo+NUpzak5QQ8fZm3ErAiVprbI1GTdcRXB7vzo3TLh1YLhcHtCniVpYgqnqz2gloKWGie8pryCILaAKWJxDGkiNjKfyxaxMF1rVVu8kdjl3Rk7hxmtq2KW5jLKa2qnrbmk5A507JzHySJUwdZ/y7gO3DgdbbryEpY1IEJkhaDe8zRFpWlhRNIgXh/og+UyQlI8bA1IpF6I1FZV9eXur29rZeX1+H4/39/d4zCTpvF09ssAw9hXXQEWD6TmVYrVaDZ9Nmrjc3N8NOWbpu6kybsaTIZwHbhwNtTFxZE6VpxRLpewbpicKQHsk7cLzOM3BV/cnGY2BLwhS8lJIDwv5+rE0EjOTFx9reQUkPSsCRMZBhkCWobmw7tt/UtplS9kuTDwFar2FbA7d87+AhlfFpV04V/Vmkmbq/FEgiayw6KRBW7f+Nke7bKv9UC+5bDmw2mz2Pdnd3N9w71dvHw/y9xJMlqQ/ouZhEYgxW9ebR1ut13d3d1fPz87Bblq7n+NqhHumQhEiPPb23XLxHc3FrnABHS8ol91U1pOr9xXt5bOSBvV5p5sPU8kt640dSHHkveTB/qWy6j899nFqWJK2hBg3o63ftHyJguYdjW6mdfa3fofIZ6OOHAW1O4yQP517KZ05wcFoKx87W7Hb3SIxxJBwb0ovTsTzemyO9OI3naOcpvRT3+LiVe3dS15RQmQLEFNPJs7FNOYfUVxbQGHHgP0mLgqfzPkvM9iFAmwMwf7VmrFOoaOv1eriW42ECC7/38jFO4xCCKOR2+zZjRM/oKbXLVGAKeAQZKSRjTyl0Gixm+RKF7JWPNJbGTSAU4JX8YDKE1FFlmLMSws+5RCCNycVSx1YslmZ1VLXH3PxcfVac4BbQ36f4j2VopeAph3g6v57xZItCsjw+IO0UNcWtU7xBKxnBdvGJATJMnGFzDFg+kyeTfDjQeql9puSZdvcxMabCq/bXVXEsh1TPn+2A8PtQYap+U8r7+/u9MbtDaaSexaPaSPVcLBYDbb2/vx++ZyYwZQv9vhwf83NYB/6TTC++ZHz88vJSq9Vq8L5cp3Z7ezt832qrOYC5dIBJPhxoSdz7eHIj0UYfE+O9SKN8gJfX9qgfPZsAxxQ3FXkOyPw5PQ/b8mqKNend9Jmp9VbmMTED96KpbJTk/bnKwGfUpOSPl+EzAGiqvDvQFDe0fmsJuT9fmtvnSQ7FSwKRz/anR5PyOdASyFROPZPn69k8Z+4WdT1r7vGp6nV9fT3Mu1Qd7u7uqqqG+E1er+ptWz2n43wGxRM8KS3uHtL7a71e1/X1da1Wq8F76f+wfWJBK/7qAe6zeDLJWTza3LELdb5PANYrBfq09C1vpLIkOsn78Mh7cHWAwE0l4j3mejX3GIn2qqyKL/V/Z1VvE32ZKEoTi51GJqqa4k49s5Xud+qoNWoqo7KUXH7kz2h5zc8GqiQXSR2rdhWNYONGMxSCzNP1Aq28mKw1n9HyuiwLZ0LIuxH0c2ML/9yjjqSkThvpzUkdOWZFcUOVyk2vxvK2Bn3ZBoqllX0kdSTlJ6Ng3f+OYDsKaD3lHJMpXk6g8PGZ1OBKVjDzJWrnno4K4QrMpIMH+5wxoo7nHiOibRwU17mtREuqB5/pWTyOlbnHS/HcMYkZlrNlGFQGUUINZPtc0e12Ww8PD4ORak3uHivLMefNZVanBPfBQDsGZLy+l3V0q0sl03c8n0CTMM5IdJBlGAvCqVQ+OMzP9JC9JEuKTVz5/DmeaHAQthSXRoRx6lRFSm2T4klRVi4KFWVMiSwv61h5DlX+uSA79nkuZ6eObhkJ2B4lSeNZ/F7eRR5Q92JywmeBEJSKtXyKViupIupIC65rdR99Tmn/5GUINk0d4ywX7Xq1XC6HwfjVajWk051epzi25+V6VLJ3LvtN7aJ/CBWt3W639fT0NCRIHh8f94ZoWM6etKjme9HLXltNlbMBrdV4tJRj/N9T7LKgPpDsGUk9p5XdYrreg/R0jXsZ0SYu6dc9fPypRyHda6R0Oac3aWW5b9Tjnt+fxzI5O/DvW/3FfuH5Mjzcv0XDD0xm0bt5ezvwWuXogeu9Y7qWLrXk7H9E2Epnq2EYhDuFSp7Nl2M4HeEse/+NXk90r9do/I1l8OU0Uh5mNRn7jbWRnkWjQjDJu61Wq53vBHZm9di+PI7VNZWvR6lJp2Vw1NZ3d3fD9Kzb29sdkCWaOxVsrWv8fofSxrnP7sm7Aq0FsJYrTgV2kHGcxi08FVuWWxSuaneaEMfFGLuo4xPVpFLoO1pwPpcZO2UDW4rj06XkqT0RtF6vh/0c1+v1cPSBfHr89ByWK7EI/9zLiDKLq/aQcdP8R1HH1WpVt7e3exu/6hlTFoQ663hPrzVHxspyEqDNtTz+2Xn2mNDae2JAHeX/1aXrWveb8rt/R2/rHk0WvtUBY8MJfnTazNUJnm1NY2ZJpvZbr/5+jieYFGf6y+eLcrJBKpcb6ksB2FS5iHG0BDYmI9L6K1plKR/jEoKLtIk0LokDqJcldHrHe7OMzPJ5tnXKLHZ6OSZG9GJMKjrGZIh7qGRYnFb7dyyD03n39HyvRaCM0ZyJ6Hr2bY9mp+dcOvAuAmgubGjugCt+v91ud4LqtPAyKZknJeT13LtIoSS8Pw2AvJassZRElJTg0u9p/ZuDzRXNPzu9ZBaWy2a8zh5jOlj4Pd87sDiFKoGT7ZI8P1mIT2ubuxj0vUE2Ngw1Vc4OtORNHAA6KuWueXzqZCmzaAmnJfGeVAp1CL0UU/nKjEnxk6Jq2zkOguscgZ7PIpD5PsV/rD/BzAWmPJdxJhML7tG8DmyfFth0f1JWfmayp3VvZymt7KkMJvvd4+Ak5/BgNICtjPhUORvQCLApjUTl1KacnDysGSKa6uMKIKuqz+61ZD3dQ+l8KWwaC0tAo4L7M917Spl0D9JdlkfPTzNbXHH5fLZFrz/cU3ls57Gnezi+Eig8e0zq6wtD1c5zlPkzUEbJjRd0TmLjvYSeRcqmcsprcLpTyuh5cF61mxih8iY65xaWsWNL8d1jMgso2sh6tZQ00VSfaeKgIq2jB0r39fZpxWX0ZrxnK8brxZh+H28X9aXHe6lP2Q4tSf0/R1Ky6hivtufReg12rCSKSPGkBfdPFLCqagiwq2oYT9L+GT6GJZGyctIt7+/CzWc8RhOwuVcH68d4TO1Jj0Zvre90b9ad8ycJNs9AMtahB0ri9fUYNsV/9Jot4X1pQNwgaGhGWx5oJy+uoaO0qORn8WSSSB3fE2ytZ6T0rdMo0S3SKf+seyfl906jd9M5usapbisW4Xtdz/Q+lZWxH2liq73paVNM556LQPHy0Vu36pGup6dkO3qf8V5eRt5LGVKm+dOMljne6zPIRWYdq/azb6SR/tKOUByYlpsnQBOV8pjJAdmiVQKSxzk8X16RyRp5t9bOvSyXfpMhYVtQHCjpt5Z4PZ1+OmVMY100SK1YjfeVR9O8x+3294ZJZC287zFyCN3rjXEeKhcLtBQrpNn5pIPch8I9WtVuJo3ntPg4YzEmB9LcyKTk8mIaR9JzSY9kPFRuL7PHhDx6Uob1XCx2x/L8vqncvfdjkhJOFHo0bm+wWq2qqur+/r5eXl52/mmV9DPVgeLnHeoF3wNkVRcMtKp2ZkzvPaZR7KS1UClYd0VKsVxVRe9BBR6j1wSmBmsJNHoFrZKm13XK6BTZf5NH1rWe8fPPLUB5Kv9UlI0ejUDTsTX/sfX89D1pOI/HJDFORVs/dAPVljiwfJoVG42rjDmhV2Dz8TCPpTz2SZlFehqCzGMnp1R8trJqm81mZ9sDDcLLqyVv5pvuEHRKyOhap78EGWmZGzF+53SxF59SqZNXY3y92WyGtL7KeXt7W9vttu7v74dJCQngLW/scggwWl7slHmKD9t7f4qog3yMiB1BUEhZmSpO9+S9SVF0P/cWTCR48oKD2E7TmDjQZ53H4YmkzF6elgFgQsefIerYi91aWUf3AFOVt+eB3GjKo6ktkjedSh1dpni196KJSS6aOrLhfUWxGly0UecrsyeAelJE9+R5SZmZgEiWP2Ut3fvpWfxe1IngVGreO140U4D0uIygdYNB5aJx8bmK+p7K7bNLqKBuJMcoNNvCtzl4fX0d+u7p6SnuCTPVk3m7JZByHLN37XvIRQOtKgfo3vhUitQZ/J5JEElKUqQkglMxvRx4Y7LZvC2b2W63OxY90Vincck7JS/kkrx2695+TJTMlTnV39uFcWtV7c3qb6X4+cxe/cbo5DloYpKLBNoUypdiiPR9AqArJD0MlSZ5KF7vQGuVlc+XotHDySsLaMwkcps3r5ePUfH5DkiCrKes7gHHpAU+f67aliDbbrfDwHXa/4TUe6q0vFnv/HPIh/3JRY+CeEelpIOoCFcaa9+M9Xq9NxzgU6B0JE2septoTO/icQMHnauyElXlPSQ15qfy3t7e1nK5rOvr63p4eBiSHpr/p2SJztcYFCflcmewFi1MFp2KyKEOH1T3+CYZuNRHPv7HZ4ky+wRjX2OXYlUXGkN9dhrtwDsXwCQf5tHGwFZVe8BLHoazwbU2yy0jZzWkrJzAlAasWTYHjcrU8paexBEY+b3S/vyHGHk3xS+qo+ridXNP26PaAoTaIxm3OaLnpgkBuq/PRWVZWSfWh7NpvGytso55scQ+ziUfSh2nVJpewzOA8l7L5XJ4ufIx+HdPVfVGzfhZ96c118uHF7Svo6wvAUyl8c1qbm9vB6+lPTUeHh7q/v6+7u7u6vHxsW5vb+vp6Wm4x2q12vFq8mz6ayq1KRU5JWrcYDHubIFFRz7H55Uq9pR4UknX0VhphggNpXYUY7LK+7+nLyl27MWR55APj9F6YHPq4rRMCuhrmziu5DFHsmqiMRzz6cVZfE/gO9V06ioLTcokJZNicUsGjjP5SgB/tTJ1MgBO63oxq/eBe8REI9k/Kc516sh2Zx28zar29zrZbrd7z2qVeUqs5tTzPeTDgVa1C7ZWw7WyV7KE9GjpHimtS6VRbMIJwe7NPCPmzyHopDScRKvrRKc46CyP9vj4OKxM0CCu7umxGXfGSoZBbcbFoz51TCDszcxX+zggSd+9/3yqGMvGPvIVCOrTu7u7nTJxvDGFFywTf+sBLlHS9wLbRQCtJewo/rEDx5VaQXJSCp/7V/WmQPQ2VTVMDRItJBVMYON7rv6mIhFoUj4CjTGmyqIB8e12OwCM1NjrmDwMY6gWgyAgkofrxay6Z4pJ+Ux+FojolX1GP+m2U/s5cq7YrAfUCLRjCzTFKow9w0FEwPUGb72y7nm8wUlBZdmlNFJQAs0VyY+kecmjeYyocmt6ltpG2zc8PDwM5/kuxDrX68yYKWUZk2X3tvbEircnwcg6pbZP3lafGfd6LOxxr5f5PaneodIq1x7QpoCsNeg3p+JTLIyeQ+ojS/jw8DB4DbfeSu9L2akYKSnAeKCqBoWW0iUFEehSHJbiDQeahJZawxN6tuYE6qV9HFUXjr352JPHUfqcaB7bgisJEgNgO/jcSbW/x6P0aC0As7+YIFFZmAhJDOZY0LWuP+S+CWw3p3Knp7QubFBPG3OcScsqxOe11EI0K9E6fwZpltLtvmwliafr+b9k7sV8EDbdW89U/ZbLZVXVMMbGP4kg/eRkZFIkT3joyLE+glEga3mgVuxLgPk4ZTIsqT9Iy1PyqDcf9BR6d0qQSbzOs2O0lFBI4jz/kAmc6jBRRVrE+/v7qqodjyaASVzB6D222+1OmRQPSKHX6/Ve/Ed6KiVSAobeyP+VlArkCqP6KBlCBRPoZVh8u28lSgicZFwIhpZyMm5k+zlQSJv5HGZbScV1TsoSetzGZIg8msql+Zx+rR9b0vr9PUCW5CTJkCmFSlm/njgodA8tMbm7u6vN5vcfpovCiHL5rAJ2puinL0vhM1gG0hbGgp5Z1OwUZUGlbLTWBJpTO1E1PVf1u7u7q9vb2whU92gaokgxE4+JutKg0MtTWrEv40VSVw5T8Bwdk8f0LCSnp3lc6mVKcojXe4/YbxbQpgIlZa30vQfnPXrGTtHz1eBat0Q6xQ17tBBUnUgFYNzFsiQQVL39GwqTMaSM/qcTWp7vSRQdq3bXqskA6Hh1dVX39/e13W4HQ5LalAYgUTjWjUdvVz+2qJq3k55HYfsy9mU5/Xm6Lymjj6+1yjMVcDp37Lz3AFnVDKAdCzL+nu7V6gB/z/+M3mw2w05Ksv7b7XYAhlMeUkHGSgQBqZ7EgcYhgeVyOfzxRAKank2Lze9Y9+32bTcoAk0UlLtv6SjvTDqsV/KcVbVD66YkpMaUz42Xtx/b2SmqzqcXW61WtVgshqNm0pDdzAFYS+ZcO6bXY3Lx42g86j0pHQd9Pc0vIRWiVaP1p4IQBFVv/5DCYF/ncRIsvSuPuoeeqWOitJ7eFpB0H58y5lQxtZcr1BirSApIb5SyfhTVgWBPXtfpo4+p8cjz3svrtO57LMiqPgho9Gpj9LEl7HCPnxxkiRLqGg6cetaL59MDKA7cbrfDP1syGdKijCyDKw7pHcHGOIXgomVnvQVE0j/eOymTx3ROc/UMeVWd44xB7ajEhRsAld1jZ0/tixFoh2plmLnA9VCw0fCcKms5RS7ao00RB1zLOntM4UE509GkelQgdorO8QzjGID8OxcqH1+ie0lRPGkzxeuwDAQY28jbmd6UoO/VgSD1ZAlBS/rIf5/xtWq92POS5cOANjcLmWQMZFV5qYjHFK7Y6lR+z/e6h5RDHsDjO79vK2ZyJffEACmkg8LBRgNCBWf9CS5/PsvA70gdx+I2NzQEnD+fbeZgc6CRDbSe2/v9I+VDPRoVfsz6pjhN72nJexaWikLA6Eir2ZrtQRAmKkglTR6yR3sINgJZ3oRAo6S4lfX1GR70LGOUtkUbPe7yNnCaPpbxFXVUEmS7/U3LNQdUE43Vjt5mPTknRWzJRVHHMcC5tJIkvF9S7vTZvZZ7OFna7fZtYLVXD96vV450bYtm+m/eBqktttvdLeh0rykgS+Uby1a6txLQOdTiA+xOjzVs4pOxpxipS5WjgXaOCraUqWp/OQY9XNXuVCmJKwupnx/TxGDfqSkJnzmmvDzHv3MLzjrTq/NzepZnJxmrMvPaA1iKb/03r4u8qUDEcmgitZJLvK8STNr2IW3e02q3S5SL8mhzvZkUTunvVqzm3D4phXugpOB67lg53RMdIswipljUlT15I5bDDYNf7+/pmXR9UurW9ZTkQTkfUsCiR9PRqTtpuO7N46XKZKBNSV6MWXmXqYOmlGTFOUhLb8b7JoudlCjRNgkHiKUcreTGXLrD914v/olHaxhD93Aq5kLaRpBW7f4LjpeJ909gc3oqfUkUlc/QM92jLRaLvY16WtlHl0uIyVxmebS5QOrJIRnHFJN5IsRnhFTtZ//8O57Ho8dCKdnCeIT3bYHan+XPk9Bb04gI5D4eJWEShYrtbedzSH3Sb68+DjZSSO8nB5jHb9vt2xxNH9wnyJJn8+fPMdjnlg+hjsem9X1yLuHtAAAgAElEQVTwmDNDWoBwWujAmyqe7XQaMwVkSZKXSAtcWe9e4oev3nVVu/vj8/luDHqUOgm9mmctFcOq7+SBFc/Jy6WsLymnl/dSwXZWoCWAzW0YWs/0SrsuebKDY19UMCph8lxUWALVEy8t6pUkKbjXR9RRNJIApKHwTKne397eRsrtBoJezocEvJytRItLKwHD6/wZeqW9HlU3DuCz7fj+kujj2YB2rBejpKyXxy4t6y2hZ6Ml5HZzU8rQkpZSTpGx+HNMoRL9S9beATcm7qnp1ceu8+s9Jua8yGQs/MXrWJ9LlXcH2lSAzW0kdYxm82+322GvRCYP9D79xzVnf3hZUwzUUyhXJn6XzumdS4D5XzUxRjtWCJh0TOcmmQo43YeZxtT23keeCOEGRtvt2x85pnKxjh/p4T40vT8XXCkxQd6vlch68T+3OClX53OXpardeZCuNO6hUoqZZUsebexIIbBIHXvtlmg0y6Q6ckZHGpNK5ZnKFJL0gMvyuJci5ddvDAFUZ7/mEj3bRY2jSdRYfqx6s0y0Zuq0u7u7YR8Rgu319bXu7u6Glc9cu+WAmpocceoz5fx0pDhFTJ6M42qURDfdY6X6TQFZS3qASzGuP9eTIyn5oveJPno8fakgq7rQf/yccq1n0rS19uvr7016Hh4earlc1sPDQ202v/f20DWyiglo7OApsQdnf7A8fr+pikxPLW+mI0HUAhrH3lguSmvAt2cEeP9W4qMqp/j9XAFCCZdW7EZDRtroez6qn+jBLykRUnWhHi2JWyuPUxaLxU48ppXXUlSlkPVbig3cQ/U6q5fs8Nhu7F7p2rFET+tatUuKm8boLA0Mz5V3bMVwPcWekjTyhEgreZKSIZcIqiRHAc1jk6ky59xEBwgyds79/X1tNpt6eHgY/gRC+z/Koyk2E+j4x/KpM8foyFgnJ6VptQPB5d5MHipd5+3i8RlniLBeY3VIsaeDnUdnGRL3cinepadM450tjyagefb40uTTeDRJakjGbU67tE2bllj4OBuFHdyKvzz2mBOfpe+9HGkMzf/2aOzeVP6xjKBfP3cAv/VsyRQq2StXKz5T1lGfT5GFbXnHU9z77EA7xuIk+sL7Ma3PhAi3bNMuuGnmSNVbarm1DGaOIrZoEMvtdXL6pzrpX2WSAWgpR4qlelSrd88WPfbv3JO1qO6Y4VA9OZbme7Mw6ZPKp7a9BGp5FNA8I+gylnka+35qGareFFaJAMZpr6+vO/tOMAVPi9lLBrQkXTOWAOlZd9I/DUvIs6mMnN3uMQvrROpL4LHuLG9rpgbvxRfPbwEs9W0ar0wJJNbX//zCN0xymusgG4shkwE8pRzt0aaC7D3EFdYzbx7nJNro8dhUSckEHR1gczuNA9Usu8rrVjqBIIG8BzY/p1fnVF4mlxxkvdkbCYwJ3L7CXUbT++4fH6Od2pslr+Aejfvya4yNiuD7glTtz+lzSQrO9y1FT4qQYikBjHXggLvvneGDuDymZAbHnFyhE132dvH7st2rdmMy91YtkLV+V13ozbRdOL1aqqv3Veo/Lwt/PzXlPAvQ3tPKpOCbSksayb98YsPOGaRuvZ8Csqn1ceCpHiory97yrCybK7N7s7GM3RRv7wYkzTtN5yev5+WiQUnLZeaykY+QdwHauSZ6emfJ0hFgSoLc3d0NS+NZvtRRc4Cnc1Mcw/NaZU/fkS5y7qaewUWSVEIqJeM20U5R6la5euXuGY8EsjGgSVJWkp7T6SJ3xvK9HlN5xvpB58/1ZInu9uTkgdQ5YrOx57s3YwbSPdtYTCEZi8HmvHg/iWcbF4vFTpzWy+CxjDQSfH9qg9ejfHPEJwc4MHwcTRv38G+yPJk1tx5zf5uTRZW8KyrOEZimhEiKdQgwzh2coiyJno2BbOw83q9Vr7HXR0ii6vp+Shsm6SVfCDam+Am+U4Cs9b53Tfqt9ftJqeMh3qwXG8y9np5AtEt/fKEJxnd3d8NLtJJ/yO6d1gJHiyam8iVq451yCF3xeG67fZtszQQF78+spdPMFgXTvVIq3++/WOwu8OwZMv6mQedEyTabzc5/pl1dXQ1hgP7TnJvMtvrFKWIqT7pmrqRrTga0j6aMFE8keKyTJuwy1vJkw5iHStLycl7OQwyNg9QNTS+p4eVLv/WeyyxfL57h3MWWgruR7IFN91RclrY2mFOPKecc4iVbcnMsglsAm3OfY70an+mZOnm0+/v7Wq1WdXd3V/f397Ver4eUv4JrNS7T3FTINATQo4EEmcdLUthjDJTHlTQSPY/p5fKEEM9N901Hv46erSecXtaKjQWwq6urwaNpLiv/YrnlmS9B9jzaHKW/JC8mSWATPWx5NVFHZvOqxmkjv+sJ70NvSQo3t45J0X3WfrLK9NxetmQQesBq1ZX1G6sH9/7Q8334Rd8rEaLs8liav0Ufp8opvVqkjlMaKYHs3AG6l9NjFtJGgcyP/GfQ7fZt6zN/jh+9A+ZQSJVxrBNTvEShJxgDhHvlVLaWeHzWAzKfNVY/tcOYZ08z+H3Px97wyjFyKrCdJEb7qAxYSzzFv91uI7jo2bQIUXGFpBefuaT4rdX57uEkbiz8lbagk9K7R5sST52DYvUopMrMOjitFbiqfv9t8mLx+z++BbYpnu2j5dMtkxkTT4EnZeXALZVT10uSZZ5iMRO4WsDyZ3r5HUBpIDi90r1V3zkrEMZkavaOwt9oEAgygo3UMb16mdNLAFnVJwday5MmgCVP4JvXjA1UJxkDYy9O8BhobLBdAPH/q9bq8aq3hbCqm1NWHenBWxk7V/aWgRkDrz/DY0ElRDhRWNfpe89K6v/CfTdjZiDZ1h8tnxpoLomG0QvoO/cWretdWnFZK4brWdOeF2PZOTtEgNLRqaPXiwrtXsbjrinxYgJJqhM9t+7L53GskqAXmAhKrjurektYjXk0f/5HA+5TAW1KY7UAtVi8TWkiHeP7lvSoY+/zGOBaNNFnsHBfSgKMLxoVgcE9lj/bY7hEm1N2MrX1lAFtbyf30CqzjlyES3qpNH/am5+A8zp9pHwqoEmmZETV2KRiPr/R5w+6V3HFcGkBqge2VnaQ3tWHJzw7So+m63mtxzsSzxQmYFxdvf3ZRMtjp/Zg+RN14zOZ6HCP5kBzmvv8/DzQyVYyhNTT63eITPH4Y3J5A2EmUxppjKK1EiRTvNncZ0/1ZK2jx5KeDEne2BMkVLCx76fW38HZq8/Y0E8r9uP3pJmcAeKb9CRPlrzxFHnPxMmn9GiSxMWr9icXywu4h2C6X8MAKWab4qkYd6QZ6el9D/iexCEAWTbeh5+5IptDFmMUb6y9WyKrn8DWm/SrmFP312fFZ+6R9VkLekkhCTy1I7cOnxoezPltqly8Rzumkq3Yx7N7Ti3TXu5jcVqrvFOSIlTO5HlSORJwW/efI8ljnULR3IPSmKTn0Vgx2eGD1/yul+b/aPmUHq3lyegpGKs4oDTfUduF39/fDx2j6T0pidDyaC3gtWK05NG0INXjRqdUfqRySXhfzlP09uq1b1LUOaBtxTVOY3v3pjfmwlbFkfRk/mLiK83V9Pq25FRg/ZRAq+pPE/POVOc4beRLk1W5/Xbrub04rEcz+TvLmsb1eKzaX8E9Nu3IqWR6dirrKcWNSou2tpIWNDC6VtSyN3BNYPVi0LH6nrI9PhXQHFzsRBc2tDyVDwY74MTndb1TtzH6OMUyphiNr7RZaitO6YGMxqa1R6Xudwpp1T31jYBCit4CBONe1akFMH5OjKBlcM4hnwpoVdmTtSiOLKqsIHfGuru7G/4A4/7+fgik+RdJrY6fQxdJ9eRZWU6By+NHemMdE2Vsze+jkejRJsrcLN1UIY3Xc5yau2FkefS9zlss3v52t0UddT8fm5sqp26DTwe0qj5tlDALlgZ4eztkzRnAHitnC4gsZ3rptznPqxrPKvbqxZiObewJGz/Hj717t2bi+LP8Pj42mBZ++ktl+ggP5vIpgDbFiyWhcjBG08xvLfxUckQLCBVMC3jyIrzvnM5rJRYcVAT4nPomxWyBQx5UIhrnKXB5AT5bv0+pv7MKemTfciCV140Mx9YELs2U0eD18/Pz0H8CtG//PqXs7wHMTwG0Y8QV2ldfC2jL5bI5e4TTmVJcmCz7HElW3q1965Uyi/6dZ/k4cyJ5XNaJ9eF0rV5dnebpHGUONbOFsVPyaB5f0eARvD6YrVfLo4310SF9KGld92mANoUuUpKF94SIBqwVs2n1bqKSVbv0hUrH8h1azjSdKnkqfu/jbioXAehtod84S97BJG92dXUV/x5JyRV95wPiXh8J5zRympcbCbapx6USj1U9XiMbScbxGDAlGbvXhwCtRQWTlziFME4TwF5eXoZxtNVqtbePSAIa6VXyJm7lx4DXikt6VJAxJpfH6PlSfILIPZeDUS8fs/LvOC7ZG8NjLMx66L7605EWdaSIGvo9CFiBS/RRm6yqfl4+759e36jNWjIVrJ/Go1UdBz6nWz4lS+9T4sQBRmozteNSWfS+d54fW690XzcETEiQPup80a2qPCmAwOSzOXzAvwAWi2B9aAgcAF4HljENvNPbtcbTUn+c2ptNkbMDzWOAQ69P0qJZOpIybjab4d9AV6tVLZfLIUEiiygAqsPZsckCe7yh57bimQQgnxni93KvRo+WytfKEtJTcazRFZjzDp3GKanhtNdnurB8PhyRAK8yclzTYy0mVuTRtCuWkiIaQ6R37/VHS1rnzgHrWYE214rMBePY+e7NUoqfv6eESPIkU+vngKJS+nzLFujmvvz5Hksmb5HeqyycsOsKqLZjO+tc9s1i8fb3uS1vTIPM5zkdJWA9OTJlMP5Q7zb3mrMArVWoKXHZqWI1Hz/TQLWO3MFYSRGBwLNupJIt/q/POjLdnAbPWYbb29sdJeX1LbrYo6Mes7XAxvvxOqeT7o20XZ9Ygx/VJlzAyVjL24rCVeXyury/yqVYrrUzlvfJXKAcSzdPArRTZ296nuJQ0FFhqej6pxkqOben8z0sesBvdSqv46Tmh4eHenh4qKenp3p8fKwvX77U4+NjPTw81P39/UB/CLgW0Lxt+H2L9oh66XPK8NGz8L6tZyVvTGAyMePlcc/H+3MpzWKx2DFGEsZqU+I0f25P+LtTWNW7JwcDzUf5Tyljylw1D3DuWWQle/s8enKESYSk8L3OpAJxr0mBW+AiwNI/lCZPlVLtPcokpadRIMDoqdxw6DlO49wQeBl1X9/WrwUCtidptspKWupDG/7yuqY+Ssyq134qB2UMDxebdRwD1BQv51ZXHXR7e1tVVff391VV9fDwsLN0hkkR7j7l/xianut0yD0PvZk82ffv34fj169f6+npaaCSokiJKqY68r1banqnpJhO51J7yit75tYpKMX/8YVg1ufkVQhoMQvvRxoirr7merUpIDsFvfR7Uy4WaJIpHowWqeUNSW1IH7lduCdDGNjTerZAliR5U3o0AUrg0+c0SyVRKpbHkwup3dwiezKBIEggZnuozW5vb/doolNOtf3cmJtg42fPaibj0fJmBJa32xRwjSVZUv2OAtpUftqTqQ0/5sGmZBwVUPt6Myk4PZritLu7u50BXS0MpWfpdSiplZSSHu3Lly/148ePenx8rG/fvtXj42M9Pj7ueLSUCGkByZ/fioeq9vfj0NxBilNXGikZhPv7++E8KbgGmZlM4dYErtgtZSfI1H+erZW4R+vFaQlsvfderrlyER5trpWbA85Ep8j3e4tBue20Ml8CXLov46Sq2rG68mQCkl5fvnwZkiBPT08D6HW+6qHypnGoFHd5zEVr72u4kkKSAbixIGUkddQ1PijOdvJ7JgBM6VMCTEmd9Gfy/qeFU/RmKvDmyEmA1nOl75UwmSsEmTpJvN/Bxdn8GgQV0HxrtBQ76ZVmnzDT+OXLl+EooDHzmWiRUyQHmX/n1/g+G0639DyOiaku9GY+9ucxocdg3g+9OHdMZ2gs9azFYjFMnfO1aZw1QnbA4xT9+fQereq0cxt796PiVNXgyUTnHh8fa7PZ1NevX3eozNXV1Y5n44wKp40C2MPDwwBevVfC46+//qo//vijvn79Wv/zP/8zgE9eUF6CwOBcPi58ZEo7eSsmBlrneWyWaCLjSw7qq414f5aLXkXtpOuS4qe40mM+0lEdWSf9L97Dw8MQT+o8xt48tsS9Wivp0xu+uBigvZckasJ0vVtpAYPeTR7NU+7Jo/Gevpr77u5u8GJ66fP9/X09PT3tWVp5HVckKW/rlYAkpdd7HhNtVNKBQx3MhHLWh9o6lYPToGgAqZROK9l/8ljelzQOep7Kxb/i5URj6kGrDHrfykROAZvL3xporWwkLVlVDVTx+fm5np6eqqrq+/fvw+9K6y+Xy50lGMmjbbfbYRxMNPHLly/19evXenh4qL/++qu+fPlSf/75545Hk0eVUj4/Pw9JBc7l05F7GlKZBaSU5HDP18s2+sD+4+PjDuDYjqo3n9WapSHhjBuCln3kIJJh0Hf0oiqD6nh3d1dVVb9+/arFYjF4NBk/9Z2YjYPDPWvSJaev6f1Q36yin1taAKvaH0R2hdLGnIrRNKYmysF4xD2aOk/UT55MtPDh4aG+fv06AI8vgp0gowdrUURPZqRsYsujuVdgW/lwBMcgU5szPnPamLyDt6MbQE6aZkZT5fT68hnPz887f7/LicZuLFteiJKSIvxubKLA3wZoide30sV+LkGmPR4fHx8HRfn169ewzUGij1W7Dc24Rh7t27dv9fT0VD9+/BhS+nyvBMhqtarVarUDJO7G24rPCKBWRpHehV6AL451yWCobbijcyvxwvvTo6mNHFit2SVO77liuqp2PDK9qOq6XC7r6uqqVqtV3dzc1Gq1GryXQMrx0UQf9bn1G3Vt7Psm0E6dnHhvSeXteTN+10pZKz5jMoC/0xJS4eS9vn37Vt++fasfP37Un3/+WU9PT8Px+/fvQ2qf6XzGPVQeeTpPbrSyhw645AlVf3oRJQ44NU0v1pteMBkyeUN6SQ4w+2C8vmNZPFOqe+i5OpKq6rrValWLxaJ+/vw5XLfdbgdDpXrIgGrQne2QkiRTM49+3sV4tI8AdUo1ky7R4ul7/yxhwzIBovGyp6engTZygFx0xmejM/7wtWDuhTzOalGqRLE8bk1Lh7ze8nxONb1N/RqfaZM8mQOt6m3Wf8v4O2WtqiEZsl6v6/r6ejCUAqgoMCkvy+v1STLFk0m6QDuFV5vKf08hh5bXkxme4KDFpbdzCy0l+fr1az0+PtZ//vOf+v79e/3555/1n//8p758+VJ//PHHThZStIiUZ7VaDfFFGg+ilfdypzoQiPq9qgZqqASHvFZv2U6v7ZSlFGAd2K3YlkeVi9fpv+FSEoJlYGZzuVwO4FZ7/vz5c5jErQSPjJ1YBY2MT/NyALIte/FZ1Qd7tPfwYscYB+8wiQfqXKvmHvD6+npn2Yte8mZPT097sZ7iD49rUsIjAcbrkH7z71vG4/r6elA+ltPB4ff3hEarLZOyJvHJAewHeVTPCla9Kbymya1Wqx0AKtEkj0YvqCleennShnXpOY/UPqNAGwsED5WPjP+YMWq5/0SxqJSidb7M5vr6un78+FFPT0/1xx9/1I8fP+qvv/4a0vrfvn3bUx55p+fn5yEZQo/2/Pwcx8W8TgRTj2qq/p5tfXx8HOYu8reU/EmSqKC+V7l49O9aRoKsKJWBQFKdNQSy3f6e27pcLmu5XNbt7e2wCdPz8/Pe/Fb1qWI2j2UJOo8Xe/IhHu0UIDulAUh0kb+lGE5W9eHhYW+gmxlGvf78889hqlXV7kwGASnRRR8DS/Qw1YVtlCik6kOqqNkrAprHpj3xuCwlO5zOVu0mNZJBUDt7TJiSFKzjer0ejJgM5Hq9HlZsaLezx8fHIcmk2SRqZ8Xg9OgE/BSASSYD7RTx2ntIAhzLOuV9uqcrsQf3enFwWnGNZnyQMuqoKV7yWupYDkD3/pvZ6SPFvXDPY1ftbqQjgOlYVdGT9e4n4KpddG9dm5I0eu90U0c3cu41U7+JCrrnUYZRY2lsNwGZQwDyamwH6sKcJMlkoB0KslYAzXu2Om/OM6caAlc+jkO1FFxl8eUhi8Wivnz5Ure3tzsz7+W9fvz4Ud+/f99b0CkPxqUkGmBVGt8BNgaaXh2lGNzrUKDiold5ZwFtCk307zhXU+0lIaiclvk4GT0KvbAPVuu+9PzMBuv6qhoSKsvlcgfc9GhqG53Lv/TyOL1FkVPbTQJar8HHKEVPxhQn/X5MosPfy2p60sETEbyWtGixWOyk8vXivh9psx2Ww5MdLWB5vVsUKrWXe4Wq2tm6gfGl08QxD+mxExWyV7Yxz6ijp9yVgeTAOeMpGZL0DN5Hba+kidiFTw0TgEmJZXTZnr3YtKrq5pSe6hzSU76xa6jYVW+WULGRv7gWTRZWHk2NrQFnxWWPj4/DQk6NmXHJC2kRvWkL3A6SXpwi8eu5AlrXyKNxkSlT2g4qKq/fi2XxDCXjGB80J82j+L30neI1gY0TCJTESMZR72lklO1V0mSz2Qz3FX3++fPn3soF0m0CjtPzvA2qDkyGTE3RspKUOUFkrwwtupi+S/xfnd76jy0CTc8kLfL1ZZyR7xvtuCX1l4PM283BlbyUlMev8cTGYrGo+/v7velVLa/rCRb3kqlMngCpqljvFmvx+IpU05M5PNfB6+Vmu+h+ansZMtFFJU+4LMiHdtIQD/dQkcwG2hyQ6ZypscUxMic+Uye3AMZsn4+d+KAm17H57A+BjQkBXxdGkHlcqHq58tKztbwbPRqHJaQYyizKGLjFbnkFitOnVhmYpHBD456bQmNKGsm6q8zycDSkrXLwHM4RFWBJqdluBJtPttZ7JoIOBlpq0CkejWA7hTfTfXpeLZWDANNRyQenjEy1UxkEGsVmmgXy/fv3+vbtW339+rW+f/8+jEvpPDY6aZO/6EHce1DJXAlZT4l+o+Io4SE6xFiNnte9EvuNVpwx1GLxtg+/L13xoxsUZvuq3mIe1xs3lp4IIZDYHjRuq9VqoOtKPOk891A+v5VZWm8/GS+FFkwEzQLaXOVWwxFsDFbfS5L1dWtKysgsX0qnqx4aP1Pcwxn/nNeouIy00ZXWATVGG+e0d7qWSsE1Wa3VCFPZCulb1e4qBvceyZu5IZYR8Tq7oXJPT91kvzl1VPKDVJ6gl44qe6m+VltpHE5DAV4PApVDCDdzaZ1TKQdd6iiCzX9Ln12mZKh4njf0drvdWVrCAeLn5+f69evXMMdQcZkH0FW1Y6GUFlcShGn8r1+/7tENxgVUtBa4eu3iBsNniqhfBCDug8LtFXxMkMaAZfB4w8HAcqbsbZpKxjITpPzMND2fz1jM6WICml6qZ1q2o3OdVXjZVEd9ViLGE0jen02gOT9PwbiDrgeoltKMgc7Ll+IGBxiP6mRSBQFNFCIBjLQr1Ycz8H27OiUXXIGrag9YvPcYW0gAc+9LUDj18VdKWiRF8TiM3kBGTML2dkPg1I5sQbpDb0VAzGFRumfLeDGpxUSXjgQ6aSSHQUgdfRt5rsiQ7AEtNXaycCk4V+H8PH3mPaZ8xzL5e7dePDJdrsFIAYmb22iBpWZpkK8rqJX1YgddXV0NaXHfA0QD1z5omtpX4mNPyVMkkKlujElYVsYWDriUXfRBY/ZjSoIRGASdA61FH/lshhZ6BgGdPMsUcQOiexNk8oq8v3t7T5B4jCvGoASTj0feeLzksYMX0oNlejHGMN5YSYkcVE4dkkXylKx7CCY5uL+GvJcSHQJaa28LjomkVK4DjYDTzkseFyaqSAWS5Zbypn5x76z78XyBnFkzjpMJcKm/qYyueC0dYd3c06bZLfRmFPdqNBqMxbxdkrjDYHuzfTzDypiTQyI+yVrUm4uDCbRJHk2VSfGDOjV5NV1La9kCWDqHHdwSLxPL453NDW0EKmYT5dGS9aWXYaaR42eki6SNyjpRMVzZKOpsT127wXE6nAwDlbNFHVM85srPczxV7XVqZQCTR3NdS3VM+tAaQuC1SbztUt1Svd2bOdCSZ+P7PaC5C6/aHethw7LCtDL0ZHzvgbZ/nuLlXBhE02OonLL0+hfPX79+DQkPB5rmvIky8fnk52xAvTRv8fv378P4mRIj2oFJ4K56m2fnVM/bpZVkcCPCrQ0kHlPIi6W/o6IlJ4ApTN9zUx56Up/Z4gDzNH4S0lUHd4spka6qfZIkTy0AEAhsc/doY0DT72xvN047Hi3RiB6fdlCQ8vi4SIrHxqR1XqvMTmGcyqQUvl7euPJkpAkcg6JHkxcjLXNP6+Xy7GOqAw1IuoZjVa4wBF0LvK22nRM7p/ZWrJaocupjtpW+oy7p+l7Z/TdnWmrHVl3cGRBwTIB4MoSf08C/JAKNg469LJlTNlJHFd4HNemqWRg/tho1Zd18Nyj/nOYQ6hlsVMZjbEjOauciSW16miYQq46Mq5iI8SUxrXIz1kyrr1NMLMCT6npwTuPpYEo0n4kJ1qtlzGgMkv5QeqxGRsvP9Xslj0in4EkUNyYe0qSkEsGkOIybNvG8PaC5t3JO61YpWQ4V6OXlZQCXlha4p6iqnblgPfrYalBlEXUkneLUKVmjqtrhzco4aaGfOpRgY6NpGpV7NHo2JheY4ubMEx6Z6UzDDNwslfdJIGP7priMnsGtOuMW9in7i7Gms56U7HDlpzg91bOTsic94+9MnPD5Y+zJ6SavYVnSc9nGbsToVNxg7Hk0z5B5IJtiOhVCA3d0u4mSpWxSopxeWZbRx2l8GhM7kVbp9fV1AJriDlKtlBIXwAg0LpLkMhgqIAfI9fLsJ7OgXDHgQPPMqHskVwQyCPaX2odshH3oiuV9naitU9+W8HwqOFlQD2BeRumLYmxez99d6T02ZVl4HstEICawJZ2m7ADN6d54eBIAAA6xSURBVE56ecOyo1qu3wswBrSWl6Pl8pjAwacyEfCtwJnKyVS+XgloTJDoqPIx47ler4fEzHq9ruVyubM3yPPz87DVOD0ax/hSokHt4O3KoN1nkZPOJaPnnsSzkzQgrXiT50oIwMSQ1G6JwegzFdx1wZ+R+pNekMk+T6jx+Ty6EU40sRcPTx5HSyndBLZU2BbQWla0RSVpYdMYVYoHklXy9wx6fcxME3E1dqZYzamZd6THjJxX6f8KkwbTRRMTXfRYs6r2vBgNjPct+yj1BxMIvJbtm4yuS7oHr5cnS4Y0eQfXE6fB7GsCbbFY7GVNk4NJ0tLjVv6h5XBiMsStlAe3/D41ujdyAkzLu/lvVdn9ewcnSqtreb0AoveJCrhHY4zG8RIqhsctLY+m4QZ6NA09tDyaU0UXdrRbW1EzAsWVUZ9pnVPq3z2aZ0FbsRr7JV2XWJAruys0DRsNnL5nQkgeXs9o/UlIj/EkxiBD7Iwg0eDm7H23HmMU0RvUAdw6XwqroDZZBf3m17eA3apLstykBC3q6DMqqKBujDabzc52cb70xr2ZLzJN41KMq9hmbllTrMC2Ypvpt5ubm72+1Xtv21Y4QSA62NJ3KQOsZ7b6iEke/sZkCK9PfUedq9rdAbnnJPh895YtL+a6Grcy4MlUKHZGD2heWH63WLxtxKL3VXlSp3+XgJYaxt29K1LqQH8lgLkyq11I8V5eXgavpb0EuVejU0dmE3tDE9vt22Y1rIOP3bRA5uCgR0j977HP2MsB1ftuLOQY6x8pe7q/rvdFmwKa2lHHMS+sZ/nwT8ow9nBx4xyeFkJo32w2OxUboww965AqMuW75CXTMXVc1Zv1ur6+3hmG4IvjJF4PfaeNNvUbp3bJK4kK/vz5c6COpIyeRex1ctXushdP3fvcOxknptFTPKvPpFseg6XEhxuD1gQA6hMpdeorKbNP3OVCSu6izAxvVd7PxOMnnttiQU77CFommBhypBxAkhtXSvc4ApyDyoGmgveA5tLyelPOTc/ogdrLrjop3c/rVGenUYx3dB9mDLm+7fX1dYjLBLbWoG4LaBRaenW07/XBJT3eLi1jmF4tY9r67N9V7SfNqCOpXqxfi1nQyDAx5v1PwPg4ouuO60srtPCwgd5siux4NAktOgvWAlSqwNh3U+7LTht7bitZ4PTEKZYaUt5MnkPPFb24urraGYQXSH/+/DnQRIFtuVzW6+vrzhiYZxF9b5IW4DyTxp2ENdzALKPOlwdpGUfdkzGmPP3V1VX0ZO7RlL3Tta1nJUNI70NwcT4mNxDSe/7FlUuiwknXUlvTE3oMRtaQqPoUsN3QMqTCpcL6e1fyHuD8Om8AWkWPFRL4HIStOtCqkZLJs0lkZOjlhsb6/w1PrySAKR4j0Hxd3Ha7u1au1eleZnUmrSqXZ3ic4O3Sovju4VseLSV8WsymB7SWpLiMnsz3oBQIvI3YfmN1TmVIXpXJMo/Tj/Zo7OyWtCxHep86tmp/2busI+/R4vtOUfxZySB4p6hhlXlTfMrUrcq0WLztN6H3r6+v9X//93+1Xq/rv//9b/369WtIfLSUzj1FKjPFrT7nXGp8jzFI8vrJoOnejNOY3UwxWqK+KY5LoKtqz7Tw+vmqZa4+4NzCVqbPPbDrVM9JkLL6pAQHnMrdYlOU5gaqU12iJClJ6vSW1WQcxPjJrbo6L9GEKbFiit1SeQj6NMVHFCptuJro4FTLTgpTtZvK986mhaVCt/qD5e+1AykljeAUz+DPdyVkHX1ogl7Ll/UwHtV5rhuexONvrDOz2ZqOR6PbigtblNEz80l2+JE3/tjnnoxZ2JQK9c7je29MvUh5/PktsPEcr5ODvyVp/MvpUs9L6egKQUNDOuWUxb/T+ckQOa1KbZ8oZK/tWvXx9m2d757MDQcVnIrOZIiDSHV2/fK6sp1ZnpSISQmQlCir6v9h/A7QkuJNabjUyPRQ6TzvcCkphxRa1IvlSXQgvW8BP1kyliFdo3JwNoHop3sYp24CJGO9qv1tvNVpTHK4RWV7sG9UflIpGiY9owU29Qf7i0kWedsWoDlkQGHZ9Z4eS5O1uRyJMVqKjdwQuL5Q73SdflefsV3Sf5W3Mo30nGrnluxF/GNga0mynglsBJgUjuf7OaqAGpCd3GrkVC6P6Xg9PUNSPKdLBIzfw691sHk905HtQesrI+BtmWhaolKscwKal8EtNQ0Ay8X7k/aSFVDRW5659UrexEOHZEgT2FQfBwnb2Aen/bmH4OPk/2Ht1zjY3AI65UmBPT0Lj1O/88b3IL1qf9cjXsdETYpZpDyLxWKwwDyfr6urqyGpUvX2t1H0Qp4BVCez41P7qB7JWPCzg40xhiswhbGN7qUhAYonqPgsp4g+H5H/m+2LKl3hU9+6QZGwniwPf2tR2QQyr/OYHP2Pn1PA2KOVfJ+AxmPv/dhngovASUpHZSM4OW5EkFXtejTPMDIjx/bQM66v3zbhTPVm2ZgccdDwXLa5A9d/G2s/92SeTKDQcLI8qqcUl3NKldlLKf2UVk9e2MHmDCLFcwSQ2tWpugP0UDkKaFSIKZ6v5elaNHBOGcZ+9yyaB/5ePl3L8/XShjvb7e7uUx47cH3cYvE2xYl1lnEZE7+/npHK7orlz+q1Wes3go3e1z0wjYbfyxM4KekxZY5pot4EF+N4r0PV/pKiFjV1D36MRKAROC0QJes3l2YmOplc/ikkAU2AcWrK9+4dUjk9ltI9p3D6dC3bxc9xS8zzEtVRWZ1SuceeKomipVS/12ex2B2fFIj4v9mijRw363kXN9YS9740CvJaBG+PHpI9eDtQxtrwxhXmUDkWEB7LnfLeVZkiKTvI75PCpFevbJ5AIV1NGTE+p/W+9WJs0SpnMiD09K3fvHwsv485OpBbZWwtP0qTdVPd2OatNlN/09g5zfd7u5Fz9pDANkea1NG9Gh/I46nkmEpMFfccei7r6YrnDS9qxPEqneuz2LWBEOcH+phbyhS6VeXzx4DmipMMSfJK/juv8d9aiz/dqnuCgUkOeSytWqdn49SyFtjUXr16evnp+Xsg8/4/1ptVjYyjJQ/Timd69xmTKXHWqYDtYPOYyUHHWEMdpPu4JaciCmCc66jv3DN42ca8lyuM/8aETqKPfG5vrDB9T8/sSaXUT0x8cLlJGivz1QhjKXU3+q1kEvtZ5/l9W/rVcjhzZXQc7ZRKfkxBpwC8J4nuMYhPikVr5p1ESli1GwPSe3GmOwe5p9LUFJwTYOm8Hm30oQ3S2NZYY6LCBBiTD6lcPjOfg9Lc8ChlGlseXuXUM5L3aembx45JOMZ7CrY1Kes4BrZeLHBqOQZwCWC6Z8uC83m6TvTRJwbTe+nIqVoEptdhjBL2aGJ6pXZLYPHvq2rndweV/8ZMalXO6AlkApP+dlj7YopW0uulLGv6rPJO9Tpz9Ebt0cs6Tk0kTU7vT/Fsic9eojj9Iw3U9+q8zeZtGpQviK3aTai4Insck8bSnL70aOMY0FLdVC5JMiROHwmkluemJ+vRRp/lkSYOt+YVJi/m/bjdbiPgkihBMlcOucZlNL0/9v0hniVRpnOJK6Qro9NGdibnMJI+Vu1SMM681z0TwHycJnmoKR7N68Z6OPhb2cIpbcZye9uQJnI7Ai7WfHp6GhIg8mgelwlsqX6pjvzMKXCpDmIjvF59994SgdZS/PcAxDlBNvZ87zh6OgLMPVrV7h4dvA/XsLU8mo7+3VgywMUB4/FVosSsJ5/rMQon4EqooCqr/rKKANLqaMZhrZT+1LrOldQ255SzTMFy+WhwJSGAnHY5NaIllJUUkLQHidL7nhRJY2hTPEorDkvl1TFRQI9HeX+Wh3Fsa8hDQqD43xpxLiN3fE4Zxp6HntpWY9IyFO8t3fVoc+UzxGdj0orfqvZBR9p4dfW2z4aAdnNzM4CP07FaHqaVnGHZeokOL2MrViTYk0dt3dfPpQeSsUn/sqL3TOXTs/n9qo6b9jSmh+cEmKS5wvrvKnMySD3QMfAW0K6v3zbyIfheX1+H3zx716J2Ps41RTyx0aONCTg92qbzPUZkZpGejEBLXi4t4HxvkH0EwCSTqWMPkJ/Bk6XO8zq1gmmvH+MXn7GvbNx2uzupuPWXsxzE5kJQrixQGXpgIHhVDs3lTJvqOG2kV/JneMJBAPEZ+EzTKwHCOIw0kc/y/jnU+Cc9/EhwUY6O0f6u4jEQxedI+vmcZ8fVxu7tuJZLz2EKOmVCPWmSAJPKoZiL3wlcnF6mc3lPvqf3agHNPZrooc9kqdofGzulzAVZz2EcW8Z/DNDohXrSSyen79PsAXoleRHFbe69OJOEMZUvNnXh2JHKIxAR0Hwv+qqypoFlj70INKeJCWiJJnLqmp47ll2cypJOwaam3KNlWKee/2mBNrfiVfsj/Z4Q8PvOsWKuSPQkui9jOl2j8zjbRIBgTNd6nmdAuVauN/tD9/D1dK2pXO7R/JjeJ29FY9fLWNNbU94jTGk9qydzz/+0QHNJoGlJC3ASV+Kp9+W59DjJ+5BWusfx2ReevEj11vkc70oUlHVPiQ0HGYGm63qrkdOWAyy3M4tevx0CgEuVvw3QJIcAzsUpJrOO/G5MWvGXFJ4btzqoeB6TF6mu9FhpV6xWmR0QPlMlAY3gac1kmTL47O05pd9YpymhwJwpV+8N6r8d0CRzAOfiMx6Y2p96P3oAnw3C+ylBwSMBw5gqja3Ro1XtTvvysiRP1aKK+o3XpXv5+zmzWVJ7TvHcEmcmx8p7gu2kk4ovUaZY9p7Ick6pf4v+EGCih6mMvTEvejU/X+9bMzjSQscEFAdTq07Hik/vOvY5PcA5bT9EDg0hKH8bjzanMVpW65jOnqKcsphpeIAD4GMgS8CsyjHnWMJDQu81pT4J+KrHFJmaBT6VzKGRFO+nQw3D3wJop3L3LbC6BfZG7gGr9x2fx/sn79QCWI9WCkxMXhBsXp70vgeyVAZPJPWU+7OALclchne+Wv4r/8o/WP4F2r/yr5xB/h9g0nkkgqtH+AAAAABJRU5ErkJggg==\" y=\"-9.589844\"/>\n   </g>\n   <g id=\"matplotlib.axis_1\">\n    <g id=\"xtick_1\">\n     <g id=\"line2d_1\">\n      <defs>\n       <path d=\"M 0 0 \nL 0 3.5 \n\" id=\"m91f19eafa8\" style=\"stroke:#000000;stroke-width:0.8;\"/>\n      </defs>\n      <g>\n       <use style=\"stroke:#000000;stroke-width:0.8;\" x=\"34.136875\" xlink:href=\"#m91f19eafa8\" y=\"227.589844\"/>\n      </g>\n     </g>\n     <g id=\"text_1\">\n      <!-- 0 -->\n      <defs>\n       <path d=\"M 31.78125 66.40625 \nQ 24.171875 66.40625 20.328125 58.90625 \nQ 16.5 51.421875 16.5 36.375 \nQ 16.5 21.390625 20.328125 13.890625 \nQ 24.171875 6.390625 31.78125 6.390625 \nQ 39.453125 6.390625 43.28125 13.890625 \nQ 47.125 21.390625 47.125 36.375 \nQ 47.125 51.421875 43.28125 58.90625 \nQ 39.453125 66.40625 31.78125 66.40625 \nz\nM 31.78125 74.21875 \nQ 44.046875 74.21875 50.515625 64.515625 \nQ 56.984375 54.828125 56.984375 36.375 \nQ 56.984375 17.96875 50.515625 8.265625 \nQ 44.046875 -1.421875 31.78125 -1.421875 \nQ 19.53125 -1.421875 13.0625 8.265625 \nQ 6.59375 17.96875 6.59375 36.375 \nQ 6.59375 54.828125 13.0625 64.515625 \nQ 19.53125 74.21875 31.78125 74.21875 \nz\n\" id=\"DejaVuSans-48\"/>\n      </defs>\n      <g transform=\"translate(30.955625 242.188281)scale(0.1 -0.1)\">\n       <use xlink:href=\"#DejaVuSans-48\"/>\n      </g>\n     </g>\n    </g>\n    <g id=\"xtick_2\">\n     <g id=\"line2d_2\">\n      <g>\n       <use style=\"stroke:#000000;stroke-width:0.8;\" x=\"68.111875\" xlink:href=\"#m91f19eafa8\" y=\"227.589844\"/>\n      </g>\n     </g>\n     <g id=\"text_2\">\n      <!-- 20 -->\n      <defs>\n       <path d=\"M 19.1875 8.296875 \nL 53.609375 8.296875 \nL 53.609375 0 \nL 7.328125 0 \nL 7.328125 8.296875 \nQ 12.9375 14.109375 22.625 23.890625 \nQ 32.328125 33.6875 34.8125 36.53125 \nQ 39.546875 41.84375 41.421875 45.53125 \nQ 43.3125 49.21875 43.3125 52.78125 \nQ 43.3125 58.59375 39.234375 62.25 \nQ 35.15625 65.921875 28.609375 65.921875 \nQ 23.96875 65.921875 18.8125 64.3125 \nQ 13.671875 62.703125 7.8125 59.421875 \nL 7.8125 69.390625 \nQ 13.765625 71.78125 18.9375 73 \nQ 24.125 74.21875 28.421875 74.21875 \nQ 39.75 74.21875 46.484375 68.546875 \nQ 53.21875 62.890625 53.21875 53.421875 \nQ 53.21875 48.921875 51.53125 44.890625 \nQ 49.859375 40.875 45.40625 35.40625 \nQ 44.1875 33.984375 37.640625 27.21875 \nQ 31.109375 20.453125 19.1875 8.296875 \nz\n\" id=\"DejaVuSans-50\"/>\n      </defs>\n      <g transform=\"translate(61.749375 242.188281)scale(0.1 -0.1)\">\n       <use xlink:href=\"#DejaVuSans-50\"/>\n       <use x=\"63.623047\" xlink:href=\"#DejaVuSans-48\"/>\n      </g>\n     </g>\n    </g>\n    <g id=\"xtick_3\">\n     <g id=\"line2d_3\">\n      <g>\n       <use style=\"stroke:#000000;stroke-width:0.8;\" x=\"102.086875\" xlink:href=\"#m91f19eafa8\" y=\"227.589844\"/>\n      </g>\n     </g>\n     <g id=\"text_3\">\n      <!-- 40 -->\n      <defs>\n       <path d=\"M 37.796875 64.3125 \nL 12.890625 25.390625 \nL 37.796875 25.390625 \nz\nM 35.203125 72.90625 \nL 47.609375 72.90625 \nL 47.609375 25.390625 \nL 58.015625 25.390625 \nL 58.015625 17.1875 \nL 47.609375 17.1875 \nL 47.609375 0 \nL 37.796875 0 \nL 37.796875 17.1875 \nL 4.890625 17.1875 \nL 4.890625 26.703125 \nz\n\" id=\"DejaVuSans-52\"/>\n      </defs>\n      <g transform=\"translate(95.724375 242.188281)scale(0.1 -0.1)\">\n       <use xlink:href=\"#DejaVuSans-52\"/>\n       <use x=\"63.623047\" xlink:href=\"#DejaVuSans-48\"/>\n      </g>\n     </g>\n    </g>\n    <g id=\"xtick_4\">\n     <g id=\"line2d_4\">\n      <g>\n       <use style=\"stroke:#000000;stroke-width:0.8;\" x=\"136.061875\" xlink:href=\"#m91f19eafa8\" y=\"227.589844\"/>\n      </g>\n     </g>\n     <g id=\"text_4\">\n      <!-- 60 -->\n      <defs>\n       <path d=\"M 33.015625 40.375 \nQ 26.375 40.375 22.484375 35.828125 \nQ 18.609375 31.296875 18.609375 23.390625 \nQ 18.609375 15.53125 22.484375 10.953125 \nQ 26.375 6.390625 33.015625 6.390625 \nQ 39.65625 6.390625 43.53125 10.953125 \nQ 47.40625 15.53125 47.40625 23.390625 \nQ 47.40625 31.296875 43.53125 35.828125 \nQ 39.65625 40.375 33.015625 40.375 \nz\nM 52.59375 71.296875 \nL 52.59375 62.3125 \nQ 48.875 64.0625 45.09375 64.984375 \nQ 41.3125 65.921875 37.59375 65.921875 \nQ 27.828125 65.921875 22.671875 59.328125 \nQ 17.53125 52.734375 16.796875 39.40625 \nQ 19.671875 43.65625 24.015625 45.921875 \nQ 28.375 48.1875 33.59375 48.1875 \nQ 44.578125 48.1875 50.953125 41.515625 \nQ 57.328125 34.859375 57.328125 23.390625 \nQ 57.328125 12.15625 50.6875 5.359375 \nQ 44.046875 -1.421875 33.015625 -1.421875 \nQ 20.359375 -1.421875 13.671875 8.265625 \nQ 6.984375 17.96875 6.984375 36.375 \nQ 6.984375 53.65625 15.1875 63.9375 \nQ 23.390625 74.21875 37.203125 74.21875 \nQ 40.921875 74.21875 44.703125 73.484375 \nQ 48.484375 72.75 52.59375 71.296875 \nz\n\" id=\"DejaVuSans-54\"/>\n      </defs>\n      <g transform=\"translate(129.699375 242.188281)scale(0.1 -0.1)\">\n       <use xlink:href=\"#DejaVuSans-54\"/>\n       <use x=\"63.623047\" xlink:href=\"#DejaVuSans-48\"/>\n      </g>\n     </g>\n    </g>\n    <g id=\"xtick_5\">\n     <g id=\"line2d_5\">\n      <g>\n       <use style=\"stroke:#000000;stroke-width:0.8;\" x=\"170.036875\" xlink:href=\"#m91f19eafa8\" y=\"227.589844\"/>\n      </g>\n     </g>\n     <g id=\"text_5\">\n      <!-- 80 -->\n      <defs>\n       <path d=\"M 31.78125 34.625 \nQ 24.75 34.625 20.71875 30.859375 \nQ 16.703125 27.09375 16.703125 20.515625 \nQ 16.703125 13.921875 20.71875 10.15625 \nQ 24.75 6.390625 31.78125 6.390625 \nQ 38.8125 6.390625 42.859375 10.171875 \nQ 46.921875 13.96875 46.921875 20.515625 \nQ 46.921875 27.09375 42.890625 30.859375 \nQ 38.875 34.625 31.78125 34.625 \nz\nM 21.921875 38.8125 \nQ 15.578125 40.375 12.03125 44.71875 \nQ 8.5 49.078125 8.5 55.328125 \nQ 8.5 64.0625 14.71875 69.140625 \nQ 20.953125 74.21875 31.78125 74.21875 \nQ 42.671875 74.21875 48.875 69.140625 \nQ 55.078125 64.0625 55.078125 55.328125 \nQ 55.078125 49.078125 51.53125 44.71875 \nQ 48 40.375 41.703125 38.8125 \nQ 48.828125 37.15625 52.796875 32.3125 \nQ 56.78125 27.484375 56.78125 20.515625 \nQ 56.78125 9.90625 50.3125 4.234375 \nQ 43.84375 -1.421875 31.78125 -1.421875 \nQ 19.734375 -1.421875 13.25 4.234375 \nQ 6.78125 9.90625 6.78125 20.515625 \nQ 6.78125 27.484375 10.78125 32.3125 \nQ 14.796875 37.15625 21.921875 38.8125 \nz\nM 18.3125 54.390625 \nQ 18.3125 48.734375 21.84375 45.5625 \nQ 25.390625 42.390625 31.78125 42.390625 \nQ 38.140625 42.390625 41.71875 45.5625 \nQ 45.3125 48.734375 45.3125 54.390625 \nQ 45.3125 60.0625 41.71875 63.234375 \nQ 38.140625 66.40625 31.78125 66.40625 \nQ 25.390625 66.40625 21.84375 63.234375 \nQ 18.3125 60.0625 18.3125 54.390625 \nz\n\" id=\"DejaVuSans-56\"/>\n      </defs>\n      <g transform=\"translate(163.674375 242.188281)scale(0.1 -0.1)\">\n       <use xlink:href=\"#DejaVuSans-56\"/>\n       <use x=\"63.623047\" xlink:href=\"#DejaVuSans-48\"/>\n      </g>\n     </g>\n    </g>\n    <g id=\"xtick_6\">\n     <g id=\"line2d_6\">\n      <g>\n       <use style=\"stroke:#000000;stroke-width:0.8;\" x=\"204.011875\" xlink:href=\"#m91f19eafa8\" y=\"227.589844\"/>\n      </g>\n     </g>\n     <g id=\"text_6\">\n      <!-- 100 -->\n      <defs>\n       <path d=\"M 12.40625 8.296875 \nL 28.515625 8.296875 \nL 28.515625 63.921875 \nL 10.984375 60.40625 \nL 10.984375 69.390625 \nL 28.421875 72.90625 \nL 38.28125 72.90625 \nL 38.28125 8.296875 \nL 54.390625 8.296875 \nL 54.390625 0 \nL 12.40625 0 \nz\n\" id=\"DejaVuSans-49\"/>\n      </defs>\n      <g transform=\"translate(194.468125 242.188281)scale(0.1 -0.1)\">\n       <use xlink:href=\"#DejaVuSans-49\"/>\n       <use x=\"63.623047\" xlink:href=\"#DejaVuSans-48\"/>\n       <use x=\"127.246094\" xlink:href=\"#DejaVuSans-48\"/>\n      </g>\n     </g>\n    </g>\n    <g id=\"xtick_7\">\n     <g id=\"line2d_7\">\n      <g>\n       <use style=\"stroke:#000000;stroke-width:0.8;\" x=\"237.986875\" xlink:href=\"#m91f19eafa8\" y=\"227.589844\"/>\n      </g>\n     </g>\n     <g id=\"text_7\">\n      <!-- 120 -->\n      <g transform=\"translate(228.443125 242.188281)scale(0.1 -0.1)\">\n       <use xlink:href=\"#DejaVuSans-49\"/>\n       <use x=\"63.623047\" xlink:href=\"#DejaVuSans-50\"/>\n       <use x=\"127.246094\" xlink:href=\"#DejaVuSans-48\"/>\n      </g>\n     </g>\n    </g>\n   </g>\n   <g id=\"matplotlib.axis_2\">\n    <g id=\"ytick_1\">\n     <g id=\"line2d_8\">\n      <defs>\n       <path d=\"M 0 0 \nL -3.5 0 \n\" id=\"m43c1bae425\" style=\"stroke:#000000;stroke-width:0.8;\"/>\n      </defs>\n      <g>\n       <use style=\"stroke:#000000;stroke-width:0.8;\" x=\"33.2875\" xlink:href=\"#m43c1bae425\" y=\"10.999219\"/>\n      </g>\n     </g>\n     <g id=\"text_8\">\n      <!-- 0 -->\n      <g transform=\"translate(19.925 14.798438)scale(0.1 -0.1)\">\n       <use xlink:href=\"#DejaVuSans-48\"/>\n      </g>\n     </g>\n    </g>\n    <g id=\"ytick_2\">\n     <g id=\"line2d_9\">\n      <g>\n       <use style=\"stroke:#000000;stroke-width:0.8;\" x=\"33.2875\" xlink:href=\"#m43c1bae425\" y=\"44.974219\"/>\n      </g>\n     </g>\n     <g id=\"text_9\">\n      <!-- 20 -->\n      <g transform=\"translate(13.5625 48.773438)scale(0.1 -0.1)\">\n       <use xlink:href=\"#DejaVuSans-50\"/>\n       <use x=\"63.623047\" xlink:href=\"#DejaVuSans-48\"/>\n      </g>\n     </g>\n    </g>\n    <g id=\"ytick_3\">\n     <g id=\"line2d_10\">\n      <g>\n       <use style=\"stroke:#000000;stroke-width:0.8;\" x=\"33.2875\" xlink:href=\"#m43c1bae425\" y=\"78.949219\"/>\n      </g>\n     </g>\n     <g id=\"text_10\">\n      <!-- 40 -->\n      <g transform=\"translate(13.5625 82.748437)scale(0.1 -0.1)\">\n       <use xlink:href=\"#DejaVuSans-52\"/>\n       <use x=\"63.623047\" xlink:href=\"#DejaVuSans-48\"/>\n      </g>\n     </g>\n    </g>\n    <g id=\"ytick_4\">\n     <g id=\"line2d_11\">\n      <g>\n       <use style=\"stroke:#000000;stroke-width:0.8;\" x=\"33.2875\" xlink:href=\"#m43c1bae425\" y=\"112.924219\"/>\n      </g>\n     </g>\n     <g id=\"text_11\">\n      <!-- 60 -->\n      <g transform=\"translate(13.5625 116.723438)scale(0.1 -0.1)\">\n       <use xlink:href=\"#DejaVuSans-54\"/>\n       <use x=\"63.623047\" xlink:href=\"#DejaVuSans-48\"/>\n      </g>\n     </g>\n    </g>\n    <g id=\"ytick_5\">\n     <g id=\"line2d_12\">\n      <g>\n       <use style=\"stroke:#000000;stroke-width:0.8;\" x=\"33.2875\" xlink:href=\"#m43c1bae425\" y=\"146.899219\"/>\n      </g>\n     </g>\n     <g id=\"text_12\">\n      <!-- 80 -->\n      <g transform=\"translate(13.5625 150.698438)scale(0.1 -0.1)\">\n       <use xlink:href=\"#DejaVuSans-56\"/>\n       <use x=\"63.623047\" xlink:href=\"#DejaVuSans-48\"/>\n      </g>\n     </g>\n    </g>\n    <g id=\"ytick_6\">\n     <g id=\"line2d_13\">\n      <g>\n       <use style=\"stroke:#000000;stroke-width:0.8;\" x=\"33.2875\" xlink:href=\"#m43c1bae425\" y=\"180.874219\"/>\n      </g>\n     </g>\n     <g id=\"text_13\">\n      <!-- 100 -->\n      <g transform=\"translate(7.2 184.673438)scale(0.1 -0.1)\">\n       <use xlink:href=\"#DejaVuSans-49\"/>\n       <use x=\"63.623047\" xlink:href=\"#DejaVuSans-48\"/>\n       <use x=\"127.246094\" xlink:href=\"#DejaVuSans-48\"/>\n      </g>\n     </g>\n    </g>\n    <g id=\"ytick_7\">\n     <g id=\"line2d_14\">\n      <g>\n       <use style=\"stroke:#000000;stroke-width:0.8;\" x=\"33.2875\" xlink:href=\"#m43c1bae425\" y=\"214.849219\"/>\n      </g>\n     </g>\n     <g id=\"text_14\">\n      <!-- 120 -->\n      <g transform=\"translate(7.2 218.648438)scale(0.1 -0.1)\">\n       <use xlink:href=\"#DejaVuSans-49\"/>\n       <use x=\"63.623047\" xlink:href=\"#DejaVuSans-50\"/>\n       <use x=\"127.246094\" xlink:href=\"#DejaVuSans-48\"/>\n      </g>\n     </g>\n    </g>\n   </g>\n   <g id=\"patch_3\">\n    <path d=\"M 33.2875 227.589844 \nL 33.2875 10.149844 \n\" style=\"fill:none;stroke:#000000;stroke-linecap:square;stroke-linejoin:miter;stroke-width:0.8;\"/>\n   </g>\n   <g id=\"patch_4\">\n    <path d=\"M 250.7275 227.589844 \nL 250.7275 10.149844 \n\" style=\"fill:none;stroke:#000000;stroke-linecap:square;stroke-linejoin:miter;stroke-width:0.8;\"/>\n   </g>\n   <g id=\"patch_5\">\n    <path d=\"M 33.2875 227.589844 \nL 250.7275 227.589844 \n\" style=\"fill:none;stroke:#000000;stroke-linecap:square;stroke-linejoin:miter;stroke-width:0.8;\"/>\n   </g>\n   <g id=\"patch_6\">\n    <path d=\"M 33.2875 10.149844 \nL 250.7275 10.149844 \n\" style=\"fill:none;stroke:#000000;stroke-linecap:square;stroke-linejoin:miter;stroke-width:0.8;\"/>\n   </g>\n  </g>\n </g>\n <defs>\n  <clipPath id=\"p13d2822d93\">\n   <rect height=\"217.44\" width=\"217.44\" x=\"33.2875\" y=\"10.149844\"/>\n  </clipPath>\n </defs>\n</svg>\n"
          },
          "metadata": {
            "needs_background": "light"
          }
        }
      ]
    },
    {
      "cell_type": "code",
      "source": [
        "# download the CIFAR10 dataset\n",
        "\n",
        "cdata = torchvision.datasets.CIFAR10(root= 'cifar10', download= True)\n",
        "\n",
        "print(cdata)"
      ],
      "metadata": {
        "id": "gtjyd4dGQXEE"
      },
      "execution_count": null,
      "outputs": []
    },
    {
      "cell_type": "code",
      "source": [
        "# inspect the data\n",
        "\n",
        "# the categories (but how many letters??)\n",
        "print(cdata.classes)\n",
        "print(str(len(cdata.classes)) + ' classes')\n",
        "\n",
        "print('\\nData size:')\n",
        "print(cdata.data.shape)\n",
        "\n",
        "# .targets is a list of targets converted to ints\n",
        "print(len(cdata.targets))\n",
        "print(type(cdata.data))\n",
        "\n",
        "# Creating variables for data reshaping\n",
        "numPics = cdata.data.shape[0]\n",
        "numPixels = cdata.data.shape[1]\n",
        "numChans = cdata.data.shape[3]\n",
        "\n",
        "# transform to 4D tensor for conv layers (and transform from int8 to float)\n",
        "# images = cdata.data.view([numPics,numChans,numPixels,numPixels]).float()\n",
        "# print('\\nTensor data:')\n",
        "# print(images.shape)"
      ],
      "metadata": {
        "id": "f9tOEFVfQpKR"
      },
      "execution_count": null,
      "outputs": []
    },
    {
      "cell_type": "code",
      "source": [
        "Ts = T.Compose([T.ToTensor(),   # Compose function group together some transformers into one object\n",
        "                T.Resize(32*4),\n",
        "                T.Grayscale(num_output_channels= 1)\n",
        "                ])\n",
        "print(type(Ts))\n",
        "\n",
        "# include the transform in the dataset\n",
        "cdata.transform = Ts\n",
        "\n",
        "print('Data Shape: ',cdata.data[123,:,:,:].shape)\n",
        "\n",
        "# option 1: apply transform \"externally\" to an image\n",
        "imageno = 123\n",
        "img1 = Ts(cdata.data[imageno,:,:,:])\n",
        "\n",
        "# option 2 : use the embedded transform\n",
        "img2 = cdata.transform(cdata.data[imageno,:,:,:])\n",
        "\n",
        "# let's see what we've done!\n",
        "fig, ax = plt.subplots(1,3, figsize= (10, 3))\n",
        "ax[0].imshow(cdata.data[imageno,:,:,:])\n",
        "ax[1].imshow(torch.squeeze(img1))\n",
        "ax[2].imshow(torch.squeeze(img2), cmap= 'gray')\n",
        "\n",
        "plt.show()"
      ],
      "metadata": {
        "id": "1MWrVAY5VBGS"
      },
      "execution_count": null,
      "outputs": []
    },
    {
      "cell_type": "code",
      "source": [
        "print(type(img2))"
      ],
      "metadata": {
        "id": "pcBXKnSTVX-i"
      },
      "execution_count": null,
      "outputs": []
    },
    {
      "cell_type": "code",
      "source": [
        "print(cdata.data.shape)"
      ],
      "metadata": {
        "id": "yeHSjMIUfunY"
      },
      "execution_count": null,
      "outputs": []
    },
    {
      "cell_type": "code",
      "source": [
        "# Creating variables for data reshaping\n",
        "numPics = cdata.data.shape[0]\n",
        "numPixels = cdata.data.shape[1]\n",
        "numChans = cdata.data.shape[3]\n",
        "\n"
      ],
      "metadata": {
        "id": "b-8wRfL-fzgY"
      },
      "execution_count": null,
      "outputs": []
    },
    {
      "cell_type": "markdown",
      "source": [
        "## Change the type of data to Tensor in 4Dimensions\n"
      ],
      "metadata": {
        "id": "mS3_wD4HhJlj"
      }
    },
    {
      "cell_type": "code",
      "source": [
        "print(cdata)"
      ],
      "metadata": {
        "id": "AFaO64zXgnwM"
      },
      "execution_count": null,
      "outputs": []
    },
    {
      "cell_type": "code",
      "source": [
        "print(cdata.data.shape)"
      ],
      "metadata": {
        "id": "e7dvC3g8hHnP"
      },
      "execution_count": null,
      "outputs": []
    },
    {
      "cell_type": "code",
      "source": [
        "print(type(cdata.data))"
      ],
      "metadata": {
        "id": "nqi4uWBWhUB2"
      },
      "execution_count": null,
      "outputs": []
    },
    {
      "cell_type": "code",
      "source": [
        "# Converting numpy array to torch Tensor\n",
        "cdataT = torch.from_numpy(cdata.data)\n",
        "print(type(cdataT))"
      ],
      "metadata": {
        "id": "wQ2vuVxMhf2O"
      },
      "execution_count": null,
      "outputs": []
    },
    {
      "cell_type": "code",
      "source": [
        "# Check the shape of the torch\n",
        "print(cdataT.shape)"
      ],
      "metadata": {
        "id": "8n-nDKjbi3Fp"
      },
      "execution_count": null,
      "outputs": []
    },
    {
      "cell_type": "code",
      "source": [
        "# Convert the shape to (Number of pics, number of channels, Number of H pixels, Number of W pixels)\n",
        "\n",
        "numPics = cdataT.data.shape[0]\n",
        "numPixels = cdataT.data.shape[1]\n",
        "numChans = cdataT.data.shape[3]\n",
        "\n",
        "# print(numPics)\n",
        "# print(numPixels)\n",
        "# print(numChans)\n",
        "print('Original data Shape:\\n',cdataT.data.shape)\n",
        "\n",
        "images = cdataT.data.reshape([numPics, numChans, numPixels, numPixels]).float()\n",
        "print('\\nTensor data:\\n',images.shape)"
      ],
      "metadata": {
        "id": "GozRMHFri88R"
      },
      "execution_count": null,
      "outputs": []
    },
    {
      "cell_type": "code",
      "source": [
        "\n",
        "print(len(cdata.targets))\n",
        "print(type(cdata.targets))\n",
        "print(type(cdata.targets[0]))"
      ],
      "metadata": {
        "id": "N4b3goEBjZ2G"
      },
      "execution_count": null,
      "outputs": []
    },
    {
      "cell_type": "code",
      "source": [
        "# Converting the targets to torch tensor\n",
        "labelsT = torch.tensor(cdata.targets)\n",
        "print(type(labelsT))\n",
        "print(labelsT.shape)"
      ],
      "metadata": {
        "id": "t2qOJIC2lDFl"
      },
      "execution_count": null,
      "outputs": []
    },
    {
      "cell_type": "code",
      "source": [
        "# Finding the final label for the pics\n",
        "for i in range(10):\n",
        "    print(cdata.classes[cdata.targets[i]])"
      ],
      "metadata": {
        "id": "EDRo7_tnmCGi"
      },
      "execution_count": null,
      "outputs": []
    },
    {
      "cell_type": "code",
      "source": [
        "random_list = np.random.randint(1, 100, 10)\n",
        "random_list"
      ],
      "metadata": {
        "id": "IXhQ0uc3mOpZ"
      },
      "execution_count": null,
      "outputs": []
    },
    {
      "cell_type": "code",
      "source": [
        "# make a visualization of the number of images in each category\n",
        "plt.hist(images[:,:,:,:].view(1,-1).detach(), 10)\n",
        "plt.title('Number of Images in Each category')\n",
        "plt.show()"
      ],
      "metadata": {
        "id": "qM4Y-h7dpRGf"
      },
      "execution_count": null,
      "outputs": []
    },
    {
      "cell_type": "code",
      "source": [
        "plt.hist(labelsT.view(1,-1).detach(), 10)\n",
        "plt.title('Number of pics in each category')\n",
        "plt.xticks(ticks = range(0,10))\n",
        "plt.show()"
      ],
      "metadata": {
        "id": "9Y_aBYpkpUGf"
      },
      "execution_count": null,
      "outputs": []
    },
    {
      "cell_type": "code",
      "source": [
        "# a function that trains the model\n",
        "\n",
        "# def function2trainTheModel():\n",
        "\n",
        "# number of epochs\n",
        "numepochs = 1\n",
        "\n",
        "# create a new model\n",
        "net, lossfun, optimizer = createTheCIFARNet()\n",
        "\n",
        "# send the model to the GPU           -------------->   GPU\n",
        "net.to(device)\n",
        "\n",
        "# initialize losses\n",
        "losses    = torch.zeros(numepochs)\n",
        "trainAcc  = []\n",
        "testAcc   = []\n",
        "\n",
        "\n",
        "# loop over epochs\n",
        "for epochi in range(numepochs):\n",
        "\n",
        "    # loop over training data batches\n",
        "    # net.train()\n",
        "    batchAcc  = []\n",
        "    batchLoss = []\n",
        "    for X,y in train_loader:\n",
        "\n",
        "        # push data to GPU          -------------->   GPU\n",
        "        X = X.to(device)\n",
        "        y = y.to(device)\n",
        "\n",
        "        # forward pass and loss\n",
        "        yHat = net(X)\n",
        "        loss = lossfun(yHat,y)\n",
        "\n",
        "        # backprop\n",
        "        optimizer.zero_grad()\n",
        "        loss.backward()\n",
        "        optimizer.step()\n",
        "\n",
        "        # loss from this batch\n",
        "        batchLoss.append(loss.item())\n",
        "\n",
        "        # compute accuracy\n",
        "        matches = torch.argmax(yHat,axis=1) == y                # booleans (false/true)\n",
        "        matchesNumeric = matches.float()                        # convert to numbers (0/1)\n",
        "        accuracyPct = 100*torch.mean(matchesNumeric).item()     # average and x100\n",
        "        batchAcc.append( accuracyPct )                          # add to list of accuracies\n",
        "\n",
        "    # end of batch loop...\n",
        "\n",
        "    # now that we've trained through the batches, get their average training accuracy\n",
        "    print(type(batchAcc))\n",
        "    print(type(batchLoss))\n",
        "    var0 = np.mean(batchAcc)\n",
        "    trainAcc.append( var0 )\n",
        "    # trainAcc.cpu().append( np.mean(batchAcc) )\n",
        "    # trainAcc.append( np.mean(batchAcc.cpu()) )\n",
        "\n",
        "    # and get average losses across the batches\n",
        "    losses[epochi] = np.mean(batchLoss)\n",
        "\n",
        "    # test accuracy\n",
        "    net.eval()\n",
        "    X,y = next(iter(test_loader)) # extract X,y from test dataloader\n",
        "\n",
        "    # push data to GPU          -------------->   GPU\n",
        "    X = X.to(device)\n",
        "    y = y.to(device)\n",
        "\n",
        "    with torch.no_grad():     # deactivates autograd\n",
        "        yHat = net(X)\n",
        "    \n",
        "    # compare the following really long line of code to the training accuracy lines\n",
        "    testAcc.append( 100*torch.mean((torch.argmax(yHat,axis=1)==y).float()).item() )\n",
        "\n",
        "# end epochs\n",
        "\n",
        "# function output\n",
        "# return trainAcc,testAcc,losses,net\n"
      ],
      "metadata": {
        "id": "HFn-fjfNX1xn"
      },
      "execution_count": null,
      "outputs": []
    },
    {
      "cell_type": "markdown",
      "source": [
        "# Program start  Using GPU in this program\n",
        "## read the data, convert to tensor, train the model with 3 convolotion max pooling\n",
        "\n",
        "## with 30 epoch, accuracy <45 and time 15 mins with CPU\n",
        "\n",
        "## with 60 epoch, accuracy <45 and time 30 mins with CPU\n"
      ],
      "metadata": {
        "id": "I-s1jBQXmtry"
      }
    },
    {
      "cell_type": "code",
      "source": [
        "# import libraries\n",
        "import numpy as np\n",
        "\n",
        "import torch\n",
        "import torch.nn as nn\n",
        "import torch.nn.functional as F\n",
        "import copy\n",
        "from sklearn.model_selection import train_test_split\n",
        "\n",
        "# for importing data\n",
        "import torchvision\n",
        "import torchvision.transforms as T\n",
        "from torch.utils.data import TensorDataset,DataLoader\n",
        "\n",
        "import matplotlib.pyplot as plt\n",
        "from IPython import display\n",
        "display.set_matplotlib_formats('svg')\n",
        "\n",
        "# for getting summary info on models\n",
        "from torchsummary import summary"
      ],
      "metadata": {
        "id": "GnSeylUzmvbE"
      },
      "execution_count": 1,
      "outputs": []
    },
    {
      "cell_type": "code",
      "source": [
        "# use GPU if available\n",
        "device = torch.device('cuda:0' if torch.cuda.is_available() else 'cpu')"
      ],
      "metadata": {
        "id": "WzlW-mYUVugl"
      },
      "execution_count": 2,
      "outputs": []
    },
    {
      "cell_type": "code",
      "source": [
        "# download the CIFAR10 dataset\n",
        "\n",
        "cdata = torchvision.datasets.CIFAR10(root= 'cifar10', download= True)\n",
        "\n",
        "print(cdata)"
      ],
      "metadata": {
        "colab": {
          "base_uri": "https://localhost:8080/",
          "height": 153,
          "referenced_widgets": [
            "4a033f52688f49afbdfa32c34b2e561d",
            "ebbffb4d5d874ae39e5e5a23db0093b9",
            "e4c4d4ba24b54e5398b73225d6c4a3fc",
            "b85a574e9b1244268a2517ad4c00b633",
            "bc3f8d21e258430ca2ec592a9c611ff8",
            "206427e366854652a231b09ad2b6f772",
            "7ad2544409814f53987f6067249d3092",
            "8abe198960da4bd3af08bc0f04aacca1",
            "fec544c7ecab4034bc52933d23b05fa2",
            "de08cef853f647e89a13bbd9dd723a3a",
            "1e6b1898b3584e418b4dd61fe79ee5b4"
          ]
        },
        "id": "8K2m1uZhmy5x",
        "outputId": "67c612d5-c5a3-4c6c-a35c-99e986f84f44"
      },
      "execution_count": 3,
      "outputs": [
        {
          "output_type": "stream",
          "name": "stdout",
          "text": [
            "Downloading https://www.cs.toronto.edu/~kriz/cifar-10-python.tar.gz to cifar10/cifar-10-python.tar.gz\n"
          ]
        },
        {
          "output_type": "display_data",
          "data": {
            "application/vnd.jupyter.widget-view+json": {
              "model_id": "4a033f52688f49afbdfa32c34b2e561d",
              "version_minor": 0,
              "version_major": 2
            },
            "text/plain": [
              "  0%|          | 0/170498071 [00:00<?, ?it/s]"
            ]
          },
          "metadata": {}
        },
        {
          "output_type": "stream",
          "name": "stdout",
          "text": [
            "Extracting cifar10/cifar-10-python.tar.gz to cifar10\n",
            "Dataset CIFAR10\n",
            "    Number of datapoints: 50000\n",
            "    Root location: cifar10\n",
            "    Split: Train\n"
          ]
        }
      ]
    },
    {
      "cell_type": "code",
      "source": [
        "# inspect the data\n",
        "\n",
        "# the categories (but how many classes??)\n",
        "print(cdata.classes)\n",
        "print(str(len(cdata.classes)) + ' classes')\n",
        "\n",
        "print('\\nData size:')\n",
        "print(cdata.data.shape)\n",
        "\n",
        "# .targets is a list of targets converted to ints\n",
        "print(len(cdata.targets))\n",
        "print(type(cdata.data))\n",
        "\n",
        "# Converting numpy array to torch Tensor\n",
        "cdataT = torch.from_numpy(cdata.data)\n",
        "print('\\nAfter converting: \\n')\n",
        "print(type(cdataT))\n",
        "\n",
        "# Convert the shape to (Number of pics, number of channels, Number of H pixels, Number of W pixels)\n",
        "print('\\nOriginal data Shape:\\n',cdataT.data.shape)\n",
        "\n",
        "# Creating variables for data reshaping\n",
        "numPics = cdata.data.shape[0]\n",
        "numPixels = cdata.data.shape[1]\n",
        "numChans = cdata.data.shape[3]\n",
        "\n",
        "images = cdataT.data.reshape([numPics, numChans, numPixels, numPixels]).float()\n",
        "print('\\nTensor data:\\n',images.shape)"
      ],
      "metadata": {
        "colab": {
          "base_uri": "https://localhost:8080/"
        },
        "id": "g5eV-57lnAbO",
        "outputId": "5b49a708-dfae-4f33-8abe-f3faef352105"
      },
      "execution_count": 4,
      "outputs": [
        {
          "output_type": "stream",
          "name": "stdout",
          "text": [
            "['airplane', 'automobile', 'bird', 'cat', 'deer', 'dog', 'frog', 'horse', 'ship', 'truck']\n",
            "10 classes\n",
            "\n",
            "Data size:\n",
            "(50000, 32, 32, 3)\n",
            "50000\n",
            "<class 'numpy.ndarray'>\n",
            "\n",
            "After converting: \n",
            "\n",
            "<class 'torch.Tensor'>\n",
            "\n",
            "Original data Shape:\n",
            " torch.Size([50000, 32, 32, 3])\n",
            "\n",
            "Tensor data:\n",
            " torch.Size([50000, 3, 32, 32])\n"
          ]
        }
      ]
    },
    {
      "cell_type": "code",
      "source": [
        "# Converting the targets to torch tensor\n",
        "labelsT = torch.tensor(cdata.targets).long()\n",
        "print(type(labelsT))\n",
        "print(labelsT.shape)\n",
        "print(torch.unique(labelsT))"
      ],
      "metadata": {
        "colab": {
          "base_uri": "https://localhost:8080/"
        },
        "id": "VpaaehDlnDs3",
        "outputId": "f3fb6d21-8e6a-416f-c469-d9914ce0f0b4"
      },
      "execution_count": 5,
      "outputs": [
        {
          "output_type": "stream",
          "name": "stdout",
          "text": [
            "<class 'torch.Tensor'>\n",
            "torch.Size([50000])\n",
            "tensor([0, 1, 2, 3, 4, 5, 6, 7, 8, 9])\n"
          ]
        }
      ]
    },
    {
      "cell_type": "code",
      "source": [
        "# Finding the final label for the pics\n",
        "random_list = np.random.randint(1, 100, 10)\n",
        "for i in random_list:\n",
        "    print(cdata.classes[cdata.targets[i]])"
      ],
      "metadata": {
        "colab": {
          "base_uri": "https://localhost:8080/"
        },
        "id": "lgfXONnRnZ_9",
        "outputId": "37fc12af-b881-43d1-ff46-655e3a1121d7"
      },
      "execution_count": 6,
      "outputs": [
        {
          "output_type": "stream",
          "name": "stdout",
          "text": [
            "truck\n",
            "bird\n",
            "bird\n",
            "truck\n",
            "dog\n",
            "cat\n",
            "bird\n",
            "truck\n",
            "dog\n",
            "truck\n"
          ]
        }
      ]
    },
    {
      "cell_type": "code",
      "source": [
        "plt.hist(labelsT.view(1,-1).detach(), 10)\n",
        "plt.title('Number of pics in each category')\n",
        "plt.xticks(ticks = range(0,10))\n",
        "plt.show()"
      ],
      "metadata": {
        "colab": {
          "base_uri": "https://localhost:8080/",
          "height": 373
        },
        "id": "4BnSrcswoPRi",
        "outputId": "46f22299-09c0-40f8-9b74-667167713f7c"
      },
      "execution_count": 7,
      "outputs": [
        {
          "output_type": "display_data",
          "data": {
            "text/plain": [
              "<Figure size 432x288 with 1 Axes>"
            ],
            "image/svg+xml": "<?xml version=\"1.0\" encoding=\"utf-8\" standalone=\"no\"?>\n<!DOCTYPE svg PUBLIC \"-//W3C//DTD SVG 1.1//EN\"\n  \"http://www.w3.org/Graphics/SVG/1.1/DTD/svg11.dtd\">\n<!-- Created with matplotlib (https://matplotlib.org/) -->\n<svg height=\"263.63625pt\" version=\"1.1\" viewBox=\"0 0 381.65 263.63625\" width=\"381.65pt\" xmlns=\"http://www.w3.org/2000/svg\" xmlns:xlink=\"http://www.w3.org/1999/xlink\">\n <defs>\n  <style type=\"text/css\">\n*{stroke-linecap:butt;stroke-linejoin:round;}\n  </style>\n </defs>\n <g id=\"figure_1\">\n  <g id=\"patch_1\">\n   <path d=\"M -0 263.63625 \nL 381.65 263.63625 \nL 381.65 0 \nL -0 0 \nz\n\" style=\"fill:none;\"/>\n  </g>\n  <g id=\"axes_1\">\n   <g id=\"patch_2\">\n    <path d=\"M 39.65 239.758125 \nL 374.45 239.758125 \nL 374.45 22.318125 \nL 39.65 22.318125 \nz\n\" style=\"fill:#ffffff;\"/>\n   </g>\n   <g id=\"patch_3\">\n    <path clip-path=\"url(#p5c0025f1d3)\" d=\"M 54.868182 239.758125 \nL 85.304545 239.758125 \nL 85.304545 32.672411 \nL 54.868182 32.672411 \nz\n\" style=\"fill:#1f77b4;\"/>\n   </g>\n   <g id=\"patch_4\">\n    <path clip-path=\"url(#p5c0025f1d3)\" d=\"M 85.304545 239.758125 \nL 115.740909 239.758125 \nL 115.740909 32.672411 \nL 85.304545 32.672411 \nz\n\" style=\"fill:#1f77b4;\"/>\n   </g>\n   <g id=\"patch_5\">\n    <path clip-path=\"url(#p5c0025f1d3)\" d=\"M 115.740909 239.758125 \nL 146.177273 239.758125 \nL 146.177273 32.672411 \nL 115.740909 32.672411 \nz\n\" style=\"fill:#1f77b4;\"/>\n   </g>\n   <g id=\"patch_6\">\n    <path clip-path=\"url(#p5c0025f1d3)\" d=\"M 146.177273 239.758125 \nL 176.613636 239.758125 \nL 176.613636 32.672411 \nL 146.177273 32.672411 \nz\n\" style=\"fill:#1f77b4;\"/>\n   </g>\n   <g id=\"patch_7\">\n    <path clip-path=\"url(#p5c0025f1d3)\" d=\"M 176.613636 239.758125 \nL 207.05 239.758125 \nL 207.05 32.672411 \nL 176.613636 32.672411 \nz\n\" style=\"fill:#1f77b4;\"/>\n   </g>\n   <g id=\"patch_8\">\n    <path clip-path=\"url(#p5c0025f1d3)\" d=\"M 207.05 239.758125 \nL 237.486364 239.758125 \nL 237.486364 32.672411 \nL 207.05 32.672411 \nz\n\" style=\"fill:#1f77b4;\"/>\n   </g>\n   <g id=\"patch_9\">\n    <path clip-path=\"url(#p5c0025f1d3)\" d=\"M 237.486364 239.758125 \nL 267.922727 239.758125 \nL 267.922727 32.672411 \nL 237.486364 32.672411 \nz\n\" style=\"fill:#1f77b4;\"/>\n   </g>\n   <g id=\"patch_10\">\n    <path clip-path=\"url(#p5c0025f1d3)\" d=\"M 267.922727 239.758125 \nL 298.359091 239.758125 \nL 298.359091 32.672411 \nL 267.922727 32.672411 \nz\n\" style=\"fill:#1f77b4;\"/>\n   </g>\n   <g id=\"patch_11\">\n    <path clip-path=\"url(#p5c0025f1d3)\" d=\"M 298.359091 239.758125 \nL 328.795455 239.758125 \nL 328.795455 32.672411 \nL 298.359091 32.672411 \nz\n\" style=\"fill:#1f77b4;\"/>\n   </g>\n   <g id=\"patch_12\">\n    <path clip-path=\"url(#p5c0025f1d3)\" d=\"M 328.795455 239.758125 \nL 359.231818 239.758125 \nL 359.231818 32.672411 \nL 328.795455 32.672411 \nz\n\" style=\"fill:#1f77b4;\"/>\n   </g>\n   <g id=\"matplotlib.axis_1\">\n    <g id=\"xtick_1\">\n     <g id=\"line2d_1\">\n      <defs>\n       <path d=\"M 0 0 \nL 0 3.5 \n\" id=\"m7fb459cf97\" style=\"stroke:#000000;stroke-width:0.8;\"/>\n      </defs>\n      <g>\n       <use style=\"stroke:#000000;stroke-width:0.8;\" x=\"54.868182\" xlink:href=\"#m7fb459cf97\" y=\"239.758125\"/>\n      </g>\n     </g>\n     <g id=\"text_1\">\n      <!-- 0 -->\n      <defs>\n       <path d=\"M 31.78125 66.40625 \nQ 24.171875 66.40625 20.328125 58.90625 \nQ 16.5 51.421875 16.5 36.375 \nQ 16.5 21.390625 20.328125 13.890625 \nQ 24.171875 6.390625 31.78125 6.390625 \nQ 39.453125 6.390625 43.28125 13.890625 \nQ 47.125 21.390625 47.125 36.375 \nQ 47.125 51.421875 43.28125 58.90625 \nQ 39.453125 66.40625 31.78125 66.40625 \nz\nM 31.78125 74.21875 \nQ 44.046875 74.21875 50.515625 64.515625 \nQ 56.984375 54.828125 56.984375 36.375 \nQ 56.984375 17.96875 50.515625 8.265625 \nQ 44.046875 -1.421875 31.78125 -1.421875 \nQ 19.53125 -1.421875 13.0625 8.265625 \nQ 6.59375 17.96875 6.59375 36.375 \nQ 6.59375 54.828125 13.0625 64.515625 \nQ 19.53125 74.21875 31.78125 74.21875 \nz\n\" id=\"DejaVuSans-48\"/>\n      </defs>\n      <g transform=\"translate(51.686932 254.356563)scale(0.1 -0.1)\">\n       <use xlink:href=\"#DejaVuSans-48\"/>\n      </g>\n     </g>\n    </g>\n    <g id=\"xtick_2\">\n     <g id=\"line2d_2\">\n      <g>\n       <use style=\"stroke:#000000;stroke-width:0.8;\" x=\"88.686364\" xlink:href=\"#m7fb459cf97\" y=\"239.758125\"/>\n      </g>\n     </g>\n     <g id=\"text_2\">\n      <!-- 1 -->\n      <defs>\n       <path d=\"M 12.40625 8.296875 \nL 28.515625 8.296875 \nL 28.515625 63.921875 \nL 10.984375 60.40625 \nL 10.984375 69.390625 \nL 28.421875 72.90625 \nL 38.28125 72.90625 \nL 38.28125 8.296875 \nL 54.390625 8.296875 \nL 54.390625 0 \nL 12.40625 0 \nz\n\" id=\"DejaVuSans-49\"/>\n      </defs>\n      <g transform=\"translate(85.505114 254.356563)scale(0.1 -0.1)\">\n       <use xlink:href=\"#DejaVuSans-49\"/>\n      </g>\n     </g>\n    </g>\n    <g id=\"xtick_3\">\n     <g id=\"line2d_3\">\n      <g>\n       <use style=\"stroke:#000000;stroke-width:0.8;\" x=\"122.504545\" xlink:href=\"#m7fb459cf97\" y=\"239.758125\"/>\n      </g>\n     </g>\n     <g id=\"text_3\">\n      <!-- 2 -->\n      <defs>\n       <path d=\"M 19.1875 8.296875 \nL 53.609375 8.296875 \nL 53.609375 0 \nL 7.328125 0 \nL 7.328125 8.296875 \nQ 12.9375 14.109375 22.625 23.890625 \nQ 32.328125 33.6875 34.8125 36.53125 \nQ 39.546875 41.84375 41.421875 45.53125 \nQ 43.3125 49.21875 43.3125 52.78125 \nQ 43.3125 58.59375 39.234375 62.25 \nQ 35.15625 65.921875 28.609375 65.921875 \nQ 23.96875 65.921875 18.8125 64.3125 \nQ 13.671875 62.703125 7.8125 59.421875 \nL 7.8125 69.390625 \nQ 13.765625 71.78125 18.9375 73 \nQ 24.125 74.21875 28.421875 74.21875 \nQ 39.75 74.21875 46.484375 68.546875 \nQ 53.21875 62.890625 53.21875 53.421875 \nQ 53.21875 48.921875 51.53125 44.890625 \nQ 49.859375 40.875 45.40625 35.40625 \nQ 44.1875 33.984375 37.640625 27.21875 \nQ 31.109375 20.453125 19.1875 8.296875 \nz\n\" id=\"DejaVuSans-50\"/>\n      </defs>\n      <g transform=\"translate(119.323295 254.356563)scale(0.1 -0.1)\">\n       <use xlink:href=\"#DejaVuSans-50\"/>\n      </g>\n     </g>\n    </g>\n    <g id=\"xtick_4\">\n     <g id=\"line2d_4\">\n      <g>\n       <use style=\"stroke:#000000;stroke-width:0.8;\" x=\"156.322727\" xlink:href=\"#m7fb459cf97\" y=\"239.758125\"/>\n      </g>\n     </g>\n     <g id=\"text_4\">\n      <!-- 3 -->\n      <defs>\n       <path d=\"M 40.578125 39.3125 \nQ 47.65625 37.796875 51.625 33 \nQ 55.609375 28.21875 55.609375 21.1875 \nQ 55.609375 10.40625 48.1875 4.484375 \nQ 40.765625 -1.421875 27.09375 -1.421875 \nQ 22.515625 -1.421875 17.65625 -0.515625 \nQ 12.796875 0.390625 7.625 2.203125 \nL 7.625 11.71875 \nQ 11.71875 9.328125 16.59375 8.109375 \nQ 21.484375 6.890625 26.8125 6.890625 \nQ 36.078125 6.890625 40.9375 10.546875 \nQ 45.796875 14.203125 45.796875 21.1875 \nQ 45.796875 27.640625 41.28125 31.265625 \nQ 36.765625 34.90625 28.71875 34.90625 \nL 20.21875 34.90625 \nL 20.21875 43.015625 \nL 29.109375 43.015625 \nQ 36.375 43.015625 40.234375 45.921875 \nQ 44.09375 48.828125 44.09375 54.296875 \nQ 44.09375 59.90625 40.109375 62.90625 \nQ 36.140625 65.921875 28.71875 65.921875 \nQ 24.65625 65.921875 20.015625 65.03125 \nQ 15.375 64.15625 9.8125 62.3125 \nL 9.8125 71.09375 \nQ 15.4375 72.65625 20.34375 73.4375 \nQ 25.25 74.21875 29.59375 74.21875 \nQ 40.828125 74.21875 47.359375 69.109375 \nQ 53.90625 64.015625 53.90625 55.328125 \nQ 53.90625 49.265625 50.4375 45.09375 \nQ 46.96875 40.921875 40.578125 39.3125 \nz\n\" id=\"DejaVuSans-51\"/>\n      </defs>\n      <g transform=\"translate(153.141477 254.356563)scale(0.1 -0.1)\">\n       <use xlink:href=\"#DejaVuSans-51\"/>\n      </g>\n     </g>\n    </g>\n    <g id=\"xtick_5\">\n     <g id=\"line2d_5\">\n      <g>\n       <use style=\"stroke:#000000;stroke-width:0.8;\" x=\"190.140909\" xlink:href=\"#m7fb459cf97\" y=\"239.758125\"/>\n      </g>\n     </g>\n     <g id=\"text_5\">\n      <!-- 4 -->\n      <defs>\n       <path d=\"M 37.796875 64.3125 \nL 12.890625 25.390625 \nL 37.796875 25.390625 \nz\nM 35.203125 72.90625 \nL 47.609375 72.90625 \nL 47.609375 25.390625 \nL 58.015625 25.390625 \nL 58.015625 17.1875 \nL 47.609375 17.1875 \nL 47.609375 0 \nL 37.796875 0 \nL 37.796875 17.1875 \nL 4.890625 17.1875 \nL 4.890625 26.703125 \nz\n\" id=\"DejaVuSans-52\"/>\n      </defs>\n      <g transform=\"translate(186.959659 254.356563)scale(0.1 -0.1)\">\n       <use xlink:href=\"#DejaVuSans-52\"/>\n      </g>\n     </g>\n    </g>\n    <g id=\"xtick_6\">\n     <g id=\"line2d_6\">\n      <g>\n       <use style=\"stroke:#000000;stroke-width:0.8;\" x=\"223.959091\" xlink:href=\"#m7fb459cf97\" y=\"239.758125\"/>\n      </g>\n     </g>\n     <g id=\"text_6\">\n      <!-- 5 -->\n      <defs>\n       <path d=\"M 10.796875 72.90625 \nL 49.515625 72.90625 \nL 49.515625 64.59375 \nL 19.828125 64.59375 \nL 19.828125 46.734375 \nQ 21.96875 47.46875 24.109375 47.828125 \nQ 26.265625 48.1875 28.421875 48.1875 \nQ 40.625 48.1875 47.75 41.5 \nQ 54.890625 34.8125 54.890625 23.390625 \nQ 54.890625 11.625 47.5625 5.09375 \nQ 40.234375 -1.421875 26.90625 -1.421875 \nQ 22.3125 -1.421875 17.546875 -0.640625 \nQ 12.796875 0.140625 7.71875 1.703125 \nL 7.71875 11.625 \nQ 12.109375 9.234375 16.796875 8.0625 \nQ 21.484375 6.890625 26.703125 6.890625 \nQ 35.15625 6.890625 40.078125 11.328125 \nQ 45.015625 15.765625 45.015625 23.390625 \nQ 45.015625 31 40.078125 35.4375 \nQ 35.15625 39.890625 26.703125 39.890625 \nQ 22.75 39.890625 18.8125 39.015625 \nQ 14.890625 38.140625 10.796875 36.28125 \nz\n\" id=\"DejaVuSans-53\"/>\n      </defs>\n      <g transform=\"translate(220.777841 254.356563)scale(0.1 -0.1)\">\n       <use xlink:href=\"#DejaVuSans-53\"/>\n      </g>\n     </g>\n    </g>\n    <g id=\"xtick_7\">\n     <g id=\"line2d_7\">\n      <g>\n       <use style=\"stroke:#000000;stroke-width:0.8;\" x=\"257.777273\" xlink:href=\"#m7fb459cf97\" y=\"239.758125\"/>\n      </g>\n     </g>\n     <g id=\"text_7\">\n      <!-- 6 -->\n      <defs>\n       <path d=\"M 33.015625 40.375 \nQ 26.375 40.375 22.484375 35.828125 \nQ 18.609375 31.296875 18.609375 23.390625 \nQ 18.609375 15.53125 22.484375 10.953125 \nQ 26.375 6.390625 33.015625 6.390625 \nQ 39.65625 6.390625 43.53125 10.953125 \nQ 47.40625 15.53125 47.40625 23.390625 \nQ 47.40625 31.296875 43.53125 35.828125 \nQ 39.65625 40.375 33.015625 40.375 \nz\nM 52.59375 71.296875 \nL 52.59375 62.3125 \nQ 48.875 64.0625 45.09375 64.984375 \nQ 41.3125 65.921875 37.59375 65.921875 \nQ 27.828125 65.921875 22.671875 59.328125 \nQ 17.53125 52.734375 16.796875 39.40625 \nQ 19.671875 43.65625 24.015625 45.921875 \nQ 28.375 48.1875 33.59375 48.1875 \nQ 44.578125 48.1875 50.953125 41.515625 \nQ 57.328125 34.859375 57.328125 23.390625 \nQ 57.328125 12.15625 50.6875 5.359375 \nQ 44.046875 -1.421875 33.015625 -1.421875 \nQ 20.359375 -1.421875 13.671875 8.265625 \nQ 6.984375 17.96875 6.984375 36.375 \nQ 6.984375 53.65625 15.1875 63.9375 \nQ 23.390625 74.21875 37.203125 74.21875 \nQ 40.921875 74.21875 44.703125 73.484375 \nQ 48.484375 72.75 52.59375 71.296875 \nz\n\" id=\"DejaVuSans-54\"/>\n      </defs>\n      <g transform=\"translate(254.596023 254.356563)scale(0.1 -0.1)\">\n       <use xlink:href=\"#DejaVuSans-54\"/>\n      </g>\n     </g>\n    </g>\n    <g id=\"xtick_8\">\n     <g id=\"line2d_8\">\n      <g>\n       <use style=\"stroke:#000000;stroke-width:0.8;\" x=\"291.595455\" xlink:href=\"#m7fb459cf97\" y=\"239.758125\"/>\n      </g>\n     </g>\n     <g id=\"text_8\">\n      <!-- 7 -->\n      <defs>\n       <path d=\"M 8.203125 72.90625 \nL 55.078125 72.90625 \nL 55.078125 68.703125 \nL 28.609375 0 \nL 18.3125 0 \nL 43.21875 64.59375 \nL 8.203125 64.59375 \nz\n\" id=\"DejaVuSans-55\"/>\n      </defs>\n      <g transform=\"translate(288.414205 254.356563)scale(0.1 -0.1)\">\n       <use xlink:href=\"#DejaVuSans-55\"/>\n      </g>\n     </g>\n    </g>\n    <g id=\"xtick_9\">\n     <g id=\"line2d_9\">\n      <g>\n       <use style=\"stroke:#000000;stroke-width:0.8;\" x=\"325.413636\" xlink:href=\"#m7fb459cf97\" y=\"239.758125\"/>\n      </g>\n     </g>\n     <g id=\"text_9\">\n      <!-- 8 -->\n      <defs>\n       <path d=\"M 31.78125 34.625 \nQ 24.75 34.625 20.71875 30.859375 \nQ 16.703125 27.09375 16.703125 20.515625 \nQ 16.703125 13.921875 20.71875 10.15625 \nQ 24.75 6.390625 31.78125 6.390625 \nQ 38.8125 6.390625 42.859375 10.171875 \nQ 46.921875 13.96875 46.921875 20.515625 \nQ 46.921875 27.09375 42.890625 30.859375 \nQ 38.875 34.625 31.78125 34.625 \nz\nM 21.921875 38.8125 \nQ 15.578125 40.375 12.03125 44.71875 \nQ 8.5 49.078125 8.5 55.328125 \nQ 8.5 64.0625 14.71875 69.140625 \nQ 20.953125 74.21875 31.78125 74.21875 \nQ 42.671875 74.21875 48.875 69.140625 \nQ 55.078125 64.0625 55.078125 55.328125 \nQ 55.078125 49.078125 51.53125 44.71875 \nQ 48 40.375 41.703125 38.8125 \nQ 48.828125 37.15625 52.796875 32.3125 \nQ 56.78125 27.484375 56.78125 20.515625 \nQ 56.78125 9.90625 50.3125 4.234375 \nQ 43.84375 -1.421875 31.78125 -1.421875 \nQ 19.734375 -1.421875 13.25 4.234375 \nQ 6.78125 9.90625 6.78125 20.515625 \nQ 6.78125 27.484375 10.78125 32.3125 \nQ 14.796875 37.15625 21.921875 38.8125 \nz\nM 18.3125 54.390625 \nQ 18.3125 48.734375 21.84375 45.5625 \nQ 25.390625 42.390625 31.78125 42.390625 \nQ 38.140625 42.390625 41.71875 45.5625 \nQ 45.3125 48.734375 45.3125 54.390625 \nQ 45.3125 60.0625 41.71875 63.234375 \nQ 38.140625 66.40625 31.78125 66.40625 \nQ 25.390625 66.40625 21.84375 63.234375 \nQ 18.3125 60.0625 18.3125 54.390625 \nz\n\" id=\"DejaVuSans-56\"/>\n      </defs>\n      <g transform=\"translate(322.232386 254.356563)scale(0.1 -0.1)\">\n       <use xlink:href=\"#DejaVuSans-56\"/>\n      </g>\n     </g>\n    </g>\n    <g id=\"xtick_10\">\n     <g id=\"line2d_10\">\n      <g>\n       <use style=\"stroke:#000000;stroke-width:0.8;\" x=\"359.231818\" xlink:href=\"#m7fb459cf97\" y=\"239.758125\"/>\n      </g>\n     </g>\n     <g id=\"text_10\">\n      <!-- 9 -->\n      <defs>\n       <path d=\"M 10.984375 1.515625 \nL 10.984375 10.5 \nQ 14.703125 8.734375 18.5 7.8125 \nQ 22.3125 6.890625 25.984375 6.890625 \nQ 35.75 6.890625 40.890625 13.453125 \nQ 46.046875 20.015625 46.78125 33.40625 \nQ 43.953125 29.203125 39.59375 26.953125 \nQ 35.25 24.703125 29.984375 24.703125 \nQ 19.046875 24.703125 12.671875 31.3125 \nQ 6.296875 37.9375 6.296875 49.421875 \nQ 6.296875 60.640625 12.9375 67.421875 \nQ 19.578125 74.21875 30.609375 74.21875 \nQ 43.265625 74.21875 49.921875 64.515625 \nQ 56.59375 54.828125 56.59375 36.375 \nQ 56.59375 19.140625 48.40625 8.859375 \nQ 40.234375 -1.421875 26.421875 -1.421875 \nQ 22.703125 -1.421875 18.890625 -0.6875 \nQ 15.09375 0.046875 10.984375 1.515625 \nz\nM 30.609375 32.421875 \nQ 37.25 32.421875 41.125 36.953125 \nQ 45.015625 41.5 45.015625 49.421875 \nQ 45.015625 57.28125 41.125 61.84375 \nQ 37.25 66.40625 30.609375 66.40625 \nQ 23.96875 66.40625 20.09375 61.84375 \nQ 16.21875 57.28125 16.21875 49.421875 \nQ 16.21875 41.5 20.09375 36.953125 \nQ 23.96875 32.421875 30.609375 32.421875 \nz\n\" id=\"DejaVuSans-57\"/>\n      </defs>\n      <g transform=\"translate(356.050568 254.356563)scale(0.1 -0.1)\">\n       <use xlink:href=\"#DejaVuSans-57\"/>\n      </g>\n     </g>\n    </g>\n   </g>\n   <g id=\"matplotlib.axis_2\">\n    <g id=\"ytick_1\">\n     <g id=\"line2d_11\">\n      <defs>\n       <path d=\"M 0 0 \nL -3.5 0 \n\" id=\"mc528d32481\" style=\"stroke:#000000;stroke-width:0.8;\"/>\n      </defs>\n      <g>\n       <use style=\"stroke:#000000;stroke-width:0.8;\" x=\"39.65\" xlink:href=\"#mc528d32481\" y=\"239.758125\"/>\n      </g>\n     </g>\n     <g id=\"text_11\">\n      <!-- 0 -->\n      <g transform=\"translate(26.2875 243.557344)scale(0.1 -0.1)\">\n       <use xlink:href=\"#DejaVuSans-48\"/>\n      </g>\n     </g>\n    </g>\n    <g id=\"ytick_2\">\n     <g id=\"line2d_12\">\n      <g>\n       <use style=\"stroke:#000000;stroke-width:0.8;\" x=\"39.65\" xlink:href=\"#mc528d32481\" y=\"198.340982\"/>\n      </g>\n     </g>\n     <g id=\"text_12\">\n      <!-- 1000 -->\n      <g transform=\"translate(7.2 202.140201)scale(0.1 -0.1)\">\n       <use xlink:href=\"#DejaVuSans-49\"/>\n       <use x=\"63.623047\" xlink:href=\"#DejaVuSans-48\"/>\n       <use x=\"127.246094\" xlink:href=\"#DejaVuSans-48\"/>\n       <use x=\"190.869141\" xlink:href=\"#DejaVuSans-48\"/>\n      </g>\n     </g>\n    </g>\n    <g id=\"ytick_3\">\n     <g id=\"line2d_13\">\n      <g>\n       <use style=\"stroke:#000000;stroke-width:0.8;\" x=\"39.65\" xlink:href=\"#mc528d32481\" y=\"156.923839\"/>\n      </g>\n     </g>\n     <g id=\"text_13\">\n      <!-- 2000 -->\n      <g transform=\"translate(7.2 160.723058)scale(0.1 -0.1)\">\n       <use xlink:href=\"#DejaVuSans-50\"/>\n       <use x=\"63.623047\" xlink:href=\"#DejaVuSans-48\"/>\n       <use x=\"127.246094\" xlink:href=\"#DejaVuSans-48\"/>\n       <use x=\"190.869141\" xlink:href=\"#DejaVuSans-48\"/>\n      </g>\n     </g>\n    </g>\n    <g id=\"ytick_4\">\n     <g id=\"line2d_14\">\n      <g>\n       <use style=\"stroke:#000000;stroke-width:0.8;\" x=\"39.65\" xlink:href=\"#mc528d32481\" y=\"115.506696\"/>\n      </g>\n     </g>\n     <g id=\"text_14\">\n      <!-- 3000 -->\n      <g transform=\"translate(7.2 119.305915)scale(0.1 -0.1)\">\n       <use xlink:href=\"#DejaVuSans-51\"/>\n       <use x=\"63.623047\" xlink:href=\"#DejaVuSans-48\"/>\n       <use x=\"127.246094\" xlink:href=\"#DejaVuSans-48\"/>\n       <use x=\"190.869141\" xlink:href=\"#DejaVuSans-48\"/>\n      </g>\n     </g>\n    </g>\n    <g id=\"ytick_5\">\n     <g id=\"line2d_15\">\n      <g>\n       <use style=\"stroke:#000000;stroke-width:0.8;\" x=\"39.65\" xlink:href=\"#mc528d32481\" y=\"74.089554\"/>\n      </g>\n     </g>\n     <g id=\"text_15\">\n      <!-- 4000 -->\n      <g transform=\"translate(7.2 77.888772)scale(0.1 -0.1)\">\n       <use xlink:href=\"#DejaVuSans-52\"/>\n       <use x=\"63.623047\" xlink:href=\"#DejaVuSans-48\"/>\n       <use x=\"127.246094\" xlink:href=\"#DejaVuSans-48\"/>\n       <use x=\"190.869141\" xlink:href=\"#DejaVuSans-48\"/>\n      </g>\n     </g>\n    </g>\n    <g id=\"ytick_6\">\n     <g id=\"line2d_16\">\n      <g>\n       <use style=\"stroke:#000000;stroke-width:0.8;\" x=\"39.65\" xlink:href=\"#mc528d32481\" y=\"32.672411\"/>\n      </g>\n     </g>\n     <g id=\"text_16\">\n      <!-- 5000 -->\n      <g transform=\"translate(7.2 36.471629)scale(0.1 -0.1)\">\n       <use xlink:href=\"#DejaVuSans-53\"/>\n       <use x=\"63.623047\" xlink:href=\"#DejaVuSans-48\"/>\n       <use x=\"127.246094\" xlink:href=\"#DejaVuSans-48\"/>\n       <use x=\"190.869141\" xlink:href=\"#DejaVuSans-48\"/>\n      </g>\n     </g>\n    </g>\n   </g>\n   <g id=\"patch_13\">\n    <path d=\"M 39.65 239.758125 \nL 39.65 22.318125 \n\" style=\"fill:none;stroke:#000000;stroke-linecap:square;stroke-linejoin:miter;stroke-width:0.8;\"/>\n   </g>\n   <g id=\"patch_14\">\n    <path d=\"M 374.45 239.758125 \nL 374.45 22.318125 \n\" style=\"fill:none;stroke:#000000;stroke-linecap:square;stroke-linejoin:miter;stroke-width:0.8;\"/>\n   </g>\n   <g id=\"patch_15\">\n    <path d=\"M 39.65 239.758125 \nL 374.45 239.758125 \n\" style=\"fill:none;stroke:#000000;stroke-linecap:square;stroke-linejoin:miter;stroke-width:0.8;\"/>\n   </g>\n   <g id=\"patch_16\">\n    <path d=\"M 39.65 22.318125 \nL 374.45 22.318125 \n\" style=\"fill:none;stroke:#000000;stroke-linecap:square;stroke-linejoin:miter;stroke-width:0.8;\"/>\n   </g>\n   <g id=\"text_17\">\n    <!-- Number of pics in each category -->\n    <defs>\n     <path d=\"M 9.8125 72.90625 \nL 23.09375 72.90625 \nL 55.421875 11.921875 \nL 55.421875 72.90625 \nL 64.984375 72.90625 \nL 64.984375 0 \nL 51.703125 0 \nL 19.390625 60.984375 \nL 19.390625 0 \nL 9.8125 0 \nz\n\" id=\"DejaVuSans-78\"/>\n     <path d=\"M 8.5 21.578125 \nL 8.5 54.6875 \nL 17.484375 54.6875 \nL 17.484375 21.921875 \nQ 17.484375 14.15625 20.5 10.265625 \nQ 23.53125 6.390625 29.59375 6.390625 \nQ 36.859375 6.390625 41.078125 11.03125 \nQ 45.3125 15.671875 45.3125 23.6875 \nL 45.3125 54.6875 \nL 54.296875 54.6875 \nL 54.296875 0 \nL 45.3125 0 \nL 45.3125 8.40625 \nQ 42.046875 3.421875 37.71875 1 \nQ 33.40625 -1.421875 27.6875 -1.421875 \nQ 18.265625 -1.421875 13.375 4.4375 \nQ 8.5 10.296875 8.5 21.578125 \nz\nM 31.109375 56 \nz\n\" id=\"DejaVuSans-117\"/>\n     <path d=\"M 52 44.1875 \nQ 55.375 50.25 60.0625 53.125 \nQ 64.75 56 71.09375 56 \nQ 79.640625 56 84.28125 50.015625 \nQ 88.921875 44.046875 88.921875 33.015625 \nL 88.921875 0 \nL 79.890625 0 \nL 79.890625 32.71875 \nQ 79.890625 40.578125 77.09375 44.375 \nQ 74.3125 48.1875 68.609375 48.1875 \nQ 61.625 48.1875 57.5625 43.546875 \nQ 53.515625 38.921875 53.515625 30.90625 \nL 53.515625 0 \nL 44.484375 0 \nL 44.484375 32.71875 \nQ 44.484375 40.625 41.703125 44.40625 \nQ 38.921875 48.1875 33.109375 48.1875 \nQ 26.21875 48.1875 22.15625 43.53125 \nQ 18.109375 38.875 18.109375 30.90625 \nL 18.109375 0 \nL 9.078125 0 \nL 9.078125 54.6875 \nL 18.109375 54.6875 \nL 18.109375 46.1875 \nQ 21.1875 51.21875 25.484375 53.609375 \nQ 29.78125 56 35.6875 56 \nQ 41.65625 56 45.828125 52.96875 \nQ 50 49.953125 52 44.1875 \nz\n\" id=\"DejaVuSans-109\"/>\n     <path d=\"M 48.6875 27.296875 \nQ 48.6875 37.203125 44.609375 42.84375 \nQ 40.53125 48.484375 33.40625 48.484375 \nQ 26.265625 48.484375 22.1875 42.84375 \nQ 18.109375 37.203125 18.109375 27.296875 \nQ 18.109375 17.390625 22.1875 11.75 \nQ 26.265625 6.109375 33.40625 6.109375 \nQ 40.53125 6.109375 44.609375 11.75 \nQ 48.6875 17.390625 48.6875 27.296875 \nz\nM 18.109375 46.390625 \nQ 20.953125 51.265625 25.265625 53.625 \nQ 29.59375 56 35.59375 56 \nQ 45.5625 56 51.78125 48.09375 \nQ 58.015625 40.1875 58.015625 27.296875 \nQ 58.015625 14.40625 51.78125 6.484375 \nQ 45.5625 -1.421875 35.59375 -1.421875 \nQ 29.59375 -1.421875 25.265625 0.953125 \nQ 20.953125 3.328125 18.109375 8.203125 \nL 18.109375 0 \nL 9.078125 0 \nL 9.078125 75.984375 \nL 18.109375 75.984375 \nz\n\" id=\"DejaVuSans-98\"/>\n     <path d=\"M 56.203125 29.59375 \nL 56.203125 25.203125 \nL 14.890625 25.203125 \nQ 15.484375 15.921875 20.484375 11.0625 \nQ 25.484375 6.203125 34.421875 6.203125 \nQ 39.59375 6.203125 44.453125 7.46875 \nQ 49.3125 8.734375 54.109375 11.28125 \nL 54.109375 2.78125 \nQ 49.265625 0.734375 44.1875 -0.34375 \nQ 39.109375 -1.421875 33.890625 -1.421875 \nQ 20.796875 -1.421875 13.15625 6.1875 \nQ 5.515625 13.8125 5.515625 26.8125 \nQ 5.515625 40.234375 12.765625 48.109375 \nQ 20.015625 56 32.328125 56 \nQ 43.359375 56 49.78125 48.890625 \nQ 56.203125 41.796875 56.203125 29.59375 \nz\nM 47.21875 32.234375 \nQ 47.125 39.59375 43.09375 43.984375 \nQ 39.0625 48.390625 32.421875 48.390625 \nQ 24.90625 48.390625 20.390625 44.140625 \nQ 15.875 39.890625 15.1875 32.171875 \nz\n\" id=\"DejaVuSans-101\"/>\n     <path d=\"M 41.109375 46.296875 \nQ 39.59375 47.171875 37.8125 47.578125 \nQ 36.03125 48 33.890625 48 \nQ 26.265625 48 22.1875 43.046875 \nQ 18.109375 38.09375 18.109375 28.8125 \nL 18.109375 0 \nL 9.078125 0 \nL 9.078125 54.6875 \nL 18.109375 54.6875 \nL 18.109375 46.1875 \nQ 20.953125 51.171875 25.484375 53.578125 \nQ 30.03125 56 36.53125 56 \nQ 37.453125 56 38.578125 55.875 \nQ 39.703125 55.765625 41.0625 55.515625 \nz\n\" id=\"DejaVuSans-114\"/>\n     <path id=\"DejaVuSans-32\"/>\n     <path d=\"M 30.609375 48.390625 \nQ 23.390625 48.390625 19.1875 42.75 \nQ 14.984375 37.109375 14.984375 27.296875 \nQ 14.984375 17.484375 19.15625 11.84375 \nQ 23.34375 6.203125 30.609375 6.203125 \nQ 37.796875 6.203125 41.984375 11.859375 \nQ 46.1875 17.53125 46.1875 27.296875 \nQ 46.1875 37.015625 41.984375 42.703125 \nQ 37.796875 48.390625 30.609375 48.390625 \nz\nM 30.609375 56 \nQ 42.328125 56 49.015625 48.375 \nQ 55.71875 40.765625 55.71875 27.296875 \nQ 55.71875 13.875 49.015625 6.21875 \nQ 42.328125 -1.421875 30.609375 -1.421875 \nQ 18.84375 -1.421875 12.171875 6.21875 \nQ 5.515625 13.875 5.515625 27.296875 \nQ 5.515625 40.765625 12.171875 48.375 \nQ 18.84375 56 30.609375 56 \nz\n\" id=\"DejaVuSans-111\"/>\n     <path d=\"M 37.109375 75.984375 \nL 37.109375 68.5 \nL 28.515625 68.5 \nQ 23.6875 68.5 21.796875 66.546875 \nQ 19.921875 64.59375 19.921875 59.515625 \nL 19.921875 54.6875 \nL 34.71875 54.6875 \nL 34.71875 47.703125 \nL 19.921875 47.703125 \nL 19.921875 0 \nL 10.890625 0 \nL 10.890625 47.703125 \nL 2.296875 47.703125 \nL 2.296875 54.6875 \nL 10.890625 54.6875 \nL 10.890625 58.5 \nQ 10.890625 67.625 15.140625 71.796875 \nQ 19.390625 75.984375 28.609375 75.984375 \nz\n\" id=\"DejaVuSans-102\"/>\n     <path d=\"M 18.109375 8.203125 \nL 18.109375 -20.796875 \nL 9.078125 -20.796875 \nL 9.078125 54.6875 \nL 18.109375 54.6875 \nL 18.109375 46.390625 \nQ 20.953125 51.265625 25.265625 53.625 \nQ 29.59375 56 35.59375 56 \nQ 45.5625 56 51.78125 48.09375 \nQ 58.015625 40.1875 58.015625 27.296875 \nQ 58.015625 14.40625 51.78125 6.484375 \nQ 45.5625 -1.421875 35.59375 -1.421875 \nQ 29.59375 -1.421875 25.265625 0.953125 \nQ 20.953125 3.328125 18.109375 8.203125 \nz\nM 48.6875 27.296875 \nQ 48.6875 37.203125 44.609375 42.84375 \nQ 40.53125 48.484375 33.40625 48.484375 \nQ 26.265625 48.484375 22.1875 42.84375 \nQ 18.109375 37.203125 18.109375 27.296875 \nQ 18.109375 17.390625 22.1875 11.75 \nQ 26.265625 6.109375 33.40625 6.109375 \nQ 40.53125 6.109375 44.609375 11.75 \nQ 48.6875 17.390625 48.6875 27.296875 \nz\n\" id=\"DejaVuSans-112\"/>\n     <path d=\"M 9.421875 54.6875 \nL 18.40625 54.6875 \nL 18.40625 0 \nL 9.421875 0 \nz\nM 9.421875 75.984375 \nL 18.40625 75.984375 \nL 18.40625 64.59375 \nL 9.421875 64.59375 \nz\n\" id=\"DejaVuSans-105\"/>\n     <path d=\"M 48.78125 52.59375 \nL 48.78125 44.1875 \nQ 44.96875 46.296875 41.140625 47.34375 \nQ 37.3125 48.390625 33.40625 48.390625 \nQ 24.65625 48.390625 19.8125 42.84375 \nQ 14.984375 37.3125 14.984375 27.296875 \nQ 14.984375 17.28125 19.8125 11.734375 \nQ 24.65625 6.203125 33.40625 6.203125 \nQ 37.3125 6.203125 41.140625 7.25 \nQ 44.96875 8.296875 48.78125 10.40625 \nL 48.78125 2.09375 \nQ 45.015625 0.34375 40.984375 -0.53125 \nQ 36.96875 -1.421875 32.421875 -1.421875 \nQ 20.0625 -1.421875 12.78125 6.34375 \nQ 5.515625 14.109375 5.515625 27.296875 \nQ 5.515625 40.671875 12.859375 48.328125 \nQ 20.21875 56 33.015625 56 \nQ 37.15625 56 41.109375 55.140625 \nQ 45.0625 54.296875 48.78125 52.59375 \nz\n\" id=\"DejaVuSans-99\"/>\n     <path d=\"M 44.28125 53.078125 \nL 44.28125 44.578125 \nQ 40.484375 46.53125 36.375 47.5 \nQ 32.28125 48.484375 27.875 48.484375 \nQ 21.1875 48.484375 17.84375 46.4375 \nQ 14.5 44.390625 14.5 40.28125 \nQ 14.5 37.15625 16.890625 35.375 \nQ 19.28125 33.59375 26.515625 31.984375 \nL 29.59375 31.296875 \nQ 39.15625 29.25 43.1875 25.515625 \nQ 47.21875 21.78125 47.21875 15.09375 \nQ 47.21875 7.46875 41.1875 3.015625 \nQ 35.15625 -1.421875 24.609375 -1.421875 \nQ 20.21875 -1.421875 15.453125 -0.5625 \nQ 10.6875 0.296875 5.421875 2 \nL 5.421875 11.28125 \nQ 10.40625 8.6875 15.234375 7.390625 \nQ 20.0625 6.109375 24.8125 6.109375 \nQ 31.15625 6.109375 34.5625 8.28125 \nQ 37.984375 10.453125 37.984375 14.40625 \nQ 37.984375 18.0625 35.515625 20.015625 \nQ 33.0625 21.96875 24.703125 23.78125 \nL 21.578125 24.515625 \nQ 13.234375 26.265625 9.515625 29.90625 \nQ 5.8125 33.546875 5.8125 39.890625 \nQ 5.8125 47.609375 11.28125 51.796875 \nQ 16.75 56 26.8125 56 \nQ 31.78125 56 36.171875 55.265625 \nQ 40.578125 54.546875 44.28125 53.078125 \nz\n\" id=\"DejaVuSans-115\"/>\n     <path d=\"M 54.890625 33.015625 \nL 54.890625 0 \nL 45.90625 0 \nL 45.90625 32.71875 \nQ 45.90625 40.484375 42.875 44.328125 \nQ 39.84375 48.1875 33.796875 48.1875 \nQ 26.515625 48.1875 22.3125 43.546875 \nQ 18.109375 38.921875 18.109375 30.90625 \nL 18.109375 0 \nL 9.078125 0 \nL 9.078125 54.6875 \nL 18.109375 54.6875 \nL 18.109375 46.1875 \nQ 21.34375 51.125 25.703125 53.5625 \nQ 30.078125 56 35.796875 56 \nQ 45.21875 56 50.046875 50.171875 \nQ 54.890625 44.34375 54.890625 33.015625 \nz\n\" id=\"DejaVuSans-110\"/>\n     <path d=\"M 34.28125 27.484375 \nQ 23.390625 27.484375 19.1875 25 \nQ 14.984375 22.515625 14.984375 16.5 \nQ 14.984375 11.71875 18.140625 8.90625 \nQ 21.296875 6.109375 26.703125 6.109375 \nQ 34.1875 6.109375 38.703125 11.40625 \nQ 43.21875 16.703125 43.21875 25.484375 \nL 43.21875 27.484375 \nz\nM 52.203125 31.203125 \nL 52.203125 0 \nL 43.21875 0 \nL 43.21875 8.296875 \nQ 40.140625 3.328125 35.546875 0.953125 \nQ 30.953125 -1.421875 24.3125 -1.421875 \nQ 15.921875 -1.421875 10.953125 3.296875 \nQ 6 8.015625 6 15.921875 \nQ 6 25.140625 12.171875 29.828125 \nQ 18.359375 34.515625 30.609375 34.515625 \nL 43.21875 34.515625 \nL 43.21875 35.40625 \nQ 43.21875 41.609375 39.140625 45 \nQ 35.0625 48.390625 27.6875 48.390625 \nQ 23 48.390625 18.546875 47.265625 \nQ 14.109375 46.140625 10.015625 43.890625 \nL 10.015625 52.203125 \nQ 14.9375 54.109375 19.578125 55.046875 \nQ 24.21875 56 28.609375 56 \nQ 40.484375 56 46.34375 49.84375 \nQ 52.203125 43.703125 52.203125 31.203125 \nz\n\" id=\"DejaVuSans-97\"/>\n     <path d=\"M 54.890625 33.015625 \nL 54.890625 0 \nL 45.90625 0 \nL 45.90625 32.71875 \nQ 45.90625 40.484375 42.875 44.328125 \nQ 39.84375 48.1875 33.796875 48.1875 \nQ 26.515625 48.1875 22.3125 43.546875 \nQ 18.109375 38.921875 18.109375 30.90625 \nL 18.109375 0 \nL 9.078125 0 \nL 9.078125 75.984375 \nL 18.109375 75.984375 \nL 18.109375 46.1875 \nQ 21.34375 51.125 25.703125 53.5625 \nQ 30.078125 56 35.796875 56 \nQ 45.21875 56 50.046875 50.171875 \nQ 54.890625 44.34375 54.890625 33.015625 \nz\n\" id=\"DejaVuSans-104\"/>\n     <path d=\"M 18.3125 70.21875 \nL 18.3125 54.6875 \nL 36.8125 54.6875 \nL 36.8125 47.703125 \nL 18.3125 47.703125 \nL 18.3125 18.015625 \nQ 18.3125 11.328125 20.140625 9.421875 \nQ 21.96875 7.515625 27.59375 7.515625 \nL 36.8125 7.515625 \nL 36.8125 0 \nL 27.59375 0 \nQ 17.1875 0 13.234375 3.875 \nQ 9.28125 7.765625 9.28125 18.015625 \nL 9.28125 47.703125 \nL 2.6875 47.703125 \nL 2.6875 54.6875 \nL 9.28125 54.6875 \nL 9.28125 70.21875 \nz\n\" id=\"DejaVuSans-116\"/>\n     <path d=\"M 45.40625 27.984375 \nQ 45.40625 37.75 41.375 43.109375 \nQ 37.359375 48.484375 30.078125 48.484375 \nQ 22.859375 48.484375 18.828125 43.109375 \nQ 14.796875 37.75 14.796875 27.984375 \nQ 14.796875 18.265625 18.828125 12.890625 \nQ 22.859375 7.515625 30.078125 7.515625 \nQ 37.359375 7.515625 41.375 12.890625 \nQ 45.40625 18.265625 45.40625 27.984375 \nz\nM 54.390625 6.78125 \nQ 54.390625 -7.171875 48.1875 -13.984375 \nQ 42 -20.796875 29.203125 -20.796875 \nQ 24.46875 -20.796875 20.265625 -20.09375 \nQ 16.0625 -19.390625 12.109375 -17.921875 \nL 12.109375 -9.1875 \nQ 16.0625 -11.328125 19.921875 -12.34375 \nQ 23.78125 -13.375 27.78125 -13.375 \nQ 36.625 -13.375 41.015625 -8.765625 \nQ 45.40625 -4.15625 45.40625 5.171875 \nL 45.40625 9.625 \nQ 42.625 4.78125 38.28125 2.390625 \nQ 33.9375 0 27.875 0 \nQ 17.828125 0 11.671875 7.65625 \nQ 5.515625 15.328125 5.515625 27.984375 \nQ 5.515625 40.671875 11.671875 48.328125 \nQ 17.828125 56 27.875 56 \nQ 33.9375 56 38.28125 53.609375 \nQ 42.625 51.21875 45.40625 46.390625 \nL 45.40625 54.6875 \nL 54.390625 54.6875 \nz\n\" id=\"DejaVuSans-103\"/>\n     <path d=\"M 32.171875 -5.078125 \nQ 28.375 -14.84375 24.75 -17.8125 \nQ 21.140625 -20.796875 15.09375 -20.796875 \nL 7.90625 -20.796875 \nL 7.90625 -13.28125 \nL 13.1875 -13.28125 \nQ 16.890625 -13.28125 18.9375 -11.515625 \nQ 21 -9.765625 23.484375 -3.21875 \nL 25.09375 0.875 \nL 2.984375 54.6875 \nL 12.5 54.6875 \nL 29.59375 11.921875 \nL 46.6875 54.6875 \nL 56.203125 54.6875 \nz\n\" id=\"DejaVuSans-121\"/>\n    </defs>\n    <g transform=\"translate(109.270625 16.318125)scale(0.12 -0.12)\">\n     <use xlink:href=\"#DejaVuSans-78\"/>\n     <use x=\"74.804688\" xlink:href=\"#DejaVuSans-117\"/>\n     <use x=\"138.183594\" xlink:href=\"#DejaVuSans-109\"/>\n     <use x=\"235.595703\" xlink:href=\"#DejaVuSans-98\"/>\n     <use x=\"299.072266\" xlink:href=\"#DejaVuSans-101\"/>\n     <use x=\"360.595703\" xlink:href=\"#DejaVuSans-114\"/>\n     <use x=\"401.708984\" xlink:href=\"#DejaVuSans-32\"/>\n     <use x=\"433.496094\" xlink:href=\"#DejaVuSans-111\"/>\n     <use x=\"494.677734\" xlink:href=\"#DejaVuSans-102\"/>\n     <use x=\"529.882812\" xlink:href=\"#DejaVuSans-32\"/>\n     <use x=\"561.669922\" xlink:href=\"#DejaVuSans-112\"/>\n     <use x=\"625.146484\" xlink:href=\"#DejaVuSans-105\"/>\n     <use x=\"652.929688\" xlink:href=\"#DejaVuSans-99\"/>\n     <use x=\"707.910156\" xlink:href=\"#DejaVuSans-115\"/>\n     <use x=\"760.009766\" xlink:href=\"#DejaVuSans-32\"/>\n     <use x=\"791.796875\" xlink:href=\"#DejaVuSans-105\"/>\n     <use x=\"819.580078\" xlink:href=\"#DejaVuSans-110\"/>\n     <use x=\"882.958984\" xlink:href=\"#DejaVuSans-32\"/>\n     <use x=\"914.746094\" xlink:href=\"#DejaVuSans-101\"/>\n     <use x=\"976.269531\" xlink:href=\"#DejaVuSans-97\"/>\n     <use x=\"1037.548828\" xlink:href=\"#DejaVuSans-99\"/>\n     <use x=\"1092.529297\" xlink:href=\"#DejaVuSans-104\"/>\n     <use x=\"1155.908203\" xlink:href=\"#DejaVuSans-32\"/>\n     <use x=\"1187.695312\" xlink:href=\"#DejaVuSans-99\"/>\n     <use x=\"1242.675781\" xlink:href=\"#DejaVuSans-97\"/>\n     <use x=\"1303.955078\" xlink:href=\"#DejaVuSans-116\"/>\n     <use x=\"1343.164062\" xlink:href=\"#DejaVuSans-101\"/>\n     <use x=\"1404.6875\" xlink:href=\"#DejaVuSans-103\"/>\n     <use x=\"1468.164062\" xlink:href=\"#DejaVuSans-111\"/>\n     <use x=\"1529.345703\" xlink:href=\"#DejaVuSans-114\"/>\n     <use x=\"1570.458984\" xlink:href=\"#DejaVuSans-121\"/>\n    </g>\n   </g>\n  </g>\n </g>\n <defs>\n  <clipPath id=\"p5c0025f1d3\">\n   <rect height=\"217.44\" width=\"334.8\" x=\"39.65\" y=\"22.318125\"/>\n  </clipPath>\n </defs>\n</svg>\n"
          },
          "metadata": {
            "needs_background": "light"
          }
        }
      ]
    },
    {
      "cell_type": "markdown",
      "source": [
        "## Create train/test groups using DataLoader"
      ],
      "metadata": {
        "id": "a_I14juntZY2"
      }
    },
    {
      "cell_type": "code",
      "source": [
        "train_data, test_data, train_labels, test_labels = train_test_split(images, labelsT, test_size= 0.1)\n",
        "\n",
        "# Step 3: convert into PyTorch Datasets\n",
        "train_data = TensorDataset(train_data, train_labels)\n",
        "test_data = TensorDataset(test_data, test_labels)\n",
        "\n",
        "# Step 4: translate into dataloader objects\n",
        "batchsize    = 32\n",
        "train_loader = DataLoader(train_data,batch_size=batchsize,shuffle=True,drop_last=True)\n",
        "test_loader  = DataLoader(test_data,batch_size=test_data.tensors[0].shape[0])"
      ],
      "metadata": {
        "id": "NoLiZmKLodL5"
      },
      "execution_count": 8,
      "outputs": []
    },
    {
      "cell_type": "code",
      "source": [
        "# checking the size of train data and train labels\n",
        "\n",
        "print(len(next(iter(train_loader))[0]))\n",
        "print(len(next(iter(train_loader))[1]))\n",
        "# print(next(iter(train_loader)))\n",
        "train_loader.dataset.tensors[0].shape"
      ],
      "metadata": {
        "colab": {
          "base_uri": "https://localhost:8080/"
        },
        "id": "8pQuZNSkuATp",
        "outputId": "3d602416-a334-4122-9cda-eb3b80d385c2"
      },
      "execution_count": 9,
      "outputs": [
        {
          "output_type": "stream",
          "name": "stdout",
          "text": [
            "32\n",
            "32\n"
          ]
        },
        {
          "output_type": "execute_result",
          "data": {
            "text/plain": [
              "torch.Size([45000, 3, 32, 32])"
            ]
          },
          "metadata": {},
          "execution_count": 9
        }
      ]
    },
    {
      "cell_type": "markdown",
      "source": [
        "### Create the DL model"
      ],
      "metadata": {
        "id": "THVkG35JwdmI"
      }
    },
    {
      "cell_type": "code",
      "source": [
        "# create a class for the model\n",
        "def createTheCIFARNet(printtoggle=False):\n",
        "\n",
        "  class cifarNet(nn.Module):\n",
        "    def __init__(self,printtoggle):\n",
        "      super().__init__()\n",
        "\n",
        "      ### convolution layers\n",
        "      self.conv1 = nn.Conv2d( 3,10,kernel_size=5,stride=1,padding=1)\n",
        "      # size : np.floor((32 + 2*1 - 5)/1 ) + 1 = 30  ---> maxpool --> 30/2 = 15\n",
        "\n",
        "      self.conv2 = nn.Conv2d(10,20,kernel_size=5,stride=1,padding=1)\n",
        "      # size: np.floor(( 15 + 2*1 - 5)/1) + 1 = 13 ---> maxpool --> 13/2 = 6\n",
        "\n",
        "      self.conv3 = nn.Conv2d(20, 40, kernel_size = 3, stride= 1, padding=1)\n",
        "      # size: np.floor(( 6 + 2*1 - 5)/1) + 1 = 6 ---> maxpool --> 6/2 = 3\n",
        "\n",
        "      # compute the number of units in FClayer (number of outputs of conv3)\n",
        "      expectSize = np.floor( (3+2*0-1)/1 ) + 1 # =3.0 fc1 layer has no padding or kernel, so set to 0/1\n",
        "      expectSize = 40*int(expectSize**2)\n",
        "      \n",
        "      ### fully-connected layer\n",
        "      self.fc1 = nn.Linear(expectSize,50)\n",
        "\n",
        "      ### output layer\n",
        "      self.out = nn.Linear(50,10)\n",
        "\n",
        "      # toggle for printing out tensor sizes during forward prop\n",
        "      self.print = printtoggle\n",
        "\n",
        "    # forward pass\n",
        "    def forward(self,x):\n",
        "      \n",
        "      print(f'Input: {x.shape}') if self.print else None\n",
        "\n",
        "      # convolution -> maxpool -> relu\n",
        "      x = F.relu(F.max_pool2d(self.conv1(x),2))\n",
        "      print(f'Layer conv1/pool1: {x.shape}') if self.print else None\n",
        "\n",
        "      # and again: convolution -> maxpool -> relu\n",
        "      x = F.relu(F.max_pool2d(self.conv2(x),2))\n",
        "      print(f'Layer conv2/pool2: {x.shape}') if self.print else None\n",
        "\n",
        "      # and again: convolution -> maxpool -> relu\n",
        "      x = F.relu(F.max_pool2d(self.conv3(x),2))\n",
        "      print(f'Layer conv3/pool3: {x.shape}') if self.print else None\n",
        "      \n",
        "      # reshape for linear layer\n",
        "      nUnits = x.shape.numel()/x.shape[0]\n",
        "      x = x.view(-1,int(nUnits))\n",
        "      if self.print: print(f'Vectorize: {x.shape}')\n",
        "      \n",
        "      # linear layers\n",
        "      x = F.relu(self.fc1(x))\n",
        "      if self.print: print(f'Layer fc1: {x.shape}')\n",
        "      x = self.out(x)\n",
        "      if self.print: print(f'Layer out: {x.shape}')\n",
        "\n",
        "      return x\n",
        "  \n",
        "  # create the model instance\n",
        "  net = cifarNet(printtoggle)\n",
        "  \n",
        "  # loss function\n",
        "  lossfun = nn.CrossEntropyLoss()\n",
        "\n",
        "  # optimizer\n",
        "  optimizer = torch.optim.Adam(net.parameters(),lr=.001)\n",
        "\n",
        "  return net, lossfun, optimizer"
      ],
      "metadata": {
        "id": "w_yALmOyuFzv"
      },
      "execution_count": 10,
      "outputs": []
    },
    {
      "cell_type": "code",
      "source": [
        "# test the model with one batch\n",
        "net,lossfun,optimizer = createTheCIFARNet(True)\n",
        "\n",
        "# send the model to the GPU           -------------->   GPU\n",
        "net.to(device)\n",
        "X,y = iter(train_loader).next()\n",
        "\n",
        "# push data to GPU          -------------->   GPU\n",
        "X = X.to(device)\n",
        "y = y.to(device)\n",
        "yHat = net(X)\n",
        "\n",
        "# check sizes of model outputs and target variable\n",
        "print(' ')\n",
        "print(yHat.shape)\n",
        "print(y.shape)\n",
        "\n",
        "# now let's compute the loss\n",
        "loss = lossfun(yHat,y)\n",
        "print(' ')\n",
        "print('Loss:')\n",
        "print(loss)"
      ],
      "metadata": {
        "colab": {
          "base_uri": "https://localhost:8080/"
        },
        "id": "oixEx5DixOdO",
        "outputId": "50db61e3-f3c7-49d9-b3ad-30ce57b4eed8"
      },
      "execution_count": 16,
      "outputs": [
        {
          "output_type": "stream",
          "name": "stdout",
          "text": [
            "Input: torch.Size([32, 3, 32, 32])\n",
            "Layer conv1/pool1: torch.Size([32, 10, 15, 15])\n",
            "Layer conv2/pool2: torch.Size([32, 20, 6, 6])\n",
            "Layer conv3/pool3: torch.Size([32, 40, 3, 3])\n",
            "Vectorize: torch.Size([32, 360])\n",
            "Layer fc1: torch.Size([32, 50])\n",
            "Layer out: torch.Size([32, 10])\n",
            " \n",
            "torch.Size([32, 10])\n",
            "torch.Size([32])\n",
            " \n",
            "Loss:\n",
            "tensor(6.1329, device='cuda:0', grad_fn=<NllLossBackward0>)\n"
          ]
        }
      ]
    },
    {
      "cell_type": "code",
      "source": [
        "# count the total number of parameters in the model\n",
        "summary(net,(3,32,32))"
      ],
      "metadata": {
        "id": "71M7dWQuxlrM",
        "colab": {
          "base_uri": "https://localhost:8080/"
        },
        "outputId": "bb10d175-d870-4024-ffed-858ae1ab3e94"
      },
      "execution_count": 17,
      "outputs": [
        {
          "output_type": "stream",
          "name": "stdout",
          "text": [
            "Input: torch.Size([2, 3, 32, 32])\n",
            "Layer conv1/pool1: torch.Size([2, 10, 15, 15])\n",
            "Layer conv2/pool2: torch.Size([2, 20, 6, 6])\n",
            "Layer conv3/pool3: torch.Size([2, 40, 3, 3])\n",
            "Vectorize: torch.Size([2, 360])\n",
            "Layer fc1: torch.Size([2, 50])\n",
            "Layer out: torch.Size([2, 10])\n",
            "----------------------------------------------------------------\n",
            "        Layer (type)               Output Shape         Param #\n",
            "================================================================\n",
            "            Conv2d-1           [-1, 10, 30, 30]             760\n",
            "            Conv2d-2           [-1, 20, 13, 13]           5,020\n",
            "            Conv2d-3             [-1, 40, 6, 6]           7,240\n",
            "            Linear-4                   [-1, 50]          18,050\n",
            "            Linear-5                   [-1, 10]             510\n",
            "================================================================\n",
            "Total params: 31,580\n",
            "Trainable params: 31,580\n",
            "Non-trainable params: 0\n",
            "----------------------------------------------------------------\n",
            "Input size (MB): 0.01\n",
            "Forward/backward pass size (MB): 0.11\n",
            "Params size (MB): 0.12\n",
            "Estimated Total Size (MB): 0.24\n",
            "----------------------------------------------------------------\n"
          ]
        }
      ]
    },
    {
      "cell_type": "markdown",
      "source": [
        "### Create a function that trains the model"
      ],
      "metadata": {
        "id": "N2FgY_Jp0oY-"
      }
    },
    {
      "cell_type": "code",
      "source": [
        "# a function that trains the model\n",
        "\n",
        "def function2trainTheModel():\n",
        "\n",
        "  # number of epochs\n",
        "  numepochs = 100\n",
        "  \n",
        "  # create a new model\n",
        "  net, lossfun, optimizer = createTheCIFARNet()\n",
        "\n",
        "  # send the model to the GPU           -------------->   GPU\n",
        "  net.to(device)\n",
        "\n",
        "  # initialize losses\n",
        "  losses    = torch.zeros(numepochs)\n",
        "  trainAcc  = []\n",
        "  testAcc   = []\n",
        "\n",
        "\n",
        "  # loop over epochs\n",
        "  for epochi in range(numepochs):\n",
        "\n",
        "    # loop over training data batches\n",
        "    # net.train()\n",
        "    batchAcc  = []\n",
        "    batchLoss = []\n",
        "    for X,y in train_loader:\n",
        "\n",
        "      # push data to GPU          -------------->   GPU\n",
        "      X = X.to(device)\n",
        "      y = y.to(device)\n",
        "\n",
        "      # forward pass and loss\n",
        "      yHat = net(X)\n",
        "      loss = lossfun(yHat,y)\n",
        "\n",
        "      # backprop\n",
        "      optimizer.zero_grad()\n",
        "      loss.backward()\n",
        "      optimizer.step()\n",
        "\n",
        "      # loss from this batch\n",
        "      batchLoss.append(loss.item())\n",
        "\n",
        "      # compute accuracy\n",
        "      matches = torch.argmax(yHat,axis=1) == y     # booleans (false/true)\n",
        "      matchesNumeric = matches.float()             # convert to numbers (0/1)\n",
        "      accuracyPct = 100*torch.mean(matchesNumeric).item() # average and x100\n",
        "      batchAcc.append( accuracyPct )               # add to list of accuracies\n",
        "    # end of batch loop...\n",
        "\n",
        "    # now that we've trained through the batches, get their average training accuracy\n",
        "    trainAcc.append( np.mean(batchAcc) )\n",
        "    # trainAcc.cpu().append( np.mean(batchAcc) )\n",
        "    # trainAcc.append( np.mean(batchAcc.cpu()) )\n",
        "\n",
        "    # and get average losses across the batches\n",
        "    losses[epochi] = np.mean(batchLoss)\n",
        "\n",
        "    # test accuracy\n",
        "    net.eval()\n",
        "    X,y = next(iter(test_loader)) # extract X,y from test dataloader\n",
        "\n",
        "    # push data to GPU          -------------->   GPU\n",
        "    X = X.to(device)\n",
        "    y = y.to(device)\n",
        "\n",
        "    with torch.no_grad():     # deactivates autograd\n",
        "      yHat = net(X)\n",
        "      \n",
        "    # compare the following really long line of code to the training accuracy lines\n",
        "    testAcc.append( 100*torch.mean((torch.argmax(yHat,axis=1)==y).float()).item() )\n",
        "\n",
        "  # end epochs\n",
        "\n",
        "  # function output\n",
        "  return trainAcc,testAcc,losses,net\n"
      ],
      "metadata": {
        "id": "4G_iSo9cxln0"
      },
      "execution_count": 44,
      "outputs": []
    },
    {
      "cell_type": "code",
      "source": [
        "%%time\n",
        "trainAcc,testAcc,losses,net = function2trainTheModel()"
      ],
      "metadata": {
        "colab": {
          "base_uri": "https://localhost:8080/"
        },
        "id": "ILDFYZzcxlk9",
        "outputId": "24b1d01e-a1ec-4a38-dc17-e5a0da81e9fa"
      },
      "execution_count": 45,
      "outputs": [
        {
          "output_type": "stream",
          "name": "stdout",
          "text": [
            "CPU times: user 14min 16s, sys: 21.9 s, total: 14min 38s\n",
            "Wall time: 14min 36s\n"
          ]
        }
      ]
    },
    {
      "cell_type": "code",
      "source": [
        "#  GPU   ---->  100 epochs    ------------> about 14 mins to proccess  Accuracy Test 42%\n",
        "\n",
        "fig,ax = plt.subplots(1,2,figsize=(16,5))\n",
        "\n",
        "ax[0].plot(losses,'s-')\n",
        "ax[0].set_xlabel('Epochs')\n",
        "ax[0].set_ylabel('Loss')\n",
        "ax[0].set_title('Model loss')\n",
        "\n",
        "ax[1].plot(trainAcc,'s-',label='Train')\n",
        "ax[1].plot(testAcc,'o-',label='Test')\n",
        "ax[1].set_xlabel('Epochs')\n",
        "ax[1].set_ylabel('Accuracy (%)')\n",
        "ax[1].set_title(f'Final model test accuracy: {testAcc[-1]:.2f}%')\n",
        "ax[1].legend()\n",
        "\n",
        "plt.show()"
      ],
      "metadata": {
        "colab": {
          "base_uri": "https://localhost:8080/",
          "height": 483
        },
        "id": "I0BnbaDM1HSW",
        "outputId": "8a10b4fa-8623-4215-cabc-954982ee71f3"
      },
      "execution_count": 46,
      "outputs": [
        {
          "output_type": "display_data",
          "data": {
            "text/plain": [
              "<Figure size 1152x360 with 2 Axes>"
            ],
            "image/svg+xml": "<?xml version=\"1.0\" encoding=\"utf-8\" standalone=\"no\"?>\n<!DOCTYPE svg PUBLIC \"-//W3C//DTD SVG 1.1//EN\"\n  \"http://www.w3.org/Graphics/SVG/1.1/DTD/svg11.dtd\">\n<!-- Created with matplotlib (https://matplotlib.org/) -->\n<svg height=\"331.674375pt\" version=\"1.1\" viewBox=\"0 0 943.78125 331.674375\" width=\"943.78125pt\" xmlns=\"http://www.w3.org/2000/svg\" xmlns:xlink=\"http://www.w3.org/1999/xlink\">\n <defs>\n  <style type=\"text/css\">\n*{stroke-linecap:butt;stroke-linejoin:round;}\n  </style>\n </defs>\n <g id=\"figure_1\">\n  <g id=\"patch_1\">\n   <path d=\"M 0 331.674375 \nL 943.78125 331.674375 \nL 943.78125 0 \nL 0 0 \nz\n\" style=\"fill:none;\"/>\n  </g>\n  <g id=\"axes_1\">\n   <g id=\"patch_2\">\n    <path d=\"M 43.78125 294.118125 \nL 449.599432 294.118125 \nL 449.599432 22.318125 \nL 43.78125 22.318125 \nz\n\" style=\"fill:#ffffff;\"/>\n   </g>\n   <g id=\"matplotlib.axis_1\">\n    <g id=\"xtick_1\">\n     <g id=\"line2d_1\">\n      <defs>\n       <path d=\"M 0 0 \nL 0 3.5 \n\" id=\"ma5d029b69f\" style=\"stroke:#000000;stroke-width:0.8;\"/>\n      </defs>\n      <g>\n       <use style=\"stroke:#000000;stroke-width:0.8;\" x=\"62.227531\" xlink:href=\"#ma5d029b69f\" y=\"294.118125\"/>\n      </g>\n     </g>\n     <g id=\"text_1\">\n      <!-- 0 -->\n      <defs>\n       <path d=\"M 31.78125 66.40625 \nQ 24.171875 66.40625 20.328125 58.90625 \nQ 16.5 51.421875 16.5 36.375 \nQ 16.5 21.390625 20.328125 13.890625 \nQ 24.171875 6.390625 31.78125 6.390625 \nQ 39.453125 6.390625 43.28125 13.890625 \nQ 47.125 21.390625 47.125 36.375 \nQ 47.125 51.421875 43.28125 58.90625 \nQ 39.453125 66.40625 31.78125 66.40625 \nz\nM 31.78125 74.21875 \nQ 44.046875 74.21875 50.515625 64.515625 \nQ 56.984375 54.828125 56.984375 36.375 \nQ 56.984375 17.96875 50.515625 8.265625 \nQ 44.046875 -1.421875 31.78125 -1.421875 \nQ 19.53125 -1.421875 13.0625 8.265625 \nQ 6.59375 17.96875 6.59375 36.375 \nQ 6.59375 54.828125 13.0625 64.515625 \nQ 19.53125 74.21875 31.78125 74.21875 \nz\n\" id=\"DejaVuSans-48\"/>\n      </defs>\n      <g transform=\"translate(59.046281 308.716563)scale(0.1 -0.1)\">\n       <use xlink:href=\"#DejaVuSans-48\"/>\n      </g>\n     </g>\n    </g>\n    <g id=\"xtick_2\">\n     <g id=\"line2d_2\">\n      <g>\n       <use style=\"stroke:#000000;stroke-width:0.8;\" x=\"136.757959\" xlink:href=\"#ma5d029b69f\" y=\"294.118125\"/>\n      </g>\n     </g>\n     <g id=\"text_2\">\n      <!-- 20 -->\n      <defs>\n       <path d=\"M 19.1875 8.296875 \nL 53.609375 8.296875 \nL 53.609375 0 \nL 7.328125 0 \nL 7.328125 8.296875 \nQ 12.9375 14.109375 22.625 23.890625 \nQ 32.328125 33.6875 34.8125 36.53125 \nQ 39.546875 41.84375 41.421875 45.53125 \nQ 43.3125 49.21875 43.3125 52.78125 \nQ 43.3125 58.59375 39.234375 62.25 \nQ 35.15625 65.921875 28.609375 65.921875 \nQ 23.96875 65.921875 18.8125 64.3125 \nQ 13.671875 62.703125 7.8125 59.421875 \nL 7.8125 69.390625 \nQ 13.765625 71.78125 18.9375 73 \nQ 24.125 74.21875 28.421875 74.21875 \nQ 39.75 74.21875 46.484375 68.546875 \nQ 53.21875 62.890625 53.21875 53.421875 \nQ 53.21875 48.921875 51.53125 44.890625 \nQ 49.859375 40.875 45.40625 35.40625 \nQ 44.1875 33.984375 37.640625 27.21875 \nQ 31.109375 20.453125 19.1875 8.296875 \nz\n\" id=\"DejaVuSans-50\"/>\n      </defs>\n      <g transform=\"translate(130.395459 308.716563)scale(0.1 -0.1)\">\n       <use xlink:href=\"#DejaVuSans-50\"/>\n       <use x=\"63.623047\" xlink:href=\"#DejaVuSans-48\"/>\n      </g>\n     </g>\n    </g>\n    <g id=\"xtick_3\">\n     <g id=\"line2d_3\">\n      <g>\n       <use style=\"stroke:#000000;stroke-width:0.8;\" x=\"211.288387\" xlink:href=\"#ma5d029b69f\" y=\"294.118125\"/>\n      </g>\n     </g>\n     <g id=\"text_3\">\n      <!-- 40 -->\n      <defs>\n       <path d=\"M 37.796875 64.3125 \nL 12.890625 25.390625 \nL 37.796875 25.390625 \nz\nM 35.203125 72.90625 \nL 47.609375 72.90625 \nL 47.609375 25.390625 \nL 58.015625 25.390625 \nL 58.015625 17.1875 \nL 47.609375 17.1875 \nL 47.609375 0 \nL 37.796875 0 \nL 37.796875 17.1875 \nL 4.890625 17.1875 \nL 4.890625 26.703125 \nz\n\" id=\"DejaVuSans-52\"/>\n      </defs>\n      <g transform=\"translate(204.925887 308.716563)scale(0.1 -0.1)\">\n       <use xlink:href=\"#DejaVuSans-52\"/>\n       <use x=\"63.623047\" xlink:href=\"#DejaVuSans-48\"/>\n      </g>\n     </g>\n    </g>\n    <g id=\"xtick_4\">\n     <g id=\"line2d_4\">\n      <g>\n       <use style=\"stroke:#000000;stroke-width:0.8;\" x=\"285.818816\" xlink:href=\"#ma5d029b69f\" y=\"294.118125\"/>\n      </g>\n     </g>\n     <g id=\"text_4\">\n      <!-- 60 -->\n      <defs>\n       <path d=\"M 33.015625 40.375 \nQ 26.375 40.375 22.484375 35.828125 \nQ 18.609375 31.296875 18.609375 23.390625 \nQ 18.609375 15.53125 22.484375 10.953125 \nQ 26.375 6.390625 33.015625 6.390625 \nQ 39.65625 6.390625 43.53125 10.953125 \nQ 47.40625 15.53125 47.40625 23.390625 \nQ 47.40625 31.296875 43.53125 35.828125 \nQ 39.65625 40.375 33.015625 40.375 \nz\nM 52.59375 71.296875 \nL 52.59375 62.3125 \nQ 48.875 64.0625 45.09375 64.984375 \nQ 41.3125 65.921875 37.59375 65.921875 \nQ 27.828125 65.921875 22.671875 59.328125 \nQ 17.53125 52.734375 16.796875 39.40625 \nQ 19.671875 43.65625 24.015625 45.921875 \nQ 28.375 48.1875 33.59375 48.1875 \nQ 44.578125 48.1875 50.953125 41.515625 \nQ 57.328125 34.859375 57.328125 23.390625 \nQ 57.328125 12.15625 50.6875 5.359375 \nQ 44.046875 -1.421875 33.015625 -1.421875 \nQ 20.359375 -1.421875 13.671875 8.265625 \nQ 6.984375 17.96875 6.984375 36.375 \nQ 6.984375 53.65625 15.1875 63.9375 \nQ 23.390625 74.21875 37.203125 74.21875 \nQ 40.921875 74.21875 44.703125 73.484375 \nQ 48.484375 72.75 52.59375 71.296875 \nz\n\" id=\"DejaVuSans-54\"/>\n      </defs>\n      <g transform=\"translate(279.456316 308.716563)scale(0.1 -0.1)\">\n       <use xlink:href=\"#DejaVuSans-54\"/>\n       <use x=\"63.623047\" xlink:href=\"#DejaVuSans-48\"/>\n      </g>\n     </g>\n    </g>\n    <g id=\"xtick_5\">\n     <g id=\"line2d_5\">\n      <g>\n       <use style=\"stroke:#000000;stroke-width:0.8;\" x=\"360.349244\" xlink:href=\"#ma5d029b69f\" y=\"294.118125\"/>\n      </g>\n     </g>\n     <g id=\"text_5\">\n      <!-- 80 -->\n      <defs>\n       <path d=\"M 31.78125 34.625 \nQ 24.75 34.625 20.71875 30.859375 \nQ 16.703125 27.09375 16.703125 20.515625 \nQ 16.703125 13.921875 20.71875 10.15625 \nQ 24.75 6.390625 31.78125 6.390625 \nQ 38.8125 6.390625 42.859375 10.171875 \nQ 46.921875 13.96875 46.921875 20.515625 \nQ 46.921875 27.09375 42.890625 30.859375 \nQ 38.875 34.625 31.78125 34.625 \nz\nM 21.921875 38.8125 \nQ 15.578125 40.375 12.03125 44.71875 \nQ 8.5 49.078125 8.5 55.328125 \nQ 8.5 64.0625 14.71875 69.140625 \nQ 20.953125 74.21875 31.78125 74.21875 \nQ 42.671875 74.21875 48.875 69.140625 \nQ 55.078125 64.0625 55.078125 55.328125 \nQ 55.078125 49.078125 51.53125 44.71875 \nQ 48 40.375 41.703125 38.8125 \nQ 48.828125 37.15625 52.796875 32.3125 \nQ 56.78125 27.484375 56.78125 20.515625 \nQ 56.78125 9.90625 50.3125 4.234375 \nQ 43.84375 -1.421875 31.78125 -1.421875 \nQ 19.734375 -1.421875 13.25 4.234375 \nQ 6.78125 9.90625 6.78125 20.515625 \nQ 6.78125 27.484375 10.78125 32.3125 \nQ 14.796875 37.15625 21.921875 38.8125 \nz\nM 18.3125 54.390625 \nQ 18.3125 48.734375 21.84375 45.5625 \nQ 25.390625 42.390625 31.78125 42.390625 \nQ 38.140625 42.390625 41.71875 45.5625 \nQ 45.3125 48.734375 45.3125 54.390625 \nQ 45.3125 60.0625 41.71875 63.234375 \nQ 38.140625 66.40625 31.78125 66.40625 \nQ 25.390625 66.40625 21.84375 63.234375 \nQ 18.3125 60.0625 18.3125 54.390625 \nz\n\" id=\"DejaVuSans-56\"/>\n      </defs>\n      <g transform=\"translate(353.986744 308.716563)scale(0.1 -0.1)\">\n       <use xlink:href=\"#DejaVuSans-56\"/>\n       <use x=\"63.623047\" xlink:href=\"#DejaVuSans-48\"/>\n      </g>\n     </g>\n    </g>\n    <g id=\"xtick_6\">\n     <g id=\"line2d_6\">\n      <g>\n       <use style=\"stroke:#000000;stroke-width:0.8;\" x=\"434.879672\" xlink:href=\"#ma5d029b69f\" y=\"294.118125\"/>\n      </g>\n     </g>\n     <g id=\"text_6\">\n      <!-- 100 -->\n      <defs>\n       <path d=\"M 12.40625 8.296875 \nL 28.515625 8.296875 \nL 28.515625 63.921875 \nL 10.984375 60.40625 \nL 10.984375 69.390625 \nL 28.421875 72.90625 \nL 38.28125 72.90625 \nL 38.28125 8.296875 \nL 54.390625 8.296875 \nL 54.390625 0 \nL 12.40625 0 \nz\n\" id=\"DejaVuSans-49\"/>\n      </defs>\n      <g transform=\"translate(425.335922 308.716563)scale(0.1 -0.1)\">\n       <use xlink:href=\"#DejaVuSans-49\"/>\n       <use x=\"63.623047\" xlink:href=\"#DejaVuSans-48\"/>\n       <use x=\"127.246094\" xlink:href=\"#DejaVuSans-48\"/>\n      </g>\n     </g>\n    </g>\n    <g id=\"text_7\">\n     <!-- Epochs -->\n     <defs>\n      <path d=\"M 9.8125 72.90625 \nL 55.90625 72.90625 \nL 55.90625 64.59375 \nL 19.671875 64.59375 \nL 19.671875 43.015625 \nL 54.390625 43.015625 \nL 54.390625 34.71875 \nL 19.671875 34.71875 \nL 19.671875 8.296875 \nL 56.78125 8.296875 \nL 56.78125 0 \nL 9.8125 0 \nz\n\" id=\"DejaVuSans-69\"/>\n      <path d=\"M 18.109375 8.203125 \nL 18.109375 -20.796875 \nL 9.078125 -20.796875 \nL 9.078125 54.6875 \nL 18.109375 54.6875 \nL 18.109375 46.390625 \nQ 20.953125 51.265625 25.265625 53.625 \nQ 29.59375 56 35.59375 56 \nQ 45.5625 56 51.78125 48.09375 \nQ 58.015625 40.1875 58.015625 27.296875 \nQ 58.015625 14.40625 51.78125 6.484375 \nQ 45.5625 -1.421875 35.59375 -1.421875 \nQ 29.59375 -1.421875 25.265625 0.953125 \nQ 20.953125 3.328125 18.109375 8.203125 \nz\nM 48.6875 27.296875 \nQ 48.6875 37.203125 44.609375 42.84375 \nQ 40.53125 48.484375 33.40625 48.484375 \nQ 26.265625 48.484375 22.1875 42.84375 \nQ 18.109375 37.203125 18.109375 27.296875 \nQ 18.109375 17.390625 22.1875 11.75 \nQ 26.265625 6.109375 33.40625 6.109375 \nQ 40.53125 6.109375 44.609375 11.75 \nQ 48.6875 17.390625 48.6875 27.296875 \nz\n\" id=\"DejaVuSans-112\"/>\n      <path d=\"M 30.609375 48.390625 \nQ 23.390625 48.390625 19.1875 42.75 \nQ 14.984375 37.109375 14.984375 27.296875 \nQ 14.984375 17.484375 19.15625 11.84375 \nQ 23.34375 6.203125 30.609375 6.203125 \nQ 37.796875 6.203125 41.984375 11.859375 \nQ 46.1875 17.53125 46.1875 27.296875 \nQ 46.1875 37.015625 41.984375 42.703125 \nQ 37.796875 48.390625 30.609375 48.390625 \nz\nM 30.609375 56 \nQ 42.328125 56 49.015625 48.375 \nQ 55.71875 40.765625 55.71875 27.296875 \nQ 55.71875 13.875 49.015625 6.21875 \nQ 42.328125 -1.421875 30.609375 -1.421875 \nQ 18.84375 -1.421875 12.171875 6.21875 \nQ 5.515625 13.875 5.515625 27.296875 \nQ 5.515625 40.765625 12.171875 48.375 \nQ 18.84375 56 30.609375 56 \nz\n\" id=\"DejaVuSans-111\"/>\n      <path d=\"M 48.78125 52.59375 \nL 48.78125 44.1875 \nQ 44.96875 46.296875 41.140625 47.34375 \nQ 37.3125 48.390625 33.40625 48.390625 \nQ 24.65625 48.390625 19.8125 42.84375 \nQ 14.984375 37.3125 14.984375 27.296875 \nQ 14.984375 17.28125 19.8125 11.734375 \nQ 24.65625 6.203125 33.40625 6.203125 \nQ 37.3125 6.203125 41.140625 7.25 \nQ 44.96875 8.296875 48.78125 10.40625 \nL 48.78125 2.09375 \nQ 45.015625 0.34375 40.984375 -0.53125 \nQ 36.96875 -1.421875 32.421875 -1.421875 \nQ 20.0625 -1.421875 12.78125 6.34375 \nQ 5.515625 14.109375 5.515625 27.296875 \nQ 5.515625 40.671875 12.859375 48.328125 \nQ 20.21875 56 33.015625 56 \nQ 37.15625 56 41.109375 55.140625 \nQ 45.0625 54.296875 48.78125 52.59375 \nz\n\" id=\"DejaVuSans-99\"/>\n      <path d=\"M 54.890625 33.015625 \nL 54.890625 0 \nL 45.90625 0 \nL 45.90625 32.71875 \nQ 45.90625 40.484375 42.875 44.328125 \nQ 39.84375 48.1875 33.796875 48.1875 \nQ 26.515625 48.1875 22.3125 43.546875 \nQ 18.109375 38.921875 18.109375 30.90625 \nL 18.109375 0 \nL 9.078125 0 \nL 9.078125 75.984375 \nL 18.109375 75.984375 \nL 18.109375 46.1875 \nQ 21.34375 51.125 25.703125 53.5625 \nQ 30.078125 56 35.796875 56 \nQ 45.21875 56 50.046875 50.171875 \nQ 54.890625 44.34375 54.890625 33.015625 \nz\n\" id=\"DejaVuSans-104\"/>\n      <path d=\"M 44.28125 53.078125 \nL 44.28125 44.578125 \nQ 40.484375 46.53125 36.375 47.5 \nQ 32.28125 48.484375 27.875 48.484375 \nQ 21.1875 48.484375 17.84375 46.4375 \nQ 14.5 44.390625 14.5 40.28125 \nQ 14.5 37.15625 16.890625 35.375 \nQ 19.28125 33.59375 26.515625 31.984375 \nL 29.59375 31.296875 \nQ 39.15625 29.25 43.1875 25.515625 \nQ 47.21875 21.78125 47.21875 15.09375 \nQ 47.21875 7.46875 41.1875 3.015625 \nQ 35.15625 -1.421875 24.609375 -1.421875 \nQ 20.21875 -1.421875 15.453125 -0.5625 \nQ 10.6875 0.296875 5.421875 2 \nL 5.421875 11.28125 \nQ 10.40625 8.6875 15.234375 7.390625 \nQ 20.0625 6.109375 24.8125 6.109375 \nQ 31.15625 6.109375 34.5625 8.28125 \nQ 37.984375 10.453125 37.984375 14.40625 \nQ 37.984375 18.0625 35.515625 20.015625 \nQ 33.0625 21.96875 24.703125 23.78125 \nL 21.578125 24.515625 \nQ 13.234375 26.265625 9.515625 29.90625 \nQ 5.8125 33.546875 5.8125 39.890625 \nQ 5.8125 47.609375 11.28125 51.796875 \nQ 16.75 56 26.8125 56 \nQ 31.78125 56 36.171875 55.265625 \nQ 40.578125 54.546875 44.28125 53.078125 \nz\n\" id=\"DejaVuSans-115\"/>\n     </defs>\n     <g transform=\"translate(228.774716 322.394687)scale(0.1 -0.1)\">\n      <use xlink:href=\"#DejaVuSans-69\"/>\n      <use x=\"63.183594\" xlink:href=\"#DejaVuSans-112\"/>\n      <use x=\"126.660156\" xlink:href=\"#DejaVuSans-111\"/>\n      <use x=\"187.841797\" xlink:href=\"#DejaVuSans-99\"/>\n      <use x=\"242.822266\" xlink:href=\"#DejaVuSans-104\"/>\n      <use x=\"306.201172\" xlink:href=\"#DejaVuSans-115\"/>\n     </g>\n    </g>\n   </g>\n   <g id=\"matplotlib.axis_2\">\n    <g id=\"ytick_1\">\n     <g id=\"line2d_7\">\n      <defs>\n       <path d=\"M 0 0 \nL -3.5 0 \n\" id=\"m346a2e8b67\" style=\"stroke:#000000;stroke-width:0.8;\"/>\n      </defs>\n      <g>\n       <use style=\"stroke:#000000;stroke-width:0.8;\" x=\"43.78125\" xlink:href=\"#m346a2e8b67\" y=\"279.014366\"/>\n      </g>\n     </g>\n     <g id=\"text_8\">\n      <!-- 1.2 -->\n      <defs>\n       <path d=\"M 10.6875 12.40625 \nL 21 12.40625 \nL 21 0 \nL 10.6875 0 \nz\n\" id=\"DejaVuSans-46\"/>\n      </defs>\n      <g transform=\"translate(20.878125 282.813585)scale(0.1 -0.1)\">\n       <use xlink:href=\"#DejaVuSans-49\"/>\n       <use x=\"63.623047\" xlink:href=\"#DejaVuSans-46\"/>\n       <use x=\"95.410156\" xlink:href=\"#DejaVuSans-50\"/>\n      </g>\n     </g>\n    </g>\n    <g id=\"ytick_2\">\n     <g id=\"line2d_8\">\n      <g>\n       <use style=\"stroke:#000000;stroke-width:0.8;\" x=\"43.78125\" xlink:href=\"#m346a2e8b67\" y=\"247.888353\"/>\n      </g>\n     </g>\n     <g id=\"text_9\">\n      <!-- 1.3 -->\n      <defs>\n       <path d=\"M 40.578125 39.3125 \nQ 47.65625 37.796875 51.625 33 \nQ 55.609375 28.21875 55.609375 21.1875 \nQ 55.609375 10.40625 48.1875 4.484375 \nQ 40.765625 -1.421875 27.09375 -1.421875 \nQ 22.515625 -1.421875 17.65625 -0.515625 \nQ 12.796875 0.390625 7.625 2.203125 \nL 7.625 11.71875 \nQ 11.71875 9.328125 16.59375 8.109375 \nQ 21.484375 6.890625 26.8125 6.890625 \nQ 36.078125 6.890625 40.9375 10.546875 \nQ 45.796875 14.203125 45.796875 21.1875 \nQ 45.796875 27.640625 41.28125 31.265625 \nQ 36.765625 34.90625 28.71875 34.90625 \nL 20.21875 34.90625 \nL 20.21875 43.015625 \nL 29.109375 43.015625 \nQ 36.375 43.015625 40.234375 45.921875 \nQ 44.09375 48.828125 44.09375 54.296875 \nQ 44.09375 59.90625 40.109375 62.90625 \nQ 36.140625 65.921875 28.71875 65.921875 \nQ 24.65625 65.921875 20.015625 65.03125 \nQ 15.375 64.15625 9.8125 62.3125 \nL 9.8125 71.09375 \nQ 15.4375 72.65625 20.34375 73.4375 \nQ 25.25 74.21875 29.59375 74.21875 \nQ 40.828125 74.21875 47.359375 69.109375 \nQ 53.90625 64.015625 53.90625 55.328125 \nQ 53.90625 49.265625 50.4375 45.09375 \nQ 46.96875 40.921875 40.578125 39.3125 \nz\n\" id=\"DejaVuSans-51\"/>\n      </defs>\n      <g transform=\"translate(20.878125 251.687572)scale(0.1 -0.1)\">\n       <use xlink:href=\"#DejaVuSans-49\"/>\n       <use x=\"63.623047\" xlink:href=\"#DejaVuSans-46\"/>\n       <use x=\"95.410156\" xlink:href=\"#DejaVuSans-51\"/>\n      </g>\n     </g>\n    </g>\n    <g id=\"ytick_3\">\n     <g id=\"line2d_9\">\n      <g>\n       <use style=\"stroke:#000000;stroke-width:0.8;\" x=\"43.78125\" xlink:href=\"#m346a2e8b67\" y=\"216.762339\"/>\n      </g>\n     </g>\n     <g id=\"text_10\">\n      <!-- 1.4 -->\n      <g transform=\"translate(20.878125 220.561558)scale(0.1 -0.1)\">\n       <use xlink:href=\"#DejaVuSans-49\"/>\n       <use x=\"63.623047\" xlink:href=\"#DejaVuSans-46\"/>\n       <use x=\"95.410156\" xlink:href=\"#DejaVuSans-52\"/>\n      </g>\n     </g>\n    </g>\n    <g id=\"ytick_4\">\n     <g id=\"line2d_10\">\n      <g>\n       <use style=\"stroke:#000000;stroke-width:0.8;\" x=\"43.78125\" xlink:href=\"#m346a2e8b67\" y=\"185.636326\"/>\n      </g>\n     </g>\n     <g id=\"text_11\">\n      <!-- 1.5 -->\n      <defs>\n       <path d=\"M 10.796875 72.90625 \nL 49.515625 72.90625 \nL 49.515625 64.59375 \nL 19.828125 64.59375 \nL 19.828125 46.734375 \nQ 21.96875 47.46875 24.109375 47.828125 \nQ 26.265625 48.1875 28.421875 48.1875 \nQ 40.625 48.1875 47.75 41.5 \nQ 54.890625 34.8125 54.890625 23.390625 \nQ 54.890625 11.625 47.5625 5.09375 \nQ 40.234375 -1.421875 26.90625 -1.421875 \nQ 22.3125 -1.421875 17.546875 -0.640625 \nQ 12.796875 0.140625 7.71875 1.703125 \nL 7.71875 11.625 \nQ 12.109375 9.234375 16.796875 8.0625 \nQ 21.484375 6.890625 26.703125 6.890625 \nQ 35.15625 6.890625 40.078125 11.328125 \nQ 45.015625 15.765625 45.015625 23.390625 \nQ 45.015625 31 40.078125 35.4375 \nQ 35.15625 39.890625 26.703125 39.890625 \nQ 22.75 39.890625 18.8125 39.015625 \nQ 14.890625 38.140625 10.796875 36.28125 \nz\n\" id=\"DejaVuSans-53\"/>\n      </defs>\n      <g transform=\"translate(20.878125 189.435545)scale(0.1 -0.1)\">\n       <use xlink:href=\"#DejaVuSans-49\"/>\n       <use x=\"63.623047\" xlink:href=\"#DejaVuSans-46\"/>\n       <use x=\"95.410156\" xlink:href=\"#DejaVuSans-53\"/>\n      </g>\n     </g>\n    </g>\n    <g id=\"ytick_5\">\n     <g id=\"line2d_11\">\n      <g>\n       <use style=\"stroke:#000000;stroke-width:0.8;\" x=\"43.78125\" xlink:href=\"#m346a2e8b67\" y=\"154.510313\"/>\n      </g>\n     </g>\n     <g id=\"text_12\">\n      <!-- 1.6 -->\n      <g transform=\"translate(20.878125 158.309531)scale(0.1 -0.1)\">\n       <use xlink:href=\"#DejaVuSans-49\"/>\n       <use x=\"63.623047\" xlink:href=\"#DejaVuSans-46\"/>\n       <use x=\"95.410156\" xlink:href=\"#DejaVuSans-54\"/>\n      </g>\n     </g>\n    </g>\n    <g id=\"ytick_6\">\n     <g id=\"line2d_12\">\n      <g>\n       <use style=\"stroke:#000000;stroke-width:0.8;\" x=\"43.78125\" xlink:href=\"#m346a2e8b67\" y=\"123.384299\"/>\n      </g>\n     </g>\n     <g id=\"text_13\">\n      <!-- 1.7 -->\n      <defs>\n       <path d=\"M 8.203125 72.90625 \nL 55.078125 72.90625 \nL 55.078125 68.703125 \nL 28.609375 0 \nL 18.3125 0 \nL 43.21875 64.59375 \nL 8.203125 64.59375 \nz\n\" id=\"DejaVuSans-55\"/>\n      </defs>\n      <g transform=\"translate(20.878125 127.183518)scale(0.1 -0.1)\">\n       <use xlink:href=\"#DejaVuSans-49\"/>\n       <use x=\"63.623047\" xlink:href=\"#DejaVuSans-46\"/>\n       <use x=\"95.410156\" xlink:href=\"#DejaVuSans-55\"/>\n      </g>\n     </g>\n    </g>\n    <g id=\"ytick_7\">\n     <g id=\"line2d_13\">\n      <g>\n       <use style=\"stroke:#000000;stroke-width:0.8;\" x=\"43.78125\" xlink:href=\"#m346a2e8b67\" y=\"92.258286\"/>\n      </g>\n     </g>\n     <g id=\"text_14\">\n      <!-- 1.8 -->\n      <g transform=\"translate(20.878125 96.057505)scale(0.1 -0.1)\">\n       <use xlink:href=\"#DejaVuSans-49\"/>\n       <use x=\"63.623047\" xlink:href=\"#DejaVuSans-46\"/>\n       <use x=\"95.410156\" xlink:href=\"#DejaVuSans-56\"/>\n      </g>\n     </g>\n    </g>\n    <g id=\"ytick_8\">\n     <g id=\"line2d_14\">\n      <g>\n       <use style=\"stroke:#000000;stroke-width:0.8;\" x=\"43.78125\" xlink:href=\"#m346a2e8b67\" y=\"61.132272\"/>\n      </g>\n     </g>\n     <g id=\"text_15\">\n      <!-- 1.9 -->\n      <defs>\n       <path d=\"M 10.984375 1.515625 \nL 10.984375 10.5 \nQ 14.703125 8.734375 18.5 7.8125 \nQ 22.3125 6.890625 25.984375 6.890625 \nQ 35.75 6.890625 40.890625 13.453125 \nQ 46.046875 20.015625 46.78125 33.40625 \nQ 43.953125 29.203125 39.59375 26.953125 \nQ 35.25 24.703125 29.984375 24.703125 \nQ 19.046875 24.703125 12.671875 31.3125 \nQ 6.296875 37.9375 6.296875 49.421875 \nQ 6.296875 60.640625 12.9375 67.421875 \nQ 19.578125 74.21875 30.609375 74.21875 \nQ 43.265625 74.21875 49.921875 64.515625 \nQ 56.59375 54.828125 56.59375 36.375 \nQ 56.59375 19.140625 48.40625 8.859375 \nQ 40.234375 -1.421875 26.421875 -1.421875 \nQ 22.703125 -1.421875 18.890625 -0.6875 \nQ 15.09375 0.046875 10.984375 1.515625 \nz\nM 30.609375 32.421875 \nQ 37.25 32.421875 41.125 36.953125 \nQ 45.015625 41.5 45.015625 49.421875 \nQ 45.015625 57.28125 41.125 61.84375 \nQ 37.25 66.40625 30.609375 66.40625 \nQ 23.96875 66.40625 20.09375 61.84375 \nQ 16.21875 57.28125 16.21875 49.421875 \nQ 16.21875 41.5 20.09375 36.953125 \nQ 23.96875 32.421875 30.609375 32.421875 \nz\n\" id=\"DejaVuSans-57\"/>\n      </defs>\n      <g transform=\"translate(20.878125 64.931491)scale(0.1 -0.1)\">\n       <use xlink:href=\"#DejaVuSans-49\"/>\n       <use x=\"63.623047\" xlink:href=\"#DejaVuSans-46\"/>\n       <use x=\"95.410156\" xlink:href=\"#DejaVuSans-57\"/>\n      </g>\n     </g>\n    </g>\n    <g id=\"ytick_9\">\n     <g id=\"line2d_15\">\n      <g>\n       <use style=\"stroke:#000000;stroke-width:0.8;\" x=\"43.78125\" xlink:href=\"#m346a2e8b67\" y=\"30.006259\"/>\n      </g>\n     </g>\n     <g id=\"text_16\">\n      <!-- 2.0 -->\n      <g transform=\"translate(20.878125 33.805478)scale(0.1 -0.1)\">\n       <use xlink:href=\"#DejaVuSans-50\"/>\n       <use x=\"63.623047\" xlink:href=\"#DejaVuSans-46\"/>\n       <use x=\"95.410156\" xlink:href=\"#DejaVuSans-48\"/>\n      </g>\n     </g>\n    </g>\n    <g id=\"text_17\">\n     <!-- Loss -->\n     <defs>\n      <path d=\"M 9.8125 72.90625 \nL 19.671875 72.90625 \nL 19.671875 8.296875 \nL 55.171875 8.296875 \nL 55.171875 0 \nL 9.8125 0 \nz\n\" id=\"DejaVuSans-76\"/>\n     </defs>\n     <g transform=\"translate(14.798438 169.185313)rotate(-90)scale(0.1 -0.1)\">\n      <use xlink:href=\"#DejaVuSans-76\"/>\n      <use x=\"53.962891\" xlink:href=\"#DejaVuSans-111\"/>\n      <use x=\"115.144531\" xlink:href=\"#DejaVuSans-115\"/>\n      <use x=\"167.244141\" xlink:href=\"#DejaVuSans-115\"/>\n     </g>\n    </g>\n   </g>\n   <g id=\"line2d_16\">\n    <path clip-path=\"url(#pfe56aa09ae)\" d=\"M 62.227531 34.67267 \nL 65.954052 109.754431 \nL 69.680574 131.858013 \nL 73.407095 145.518404 \nL 77.133617 157.432703 \nL 80.860138 166.109433 \nL 84.586659 172.703603 \nL 88.313181 179.36805 \nL 92.039702 182.603095 \nL 95.766224 188.35357 \nL 99.492745 192.086305 \nL 103.219267 196.523964 \nL 106.945788 202.055444 \nL 110.672309 204.865227 \nL 114.398831 208.206356 \nL 118.125352 211.268121 \nL 121.851874 214.511552 \nL 125.578395 217.4738 \nL 129.304916 220.43334 \nL 133.031438 223.007989 \nL 136.757959 223.903928 \nL 140.484481 226.522027 \nL 144.211002 229.057455 \nL 147.937523 230.429528 \nL 151.664045 232.898353 \nL 155.390566 234.970524 \nL 159.117088 235.190186 \nL 162.843609 236.676913 \nL 166.570131 237.771699 \nL 170.296652 237.886169 \nL 174.023173 241.743466 \nL 177.749695 242.288132 \nL 181.476216 244.1868 \nL 185.202738 247.47728 \nL 188.929259 247.087862 \nL 192.65578 245.671895 \nL 196.382302 250.222241 \nL 200.108823 248.67648 \nL 203.835345 248.956104 \nL 207.561866 250.226137 \nL 211.288387 253.18115 \nL 215.014909 254.574373 \nL 218.74143 254.996851 \nL 222.467952 254.752885 \nL 226.194473 256.709957 \nL 229.920995 255.50174 \nL 233.647516 258.233269 \nL 237.374037 260.480243 \nL 241.100559 260.457052 \nL 244.82708 259.571316 \nL 248.553602 260.65627 \nL 252.280123 262.621727 \nL 256.006644 265.261198 \nL 259.733166 256.03572 \nL 263.459687 265.144762 \nL 267.186209 261.869977 \nL 270.91273 266.070497 \nL 274.639252 266.117955 \nL 278.365773 266.224409 \nL 282.092294 266.447411 \nL 285.818816 268.68073 \nL 289.545337 266.123483 \nL 293.271859 269.442126 \nL 296.99838 266.775531 \nL 300.724901 271.670696 \nL 304.451423 271.72101 \nL 308.177944 268.797499 \nL 311.904466 271.777224 \nL 315.630987 273.380499 \nL 319.357508 271.86739 \nL 323.08403 272.597544 \nL 326.810551 272.817874 \nL 330.537073 250.16766 \nL 334.263594 270.504074 \nL 337.990116 274.786374 \nL 341.716637 271.584946 \nL 345.443158 265.481454 \nL 349.16968 274.993977 \nL 352.896201 241.176946 \nL 356.622723 273.807801 \nL 360.349244 273.013678 \nL 364.075765 275.457345 \nL 367.802287 275.944461 \nL 371.528808 277.421244 \nL 375.25533 277.233715 \nL 378.981851 277.877562 \nL 382.708372 276.853239 \nL 386.434894 271.780861 \nL 390.161415 271.582423 \nL 393.887937 265.715142 \nL 397.614458 274.038075 \nL 401.34098 278.998619 \nL 405.067501 271.327325 \nL 408.794022 279.778531 \nL 412.520544 279.440095 \nL 416.247065 278.599702 \nL 419.973587 281.654194 \nL 423.700108 281.76358 \nL 427.426629 278.00769 \nL 431.153151 276.65276 \n\" style=\"fill:none;stroke:#1f77b4;stroke-linecap:square;stroke-width:1.5;\"/>\n    <defs>\n     <path d=\"M -3 3 \nL 3 3 \nL 3 -3 \nL -3 -3 \nz\n\" id=\"m12f4a8ed76\" style=\"stroke:#1f77b4;stroke-linejoin:miter;\"/>\n    </defs>\n    <g clip-path=\"url(#pfe56aa09ae)\">\n     <use style=\"fill:#1f77b4;stroke:#1f77b4;stroke-linejoin:miter;\" x=\"62.227531\" xlink:href=\"#m12f4a8ed76\" y=\"34.67267\"/>\n     <use style=\"fill:#1f77b4;stroke:#1f77b4;stroke-linejoin:miter;\" x=\"65.954052\" xlink:href=\"#m12f4a8ed76\" y=\"109.754431\"/>\n     <use style=\"fill:#1f77b4;stroke:#1f77b4;stroke-linejoin:miter;\" x=\"69.680574\" xlink:href=\"#m12f4a8ed76\" y=\"131.858013\"/>\n     <use style=\"fill:#1f77b4;stroke:#1f77b4;stroke-linejoin:miter;\" x=\"73.407095\" xlink:href=\"#m12f4a8ed76\" y=\"145.518404\"/>\n     <use style=\"fill:#1f77b4;stroke:#1f77b4;stroke-linejoin:miter;\" x=\"77.133617\" xlink:href=\"#m12f4a8ed76\" y=\"157.432703\"/>\n     <use style=\"fill:#1f77b4;stroke:#1f77b4;stroke-linejoin:miter;\" x=\"80.860138\" xlink:href=\"#m12f4a8ed76\" y=\"166.109433\"/>\n     <use style=\"fill:#1f77b4;stroke:#1f77b4;stroke-linejoin:miter;\" x=\"84.586659\" xlink:href=\"#m12f4a8ed76\" y=\"172.703603\"/>\n     <use style=\"fill:#1f77b4;stroke:#1f77b4;stroke-linejoin:miter;\" x=\"88.313181\" xlink:href=\"#m12f4a8ed76\" y=\"179.36805\"/>\n     <use style=\"fill:#1f77b4;stroke:#1f77b4;stroke-linejoin:miter;\" x=\"92.039702\" xlink:href=\"#m12f4a8ed76\" y=\"182.603095\"/>\n     <use style=\"fill:#1f77b4;stroke:#1f77b4;stroke-linejoin:miter;\" x=\"95.766224\" xlink:href=\"#m12f4a8ed76\" y=\"188.35357\"/>\n     <use style=\"fill:#1f77b4;stroke:#1f77b4;stroke-linejoin:miter;\" x=\"99.492745\" xlink:href=\"#m12f4a8ed76\" y=\"192.086305\"/>\n     <use style=\"fill:#1f77b4;stroke:#1f77b4;stroke-linejoin:miter;\" x=\"103.219267\" xlink:href=\"#m12f4a8ed76\" y=\"196.523964\"/>\n     <use style=\"fill:#1f77b4;stroke:#1f77b4;stroke-linejoin:miter;\" x=\"106.945788\" xlink:href=\"#m12f4a8ed76\" y=\"202.055444\"/>\n     <use style=\"fill:#1f77b4;stroke:#1f77b4;stroke-linejoin:miter;\" x=\"110.672309\" xlink:href=\"#m12f4a8ed76\" y=\"204.865227\"/>\n     <use style=\"fill:#1f77b4;stroke:#1f77b4;stroke-linejoin:miter;\" x=\"114.398831\" xlink:href=\"#m12f4a8ed76\" y=\"208.206356\"/>\n     <use style=\"fill:#1f77b4;stroke:#1f77b4;stroke-linejoin:miter;\" x=\"118.125352\" xlink:href=\"#m12f4a8ed76\" y=\"211.268121\"/>\n     <use style=\"fill:#1f77b4;stroke:#1f77b4;stroke-linejoin:miter;\" x=\"121.851874\" xlink:href=\"#m12f4a8ed76\" y=\"214.511552\"/>\n     <use style=\"fill:#1f77b4;stroke:#1f77b4;stroke-linejoin:miter;\" x=\"125.578395\" xlink:href=\"#m12f4a8ed76\" y=\"217.4738\"/>\n     <use style=\"fill:#1f77b4;stroke:#1f77b4;stroke-linejoin:miter;\" x=\"129.304916\" xlink:href=\"#m12f4a8ed76\" y=\"220.43334\"/>\n     <use style=\"fill:#1f77b4;stroke:#1f77b4;stroke-linejoin:miter;\" x=\"133.031438\" xlink:href=\"#m12f4a8ed76\" y=\"223.007989\"/>\n     <use style=\"fill:#1f77b4;stroke:#1f77b4;stroke-linejoin:miter;\" x=\"136.757959\" xlink:href=\"#m12f4a8ed76\" y=\"223.903928\"/>\n     <use style=\"fill:#1f77b4;stroke:#1f77b4;stroke-linejoin:miter;\" x=\"140.484481\" xlink:href=\"#m12f4a8ed76\" y=\"226.522027\"/>\n     <use style=\"fill:#1f77b4;stroke:#1f77b4;stroke-linejoin:miter;\" x=\"144.211002\" xlink:href=\"#m12f4a8ed76\" y=\"229.057455\"/>\n     <use style=\"fill:#1f77b4;stroke:#1f77b4;stroke-linejoin:miter;\" x=\"147.937523\" xlink:href=\"#m12f4a8ed76\" y=\"230.429528\"/>\n     <use style=\"fill:#1f77b4;stroke:#1f77b4;stroke-linejoin:miter;\" x=\"151.664045\" xlink:href=\"#m12f4a8ed76\" y=\"232.898353\"/>\n     <use style=\"fill:#1f77b4;stroke:#1f77b4;stroke-linejoin:miter;\" x=\"155.390566\" xlink:href=\"#m12f4a8ed76\" y=\"234.970524\"/>\n     <use style=\"fill:#1f77b4;stroke:#1f77b4;stroke-linejoin:miter;\" x=\"159.117088\" xlink:href=\"#m12f4a8ed76\" y=\"235.190186\"/>\n     <use style=\"fill:#1f77b4;stroke:#1f77b4;stroke-linejoin:miter;\" x=\"162.843609\" xlink:href=\"#m12f4a8ed76\" y=\"236.676913\"/>\n     <use style=\"fill:#1f77b4;stroke:#1f77b4;stroke-linejoin:miter;\" x=\"166.570131\" xlink:href=\"#m12f4a8ed76\" y=\"237.771699\"/>\n     <use style=\"fill:#1f77b4;stroke:#1f77b4;stroke-linejoin:miter;\" x=\"170.296652\" xlink:href=\"#m12f4a8ed76\" y=\"237.886169\"/>\n     <use style=\"fill:#1f77b4;stroke:#1f77b4;stroke-linejoin:miter;\" x=\"174.023173\" xlink:href=\"#m12f4a8ed76\" y=\"241.743466\"/>\n     <use style=\"fill:#1f77b4;stroke:#1f77b4;stroke-linejoin:miter;\" x=\"177.749695\" xlink:href=\"#m12f4a8ed76\" y=\"242.288132\"/>\n     <use style=\"fill:#1f77b4;stroke:#1f77b4;stroke-linejoin:miter;\" x=\"181.476216\" xlink:href=\"#m12f4a8ed76\" y=\"244.1868\"/>\n     <use style=\"fill:#1f77b4;stroke:#1f77b4;stroke-linejoin:miter;\" x=\"185.202738\" xlink:href=\"#m12f4a8ed76\" y=\"247.47728\"/>\n     <use style=\"fill:#1f77b4;stroke:#1f77b4;stroke-linejoin:miter;\" x=\"188.929259\" xlink:href=\"#m12f4a8ed76\" y=\"247.087862\"/>\n     <use style=\"fill:#1f77b4;stroke:#1f77b4;stroke-linejoin:miter;\" x=\"192.65578\" xlink:href=\"#m12f4a8ed76\" y=\"245.671895\"/>\n     <use style=\"fill:#1f77b4;stroke:#1f77b4;stroke-linejoin:miter;\" x=\"196.382302\" xlink:href=\"#m12f4a8ed76\" y=\"250.222241\"/>\n     <use style=\"fill:#1f77b4;stroke:#1f77b4;stroke-linejoin:miter;\" x=\"200.108823\" xlink:href=\"#m12f4a8ed76\" y=\"248.67648\"/>\n     <use style=\"fill:#1f77b4;stroke:#1f77b4;stroke-linejoin:miter;\" x=\"203.835345\" xlink:href=\"#m12f4a8ed76\" y=\"248.956104\"/>\n     <use style=\"fill:#1f77b4;stroke:#1f77b4;stroke-linejoin:miter;\" x=\"207.561866\" xlink:href=\"#m12f4a8ed76\" y=\"250.226137\"/>\n     <use style=\"fill:#1f77b4;stroke:#1f77b4;stroke-linejoin:miter;\" x=\"211.288387\" xlink:href=\"#m12f4a8ed76\" y=\"253.18115\"/>\n     <use style=\"fill:#1f77b4;stroke:#1f77b4;stroke-linejoin:miter;\" x=\"215.014909\" xlink:href=\"#m12f4a8ed76\" y=\"254.574373\"/>\n     <use style=\"fill:#1f77b4;stroke:#1f77b4;stroke-linejoin:miter;\" x=\"218.74143\" xlink:href=\"#m12f4a8ed76\" y=\"254.996851\"/>\n     <use style=\"fill:#1f77b4;stroke:#1f77b4;stroke-linejoin:miter;\" x=\"222.467952\" xlink:href=\"#m12f4a8ed76\" y=\"254.752885\"/>\n     <use style=\"fill:#1f77b4;stroke:#1f77b4;stroke-linejoin:miter;\" x=\"226.194473\" xlink:href=\"#m12f4a8ed76\" y=\"256.709957\"/>\n     <use style=\"fill:#1f77b4;stroke:#1f77b4;stroke-linejoin:miter;\" x=\"229.920995\" xlink:href=\"#m12f4a8ed76\" y=\"255.50174\"/>\n     <use style=\"fill:#1f77b4;stroke:#1f77b4;stroke-linejoin:miter;\" x=\"233.647516\" xlink:href=\"#m12f4a8ed76\" y=\"258.233269\"/>\n     <use style=\"fill:#1f77b4;stroke:#1f77b4;stroke-linejoin:miter;\" x=\"237.374037\" xlink:href=\"#m12f4a8ed76\" y=\"260.480243\"/>\n     <use style=\"fill:#1f77b4;stroke:#1f77b4;stroke-linejoin:miter;\" x=\"241.100559\" xlink:href=\"#m12f4a8ed76\" y=\"260.457052\"/>\n     <use style=\"fill:#1f77b4;stroke:#1f77b4;stroke-linejoin:miter;\" x=\"244.82708\" xlink:href=\"#m12f4a8ed76\" y=\"259.571316\"/>\n     <use style=\"fill:#1f77b4;stroke:#1f77b4;stroke-linejoin:miter;\" x=\"248.553602\" xlink:href=\"#m12f4a8ed76\" y=\"260.65627\"/>\n     <use style=\"fill:#1f77b4;stroke:#1f77b4;stroke-linejoin:miter;\" x=\"252.280123\" xlink:href=\"#m12f4a8ed76\" y=\"262.621727\"/>\n     <use style=\"fill:#1f77b4;stroke:#1f77b4;stroke-linejoin:miter;\" x=\"256.006644\" xlink:href=\"#m12f4a8ed76\" y=\"265.261198\"/>\n     <use style=\"fill:#1f77b4;stroke:#1f77b4;stroke-linejoin:miter;\" x=\"259.733166\" xlink:href=\"#m12f4a8ed76\" y=\"256.03572\"/>\n     <use style=\"fill:#1f77b4;stroke:#1f77b4;stroke-linejoin:miter;\" x=\"263.459687\" xlink:href=\"#m12f4a8ed76\" y=\"265.144762\"/>\n     <use style=\"fill:#1f77b4;stroke:#1f77b4;stroke-linejoin:miter;\" x=\"267.186209\" xlink:href=\"#m12f4a8ed76\" y=\"261.869977\"/>\n     <use style=\"fill:#1f77b4;stroke:#1f77b4;stroke-linejoin:miter;\" x=\"270.91273\" xlink:href=\"#m12f4a8ed76\" y=\"266.070497\"/>\n     <use style=\"fill:#1f77b4;stroke:#1f77b4;stroke-linejoin:miter;\" x=\"274.639252\" xlink:href=\"#m12f4a8ed76\" y=\"266.117955\"/>\n     <use style=\"fill:#1f77b4;stroke:#1f77b4;stroke-linejoin:miter;\" x=\"278.365773\" xlink:href=\"#m12f4a8ed76\" y=\"266.224409\"/>\n     <use style=\"fill:#1f77b4;stroke:#1f77b4;stroke-linejoin:miter;\" x=\"282.092294\" xlink:href=\"#m12f4a8ed76\" y=\"266.447411\"/>\n     <use style=\"fill:#1f77b4;stroke:#1f77b4;stroke-linejoin:miter;\" x=\"285.818816\" xlink:href=\"#m12f4a8ed76\" y=\"268.68073\"/>\n     <use style=\"fill:#1f77b4;stroke:#1f77b4;stroke-linejoin:miter;\" x=\"289.545337\" xlink:href=\"#m12f4a8ed76\" y=\"266.123483\"/>\n     <use style=\"fill:#1f77b4;stroke:#1f77b4;stroke-linejoin:miter;\" x=\"293.271859\" xlink:href=\"#m12f4a8ed76\" y=\"269.442126\"/>\n     <use style=\"fill:#1f77b4;stroke:#1f77b4;stroke-linejoin:miter;\" x=\"296.99838\" xlink:href=\"#m12f4a8ed76\" y=\"266.775531\"/>\n     <use style=\"fill:#1f77b4;stroke:#1f77b4;stroke-linejoin:miter;\" x=\"300.724901\" xlink:href=\"#m12f4a8ed76\" y=\"271.670696\"/>\n     <use style=\"fill:#1f77b4;stroke:#1f77b4;stroke-linejoin:miter;\" x=\"304.451423\" xlink:href=\"#m12f4a8ed76\" y=\"271.72101\"/>\n     <use style=\"fill:#1f77b4;stroke:#1f77b4;stroke-linejoin:miter;\" x=\"308.177944\" xlink:href=\"#m12f4a8ed76\" y=\"268.797499\"/>\n     <use style=\"fill:#1f77b4;stroke:#1f77b4;stroke-linejoin:miter;\" x=\"311.904466\" xlink:href=\"#m12f4a8ed76\" y=\"271.777224\"/>\n     <use style=\"fill:#1f77b4;stroke:#1f77b4;stroke-linejoin:miter;\" x=\"315.630987\" xlink:href=\"#m12f4a8ed76\" y=\"273.380499\"/>\n     <use style=\"fill:#1f77b4;stroke:#1f77b4;stroke-linejoin:miter;\" x=\"319.357508\" xlink:href=\"#m12f4a8ed76\" y=\"271.86739\"/>\n     <use style=\"fill:#1f77b4;stroke:#1f77b4;stroke-linejoin:miter;\" x=\"323.08403\" xlink:href=\"#m12f4a8ed76\" y=\"272.597544\"/>\n     <use style=\"fill:#1f77b4;stroke:#1f77b4;stroke-linejoin:miter;\" x=\"326.810551\" xlink:href=\"#m12f4a8ed76\" y=\"272.817874\"/>\n     <use style=\"fill:#1f77b4;stroke:#1f77b4;stroke-linejoin:miter;\" x=\"330.537073\" xlink:href=\"#m12f4a8ed76\" y=\"250.16766\"/>\n     <use style=\"fill:#1f77b4;stroke:#1f77b4;stroke-linejoin:miter;\" x=\"334.263594\" xlink:href=\"#m12f4a8ed76\" y=\"270.504074\"/>\n     <use style=\"fill:#1f77b4;stroke:#1f77b4;stroke-linejoin:miter;\" x=\"337.990116\" xlink:href=\"#m12f4a8ed76\" y=\"274.786374\"/>\n     <use style=\"fill:#1f77b4;stroke:#1f77b4;stroke-linejoin:miter;\" x=\"341.716637\" xlink:href=\"#m12f4a8ed76\" y=\"271.584946\"/>\n     <use style=\"fill:#1f77b4;stroke:#1f77b4;stroke-linejoin:miter;\" x=\"345.443158\" xlink:href=\"#m12f4a8ed76\" y=\"265.481454\"/>\n     <use style=\"fill:#1f77b4;stroke:#1f77b4;stroke-linejoin:miter;\" x=\"349.16968\" xlink:href=\"#m12f4a8ed76\" y=\"274.993977\"/>\n     <use style=\"fill:#1f77b4;stroke:#1f77b4;stroke-linejoin:miter;\" x=\"352.896201\" xlink:href=\"#m12f4a8ed76\" y=\"241.176946\"/>\n     <use style=\"fill:#1f77b4;stroke:#1f77b4;stroke-linejoin:miter;\" x=\"356.622723\" xlink:href=\"#m12f4a8ed76\" y=\"273.807801\"/>\n     <use style=\"fill:#1f77b4;stroke:#1f77b4;stroke-linejoin:miter;\" x=\"360.349244\" xlink:href=\"#m12f4a8ed76\" y=\"273.013678\"/>\n     <use style=\"fill:#1f77b4;stroke:#1f77b4;stroke-linejoin:miter;\" x=\"364.075765\" xlink:href=\"#m12f4a8ed76\" y=\"275.457345\"/>\n     <use style=\"fill:#1f77b4;stroke:#1f77b4;stroke-linejoin:miter;\" x=\"367.802287\" xlink:href=\"#m12f4a8ed76\" y=\"275.944461\"/>\n     <use style=\"fill:#1f77b4;stroke:#1f77b4;stroke-linejoin:miter;\" x=\"371.528808\" xlink:href=\"#m12f4a8ed76\" y=\"277.421244\"/>\n     <use style=\"fill:#1f77b4;stroke:#1f77b4;stroke-linejoin:miter;\" x=\"375.25533\" xlink:href=\"#m12f4a8ed76\" y=\"277.233715\"/>\n     <use style=\"fill:#1f77b4;stroke:#1f77b4;stroke-linejoin:miter;\" x=\"378.981851\" xlink:href=\"#m12f4a8ed76\" y=\"277.877562\"/>\n     <use style=\"fill:#1f77b4;stroke:#1f77b4;stroke-linejoin:miter;\" x=\"382.708372\" xlink:href=\"#m12f4a8ed76\" y=\"276.853239\"/>\n     <use style=\"fill:#1f77b4;stroke:#1f77b4;stroke-linejoin:miter;\" x=\"386.434894\" xlink:href=\"#m12f4a8ed76\" y=\"271.780861\"/>\n     <use style=\"fill:#1f77b4;stroke:#1f77b4;stroke-linejoin:miter;\" x=\"390.161415\" xlink:href=\"#m12f4a8ed76\" y=\"271.582423\"/>\n     <use style=\"fill:#1f77b4;stroke:#1f77b4;stroke-linejoin:miter;\" x=\"393.887937\" xlink:href=\"#m12f4a8ed76\" y=\"265.715142\"/>\n     <use style=\"fill:#1f77b4;stroke:#1f77b4;stroke-linejoin:miter;\" x=\"397.614458\" xlink:href=\"#m12f4a8ed76\" y=\"274.038075\"/>\n     <use style=\"fill:#1f77b4;stroke:#1f77b4;stroke-linejoin:miter;\" x=\"401.34098\" xlink:href=\"#m12f4a8ed76\" y=\"278.998619\"/>\n     <use style=\"fill:#1f77b4;stroke:#1f77b4;stroke-linejoin:miter;\" x=\"405.067501\" xlink:href=\"#m12f4a8ed76\" y=\"271.327325\"/>\n     <use style=\"fill:#1f77b4;stroke:#1f77b4;stroke-linejoin:miter;\" x=\"408.794022\" xlink:href=\"#m12f4a8ed76\" y=\"279.778531\"/>\n     <use style=\"fill:#1f77b4;stroke:#1f77b4;stroke-linejoin:miter;\" x=\"412.520544\" xlink:href=\"#m12f4a8ed76\" y=\"279.440095\"/>\n     <use style=\"fill:#1f77b4;stroke:#1f77b4;stroke-linejoin:miter;\" x=\"416.247065\" xlink:href=\"#m12f4a8ed76\" y=\"278.599702\"/>\n     <use style=\"fill:#1f77b4;stroke:#1f77b4;stroke-linejoin:miter;\" x=\"419.973587\" xlink:href=\"#m12f4a8ed76\" y=\"281.654194\"/>\n     <use style=\"fill:#1f77b4;stroke:#1f77b4;stroke-linejoin:miter;\" x=\"423.700108\" xlink:href=\"#m12f4a8ed76\" y=\"281.76358\"/>\n     <use style=\"fill:#1f77b4;stroke:#1f77b4;stroke-linejoin:miter;\" x=\"427.426629\" xlink:href=\"#m12f4a8ed76\" y=\"278.00769\"/>\n     <use style=\"fill:#1f77b4;stroke:#1f77b4;stroke-linejoin:miter;\" x=\"431.153151\" xlink:href=\"#m12f4a8ed76\" y=\"276.65276\"/>\n    </g>\n   </g>\n   <g id=\"patch_3\">\n    <path d=\"M 43.78125 294.118125 \nL 43.78125 22.318125 \n\" style=\"fill:none;stroke:#000000;stroke-linecap:square;stroke-linejoin:miter;stroke-width:0.8;\"/>\n   </g>\n   <g id=\"patch_4\">\n    <path d=\"M 449.599432 294.118125 \nL 449.599432 22.318125 \n\" style=\"fill:none;stroke:#000000;stroke-linecap:square;stroke-linejoin:miter;stroke-width:0.8;\"/>\n   </g>\n   <g id=\"patch_5\">\n    <path d=\"M 43.78125 294.118125 \nL 449.599432 294.118125 \n\" style=\"fill:none;stroke:#000000;stroke-linecap:square;stroke-linejoin:miter;stroke-width:0.8;\"/>\n   </g>\n   <g id=\"patch_6\">\n    <path d=\"M 43.78125 22.318125 \nL 449.599432 22.318125 \n\" style=\"fill:none;stroke:#000000;stroke-linecap:square;stroke-linejoin:miter;stroke-width:0.8;\"/>\n   </g>\n   <g id=\"text_18\">\n    <!-- Model loss -->\n    <defs>\n     <path d=\"M 9.8125 72.90625 \nL 24.515625 72.90625 \nL 43.109375 23.296875 \nL 61.8125 72.90625 \nL 76.515625 72.90625 \nL 76.515625 0 \nL 66.890625 0 \nL 66.890625 64.015625 \nL 48.09375 14.015625 \nL 38.1875 14.015625 \nL 19.390625 64.015625 \nL 19.390625 0 \nL 9.8125 0 \nz\n\" id=\"DejaVuSans-77\"/>\n     <path d=\"M 45.40625 46.390625 \nL 45.40625 75.984375 \nL 54.390625 75.984375 \nL 54.390625 0 \nL 45.40625 0 \nL 45.40625 8.203125 \nQ 42.578125 3.328125 38.25 0.953125 \nQ 33.9375 -1.421875 27.875 -1.421875 \nQ 17.96875 -1.421875 11.734375 6.484375 \nQ 5.515625 14.40625 5.515625 27.296875 \nQ 5.515625 40.1875 11.734375 48.09375 \nQ 17.96875 56 27.875 56 \nQ 33.9375 56 38.25 53.625 \nQ 42.578125 51.265625 45.40625 46.390625 \nz\nM 14.796875 27.296875 \nQ 14.796875 17.390625 18.875 11.75 \nQ 22.953125 6.109375 30.078125 6.109375 \nQ 37.203125 6.109375 41.296875 11.75 \nQ 45.40625 17.390625 45.40625 27.296875 \nQ 45.40625 37.203125 41.296875 42.84375 \nQ 37.203125 48.484375 30.078125 48.484375 \nQ 22.953125 48.484375 18.875 42.84375 \nQ 14.796875 37.203125 14.796875 27.296875 \nz\n\" id=\"DejaVuSans-100\"/>\n     <path d=\"M 56.203125 29.59375 \nL 56.203125 25.203125 \nL 14.890625 25.203125 \nQ 15.484375 15.921875 20.484375 11.0625 \nQ 25.484375 6.203125 34.421875 6.203125 \nQ 39.59375 6.203125 44.453125 7.46875 \nQ 49.3125 8.734375 54.109375 11.28125 \nL 54.109375 2.78125 \nQ 49.265625 0.734375 44.1875 -0.34375 \nQ 39.109375 -1.421875 33.890625 -1.421875 \nQ 20.796875 -1.421875 13.15625 6.1875 \nQ 5.515625 13.8125 5.515625 26.8125 \nQ 5.515625 40.234375 12.765625 48.109375 \nQ 20.015625 56 32.328125 56 \nQ 43.359375 56 49.78125 48.890625 \nQ 56.203125 41.796875 56.203125 29.59375 \nz\nM 47.21875 32.234375 \nQ 47.125 39.59375 43.09375 43.984375 \nQ 39.0625 48.390625 32.421875 48.390625 \nQ 24.90625 48.390625 20.390625 44.140625 \nQ 15.875 39.890625 15.1875 32.171875 \nz\n\" id=\"DejaVuSans-101\"/>\n     <path d=\"M 9.421875 75.984375 \nL 18.40625 75.984375 \nL 18.40625 0 \nL 9.421875 0 \nz\n\" id=\"DejaVuSans-108\"/>\n     <path id=\"DejaVuSans-32\"/>\n    </defs>\n    <g transform=\"translate(215.178153 16.318125)scale(0.12 -0.12)\">\n     <use xlink:href=\"#DejaVuSans-77\"/>\n     <use x=\"86.279297\" xlink:href=\"#DejaVuSans-111\"/>\n     <use x=\"147.460938\" xlink:href=\"#DejaVuSans-100\"/>\n     <use x=\"210.9375\" xlink:href=\"#DejaVuSans-101\"/>\n     <use x=\"272.460938\" xlink:href=\"#DejaVuSans-108\"/>\n     <use x=\"300.244141\" xlink:href=\"#DejaVuSans-32\"/>\n     <use x=\"332.03125\" xlink:href=\"#DejaVuSans-108\"/>\n     <use x=\"359.814453\" xlink:href=\"#DejaVuSans-111\"/>\n     <use x=\"420.996094\" xlink:href=\"#DejaVuSans-115\"/>\n     <use x=\"473.095703\" xlink:href=\"#DejaVuSans-115\"/>\n    </g>\n   </g>\n  </g>\n  <g id=\"axes_2\">\n   <g id=\"patch_7\">\n    <path d=\"M 530.763068 294.118125 \nL 936.58125 294.118125 \nL 936.58125 22.318125 \nL 530.763068 22.318125 \nz\n\" style=\"fill:#ffffff;\"/>\n   </g>\n   <g id=\"matplotlib.axis_3\">\n    <g id=\"xtick_7\">\n     <g id=\"line2d_17\">\n      <g>\n       <use style=\"stroke:#000000;stroke-width:0.8;\" x=\"549.209349\" xlink:href=\"#ma5d029b69f\" y=\"294.118125\"/>\n      </g>\n     </g>\n     <g id=\"text_19\">\n      <!-- 0 -->\n      <g transform=\"translate(546.028099 308.716563)scale(0.1 -0.1)\">\n       <use xlink:href=\"#DejaVuSans-48\"/>\n      </g>\n     </g>\n    </g>\n    <g id=\"xtick_8\">\n     <g id=\"line2d_18\">\n      <g>\n       <use style=\"stroke:#000000;stroke-width:0.8;\" x=\"623.739777\" xlink:href=\"#ma5d029b69f\" y=\"294.118125\"/>\n      </g>\n     </g>\n     <g id=\"text_20\">\n      <!-- 20 -->\n      <g transform=\"translate(617.377277 308.716563)scale(0.1 -0.1)\">\n       <use xlink:href=\"#DejaVuSans-50\"/>\n       <use x=\"63.623047\" xlink:href=\"#DejaVuSans-48\"/>\n      </g>\n     </g>\n    </g>\n    <g id=\"xtick_9\">\n     <g id=\"line2d_19\">\n      <g>\n       <use style=\"stroke:#000000;stroke-width:0.8;\" x=\"698.270206\" xlink:href=\"#ma5d029b69f\" y=\"294.118125\"/>\n      </g>\n     </g>\n     <g id=\"text_21\">\n      <!-- 40 -->\n      <g transform=\"translate(691.907706 308.716563)scale(0.1 -0.1)\">\n       <use xlink:href=\"#DejaVuSans-52\"/>\n       <use x=\"63.623047\" xlink:href=\"#DejaVuSans-48\"/>\n      </g>\n     </g>\n    </g>\n    <g id=\"xtick_10\">\n     <g id=\"line2d_20\">\n      <g>\n       <use style=\"stroke:#000000;stroke-width:0.8;\" x=\"772.800634\" xlink:href=\"#ma5d029b69f\" y=\"294.118125\"/>\n      </g>\n     </g>\n     <g id=\"text_22\">\n      <!-- 60 -->\n      <g transform=\"translate(766.438134 308.716563)scale(0.1 -0.1)\">\n       <use xlink:href=\"#DejaVuSans-54\"/>\n       <use x=\"63.623047\" xlink:href=\"#DejaVuSans-48\"/>\n      </g>\n     </g>\n    </g>\n    <g id=\"xtick_11\">\n     <g id=\"line2d_21\">\n      <g>\n       <use style=\"stroke:#000000;stroke-width:0.8;\" x=\"847.331062\" xlink:href=\"#ma5d029b69f\" y=\"294.118125\"/>\n      </g>\n     </g>\n     <g id=\"text_23\">\n      <!-- 80 -->\n      <g transform=\"translate(840.968562 308.716563)scale(0.1 -0.1)\">\n       <use xlink:href=\"#DejaVuSans-56\"/>\n       <use x=\"63.623047\" xlink:href=\"#DejaVuSans-48\"/>\n      </g>\n     </g>\n    </g>\n    <g id=\"xtick_12\">\n     <g id=\"line2d_22\">\n      <g>\n       <use style=\"stroke:#000000;stroke-width:0.8;\" x=\"921.86149\" xlink:href=\"#ma5d029b69f\" y=\"294.118125\"/>\n      </g>\n     </g>\n     <g id=\"text_24\">\n      <!-- 100 -->\n      <g transform=\"translate(912.31774 308.716563)scale(0.1 -0.1)\">\n       <use xlink:href=\"#DejaVuSans-49\"/>\n       <use x=\"63.623047\" xlink:href=\"#DejaVuSans-48\"/>\n       <use x=\"127.246094\" xlink:href=\"#DejaVuSans-48\"/>\n      </g>\n     </g>\n    </g>\n    <g id=\"text_25\">\n     <!-- Epochs -->\n     <g transform=\"translate(715.756534 322.394687)scale(0.1 -0.1)\">\n      <use xlink:href=\"#DejaVuSans-69\"/>\n      <use x=\"63.183594\" xlink:href=\"#DejaVuSans-112\"/>\n      <use x=\"126.660156\" xlink:href=\"#DejaVuSans-111\"/>\n      <use x=\"187.841797\" xlink:href=\"#DejaVuSans-99\"/>\n      <use x=\"242.822266\" xlink:href=\"#DejaVuSans-104\"/>\n      <use x=\"306.201172\" xlink:href=\"#DejaVuSans-115\"/>\n     </g>\n    </g>\n   </g>\n   <g id=\"matplotlib.axis_4\">\n    <g id=\"ytick_10\">\n     <g id=\"line2d_23\">\n      <g>\n       <use style=\"stroke:#000000;stroke-width:0.8;\" x=\"530.763068\" xlink:href=\"#m346a2e8b67\" y=\"263.89052\"/>\n      </g>\n     </g>\n     <g id=\"text_26\">\n      <!-- 30 -->\n      <g transform=\"translate(511.038068 267.689739)scale(0.1 -0.1)\">\n       <use xlink:href=\"#DejaVuSans-51\"/>\n       <use x=\"63.623047\" xlink:href=\"#DejaVuSans-48\"/>\n      </g>\n     </g>\n    </g>\n    <g id=\"ytick_11\">\n     <g id=\"line2d_24\">\n      <g>\n       <use style=\"stroke:#000000;stroke-width:0.8;\" x=\"530.763068\" xlink:href=\"#m346a2e8b67\" y=\"221.549287\"/>\n      </g>\n     </g>\n     <g id=\"text_27\">\n      <!-- 35 -->\n      <g transform=\"translate(511.038068 225.348505)scale(0.1 -0.1)\">\n       <use xlink:href=\"#DejaVuSans-51\"/>\n       <use x=\"63.623047\" xlink:href=\"#DejaVuSans-53\"/>\n      </g>\n     </g>\n    </g>\n    <g id=\"ytick_12\">\n     <g id=\"line2d_25\">\n      <g>\n       <use style=\"stroke:#000000;stroke-width:0.8;\" x=\"530.763068\" xlink:href=\"#m346a2e8b67\" y=\"179.208054\"/>\n      </g>\n     </g>\n     <g id=\"text_28\">\n      <!-- 40 -->\n      <g transform=\"translate(511.038068 183.007272)scale(0.1 -0.1)\">\n       <use xlink:href=\"#DejaVuSans-52\"/>\n       <use x=\"63.623047\" xlink:href=\"#DejaVuSans-48\"/>\n      </g>\n     </g>\n    </g>\n    <g id=\"ytick_13\">\n     <g id=\"line2d_26\">\n      <g>\n       <use style=\"stroke:#000000;stroke-width:0.8;\" x=\"530.763068\" xlink:href=\"#m346a2e8b67\" y=\"136.86682\"/>\n      </g>\n     </g>\n     <g id=\"text_29\">\n      <!-- 45 -->\n      <g transform=\"translate(511.038068 140.666039)scale(0.1 -0.1)\">\n       <use xlink:href=\"#DejaVuSans-52\"/>\n       <use x=\"63.623047\" xlink:href=\"#DejaVuSans-53\"/>\n      </g>\n     </g>\n    </g>\n    <g id=\"ytick_14\">\n     <g id=\"line2d_27\">\n      <g>\n       <use style=\"stroke:#000000;stroke-width:0.8;\" x=\"530.763068\" xlink:href=\"#m346a2e8b67\" y=\"94.525587\"/>\n      </g>\n     </g>\n     <g id=\"text_30\">\n      <!-- 50 -->\n      <g transform=\"translate(511.038068 98.324806)scale(0.1 -0.1)\">\n       <use xlink:href=\"#DejaVuSans-53\"/>\n       <use x=\"63.623047\" xlink:href=\"#DejaVuSans-48\"/>\n      </g>\n     </g>\n    </g>\n    <g id=\"ytick_15\">\n     <g id=\"line2d_28\">\n      <g>\n       <use style=\"stroke:#000000;stroke-width:0.8;\" x=\"530.763068\" xlink:href=\"#m346a2e8b67\" y=\"52.184354\"/>\n      </g>\n     </g>\n     <g id=\"text_31\">\n      <!-- 55 -->\n      <g transform=\"translate(511.038068 55.983573)scale(0.1 -0.1)\">\n       <use xlink:href=\"#DejaVuSans-53\"/>\n       <use x=\"63.623047\" xlink:href=\"#DejaVuSans-53\"/>\n      </g>\n     </g>\n    </g>\n    <g id=\"text_32\">\n     <!-- Accuracy (%) -->\n     <defs>\n      <path d=\"M 34.1875 63.1875 \nL 20.796875 26.90625 \nL 47.609375 26.90625 \nz\nM 28.609375 72.90625 \nL 39.796875 72.90625 \nL 67.578125 0 \nL 57.328125 0 \nL 50.6875 18.703125 \nL 17.828125 18.703125 \nL 11.1875 0 \nL 0.78125 0 \nz\n\" id=\"DejaVuSans-65\"/>\n      <path d=\"M 8.5 21.578125 \nL 8.5 54.6875 \nL 17.484375 54.6875 \nL 17.484375 21.921875 \nQ 17.484375 14.15625 20.5 10.265625 \nQ 23.53125 6.390625 29.59375 6.390625 \nQ 36.859375 6.390625 41.078125 11.03125 \nQ 45.3125 15.671875 45.3125 23.6875 \nL 45.3125 54.6875 \nL 54.296875 54.6875 \nL 54.296875 0 \nL 45.3125 0 \nL 45.3125 8.40625 \nQ 42.046875 3.421875 37.71875 1 \nQ 33.40625 -1.421875 27.6875 -1.421875 \nQ 18.265625 -1.421875 13.375 4.4375 \nQ 8.5 10.296875 8.5 21.578125 \nz\nM 31.109375 56 \nz\n\" id=\"DejaVuSans-117\"/>\n      <path d=\"M 41.109375 46.296875 \nQ 39.59375 47.171875 37.8125 47.578125 \nQ 36.03125 48 33.890625 48 \nQ 26.265625 48 22.1875 43.046875 \nQ 18.109375 38.09375 18.109375 28.8125 \nL 18.109375 0 \nL 9.078125 0 \nL 9.078125 54.6875 \nL 18.109375 54.6875 \nL 18.109375 46.1875 \nQ 20.953125 51.171875 25.484375 53.578125 \nQ 30.03125 56 36.53125 56 \nQ 37.453125 56 38.578125 55.875 \nQ 39.703125 55.765625 41.0625 55.515625 \nz\n\" id=\"DejaVuSans-114\"/>\n      <path d=\"M 34.28125 27.484375 \nQ 23.390625 27.484375 19.1875 25 \nQ 14.984375 22.515625 14.984375 16.5 \nQ 14.984375 11.71875 18.140625 8.90625 \nQ 21.296875 6.109375 26.703125 6.109375 \nQ 34.1875 6.109375 38.703125 11.40625 \nQ 43.21875 16.703125 43.21875 25.484375 \nL 43.21875 27.484375 \nz\nM 52.203125 31.203125 \nL 52.203125 0 \nL 43.21875 0 \nL 43.21875 8.296875 \nQ 40.140625 3.328125 35.546875 0.953125 \nQ 30.953125 -1.421875 24.3125 -1.421875 \nQ 15.921875 -1.421875 10.953125 3.296875 \nQ 6 8.015625 6 15.921875 \nQ 6 25.140625 12.171875 29.828125 \nQ 18.359375 34.515625 30.609375 34.515625 \nL 43.21875 34.515625 \nL 43.21875 35.40625 \nQ 43.21875 41.609375 39.140625 45 \nQ 35.0625 48.390625 27.6875 48.390625 \nQ 23 48.390625 18.546875 47.265625 \nQ 14.109375 46.140625 10.015625 43.890625 \nL 10.015625 52.203125 \nQ 14.9375 54.109375 19.578125 55.046875 \nQ 24.21875 56 28.609375 56 \nQ 40.484375 56 46.34375 49.84375 \nQ 52.203125 43.703125 52.203125 31.203125 \nz\n\" id=\"DejaVuSans-97\"/>\n      <path d=\"M 32.171875 -5.078125 \nQ 28.375 -14.84375 24.75 -17.8125 \nQ 21.140625 -20.796875 15.09375 -20.796875 \nL 7.90625 -20.796875 \nL 7.90625 -13.28125 \nL 13.1875 -13.28125 \nQ 16.890625 -13.28125 18.9375 -11.515625 \nQ 21 -9.765625 23.484375 -3.21875 \nL 25.09375 0.875 \nL 2.984375 54.6875 \nL 12.5 54.6875 \nL 29.59375 11.921875 \nL 46.6875 54.6875 \nL 56.203125 54.6875 \nz\n\" id=\"DejaVuSans-121\"/>\n      <path d=\"M 31 75.875 \nQ 24.46875 64.65625 21.28125 53.65625 \nQ 18.109375 42.671875 18.109375 31.390625 \nQ 18.109375 20.125 21.3125 9.0625 \nQ 24.515625 -2 31 -13.1875 \nL 23.1875 -13.1875 \nQ 15.875 -1.703125 12.234375 9.375 \nQ 8.59375 20.453125 8.59375 31.390625 \nQ 8.59375 42.28125 12.203125 53.3125 \nQ 15.828125 64.359375 23.1875 75.875 \nz\n\" id=\"DejaVuSans-40\"/>\n      <path d=\"M 72.703125 32.078125 \nQ 68.453125 32.078125 66.03125 28.46875 \nQ 63.625 24.859375 63.625 18.40625 \nQ 63.625 12.0625 66.03125 8.421875 \nQ 68.453125 4.78125 72.703125 4.78125 \nQ 76.859375 4.78125 79.265625 8.421875 \nQ 81.6875 12.0625 81.6875 18.40625 \nQ 81.6875 24.8125 79.265625 28.4375 \nQ 76.859375 32.078125 72.703125 32.078125 \nz\nM 72.703125 38.28125 \nQ 80.421875 38.28125 84.953125 32.90625 \nQ 89.5 27.546875 89.5 18.40625 \nQ 89.5 9.28125 84.9375 3.921875 \nQ 80.375 -1.421875 72.703125 -1.421875 \nQ 64.890625 -1.421875 60.34375 3.921875 \nQ 55.8125 9.28125 55.8125 18.40625 \nQ 55.8125 27.59375 60.375 32.9375 \nQ 64.9375 38.28125 72.703125 38.28125 \nz\nM 22.3125 68.015625 \nQ 18.109375 68.015625 15.6875 64.375 \nQ 13.28125 60.75 13.28125 54.390625 \nQ 13.28125 47.953125 15.671875 44.328125 \nQ 18.0625 40.71875 22.3125 40.71875 \nQ 26.5625 40.71875 28.96875 44.328125 \nQ 31.390625 47.953125 31.390625 54.390625 \nQ 31.390625 60.6875 28.953125 64.34375 \nQ 26.515625 68.015625 22.3125 68.015625 \nz\nM 66.40625 74.21875 \nL 74.21875 74.21875 \nL 28.609375 -1.421875 \nL 20.796875 -1.421875 \nz\nM 22.3125 74.21875 \nQ 30.03125 74.21875 34.609375 68.875 \nQ 39.203125 63.53125 39.203125 54.390625 \nQ 39.203125 45.171875 34.640625 39.84375 \nQ 30.078125 34.515625 22.3125 34.515625 \nQ 14.546875 34.515625 10.03125 39.859375 \nQ 5.515625 45.21875 5.515625 54.390625 \nQ 5.515625 63.484375 10.046875 68.84375 \nQ 14.59375 74.21875 22.3125 74.21875 \nz\n\" id=\"DejaVuSans-37\"/>\n      <path d=\"M 8.015625 75.875 \nL 15.828125 75.875 \nQ 23.140625 64.359375 26.78125 53.3125 \nQ 30.421875 42.28125 30.421875 31.390625 \nQ 30.421875 20.453125 26.78125 9.375 \nQ 23.140625 -1.703125 15.828125 -13.1875 \nL 8.015625 -13.1875 \nQ 14.5 -2 17.703125 9.0625 \nQ 20.90625 20.125 20.90625 31.390625 \nQ 20.90625 42.671875 17.703125 53.65625 \nQ 14.5 64.65625 8.015625 75.875 \nz\n\" id=\"DejaVuSans-41\"/>\n     </defs>\n     <g transform=\"translate(504.958381 191.287656)rotate(-90)scale(0.1 -0.1)\">\n      <use xlink:href=\"#DejaVuSans-65\"/>\n      <use x=\"66.658203\" xlink:href=\"#DejaVuSans-99\"/>\n      <use x=\"121.638672\" xlink:href=\"#DejaVuSans-99\"/>\n      <use x=\"176.619141\" xlink:href=\"#DejaVuSans-117\"/>\n      <use x=\"239.998047\" xlink:href=\"#DejaVuSans-114\"/>\n      <use x=\"281.111328\" xlink:href=\"#DejaVuSans-97\"/>\n      <use x=\"342.390625\" xlink:href=\"#DejaVuSans-99\"/>\n      <use x=\"397.371094\" xlink:href=\"#DejaVuSans-121\"/>\n      <use x=\"456.550781\" xlink:href=\"#DejaVuSans-32\"/>\n      <use x=\"488.337891\" xlink:href=\"#DejaVuSans-40\"/>\n      <use x=\"527.351562\" xlink:href=\"#DejaVuSans-37\"/>\n      <use x=\"622.371094\" xlink:href=\"#DejaVuSans-41\"/>\n     </g>\n    </g>\n   </g>\n   <g id=\"line2d_29\">\n    <path clip-path=\"url(#pddaaef2896)\" d=\"M 549.209349 281.76358 \nL 552.935871 211.332883 \nL 556.662392 188.822164 \nL 560.388913 173.331928 \nL 564.115435 162.227141 \nL 567.841956 154.924332 \nL 571.568478 147.452129 \nL 575.294999 140.03639 \nL 579.02152 135.726227 \nL 582.748042 131.434886 \nL 586.474563 125.920136 \nL 590.201085 121.139431 \nL 593.927606 115.83172 \nL 597.654128 113.347259 \nL 601.380649 110.580473 \nL 605.10717 108.227764 \nL 608.833692 105.36687 \nL 612.560213 102.825945 \nL 616.286735 98.402852 \nL 620.013256 97.687628 \nL 623.739777 98.026418 \nL 627.466299 92.154057 \nL 631.19282 89.707239 \nL 634.919342 87.787429 \nL 638.645863 85.284146 \nL 642.372384 83.552552 \nL 646.098906 83.778413 \nL 649.825427 80.654015 \nL 653.551949 80.541085 \nL 657.27847 78.997708 \nL 661.004992 75.98624 \nL 664.731513 75.0828 \nL 668.458034 72.918308 \nL 672.184556 69.041043 \nL 675.911077 68.683432 \nL 679.637599 71.581969 \nL 683.36412 67.610596 \nL 687.090641 70.415025 \nL 690.817163 69.79391 \nL 694.543684 67.347093 \nL 698.270206 64.806167 \nL 701.996727 63.300433 \nL 705.723248 61.550018 \nL 709.44977 61.606483 \nL 713.176291 59.272596 \nL 716.902813 62.58521 \nL 720.629334 60.910081 \nL 724.355856 55.922338 \nL 728.082377 56.261128 \nL 731.808898 58.275047 \nL 735.53542 56.468167 \nL 739.261941 56.95753 \nL 742.988463 54.830681 \nL 746.714984 60.646578 \nL 750.441505 53.193196 \nL 754.168027 56.242306 \nL 757.894548 51.160455 \nL 761.62107 51.273385 \nL 765.347591 51.913322 \nL 769.074113 51.273385 \nL 772.800634 48.431313 \nL 776.527155 52.082717 \nL 780.253677 47.885484 \nL 783.980198 51.405137 \nL 787.70672 46.549145 \nL 791.433241 44.591692 \nL 795.159762 46.60561 \nL 798.886284 45.043412 \nL 802.612805 45.269272 \nL 806.339327 46.323285 \nL 810.065848 45.005768 \nL 813.792369 42.351913 \nL 817.518891 66.895373 \nL 821.245412 48.130166 \nL 824.971934 41.072039 \nL 828.698455 44.441118 \nL 832.424977 50.633448 \nL 836.151498 41.711976 \nL 839.878019 72.955951 \nL 843.604541 44.968125 \nL 847.331062 44.328188 \nL 851.057584 41.448472 \nL 854.784105 45.306915 \nL 858.510626 39.434553 \nL 862.237148 42.144874 \nL 865.963669 38.117036 \nL 869.690191 39.679235 \nL 873.416712 45.438667 \nL 877.143233 43.575321 \nL 880.869755 49.918225 \nL 884.596276 41.711976 \nL 888.322798 37.608851 \nL 892.049319 46.49268 \nL 895.775841 36.404264 \nL 899.502362 36.630124 \nL 903.228883 38.83226 \nL 906.955405 34.67267 \nL 910.681926 35.312607 \nL 914.408448 38.192323 \nL 918.134969 40.733249 \n\" style=\"fill:none;stroke:#1f77b4;stroke-linecap:square;stroke-width:1.5;\"/>\n    <g clip-path=\"url(#pddaaef2896)\">\n     <use style=\"fill:#1f77b4;stroke:#1f77b4;stroke-linejoin:miter;\" x=\"549.209349\" xlink:href=\"#m12f4a8ed76\" y=\"281.76358\"/>\n     <use style=\"fill:#1f77b4;stroke:#1f77b4;stroke-linejoin:miter;\" x=\"552.935871\" xlink:href=\"#m12f4a8ed76\" y=\"211.332883\"/>\n     <use style=\"fill:#1f77b4;stroke:#1f77b4;stroke-linejoin:miter;\" x=\"556.662392\" xlink:href=\"#m12f4a8ed76\" y=\"188.822164\"/>\n     <use style=\"fill:#1f77b4;stroke:#1f77b4;stroke-linejoin:miter;\" x=\"560.388913\" xlink:href=\"#m12f4a8ed76\" y=\"173.331928\"/>\n     <use style=\"fill:#1f77b4;stroke:#1f77b4;stroke-linejoin:miter;\" x=\"564.115435\" xlink:href=\"#m12f4a8ed76\" y=\"162.227141\"/>\n     <use style=\"fill:#1f77b4;stroke:#1f77b4;stroke-linejoin:miter;\" x=\"567.841956\" xlink:href=\"#m12f4a8ed76\" y=\"154.924332\"/>\n     <use style=\"fill:#1f77b4;stroke:#1f77b4;stroke-linejoin:miter;\" x=\"571.568478\" xlink:href=\"#m12f4a8ed76\" y=\"147.452129\"/>\n     <use style=\"fill:#1f77b4;stroke:#1f77b4;stroke-linejoin:miter;\" x=\"575.294999\" xlink:href=\"#m12f4a8ed76\" y=\"140.03639\"/>\n     <use style=\"fill:#1f77b4;stroke:#1f77b4;stroke-linejoin:miter;\" x=\"579.02152\" xlink:href=\"#m12f4a8ed76\" y=\"135.726227\"/>\n     <use style=\"fill:#1f77b4;stroke:#1f77b4;stroke-linejoin:miter;\" x=\"582.748042\" xlink:href=\"#m12f4a8ed76\" y=\"131.434886\"/>\n     <use style=\"fill:#1f77b4;stroke:#1f77b4;stroke-linejoin:miter;\" x=\"586.474563\" xlink:href=\"#m12f4a8ed76\" y=\"125.920136\"/>\n     <use style=\"fill:#1f77b4;stroke:#1f77b4;stroke-linejoin:miter;\" x=\"590.201085\" xlink:href=\"#m12f4a8ed76\" y=\"121.139431\"/>\n     <use style=\"fill:#1f77b4;stroke:#1f77b4;stroke-linejoin:miter;\" x=\"593.927606\" xlink:href=\"#m12f4a8ed76\" y=\"115.83172\"/>\n     <use style=\"fill:#1f77b4;stroke:#1f77b4;stroke-linejoin:miter;\" x=\"597.654128\" xlink:href=\"#m12f4a8ed76\" y=\"113.347259\"/>\n     <use style=\"fill:#1f77b4;stroke:#1f77b4;stroke-linejoin:miter;\" x=\"601.380649\" xlink:href=\"#m12f4a8ed76\" y=\"110.580473\"/>\n     <use style=\"fill:#1f77b4;stroke:#1f77b4;stroke-linejoin:miter;\" x=\"605.10717\" xlink:href=\"#m12f4a8ed76\" y=\"108.227764\"/>\n     <use style=\"fill:#1f77b4;stroke:#1f77b4;stroke-linejoin:miter;\" x=\"608.833692\" xlink:href=\"#m12f4a8ed76\" y=\"105.36687\"/>\n     <use style=\"fill:#1f77b4;stroke:#1f77b4;stroke-linejoin:miter;\" x=\"612.560213\" xlink:href=\"#m12f4a8ed76\" y=\"102.825945\"/>\n     <use style=\"fill:#1f77b4;stroke:#1f77b4;stroke-linejoin:miter;\" x=\"616.286735\" xlink:href=\"#m12f4a8ed76\" y=\"98.402852\"/>\n     <use style=\"fill:#1f77b4;stroke:#1f77b4;stroke-linejoin:miter;\" x=\"620.013256\" xlink:href=\"#m12f4a8ed76\" y=\"97.687628\"/>\n     <use style=\"fill:#1f77b4;stroke:#1f77b4;stroke-linejoin:miter;\" x=\"623.739777\" xlink:href=\"#m12f4a8ed76\" y=\"98.026418\"/>\n     <use style=\"fill:#1f77b4;stroke:#1f77b4;stroke-linejoin:miter;\" x=\"627.466299\" xlink:href=\"#m12f4a8ed76\" y=\"92.154057\"/>\n     <use style=\"fill:#1f77b4;stroke:#1f77b4;stroke-linejoin:miter;\" x=\"631.19282\" xlink:href=\"#m12f4a8ed76\" y=\"89.707239\"/>\n     <use style=\"fill:#1f77b4;stroke:#1f77b4;stroke-linejoin:miter;\" x=\"634.919342\" xlink:href=\"#m12f4a8ed76\" y=\"87.787429\"/>\n     <use style=\"fill:#1f77b4;stroke:#1f77b4;stroke-linejoin:miter;\" x=\"638.645863\" xlink:href=\"#m12f4a8ed76\" y=\"85.284146\"/>\n     <use style=\"fill:#1f77b4;stroke:#1f77b4;stroke-linejoin:miter;\" x=\"642.372384\" xlink:href=\"#m12f4a8ed76\" y=\"83.552552\"/>\n     <use style=\"fill:#1f77b4;stroke:#1f77b4;stroke-linejoin:miter;\" x=\"646.098906\" xlink:href=\"#m12f4a8ed76\" y=\"83.778413\"/>\n     <use style=\"fill:#1f77b4;stroke:#1f77b4;stroke-linejoin:miter;\" x=\"649.825427\" xlink:href=\"#m12f4a8ed76\" y=\"80.654015\"/>\n     <use style=\"fill:#1f77b4;stroke:#1f77b4;stroke-linejoin:miter;\" x=\"653.551949\" xlink:href=\"#m12f4a8ed76\" y=\"80.541085\"/>\n     <use style=\"fill:#1f77b4;stroke:#1f77b4;stroke-linejoin:miter;\" x=\"657.27847\" xlink:href=\"#m12f4a8ed76\" y=\"78.997708\"/>\n     <use style=\"fill:#1f77b4;stroke:#1f77b4;stroke-linejoin:miter;\" x=\"661.004992\" xlink:href=\"#m12f4a8ed76\" y=\"75.98624\"/>\n     <use style=\"fill:#1f77b4;stroke:#1f77b4;stroke-linejoin:miter;\" x=\"664.731513\" xlink:href=\"#m12f4a8ed76\" y=\"75.0828\"/>\n     <use style=\"fill:#1f77b4;stroke:#1f77b4;stroke-linejoin:miter;\" x=\"668.458034\" xlink:href=\"#m12f4a8ed76\" y=\"72.918308\"/>\n     <use style=\"fill:#1f77b4;stroke:#1f77b4;stroke-linejoin:miter;\" x=\"672.184556\" xlink:href=\"#m12f4a8ed76\" y=\"69.041043\"/>\n     <use style=\"fill:#1f77b4;stroke:#1f77b4;stroke-linejoin:miter;\" x=\"675.911077\" xlink:href=\"#m12f4a8ed76\" y=\"68.683432\"/>\n     <use style=\"fill:#1f77b4;stroke:#1f77b4;stroke-linejoin:miter;\" x=\"679.637599\" xlink:href=\"#m12f4a8ed76\" y=\"71.581969\"/>\n     <use style=\"fill:#1f77b4;stroke:#1f77b4;stroke-linejoin:miter;\" x=\"683.36412\" xlink:href=\"#m12f4a8ed76\" y=\"67.610596\"/>\n     <use style=\"fill:#1f77b4;stroke:#1f77b4;stroke-linejoin:miter;\" x=\"687.090641\" xlink:href=\"#m12f4a8ed76\" y=\"70.415025\"/>\n     <use style=\"fill:#1f77b4;stroke:#1f77b4;stroke-linejoin:miter;\" x=\"690.817163\" xlink:href=\"#m12f4a8ed76\" y=\"69.79391\"/>\n     <use style=\"fill:#1f77b4;stroke:#1f77b4;stroke-linejoin:miter;\" x=\"694.543684\" xlink:href=\"#m12f4a8ed76\" y=\"67.347093\"/>\n     <use style=\"fill:#1f77b4;stroke:#1f77b4;stroke-linejoin:miter;\" x=\"698.270206\" xlink:href=\"#m12f4a8ed76\" y=\"64.806167\"/>\n     <use style=\"fill:#1f77b4;stroke:#1f77b4;stroke-linejoin:miter;\" x=\"701.996727\" xlink:href=\"#m12f4a8ed76\" y=\"63.300433\"/>\n     <use style=\"fill:#1f77b4;stroke:#1f77b4;stroke-linejoin:miter;\" x=\"705.723248\" xlink:href=\"#m12f4a8ed76\" y=\"61.550018\"/>\n     <use style=\"fill:#1f77b4;stroke:#1f77b4;stroke-linejoin:miter;\" x=\"709.44977\" xlink:href=\"#m12f4a8ed76\" y=\"61.606483\"/>\n     <use style=\"fill:#1f77b4;stroke:#1f77b4;stroke-linejoin:miter;\" x=\"713.176291\" xlink:href=\"#m12f4a8ed76\" y=\"59.272596\"/>\n     <use style=\"fill:#1f77b4;stroke:#1f77b4;stroke-linejoin:miter;\" x=\"716.902813\" xlink:href=\"#m12f4a8ed76\" y=\"62.58521\"/>\n     <use style=\"fill:#1f77b4;stroke:#1f77b4;stroke-linejoin:miter;\" x=\"720.629334\" xlink:href=\"#m12f4a8ed76\" y=\"60.910081\"/>\n     <use style=\"fill:#1f77b4;stroke:#1f77b4;stroke-linejoin:miter;\" x=\"724.355856\" xlink:href=\"#m12f4a8ed76\" y=\"55.922338\"/>\n     <use style=\"fill:#1f77b4;stroke:#1f77b4;stroke-linejoin:miter;\" x=\"728.082377\" xlink:href=\"#m12f4a8ed76\" y=\"56.261128\"/>\n     <use style=\"fill:#1f77b4;stroke:#1f77b4;stroke-linejoin:miter;\" x=\"731.808898\" xlink:href=\"#m12f4a8ed76\" y=\"58.275047\"/>\n     <use style=\"fill:#1f77b4;stroke:#1f77b4;stroke-linejoin:miter;\" x=\"735.53542\" xlink:href=\"#m12f4a8ed76\" y=\"56.468167\"/>\n     <use style=\"fill:#1f77b4;stroke:#1f77b4;stroke-linejoin:miter;\" x=\"739.261941\" xlink:href=\"#m12f4a8ed76\" y=\"56.95753\"/>\n     <use style=\"fill:#1f77b4;stroke:#1f77b4;stroke-linejoin:miter;\" x=\"742.988463\" xlink:href=\"#m12f4a8ed76\" y=\"54.830681\"/>\n     <use style=\"fill:#1f77b4;stroke:#1f77b4;stroke-linejoin:miter;\" x=\"746.714984\" xlink:href=\"#m12f4a8ed76\" y=\"60.646578\"/>\n     <use style=\"fill:#1f77b4;stroke:#1f77b4;stroke-linejoin:miter;\" x=\"750.441505\" xlink:href=\"#m12f4a8ed76\" y=\"53.193196\"/>\n     <use style=\"fill:#1f77b4;stroke:#1f77b4;stroke-linejoin:miter;\" x=\"754.168027\" xlink:href=\"#m12f4a8ed76\" y=\"56.242306\"/>\n     <use style=\"fill:#1f77b4;stroke:#1f77b4;stroke-linejoin:miter;\" x=\"757.894548\" xlink:href=\"#m12f4a8ed76\" y=\"51.160455\"/>\n     <use style=\"fill:#1f77b4;stroke:#1f77b4;stroke-linejoin:miter;\" x=\"761.62107\" xlink:href=\"#m12f4a8ed76\" y=\"51.273385\"/>\n     <use style=\"fill:#1f77b4;stroke:#1f77b4;stroke-linejoin:miter;\" x=\"765.347591\" xlink:href=\"#m12f4a8ed76\" y=\"51.913322\"/>\n     <use style=\"fill:#1f77b4;stroke:#1f77b4;stroke-linejoin:miter;\" x=\"769.074113\" xlink:href=\"#m12f4a8ed76\" y=\"51.273385\"/>\n     <use style=\"fill:#1f77b4;stroke:#1f77b4;stroke-linejoin:miter;\" x=\"772.800634\" xlink:href=\"#m12f4a8ed76\" y=\"48.431313\"/>\n     <use style=\"fill:#1f77b4;stroke:#1f77b4;stroke-linejoin:miter;\" x=\"776.527155\" xlink:href=\"#m12f4a8ed76\" y=\"52.082717\"/>\n     <use style=\"fill:#1f77b4;stroke:#1f77b4;stroke-linejoin:miter;\" x=\"780.253677\" xlink:href=\"#m12f4a8ed76\" y=\"47.885484\"/>\n     <use style=\"fill:#1f77b4;stroke:#1f77b4;stroke-linejoin:miter;\" x=\"783.980198\" xlink:href=\"#m12f4a8ed76\" y=\"51.405137\"/>\n     <use style=\"fill:#1f77b4;stroke:#1f77b4;stroke-linejoin:miter;\" x=\"787.70672\" xlink:href=\"#m12f4a8ed76\" y=\"46.549145\"/>\n     <use style=\"fill:#1f77b4;stroke:#1f77b4;stroke-linejoin:miter;\" x=\"791.433241\" xlink:href=\"#m12f4a8ed76\" y=\"44.591692\"/>\n     <use style=\"fill:#1f77b4;stroke:#1f77b4;stroke-linejoin:miter;\" x=\"795.159762\" xlink:href=\"#m12f4a8ed76\" y=\"46.60561\"/>\n     <use style=\"fill:#1f77b4;stroke:#1f77b4;stroke-linejoin:miter;\" x=\"798.886284\" xlink:href=\"#m12f4a8ed76\" y=\"45.043412\"/>\n     <use style=\"fill:#1f77b4;stroke:#1f77b4;stroke-linejoin:miter;\" x=\"802.612805\" xlink:href=\"#m12f4a8ed76\" y=\"45.269272\"/>\n     <use style=\"fill:#1f77b4;stroke:#1f77b4;stroke-linejoin:miter;\" x=\"806.339327\" xlink:href=\"#m12f4a8ed76\" y=\"46.323285\"/>\n     <use style=\"fill:#1f77b4;stroke:#1f77b4;stroke-linejoin:miter;\" x=\"810.065848\" xlink:href=\"#m12f4a8ed76\" y=\"45.005768\"/>\n     <use style=\"fill:#1f77b4;stroke:#1f77b4;stroke-linejoin:miter;\" x=\"813.792369\" xlink:href=\"#m12f4a8ed76\" y=\"42.351913\"/>\n     <use style=\"fill:#1f77b4;stroke:#1f77b4;stroke-linejoin:miter;\" x=\"817.518891\" xlink:href=\"#m12f4a8ed76\" y=\"66.895373\"/>\n     <use style=\"fill:#1f77b4;stroke:#1f77b4;stroke-linejoin:miter;\" x=\"821.245412\" xlink:href=\"#m12f4a8ed76\" y=\"48.130166\"/>\n     <use style=\"fill:#1f77b4;stroke:#1f77b4;stroke-linejoin:miter;\" x=\"824.971934\" xlink:href=\"#m12f4a8ed76\" y=\"41.072039\"/>\n     <use style=\"fill:#1f77b4;stroke:#1f77b4;stroke-linejoin:miter;\" x=\"828.698455\" xlink:href=\"#m12f4a8ed76\" y=\"44.441118\"/>\n     <use style=\"fill:#1f77b4;stroke:#1f77b4;stroke-linejoin:miter;\" x=\"832.424977\" xlink:href=\"#m12f4a8ed76\" y=\"50.633448\"/>\n     <use style=\"fill:#1f77b4;stroke:#1f77b4;stroke-linejoin:miter;\" x=\"836.151498\" xlink:href=\"#m12f4a8ed76\" y=\"41.711976\"/>\n     <use style=\"fill:#1f77b4;stroke:#1f77b4;stroke-linejoin:miter;\" x=\"839.878019\" xlink:href=\"#m12f4a8ed76\" y=\"72.955951\"/>\n     <use style=\"fill:#1f77b4;stroke:#1f77b4;stroke-linejoin:miter;\" x=\"843.604541\" xlink:href=\"#m12f4a8ed76\" y=\"44.968125\"/>\n     <use style=\"fill:#1f77b4;stroke:#1f77b4;stroke-linejoin:miter;\" x=\"847.331062\" xlink:href=\"#m12f4a8ed76\" y=\"44.328188\"/>\n     <use style=\"fill:#1f77b4;stroke:#1f77b4;stroke-linejoin:miter;\" x=\"851.057584\" xlink:href=\"#m12f4a8ed76\" y=\"41.448472\"/>\n     <use style=\"fill:#1f77b4;stroke:#1f77b4;stroke-linejoin:miter;\" x=\"854.784105\" xlink:href=\"#m12f4a8ed76\" y=\"45.306915\"/>\n     <use style=\"fill:#1f77b4;stroke:#1f77b4;stroke-linejoin:miter;\" x=\"858.510626\" xlink:href=\"#m12f4a8ed76\" y=\"39.434553\"/>\n     <use style=\"fill:#1f77b4;stroke:#1f77b4;stroke-linejoin:miter;\" x=\"862.237148\" xlink:href=\"#m12f4a8ed76\" y=\"42.144874\"/>\n     <use style=\"fill:#1f77b4;stroke:#1f77b4;stroke-linejoin:miter;\" x=\"865.963669\" xlink:href=\"#m12f4a8ed76\" y=\"38.117036\"/>\n     <use style=\"fill:#1f77b4;stroke:#1f77b4;stroke-linejoin:miter;\" x=\"869.690191\" xlink:href=\"#m12f4a8ed76\" y=\"39.679235\"/>\n     <use style=\"fill:#1f77b4;stroke:#1f77b4;stroke-linejoin:miter;\" x=\"873.416712\" xlink:href=\"#m12f4a8ed76\" y=\"45.438667\"/>\n     <use style=\"fill:#1f77b4;stroke:#1f77b4;stroke-linejoin:miter;\" x=\"877.143233\" xlink:href=\"#m12f4a8ed76\" y=\"43.575321\"/>\n     <use style=\"fill:#1f77b4;stroke:#1f77b4;stroke-linejoin:miter;\" x=\"880.869755\" xlink:href=\"#m12f4a8ed76\" y=\"49.918225\"/>\n     <use style=\"fill:#1f77b4;stroke:#1f77b4;stroke-linejoin:miter;\" x=\"884.596276\" xlink:href=\"#m12f4a8ed76\" y=\"41.711976\"/>\n     <use style=\"fill:#1f77b4;stroke:#1f77b4;stroke-linejoin:miter;\" x=\"888.322798\" xlink:href=\"#m12f4a8ed76\" y=\"37.608851\"/>\n     <use style=\"fill:#1f77b4;stroke:#1f77b4;stroke-linejoin:miter;\" x=\"892.049319\" xlink:href=\"#m12f4a8ed76\" y=\"46.49268\"/>\n     <use style=\"fill:#1f77b4;stroke:#1f77b4;stroke-linejoin:miter;\" x=\"895.775841\" xlink:href=\"#m12f4a8ed76\" y=\"36.404264\"/>\n     <use style=\"fill:#1f77b4;stroke:#1f77b4;stroke-linejoin:miter;\" x=\"899.502362\" xlink:href=\"#m12f4a8ed76\" y=\"36.630124\"/>\n     <use style=\"fill:#1f77b4;stroke:#1f77b4;stroke-linejoin:miter;\" x=\"903.228883\" xlink:href=\"#m12f4a8ed76\" y=\"38.83226\"/>\n     <use style=\"fill:#1f77b4;stroke:#1f77b4;stroke-linejoin:miter;\" x=\"906.955405\" xlink:href=\"#m12f4a8ed76\" y=\"34.67267\"/>\n     <use style=\"fill:#1f77b4;stroke:#1f77b4;stroke-linejoin:miter;\" x=\"910.681926\" xlink:href=\"#m12f4a8ed76\" y=\"35.312607\"/>\n     <use style=\"fill:#1f77b4;stroke:#1f77b4;stroke-linejoin:miter;\" x=\"914.408448\" xlink:href=\"#m12f4a8ed76\" y=\"38.192323\"/>\n     <use style=\"fill:#1f77b4;stroke:#1f77b4;stroke-linejoin:miter;\" x=\"918.134969\" xlink:href=\"#m12f4a8ed76\" y=\"40.733249\"/>\n    </g>\n   </g>\n   <g id=\"line2d_30\">\n    <path clip-path=\"url(#pddaaef2896)\" d=\"M 549.209349 221.379924 \nL 552.935871 198.176939 \nL 556.662392 181.240437 \nL 560.388913 188.015048 \nL 564.115435 187.337577 \nL 567.841956 163.965224 \nL 571.568478 161.932836 \nL 575.294999 143.980152 \nL 579.02152 136.189359 \nL 582.748042 154.988882 \nL 586.474563 130.261587 \nL 590.201085 130.092245 \nL 593.927606 140.592846 \nL 597.654128 148.044903 \nL 601.380649 154.311411 \nL 605.10717 144.657623 \nL 608.833692 163.795856 \nL 612.560213 153.464597 \nL 616.286735 143.641416 \nL 620.013256 152.448416 \nL 623.739777 138.899219 \nL 627.466299 136.358727 \nL 631.19282 138.05238 \nL 634.919342 139.746033 \nL 638.645863 140.762214 \nL 642.372384 140.592846 \nL 646.098906 142.96397 \nL 649.825427 138.391115 \nL 653.551949 154.142043 \nL 657.27847 133.818261 \nL 661.004992 137.713644 \nL 664.731513 141.609053 \nL 668.458034 143.980152 \nL 672.184556 138.899219 \nL 675.911077 149.569188 \nL 679.637599 131.108426 \nL 683.36412 140.762214 \nL 687.090641 136.697463 \nL 690.817163 139.9154 \nL 694.543684 136.697463 \nL 698.270206 149.569188 \nL 701.996727 137.544302 \nL 705.723248 134.156996 \nL 709.44977 136.358727 \nL 713.176291 155.15825 \nL 716.902813 139.068587 \nL 720.629334 150.585395 \nL 724.355856 143.641416 \nL 728.082377 153.803333 \nL 731.808898 147.028722 \nL 735.53542 145.843172 \nL 739.261941 138.899219 \nL 742.988463 145.673805 \nL 746.714984 147.367457 \nL 750.441505 149.738556 \nL 754.168027 148.891742 \nL 757.894548 142.286499 \nL 761.62107 146.689986 \nL 765.347591 138.05238 \nL 769.074113 142.286499 \nL 772.800634 146.689986 \nL 776.527155 152.617758 \nL 780.253677 151.770944 \nL 783.980198 150.924131 \nL 787.70672 144.826991 \nL 791.433241 148.891742 \nL 795.159762 145.504437 \nL 798.886284 149.06111 \nL 802.612805 147.19809 \nL 806.339327 147.19809 \nL 810.065848 155.835696 \nL 813.792369 149.399846 \nL 817.518891 147.028722 \nL 821.245412 145.335069 \nL 824.971934 143.641416 \nL 828.698455 153.633965 \nL 832.424977 144.14952 \nL 836.151498 150.585395 \nL 839.878019 153.464597 \nL 843.604541 162.440939 \nL 847.331062 157.359981 \nL 851.057584 139.576665 \nL 854.784105 152.10968 \nL 858.510626 149.230478 \nL 862.237148 154.480779 \nL 865.963669 153.803333 \nL 869.690191 147.875561 \nL 873.416712 156.851903 \nL 877.143233 157.359981 \nL 880.869755 151.432209 \nL 884.596276 152.448416 \nL 888.322798 150.924131 \nL 892.049319 155.666328 \nL 895.775841 155.835696 \nL 899.502362 169.046157 \nL 903.228883 147.367457 \nL 906.955405 153.633965 \nL 910.681926 148.044903 \nL 914.408448 152.10968 \nL 918.134969 159.392369 \n\" style=\"fill:none;stroke:#ff7f0e;stroke-linecap:square;stroke-width:1.5;\"/>\n    <defs>\n     <path d=\"M 0 3 \nC 0.795609 3 1.55874 2.683901 2.12132 2.12132 \nC 2.683901 1.55874 3 0.795609 3 0 \nC 3 -0.795609 2.683901 -1.55874 2.12132 -2.12132 \nC 1.55874 -2.683901 0.795609 -3 0 -3 \nC -0.795609 -3 -1.55874 -2.683901 -2.12132 -2.12132 \nC -2.683901 -1.55874 -3 -0.795609 -3 0 \nC -3 0.795609 -2.683901 1.55874 -2.12132 2.12132 \nC -1.55874 2.683901 -0.795609 3 0 3 \nz\n\" id=\"mb4ce35e343\" style=\"stroke:#ff7f0e;\"/>\n    </defs>\n    <g clip-path=\"url(#pddaaef2896)\">\n     <use style=\"fill:#ff7f0e;stroke:#ff7f0e;\" x=\"549.209349\" xlink:href=\"#mb4ce35e343\" y=\"221.379924\"/>\n     <use style=\"fill:#ff7f0e;stroke:#ff7f0e;\" x=\"552.935871\" xlink:href=\"#mb4ce35e343\" y=\"198.176939\"/>\n     <use style=\"fill:#ff7f0e;stroke:#ff7f0e;\" x=\"556.662392\" xlink:href=\"#mb4ce35e343\" y=\"181.240437\"/>\n     <use style=\"fill:#ff7f0e;stroke:#ff7f0e;\" x=\"560.388913\" xlink:href=\"#mb4ce35e343\" y=\"188.015048\"/>\n     <use style=\"fill:#ff7f0e;stroke:#ff7f0e;\" x=\"564.115435\" xlink:href=\"#mb4ce35e343\" y=\"187.337577\"/>\n     <use style=\"fill:#ff7f0e;stroke:#ff7f0e;\" x=\"567.841956\" xlink:href=\"#mb4ce35e343\" y=\"163.965224\"/>\n     <use style=\"fill:#ff7f0e;stroke:#ff7f0e;\" x=\"571.568478\" xlink:href=\"#mb4ce35e343\" y=\"161.932836\"/>\n     <use style=\"fill:#ff7f0e;stroke:#ff7f0e;\" x=\"575.294999\" xlink:href=\"#mb4ce35e343\" y=\"143.980152\"/>\n     <use style=\"fill:#ff7f0e;stroke:#ff7f0e;\" x=\"579.02152\" xlink:href=\"#mb4ce35e343\" y=\"136.189359\"/>\n     <use style=\"fill:#ff7f0e;stroke:#ff7f0e;\" x=\"582.748042\" xlink:href=\"#mb4ce35e343\" y=\"154.988882\"/>\n     <use style=\"fill:#ff7f0e;stroke:#ff7f0e;\" x=\"586.474563\" xlink:href=\"#mb4ce35e343\" y=\"130.261587\"/>\n     <use style=\"fill:#ff7f0e;stroke:#ff7f0e;\" x=\"590.201085\" xlink:href=\"#mb4ce35e343\" y=\"130.092245\"/>\n     <use style=\"fill:#ff7f0e;stroke:#ff7f0e;\" x=\"593.927606\" xlink:href=\"#mb4ce35e343\" y=\"140.592846\"/>\n     <use style=\"fill:#ff7f0e;stroke:#ff7f0e;\" x=\"597.654128\" xlink:href=\"#mb4ce35e343\" y=\"148.044903\"/>\n     <use style=\"fill:#ff7f0e;stroke:#ff7f0e;\" x=\"601.380649\" xlink:href=\"#mb4ce35e343\" y=\"154.311411\"/>\n     <use style=\"fill:#ff7f0e;stroke:#ff7f0e;\" x=\"605.10717\" xlink:href=\"#mb4ce35e343\" y=\"144.657623\"/>\n     <use style=\"fill:#ff7f0e;stroke:#ff7f0e;\" x=\"608.833692\" xlink:href=\"#mb4ce35e343\" y=\"163.795856\"/>\n     <use style=\"fill:#ff7f0e;stroke:#ff7f0e;\" x=\"612.560213\" xlink:href=\"#mb4ce35e343\" y=\"153.464597\"/>\n     <use style=\"fill:#ff7f0e;stroke:#ff7f0e;\" x=\"616.286735\" xlink:href=\"#mb4ce35e343\" y=\"143.641416\"/>\n     <use style=\"fill:#ff7f0e;stroke:#ff7f0e;\" x=\"620.013256\" xlink:href=\"#mb4ce35e343\" y=\"152.448416\"/>\n     <use style=\"fill:#ff7f0e;stroke:#ff7f0e;\" x=\"623.739777\" xlink:href=\"#mb4ce35e343\" y=\"138.899219\"/>\n     <use style=\"fill:#ff7f0e;stroke:#ff7f0e;\" x=\"627.466299\" xlink:href=\"#mb4ce35e343\" y=\"136.358727\"/>\n     <use style=\"fill:#ff7f0e;stroke:#ff7f0e;\" x=\"631.19282\" xlink:href=\"#mb4ce35e343\" y=\"138.05238\"/>\n     <use style=\"fill:#ff7f0e;stroke:#ff7f0e;\" x=\"634.919342\" xlink:href=\"#mb4ce35e343\" y=\"139.746033\"/>\n     <use style=\"fill:#ff7f0e;stroke:#ff7f0e;\" x=\"638.645863\" xlink:href=\"#mb4ce35e343\" y=\"140.762214\"/>\n     <use style=\"fill:#ff7f0e;stroke:#ff7f0e;\" x=\"642.372384\" xlink:href=\"#mb4ce35e343\" y=\"140.592846\"/>\n     <use style=\"fill:#ff7f0e;stroke:#ff7f0e;\" x=\"646.098906\" xlink:href=\"#mb4ce35e343\" y=\"142.96397\"/>\n     <use style=\"fill:#ff7f0e;stroke:#ff7f0e;\" x=\"649.825427\" xlink:href=\"#mb4ce35e343\" y=\"138.391115\"/>\n     <use style=\"fill:#ff7f0e;stroke:#ff7f0e;\" x=\"653.551949\" xlink:href=\"#mb4ce35e343\" y=\"154.142043\"/>\n     <use style=\"fill:#ff7f0e;stroke:#ff7f0e;\" x=\"657.27847\" xlink:href=\"#mb4ce35e343\" y=\"133.818261\"/>\n     <use style=\"fill:#ff7f0e;stroke:#ff7f0e;\" x=\"661.004992\" xlink:href=\"#mb4ce35e343\" y=\"137.713644\"/>\n     <use style=\"fill:#ff7f0e;stroke:#ff7f0e;\" x=\"664.731513\" xlink:href=\"#mb4ce35e343\" y=\"141.609053\"/>\n     <use style=\"fill:#ff7f0e;stroke:#ff7f0e;\" x=\"668.458034\" xlink:href=\"#mb4ce35e343\" y=\"143.980152\"/>\n     <use style=\"fill:#ff7f0e;stroke:#ff7f0e;\" x=\"672.184556\" xlink:href=\"#mb4ce35e343\" y=\"138.899219\"/>\n     <use style=\"fill:#ff7f0e;stroke:#ff7f0e;\" x=\"675.911077\" xlink:href=\"#mb4ce35e343\" y=\"149.569188\"/>\n     <use style=\"fill:#ff7f0e;stroke:#ff7f0e;\" x=\"679.637599\" xlink:href=\"#mb4ce35e343\" y=\"131.108426\"/>\n     <use style=\"fill:#ff7f0e;stroke:#ff7f0e;\" x=\"683.36412\" xlink:href=\"#mb4ce35e343\" y=\"140.762214\"/>\n     <use style=\"fill:#ff7f0e;stroke:#ff7f0e;\" x=\"687.090641\" xlink:href=\"#mb4ce35e343\" y=\"136.697463\"/>\n     <use style=\"fill:#ff7f0e;stroke:#ff7f0e;\" x=\"690.817163\" xlink:href=\"#mb4ce35e343\" y=\"139.9154\"/>\n     <use style=\"fill:#ff7f0e;stroke:#ff7f0e;\" x=\"694.543684\" xlink:href=\"#mb4ce35e343\" y=\"136.697463\"/>\n     <use style=\"fill:#ff7f0e;stroke:#ff7f0e;\" x=\"698.270206\" xlink:href=\"#mb4ce35e343\" y=\"149.569188\"/>\n     <use style=\"fill:#ff7f0e;stroke:#ff7f0e;\" x=\"701.996727\" xlink:href=\"#mb4ce35e343\" y=\"137.544302\"/>\n     <use style=\"fill:#ff7f0e;stroke:#ff7f0e;\" x=\"705.723248\" xlink:href=\"#mb4ce35e343\" y=\"134.156996\"/>\n     <use style=\"fill:#ff7f0e;stroke:#ff7f0e;\" x=\"709.44977\" xlink:href=\"#mb4ce35e343\" y=\"136.358727\"/>\n     <use style=\"fill:#ff7f0e;stroke:#ff7f0e;\" x=\"713.176291\" xlink:href=\"#mb4ce35e343\" y=\"155.15825\"/>\n     <use style=\"fill:#ff7f0e;stroke:#ff7f0e;\" x=\"716.902813\" xlink:href=\"#mb4ce35e343\" y=\"139.068587\"/>\n     <use style=\"fill:#ff7f0e;stroke:#ff7f0e;\" x=\"720.629334\" xlink:href=\"#mb4ce35e343\" y=\"150.585395\"/>\n     <use style=\"fill:#ff7f0e;stroke:#ff7f0e;\" x=\"724.355856\" xlink:href=\"#mb4ce35e343\" y=\"143.641416\"/>\n     <use style=\"fill:#ff7f0e;stroke:#ff7f0e;\" x=\"728.082377\" xlink:href=\"#mb4ce35e343\" y=\"153.803333\"/>\n     <use style=\"fill:#ff7f0e;stroke:#ff7f0e;\" x=\"731.808898\" xlink:href=\"#mb4ce35e343\" y=\"147.028722\"/>\n     <use style=\"fill:#ff7f0e;stroke:#ff7f0e;\" x=\"735.53542\" xlink:href=\"#mb4ce35e343\" y=\"145.843172\"/>\n     <use style=\"fill:#ff7f0e;stroke:#ff7f0e;\" x=\"739.261941\" xlink:href=\"#mb4ce35e343\" y=\"138.899219\"/>\n     <use style=\"fill:#ff7f0e;stroke:#ff7f0e;\" x=\"742.988463\" xlink:href=\"#mb4ce35e343\" y=\"145.673805\"/>\n     <use style=\"fill:#ff7f0e;stroke:#ff7f0e;\" x=\"746.714984\" xlink:href=\"#mb4ce35e343\" y=\"147.367457\"/>\n     <use style=\"fill:#ff7f0e;stroke:#ff7f0e;\" x=\"750.441505\" xlink:href=\"#mb4ce35e343\" y=\"149.738556\"/>\n     <use style=\"fill:#ff7f0e;stroke:#ff7f0e;\" x=\"754.168027\" xlink:href=\"#mb4ce35e343\" y=\"148.891742\"/>\n     <use style=\"fill:#ff7f0e;stroke:#ff7f0e;\" x=\"757.894548\" xlink:href=\"#mb4ce35e343\" y=\"142.286499\"/>\n     <use style=\"fill:#ff7f0e;stroke:#ff7f0e;\" x=\"761.62107\" xlink:href=\"#mb4ce35e343\" y=\"146.689986\"/>\n     <use style=\"fill:#ff7f0e;stroke:#ff7f0e;\" x=\"765.347591\" xlink:href=\"#mb4ce35e343\" y=\"138.05238\"/>\n     <use style=\"fill:#ff7f0e;stroke:#ff7f0e;\" x=\"769.074113\" xlink:href=\"#mb4ce35e343\" y=\"142.286499\"/>\n     <use style=\"fill:#ff7f0e;stroke:#ff7f0e;\" x=\"772.800634\" xlink:href=\"#mb4ce35e343\" y=\"146.689986\"/>\n     <use style=\"fill:#ff7f0e;stroke:#ff7f0e;\" x=\"776.527155\" xlink:href=\"#mb4ce35e343\" y=\"152.617758\"/>\n     <use style=\"fill:#ff7f0e;stroke:#ff7f0e;\" x=\"780.253677\" xlink:href=\"#mb4ce35e343\" y=\"151.770944\"/>\n     <use style=\"fill:#ff7f0e;stroke:#ff7f0e;\" x=\"783.980198\" xlink:href=\"#mb4ce35e343\" y=\"150.924131\"/>\n     <use style=\"fill:#ff7f0e;stroke:#ff7f0e;\" x=\"787.70672\" xlink:href=\"#mb4ce35e343\" y=\"144.826991\"/>\n     <use style=\"fill:#ff7f0e;stroke:#ff7f0e;\" x=\"791.433241\" xlink:href=\"#mb4ce35e343\" y=\"148.891742\"/>\n     <use style=\"fill:#ff7f0e;stroke:#ff7f0e;\" x=\"795.159762\" xlink:href=\"#mb4ce35e343\" y=\"145.504437\"/>\n     <use style=\"fill:#ff7f0e;stroke:#ff7f0e;\" x=\"798.886284\" xlink:href=\"#mb4ce35e343\" y=\"149.06111\"/>\n     <use style=\"fill:#ff7f0e;stroke:#ff7f0e;\" x=\"802.612805\" xlink:href=\"#mb4ce35e343\" y=\"147.19809\"/>\n     <use style=\"fill:#ff7f0e;stroke:#ff7f0e;\" x=\"806.339327\" xlink:href=\"#mb4ce35e343\" y=\"147.19809\"/>\n     <use style=\"fill:#ff7f0e;stroke:#ff7f0e;\" x=\"810.065848\" xlink:href=\"#mb4ce35e343\" y=\"155.835696\"/>\n     <use style=\"fill:#ff7f0e;stroke:#ff7f0e;\" x=\"813.792369\" xlink:href=\"#mb4ce35e343\" y=\"149.399846\"/>\n     <use style=\"fill:#ff7f0e;stroke:#ff7f0e;\" x=\"817.518891\" xlink:href=\"#mb4ce35e343\" y=\"147.028722\"/>\n     <use style=\"fill:#ff7f0e;stroke:#ff7f0e;\" x=\"821.245412\" xlink:href=\"#mb4ce35e343\" y=\"145.335069\"/>\n     <use style=\"fill:#ff7f0e;stroke:#ff7f0e;\" x=\"824.971934\" xlink:href=\"#mb4ce35e343\" y=\"143.641416\"/>\n     <use style=\"fill:#ff7f0e;stroke:#ff7f0e;\" x=\"828.698455\" xlink:href=\"#mb4ce35e343\" y=\"153.633965\"/>\n     <use style=\"fill:#ff7f0e;stroke:#ff7f0e;\" x=\"832.424977\" xlink:href=\"#mb4ce35e343\" y=\"144.14952\"/>\n     <use style=\"fill:#ff7f0e;stroke:#ff7f0e;\" x=\"836.151498\" xlink:href=\"#mb4ce35e343\" y=\"150.585395\"/>\n     <use style=\"fill:#ff7f0e;stroke:#ff7f0e;\" x=\"839.878019\" xlink:href=\"#mb4ce35e343\" y=\"153.464597\"/>\n     <use style=\"fill:#ff7f0e;stroke:#ff7f0e;\" x=\"843.604541\" xlink:href=\"#mb4ce35e343\" y=\"162.440939\"/>\n     <use style=\"fill:#ff7f0e;stroke:#ff7f0e;\" x=\"847.331062\" xlink:href=\"#mb4ce35e343\" y=\"157.359981\"/>\n     <use style=\"fill:#ff7f0e;stroke:#ff7f0e;\" x=\"851.057584\" xlink:href=\"#mb4ce35e343\" y=\"139.576665\"/>\n     <use style=\"fill:#ff7f0e;stroke:#ff7f0e;\" x=\"854.784105\" xlink:href=\"#mb4ce35e343\" y=\"152.10968\"/>\n     <use style=\"fill:#ff7f0e;stroke:#ff7f0e;\" x=\"858.510626\" xlink:href=\"#mb4ce35e343\" y=\"149.230478\"/>\n     <use style=\"fill:#ff7f0e;stroke:#ff7f0e;\" x=\"862.237148\" xlink:href=\"#mb4ce35e343\" y=\"154.480779\"/>\n     <use style=\"fill:#ff7f0e;stroke:#ff7f0e;\" x=\"865.963669\" xlink:href=\"#mb4ce35e343\" y=\"153.803333\"/>\n     <use style=\"fill:#ff7f0e;stroke:#ff7f0e;\" x=\"869.690191\" xlink:href=\"#mb4ce35e343\" y=\"147.875561\"/>\n     <use style=\"fill:#ff7f0e;stroke:#ff7f0e;\" x=\"873.416712\" xlink:href=\"#mb4ce35e343\" y=\"156.851903\"/>\n     <use style=\"fill:#ff7f0e;stroke:#ff7f0e;\" x=\"877.143233\" xlink:href=\"#mb4ce35e343\" y=\"157.359981\"/>\n     <use style=\"fill:#ff7f0e;stroke:#ff7f0e;\" x=\"880.869755\" xlink:href=\"#mb4ce35e343\" y=\"151.432209\"/>\n     <use style=\"fill:#ff7f0e;stroke:#ff7f0e;\" x=\"884.596276\" xlink:href=\"#mb4ce35e343\" y=\"152.448416\"/>\n     <use style=\"fill:#ff7f0e;stroke:#ff7f0e;\" x=\"888.322798\" xlink:href=\"#mb4ce35e343\" y=\"150.924131\"/>\n     <use style=\"fill:#ff7f0e;stroke:#ff7f0e;\" x=\"892.049319\" xlink:href=\"#mb4ce35e343\" y=\"155.666328\"/>\n     <use style=\"fill:#ff7f0e;stroke:#ff7f0e;\" x=\"895.775841\" xlink:href=\"#mb4ce35e343\" y=\"155.835696\"/>\n     <use style=\"fill:#ff7f0e;stroke:#ff7f0e;\" x=\"899.502362\" xlink:href=\"#mb4ce35e343\" y=\"169.046157\"/>\n     <use style=\"fill:#ff7f0e;stroke:#ff7f0e;\" x=\"903.228883\" xlink:href=\"#mb4ce35e343\" y=\"147.367457\"/>\n     <use style=\"fill:#ff7f0e;stroke:#ff7f0e;\" x=\"906.955405\" xlink:href=\"#mb4ce35e343\" y=\"153.633965\"/>\n     <use style=\"fill:#ff7f0e;stroke:#ff7f0e;\" x=\"910.681926\" xlink:href=\"#mb4ce35e343\" y=\"148.044903\"/>\n     <use style=\"fill:#ff7f0e;stroke:#ff7f0e;\" x=\"914.408448\" xlink:href=\"#mb4ce35e343\" y=\"152.10968\"/>\n     <use style=\"fill:#ff7f0e;stroke:#ff7f0e;\" x=\"918.134969\" xlink:href=\"#mb4ce35e343\" y=\"159.392369\"/>\n    </g>\n   </g>\n   <g id=\"patch_8\">\n    <path d=\"M 530.763068 294.118125 \nL 530.763068 22.318125 \n\" style=\"fill:none;stroke:#000000;stroke-linecap:square;stroke-linejoin:miter;stroke-width:0.8;\"/>\n   </g>\n   <g id=\"patch_9\">\n    <path d=\"M 936.58125 294.118125 \nL 936.58125 22.318125 \n\" style=\"fill:none;stroke:#000000;stroke-linecap:square;stroke-linejoin:miter;stroke-width:0.8;\"/>\n   </g>\n   <g id=\"patch_10\">\n    <path d=\"M 530.763068 294.118125 \nL 936.58125 294.118125 \n\" style=\"fill:none;stroke:#000000;stroke-linecap:square;stroke-linejoin:miter;stroke-width:0.8;\"/>\n   </g>\n   <g id=\"patch_11\">\n    <path d=\"M 530.763068 22.318125 \nL 936.58125 22.318125 \n\" style=\"fill:none;stroke:#000000;stroke-linecap:square;stroke-linejoin:miter;stroke-width:0.8;\"/>\n   </g>\n   <g id=\"text_33\">\n    <!-- Final model test accuracy: 42.34% -->\n    <defs>\n     <path d=\"M 9.8125 72.90625 \nL 51.703125 72.90625 \nL 51.703125 64.59375 \nL 19.671875 64.59375 \nL 19.671875 43.109375 \nL 48.578125 43.109375 \nL 48.578125 34.8125 \nL 19.671875 34.8125 \nL 19.671875 0 \nL 9.8125 0 \nz\n\" id=\"DejaVuSans-70\"/>\n     <path d=\"M 9.421875 54.6875 \nL 18.40625 54.6875 \nL 18.40625 0 \nL 9.421875 0 \nz\nM 9.421875 75.984375 \nL 18.40625 75.984375 \nL 18.40625 64.59375 \nL 9.421875 64.59375 \nz\n\" id=\"DejaVuSans-105\"/>\n     <path d=\"M 54.890625 33.015625 \nL 54.890625 0 \nL 45.90625 0 \nL 45.90625 32.71875 \nQ 45.90625 40.484375 42.875 44.328125 \nQ 39.84375 48.1875 33.796875 48.1875 \nQ 26.515625 48.1875 22.3125 43.546875 \nQ 18.109375 38.921875 18.109375 30.90625 \nL 18.109375 0 \nL 9.078125 0 \nL 9.078125 54.6875 \nL 18.109375 54.6875 \nL 18.109375 46.1875 \nQ 21.34375 51.125 25.703125 53.5625 \nQ 30.078125 56 35.796875 56 \nQ 45.21875 56 50.046875 50.171875 \nQ 54.890625 44.34375 54.890625 33.015625 \nz\n\" id=\"DejaVuSans-110\"/>\n     <path d=\"M 52 44.1875 \nQ 55.375 50.25 60.0625 53.125 \nQ 64.75 56 71.09375 56 \nQ 79.640625 56 84.28125 50.015625 \nQ 88.921875 44.046875 88.921875 33.015625 \nL 88.921875 0 \nL 79.890625 0 \nL 79.890625 32.71875 \nQ 79.890625 40.578125 77.09375 44.375 \nQ 74.3125 48.1875 68.609375 48.1875 \nQ 61.625 48.1875 57.5625 43.546875 \nQ 53.515625 38.921875 53.515625 30.90625 \nL 53.515625 0 \nL 44.484375 0 \nL 44.484375 32.71875 \nQ 44.484375 40.625 41.703125 44.40625 \nQ 38.921875 48.1875 33.109375 48.1875 \nQ 26.21875 48.1875 22.15625 43.53125 \nQ 18.109375 38.875 18.109375 30.90625 \nL 18.109375 0 \nL 9.078125 0 \nL 9.078125 54.6875 \nL 18.109375 54.6875 \nL 18.109375 46.1875 \nQ 21.1875 51.21875 25.484375 53.609375 \nQ 29.78125 56 35.6875 56 \nQ 41.65625 56 45.828125 52.96875 \nQ 50 49.953125 52 44.1875 \nz\n\" id=\"DejaVuSans-109\"/>\n     <path d=\"M 18.3125 70.21875 \nL 18.3125 54.6875 \nL 36.8125 54.6875 \nL 36.8125 47.703125 \nL 18.3125 47.703125 \nL 18.3125 18.015625 \nQ 18.3125 11.328125 20.140625 9.421875 \nQ 21.96875 7.515625 27.59375 7.515625 \nL 36.8125 7.515625 \nL 36.8125 0 \nL 27.59375 0 \nQ 17.1875 0 13.234375 3.875 \nQ 9.28125 7.765625 9.28125 18.015625 \nL 9.28125 47.703125 \nL 2.6875 47.703125 \nL 2.6875 54.6875 \nL 9.28125 54.6875 \nL 9.28125 70.21875 \nz\n\" id=\"DejaVuSans-116\"/>\n     <path d=\"M 11.71875 12.40625 \nL 22.015625 12.40625 \nL 22.015625 0 \nL 11.71875 0 \nz\nM 11.71875 51.703125 \nL 22.015625 51.703125 \nL 22.015625 39.3125 \nL 11.71875 39.3125 \nz\n\" id=\"DejaVuSans-58\"/>\n    </defs>\n    <g transform=\"translate(630.474972 16.318125)scale(0.12 -0.12)\">\n     <use xlink:href=\"#DejaVuSans-70\"/>\n     <use x=\"50.269531\" xlink:href=\"#DejaVuSans-105\"/>\n     <use x=\"78.052734\" xlink:href=\"#DejaVuSans-110\"/>\n     <use x=\"141.431641\" xlink:href=\"#DejaVuSans-97\"/>\n     <use x=\"202.710938\" xlink:href=\"#DejaVuSans-108\"/>\n     <use x=\"230.494141\" xlink:href=\"#DejaVuSans-32\"/>\n     <use x=\"262.28125\" xlink:href=\"#DejaVuSans-109\"/>\n     <use x=\"359.693359\" xlink:href=\"#DejaVuSans-111\"/>\n     <use x=\"420.875\" xlink:href=\"#DejaVuSans-100\"/>\n     <use x=\"484.351562\" xlink:href=\"#DejaVuSans-101\"/>\n     <use x=\"545.875\" xlink:href=\"#DejaVuSans-108\"/>\n     <use x=\"573.658203\" xlink:href=\"#DejaVuSans-32\"/>\n     <use x=\"605.445312\" xlink:href=\"#DejaVuSans-116\"/>\n     <use x=\"644.654297\" xlink:href=\"#DejaVuSans-101\"/>\n     <use x=\"706.177734\" xlink:href=\"#DejaVuSans-115\"/>\n     <use x=\"758.277344\" xlink:href=\"#DejaVuSans-116\"/>\n     <use x=\"797.486328\" xlink:href=\"#DejaVuSans-32\"/>\n     <use x=\"829.273438\" xlink:href=\"#DejaVuSans-97\"/>\n     <use x=\"890.552734\" xlink:href=\"#DejaVuSans-99\"/>\n     <use x=\"945.533203\" xlink:href=\"#DejaVuSans-99\"/>\n     <use x=\"1000.513672\" xlink:href=\"#DejaVuSans-117\"/>\n     <use x=\"1063.892578\" xlink:href=\"#DejaVuSans-114\"/>\n     <use x=\"1105.005859\" xlink:href=\"#DejaVuSans-97\"/>\n     <use x=\"1166.285156\" xlink:href=\"#DejaVuSans-99\"/>\n     <use x=\"1221.265625\" xlink:href=\"#DejaVuSans-121\"/>\n     <use x=\"1273.195312\" xlink:href=\"#DejaVuSans-58\"/>\n     <use x=\"1306.886719\" xlink:href=\"#DejaVuSans-32\"/>\n     <use x=\"1338.673828\" xlink:href=\"#DejaVuSans-52\"/>\n     <use x=\"1402.296875\" xlink:href=\"#DejaVuSans-50\"/>\n     <use x=\"1465.919922\" xlink:href=\"#DejaVuSans-46\"/>\n     <use x=\"1497.707031\" xlink:href=\"#DejaVuSans-51\"/>\n     <use x=\"1561.330078\" xlink:href=\"#DejaVuSans-52\"/>\n     <use x=\"1624.953125\" xlink:href=\"#DejaVuSans-37\"/>\n    </g>\n   </g>\n   <g id=\"legend_1\">\n    <g id=\"patch_12\">\n     <path d=\"M 537.763068 59.674375 \nL 593.750568 59.674375 \nQ 595.750568 59.674375 595.750568 57.674375 \nL 595.750568 29.318125 \nQ 595.750568 27.318125 593.750568 27.318125 \nL 537.763068 27.318125 \nQ 535.763068 27.318125 535.763068 29.318125 \nL 535.763068 57.674375 \nQ 535.763068 59.674375 537.763068 59.674375 \nz\n\" style=\"fill:#ffffff;opacity:0.8;stroke:#cccccc;stroke-linejoin:miter;\"/>\n    </g>\n    <g id=\"line2d_31\">\n     <path d=\"M 539.763068 35.416562 \nL 559.763068 35.416562 \n\" style=\"fill:none;stroke:#1f77b4;stroke-linecap:square;stroke-width:1.5;\"/>\n    </g>\n    <g id=\"line2d_32\">\n     <g>\n      <use style=\"fill:#1f77b4;stroke:#1f77b4;stroke-linejoin:miter;\" x=\"549.763068\" xlink:href=\"#m12f4a8ed76\" y=\"35.416562\"/>\n     </g>\n    </g>\n    <g id=\"text_34\">\n     <!-- Train -->\n     <defs>\n      <path d=\"M -0.296875 72.90625 \nL 61.375 72.90625 \nL 61.375 64.59375 \nL 35.5 64.59375 \nL 35.5 0 \nL 25.59375 0 \nL 25.59375 64.59375 \nL -0.296875 64.59375 \nz\n\" id=\"DejaVuSans-84\"/>\n     </defs>\n     <g transform=\"translate(567.763068 38.916562)scale(0.1 -0.1)\">\n      <use xlink:href=\"#DejaVuSans-84\"/>\n      <use x=\"46.333984\" xlink:href=\"#DejaVuSans-114\"/>\n      <use x=\"87.447266\" xlink:href=\"#DejaVuSans-97\"/>\n      <use x=\"148.726562\" xlink:href=\"#DejaVuSans-105\"/>\n      <use x=\"176.509766\" xlink:href=\"#DejaVuSans-110\"/>\n     </g>\n    </g>\n    <g id=\"line2d_33\">\n     <path d=\"M 539.763068 50.094688 \nL 559.763068 50.094688 \n\" style=\"fill:none;stroke:#ff7f0e;stroke-linecap:square;stroke-width:1.5;\"/>\n    </g>\n    <g id=\"line2d_34\">\n     <g>\n      <use style=\"fill:#ff7f0e;stroke:#ff7f0e;\" x=\"549.763068\" xlink:href=\"#mb4ce35e343\" y=\"50.094688\"/>\n     </g>\n    </g>\n    <g id=\"text_35\">\n     <!-- Test -->\n     <g transform=\"translate(567.763068 53.594688)scale(0.1 -0.1)\">\n      <use xlink:href=\"#DejaVuSans-84\"/>\n      <use x=\"44.083984\" xlink:href=\"#DejaVuSans-101\"/>\n      <use x=\"105.607422\" xlink:href=\"#DejaVuSans-115\"/>\n      <use x=\"157.707031\" xlink:href=\"#DejaVuSans-116\"/>\n     </g>\n    </g>\n   </g>\n  </g>\n </g>\n <defs>\n  <clipPath id=\"pfe56aa09ae\">\n   <rect height=\"271.8\" width=\"405.818182\" x=\"43.78125\" y=\"22.318125\"/>\n  </clipPath>\n  <clipPath id=\"pddaaef2896\">\n   <rect height=\"271.8\" width=\"405.818182\" x=\"530.763068\" y=\"22.318125\"/>\n  </clipPath>\n </defs>\n</svg>\n"
          },
          "metadata": {
            "needs_background": "light"
          }
        }
      ]
    },
    {
      "cell_type": "code",
      "source": [
        "6#    30 epochs    ------------> about  15  mins to proccess\n",
        "\n",
        "\n",
        "fig,ax = plt.subplots(1,2,figsize=(16,5))\n",
        "\n",
        "ax[0].plot(losses,'s-')\n",
        "ax[0].set_xlabel('Epochs')\n",
        "ax[0].set_ylabel('Loss')\n",
        "ax[0].set_title('Model loss')\n",
        "\n",
        "ax[1].plot(trainAcc,'s-',label='Train')\n",
        "ax[1].plot(testAcc,'o-',label='Test')\n",
        "ax[1].set_xlabel('Epochs')\n",
        "ax[1].set_ylabel('Accuracy (%)')\n",
        "ax[1].set_title(f'Final model test accuracy: {testAcc[-1]:.2f}%')\n",
        "ax[1].legend()\n",
        "\n",
        "plt.show()"
      ],
      "metadata": {
        "id": "nMGuUWi73J6U"
      },
      "execution_count": null,
      "outputs": []
    },
    {
      "cell_type": "code",
      "source": [
        ""
      ],
      "metadata": {
        "id": "S3w_Jvqf2it6"
      },
      "execution_count": null,
      "outputs": []
    }
  ]
}