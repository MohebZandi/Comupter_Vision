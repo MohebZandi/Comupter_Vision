{
  "nbformat": 4,
  "nbformat_minor": 0,
  "metadata": {
    "colab": {
      "name": "CIFAR10_00.ipynb",
      "provenance": [],
      "collapsed_sections": [
        "kxR6MH19QaVX"
      ],
      "authorship_tag": "ABX9TyMDoI3dlCeXqErrYgXj/Wnj",
      "include_colab_link": true
    },
    "kernelspec": {
      "name": "python3",
      "display_name": "Python 3"
    },
    "language_info": {
      "name": "python"
    },
    "widgets": {
      "application/vnd.jupyter.widget-state+json": {
        "36f6101022c24345ac174fb5f67daf1f": {
          "model_module": "@jupyter-widgets/controls",
          "model_name": "HBoxModel",
          "model_module_version": "1.5.0",
          "state": {
            "_view_name": "HBoxView",
            "_dom_classes": [],
            "_model_name": "HBoxModel",
            "_view_module": "@jupyter-widgets/controls",
            "_model_module_version": "1.5.0",
            "_view_count": null,
            "_view_module_version": "1.5.0",
            "box_style": "",
            "layout": "IPY_MODEL_51dd73be0b42478bbcd9d012821f4fff",
            "_model_module": "@jupyter-widgets/controls",
            "children": [
              "IPY_MODEL_f046c78839b040ed92f2fd792f657e92",
              "IPY_MODEL_3a71c635752c4ad19280c4edbd583567",
              "IPY_MODEL_d632bee7435d42dd8222f09b47ef2ec7"
            ]
          }
        },
        "51dd73be0b42478bbcd9d012821f4fff": {
          "model_module": "@jupyter-widgets/base",
          "model_name": "LayoutModel",
          "model_module_version": "1.2.0",
          "state": {
            "_view_name": "LayoutView",
            "grid_template_rows": null,
            "right": null,
            "justify_content": null,
            "_view_module": "@jupyter-widgets/base",
            "overflow": null,
            "_model_module_version": "1.2.0",
            "_view_count": null,
            "flex_flow": null,
            "width": null,
            "min_width": null,
            "border": null,
            "align_items": null,
            "bottom": null,
            "_model_module": "@jupyter-widgets/base",
            "top": null,
            "grid_column": null,
            "overflow_y": null,
            "overflow_x": null,
            "grid_auto_flow": null,
            "grid_area": null,
            "grid_template_columns": null,
            "flex": null,
            "_model_name": "LayoutModel",
            "justify_items": null,
            "grid_row": null,
            "max_height": null,
            "align_content": null,
            "visibility": null,
            "align_self": null,
            "height": null,
            "min_height": null,
            "padding": null,
            "grid_auto_rows": null,
            "grid_gap": null,
            "max_width": null,
            "order": null,
            "_view_module_version": "1.2.0",
            "grid_template_areas": null,
            "object_position": null,
            "object_fit": null,
            "grid_auto_columns": null,
            "margin": null,
            "display": null,
            "left": null
          }
        },
        "f046c78839b040ed92f2fd792f657e92": {
          "model_module": "@jupyter-widgets/controls",
          "model_name": "HTMLModel",
          "model_module_version": "1.5.0",
          "state": {
            "_view_name": "HTMLView",
            "style": "IPY_MODEL_8463273c3dc6435a989fe07903baabec",
            "_dom_classes": [],
            "description": "",
            "_model_name": "HTMLModel",
            "placeholder": "​",
            "_view_module": "@jupyter-widgets/controls",
            "_model_module_version": "1.5.0",
            "value": "",
            "_view_count": null,
            "_view_module_version": "1.5.0",
            "description_tooltip": null,
            "_model_module": "@jupyter-widgets/controls",
            "layout": "IPY_MODEL_71c17f42d07e4a4a8abaea8bd46f4810"
          }
        },
        "3a71c635752c4ad19280c4edbd583567": {
          "model_module": "@jupyter-widgets/controls",
          "model_name": "FloatProgressModel",
          "model_module_version": "1.5.0",
          "state": {
            "_view_name": "ProgressView",
            "style": "IPY_MODEL_eb51e327d6b9449e8b53a8625e9ba191",
            "_dom_classes": [],
            "description": "",
            "_model_name": "FloatProgressModel",
            "bar_style": "success",
            "max": 170498071,
            "_view_module": "@jupyter-widgets/controls",
            "_model_module_version": "1.5.0",
            "value": 170498071,
            "_view_count": null,
            "_view_module_version": "1.5.0",
            "orientation": "horizontal",
            "min": 0,
            "description_tooltip": null,
            "_model_module": "@jupyter-widgets/controls",
            "layout": "IPY_MODEL_d44325d8fe1a4f2a9fac71001f2f7f5a"
          }
        },
        "d632bee7435d42dd8222f09b47ef2ec7": {
          "model_module": "@jupyter-widgets/controls",
          "model_name": "HTMLModel",
          "model_module_version": "1.5.0",
          "state": {
            "_view_name": "HTMLView",
            "style": "IPY_MODEL_b9f1f0ca700b4a6091aff1d8e7cda4a9",
            "_dom_classes": [],
            "description": "",
            "_model_name": "HTMLModel",
            "placeholder": "​",
            "_view_module": "@jupyter-widgets/controls",
            "_model_module_version": "1.5.0",
            "value": " 170499072/? [00:11&lt;00:00, 16236772.98it/s]",
            "_view_count": null,
            "_view_module_version": "1.5.0",
            "description_tooltip": null,
            "_model_module": "@jupyter-widgets/controls",
            "layout": "IPY_MODEL_a6337c1dd8674fe48e06c7b9dec18f1d"
          }
        },
        "8463273c3dc6435a989fe07903baabec": {
          "model_module": "@jupyter-widgets/controls",
          "model_name": "DescriptionStyleModel",
          "model_module_version": "1.5.0",
          "state": {
            "_view_name": "StyleView",
            "_model_name": "DescriptionStyleModel",
            "description_width": "",
            "_view_module": "@jupyter-widgets/base",
            "_model_module_version": "1.5.0",
            "_view_count": null,
            "_view_module_version": "1.2.0",
            "_model_module": "@jupyter-widgets/controls"
          }
        },
        "71c17f42d07e4a4a8abaea8bd46f4810": {
          "model_module": "@jupyter-widgets/base",
          "model_name": "LayoutModel",
          "model_module_version": "1.2.0",
          "state": {
            "_view_name": "LayoutView",
            "grid_template_rows": null,
            "right": null,
            "justify_content": null,
            "_view_module": "@jupyter-widgets/base",
            "overflow": null,
            "_model_module_version": "1.2.0",
            "_view_count": null,
            "flex_flow": null,
            "width": null,
            "min_width": null,
            "border": null,
            "align_items": null,
            "bottom": null,
            "_model_module": "@jupyter-widgets/base",
            "top": null,
            "grid_column": null,
            "overflow_y": null,
            "overflow_x": null,
            "grid_auto_flow": null,
            "grid_area": null,
            "grid_template_columns": null,
            "flex": null,
            "_model_name": "LayoutModel",
            "justify_items": null,
            "grid_row": null,
            "max_height": null,
            "align_content": null,
            "visibility": null,
            "align_self": null,
            "height": null,
            "min_height": null,
            "padding": null,
            "grid_auto_rows": null,
            "grid_gap": null,
            "max_width": null,
            "order": null,
            "_view_module_version": "1.2.0",
            "grid_template_areas": null,
            "object_position": null,
            "object_fit": null,
            "grid_auto_columns": null,
            "margin": null,
            "display": null,
            "left": null
          }
        },
        "eb51e327d6b9449e8b53a8625e9ba191": {
          "model_module": "@jupyter-widgets/controls",
          "model_name": "ProgressStyleModel",
          "model_module_version": "1.5.0",
          "state": {
            "_view_name": "StyleView",
            "_model_name": "ProgressStyleModel",
            "description_width": "",
            "_view_module": "@jupyter-widgets/base",
            "_model_module_version": "1.5.0",
            "_view_count": null,
            "_view_module_version": "1.2.0",
            "bar_color": null,
            "_model_module": "@jupyter-widgets/controls"
          }
        },
        "d44325d8fe1a4f2a9fac71001f2f7f5a": {
          "model_module": "@jupyter-widgets/base",
          "model_name": "LayoutModel",
          "model_module_version": "1.2.0",
          "state": {
            "_view_name": "LayoutView",
            "grid_template_rows": null,
            "right": null,
            "justify_content": null,
            "_view_module": "@jupyter-widgets/base",
            "overflow": null,
            "_model_module_version": "1.2.0",
            "_view_count": null,
            "flex_flow": null,
            "width": null,
            "min_width": null,
            "border": null,
            "align_items": null,
            "bottom": null,
            "_model_module": "@jupyter-widgets/base",
            "top": null,
            "grid_column": null,
            "overflow_y": null,
            "overflow_x": null,
            "grid_auto_flow": null,
            "grid_area": null,
            "grid_template_columns": null,
            "flex": null,
            "_model_name": "LayoutModel",
            "justify_items": null,
            "grid_row": null,
            "max_height": null,
            "align_content": null,
            "visibility": null,
            "align_self": null,
            "height": null,
            "min_height": null,
            "padding": null,
            "grid_auto_rows": null,
            "grid_gap": null,
            "max_width": null,
            "order": null,
            "_view_module_version": "1.2.0",
            "grid_template_areas": null,
            "object_position": null,
            "object_fit": null,
            "grid_auto_columns": null,
            "margin": null,
            "display": null,
            "left": null
          }
        },
        "b9f1f0ca700b4a6091aff1d8e7cda4a9": {
          "model_module": "@jupyter-widgets/controls",
          "model_name": "DescriptionStyleModel",
          "model_module_version": "1.5.0",
          "state": {
            "_view_name": "StyleView",
            "_model_name": "DescriptionStyleModel",
            "description_width": "",
            "_view_module": "@jupyter-widgets/base",
            "_model_module_version": "1.5.0",
            "_view_count": null,
            "_view_module_version": "1.2.0",
            "_model_module": "@jupyter-widgets/controls"
          }
        },
        "a6337c1dd8674fe48e06c7b9dec18f1d": {
          "model_module": "@jupyter-widgets/base",
          "model_name": "LayoutModel",
          "model_module_version": "1.2.0",
          "state": {
            "_view_name": "LayoutView",
            "grid_template_rows": null,
            "right": null,
            "justify_content": null,
            "_view_module": "@jupyter-widgets/base",
            "overflow": null,
            "_model_module_version": "1.2.0",
            "_view_count": null,
            "flex_flow": null,
            "width": null,
            "min_width": null,
            "border": null,
            "align_items": null,
            "bottom": null,
            "_model_module": "@jupyter-widgets/base",
            "top": null,
            "grid_column": null,
            "overflow_y": null,
            "overflow_x": null,
            "grid_auto_flow": null,
            "grid_area": null,
            "grid_template_columns": null,
            "flex": null,
            "_model_name": "LayoutModel",
            "justify_items": null,
            "grid_row": null,
            "max_height": null,
            "align_content": null,
            "visibility": null,
            "align_self": null,
            "height": null,
            "min_height": null,
            "padding": null,
            "grid_auto_rows": null,
            "grid_gap": null,
            "max_width": null,
            "order": null,
            "_view_module_version": "1.2.0",
            "grid_template_areas": null,
            "object_position": null,
            "object_fit": null,
            "grid_auto_columns": null,
            "margin": null,
            "display": null,
            "left": null
          }
        }
      }
    }
  },
  "cells": [
    {
      "cell_type": "markdown",
      "metadata": {
        "id": "view-in-github",
        "colab_type": "text"
      },
      "source": [
        "<a href=\"https://colab.research.google.com/github/MohebZandi/Comupter_Vision/blob/main/CIFAR10_00.ipynb\" target=\"_parent\"><img src=\"https://colab.research.google.com/assets/colab-badge.svg\" alt=\"Open In Colab\"/></a>"
      ]
    },
    {
      "cell_type": "markdown",
      "source": [
        "# CIFAR 10 classification"
      ],
      "metadata": {
        "id": "kxR6MH19QaVX"
      }
    },
    {
      "cell_type": "code",
      "execution_count": null,
      "metadata": {
        "id": "Jzi_4bSbPu7C"
      },
      "outputs": [],
      "source": [
        "# import libraries\n",
        "import numpy as np\n",
        "\n",
        "import torch\n",
        "import torch.nn as nn\n",
        "import torch.nn.functional as F\n",
        "import copy\n",
        "from sklearn.model_selection import train_test_split\n",
        "\n",
        "# for importing data\n",
        "import torchvision\n",
        "import torchvision.transforms as T\n",
        "from torch.utils.data import TensorDataset,DataLoader\n",
        "\n",
        "import matplotlib.pyplot as plt\n",
        "from IPython import display\n",
        "display.set_matplotlib_formats('svg')"
      ]
    },
    {
      "cell_type": "code",
      "source": [
        "# use GPU if available\n",
        "device = torch.device('cuda:0' if torch.cuda.is_available() else 'cpu')"
      ],
      "metadata": {
        "id": "dF21N_wLQRs1"
      },
      "execution_count": null,
      "outputs": []
    },
    {
      "cell_type": "markdown",
      "source": [
        "## Import and inspect the data"
      ],
      "metadata": {
        "id": "TL4dcazHQZSW"
      }
    },
    {
      "cell_type": "code",
      "source": [
        "# download the CIFAR10 dataset\n",
        "\n",
        "cdata = torchvision.datasets.CIFAR10(root= 'cifar10', download= True)\n",
        "\n",
        "print(cdata)"
      ],
      "metadata": {
        "colab": {
          "base_uri": "https://localhost:8080/",
          "height": 178,
          "referenced_widgets": [
            "36f6101022c24345ac174fb5f67daf1f",
            "51dd73be0b42478bbcd9d012821f4fff",
            "f046c78839b040ed92f2fd792f657e92",
            "3a71c635752c4ad19280c4edbd583567",
            "d632bee7435d42dd8222f09b47ef2ec7",
            "8463273c3dc6435a989fe07903baabec",
            "71c17f42d07e4a4a8abaea8bd46f4810",
            "eb51e327d6b9449e8b53a8625e9ba191",
            "d44325d8fe1a4f2a9fac71001f2f7f5a",
            "b9f1f0ca700b4a6091aff1d8e7cda4a9",
            "a6337c1dd8674fe48e06c7b9dec18f1d"
          ]
        },
        "id": "gtjyd4dGQXEE",
        "outputId": "84836f9d-7800-471b-fa9d-9caed9e77568"
      },
      "execution_count": null,
      "outputs": [
        {
          "output_type": "stream",
          "name": "stdout",
          "text": [
            "Downloading https://www.cs.toronto.edu/~kriz/cifar-10-python.tar.gz to cifar10/cifar-10-python.tar.gz\n"
          ]
        },
        {
          "output_type": "display_data",
          "data": {
            "application/vnd.jupyter.widget-view+json": {
              "model_id": "36f6101022c24345ac174fb5f67daf1f",
              "version_minor": 0,
              "version_major": 2
            },
            "text/plain": [
              "  0%|          | 0/170498071 [00:00<?, ?it/s]"
            ]
          },
          "metadata": {}
        },
        {
          "output_type": "stream",
          "name": "stdout",
          "text": [
            "Extracting cifar10/cifar-10-python.tar.gz to cifar10\n",
            "Dataset CIFAR10\n",
            "    Number of datapoints: 50000\n",
            "    Root location: cifar10\n",
            "    Split: Train\n"
          ]
        }
      ]
    },
    {
      "cell_type": "code",
      "source": [
        "# inspect the data\n",
        "\n",
        "# the categories (but how many letters??)\n",
        "print(cdata.classes)\n",
        "print(str(len(cdata.classes)) + ' classes')\n",
        "\n",
        "print('\\nData size:')\n",
        "print(cdata.data.shape)\n",
        "\n",
        "# .targets is a list of targets converted to ints\n",
        "print(len(cdata.targets))\n",
        "print(type(cdata.data))\n",
        "\n",
        "# Creating variables for data reshaping\n",
        "numPics = cdata.data.shape[0]\n",
        "numPixels = cdata.data.shape[1]\n",
        "numChans = cdata.data.shape[3]\n",
        "\n",
        "# transform to 4D tensor for conv layers (and transform from int8 to float)\n",
        "# images = cdata.data.view([numPics,numChans,numPixels,numPixels]).float()\n",
        "# print('\\nTensor data:')\n",
        "# print(images.shape)"
      ],
      "metadata": {
        "colab": {
          "base_uri": "https://localhost:8080/"
        },
        "id": "f9tOEFVfQpKR",
        "outputId": "ece5a8d9-9932-49c7-c9e5-c42682c0a439"
      },
      "execution_count": null,
      "outputs": [
        {
          "output_type": "stream",
          "name": "stdout",
          "text": [
            "['airplane', 'automobile', 'bird', 'cat', 'deer', 'dog', 'frog', 'horse', 'ship', 'truck']\n",
            "10 classes\n",
            "\n",
            "Data size:\n",
            "(50000, 32, 32, 3)\n",
            "50000\n",
            "<class 'numpy.ndarray'>\n"
          ]
        }
      ]
    },
    {
      "cell_type": "code",
      "source": [
        "Ts = T.Compose([T.ToTensor(),   # Compose function group together some transformers into one object\n",
        "                T.Resize(32*4),\n",
        "                T.Grayscale(num_output_channels= 1)\n",
        "                ])\n",
        "print(type(Ts))\n",
        "\n",
        "# include the transform in the dataset\n",
        "cdata.transform = Ts\n",
        "\n",
        "print('Data Shape: ',cdata.data[123,:,:,:].shape)\n",
        "\n",
        "# option 1: apply transform \"externally\" to an image\n",
        "imageno = 123\n",
        "img1 = Ts(cdata.data[imageno,:,:,:])\n",
        "\n",
        "# option 2 : use the embedded transform\n",
        "img2 = cdata.transform(cdata.data[imageno,:,:,:])\n",
        "\n",
        "# let's see what we've done!\n",
        "fig, ax = plt.subplots(1,3, figsize= (10, 3))\n",
        "ax[0].imshow(cdata.data[imageno,:,:,:])\n",
        "ax[1].imshow(torch.squeeze(img1))\n",
        "ax[2].imshow(torch.squeeze(img2), cmap= 'gray')\n",
        "\n",
        "plt.show()"
      ],
      "metadata": {
        "colab": {
          "base_uri": "https://localhost:8080/",
          "height": 341
        },
        "id": "1MWrVAY5VBGS",
        "outputId": "c159a9d7-a62e-4009-d03b-07d4f9bea3c0"
      },
      "execution_count": null,
      "outputs": [
        {
          "output_type": "stream",
          "name": "stdout",
          "text": [
            "<class 'torchvision.transforms.transforms.Compose'>\n",
            "Data Shape:  (32, 32, 3)\n"
          ]
        },
        {
          "output_type": "display_data",
          "data": {
            "text/plain": [
              "<Figure size 720x216 with 3 Axes>"
            ],
            "image/svg+xml": "<?xml version=\"1.0\" encoding=\"utf-8\" standalone=\"no\"?>\n<!DOCTYPE svg PUBLIC \"-//W3C//DTD SVG 1.1//EN\"\n  \"http://www.w3.org/Graphics/SVG/1.1/DTD/svg11.dtd\">\n<!-- Created with matplotlib (https://matplotlib.org/) -->\n<svg height=\"197.320312pt\" version=\"1.1\" viewBox=\"0 0 591.087353 197.320312\" width=\"591.087353pt\" xmlns=\"http://www.w3.org/2000/svg\" xmlns:xlink=\"http://www.w3.org/1999/xlink\">\n <defs>\n  <style type=\"text/css\">\n*{stroke-linecap:butt;stroke-linejoin:round;}\n  </style>\n </defs>\n <g id=\"figure_1\">\n  <g id=\"patch_1\">\n   <path d=\"M 0 197.320312 \nL 591.087353 197.320312 \nL 591.087353 0 \nL 0 0 \nz\n\" style=\"fill:none;\"/>\n  </g>\n  <g id=\"axes_1\">\n   <g id=\"patch_2\">\n    <path d=\"M 26.925 173.442187 \nL 190.005 173.442187 \nL 190.005 10.362187 \nL 26.925 10.362187 \nz\n\" style=\"fill:#ffffff;\"/>\n   </g>\n   <g clip-path=\"url(#p5317409f32)\">\n    <image height=\"164\" id=\"imagec08bce9ca4\" transform=\"scale(1 -1)translate(0 -164)\" width=\"164\" x=\"26.925\" xlink:href=\"data:image/png;base64,\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\" y=\"-9.442187\"/>\n   </g>\n   <g id=\"matplotlib.axis_1\">\n    <g id=\"xtick_1\">\n     <g id=\"line2d_1\">\n      <defs>\n       <path d=\"M 0 0 \nL 0 3.5 \n\" id=\"mcc80507065\" style=\"stroke:#000000;stroke-width:0.8;\"/>\n      </defs>\n      <g>\n       <use style=\"stroke:#000000;stroke-width:0.8;\" x=\"29.473125\" xlink:href=\"#mcc80507065\" y=\"173.442187\"/>\n      </g>\n     </g>\n     <g id=\"text_1\">\n      <!-- 0 -->\n      <defs>\n       <path d=\"M 31.78125 66.40625 \nQ 24.171875 66.40625 20.328125 58.90625 \nQ 16.5 51.421875 16.5 36.375 \nQ 16.5 21.390625 20.328125 13.890625 \nQ 24.171875 6.390625 31.78125 6.390625 \nQ 39.453125 6.390625 43.28125 13.890625 \nQ 47.125 21.390625 47.125 36.375 \nQ 47.125 51.421875 43.28125 58.90625 \nQ 39.453125 66.40625 31.78125 66.40625 \nz\nM 31.78125 74.21875 \nQ 44.046875 74.21875 50.515625 64.515625 \nQ 56.984375 54.828125 56.984375 36.375 \nQ 56.984375 17.96875 50.515625 8.265625 \nQ 44.046875 -1.421875 31.78125 -1.421875 \nQ 19.53125 -1.421875 13.0625 8.265625 \nQ 6.59375 17.96875 6.59375 36.375 \nQ 6.59375 54.828125 13.0625 64.515625 \nQ 19.53125 74.21875 31.78125 74.21875 \nz\n\" id=\"DejaVuSans-48\"/>\n      </defs>\n      <g transform=\"translate(26.291875 188.040625)scale(0.1 -0.1)\">\n       <use xlink:href=\"#DejaVuSans-48\"/>\n      </g>\n     </g>\n    </g>\n    <g id=\"xtick_2\">\n     <g id=\"line2d_2\">\n      <g>\n       <use style=\"stroke:#000000;stroke-width:0.8;\" x=\"80.435625\" xlink:href=\"#mcc80507065\" y=\"173.442187\"/>\n      </g>\n     </g>\n     <g id=\"text_2\">\n      <!-- 10 -->\n      <defs>\n       <path d=\"M 12.40625 8.296875 \nL 28.515625 8.296875 \nL 28.515625 63.921875 \nL 10.984375 60.40625 \nL 10.984375 69.390625 \nL 28.421875 72.90625 \nL 38.28125 72.90625 \nL 38.28125 8.296875 \nL 54.390625 8.296875 \nL 54.390625 0 \nL 12.40625 0 \nz\n\" id=\"DejaVuSans-49\"/>\n      </defs>\n      <g transform=\"translate(74.073125 188.040625)scale(0.1 -0.1)\">\n       <use xlink:href=\"#DejaVuSans-49\"/>\n       <use x=\"63.623047\" xlink:href=\"#DejaVuSans-48\"/>\n      </g>\n     </g>\n    </g>\n    <g id=\"xtick_3\">\n     <g id=\"line2d_3\">\n      <g>\n       <use style=\"stroke:#000000;stroke-width:0.8;\" x=\"131.398125\" xlink:href=\"#mcc80507065\" y=\"173.442187\"/>\n      </g>\n     </g>\n     <g id=\"text_3\">\n      <!-- 20 -->\n      <defs>\n       <path d=\"M 19.1875 8.296875 \nL 53.609375 8.296875 \nL 53.609375 0 \nL 7.328125 0 \nL 7.328125 8.296875 \nQ 12.9375 14.109375 22.625 23.890625 \nQ 32.328125 33.6875 34.8125 36.53125 \nQ 39.546875 41.84375 41.421875 45.53125 \nQ 43.3125 49.21875 43.3125 52.78125 \nQ 43.3125 58.59375 39.234375 62.25 \nQ 35.15625 65.921875 28.609375 65.921875 \nQ 23.96875 65.921875 18.8125 64.3125 \nQ 13.671875 62.703125 7.8125 59.421875 \nL 7.8125 69.390625 \nQ 13.765625 71.78125 18.9375 73 \nQ 24.125 74.21875 28.421875 74.21875 \nQ 39.75 74.21875 46.484375 68.546875 \nQ 53.21875 62.890625 53.21875 53.421875 \nQ 53.21875 48.921875 51.53125 44.890625 \nQ 49.859375 40.875 45.40625 35.40625 \nQ 44.1875 33.984375 37.640625 27.21875 \nQ 31.109375 20.453125 19.1875 8.296875 \nz\n\" id=\"DejaVuSans-50\"/>\n      </defs>\n      <g transform=\"translate(125.035625 188.040625)scale(0.1 -0.1)\">\n       <use xlink:href=\"#DejaVuSans-50\"/>\n       <use x=\"63.623047\" xlink:href=\"#DejaVuSans-48\"/>\n      </g>\n     </g>\n    </g>\n    <g id=\"xtick_4\">\n     <g id=\"line2d_4\">\n      <g>\n       <use style=\"stroke:#000000;stroke-width:0.8;\" x=\"182.360625\" xlink:href=\"#mcc80507065\" y=\"173.442187\"/>\n      </g>\n     </g>\n     <g id=\"text_4\">\n      <!-- 30 -->\n      <defs>\n       <path d=\"M 40.578125 39.3125 \nQ 47.65625 37.796875 51.625 33 \nQ 55.609375 28.21875 55.609375 21.1875 \nQ 55.609375 10.40625 48.1875 4.484375 \nQ 40.765625 -1.421875 27.09375 -1.421875 \nQ 22.515625 -1.421875 17.65625 -0.515625 \nQ 12.796875 0.390625 7.625 2.203125 \nL 7.625 11.71875 \nQ 11.71875 9.328125 16.59375 8.109375 \nQ 21.484375 6.890625 26.8125 6.890625 \nQ 36.078125 6.890625 40.9375 10.546875 \nQ 45.796875 14.203125 45.796875 21.1875 \nQ 45.796875 27.640625 41.28125 31.265625 \nQ 36.765625 34.90625 28.71875 34.90625 \nL 20.21875 34.90625 \nL 20.21875 43.015625 \nL 29.109375 43.015625 \nQ 36.375 43.015625 40.234375 45.921875 \nQ 44.09375 48.828125 44.09375 54.296875 \nQ 44.09375 59.90625 40.109375 62.90625 \nQ 36.140625 65.921875 28.71875 65.921875 \nQ 24.65625 65.921875 20.015625 65.03125 \nQ 15.375 64.15625 9.8125 62.3125 \nL 9.8125 71.09375 \nQ 15.4375 72.65625 20.34375 73.4375 \nQ 25.25 74.21875 29.59375 74.21875 \nQ 40.828125 74.21875 47.359375 69.109375 \nQ 53.90625 64.015625 53.90625 55.328125 \nQ 53.90625 49.265625 50.4375 45.09375 \nQ 46.96875 40.921875 40.578125 39.3125 \nz\n\" id=\"DejaVuSans-51\"/>\n      </defs>\n      <g transform=\"translate(175.998125 188.040625)scale(0.1 -0.1)\">\n       <use xlink:href=\"#DejaVuSans-51\"/>\n       <use x=\"63.623047\" xlink:href=\"#DejaVuSans-48\"/>\n      </g>\n     </g>\n    </g>\n   </g>\n   <g id=\"matplotlib.axis_2\">\n    <g id=\"ytick_1\">\n     <g id=\"line2d_5\">\n      <defs>\n       <path d=\"M 0 0 \nL -3.5 0 \n\" id=\"m76ab141128\" style=\"stroke:#000000;stroke-width:0.8;\"/>\n      </defs>\n      <g>\n       <use style=\"stroke:#000000;stroke-width:0.8;\" x=\"26.925\" xlink:href=\"#m76ab141128\" y=\"12.910312\"/>\n      </g>\n     </g>\n     <g id=\"text_5\">\n      <!-- 0 -->\n      <g transform=\"translate(13.5625 16.709531)scale(0.1 -0.1)\">\n       <use xlink:href=\"#DejaVuSans-48\"/>\n      </g>\n     </g>\n    </g>\n    <g id=\"ytick_2\">\n     <g id=\"line2d_6\">\n      <g>\n       <use style=\"stroke:#000000;stroke-width:0.8;\" x=\"26.925\" xlink:href=\"#m76ab141128\" y=\"38.391562\"/>\n      </g>\n     </g>\n     <g id=\"text_6\">\n      <!-- 5 -->\n      <defs>\n       <path d=\"M 10.796875 72.90625 \nL 49.515625 72.90625 \nL 49.515625 64.59375 \nL 19.828125 64.59375 \nL 19.828125 46.734375 \nQ 21.96875 47.46875 24.109375 47.828125 \nQ 26.265625 48.1875 28.421875 48.1875 \nQ 40.625 48.1875 47.75 41.5 \nQ 54.890625 34.8125 54.890625 23.390625 \nQ 54.890625 11.625 47.5625 5.09375 \nQ 40.234375 -1.421875 26.90625 -1.421875 \nQ 22.3125 -1.421875 17.546875 -0.640625 \nQ 12.796875 0.140625 7.71875 1.703125 \nL 7.71875 11.625 \nQ 12.109375 9.234375 16.796875 8.0625 \nQ 21.484375 6.890625 26.703125 6.890625 \nQ 35.15625 6.890625 40.078125 11.328125 \nQ 45.015625 15.765625 45.015625 23.390625 \nQ 45.015625 31 40.078125 35.4375 \nQ 35.15625 39.890625 26.703125 39.890625 \nQ 22.75 39.890625 18.8125 39.015625 \nQ 14.890625 38.140625 10.796875 36.28125 \nz\n\" id=\"DejaVuSans-53\"/>\n      </defs>\n      <g transform=\"translate(13.5625 42.190781)scale(0.1 -0.1)\">\n       <use xlink:href=\"#DejaVuSans-53\"/>\n      </g>\n     </g>\n    </g>\n    <g id=\"ytick_3\">\n     <g id=\"line2d_7\">\n      <g>\n       <use style=\"stroke:#000000;stroke-width:0.8;\" x=\"26.925\" xlink:href=\"#m76ab141128\" y=\"63.872812\"/>\n      </g>\n     </g>\n     <g id=\"text_7\">\n      <!-- 10 -->\n      <g transform=\"translate(7.2 67.672031)scale(0.1 -0.1)\">\n       <use xlink:href=\"#DejaVuSans-49\"/>\n       <use x=\"63.623047\" xlink:href=\"#DejaVuSans-48\"/>\n      </g>\n     </g>\n    </g>\n    <g id=\"ytick_4\">\n     <g id=\"line2d_8\">\n      <g>\n       <use style=\"stroke:#000000;stroke-width:0.8;\" x=\"26.925\" xlink:href=\"#m76ab141128\" y=\"89.354062\"/>\n      </g>\n     </g>\n     <g id=\"text_8\">\n      <!-- 15 -->\n      <g transform=\"translate(7.2 93.153281)scale(0.1 -0.1)\">\n       <use xlink:href=\"#DejaVuSans-49\"/>\n       <use x=\"63.623047\" xlink:href=\"#DejaVuSans-53\"/>\n      </g>\n     </g>\n    </g>\n    <g id=\"ytick_5\">\n     <g id=\"line2d_9\">\n      <g>\n       <use style=\"stroke:#000000;stroke-width:0.8;\" x=\"26.925\" xlink:href=\"#m76ab141128\" y=\"114.835312\"/>\n      </g>\n     </g>\n     <g id=\"text_9\">\n      <!-- 20 -->\n      <g transform=\"translate(7.2 118.634531)scale(0.1 -0.1)\">\n       <use xlink:href=\"#DejaVuSans-50\"/>\n       <use x=\"63.623047\" xlink:href=\"#DejaVuSans-48\"/>\n      </g>\n     </g>\n    </g>\n    <g id=\"ytick_6\">\n     <g id=\"line2d_10\">\n      <g>\n       <use style=\"stroke:#000000;stroke-width:0.8;\" x=\"26.925\" xlink:href=\"#m76ab141128\" y=\"140.316562\"/>\n      </g>\n     </g>\n     <g id=\"text_10\">\n      <!-- 25 -->\n      <g transform=\"translate(7.2 144.115781)scale(0.1 -0.1)\">\n       <use xlink:href=\"#DejaVuSans-50\"/>\n       <use x=\"63.623047\" xlink:href=\"#DejaVuSans-53\"/>\n      </g>\n     </g>\n    </g>\n    <g id=\"ytick_7\">\n     <g id=\"line2d_11\">\n      <g>\n       <use style=\"stroke:#000000;stroke-width:0.8;\" x=\"26.925\" xlink:href=\"#m76ab141128\" y=\"165.797812\"/>\n      </g>\n     </g>\n     <g id=\"text_11\">\n      <!-- 30 -->\n      <g transform=\"translate(7.2 169.597031)scale(0.1 -0.1)\">\n       <use xlink:href=\"#DejaVuSans-51\"/>\n       <use x=\"63.623047\" xlink:href=\"#DejaVuSans-48\"/>\n      </g>\n     </g>\n    </g>\n   </g>\n   <g id=\"patch_3\">\n    <path d=\"M 26.925 173.442187 \nL 26.925 10.362187 \n\" style=\"fill:none;stroke:#000000;stroke-linecap:square;stroke-linejoin:miter;stroke-width:0.8;\"/>\n   </g>\n   <g id=\"patch_4\">\n    <path d=\"M 190.005 173.442187 \nL 190.005 10.362187 \n\" style=\"fill:none;stroke:#000000;stroke-linecap:square;stroke-linejoin:miter;stroke-width:0.8;\"/>\n   </g>\n   <g id=\"patch_5\">\n    <path d=\"M 26.925 173.442187 \nL 190.005 173.442187 \n\" style=\"fill:none;stroke:#000000;stroke-linecap:square;stroke-linejoin:miter;stroke-width:0.8;\"/>\n   </g>\n   <g id=\"patch_6\">\n    <path d=\"M 26.925 10.362187 \nL 190.005 10.362187 \n\" style=\"fill:none;stroke:#000000;stroke-linecap:square;stroke-linejoin:miter;stroke-width:0.8;\"/>\n   </g>\n  </g>\n  <g id=\"axes_2\">\n   <g id=\"patch_7\">\n    <path d=\"M 223.866176 173.442187 \nL 386.946176 173.442187 \nL 386.946176 10.362187 \nL 223.866176 10.362187 \nz\n\" style=\"fill:#ffffff;\"/>\n   </g>\n   <g clip-path=\"url(#p79c71ff455)\">\n    <image height=\"164\" id=\"image032bb97638\" transform=\"scale(1 -1)translate(0 -164)\" width=\"164\" x=\"223.866176\" xlink:href=\"data:image/png;base64,\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\" y=\"-9.442187\"/>\n   </g>\n   <g id=\"matplotlib.axis_3\">\n    <g id=\"xtick_5\">\n     <g id=\"line2d_12\">\n      <g>\n       <use style=\"stroke:#000000;stroke-width:0.8;\" x=\"224.503208\" xlink:href=\"#mcc80507065\" y=\"173.442187\"/>\n      </g>\n     </g>\n     <g id=\"text_12\">\n      <!-- 0 -->\n      <g transform=\"translate(221.321958 188.040625)scale(0.1 -0.1)\">\n       <use xlink:href=\"#DejaVuSans-48\"/>\n      </g>\n     </g>\n    </g>\n    <g id=\"xtick_6\">\n     <g id=\"line2d_13\">\n      <g>\n       <use style=\"stroke:#000000;stroke-width:0.8;\" x=\"288.206333\" xlink:href=\"#mcc80507065\" y=\"173.442187\"/>\n      </g>\n     </g>\n     <g id=\"text_13\">\n      <!-- 50 -->\n      <g transform=\"translate(281.843833 188.040625)scale(0.1 -0.1)\">\n       <use xlink:href=\"#DejaVuSans-53\"/>\n       <use x=\"63.623047\" xlink:href=\"#DejaVuSans-48\"/>\n      </g>\n     </g>\n    </g>\n    <g id=\"xtick_7\">\n     <g id=\"line2d_14\">\n      <g>\n       <use style=\"stroke:#000000;stroke-width:0.8;\" x=\"351.909458\" xlink:href=\"#mcc80507065\" y=\"173.442187\"/>\n      </g>\n     </g>\n     <g id=\"text_14\">\n      <!-- 100 -->\n      <g transform=\"translate(342.365708 188.040625)scale(0.1 -0.1)\">\n       <use xlink:href=\"#DejaVuSans-49\"/>\n       <use x=\"63.623047\" xlink:href=\"#DejaVuSans-48\"/>\n       <use x=\"127.246094\" xlink:href=\"#DejaVuSans-48\"/>\n      </g>\n     </g>\n    </g>\n   </g>\n   <g id=\"matplotlib.axis_4\">\n    <g id=\"ytick_8\">\n     <g id=\"line2d_15\">\n      <g>\n       <use style=\"stroke:#000000;stroke-width:0.8;\" x=\"223.866176\" xlink:href=\"#m76ab141128\" y=\"10.999219\"/>\n      </g>\n     </g>\n     <g id=\"text_15\">\n      <!-- 0 -->\n      <g transform=\"translate(210.503676 14.798437)scale(0.1 -0.1)\">\n       <use xlink:href=\"#DejaVuSans-48\"/>\n      </g>\n     </g>\n    </g>\n    <g id=\"ytick_9\">\n     <g id=\"line2d_16\">\n      <g>\n       <use style=\"stroke:#000000;stroke-width:0.8;\" x=\"223.866176\" xlink:href=\"#m76ab141128\" y=\"36.480469\"/>\n      </g>\n     </g>\n     <g id=\"text_16\">\n      <!-- 20 -->\n      <g transform=\"translate(204.141176 40.279687)scale(0.1 -0.1)\">\n       <use xlink:href=\"#DejaVuSans-50\"/>\n       <use x=\"63.623047\" xlink:href=\"#DejaVuSans-48\"/>\n      </g>\n     </g>\n    </g>\n    <g id=\"ytick_10\">\n     <g id=\"line2d_17\">\n      <g>\n       <use style=\"stroke:#000000;stroke-width:0.8;\" x=\"223.866176\" xlink:href=\"#m76ab141128\" y=\"61.961719\"/>\n      </g>\n     </g>\n     <g id=\"text_17\">\n      <!-- 40 -->\n      <defs>\n       <path d=\"M 37.796875 64.3125 \nL 12.890625 25.390625 \nL 37.796875 25.390625 \nz\nM 35.203125 72.90625 \nL 47.609375 72.90625 \nL 47.609375 25.390625 \nL 58.015625 25.390625 \nL 58.015625 17.1875 \nL 47.609375 17.1875 \nL 47.609375 0 \nL 37.796875 0 \nL 37.796875 17.1875 \nL 4.890625 17.1875 \nL 4.890625 26.703125 \nz\n\" id=\"DejaVuSans-52\"/>\n      </defs>\n      <g transform=\"translate(204.141176 65.760937)scale(0.1 -0.1)\">\n       <use xlink:href=\"#DejaVuSans-52\"/>\n       <use x=\"63.623047\" xlink:href=\"#DejaVuSans-48\"/>\n      </g>\n     </g>\n    </g>\n    <g id=\"ytick_11\">\n     <g id=\"line2d_18\">\n      <g>\n       <use style=\"stroke:#000000;stroke-width:0.8;\" x=\"223.866176\" xlink:href=\"#m76ab141128\" y=\"87.442969\"/>\n      </g>\n     </g>\n     <g id=\"text_18\">\n      <!-- 60 -->\n      <defs>\n       <path d=\"M 33.015625 40.375 \nQ 26.375 40.375 22.484375 35.828125 \nQ 18.609375 31.296875 18.609375 23.390625 \nQ 18.609375 15.53125 22.484375 10.953125 \nQ 26.375 6.390625 33.015625 6.390625 \nQ 39.65625 6.390625 43.53125 10.953125 \nQ 47.40625 15.53125 47.40625 23.390625 \nQ 47.40625 31.296875 43.53125 35.828125 \nQ 39.65625 40.375 33.015625 40.375 \nz\nM 52.59375 71.296875 \nL 52.59375 62.3125 \nQ 48.875 64.0625 45.09375 64.984375 \nQ 41.3125 65.921875 37.59375 65.921875 \nQ 27.828125 65.921875 22.671875 59.328125 \nQ 17.53125 52.734375 16.796875 39.40625 \nQ 19.671875 43.65625 24.015625 45.921875 \nQ 28.375 48.1875 33.59375 48.1875 \nQ 44.578125 48.1875 50.953125 41.515625 \nQ 57.328125 34.859375 57.328125 23.390625 \nQ 57.328125 12.15625 50.6875 5.359375 \nQ 44.046875 -1.421875 33.015625 -1.421875 \nQ 20.359375 -1.421875 13.671875 8.265625 \nQ 6.984375 17.96875 6.984375 36.375 \nQ 6.984375 53.65625 15.1875 63.9375 \nQ 23.390625 74.21875 37.203125 74.21875 \nQ 40.921875 74.21875 44.703125 73.484375 \nQ 48.484375 72.75 52.59375 71.296875 \nz\n\" id=\"DejaVuSans-54\"/>\n      </defs>\n      <g transform=\"translate(204.141176 91.242187)scale(0.1 -0.1)\">\n       <use xlink:href=\"#DejaVuSans-54\"/>\n       <use x=\"63.623047\" xlink:href=\"#DejaVuSans-48\"/>\n      </g>\n     </g>\n    </g>\n    <g id=\"ytick_12\">\n     <g id=\"line2d_19\">\n      <g>\n       <use style=\"stroke:#000000;stroke-width:0.8;\" x=\"223.866176\" xlink:href=\"#m76ab141128\" y=\"112.924219\"/>\n      </g>\n     </g>\n     <g id=\"text_19\">\n      <!-- 80 -->\n      <defs>\n       <path d=\"M 31.78125 34.625 \nQ 24.75 34.625 20.71875 30.859375 \nQ 16.703125 27.09375 16.703125 20.515625 \nQ 16.703125 13.921875 20.71875 10.15625 \nQ 24.75 6.390625 31.78125 6.390625 \nQ 38.8125 6.390625 42.859375 10.171875 \nQ 46.921875 13.96875 46.921875 20.515625 \nQ 46.921875 27.09375 42.890625 30.859375 \nQ 38.875 34.625 31.78125 34.625 \nz\nM 21.921875 38.8125 \nQ 15.578125 40.375 12.03125 44.71875 \nQ 8.5 49.078125 8.5 55.328125 \nQ 8.5 64.0625 14.71875 69.140625 \nQ 20.953125 74.21875 31.78125 74.21875 \nQ 42.671875 74.21875 48.875 69.140625 \nQ 55.078125 64.0625 55.078125 55.328125 \nQ 55.078125 49.078125 51.53125 44.71875 \nQ 48 40.375 41.703125 38.8125 \nQ 48.828125 37.15625 52.796875 32.3125 \nQ 56.78125 27.484375 56.78125 20.515625 \nQ 56.78125 9.90625 50.3125 4.234375 \nQ 43.84375 -1.421875 31.78125 -1.421875 \nQ 19.734375 -1.421875 13.25 4.234375 \nQ 6.78125 9.90625 6.78125 20.515625 \nQ 6.78125 27.484375 10.78125 32.3125 \nQ 14.796875 37.15625 21.921875 38.8125 \nz\nM 18.3125 54.390625 \nQ 18.3125 48.734375 21.84375 45.5625 \nQ 25.390625 42.390625 31.78125 42.390625 \nQ 38.140625 42.390625 41.71875 45.5625 \nQ 45.3125 48.734375 45.3125 54.390625 \nQ 45.3125 60.0625 41.71875 63.234375 \nQ 38.140625 66.40625 31.78125 66.40625 \nQ 25.390625 66.40625 21.84375 63.234375 \nQ 18.3125 60.0625 18.3125 54.390625 \nz\n\" id=\"DejaVuSans-56\"/>\n      </defs>\n      <g transform=\"translate(204.141176 116.723437)scale(0.1 -0.1)\">\n       <use xlink:href=\"#DejaVuSans-56\"/>\n       <use x=\"63.623047\" xlink:href=\"#DejaVuSans-48\"/>\n      </g>\n     </g>\n    </g>\n    <g id=\"ytick_13\">\n     <g id=\"line2d_20\">\n      <g>\n       <use style=\"stroke:#000000;stroke-width:0.8;\" x=\"223.866176\" xlink:href=\"#m76ab141128\" y=\"138.405469\"/>\n      </g>\n     </g>\n     <g id=\"text_20\">\n      <!-- 100 -->\n      <g transform=\"translate(197.778676 142.204687)scale(0.1 -0.1)\">\n       <use xlink:href=\"#DejaVuSans-49\"/>\n       <use x=\"63.623047\" xlink:href=\"#DejaVuSans-48\"/>\n       <use x=\"127.246094\" xlink:href=\"#DejaVuSans-48\"/>\n      </g>\n     </g>\n    </g>\n    <g id=\"ytick_14\">\n     <g id=\"line2d_21\">\n      <g>\n       <use style=\"stroke:#000000;stroke-width:0.8;\" x=\"223.866176\" xlink:href=\"#m76ab141128\" y=\"163.886719\"/>\n      </g>\n     </g>\n     <g id=\"text_21\">\n      <!-- 120 -->\n      <g transform=\"translate(197.778676 167.685937)scale(0.1 -0.1)\">\n       <use xlink:href=\"#DejaVuSans-49\"/>\n       <use x=\"63.623047\" xlink:href=\"#DejaVuSans-50\"/>\n       <use x=\"127.246094\" xlink:href=\"#DejaVuSans-48\"/>\n      </g>\n     </g>\n    </g>\n   </g>\n   <g id=\"patch_8\">\n    <path d=\"M 223.866176 173.442187 \nL 223.866176 10.362187 \n\" style=\"fill:none;stroke:#000000;stroke-linecap:square;stroke-linejoin:miter;stroke-width:0.8;\"/>\n   </g>\n   <g id=\"patch_9\">\n    <path d=\"M 386.946176 173.442187 \nL 386.946176 10.362187 \n\" style=\"fill:none;stroke:#000000;stroke-linecap:square;stroke-linejoin:miter;stroke-width:0.8;\"/>\n   </g>\n   <g id=\"patch_10\">\n    <path d=\"M 223.866176 173.442187 \nL 386.946176 173.442187 \n\" style=\"fill:none;stroke:#000000;stroke-linecap:square;stroke-linejoin:miter;stroke-width:0.8;\"/>\n   </g>\n   <g id=\"patch_11\">\n    <path d=\"M 223.866176 10.362187 \nL 386.946176 10.362187 \n\" style=\"fill:none;stroke:#000000;stroke-linecap:square;stroke-linejoin:miter;stroke-width:0.8;\"/>\n   </g>\n  </g>\n  <g id=\"axes_3\">\n   <g id=\"patch_12\">\n    <path d=\"M 420.807353 173.442187 \nL 583.887353 173.442187 \nL 583.887353 10.362187 \nL 420.807353 10.362187 \nz\n\" style=\"fill:#ffffff;\"/>\n   </g>\n   <g clip-path=\"url(#p880dfe5f09)\">\n    <image height=\"164\" id=\"imagea7ffb4041c\" transform=\"scale(1 -1)translate(0 -164)\" width=\"164\" x=\"420.807353\" xlink:href=\"data:image/png;base64,\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\" y=\"-9.442187\"/>\n   </g>\n   <g id=\"matplotlib.axis_5\">\n    <g id=\"xtick_8\">\n     <g id=\"line2d_22\">\n      <g>\n       <use style=\"stroke:#000000;stroke-width:0.8;\" x=\"421.444384\" xlink:href=\"#mcc80507065\" y=\"173.442187\"/>\n      </g>\n     </g>\n     <g id=\"text_22\">\n      <!-- 0 -->\n      <g transform=\"translate(418.263134 188.040625)scale(0.1 -0.1)\">\n       <use xlink:href=\"#DejaVuSans-48\"/>\n      </g>\n     </g>\n    </g>\n    <g id=\"xtick_9\">\n     <g id=\"line2d_23\">\n      <g>\n       <use style=\"stroke:#000000;stroke-width:0.8;\" x=\"485.147509\" xlink:href=\"#mcc80507065\" y=\"173.442187\"/>\n      </g>\n     </g>\n     <g id=\"text_23\">\n      <!-- 50 -->\n      <g transform=\"translate(478.785009 188.040625)scale(0.1 -0.1)\">\n       <use xlink:href=\"#DejaVuSans-53\"/>\n       <use x=\"63.623047\" xlink:href=\"#DejaVuSans-48\"/>\n      </g>\n     </g>\n    </g>\n    <g id=\"xtick_10\">\n     <g id=\"line2d_24\">\n      <g>\n       <use style=\"stroke:#000000;stroke-width:0.8;\" x=\"548.850634\" xlink:href=\"#mcc80507065\" y=\"173.442187\"/>\n      </g>\n     </g>\n     <g id=\"text_24\">\n      <!-- 100 -->\n      <g transform=\"translate(539.306884 188.040625)scale(0.1 -0.1)\">\n       <use xlink:href=\"#DejaVuSans-49\"/>\n       <use x=\"63.623047\" xlink:href=\"#DejaVuSans-48\"/>\n       <use x=\"127.246094\" xlink:href=\"#DejaVuSans-48\"/>\n      </g>\n     </g>\n    </g>\n   </g>\n   <g id=\"matplotlib.axis_6\">\n    <g id=\"ytick_15\">\n     <g id=\"line2d_25\">\n      <g>\n       <use style=\"stroke:#000000;stroke-width:0.8;\" x=\"420.807353\" xlink:href=\"#m76ab141128\" y=\"10.999219\"/>\n      </g>\n     </g>\n     <g id=\"text_25\">\n      <!-- 0 -->\n      <g transform=\"translate(407.444853 14.798437)scale(0.1 -0.1)\">\n       <use xlink:href=\"#DejaVuSans-48\"/>\n      </g>\n     </g>\n    </g>\n    <g id=\"ytick_16\">\n     <g id=\"line2d_26\">\n      <g>\n       <use style=\"stroke:#000000;stroke-width:0.8;\" x=\"420.807353\" xlink:href=\"#m76ab141128\" y=\"36.480469\"/>\n      </g>\n     </g>\n     <g id=\"text_26\">\n      <!-- 20 -->\n      <g transform=\"translate(401.082353 40.279687)scale(0.1 -0.1)\">\n       <use xlink:href=\"#DejaVuSans-50\"/>\n       <use x=\"63.623047\" xlink:href=\"#DejaVuSans-48\"/>\n      </g>\n     </g>\n    </g>\n    <g id=\"ytick_17\">\n     <g id=\"line2d_27\">\n      <g>\n       <use style=\"stroke:#000000;stroke-width:0.8;\" x=\"420.807353\" xlink:href=\"#m76ab141128\" y=\"61.961719\"/>\n      </g>\n     </g>\n     <g id=\"text_27\">\n      <!-- 40 -->\n      <g transform=\"translate(401.082353 65.760937)scale(0.1 -0.1)\">\n       <use xlink:href=\"#DejaVuSans-52\"/>\n       <use x=\"63.623047\" xlink:href=\"#DejaVuSans-48\"/>\n      </g>\n     </g>\n    </g>\n    <g id=\"ytick_18\">\n     <g id=\"line2d_28\">\n      <g>\n       <use style=\"stroke:#000000;stroke-width:0.8;\" x=\"420.807353\" xlink:href=\"#m76ab141128\" y=\"87.442969\"/>\n      </g>\n     </g>\n     <g id=\"text_28\">\n      <!-- 60 -->\n      <g transform=\"translate(401.082353 91.242187)scale(0.1 -0.1)\">\n       <use xlink:href=\"#DejaVuSans-54\"/>\n       <use x=\"63.623047\" xlink:href=\"#DejaVuSans-48\"/>\n      </g>\n     </g>\n    </g>\n    <g id=\"ytick_19\">\n     <g id=\"line2d_29\">\n      <g>\n       <use style=\"stroke:#000000;stroke-width:0.8;\" x=\"420.807353\" xlink:href=\"#m76ab141128\" y=\"112.924219\"/>\n      </g>\n     </g>\n     <g id=\"text_29\">\n      <!-- 80 -->\n      <g transform=\"translate(401.082353 116.723437)scale(0.1 -0.1)\">\n       <use xlink:href=\"#DejaVuSans-56\"/>\n       <use x=\"63.623047\" xlink:href=\"#DejaVuSans-48\"/>\n      </g>\n     </g>\n    </g>\n    <g id=\"ytick_20\">\n     <g id=\"line2d_30\">\n      <g>\n       <use style=\"stroke:#000000;stroke-width:0.8;\" x=\"420.807353\" xlink:href=\"#m76ab141128\" y=\"138.405469\"/>\n      </g>\n     </g>\n     <g id=\"text_30\">\n      <!-- 100 -->\n      <g transform=\"translate(394.719853 142.204687)scale(0.1 -0.1)\">\n       <use xlink:href=\"#DejaVuSans-49\"/>\n       <use x=\"63.623047\" xlink:href=\"#DejaVuSans-48\"/>\n       <use x=\"127.246094\" xlink:href=\"#DejaVuSans-48\"/>\n      </g>\n     </g>\n    </g>\n    <g id=\"ytick_21\">\n     <g id=\"line2d_31\">\n      <g>\n       <use style=\"stroke:#000000;stroke-width:0.8;\" x=\"420.807353\" xlink:href=\"#m76ab141128\" y=\"163.886719\"/>\n      </g>\n     </g>\n     <g id=\"text_31\">\n      <!-- 120 -->\n      <g transform=\"translate(394.719853 167.685937)scale(0.1 -0.1)\">\n       <use xlink:href=\"#DejaVuSans-49\"/>\n       <use x=\"63.623047\" xlink:href=\"#DejaVuSans-50\"/>\n       <use x=\"127.246094\" xlink:href=\"#DejaVuSans-48\"/>\n      </g>\n     </g>\n    </g>\n   </g>\n   <g id=\"patch_13\">\n    <path d=\"M 420.807353 173.442187 \nL 420.807353 10.362187 \n\" style=\"fill:none;stroke:#000000;stroke-linecap:square;stroke-linejoin:miter;stroke-width:0.8;\"/>\n   </g>\n   <g id=\"patch_14\">\n    <path d=\"M 583.887353 173.442187 \nL 583.887353 10.362187 \n\" style=\"fill:none;stroke:#000000;stroke-linecap:square;stroke-linejoin:miter;stroke-width:0.8;\"/>\n   </g>\n   <g id=\"patch_15\">\n    <path d=\"M 420.807353 173.442187 \nL 583.887353 173.442187 \n\" style=\"fill:none;stroke:#000000;stroke-linecap:square;stroke-linejoin:miter;stroke-width:0.8;\"/>\n   </g>\n   <g id=\"patch_16\">\n    <path d=\"M 420.807353 10.362187 \nL 583.887353 10.362187 \n\" style=\"fill:none;stroke:#000000;stroke-linecap:square;stroke-linejoin:miter;stroke-width:0.8;\"/>\n   </g>\n  </g>\n </g>\n <defs>\n  <clipPath id=\"p5317409f32\">\n   <rect height=\"163.08\" width=\"163.08\" x=\"26.925\" y=\"10.362187\"/>\n  </clipPath>\n  <clipPath id=\"p79c71ff455\">\n   <rect height=\"163.08\" width=\"163.08\" x=\"223.866176\" y=\"10.362187\"/>\n  </clipPath>\n  <clipPath id=\"p880dfe5f09\">\n   <rect height=\"163.08\" width=\"163.08\" x=\"420.807353\" y=\"10.362187\"/>\n  </clipPath>\n </defs>\n</svg>\n"
          },
          "metadata": {
            "needs_background": "light"
          }
        }
      ]
    },
    {
      "cell_type": "code",
      "source": [
        "print(type(img2))"
      ],
      "metadata": {
        "colab": {
          "base_uri": "https://localhost:8080/"
        },
        "id": "pcBXKnSTVX-i",
        "outputId": "202ad869-67c6-4b6a-cbb3-66cc2a84128b"
      },
      "execution_count": null,
      "outputs": [
        {
          "output_type": "stream",
          "name": "stdout",
          "text": [
            "<class 'torch.Tensor'>\n"
          ]
        }
      ]
    },
    {
      "cell_type": "code",
      "source": [
        "print(cdata.data.shape)"
      ],
      "metadata": {
        "colab": {
          "base_uri": "https://localhost:8080/"
        },
        "id": "yeHSjMIUfunY",
        "outputId": "3c70f4eb-a1de-4aa4-c684-fb4bf505d761"
      },
      "execution_count": null,
      "outputs": [
        {
          "output_type": "stream",
          "name": "stdout",
          "text": [
            "(50000, 32, 32, 3)\n"
          ]
        }
      ]
    },
    {
      "cell_type": "code",
      "source": [
        "# Creating variables for data reshaping\n",
        "numPics = cdata.data.shape[0]\n",
        "numPixels = cdata.data.shape[1]\n",
        "numChans = cdata.data.shape[3]\n",
        "\n"
      ],
      "metadata": {
        "colab": {
          "base_uri": "https://localhost:8080/"
        },
        "id": "b-8wRfL-fzgY",
        "outputId": "125ff247-8716-4db1-d215-023ee50bc61c"
      },
      "execution_count": null,
      "outputs": [
        {
          "output_type": "stream",
          "name": "stdout",
          "text": [
            "<class 'int'>\n"
          ]
        }
      ]
    },
    {
      "cell_type": "markdown",
      "source": [
        "## Change the type of data to Tensor in 4Dimensions\n"
      ],
      "metadata": {
        "id": "mS3_wD4HhJlj"
      }
    },
    {
      "cell_type": "code",
      "source": [
        "print(cdata)"
      ],
      "metadata": {
        "colab": {
          "base_uri": "https://localhost:8080/"
        },
        "id": "AFaO64zXgnwM",
        "outputId": "21314eed-347e-4558-ddde-8f2cc8035fba"
      },
      "execution_count": null,
      "outputs": [
        {
          "output_type": "stream",
          "name": "stdout",
          "text": [
            "Dataset CIFAR10\n",
            "    Number of datapoints: 50000\n",
            "    Root location: cifar10\n",
            "    Split: Train\n"
          ]
        }
      ]
    },
    {
      "cell_type": "code",
      "source": [
        "print(cdata.data.shape)"
      ],
      "metadata": {
        "colab": {
          "base_uri": "https://localhost:8080/"
        },
        "id": "e7dvC3g8hHnP",
        "outputId": "76368589-8ad7-42b9-a15f-7dc30c8824a4"
      },
      "execution_count": null,
      "outputs": [
        {
          "output_type": "stream",
          "name": "stdout",
          "text": [
            "(50000, 32, 32, 3)\n"
          ]
        }
      ]
    },
    {
      "cell_type": "code",
      "source": [
        "print(type(cdata.data))"
      ],
      "metadata": {
        "colab": {
          "base_uri": "https://localhost:8080/"
        },
        "id": "nqi4uWBWhUB2",
        "outputId": "8e5d2dc1-a9e7-42ff-941b-e85b14f4f109"
      },
      "execution_count": null,
      "outputs": [
        {
          "output_type": "stream",
          "name": "stdout",
          "text": [
            "<class 'numpy.ndarray'>\n"
          ]
        }
      ]
    },
    {
      "cell_type": "code",
      "source": [
        "# Converting numpy array to torch Tensor\n",
        "cdataT = torch.from_numpy(cdata.data)\n",
        "print(type(cdataT))"
      ],
      "metadata": {
        "colab": {
          "base_uri": "https://localhost:8080/"
        },
        "id": "wQ2vuVxMhf2O",
        "outputId": "6fcdabd7-f380-4701-d3ce-2259c06069fa"
      },
      "execution_count": null,
      "outputs": [
        {
          "output_type": "stream",
          "name": "stdout",
          "text": [
            "<class 'torch.Tensor'>\n"
          ]
        }
      ]
    },
    {
      "cell_type": "code",
      "source": [
        "# Check the shape of the torch\n",
        "print(cdataT.shape)"
      ],
      "metadata": {
        "colab": {
          "base_uri": "https://localhost:8080/"
        },
        "id": "8n-nDKjbi3Fp",
        "outputId": "2499ae17-26b6-45e6-d524-d83059c06c09"
      },
      "execution_count": null,
      "outputs": [
        {
          "output_type": "stream",
          "name": "stdout",
          "text": [
            "torch.Size([50000, 32, 32, 3])\n"
          ]
        }
      ]
    },
    {
      "cell_type": "code",
      "source": [
        "# Convert the shape to (Number of pics, number of channels, Number of H pixels, Number of W pixels)\n",
        "\n",
        "numPics = cdataT.data.shape[0]\n",
        "numPixels = cdataT.data.shape[1]\n",
        "numChans = cdataT.data.shape[3]\n",
        "\n",
        "# print(numPics)\n",
        "# print(numPixels)\n",
        "# print(numChans)\n",
        "print('Original data Shape:\\n',cdataT.data.shape)\n",
        "\n",
        "images = cdataT.data.reshape([numPics, numChans, numPixels, numPixels]).float()\n",
        "print('\\nTensor data:\\n',images.shape)"
      ],
      "metadata": {
        "colab": {
          "base_uri": "https://localhost:8080/"
        },
        "id": "GozRMHFri88R",
        "outputId": "6a497f70-c689-438f-c538-b8987b518ec6"
      },
      "execution_count": null,
      "outputs": [
        {
          "output_type": "stream",
          "name": "stdout",
          "text": [
            "Original data Shape:\n",
            " torch.Size([50000, 32, 32, 3])\n",
            "\n",
            "Tensor data:\n",
            " torch.Size([50000, 3, 32, 32])\n"
          ]
        }
      ]
    },
    {
      "cell_type": "code",
      "source": [
        "\n",
        "print(len(cdata.targets))\n",
        "print(type(cdata.targets))\n",
        "print(type(cdata.targets[0]))"
      ],
      "metadata": {
        "colab": {
          "base_uri": "https://localhost:8080/"
        },
        "id": "N4b3goEBjZ2G",
        "outputId": "c7959432-0efd-49a3-ae60-83f25e352229"
      },
      "execution_count": null,
      "outputs": [
        {
          "output_type": "stream",
          "name": "stdout",
          "text": [
            "50000\n",
            "<class 'list'>\n",
            "<class 'int'>\n"
          ]
        }
      ]
    },
    {
      "cell_type": "code",
      "source": [
        "# Converting the targets to torch tensor\n",
        "labelsT = torch.tensor(cdata.targets)\n",
        "print(type(labelsT))\n",
        "print(labelsT.shape)"
      ],
      "metadata": {
        "colab": {
          "base_uri": "https://localhost:8080/"
        },
        "id": "t2qOJIC2lDFl",
        "outputId": "e574ab8f-2967-4558-9749-398c967b496e"
      },
      "execution_count": null,
      "outputs": [
        {
          "output_type": "stream",
          "name": "stdout",
          "text": [
            "<class 'torch.Tensor'>\n",
            "torch.Size([50000])\n"
          ]
        }
      ]
    },
    {
      "cell_type": "code",
      "source": [
        "# Finding the final label for the pics\n",
        "for i in range(10):\n",
        "    print(cdata.classes[cdata.targets[i]])"
      ],
      "metadata": {
        "colab": {
          "base_uri": "https://localhost:8080/"
        },
        "id": "EDRo7_tnmCGi",
        "outputId": "bd31c196-cf52-4362-b756-fefef4d21e84"
      },
      "execution_count": null,
      "outputs": [
        {
          "output_type": "stream",
          "name": "stdout",
          "text": [
            "frog\n",
            "truck\n",
            "truck\n",
            "deer\n",
            "automobile\n",
            "automobile\n",
            "bird\n",
            "horse\n",
            "ship\n",
            "cat\n"
          ]
        }
      ]
    },
    {
      "cell_type": "code",
      "source": [
        "random_list = np.random.randint(1, 100, 10)\n",
        "random_list"
      ],
      "metadata": {
        "colab": {
          "base_uri": "https://localhost:8080/"
        },
        "id": "IXhQ0uc3mOpZ",
        "outputId": "ea973cf3-9c83-42dc-9d7f-a0c221f18bc1"
      },
      "execution_count": null,
      "outputs": [
        {
          "output_type": "execute_result",
          "data": {
            "text/plain": [
              "array([71, 93, 34, 92, 70, 93, 68, 70, 21, 36])"
            ]
          },
          "metadata": {},
          "execution_count": 51
        }
      ]
    },
    {
      "cell_type": "code",
      "source": [
        "# make a visualization of the number of images in each category\n",
        "plt.hist(images[:,:,:,:].view(1,-1).detach(), 10)\n",
        "plt.title('Number of Images in Each category')\n",
        "plt.show()"
      ],
      "metadata": {
        "colab": {
          "base_uri": "https://localhost:8080/",
          "height": 372
        },
        "id": "qM4Y-h7dpRGf",
        "outputId": "6f05c635-df6a-4652-d188-1ff73f078b03"
      },
      "execution_count": null,
      "outputs": [
        {
          "output_type": "display_data",
          "data": {
            "text/plain": [
              "<Figure size 432x288 with 1 Axes>"
            ],
            "image/svg+xml": "<?xml version=\"1.0\" encoding=\"utf-8\" standalone=\"no\"?>\n<!DOCTYPE svg PUBLIC \"-//W3C//DTD SVG 1.1//EN\"\n  \"http://www.w3.org/Graphics/SVG/1.1/DTD/svg11.dtd\">\n<!-- Created with matplotlib (https://matplotlib.org/) -->\n<svg height=\"263.63625pt\" version=\"1.1\" viewBox=\"0 0 372.103125 263.63625\" width=\"372.103125pt\" xmlns=\"http://www.w3.org/2000/svg\" xmlns:xlink=\"http://www.w3.org/1999/xlink\">\n <defs>\n  <style type=\"text/css\">\n*{stroke-linecap:butt;stroke-linejoin:round;}\n  </style>\n </defs>\n <g id=\"figure_1\">\n  <g id=\"patch_1\">\n   <path d=\"M 0 263.63625 \nL 372.103125 263.63625 \nL 372.103125 0 \nL 0 0 \nz\n\" style=\"fill:none;\"/>\n  </g>\n  <g id=\"axes_1\">\n   <g id=\"patch_2\">\n    <path d=\"M 30.103125 239.758125 \nL 364.903125 239.758125 \nL 364.903125 22.318125 \nL 30.103125 22.318125 \nz\n\" style=\"fill:#ffffff;\"/>\n   </g>\n   <g id=\"patch_3\">\n    <path clip-path=\"url(#ped6e510bcf)\" d=\"M 45.321307 239.758125 \nL 75.75767 239.758125 \nL 75.75767 152.259447 \nL 45.321307 152.259447 \nz\n\" style=\"fill:#1f77b4;\"/>\n   </g>\n   <g id=\"patch_4\">\n    <path clip-path=\"url(#ped6e510bcf)\" d=\"M 75.75767 239.758125 \nL 106.194034 239.758125 \nL 106.194034 100.594159 \nL 75.75767 100.594159 \nz\n\" style=\"fill:#1f77b4;\"/>\n   </g>\n   <g id=\"patch_5\">\n    <path clip-path=\"url(#ped6e510bcf)\" d=\"M 106.194034 239.758125 \nL 136.630398 239.758125 \nL 136.630398 54.862365 \nL 106.194034 54.862365 \nz\n\" style=\"fill:#1f77b4;\"/>\n   </g>\n   <g id=\"patch_6\">\n    <path clip-path=\"url(#ped6e510bcf)\" d=\"M 136.630398 239.758125 \nL 167.066761 239.758125 \nL 167.066761 42.657175 \nL 136.630398 42.657175 \nz\n\" style=\"fill:#1f77b4;\"/>\n   </g>\n   <g id=\"patch_7\">\n    <path clip-path=\"url(#ped6e510bcf)\" d=\"M 167.066761 239.758125 \nL 197.503125 239.758125 \nL 197.503125 32.672411 \nL 167.066761 32.672411 \nz\n\" style=\"fill:#1f77b4;\"/>\n   </g>\n   <g id=\"patch_8\">\n    <path clip-path=\"url(#ped6e510bcf)\" d=\"M 197.503125 239.758125 \nL 227.939489 239.758125 \nL 227.939489 56.842169 \nL 197.503125 56.842169 \nz\n\" style=\"fill:#1f77b4;\"/>\n   </g>\n   <g id=\"patch_9\">\n    <path clip-path=\"url(#ped6e510bcf)\" d=\"M 227.939489 239.758125 \nL 258.375852 239.758125 \nL 258.375852 80.121453 \nL 227.939489 80.121453 \nz\n\" style=\"fill:#1f77b4;\"/>\n   </g>\n   <g id=\"patch_10\">\n    <path clip-path=\"url(#ped6e510bcf)\" d=\"M 258.375852 239.758125 \nL 288.812216 239.758125 \nL 288.812216 120.752036 \nL 258.375852 120.752036 \nz\n\" style=\"fill:#1f77b4;\"/>\n   </g>\n   <g id=\"patch_11\">\n    <path clip-path=\"url(#ped6e510bcf)\" d=\"M 288.812216 239.758125 \nL 319.24858 239.758125 \nL 319.24858 148.490865 \nL 288.812216 148.490865 \nz\n\" style=\"fill:#1f77b4;\"/>\n   </g>\n   <g id=\"patch_12\">\n    <path clip-path=\"url(#ped6e510bcf)\" d=\"M 319.24858 239.758125 \nL 349.684943 239.758125 \nL 349.684943 149.048821 \nL 319.24858 149.048821 \nz\n\" style=\"fill:#1f77b4;\"/>\n   </g>\n   <g id=\"matplotlib.axis_1\">\n    <g id=\"xtick_1\">\n     <g id=\"line2d_1\">\n      <defs>\n       <path d=\"M 0 0 \nL 0 3.5 \n\" id=\"mc94e2d17c9\" style=\"stroke:#000000;stroke-width:0.8;\"/>\n      </defs>\n      <g>\n       <use style=\"stroke:#000000;stroke-width:0.8;\" x=\"45.321307\" xlink:href=\"#mc94e2d17c9\" y=\"239.758125\"/>\n      </g>\n     </g>\n     <g id=\"text_1\">\n      <!-- 0 -->\n      <defs>\n       <path d=\"M 31.78125 66.40625 \nQ 24.171875 66.40625 20.328125 58.90625 \nQ 16.5 51.421875 16.5 36.375 \nQ 16.5 21.390625 20.328125 13.890625 \nQ 24.171875 6.390625 31.78125 6.390625 \nQ 39.453125 6.390625 43.28125 13.890625 \nQ 47.125 21.390625 47.125 36.375 \nQ 47.125 51.421875 43.28125 58.90625 \nQ 39.453125 66.40625 31.78125 66.40625 \nz\nM 31.78125 74.21875 \nQ 44.046875 74.21875 50.515625 64.515625 \nQ 56.984375 54.828125 56.984375 36.375 \nQ 56.984375 17.96875 50.515625 8.265625 \nQ 44.046875 -1.421875 31.78125 -1.421875 \nQ 19.53125 -1.421875 13.0625 8.265625 \nQ 6.59375 17.96875 6.59375 36.375 \nQ 6.59375 54.828125 13.0625 64.515625 \nQ 19.53125 74.21875 31.78125 74.21875 \nz\n\" id=\"DejaVuSans-48\"/>\n      </defs>\n      <g transform=\"translate(42.140057 254.356563)scale(0.1 -0.1)\">\n       <use xlink:href=\"#DejaVuSans-48\"/>\n      </g>\n     </g>\n    </g>\n    <g id=\"xtick_2\">\n     <g id=\"line2d_2\">\n      <g>\n       <use style=\"stroke:#000000;stroke-width:0.8;\" x=\"105.000451\" xlink:href=\"#mc94e2d17c9\" y=\"239.758125\"/>\n      </g>\n     </g>\n     <g id=\"text_2\">\n      <!-- 50 -->\n      <defs>\n       <path d=\"M 10.796875 72.90625 \nL 49.515625 72.90625 \nL 49.515625 64.59375 \nL 19.828125 64.59375 \nL 19.828125 46.734375 \nQ 21.96875 47.46875 24.109375 47.828125 \nQ 26.265625 48.1875 28.421875 48.1875 \nQ 40.625 48.1875 47.75 41.5 \nQ 54.890625 34.8125 54.890625 23.390625 \nQ 54.890625 11.625 47.5625 5.09375 \nQ 40.234375 -1.421875 26.90625 -1.421875 \nQ 22.3125 -1.421875 17.546875 -0.640625 \nQ 12.796875 0.140625 7.71875 1.703125 \nL 7.71875 11.625 \nQ 12.109375 9.234375 16.796875 8.0625 \nQ 21.484375 6.890625 26.703125 6.890625 \nQ 35.15625 6.890625 40.078125 11.328125 \nQ 45.015625 15.765625 45.015625 23.390625 \nQ 45.015625 31 40.078125 35.4375 \nQ 35.15625 39.890625 26.703125 39.890625 \nQ 22.75 39.890625 18.8125 39.015625 \nQ 14.890625 38.140625 10.796875 36.28125 \nz\n\" id=\"DejaVuSans-53\"/>\n      </defs>\n      <g transform=\"translate(98.637951 254.356563)scale(0.1 -0.1)\">\n       <use xlink:href=\"#DejaVuSans-53\"/>\n       <use x=\"63.623047\" xlink:href=\"#DejaVuSans-48\"/>\n      </g>\n     </g>\n    </g>\n    <g id=\"xtick_3\">\n     <g id=\"line2d_3\">\n      <g>\n       <use style=\"stroke:#000000;stroke-width:0.8;\" x=\"164.679596\" xlink:href=\"#mc94e2d17c9\" y=\"239.758125\"/>\n      </g>\n     </g>\n     <g id=\"text_3\">\n      <!-- 100 -->\n      <defs>\n       <path d=\"M 12.40625 8.296875 \nL 28.515625 8.296875 \nL 28.515625 63.921875 \nL 10.984375 60.40625 \nL 10.984375 69.390625 \nL 28.421875 72.90625 \nL 38.28125 72.90625 \nL 38.28125 8.296875 \nL 54.390625 8.296875 \nL 54.390625 0 \nL 12.40625 0 \nz\n\" id=\"DejaVuSans-49\"/>\n      </defs>\n      <g transform=\"translate(155.135846 254.356563)scale(0.1 -0.1)\">\n       <use xlink:href=\"#DejaVuSans-49\"/>\n       <use x=\"63.623047\" xlink:href=\"#DejaVuSans-48\"/>\n       <use x=\"127.246094\" xlink:href=\"#DejaVuSans-48\"/>\n      </g>\n     </g>\n    </g>\n    <g id=\"xtick_4\">\n     <g id=\"line2d_4\">\n      <g>\n       <use style=\"stroke:#000000;stroke-width:0.8;\" x=\"224.35874\" xlink:href=\"#mc94e2d17c9\" y=\"239.758125\"/>\n      </g>\n     </g>\n     <g id=\"text_4\">\n      <!-- 150 -->\n      <g transform=\"translate(214.81499 254.356563)scale(0.1 -0.1)\">\n       <use xlink:href=\"#DejaVuSans-49\"/>\n       <use x=\"63.623047\" xlink:href=\"#DejaVuSans-53\"/>\n       <use x=\"127.246094\" xlink:href=\"#DejaVuSans-48\"/>\n      </g>\n     </g>\n    </g>\n    <g id=\"xtick_5\">\n     <g id=\"line2d_5\">\n      <g>\n       <use style=\"stroke:#000000;stroke-width:0.8;\" x=\"284.037884\" xlink:href=\"#mc94e2d17c9\" y=\"239.758125\"/>\n      </g>\n     </g>\n     <g id=\"text_5\">\n      <!-- 200 -->\n      <defs>\n       <path d=\"M 19.1875 8.296875 \nL 53.609375 8.296875 \nL 53.609375 0 \nL 7.328125 0 \nL 7.328125 8.296875 \nQ 12.9375 14.109375 22.625 23.890625 \nQ 32.328125 33.6875 34.8125 36.53125 \nQ 39.546875 41.84375 41.421875 45.53125 \nQ 43.3125 49.21875 43.3125 52.78125 \nQ 43.3125 58.59375 39.234375 62.25 \nQ 35.15625 65.921875 28.609375 65.921875 \nQ 23.96875 65.921875 18.8125 64.3125 \nQ 13.671875 62.703125 7.8125 59.421875 \nL 7.8125 69.390625 \nQ 13.765625 71.78125 18.9375 73 \nQ 24.125 74.21875 28.421875 74.21875 \nQ 39.75 74.21875 46.484375 68.546875 \nQ 53.21875 62.890625 53.21875 53.421875 \nQ 53.21875 48.921875 51.53125 44.890625 \nQ 49.859375 40.875 45.40625 35.40625 \nQ 44.1875 33.984375 37.640625 27.21875 \nQ 31.109375 20.453125 19.1875 8.296875 \nz\n\" id=\"DejaVuSans-50\"/>\n      </defs>\n      <g transform=\"translate(274.494134 254.356563)scale(0.1 -0.1)\">\n       <use xlink:href=\"#DejaVuSans-50\"/>\n       <use x=\"63.623047\" xlink:href=\"#DejaVuSans-48\"/>\n       <use x=\"127.246094\" xlink:href=\"#DejaVuSans-48\"/>\n      </g>\n     </g>\n    </g>\n    <g id=\"xtick_6\">\n     <g id=\"line2d_6\">\n      <g>\n       <use style=\"stroke:#000000;stroke-width:0.8;\" x=\"343.717029\" xlink:href=\"#mc94e2d17c9\" y=\"239.758125\"/>\n      </g>\n     </g>\n     <g id=\"text_6\">\n      <!-- 250 -->\n      <g transform=\"translate(334.173279 254.356563)scale(0.1 -0.1)\">\n       <use xlink:href=\"#DejaVuSans-50\"/>\n       <use x=\"63.623047\" xlink:href=\"#DejaVuSans-53\"/>\n       <use x=\"127.246094\" xlink:href=\"#DejaVuSans-48\"/>\n      </g>\n     </g>\n    </g>\n   </g>\n   <g id=\"matplotlib.axis_2\">\n    <g id=\"ytick_1\">\n     <g id=\"line2d_7\">\n      <defs>\n       <path d=\"M 0 0 \nL -3.5 0 \n\" id=\"mbfc4864d7b\" style=\"stroke:#000000;stroke-width:0.8;\"/>\n      </defs>\n      <g>\n       <use style=\"stroke:#000000;stroke-width:0.8;\" x=\"30.103125\" xlink:href=\"#mbfc4864d7b\" y=\"239.758125\"/>\n      </g>\n     </g>\n     <g id=\"text_7\">\n      <!-- 0.0 -->\n      <defs>\n       <path d=\"M 10.6875 12.40625 \nL 21 12.40625 \nL 21 0 \nL 10.6875 0 \nz\n\" id=\"DejaVuSans-46\"/>\n      </defs>\n      <g transform=\"translate(7.2 243.557344)scale(0.1 -0.1)\">\n       <use xlink:href=\"#DejaVuSans-48\"/>\n       <use x=\"63.623047\" xlink:href=\"#DejaVuSans-46\"/>\n       <use x=\"95.410156\" xlink:href=\"#DejaVuSans-48\"/>\n      </g>\n     </g>\n    </g>\n    <g id=\"ytick_2\">\n     <g id=\"line2d_8\">\n      <g>\n       <use style=\"stroke:#000000;stroke-width:0.8;\" x=\"30.103125\" xlink:href=\"#mbfc4864d7b\" y=\"192.255509\"/>\n      </g>\n     </g>\n     <g id=\"text_8\">\n      <!-- 0.5 -->\n      <g transform=\"translate(7.2 196.054728)scale(0.1 -0.1)\">\n       <use xlink:href=\"#DejaVuSans-48\"/>\n       <use x=\"63.623047\" xlink:href=\"#DejaVuSans-46\"/>\n       <use x=\"95.410156\" xlink:href=\"#DejaVuSans-53\"/>\n      </g>\n     </g>\n    </g>\n    <g id=\"ytick_3\">\n     <g id=\"line2d_9\">\n      <g>\n       <use style=\"stroke:#000000;stroke-width:0.8;\" x=\"30.103125\" xlink:href=\"#mbfc4864d7b\" y=\"144.752894\"/>\n      </g>\n     </g>\n     <g id=\"text_9\">\n      <!-- 1.0 -->\n      <g transform=\"translate(7.2 148.552113)scale(0.1 -0.1)\">\n       <use xlink:href=\"#DejaVuSans-49\"/>\n       <use x=\"63.623047\" xlink:href=\"#DejaVuSans-46\"/>\n       <use x=\"95.410156\" xlink:href=\"#DejaVuSans-48\"/>\n      </g>\n     </g>\n    </g>\n    <g id=\"ytick_4\">\n     <g id=\"line2d_10\">\n      <g>\n       <use style=\"stroke:#000000;stroke-width:0.8;\" x=\"30.103125\" xlink:href=\"#mbfc4864d7b\" y=\"97.250278\"/>\n      </g>\n     </g>\n     <g id=\"text_10\">\n      <!-- 1.5 -->\n      <g transform=\"translate(7.2 101.049497)scale(0.1 -0.1)\">\n       <use xlink:href=\"#DejaVuSans-49\"/>\n       <use x=\"63.623047\" xlink:href=\"#DejaVuSans-46\"/>\n       <use x=\"95.410156\" xlink:href=\"#DejaVuSans-53\"/>\n      </g>\n     </g>\n    </g>\n    <g id=\"ytick_5\">\n     <g id=\"line2d_11\">\n      <g>\n       <use style=\"stroke:#000000;stroke-width:0.8;\" x=\"30.103125\" xlink:href=\"#mbfc4864d7b\" y=\"49.747663\"/>\n      </g>\n     </g>\n     <g id=\"text_11\">\n      <!-- 2.0 -->\n      <g transform=\"translate(7.2 53.546882)scale(0.1 -0.1)\">\n       <use xlink:href=\"#DejaVuSans-50\"/>\n       <use x=\"63.623047\" xlink:href=\"#DejaVuSans-46\"/>\n       <use x=\"95.410156\" xlink:href=\"#DejaVuSans-48\"/>\n      </g>\n     </g>\n    </g>\n    <g id=\"text_12\">\n     <!-- 1e7 -->\n     <defs>\n      <path d=\"M 56.203125 29.59375 \nL 56.203125 25.203125 \nL 14.890625 25.203125 \nQ 15.484375 15.921875 20.484375 11.0625 \nQ 25.484375 6.203125 34.421875 6.203125 \nQ 39.59375 6.203125 44.453125 7.46875 \nQ 49.3125 8.734375 54.109375 11.28125 \nL 54.109375 2.78125 \nQ 49.265625 0.734375 44.1875 -0.34375 \nQ 39.109375 -1.421875 33.890625 -1.421875 \nQ 20.796875 -1.421875 13.15625 6.1875 \nQ 5.515625 13.8125 5.515625 26.8125 \nQ 5.515625 40.234375 12.765625 48.109375 \nQ 20.015625 56 32.328125 56 \nQ 43.359375 56 49.78125 48.890625 \nQ 56.203125 41.796875 56.203125 29.59375 \nz\nM 47.21875 32.234375 \nQ 47.125 39.59375 43.09375 43.984375 \nQ 39.0625 48.390625 32.421875 48.390625 \nQ 24.90625 48.390625 20.390625 44.140625 \nQ 15.875 39.890625 15.1875 32.171875 \nz\n\" id=\"DejaVuSans-101\"/>\n      <path d=\"M 8.203125 72.90625 \nL 55.078125 72.90625 \nL 55.078125 68.703125 \nL 28.609375 0 \nL 18.3125 0 \nL 43.21875 64.59375 \nL 8.203125 64.59375 \nz\n\" id=\"DejaVuSans-55\"/>\n     </defs>\n     <g transform=\"translate(30.103125 19.318125)scale(0.1 -0.1)\">\n      <use xlink:href=\"#DejaVuSans-49\"/>\n      <use x=\"63.623047\" xlink:href=\"#DejaVuSans-101\"/>\n      <use x=\"125.146484\" xlink:href=\"#DejaVuSans-55\"/>\n     </g>\n    </g>\n   </g>\n   <g id=\"patch_13\">\n    <path d=\"M 30.103125 239.758125 \nL 30.103125 22.318125 \n\" style=\"fill:none;stroke:#000000;stroke-linecap:square;stroke-linejoin:miter;stroke-width:0.8;\"/>\n   </g>\n   <g id=\"patch_14\">\n    <path d=\"M 364.903125 239.758125 \nL 364.903125 22.318125 \n\" style=\"fill:none;stroke:#000000;stroke-linecap:square;stroke-linejoin:miter;stroke-width:0.8;\"/>\n   </g>\n   <g id=\"patch_15\">\n    <path d=\"M 30.103125 239.758125 \nL 364.903125 239.758125 \n\" style=\"fill:none;stroke:#000000;stroke-linecap:square;stroke-linejoin:miter;stroke-width:0.8;\"/>\n   </g>\n   <g id=\"patch_16\">\n    <path d=\"M 30.103125 22.318125 \nL 364.903125 22.318125 \n\" style=\"fill:none;stroke:#000000;stroke-linecap:square;stroke-linejoin:miter;stroke-width:0.8;\"/>\n   </g>\n   <g id=\"text_13\">\n    <!-- Number of Images in Each category -->\n    <defs>\n     <path d=\"M 9.8125 72.90625 \nL 23.09375 72.90625 \nL 55.421875 11.921875 \nL 55.421875 72.90625 \nL 64.984375 72.90625 \nL 64.984375 0 \nL 51.703125 0 \nL 19.390625 60.984375 \nL 19.390625 0 \nL 9.8125 0 \nz\n\" id=\"DejaVuSans-78\"/>\n     <path d=\"M 8.5 21.578125 \nL 8.5 54.6875 \nL 17.484375 54.6875 \nL 17.484375 21.921875 \nQ 17.484375 14.15625 20.5 10.265625 \nQ 23.53125 6.390625 29.59375 6.390625 \nQ 36.859375 6.390625 41.078125 11.03125 \nQ 45.3125 15.671875 45.3125 23.6875 \nL 45.3125 54.6875 \nL 54.296875 54.6875 \nL 54.296875 0 \nL 45.3125 0 \nL 45.3125 8.40625 \nQ 42.046875 3.421875 37.71875 1 \nQ 33.40625 -1.421875 27.6875 -1.421875 \nQ 18.265625 -1.421875 13.375 4.4375 \nQ 8.5 10.296875 8.5 21.578125 \nz\nM 31.109375 56 \nz\n\" id=\"DejaVuSans-117\"/>\n     <path d=\"M 52 44.1875 \nQ 55.375 50.25 60.0625 53.125 \nQ 64.75 56 71.09375 56 \nQ 79.640625 56 84.28125 50.015625 \nQ 88.921875 44.046875 88.921875 33.015625 \nL 88.921875 0 \nL 79.890625 0 \nL 79.890625 32.71875 \nQ 79.890625 40.578125 77.09375 44.375 \nQ 74.3125 48.1875 68.609375 48.1875 \nQ 61.625 48.1875 57.5625 43.546875 \nQ 53.515625 38.921875 53.515625 30.90625 \nL 53.515625 0 \nL 44.484375 0 \nL 44.484375 32.71875 \nQ 44.484375 40.625 41.703125 44.40625 \nQ 38.921875 48.1875 33.109375 48.1875 \nQ 26.21875 48.1875 22.15625 43.53125 \nQ 18.109375 38.875 18.109375 30.90625 \nL 18.109375 0 \nL 9.078125 0 \nL 9.078125 54.6875 \nL 18.109375 54.6875 \nL 18.109375 46.1875 \nQ 21.1875 51.21875 25.484375 53.609375 \nQ 29.78125 56 35.6875 56 \nQ 41.65625 56 45.828125 52.96875 \nQ 50 49.953125 52 44.1875 \nz\n\" id=\"DejaVuSans-109\"/>\n     <path d=\"M 48.6875 27.296875 \nQ 48.6875 37.203125 44.609375 42.84375 \nQ 40.53125 48.484375 33.40625 48.484375 \nQ 26.265625 48.484375 22.1875 42.84375 \nQ 18.109375 37.203125 18.109375 27.296875 \nQ 18.109375 17.390625 22.1875 11.75 \nQ 26.265625 6.109375 33.40625 6.109375 \nQ 40.53125 6.109375 44.609375 11.75 \nQ 48.6875 17.390625 48.6875 27.296875 \nz\nM 18.109375 46.390625 \nQ 20.953125 51.265625 25.265625 53.625 \nQ 29.59375 56 35.59375 56 \nQ 45.5625 56 51.78125 48.09375 \nQ 58.015625 40.1875 58.015625 27.296875 \nQ 58.015625 14.40625 51.78125 6.484375 \nQ 45.5625 -1.421875 35.59375 -1.421875 \nQ 29.59375 -1.421875 25.265625 0.953125 \nQ 20.953125 3.328125 18.109375 8.203125 \nL 18.109375 0 \nL 9.078125 0 \nL 9.078125 75.984375 \nL 18.109375 75.984375 \nz\n\" id=\"DejaVuSans-98\"/>\n     <path d=\"M 41.109375 46.296875 \nQ 39.59375 47.171875 37.8125 47.578125 \nQ 36.03125 48 33.890625 48 \nQ 26.265625 48 22.1875 43.046875 \nQ 18.109375 38.09375 18.109375 28.8125 \nL 18.109375 0 \nL 9.078125 0 \nL 9.078125 54.6875 \nL 18.109375 54.6875 \nL 18.109375 46.1875 \nQ 20.953125 51.171875 25.484375 53.578125 \nQ 30.03125 56 36.53125 56 \nQ 37.453125 56 38.578125 55.875 \nQ 39.703125 55.765625 41.0625 55.515625 \nz\n\" id=\"DejaVuSans-114\"/>\n     <path id=\"DejaVuSans-32\"/>\n     <path d=\"M 30.609375 48.390625 \nQ 23.390625 48.390625 19.1875 42.75 \nQ 14.984375 37.109375 14.984375 27.296875 \nQ 14.984375 17.484375 19.15625 11.84375 \nQ 23.34375 6.203125 30.609375 6.203125 \nQ 37.796875 6.203125 41.984375 11.859375 \nQ 46.1875 17.53125 46.1875 27.296875 \nQ 46.1875 37.015625 41.984375 42.703125 \nQ 37.796875 48.390625 30.609375 48.390625 \nz\nM 30.609375 56 \nQ 42.328125 56 49.015625 48.375 \nQ 55.71875 40.765625 55.71875 27.296875 \nQ 55.71875 13.875 49.015625 6.21875 \nQ 42.328125 -1.421875 30.609375 -1.421875 \nQ 18.84375 -1.421875 12.171875 6.21875 \nQ 5.515625 13.875 5.515625 27.296875 \nQ 5.515625 40.765625 12.171875 48.375 \nQ 18.84375 56 30.609375 56 \nz\n\" id=\"DejaVuSans-111\"/>\n     <path d=\"M 37.109375 75.984375 \nL 37.109375 68.5 \nL 28.515625 68.5 \nQ 23.6875 68.5 21.796875 66.546875 \nQ 19.921875 64.59375 19.921875 59.515625 \nL 19.921875 54.6875 \nL 34.71875 54.6875 \nL 34.71875 47.703125 \nL 19.921875 47.703125 \nL 19.921875 0 \nL 10.890625 0 \nL 10.890625 47.703125 \nL 2.296875 47.703125 \nL 2.296875 54.6875 \nL 10.890625 54.6875 \nL 10.890625 58.5 \nQ 10.890625 67.625 15.140625 71.796875 \nQ 19.390625 75.984375 28.609375 75.984375 \nz\n\" id=\"DejaVuSans-102\"/>\n     <path d=\"M 9.8125 72.90625 \nL 19.671875 72.90625 \nL 19.671875 0 \nL 9.8125 0 \nz\n\" id=\"DejaVuSans-73\"/>\n     <path d=\"M 34.28125 27.484375 \nQ 23.390625 27.484375 19.1875 25 \nQ 14.984375 22.515625 14.984375 16.5 \nQ 14.984375 11.71875 18.140625 8.90625 \nQ 21.296875 6.109375 26.703125 6.109375 \nQ 34.1875 6.109375 38.703125 11.40625 \nQ 43.21875 16.703125 43.21875 25.484375 \nL 43.21875 27.484375 \nz\nM 52.203125 31.203125 \nL 52.203125 0 \nL 43.21875 0 \nL 43.21875 8.296875 \nQ 40.140625 3.328125 35.546875 0.953125 \nQ 30.953125 -1.421875 24.3125 -1.421875 \nQ 15.921875 -1.421875 10.953125 3.296875 \nQ 6 8.015625 6 15.921875 \nQ 6 25.140625 12.171875 29.828125 \nQ 18.359375 34.515625 30.609375 34.515625 \nL 43.21875 34.515625 \nL 43.21875 35.40625 \nQ 43.21875 41.609375 39.140625 45 \nQ 35.0625 48.390625 27.6875 48.390625 \nQ 23 48.390625 18.546875 47.265625 \nQ 14.109375 46.140625 10.015625 43.890625 \nL 10.015625 52.203125 \nQ 14.9375 54.109375 19.578125 55.046875 \nQ 24.21875 56 28.609375 56 \nQ 40.484375 56 46.34375 49.84375 \nQ 52.203125 43.703125 52.203125 31.203125 \nz\n\" id=\"DejaVuSans-97\"/>\n     <path d=\"M 45.40625 27.984375 \nQ 45.40625 37.75 41.375 43.109375 \nQ 37.359375 48.484375 30.078125 48.484375 \nQ 22.859375 48.484375 18.828125 43.109375 \nQ 14.796875 37.75 14.796875 27.984375 \nQ 14.796875 18.265625 18.828125 12.890625 \nQ 22.859375 7.515625 30.078125 7.515625 \nQ 37.359375 7.515625 41.375 12.890625 \nQ 45.40625 18.265625 45.40625 27.984375 \nz\nM 54.390625 6.78125 \nQ 54.390625 -7.171875 48.1875 -13.984375 \nQ 42 -20.796875 29.203125 -20.796875 \nQ 24.46875 -20.796875 20.265625 -20.09375 \nQ 16.0625 -19.390625 12.109375 -17.921875 \nL 12.109375 -9.1875 \nQ 16.0625 -11.328125 19.921875 -12.34375 \nQ 23.78125 -13.375 27.78125 -13.375 \nQ 36.625 -13.375 41.015625 -8.765625 \nQ 45.40625 -4.15625 45.40625 5.171875 \nL 45.40625 9.625 \nQ 42.625 4.78125 38.28125 2.390625 \nQ 33.9375 0 27.875 0 \nQ 17.828125 0 11.671875 7.65625 \nQ 5.515625 15.328125 5.515625 27.984375 \nQ 5.515625 40.671875 11.671875 48.328125 \nQ 17.828125 56 27.875 56 \nQ 33.9375 56 38.28125 53.609375 \nQ 42.625 51.21875 45.40625 46.390625 \nL 45.40625 54.6875 \nL 54.390625 54.6875 \nz\n\" id=\"DejaVuSans-103\"/>\n     <path d=\"M 44.28125 53.078125 \nL 44.28125 44.578125 \nQ 40.484375 46.53125 36.375 47.5 \nQ 32.28125 48.484375 27.875 48.484375 \nQ 21.1875 48.484375 17.84375 46.4375 \nQ 14.5 44.390625 14.5 40.28125 \nQ 14.5 37.15625 16.890625 35.375 \nQ 19.28125 33.59375 26.515625 31.984375 \nL 29.59375 31.296875 \nQ 39.15625 29.25 43.1875 25.515625 \nQ 47.21875 21.78125 47.21875 15.09375 \nQ 47.21875 7.46875 41.1875 3.015625 \nQ 35.15625 -1.421875 24.609375 -1.421875 \nQ 20.21875 -1.421875 15.453125 -0.5625 \nQ 10.6875 0.296875 5.421875 2 \nL 5.421875 11.28125 \nQ 10.40625 8.6875 15.234375 7.390625 \nQ 20.0625 6.109375 24.8125 6.109375 \nQ 31.15625 6.109375 34.5625 8.28125 \nQ 37.984375 10.453125 37.984375 14.40625 \nQ 37.984375 18.0625 35.515625 20.015625 \nQ 33.0625 21.96875 24.703125 23.78125 \nL 21.578125 24.515625 \nQ 13.234375 26.265625 9.515625 29.90625 \nQ 5.8125 33.546875 5.8125 39.890625 \nQ 5.8125 47.609375 11.28125 51.796875 \nQ 16.75 56 26.8125 56 \nQ 31.78125 56 36.171875 55.265625 \nQ 40.578125 54.546875 44.28125 53.078125 \nz\n\" id=\"DejaVuSans-115\"/>\n     <path d=\"M 9.421875 54.6875 \nL 18.40625 54.6875 \nL 18.40625 0 \nL 9.421875 0 \nz\nM 9.421875 75.984375 \nL 18.40625 75.984375 \nL 18.40625 64.59375 \nL 9.421875 64.59375 \nz\n\" id=\"DejaVuSans-105\"/>\n     <path d=\"M 54.890625 33.015625 \nL 54.890625 0 \nL 45.90625 0 \nL 45.90625 32.71875 \nQ 45.90625 40.484375 42.875 44.328125 \nQ 39.84375 48.1875 33.796875 48.1875 \nQ 26.515625 48.1875 22.3125 43.546875 \nQ 18.109375 38.921875 18.109375 30.90625 \nL 18.109375 0 \nL 9.078125 0 \nL 9.078125 54.6875 \nL 18.109375 54.6875 \nL 18.109375 46.1875 \nQ 21.34375 51.125 25.703125 53.5625 \nQ 30.078125 56 35.796875 56 \nQ 45.21875 56 50.046875 50.171875 \nQ 54.890625 44.34375 54.890625 33.015625 \nz\n\" id=\"DejaVuSans-110\"/>\n     <path d=\"M 9.8125 72.90625 \nL 55.90625 72.90625 \nL 55.90625 64.59375 \nL 19.671875 64.59375 \nL 19.671875 43.015625 \nL 54.390625 43.015625 \nL 54.390625 34.71875 \nL 19.671875 34.71875 \nL 19.671875 8.296875 \nL 56.78125 8.296875 \nL 56.78125 0 \nL 9.8125 0 \nz\n\" id=\"DejaVuSans-69\"/>\n     <path d=\"M 48.78125 52.59375 \nL 48.78125 44.1875 \nQ 44.96875 46.296875 41.140625 47.34375 \nQ 37.3125 48.390625 33.40625 48.390625 \nQ 24.65625 48.390625 19.8125 42.84375 \nQ 14.984375 37.3125 14.984375 27.296875 \nQ 14.984375 17.28125 19.8125 11.734375 \nQ 24.65625 6.203125 33.40625 6.203125 \nQ 37.3125 6.203125 41.140625 7.25 \nQ 44.96875 8.296875 48.78125 10.40625 \nL 48.78125 2.09375 \nQ 45.015625 0.34375 40.984375 -0.53125 \nQ 36.96875 -1.421875 32.421875 -1.421875 \nQ 20.0625 -1.421875 12.78125 6.34375 \nQ 5.515625 14.109375 5.515625 27.296875 \nQ 5.515625 40.671875 12.859375 48.328125 \nQ 20.21875 56 33.015625 56 \nQ 37.15625 56 41.109375 55.140625 \nQ 45.0625 54.296875 48.78125 52.59375 \nz\n\" id=\"DejaVuSans-99\"/>\n     <path d=\"M 54.890625 33.015625 \nL 54.890625 0 \nL 45.90625 0 \nL 45.90625 32.71875 \nQ 45.90625 40.484375 42.875 44.328125 \nQ 39.84375 48.1875 33.796875 48.1875 \nQ 26.515625 48.1875 22.3125 43.546875 \nQ 18.109375 38.921875 18.109375 30.90625 \nL 18.109375 0 \nL 9.078125 0 \nL 9.078125 75.984375 \nL 18.109375 75.984375 \nL 18.109375 46.1875 \nQ 21.34375 51.125 25.703125 53.5625 \nQ 30.078125 56 35.796875 56 \nQ 45.21875 56 50.046875 50.171875 \nQ 54.890625 44.34375 54.890625 33.015625 \nz\n\" id=\"DejaVuSans-104\"/>\n     <path d=\"M 18.3125 70.21875 \nL 18.3125 54.6875 \nL 36.8125 54.6875 \nL 36.8125 47.703125 \nL 18.3125 47.703125 \nL 18.3125 18.015625 \nQ 18.3125 11.328125 20.140625 9.421875 \nQ 21.96875 7.515625 27.59375 7.515625 \nL 36.8125 7.515625 \nL 36.8125 0 \nL 27.59375 0 \nQ 17.1875 0 13.234375 3.875 \nQ 9.28125 7.765625 9.28125 18.015625 \nL 9.28125 47.703125 \nL 2.6875 47.703125 \nL 2.6875 54.6875 \nL 9.28125 54.6875 \nL 9.28125 70.21875 \nz\n\" id=\"DejaVuSans-116\"/>\n     <path d=\"M 32.171875 -5.078125 \nQ 28.375 -14.84375 24.75 -17.8125 \nQ 21.140625 -20.796875 15.09375 -20.796875 \nL 7.90625 -20.796875 \nL 7.90625 -13.28125 \nL 13.1875 -13.28125 \nQ 16.890625 -13.28125 18.9375 -11.515625 \nQ 21 -9.765625 23.484375 -3.21875 \nL 25.09375 0.875 \nL 2.984375 54.6875 \nL 12.5 54.6875 \nL 29.59375 11.921875 \nL 46.6875 54.6875 \nL 56.203125 54.6875 \nz\n\" id=\"DejaVuSans-121\"/>\n    </defs>\n    <g transform=\"translate(89.607188 16.318125)scale(0.12 -0.12)\">\n     <use xlink:href=\"#DejaVuSans-78\"/>\n     <use x=\"74.804688\" xlink:href=\"#DejaVuSans-117\"/>\n     <use x=\"138.183594\" xlink:href=\"#DejaVuSans-109\"/>\n     <use x=\"235.595703\" xlink:href=\"#DejaVuSans-98\"/>\n     <use x=\"299.072266\" xlink:href=\"#DejaVuSans-101\"/>\n     <use x=\"360.595703\" xlink:href=\"#DejaVuSans-114\"/>\n     <use x=\"401.708984\" xlink:href=\"#DejaVuSans-32\"/>\n     <use x=\"433.496094\" xlink:href=\"#DejaVuSans-111\"/>\n     <use x=\"494.677734\" xlink:href=\"#DejaVuSans-102\"/>\n     <use x=\"529.882812\" xlink:href=\"#DejaVuSans-32\"/>\n     <use x=\"561.669922\" xlink:href=\"#DejaVuSans-73\"/>\n     <use x=\"591.162109\" xlink:href=\"#DejaVuSans-109\"/>\n     <use x=\"688.574219\" xlink:href=\"#DejaVuSans-97\"/>\n     <use x=\"749.853516\" xlink:href=\"#DejaVuSans-103\"/>\n     <use x=\"813.330078\" xlink:href=\"#DejaVuSans-101\"/>\n     <use x=\"874.853516\" xlink:href=\"#DejaVuSans-115\"/>\n     <use x=\"926.953125\" xlink:href=\"#DejaVuSans-32\"/>\n     <use x=\"958.740234\" xlink:href=\"#DejaVuSans-105\"/>\n     <use x=\"986.523438\" xlink:href=\"#DejaVuSans-110\"/>\n     <use x=\"1049.902344\" xlink:href=\"#DejaVuSans-32\"/>\n     <use x=\"1081.689453\" xlink:href=\"#DejaVuSans-69\"/>\n     <use x=\"1144.873047\" xlink:href=\"#DejaVuSans-97\"/>\n     <use x=\"1206.152344\" xlink:href=\"#DejaVuSans-99\"/>\n     <use x=\"1261.132812\" xlink:href=\"#DejaVuSans-104\"/>\n     <use x=\"1324.511719\" xlink:href=\"#DejaVuSans-32\"/>\n     <use x=\"1356.298828\" xlink:href=\"#DejaVuSans-99\"/>\n     <use x=\"1411.279297\" xlink:href=\"#DejaVuSans-97\"/>\n     <use x=\"1472.558594\" xlink:href=\"#DejaVuSans-116\"/>\n     <use x=\"1511.767578\" xlink:href=\"#DejaVuSans-101\"/>\n     <use x=\"1573.291016\" xlink:href=\"#DejaVuSans-103\"/>\n     <use x=\"1636.767578\" xlink:href=\"#DejaVuSans-111\"/>\n     <use x=\"1697.949219\" xlink:href=\"#DejaVuSans-114\"/>\n     <use x=\"1739.0625\" xlink:href=\"#DejaVuSans-121\"/>\n    </g>\n   </g>\n  </g>\n </g>\n <defs>\n  <clipPath id=\"ped6e510bcf\">\n   <rect height=\"217.44\" width=\"334.8\" x=\"30.103125\" y=\"22.318125\"/>\n  </clipPath>\n </defs>\n</svg>\n"
          },
          "metadata": {
            "needs_background": "light"
          }
        }
      ]
    },
    {
      "cell_type": "code",
      "source": [
        "plt.hist(labelsT.view(1,-1).detach(), 10)\n",
        "plt.title('Number of pics in each category')\n",
        "plt.xticks(ticks = range(0,10))\n",
        "plt.show()"
      ],
      "metadata": {
        "colab": {
          "base_uri": "https://localhost:8080/",
          "height": 372
        },
        "id": "9Y_aBYpkpUGf",
        "outputId": "9441136e-c740-44cc-f9f0-5642ce1a8349"
      },
      "execution_count": null,
      "outputs": [
        {
          "output_type": "display_data",
          "data": {
            "text/plain": [
              "<Figure size 432x288 with 1 Axes>"
            ],
            "image/svg+xml": "<?xml version=\"1.0\" encoding=\"utf-8\" standalone=\"no\"?>\n<!DOCTYPE svg PUBLIC \"-//W3C//DTD SVG 1.1//EN\"\n  \"http://www.w3.org/Graphics/SVG/1.1/DTD/svg11.dtd\">\n<!-- Created with matplotlib (https://matplotlib.org/) -->\n<svg height=\"263.63625pt\" version=\"1.1\" viewBox=\"0 0 381.65 263.63625\" width=\"381.65pt\" xmlns=\"http://www.w3.org/2000/svg\" xmlns:xlink=\"http://www.w3.org/1999/xlink\">\n <defs>\n  <style type=\"text/css\">\n*{stroke-linecap:butt;stroke-linejoin:round;}\n  </style>\n </defs>\n <g id=\"figure_1\">\n  <g id=\"patch_1\">\n   <path d=\"M -0 263.63625 \nL 381.65 263.63625 \nL 381.65 0 \nL -0 0 \nz\n\" style=\"fill:none;\"/>\n  </g>\n  <g id=\"axes_1\">\n   <g id=\"patch_2\">\n    <path d=\"M 39.65 239.758125 \nL 374.45 239.758125 \nL 374.45 22.318125 \nL 39.65 22.318125 \nz\n\" style=\"fill:#ffffff;\"/>\n   </g>\n   <g id=\"patch_3\">\n    <path clip-path=\"url(#pa799ad3439)\" d=\"M 54.868182 239.758125 \nL 85.304545 239.758125 \nL 85.304545 32.672411 \nL 54.868182 32.672411 \nz\n\" style=\"fill:#1f77b4;\"/>\n   </g>\n   <g id=\"patch_4\">\n    <path clip-path=\"url(#pa799ad3439)\" d=\"M 85.304545 239.758125 \nL 115.740909 239.758125 \nL 115.740909 32.672411 \nL 85.304545 32.672411 \nz\n\" style=\"fill:#1f77b4;\"/>\n   </g>\n   <g id=\"patch_5\">\n    <path clip-path=\"url(#pa799ad3439)\" d=\"M 115.740909 239.758125 \nL 146.177273 239.758125 \nL 146.177273 32.672411 \nL 115.740909 32.672411 \nz\n\" style=\"fill:#1f77b4;\"/>\n   </g>\n   <g id=\"patch_6\">\n    <path clip-path=\"url(#pa799ad3439)\" d=\"M 146.177273 239.758125 \nL 176.613636 239.758125 \nL 176.613636 32.672411 \nL 146.177273 32.672411 \nz\n\" style=\"fill:#1f77b4;\"/>\n   </g>\n   <g id=\"patch_7\">\n    <path clip-path=\"url(#pa799ad3439)\" d=\"M 176.613636 239.758125 \nL 207.05 239.758125 \nL 207.05 32.672411 \nL 176.613636 32.672411 \nz\n\" style=\"fill:#1f77b4;\"/>\n   </g>\n   <g id=\"patch_8\">\n    <path clip-path=\"url(#pa799ad3439)\" d=\"M 207.05 239.758125 \nL 237.486364 239.758125 \nL 237.486364 32.672411 \nL 207.05 32.672411 \nz\n\" style=\"fill:#1f77b4;\"/>\n   </g>\n   <g id=\"patch_9\">\n    <path clip-path=\"url(#pa799ad3439)\" d=\"M 237.486364 239.758125 \nL 267.922727 239.758125 \nL 267.922727 32.672411 \nL 237.486364 32.672411 \nz\n\" style=\"fill:#1f77b4;\"/>\n   </g>\n   <g id=\"patch_10\">\n    <path clip-path=\"url(#pa799ad3439)\" d=\"M 267.922727 239.758125 \nL 298.359091 239.758125 \nL 298.359091 32.672411 \nL 267.922727 32.672411 \nz\n\" style=\"fill:#1f77b4;\"/>\n   </g>\n   <g id=\"patch_11\">\n    <path clip-path=\"url(#pa799ad3439)\" d=\"M 298.359091 239.758125 \nL 328.795455 239.758125 \nL 328.795455 32.672411 \nL 298.359091 32.672411 \nz\n\" style=\"fill:#1f77b4;\"/>\n   </g>\n   <g id=\"patch_12\">\n    <path clip-path=\"url(#pa799ad3439)\" d=\"M 328.795455 239.758125 \nL 359.231818 239.758125 \nL 359.231818 32.672411 \nL 328.795455 32.672411 \nz\n\" style=\"fill:#1f77b4;\"/>\n   </g>\n   <g id=\"matplotlib.axis_1\">\n    <g id=\"xtick_1\">\n     <g id=\"line2d_1\">\n      <defs>\n       <path d=\"M 0 0 \nL 0 3.5 \n\" id=\"mb77c165518\" style=\"stroke:#000000;stroke-width:0.8;\"/>\n      </defs>\n      <g>\n       <use style=\"stroke:#000000;stroke-width:0.8;\" x=\"54.868182\" xlink:href=\"#mb77c165518\" y=\"239.758125\"/>\n      </g>\n     </g>\n     <g id=\"text_1\">\n      <!-- 0 -->\n      <defs>\n       <path d=\"M 31.78125 66.40625 \nQ 24.171875 66.40625 20.328125 58.90625 \nQ 16.5 51.421875 16.5 36.375 \nQ 16.5 21.390625 20.328125 13.890625 \nQ 24.171875 6.390625 31.78125 6.390625 \nQ 39.453125 6.390625 43.28125 13.890625 \nQ 47.125 21.390625 47.125 36.375 \nQ 47.125 51.421875 43.28125 58.90625 \nQ 39.453125 66.40625 31.78125 66.40625 \nz\nM 31.78125 74.21875 \nQ 44.046875 74.21875 50.515625 64.515625 \nQ 56.984375 54.828125 56.984375 36.375 \nQ 56.984375 17.96875 50.515625 8.265625 \nQ 44.046875 -1.421875 31.78125 -1.421875 \nQ 19.53125 -1.421875 13.0625 8.265625 \nQ 6.59375 17.96875 6.59375 36.375 \nQ 6.59375 54.828125 13.0625 64.515625 \nQ 19.53125 74.21875 31.78125 74.21875 \nz\n\" id=\"DejaVuSans-48\"/>\n      </defs>\n      <g transform=\"translate(51.686932 254.356563)scale(0.1 -0.1)\">\n       <use xlink:href=\"#DejaVuSans-48\"/>\n      </g>\n     </g>\n    </g>\n    <g id=\"xtick_2\">\n     <g id=\"line2d_2\">\n      <g>\n       <use style=\"stroke:#000000;stroke-width:0.8;\" x=\"88.686364\" xlink:href=\"#mb77c165518\" y=\"239.758125\"/>\n      </g>\n     </g>\n     <g id=\"text_2\">\n      <!-- 1 -->\n      <defs>\n       <path d=\"M 12.40625 8.296875 \nL 28.515625 8.296875 \nL 28.515625 63.921875 \nL 10.984375 60.40625 \nL 10.984375 69.390625 \nL 28.421875 72.90625 \nL 38.28125 72.90625 \nL 38.28125 8.296875 \nL 54.390625 8.296875 \nL 54.390625 0 \nL 12.40625 0 \nz\n\" id=\"DejaVuSans-49\"/>\n      </defs>\n      <g transform=\"translate(85.505114 254.356563)scale(0.1 -0.1)\">\n       <use xlink:href=\"#DejaVuSans-49\"/>\n      </g>\n     </g>\n    </g>\n    <g id=\"xtick_3\">\n     <g id=\"line2d_3\">\n      <g>\n       <use style=\"stroke:#000000;stroke-width:0.8;\" x=\"122.504545\" xlink:href=\"#mb77c165518\" y=\"239.758125\"/>\n      </g>\n     </g>\n     <g id=\"text_3\">\n      <!-- 2 -->\n      <defs>\n       <path d=\"M 19.1875 8.296875 \nL 53.609375 8.296875 \nL 53.609375 0 \nL 7.328125 0 \nL 7.328125 8.296875 \nQ 12.9375 14.109375 22.625 23.890625 \nQ 32.328125 33.6875 34.8125 36.53125 \nQ 39.546875 41.84375 41.421875 45.53125 \nQ 43.3125 49.21875 43.3125 52.78125 \nQ 43.3125 58.59375 39.234375 62.25 \nQ 35.15625 65.921875 28.609375 65.921875 \nQ 23.96875 65.921875 18.8125 64.3125 \nQ 13.671875 62.703125 7.8125 59.421875 \nL 7.8125 69.390625 \nQ 13.765625 71.78125 18.9375 73 \nQ 24.125 74.21875 28.421875 74.21875 \nQ 39.75 74.21875 46.484375 68.546875 \nQ 53.21875 62.890625 53.21875 53.421875 \nQ 53.21875 48.921875 51.53125 44.890625 \nQ 49.859375 40.875 45.40625 35.40625 \nQ 44.1875 33.984375 37.640625 27.21875 \nQ 31.109375 20.453125 19.1875 8.296875 \nz\n\" id=\"DejaVuSans-50\"/>\n      </defs>\n      <g transform=\"translate(119.323295 254.356563)scale(0.1 -0.1)\">\n       <use xlink:href=\"#DejaVuSans-50\"/>\n      </g>\n     </g>\n    </g>\n    <g id=\"xtick_4\">\n     <g id=\"line2d_4\">\n      <g>\n       <use style=\"stroke:#000000;stroke-width:0.8;\" x=\"156.322727\" xlink:href=\"#mb77c165518\" y=\"239.758125\"/>\n      </g>\n     </g>\n     <g id=\"text_4\">\n      <!-- 3 -->\n      <defs>\n       <path d=\"M 40.578125 39.3125 \nQ 47.65625 37.796875 51.625 33 \nQ 55.609375 28.21875 55.609375 21.1875 \nQ 55.609375 10.40625 48.1875 4.484375 \nQ 40.765625 -1.421875 27.09375 -1.421875 \nQ 22.515625 -1.421875 17.65625 -0.515625 \nQ 12.796875 0.390625 7.625 2.203125 \nL 7.625 11.71875 \nQ 11.71875 9.328125 16.59375 8.109375 \nQ 21.484375 6.890625 26.8125 6.890625 \nQ 36.078125 6.890625 40.9375 10.546875 \nQ 45.796875 14.203125 45.796875 21.1875 \nQ 45.796875 27.640625 41.28125 31.265625 \nQ 36.765625 34.90625 28.71875 34.90625 \nL 20.21875 34.90625 \nL 20.21875 43.015625 \nL 29.109375 43.015625 \nQ 36.375 43.015625 40.234375 45.921875 \nQ 44.09375 48.828125 44.09375 54.296875 \nQ 44.09375 59.90625 40.109375 62.90625 \nQ 36.140625 65.921875 28.71875 65.921875 \nQ 24.65625 65.921875 20.015625 65.03125 \nQ 15.375 64.15625 9.8125 62.3125 \nL 9.8125 71.09375 \nQ 15.4375 72.65625 20.34375 73.4375 \nQ 25.25 74.21875 29.59375 74.21875 \nQ 40.828125 74.21875 47.359375 69.109375 \nQ 53.90625 64.015625 53.90625 55.328125 \nQ 53.90625 49.265625 50.4375 45.09375 \nQ 46.96875 40.921875 40.578125 39.3125 \nz\n\" id=\"DejaVuSans-51\"/>\n      </defs>\n      <g transform=\"translate(153.141477 254.356563)scale(0.1 -0.1)\">\n       <use xlink:href=\"#DejaVuSans-51\"/>\n      </g>\n     </g>\n    </g>\n    <g id=\"xtick_5\">\n     <g id=\"line2d_5\">\n      <g>\n       <use style=\"stroke:#000000;stroke-width:0.8;\" x=\"190.140909\" xlink:href=\"#mb77c165518\" y=\"239.758125\"/>\n      </g>\n     </g>\n     <g id=\"text_5\">\n      <!-- 4 -->\n      <defs>\n       <path d=\"M 37.796875 64.3125 \nL 12.890625 25.390625 \nL 37.796875 25.390625 \nz\nM 35.203125 72.90625 \nL 47.609375 72.90625 \nL 47.609375 25.390625 \nL 58.015625 25.390625 \nL 58.015625 17.1875 \nL 47.609375 17.1875 \nL 47.609375 0 \nL 37.796875 0 \nL 37.796875 17.1875 \nL 4.890625 17.1875 \nL 4.890625 26.703125 \nz\n\" id=\"DejaVuSans-52\"/>\n      </defs>\n      <g transform=\"translate(186.959659 254.356563)scale(0.1 -0.1)\">\n       <use xlink:href=\"#DejaVuSans-52\"/>\n      </g>\n     </g>\n    </g>\n    <g id=\"xtick_6\">\n     <g id=\"line2d_6\">\n      <g>\n       <use style=\"stroke:#000000;stroke-width:0.8;\" x=\"223.959091\" xlink:href=\"#mb77c165518\" y=\"239.758125\"/>\n      </g>\n     </g>\n     <g id=\"text_6\">\n      <!-- 5 -->\n      <defs>\n       <path d=\"M 10.796875 72.90625 \nL 49.515625 72.90625 \nL 49.515625 64.59375 \nL 19.828125 64.59375 \nL 19.828125 46.734375 \nQ 21.96875 47.46875 24.109375 47.828125 \nQ 26.265625 48.1875 28.421875 48.1875 \nQ 40.625 48.1875 47.75 41.5 \nQ 54.890625 34.8125 54.890625 23.390625 \nQ 54.890625 11.625 47.5625 5.09375 \nQ 40.234375 -1.421875 26.90625 -1.421875 \nQ 22.3125 -1.421875 17.546875 -0.640625 \nQ 12.796875 0.140625 7.71875 1.703125 \nL 7.71875 11.625 \nQ 12.109375 9.234375 16.796875 8.0625 \nQ 21.484375 6.890625 26.703125 6.890625 \nQ 35.15625 6.890625 40.078125 11.328125 \nQ 45.015625 15.765625 45.015625 23.390625 \nQ 45.015625 31 40.078125 35.4375 \nQ 35.15625 39.890625 26.703125 39.890625 \nQ 22.75 39.890625 18.8125 39.015625 \nQ 14.890625 38.140625 10.796875 36.28125 \nz\n\" id=\"DejaVuSans-53\"/>\n      </defs>\n      <g transform=\"translate(220.777841 254.356563)scale(0.1 -0.1)\">\n       <use xlink:href=\"#DejaVuSans-53\"/>\n      </g>\n     </g>\n    </g>\n    <g id=\"xtick_7\">\n     <g id=\"line2d_7\">\n      <g>\n       <use style=\"stroke:#000000;stroke-width:0.8;\" x=\"257.777273\" xlink:href=\"#mb77c165518\" y=\"239.758125\"/>\n      </g>\n     </g>\n     <g id=\"text_7\">\n      <!-- 6 -->\n      <defs>\n       <path d=\"M 33.015625 40.375 \nQ 26.375 40.375 22.484375 35.828125 \nQ 18.609375 31.296875 18.609375 23.390625 \nQ 18.609375 15.53125 22.484375 10.953125 \nQ 26.375 6.390625 33.015625 6.390625 \nQ 39.65625 6.390625 43.53125 10.953125 \nQ 47.40625 15.53125 47.40625 23.390625 \nQ 47.40625 31.296875 43.53125 35.828125 \nQ 39.65625 40.375 33.015625 40.375 \nz\nM 52.59375 71.296875 \nL 52.59375 62.3125 \nQ 48.875 64.0625 45.09375 64.984375 \nQ 41.3125 65.921875 37.59375 65.921875 \nQ 27.828125 65.921875 22.671875 59.328125 \nQ 17.53125 52.734375 16.796875 39.40625 \nQ 19.671875 43.65625 24.015625 45.921875 \nQ 28.375 48.1875 33.59375 48.1875 \nQ 44.578125 48.1875 50.953125 41.515625 \nQ 57.328125 34.859375 57.328125 23.390625 \nQ 57.328125 12.15625 50.6875 5.359375 \nQ 44.046875 -1.421875 33.015625 -1.421875 \nQ 20.359375 -1.421875 13.671875 8.265625 \nQ 6.984375 17.96875 6.984375 36.375 \nQ 6.984375 53.65625 15.1875 63.9375 \nQ 23.390625 74.21875 37.203125 74.21875 \nQ 40.921875 74.21875 44.703125 73.484375 \nQ 48.484375 72.75 52.59375 71.296875 \nz\n\" id=\"DejaVuSans-54\"/>\n      </defs>\n      <g transform=\"translate(254.596023 254.356563)scale(0.1 -0.1)\">\n       <use xlink:href=\"#DejaVuSans-54\"/>\n      </g>\n     </g>\n    </g>\n    <g id=\"xtick_8\">\n     <g id=\"line2d_8\">\n      <g>\n       <use style=\"stroke:#000000;stroke-width:0.8;\" x=\"291.595455\" xlink:href=\"#mb77c165518\" y=\"239.758125\"/>\n      </g>\n     </g>\n     <g id=\"text_8\">\n      <!-- 7 -->\n      <defs>\n       <path d=\"M 8.203125 72.90625 \nL 55.078125 72.90625 \nL 55.078125 68.703125 \nL 28.609375 0 \nL 18.3125 0 \nL 43.21875 64.59375 \nL 8.203125 64.59375 \nz\n\" id=\"DejaVuSans-55\"/>\n      </defs>\n      <g transform=\"translate(288.414205 254.356563)scale(0.1 -0.1)\">\n       <use xlink:href=\"#DejaVuSans-55\"/>\n      </g>\n     </g>\n    </g>\n    <g id=\"xtick_9\">\n     <g id=\"line2d_9\">\n      <g>\n       <use style=\"stroke:#000000;stroke-width:0.8;\" x=\"325.413636\" xlink:href=\"#mb77c165518\" y=\"239.758125\"/>\n      </g>\n     </g>\n     <g id=\"text_9\">\n      <!-- 8 -->\n      <defs>\n       <path d=\"M 31.78125 34.625 \nQ 24.75 34.625 20.71875 30.859375 \nQ 16.703125 27.09375 16.703125 20.515625 \nQ 16.703125 13.921875 20.71875 10.15625 \nQ 24.75 6.390625 31.78125 6.390625 \nQ 38.8125 6.390625 42.859375 10.171875 \nQ 46.921875 13.96875 46.921875 20.515625 \nQ 46.921875 27.09375 42.890625 30.859375 \nQ 38.875 34.625 31.78125 34.625 \nz\nM 21.921875 38.8125 \nQ 15.578125 40.375 12.03125 44.71875 \nQ 8.5 49.078125 8.5 55.328125 \nQ 8.5 64.0625 14.71875 69.140625 \nQ 20.953125 74.21875 31.78125 74.21875 \nQ 42.671875 74.21875 48.875 69.140625 \nQ 55.078125 64.0625 55.078125 55.328125 \nQ 55.078125 49.078125 51.53125 44.71875 \nQ 48 40.375 41.703125 38.8125 \nQ 48.828125 37.15625 52.796875 32.3125 \nQ 56.78125 27.484375 56.78125 20.515625 \nQ 56.78125 9.90625 50.3125 4.234375 \nQ 43.84375 -1.421875 31.78125 -1.421875 \nQ 19.734375 -1.421875 13.25 4.234375 \nQ 6.78125 9.90625 6.78125 20.515625 \nQ 6.78125 27.484375 10.78125 32.3125 \nQ 14.796875 37.15625 21.921875 38.8125 \nz\nM 18.3125 54.390625 \nQ 18.3125 48.734375 21.84375 45.5625 \nQ 25.390625 42.390625 31.78125 42.390625 \nQ 38.140625 42.390625 41.71875 45.5625 \nQ 45.3125 48.734375 45.3125 54.390625 \nQ 45.3125 60.0625 41.71875 63.234375 \nQ 38.140625 66.40625 31.78125 66.40625 \nQ 25.390625 66.40625 21.84375 63.234375 \nQ 18.3125 60.0625 18.3125 54.390625 \nz\n\" id=\"DejaVuSans-56\"/>\n      </defs>\n      <g transform=\"translate(322.232386 254.356563)scale(0.1 -0.1)\">\n       <use xlink:href=\"#DejaVuSans-56\"/>\n      </g>\n     </g>\n    </g>\n    <g id=\"xtick_10\">\n     <g id=\"line2d_10\">\n      <g>\n       <use style=\"stroke:#000000;stroke-width:0.8;\" x=\"359.231818\" xlink:href=\"#mb77c165518\" y=\"239.758125\"/>\n      </g>\n     </g>\n     <g id=\"text_10\">\n      <!-- 9 -->\n      <defs>\n       <path d=\"M 10.984375 1.515625 \nL 10.984375 10.5 \nQ 14.703125 8.734375 18.5 7.8125 \nQ 22.3125 6.890625 25.984375 6.890625 \nQ 35.75 6.890625 40.890625 13.453125 \nQ 46.046875 20.015625 46.78125 33.40625 \nQ 43.953125 29.203125 39.59375 26.953125 \nQ 35.25 24.703125 29.984375 24.703125 \nQ 19.046875 24.703125 12.671875 31.3125 \nQ 6.296875 37.9375 6.296875 49.421875 \nQ 6.296875 60.640625 12.9375 67.421875 \nQ 19.578125 74.21875 30.609375 74.21875 \nQ 43.265625 74.21875 49.921875 64.515625 \nQ 56.59375 54.828125 56.59375 36.375 \nQ 56.59375 19.140625 48.40625 8.859375 \nQ 40.234375 -1.421875 26.421875 -1.421875 \nQ 22.703125 -1.421875 18.890625 -0.6875 \nQ 15.09375 0.046875 10.984375 1.515625 \nz\nM 30.609375 32.421875 \nQ 37.25 32.421875 41.125 36.953125 \nQ 45.015625 41.5 45.015625 49.421875 \nQ 45.015625 57.28125 41.125 61.84375 \nQ 37.25 66.40625 30.609375 66.40625 \nQ 23.96875 66.40625 20.09375 61.84375 \nQ 16.21875 57.28125 16.21875 49.421875 \nQ 16.21875 41.5 20.09375 36.953125 \nQ 23.96875 32.421875 30.609375 32.421875 \nz\n\" id=\"DejaVuSans-57\"/>\n      </defs>\n      <g transform=\"translate(356.050568 254.356563)scale(0.1 -0.1)\">\n       <use xlink:href=\"#DejaVuSans-57\"/>\n      </g>\n     </g>\n    </g>\n   </g>\n   <g id=\"matplotlib.axis_2\">\n    <g id=\"ytick_1\">\n     <g id=\"line2d_11\">\n      <defs>\n       <path d=\"M 0 0 \nL -3.5 0 \n\" id=\"ma936365d0a\" style=\"stroke:#000000;stroke-width:0.8;\"/>\n      </defs>\n      <g>\n       <use style=\"stroke:#000000;stroke-width:0.8;\" x=\"39.65\" xlink:href=\"#ma936365d0a\" y=\"239.758125\"/>\n      </g>\n     </g>\n     <g id=\"text_11\">\n      <!-- 0 -->\n      <g transform=\"translate(26.2875 243.557344)scale(0.1 -0.1)\">\n       <use xlink:href=\"#DejaVuSans-48\"/>\n      </g>\n     </g>\n    </g>\n    <g id=\"ytick_2\">\n     <g id=\"line2d_12\">\n      <g>\n       <use style=\"stroke:#000000;stroke-width:0.8;\" x=\"39.65\" xlink:href=\"#ma936365d0a\" y=\"198.340982\"/>\n      </g>\n     </g>\n     <g id=\"text_12\">\n      <!-- 1000 -->\n      <g transform=\"translate(7.2 202.140201)scale(0.1 -0.1)\">\n       <use xlink:href=\"#DejaVuSans-49\"/>\n       <use x=\"63.623047\" xlink:href=\"#DejaVuSans-48\"/>\n       <use x=\"127.246094\" xlink:href=\"#DejaVuSans-48\"/>\n       <use x=\"190.869141\" xlink:href=\"#DejaVuSans-48\"/>\n      </g>\n     </g>\n    </g>\n    <g id=\"ytick_3\">\n     <g id=\"line2d_13\">\n      <g>\n       <use style=\"stroke:#000000;stroke-width:0.8;\" x=\"39.65\" xlink:href=\"#ma936365d0a\" y=\"156.923839\"/>\n      </g>\n     </g>\n     <g id=\"text_13\">\n      <!-- 2000 -->\n      <g transform=\"translate(7.2 160.723058)scale(0.1 -0.1)\">\n       <use xlink:href=\"#DejaVuSans-50\"/>\n       <use x=\"63.623047\" xlink:href=\"#DejaVuSans-48\"/>\n       <use x=\"127.246094\" xlink:href=\"#DejaVuSans-48\"/>\n       <use x=\"190.869141\" xlink:href=\"#DejaVuSans-48\"/>\n      </g>\n     </g>\n    </g>\n    <g id=\"ytick_4\">\n     <g id=\"line2d_14\">\n      <g>\n       <use style=\"stroke:#000000;stroke-width:0.8;\" x=\"39.65\" xlink:href=\"#ma936365d0a\" y=\"115.506696\"/>\n      </g>\n     </g>\n     <g id=\"text_14\">\n      <!-- 3000 -->\n      <g transform=\"translate(7.2 119.305915)scale(0.1 -0.1)\">\n       <use xlink:href=\"#DejaVuSans-51\"/>\n       <use x=\"63.623047\" xlink:href=\"#DejaVuSans-48\"/>\n       <use x=\"127.246094\" xlink:href=\"#DejaVuSans-48\"/>\n       <use x=\"190.869141\" xlink:href=\"#DejaVuSans-48\"/>\n      </g>\n     </g>\n    </g>\n    <g id=\"ytick_5\">\n     <g id=\"line2d_15\">\n      <g>\n       <use style=\"stroke:#000000;stroke-width:0.8;\" x=\"39.65\" xlink:href=\"#ma936365d0a\" y=\"74.089554\"/>\n      </g>\n     </g>\n     <g id=\"text_15\">\n      <!-- 4000 -->\n      <g transform=\"translate(7.2 77.888772)scale(0.1 -0.1)\">\n       <use xlink:href=\"#DejaVuSans-52\"/>\n       <use x=\"63.623047\" xlink:href=\"#DejaVuSans-48\"/>\n       <use x=\"127.246094\" xlink:href=\"#DejaVuSans-48\"/>\n       <use x=\"190.869141\" xlink:href=\"#DejaVuSans-48\"/>\n      </g>\n     </g>\n    </g>\n    <g id=\"ytick_6\">\n     <g id=\"line2d_16\">\n      <g>\n       <use style=\"stroke:#000000;stroke-width:0.8;\" x=\"39.65\" xlink:href=\"#ma936365d0a\" y=\"32.672411\"/>\n      </g>\n     </g>\n     <g id=\"text_16\">\n      <!-- 5000 -->\n      <g transform=\"translate(7.2 36.471629)scale(0.1 -0.1)\">\n       <use xlink:href=\"#DejaVuSans-53\"/>\n       <use x=\"63.623047\" xlink:href=\"#DejaVuSans-48\"/>\n       <use x=\"127.246094\" xlink:href=\"#DejaVuSans-48\"/>\n       <use x=\"190.869141\" xlink:href=\"#DejaVuSans-48\"/>\n      </g>\n     </g>\n    </g>\n   </g>\n   <g id=\"patch_13\">\n    <path d=\"M 39.65 239.758125 \nL 39.65 22.318125 \n\" style=\"fill:none;stroke:#000000;stroke-linecap:square;stroke-linejoin:miter;stroke-width:0.8;\"/>\n   </g>\n   <g id=\"patch_14\">\n    <path d=\"M 374.45 239.758125 \nL 374.45 22.318125 \n\" style=\"fill:none;stroke:#000000;stroke-linecap:square;stroke-linejoin:miter;stroke-width:0.8;\"/>\n   </g>\n   <g id=\"patch_15\">\n    <path d=\"M 39.65 239.758125 \nL 374.45 239.758125 \n\" style=\"fill:none;stroke:#000000;stroke-linecap:square;stroke-linejoin:miter;stroke-width:0.8;\"/>\n   </g>\n   <g id=\"patch_16\">\n    <path d=\"M 39.65 22.318125 \nL 374.45 22.318125 \n\" style=\"fill:none;stroke:#000000;stroke-linecap:square;stroke-linejoin:miter;stroke-width:0.8;\"/>\n   </g>\n   <g id=\"text_17\">\n    <!-- Number of pics in each category -->\n    <defs>\n     <path d=\"M 9.8125 72.90625 \nL 23.09375 72.90625 \nL 55.421875 11.921875 \nL 55.421875 72.90625 \nL 64.984375 72.90625 \nL 64.984375 0 \nL 51.703125 0 \nL 19.390625 60.984375 \nL 19.390625 0 \nL 9.8125 0 \nz\n\" id=\"DejaVuSans-78\"/>\n     <path d=\"M 8.5 21.578125 \nL 8.5 54.6875 \nL 17.484375 54.6875 \nL 17.484375 21.921875 \nQ 17.484375 14.15625 20.5 10.265625 \nQ 23.53125 6.390625 29.59375 6.390625 \nQ 36.859375 6.390625 41.078125 11.03125 \nQ 45.3125 15.671875 45.3125 23.6875 \nL 45.3125 54.6875 \nL 54.296875 54.6875 \nL 54.296875 0 \nL 45.3125 0 \nL 45.3125 8.40625 \nQ 42.046875 3.421875 37.71875 1 \nQ 33.40625 -1.421875 27.6875 -1.421875 \nQ 18.265625 -1.421875 13.375 4.4375 \nQ 8.5 10.296875 8.5 21.578125 \nz\nM 31.109375 56 \nz\n\" id=\"DejaVuSans-117\"/>\n     <path d=\"M 52 44.1875 \nQ 55.375 50.25 60.0625 53.125 \nQ 64.75 56 71.09375 56 \nQ 79.640625 56 84.28125 50.015625 \nQ 88.921875 44.046875 88.921875 33.015625 \nL 88.921875 0 \nL 79.890625 0 \nL 79.890625 32.71875 \nQ 79.890625 40.578125 77.09375 44.375 \nQ 74.3125 48.1875 68.609375 48.1875 \nQ 61.625 48.1875 57.5625 43.546875 \nQ 53.515625 38.921875 53.515625 30.90625 \nL 53.515625 0 \nL 44.484375 0 \nL 44.484375 32.71875 \nQ 44.484375 40.625 41.703125 44.40625 \nQ 38.921875 48.1875 33.109375 48.1875 \nQ 26.21875 48.1875 22.15625 43.53125 \nQ 18.109375 38.875 18.109375 30.90625 \nL 18.109375 0 \nL 9.078125 0 \nL 9.078125 54.6875 \nL 18.109375 54.6875 \nL 18.109375 46.1875 \nQ 21.1875 51.21875 25.484375 53.609375 \nQ 29.78125 56 35.6875 56 \nQ 41.65625 56 45.828125 52.96875 \nQ 50 49.953125 52 44.1875 \nz\n\" id=\"DejaVuSans-109\"/>\n     <path d=\"M 48.6875 27.296875 \nQ 48.6875 37.203125 44.609375 42.84375 \nQ 40.53125 48.484375 33.40625 48.484375 \nQ 26.265625 48.484375 22.1875 42.84375 \nQ 18.109375 37.203125 18.109375 27.296875 \nQ 18.109375 17.390625 22.1875 11.75 \nQ 26.265625 6.109375 33.40625 6.109375 \nQ 40.53125 6.109375 44.609375 11.75 \nQ 48.6875 17.390625 48.6875 27.296875 \nz\nM 18.109375 46.390625 \nQ 20.953125 51.265625 25.265625 53.625 \nQ 29.59375 56 35.59375 56 \nQ 45.5625 56 51.78125 48.09375 \nQ 58.015625 40.1875 58.015625 27.296875 \nQ 58.015625 14.40625 51.78125 6.484375 \nQ 45.5625 -1.421875 35.59375 -1.421875 \nQ 29.59375 -1.421875 25.265625 0.953125 \nQ 20.953125 3.328125 18.109375 8.203125 \nL 18.109375 0 \nL 9.078125 0 \nL 9.078125 75.984375 \nL 18.109375 75.984375 \nz\n\" id=\"DejaVuSans-98\"/>\n     <path d=\"M 56.203125 29.59375 \nL 56.203125 25.203125 \nL 14.890625 25.203125 \nQ 15.484375 15.921875 20.484375 11.0625 \nQ 25.484375 6.203125 34.421875 6.203125 \nQ 39.59375 6.203125 44.453125 7.46875 \nQ 49.3125 8.734375 54.109375 11.28125 \nL 54.109375 2.78125 \nQ 49.265625 0.734375 44.1875 -0.34375 \nQ 39.109375 -1.421875 33.890625 -1.421875 \nQ 20.796875 -1.421875 13.15625 6.1875 \nQ 5.515625 13.8125 5.515625 26.8125 \nQ 5.515625 40.234375 12.765625 48.109375 \nQ 20.015625 56 32.328125 56 \nQ 43.359375 56 49.78125 48.890625 \nQ 56.203125 41.796875 56.203125 29.59375 \nz\nM 47.21875 32.234375 \nQ 47.125 39.59375 43.09375 43.984375 \nQ 39.0625 48.390625 32.421875 48.390625 \nQ 24.90625 48.390625 20.390625 44.140625 \nQ 15.875 39.890625 15.1875 32.171875 \nz\n\" id=\"DejaVuSans-101\"/>\n     <path d=\"M 41.109375 46.296875 \nQ 39.59375 47.171875 37.8125 47.578125 \nQ 36.03125 48 33.890625 48 \nQ 26.265625 48 22.1875 43.046875 \nQ 18.109375 38.09375 18.109375 28.8125 \nL 18.109375 0 \nL 9.078125 0 \nL 9.078125 54.6875 \nL 18.109375 54.6875 \nL 18.109375 46.1875 \nQ 20.953125 51.171875 25.484375 53.578125 \nQ 30.03125 56 36.53125 56 \nQ 37.453125 56 38.578125 55.875 \nQ 39.703125 55.765625 41.0625 55.515625 \nz\n\" id=\"DejaVuSans-114\"/>\n     <path id=\"DejaVuSans-32\"/>\n     <path d=\"M 30.609375 48.390625 \nQ 23.390625 48.390625 19.1875 42.75 \nQ 14.984375 37.109375 14.984375 27.296875 \nQ 14.984375 17.484375 19.15625 11.84375 \nQ 23.34375 6.203125 30.609375 6.203125 \nQ 37.796875 6.203125 41.984375 11.859375 \nQ 46.1875 17.53125 46.1875 27.296875 \nQ 46.1875 37.015625 41.984375 42.703125 \nQ 37.796875 48.390625 30.609375 48.390625 \nz\nM 30.609375 56 \nQ 42.328125 56 49.015625 48.375 \nQ 55.71875 40.765625 55.71875 27.296875 \nQ 55.71875 13.875 49.015625 6.21875 \nQ 42.328125 -1.421875 30.609375 -1.421875 \nQ 18.84375 -1.421875 12.171875 6.21875 \nQ 5.515625 13.875 5.515625 27.296875 \nQ 5.515625 40.765625 12.171875 48.375 \nQ 18.84375 56 30.609375 56 \nz\n\" id=\"DejaVuSans-111\"/>\n     <path d=\"M 37.109375 75.984375 \nL 37.109375 68.5 \nL 28.515625 68.5 \nQ 23.6875 68.5 21.796875 66.546875 \nQ 19.921875 64.59375 19.921875 59.515625 \nL 19.921875 54.6875 \nL 34.71875 54.6875 \nL 34.71875 47.703125 \nL 19.921875 47.703125 \nL 19.921875 0 \nL 10.890625 0 \nL 10.890625 47.703125 \nL 2.296875 47.703125 \nL 2.296875 54.6875 \nL 10.890625 54.6875 \nL 10.890625 58.5 \nQ 10.890625 67.625 15.140625 71.796875 \nQ 19.390625 75.984375 28.609375 75.984375 \nz\n\" id=\"DejaVuSans-102\"/>\n     <path d=\"M 18.109375 8.203125 \nL 18.109375 -20.796875 \nL 9.078125 -20.796875 \nL 9.078125 54.6875 \nL 18.109375 54.6875 \nL 18.109375 46.390625 \nQ 20.953125 51.265625 25.265625 53.625 \nQ 29.59375 56 35.59375 56 \nQ 45.5625 56 51.78125 48.09375 \nQ 58.015625 40.1875 58.015625 27.296875 \nQ 58.015625 14.40625 51.78125 6.484375 \nQ 45.5625 -1.421875 35.59375 -1.421875 \nQ 29.59375 -1.421875 25.265625 0.953125 \nQ 20.953125 3.328125 18.109375 8.203125 \nz\nM 48.6875 27.296875 \nQ 48.6875 37.203125 44.609375 42.84375 \nQ 40.53125 48.484375 33.40625 48.484375 \nQ 26.265625 48.484375 22.1875 42.84375 \nQ 18.109375 37.203125 18.109375 27.296875 \nQ 18.109375 17.390625 22.1875 11.75 \nQ 26.265625 6.109375 33.40625 6.109375 \nQ 40.53125 6.109375 44.609375 11.75 \nQ 48.6875 17.390625 48.6875 27.296875 \nz\n\" id=\"DejaVuSans-112\"/>\n     <path d=\"M 9.421875 54.6875 \nL 18.40625 54.6875 \nL 18.40625 0 \nL 9.421875 0 \nz\nM 9.421875 75.984375 \nL 18.40625 75.984375 \nL 18.40625 64.59375 \nL 9.421875 64.59375 \nz\n\" id=\"DejaVuSans-105\"/>\n     <path d=\"M 48.78125 52.59375 \nL 48.78125 44.1875 \nQ 44.96875 46.296875 41.140625 47.34375 \nQ 37.3125 48.390625 33.40625 48.390625 \nQ 24.65625 48.390625 19.8125 42.84375 \nQ 14.984375 37.3125 14.984375 27.296875 \nQ 14.984375 17.28125 19.8125 11.734375 \nQ 24.65625 6.203125 33.40625 6.203125 \nQ 37.3125 6.203125 41.140625 7.25 \nQ 44.96875 8.296875 48.78125 10.40625 \nL 48.78125 2.09375 \nQ 45.015625 0.34375 40.984375 -0.53125 \nQ 36.96875 -1.421875 32.421875 -1.421875 \nQ 20.0625 -1.421875 12.78125 6.34375 \nQ 5.515625 14.109375 5.515625 27.296875 \nQ 5.515625 40.671875 12.859375 48.328125 \nQ 20.21875 56 33.015625 56 \nQ 37.15625 56 41.109375 55.140625 \nQ 45.0625 54.296875 48.78125 52.59375 \nz\n\" id=\"DejaVuSans-99\"/>\n     <path d=\"M 44.28125 53.078125 \nL 44.28125 44.578125 \nQ 40.484375 46.53125 36.375 47.5 \nQ 32.28125 48.484375 27.875 48.484375 \nQ 21.1875 48.484375 17.84375 46.4375 \nQ 14.5 44.390625 14.5 40.28125 \nQ 14.5 37.15625 16.890625 35.375 \nQ 19.28125 33.59375 26.515625 31.984375 \nL 29.59375 31.296875 \nQ 39.15625 29.25 43.1875 25.515625 \nQ 47.21875 21.78125 47.21875 15.09375 \nQ 47.21875 7.46875 41.1875 3.015625 \nQ 35.15625 -1.421875 24.609375 -1.421875 \nQ 20.21875 -1.421875 15.453125 -0.5625 \nQ 10.6875 0.296875 5.421875 2 \nL 5.421875 11.28125 \nQ 10.40625 8.6875 15.234375 7.390625 \nQ 20.0625 6.109375 24.8125 6.109375 \nQ 31.15625 6.109375 34.5625 8.28125 \nQ 37.984375 10.453125 37.984375 14.40625 \nQ 37.984375 18.0625 35.515625 20.015625 \nQ 33.0625 21.96875 24.703125 23.78125 \nL 21.578125 24.515625 \nQ 13.234375 26.265625 9.515625 29.90625 \nQ 5.8125 33.546875 5.8125 39.890625 \nQ 5.8125 47.609375 11.28125 51.796875 \nQ 16.75 56 26.8125 56 \nQ 31.78125 56 36.171875 55.265625 \nQ 40.578125 54.546875 44.28125 53.078125 \nz\n\" id=\"DejaVuSans-115\"/>\n     <path d=\"M 54.890625 33.015625 \nL 54.890625 0 \nL 45.90625 0 \nL 45.90625 32.71875 \nQ 45.90625 40.484375 42.875 44.328125 \nQ 39.84375 48.1875 33.796875 48.1875 \nQ 26.515625 48.1875 22.3125 43.546875 \nQ 18.109375 38.921875 18.109375 30.90625 \nL 18.109375 0 \nL 9.078125 0 \nL 9.078125 54.6875 \nL 18.109375 54.6875 \nL 18.109375 46.1875 \nQ 21.34375 51.125 25.703125 53.5625 \nQ 30.078125 56 35.796875 56 \nQ 45.21875 56 50.046875 50.171875 \nQ 54.890625 44.34375 54.890625 33.015625 \nz\n\" id=\"DejaVuSans-110\"/>\n     <path d=\"M 34.28125 27.484375 \nQ 23.390625 27.484375 19.1875 25 \nQ 14.984375 22.515625 14.984375 16.5 \nQ 14.984375 11.71875 18.140625 8.90625 \nQ 21.296875 6.109375 26.703125 6.109375 \nQ 34.1875 6.109375 38.703125 11.40625 \nQ 43.21875 16.703125 43.21875 25.484375 \nL 43.21875 27.484375 \nz\nM 52.203125 31.203125 \nL 52.203125 0 \nL 43.21875 0 \nL 43.21875 8.296875 \nQ 40.140625 3.328125 35.546875 0.953125 \nQ 30.953125 -1.421875 24.3125 -1.421875 \nQ 15.921875 -1.421875 10.953125 3.296875 \nQ 6 8.015625 6 15.921875 \nQ 6 25.140625 12.171875 29.828125 \nQ 18.359375 34.515625 30.609375 34.515625 \nL 43.21875 34.515625 \nL 43.21875 35.40625 \nQ 43.21875 41.609375 39.140625 45 \nQ 35.0625 48.390625 27.6875 48.390625 \nQ 23 48.390625 18.546875 47.265625 \nQ 14.109375 46.140625 10.015625 43.890625 \nL 10.015625 52.203125 \nQ 14.9375 54.109375 19.578125 55.046875 \nQ 24.21875 56 28.609375 56 \nQ 40.484375 56 46.34375 49.84375 \nQ 52.203125 43.703125 52.203125 31.203125 \nz\n\" id=\"DejaVuSans-97\"/>\n     <path d=\"M 54.890625 33.015625 \nL 54.890625 0 \nL 45.90625 0 \nL 45.90625 32.71875 \nQ 45.90625 40.484375 42.875 44.328125 \nQ 39.84375 48.1875 33.796875 48.1875 \nQ 26.515625 48.1875 22.3125 43.546875 \nQ 18.109375 38.921875 18.109375 30.90625 \nL 18.109375 0 \nL 9.078125 0 \nL 9.078125 75.984375 \nL 18.109375 75.984375 \nL 18.109375 46.1875 \nQ 21.34375 51.125 25.703125 53.5625 \nQ 30.078125 56 35.796875 56 \nQ 45.21875 56 50.046875 50.171875 \nQ 54.890625 44.34375 54.890625 33.015625 \nz\n\" id=\"DejaVuSans-104\"/>\n     <path d=\"M 18.3125 70.21875 \nL 18.3125 54.6875 \nL 36.8125 54.6875 \nL 36.8125 47.703125 \nL 18.3125 47.703125 \nL 18.3125 18.015625 \nQ 18.3125 11.328125 20.140625 9.421875 \nQ 21.96875 7.515625 27.59375 7.515625 \nL 36.8125 7.515625 \nL 36.8125 0 \nL 27.59375 0 \nQ 17.1875 0 13.234375 3.875 \nQ 9.28125 7.765625 9.28125 18.015625 \nL 9.28125 47.703125 \nL 2.6875 47.703125 \nL 2.6875 54.6875 \nL 9.28125 54.6875 \nL 9.28125 70.21875 \nz\n\" id=\"DejaVuSans-116\"/>\n     <path d=\"M 45.40625 27.984375 \nQ 45.40625 37.75 41.375 43.109375 \nQ 37.359375 48.484375 30.078125 48.484375 \nQ 22.859375 48.484375 18.828125 43.109375 \nQ 14.796875 37.75 14.796875 27.984375 \nQ 14.796875 18.265625 18.828125 12.890625 \nQ 22.859375 7.515625 30.078125 7.515625 \nQ 37.359375 7.515625 41.375 12.890625 \nQ 45.40625 18.265625 45.40625 27.984375 \nz\nM 54.390625 6.78125 \nQ 54.390625 -7.171875 48.1875 -13.984375 \nQ 42 -20.796875 29.203125 -20.796875 \nQ 24.46875 -20.796875 20.265625 -20.09375 \nQ 16.0625 -19.390625 12.109375 -17.921875 \nL 12.109375 -9.1875 \nQ 16.0625 -11.328125 19.921875 -12.34375 \nQ 23.78125 -13.375 27.78125 -13.375 \nQ 36.625 -13.375 41.015625 -8.765625 \nQ 45.40625 -4.15625 45.40625 5.171875 \nL 45.40625 9.625 \nQ 42.625 4.78125 38.28125 2.390625 \nQ 33.9375 0 27.875 0 \nQ 17.828125 0 11.671875 7.65625 \nQ 5.515625 15.328125 5.515625 27.984375 \nQ 5.515625 40.671875 11.671875 48.328125 \nQ 17.828125 56 27.875 56 \nQ 33.9375 56 38.28125 53.609375 \nQ 42.625 51.21875 45.40625 46.390625 \nL 45.40625 54.6875 \nL 54.390625 54.6875 \nz\n\" id=\"DejaVuSans-103\"/>\n     <path d=\"M 32.171875 -5.078125 \nQ 28.375 -14.84375 24.75 -17.8125 \nQ 21.140625 -20.796875 15.09375 -20.796875 \nL 7.90625 -20.796875 \nL 7.90625 -13.28125 \nL 13.1875 -13.28125 \nQ 16.890625 -13.28125 18.9375 -11.515625 \nQ 21 -9.765625 23.484375 -3.21875 \nL 25.09375 0.875 \nL 2.984375 54.6875 \nL 12.5 54.6875 \nL 29.59375 11.921875 \nL 46.6875 54.6875 \nL 56.203125 54.6875 \nz\n\" id=\"DejaVuSans-121\"/>\n    </defs>\n    <g transform=\"translate(109.270625 16.318125)scale(0.12 -0.12)\">\n     <use xlink:href=\"#DejaVuSans-78\"/>\n     <use x=\"74.804688\" xlink:href=\"#DejaVuSans-117\"/>\n     <use x=\"138.183594\" xlink:href=\"#DejaVuSans-109\"/>\n     <use x=\"235.595703\" xlink:href=\"#DejaVuSans-98\"/>\n     <use x=\"299.072266\" xlink:href=\"#DejaVuSans-101\"/>\n     <use x=\"360.595703\" xlink:href=\"#DejaVuSans-114\"/>\n     <use x=\"401.708984\" xlink:href=\"#DejaVuSans-32\"/>\n     <use x=\"433.496094\" xlink:href=\"#DejaVuSans-111\"/>\n     <use x=\"494.677734\" xlink:href=\"#DejaVuSans-102\"/>\n     <use x=\"529.882812\" xlink:href=\"#DejaVuSans-32\"/>\n     <use x=\"561.669922\" xlink:href=\"#DejaVuSans-112\"/>\n     <use x=\"625.146484\" xlink:href=\"#DejaVuSans-105\"/>\n     <use x=\"652.929688\" xlink:href=\"#DejaVuSans-99\"/>\n     <use x=\"707.910156\" xlink:href=\"#DejaVuSans-115\"/>\n     <use x=\"760.009766\" xlink:href=\"#DejaVuSans-32\"/>\n     <use x=\"791.796875\" xlink:href=\"#DejaVuSans-105\"/>\n     <use x=\"819.580078\" xlink:href=\"#DejaVuSans-110\"/>\n     <use x=\"882.958984\" xlink:href=\"#DejaVuSans-32\"/>\n     <use x=\"914.746094\" xlink:href=\"#DejaVuSans-101\"/>\n     <use x=\"976.269531\" xlink:href=\"#DejaVuSans-97\"/>\n     <use x=\"1037.548828\" xlink:href=\"#DejaVuSans-99\"/>\n     <use x=\"1092.529297\" xlink:href=\"#DejaVuSans-104\"/>\n     <use x=\"1155.908203\" xlink:href=\"#DejaVuSans-32\"/>\n     <use x=\"1187.695312\" xlink:href=\"#DejaVuSans-99\"/>\n     <use x=\"1242.675781\" xlink:href=\"#DejaVuSans-97\"/>\n     <use x=\"1303.955078\" xlink:href=\"#DejaVuSans-116\"/>\n     <use x=\"1343.164062\" xlink:href=\"#DejaVuSans-101\"/>\n     <use x=\"1404.6875\" xlink:href=\"#DejaVuSans-103\"/>\n     <use x=\"1468.164062\" xlink:href=\"#DejaVuSans-111\"/>\n     <use x=\"1529.345703\" xlink:href=\"#DejaVuSans-114\"/>\n     <use x=\"1570.458984\" xlink:href=\"#DejaVuSans-121\"/>\n    </g>\n   </g>\n  </g>\n </g>\n <defs>\n  <clipPath id=\"pa799ad3439\">\n   <rect height=\"217.44\" width=\"334.8\" x=\"39.65\" y=\"22.318125\"/>\n  </clipPath>\n </defs>\n</svg>\n"
          },
          "metadata": {
            "needs_background": "light"
          }
        }
      ]
    },
    {
      "cell_type": "markdown",
      "source": [
        "# Program start"
      ],
      "metadata": {
        "id": "I-s1jBQXmtry"
      }
    },
    {
      "cell_type": "code",
      "source": [
        "# import libraries\n",
        "import numpy as np\n",
        "\n",
        "import torch\n",
        "import torch.nn as nn\n",
        "import torch.nn.functional as F\n",
        "import copy\n",
        "from sklearn.model_selection import train_test_split\n",
        "\n",
        "# for importing data\n",
        "import torchvision\n",
        "import torchvision.transforms as T\n",
        "from torch.utils.data import TensorDataset,DataLoader\n",
        "\n",
        "import matplotlib.pyplot as plt\n",
        "from IPython import display\n",
        "display.set_matplotlib_formats('svg')\n",
        "\n",
        "# for getting summary info on models\n",
        "from torchsummary import summary"
      ],
      "metadata": {
        "id": "GnSeylUzmvbE"
      },
      "execution_count": 27,
      "outputs": []
    },
    {
      "cell_type": "code",
      "source": [
        "# download the CIFAR10 dataset\n",
        "\n",
        "cdata = torchvision.datasets.CIFAR10(root= 'cifar10', download= True)\n",
        "\n",
        "print(cdata)"
      ],
      "metadata": {
        "colab": {
          "base_uri": "https://localhost:8080/"
        },
        "id": "8K2m1uZhmy5x",
        "outputId": "1895fd3f-bcd7-4b15-e7c6-a24c3bf5b3ef"
      },
      "execution_count": 28,
      "outputs": [
        {
          "output_type": "stream",
          "name": "stdout",
          "text": [
            "Files already downloaded and verified\n",
            "Dataset CIFAR10\n",
            "    Number of datapoints: 50000\n",
            "    Root location: cifar10\n",
            "    Split: Train\n"
          ]
        }
      ]
    },
    {
      "cell_type": "code",
      "source": [
        "# inspect the data\n",
        "\n",
        "# the categories (but how many letters??)\n",
        "print(cdata.classes)\n",
        "print(str(len(cdata.classes)) + ' classes')\n",
        "\n",
        "print('\\nData size:')\n",
        "print(cdata.data.shape)\n",
        "\n",
        "# .targets is a list of targets converted to ints\n",
        "print(len(cdata.targets))\n",
        "print(type(cdata.data))\n",
        "\n",
        "# Creating variables for data reshaping\n",
        "numPics = cdata.data.shape[0]\n",
        "numPixels = cdata.data.shape[1]\n",
        "numChans = cdata.data.shape[3]\n",
        "\n",
        "# Converting numpy array to torch Tensor\n",
        "cdataT = torch.from_numpy(cdata.data)\n",
        "print(type(cdataT))\n",
        "\n",
        "# Convert the shape to (Number of pics, number of channels, Number of H pixels, Number of W pixels)\n",
        "\n",
        "print('\\nOriginal data Shape:\\n',cdataT.data.shape)\n",
        "\n",
        "\n",
        "images = cdataT.data.reshape([numPics, numChans, numPixels, numPixels]).float()\n",
        "print('\\nTensor data:\\n',images.shape)"
      ],
      "metadata": {
        "colab": {
          "base_uri": "https://localhost:8080/"
        },
        "id": "g5eV-57lnAbO",
        "outputId": "fa74393c-a367-4740-af63-6394d75db1da"
      },
      "execution_count": 29,
      "outputs": [
        {
          "output_type": "stream",
          "name": "stdout",
          "text": [
            "['airplane', 'automobile', 'bird', 'cat', 'deer', 'dog', 'frog', 'horse', 'ship', 'truck']\n",
            "10 classes\n",
            "\n",
            "Data size:\n",
            "(50000, 32, 32, 3)\n",
            "50000\n",
            "<class 'numpy.ndarray'>\n",
            "<class 'torch.Tensor'>\n",
            "\n",
            "Original data Shape:\n",
            " torch.Size([50000, 32, 32, 3])\n",
            "\n",
            "Tensor data:\n",
            " torch.Size([50000, 3, 32, 32])\n"
          ]
        }
      ]
    },
    {
      "cell_type": "code",
      "source": [
        "# Converting the targets to torch tensor\n",
        "labelsT = torch.tensor(cdata.targets).long()\n",
        "print(type(labelsT))\n",
        "print(labelsT.shape)\n",
        "print(torch.unique(labelsT))"
      ],
      "metadata": {
        "colab": {
          "base_uri": "https://localhost:8080/"
        },
        "id": "VpaaehDlnDs3",
        "outputId": "456271e5-a300-4716-9981-61a2fe3c7dcf"
      },
      "execution_count": 30,
      "outputs": [
        {
          "output_type": "stream",
          "name": "stdout",
          "text": [
            "<class 'torch.Tensor'>\n",
            "torch.Size([50000])\n",
            "tensor([0, 1, 2, 3, 4, 5, 6, 7, 8, 9])\n"
          ]
        }
      ]
    },
    {
      "cell_type": "code",
      "source": [
        "# Finding the final label for the pics\n",
        "random_list = np.random.randint(1, 100, 10)\n",
        "for i in random_list:\n",
        "    print(cdata.classes[cdata.targets[i]])"
      ],
      "metadata": {
        "colab": {
          "base_uri": "https://localhost:8080/"
        },
        "id": "lgfXONnRnZ_9",
        "outputId": "5eacc850-d1b8-4f13-ab5b-6847db06ec27"
      },
      "execution_count": 31,
      "outputs": [
        {
          "output_type": "stream",
          "name": "stdout",
          "text": [
            "deer\n",
            "deer\n",
            "bird\n",
            "horse\n",
            "airplane\n",
            "automobile\n",
            "horse\n",
            "automobile\n",
            "deer\n",
            "cat\n"
          ]
        }
      ]
    },
    {
      "cell_type": "code",
      "source": [
        "plt.hist(labelsT.view(1,-1).detach(), 10)\n",
        "plt.title('Number of pics in each category')\n",
        "plt.xticks(ticks = range(0,10))\n",
        "plt.show()"
      ],
      "metadata": {
        "colab": {
          "base_uri": "https://localhost:8080/",
          "height": 372
        },
        "id": "4BnSrcswoPRi",
        "outputId": "87f35cae-3737-4f1d-c9f5-1231a8fea6c4"
      },
      "execution_count": 32,
      "outputs": [
        {
          "output_type": "display_data",
          "data": {
            "text/plain": [
              "<Figure size 432x288 with 1 Axes>"
            ],
            "image/svg+xml": "<?xml version=\"1.0\" encoding=\"utf-8\" standalone=\"no\"?>\n<!DOCTYPE svg PUBLIC \"-//W3C//DTD SVG 1.1//EN\"\n  \"http://www.w3.org/Graphics/SVG/1.1/DTD/svg11.dtd\">\n<!-- Created with matplotlib (https://matplotlib.org/) -->\n<svg height=\"263.63625pt\" version=\"1.1\" viewBox=\"0 0 381.65 263.63625\" width=\"381.65pt\" xmlns=\"http://www.w3.org/2000/svg\" xmlns:xlink=\"http://www.w3.org/1999/xlink\">\n <defs>\n  <style type=\"text/css\">\n*{stroke-linecap:butt;stroke-linejoin:round;}\n  </style>\n </defs>\n <g id=\"figure_1\">\n  <g id=\"patch_1\">\n   <path d=\"M -0 263.63625 \nL 381.65 263.63625 \nL 381.65 0 \nL -0 0 \nz\n\" style=\"fill:none;\"/>\n  </g>\n  <g id=\"axes_1\">\n   <g id=\"patch_2\">\n    <path d=\"M 39.65 239.758125 \nL 374.45 239.758125 \nL 374.45 22.318125 \nL 39.65 22.318125 \nz\n\" style=\"fill:#ffffff;\"/>\n   </g>\n   <g id=\"patch_3\">\n    <path clip-path=\"url(#p5fc08811ba)\" d=\"M 54.868182 239.758125 \nL 85.304545 239.758125 \nL 85.304545 32.672411 \nL 54.868182 32.672411 \nz\n\" style=\"fill:#1f77b4;\"/>\n   </g>\n   <g id=\"patch_4\">\n    <path clip-path=\"url(#p5fc08811ba)\" d=\"M 85.304545 239.758125 \nL 115.740909 239.758125 \nL 115.740909 32.672411 \nL 85.304545 32.672411 \nz\n\" style=\"fill:#1f77b4;\"/>\n   </g>\n   <g id=\"patch_5\">\n    <path clip-path=\"url(#p5fc08811ba)\" d=\"M 115.740909 239.758125 \nL 146.177273 239.758125 \nL 146.177273 32.672411 \nL 115.740909 32.672411 \nz\n\" style=\"fill:#1f77b4;\"/>\n   </g>\n   <g id=\"patch_6\">\n    <path clip-path=\"url(#p5fc08811ba)\" d=\"M 146.177273 239.758125 \nL 176.613636 239.758125 \nL 176.613636 32.672411 \nL 146.177273 32.672411 \nz\n\" style=\"fill:#1f77b4;\"/>\n   </g>\n   <g id=\"patch_7\">\n    <path clip-path=\"url(#p5fc08811ba)\" d=\"M 176.613636 239.758125 \nL 207.05 239.758125 \nL 207.05 32.672411 \nL 176.613636 32.672411 \nz\n\" style=\"fill:#1f77b4;\"/>\n   </g>\n   <g id=\"patch_8\">\n    <path clip-path=\"url(#p5fc08811ba)\" d=\"M 207.05 239.758125 \nL 237.486364 239.758125 \nL 237.486364 32.672411 \nL 207.05 32.672411 \nz\n\" style=\"fill:#1f77b4;\"/>\n   </g>\n   <g id=\"patch_9\">\n    <path clip-path=\"url(#p5fc08811ba)\" d=\"M 237.486364 239.758125 \nL 267.922727 239.758125 \nL 267.922727 32.672411 \nL 237.486364 32.672411 \nz\n\" style=\"fill:#1f77b4;\"/>\n   </g>\n   <g id=\"patch_10\">\n    <path clip-path=\"url(#p5fc08811ba)\" d=\"M 267.922727 239.758125 \nL 298.359091 239.758125 \nL 298.359091 32.672411 \nL 267.922727 32.672411 \nz\n\" style=\"fill:#1f77b4;\"/>\n   </g>\n   <g id=\"patch_11\">\n    <path clip-path=\"url(#p5fc08811ba)\" d=\"M 298.359091 239.758125 \nL 328.795455 239.758125 \nL 328.795455 32.672411 \nL 298.359091 32.672411 \nz\n\" style=\"fill:#1f77b4;\"/>\n   </g>\n   <g id=\"patch_12\">\n    <path clip-path=\"url(#p5fc08811ba)\" d=\"M 328.795455 239.758125 \nL 359.231818 239.758125 \nL 359.231818 32.672411 \nL 328.795455 32.672411 \nz\n\" style=\"fill:#1f77b4;\"/>\n   </g>\n   <g id=\"matplotlib.axis_1\">\n    <g id=\"xtick_1\">\n     <g id=\"line2d_1\">\n      <defs>\n       <path d=\"M 0 0 \nL 0 3.5 \n\" id=\"m142e6d9865\" style=\"stroke:#000000;stroke-width:0.8;\"/>\n      </defs>\n      <g>\n       <use style=\"stroke:#000000;stroke-width:0.8;\" x=\"54.868182\" xlink:href=\"#m142e6d9865\" y=\"239.758125\"/>\n      </g>\n     </g>\n     <g id=\"text_1\">\n      <!-- 0 -->\n      <defs>\n       <path d=\"M 31.78125 66.40625 \nQ 24.171875 66.40625 20.328125 58.90625 \nQ 16.5 51.421875 16.5 36.375 \nQ 16.5 21.390625 20.328125 13.890625 \nQ 24.171875 6.390625 31.78125 6.390625 \nQ 39.453125 6.390625 43.28125 13.890625 \nQ 47.125 21.390625 47.125 36.375 \nQ 47.125 51.421875 43.28125 58.90625 \nQ 39.453125 66.40625 31.78125 66.40625 \nz\nM 31.78125 74.21875 \nQ 44.046875 74.21875 50.515625 64.515625 \nQ 56.984375 54.828125 56.984375 36.375 \nQ 56.984375 17.96875 50.515625 8.265625 \nQ 44.046875 -1.421875 31.78125 -1.421875 \nQ 19.53125 -1.421875 13.0625 8.265625 \nQ 6.59375 17.96875 6.59375 36.375 \nQ 6.59375 54.828125 13.0625 64.515625 \nQ 19.53125 74.21875 31.78125 74.21875 \nz\n\" id=\"DejaVuSans-48\"/>\n      </defs>\n      <g transform=\"translate(51.686932 254.356563)scale(0.1 -0.1)\">\n       <use xlink:href=\"#DejaVuSans-48\"/>\n      </g>\n     </g>\n    </g>\n    <g id=\"xtick_2\">\n     <g id=\"line2d_2\">\n      <g>\n       <use style=\"stroke:#000000;stroke-width:0.8;\" x=\"88.686364\" xlink:href=\"#m142e6d9865\" y=\"239.758125\"/>\n      </g>\n     </g>\n     <g id=\"text_2\">\n      <!-- 1 -->\n      <defs>\n       <path d=\"M 12.40625 8.296875 \nL 28.515625 8.296875 \nL 28.515625 63.921875 \nL 10.984375 60.40625 \nL 10.984375 69.390625 \nL 28.421875 72.90625 \nL 38.28125 72.90625 \nL 38.28125 8.296875 \nL 54.390625 8.296875 \nL 54.390625 0 \nL 12.40625 0 \nz\n\" id=\"DejaVuSans-49\"/>\n      </defs>\n      <g transform=\"translate(85.505114 254.356563)scale(0.1 -0.1)\">\n       <use xlink:href=\"#DejaVuSans-49\"/>\n      </g>\n     </g>\n    </g>\n    <g id=\"xtick_3\">\n     <g id=\"line2d_3\">\n      <g>\n       <use style=\"stroke:#000000;stroke-width:0.8;\" x=\"122.504545\" xlink:href=\"#m142e6d9865\" y=\"239.758125\"/>\n      </g>\n     </g>\n     <g id=\"text_3\">\n      <!-- 2 -->\n      <defs>\n       <path d=\"M 19.1875 8.296875 \nL 53.609375 8.296875 \nL 53.609375 0 \nL 7.328125 0 \nL 7.328125 8.296875 \nQ 12.9375 14.109375 22.625 23.890625 \nQ 32.328125 33.6875 34.8125 36.53125 \nQ 39.546875 41.84375 41.421875 45.53125 \nQ 43.3125 49.21875 43.3125 52.78125 \nQ 43.3125 58.59375 39.234375 62.25 \nQ 35.15625 65.921875 28.609375 65.921875 \nQ 23.96875 65.921875 18.8125 64.3125 \nQ 13.671875 62.703125 7.8125 59.421875 \nL 7.8125 69.390625 \nQ 13.765625 71.78125 18.9375 73 \nQ 24.125 74.21875 28.421875 74.21875 \nQ 39.75 74.21875 46.484375 68.546875 \nQ 53.21875 62.890625 53.21875 53.421875 \nQ 53.21875 48.921875 51.53125 44.890625 \nQ 49.859375 40.875 45.40625 35.40625 \nQ 44.1875 33.984375 37.640625 27.21875 \nQ 31.109375 20.453125 19.1875 8.296875 \nz\n\" id=\"DejaVuSans-50\"/>\n      </defs>\n      <g transform=\"translate(119.323295 254.356563)scale(0.1 -0.1)\">\n       <use xlink:href=\"#DejaVuSans-50\"/>\n      </g>\n     </g>\n    </g>\n    <g id=\"xtick_4\">\n     <g id=\"line2d_4\">\n      <g>\n       <use style=\"stroke:#000000;stroke-width:0.8;\" x=\"156.322727\" xlink:href=\"#m142e6d9865\" y=\"239.758125\"/>\n      </g>\n     </g>\n     <g id=\"text_4\">\n      <!-- 3 -->\n      <defs>\n       <path d=\"M 40.578125 39.3125 \nQ 47.65625 37.796875 51.625 33 \nQ 55.609375 28.21875 55.609375 21.1875 \nQ 55.609375 10.40625 48.1875 4.484375 \nQ 40.765625 -1.421875 27.09375 -1.421875 \nQ 22.515625 -1.421875 17.65625 -0.515625 \nQ 12.796875 0.390625 7.625 2.203125 \nL 7.625 11.71875 \nQ 11.71875 9.328125 16.59375 8.109375 \nQ 21.484375 6.890625 26.8125 6.890625 \nQ 36.078125 6.890625 40.9375 10.546875 \nQ 45.796875 14.203125 45.796875 21.1875 \nQ 45.796875 27.640625 41.28125 31.265625 \nQ 36.765625 34.90625 28.71875 34.90625 \nL 20.21875 34.90625 \nL 20.21875 43.015625 \nL 29.109375 43.015625 \nQ 36.375 43.015625 40.234375 45.921875 \nQ 44.09375 48.828125 44.09375 54.296875 \nQ 44.09375 59.90625 40.109375 62.90625 \nQ 36.140625 65.921875 28.71875 65.921875 \nQ 24.65625 65.921875 20.015625 65.03125 \nQ 15.375 64.15625 9.8125 62.3125 \nL 9.8125 71.09375 \nQ 15.4375 72.65625 20.34375 73.4375 \nQ 25.25 74.21875 29.59375 74.21875 \nQ 40.828125 74.21875 47.359375 69.109375 \nQ 53.90625 64.015625 53.90625 55.328125 \nQ 53.90625 49.265625 50.4375 45.09375 \nQ 46.96875 40.921875 40.578125 39.3125 \nz\n\" id=\"DejaVuSans-51\"/>\n      </defs>\n      <g transform=\"translate(153.141477 254.356563)scale(0.1 -0.1)\">\n       <use xlink:href=\"#DejaVuSans-51\"/>\n      </g>\n     </g>\n    </g>\n    <g id=\"xtick_5\">\n     <g id=\"line2d_5\">\n      <g>\n       <use style=\"stroke:#000000;stroke-width:0.8;\" x=\"190.140909\" xlink:href=\"#m142e6d9865\" y=\"239.758125\"/>\n      </g>\n     </g>\n     <g id=\"text_5\">\n      <!-- 4 -->\n      <defs>\n       <path d=\"M 37.796875 64.3125 \nL 12.890625 25.390625 \nL 37.796875 25.390625 \nz\nM 35.203125 72.90625 \nL 47.609375 72.90625 \nL 47.609375 25.390625 \nL 58.015625 25.390625 \nL 58.015625 17.1875 \nL 47.609375 17.1875 \nL 47.609375 0 \nL 37.796875 0 \nL 37.796875 17.1875 \nL 4.890625 17.1875 \nL 4.890625 26.703125 \nz\n\" id=\"DejaVuSans-52\"/>\n      </defs>\n      <g transform=\"translate(186.959659 254.356563)scale(0.1 -0.1)\">\n       <use xlink:href=\"#DejaVuSans-52\"/>\n      </g>\n     </g>\n    </g>\n    <g id=\"xtick_6\">\n     <g id=\"line2d_6\">\n      <g>\n       <use style=\"stroke:#000000;stroke-width:0.8;\" x=\"223.959091\" xlink:href=\"#m142e6d9865\" y=\"239.758125\"/>\n      </g>\n     </g>\n     <g id=\"text_6\">\n      <!-- 5 -->\n      <defs>\n       <path d=\"M 10.796875 72.90625 \nL 49.515625 72.90625 \nL 49.515625 64.59375 \nL 19.828125 64.59375 \nL 19.828125 46.734375 \nQ 21.96875 47.46875 24.109375 47.828125 \nQ 26.265625 48.1875 28.421875 48.1875 \nQ 40.625 48.1875 47.75 41.5 \nQ 54.890625 34.8125 54.890625 23.390625 \nQ 54.890625 11.625 47.5625 5.09375 \nQ 40.234375 -1.421875 26.90625 -1.421875 \nQ 22.3125 -1.421875 17.546875 -0.640625 \nQ 12.796875 0.140625 7.71875 1.703125 \nL 7.71875 11.625 \nQ 12.109375 9.234375 16.796875 8.0625 \nQ 21.484375 6.890625 26.703125 6.890625 \nQ 35.15625 6.890625 40.078125 11.328125 \nQ 45.015625 15.765625 45.015625 23.390625 \nQ 45.015625 31 40.078125 35.4375 \nQ 35.15625 39.890625 26.703125 39.890625 \nQ 22.75 39.890625 18.8125 39.015625 \nQ 14.890625 38.140625 10.796875 36.28125 \nz\n\" id=\"DejaVuSans-53\"/>\n      </defs>\n      <g transform=\"translate(220.777841 254.356563)scale(0.1 -0.1)\">\n       <use xlink:href=\"#DejaVuSans-53\"/>\n      </g>\n     </g>\n    </g>\n    <g id=\"xtick_7\">\n     <g id=\"line2d_7\">\n      <g>\n       <use style=\"stroke:#000000;stroke-width:0.8;\" x=\"257.777273\" xlink:href=\"#m142e6d9865\" y=\"239.758125\"/>\n      </g>\n     </g>\n     <g id=\"text_7\">\n      <!-- 6 -->\n      <defs>\n       <path d=\"M 33.015625 40.375 \nQ 26.375 40.375 22.484375 35.828125 \nQ 18.609375 31.296875 18.609375 23.390625 \nQ 18.609375 15.53125 22.484375 10.953125 \nQ 26.375 6.390625 33.015625 6.390625 \nQ 39.65625 6.390625 43.53125 10.953125 \nQ 47.40625 15.53125 47.40625 23.390625 \nQ 47.40625 31.296875 43.53125 35.828125 \nQ 39.65625 40.375 33.015625 40.375 \nz\nM 52.59375 71.296875 \nL 52.59375 62.3125 \nQ 48.875 64.0625 45.09375 64.984375 \nQ 41.3125 65.921875 37.59375 65.921875 \nQ 27.828125 65.921875 22.671875 59.328125 \nQ 17.53125 52.734375 16.796875 39.40625 \nQ 19.671875 43.65625 24.015625 45.921875 \nQ 28.375 48.1875 33.59375 48.1875 \nQ 44.578125 48.1875 50.953125 41.515625 \nQ 57.328125 34.859375 57.328125 23.390625 \nQ 57.328125 12.15625 50.6875 5.359375 \nQ 44.046875 -1.421875 33.015625 -1.421875 \nQ 20.359375 -1.421875 13.671875 8.265625 \nQ 6.984375 17.96875 6.984375 36.375 \nQ 6.984375 53.65625 15.1875 63.9375 \nQ 23.390625 74.21875 37.203125 74.21875 \nQ 40.921875 74.21875 44.703125 73.484375 \nQ 48.484375 72.75 52.59375 71.296875 \nz\n\" id=\"DejaVuSans-54\"/>\n      </defs>\n      <g transform=\"translate(254.596023 254.356563)scale(0.1 -0.1)\">\n       <use xlink:href=\"#DejaVuSans-54\"/>\n      </g>\n     </g>\n    </g>\n    <g id=\"xtick_8\">\n     <g id=\"line2d_8\">\n      <g>\n       <use style=\"stroke:#000000;stroke-width:0.8;\" x=\"291.595455\" xlink:href=\"#m142e6d9865\" y=\"239.758125\"/>\n      </g>\n     </g>\n     <g id=\"text_8\">\n      <!-- 7 -->\n      <defs>\n       <path d=\"M 8.203125 72.90625 \nL 55.078125 72.90625 \nL 55.078125 68.703125 \nL 28.609375 0 \nL 18.3125 0 \nL 43.21875 64.59375 \nL 8.203125 64.59375 \nz\n\" id=\"DejaVuSans-55\"/>\n      </defs>\n      <g transform=\"translate(288.414205 254.356563)scale(0.1 -0.1)\">\n       <use xlink:href=\"#DejaVuSans-55\"/>\n      </g>\n     </g>\n    </g>\n    <g id=\"xtick_9\">\n     <g id=\"line2d_9\">\n      <g>\n       <use style=\"stroke:#000000;stroke-width:0.8;\" x=\"325.413636\" xlink:href=\"#m142e6d9865\" y=\"239.758125\"/>\n      </g>\n     </g>\n     <g id=\"text_9\">\n      <!-- 8 -->\n      <defs>\n       <path d=\"M 31.78125 34.625 \nQ 24.75 34.625 20.71875 30.859375 \nQ 16.703125 27.09375 16.703125 20.515625 \nQ 16.703125 13.921875 20.71875 10.15625 \nQ 24.75 6.390625 31.78125 6.390625 \nQ 38.8125 6.390625 42.859375 10.171875 \nQ 46.921875 13.96875 46.921875 20.515625 \nQ 46.921875 27.09375 42.890625 30.859375 \nQ 38.875 34.625 31.78125 34.625 \nz\nM 21.921875 38.8125 \nQ 15.578125 40.375 12.03125 44.71875 \nQ 8.5 49.078125 8.5 55.328125 \nQ 8.5 64.0625 14.71875 69.140625 \nQ 20.953125 74.21875 31.78125 74.21875 \nQ 42.671875 74.21875 48.875 69.140625 \nQ 55.078125 64.0625 55.078125 55.328125 \nQ 55.078125 49.078125 51.53125 44.71875 \nQ 48 40.375 41.703125 38.8125 \nQ 48.828125 37.15625 52.796875 32.3125 \nQ 56.78125 27.484375 56.78125 20.515625 \nQ 56.78125 9.90625 50.3125 4.234375 \nQ 43.84375 -1.421875 31.78125 -1.421875 \nQ 19.734375 -1.421875 13.25 4.234375 \nQ 6.78125 9.90625 6.78125 20.515625 \nQ 6.78125 27.484375 10.78125 32.3125 \nQ 14.796875 37.15625 21.921875 38.8125 \nz\nM 18.3125 54.390625 \nQ 18.3125 48.734375 21.84375 45.5625 \nQ 25.390625 42.390625 31.78125 42.390625 \nQ 38.140625 42.390625 41.71875 45.5625 \nQ 45.3125 48.734375 45.3125 54.390625 \nQ 45.3125 60.0625 41.71875 63.234375 \nQ 38.140625 66.40625 31.78125 66.40625 \nQ 25.390625 66.40625 21.84375 63.234375 \nQ 18.3125 60.0625 18.3125 54.390625 \nz\n\" id=\"DejaVuSans-56\"/>\n      </defs>\n      <g transform=\"translate(322.232386 254.356563)scale(0.1 -0.1)\">\n       <use xlink:href=\"#DejaVuSans-56\"/>\n      </g>\n     </g>\n    </g>\n    <g id=\"xtick_10\">\n     <g id=\"line2d_10\">\n      <g>\n       <use style=\"stroke:#000000;stroke-width:0.8;\" x=\"359.231818\" xlink:href=\"#m142e6d9865\" y=\"239.758125\"/>\n      </g>\n     </g>\n     <g id=\"text_10\">\n      <!-- 9 -->\n      <defs>\n       <path d=\"M 10.984375 1.515625 \nL 10.984375 10.5 \nQ 14.703125 8.734375 18.5 7.8125 \nQ 22.3125 6.890625 25.984375 6.890625 \nQ 35.75 6.890625 40.890625 13.453125 \nQ 46.046875 20.015625 46.78125 33.40625 \nQ 43.953125 29.203125 39.59375 26.953125 \nQ 35.25 24.703125 29.984375 24.703125 \nQ 19.046875 24.703125 12.671875 31.3125 \nQ 6.296875 37.9375 6.296875 49.421875 \nQ 6.296875 60.640625 12.9375 67.421875 \nQ 19.578125 74.21875 30.609375 74.21875 \nQ 43.265625 74.21875 49.921875 64.515625 \nQ 56.59375 54.828125 56.59375 36.375 \nQ 56.59375 19.140625 48.40625 8.859375 \nQ 40.234375 -1.421875 26.421875 -1.421875 \nQ 22.703125 -1.421875 18.890625 -0.6875 \nQ 15.09375 0.046875 10.984375 1.515625 \nz\nM 30.609375 32.421875 \nQ 37.25 32.421875 41.125 36.953125 \nQ 45.015625 41.5 45.015625 49.421875 \nQ 45.015625 57.28125 41.125 61.84375 \nQ 37.25 66.40625 30.609375 66.40625 \nQ 23.96875 66.40625 20.09375 61.84375 \nQ 16.21875 57.28125 16.21875 49.421875 \nQ 16.21875 41.5 20.09375 36.953125 \nQ 23.96875 32.421875 30.609375 32.421875 \nz\n\" id=\"DejaVuSans-57\"/>\n      </defs>\n      <g transform=\"translate(356.050568 254.356563)scale(0.1 -0.1)\">\n       <use xlink:href=\"#DejaVuSans-57\"/>\n      </g>\n     </g>\n    </g>\n   </g>\n   <g id=\"matplotlib.axis_2\">\n    <g id=\"ytick_1\">\n     <g id=\"line2d_11\">\n      <defs>\n       <path d=\"M 0 0 \nL -3.5 0 \n\" id=\"m68ee493f03\" style=\"stroke:#000000;stroke-width:0.8;\"/>\n      </defs>\n      <g>\n       <use style=\"stroke:#000000;stroke-width:0.8;\" x=\"39.65\" xlink:href=\"#m68ee493f03\" y=\"239.758125\"/>\n      </g>\n     </g>\n     <g id=\"text_11\">\n      <!-- 0 -->\n      <g transform=\"translate(26.2875 243.557344)scale(0.1 -0.1)\">\n       <use xlink:href=\"#DejaVuSans-48\"/>\n      </g>\n     </g>\n    </g>\n    <g id=\"ytick_2\">\n     <g id=\"line2d_12\">\n      <g>\n       <use style=\"stroke:#000000;stroke-width:0.8;\" x=\"39.65\" xlink:href=\"#m68ee493f03\" y=\"198.340982\"/>\n      </g>\n     </g>\n     <g id=\"text_12\">\n      <!-- 1000 -->\n      <g transform=\"translate(7.2 202.140201)scale(0.1 -0.1)\">\n       <use xlink:href=\"#DejaVuSans-49\"/>\n       <use x=\"63.623047\" xlink:href=\"#DejaVuSans-48\"/>\n       <use x=\"127.246094\" xlink:href=\"#DejaVuSans-48\"/>\n       <use x=\"190.869141\" xlink:href=\"#DejaVuSans-48\"/>\n      </g>\n     </g>\n    </g>\n    <g id=\"ytick_3\">\n     <g id=\"line2d_13\">\n      <g>\n       <use style=\"stroke:#000000;stroke-width:0.8;\" x=\"39.65\" xlink:href=\"#m68ee493f03\" y=\"156.923839\"/>\n      </g>\n     </g>\n     <g id=\"text_13\">\n      <!-- 2000 -->\n      <g transform=\"translate(7.2 160.723058)scale(0.1 -0.1)\">\n       <use xlink:href=\"#DejaVuSans-50\"/>\n       <use x=\"63.623047\" xlink:href=\"#DejaVuSans-48\"/>\n       <use x=\"127.246094\" xlink:href=\"#DejaVuSans-48\"/>\n       <use x=\"190.869141\" xlink:href=\"#DejaVuSans-48\"/>\n      </g>\n     </g>\n    </g>\n    <g id=\"ytick_4\">\n     <g id=\"line2d_14\">\n      <g>\n       <use style=\"stroke:#000000;stroke-width:0.8;\" x=\"39.65\" xlink:href=\"#m68ee493f03\" y=\"115.506696\"/>\n      </g>\n     </g>\n     <g id=\"text_14\">\n      <!-- 3000 -->\n      <g transform=\"translate(7.2 119.305915)scale(0.1 -0.1)\">\n       <use xlink:href=\"#DejaVuSans-51\"/>\n       <use x=\"63.623047\" xlink:href=\"#DejaVuSans-48\"/>\n       <use x=\"127.246094\" xlink:href=\"#DejaVuSans-48\"/>\n       <use x=\"190.869141\" xlink:href=\"#DejaVuSans-48\"/>\n      </g>\n     </g>\n    </g>\n    <g id=\"ytick_5\">\n     <g id=\"line2d_15\">\n      <g>\n       <use style=\"stroke:#000000;stroke-width:0.8;\" x=\"39.65\" xlink:href=\"#m68ee493f03\" y=\"74.089554\"/>\n      </g>\n     </g>\n     <g id=\"text_15\">\n      <!-- 4000 -->\n      <g transform=\"translate(7.2 77.888772)scale(0.1 -0.1)\">\n       <use xlink:href=\"#DejaVuSans-52\"/>\n       <use x=\"63.623047\" xlink:href=\"#DejaVuSans-48\"/>\n       <use x=\"127.246094\" xlink:href=\"#DejaVuSans-48\"/>\n       <use x=\"190.869141\" xlink:href=\"#DejaVuSans-48\"/>\n      </g>\n     </g>\n    </g>\n    <g id=\"ytick_6\">\n     <g id=\"line2d_16\">\n      <g>\n       <use style=\"stroke:#000000;stroke-width:0.8;\" x=\"39.65\" xlink:href=\"#m68ee493f03\" y=\"32.672411\"/>\n      </g>\n     </g>\n     <g id=\"text_16\">\n      <!-- 5000 -->\n      <g transform=\"translate(7.2 36.471629)scale(0.1 -0.1)\">\n       <use xlink:href=\"#DejaVuSans-53\"/>\n       <use x=\"63.623047\" xlink:href=\"#DejaVuSans-48\"/>\n       <use x=\"127.246094\" xlink:href=\"#DejaVuSans-48\"/>\n       <use x=\"190.869141\" xlink:href=\"#DejaVuSans-48\"/>\n      </g>\n     </g>\n    </g>\n   </g>\n   <g id=\"patch_13\">\n    <path d=\"M 39.65 239.758125 \nL 39.65 22.318125 \n\" style=\"fill:none;stroke:#000000;stroke-linecap:square;stroke-linejoin:miter;stroke-width:0.8;\"/>\n   </g>\n   <g id=\"patch_14\">\n    <path d=\"M 374.45 239.758125 \nL 374.45 22.318125 \n\" style=\"fill:none;stroke:#000000;stroke-linecap:square;stroke-linejoin:miter;stroke-width:0.8;\"/>\n   </g>\n   <g id=\"patch_15\">\n    <path d=\"M 39.65 239.758125 \nL 374.45 239.758125 \n\" style=\"fill:none;stroke:#000000;stroke-linecap:square;stroke-linejoin:miter;stroke-width:0.8;\"/>\n   </g>\n   <g id=\"patch_16\">\n    <path d=\"M 39.65 22.318125 \nL 374.45 22.318125 \n\" style=\"fill:none;stroke:#000000;stroke-linecap:square;stroke-linejoin:miter;stroke-width:0.8;\"/>\n   </g>\n   <g id=\"text_17\">\n    <!-- Number of pics in each category -->\n    <defs>\n     <path d=\"M 9.8125 72.90625 \nL 23.09375 72.90625 \nL 55.421875 11.921875 \nL 55.421875 72.90625 \nL 64.984375 72.90625 \nL 64.984375 0 \nL 51.703125 0 \nL 19.390625 60.984375 \nL 19.390625 0 \nL 9.8125 0 \nz\n\" id=\"DejaVuSans-78\"/>\n     <path d=\"M 8.5 21.578125 \nL 8.5 54.6875 \nL 17.484375 54.6875 \nL 17.484375 21.921875 \nQ 17.484375 14.15625 20.5 10.265625 \nQ 23.53125 6.390625 29.59375 6.390625 \nQ 36.859375 6.390625 41.078125 11.03125 \nQ 45.3125 15.671875 45.3125 23.6875 \nL 45.3125 54.6875 \nL 54.296875 54.6875 \nL 54.296875 0 \nL 45.3125 0 \nL 45.3125 8.40625 \nQ 42.046875 3.421875 37.71875 1 \nQ 33.40625 -1.421875 27.6875 -1.421875 \nQ 18.265625 -1.421875 13.375 4.4375 \nQ 8.5 10.296875 8.5 21.578125 \nz\nM 31.109375 56 \nz\n\" id=\"DejaVuSans-117\"/>\n     <path d=\"M 52 44.1875 \nQ 55.375 50.25 60.0625 53.125 \nQ 64.75 56 71.09375 56 \nQ 79.640625 56 84.28125 50.015625 \nQ 88.921875 44.046875 88.921875 33.015625 \nL 88.921875 0 \nL 79.890625 0 \nL 79.890625 32.71875 \nQ 79.890625 40.578125 77.09375 44.375 \nQ 74.3125 48.1875 68.609375 48.1875 \nQ 61.625 48.1875 57.5625 43.546875 \nQ 53.515625 38.921875 53.515625 30.90625 \nL 53.515625 0 \nL 44.484375 0 \nL 44.484375 32.71875 \nQ 44.484375 40.625 41.703125 44.40625 \nQ 38.921875 48.1875 33.109375 48.1875 \nQ 26.21875 48.1875 22.15625 43.53125 \nQ 18.109375 38.875 18.109375 30.90625 \nL 18.109375 0 \nL 9.078125 0 \nL 9.078125 54.6875 \nL 18.109375 54.6875 \nL 18.109375 46.1875 \nQ 21.1875 51.21875 25.484375 53.609375 \nQ 29.78125 56 35.6875 56 \nQ 41.65625 56 45.828125 52.96875 \nQ 50 49.953125 52 44.1875 \nz\n\" id=\"DejaVuSans-109\"/>\n     <path d=\"M 48.6875 27.296875 \nQ 48.6875 37.203125 44.609375 42.84375 \nQ 40.53125 48.484375 33.40625 48.484375 \nQ 26.265625 48.484375 22.1875 42.84375 \nQ 18.109375 37.203125 18.109375 27.296875 \nQ 18.109375 17.390625 22.1875 11.75 \nQ 26.265625 6.109375 33.40625 6.109375 \nQ 40.53125 6.109375 44.609375 11.75 \nQ 48.6875 17.390625 48.6875 27.296875 \nz\nM 18.109375 46.390625 \nQ 20.953125 51.265625 25.265625 53.625 \nQ 29.59375 56 35.59375 56 \nQ 45.5625 56 51.78125 48.09375 \nQ 58.015625 40.1875 58.015625 27.296875 \nQ 58.015625 14.40625 51.78125 6.484375 \nQ 45.5625 -1.421875 35.59375 -1.421875 \nQ 29.59375 -1.421875 25.265625 0.953125 \nQ 20.953125 3.328125 18.109375 8.203125 \nL 18.109375 0 \nL 9.078125 0 \nL 9.078125 75.984375 \nL 18.109375 75.984375 \nz\n\" id=\"DejaVuSans-98\"/>\n     <path d=\"M 56.203125 29.59375 \nL 56.203125 25.203125 \nL 14.890625 25.203125 \nQ 15.484375 15.921875 20.484375 11.0625 \nQ 25.484375 6.203125 34.421875 6.203125 \nQ 39.59375 6.203125 44.453125 7.46875 \nQ 49.3125 8.734375 54.109375 11.28125 \nL 54.109375 2.78125 \nQ 49.265625 0.734375 44.1875 -0.34375 \nQ 39.109375 -1.421875 33.890625 -1.421875 \nQ 20.796875 -1.421875 13.15625 6.1875 \nQ 5.515625 13.8125 5.515625 26.8125 \nQ 5.515625 40.234375 12.765625 48.109375 \nQ 20.015625 56 32.328125 56 \nQ 43.359375 56 49.78125 48.890625 \nQ 56.203125 41.796875 56.203125 29.59375 \nz\nM 47.21875 32.234375 \nQ 47.125 39.59375 43.09375 43.984375 \nQ 39.0625 48.390625 32.421875 48.390625 \nQ 24.90625 48.390625 20.390625 44.140625 \nQ 15.875 39.890625 15.1875 32.171875 \nz\n\" id=\"DejaVuSans-101\"/>\n     <path d=\"M 41.109375 46.296875 \nQ 39.59375 47.171875 37.8125 47.578125 \nQ 36.03125 48 33.890625 48 \nQ 26.265625 48 22.1875 43.046875 \nQ 18.109375 38.09375 18.109375 28.8125 \nL 18.109375 0 \nL 9.078125 0 \nL 9.078125 54.6875 \nL 18.109375 54.6875 \nL 18.109375 46.1875 \nQ 20.953125 51.171875 25.484375 53.578125 \nQ 30.03125 56 36.53125 56 \nQ 37.453125 56 38.578125 55.875 \nQ 39.703125 55.765625 41.0625 55.515625 \nz\n\" id=\"DejaVuSans-114\"/>\n     <path id=\"DejaVuSans-32\"/>\n     <path d=\"M 30.609375 48.390625 \nQ 23.390625 48.390625 19.1875 42.75 \nQ 14.984375 37.109375 14.984375 27.296875 \nQ 14.984375 17.484375 19.15625 11.84375 \nQ 23.34375 6.203125 30.609375 6.203125 \nQ 37.796875 6.203125 41.984375 11.859375 \nQ 46.1875 17.53125 46.1875 27.296875 \nQ 46.1875 37.015625 41.984375 42.703125 \nQ 37.796875 48.390625 30.609375 48.390625 \nz\nM 30.609375 56 \nQ 42.328125 56 49.015625 48.375 \nQ 55.71875 40.765625 55.71875 27.296875 \nQ 55.71875 13.875 49.015625 6.21875 \nQ 42.328125 -1.421875 30.609375 -1.421875 \nQ 18.84375 -1.421875 12.171875 6.21875 \nQ 5.515625 13.875 5.515625 27.296875 \nQ 5.515625 40.765625 12.171875 48.375 \nQ 18.84375 56 30.609375 56 \nz\n\" id=\"DejaVuSans-111\"/>\n     <path d=\"M 37.109375 75.984375 \nL 37.109375 68.5 \nL 28.515625 68.5 \nQ 23.6875 68.5 21.796875 66.546875 \nQ 19.921875 64.59375 19.921875 59.515625 \nL 19.921875 54.6875 \nL 34.71875 54.6875 \nL 34.71875 47.703125 \nL 19.921875 47.703125 \nL 19.921875 0 \nL 10.890625 0 \nL 10.890625 47.703125 \nL 2.296875 47.703125 \nL 2.296875 54.6875 \nL 10.890625 54.6875 \nL 10.890625 58.5 \nQ 10.890625 67.625 15.140625 71.796875 \nQ 19.390625 75.984375 28.609375 75.984375 \nz\n\" id=\"DejaVuSans-102\"/>\n     <path d=\"M 18.109375 8.203125 \nL 18.109375 -20.796875 \nL 9.078125 -20.796875 \nL 9.078125 54.6875 \nL 18.109375 54.6875 \nL 18.109375 46.390625 \nQ 20.953125 51.265625 25.265625 53.625 \nQ 29.59375 56 35.59375 56 \nQ 45.5625 56 51.78125 48.09375 \nQ 58.015625 40.1875 58.015625 27.296875 \nQ 58.015625 14.40625 51.78125 6.484375 \nQ 45.5625 -1.421875 35.59375 -1.421875 \nQ 29.59375 -1.421875 25.265625 0.953125 \nQ 20.953125 3.328125 18.109375 8.203125 \nz\nM 48.6875 27.296875 \nQ 48.6875 37.203125 44.609375 42.84375 \nQ 40.53125 48.484375 33.40625 48.484375 \nQ 26.265625 48.484375 22.1875 42.84375 \nQ 18.109375 37.203125 18.109375 27.296875 \nQ 18.109375 17.390625 22.1875 11.75 \nQ 26.265625 6.109375 33.40625 6.109375 \nQ 40.53125 6.109375 44.609375 11.75 \nQ 48.6875 17.390625 48.6875 27.296875 \nz\n\" id=\"DejaVuSans-112\"/>\n     <path d=\"M 9.421875 54.6875 \nL 18.40625 54.6875 \nL 18.40625 0 \nL 9.421875 0 \nz\nM 9.421875 75.984375 \nL 18.40625 75.984375 \nL 18.40625 64.59375 \nL 9.421875 64.59375 \nz\n\" id=\"DejaVuSans-105\"/>\n     <path d=\"M 48.78125 52.59375 \nL 48.78125 44.1875 \nQ 44.96875 46.296875 41.140625 47.34375 \nQ 37.3125 48.390625 33.40625 48.390625 \nQ 24.65625 48.390625 19.8125 42.84375 \nQ 14.984375 37.3125 14.984375 27.296875 \nQ 14.984375 17.28125 19.8125 11.734375 \nQ 24.65625 6.203125 33.40625 6.203125 \nQ 37.3125 6.203125 41.140625 7.25 \nQ 44.96875 8.296875 48.78125 10.40625 \nL 48.78125 2.09375 \nQ 45.015625 0.34375 40.984375 -0.53125 \nQ 36.96875 -1.421875 32.421875 -1.421875 \nQ 20.0625 -1.421875 12.78125 6.34375 \nQ 5.515625 14.109375 5.515625 27.296875 \nQ 5.515625 40.671875 12.859375 48.328125 \nQ 20.21875 56 33.015625 56 \nQ 37.15625 56 41.109375 55.140625 \nQ 45.0625 54.296875 48.78125 52.59375 \nz\n\" id=\"DejaVuSans-99\"/>\n     <path d=\"M 44.28125 53.078125 \nL 44.28125 44.578125 \nQ 40.484375 46.53125 36.375 47.5 \nQ 32.28125 48.484375 27.875 48.484375 \nQ 21.1875 48.484375 17.84375 46.4375 \nQ 14.5 44.390625 14.5 40.28125 \nQ 14.5 37.15625 16.890625 35.375 \nQ 19.28125 33.59375 26.515625 31.984375 \nL 29.59375 31.296875 \nQ 39.15625 29.25 43.1875 25.515625 \nQ 47.21875 21.78125 47.21875 15.09375 \nQ 47.21875 7.46875 41.1875 3.015625 \nQ 35.15625 -1.421875 24.609375 -1.421875 \nQ 20.21875 -1.421875 15.453125 -0.5625 \nQ 10.6875 0.296875 5.421875 2 \nL 5.421875 11.28125 \nQ 10.40625 8.6875 15.234375 7.390625 \nQ 20.0625 6.109375 24.8125 6.109375 \nQ 31.15625 6.109375 34.5625 8.28125 \nQ 37.984375 10.453125 37.984375 14.40625 \nQ 37.984375 18.0625 35.515625 20.015625 \nQ 33.0625 21.96875 24.703125 23.78125 \nL 21.578125 24.515625 \nQ 13.234375 26.265625 9.515625 29.90625 \nQ 5.8125 33.546875 5.8125 39.890625 \nQ 5.8125 47.609375 11.28125 51.796875 \nQ 16.75 56 26.8125 56 \nQ 31.78125 56 36.171875 55.265625 \nQ 40.578125 54.546875 44.28125 53.078125 \nz\n\" id=\"DejaVuSans-115\"/>\n     <path d=\"M 54.890625 33.015625 \nL 54.890625 0 \nL 45.90625 0 \nL 45.90625 32.71875 \nQ 45.90625 40.484375 42.875 44.328125 \nQ 39.84375 48.1875 33.796875 48.1875 \nQ 26.515625 48.1875 22.3125 43.546875 \nQ 18.109375 38.921875 18.109375 30.90625 \nL 18.109375 0 \nL 9.078125 0 \nL 9.078125 54.6875 \nL 18.109375 54.6875 \nL 18.109375 46.1875 \nQ 21.34375 51.125 25.703125 53.5625 \nQ 30.078125 56 35.796875 56 \nQ 45.21875 56 50.046875 50.171875 \nQ 54.890625 44.34375 54.890625 33.015625 \nz\n\" id=\"DejaVuSans-110\"/>\n     <path d=\"M 34.28125 27.484375 \nQ 23.390625 27.484375 19.1875 25 \nQ 14.984375 22.515625 14.984375 16.5 \nQ 14.984375 11.71875 18.140625 8.90625 \nQ 21.296875 6.109375 26.703125 6.109375 \nQ 34.1875 6.109375 38.703125 11.40625 \nQ 43.21875 16.703125 43.21875 25.484375 \nL 43.21875 27.484375 \nz\nM 52.203125 31.203125 \nL 52.203125 0 \nL 43.21875 0 \nL 43.21875 8.296875 \nQ 40.140625 3.328125 35.546875 0.953125 \nQ 30.953125 -1.421875 24.3125 -1.421875 \nQ 15.921875 -1.421875 10.953125 3.296875 \nQ 6 8.015625 6 15.921875 \nQ 6 25.140625 12.171875 29.828125 \nQ 18.359375 34.515625 30.609375 34.515625 \nL 43.21875 34.515625 \nL 43.21875 35.40625 \nQ 43.21875 41.609375 39.140625 45 \nQ 35.0625 48.390625 27.6875 48.390625 \nQ 23 48.390625 18.546875 47.265625 \nQ 14.109375 46.140625 10.015625 43.890625 \nL 10.015625 52.203125 \nQ 14.9375 54.109375 19.578125 55.046875 \nQ 24.21875 56 28.609375 56 \nQ 40.484375 56 46.34375 49.84375 \nQ 52.203125 43.703125 52.203125 31.203125 \nz\n\" id=\"DejaVuSans-97\"/>\n     <path d=\"M 54.890625 33.015625 \nL 54.890625 0 \nL 45.90625 0 \nL 45.90625 32.71875 \nQ 45.90625 40.484375 42.875 44.328125 \nQ 39.84375 48.1875 33.796875 48.1875 \nQ 26.515625 48.1875 22.3125 43.546875 \nQ 18.109375 38.921875 18.109375 30.90625 \nL 18.109375 0 \nL 9.078125 0 \nL 9.078125 75.984375 \nL 18.109375 75.984375 \nL 18.109375 46.1875 \nQ 21.34375 51.125 25.703125 53.5625 \nQ 30.078125 56 35.796875 56 \nQ 45.21875 56 50.046875 50.171875 \nQ 54.890625 44.34375 54.890625 33.015625 \nz\n\" id=\"DejaVuSans-104\"/>\n     <path d=\"M 18.3125 70.21875 \nL 18.3125 54.6875 \nL 36.8125 54.6875 \nL 36.8125 47.703125 \nL 18.3125 47.703125 \nL 18.3125 18.015625 \nQ 18.3125 11.328125 20.140625 9.421875 \nQ 21.96875 7.515625 27.59375 7.515625 \nL 36.8125 7.515625 \nL 36.8125 0 \nL 27.59375 0 \nQ 17.1875 0 13.234375 3.875 \nQ 9.28125 7.765625 9.28125 18.015625 \nL 9.28125 47.703125 \nL 2.6875 47.703125 \nL 2.6875 54.6875 \nL 9.28125 54.6875 \nL 9.28125 70.21875 \nz\n\" id=\"DejaVuSans-116\"/>\n     <path d=\"M 45.40625 27.984375 \nQ 45.40625 37.75 41.375 43.109375 \nQ 37.359375 48.484375 30.078125 48.484375 \nQ 22.859375 48.484375 18.828125 43.109375 \nQ 14.796875 37.75 14.796875 27.984375 \nQ 14.796875 18.265625 18.828125 12.890625 \nQ 22.859375 7.515625 30.078125 7.515625 \nQ 37.359375 7.515625 41.375 12.890625 \nQ 45.40625 18.265625 45.40625 27.984375 \nz\nM 54.390625 6.78125 \nQ 54.390625 -7.171875 48.1875 -13.984375 \nQ 42 -20.796875 29.203125 -20.796875 \nQ 24.46875 -20.796875 20.265625 -20.09375 \nQ 16.0625 -19.390625 12.109375 -17.921875 \nL 12.109375 -9.1875 \nQ 16.0625 -11.328125 19.921875 -12.34375 \nQ 23.78125 -13.375 27.78125 -13.375 \nQ 36.625 -13.375 41.015625 -8.765625 \nQ 45.40625 -4.15625 45.40625 5.171875 \nL 45.40625 9.625 \nQ 42.625 4.78125 38.28125 2.390625 \nQ 33.9375 0 27.875 0 \nQ 17.828125 0 11.671875 7.65625 \nQ 5.515625 15.328125 5.515625 27.984375 \nQ 5.515625 40.671875 11.671875 48.328125 \nQ 17.828125 56 27.875 56 \nQ 33.9375 56 38.28125 53.609375 \nQ 42.625 51.21875 45.40625 46.390625 \nL 45.40625 54.6875 \nL 54.390625 54.6875 \nz\n\" id=\"DejaVuSans-103\"/>\n     <path d=\"M 32.171875 -5.078125 \nQ 28.375 -14.84375 24.75 -17.8125 \nQ 21.140625 -20.796875 15.09375 -20.796875 \nL 7.90625 -20.796875 \nL 7.90625 -13.28125 \nL 13.1875 -13.28125 \nQ 16.890625 -13.28125 18.9375 -11.515625 \nQ 21 -9.765625 23.484375 -3.21875 \nL 25.09375 0.875 \nL 2.984375 54.6875 \nL 12.5 54.6875 \nL 29.59375 11.921875 \nL 46.6875 54.6875 \nL 56.203125 54.6875 \nz\n\" id=\"DejaVuSans-121\"/>\n    </defs>\n    <g transform=\"translate(109.270625 16.318125)scale(0.12 -0.12)\">\n     <use xlink:href=\"#DejaVuSans-78\"/>\n     <use x=\"74.804688\" xlink:href=\"#DejaVuSans-117\"/>\n     <use x=\"138.183594\" xlink:href=\"#DejaVuSans-109\"/>\n     <use x=\"235.595703\" xlink:href=\"#DejaVuSans-98\"/>\n     <use x=\"299.072266\" xlink:href=\"#DejaVuSans-101\"/>\n     <use x=\"360.595703\" xlink:href=\"#DejaVuSans-114\"/>\n     <use x=\"401.708984\" xlink:href=\"#DejaVuSans-32\"/>\n     <use x=\"433.496094\" xlink:href=\"#DejaVuSans-111\"/>\n     <use x=\"494.677734\" xlink:href=\"#DejaVuSans-102\"/>\n     <use x=\"529.882812\" xlink:href=\"#DejaVuSans-32\"/>\n     <use x=\"561.669922\" xlink:href=\"#DejaVuSans-112\"/>\n     <use x=\"625.146484\" xlink:href=\"#DejaVuSans-105\"/>\n     <use x=\"652.929688\" xlink:href=\"#DejaVuSans-99\"/>\n     <use x=\"707.910156\" xlink:href=\"#DejaVuSans-115\"/>\n     <use x=\"760.009766\" xlink:href=\"#DejaVuSans-32\"/>\n     <use x=\"791.796875\" xlink:href=\"#DejaVuSans-105\"/>\n     <use x=\"819.580078\" xlink:href=\"#DejaVuSans-110\"/>\n     <use x=\"882.958984\" xlink:href=\"#DejaVuSans-32\"/>\n     <use x=\"914.746094\" xlink:href=\"#DejaVuSans-101\"/>\n     <use x=\"976.269531\" xlink:href=\"#DejaVuSans-97\"/>\n     <use x=\"1037.548828\" xlink:href=\"#DejaVuSans-99\"/>\n     <use x=\"1092.529297\" xlink:href=\"#DejaVuSans-104\"/>\n     <use x=\"1155.908203\" xlink:href=\"#DejaVuSans-32\"/>\n     <use x=\"1187.695312\" xlink:href=\"#DejaVuSans-99\"/>\n     <use x=\"1242.675781\" xlink:href=\"#DejaVuSans-97\"/>\n     <use x=\"1303.955078\" xlink:href=\"#DejaVuSans-116\"/>\n     <use x=\"1343.164062\" xlink:href=\"#DejaVuSans-101\"/>\n     <use x=\"1404.6875\" xlink:href=\"#DejaVuSans-103\"/>\n     <use x=\"1468.164062\" xlink:href=\"#DejaVuSans-111\"/>\n     <use x=\"1529.345703\" xlink:href=\"#DejaVuSans-114\"/>\n     <use x=\"1570.458984\" xlink:href=\"#DejaVuSans-121\"/>\n    </g>\n   </g>\n  </g>\n </g>\n <defs>\n  <clipPath id=\"p5fc08811ba\">\n   <rect height=\"217.44\" width=\"334.8\" x=\"39.65\" y=\"22.318125\"/>\n  </clipPath>\n </defs>\n</svg>\n"
          },
          "metadata": {
            "needs_background": "light"
          }
        }
      ]
    },
    {
      "cell_type": "markdown",
      "source": [
        "## Create train/test groups using DataLoader"
      ],
      "metadata": {
        "id": "a_I14juntZY2"
      }
    },
    {
      "cell_type": "code",
      "source": [
        "train_data, test_data, train_labels, test_labels = train_test_split(images, labelsT, test_size= 0.1)\n",
        "\n",
        "# Step 3: convert into PyTorch Datasets\n",
        "train_data = TensorDataset(train_data, train_labels)\n",
        "test_data = TensorDataset(test_data, test_labels)\n",
        "\n",
        "# Step 4: translate into dataloader objects\n",
        "batchsize    = 32\n",
        "train_loader = DataLoader(train_data,batch_size=batchsize,shuffle=True,drop_last=True)\n",
        "test_loader  = DataLoader(test_data,batch_size=test_data.tensors[0].shape[0])"
      ],
      "metadata": {
        "id": "NoLiZmKLodL5"
      },
      "execution_count": 33,
      "outputs": []
    },
    {
      "cell_type": "code",
      "source": [
        "# checking the size of train data and train labels\n",
        "\n",
        "print(len(next(iter(train_loader))[0]))\n",
        "print(len(next(iter(train_loader))[1]))\n",
        "# print(next(iter(train_loader)))\n",
        "train_loader.dataset.tensors[0].shape"
      ],
      "metadata": {
        "colab": {
          "base_uri": "https://localhost:8080/"
        },
        "id": "8pQuZNSkuATp",
        "outputId": "7ce04a7d-ec0b-4715-cac7-c0e7c9d54060"
      },
      "execution_count": 34,
      "outputs": [
        {
          "output_type": "stream",
          "name": "stdout",
          "text": [
            "32\n",
            "32\n"
          ]
        },
        {
          "output_type": "execute_result",
          "data": {
            "text/plain": [
              "torch.Size([45000, 3, 32, 32])"
            ]
          },
          "metadata": {},
          "execution_count": 34
        }
      ]
    },
    {
      "cell_type": "markdown",
      "source": [
        "### Create the DL model"
      ],
      "metadata": {
        "id": "THVkG35JwdmI"
      }
    },
    {
      "cell_type": "code",
      "source": [
        "# create a class for the model\n",
        "def createTheCIFARNet(printtoggle=False):\n",
        "\n",
        "  class cifarNet(nn.Module):\n",
        "    def __init__(self,printtoggle):\n",
        "      super().__init__()\n",
        "\n",
        "      ### convolution layers\n",
        "      self.conv1 = nn.Conv2d( 3,10,kernel_size=5,stride=1,padding=1)\n",
        "      # size : np.floor((32 + 2*1 - 5)/1 ) + 1 = 30  ---> maxpool --> 30/2 = 15\n",
        "\n",
        "      self.conv2 = nn.Conv2d(10,20,kernel_size=5,stride=1,padding=1)\n",
        "      # size: np.floor(( 15 + 2*1 - 5)/1) + 1 = 13 ---> maxpool --> 13/2 = 6\n",
        "\n",
        "      # compute the number of units in FClayer (number of outputs of conv2)\n",
        "      expectSize = np.floor( (6+2*0-1)/1 ) + 1 # fc1 layer has no padding or kernel, so set to 0/1\n",
        "      expectSize = 20*int(expectSize**2)\n",
        "      \n",
        "      ### fully-connected layer\n",
        "      self.fc1 = nn.Linear(expectSize,50)\n",
        "\n",
        "      ### output layer\n",
        "      self.out = nn.Linear(50,10)\n",
        "\n",
        "      # toggle for printing out tensor sizes during forward prop\n",
        "      self.print = printtoggle\n",
        "\n",
        "    # forward pass\n",
        "    def forward(self,x):\n",
        "      \n",
        "      print(f'Input: {x.shape}') if self.print else None\n",
        "\n",
        "      # convolution -> maxpool -> relu\n",
        "      x = F.relu(F.max_pool2d(self.conv1(x),2))\n",
        "      print(f'Layer conv1/pool1: {x.shape}') if self.print else None\n",
        "\n",
        "      # and again: convolution -> maxpool -> relu\n",
        "      x = F.relu(F.max_pool2d(self.conv2(x),2))\n",
        "      print(f'Layer conv2/pool2: {x.shape}') if self.print else None\n",
        "\n",
        "      # reshape for linear layer\n",
        "      nUnits = x.shape.numel()/x.shape[0]\n",
        "      x = x.view(-1,int(nUnits))\n",
        "      if self.print: print(f'Vectorize: {x.shape}')\n",
        "      \n",
        "      # linear layers\n",
        "      x = F.relu(self.fc1(x))\n",
        "      if self.print: print(f'Layer fc1: {x.shape}')\n",
        "      x = self.out(x)\n",
        "      if self.print: print(f'Layer out: {x.shape}')\n",
        "\n",
        "      return x\n",
        "  \n",
        "  # create the model instance\n",
        "  net = cifarNet(printtoggle)\n",
        "  \n",
        "  # loss function\n",
        "  lossfun = nn.CrossEntropyLoss()\n",
        "\n",
        "  # optimizer\n",
        "  optimizer = torch.optim.Adam(net.parameters(),lr=.001)\n",
        "\n",
        "  return net,lossfun,optimizer"
      ],
      "metadata": {
        "id": "w_yALmOyuFzv"
      },
      "execution_count": 35,
      "outputs": []
    },
    {
      "cell_type": "code",
      "source": [
        "# test the model with one batch\n",
        "net,lossfun,optimizer = createTheCIFARNet(True)\n",
        "\n",
        "X,y = iter(train_loader).next()\n",
        "yHat = net(X)\n",
        "\n",
        "# check sizes of model outputs and target variable\n",
        "print(' ')\n",
        "print(yHat.shape)\n",
        "print(y.shape)\n",
        "\n",
        "# now let's compute the loss\n",
        "loss = lossfun(yHat,y)\n",
        "print(' ')\n",
        "print('Loss:')\n",
        "print(loss)"
      ],
      "metadata": {
        "colab": {
          "base_uri": "https://localhost:8080/"
        },
        "id": "oixEx5DixOdO",
        "outputId": "b864022c-eca7-47e9-8c66-73087afacb3b"
      },
      "execution_count": 36,
      "outputs": [
        {
          "output_type": "stream",
          "name": "stdout",
          "text": [
            "Input: torch.Size([32, 3, 32, 32])\n",
            "Layer conv1/pool1: torch.Size([32, 10, 15, 15])\n",
            "Layer conv2/pool2: torch.Size([32, 20, 6, 6])\n",
            "Vectorize: torch.Size([32, 720])\n",
            "Layer fc1: torch.Size([32, 50])\n",
            "Layer out: torch.Size([32, 10])\n",
            " \n",
            "torch.Size([32, 10])\n",
            "torch.Size([32])\n",
            " \n",
            "Loss:\n",
            "tensor(5.5894, grad_fn=<NllLossBackward0>)\n"
          ]
        }
      ]
    },
    {
      "cell_type": "code",
      "source": [
        "# count the total number of parameters in the model\n",
        "summary(net,(3,32,32))"
      ],
      "metadata": {
        "colab": {
          "base_uri": "https://localhost:8080/"
        },
        "id": "71M7dWQuxlrM",
        "outputId": "42a73ecc-8893-4be6-ab9a-d22ef38a60d3"
      },
      "execution_count": 37,
      "outputs": [
        {
          "output_type": "stream",
          "name": "stdout",
          "text": [
            "Input: torch.Size([2, 3, 32, 32])\n",
            "Layer conv1/pool1: torch.Size([2, 10, 15, 15])\n",
            "Layer conv2/pool2: torch.Size([2, 20, 6, 6])\n",
            "Vectorize: torch.Size([2, 720])\n",
            "Layer fc1: torch.Size([2, 50])\n",
            "Layer out: torch.Size([2, 10])\n",
            "----------------------------------------------------------------\n",
            "        Layer (type)               Output Shape         Param #\n",
            "================================================================\n",
            "            Conv2d-1           [-1, 10, 30, 30]             760\n",
            "            Conv2d-2           [-1, 20, 13, 13]           5,020\n",
            "            Linear-3                   [-1, 50]          36,050\n",
            "            Linear-4                   [-1, 10]             510\n",
            "================================================================\n",
            "Total params: 42,340\n",
            "Trainable params: 42,340\n",
            "Non-trainable params: 0\n",
            "----------------------------------------------------------------\n",
            "Input size (MB): 0.01\n",
            "Forward/backward pass size (MB): 0.09\n",
            "Params size (MB): 0.16\n",
            "Estimated Total Size (MB): 0.27\n",
            "----------------------------------------------------------------\n"
          ]
        }
      ]
    },
    {
      "cell_type": "markdown",
      "source": [
        "### Create a function that trains the model"
      ],
      "metadata": {
        "id": "N2FgY_Jp0oY-"
      }
    },
    {
      "cell_type": "code",
      "source": [
        "# a function that trains the model\n",
        "\n",
        "def function2trainTheModel():\n",
        "\n",
        "  # number of epochs\n",
        "  numepochs = 30\n",
        "  \n",
        "  # create a new model\n",
        "  net,lossfun,optimizer = createTheCIFARNet()\n",
        "\n",
        "  # initialize losses\n",
        "  losses    = torch.zeros(numepochs)\n",
        "  trainAcc  = []\n",
        "  testAcc   = []\n",
        "\n",
        "\n",
        "  # loop over epochs\n",
        "  for epochi in range(numepochs):\n",
        "\n",
        "    # loop over training data batches\n",
        "    net.train()\n",
        "    batchAcc  = []\n",
        "    batchLoss = []\n",
        "    for X,y in train_loader:\n",
        "\n",
        "      # forward pass and loss\n",
        "      yHat = net(X)\n",
        "      loss = lossfun(yHat,y)\n",
        "\n",
        "      # backprop\n",
        "      optimizer.zero_grad()\n",
        "      loss.backward()\n",
        "      optimizer.step()\n",
        "\n",
        "      # loss from this batch\n",
        "      batchLoss.append(loss.item())\n",
        "\n",
        "      # compute accuracy\n",
        "      matches = torch.argmax(yHat,axis=1) == y     # booleans (false/true)\n",
        "      matchesNumeric = matches.float()             # convert to numbers (0/1)\n",
        "      accuracyPct = 100*torch.mean(matchesNumeric) # average and x100\n",
        "      batchAcc.append( accuracyPct )               # add to list of accuracies\n",
        "    # end of batch loop...\n",
        "\n",
        "    # now that we've trained through the batches, get their average training accuracy\n",
        "    trainAcc.append( np.mean(batchAcc) )\n",
        "\n",
        "    # and get average losses across the batches\n",
        "    losses[epochi] = np.mean(batchLoss)\n",
        "\n",
        "    # test accuracy\n",
        "    net.eval()\n",
        "    X,y = next(iter(test_loader)) # extract X,y from test dataloader\n",
        "    with torch.no_grad(): # deactivates autograd\n",
        "      yHat = net(X)\n",
        "      \n",
        "    # compare the following really long line of code to the training accuracy lines\n",
        "    testAcc.append( 100*torch.mean((torch.argmax(yHat,axis=1)==y).float()) )\n",
        "\n",
        "  # end epochs\n",
        "\n",
        "  # function output\n",
        "  return trainAcc,testAcc,losses,net\n"
      ],
      "metadata": {
        "id": "4G_iSo9cxln0"
      },
      "execution_count": 41,
      "outputs": []
    },
    {
      "cell_type": "code",
      "source": [
        "%%time\n",
        "trainAcc,testAcc,losses,net = function2trainTheModel()"
      ],
      "metadata": {
        "colab": {
          "base_uri": "https://localhost:8080/"
        },
        "id": "ILDFYZzcxlk9",
        "outputId": "29f3e517-aa62-4935-e2e8-92ff3292df84"
      },
      "execution_count": 42,
      "outputs": [
        {
          "output_type": "stream",
          "name": "stdout",
          "text": [
            "CPU times: user 12min 52s, sys: 20.5 s, total: 13min 12s\n",
            "Wall time: 13min 15s\n"
          ]
        }
      ]
    },
    {
      "cell_type": "code",
      "source": [
        "#    30 epochs    ------------> about    mins to proccess\n",
        "\n",
        "\n",
        "fig,ax = plt.subplots(1,2,figsize=(16,5))\n",
        "\n",
        "ax[0].plot(losses,'s-')\n",
        "ax[0].set_xlabel('Epochs')\n",
        "ax[0].set_ylabel('Loss')\n",
        "ax[0].set_title('Model loss')\n",
        "\n",
        "ax[1].plot(trainAcc,'s-',label='Train')\n",
        "ax[1].plot(testAcc,'o-',label='Test')\n",
        "ax[1].set_xlabel('Epochs')\n",
        "ax[1].set_ylabel('Accuracy (%)')\n",
        "ax[1].set_title(f'Final model test accuracy: {testAcc[-1]:.2f}%')\n",
        "ax[1].legend()\n",
        "\n",
        "plt.show()"
      ],
      "metadata": {
        "colab": {
          "base_uri": "https://localhost:8080/",
          "height": 463
        },
        "id": "nMGuUWi73J6U",
        "outputId": "2f886b76-4033-4d2d-b34f-f5609e0a05d1"
      },
      "execution_count": 43,
      "outputs": [
        {
          "output_type": "display_data",
          "data": {
            "text/plain": [
              "<Figure size 1152x360 with 2 Axes>"
            ],
            "image/svg+xml": "<?xml version=\"1.0\" encoding=\"utf-8\" standalone=\"no\"?>\n<!DOCTYPE svg PUBLIC \"-//W3C//DTD SVG 1.1//EN\"\n  \"http://www.w3.org/Graphics/SVG/1.1/DTD/svg11.dtd\">\n<!-- Created with matplotlib (https://matplotlib.org/) -->\n<svg height=\"331.674375pt\" version=\"1.1\" viewBox=\"0 0 944.419042 331.674375\" width=\"944.419042pt\" xmlns=\"http://www.w3.org/2000/svg\" xmlns:xlink=\"http://www.w3.org/1999/xlink\">\n <defs>\n  <style type=\"text/css\">\n*{stroke-linecap:butt;stroke-linejoin:round;}\n  </style>\n </defs>\n <g id=\"figure_1\">\n  <g id=\"patch_1\">\n   <path d=\"M 0 331.674375 \nL 944.419042 331.674375 \nL 944.419042 0 \nL 0 0 \nz\n\" style=\"fill:none;\"/>\n  </g>\n  <g id=\"axes_1\">\n   <g id=\"patch_2\">\n    <path d=\"M 43.78125 294.118125 \nL 449.599432 294.118125 \nL 449.599432 22.318125 \nL 43.78125 22.318125 \nz\n\" style=\"fill:#ffffff;\"/>\n   </g>\n   <g id=\"matplotlib.axis_1\">\n    <g id=\"xtick_1\">\n     <g id=\"line2d_1\">\n      <defs>\n       <path d=\"M 0 0 \nL 0 3.5 \n\" id=\"mf86d44f7c6\" style=\"stroke:#000000;stroke-width:0.8;\"/>\n      </defs>\n      <g>\n       <use style=\"stroke:#000000;stroke-width:0.8;\" x=\"62.227531\" xlink:href=\"#mf86d44f7c6\" y=\"294.118125\"/>\n      </g>\n     </g>\n     <g id=\"text_1\">\n      <!-- 0 -->\n      <defs>\n       <path d=\"M 31.78125 66.40625 \nQ 24.171875 66.40625 20.328125 58.90625 \nQ 16.5 51.421875 16.5 36.375 \nQ 16.5 21.390625 20.328125 13.890625 \nQ 24.171875 6.390625 31.78125 6.390625 \nQ 39.453125 6.390625 43.28125 13.890625 \nQ 47.125 21.390625 47.125 36.375 \nQ 47.125 51.421875 43.28125 58.90625 \nQ 39.453125 66.40625 31.78125 66.40625 \nz\nM 31.78125 74.21875 \nQ 44.046875 74.21875 50.515625 64.515625 \nQ 56.984375 54.828125 56.984375 36.375 \nQ 56.984375 17.96875 50.515625 8.265625 \nQ 44.046875 -1.421875 31.78125 -1.421875 \nQ 19.53125 -1.421875 13.0625 8.265625 \nQ 6.59375 17.96875 6.59375 36.375 \nQ 6.59375 54.828125 13.0625 64.515625 \nQ 19.53125 74.21875 31.78125 74.21875 \nz\n\" id=\"DejaVuSans-48\"/>\n      </defs>\n      <g transform=\"translate(59.046281 308.716563)scale(0.1 -0.1)\">\n       <use xlink:href=\"#DejaVuSans-48\"/>\n      </g>\n     </g>\n    </g>\n    <g id=\"xtick_2\">\n     <g id=\"line2d_2\">\n      <g>\n       <use style=\"stroke:#000000;stroke-width:0.8;\" x=\"125.835396\" xlink:href=\"#mf86d44f7c6\" y=\"294.118125\"/>\n      </g>\n     </g>\n     <g id=\"text_2\">\n      <!-- 5 -->\n      <defs>\n       <path d=\"M 10.796875 72.90625 \nL 49.515625 72.90625 \nL 49.515625 64.59375 \nL 19.828125 64.59375 \nL 19.828125 46.734375 \nQ 21.96875 47.46875 24.109375 47.828125 \nQ 26.265625 48.1875 28.421875 48.1875 \nQ 40.625 48.1875 47.75 41.5 \nQ 54.890625 34.8125 54.890625 23.390625 \nQ 54.890625 11.625 47.5625 5.09375 \nQ 40.234375 -1.421875 26.90625 -1.421875 \nQ 22.3125 -1.421875 17.546875 -0.640625 \nQ 12.796875 0.140625 7.71875 1.703125 \nL 7.71875 11.625 \nQ 12.109375 9.234375 16.796875 8.0625 \nQ 21.484375 6.890625 26.703125 6.890625 \nQ 35.15625 6.890625 40.078125 11.328125 \nQ 45.015625 15.765625 45.015625 23.390625 \nQ 45.015625 31 40.078125 35.4375 \nQ 35.15625 39.890625 26.703125 39.890625 \nQ 22.75 39.890625 18.8125 39.015625 \nQ 14.890625 38.140625 10.796875 36.28125 \nz\n\" id=\"DejaVuSans-53\"/>\n      </defs>\n      <g transform=\"translate(122.654146 308.716563)scale(0.1 -0.1)\">\n       <use xlink:href=\"#DejaVuSans-53\"/>\n      </g>\n     </g>\n    </g>\n    <g id=\"xtick_3\">\n     <g id=\"line2d_3\">\n      <g>\n       <use style=\"stroke:#000000;stroke-width:0.8;\" x=\"189.443262\" xlink:href=\"#mf86d44f7c6\" y=\"294.118125\"/>\n      </g>\n     </g>\n     <g id=\"text_3\">\n      <!-- 10 -->\n      <defs>\n       <path d=\"M 12.40625 8.296875 \nL 28.515625 8.296875 \nL 28.515625 63.921875 \nL 10.984375 60.40625 \nL 10.984375 69.390625 \nL 28.421875 72.90625 \nL 38.28125 72.90625 \nL 38.28125 8.296875 \nL 54.390625 8.296875 \nL 54.390625 0 \nL 12.40625 0 \nz\n\" id=\"DejaVuSans-49\"/>\n      </defs>\n      <g transform=\"translate(183.080762 308.716563)scale(0.1 -0.1)\">\n       <use xlink:href=\"#DejaVuSans-49\"/>\n       <use x=\"63.623047\" xlink:href=\"#DejaVuSans-48\"/>\n      </g>\n     </g>\n    </g>\n    <g id=\"xtick_4\">\n     <g id=\"line2d_4\">\n      <g>\n       <use style=\"stroke:#000000;stroke-width:0.8;\" x=\"253.051127\" xlink:href=\"#mf86d44f7c6\" y=\"294.118125\"/>\n      </g>\n     </g>\n     <g id=\"text_4\">\n      <!-- 15 -->\n      <g transform=\"translate(246.688627 308.716563)scale(0.1 -0.1)\">\n       <use xlink:href=\"#DejaVuSans-49\"/>\n       <use x=\"63.623047\" xlink:href=\"#DejaVuSans-53\"/>\n      </g>\n     </g>\n    </g>\n    <g id=\"xtick_5\">\n     <g id=\"line2d_5\">\n      <g>\n       <use style=\"stroke:#000000;stroke-width:0.8;\" x=\"316.658993\" xlink:href=\"#mf86d44f7c6\" y=\"294.118125\"/>\n      </g>\n     </g>\n     <g id=\"text_5\">\n      <!-- 20 -->\n      <defs>\n       <path d=\"M 19.1875 8.296875 \nL 53.609375 8.296875 \nL 53.609375 0 \nL 7.328125 0 \nL 7.328125 8.296875 \nQ 12.9375 14.109375 22.625 23.890625 \nQ 32.328125 33.6875 34.8125 36.53125 \nQ 39.546875 41.84375 41.421875 45.53125 \nQ 43.3125 49.21875 43.3125 52.78125 \nQ 43.3125 58.59375 39.234375 62.25 \nQ 35.15625 65.921875 28.609375 65.921875 \nQ 23.96875 65.921875 18.8125 64.3125 \nQ 13.671875 62.703125 7.8125 59.421875 \nL 7.8125 69.390625 \nQ 13.765625 71.78125 18.9375 73 \nQ 24.125 74.21875 28.421875 74.21875 \nQ 39.75 74.21875 46.484375 68.546875 \nQ 53.21875 62.890625 53.21875 53.421875 \nQ 53.21875 48.921875 51.53125 44.890625 \nQ 49.859375 40.875 45.40625 35.40625 \nQ 44.1875 33.984375 37.640625 27.21875 \nQ 31.109375 20.453125 19.1875 8.296875 \nz\n\" id=\"DejaVuSans-50\"/>\n      </defs>\n      <g transform=\"translate(310.296493 308.716563)scale(0.1 -0.1)\">\n       <use xlink:href=\"#DejaVuSans-50\"/>\n       <use x=\"63.623047\" xlink:href=\"#DejaVuSans-48\"/>\n      </g>\n     </g>\n    </g>\n    <g id=\"xtick_6\">\n     <g id=\"line2d_6\">\n      <g>\n       <use style=\"stroke:#000000;stroke-width:0.8;\" x=\"380.266858\" xlink:href=\"#mf86d44f7c6\" y=\"294.118125\"/>\n      </g>\n     </g>\n     <g id=\"text_6\">\n      <!-- 25 -->\n      <g transform=\"translate(373.904358 308.716563)scale(0.1 -0.1)\">\n       <use xlink:href=\"#DejaVuSans-50\"/>\n       <use x=\"63.623047\" xlink:href=\"#DejaVuSans-53\"/>\n      </g>\n     </g>\n    </g>\n    <g id=\"xtick_7\">\n     <g id=\"line2d_7\">\n      <g>\n       <use style=\"stroke:#000000;stroke-width:0.8;\" x=\"443.874724\" xlink:href=\"#mf86d44f7c6\" y=\"294.118125\"/>\n      </g>\n     </g>\n     <g id=\"text_7\">\n      <!-- 30 -->\n      <defs>\n       <path d=\"M 40.578125 39.3125 \nQ 47.65625 37.796875 51.625 33 \nQ 55.609375 28.21875 55.609375 21.1875 \nQ 55.609375 10.40625 48.1875 4.484375 \nQ 40.765625 -1.421875 27.09375 -1.421875 \nQ 22.515625 -1.421875 17.65625 -0.515625 \nQ 12.796875 0.390625 7.625 2.203125 \nL 7.625 11.71875 \nQ 11.71875 9.328125 16.59375 8.109375 \nQ 21.484375 6.890625 26.8125 6.890625 \nQ 36.078125 6.890625 40.9375 10.546875 \nQ 45.796875 14.203125 45.796875 21.1875 \nQ 45.796875 27.640625 41.28125 31.265625 \nQ 36.765625 34.90625 28.71875 34.90625 \nL 20.21875 34.90625 \nL 20.21875 43.015625 \nL 29.109375 43.015625 \nQ 36.375 43.015625 40.234375 45.921875 \nQ 44.09375 48.828125 44.09375 54.296875 \nQ 44.09375 59.90625 40.109375 62.90625 \nQ 36.140625 65.921875 28.71875 65.921875 \nQ 24.65625 65.921875 20.015625 65.03125 \nQ 15.375 64.15625 9.8125 62.3125 \nL 9.8125 71.09375 \nQ 15.4375 72.65625 20.34375 73.4375 \nQ 25.25 74.21875 29.59375 74.21875 \nQ 40.828125 74.21875 47.359375 69.109375 \nQ 53.90625 64.015625 53.90625 55.328125 \nQ 53.90625 49.265625 50.4375 45.09375 \nQ 46.96875 40.921875 40.578125 39.3125 \nz\n\" id=\"DejaVuSans-51\"/>\n      </defs>\n      <g transform=\"translate(437.512224 308.716563)scale(0.1 -0.1)\">\n       <use xlink:href=\"#DejaVuSans-51\"/>\n       <use x=\"63.623047\" xlink:href=\"#DejaVuSans-48\"/>\n      </g>\n     </g>\n    </g>\n    <g id=\"text_8\">\n     <!-- Epochs -->\n     <defs>\n      <path d=\"M 9.8125 72.90625 \nL 55.90625 72.90625 \nL 55.90625 64.59375 \nL 19.671875 64.59375 \nL 19.671875 43.015625 \nL 54.390625 43.015625 \nL 54.390625 34.71875 \nL 19.671875 34.71875 \nL 19.671875 8.296875 \nL 56.78125 8.296875 \nL 56.78125 0 \nL 9.8125 0 \nz\n\" id=\"DejaVuSans-69\"/>\n      <path d=\"M 18.109375 8.203125 \nL 18.109375 -20.796875 \nL 9.078125 -20.796875 \nL 9.078125 54.6875 \nL 18.109375 54.6875 \nL 18.109375 46.390625 \nQ 20.953125 51.265625 25.265625 53.625 \nQ 29.59375 56 35.59375 56 \nQ 45.5625 56 51.78125 48.09375 \nQ 58.015625 40.1875 58.015625 27.296875 \nQ 58.015625 14.40625 51.78125 6.484375 \nQ 45.5625 -1.421875 35.59375 -1.421875 \nQ 29.59375 -1.421875 25.265625 0.953125 \nQ 20.953125 3.328125 18.109375 8.203125 \nz\nM 48.6875 27.296875 \nQ 48.6875 37.203125 44.609375 42.84375 \nQ 40.53125 48.484375 33.40625 48.484375 \nQ 26.265625 48.484375 22.1875 42.84375 \nQ 18.109375 37.203125 18.109375 27.296875 \nQ 18.109375 17.390625 22.1875 11.75 \nQ 26.265625 6.109375 33.40625 6.109375 \nQ 40.53125 6.109375 44.609375 11.75 \nQ 48.6875 17.390625 48.6875 27.296875 \nz\n\" id=\"DejaVuSans-112\"/>\n      <path d=\"M 30.609375 48.390625 \nQ 23.390625 48.390625 19.1875 42.75 \nQ 14.984375 37.109375 14.984375 27.296875 \nQ 14.984375 17.484375 19.15625 11.84375 \nQ 23.34375 6.203125 30.609375 6.203125 \nQ 37.796875 6.203125 41.984375 11.859375 \nQ 46.1875 17.53125 46.1875 27.296875 \nQ 46.1875 37.015625 41.984375 42.703125 \nQ 37.796875 48.390625 30.609375 48.390625 \nz\nM 30.609375 56 \nQ 42.328125 56 49.015625 48.375 \nQ 55.71875 40.765625 55.71875 27.296875 \nQ 55.71875 13.875 49.015625 6.21875 \nQ 42.328125 -1.421875 30.609375 -1.421875 \nQ 18.84375 -1.421875 12.171875 6.21875 \nQ 5.515625 13.875 5.515625 27.296875 \nQ 5.515625 40.765625 12.171875 48.375 \nQ 18.84375 56 30.609375 56 \nz\n\" id=\"DejaVuSans-111\"/>\n      <path d=\"M 48.78125 52.59375 \nL 48.78125 44.1875 \nQ 44.96875 46.296875 41.140625 47.34375 \nQ 37.3125 48.390625 33.40625 48.390625 \nQ 24.65625 48.390625 19.8125 42.84375 \nQ 14.984375 37.3125 14.984375 27.296875 \nQ 14.984375 17.28125 19.8125 11.734375 \nQ 24.65625 6.203125 33.40625 6.203125 \nQ 37.3125 6.203125 41.140625 7.25 \nQ 44.96875 8.296875 48.78125 10.40625 \nL 48.78125 2.09375 \nQ 45.015625 0.34375 40.984375 -0.53125 \nQ 36.96875 -1.421875 32.421875 -1.421875 \nQ 20.0625 -1.421875 12.78125 6.34375 \nQ 5.515625 14.109375 5.515625 27.296875 \nQ 5.515625 40.671875 12.859375 48.328125 \nQ 20.21875 56 33.015625 56 \nQ 37.15625 56 41.109375 55.140625 \nQ 45.0625 54.296875 48.78125 52.59375 \nz\n\" id=\"DejaVuSans-99\"/>\n      <path d=\"M 54.890625 33.015625 \nL 54.890625 0 \nL 45.90625 0 \nL 45.90625 32.71875 \nQ 45.90625 40.484375 42.875 44.328125 \nQ 39.84375 48.1875 33.796875 48.1875 \nQ 26.515625 48.1875 22.3125 43.546875 \nQ 18.109375 38.921875 18.109375 30.90625 \nL 18.109375 0 \nL 9.078125 0 \nL 9.078125 75.984375 \nL 18.109375 75.984375 \nL 18.109375 46.1875 \nQ 21.34375 51.125 25.703125 53.5625 \nQ 30.078125 56 35.796875 56 \nQ 45.21875 56 50.046875 50.171875 \nQ 54.890625 44.34375 54.890625 33.015625 \nz\n\" id=\"DejaVuSans-104\"/>\n      <path d=\"M 44.28125 53.078125 \nL 44.28125 44.578125 \nQ 40.484375 46.53125 36.375 47.5 \nQ 32.28125 48.484375 27.875 48.484375 \nQ 21.1875 48.484375 17.84375 46.4375 \nQ 14.5 44.390625 14.5 40.28125 \nQ 14.5 37.15625 16.890625 35.375 \nQ 19.28125 33.59375 26.515625 31.984375 \nL 29.59375 31.296875 \nQ 39.15625 29.25 43.1875 25.515625 \nQ 47.21875 21.78125 47.21875 15.09375 \nQ 47.21875 7.46875 41.1875 3.015625 \nQ 35.15625 -1.421875 24.609375 -1.421875 \nQ 20.21875 -1.421875 15.453125 -0.5625 \nQ 10.6875 0.296875 5.421875 2 \nL 5.421875 11.28125 \nQ 10.40625 8.6875 15.234375 7.390625 \nQ 20.0625 6.109375 24.8125 6.109375 \nQ 31.15625 6.109375 34.5625 8.28125 \nQ 37.984375 10.453125 37.984375 14.40625 \nQ 37.984375 18.0625 35.515625 20.015625 \nQ 33.0625 21.96875 24.703125 23.78125 \nL 21.578125 24.515625 \nQ 13.234375 26.265625 9.515625 29.90625 \nQ 5.8125 33.546875 5.8125 39.890625 \nQ 5.8125 47.609375 11.28125 51.796875 \nQ 16.75 56 26.8125 56 \nQ 31.78125 56 36.171875 55.265625 \nQ 40.578125 54.546875 44.28125 53.078125 \nz\n\" id=\"DejaVuSans-115\"/>\n     </defs>\n     <g transform=\"translate(228.774716 322.394687)scale(0.1 -0.1)\">\n      <use xlink:href=\"#DejaVuSans-69\"/>\n      <use x=\"63.183594\" xlink:href=\"#DejaVuSans-112\"/>\n      <use x=\"126.660156\" xlink:href=\"#DejaVuSans-111\"/>\n      <use x=\"187.841797\" xlink:href=\"#DejaVuSans-99\"/>\n      <use x=\"242.822266\" xlink:href=\"#DejaVuSans-104\"/>\n      <use x=\"306.201172\" xlink:href=\"#DejaVuSans-115\"/>\n     </g>\n    </g>\n   </g>\n   <g id=\"matplotlib.axis_2\">\n    <g id=\"ytick_1\">\n     <g id=\"line2d_8\">\n      <defs>\n       <path d=\"M 0 0 \nL -3.5 0 \n\" id=\"m2030b8baa6\" style=\"stroke:#000000;stroke-width:0.8;\"/>\n      </defs>\n      <g>\n       <use style=\"stroke:#000000;stroke-width:0.8;\" x=\"43.78125\" xlink:href=\"#m2030b8baa6\" y=\"259.821405\"/>\n      </g>\n     </g>\n     <g id=\"text_9\">\n      <!-- 1.4 -->\n      <defs>\n       <path d=\"M 10.6875 12.40625 \nL 21 12.40625 \nL 21 0 \nL 10.6875 0 \nz\n\" id=\"DejaVuSans-46\"/>\n       <path d=\"M 37.796875 64.3125 \nL 12.890625 25.390625 \nL 37.796875 25.390625 \nz\nM 35.203125 72.90625 \nL 47.609375 72.90625 \nL 47.609375 25.390625 \nL 58.015625 25.390625 \nL 58.015625 17.1875 \nL 47.609375 17.1875 \nL 47.609375 0 \nL 37.796875 0 \nL 37.796875 17.1875 \nL 4.890625 17.1875 \nL 4.890625 26.703125 \nz\n\" id=\"DejaVuSans-52\"/>\n      </defs>\n      <g transform=\"translate(20.878125 263.620623)scale(0.1 -0.1)\">\n       <use xlink:href=\"#DejaVuSans-49\"/>\n       <use x=\"63.623047\" xlink:href=\"#DejaVuSans-46\"/>\n       <use x=\"95.410156\" xlink:href=\"#DejaVuSans-52\"/>\n      </g>\n     </g>\n    </g>\n    <g id=\"ytick_2\">\n     <g id=\"line2d_9\">\n      <g>\n       <use style=\"stroke:#000000;stroke-width:0.8;\" x=\"43.78125\" xlink:href=\"#m2030b8baa6\" y=\"224.403799\"/>\n      </g>\n     </g>\n     <g id=\"text_10\">\n      <!-- 1.5 -->\n      <g transform=\"translate(20.878125 228.203018)scale(0.1 -0.1)\">\n       <use xlink:href=\"#DejaVuSans-49\"/>\n       <use x=\"63.623047\" xlink:href=\"#DejaVuSans-46\"/>\n       <use x=\"95.410156\" xlink:href=\"#DejaVuSans-53\"/>\n      </g>\n     </g>\n    </g>\n    <g id=\"ytick_3\">\n     <g id=\"line2d_10\">\n      <g>\n       <use style=\"stroke:#000000;stroke-width:0.8;\" x=\"43.78125\" xlink:href=\"#m2030b8baa6\" y=\"188.986194\"/>\n      </g>\n     </g>\n     <g id=\"text_11\">\n      <!-- 1.6 -->\n      <defs>\n       <path d=\"M 33.015625 40.375 \nQ 26.375 40.375 22.484375 35.828125 \nQ 18.609375 31.296875 18.609375 23.390625 \nQ 18.609375 15.53125 22.484375 10.953125 \nQ 26.375 6.390625 33.015625 6.390625 \nQ 39.65625 6.390625 43.53125 10.953125 \nQ 47.40625 15.53125 47.40625 23.390625 \nQ 47.40625 31.296875 43.53125 35.828125 \nQ 39.65625 40.375 33.015625 40.375 \nz\nM 52.59375 71.296875 \nL 52.59375 62.3125 \nQ 48.875 64.0625 45.09375 64.984375 \nQ 41.3125 65.921875 37.59375 65.921875 \nQ 27.828125 65.921875 22.671875 59.328125 \nQ 17.53125 52.734375 16.796875 39.40625 \nQ 19.671875 43.65625 24.015625 45.921875 \nQ 28.375 48.1875 33.59375 48.1875 \nQ 44.578125 48.1875 50.953125 41.515625 \nQ 57.328125 34.859375 57.328125 23.390625 \nQ 57.328125 12.15625 50.6875 5.359375 \nQ 44.046875 -1.421875 33.015625 -1.421875 \nQ 20.359375 -1.421875 13.671875 8.265625 \nQ 6.984375 17.96875 6.984375 36.375 \nQ 6.984375 53.65625 15.1875 63.9375 \nQ 23.390625 74.21875 37.203125 74.21875 \nQ 40.921875 74.21875 44.703125 73.484375 \nQ 48.484375 72.75 52.59375 71.296875 \nz\n\" id=\"DejaVuSans-54\"/>\n      </defs>\n      <g transform=\"translate(20.878125 192.785412)scale(0.1 -0.1)\">\n       <use xlink:href=\"#DejaVuSans-49\"/>\n       <use x=\"63.623047\" xlink:href=\"#DejaVuSans-46\"/>\n       <use x=\"95.410156\" xlink:href=\"#DejaVuSans-54\"/>\n      </g>\n     </g>\n    </g>\n    <g id=\"ytick_4\">\n     <g id=\"line2d_11\">\n      <g>\n       <use style=\"stroke:#000000;stroke-width:0.8;\" x=\"43.78125\" xlink:href=\"#m2030b8baa6\" y=\"153.568588\"/>\n      </g>\n     </g>\n     <g id=\"text_12\">\n      <!-- 1.7 -->\n      <defs>\n       <path d=\"M 8.203125 72.90625 \nL 55.078125 72.90625 \nL 55.078125 68.703125 \nL 28.609375 0 \nL 18.3125 0 \nL 43.21875 64.59375 \nL 8.203125 64.59375 \nz\n\" id=\"DejaVuSans-55\"/>\n      </defs>\n      <g transform=\"translate(20.878125 157.367807)scale(0.1 -0.1)\">\n       <use xlink:href=\"#DejaVuSans-49\"/>\n       <use x=\"63.623047\" xlink:href=\"#DejaVuSans-46\"/>\n       <use x=\"95.410156\" xlink:href=\"#DejaVuSans-55\"/>\n      </g>\n     </g>\n    </g>\n    <g id=\"ytick_5\">\n     <g id=\"line2d_12\">\n      <g>\n       <use style=\"stroke:#000000;stroke-width:0.8;\" x=\"43.78125\" xlink:href=\"#m2030b8baa6\" y=\"118.150983\"/>\n      </g>\n     </g>\n     <g id=\"text_13\">\n      <!-- 1.8 -->\n      <defs>\n       <path d=\"M 31.78125 34.625 \nQ 24.75 34.625 20.71875 30.859375 \nQ 16.703125 27.09375 16.703125 20.515625 \nQ 16.703125 13.921875 20.71875 10.15625 \nQ 24.75 6.390625 31.78125 6.390625 \nQ 38.8125 6.390625 42.859375 10.171875 \nQ 46.921875 13.96875 46.921875 20.515625 \nQ 46.921875 27.09375 42.890625 30.859375 \nQ 38.875 34.625 31.78125 34.625 \nz\nM 21.921875 38.8125 \nQ 15.578125 40.375 12.03125 44.71875 \nQ 8.5 49.078125 8.5 55.328125 \nQ 8.5 64.0625 14.71875 69.140625 \nQ 20.953125 74.21875 31.78125 74.21875 \nQ 42.671875 74.21875 48.875 69.140625 \nQ 55.078125 64.0625 55.078125 55.328125 \nQ 55.078125 49.078125 51.53125 44.71875 \nQ 48 40.375 41.703125 38.8125 \nQ 48.828125 37.15625 52.796875 32.3125 \nQ 56.78125 27.484375 56.78125 20.515625 \nQ 56.78125 9.90625 50.3125 4.234375 \nQ 43.84375 -1.421875 31.78125 -1.421875 \nQ 19.734375 -1.421875 13.25 4.234375 \nQ 6.78125 9.90625 6.78125 20.515625 \nQ 6.78125 27.484375 10.78125 32.3125 \nQ 14.796875 37.15625 21.921875 38.8125 \nz\nM 18.3125 54.390625 \nQ 18.3125 48.734375 21.84375 45.5625 \nQ 25.390625 42.390625 31.78125 42.390625 \nQ 38.140625 42.390625 41.71875 45.5625 \nQ 45.3125 48.734375 45.3125 54.390625 \nQ 45.3125 60.0625 41.71875 63.234375 \nQ 38.140625 66.40625 31.78125 66.40625 \nQ 25.390625 66.40625 21.84375 63.234375 \nQ 18.3125 60.0625 18.3125 54.390625 \nz\n\" id=\"DejaVuSans-56\"/>\n      </defs>\n      <g transform=\"translate(20.878125 121.950201)scale(0.1 -0.1)\">\n       <use xlink:href=\"#DejaVuSans-49\"/>\n       <use x=\"63.623047\" xlink:href=\"#DejaVuSans-46\"/>\n       <use x=\"95.410156\" xlink:href=\"#DejaVuSans-56\"/>\n      </g>\n     </g>\n    </g>\n    <g id=\"ytick_6\">\n     <g id=\"line2d_13\">\n      <g>\n       <use style=\"stroke:#000000;stroke-width:0.8;\" x=\"43.78125\" xlink:href=\"#m2030b8baa6\" y=\"82.733377\"/>\n      </g>\n     </g>\n     <g id=\"text_14\">\n      <!-- 1.9 -->\n      <defs>\n       <path d=\"M 10.984375 1.515625 \nL 10.984375 10.5 \nQ 14.703125 8.734375 18.5 7.8125 \nQ 22.3125 6.890625 25.984375 6.890625 \nQ 35.75 6.890625 40.890625 13.453125 \nQ 46.046875 20.015625 46.78125 33.40625 \nQ 43.953125 29.203125 39.59375 26.953125 \nQ 35.25 24.703125 29.984375 24.703125 \nQ 19.046875 24.703125 12.671875 31.3125 \nQ 6.296875 37.9375 6.296875 49.421875 \nQ 6.296875 60.640625 12.9375 67.421875 \nQ 19.578125 74.21875 30.609375 74.21875 \nQ 43.265625 74.21875 49.921875 64.515625 \nQ 56.59375 54.828125 56.59375 36.375 \nQ 56.59375 19.140625 48.40625 8.859375 \nQ 40.234375 -1.421875 26.421875 -1.421875 \nQ 22.703125 -1.421875 18.890625 -0.6875 \nQ 15.09375 0.046875 10.984375 1.515625 \nz\nM 30.609375 32.421875 \nQ 37.25 32.421875 41.125 36.953125 \nQ 45.015625 41.5 45.015625 49.421875 \nQ 45.015625 57.28125 41.125 61.84375 \nQ 37.25 66.40625 30.609375 66.40625 \nQ 23.96875 66.40625 20.09375 61.84375 \nQ 16.21875 57.28125 16.21875 49.421875 \nQ 16.21875 41.5 20.09375 36.953125 \nQ 23.96875 32.421875 30.609375 32.421875 \nz\n\" id=\"DejaVuSans-57\"/>\n      </defs>\n      <g transform=\"translate(20.878125 86.532596)scale(0.1 -0.1)\">\n       <use xlink:href=\"#DejaVuSans-49\"/>\n       <use x=\"63.623047\" xlink:href=\"#DejaVuSans-46\"/>\n       <use x=\"95.410156\" xlink:href=\"#DejaVuSans-57\"/>\n      </g>\n     </g>\n    </g>\n    <g id=\"ytick_7\">\n     <g id=\"line2d_14\">\n      <g>\n       <use style=\"stroke:#000000;stroke-width:0.8;\" x=\"43.78125\" xlink:href=\"#m2030b8baa6\" y=\"47.315772\"/>\n      </g>\n     </g>\n     <g id=\"text_15\">\n      <!-- 2.0 -->\n      <g transform=\"translate(20.878125 51.11499)scale(0.1 -0.1)\">\n       <use xlink:href=\"#DejaVuSans-50\"/>\n       <use x=\"63.623047\" xlink:href=\"#DejaVuSans-46\"/>\n       <use x=\"95.410156\" xlink:href=\"#DejaVuSans-48\"/>\n      </g>\n     </g>\n    </g>\n    <g id=\"text_16\">\n     <!-- Loss -->\n     <defs>\n      <path d=\"M 9.8125 72.90625 \nL 19.671875 72.90625 \nL 19.671875 8.296875 \nL 55.171875 8.296875 \nL 55.171875 0 \nL 9.8125 0 \nz\n\" id=\"DejaVuSans-76\"/>\n     </defs>\n     <g transform=\"translate(14.798438 169.185313)rotate(-90)scale(0.1 -0.1)\">\n      <use xlink:href=\"#DejaVuSans-76\"/>\n      <use x=\"53.962891\" xlink:href=\"#DejaVuSans-111\"/>\n      <use x=\"115.144531\" xlink:href=\"#DejaVuSans-115\"/>\n      <use x=\"167.244141\" xlink:href=\"#DejaVuSans-115\"/>\n     </g>\n    </g>\n   </g>\n   <g id=\"line2d_15\">\n    <path clip-path=\"url(#p055334497d)\" d=\"M 62.227531 34.67267 \nL 74.949104 118.856134 \nL 87.670677 144.143729 \nL 100.39225 160.567306 \nL 113.113823 172.332166 \nL 125.835396 180.218599 \nL 138.55697 188.974068 \nL 151.278543 196.73675 \nL 164.000116 203.596366 \nL 176.721689 211.077772 \nL 189.443262 216.227392 \nL 202.164835 218.999628 \nL 214.886408 226.657645 \nL 227.607981 229.7652 \nL 240.329554 233.973544 \nL 253.051127 240.315909 \nL 265.772701 242.471084 \nL 278.494274 245.827237 \nL 291.215847 250.697101 \nL 303.93742 253.332287 \nL 316.658993 254.591235 \nL 329.380566 258.677391 \nL 342.102139 262.257485 \nL 354.823712 265.30458 \nL 367.545285 269.849932 \nL 380.266858 270.159666 \nL 392.988432 274.405966 \nL 405.710005 276.869904 \nL 418.431578 279.655481 \nL 431.153151 281.76358 \n\" style=\"fill:none;stroke:#1f77b4;stroke-linecap:square;stroke-width:1.5;\"/>\n    <defs>\n     <path d=\"M -3 3 \nL 3 3 \nL 3 -3 \nL -3 -3 \nz\n\" id=\"m3cfa8b1563\" style=\"stroke:#1f77b4;stroke-linejoin:miter;\"/>\n    </defs>\n    <g clip-path=\"url(#p055334497d)\">\n     <use style=\"fill:#1f77b4;stroke:#1f77b4;stroke-linejoin:miter;\" x=\"62.227531\" xlink:href=\"#m3cfa8b1563\" y=\"34.67267\"/>\n     <use style=\"fill:#1f77b4;stroke:#1f77b4;stroke-linejoin:miter;\" x=\"74.949104\" xlink:href=\"#m3cfa8b1563\" y=\"118.856134\"/>\n     <use style=\"fill:#1f77b4;stroke:#1f77b4;stroke-linejoin:miter;\" x=\"87.670677\" xlink:href=\"#m3cfa8b1563\" y=\"144.143729\"/>\n     <use style=\"fill:#1f77b4;stroke:#1f77b4;stroke-linejoin:miter;\" x=\"100.39225\" xlink:href=\"#m3cfa8b1563\" y=\"160.567306\"/>\n     <use style=\"fill:#1f77b4;stroke:#1f77b4;stroke-linejoin:miter;\" x=\"113.113823\" xlink:href=\"#m3cfa8b1563\" y=\"172.332166\"/>\n     <use style=\"fill:#1f77b4;stroke:#1f77b4;stroke-linejoin:miter;\" x=\"125.835396\" xlink:href=\"#m3cfa8b1563\" y=\"180.218599\"/>\n     <use style=\"fill:#1f77b4;stroke:#1f77b4;stroke-linejoin:miter;\" x=\"138.55697\" xlink:href=\"#m3cfa8b1563\" y=\"188.974068\"/>\n     <use style=\"fill:#1f77b4;stroke:#1f77b4;stroke-linejoin:miter;\" x=\"151.278543\" xlink:href=\"#m3cfa8b1563\" y=\"196.73675\"/>\n     <use style=\"fill:#1f77b4;stroke:#1f77b4;stroke-linejoin:miter;\" x=\"164.000116\" xlink:href=\"#m3cfa8b1563\" y=\"203.596366\"/>\n     <use style=\"fill:#1f77b4;stroke:#1f77b4;stroke-linejoin:miter;\" x=\"176.721689\" xlink:href=\"#m3cfa8b1563\" y=\"211.077772\"/>\n     <use style=\"fill:#1f77b4;stroke:#1f77b4;stroke-linejoin:miter;\" x=\"189.443262\" xlink:href=\"#m3cfa8b1563\" y=\"216.227392\"/>\n     <use style=\"fill:#1f77b4;stroke:#1f77b4;stroke-linejoin:miter;\" x=\"202.164835\" xlink:href=\"#m3cfa8b1563\" y=\"218.999628\"/>\n     <use style=\"fill:#1f77b4;stroke:#1f77b4;stroke-linejoin:miter;\" x=\"214.886408\" xlink:href=\"#m3cfa8b1563\" y=\"226.657645\"/>\n     <use style=\"fill:#1f77b4;stroke:#1f77b4;stroke-linejoin:miter;\" x=\"227.607981\" xlink:href=\"#m3cfa8b1563\" y=\"229.7652\"/>\n     <use style=\"fill:#1f77b4;stroke:#1f77b4;stroke-linejoin:miter;\" x=\"240.329554\" xlink:href=\"#m3cfa8b1563\" y=\"233.973544\"/>\n     <use style=\"fill:#1f77b4;stroke:#1f77b4;stroke-linejoin:miter;\" x=\"253.051127\" xlink:href=\"#m3cfa8b1563\" y=\"240.315909\"/>\n     <use style=\"fill:#1f77b4;stroke:#1f77b4;stroke-linejoin:miter;\" x=\"265.772701\" xlink:href=\"#m3cfa8b1563\" y=\"242.471084\"/>\n     <use style=\"fill:#1f77b4;stroke:#1f77b4;stroke-linejoin:miter;\" x=\"278.494274\" xlink:href=\"#m3cfa8b1563\" y=\"245.827237\"/>\n     <use style=\"fill:#1f77b4;stroke:#1f77b4;stroke-linejoin:miter;\" x=\"291.215847\" xlink:href=\"#m3cfa8b1563\" y=\"250.697101\"/>\n     <use style=\"fill:#1f77b4;stroke:#1f77b4;stroke-linejoin:miter;\" x=\"303.93742\" xlink:href=\"#m3cfa8b1563\" y=\"253.332287\"/>\n     <use style=\"fill:#1f77b4;stroke:#1f77b4;stroke-linejoin:miter;\" x=\"316.658993\" xlink:href=\"#m3cfa8b1563\" y=\"254.591235\"/>\n     <use style=\"fill:#1f77b4;stroke:#1f77b4;stroke-linejoin:miter;\" x=\"329.380566\" xlink:href=\"#m3cfa8b1563\" y=\"258.677391\"/>\n     <use style=\"fill:#1f77b4;stroke:#1f77b4;stroke-linejoin:miter;\" x=\"342.102139\" xlink:href=\"#m3cfa8b1563\" y=\"262.257485\"/>\n     <use style=\"fill:#1f77b4;stroke:#1f77b4;stroke-linejoin:miter;\" x=\"354.823712\" xlink:href=\"#m3cfa8b1563\" y=\"265.30458\"/>\n     <use style=\"fill:#1f77b4;stroke:#1f77b4;stroke-linejoin:miter;\" x=\"367.545285\" xlink:href=\"#m3cfa8b1563\" y=\"269.849932\"/>\n     <use style=\"fill:#1f77b4;stroke:#1f77b4;stroke-linejoin:miter;\" x=\"380.266858\" xlink:href=\"#m3cfa8b1563\" y=\"270.159666\"/>\n     <use style=\"fill:#1f77b4;stroke:#1f77b4;stroke-linejoin:miter;\" x=\"392.988432\" xlink:href=\"#m3cfa8b1563\" y=\"274.405966\"/>\n     <use style=\"fill:#1f77b4;stroke:#1f77b4;stroke-linejoin:miter;\" x=\"405.710005\" xlink:href=\"#m3cfa8b1563\" y=\"276.869904\"/>\n     <use style=\"fill:#1f77b4;stroke:#1f77b4;stroke-linejoin:miter;\" x=\"418.431578\" xlink:href=\"#m3cfa8b1563\" y=\"279.655481\"/>\n     <use style=\"fill:#1f77b4;stroke:#1f77b4;stroke-linejoin:miter;\" x=\"431.153151\" xlink:href=\"#m3cfa8b1563\" y=\"281.76358\"/>\n    </g>\n   </g>\n   <g id=\"patch_3\">\n    <path d=\"M 43.78125 294.118125 \nL 43.78125 22.318125 \n\" style=\"fill:none;stroke:#000000;stroke-linecap:square;stroke-linejoin:miter;stroke-width:0.8;\"/>\n   </g>\n   <g id=\"patch_4\">\n    <path d=\"M 449.599432 294.118125 \nL 449.599432 22.318125 \n\" style=\"fill:none;stroke:#000000;stroke-linecap:square;stroke-linejoin:miter;stroke-width:0.8;\"/>\n   </g>\n   <g id=\"patch_5\">\n    <path d=\"M 43.78125 294.118125 \nL 449.599432 294.118125 \n\" style=\"fill:none;stroke:#000000;stroke-linecap:square;stroke-linejoin:miter;stroke-width:0.8;\"/>\n   </g>\n   <g id=\"patch_6\">\n    <path d=\"M 43.78125 22.318125 \nL 449.599432 22.318125 \n\" style=\"fill:none;stroke:#000000;stroke-linecap:square;stroke-linejoin:miter;stroke-width:0.8;\"/>\n   </g>\n   <g id=\"text_17\">\n    <!-- Model loss -->\n    <defs>\n     <path d=\"M 9.8125 72.90625 \nL 24.515625 72.90625 \nL 43.109375 23.296875 \nL 61.8125 72.90625 \nL 76.515625 72.90625 \nL 76.515625 0 \nL 66.890625 0 \nL 66.890625 64.015625 \nL 48.09375 14.015625 \nL 38.1875 14.015625 \nL 19.390625 64.015625 \nL 19.390625 0 \nL 9.8125 0 \nz\n\" id=\"DejaVuSans-77\"/>\n     <path d=\"M 45.40625 46.390625 \nL 45.40625 75.984375 \nL 54.390625 75.984375 \nL 54.390625 0 \nL 45.40625 0 \nL 45.40625 8.203125 \nQ 42.578125 3.328125 38.25 0.953125 \nQ 33.9375 -1.421875 27.875 -1.421875 \nQ 17.96875 -1.421875 11.734375 6.484375 \nQ 5.515625 14.40625 5.515625 27.296875 \nQ 5.515625 40.1875 11.734375 48.09375 \nQ 17.96875 56 27.875 56 \nQ 33.9375 56 38.25 53.625 \nQ 42.578125 51.265625 45.40625 46.390625 \nz\nM 14.796875 27.296875 \nQ 14.796875 17.390625 18.875 11.75 \nQ 22.953125 6.109375 30.078125 6.109375 \nQ 37.203125 6.109375 41.296875 11.75 \nQ 45.40625 17.390625 45.40625 27.296875 \nQ 45.40625 37.203125 41.296875 42.84375 \nQ 37.203125 48.484375 30.078125 48.484375 \nQ 22.953125 48.484375 18.875 42.84375 \nQ 14.796875 37.203125 14.796875 27.296875 \nz\n\" id=\"DejaVuSans-100\"/>\n     <path d=\"M 56.203125 29.59375 \nL 56.203125 25.203125 \nL 14.890625 25.203125 \nQ 15.484375 15.921875 20.484375 11.0625 \nQ 25.484375 6.203125 34.421875 6.203125 \nQ 39.59375 6.203125 44.453125 7.46875 \nQ 49.3125 8.734375 54.109375 11.28125 \nL 54.109375 2.78125 \nQ 49.265625 0.734375 44.1875 -0.34375 \nQ 39.109375 -1.421875 33.890625 -1.421875 \nQ 20.796875 -1.421875 13.15625 6.1875 \nQ 5.515625 13.8125 5.515625 26.8125 \nQ 5.515625 40.234375 12.765625 48.109375 \nQ 20.015625 56 32.328125 56 \nQ 43.359375 56 49.78125 48.890625 \nQ 56.203125 41.796875 56.203125 29.59375 \nz\nM 47.21875 32.234375 \nQ 47.125 39.59375 43.09375 43.984375 \nQ 39.0625 48.390625 32.421875 48.390625 \nQ 24.90625 48.390625 20.390625 44.140625 \nQ 15.875 39.890625 15.1875 32.171875 \nz\n\" id=\"DejaVuSans-101\"/>\n     <path d=\"M 9.421875 75.984375 \nL 18.40625 75.984375 \nL 18.40625 0 \nL 9.421875 0 \nz\n\" id=\"DejaVuSans-108\"/>\n     <path id=\"DejaVuSans-32\"/>\n    </defs>\n    <g transform=\"translate(215.178153 16.318125)scale(0.12 -0.12)\">\n     <use xlink:href=\"#DejaVuSans-77\"/>\n     <use x=\"86.279297\" xlink:href=\"#DejaVuSans-111\"/>\n     <use x=\"147.460938\" xlink:href=\"#DejaVuSans-100\"/>\n     <use x=\"210.9375\" xlink:href=\"#DejaVuSans-101\"/>\n     <use x=\"272.460938\" xlink:href=\"#DejaVuSans-108\"/>\n     <use x=\"300.244141\" xlink:href=\"#DejaVuSans-32\"/>\n     <use x=\"332.03125\" xlink:href=\"#DejaVuSans-108\"/>\n     <use x=\"359.814453\" xlink:href=\"#DejaVuSans-111\"/>\n     <use x=\"420.996094\" xlink:href=\"#DejaVuSans-115\"/>\n     <use x=\"473.095703\" xlink:href=\"#DejaVuSans-115\"/>\n    </g>\n   </g>\n  </g>\n  <g id=\"axes_2\">\n   <g id=\"patch_7\">\n    <path d=\"M 530.763068 294.118125 \nL 936.58125 294.118125 \nL 936.58125 22.318125 \nL 530.763068 22.318125 \nz\n\" style=\"fill:#ffffff;\"/>\n   </g>\n   <g id=\"matplotlib.axis_3\">\n    <g id=\"xtick_8\">\n     <g id=\"line2d_16\">\n      <g>\n       <use style=\"stroke:#000000;stroke-width:0.8;\" x=\"549.209349\" xlink:href=\"#mf86d44f7c6\" y=\"294.118125\"/>\n      </g>\n     </g>\n     <g id=\"text_18\">\n      <!-- 0 -->\n      <g transform=\"translate(546.028099 308.716563)scale(0.1 -0.1)\">\n       <use xlink:href=\"#DejaVuSans-48\"/>\n      </g>\n     </g>\n    </g>\n    <g id=\"xtick_9\">\n     <g id=\"line2d_17\">\n      <g>\n       <use style=\"stroke:#000000;stroke-width:0.8;\" x=\"612.817215\" xlink:href=\"#mf86d44f7c6\" y=\"294.118125\"/>\n      </g>\n     </g>\n     <g id=\"text_19\">\n      <!-- 5 -->\n      <g transform=\"translate(609.635965 308.716563)scale(0.1 -0.1)\">\n       <use xlink:href=\"#DejaVuSans-53\"/>\n      </g>\n     </g>\n    </g>\n    <g id=\"xtick_10\">\n     <g id=\"line2d_18\">\n      <g>\n       <use style=\"stroke:#000000;stroke-width:0.8;\" x=\"676.42508\" xlink:href=\"#mf86d44f7c6\" y=\"294.118125\"/>\n      </g>\n     </g>\n     <g id=\"text_20\">\n      <!-- 10 -->\n      <g transform=\"translate(670.06258 308.716563)scale(0.1 -0.1)\">\n       <use xlink:href=\"#DejaVuSans-49\"/>\n       <use x=\"63.623047\" xlink:href=\"#DejaVuSans-48\"/>\n      </g>\n     </g>\n    </g>\n    <g id=\"xtick_11\">\n     <g id=\"line2d_19\">\n      <g>\n       <use style=\"stroke:#000000;stroke-width:0.8;\" x=\"740.032946\" xlink:href=\"#mf86d44f7c6\" y=\"294.118125\"/>\n      </g>\n     </g>\n     <g id=\"text_21\">\n      <!-- 15 -->\n      <g transform=\"translate(733.670446 308.716563)scale(0.1 -0.1)\">\n       <use xlink:href=\"#DejaVuSans-49\"/>\n       <use x=\"63.623047\" xlink:href=\"#DejaVuSans-53\"/>\n      </g>\n     </g>\n    </g>\n    <g id=\"xtick_12\">\n     <g id=\"line2d_20\">\n      <g>\n       <use style=\"stroke:#000000;stroke-width:0.8;\" x=\"803.640811\" xlink:href=\"#mf86d44f7c6\" y=\"294.118125\"/>\n      </g>\n     </g>\n     <g id=\"text_22\">\n      <!-- 20 -->\n      <g transform=\"translate(797.278311 308.716563)scale(0.1 -0.1)\">\n       <use xlink:href=\"#DejaVuSans-50\"/>\n       <use x=\"63.623047\" xlink:href=\"#DejaVuSans-48\"/>\n      </g>\n     </g>\n    </g>\n    <g id=\"xtick_13\">\n     <g id=\"line2d_21\">\n      <g>\n       <use style=\"stroke:#000000;stroke-width:0.8;\" x=\"867.248677\" xlink:href=\"#mf86d44f7c6\" y=\"294.118125\"/>\n      </g>\n     </g>\n     <g id=\"text_23\">\n      <!-- 25 -->\n      <g transform=\"translate(860.886177 308.716563)scale(0.1 -0.1)\">\n       <use xlink:href=\"#DejaVuSans-50\"/>\n       <use x=\"63.623047\" xlink:href=\"#DejaVuSans-53\"/>\n      </g>\n     </g>\n    </g>\n    <g id=\"xtick_14\">\n     <g id=\"line2d_22\">\n      <g>\n       <use style=\"stroke:#000000;stroke-width:0.8;\" x=\"930.856542\" xlink:href=\"#mf86d44f7c6\" y=\"294.118125\"/>\n      </g>\n     </g>\n     <g id=\"text_24\">\n      <!-- 30 -->\n      <g transform=\"translate(924.494042 308.716563)scale(0.1 -0.1)\">\n       <use xlink:href=\"#DejaVuSans-51\"/>\n       <use x=\"63.623047\" xlink:href=\"#DejaVuSans-48\"/>\n      </g>\n     </g>\n    </g>\n    <g id=\"text_25\">\n     <!-- Epochs -->\n     <g transform=\"translate(715.756534 322.394687)scale(0.1 -0.1)\">\n      <use xlink:href=\"#DejaVuSans-69\"/>\n      <use x=\"63.183594\" xlink:href=\"#DejaVuSans-112\"/>\n      <use x=\"126.660156\" xlink:href=\"#DejaVuSans-111\"/>\n      <use x=\"187.841797\" xlink:href=\"#DejaVuSans-99\"/>\n      <use x=\"242.822266\" xlink:href=\"#DejaVuSans-104\"/>\n      <use x=\"306.201172\" xlink:href=\"#DejaVuSans-115\"/>\n     </g>\n    </g>\n   </g>\n   <g id=\"matplotlib.axis_4\">\n    <g id=\"ytick_8\">\n     <g id=\"line2d_23\">\n      <g>\n       <use style=\"stroke:#000000;stroke-width:0.8;\" x=\"530.763068\" xlink:href=\"#m2030b8baa6\" y=\"285.258553\"/>\n      </g>\n     </g>\n     <g id=\"text_26\">\n      <!-- 25 -->\n      <g transform=\"translate(511.038068 289.057772)scale(0.1 -0.1)\">\n       <use xlink:href=\"#DejaVuSans-50\"/>\n       <use x=\"63.623047\" xlink:href=\"#DejaVuSans-53\"/>\n      </g>\n     </g>\n    </g>\n    <g id=\"ytick_9\">\n     <g id=\"line2d_24\">\n      <g>\n       <use style=\"stroke:#000000;stroke-width:0.8;\" x=\"530.763068\" xlink:href=\"#m2030b8baa6\" y=\"237.89525\"/>\n      </g>\n     </g>\n     <g id=\"text_27\">\n      <!-- 30 -->\n      <g transform=\"translate(511.038068 241.694469)scale(0.1 -0.1)\">\n       <use xlink:href=\"#DejaVuSans-51\"/>\n       <use x=\"63.623047\" xlink:href=\"#DejaVuSans-48\"/>\n      </g>\n     </g>\n    </g>\n    <g id=\"ytick_10\">\n     <g id=\"line2d_25\">\n      <g>\n       <use style=\"stroke:#000000;stroke-width:0.8;\" x=\"530.763068\" xlink:href=\"#m2030b8baa6\" y=\"190.531947\"/>\n      </g>\n     </g>\n     <g id=\"text_28\">\n      <!-- 35 -->\n      <g transform=\"translate(511.038068 194.331166)scale(0.1 -0.1)\">\n       <use xlink:href=\"#DejaVuSans-51\"/>\n       <use x=\"63.623047\" xlink:href=\"#DejaVuSans-53\"/>\n      </g>\n     </g>\n    </g>\n    <g id=\"ytick_11\">\n     <g id=\"line2d_26\">\n      <g>\n       <use style=\"stroke:#000000;stroke-width:0.8;\" x=\"530.763068\" xlink:href=\"#m2030b8baa6\" y=\"143.168644\"/>\n      </g>\n     </g>\n     <g id=\"text_29\">\n      <!-- 40 -->\n      <g transform=\"translate(511.038068 146.967863)scale(0.1 -0.1)\">\n       <use xlink:href=\"#DejaVuSans-52\"/>\n       <use x=\"63.623047\" xlink:href=\"#DejaVuSans-48\"/>\n      </g>\n     </g>\n    </g>\n    <g id=\"ytick_12\">\n     <g id=\"line2d_27\">\n      <g>\n       <use style=\"stroke:#000000;stroke-width:0.8;\" x=\"530.763068\" xlink:href=\"#m2030b8baa6\" y=\"95.805342\"/>\n      </g>\n     </g>\n     <g id=\"text_30\">\n      <!-- 45 -->\n      <g transform=\"translate(511.038068 99.60456)scale(0.1 -0.1)\">\n       <use xlink:href=\"#DejaVuSans-52\"/>\n       <use x=\"63.623047\" xlink:href=\"#DejaVuSans-53\"/>\n      </g>\n     </g>\n    </g>\n    <g id=\"ytick_13\">\n     <g id=\"line2d_28\">\n      <g>\n       <use style=\"stroke:#000000;stroke-width:0.8;\" x=\"530.763068\" xlink:href=\"#m2030b8baa6\" y=\"48.442039\"/>\n      </g>\n     </g>\n     <g id=\"text_31\">\n      <!-- 50 -->\n      <g transform=\"translate(511.038068 52.241258)scale(0.1 -0.1)\">\n       <use xlink:href=\"#DejaVuSans-53\"/>\n       <use x=\"63.623047\" xlink:href=\"#DejaVuSans-48\"/>\n      </g>\n     </g>\n    </g>\n    <g id=\"text_32\">\n     <!-- Accuracy (%) -->\n     <defs>\n      <path d=\"M 34.1875 63.1875 \nL 20.796875 26.90625 \nL 47.609375 26.90625 \nz\nM 28.609375 72.90625 \nL 39.796875 72.90625 \nL 67.578125 0 \nL 57.328125 0 \nL 50.6875 18.703125 \nL 17.828125 18.703125 \nL 11.1875 0 \nL 0.78125 0 \nz\n\" id=\"DejaVuSans-65\"/>\n      <path d=\"M 8.5 21.578125 \nL 8.5 54.6875 \nL 17.484375 54.6875 \nL 17.484375 21.921875 \nQ 17.484375 14.15625 20.5 10.265625 \nQ 23.53125 6.390625 29.59375 6.390625 \nQ 36.859375 6.390625 41.078125 11.03125 \nQ 45.3125 15.671875 45.3125 23.6875 \nL 45.3125 54.6875 \nL 54.296875 54.6875 \nL 54.296875 0 \nL 45.3125 0 \nL 45.3125 8.40625 \nQ 42.046875 3.421875 37.71875 1 \nQ 33.40625 -1.421875 27.6875 -1.421875 \nQ 18.265625 -1.421875 13.375 4.4375 \nQ 8.5 10.296875 8.5 21.578125 \nz\nM 31.109375 56 \nz\n\" id=\"DejaVuSans-117\"/>\n      <path d=\"M 41.109375 46.296875 \nQ 39.59375 47.171875 37.8125 47.578125 \nQ 36.03125 48 33.890625 48 \nQ 26.265625 48 22.1875 43.046875 \nQ 18.109375 38.09375 18.109375 28.8125 \nL 18.109375 0 \nL 9.078125 0 \nL 9.078125 54.6875 \nL 18.109375 54.6875 \nL 18.109375 46.1875 \nQ 20.953125 51.171875 25.484375 53.578125 \nQ 30.03125 56 36.53125 56 \nQ 37.453125 56 38.578125 55.875 \nQ 39.703125 55.765625 41.0625 55.515625 \nz\n\" id=\"DejaVuSans-114\"/>\n      <path d=\"M 34.28125 27.484375 \nQ 23.390625 27.484375 19.1875 25 \nQ 14.984375 22.515625 14.984375 16.5 \nQ 14.984375 11.71875 18.140625 8.90625 \nQ 21.296875 6.109375 26.703125 6.109375 \nQ 34.1875 6.109375 38.703125 11.40625 \nQ 43.21875 16.703125 43.21875 25.484375 \nL 43.21875 27.484375 \nz\nM 52.203125 31.203125 \nL 52.203125 0 \nL 43.21875 0 \nL 43.21875 8.296875 \nQ 40.140625 3.328125 35.546875 0.953125 \nQ 30.953125 -1.421875 24.3125 -1.421875 \nQ 15.921875 -1.421875 10.953125 3.296875 \nQ 6 8.015625 6 15.921875 \nQ 6 25.140625 12.171875 29.828125 \nQ 18.359375 34.515625 30.609375 34.515625 \nL 43.21875 34.515625 \nL 43.21875 35.40625 \nQ 43.21875 41.609375 39.140625 45 \nQ 35.0625 48.390625 27.6875 48.390625 \nQ 23 48.390625 18.546875 47.265625 \nQ 14.109375 46.140625 10.015625 43.890625 \nL 10.015625 52.203125 \nQ 14.9375 54.109375 19.578125 55.046875 \nQ 24.21875 56 28.609375 56 \nQ 40.484375 56 46.34375 49.84375 \nQ 52.203125 43.703125 52.203125 31.203125 \nz\n\" id=\"DejaVuSans-97\"/>\n      <path d=\"M 32.171875 -5.078125 \nQ 28.375 -14.84375 24.75 -17.8125 \nQ 21.140625 -20.796875 15.09375 -20.796875 \nL 7.90625 -20.796875 \nL 7.90625 -13.28125 \nL 13.1875 -13.28125 \nQ 16.890625 -13.28125 18.9375 -11.515625 \nQ 21 -9.765625 23.484375 -3.21875 \nL 25.09375 0.875 \nL 2.984375 54.6875 \nL 12.5 54.6875 \nL 29.59375 11.921875 \nL 46.6875 54.6875 \nL 56.203125 54.6875 \nz\n\" id=\"DejaVuSans-121\"/>\n      <path d=\"M 31 75.875 \nQ 24.46875 64.65625 21.28125 53.65625 \nQ 18.109375 42.671875 18.109375 31.390625 \nQ 18.109375 20.125 21.3125 9.0625 \nQ 24.515625 -2 31 -13.1875 \nL 23.1875 -13.1875 \nQ 15.875 -1.703125 12.234375 9.375 \nQ 8.59375 20.453125 8.59375 31.390625 \nQ 8.59375 42.28125 12.203125 53.3125 \nQ 15.828125 64.359375 23.1875 75.875 \nz\n\" id=\"DejaVuSans-40\"/>\n      <path d=\"M 72.703125 32.078125 \nQ 68.453125 32.078125 66.03125 28.46875 \nQ 63.625 24.859375 63.625 18.40625 \nQ 63.625 12.0625 66.03125 8.421875 \nQ 68.453125 4.78125 72.703125 4.78125 \nQ 76.859375 4.78125 79.265625 8.421875 \nQ 81.6875 12.0625 81.6875 18.40625 \nQ 81.6875 24.8125 79.265625 28.4375 \nQ 76.859375 32.078125 72.703125 32.078125 \nz\nM 72.703125 38.28125 \nQ 80.421875 38.28125 84.953125 32.90625 \nQ 89.5 27.546875 89.5 18.40625 \nQ 89.5 9.28125 84.9375 3.921875 \nQ 80.375 -1.421875 72.703125 -1.421875 \nQ 64.890625 -1.421875 60.34375 3.921875 \nQ 55.8125 9.28125 55.8125 18.40625 \nQ 55.8125 27.59375 60.375 32.9375 \nQ 64.9375 38.28125 72.703125 38.28125 \nz\nM 22.3125 68.015625 \nQ 18.109375 68.015625 15.6875 64.375 \nQ 13.28125 60.75 13.28125 54.390625 \nQ 13.28125 47.953125 15.671875 44.328125 \nQ 18.0625 40.71875 22.3125 40.71875 \nQ 26.5625 40.71875 28.96875 44.328125 \nQ 31.390625 47.953125 31.390625 54.390625 \nQ 31.390625 60.6875 28.953125 64.34375 \nQ 26.515625 68.015625 22.3125 68.015625 \nz\nM 66.40625 74.21875 \nL 74.21875 74.21875 \nL 28.609375 -1.421875 \nL 20.796875 -1.421875 \nz\nM 22.3125 74.21875 \nQ 30.03125 74.21875 34.609375 68.875 \nQ 39.203125 63.53125 39.203125 54.390625 \nQ 39.203125 45.171875 34.640625 39.84375 \nQ 30.078125 34.515625 22.3125 34.515625 \nQ 14.546875 34.515625 10.03125 39.859375 \nQ 5.515625 45.21875 5.515625 54.390625 \nQ 5.515625 63.484375 10.046875 68.84375 \nQ 14.59375 74.21875 22.3125 74.21875 \nz\n\" id=\"DejaVuSans-37\"/>\n      <path d=\"M 8.015625 75.875 \nL 15.828125 75.875 \nQ 23.140625 64.359375 26.78125 53.3125 \nQ 30.421875 42.28125 30.421875 31.390625 \nQ 30.421875 20.453125 26.78125 9.375 \nQ 23.140625 -1.703125 15.828125 -13.1875 \nL 8.015625 -13.1875 \nQ 14.5 -2 17.703125 9.0625 \nQ 20.90625 20.125 20.90625 31.390625 \nQ 20.90625 42.671875 17.703125 53.65625 \nQ 14.5 64.65625 8.015625 75.875 \nz\n\" id=\"DejaVuSans-41\"/>\n     </defs>\n     <g transform=\"translate(504.958381 191.287656)rotate(-90)scale(0.1 -0.1)\">\n      <use xlink:href=\"#DejaVuSans-65\"/>\n      <use x=\"66.658203\" xlink:href=\"#DejaVuSans-99\"/>\n      <use x=\"121.638672\" xlink:href=\"#DejaVuSans-99\"/>\n      <use x=\"176.619141\" xlink:href=\"#DejaVuSans-117\"/>\n      <use x=\"239.998047\" xlink:href=\"#DejaVuSans-114\"/>\n      <use x=\"281.111328\" xlink:href=\"#DejaVuSans-97\"/>\n      <use x=\"342.390625\" xlink:href=\"#DejaVuSans-99\"/>\n      <use x=\"397.371094\" xlink:href=\"#DejaVuSans-121\"/>\n      <use x=\"456.550781\" xlink:href=\"#DejaVuSans-32\"/>\n      <use x=\"488.337891\" xlink:href=\"#DejaVuSans-40\"/>\n      <use x=\"527.351562\" xlink:href=\"#DejaVuSans-37\"/>\n      <use x=\"622.371094\" xlink:href=\"#DejaVuSans-41\"/>\n     </g>\n    </g>\n   </g>\n   <g id=\"line2d_29\">\n    <path clip-path=\"url(#p2f44773006)\" d=\"M 549.209349 281.76358 \nL 561.930922 201.042162 \nL 574.652495 170.618994 \nL 587.374068 157.775991 \nL 600.095642 144.343476 \nL 612.817215 136.953476 \nL 625.538788 128.089695 \nL 638.260361 120.089152 \nL 650.981934 111.351701 \nL 663.703507 104.214359 \nL 676.42508 100.403563 \nL 689.146653 95.455841 \nL 701.868226 90.360759 \nL 714.589799 86.255207 \nL 727.311373 80.928498 \nL 740.032946 72.759528 \nL 752.754519 72.949021 \nL 765.476092 70.990992 \nL 778.197665 63.958912 \nL 790.919238 64.653686 \nL 803.640811 60.000756 \nL 816.362384 58.232184 \nL 829.083957 53.158169 \nL 841.80553 49.978983 \nL 854.527104 46.673503 \nL 867.248677 47.368277 \nL 879.97025 41.00994 \nL 892.691823 39.430899 \nL 905.413396 36.441206 \nL 918.134969 34.67267 \n\" style=\"fill:none;stroke:#1f77b4;stroke-linecap:square;stroke-width:1.5;\"/>\n    <g clip-path=\"url(#p2f44773006)\">\n     <use style=\"fill:#1f77b4;stroke:#1f77b4;stroke-linejoin:miter;\" x=\"549.209349\" xlink:href=\"#m3cfa8b1563\" y=\"281.76358\"/>\n     <use style=\"fill:#1f77b4;stroke:#1f77b4;stroke-linejoin:miter;\" x=\"561.930922\" xlink:href=\"#m3cfa8b1563\" y=\"201.042162\"/>\n     <use style=\"fill:#1f77b4;stroke:#1f77b4;stroke-linejoin:miter;\" x=\"574.652495\" xlink:href=\"#m3cfa8b1563\" y=\"170.618994\"/>\n     <use style=\"fill:#1f77b4;stroke:#1f77b4;stroke-linejoin:miter;\" x=\"587.374068\" xlink:href=\"#m3cfa8b1563\" y=\"157.775991\"/>\n     <use style=\"fill:#1f77b4;stroke:#1f77b4;stroke-linejoin:miter;\" x=\"600.095642\" xlink:href=\"#m3cfa8b1563\" y=\"144.343476\"/>\n     <use style=\"fill:#1f77b4;stroke:#1f77b4;stroke-linejoin:miter;\" x=\"612.817215\" xlink:href=\"#m3cfa8b1563\" y=\"136.953476\"/>\n     <use style=\"fill:#1f77b4;stroke:#1f77b4;stroke-linejoin:miter;\" x=\"625.538788\" xlink:href=\"#m3cfa8b1563\" y=\"128.089695\"/>\n     <use style=\"fill:#1f77b4;stroke:#1f77b4;stroke-linejoin:miter;\" x=\"638.260361\" xlink:href=\"#m3cfa8b1563\" y=\"120.089152\"/>\n     <use style=\"fill:#1f77b4;stroke:#1f77b4;stroke-linejoin:miter;\" x=\"650.981934\" xlink:href=\"#m3cfa8b1563\" y=\"111.351701\"/>\n     <use style=\"fill:#1f77b4;stroke:#1f77b4;stroke-linejoin:miter;\" x=\"663.703507\" xlink:href=\"#m3cfa8b1563\" y=\"104.214359\"/>\n     <use style=\"fill:#1f77b4;stroke:#1f77b4;stroke-linejoin:miter;\" x=\"676.42508\" xlink:href=\"#m3cfa8b1563\" y=\"100.403563\"/>\n     <use style=\"fill:#1f77b4;stroke:#1f77b4;stroke-linejoin:miter;\" x=\"689.146653\" xlink:href=\"#m3cfa8b1563\" y=\"95.455841\"/>\n     <use style=\"fill:#1f77b4;stroke:#1f77b4;stroke-linejoin:miter;\" x=\"701.868226\" xlink:href=\"#m3cfa8b1563\" y=\"90.360759\"/>\n     <use style=\"fill:#1f77b4;stroke:#1f77b4;stroke-linejoin:miter;\" x=\"714.589799\" xlink:href=\"#m3cfa8b1563\" y=\"86.255207\"/>\n     <use style=\"fill:#1f77b4;stroke:#1f77b4;stroke-linejoin:miter;\" x=\"727.311373\" xlink:href=\"#m3cfa8b1563\" y=\"80.928498\"/>\n     <use style=\"fill:#1f77b4;stroke:#1f77b4;stroke-linejoin:miter;\" x=\"740.032946\" xlink:href=\"#m3cfa8b1563\" y=\"72.759528\"/>\n     <use style=\"fill:#1f77b4;stroke:#1f77b4;stroke-linejoin:miter;\" x=\"752.754519\" xlink:href=\"#m3cfa8b1563\" y=\"72.949021\"/>\n     <use style=\"fill:#1f77b4;stroke:#1f77b4;stroke-linejoin:miter;\" x=\"765.476092\" xlink:href=\"#m3cfa8b1563\" y=\"70.990992\"/>\n     <use style=\"fill:#1f77b4;stroke:#1f77b4;stroke-linejoin:miter;\" x=\"778.197665\" xlink:href=\"#m3cfa8b1563\" y=\"63.958912\"/>\n     <use style=\"fill:#1f77b4;stroke:#1f77b4;stroke-linejoin:miter;\" x=\"790.919238\" xlink:href=\"#m3cfa8b1563\" y=\"64.653686\"/>\n     <use style=\"fill:#1f77b4;stroke:#1f77b4;stroke-linejoin:miter;\" x=\"803.640811\" xlink:href=\"#m3cfa8b1563\" y=\"60.000756\"/>\n     <use style=\"fill:#1f77b4;stroke:#1f77b4;stroke-linejoin:miter;\" x=\"816.362384\" xlink:href=\"#m3cfa8b1563\" y=\"58.232184\"/>\n     <use style=\"fill:#1f77b4;stroke:#1f77b4;stroke-linejoin:miter;\" x=\"829.083957\" xlink:href=\"#m3cfa8b1563\" y=\"53.158169\"/>\n     <use style=\"fill:#1f77b4;stroke:#1f77b4;stroke-linejoin:miter;\" x=\"841.80553\" xlink:href=\"#m3cfa8b1563\" y=\"49.978983\"/>\n     <use style=\"fill:#1f77b4;stroke:#1f77b4;stroke-linejoin:miter;\" x=\"854.527104\" xlink:href=\"#m3cfa8b1563\" y=\"46.673503\"/>\n     <use style=\"fill:#1f77b4;stroke:#1f77b4;stroke-linejoin:miter;\" x=\"867.248677\" xlink:href=\"#m3cfa8b1563\" y=\"47.368277\"/>\n     <use style=\"fill:#1f77b4;stroke:#1f77b4;stroke-linejoin:miter;\" x=\"879.97025\" xlink:href=\"#m3cfa8b1563\" y=\"41.00994\"/>\n     <use style=\"fill:#1f77b4;stroke:#1f77b4;stroke-linejoin:miter;\" x=\"892.691823\" xlink:href=\"#m3cfa8b1563\" y=\"39.430899\"/>\n     <use style=\"fill:#1f77b4;stroke:#1f77b4;stroke-linejoin:miter;\" x=\"905.413396\" xlink:href=\"#m3cfa8b1563\" y=\"36.441206\"/>\n     <use style=\"fill:#1f77b4;stroke:#1f77b4;stroke-linejoin:miter;\" x=\"918.134969\" xlink:href=\"#m3cfa8b1563\" y=\"34.67267\"/>\n    </g>\n   </g>\n   <g id=\"line2d_30\">\n    <path clip-path=\"url(#p2f44773006)\" d=\"M 549.209349 214.971393 \nL 561.930922 186.932326 \nL 574.652495 167.987005 \nL 587.374068 167.418668 \nL 600.095642 154.346387 \nL 612.817215 143.926475 \nL 625.538788 133.317069 \nL 638.260361 136.91669 \nL 650.981934 120.244823 \nL 663.703507 113.613954 \nL 676.42508 112.856123 \nL 689.146653 118.160826 \nL 701.868226 119.676451 \nL 714.589799 112.477244 \nL 727.311373 110.20379 \nL 740.032946 121.381532 \nL 752.754519 131.043614 \nL 765.476092 113.235038 \nL 778.197665 121.381532 \nL 790.919238 115.887408 \nL 803.640811 119.676451 \nL 816.362384 110.014332 \nL 829.083957 109.824875 \nL 841.80553 117.59249 \nL 854.527104 113.803411 \nL 867.248677 109.824875 \nL 879.97025 108.119793 \nL 892.691823 113.803411 \nL 905.413396 133.695984 \nL 918.134969 127.444029 \n\" style=\"fill:none;stroke:#ff7f0e;stroke-linecap:square;stroke-width:1.5;\"/>\n    <defs>\n     <path d=\"M 0 3 \nC 0.795609 3 1.55874 2.683901 2.12132 2.12132 \nC 2.683901 1.55874 3 0.795609 3 0 \nC 3 -0.795609 2.683901 -1.55874 2.12132 -2.12132 \nC 1.55874 -2.683901 0.795609 -3 0 -3 \nC -0.795609 -3 -1.55874 -2.683901 -2.12132 -2.12132 \nC -2.683901 -1.55874 -3 -0.795609 -3 0 \nC -3 0.795609 -2.683901 1.55874 -2.12132 2.12132 \nC -1.55874 2.683901 -0.795609 3 0 3 \nz\n\" id=\"m4a098514b5\" style=\"stroke:#ff7f0e;\"/>\n    </defs>\n    <g clip-path=\"url(#p2f44773006)\">\n     <use style=\"fill:#ff7f0e;stroke:#ff7f0e;\" x=\"549.209349\" xlink:href=\"#m4a098514b5\" y=\"214.971393\"/>\n     <use style=\"fill:#ff7f0e;stroke:#ff7f0e;\" x=\"561.930922\" xlink:href=\"#m4a098514b5\" y=\"186.932326\"/>\n     <use style=\"fill:#ff7f0e;stroke:#ff7f0e;\" x=\"574.652495\" xlink:href=\"#m4a098514b5\" y=\"167.987005\"/>\n     <use style=\"fill:#ff7f0e;stroke:#ff7f0e;\" x=\"587.374068\" xlink:href=\"#m4a098514b5\" y=\"167.418668\"/>\n     <use style=\"fill:#ff7f0e;stroke:#ff7f0e;\" x=\"600.095642\" xlink:href=\"#m4a098514b5\" y=\"154.346387\"/>\n     <use style=\"fill:#ff7f0e;stroke:#ff7f0e;\" x=\"612.817215\" xlink:href=\"#m4a098514b5\" y=\"143.926475\"/>\n     <use style=\"fill:#ff7f0e;stroke:#ff7f0e;\" x=\"625.538788\" xlink:href=\"#m4a098514b5\" y=\"133.317069\"/>\n     <use style=\"fill:#ff7f0e;stroke:#ff7f0e;\" x=\"638.260361\" xlink:href=\"#m4a098514b5\" y=\"136.91669\"/>\n     <use style=\"fill:#ff7f0e;stroke:#ff7f0e;\" x=\"650.981934\" xlink:href=\"#m4a098514b5\" y=\"120.244823\"/>\n     <use style=\"fill:#ff7f0e;stroke:#ff7f0e;\" x=\"663.703507\" xlink:href=\"#m4a098514b5\" y=\"113.613954\"/>\n     <use style=\"fill:#ff7f0e;stroke:#ff7f0e;\" x=\"676.42508\" xlink:href=\"#m4a098514b5\" y=\"112.856123\"/>\n     <use style=\"fill:#ff7f0e;stroke:#ff7f0e;\" x=\"689.146653\" xlink:href=\"#m4a098514b5\" y=\"118.160826\"/>\n     <use style=\"fill:#ff7f0e;stroke:#ff7f0e;\" x=\"701.868226\" xlink:href=\"#m4a098514b5\" y=\"119.676451\"/>\n     <use style=\"fill:#ff7f0e;stroke:#ff7f0e;\" x=\"714.589799\" xlink:href=\"#m4a098514b5\" y=\"112.477244\"/>\n     <use style=\"fill:#ff7f0e;stroke:#ff7f0e;\" x=\"727.311373\" xlink:href=\"#m4a098514b5\" y=\"110.20379\"/>\n     <use style=\"fill:#ff7f0e;stroke:#ff7f0e;\" x=\"740.032946\" xlink:href=\"#m4a098514b5\" y=\"121.381532\"/>\n     <use style=\"fill:#ff7f0e;stroke:#ff7f0e;\" x=\"752.754519\" xlink:href=\"#m4a098514b5\" y=\"131.043614\"/>\n     <use style=\"fill:#ff7f0e;stroke:#ff7f0e;\" x=\"765.476092\" xlink:href=\"#m4a098514b5\" y=\"113.235038\"/>\n     <use style=\"fill:#ff7f0e;stroke:#ff7f0e;\" x=\"778.197665\" xlink:href=\"#m4a098514b5\" y=\"121.381532\"/>\n     <use style=\"fill:#ff7f0e;stroke:#ff7f0e;\" x=\"790.919238\" xlink:href=\"#m4a098514b5\" y=\"115.887408\"/>\n     <use style=\"fill:#ff7f0e;stroke:#ff7f0e;\" x=\"803.640811\" xlink:href=\"#m4a098514b5\" y=\"119.676451\"/>\n     <use style=\"fill:#ff7f0e;stroke:#ff7f0e;\" x=\"816.362384\" xlink:href=\"#m4a098514b5\" y=\"110.014332\"/>\n     <use style=\"fill:#ff7f0e;stroke:#ff7f0e;\" x=\"829.083957\" xlink:href=\"#m4a098514b5\" y=\"109.824875\"/>\n     <use style=\"fill:#ff7f0e;stroke:#ff7f0e;\" x=\"841.80553\" xlink:href=\"#m4a098514b5\" y=\"117.59249\"/>\n     <use style=\"fill:#ff7f0e;stroke:#ff7f0e;\" x=\"854.527104\" xlink:href=\"#m4a098514b5\" y=\"113.803411\"/>\n     <use style=\"fill:#ff7f0e;stroke:#ff7f0e;\" x=\"867.248677\" xlink:href=\"#m4a098514b5\" y=\"109.824875\"/>\n     <use style=\"fill:#ff7f0e;stroke:#ff7f0e;\" x=\"879.97025\" xlink:href=\"#m4a098514b5\" y=\"108.119793\"/>\n     <use style=\"fill:#ff7f0e;stroke:#ff7f0e;\" x=\"892.691823\" xlink:href=\"#m4a098514b5\" y=\"113.803411\"/>\n     <use style=\"fill:#ff7f0e;stroke:#ff7f0e;\" x=\"905.413396\" xlink:href=\"#m4a098514b5\" y=\"133.695984\"/>\n     <use style=\"fill:#ff7f0e;stroke:#ff7f0e;\" x=\"918.134969\" xlink:href=\"#m4a098514b5\" y=\"127.444029\"/>\n    </g>\n   </g>\n   <g id=\"patch_8\">\n    <path d=\"M 530.763068 294.118125 \nL 530.763068 22.318125 \n\" style=\"fill:none;stroke:#000000;stroke-linecap:square;stroke-linejoin:miter;stroke-width:0.8;\"/>\n   </g>\n   <g id=\"patch_9\">\n    <path d=\"M 936.58125 294.118125 \nL 936.58125 22.318125 \n\" style=\"fill:none;stroke:#000000;stroke-linecap:square;stroke-linejoin:miter;stroke-width:0.8;\"/>\n   </g>\n   <g id=\"patch_10\">\n    <path d=\"M 530.763068 294.118125 \nL 936.58125 294.118125 \n\" style=\"fill:none;stroke:#000000;stroke-linecap:square;stroke-linejoin:miter;stroke-width:0.8;\"/>\n   </g>\n   <g id=\"patch_11\">\n    <path d=\"M 530.763068 22.318125 \nL 936.58125 22.318125 \n\" style=\"fill:none;stroke:#000000;stroke-linecap:square;stroke-linejoin:miter;stroke-width:0.8;\"/>\n   </g>\n   <g id=\"text_33\">\n    <!-- Final model test accuracy: 41.66% -->\n    <defs>\n     <path d=\"M 9.8125 72.90625 \nL 51.703125 72.90625 \nL 51.703125 64.59375 \nL 19.671875 64.59375 \nL 19.671875 43.109375 \nL 48.578125 43.109375 \nL 48.578125 34.8125 \nL 19.671875 34.8125 \nL 19.671875 0 \nL 9.8125 0 \nz\n\" id=\"DejaVuSans-70\"/>\n     <path d=\"M 9.421875 54.6875 \nL 18.40625 54.6875 \nL 18.40625 0 \nL 9.421875 0 \nz\nM 9.421875 75.984375 \nL 18.40625 75.984375 \nL 18.40625 64.59375 \nL 9.421875 64.59375 \nz\n\" id=\"DejaVuSans-105\"/>\n     <path d=\"M 54.890625 33.015625 \nL 54.890625 0 \nL 45.90625 0 \nL 45.90625 32.71875 \nQ 45.90625 40.484375 42.875 44.328125 \nQ 39.84375 48.1875 33.796875 48.1875 \nQ 26.515625 48.1875 22.3125 43.546875 \nQ 18.109375 38.921875 18.109375 30.90625 \nL 18.109375 0 \nL 9.078125 0 \nL 9.078125 54.6875 \nL 18.109375 54.6875 \nL 18.109375 46.1875 \nQ 21.34375 51.125 25.703125 53.5625 \nQ 30.078125 56 35.796875 56 \nQ 45.21875 56 50.046875 50.171875 \nQ 54.890625 44.34375 54.890625 33.015625 \nz\n\" id=\"DejaVuSans-110\"/>\n     <path d=\"M 52 44.1875 \nQ 55.375 50.25 60.0625 53.125 \nQ 64.75 56 71.09375 56 \nQ 79.640625 56 84.28125 50.015625 \nQ 88.921875 44.046875 88.921875 33.015625 \nL 88.921875 0 \nL 79.890625 0 \nL 79.890625 32.71875 \nQ 79.890625 40.578125 77.09375 44.375 \nQ 74.3125 48.1875 68.609375 48.1875 \nQ 61.625 48.1875 57.5625 43.546875 \nQ 53.515625 38.921875 53.515625 30.90625 \nL 53.515625 0 \nL 44.484375 0 \nL 44.484375 32.71875 \nQ 44.484375 40.625 41.703125 44.40625 \nQ 38.921875 48.1875 33.109375 48.1875 \nQ 26.21875 48.1875 22.15625 43.53125 \nQ 18.109375 38.875 18.109375 30.90625 \nL 18.109375 0 \nL 9.078125 0 \nL 9.078125 54.6875 \nL 18.109375 54.6875 \nL 18.109375 46.1875 \nQ 21.1875 51.21875 25.484375 53.609375 \nQ 29.78125 56 35.6875 56 \nQ 41.65625 56 45.828125 52.96875 \nQ 50 49.953125 52 44.1875 \nz\n\" id=\"DejaVuSans-109\"/>\n     <path d=\"M 18.3125 70.21875 \nL 18.3125 54.6875 \nL 36.8125 54.6875 \nL 36.8125 47.703125 \nL 18.3125 47.703125 \nL 18.3125 18.015625 \nQ 18.3125 11.328125 20.140625 9.421875 \nQ 21.96875 7.515625 27.59375 7.515625 \nL 36.8125 7.515625 \nL 36.8125 0 \nL 27.59375 0 \nQ 17.1875 0 13.234375 3.875 \nQ 9.28125 7.765625 9.28125 18.015625 \nL 9.28125 47.703125 \nL 2.6875 47.703125 \nL 2.6875 54.6875 \nL 9.28125 54.6875 \nL 9.28125 70.21875 \nz\n\" id=\"DejaVuSans-116\"/>\n     <path d=\"M 11.71875 12.40625 \nL 22.015625 12.40625 \nL 22.015625 0 \nL 11.71875 0 \nz\nM 11.71875 51.703125 \nL 22.015625 51.703125 \nL 22.015625 39.3125 \nL 11.71875 39.3125 \nz\n\" id=\"DejaVuSans-58\"/>\n    </defs>\n    <g transform=\"translate(630.474972 16.318125)scale(0.12 -0.12)\">\n     <use xlink:href=\"#DejaVuSans-70\"/>\n     <use x=\"50.269531\" xlink:href=\"#DejaVuSans-105\"/>\n     <use x=\"78.052734\" xlink:href=\"#DejaVuSans-110\"/>\n     <use x=\"141.431641\" xlink:href=\"#DejaVuSans-97\"/>\n     <use x=\"202.710938\" xlink:href=\"#DejaVuSans-108\"/>\n     <use x=\"230.494141\" xlink:href=\"#DejaVuSans-32\"/>\n     <use x=\"262.28125\" xlink:href=\"#DejaVuSans-109\"/>\n     <use x=\"359.693359\" xlink:href=\"#DejaVuSans-111\"/>\n     <use x=\"420.875\" xlink:href=\"#DejaVuSans-100\"/>\n     <use x=\"484.351562\" xlink:href=\"#DejaVuSans-101\"/>\n     <use x=\"545.875\" xlink:href=\"#DejaVuSans-108\"/>\n     <use x=\"573.658203\" xlink:href=\"#DejaVuSans-32\"/>\n     <use x=\"605.445312\" xlink:href=\"#DejaVuSans-116\"/>\n     <use x=\"644.654297\" xlink:href=\"#DejaVuSans-101\"/>\n     <use x=\"706.177734\" xlink:href=\"#DejaVuSans-115\"/>\n     <use x=\"758.277344\" xlink:href=\"#DejaVuSans-116\"/>\n     <use x=\"797.486328\" xlink:href=\"#DejaVuSans-32\"/>\n     <use x=\"829.273438\" xlink:href=\"#DejaVuSans-97\"/>\n     <use x=\"890.552734\" xlink:href=\"#DejaVuSans-99\"/>\n     <use x=\"945.533203\" xlink:href=\"#DejaVuSans-99\"/>\n     <use x=\"1000.513672\" xlink:href=\"#DejaVuSans-117\"/>\n     <use x=\"1063.892578\" xlink:href=\"#DejaVuSans-114\"/>\n     <use x=\"1105.005859\" xlink:href=\"#DejaVuSans-97\"/>\n     <use x=\"1166.285156\" xlink:href=\"#DejaVuSans-99\"/>\n     <use x=\"1221.265625\" xlink:href=\"#DejaVuSans-121\"/>\n     <use x=\"1273.195312\" xlink:href=\"#DejaVuSans-58\"/>\n     <use x=\"1306.886719\" xlink:href=\"#DejaVuSans-32\"/>\n     <use x=\"1338.673828\" xlink:href=\"#DejaVuSans-52\"/>\n     <use x=\"1402.296875\" xlink:href=\"#DejaVuSans-49\"/>\n     <use x=\"1465.919922\" xlink:href=\"#DejaVuSans-46\"/>\n     <use x=\"1497.707031\" xlink:href=\"#DejaVuSans-54\"/>\n     <use x=\"1561.330078\" xlink:href=\"#DejaVuSans-54\"/>\n     <use x=\"1624.953125\" xlink:href=\"#DejaVuSans-37\"/>\n    </g>\n   </g>\n   <g id=\"legend_1\">\n    <g id=\"patch_12\">\n     <path d=\"M 537.763068 59.674375 \nL 593.750568 59.674375 \nQ 595.750568 59.674375 595.750568 57.674375 \nL 595.750568 29.318125 \nQ 595.750568 27.318125 593.750568 27.318125 \nL 537.763068 27.318125 \nQ 535.763068 27.318125 535.763068 29.318125 \nL 535.763068 57.674375 \nQ 535.763068 59.674375 537.763068 59.674375 \nz\n\" style=\"fill:#ffffff;opacity:0.8;stroke:#cccccc;stroke-linejoin:miter;\"/>\n    </g>\n    <g id=\"line2d_31\">\n     <path d=\"M 539.763068 35.416562 \nL 559.763068 35.416562 \n\" style=\"fill:none;stroke:#1f77b4;stroke-linecap:square;stroke-width:1.5;\"/>\n    </g>\n    <g id=\"line2d_32\">\n     <g>\n      <use style=\"fill:#1f77b4;stroke:#1f77b4;stroke-linejoin:miter;\" x=\"549.763068\" xlink:href=\"#m3cfa8b1563\" y=\"35.416562\"/>\n     </g>\n    </g>\n    <g id=\"text_34\">\n     <!-- Train -->\n     <defs>\n      <path d=\"M -0.296875 72.90625 \nL 61.375 72.90625 \nL 61.375 64.59375 \nL 35.5 64.59375 \nL 35.5 0 \nL 25.59375 0 \nL 25.59375 64.59375 \nL -0.296875 64.59375 \nz\n\" id=\"DejaVuSans-84\"/>\n     </defs>\n     <g transform=\"translate(567.763068 38.916562)scale(0.1 -0.1)\">\n      <use xlink:href=\"#DejaVuSans-84\"/>\n      <use x=\"46.333984\" xlink:href=\"#DejaVuSans-114\"/>\n      <use x=\"87.447266\" xlink:href=\"#DejaVuSans-97\"/>\n      <use x=\"148.726562\" xlink:href=\"#DejaVuSans-105\"/>\n      <use x=\"176.509766\" xlink:href=\"#DejaVuSans-110\"/>\n     </g>\n    </g>\n    <g id=\"line2d_33\">\n     <path d=\"M 539.763068 50.094688 \nL 559.763068 50.094688 \n\" style=\"fill:none;stroke:#ff7f0e;stroke-linecap:square;stroke-width:1.5;\"/>\n    </g>\n    <g id=\"line2d_34\">\n     <g>\n      <use style=\"fill:#ff7f0e;stroke:#ff7f0e;\" x=\"549.763068\" xlink:href=\"#m4a098514b5\" y=\"50.094688\"/>\n     </g>\n    </g>\n    <g id=\"text_35\">\n     <!-- Test -->\n     <g transform=\"translate(567.763068 53.594688)scale(0.1 -0.1)\">\n      <use xlink:href=\"#DejaVuSans-84\"/>\n      <use x=\"44.083984\" xlink:href=\"#DejaVuSans-101\"/>\n      <use x=\"105.607422\" xlink:href=\"#DejaVuSans-115\"/>\n      <use x=\"157.707031\" xlink:href=\"#DejaVuSans-116\"/>\n     </g>\n    </g>\n   </g>\n  </g>\n </g>\n <defs>\n  <clipPath id=\"p055334497d\">\n   <rect height=\"271.8\" width=\"405.818182\" x=\"43.78125\" y=\"22.318125\"/>\n  </clipPath>\n  <clipPath id=\"p2f44773006\">\n   <rect height=\"271.8\" width=\"405.818182\" x=\"530.763068\" y=\"22.318125\"/>\n  </clipPath>\n </defs>\n</svg>\n"
          },
          "metadata": {
            "needs_background": "light"
          }
        }
      ]
    },
    {
      "cell_type": "code",
      "source": [
        "#    10 epochs    ------------> about 5 mins to proccess\n",
        "\n",
        "# fig,ax = plt.subplots(1,2,figsize=(16,5))\n",
        "\n",
        "# ax[0].plot(losses,'s-')\n",
        "# ax[0].set_xlabel('Epochs')\n",
        "# ax[0].set_ylabel('Loss')\n",
        "# ax[0].set_title('Model loss')\n",
        "\n",
        "# ax[1].plot(trainAcc,'s-',label='Train')\n",
        "# ax[1].plot(testAcc,'o-',label='Test')\n",
        "# ax[1].set_xlabel('Epochs')\n",
        "# ax[1].set_ylabel('Accuracy (%)')\n",
        "# ax[1].set_title(f'Final model test accuracy: {testAcc[-1]:.2f}%')\n",
        "# ax[1].legend()\n",
        "\n",
        "# plt.show()"
      ],
      "metadata": {
        "colab": {
          "base_uri": "https://localhost:8080/",
          "height": 463
        },
        "id": "I0BnbaDM1HSW",
        "outputId": "ecad283c-27a6-4243-8100-b9f5a2bc3b18"
      },
      "execution_count": 40,
      "outputs": [
        {
          "output_type": "display_data",
          "data": {
            "text/plain": [
              "<Figure size 1152x360 with 2 Axes>"
            ],
            "image/svg+xml": "<?xml version=\"1.0\" encoding=\"utf-8\" standalone=\"no\"?>\n<!DOCTYPE svg PUBLIC \"-//W3C//DTD SVG 1.1//EN\"\n  \"http://www.w3.org/Graphics/SVG/1.1/DTD/svg11.dtd\">\n<!-- Created with matplotlib (https://matplotlib.org/) -->\n<svg height=\"331.674375pt\" version=\"1.1\" viewBox=\"0 0 943.78125 331.674375\" width=\"943.78125pt\" xmlns=\"http://www.w3.org/2000/svg\" xmlns:xlink=\"http://www.w3.org/1999/xlink\">\n <defs>\n  <style type=\"text/css\">\n*{stroke-linecap:butt;stroke-linejoin:round;}\n  </style>\n </defs>\n <g id=\"figure_1\">\n  <g id=\"patch_1\">\n   <path d=\"M 0 331.674375 \nL 943.78125 331.674375 \nL 943.78125 0 \nL 0 0 \nz\n\" style=\"fill:none;\"/>\n  </g>\n  <g id=\"axes_1\">\n   <g id=\"patch_2\">\n    <path d=\"M 43.78125 294.118125 \nL 449.599432 294.118125 \nL 449.599432 22.318125 \nL 43.78125 22.318125 \nz\n\" style=\"fill:#ffffff;\"/>\n   </g>\n   <g id=\"matplotlib.axis_1\">\n    <g id=\"xtick_1\">\n     <g id=\"line2d_1\">\n      <defs>\n       <path d=\"M 0 0 \nL 0 3.5 \n\" id=\"m4e57106fcf\" style=\"stroke:#000000;stroke-width:0.8;\"/>\n      </defs>\n      <g>\n       <use style=\"stroke:#000000;stroke-width:0.8;\" x=\"62.227531\" xlink:href=\"#m4e57106fcf\" y=\"294.118125\"/>\n      </g>\n     </g>\n     <g id=\"text_1\">\n      <!-- 0 -->\n      <defs>\n       <path d=\"M 31.78125 66.40625 \nQ 24.171875 66.40625 20.328125 58.90625 \nQ 16.5 51.421875 16.5 36.375 \nQ 16.5 21.390625 20.328125 13.890625 \nQ 24.171875 6.390625 31.78125 6.390625 \nQ 39.453125 6.390625 43.28125 13.890625 \nQ 47.125 21.390625 47.125 36.375 \nQ 47.125 51.421875 43.28125 58.90625 \nQ 39.453125 66.40625 31.78125 66.40625 \nz\nM 31.78125 74.21875 \nQ 44.046875 74.21875 50.515625 64.515625 \nQ 56.984375 54.828125 56.984375 36.375 \nQ 56.984375 17.96875 50.515625 8.265625 \nQ 44.046875 -1.421875 31.78125 -1.421875 \nQ 19.53125 -1.421875 13.0625 8.265625 \nQ 6.59375 17.96875 6.59375 36.375 \nQ 6.59375 54.828125 13.0625 64.515625 \nQ 19.53125 74.21875 31.78125 74.21875 \nz\n\" id=\"DejaVuSans-48\"/>\n      </defs>\n      <g transform=\"translate(59.046281 308.716563)scale(0.1 -0.1)\">\n       <use xlink:href=\"#DejaVuSans-48\"/>\n      </g>\n     </g>\n    </g>\n    <g id=\"xtick_2\">\n     <g id=\"line2d_2\">\n      <g>\n       <use style=\"stroke:#000000;stroke-width:0.8;\" x=\"144.211002\" xlink:href=\"#m4e57106fcf\" y=\"294.118125\"/>\n      </g>\n     </g>\n     <g id=\"text_2\">\n      <!-- 2 -->\n      <defs>\n       <path d=\"M 19.1875 8.296875 \nL 53.609375 8.296875 \nL 53.609375 0 \nL 7.328125 0 \nL 7.328125 8.296875 \nQ 12.9375 14.109375 22.625 23.890625 \nQ 32.328125 33.6875 34.8125 36.53125 \nQ 39.546875 41.84375 41.421875 45.53125 \nQ 43.3125 49.21875 43.3125 52.78125 \nQ 43.3125 58.59375 39.234375 62.25 \nQ 35.15625 65.921875 28.609375 65.921875 \nQ 23.96875 65.921875 18.8125 64.3125 \nQ 13.671875 62.703125 7.8125 59.421875 \nL 7.8125 69.390625 \nQ 13.765625 71.78125 18.9375 73 \nQ 24.125 74.21875 28.421875 74.21875 \nQ 39.75 74.21875 46.484375 68.546875 \nQ 53.21875 62.890625 53.21875 53.421875 \nQ 53.21875 48.921875 51.53125 44.890625 \nQ 49.859375 40.875 45.40625 35.40625 \nQ 44.1875 33.984375 37.640625 27.21875 \nQ 31.109375 20.453125 19.1875 8.296875 \nz\n\" id=\"DejaVuSans-50\"/>\n      </defs>\n      <g transform=\"translate(141.029752 308.716563)scale(0.1 -0.1)\">\n       <use xlink:href=\"#DejaVuSans-50\"/>\n      </g>\n     </g>\n    </g>\n    <g id=\"xtick_3\">\n     <g id=\"line2d_3\">\n      <g>\n       <use style=\"stroke:#000000;stroke-width:0.8;\" x=\"226.194473\" xlink:href=\"#m4e57106fcf\" y=\"294.118125\"/>\n      </g>\n     </g>\n     <g id=\"text_3\">\n      <!-- 4 -->\n      <defs>\n       <path d=\"M 37.796875 64.3125 \nL 12.890625 25.390625 \nL 37.796875 25.390625 \nz\nM 35.203125 72.90625 \nL 47.609375 72.90625 \nL 47.609375 25.390625 \nL 58.015625 25.390625 \nL 58.015625 17.1875 \nL 47.609375 17.1875 \nL 47.609375 0 \nL 37.796875 0 \nL 37.796875 17.1875 \nL 4.890625 17.1875 \nL 4.890625 26.703125 \nz\n\" id=\"DejaVuSans-52\"/>\n      </defs>\n      <g transform=\"translate(223.013223 308.716563)scale(0.1 -0.1)\">\n       <use xlink:href=\"#DejaVuSans-52\"/>\n      </g>\n     </g>\n    </g>\n    <g id=\"xtick_4\">\n     <g id=\"line2d_4\">\n      <g>\n       <use style=\"stroke:#000000;stroke-width:0.8;\" x=\"308.177944\" xlink:href=\"#m4e57106fcf\" y=\"294.118125\"/>\n      </g>\n     </g>\n     <g id=\"text_4\">\n      <!-- 6 -->\n      <defs>\n       <path d=\"M 33.015625 40.375 \nQ 26.375 40.375 22.484375 35.828125 \nQ 18.609375 31.296875 18.609375 23.390625 \nQ 18.609375 15.53125 22.484375 10.953125 \nQ 26.375 6.390625 33.015625 6.390625 \nQ 39.65625 6.390625 43.53125 10.953125 \nQ 47.40625 15.53125 47.40625 23.390625 \nQ 47.40625 31.296875 43.53125 35.828125 \nQ 39.65625 40.375 33.015625 40.375 \nz\nM 52.59375 71.296875 \nL 52.59375 62.3125 \nQ 48.875 64.0625 45.09375 64.984375 \nQ 41.3125 65.921875 37.59375 65.921875 \nQ 27.828125 65.921875 22.671875 59.328125 \nQ 17.53125 52.734375 16.796875 39.40625 \nQ 19.671875 43.65625 24.015625 45.921875 \nQ 28.375 48.1875 33.59375 48.1875 \nQ 44.578125 48.1875 50.953125 41.515625 \nQ 57.328125 34.859375 57.328125 23.390625 \nQ 57.328125 12.15625 50.6875 5.359375 \nQ 44.046875 -1.421875 33.015625 -1.421875 \nQ 20.359375 -1.421875 13.671875 8.265625 \nQ 6.984375 17.96875 6.984375 36.375 \nQ 6.984375 53.65625 15.1875 63.9375 \nQ 23.390625 74.21875 37.203125 74.21875 \nQ 40.921875 74.21875 44.703125 73.484375 \nQ 48.484375 72.75 52.59375 71.296875 \nz\n\" id=\"DejaVuSans-54\"/>\n      </defs>\n      <g transform=\"translate(304.996694 308.716563)scale(0.1 -0.1)\">\n       <use xlink:href=\"#DejaVuSans-54\"/>\n      </g>\n     </g>\n    </g>\n    <g id=\"xtick_5\">\n     <g id=\"line2d_5\">\n      <g>\n       <use style=\"stroke:#000000;stroke-width:0.8;\" x=\"390.161415\" xlink:href=\"#m4e57106fcf\" y=\"294.118125\"/>\n      </g>\n     </g>\n     <g id=\"text_5\">\n      <!-- 8 -->\n      <defs>\n       <path d=\"M 31.78125 34.625 \nQ 24.75 34.625 20.71875 30.859375 \nQ 16.703125 27.09375 16.703125 20.515625 \nQ 16.703125 13.921875 20.71875 10.15625 \nQ 24.75 6.390625 31.78125 6.390625 \nQ 38.8125 6.390625 42.859375 10.171875 \nQ 46.921875 13.96875 46.921875 20.515625 \nQ 46.921875 27.09375 42.890625 30.859375 \nQ 38.875 34.625 31.78125 34.625 \nz\nM 21.921875 38.8125 \nQ 15.578125 40.375 12.03125 44.71875 \nQ 8.5 49.078125 8.5 55.328125 \nQ 8.5 64.0625 14.71875 69.140625 \nQ 20.953125 74.21875 31.78125 74.21875 \nQ 42.671875 74.21875 48.875 69.140625 \nQ 55.078125 64.0625 55.078125 55.328125 \nQ 55.078125 49.078125 51.53125 44.71875 \nQ 48 40.375 41.703125 38.8125 \nQ 48.828125 37.15625 52.796875 32.3125 \nQ 56.78125 27.484375 56.78125 20.515625 \nQ 56.78125 9.90625 50.3125 4.234375 \nQ 43.84375 -1.421875 31.78125 -1.421875 \nQ 19.734375 -1.421875 13.25 4.234375 \nQ 6.78125 9.90625 6.78125 20.515625 \nQ 6.78125 27.484375 10.78125 32.3125 \nQ 14.796875 37.15625 21.921875 38.8125 \nz\nM 18.3125 54.390625 \nQ 18.3125 48.734375 21.84375 45.5625 \nQ 25.390625 42.390625 31.78125 42.390625 \nQ 38.140625 42.390625 41.71875 45.5625 \nQ 45.3125 48.734375 45.3125 54.390625 \nQ 45.3125 60.0625 41.71875 63.234375 \nQ 38.140625 66.40625 31.78125 66.40625 \nQ 25.390625 66.40625 21.84375 63.234375 \nQ 18.3125 60.0625 18.3125 54.390625 \nz\n\" id=\"DejaVuSans-56\"/>\n      </defs>\n      <g transform=\"translate(386.980165 308.716563)scale(0.1 -0.1)\">\n       <use xlink:href=\"#DejaVuSans-56\"/>\n      </g>\n     </g>\n    </g>\n    <g id=\"text_6\">\n     <!-- Epochs -->\n     <defs>\n      <path d=\"M 9.8125 72.90625 \nL 55.90625 72.90625 \nL 55.90625 64.59375 \nL 19.671875 64.59375 \nL 19.671875 43.015625 \nL 54.390625 43.015625 \nL 54.390625 34.71875 \nL 19.671875 34.71875 \nL 19.671875 8.296875 \nL 56.78125 8.296875 \nL 56.78125 0 \nL 9.8125 0 \nz\n\" id=\"DejaVuSans-69\"/>\n      <path d=\"M 18.109375 8.203125 \nL 18.109375 -20.796875 \nL 9.078125 -20.796875 \nL 9.078125 54.6875 \nL 18.109375 54.6875 \nL 18.109375 46.390625 \nQ 20.953125 51.265625 25.265625 53.625 \nQ 29.59375 56 35.59375 56 \nQ 45.5625 56 51.78125 48.09375 \nQ 58.015625 40.1875 58.015625 27.296875 \nQ 58.015625 14.40625 51.78125 6.484375 \nQ 45.5625 -1.421875 35.59375 -1.421875 \nQ 29.59375 -1.421875 25.265625 0.953125 \nQ 20.953125 3.328125 18.109375 8.203125 \nz\nM 48.6875 27.296875 \nQ 48.6875 37.203125 44.609375 42.84375 \nQ 40.53125 48.484375 33.40625 48.484375 \nQ 26.265625 48.484375 22.1875 42.84375 \nQ 18.109375 37.203125 18.109375 27.296875 \nQ 18.109375 17.390625 22.1875 11.75 \nQ 26.265625 6.109375 33.40625 6.109375 \nQ 40.53125 6.109375 44.609375 11.75 \nQ 48.6875 17.390625 48.6875 27.296875 \nz\n\" id=\"DejaVuSans-112\"/>\n      <path d=\"M 30.609375 48.390625 \nQ 23.390625 48.390625 19.1875 42.75 \nQ 14.984375 37.109375 14.984375 27.296875 \nQ 14.984375 17.484375 19.15625 11.84375 \nQ 23.34375 6.203125 30.609375 6.203125 \nQ 37.796875 6.203125 41.984375 11.859375 \nQ 46.1875 17.53125 46.1875 27.296875 \nQ 46.1875 37.015625 41.984375 42.703125 \nQ 37.796875 48.390625 30.609375 48.390625 \nz\nM 30.609375 56 \nQ 42.328125 56 49.015625 48.375 \nQ 55.71875 40.765625 55.71875 27.296875 \nQ 55.71875 13.875 49.015625 6.21875 \nQ 42.328125 -1.421875 30.609375 -1.421875 \nQ 18.84375 -1.421875 12.171875 6.21875 \nQ 5.515625 13.875 5.515625 27.296875 \nQ 5.515625 40.765625 12.171875 48.375 \nQ 18.84375 56 30.609375 56 \nz\n\" id=\"DejaVuSans-111\"/>\n      <path d=\"M 48.78125 52.59375 \nL 48.78125 44.1875 \nQ 44.96875 46.296875 41.140625 47.34375 \nQ 37.3125 48.390625 33.40625 48.390625 \nQ 24.65625 48.390625 19.8125 42.84375 \nQ 14.984375 37.3125 14.984375 27.296875 \nQ 14.984375 17.28125 19.8125 11.734375 \nQ 24.65625 6.203125 33.40625 6.203125 \nQ 37.3125 6.203125 41.140625 7.25 \nQ 44.96875 8.296875 48.78125 10.40625 \nL 48.78125 2.09375 \nQ 45.015625 0.34375 40.984375 -0.53125 \nQ 36.96875 -1.421875 32.421875 -1.421875 \nQ 20.0625 -1.421875 12.78125 6.34375 \nQ 5.515625 14.109375 5.515625 27.296875 \nQ 5.515625 40.671875 12.859375 48.328125 \nQ 20.21875 56 33.015625 56 \nQ 37.15625 56 41.109375 55.140625 \nQ 45.0625 54.296875 48.78125 52.59375 \nz\n\" id=\"DejaVuSans-99\"/>\n      <path d=\"M 54.890625 33.015625 \nL 54.890625 0 \nL 45.90625 0 \nL 45.90625 32.71875 \nQ 45.90625 40.484375 42.875 44.328125 \nQ 39.84375 48.1875 33.796875 48.1875 \nQ 26.515625 48.1875 22.3125 43.546875 \nQ 18.109375 38.921875 18.109375 30.90625 \nL 18.109375 0 \nL 9.078125 0 \nL 9.078125 75.984375 \nL 18.109375 75.984375 \nL 18.109375 46.1875 \nQ 21.34375 51.125 25.703125 53.5625 \nQ 30.078125 56 35.796875 56 \nQ 45.21875 56 50.046875 50.171875 \nQ 54.890625 44.34375 54.890625 33.015625 \nz\n\" id=\"DejaVuSans-104\"/>\n      <path d=\"M 44.28125 53.078125 \nL 44.28125 44.578125 \nQ 40.484375 46.53125 36.375 47.5 \nQ 32.28125 48.484375 27.875 48.484375 \nQ 21.1875 48.484375 17.84375 46.4375 \nQ 14.5 44.390625 14.5 40.28125 \nQ 14.5 37.15625 16.890625 35.375 \nQ 19.28125 33.59375 26.515625 31.984375 \nL 29.59375 31.296875 \nQ 39.15625 29.25 43.1875 25.515625 \nQ 47.21875 21.78125 47.21875 15.09375 \nQ 47.21875 7.46875 41.1875 3.015625 \nQ 35.15625 -1.421875 24.609375 -1.421875 \nQ 20.21875 -1.421875 15.453125 -0.5625 \nQ 10.6875 0.296875 5.421875 2 \nL 5.421875 11.28125 \nQ 10.40625 8.6875 15.234375 7.390625 \nQ 20.0625 6.109375 24.8125 6.109375 \nQ 31.15625 6.109375 34.5625 8.28125 \nQ 37.984375 10.453125 37.984375 14.40625 \nQ 37.984375 18.0625 35.515625 20.015625 \nQ 33.0625 21.96875 24.703125 23.78125 \nL 21.578125 24.515625 \nQ 13.234375 26.265625 9.515625 29.90625 \nQ 5.8125 33.546875 5.8125 39.890625 \nQ 5.8125 47.609375 11.28125 51.796875 \nQ 16.75 56 26.8125 56 \nQ 31.78125 56 36.171875 55.265625 \nQ 40.578125 54.546875 44.28125 53.078125 \nz\n\" id=\"DejaVuSans-115\"/>\n     </defs>\n     <g transform=\"translate(228.774716 322.394687)scale(0.1 -0.1)\">\n      <use xlink:href=\"#DejaVuSans-69\"/>\n      <use x=\"63.183594\" xlink:href=\"#DejaVuSans-112\"/>\n      <use x=\"126.660156\" xlink:href=\"#DejaVuSans-111\"/>\n      <use x=\"187.841797\" xlink:href=\"#DejaVuSans-99\"/>\n      <use x=\"242.822266\" xlink:href=\"#DejaVuSans-104\"/>\n      <use x=\"306.201172\" xlink:href=\"#DejaVuSans-115\"/>\n     </g>\n    </g>\n   </g>\n   <g id=\"matplotlib.axis_2\">\n    <g id=\"ytick_1\">\n     <g id=\"line2d_6\">\n      <defs>\n       <path d=\"M 0 0 \nL -3.5 0 \n\" id=\"md02ea7537b\" style=\"stroke:#000000;stroke-width:0.8;\"/>\n      </defs>\n      <g>\n       <use style=\"stroke:#000000;stroke-width:0.8;\" x=\"43.78125\" xlink:href=\"#md02ea7537b\" y=\"283.08266\"/>\n      </g>\n     </g>\n     <g id=\"text_7\">\n      <!-- 1.5 -->\n      <defs>\n       <path d=\"M 12.40625 8.296875 \nL 28.515625 8.296875 \nL 28.515625 63.921875 \nL 10.984375 60.40625 \nL 10.984375 69.390625 \nL 28.421875 72.90625 \nL 38.28125 72.90625 \nL 38.28125 8.296875 \nL 54.390625 8.296875 \nL 54.390625 0 \nL 12.40625 0 \nz\n\" id=\"DejaVuSans-49\"/>\n       <path d=\"M 10.6875 12.40625 \nL 21 12.40625 \nL 21 0 \nL 10.6875 0 \nz\n\" id=\"DejaVuSans-46\"/>\n       <path d=\"M 10.796875 72.90625 \nL 49.515625 72.90625 \nL 49.515625 64.59375 \nL 19.828125 64.59375 \nL 19.828125 46.734375 \nQ 21.96875 47.46875 24.109375 47.828125 \nQ 26.265625 48.1875 28.421875 48.1875 \nQ 40.625 48.1875 47.75 41.5 \nQ 54.890625 34.8125 54.890625 23.390625 \nQ 54.890625 11.625 47.5625 5.09375 \nQ 40.234375 -1.421875 26.90625 -1.421875 \nQ 22.3125 -1.421875 17.546875 -0.640625 \nQ 12.796875 0.140625 7.71875 1.703125 \nL 7.71875 11.625 \nQ 12.109375 9.234375 16.796875 8.0625 \nQ 21.484375 6.890625 26.703125 6.890625 \nQ 35.15625 6.890625 40.078125 11.328125 \nQ 45.015625 15.765625 45.015625 23.390625 \nQ 45.015625 31 40.078125 35.4375 \nQ 35.15625 39.890625 26.703125 39.890625 \nQ 22.75 39.890625 18.8125 39.015625 \nQ 14.890625 38.140625 10.796875 36.28125 \nz\n\" id=\"DejaVuSans-53\"/>\n      </defs>\n      <g transform=\"translate(20.878125 286.881879)scale(0.1 -0.1)\">\n       <use xlink:href=\"#DejaVuSans-49\"/>\n       <use x=\"63.623047\" xlink:href=\"#DejaVuSans-46\"/>\n       <use x=\"95.410156\" xlink:href=\"#DejaVuSans-53\"/>\n      </g>\n     </g>\n    </g>\n    <g id=\"ytick_2\">\n     <g id=\"line2d_7\">\n      <g>\n       <use style=\"stroke:#000000;stroke-width:0.8;\" x=\"43.78125\" xlink:href=\"#md02ea7537b\" y=\"244.641637\"/>\n      </g>\n     </g>\n     <g id=\"text_8\">\n      <!-- 1.6 -->\n      <g transform=\"translate(20.878125 248.440856)scale(0.1 -0.1)\">\n       <use xlink:href=\"#DejaVuSans-49\"/>\n       <use x=\"63.623047\" xlink:href=\"#DejaVuSans-46\"/>\n       <use x=\"95.410156\" xlink:href=\"#DejaVuSans-54\"/>\n      </g>\n     </g>\n    </g>\n    <g id=\"ytick_3\">\n     <g id=\"line2d_8\">\n      <g>\n       <use style=\"stroke:#000000;stroke-width:0.8;\" x=\"43.78125\" xlink:href=\"#md02ea7537b\" y=\"206.200615\"/>\n      </g>\n     </g>\n     <g id=\"text_9\">\n      <!-- 1.7 -->\n      <defs>\n       <path d=\"M 8.203125 72.90625 \nL 55.078125 72.90625 \nL 55.078125 68.703125 \nL 28.609375 0 \nL 18.3125 0 \nL 43.21875 64.59375 \nL 8.203125 64.59375 \nz\n\" id=\"DejaVuSans-55\"/>\n      </defs>\n      <g transform=\"translate(20.878125 209.999834)scale(0.1 -0.1)\">\n       <use xlink:href=\"#DejaVuSans-49\"/>\n       <use x=\"63.623047\" xlink:href=\"#DejaVuSans-46\"/>\n       <use x=\"95.410156\" xlink:href=\"#DejaVuSans-55\"/>\n      </g>\n     </g>\n    </g>\n    <g id=\"ytick_4\">\n     <g id=\"line2d_9\">\n      <g>\n       <use style=\"stroke:#000000;stroke-width:0.8;\" x=\"43.78125\" xlink:href=\"#md02ea7537b\" y=\"167.759592\"/>\n      </g>\n     </g>\n     <g id=\"text_10\">\n      <!-- 1.8 -->\n      <g transform=\"translate(20.878125 171.558811)scale(0.1 -0.1)\">\n       <use xlink:href=\"#DejaVuSans-49\"/>\n       <use x=\"63.623047\" xlink:href=\"#DejaVuSans-46\"/>\n       <use x=\"95.410156\" xlink:href=\"#DejaVuSans-56\"/>\n      </g>\n     </g>\n    </g>\n    <g id=\"ytick_5\">\n     <g id=\"line2d_10\">\n      <g>\n       <use style=\"stroke:#000000;stroke-width:0.8;\" x=\"43.78125\" xlink:href=\"#md02ea7537b\" y=\"129.31857\"/>\n      </g>\n     </g>\n     <g id=\"text_11\">\n      <!-- 1.9 -->\n      <defs>\n       <path d=\"M 10.984375 1.515625 \nL 10.984375 10.5 \nQ 14.703125 8.734375 18.5 7.8125 \nQ 22.3125 6.890625 25.984375 6.890625 \nQ 35.75 6.890625 40.890625 13.453125 \nQ 46.046875 20.015625 46.78125 33.40625 \nQ 43.953125 29.203125 39.59375 26.953125 \nQ 35.25 24.703125 29.984375 24.703125 \nQ 19.046875 24.703125 12.671875 31.3125 \nQ 6.296875 37.9375 6.296875 49.421875 \nQ 6.296875 60.640625 12.9375 67.421875 \nQ 19.578125 74.21875 30.609375 74.21875 \nQ 43.265625 74.21875 49.921875 64.515625 \nQ 56.59375 54.828125 56.59375 36.375 \nQ 56.59375 19.140625 48.40625 8.859375 \nQ 40.234375 -1.421875 26.421875 -1.421875 \nQ 22.703125 -1.421875 18.890625 -0.6875 \nQ 15.09375 0.046875 10.984375 1.515625 \nz\nM 30.609375 32.421875 \nQ 37.25 32.421875 41.125 36.953125 \nQ 45.015625 41.5 45.015625 49.421875 \nQ 45.015625 57.28125 41.125 61.84375 \nQ 37.25 66.40625 30.609375 66.40625 \nQ 23.96875 66.40625 20.09375 61.84375 \nQ 16.21875 57.28125 16.21875 49.421875 \nQ 16.21875 41.5 20.09375 36.953125 \nQ 23.96875 32.421875 30.609375 32.421875 \nz\n\" id=\"DejaVuSans-57\"/>\n      </defs>\n      <g transform=\"translate(20.878125 133.117789)scale(0.1 -0.1)\">\n       <use xlink:href=\"#DejaVuSans-49\"/>\n       <use x=\"63.623047\" xlink:href=\"#DejaVuSans-46\"/>\n       <use x=\"95.410156\" xlink:href=\"#DejaVuSans-57\"/>\n      </g>\n     </g>\n    </g>\n    <g id=\"ytick_6\">\n     <g id=\"line2d_11\">\n      <g>\n       <use style=\"stroke:#000000;stroke-width:0.8;\" x=\"43.78125\" xlink:href=\"#md02ea7537b\" y=\"90.877547\"/>\n      </g>\n     </g>\n     <g id=\"text_12\">\n      <!-- 2.0 -->\n      <g transform=\"translate(20.878125 94.676766)scale(0.1 -0.1)\">\n       <use xlink:href=\"#DejaVuSans-50\"/>\n       <use x=\"63.623047\" xlink:href=\"#DejaVuSans-46\"/>\n       <use x=\"95.410156\" xlink:href=\"#DejaVuSans-48\"/>\n      </g>\n     </g>\n    </g>\n    <g id=\"ytick_7\">\n     <g id=\"line2d_12\">\n      <g>\n       <use style=\"stroke:#000000;stroke-width:0.8;\" x=\"43.78125\" xlink:href=\"#md02ea7537b\" y=\"52.436525\"/>\n      </g>\n     </g>\n     <g id=\"text_13\">\n      <!-- 2.1 -->\n      <g transform=\"translate(20.878125 56.235743)scale(0.1 -0.1)\">\n       <use xlink:href=\"#DejaVuSans-50\"/>\n       <use x=\"63.623047\" xlink:href=\"#DejaVuSans-46\"/>\n       <use x=\"95.410156\" xlink:href=\"#DejaVuSans-49\"/>\n      </g>\n     </g>\n    </g>\n    <g id=\"text_14\">\n     <!-- Loss -->\n     <defs>\n      <path d=\"M 9.8125 72.90625 \nL 19.671875 72.90625 \nL 19.671875 8.296875 \nL 55.171875 8.296875 \nL 55.171875 0 \nL 9.8125 0 \nz\n\" id=\"DejaVuSans-76\"/>\n     </defs>\n     <g transform=\"translate(14.798438 169.185313)rotate(-90)scale(0.1 -0.1)\">\n      <use xlink:href=\"#DejaVuSans-76\"/>\n      <use x=\"53.962891\" xlink:href=\"#DejaVuSans-111\"/>\n      <use x=\"115.144531\" xlink:href=\"#DejaVuSans-115\"/>\n      <use x=\"167.244141\" xlink:href=\"#DejaVuSans-115\"/>\n     </g>\n    </g>\n   </g>\n   <g id=\"line2d_13\">\n    <path clip-path=\"url(#pccec2f2dc8)\" d=\"M 62.227531 34.67267 \nL 103.219267 139.868243 \nL 144.211002 177.062507 \nL 185.202738 202.083425 \nL 226.194473 218.762036 \nL 267.186209 235.347072 \nL 308.177944 248.8274 \nL 349.16968 260.377568 \nL 390.161415 271.949961 \nL 431.153151 281.76358 \n\" style=\"fill:none;stroke:#1f77b4;stroke-linecap:square;stroke-width:1.5;\"/>\n    <defs>\n     <path d=\"M -3 3 \nL 3 3 \nL 3 -3 \nL -3 -3 \nz\n\" id=\"m79cfae7f87\" style=\"stroke:#1f77b4;stroke-linejoin:miter;\"/>\n    </defs>\n    <g clip-path=\"url(#pccec2f2dc8)\">\n     <use style=\"fill:#1f77b4;stroke:#1f77b4;stroke-linejoin:miter;\" x=\"62.227531\" xlink:href=\"#m79cfae7f87\" y=\"34.67267\"/>\n     <use style=\"fill:#1f77b4;stroke:#1f77b4;stroke-linejoin:miter;\" x=\"103.219267\" xlink:href=\"#m79cfae7f87\" y=\"139.868243\"/>\n     <use style=\"fill:#1f77b4;stroke:#1f77b4;stroke-linejoin:miter;\" x=\"144.211002\" xlink:href=\"#m79cfae7f87\" y=\"177.062507\"/>\n     <use style=\"fill:#1f77b4;stroke:#1f77b4;stroke-linejoin:miter;\" x=\"185.202738\" xlink:href=\"#m79cfae7f87\" y=\"202.083425\"/>\n     <use style=\"fill:#1f77b4;stroke:#1f77b4;stroke-linejoin:miter;\" x=\"226.194473\" xlink:href=\"#m79cfae7f87\" y=\"218.762036\"/>\n     <use style=\"fill:#1f77b4;stroke:#1f77b4;stroke-linejoin:miter;\" x=\"267.186209\" xlink:href=\"#m79cfae7f87\" y=\"235.347072\"/>\n     <use style=\"fill:#1f77b4;stroke:#1f77b4;stroke-linejoin:miter;\" x=\"308.177944\" xlink:href=\"#m79cfae7f87\" y=\"248.8274\"/>\n     <use style=\"fill:#1f77b4;stroke:#1f77b4;stroke-linejoin:miter;\" x=\"349.16968\" xlink:href=\"#m79cfae7f87\" y=\"260.377568\"/>\n     <use style=\"fill:#1f77b4;stroke:#1f77b4;stroke-linejoin:miter;\" x=\"390.161415\" xlink:href=\"#m79cfae7f87\" y=\"271.949961\"/>\n     <use style=\"fill:#1f77b4;stroke:#1f77b4;stroke-linejoin:miter;\" x=\"431.153151\" xlink:href=\"#m79cfae7f87\" y=\"281.76358\"/>\n    </g>\n   </g>\n   <g id=\"patch_3\">\n    <path d=\"M 43.78125 294.118125 \nL 43.78125 22.318125 \n\" style=\"fill:none;stroke:#000000;stroke-linecap:square;stroke-linejoin:miter;stroke-width:0.8;\"/>\n   </g>\n   <g id=\"patch_4\">\n    <path d=\"M 449.599432 294.118125 \nL 449.599432 22.318125 \n\" style=\"fill:none;stroke:#000000;stroke-linecap:square;stroke-linejoin:miter;stroke-width:0.8;\"/>\n   </g>\n   <g id=\"patch_5\">\n    <path d=\"M 43.78125 294.118125 \nL 449.599432 294.118125 \n\" style=\"fill:none;stroke:#000000;stroke-linecap:square;stroke-linejoin:miter;stroke-width:0.8;\"/>\n   </g>\n   <g id=\"patch_6\">\n    <path d=\"M 43.78125 22.318125 \nL 449.599432 22.318125 \n\" style=\"fill:none;stroke:#000000;stroke-linecap:square;stroke-linejoin:miter;stroke-width:0.8;\"/>\n   </g>\n   <g id=\"text_15\">\n    <!-- Model loss -->\n    <defs>\n     <path d=\"M 9.8125 72.90625 \nL 24.515625 72.90625 \nL 43.109375 23.296875 \nL 61.8125 72.90625 \nL 76.515625 72.90625 \nL 76.515625 0 \nL 66.890625 0 \nL 66.890625 64.015625 \nL 48.09375 14.015625 \nL 38.1875 14.015625 \nL 19.390625 64.015625 \nL 19.390625 0 \nL 9.8125 0 \nz\n\" id=\"DejaVuSans-77\"/>\n     <path d=\"M 45.40625 46.390625 \nL 45.40625 75.984375 \nL 54.390625 75.984375 \nL 54.390625 0 \nL 45.40625 0 \nL 45.40625 8.203125 \nQ 42.578125 3.328125 38.25 0.953125 \nQ 33.9375 -1.421875 27.875 -1.421875 \nQ 17.96875 -1.421875 11.734375 6.484375 \nQ 5.515625 14.40625 5.515625 27.296875 \nQ 5.515625 40.1875 11.734375 48.09375 \nQ 17.96875 56 27.875 56 \nQ 33.9375 56 38.25 53.625 \nQ 42.578125 51.265625 45.40625 46.390625 \nz\nM 14.796875 27.296875 \nQ 14.796875 17.390625 18.875 11.75 \nQ 22.953125 6.109375 30.078125 6.109375 \nQ 37.203125 6.109375 41.296875 11.75 \nQ 45.40625 17.390625 45.40625 27.296875 \nQ 45.40625 37.203125 41.296875 42.84375 \nQ 37.203125 48.484375 30.078125 48.484375 \nQ 22.953125 48.484375 18.875 42.84375 \nQ 14.796875 37.203125 14.796875 27.296875 \nz\n\" id=\"DejaVuSans-100\"/>\n     <path d=\"M 56.203125 29.59375 \nL 56.203125 25.203125 \nL 14.890625 25.203125 \nQ 15.484375 15.921875 20.484375 11.0625 \nQ 25.484375 6.203125 34.421875 6.203125 \nQ 39.59375 6.203125 44.453125 7.46875 \nQ 49.3125 8.734375 54.109375 11.28125 \nL 54.109375 2.78125 \nQ 49.265625 0.734375 44.1875 -0.34375 \nQ 39.109375 -1.421875 33.890625 -1.421875 \nQ 20.796875 -1.421875 13.15625 6.1875 \nQ 5.515625 13.8125 5.515625 26.8125 \nQ 5.515625 40.234375 12.765625 48.109375 \nQ 20.015625 56 32.328125 56 \nQ 43.359375 56 49.78125 48.890625 \nQ 56.203125 41.796875 56.203125 29.59375 \nz\nM 47.21875 32.234375 \nQ 47.125 39.59375 43.09375 43.984375 \nQ 39.0625 48.390625 32.421875 48.390625 \nQ 24.90625 48.390625 20.390625 44.140625 \nQ 15.875 39.890625 15.1875 32.171875 \nz\n\" id=\"DejaVuSans-101\"/>\n     <path d=\"M 9.421875 75.984375 \nL 18.40625 75.984375 \nL 18.40625 0 \nL 9.421875 0 \nz\n\" id=\"DejaVuSans-108\"/>\n     <path id=\"DejaVuSans-32\"/>\n    </defs>\n    <g transform=\"translate(215.178153 16.318125)scale(0.12 -0.12)\">\n     <use xlink:href=\"#DejaVuSans-77\"/>\n     <use x=\"86.279297\" xlink:href=\"#DejaVuSans-111\"/>\n     <use x=\"147.460938\" xlink:href=\"#DejaVuSans-100\"/>\n     <use x=\"210.9375\" xlink:href=\"#DejaVuSans-101\"/>\n     <use x=\"272.460938\" xlink:href=\"#DejaVuSans-108\"/>\n     <use x=\"300.244141\" xlink:href=\"#DejaVuSans-32\"/>\n     <use x=\"332.03125\" xlink:href=\"#DejaVuSans-108\"/>\n     <use x=\"359.814453\" xlink:href=\"#DejaVuSans-111\"/>\n     <use x=\"420.996094\" xlink:href=\"#DejaVuSans-115\"/>\n     <use x=\"473.095703\" xlink:href=\"#DejaVuSans-115\"/>\n    </g>\n   </g>\n  </g>\n  <g id=\"axes_2\">\n   <g id=\"patch_7\">\n    <path d=\"M 530.763068 294.118125 \nL 936.58125 294.118125 \nL 936.58125 22.318125 \nL 530.763068 22.318125 \nz\n\" style=\"fill:#ffffff;\"/>\n   </g>\n   <g id=\"matplotlib.axis_3\">\n    <g id=\"xtick_6\">\n     <g id=\"line2d_14\">\n      <g>\n       <use style=\"stroke:#000000;stroke-width:0.8;\" x=\"549.209349\" xlink:href=\"#m4e57106fcf\" y=\"294.118125\"/>\n      </g>\n     </g>\n     <g id=\"text_16\">\n      <!-- 0 -->\n      <g transform=\"translate(546.028099 308.716563)scale(0.1 -0.1)\">\n       <use xlink:href=\"#DejaVuSans-48\"/>\n      </g>\n     </g>\n    </g>\n    <g id=\"xtick_7\">\n     <g id=\"line2d_15\">\n      <g>\n       <use style=\"stroke:#000000;stroke-width:0.8;\" x=\"631.19282\" xlink:href=\"#m4e57106fcf\" y=\"294.118125\"/>\n      </g>\n     </g>\n     <g id=\"text_17\">\n      <!-- 2 -->\n      <g transform=\"translate(628.01157 308.716563)scale(0.1 -0.1)\">\n       <use xlink:href=\"#DejaVuSans-50\"/>\n      </g>\n     </g>\n    </g>\n    <g id=\"xtick_8\">\n     <g id=\"line2d_16\">\n      <g>\n       <use style=\"stroke:#000000;stroke-width:0.8;\" x=\"713.176291\" xlink:href=\"#m4e57106fcf\" y=\"294.118125\"/>\n      </g>\n     </g>\n     <g id=\"text_18\">\n      <!-- 4 -->\n      <g transform=\"translate(709.995041 308.716563)scale(0.1 -0.1)\">\n       <use xlink:href=\"#DejaVuSans-52\"/>\n      </g>\n     </g>\n    </g>\n    <g id=\"xtick_9\">\n     <g id=\"line2d_17\">\n      <g>\n       <use style=\"stroke:#000000;stroke-width:0.8;\" x=\"795.159762\" xlink:href=\"#m4e57106fcf\" y=\"294.118125\"/>\n      </g>\n     </g>\n     <g id=\"text_19\">\n      <!-- 6 -->\n      <g transform=\"translate(791.978512 308.716563)scale(0.1 -0.1)\">\n       <use xlink:href=\"#DejaVuSans-54\"/>\n      </g>\n     </g>\n    </g>\n    <g id=\"xtick_10\">\n     <g id=\"line2d_18\">\n      <g>\n       <use style=\"stroke:#000000;stroke-width:0.8;\" x=\"877.143233\" xlink:href=\"#m4e57106fcf\" y=\"294.118125\"/>\n      </g>\n     </g>\n     <g id=\"text_20\">\n      <!-- 8 -->\n      <g transform=\"translate(873.961983 308.716563)scale(0.1 -0.1)\">\n       <use xlink:href=\"#DejaVuSans-56\"/>\n      </g>\n     </g>\n    </g>\n    <g id=\"text_21\">\n     <!-- Epochs -->\n     <g transform=\"translate(715.756534 322.394687)scale(0.1 -0.1)\">\n      <use xlink:href=\"#DejaVuSans-69\"/>\n      <use x=\"63.183594\" xlink:href=\"#DejaVuSans-112\"/>\n      <use x=\"126.660156\" xlink:href=\"#DejaVuSans-111\"/>\n      <use x=\"187.841797\" xlink:href=\"#DejaVuSans-99\"/>\n      <use x=\"242.822266\" xlink:href=\"#DejaVuSans-104\"/>\n      <use x=\"306.201172\" xlink:href=\"#DejaVuSans-115\"/>\n     </g>\n    </g>\n   </g>\n   <g id=\"matplotlib.axis_4\">\n    <g id=\"ytick_8\">\n     <g id=\"line2d_19\">\n      <g>\n       <use style=\"stroke:#000000;stroke-width:0.8;\" x=\"530.763068\" xlink:href=\"#md02ea7537b\" y=\"250.036874\"/>\n      </g>\n     </g>\n     <g id=\"text_22\">\n      <!-- 25 -->\n      <g transform=\"translate(511.038068 253.836092)scale(0.1 -0.1)\">\n       <use xlink:href=\"#DejaVuSans-50\"/>\n       <use x=\"63.623047\" xlink:href=\"#DejaVuSans-53\"/>\n      </g>\n     </g>\n    </g>\n    <g id=\"ytick_9\">\n     <g id=\"line2d_20\">\n      <g>\n       <use style=\"stroke:#000000;stroke-width:0.8;\" x=\"530.763068\" xlink:href=\"#md02ea7537b\" y=\"196.971887\"/>\n      </g>\n     </g>\n     <g id=\"text_23\">\n      <!-- 30 -->\n      <defs>\n       <path d=\"M 40.578125 39.3125 \nQ 47.65625 37.796875 51.625 33 \nQ 55.609375 28.21875 55.609375 21.1875 \nQ 55.609375 10.40625 48.1875 4.484375 \nQ 40.765625 -1.421875 27.09375 -1.421875 \nQ 22.515625 -1.421875 17.65625 -0.515625 \nQ 12.796875 0.390625 7.625 2.203125 \nL 7.625 11.71875 \nQ 11.71875 9.328125 16.59375 8.109375 \nQ 21.484375 6.890625 26.8125 6.890625 \nQ 36.078125 6.890625 40.9375 10.546875 \nQ 45.796875 14.203125 45.796875 21.1875 \nQ 45.796875 27.640625 41.28125 31.265625 \nQ 36.765625 34.90625 28.71875 34.90625 \nL 20.21875 34.90625 \nL 20.21875 43.015625 \nL 29.109375 43.015625 \nQ 36.375 43.015625 40.234375 45.921875 \nQ 44.09375 48.828125 44.09375 54.296875 \nQ 44.09375 59.90625 40.109375 62.90625 \nQ 36.140625 65.921875 28.71875 65.921875 \nQ 24.65625 65.921875 20.015625 65.03125 \nQ 15.375 64.15625 9.8125 62.3125 \nL 9.8125 71.09375 \nQ 15.4375 72.65625 20.34375 73.4375 \nQ 25.25 74.21875 29.59375 74.21875 \nQ 40.828125 74.21875 47.359375 69.109375 \nQ 53.90625 64.015625 53.90625 55.328125 \nQ 53.90625 49.265625 50.4375 45.09375 \nQ 46.96875 40.921875 40.578125 39.3125 \nz\n\" id=\"DejaVuSans-51\"/>\n      </defs>\n      <g transform=\"translate(511.038068 200.771106)scale(0.1 -0.1)\">\n       <use xlink:href=\"#DejaVuSans-51\"/>\n       <use x=\"63.623047\" xlink:href=\"#DejaVuSans-48\"/>\n      </g>\n     </g>\n    </g>\n    <g id=\"ytick_10\">\n     <g id=\"line2d_21\">\n      <g>\n       <use style=\"stroke:#000000;stroke-width:0.8;\" x=\"530.763068\" xlink:href=\"#md02ea7537b\" y=\"143.9069\"/>\n      </g>\n     </g>\n     <g id=\"text_24\">\n      <!-- 35 -->\n      <g transform=\"translate(511.038068 147.706119)scale(0.1 -0.1)\">\n       <use xlink:href=\"#DejaVuSans-51\"/>\n       <use x=\"63.623047\" xlink:href=\"#DejaVuSans-53\"/>\n      </g>\n     </g>\n    </g>\n    <g id=\"ytick_11\">\n     <g id=\"line2d_22\">\n      <g>\n       <use style=\"stroke:#000000;stroke-width:0.8;\" x=\"530.763068\" xlink:href=\"#md02ea7537b\" y=\"90.841914\"/>\n      </g>\n     </g>\n     <g id=\"text_25\">\n      <!-- 40 -->\n      <g transform=\"translate(511.038068 94.641132)scale(0.1 -0.1)\">\n       <use xlink:href=\"#DejaVuSans-52\"/>\n       <use x=\"63.623047\" xlink:href=\"#DejaVuSans-48\"/>\n      </g>\n     </g>\n    </g>\n    <g id=\"ytick_12\">\n     <g id=\"line2d_23\">\n      <g>\n       <use style=\"stroke:#000000;stroke-width:0.8;\" x=\"530.763068\" xlink:href=\"#md02ea7537b\" y=\"37.776927\"/>\n      </g>\n     </g>\n     <g id=\"text_26\">\n      <!-- 45 -->\n      <g transform=\"translate(511.038068 41.576146)scale(0.1 -0.1)\">\n       <use xlink:href=\"#DejaVuSans-52\"/>\n       <use x=\"63.623047\" xlink:href=\"#DejaVuSans-53\"/>\n      </g>\n     </g>\n    </g>\n    <g id=\"text_27\">\n     <!-- Accuracy (%) -->\n     <defs>\n      <path d=\"M 34.1875 63.1875 \nL 20.796875 26.90625 \nL 47.609375 26.90625 \nz\nM 28.609375 72.90625 \nL 39.796875 72.90625 \nL 67.578125 0 \nL 57.328125 0 \nL 50.6875 18.703125 \nL 17.828125 18.703125 \nL 11.1875 0 \nL 0.78125 0 \nz\n\" id=\"DejaVuSans-65\"/>\n      <path d=\"M 8.5 21.578125 \nL 8.5 54.6875 \nL 17.484375 54.6875 \nL 17.484375 21.921875 \nQ 17.484375 14.15625 20.5 10.265625 \nQ 23.53125 6.390625 29.59375 6.390625 \nQ 36.859375 6.390625 41.078125 11.03125 \nQ 45.3125 15.671875 45.3125 23.6875 \nL 45.3125 54.6875 \nL 54.296875 54.6875 \nL 54.296875 0 \nL 45.3125 0 \nL 45.3125 8.40625 \nQ 42.046875 3.421875 37.71875 1 \nQ 33.40625 -1.421875 27.6875 -1.421875 \nQ 18.265625 -1.421875 13.375 4.4375 \nQ 8.5 10.296875 8.5 21.578125 \nz\nM 31.109375 56 \nz\n\" id=\"DejaVuSans-117\"/>\n      <path d=\"M 41.109375 46.296875 \nQ 39.59375 47.171875 37.8125 47.578125 \nQ 36.03125 48 33.890625 48 \nQ 26.265625 48 22.1875 43.046875 \nQ 18.109375 38.09375 18.109375 28.8125 \nL 18.109375 0 \nL 9.078125 0 \nL 9.078125 54.6875 \nL 18.109375 54.6875 \nL 18.109375 46.1875 \nQ 20.953125 51.171875 25.484375 53.578125 \nQ 30.03125 56 36.53125 56 \nQ 37.453125 56 38.578125 55.875 \nQ 39.703125 55.765625 41.0625 55.515625 \nz\n\" id=\"DejaVuSans-114\"/>\n      <path d=\"M 34.28125 27.484375 \nQ 23.390625 27.484375 19.1875 25 \nQ 14.984375 22.515625 14.984375 16.5 \nQ 14.984375 11.71875 18.140625 8.90625 \nQ 21.296875 6.109375 26.703125 6.109375 \nQ 34.1875 6.109375 38.703125 11.40625 \nQ 43.21875 16.703125 43.21875 25.484375 \nL 43.21875 27.484375 \nz\nM 52.203125 31.203125 \nL 52.203125 0 \nL 43.21875 0 \nL 43.21875 8.296875 \nQ 40.140625 3.328125 35.546875 0.953125 \nQ 30.953125 -1.421875 24.3125 -1.421875 \nQ 15.921875 -1.421875 10.953125 3.296875 \nQ 6 8.015625 6 15.921875 \nQ 6 25.140625 12.171875 29.828125 \nQ 18.359375 34.515625 30.609375 34.515625 \nL 43.21875 34.515625 \nL 43.21875 35.40625 \nQ 43.21875 41.609375 39.140625 45 \nQ 35.0625 48.390625 27.6875 48.390625 \nQ 23 48.390625 18.546875 47.265625 \nQ 14.109375 46.140625 10.015625 43.890625 \nL 10.015625 52.203125 \nQ 14.9375 54.109375 19.578125 55.046875 \nQ 24.21875 56 28.609375 56 \nQ 40.484375 56 46.34375 49.84375 \nQ 52.203125 43.703125 52.203125 31.203125 \nz\n\" id=\"DejaVuSans-97\"/>\n      <path d=\"M 32.171875 -5.078125 \nQ 28.375 -14.84375 24.75 -17.8125 \nQ 21.140625 -20.796875 15.09375 -20.796875 \nL 7.90625 -20.796875 \nL 7.90625 -13.28125 \nL 13.1875 -13.28125 \nQ 16.890625 -13.28125 18.9375 -11.515625 \nQ 21 -9.765625 23.484375 -3.21875 \nL 25.09375 0.875 \nL 2.984375 54.6875 \nL 12.5 54.6875 \nL 29.59375 11.921875 \nL 46.6875 54.6875 \nL 56.203125 54.6875 \nz\n\" id=\"DejaVuSans-121\"/>\n      <path d=\"M 31 75.875 \nQ 24.46875 64.65625 21.28125 53.65625 \nQ 18.109375 42.671875 18.109375 31.390625 \nQ 18.109375 20.125 21.3125 9.0625 \nQ 24.515625 -2 31 -13.1875 \nL 23.1875 -13.1875 \nQ 15.875 -1.703125 12.234375 9.375 \nQ 8.59375 20.453125 8.59375 31.390625 \nQ 8.59375 42.28125 12.203125 53.3125 \nQ 15.828125 64.359375 23.1875 75.875 \nz\n\" id=\"DejaVuSans-40\"/>\n      <path d=\"M 72.703125 32.078125 \nQ 68.453125 32.078125 66.03125 28.46875 \nQ 63.625 24.859375 63.625 18.40625 \nQ 63.625 12.0625 66.03125 8.421875 \nQ 68.453125 4.78125 72.703125 4.78125 \nQ 76.859375 4.78125 79.265625 8.421875 \nQ 81.6875 12.0625 81.6875 18.40625 \nQ 81.6875 24.8125 79.265625 28.4375 \nQ 76.859375 32.078125 72.703125 32.078125 \nz\nM 72.703125 38.28125 \nQ 80.421875 38.28125 84.953125 32.90625 \nQ 89.5 27.546875 89.5 18.40625 \nQ 89.5 9.28125 84.9375 3.921875 \nQ 80.375 -1.421875 72.703125 -1.421875 \nQ 64.890625 -1.421875 60.34375 3.921875 \nQ 55.8125 9.28125 55.8125 18.40625 \nQ 55.8125 27.59375 60.375 32.9375 \nQ 64.9375 38.28125 72.703125 38.28125 \nz\nM 22.3125 68.015625 \nQ 18.109375 68.015625 15.6875 64.375 \nQ 13.28125 60.75 13.28125 54.390625 \nQ 13.28125 47.953125 15.671875 44.328125 \nQ 18.0625 40.71875 22.3125 40.71875 \nQ 26.5625 40.71875 28.96875 44.328125 \nQ 31.390625 47.953125 31.390625 54.390625 \nQ 31.390625 60.6875 28.953125 64.34375 \nQ 26.515625 68.015625 22.3125 68.015625 \nz\nM 66.40625 74.21875 \nL 74.21875 74.21875 \nL 28.609375 -1.421875 \nL 20.796875 -1.421875 \nz\nM 22.3125 74.21875 \nQ 30.03125 74.21875 34.609375 68.875 \nQ 39.203125 63.53125 39.203125 54.390625 \nQ 39.203125 45.171875 34.640625 39.84375 \nQ 30.078125 34.515625 22.3125 34.515625 \nQ 14.546875 34.515625 10.03125 39.859375 \nQ 5.515625 45.21875 5.515625 54.390625 \nQ 5.515625 63.484375 10.046875 68.84375 \nQ 14.59375 74.21875 22.3125 74.21875 \nz\n\" id=\"DejaVuSans-37\"/>\n      <path d=\"M 8.015625 75.875 \nL 15.828125 75.875 \nQ 23.140625 64.359375 26.78125 53.3125 \nQ 30.421875 42.28125 30.421875 31.390625 \nQ 30.421875 20.453125 26.78125 9.375 \nQ 23.140625 -1.703125 15.828125 -13.1875 \nL 8.015625 -13.1875 \nQ 14.5 -2 17.703125 9.0625 \nQ 20.90625 20.125 20.90625 31.390625 \nQ 20.90625 42.671875 17.703125 53.65625 \nQ 14.5 64.65625 8.015625 75.875 \nz\n\" id=\"DejaVuSans-41\"/>\n     </defs>\n     <g transform=\"translate(504.958381 191.287656)rotate(-90)scale(0.1 -0.1)\">\n      <use xlink:href=\"#DejaVuSans-65\"/>\n      <use x=\"66.658203\" xlink:href=\"#DejaVuSans-99\"/>\n      <use x=\"121.638672\" xlink:href=\"#DejaVuSans-99\"/>\n      <use x=\"176.619141\" xlink:href=\"#DejaVuSans-117\"/>\n      <use x=\"239.998047\" xlink:href=\"#DejaVuSans-114\"/>\n      <use x=\"281.111328\" xlink:href=\"#DejaVuSans-97\"/>\n      <use x=\"342.390625\" xlink:href=\"#DejaVuSans-99\"/>\n      <use x=\"397.371094\" xlink:href=\"#DejaVuSans-121\"/>\n      <use x=\"456.550781\" xlink:href=\"#DejaVuSans-32\"/>\n      <use x=\"488.337891\" xlink:href=\"#DejaVuSans-40\"/>\n      <use x=\"527.351562\" xlink:href=\"#DejaVuSans-37\"/>\n      <use x=\"622.371094\" xlink:href=\"#DejaVuSans-41\"/>\n     </g>\n    </g>\n   </g>\n   <g id=\"line2d_24\">\n    <path clip-path=\"url(#pf0723bf3bf)\" d=\"M 549.209349 281.76358 \nL 590.201085 183.092327 \nL 631.19282 145.114619 \nL 672.184556 118.648198 \nL 713.176291 102.348464 \nL 754.168027 80.08078 \nL 795.159762 68.144923 \nL 836.151498 54.911713 \nL 877.143233 45.617769 \nL 918.134969 34.67267 \n\" style=\"fill:none;stroke:#1f77b4;stroke-linecap:square;stroke-width:1.5;\"/>\n    <g clip-path=\"url(#pf0723bf3bf)\">\n     <use style=\"fill:#1f77b4;stroke:#1f77b4;stroke-linejoin:miter;\" x=\"549.209349\" xlink:href=\"#m79cfae7f87\" y=\"281.76358\"/>\n     <use style=\"fill:#1f77b4;stroke:#1f77b4;stroke-linejoin:miter;\" x=\"590.201085\" xlink:href=\"#m79cfae7f87\" y=\"183.092327\"/>\n     <use style=\"fill:#1f77b4;stroke:#1f77b4;stroke-linejoin:miter;\" x=\"631.19282\" xlink:href=\"#m79cfae7f87\" y=\"145.114619\"/>\n     <use style=\"fill:#1f77b4;stroke:#1f77b4;stroke-linejoin:miter;\" x=\"672.184556\" xlink:href=\"#m79cfae7f87\" y=\"118.648198\"/>\n     <use style=\"fill:#1f77b4;stroke:#1f77b4;stroke-linejoin:miter;\" x=\"713.176291\" xlink:href=\"#m79cfae7f87\" y=\"102.348464\"/>\n     <use style=\"fill:#1f77b4;stroke:#1f77b4;stroke-linejoin:miter;\" x=\"754.168027\" xlink:href=\"#m79cfae7f87\" y=\"80.08078\"/>\n     <use style=\"fill:#1f77b4;stroke:#1f77b4;stroke-linejoin:miter;\" x=\"795.159762\" xlink:href=\"#m79cfae7f87\" y=\"68.144923\"/>\n     <use style=\"fill:#1f77b4;stroke:#1f77b4;stroke-linejoin:miter;\" x=\"836.151498\" xlink:href=\"#m79cfae7f87\" y=\"54.911713\"/>\n     <use style=\"fill:#1f77b4;stroke:#1f77b4;stroke-linejoin:miter;\" x=\"877.143233\" xlink:href=\"#m79cfae7f87\" y=\"45.617769\"/>\n     <use style=\"fill:#1f77b4;stroke:#1f77b4;stroke-linejoin:miter;\" x=\"918.134969\" xlink:href=\"#m79cfae7f87\" y=\"34.67267\"/>\n    </g>\n   </g>\n   <g id=\"line2d_25\">\n    <path clip-path=\"url(#pf0723bf3bf)\" d=\"M 549.209349 193.787976 \nL 590.201085 180.840126 \nL 631.19282 135.628775 \nL 672.184556 105.487821 \nL 713.176291 131.80809 \nL 754.168027 94.450334 \nL 795.159762 65.583009 \nL 836.151498 100.605852 \nL 877.143233 97.634225 \nL 918.134969 66.432028 \n\" style=\"fill:none;stroke:#ff7f0e;stroke-linecap:square;stroke-width:1.5;\"/>\n    <defs>\n     <path d=\"M 0 3 \nC 0.795609 3 1.55874 2.683901 2.12132 2.12132 \nC 2.683901 1.55874 3 0.795609 3 0 \nC 3 -0.795609 2.683901 -1.55874 2.12132 -2.12132 \nC 1.55874 -2.683901 0.795609 -3 0 -3 \nC -0.795609 -3 -1.55874 -2.683901 -2.12132 -2.12132 \nC -2.683901 -1.55874 -3 -0.795609 -3 0 \nC -3 0.795609 -2.683901 1.55874 -2.12132 2.12132 \nC -1.55874 2.683901 -0.795609 3 0 3 \nz\n\" id=\"m93a9090392\" style=\"stroke:#ff7f0e;\"/>\n    </defs>\n    <g clip-path=\"url(#pf0723bf3bf)\">\n     <use style=\"fill:#ff7f0e;stroke:#ff7f0e;\" x=\"549.209349\" xlink:href=\"#m93a9090392\" y=\"193.787976\"/>\n     <use style=\"fill:#ff7f0e;stroke:#ff7f0e;\" x=\"590.201085\" xlink:href=\"#m93a9090392\" y=\"180.840126\"/>\n     <use style=\"fill:#ff7f0e;stroke:#ff7f0e;\" x=\"631.19282\" xlink:href=\"#m93a9090392\" y=\"135.628775\"/>\n     <use style=\"fill:#ff7f0e;stroke:#ff7f0e;\" x=\"672.184556\" xlink:href=\"#m93a9090392\" y=\"105.487821\"/>\n     <use style=\"fill:#ff7f0e;stroke:#ff7f0e;\" x=\"713.176291\" xlink:href=\"#m93a9090392\" y=\"131.80809\"/>\n     <use style=\"fill:#ff7f0e;stroke:#ff7f0e;\" x=\"754.168027\" xlink:href=\"#m93a9090392\" y=\"94.450334\"/>\n     <use style=\"fill:#ff7f0e;stroke:#ff7f0e;\" x=\"795.159762\" xlink:href=\"#m93a9090392\" y=\"65.583009\"/>\n     <use style=\"fill:#ff7f0e;stroke:#ff7f0e;\" x=\"836.151498\" xlink:href=\"#m93a9090392\" y=\"100.605852\"/>\n     <use style=\"fill:#ff7f0e;stroke:#ff7f0e;\" x=\"877.143233\" xlink:href=\"#m93a9090392\" y=\"97.634225\"/>\n     <use style=\"fill:#ff7f0e;stroke:#ff7f0e;\" x=\"918.134969\" xlink:href=\"#m93a9090392\" y=\"66.432028\"/>\n    </g>\n   </g>\n   <g id=\"patch_8\">\n    <path d=\"M 530.763068 294.118125 \nL 530.763068 22.318125 \n\" style=\"fill:none;stroke:#000000;stroke-linecap:square;stroke-linejoin:miter;stroke-width:0.8;\"/>\n   </g>\n   <g id=\"patch_9\">\n    <path d=\"M 936.58125 294.118125 \nL 936.58125 22.318125 \n\" style=\"fill:none;stroke:#000000;stroke-linecap:square;stroke-linejoin:miter;stroke-width:0.8;\"/>\n   </g>\n   <g id=\"patch_10\">\n    <path d=\"M 530.763068 294.118125 \nL 936.58125 294.118125 \n\" style=\"fill:none;stroke:#000000;stroke-linecap:square;stroke-linejoin:miter;stroke-width:0.8;\"/>\n   </g>\n   <g id=\"patch_11\">\n    <path d=\"M 530.763068 22.318125 \nL 936.58125 22.318125 \n\" style=\"fill:none;stroke:#000000;stroke-linecap:square;stroke-linejoin:miter;stroke-width:0.8;\"/>\n   </g>\n   <g id=\"text_28\">\n    <!-- Final model test accuracy: 42.30% -->\n    <defs>\n     <path d=\"M 9.8125 72.90625 \nL 51.703125 72.90625 \nL 51.703125 64.59375 \nL 19.671875 64.59375 \nL 19.671875 43.109375 \nL 48.578125 43.109375 \nL 48.578125 34.8125 \nL 19.671875 34.8125 \nL 19.671875 0 \nL 9.8125 0 \nz\n\" id=\"DejaVuSans-70\"/>\n     <path d=\"M 9.421875 54.6875 \nL 18.40625 54.6875 \nL 18.40625 0 \nL 9.421875 0 \nz\nM 9.421875 75.984375 \nL 18.40625 75.984375 \nL 18.40625 64.59375 \nL 9.421875 64.59375 \nz\n\" id=\"DejaVuSans-105\"/>\n     <path d=\"M 54.890625 33.015625 \nL 54.890625 0 \nL 45.90625 0 \nL 45.90625 32.71875 \nQ 45.90625 40.484375 42.875 44.328125 \nQ 39.84375 48.1875 33.796875 48.1875 \nQ 26.515625 48.1875 22.3125 43.546875 \nQ 18.109375 38.921875 18.109375 30.90625 \nL 18.109375 0 \nL 9.078125 0 \nL 9.078125 54.6875 \nL 18.109375 54.6875 \nL 18.109375 46.1875 \nQ 21.34375 51.125 25.703125 53.5625 \nQ 30.078125 56 35.796875 56 \nQ 45.21875 56 50.046875 50.171875 \nQ 54.890625 44.34375 54.890625 33.015625 \nz\n\" id=\"DejaVuSans-110\"/>\n     <path d=\"M 52 44.1875 \nQ 55.375 50.25 60.0625 53.125 \nQ 64.75 56 71.09375 56 \nQ 79.640625 56 84.28125 50.015625 \nQ 88.921875 44.046875 88.921875 33.015625 \nL 88.921875 0 \nL 79.890625 0 \nL 79.890625 32.71875 \nQ 79.890625 40.578125 77.09375 44.375 \nQ 74.3125 48.1875 68.609375 48.1875 \nQ 61.625 48.1875 57.5625 43.546875 \nQ 53.515625 38.921875 53.515625 30.90625 \nL 53.515625 0 \nL 44.484375 0 \nL 44.484375 32.71875 \nQ 44.484375 40.625 41.703125 44.40625 \nQ 38.921875 48.1875 33.109375 48.1875 \nQ 26.21875 48.1875 22.15625 43.53125 \nQ 18.109375 38.875 18.109375 30.90625 \nL 18.109375 0 \nL 9.078125 0 \nL 9.078125 54.6875 \nL 18.109375 54.6875 \nL 18.109375 46.1875 \nQ 21.1875 51.21875 25.484375 53.609375 \nQ 29.78125 56 35.6875 56 \nQ 41.65625 56 45.828125 52.96875 \nQ 50 49.953125 52 44.1875 \nz\n\" id=\"DejaVuSans-109\"/>\n     <path d=\"M 18.3125 70.21875 \nL 18.3125 54.6875 \nL 36.8125 54.6875 \nL 36.8125 47.703125 \nL 18.3125 47.703125 \nL 18.3125 18.015625 \nQ 18.3125 11.328125 20.140625 9.421875 \nQ 21.96875 7.515625 27.59375 7.515625 \nL 36.8125 7.515625 \nL 36.8125 0 \nL 27.59375 0 \nQ 17.1875 0 13.234375 3.875 \nQ 9.28125 7.765625 9.28125 18.015625 \nL 9.28125 47.703125 \nL 2.6875 47.703125 \nL 2.6875 54.6875 \nL 9.28125 54.6875 \nL 9.28125 70.21875 \nz\n\" id=\"DejaVuSans-116\"/>\n     <path d=\"M 11.71875 12.40625 \nL 22.015625 12.40625 \nL 22.015625 0 \nL 11.71875 0 \nz\nM 11.71875 51.703125 \nL 22.015625 51.703125 \nL 22.015625 39.3125 \nL 11.71875 39.3125 \nz\n\" id=\"DejaVuSans-58\"/>\n    </defs>\n    <g transform=\"translate(630.474972 16.318125)scale(0.12 -0.12)\">\n     <use xlink:href=\"#DejaVuSans-70\"/>\n     <use x=\"50.269531\" xlink:href=\"#DejaVuSans-105\"/>\n     <use x=\"78.052734\" xlink:href=\"#DejaVuSans-110\"/>\n     <use x=\"141.431641\" xlink:href=\"#DejaVuSans-97\"/>\n     <use x=\"202.710938\" xlink:href=\"#DejaVuSans-108\"/>\n     <use x=\"230.494141\" xlink:href=\"#DejaVuSans-32\"/>\n     <use x=\"262.28125\" xlink:href=\"#DejaVuSans-109\"/>\n     <use x=\"359.693359\" xlink:href=\"#DejaVuSans-111\"/>\n     <use x=\"420.875\" xlink:href=\"#DejaVuSans-100\"/>\n     <use x=\"484.351562\" xlink:href=\"#DejaVuSans-101\"/>\n     <use x=\"545.875\" xlink:href=\"#DejaVuSans-108\"/>\n     <use x=\"573.658203\" xlink:href=\"#DejaVuSans-32\"/>\n     <use x=\"605.445312\" xlink:href=\"#DejaVuSans-116\"/>\n     <use x=\"644.654297\" xlink:href=\"#DejaVuSans-101\"/>\n     <use x=\"706.177734\" xlink:href=\"#DejaVuSans-115\"/>\n     <use x=\"758.277344\" xlink:href=\"#DejaVuSans-116\"/>\n     <use x=\"797.486328\" xlink:href=\"#DejaVuSans-32\"/>\n     <use x=\"829.273438\" xlink:href=\"#DejaVuSans-97\"/>\n     <use x=\"890.552734\" xlink:href=\"#DejaVuSans-99\"/>\n     <use x=\"945.533203\" xlink:href=\"#DejaVuSans-99\"/>\n     <use x=\"1000.513672\" xlink:href=\"#DejaVuSans-117\"/>\n     <use x=\"1063.892578\" xlink:href=\"#DejaVuSans-114\"/>\n     <use x=\"1105.005859\" xlink:href=\"#DejaVuSans-97\"/>\n     <use x=\"1166.285156\" xlink:href=\"#DejaVuSans-99\"/>\n     <use x=\"1221.265625\" xlink:href=\"#DejaVuSans-121\"/>\n     <use x=\"1273.195312\" xlink:href=\"#DejaVuSans-58\"/>\n     <use x=\"1306.886719\" xlink:href=\"#DejaVuSans-32\"/>\n     <use x=\"1338.673828\" xlink:href=\"#DejaVuSans-52\"/>\n     <use x=\"1402.296875\" xlink:href=\"#DejaVuSans-50\"/>\n     <use x=\"1465.919922\" xlink:href=\"#DejaVuSans-46\"/>\n     <use x=\"1497.707031\" xlink:href=\"#DejaVuSans-51\"/>\n     <use x=\"1561.330078\" xlink:href=\"#DejaVuSans-48\"/>\n     <use x=\"1624.953125\" xlink:href=\"#DejaVuSans-37\"/>\n    </g>\n   </g>\n   <g id=\"legend_1\">\n    <g id=\"patch_12\">\n     <path d=\"M 537.763068 59.674375 \nL 593.750568 59.674375 \nQ 595.750568 59.674375 595.750568 57.674375 \nL 595.750568 29.318125 \nQ 595.750568 27.318125 593.750568 27.318125 \nL 537.763068 27.318125 \nQ 535.763068 27.318125 535.763068 29.318125 \nL 535.763068 57.674375 \nQ 535.763068 59.674375 537.763068 59.674375 \nz\n\" style=\"fill:#ffffff;opacity:0.8;stroke:#cccccc;stroke-linejoin:miter;\"/>\n    </g>\n    <g id=\"line2d_26\">\n     <path d=\"M 539.763068 35.416562 \nL 559.763068 35.416562 \n\" style=\"fill:none;stroke:#1f77b4;stroke-linecap:square;stroke-width:1.5;\"/>\n    </g>\n    <g id=\"line2d_27\">\n     <g>\n      <use style=\"fill:#1f77b4;stroke:#1f77b4;stroke-linejoin:miter;\" x=\"549.763068\" xlink:href=\"#m79cfae7f87\" y=\"35.416562\"/>\n     </g>\n    </g>\n    <g id=\"text_29\">\n     <!-- Train -->\n     <defs>\n      <path d=\"M -0.296875 72.90625 \nL 61.375 72.90625 \nL 61.375 64.59375 \nL 35.5 64.59375 \nL 35.5 0 \nL 25.59375 0 \nL 25.59375 64.59375 \nL -0.296875 64.59375 \nz\n\" id=\"DejaVuSans-84\"/>\n     </defs>\n     <g transform=\"translate(567.763068 38.916562)scale(0.1 -0.1)\">\n      <use xlink:href=\"#DejaVuSans-84\"/>\n      <use x=\"46.333984\" xlink:href=\"#DejaVuSans-114\"/>\n      <use x=\"87.447266\" xlink:href=\"#DejaVuSans-97\"/>\n      <use x=\"148.726562\" xlink:href=\"#DejaVuSans-105\"/>\n      <use x=\"176.509766\" xlink:href=\"#DejaVuSans-110\"/>\n     </g>\n    </g>\n    <g id=\"line2d_28\">\n     <path d=\"M 539.763068 50.094688 \nL 559.763068 50.094688 \n\" style=\"fill:none;stroke:#ff7f0e;stroke-linecap:square;stroke-width:1.5;\"/>\n    </g>\n    <g id=\"line2d_29\">\n     <g>\n      <use style=\"fill:#ff7f0e;stroke:#ff7f0e;\" x=\"549.763068\" xlink:href=\"#m93a9090392\" y=\"50.094688\"/>\n     </g>\n    </g>\n    <g id=\"text_30\">\n     <!-- Test -->\n     <g transform=\"translate(567.763068 53.594688)scale(0.1 -0.1)\">\n      <use xlink:href=\"#DejaVuSans-84\"/>\n      <use x=\"44.083984\" xlink:href=\"#DejaVuSans-101\"/>\n      <use x=\"105.607422\" xlink:href=\"#DejaVuSans-115\"/>\n      <use x=\"157.707031\" xlink:href=\"#DejaVuSans-116\"/>\n     </g>\n    </g>\n   </g>\n  </g>\n </g>\n <defs>\n  <clipPath id=\"pccec2f2dc8\">\n   <rect height=\"271.8\" width=\"405.818182\" x=\"43.78125\" y=\"22.318125\"/>\n  </clipPath>\n  <clipPath id=\"pf0723bf3bf\">\n   <rect height=\"271.8\" width=\"405.818182\" x=\"530.763068\" y=\"22.318125\"/>\n  </clipPath>\n </defs>\n</svg>\n"
          },
          "metadata": {
            "needs_background": "light"
          }
        }
      ]
    },
    {
      "cell_type": "code",
      "source": [
        ""
      ],
      "metadata": {
        "id": "S3w_Jvqf2it6"
      },
      "execution_count": null,
      "outputs": []
    }
  ]
}